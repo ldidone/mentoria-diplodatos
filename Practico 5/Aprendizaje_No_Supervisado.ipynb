{
 "metadata": {
  "language_info": {
   "codemirror_mode": {
    "name": "ipython",
    "version": 3
   },
   "file_extension": ".py",
   "mimetype": "text/x-python",
   "name": "python",
   "nbconvert_exporter": "python",
   "pygments_lexer": "ipython3",
   "version": "3.7.6-final"
  },
  "orig_nbformat": 2,
  "kernelspec": {
   "name": "python3",
   "display_name": "Python 3"
  }
 },
 "nbformat": 4,
 "nbformat_minor": 2,
 "cells": [
  {
   "source": [
    "### Carga de datos"
   ],
   "cell_type": "markdown",
   "metadata": {}
  },
  {
   "cell_type": "code",
   "execution_count": 2,
   "metadata": {},
   "outputs": [],
   "source": [
    "# Importamos librerías necesarias\n",
    "\n",
    "import pandas as pd\n",
    "import numpy as np\n",
    "import matplotlib.pyplot as plt\n",
    "from plotly.offline import init_notebook_mode, plot,iplot\n",
    "import plotly.graph_objs as go\n",
    "import plotly.tools as tls#visualization\n",
    "import plotly.figure_factory as ff#visualization\n",
    "import seaborn as sns"
   ]
  },
  {
   "source": [
    "### Experimentación con el dataset: Covid19Casos"
   ],
   "cell_type": "markdown",
   "metadata": {}
  },
  {
   "source": [
    "##### Dataset - Covid19Casos\n",
    "- Source: http://datos.salud.gob.ar/dataset/covid-19-casos-registrados-en-la-republica-argentina/archivo/fd657d02-a33a-498b-a91b-2ef1a68b8d16"
   ],
   "cell_type": "markdown",
   "metadata": {}
  },
  {
   "cell_type": "code",
   "execution_count": 3,
   "metadata": {},
   "outputs": [],
   "source": [
    "url = 'https://sisa.msal.gov.ar/datos/descargas/covid-19/files/Covid19Casos.csv'\n",
    "\n",
    "df = pd.read_csv(url, error_bad_lines=False)"
   ]
  },
  {
   "cell_type": "code",
   "execution_count": 4,
   "metadata": {},
   "outputs": [],
   "source": [
    "dataset = df.copy(deep=True)"
   ]
  },
  {
   "cell_type": "code",
   "execution_count": 5,
   "metadata": {},
   "outputs": [
    {
     "output_type": "execute_result",
     "data": {
      "text/plain": [
       "   id_evento_caso sexo  edad edad_años_meses residencia_pais_nombre  \\\n",
       "0         1000000    M  53.0            Años              Argentina   \n",
       "1         1000002    M  21.0            Años              Argentina   \n",
       "2         1000003    F  40.0            Años              Argentina   \n",
       "3         1000005    F  58.0            Años              Argentina   \n",
       "4         1000006    M  28.0            Años              Argentina   \n",
       "5         1000007    M  26.0            Años              Argentina   \n",
       "6         1000008    F  69.0            Años              Argentina   \n",
       "7         1000009    M  73.0            Años              Argentina   \n",
       "8         1000010    M   7.0            Años              Argentina   \n",
       "9         1000011    M  42.0            Años              Argentina   \n",
       "\n",
       "  residencia_provincia_nombre residencia_departamento_nombre  \\\n",
       "0                        CABA                SIN ESPECIFICAR   \n",
       "1                Buenos Aires                     La Matanza   \n",
       "2                     Córdoba                        Capital   \n",
       "3                     Mendoza                      Las Heras   \n",
       "4                Buenos Aires            Malvinas Argentinas   \n",
       "5                     Formosa                         Patiño   \n",
       "6                        CABA                SIN ESPECIFICAR   \n",
       "7                Buenos Aires             Esteban Echeverría   \n",
       "8                        CABA                      COMUNA 07   \n",
       "9                    Santa Fe                        Rosario   \n",
       "\n",
       "  carga_provincia_nombre fecha_inicio_sintomas fecha_apertura  ...  \\\n",
       "0           Buenos Aires                   NaN     2020-06-01  ...   \n",
       "1           Buenos Aires                   NaN     2020-06-01  ...   \n",
       "2                Córdoba            2020-05-24     2020-06-01  ...   \n",
       "3                Mendoza                   NaN     2020-06-01  ...   \n",
       "4           Buenos Aires            2020-05-30     2020-06-01  ...   \n",
       "5                Formosa                   NaN     2020-06-01  ...   \n",
       "6                   CABA            2020-05-31     2020-06-01  ...   \n",
       "7           Buenos Aires            2020-05-31     2020-06-01  ...   \n",
       "8                   CABA                   NaN     2020-06-01  ...   \n",
       "9               Santa Fe                   NaN     2020-06-01  ...   \n",
       "\n",
       "   fecha_fallecimiento asistencia_respiratoria_mecanica carga_provincia_id  \\\n",
       "0                  NaN                               NO                  6   \n",
       "1                  NaN                               NO                  6   \n",
       "2                  NaN                               NO                 14   \n",
       "3                  NaN                               NO                 50   \n",
       "4                  NaN                               NO                  6   \n",
       "5                  NaN                               NO                 34   \n",
       "6                  NaN                               NO                  2   \n",
       "7                  NaN                               NO                  6   \n",
       "8                  NaN                               NO                  2   \n",
       "9                  NaN                               NO                 82   \n",
       "\n",
       "  origen_financiamiento                                      clasificacion  \\\n",
       "0               Privado                                    Caso Descartado   \n",
       "1               Público                                    Caso Descartado   \n",
       "2               Privado                                    Caso Descartado   \n",
       "3               Público                                    Caso Descartado   \n",
       "4               Público  Caso sospechoso - No Activo - Con muestra sin ...   \n",
       "5               Público  Caso confirmado por laboratorio - No Activo po...   \n",
       "6               Privado                                    Caso Descartado   \n",
       "7               Privado                                    Caso Descartado   \n",
       "8               Público  Caso confirmado por laboratorio - No activo (p...   \n",
       "9               Público                                    Caso Descartado   \n",
       "\n",
       "  clasificacion_resumen residencia_provincia_id  fecha_diagnostico  \\\n",
       "0            Descartado                       2         2020-06-09   \n",
       "1            Descartado                       6         2020-06-01   \n",
       "2            Descartado                      14         2020-06-01   \n",
       "3            Descartado                      50         2020-06-01   \n",
       "4            Sospechoso                       6                NaN   \n",
       "5            Confirmado                      34         2020-06-25   \n",
       "6            Descartado                       2         2020-06-01   \n",
       "7            Descartado                       6         2020-06-02   \n",
       "8            Confirmado                       2         2020-06-01   \n",
       "9            Descartado                      82         2020-06-01   \n",
       "\n",
       "  residencia_departamento_id ultima_actualizacion  \n",
       "0                          0           2020-11-01  \n",
       "1                        427           2020-11-01  \n",
       "2                         14           2020-11-01  \n",
       "3                         49           2020-11-01  \n",
       "4                        515           2020-11-01  \n",
       "5                         35           2020-11-01  \n",
       "6                          0           2020-11-01  \n",
       "7                        260           2020-11-01  \n",
       "8                          7           2020-11-01  \n",
       "9                         84           2020-11-01  \n",
       "\n",
       "[10 rows x 25 columns]"
      ],
      "text/html": "<div>\n<style scoped>\n    .dataframe tbody tr th:only-of-type {\n        vertical-align: middle;\n    }\n\n    .dataframe tbody tr th {\n        vertical-align: top;\n    }\n\n    .dataframe thead th {\n        text-align: right;\n    }\n</style>\n<table border=\"1\" class=\"dataframe\">\n  <thead>\n    <tr style=\"text-align: right;\">\n      <th></th>\n      <th>id_evento_caso</th>\n      <th>sexo</th>\n      <th>edad</th>\n      <th>edad_años_meses</th>\n      <th>residencia_pais_nombre</th>\n      <th>residencia_provincia_nombre</th>\n      <th>residencia_departamento_nombre</th>\n      <th>carga_provincia_nombre</th>\n      <th>fecha_inicio_sintomas</th>\n      <th>fecha_apertura</th>\n      <th>...</th>\n      <th>fecha_fallecimiento</th>\n      <th>asistencia_respiratoria_mecanica</th>\n      <th>carga_provincia_id</th>\n      <th>origen_financiamiento</th>\n      <th>clasificacion</th>\n      <th>clasificacion_resumen</th>\n      <th>residencia_provincia_id</th>\n      <th>fecha_diagnostico</th>\n      <th>residencia_departamento_id</th>\n      <th>ultima_actualizacion</th>\n    </tr>\n  </thead>\n  <tbody>\n    <tr>\n      <th>0</th>\n      <td>1000000</td>\n      <td>M</td>\n      <td>53.0</td>\n      <td>Años</td>\n      <td>Argentina</td>\n      <td>CABA</td>\n      <td>SIN ESPECIFICAR</td>\n      <td>Buenos Aires</td>\n      <td>NaN</td>\n      <td>2020-06-01</td>\n      <td>...</td>\n      <td>NaN</td>\n      <td>NO</td>\n      <td>6</td>\n      <td>Privado</td>\n      <td>Caso Descartado</td>\n      <td>Descartado</td>\n      <td>2</td>\n      <td>2020-06-09</td>\n      <td>0</td>\n      <td>2020-11-01</td>\n    </tr>\n    <tr>\n      <th>1</th>\n      <td>1000002</td>\n      <td>M</td>\n      <td>21.0</td>\n      <td>Años</td>\n      <td>Argentina</td>\n      <td>Buenos Aires</td>\n      <td>La Matanza</td>\n      <td>Buenos Aires</td>\n      <td>NaN</td>\n      <td>2020-06-01</td>\n      <td>...</td>\n      <td>NaN</td>\n      <td>NO</td>\n      <td>6</td>\n      <td>Público</td>\n      <td>Caso Descartado</td>\n      <td>Descartado</td>\n      <td>6</td>\n      <td>2020-06-01</td>\n      <td>427</td>\n      <td>2020-11-01</td>\n    </tr>\n    <tr>\n      <th>2</th>\n      <td>1000003</td>\n      <td>F</td>\n      <td>40.0</td>\n      <td>Años</td>\n      <td>Argentina</td>\n      <td>Córdoba</td>\n      <td>Capital</td>\n      <td>Córdoba</td>\n      <td>2020-05-24</td>\n      <td>2020-06-01</td>\n      <td>...</td>\n      <td>NaN</td>\n      <td>NO</td>\n      <td>14</td>\n      <td>Privado</td>\n      <td>Caso Descartado</td>\n      <td>Descartado</td>\n      <td>14</td>\n      <td>2020-06-01</td>\n      <td>14</td>\n      <td>2020-11-01</td>\n    </tr>\n    <tr>\n      <th>3</th>\n      <td>1000005</td>\n      <td>F</td>\n      <td>58.0</td>\n      <td>Años</td>\n      <td>Argentina</td>\n      <td>Mendoza</td>\n      <td>Las Heras</td>\n      <td>Mendoza</td>\n      <td>NaN</td>\n      <td>2020-06-01</td>\n      <td>...</td>\n      <td>NaN</td>\n      <td>NO</td>\n      <td>50</td>\n      <td>Público</td>\n      <td>Caso Descartado</td>\n      <td>Descartado</td>\n      <td>50</td>\n      <td>2020-06-01</td>\n      <td>49</td>\n      <td>2020-11-01</td>\n    </tr>\n    <tr>\n      <th>4</th>\n      <td>1000006</td>\n      <td>M</td>\n      <td>28.0</td>\n      <td>Años</td>\n      <td>Argentina</td>\n      <td>Buenos Aires</td>\n      <td>Malvinas Argentinas</td>\n      <td>Buenos Aires</td>\n      <td>2020-05-30</td>\n      <td>2020-06-01</td>\n      <td>...</td>\n      <td>NaN</td>\n      <td>NO</td>\n      <td>6</td>\n      <td>Público</td>\n      <td>Caso sospechoso - No Activo - Con muestra sin ...</td>\n      <td>Sospechoso</td>\n      <td>6</td>\n      <td>NaN</td>\n      <td>515</td>\n      <td>2020-11-01</td>\n    </tr>\n    <tr>\n      <th>5</th>\n      <td>1000007</td>\n      <td>M</td>\n      <td>26.0</td>\n      <td>Años</td>\n      <td>Argentina</td>\n      <td>Formosa</td>\n      <td>Patiño</td>\n      <td>Formosa</td>\n      <td>NaN</td>\n      <td>2020-06-01</td>\n      <td>...</td>\n      <td>NaN</td>\n      <td>NO</td>\n      <td>34</td>\n      <td>Público</td>\n      <td>Caso confirmado por laboratorio - No Activo po...</td>\n      <td>Confirmado</td>\n      <td>34</td>\n      <td>2020-06-25</td>\n      <td>35</td>\n      <td>2020-11-01</td>\n    </tr>\n    <tr>\n      <th>6</th>\n      <td>1000008</td>\n      <td>F</td>\n      <td>69.0</td>\n      <td>Años</td>\n      <td>Argentina</td>\n      <td>CABA</td>\n      <td>SIN ESPECIFICAR</td>\n      <td>CABA</td>\n      <td>2020-05-31</td>\n      <td>2020-06-01</td>\n      <td>...</td>\n      <td>NaN</td>\n      <td>NO</td>\n      <td>2</td>\n      <td>Privado</td>\n      <td>Caso Descartado</td>\n      <td>Descartado</td>\n      <td>2</td>\n      <td>2020-06-01</td>\n      <td>0</td>\n      <td>2020-11-01</td>\n    </tr>\n    <tr>\n      <th>7</th>\n      <td>1000009</td>\n      <td>M</td>\n      <td>73.0</td>\n      <td>Años</td>\n      <td>Argentina</td>\n      <td>Buenos Aires</td>\n      <td>Esteban Echeverría</td>\n      <td>Buenos Aires</td>\n      <td>2020-05-31</td>\n      <td>2020-06-01</td>\n      <td>...</td>\n      <td>NaN</td>\n      <td>NO</td>\n      <td>6</td>\n      <td>Privado</td>\n      <td>Caso Descartado</td>\n      <td>Descartado</td>\n      <td>6</td>\n      <td>2020-06-02</td>\n      <td>260</td>\n      <td>2020-11-01</td>\n    </tr>\n    <tr>\n      <th>8</th>\n      <td>1000010</td>\n      <td>M</td>\n      <td>7.0</td>\n      <td>Años</td>\n      <td>Argentina</td>\n      <td>CABA</td>\n      <td>COMUNA 07</td>\n      <td>CABA</td>\n      <td>NaN</td>\n      <td>2020-06-01</td>\n      <td>...</td>\n      <td>NaN</td>\n      <td>NO</td>\n      <td>2</td>\n      <td>Público</td>\n      <td>Caso confirmado por laboratorio - No activo (p...</td>\n      <td>Confirmado</td>\n      <td>2</td>\n      <td>2020-06-01</td>\n      <td>7</td>\n      <td>2020-11-01</td>\n    </tr>\n    <tr>\n      <th>9</th>\n      <td>1000011</td>\n      <td>M</td>\n      <td>42.0</td>\n      <td>Años</td>\n      <td>Argentina</td>\n      <td>Santa Fe</td>\n      <td>Rosario</td>\n      <td>Santa Fe</td>\n      <td>NaN</td>\n      <td>2020-06-01</td>\n      <td>...</td>\n      <td>NaN</td>\n      <td>NO</td>\n      <td>82</td>\n      <td>Público</td>\n      <td>Caso Descartado</td>\n      <td>Descartado</td>\n      <td>82</td>\n      <td>2020-06-01</td>\n      <td>84</td>\n      <td>2020-11-01</td>\n    </tr>\n  </tbody>\n</table>\n<p>10 rows × 25 columns</p>\n</div>"
     },
     "metadata": {},
     "execution_count": 5
    }
   ],
   "source": [
    "dataset.head(10)"
   ]
  },
  {
   "source": [
    "## Limpieza, Preprocesado y Feature Engineering"
   ],
   "cell_type": "markdown",
   "metadata": {}
  },
  {
   "source": [
    "### Edad"
   ],
   "cell_type": "markdown",
   "metadata": {}
  },
  {
   "cell_type": "code",
   "execution_count": 6,
   "metadata": {},
   "outputs": [],
   "source": [
    "# Paso meses a años (cuando la edad está expresada en meses)\n",
    "dataset['edad'].loc[dataset.edad_años_meses == 'Meses'] = 0"
   ]
  },
  {
   "cell_type": "code",
   "execution_count": 7,
   "metadata": {},
   "outputs": [],
   "source": [
    "# Eliminamos la columna edad_años_meses\n",
    "dataset.drop(['edad_años_meses'], axis=1, inplace=True)"
   ]
  },
  {
   "source": [
    "### Lugares"
   ],
   "cell_type": "markdown",
   "metadata": {}
  },
  {
   "source": [
    "#### País<br/>\n",
    "- Se conservan sólo los datos de personas residentes en Argentina"
   ],
   "cell_type": "markdown",
   "metadata": {}
  },
  {
   "cell_type": "code",
   "execution_count": 8,
   "metadata": {},
   "outputs": [],
   "source": [
    "dataset.drop(dataset[dataset.residencia_pais_nombre != \"Argentina\"].index, inplace=True)"
   ]
  },
  {
   "cell_type": "code",
   "execution_count": 9,
   "metadata": {},
   "outputs": [],
   "source": [
    "#Elimino la columna país porque todos los registros tienen el mismo valor\n",
    "dataset.drop(['residencia_pais_nombre'], axis=1, inplace=True)"
   ]
  },
  {
   "source": [
    "#### Provincia"
   ],
   "cell_type": "markdown",
   "metadata": {}
  },
  {
   "cell_type": "code",
   "execution_count": 10,
   "metadata": {},
   "outputs": [],
   "source": [
    "#Se elimina la variable carga_provincia_nombre\n",
    "dataset.drop(['carga_provincia_nombre'], axis=1, inplace=True)"
   ]
  },
  {
   "cell_type": "code",
   "execution_count": 11,
   "metadata": {},
   "outputs": [],
   "source": [
    "#Se quitan los registros con provincia \"SIN ESPECIFICAR\"\n",
    "dataset.drop(dataset[dataset.residencia_provincia_nombre == \"SIN ESPECIFICAR\"].index, inplace=True)"
   ]
  },
  {
   "source": [
    "## Clustering"
   ],
   "cell_type": "markdown",
   "metadata": {}
  },
  {
   "source": [
    "### Pre-procesamiento del dataset<br />\n",
    "Se divide el dataset principal en cuatro sub dataset agrupando por provincia de acuerdo a las siguientes variables de interés:\n",
    "- Casos confirmados\n",
    "- Fallecidos\n",
    "- Cantidad de casos en cuidados intensivos\n",
    "- Cantidad de casos con asistencia respiratoria mecánica"
   ],
   "cell_type": "markdown",
   "metadata": {}
  },
  {
   "cell_type": "code",
   "execution_count": 12,
   "metadata": {},
   "outputs": [],
   "source": [
    "# Dataset de confirmados por provincia\n",
    "ds_confirmados = dataset[(dataset[\"clasificacion_resumen\"] == \"Confirmado\")].groupby(['residencia_provincia_nombre']).size().reset_index(name='confirmados')\n",
    "ds_confirmados.reset_index(inplace=True)"
   ]
  },
  {
   "cell_type": "code",
   "execution_count": 13,
   "metadata": {},
   "outputs": [],
   "source": [
    "# Dataset de fallecidos por provincia\n",
    "ds_fallecidos = dataset[(dataset[\"fallecido\"] == \"SI\")].groupby(['residencia_provincia_nombre']).agg({'residencia_provincia_nombre':'size', 'edad':'mean'}).rename(columns={'residencia_provincia_nombre':'fallecidos','edad':'edad_promedio'})\n",
    "ds_fallecidos.reset_index(inplace=True)"
   ]
  },
  {
   "cell_type": "code",
   "execution_count": 14,
   "metadata": {},
   "outputs": [],
   "source": [
    "# Dataset de cuidados intensivos por provincia\n",
    "ds_cuidado_intensivo = dataset[(dataset[\"cuidado_intensivo\"] == \"SI\")].groupby(['residencia_provincia_nombre']).size().reset_index(name='cuidado_intensivo')\n",
    "ds_cuidado_intensivo.reset_index(inplace=True)"
   ]
  },
  {
   "cell_type": "code",
   "execution_count": 15,
   "metadata": {},
   "outputs": [],
   "source": [
    "# Dataset de cuidados intensivos por provincia\n",
    "ds_asistencia_respiratoria = dataset[(dataset[\"asistencia_respiratoria_mecanica\"] == \"SI\")].groupby(['residencia_provincia_nombre']).size().reset_index(name='asistencia_respiratoria_mecanica')\n",
    "ds_asistencia_respiratoria.reset_index(inplace=True)"
   ]
  },
  {
   "source": [
    "Luego, se hace combinan los cuatro sub datasets en un dataset final, el cual se utilizará para los algoritmos de clustering."
   ],
   "cell_type": "markdown",
   "metadata": {}
  },
  {
   "cell_type": "code",
   "execution_count": 16,
   "metadata": {},
   "outputs": [],
   "source": [
    "dataset_final = ds_confirmados.merge(ds_fallecidos).merge(ds_cuidado_intensivo).merge(ds_asistencia_respiratoria)\n",
    "dataset_final.drop(['index'], axis=1, inplace=True)"
   ]
  },
  {
   "cell_type": "code",
   "execution_count": 17,
   "metadata": {},
   "outputs": [
    {
     "output_type": "execute_result",
     "data": {
      "text/plain": [
       "  residencia_provincia_nombre  confirmados  fallecidos  edad_promedio  \\\n",
       "0                Buenos Aires       532417       20171      71.632746   \n",
       "1                        CABA       143275        6005      76.691319   \n",
       "2                   Catamarca          879           1      97.000000   \n",
       "3                       Chaco        12679         558      65.491039   \n",
       "4                      Chubut        13674         196      70.040816   \n",
       "\n",
       "   cuidado_intensivo  asistencia_respiratoria_mecanica  \n",
       "0              13877                              5378  \n",
       "1               5159                              2163  \n",
       "2                 35                                10  \n",
       "3               1004                               443  \n",
       "4                177                                79  "
      ],
      "text/html": "<div>\n<style scoped>\n    .dataframe tbody tr th:only-of-type {\n        vertical-align: middle;\n    }\n\n    .dataframe tbody tr th {\n        vertical-align: top;\n    }\n\n    .dataframe thead th {\n        text-align: right;\n    }\n</style>\n<table border=\"1\" class=\"dataframe\">\n  <thead>\n    <tr style=\"text-align: right;\">\n      <th></th>\n      <th>residencia_provincia_nombre</th>\n      <th>confirmados</th>\n      <th>fallecidos</th>\n      <th>edad_promedio</th>\n      <th>cuidado_intensivo</th>\n      <th>asistencia_respiratoria_mecanica</th>\n    </tr>\n  </thead>\n  <tbody>\n    <tr>\n      <th>0</th>\n      <td>Buenos Aires</td>\n      <td>532417</td>\n      <td>20171</td>\n      <td>71.632746</td>\n      <td>13877</td>\n      <td>5378</td>\n    </tr>\n    <tr>\n      <th>1</th>\n      <td>CABA</td>\n      <td>143275</td>\n      <td>6005</td>\n      <td>76.691319</td>\n      <td>5159</td>\n      <td>2163</td>\n    </tr>\n    <tr>\n      <th>2</th>\n      <td>Catamarca</td>\n      <td>879</td>\n      <td>1</td>\n      <td>97.000000</td>\n      <td>35</td>\n      <td>10</td>\n    </tr>\n    <tr>\n      <th>3</th>\n      <td>Chaco</td>\n      <td>12679</td>\n      <td>558</td>\n      <td>65.491039</td>\n      <td>1004</td>\n      <td>443</td>\n    </tr>\n    <tr>\n      <th>4</th>\n      <td>Chubut</td>\n      <td>13674</td>\n      <td>196</td>\n      <td>70.040816</td>\n      <td>177</td>\n      <td>79</td>\n    </tr>\n  </tbody>\n</table>\n</div>"
     },
     "metadata": {},
     "execution_count": 17
    }
   ],
   "source": [
    "dataset_final.head(5)"
   ]
  },
  {
   "source": [
    "### Análisis de correlación entre las variables del dataset final"
   ],
   "cell_type": "markdown",
   "metadata": {}
  },
  {
   "cell_type": "code",
   "execution_count": 18,
   "metadata": {},
   "outputs": [
    {
     "output_type": "execute_result",
     "data": {
      "text/plain": [
       "<matplotlib.axes._subplots.AxesSubplot at 0x24a052d2a48>"
      ]
     },
     "metadata": {},
     "execution_count": 18
    },
    {
     "output_type": "display_data",
     "data": {
      "text/plain": "<Figure size 864x864 with 2 Axes>",
      "image/svg+xml": "<?xml version=\"1.0\" encoding=\"utf-8\" standalone=\"no\"?>\r\n<!DOCTYPE svg PUBLIC \"-//W3C//DTD SVG 1.1//EN\"\r\n  \"http://www.w3.org/Graphics/SVG/1.1/DTD/svg11.dtd\">\r\n<!-- Created with matplotlib (https://matplotlib.org/) -->\r\n<svg height=\"785.272656pt\" version=\"1.1\" viewBox=\"0 0 656.035375 785.272656\" width=\"656.035375pt\" xmlns=\"http://www.w3.org/2000/svg\" xmlns:xlink=\"http://www.w3.org/1999/xlink\">\r\n <defs>\r\n  <style type=\"text/css\">\r\n*{stroke-linecap:butt;stroke-linejoin:round;}\r\n  </style>\r\n </defs>\r\n <g id=\"figure_1\">\r\n  <g id=\"patch_1\">\r\n   <path d=\"M 0 785.272656 \r\nL 656.035375 785.272656 \r\nL 656.035375 0 \r\nL 0 0 \r\nz\r\n\" style=\"fill:none;\"/>\r\n  </g>\r\n  <g id=\"axes_1\">\r\n   <g id=\"patch_2\">\r\n    <path d=\"M 24.15625 604.999219 \r\nL 559.83625 604.999219 \r\nL 559.83625 69.319219 \r\nL 24.15625 69.319219 \r\nz\r\n\" style=\"fill:#ffffff;\"/>\r\n   </g>\r\n   <g id=\"QuadMesh_1\">\r\n    <path clip-path=\"url(#pa8a2d69c44)\" d=\"M 24.15625 69.319219 \r\nL 131.29225 69.319219 \r\nL 131.29225 176.455219 \r\nL 24.15625 176.455219 \r\nL 24.15625 69.319219 \r\n\" style=\"fill:#faebdd;stroke:#ffffff;stroke-width:0.1;\"/>\r\n    <path clip-path=\"url(#pa8a2d69c44)\" d=\"M 131.29225 69.319219 \r\nL 238.42825 69.319219 \r\nL 238.42825 176.455219 \r\nL 131.29225 176.455219 \r\nL 131.29225 69.319219 \r\n\" style=\"fill:#fae6d6;stroke:#ffffff;stroke-width:0.1;\"/>\r\n    <path clip-path=\"url(#pa8a2d69c44)\" d=\"M 238.42825 69.319219 \r\nL 345.56425 69.319219 \r\nL 345.56425 176.455219 \r\nL 238.42825 176.455219 \r\nL 238.42825 69.319219 \r\n\" style=\"fill:#06071c;stroke:#ffffff;stroke-width:0.1;\"/>\r\n    <path clip-path=\"url(#pa8a2d69c44)\" d=\"M 345.56425 69.319219 \r\nL 452.70025 69.319219 \r\nL 452.70025 176.455219 \r\nL 345.56425 176.455219 \r\nL 345.56425 69.319219 \r\n\" style=\"fill:#fae6d6;stroke:#ffffff;stroke-width:0.1;\"/>\r\n    <path clip-path=\"url(#pa8a2d69c44)\" d=\"M 452.70025 69.319219 \r\nL 559.83625 69.319219 \r\nL 559.83625 176.455219 \r\nL 452.70025 176.455219 \r\nL 452.70025 69.319219 \r\n\" style=\"fill:#f9e5d4;stroke:#ffffff;stroke-width:0.1;\"/>\r\n    <path clip-path=\"url(#pa8a2d69c44)\" d=\"M 24.15625 176.455219 \r\nL 131.29225 176.455219 \r\nL 131.29225 283.591219 \r\nL 24.15625 283.591219 \r\nL 24.15625 176.455219 \r\n\" style=\"fill:#fae6d6;stroke:#ffffff;stroke-width:0.1;\"/>\r\n    <path clip-path=\"url(#pa8a2d69c44)\" d=\"M 131.29225 176.455219 \r\nL 238.42825 176.455219 \r\nL 238.42825 283.591219 \r\nL 131.29225 283.591219 \r\nL 131.29225 176.455219 \r\n\" style=\"fill:#faebdd;stroke:#ffffff;stroke-width:0.1;\"/>\r\n    <path clip-path=\"url(#pa8a2d69c44)\" d=\"M 238.42825 176.455219 \r\nL 345.56425 176.455219 \r\nL 345.56425 283.591219 \r\nL 238.42825 283.591219 \r\nL 238.42825 176.455219 \r\n\" style=\"fill:#03051a;stroke:#ffffff;stroke-width:0.1;\"/>\r\n    <path clip-path=\"url(#pa8a2d69c44)\" d=\"M 345.56425 176.455219 \r\nL 452.70025 176.455219 \r\nL 452.70025 283.591219 \r\nL 345.56425 283.591219 \r\nL 345.56425 176.455219 \r\n\" style=\"fill:#fae9da;stroke:#ffffff;stroke-width:0.1;\"/>\r\n    <path clip-path=\"url(#pa8a2d69c44)\" d=\"M 452.70025 176.455219 \r\nL 559.83625 176.455219 \r\nL 559.83625 283.591219 \r\nL 452.70025 283.591219 \r\nL 452.70025 176.455219 \r\n\" style=\"fill:#fae8d8;stroke:#ffffff;stroke-width:0.1;\"/>\r\n    <path clip-path=\"url(#pa8a2d69c44)\" d=\"M 24.15625 283.591219 \r\nL 131.29225 283.591219 \r\nL 131.29225 390.727219 \r\nL 24.15625 390.727219 \r\nL 24.15625 283.591219 \r\n\" style=\"fill:#06071c;stroke:#ffffff;stroke-width:0.1;\"/>\r\n    <path clip-path=\"url(#pa8a2d69c44)\" d=\"M 131.29225 283.591219 \r\nL 238.42825 283.591219 \r\nL 238.42825 390.727219 \r\nL 131.29225 390.727219 \r\nL 131.29225 283.591219 \r\n\" style=\"fill:#03051a;stroke:#ffffff;stroke-width:0.1;\"/>\r\n    <path clip-path=\"url(#pa8a2d69c44)\" d=\"M 238.42825 283.591219 \r\nL 345.56425 283.591219 \r\nL 345.56425 390.727219 \r\nL 238.42825 390.727219 \r\nL 238.42825 283.591219 \r\n\" style=\"fill:#faebdd;stroke:#ffffff;stroke-width:0.1;\"/>\r\n    <path clip-path=\"url(#pa8a2d69c44)\" d=\"M 345.56425 283.591219 \r\nL 452.70025 283.591219 \r\nL 452.70025 390.727219 \r\nL 345.56425 390.727219 \r\nL 345.56425 283.591219 \r\n\" style=\"fill:#0a091f;stroke:#ffffff;stroke-width:0.1;\"/>\r\n    <path clip-path=\"url(#pa8a2d69c44)\" d=\"M 452.70025 283.591219 \r\nL 559.83625 283.591219 \r\nL 559.83625 390.727219 \r\nL 452.70025 390.727219 \r\nL 452.70025 283.591219 \r\n\" style=\"fill:#08081e;stroke:#ffffff;stroke-width:0.1;\"/>\r\n    <path clip-path=\"url(#pa8a2d69c44)\" d=\"M 24.15625 390.727219 \r\nL 131.29225 390.727219 \r\nL 131.29225 497.863219 \r\nL 24.15625 497.863219 \r\nL 24.15625 390.727219 \r\n\" style=\"fill:#fae6d6;stroke:#ffffff;stroke-width:0.1;\"/>\r\n    <path clip-path=\"url(#pa8a2d69c44)\" d=\"M 131.29225 390.727219 \r\nL 238.42825 390.727219 \r\nL 238.42825 497.863219 \r\nL 131.29225 497.863219 \r\nL 131.29225 390.727219 \r\n\" style=\"fill:#fae9da;stroke:#ffffff;stroke-width:0.1;\"/>\r\n    <path clip-path=\"url(#pa8a2d69c44)\" d=\"M 238.42825 390.727219 \r\nL 345.56425 390.727219 \r\nL 345.56425 497.863219 \r\nL 238.42825 497.863219 \r\nL 238.42825 390.727219 \r\n\" style=\"fill:#0a091f;stroke:#ffffff;stroke-width:0.1;\"/>\r\n    <path clip-path=\"url(#pa8a2d69c44)\" d=\"M 345.56425 390.727219 \r\nL 452.70025 390.727219 \r\nL 452.70025 497.863219 \r\nL 345.56425 497.863219 \r\nL 345.56425 390.727219 \r\n\" style=\"fill:#faebdd;stroke:#ffffff;stroke-width:0.1;\"/>\r\n    <path clip-path=\"url(#pa8a2d69c44)\" d=\"M 452.70025 390.727219 \r\nL 559.83625 390.727219 \r\nL 559.83625 497.863219 \r\nL 452.70025 497.863219 \r\nL 452.70025 390.727219 \r\n\" style=\"fill:#faebdd;stroke:#ffffff;stroke-width:0.1;\"/>\r\n    <path clip-path=\"url(#pa8a2d69c44)\" d=\"M 24.15625 497.863219 \r\nL 131.29225 497.863219 \r\nL 131.29225 604.999219 \r\nL 24.15625 604.999219 \r\nL 24.15625 497.863219 \r\n\" style=\"fill:#f9e5d4;stroke:#ffffff;stroke-width:0.1;\"/>\r\n    <path clip-path=\"url(#pa8a2d69c44)\" d=\"M 131.29225 497.863219 \r\nL 238.42825 497.863219 \r\nL 238.42825 604.999219 \r\nL 131.29225 604.999219 \r\nL 131.29225 497.863219 \r\n\" style=\"fill:#fae8d8;stroke:#ffffff;stroke-width:0.1;\"/>\r\n    <path clip-path=\"url(#pa8a2d69c44)\" d=\"M 238.42825 497.863219 \r\nL 345.56425 497.863219 \r\nL 345.56425 604.999219 \r\nL 238.42825 604.999219 \r\nL 238.42825 497.863219 \r\n\" style=\"fill:#08081e;stroke:#ffffff;stroke-width:0.1;\"/>\r\n    <path clip-path=\"url(#pa8a2d69c44)\" d=\"M 345.56425 497.863219 \r\nL 452.70025 497.863219 \r\nL 452.70025 604.999219 \r\nL 345.56425 604.999219 \r\nL 345.56425 497.863219 \r\n\" style=\"fill:#faebdd;stroke:#ffffff;stroke-width:0.1;\"/>\r\n    <path clip-path=\"url(#pa8a2d69c44)\" d=\"M 452.70025 497.863219 \r\nL 559.83625 497.863219 \r\nL 559.83625 604.999219 \r\nL 452.70025 604.999219 \r\nL 452.70025 497.863219 \r\n\" style=\"fill:#faebdd;stroke:#ffffff;stroke-width:0.1;\"/>\r\n   </g>\r\n   <g id=\"matplotlib.axis_1\">\r\n    <g id=\"xtick_1\">\r\n     <g id=\"line2d_1\">\r\n      <defs>\r\n       <path d=\"M 0 0 \r\nL 0 3.5 \r\n\" id=\"m7e281b1558\" style=\"stroke:#000000;stroke-width:0.8;\"/>\r\n      </defs>\r\n      <g>\r\n       <use style=\"stroke:#000000;stroke-width:0.8;\" x=\"77.72425\" xlink:href=\"#m7e281b1558\" y=\"604.999219\"/>\r\n      </g>\r\n     </g>\r\n     <g id=\"text_1\">\r\n      <!-- confirmados -->\r\n      <defs>\r\n       <path d=\"M 48.78125 52.59375 \r\nL 48.78125 44.1875 \r\nQ 44.96875 46.296875 41.140625 47.34375 \r\nQ 37.3125 48.390625 33.40625 48.390625 \r\nQ 24.65625 48.390625 19.8125 42.84375 \r\nQ 14.984375 37.3125 14.984375 27.296875 \r\nQ 14.984375 17.28125 19.8125 11.734375 \r\nQ 24.65625 6.203125 33.40625 6.203125 \r\nQ 37.3125 6.203125 41.140625 7.25 \r\nQ 44.96875 8.296875 48.78125 10.40625 \r\nL 48.78125 2.09375 \r\nQ 45.015625 0.34375 40.984375 -0.53125 \r\nQ 36.96875 -1.421875 32.421875 -1.421875 \r\nQ 20.0625 -1.421875 12.78125 6.34375 \r\nQ 5.515625 14.109375 5.515625 27.296875 \r\nQ 5.515625 40.671875 12.859375 48.328125 \r\nQ 20.21875 56 33.015625 56 \r\nQ 37.15625 56 41.109375 55.140625 \r\nQ 45.0625 54.296875 48.78125 52.59375 \r\nz\r\n\" id=\"DejaVuSans-99\"/>\r\n       <path d=\"M 30.609375 48.390625 \r\nQ 23.390625 48.390625 19.1875 42.75 \r\nQ 14.984375 37.109375 14.984375 27.296875 \r\nQ 14.984375 17.484375 19.15625 11.84375 \r\nQ 23.34375 6.203125 30.609375 6.203125 \r\nQ 37.796875 6.203125 41.984375 11.859375 \r\nQ 46.1875 17.53125 46.1875 27.296875 \r\nQ 46.1875 37.015625 41.984375 42.703125 \r\nQ 37.796875 48.390625 30.609375 48.390625 \r\nz\r\nM 30.609375 56 \r\nQ 42.328125 56 49.015625 48.375 \r\nQ 55.71875 40.765625 55.71875 27.296875 \r\nQ 55.71875 13.875 49.015625 6.21875 \r\nQ 42.328125 -1.421875 30.609375 -1.421875 \r\nQ 18.84375 -1.421875 12.171875 6.21875 \r\nQ 5.515625 13.875 5.515625 27.296875 \r\nQ 5.515625 40.765625 12.171875 48.375 \r\nQ 18.84375 56 30.609375 56 \r\nz\r\n\" id=\"DejaVuSans-111\"/>\r\n       <path d=\"M 54.890625 33.015625 \r\nL 54.890625 0 \r\nL 45.90625 0 \r\nL 45.90625 32.71875 \r\nQ 45.90625 40.484375 42.875 44.328125 \r\nQ 39.84375 48.1875 33.796875 48.1875 \r\nQ 26.515625 48.1875 22.3125 43.546875 \r\nQ 18.109375 38.921875 18.109375 30.90625 \r\nL 18.109375 0 \r\nL 9.078125 0 \r\nL 9.078125 54.6875 \r\nL 18.109375 54.6875 \r\nL 18.109375 46.1875 \r\nQ 21.34375 51.125 25.703125 53.5625 \r\nQ 30.078125 56 35.796875 56 \r\nQ 45.21875 56 50.046875 50.171875 \r\nQ 54.890625 44.34375 54.890625 33.015625 \r\nz\r\n\" id=\"DejaVuSans-110\"/>\r\n       <path d=\"M 37.109375 75.984375 \r\nL 37.109375 68.5 \r\nL 28.515625 68.5 \r\nQ 23.6875 68.5 21.796875 66.546875 \r\nQ 19.921875 64.59375 19.921875 59.515625 \r\nL 19.921875 54.6875 \r\nL 34.71875 54.6875 \r\nL 34.71875 47.703125 \r\nL 19.921875 47.703125 \r\nL 19.921875 0 \r\nL 10.890625 0 \r\nL 10.890625 47.703125 \r\nL 2.296875 47.703125 \r\nL 2.296875 54.6875 \r\nL 10.890625 54.6875 \r\nL 10.890625 58.5 \r\nQ 10.890625 67.625 15.140625 71.796875 \r\nQ 19.390625 75.984375 28.609375 75.984375 \r\nz\r\n\" id=\"DejaVuSans-102\"/>\r\n       <path d=\"M 9.421875 54.6875 \r\nL 18.40625 54.6875 \r\nL 18.40625 0 \r\nL 9.421875 0 \r\nz\r\nM 9.421875 75.984375 \r\nL 18.40625 75.984375 \r\nL 18.40625 64.59375 \r\nL 9.421875 64.59375 \r\nz\r\n\" id=\"DejaVuSans-105\"/>\r\n       <path d=\"M 41.109375 46.296875 \r\nQ 39.59375 47.171875 37.8125 47.578125 \r\nQ 36.03125 48 33.890625 48 \r\nQ 26.265625 48 22.1875 43.046875 \r\nQ 18.109375 38.09375 18.109375 28.8125 \r\nL 18.109375 0 \r\nL 9.078125 0 \r\nL 9.078125 54.6875 \r\nL 18.109375 54.6875 \r\nL 18.109375 46.1875 \r\nQ 20.953125 51.171875 25.484375 53.578125 \r\nQ 30.03125 56 36.53125 56 \r\nQ 37.453125 56 38.578125 55.875 \r\nQ 39.703125 55.765625 41.0625 55.515625 \r\nz\r\n\" id=\"DejaVuSans-114\"/>\r\n       <path d=\"M 52 44.1875 \r\nQ 55.375 50.25 60.0625 53.125 \r\nQ 64.75 56 71.09375 56 \r\nQ 79.640625 56 84.28125 50.015625 \r\nQ 88.921875 44.046875 88.921875 33.015625 \r\nL 88.921875 0 \r\nL 79.890625 0 \r\nL 79.890625 32.71875 \r\nQ 79.890625 40.578125 77.09375 44.375 \r\nQ 74.3125 48.1875 68.609375 48.1875 \r\nQ 61.625 48.1875 57.5625 43.546875 \r\nQ 53.515625 38.921875 53.515625 30.90625 \r\nL 53.515625 0 \r\nL 44.484375 0 \r\nL 44.484375 32.71875 \r\nQ 44.484375 40.625 41.703125 44.40625 \r\nQ 38.921875 48.1875 33.109375 48.1875 \r\nQ 26.21875 48.1875 22.15625 43.53125 \r\nQ 18.109375 38.875 18.109375 30.90625 \r\nL 18.109375 0 \r\nL 9.078125 0 \r\nL 9.078125 54.6875 \r\nL 18.109375 54.6875 \r\nL 18.109375 46.1875 \r\nQ 21.1875 51.21875 25.484375 53.609375 \r\nQ 29.78125 56 35.6875 56 \r\nQ 41.65625 56 45.828125 52.96875 \r\nQ 50 49.953125 52 44.1875 \r\nz\r\n\" id=\"DejaVuSans-109\"/>\r\n       <path d=\"M 34.28125 27.484375 \r\nQ 23.390625 27.484375 19.1875 25 \r\nQ 14.984375 22.515625 14.984375 16.5 \r\nQ 14.984375 11.71875 18.140625 8.90625 \r\nQ 21.296875 6.109375 26.703125 6.109375 \r\nQ 34.1875 6.109375 38.703125 11.40625 \r\nQ 43.21875 16.703125 43.21875 25.484375 \r\nL 43.21875 27.484375 \r\nz\r\nM 52.203125 31.203125 \r\nL 52.203125 0 \r\nL 43.21875 0 \r\nL 43.21875 8.296875 \r\nQ 40.140625 3.328125 35.546875 0.953125 \r\nQ 30.953125 -1.421875 24.3125 -1.421875 \r\nQ 15.921875 -1.421875 10.953125 3.296875 \r\nQ 6 8.015625 6 15.921875 \r\nQ 6 25.140625 12.171875 29.828125 \r\nQ 18.359375 34.515625 30.609375 34.515625 \r\nL 43.21875 34.515625 \r\nL 43.21875 35.40625 \r\nQ 43.21875 41.609375 39.140625 45 \r\nQ 35.0625 48.390625 27.6875 48.390625 \r\nQ 23 48.390625 18.546875 47.265625 \r\nQ 14.109375 46.140625 10.015625 43.890625 \r\nL 10.015625 52.203125 \r\nQ 14.9375 54.109375 19.578125 55.046875 \r\nQ 24.21875 56 28.609375 56 \r\nQ 40.484375 56 46.34375 49.84375 \r\nQ 52.203125 43.703125 52.203125 31.203125 \r\nz\r\n\" id=\"DejaVuSans-97\"/>\r\n       <path d=\"M 45.40625 46.390625 \r\nL 45.40625 75.984375 \r\nL 54.390625 75.984375 \r\nL 54.390625 0 \r\nL 45.40625 0 \r\nL 45.40625 8.203125 \r\nQ 42.578125 3.328125 38.25 0.953125 \r\nQ 33.9375 -1.421875 27.875 -1.421875 \r\nQ 17.96875 -1.421875 11.734375 6.484375 \r\nQ 5.515625 14.40625 5.515625 27.296875 \r\nQ 5.515625 40.1875 11.734375 48.09375 \r\nQ 17.96875 56 27.875 56 \r\nQ 33.9375 56 38.25 53.625 \r\nQ 42.578125 51.265625 45.40625 46.390625 \r\nz\r\nM 14.796875 27.296875 \r\nQ 14.796875 17.390625 18.875 11.75 \r\nQ 22.953125 6.109375 30.078125 6.109375 \r\nQ 37.203125 6.109375 41.296875 11.75 \r\nQ 45.40625 17.390625 45.40625 27.296875 \r\nQ 45.40625 37.203125 41.296875 42.84375 \r\nQ 37.203125 48.484375 30.078125 48.484375 \r\nQ 22.953125 48.484375 18.875 42.84375 \r\nQ 14.796875 37.203125 14.796875 27.296875 \r\nz\r\n\" id=\"DejaVuSans-100\"/>\r\n       <path d=\"M 44.28125 53.078125 \r\nL 44.28125 44.578125 \r\nQ 40.484375 46.53125 36.375 47.5 \r\nQ 32.28125 48.484375 27.875 48.484375 \r\nQ 21.1875 48.484375 17.84375 46.4375 \r\nQ 14.5 44.390625 14.5 40.28125 \r\nQ 14.5 37.15625 16.890625 35.375 \r\nQ 19.28125 33.59375 26.515625 31.984375 \r\nL 29.59375 31.296875 \r\nQ 39.15625 29.25 43.1875 25.515625 \r\nQ 47.21875 21.78125 47.21875 15.09375 \r\nQ 47.21875 7.46875 41.1875 3.015625 \r\nQ 35.15625 -1.421875 24.609375 -1.421875 \r\nQ 20.21875 -1.421875 15.453125 -0.5625 \r\nQ 10.6875 0.296875 5.421875 2 \r\nL 5.421875 11.28125 \r\nQ 10.40625 8.6875 15.234375 7.390625 \r\nQ 20.0625 6.109375 24.8125 6.109375 \r\nQ 31.15625 6.109375 34.5625 8.28125 \r\nQ 37.984375 10.453125 37.984375 14.40625 \r\nQ 37.984375 18.0625 35.515625 20.015625 \r\nQ 33.0625 21.96875 24.703125 23.78125 \r\nL 21.578125 24.515625 \r\nQ 13.234375 26.265625 9.515625 29.90625 \r\nQ 5.8125 33.546875 5.8125 39.890625 \r\nQ 5.8125 47.609375 11.28125 51.796875 \r\nQ 16.75 56 26.8125 56 \r\nQ 31.78125 56 36.171875 55.265625 \r\nQ 40.578125 54.546875 44.28125 53.078125 \r\nz\r\n\" id=\"DejaVuSans-115\"/>\r\n      </defs>\r\n      <g transform=\"translate(80.483625 673.733594)rotate(-90)scale(0.1 -0.1)\">\r\n       <use xlink:href=\"#DejaVuSans-99\"/>\r\n       <use x=\"54.980469\" xlink:href=\"#DejaVuSans-111\"/>\r\n       <use x=\"116.162109\" xlink:href=\"#DejaVuSans-110\"/>\r\n       <use x=\"179.541016\" xlink:href=\"#DejaVuSans-102\"/>\r\n       <use x=\"214.746094\" xlink:href=\"#DejaVuSans-105\"/>\r\n       <use x=\"242.529297\" xlink:href=\"#DejaVuSans-114\"/>\r\n       <use x=\"281.892578\" xlink:href=\"#DejaVuSans-109\"/>\r\n       <use x=\"379.304688\" xlink:href=\"#DejaVuSans-97\"/>\r\n       <use x=\"440.583984\" xlink:href=\"#DejaVuSans-100\"/>\r\n       <use x=\"504.060547\" xlink:href=\"#DejaVuSans-111\"/>\r\n       <use x=\"565.242188\" xlink:href=\"#DejaVuSans-115\"/>\r\n      </g>\r\n     </g>\r\n    </g>\r\n    <g id=\"xtick_2\">\r\n     <g id=\"line2d_2\">\r\n      <g>\r\n       <use style=\"stroke:#000000;stroke-width:0.8;\" x=\"184.86025\" xlink:href=\"#m7e281b1558\" y=\"604.999219\"/>\r\n      </g>\r\n     </g>\r\n     <g id=\"text_2\">\r\n      <!-- fallecidos -->\r\n      <defs>\r\n       <path d=\"M 9.421875 75.984375 \r\nL 18.40625 75.984375 \r\nL 18.40625 0 \r\nL 9.421875 0 \r\nz\r\n\" id=\"DejaVuSans-108\"/>\r\n       <path d=\"M 56.203125 29.59375 \r\nL 56.203125 25.203125 \r\nL 14.890625 25.203125 \r\nQ 15.484375 15.921875 20.484375 11.0625 \r\nQ 25.484375 6.203125 34.421875 6.203125 \r\nQ 39.59375 6.203125 44.453125 7.46875 \r\nQ 49.3125 8.734375 54.109375 11.28125 \r\nL 54.109375 2.78125 \r\nQ 49.265625 0.734375 44.1875 -0.34375 \r\nQ 39.109375 -1.421875 33.890625 -1.421875 \r\nQ 20.796875 -1.421875 13.15625 6.1875 \r\nQ 5.515625 13.8125 5.515625 26.8125 \r\nQ 5.515625 40.234375 12.765625 48.109375 \r\nQ 20.015625 56 32.328125 56 \r\nQ 43.359375 56 49.78125 48.890625 \r\nQ 56.203125 41.796875 56.203125 29.59375 \r\nz\r\nM 47.21875 32.234375 \r\nQ 47.125 39.59375 43.09375 43.984375 \r\nQ 39.0625 48.390625 32.421875 48.390625 \r\nQ 24.90625 48.390625 20.390625 44.140625 \r\nQ 15.875 39.890625 15.1875 32.171875 \r\nz\r\n\" id=\"DejaVuSans-101\"/>\r\n      </defs>\r\n      <g transform=\"translate(187.619625 659.310156)rotate(-90)scale(0.1 -0.1)\">\r\n       <use xlink:href=\"#DejaVuSans-102\"/>\r\n       <use x=\"35.205078\" xlink:href=\"#DejaVuSans-97\"/>\r\n       <use x=\"96.484375\" xlink:href=\"#DejaVuSans-108\"/>\r\n       <use x=\"124.267578\" xlink:href=\"#DejaVuSans-108\"/>\r\n       <use x=\"152.050781\" xlink:href=\"#DejaVuSans-101\"/>\r\n       <use x=\"213.574219\" xlink:href=\"#DejaVuSans-99\"/>\r\n       <use x=\"268.554688\" xlink:href=\"#DejaVuSans-105\"/>\r\n       <use x=\"296.337891\" xlink:href=\"#DejaVuSans-100\"/>\r\n       <use x=\"359.814453\" xlink:href=\"#DejaVuSans-111\"/>\r\n       <use x=\"420.996094\" xlink:href=\"#DejaVuSans-115\"/>\r\n      </g>\r\n     </g>\r\n    </g>\r\n    <g id=\"xtick_3\">\r\n     <g id=\"line2d_3\">\r\n      <g>\r\n       <use style=\"stroke:#000000;stroke-width:0.8;\" x=\"291.99625\" xlink:href=\"#m7e281b1558\" y=\"604.999219\"/>\r\n      </g>\r\n     </g>\r\n     <g id=\"text_3\">\r\n      <!-- edad_promedio -->\r\n      <defs>\r\n       <path d=\"M 50.984375 -16.609375 \r\nL 50.984375 -23.578125 \r\nL -0.984375 -23.578125 \r\nL -0.984375 -16.609375 \r\nz\r\n\" id=\"DejaVuSans-95\"/>\r\n       <path d=\"M 18.109375 8.203125 \r\nL 18.109375 -20.796875 \r\nL 9.078125 -20.796875 \r\nL 9.078125 54.6875 \r\nL 18.109375 54.6875 \r\nL 18.109375 46.390625 \r\nQ 20.953125 51.265625 25.265625 53.625 \r\nQ 29.59375 56 35.59375 56 \r\nQ 45.5625 56 51.78125 48.09375 \r\nQ 58.015625 40.1875 58.015625 27.296875 \r\nQ 58.015625 14.40625 51.78125 6.484375 \r\nQ 45.5625 -1.421875 35.59375 -1.421875 \r\nQ 29.59375 -1.421875 25.265625 0.953125 \r\nQ 20.953125 3.328125 18.109375 8.203125 \r\nz\r\nM 48.6875 27.296875 \r\nQ 48.6875 37.203125 44.609375 42.84375 \r\nQ 40.53125 48.484375 33.40625 48.484375 \r\nQ 26.265625 48.484375 22.1875 42.84375 \r\nQ 18.109375 37.203125 18.109375 27.296875 \r\nQ 18.109375 17.390625 22.1875 11.75 \r\nQ 26.265625 6.109375 33.40625 6.109375 \r\nQ 40.53125 6.109375 44.609375 11.75 \r\nQ 48.6875 17.390625 48.6875 27.296875 \r\nz\r\n\" id=\"DejaVuSans-112\"/>\r\n      </defs>\r\n      <g transform=\"translate(294.616563 689.469531)rotate(-90)scale(0.1 -0.1)\">\r\n       <use xlink:href=\"#DejaVuSans-101\"/>\r\n       <use x=\"61.523438\" xlink:href=\"#DejaVuSans-100\"/>\r\n       <use x=\"125\" xlink:href=\"#DejaVuSans-97\"/>\r\n       <use x=\"186.279297\" xlink:href=\"#DejaVuSans-100\"/>\r\n       <use x=\"249.755859\" xlink:href=\"#DejaVuSans-95\"/>\r\n       <use x=\"299.755859\" xlink:href=\"#DejaVuSans-112\"/>\r\n       <use x=\"363.232422\" xlink:href=\"#DejaVuSans-114\"/>\r\n       <use x=\"402.095703\" xlink:href=\"#DejaVuSans-111\"/>\r\n       <use x=\"463.277344\" xlink:href=\"#DejaVuSans-109\"/>\r\n       <use x=\"560.689453\" xlink:href=\"#DejaVuSans-101\"/>\r\n       <use x=\"622.212891\" xlink:href=\"#DejaVuSans-100\"/>\r\n       <use x=\"685.689453\" xlink:href=\"#DejaVuSans-105\"/>\r\n       <use x=\"713.472656\" xlink:href=\"#DejaVuSans-111\"/>\r\n      </g>\r\n     </g>\r\n    </g>\r\n    <g id=\"xtick_4\">\r\n     <g id=\"line2d_4\">\r\n      <g>\r\n       <use style=\"stroke:#000000;stroke-width:0.8;\" x=\"399.13225\" xlink:href=\"#m7e281b1558\" y=\"604.999219\"/>\r\n      </g>\r\n     </g>\r\n     <g id=\"text_4\">\r\n      <!-- cuidado_intensivo -->\r\n      <defs>\r\n       <path d=\"M 8.5 21.578125 \r\nL 8.5 54.6875 \r\nL 17.484375 54.6875 \r\nL 17.484375 21.921875 \r\nQ 17.484375 14.15625 20.5 10.265625 \r\nQ 23.53125 6.390625 29.59375 6.390625 \r\nQ 36.859375 6.390625 41.078125 11.03125 \r\nQ 45.3125 15.671875 45.3125 23.6875 \r\nL 45.3125 54.6875 \r\nL 54.296875 54.6875 \r\nL 54.296875 0 \r\nL 45.3125 0 \r\nL 45.3125 8.40625 \r\nQ 42.046875 3.421875 37.71875 1 \r\nQ 33.40625 -1.421875 27.6875 -1.421875 \r\nQ 18.265625 -1.421875 13.375 4.4375 \r\nQ 8.5 10.296875 8.5 21.578125 \r\nz\r\nM 31.109375 56 \r\nz\r\n\" id=\"DejaVuSans-117\"/>\r\n       <path d=\"M 18.3125 70.21875 \r\nL 18.3125 54.6875 \r\nL 36.8125 54.6875 \r\nL 36.8125 47.703125 \r\nL 18.3125 47.703125 \r\nL 18.3125 18.015625 \r\nQ 18.3125 11.328125 20.140625 9.421875 \r\nQ 21.96875 7.515625 27.59375 7.515625 \r\nL 36.8125 7.515625 \r\nL 36.8125 0 \r\nL 27.59375 0 \r\nQ 17.1875 0 13.234375 3.875 \r\nQ 9.28125 7.765625 9.28125 18.015625 \r\nL 9.28125 47.703125 \r\nL 2.6875 47.703125 \r\nL 2.6875 54.6875 \r\nL 9.28125 54.6875 \r\nL 9.28125 70.21875 \r\nz\r\n\" id=\"DejaVuSans-116\"/>\r\n       <path d=\"M 2.984375 54.6875 \r\nL 12.5 54.6875 \r\nL 29.59375 8.796875 \r\nL 46.6875 54.6875 \r\nL 56.203125 54.6875 \r\nL 35.6875 0 \r\nL 23.484375 0 \r\nz\r\n\" id=\"DejaVuSans-118\"/>\r\n      </defs>\r\n      <g transform=\"translate(401.752563 702.108594)rotate(-90)scale(0.1 -0.1)\">\r\n       <use xlink:href=\"#DejaVuSans-99\"/>\r\n       <use x=\"54.980469\" xlink:href=\"#DejaVuSans-117\"/>\r\n       <use x=\"118.359375\" xlink:href=\"#DejaVuSans-105\"/>\r\n       <use x=\"146.142578\" xlink:href=\"#DejaVuSans-100\"/>\r\n       <use x=\"209.619141\" xlink:href=\"#DejaVuSans-97\"/>\r\n       <use x=\"270.898438\" xlink:href=\"#DejaVuSans-100\"/>\r\n       <use x=\"334.375\" xlink:href=\"#DejaVuSans-111\"/>\r\n       <use x=\"395.556641\" xlink:href=\"#DejaVuSans-95\"/>\r\n       <use x=\"445.556641\" xlink:href=\"#DejaVuSans-105\"/>\r\n       <use x=\"473.339844\" xlink:href=\"#DejaVuSans-110\"/>\r\n       <use x=\"536.71875\" xlink:href=\"#DejaVuSans-116\"/>\r\n       <use x=\"575.927734\" xlink:href=\"#DejaVuSans-101\"/>\r\n       <use x=\"637.451172\" xlink:href=\"#DejaVuSans-110\"/>\r\n       <use x=\"700.830078\" xlink:href=\"#DejaVuSans-115\"/>\r\n       <use x=\"752.929688\" xlink:href=\"#DejaVuSans-105\"/>\r\n       <use x=\"780.712891\" xlink:href=\"#DejaVuSans-118\"/>\r\n       <use x=\"839.892578\" xlink:href=\"#DejaVuSans-111\"/>\r\n      </g>\r\n     </g>\r\n    </g>\r\n    <g id=\"xtick_5\">\r\n     <g id=\"line2d_5\">\r\n      <g>\r\n       <use style=\"stroke:#000000;stroke-width:0.8;\" x=\"506.26825\" xlink:href=\"#m7e281b1558\" y=\"604.999219\"/>\r\n      </g>\r\n     </g>\r\n     <g id=\"text_5\">\r\n      <!-- asistencia_respiratoria_mecanica -->\r\n      <g transform=\"translate(508.888563 778.072656)rotate(-90)scale(0.1 -0.1)\">\r\n       <use xlink:href=\"#DejaVuSans-97\"/>\r\n       <use x=\"61.279297\" xlink:href=\"#DejaVuSans-115\"/>\r\n       <use x=\"113.378906\" xlink:href=\"#DejaVuSans-105\"/>\r\n       <use x=\"141.162109\" xlink:href=\"#DejaVuSans-115\"/>\r\n       <use x=\"193.261719\" xlink:href=\"#DejaVuSans-116\"/>\r\n       <use x=\"232.470703\" xlink:href=\"#DejaVuSans-101\"/>\r\n       <use x=\"293.994141\" xlink:href=\"#DejaVuSans-110\"/>\r\n       <use x=\"357.373047\" xlink:href=\"#DejaVuSans-99\"/>\r\n       <use x=\"412.353516\" xlink:href=\"#DejaVuSans-105\"/>\r\n       <use x=\"440.136719\" xlink:href=\"#DejaVuSans-97\"/>\r\n       <use x=\"501.416016\" xlink:href=\"#DejaVuSans-95\"/>\r\n       <use x=\"551.416016\" xlink:href=\"#DejaVuSans-114\"/>\r\n       <use x=\"590.279297\" xlink:href=\"#DejaVuSans-101\"/>\r\n       <use x=\"651.802734\" xlink:href=\"#DejaVuSans-115\"/>\r\n       <use x=\"703.902344\" xlink:href=\"#DejaVuSans-112\"/>\r\n       <use x=\"767.378906\" xlink:href=\"#DejaVuSans-105\"/>\r\n       <use x=\"795.162109\" xlink:href=\"#DejaVuSans-114\"/>\r\n       <use x=\"836.275391\" xlink:href=\"#DejaVuSans-97\"/>\r\n       <use x=\"897.554688\" xlink:href=\"#DejaVuSans-116\"/>\r\n       <use x=\"936.763672\" xlink:href=\"#DejaVuSans-111\"/>\r\n       <use x=\"997.945312\" xlink:href=\"#DejaVuSans-114\"/>\r\n       <use x=\"1039.058594\" xlink:href=\"#DejaVuSans-105\"/>\r\n       <use x=\"1066.841797\" xlink:href=\"#DejaVuSans-97\"/>\r\n       <use x=\"1128.121094\" xlink:href=\"#DejaVuSans-95\"/>\r\n       <use x=\"1178.121094\" xlink:href=\"#DejaVuSans-109\"/>\r\n       <use x=\"1275.533203\" xlink:href=\"#DejaVuSans-101\"/>\r\n       <use x=\"1337.056641\" xlink:href=\"#DejaVuSans-99\"/>\r\n       <use x=\"1392.037109\" xlink:href=\"#DejaVuSans-97\"/>\r\n       <use x=\"1453.316406\" xlink:href=\"#DejaVuSans-110\"/>\r\n       <use x=\"1516.695312\" xlink:href=\"#DejaVuSans-105\"/>\r\n       <use x=\"1544.478516\" xlink:href=\"#DejaVuSans-99\"/>\r\n       <use x=\"1599.458984\" xlink:href=\"#DejaVuSans-97\"/>\r\n      </g>\r\n     </g>\r\n    </g>\r\n   </g>\r\n   <g id=\"matplotlib.axis_2\">\r\n    <g id=\"ytick_1\">\r\n     <g id=\"line2d_6\">\r\n      <defs>\r\n       <path d=\"M 0 0 \r\nL -3.5 0 \r\n\" id=\"m388902f6c7\" style=\"stroke:#000000;stroke-width:0.8;\"/>\r\n      </defs>\r\n      <g>\r\n       <use style=\"stroke:#000000;stroke-width:0.8;\" x=\"24.15625\" xlink:href=\"#m388902f6c7\" y=\"122.887219\"/>\r\n      </g>\r\n     </g>\r\n     <g id=\"text_6\">\r\n      <!-- confirmados -->\r\n      <g transform=\"translate(15.076563 180.822375)rotate(-90)scale(0.1 -0.1)\">\r\n       <use xlink:href=\"#DejaVuSans-99\"/>\r\n       <use x=\"54.980469\" xlink:href=\"#DejaVuSans-111\"/>\r\n       <use x=\"116.162109\" xlink:href=\"#DejaVuSans-110\"/>\r\n       <use x=\"179.541016\" xlink:href=\"#DejaVuSans-102\"/>\r\n       <use x=\"214.746094\" xlink:href=\"#DejaVuSans-105\"/>\r\n       <use x=\"242.529297\" xlink:href=\"#DejaVuSans-114\"/>\r\n       <use x=\"281.892578\" xlink:href=\"#DejaVuSans-109\"/>\r\n       <use x=\"379.304688\" xlink:href=\"#DejaVuSans-97\"/>\r\n       <use x=\"440.583984\" xlink:href=\"#DejaVuSans-100\"/>\r\n       <use x=\"504.060547\" xlink:href=\"#DejaVuSans-111\"/>\r\n       <use x=\"565.242188\" xlink:href=\"#DejaVuSans-115\"/>\r\n      </g>\r\n     </g>\r\n    </g>\r\n    <g id=\"ytick_2\">\r\n     <g id=\"line2d_7\">\r\n      <g>\r\n       <use style=\"stroke:#000000;stroke-width:0.8;\" x=\"24.15625\" xlink:href=\"#m388902f6c7\" y=\"230.023219\"/>\r\n      </g>\r\n     </g>\r\n     <g id=\"text_7\">\r\n      <!-- fallecidos -->\r\n      <g transform=\"translate(15.076563 273.534938)rotate(-90)scale(0.1 -0.1)\">\r\n       <use xlink:href=\"#DejaVuSans-102\"/>\r\n       <use x=\"35.205078\" xlink:href=\"#DejaVuSans-97\"/>\r\n       <use x=\"96.484375\" xlink:href=\"#DejaVuSans-108\"/>\r\n       <use x=\"124.267578\" xlink:href=\"#DejaVuSans-108\"/>\r\n       <use x=\"152.050781\" xlink:href=\"#DejaVuSans-101\"/>\r\n       <use x=\"213.574219\" xlink:href=\"#DejaVuSans-99\"/>\r\n       <use x=\"268.554688\" xlink:href=\"#DejaVuSans-105\"/>\r\n       <use x=\"296.337891\" xlink:href=\"#DejaVuSans-100\"/>\r\n       <use x=\"359.814453\" xlink:href=\"#DejaVuSans-111\"/>\r\n       <use x=\"420.996094\" xlink:href=\"#DejaVuSans-115\"/>\r\n      </g>\r\n     </g>\r\n    </g>\r\n    <g id=\"ytick_3\">\r\n     <g id=\"line2d_8\">\r\n      <g>\r\n       <use style=\"stroke:#000000;stroke-width:0.8;\" x=\"24.15625\" xlink:href=\"#m388902f6c7\" y=\"337.159219\"/>\r\n      </g>\r\n     </g>\r\n     <g id=\"text_8\">\r\n      <!-- edad_promedio -->\r\n      <g transform=\"translate(14.798438 410.830313)rotate(-90)scale(0.1 -0.1)\">\r\n       <use xlink:href=\"#DejaVuSans-101\"/>\r\n       <use x=\"61.523438\" xlink:href=\"#DejaVuSans-100\"/>\r\n       <use x=\"125\" xlink:href=\"#DejaVuSans-97\"/>\r\n       <use x=\"186.279297\" xlink:href=\"#DejaVuSans-100\"/>\r\n       <use x=\"249.755859\" xlink:href=\"#DejaVuSans-95\"/>\r\n       <use x=\"299.755859\" xlink:href=\"#DejaVuSans-112\"/>\r\n       <use x=\"363.232422\" xlink:href=\"#DejaVuSans-114\"/>\r\n       <use x=\"402.095703\" xlink:href=\"#DejaVuSans-111\"/>\r\n       <use x=\"463.277344\" xlink:href=\"#DejaVuSans-109\"/>\r\n       <use x=\"560.689453\" xlink:href=\"#DejaVuSans-101\"/>\r\n       <use x=\"622.212891\" xlink:href=\"#DejaVuSans-100\"/>\r\n       <use x=\"685.689453\" xlink:href=\"#DejaVuSans-105\"/>\r\n       <use x=\"713.472656\" xlink:href=\"#DejaVuSans-111\"/>\r\n      </g>\r\n     </g>\r\n    </g>\r\n    <g id=\"ytick_4\">\r\n     <g id=\"line2d_9\">\r\n      <g>\r\n       <use style=\"stroke:#000000;stroke-width:0.8;\" x=\"24.15625\" xlink:href=\"#m388902f6c7\" y=\"444.295219\"/>\r\n      </g>\r\n     </g>\r\n     <g id=\"text_9\">\r\n      <!-- cuidado_intensivo -->\r\n      <g transform=\"translate(14.798438 530.605375)rotate(-90)scale(0.1 -0.1)\">\r\n       <use xlink:href=\"#DejaVuSans-99\"/>\r\n       <use x=\"54.980469\" xlink:href=\"#DejaVuSans-117\"/>\r\n       <use x=\"118.359375\" xlink:href=\"#DejaVuSans-105\"/>\r\n       <use x=\"146.142578\" xlink:href=\"#DejaVuSans-100\"/>\r\n       <use x=\"209.619141\" xlink:href=\"#DejaVuSans-97\"/>\r\n       <use x=\"270.898438\" xlink:href=\"#DejaVuSans-100\"/>\r\n       <use x=\"334.375\" xlink:href=\"#DejaVuSans-111\"/>\r\n       <use x=\"395.556641\" xlink:href=\"#DejaVuSans-95\"/>\r\n       <use x=\"445.556641\" xlink:href=\"#DejaVuSans-105\"/>\r\n       <use x=\"473.339844\" xlink:href=\"#DejaVuSans-110\"/>\r\n       <use x=\"536.71875\" xlink:href=\"#DejaVuSans-116\"/>\r\n       <use x=\"575.927734\" xlink:href=\"#DejaVuSans-101\"/>\r\n       <use x=\"637.451172\" xlink:href=\"#DejaVuSans-110\"/>\r\n       <use x=\"700.830078\" xlink:href=\"#DejaVuSans-115\"/>\r\n       <use x=\"752.929688\" xlink:href=\"#DejaVuSans-105\"/>\r\n       <use x=\"780.712891\" xlink:href=\"#DejaVuSans-118\"/>\r\n       <use x=\"839.892578\" xlink:href=\"#DejaVuSans-111\"/>\r\n      </g>\r\n     </g>\r\n    </g>\r\n    <g id=\"ytick_5\">\r\n     <g id=\"line2d_10\">\r\n      <g>\r\n       <use style=\"stroke:#000000;stroke-width:0.8;\" x=\"24.15625\" xlink:href=\"#m388902f6c7\" y=\"551.431219\"/>\r\n      </g>\r\n     </g>\r\n     <g id=\"text_10\">\r\n      <!-- asistencia_respiratoria_mecanica -->\r\n      <g transform=\"translate(14.798438 713.705438)rotate(-90)scale(0.1 -0.1)\">\r\n       <use xlink:href=\"#DejaVuSans-97\"/>\r\n       <use x=\"61.279297\" xlink:href=\"#DejaVuSans-115\"/>\r\n       <use x=\"113.378906\" xlink:href=\"#DejaVuSans-105\"/>\r\n       <use x=\"141.162109\" xlink:href=\"#DejaVuSans-115\"/>\r\n       <use x=\"193.261719\" xlink:href=\"#DejaVuSans-116\"/>\r\n       <use x=\"232.470703\" xlink:href=\"#DejaVuSans-101\"/>\r\n       <use x=\"293.994141\" xlink:href=\"#DejaVuSans-110\"/>\r\n       <use x=\"357.373047\" xlink:href=\"#DejaVuSans-99\"/>\r\n       <use x=\"412.353516\" xlink:href=\"#DejaVuSans-105\"/>\r\n       <use x=\"440.136719\" xlink:href=\"#DejaVuSans-97\"/>\r\n       <use x=\"501.416016\" xlink:href=\"#DejaVuSans-95\"/>\r\n       <use x=\"551.416016\" xlink:href=\"#DejaVuSans-114\"/>\r\n       <use x=\"590.279297\" xlink:href=\"#DejaVuSans-101\"/>\r\n       <use x=\"651.802734\" xlink:href=\"#DejaVuSans-115\"/>\r\n       <use x=\"703.902344\" xlink:href=\"#DejaVuSans-112\"/>\r\n       <use x=\"767.378906\" xlink:href=\"#DejaVuSans-105\"/>\r\n       <use x=\"795.162109\" xlink:href=\"#DejaVuSans-114\"/>\r\n       <use x=\"836.275391\" xlink:href=\"#DejaVuSans-97\"/>\r\n       <use x=\"897.554688\" xlink:href=\"#DejaVuSans-116\"/>\r\n       <use x=\"936.763672\" xlink:href=\"#DejaVuSans-111\"/>\r\n       <use x=\"997.945312\" xlink:href=\"#DejaVuSans-114\"/>\r\n       <use x=\"1039.058594\" xlink:href=\"#DejaVuSans-105\"/>\r\n       <use x=\"1066.841797\" xlink:href=\"#DejaVuSans-97\"/>\r\n       <use x=\"1128.121094\" xlink:href=\"#DejaVuSans-95\"/>\r\n       <use x=\"1178.121094\" xlink:href=\"#DejaVuSans-109\"/>\r\n       <use x=\"1275.533203\" xlink:href=\"#DejaVuSans-101\"/>\r\n       <use x=\"1337.056641\" xlink:href=\"#DejaVuSans-99\"/>\r\n       <use x=\"1392.037109\" xlink:href=\"#DejaVuSans-97\"/>\r\n       <use x=\"1453.316406\" xlink:href=\"#DejaVuSans-110\"/>\r\n       <use x=\"1516.695312\" xlink:href=\"#DejaVuSans-105\"/>\r\n       <use x=\"1544.478516\" xlink:href=\"#DejaVuSans-99\"/>\r\n       <use x=\"1599.458984\" xlink:href=\"#DejaVuSans-97\"/>\r\n      </g>\r\n     </g>\r\n    </g>\r\n   </g>\r\n   <g id=\"text_11\">\r\n    <!-- 1 -->\r\n    <defs>\r\n     <path d=\"M 12.40625 8.296875 \r\nL 28.515625 8.296875 \r\nL 28.515625 63.921875 \r\nL 10.984375 60.40625 \r\nL 10.984375 69.390625 \r\nL 28.421875 72.90625 \r\nL 38.28125 72.90625 \r\nL 38.28125 8.296875 \r\nL 54.390625 8.296875 \r\nL 54.390625 0 \r\nL 12.40625 0 \r\nz\r\n\" id=\"DejaVuSans-49\"/>\r\n    </defs>\r\n    <g style=\"fill:#262626;\" transform=\"translate(74.543 125.646594)scale(0.1 -0.1)\">\r\n     <use xlink:href=\"#DejaVuSans-49\"/>\r\n    </g>\r\n   </g>\r\n   <g id=\"text_12\">\r\n    <!-- 0.99 -->\r\n    <defs>\r\n     <path d=\"M 31.78125 66.40625 \r\nQ 24.171875 66.40625 20.328125 58.90625 \r\nQ 16.5 51.421875 16.5 36.375 \r\nQ 16.5 21.390625 20.328125 13.890625 \r\nQ 24.171875 6.390625 31.78125 6.390625 \r\nQ 39.453125 6.390625 43.28125 13.890625 \r\nQ 47.125 21.390625 47.125 36.375 \r\nQ 47.125 51.421875 43.28125 58.90625 \r\nQ 39.453125 66.40625 31.78125 66.40625 \r\nz\r\nM 31.78125 74.21875 \r\nQ 44.046875 74.21875 50.515625 64.515625 \r\nQ 56.984375 54.828125 56.984375 36.375 \r\nQ 56.984375 17.96875 50.515625 8.265625 \r\nQ 44.046875 -1.421875 31.78125 -1.421875 \r\nQ 19.53125 -1.421875 13.0625 8.265625 \r\nQ 6.59375 17.96875 6.59375 36.375 \r\nQ 6.59375 54.828125 13.0625 64.515625 \r\nQ 19.53125 74.21875 31.78125 74.21875 \r\nz\r\n\" id=\"DejaVuSans-48\"/>\r\n     <path d=\"M 10.6875 12.40625 \r\nL 21 12.40625 \r\nL 21 0 \r\nL 10.6875 0 \r\nz\r\n\" id=\"DejaVuSans-46\"/>\r\n     <path d=\"M 10.984375 1.515625 \r\nL 10.984375 10.5 \r\nQ 14.703125 8.734375 18.5 7.8125 \r\nQ 22.3125 6.890625 25.984375 6.890625 \r\nQ 35.75 6.890625 40.890625 13.453125 \r\nQ 46.046875 20.015625 46.78125 33.40625 \r\nQ 43.953125 29.203125 39.59375 26.953125 \r\nQ 35.25 24.703125 29.984375 24.703125 \r\nQ 19.046875 24.703125 12.671875 31.3125 \r\nQ 6.296875 37.9375 6.296875 49.421875 \r\nQ 6.296875 60.640625 12.9375 67.421875 \r\nQ 19.578125 74.21875 30.609375 74.21875 \r\nQ 43.265625 74.21875 49.921875 64.515625 \r\nQ 56.59375 54.828125 56.59375 36.375 \r\nQ 56.59375 19.140625 48.40625 8.859375 \r\nQ 40.234375 -1.421875 26.421875 -1.421875 \r\nQ 22.703125 -1.421875 18.890625 -0.6875 \r\nQ 15.09375 0.046875 10.984375 1.515625 \r\nz\r\nM 30.609375 32.421875 \r\nQ 37.25 32.421875 41.125 36.953125 \r\nQ 45.015625 41.5 45.015625 49.421875 \r\nQ 45.015625 57.28125 41.125 61.84375 \r\nQ 37.25 66.40625 30.609375 66.40625 \r\nQ 23.96875 66.40625 20.09375 61.84375 \r\nQ 16.21875 57.28125 16.21875 49.421875 \r\nQ 16.21875 41.5 20.09375 36.953125 \r\nQ 23.96875 32.421875 30.609375 32.421875 \r\nz\r\n\" id=\"DejaVuSans-57\"/>\r\n    </defs>\r\n    <g style=\"fill:#262626;\" transform=\"translate(173.727438 125.646594)scale(0.1 -0.1)\">\r\n     <use xlink:href=\"#DejaVuSans-48\"/>\r\n     <use x=\"63.623047\" xlink:href=\"#DejaVuSans-46\"/>\r\n     <use x=\"95.410156\" xlink:href=\"#DejaVuSans-57\"/>\r\n     <use x=\"159.033203\" xlink:href=\"#DejaVuSans-57\"/>\r\n    </g>\r\n   </g>\r\n   <g id=\"text_13\">\r\n    <!-- 0.11 -->\r\n    <g style=\"fill:#ffffff;\" transform=\"translate(280.863438 125.646594)scale(0.1 -0.1)\">\r\n     <use xlink:href=\"#DejaVuSans-48\"/>\r\n     <use x=\"63.623047\" xlink:href=\"#DejaVuSans-46\"/>\r\n     <use x=\"95.410156\" xlink:href=\"#DejaVuSans-49\"/>\r\n     <use x=\"159.033203\" xlink:href=\"#DejaVuSans-49\"/>\r\n    </g>\r\n   </g>\r\n   <g id=\"text_14\">\r\n    <!-- 0.99 -->\r\n    <g style=\"fill:#262626;\" transform=\"translate(387.999438 125.646594)scale(0.1 -0.1)\">\r\n     <use xlink:href=\"#DejaVuSans-48\"/>\r\n     <use x=\"63.623047\" xlink:href=\"#DejaVuSans-46\"/>\r\n     <use x=\"95.410156\" xlink:href=\"#DejaVuSans-57\"/>\r\n     <use x=\"159.033203\" xlink:href=\"#DejaVuSans-57\"/>\r\n    </g>\r\n   </g>\r\n   <g id=\"text_15\">\r\n    <!-- 0.98 -->\r\n    <defs>\r\n     <path d=\"M 31.78125 34.625 \r\nQ 24.75 34.625 20.71875 30.859375 \r\nQ 16.703125 27.09375 16.703125 20.515625 \r\nQ 16.703125 13.921875 20.71875 10.15625 \r\nQ 24.75 6.390625 31.78125 6.390625 \r\nQ 38.8125 6.390625 42.859375 10.171875 \r\nQ 46.921875 13.96875 46.921875 20.515625 \r\nQ 46.921875 27.09375 42.890625 30.859375 \r\nQ 38.875 34.625 31.78125 34.625 \r\nz\r\nM 21.921875 38.8125 \r\nQ 15.578125 40.375 12.03125 44.71875 \r\nQ 8.5 49.078125 8.5 55.328125 \r\nQ 8.5 64.0625 14.71875 69.140625 \r\nQ 20.953125 74.21875 31.78125 74.21875 \r\nQ 42.671875 74.21875 48.875 69.140625 \r\nQ 55.078125 64.0625 55.078125 55.328125 \r\nQ 55.078125 49.078125 51.53125 44.71875 \r\nQ 48 40.375 41.703125 38.8125 \r\nQ 48.828125 37.15625 52.796875 32.3125 \r\nQ 56.78125 27.484375 56.78125 20.515625 \r\nQ 56.78125 9.90625 50.3125 4.234375 \r\nQ 43.84375 -1.421875 31.78125 -1.421875 \r\nQ 19.734375 -1.421875 13.25 4.234375 \r\nQ 6.78125 9.90625 6.78125 20.515625 \r\nQ 6.78125 27.484375 10.78125 32.3125 \r\nQ 14.796875 37.15625 21.921875 38.8125 \r\nz\r\nM 18.3125 54.390625 \r\nQ 18.3125 48.734375 21.84375 45.5625 \r\nQ 25.390625 42.390625 31.78125 42.390625 \r\nQ 38.140625 42.390625 41.71875 45.5625 \r\nQ 45.3125 48.734375 45.3125 54.390625 \r\nQ 45.3125 60.0625 41.71875 63.234375 \r\nQ 38.140625 66.40625 31.78125 66.40625 \r\nQ 25.390625 66.40625 21.84375 63.234375 \r\nQ 18.3125 60.0625 18.3125 54.390625 \r\nz\r\n\" id=\"DejaVuSans-56\"/>\r\n    </defs>\r\n    <g style=\"fill:#262626;\" transform=\"translate(495.135438 125.646594)scale(0.1 -0.1)\">\r\n     <use xlink:href=\"#DejaVuSans-48\"/>\r\n     <use x=\"63.623047\" xlink:href=\"#DejaVuSans-46\"/>\r\n     <use x=\"95.410156\" xlink:href=\"#DejaVuSans-57\"/>\r\n     <use x=\"159.033203\" xlink:href=\"#DejaVuSans-56\"/>\r\n    </g>\r\n   </g>\r\n   <g id=\"text_16\">\r\n    <!-- 0.99 -->\r\n    <g style=\"fill:#262626;\" transform=\"translate(66.591438 232.782594)scale(0.1 -0.1)\">\r\n     <use xlink:href=\"#DejaVuSans-48\"/>\r\n     <use x=\"63.623047\" xlink:href=\"#DejaVuSans-46\"/>\r\n     <use x=\"95.410156\" xlink:href=\"#DejaVuSans-57\"/>\r\n     <use x=\"159.033203\" xlink:href=\"#DejaVuSans-57\"/>\r\n    </g>\r\n   </g>\r\n   <g id=\"text_17\">\r\n    <!-- 1 -->\r\n    <g style=\"fill:#262626;\" transform=\"translate(181.679 232.782594)scale(0.1 -0.1)\">\r\n     <use xlink:href=\"#DejaVuSans-49\"/>\r\n    </g>\r\n   </g>\r\n   <g id=\"text_18\">\r\n    <!-- 0.099 -->\r\n    <g style=\"fill:#ffffff;\" transform=\"translate(277.682188 232.782594)scale(0.1 -0.1)\">\r\n     <use xlink:href=\"#DejaVuSans-48\"/>\r\n     <use x=\"63.623047\" xlink:href=\"#DejaVuSans-46\"/>\r\n     <use x=\"95.410156\" xlink:href=\"#DejaVuSans-48\"/>\r\n     <use x=\"159.033203\" xlink:href=\"#DejaVuSans-57\"/>\r\n     <use x=\"222.65625\" xlink:href=\"#DejaVuSans-57\"/>\r\n    </g>\r\n   </g>\r\n   <g id=\"text_19\">\r\n    <!-- 0.99 -->\r\n    <g style=\"fill:#262626;\" transform=\"translate(387.999438 232.782594)scale(0.1 -0.1)\">\r\n     <use xlink:href=\"#DejaVuSans-48\"/>\r\n     <use x=\"63.623047\" xlink:href=\"#DejaVuSans-46\"/>\r\n     <use x=\"95.410156\" xlink:href=\"#DejaVuSans-57\"/>\r\n     <use x=\"159.033203\" xlink:href=\"#DejaVuSans-57\"/>\r\n    </g>\r\n   </g>\r\n   <g id=\"text_20\">\r\n    <!-- 0.99 -->\r\n    <g style=\"fill:#262626;\" transform=\"translate(495.135438 232.782594)scale(0.1 -0.1)\">\r\n     <use xlink:href=\"#DejaVuSans-48\"/>\r\n     <use x=\"63.623047\" xlink:href=\"#DejaVuSans-46\"/>\r\n     <use x=\"95.410156\" xlink:href=\"#DejaVuSans-57\"/>\r\n     <use x=\"159.033203\" xlink:href=\"#DejaVuSans-57\"/>\r\n    </g>\r\n   </g>\r\n   <g id=\"text_21\">\r\n    <!-- 0.11 -->\r\n    <g style=\"fill:#ffffff;\" transform=\"translate(66.591438 339.918594)scale(0.1 -0.1)\">\r\n     <use xlink:href=\"#DejaVuSans-48\"/>\r\n     <use x=\"63.623047\" xlink:href=\"#DejaVuSans-46\"/>\r\n     <use x=\"95.410156\" xlink:href=\"#DejaVuSans-49\"/>\r\n     <use x=\"159.033203\" xlink:href=\"#DejaVuSans-49\"/>\r\n    </g>\r\n   </g>\r\n   <g id=\"text_22\">\r\n    <!-- 0.099 -->\r\n    <g style=\"fill:#ffffff;\" transform=\"translate(170.546188 339.918594)scale(0.1 -0.1)\">\r\n     <use xlink:href=\"#DejaVuSans-48\"/>\r\n     <use x=\"63.623047\" xlink:href=\"#DejaVuSans-46\"/>\r\n     <use x=\"95.410156\" xlink:href=\"#DejaVuSans-48\"/>\r\n     <use x=\"159.033203\" xlink:href=\"#DejaVuSans-57\"/>\r\n     <use x=\"222.65625\" xlink:href=\"#DejaVuSans-57\"/>\r\n    </g>\r\n   </g>\r\n   <g id=\"text_23\">\r\n    <!-- 1 -->\r\n    <g style=\"fill:#262626;\" transform=\"translate(288.815 339.918594)scale(0.1 -0.1)\">\r\n     <use xlink:href=\"#DejaVuSans-49\"/>\r\n    </g>\r\n   </g>\r\n   <g id=\"text_24\">\r\n    <!-- 0.12 -->\r\n    <defs>\r\n     <path d=\"M 19.1875 8.296875 \r\nL 53.609375 8.296875 \r\nL 53.609375 0 \r\nL 7.328125 0 \r\nL 7.328125 8.296875 \r\nQ 12.9375 14.109375 22.625 23.890625 \r\nQ 32.328125 33.6875 34.8125 36.53125 \r\nQ 39.546875 41.84375 41.421875 45.53125 \r\nQ 43.3125 49.21875 43.3125 52.78125 \r\nQ 43.3125 58.59375 39.234375 62.25 \r\nQ 35.15625 65.921875 28.609375 65.921875 \r\nQ 23.96875 65.921875 18.8125 64.3125 \r\nQ 13.671875 62.703125 7.8125 59.421875 \r\nL 7.8125 69.390625 \r\nQ 13.765625 71.78125 18.9375 73 \r\nQ 24.125 74.21875 28.421875 74.21875 \r\nQ 39.75 74.21875 46.484375 68.546875 \r\nQ 53.21875 62.890625 53.21875 53.421875 \r\nQ 53.21875 48.921875 51.53125 44.890625 \r\nQ 49.859375 40.875 45.40625 35.40625 \r\nQ 44.1875 33.984375 37.640625 27.21875 \r\nQ 31.109375 20.453125 19.1875 8.296875 \r\nz\r\n\" id=\"DejaVuSans-50\"/>\r\n    </defs>\r\n    <g style=\"fill:#ffffff;\" transform=\"translate(387.999438 339.918594)scale(0.1 -0.1)\">\r\n     <use xlink:href=\"#DejaVuSans-48\"/>\r\n     <use x=\"63.623047\" xlink:href=\"#DejaVuSans-46\"/>\r\n     <use x=\"95.410156\" xlink:href=\"#DejaVuSans-49\"/>\r\n     <use x=\"159.033203\" xlink:href=\"#DejaVuSans-50\"/>\r\n    </g>\r\n   </g>\r\n   <g id=\"text_25\">\r\n    <!-- 0.12 -->\r\n    <g style=\"fill:#ffffff;\" transform=\"translate(495.135438 339.918594)scale(0.1 -0.1)\">\r\n     <use xlink:href=\"#DejaVuSans-48\"/>\r\n     <use x=\"63.623047\" xlink:href=\"#DejaVuSans-46\"/>\r\n     <use x=\"95.410156\" xlink:href=\"#DejaVuSans-49\"/>\r\n     <use x=\"159.033203\" xlink:href=\"#DejaVuSans-50\"/>\r\n    </g>\r\n   </g>\r\n   <g id=\"text_26\">\r\n    <!-- 0.99 -->\r\n    <g style=\"fill:#262626;\" transform=\"translate(66.591438 447.054594)scale(0.1 -0.1)\">\r\n     <use xlink:href=\"#DejaVuSans-48\"/>\r\n     <use x=\"63.623047\" xlink:href=\"#DejaVuSans-46\"/>\r\n     <use x=\"95.410156\" xlink:href=\"#DejaVuSans-57\"/>\r\n     <use x=\"159.033203\" xlink:href=\"#DejaVuSans-57\"/>\r\n    </g>\r\n   </g>\r\n   <g id=\"text_27\">\r\n    <!-- 0.99 -->\r\n    <g style=\"fill:#262626;\" transform=\"translate(173.727438 447.054594)scale(0.1 -0.1)\">\r\n     <use xlink:href=\"#DejaVuSans-48\"/>\r\n     <use x=\"63.623047\" xlink:href=\"#DejaVuSans-46\"/>\r\n     <use x=\"95.410156\" xlink:href=\"#DejaVuSans-57\"/>\r\n     <use x=\"159.033203\" xlink:href=\"#DejaVuSans-57\"/>\r\n    </g>\r\n   </g>\r\n   <g id=\"text_28\">\r\n    <!-- 0.12 -->\r\n    <g style=\"fill:#ffffff;\" transform=\"translate(280.863438 447.054594)scale(0.1 -0.1)\">\r\n     <use xlink:href=\"#DejaVuSans-48\"/>\r\n     <use x=\"63.623047\" xlink:href=\"#DejaVuSans-46\"/>\r\n     <use x=\"95.410156\" xlink:href=\"#DejaVuSans-49\"/>\r\n     <use x=\"159.033203\" xlink:href=\"#DejaVuSans-50\"/>\r\n    </g>\r\n   </g>\r\n   <g id=\"text_29\">\r\n    <!-- 1 -->\r\n    <g style=\"fill:#262626;\" transform=\"translate(395.951 447.054594)scale(0.1 -0.1)\">\r\n     <use xlink:href=\"#DejaVuSans-49\"/>\r\n    </g>\r\n   </g>\r\n   <g id=\"text_30\">\r\n    <!-- 1 -->\r\n    <g style=\"fill:#262626;\" transform=\"translate(503.087 447.054594)scale(0.1 -0.1)\">\r\n     <use xlink:href=\"#DejaVuSans-49\"/>\r\n    </g>\r\n   </g>\r\n   <g id=\"text_31\">\r\n    <!-- 0.98 -->\r\n    <g style=\"fill:#262626;\" transform=\"translate(66.591438 554.190594)scale(0.1 -0.1)\">\r\n     <use xlink:href=\"#DejaVuSans-48\"/>\r\n     <use x=\"63.623047\" xlink:href=\"#DejaVuSans-46\"/>\r\n     <use x=\"95.410156\" xlink:href=\"#DejaVuSans-57\"/>\r\n     <use x=\"159.033203\" xlink:href=\"#DejaVuSans-56\"/>\r\n    </g>\r\n   </g>\r\n   <g id=\"text_32\">\r\n    <!-- 0.99 -->\r\n    <g style=\"fill:#262626;\" transform=\"translate(173.727438 554.190594)scale(0.1 -0.1)\">\r\n     <use xlink:href=\"#DejaVuSans-48\"/>\r\n     <use x=\"63.623047\" xlink:href=\"#DejaVuSans-46\"/>\r\n     <use x=\"95.410156\" xlink:href=\"#DejaVuSans-57\"/>\r\n     <use x=\"159.033203\" xlink:href=\"#DejaVuSans-57\"/>\r\n    </g>\r\n   </g>\r\n   <g id=\"text_33\">\r\n    <!-- 0.12 -->\r\n    <g style=\"fill:#ffffff;\" transform=\"translate(280.863438 554.190594)scale(0.1 -0.1)\">\r\n     <use xlink:href=\"#DejaVuSans-48\"/>\r\n     <use x=\"63.623047\" xlink:href=\"#DejaVuSans-46\"/>\r\n     <use x=\"95.410156\" xlink:href=\"#DejaVuSans-49\"/>\r\n     <use x=\"159.033203\" xlink:href=\"#DejaVuSans-50\"/>\r\n    </g>\r\n   </g>\r\n   <g id=\"text_34\">\r\n    <!-- 1 -->\r\n    <g style=\"fill:#262626;\" transform=\"translate(395.951 554.190594)scale(0.1 -0.1)\">\r\n     <use xlink:href=\"#DejaVuSans-49\"/>\r\n    </g>\r\n   </g>\r\n   <g id=\"text_35\">\r\n    <!-- 1 -->\r\n    <g style=\"fill:#262626;\" transform=\"translate(503.087 554.190594)scale(0.1 -0.1)\">\r\n     <use xlink:href=\"#DejaVuSans-49\"/>\r\n    </g>\r\n   </g>\r\n   <g id=\"text_36\">\r\n    <!-- Análisis de correlación entre variables -->\r\n    <defs>\r\n     <path d=\"M 34.1875 63.1875 \r\nL 20.796875 26.90625 \r\nL 47.609375 26.90625 \r\nz\r\nM 28.609375 72.90625 \r\nL 39.796875 72.90625 \r\nL 67.578125 0 \r\nL 57.328125 0 \r\nL 50.6875 18.703125 \r\nL 17.828125 18.703125 \r\nL 11.1875 0 \r\nL 0.78125 0 \r\nz\r\n\" id=\"DejaVuSans-65\"/>\r\n     <path d=\"M 34.28125 27.484375 \r\nQ 23.390625 27.484375 19.1875 25 \r\nQ 14.984375 22.515625 14.984375 16.5 \r\nQ 14.984375 11.71875 18.140625 8.90625 \r\nQ 21.296875 6.109375 26.703125 6.109375 \r\nQ 34.1875 6.109375 38.703125 11.40625 \r\nQ 43.21875 16.703125 43.21875 25.484375 \r\nL 43.21875 27.484375 \r\nz\r\nM 52.203125 31.203125 \r\nL 52.203125 0 \r\nL 43.21875 0 \r\nL 43.21875 8.296875 \r\nQ 40.140625 3.328125 35.546875 0.953125 \r\nQ 30.953125 -1.421875 24.3125 -1.421875 \r\nQ 15.921875 -1.421875 10.953125 3.296875 \r\nQ 6 8.015625 6 15.921875 \r\nQ 6 25.140625 12.171875 29.828125 \r\nQ 18.359375 34.515625 30.609375 34.515625 \r\nL 43.21875 34.515625 \r\nL 43.21875 35.40625 \r\nQ 43.21875 41.609375 39.140625 45 \r\nQ 35.0625 48.390625 27.6875 48.390625 \r\nQ 23 48.390625 18.546875 47.265625 \r\nQ 14.109375 46.140625 10.015625 43.890625 \r\nL 10.015625 52.203125 \r\nQ 14.9375 54.109375 19.578125 55.046875 \r\nQ 24.21875 56 28.609375 56 \r\nQ 40.484375 56 46.34375 49.84375 \r\nQ 52.203125 43.703125 52.203125 31.203125 \r\nz\r\nM 35.796875 79.984375 \r\nL 45.515625 79.984375 \r\nL 29.59375 61.625 \r\nL 22.125 61.625 \r\nz\r\n\" id=\"DejaVuSans-225\"/>\r\n     <path id=\"DejaVuSans-32\"/>\r\n     <path d=\"M 30.609375 48.390625 \r\nQ 23.390625 48.390625 19.1875 42.75 \r\nQ 14.984375 37.109375 14.984375 27.296875 \r\nQ 14.984375 17.484375 19.15625 11.84375 \r\nQ 23.34375 6.203125 30.609375 6.203125 \r\nQ 37.796875 6.203125 41.984375 11.859375 \r\nQ 46.1875 17.53125 46.1875 27.296875 \r\nQ 46.1875 37.015625 41.984375 42.703125 \r\nQ 37.796875 48.390625 30.609375 48.390625 \r\nz\r\nM 30.609375 56 \r\nQ 42.328125 56 49.015625 48.375 \r\nQ 55.71875 40.765625 55.71875 27.296875 \r\nQ 55.71875 13.875 49.015625 6.21875 \r\nQ 42.328125 -1.421875 30.609375 -1.421875 \r\nQ 18.84375 -1.421875 12.171875 6.21875 \r\nQ 5.515625 13.875 5.515625 27.296875 \r\nQ 5.515625 40.765625 12.171875 48.375 \r\nQ 18.84375 56 30.609375 56 \r\nz\r\nM 37.40625 79.984375 \r\nL 47.125 79.984375 \r\nL 31.203125 61.625 \r\nL 23.734375 61.625 \r\nz\r\n\" id=\"DejaVuSans-243\"/>\r\n     <path d=\"M 48.6875 27.296875 \r\nQ 48.6875 37.203125 44.609375 42.84375 \r\nQ 40.53125 48.484375 33.40625 48.484375 \r\nQ 26.265625 48.484375 22.1875 42.84375 \r\nQ 18.109375 37.203125 18.109375 27.296875 \r\nQ 18.109375 17.390625 22.1875 11.75 \r\nQ 26.265625 6.109375 33.40625 6.109375 \r\nQ 40.53125 6.109375 44.609375 11.75 \r\nQ 48.6875 17.390625 48.6875 27.296875 \r\nz\r\nM 18.109375 46.390625 \r\nQ 20.953125 51.265625 25.265625 53.625 \r\nQ 29.59375 56 35.59375 56 \r\nQ 45.5625 56 51.78125 48.09375 \r\nQ 58.015625 40.1875 58.015625 27.296875 \r\nQ 58.015625 14.40625 51.78125 6.484375 \r\nQ 45.5625 -1.421875 35.59375 -1.421875 \r\nQ 29.59375 -1.421875 25.265625 0.953125 \r\nQ 20.953125 3.328125 18.109375 8.203125 \r\nL 18.109375 0 \r\nL 9.078125 0 \r\nL 9.078125 75.984375 \r\nL 18.109375 75.984375 \r\nz\r\n\" id=\"DejaVuSans-98\"/>\r\n    </defs>\r\n    <g transform=\"translate(149.115391 36.535219)scale(0.15 -0.15)\">\r\n     <use xlink:href=\"#DejaVuSans-65\"/>\r\n     <use x=\"68.408203\" xlink:href=\"#DejaVuSans-110\"/>\r\n     <use x=\"131.787109\" xlink:href=\"#DejaVuSans-225\"/>\r\n     <use x=\"193.066406\" xlink:href=\"#DejaVuSans-108\"/>\r\n     <use x=\"220.849609\" xlink:href=\"#DejaVuSans-105\"/>\r\n     <use x=\"248.632812\" xlink:href=\"#DejaVuSans-115\"/>\r\n     <use x=\"300.732422\" xlink:href=\"#DejaVuSans-105\"/>\r\n     <use x=\"328.515625\" xlink:href=\"#DejaVuSans-115\"/>\r\n     <use x=\"380.615234\" xlink:href=\"#DejaVuSans-32\"/>\r\n     <use x=\"412.402344\" xlink:href=\"#DejaVuSans-100\"/>\r\n     <use x=\"475.878906\" xlink:href=\"#DejaVuSans-101\"/>\r\n     <use x=\"537.402344\" xlink:href=\"#DejaVuSans-32\"/>\r\n     <use x=\"569.189453\" xlink:href=\"#DejaVuSans-99\"/>\r\n     <use x=\"624.169922\" xlink:href=\"#DejaVuSans-111\"/>\r\n     <use x=\"685.351562\" xlink:href=\"#DejaVuSans-114\"/>\r\n     <use x=\"724.714844\" xlink:href=\"#DejaVuSans-114\"/>\r\n     <use x=\"763.578125\" xlink:href=\"#DejaVuSans-101\"/>\r\n     <use x=\"825.101562\" xlink:href=\"#DejaVuSans-108\"/>\r\n     <use x=\"852.884766\" xlink:href=\"#DejaVuSans-97\"/>\r\n     <use x=\"914.164062\" xlink:href=\"#DejaVuSans-99\"/>\r\n     <use x=\"969.144531\" xlink:href=\"#DejaVuSans-105\"/>\r\n     <use x=\"996.927734\" xlink:href=\"#DejaVuSans-243\"/>\r\n     <use x=\"1058.109375\" xlink:href=\"#DejaVuSans-110\"/>\r\n     <use x=\"1121.488281\" xlink:href=\"#DejaVuSans-32\"/>\r\n     <use x=\"1153.275391\" xlink:href=\"#DejaVuSans-101\"/>\r\n     <use x=\"1214.798828\" xlink:href=\"#DejaVuSans-110\"/>\r\n     <use x=\"1278.177734\" xlink:href=\"#DejaVuSans-116\"/>\r\n     <use x=\"1317.386719\" xlink:href=\"#DejaVuSans-114\"/>\r\n     <use x=\"1356.25\" xlink:href=\"#DejaVuSans-101\"/>\r\n     <use x=\"1417.773438\" xlink:href=\"#DejaVuSans-32\"/>\r\n     <use x=\"1449.560547\" xlink:href=\"#DejaVuSans-118\"/>\r\n     <use x=\"1508.740234\" xlink:href=\"#DejaVuSans-97\"/>\r\n     <use x=\"1570.019531\" xlink:href=\"#DejaVuSans-114\"/>\r\n     <use x=\"1611.132812\" xlink:href=\"#DejaVuSans-105\"/>\r\n     <use x=\"1638.916016\" xlink:href=\"#DejaVuSans-97\"/>\r\n     <use x=\"1700.195312\" xlink:href=\"#DejaVuSans-98\"/>\r\n     <use x=\"1763.671875\" xlink:href=\"#DejaVuSans-108\"/>\r\n     <use x=\"1791.455078\" xlink:href=\"#DejaVuSans-101\"/>\r\n     <use x=\"1852.978516\" xlink:href=\"#DejaVuSans-115\"/>\r\n    </g>\r\n   </g>\r\n  </g>\r\n  <g id=\"axes_2\">\r\n   <g id=\"patch_3\">\r\n    <path clip-path=\"url(#pfc9ca543b5)\" d=\"M 593.31625 663.319219 \r\nL 593.31625 660.771094 \r\nL 593.31625 13.547344 \r\nL 593.31625 10.999219 \r\nL 625.93225 10.999219 \r\nL 625.93225 13.547344 \r\nL 625.93225 660.771094 \r\nL 625.93225 663.319219 \r\nz\r\n\" style=\"fill:#ffffff;stroke:#ffffff;stroke-linejoin:miter;stroke-width:0.01;\"/>\r\n   </g>\r\n   <image height=\"652\" id=\"image3830397844\" transform=\"scale(1 -1)translate(0 -652)\" width=\"33\" x=\"593\" xlink:href=\"data:image/png;base64,\r\niVBORw0KGgoAAAANSUhEUgAAACEAAAKMCAYAAABl+dF2AAAABHNCSVQICAgIfAhkiAAAA+lJREFUeJztncF1HDEMxagx00T679M+jOEtQTgAFeBJX59cr52cr3//v+cyz22BmZk9tw1GchIKiT3n/oV0EqA4CYXEnuk6ZqZgflBI7NN1vPREQSFRMKHGBIXEPvXES8EEhUSNCQqJXgfUmKCQKJjQyg8KiQYY9ERBIdEAg4IJComCCQqJPee+x32DabP6oJBos4KCCQqJggkFExQSBRMKJigkCiYUTFBI9FkUFBL9pAYKJigkCiY0wEAhUU9ATxQUEgUTOglQSPTXT9CnclBItFmBQqLahjYrUEgUTKgxQSGxBguDQ435h0KixoQaExQSNSYoJOoJaICBQqKegAYYKCRqTOiJgkKinoCeKCgk+voJ+voJFBINMFBINMCgYIJComBCwQSFRIsutGOCQqJgQo0JColGORRMUEg0wEAh0QCDegIUEvUE9ERBIVFPQE8UFBL1BOxz/X8Dk5yEQqLGhBoTFBIFExQSDTCoJ0AhUU9AmxUoJOoJ6ImCQqLrgBoTFBI1Jigk6gnoJEAhsafafimYoJDoOqDNChQSbVbQEwWFRD0BPVFQSOwz95OpOAmFRD0BDTBQSFTbsM/3/TeqOAmFRD0BPVFQSLRZQUsNKCT2FMyXZgcoJLoOUEjUE1AwQSFRMKEdExQS+wg+gjlOoif6i0KiAQZ7BL9UozgJhcQ+XceLQqIfIULBBIVEtQ0FExQSK/hHpjUnUTBnRiJRT0BPFBQS9QT0REEhsUfwPbXiJBQS1TYUTFBINMCgAQYKiT0CDYFCT/SDQqIBBi01oJAomNBJgEKingCFRK8D2jFBIdGiCwUTFBI1JhRMUEjs1JgvBRMUEl0HKCS6DliDhkBBIlEwoWCCQqJgQsEEhcQewd/lOU7CoCFQkEgUTCiYoJDYKZgvCol6AuoJUEjUE9ATBYVEwYROAhQSewS/2eM4iYL5i0Ki64Cd577HfYORSBRMUEi06ELBBIXEjuD7p/sGUzA/KCS6DtjTZvWikCiY0OwAhUTBBIVEH4ihYIJCotqGggkKiRZdKJigkKgxoWCCQqIdE3b6hvhFIVEwQSHRdUADDBQSbVbQEwWFRF/YQ08UFBL1BHQSoJDoExgUTFBINMBAIdHrgE4CFBINMCiYoJDoOqBRDgqJggkFExQSBRMKJigkCiYoJLoOqCdAIVEwoWCCQqJgQsEEhUTBhD3n67aD4yQUEgUTFBJdBzTAQCFRMKFggkJi52mfmJmC+UEhUWNCwQSFRJ/AoCcKCol6AhQSvQ4omKCQaOWHggkKiRoT9hTMF4VEwYQaExQSjXIomKCQqDFBIdE+AQUTFBLVNjTKQSHxA9zQMNcP9q+MAAAAAElFTkSuQmCC\" y=\"-11\"/>\r\n   <g id=\"matplotlib.axis_3\"/>\r\n   <g id=\"matplotlib.axis_4\">\r\n    <g id=\"ytick_6\">\r\n     <g id=\"line2d_11\">\r\n      <defs>\r\n       <path d=\"M 0 0 \r\nL 3.5 0 \r\n\" id=\"m3b9361cadf\" style=\"stroke:#000000;stroke-width:0.8;\"/>\r\n      </defs>\r\n      <g>\r\n       <use style=\"stroke:#000000;stroke-width:0.8;\" x=\"625.93225\" xlink:href=\"#m3b9361cadf\" y=\"590.351882\"/>\r\n      </g>\r\n     </g>\r\n     <g id=\"text_37\">\r\n      <!-- 0.2 -->\r\n      <g transform=\"translate(632.93225 594.151101)scale(0.1 -0.1)\">\r\n       <use xlink:href=\"#DejaVuSans-48\"/>\r\n       <use x=\"63.623047\" xlink:href=\"#DejaVuSans-46\"/>\r\n       <use x=\"95.410156\" xlink:href=\"#DejaVuSans-50\"/>\r\n      </g>\r\n     </g>\r\n    </g>\r\n    <g id=\"ytick_7\">\r\n     <g id=\"line2d_12\">\r\n      <g>\r\n       <use style=\"stroke:#000000;stroke-width:0.8;\" x=\"625.93225\" xlink:href=\"#m3b9361cadf\" y=\"445.513716\"/>\r\n      </g>\r\n     </g>\r\n     <g id=\"text_38\">\r\n      <!-- 0.4 -->\r\n      <defs>\r\n       <path d=\"M 37.796875 64.3125 \r\nL 12.890625 25.390625 \r\nL 37.796875 25.390625 \r\nz\r\nM 35.203125 72.90625 \r\nL 47.609375 72.90625 \r\nL 47.609375 25.390625 \r\nL 58.015625 25.390625 \r\nL 58.015625 17.1875 \r\nL 47.609375 17.1875 \r\nL 47.609375 0 \r\nL 37.796875 0 \r\nL 37.796875 17.1875 \r\nL 4.890625 17.1875 \r\nL 4.890625 26.703125 \r\nz\r\n\" id=\"DejaVuSans-52\"/>\r\n      </defs>\r\n      <g transform=\"translate(632.93225 449.312935)scale(0.1 -0.1)\">\r\n       <use xlink:href=\"#DejaVuSans-48\"/>\r\n       <use x=\"63.623047\" xlink:href=\"#DejaVuSans-46\"/>\r\n       <use x=\"95.410156\" xlink:href=\"#DejaVuSans-52\"/>\r\n      </g>\r\n     </g>\r\n    </g>\r\n    <g id=\"ytick_8\">\r\n     <g id=\"line2d_13\">\r\n      <g>\r\n       <use style=\"stroke:#000000;stroke-width:0.8;\" x=\"625.93225\" xlink:href=\"#m3b9361cadf\" y=\"300.67555\"/>\r\n      </g>\r\n     </g>\r\n     <g id=\"text_39\">\r\n      <!-- 0.6 -->\r\n      <defs>\r\n       <path d=\"M 33.015625 40.375 \r\nQ 26.375 40.375 22.484375 35.828125 \r\nQ 18.609375 31.296875 18.609375 23.390625 \r\nQ 18.609375 15.53125 22.484375 10.953125 \r\nQ 26.375 6.390625 33.015625 6.390625 \r\nQ 39.65625 6.390625 43.53125 10.953125 \r\nQ 47.40625 15.53125 47.40625 23.390625 \r\nQ 47.40625 31.296875 43.53125 35.828125 \r\nQ 39.65625 40.375 33.015625 40.375 \r\nz\r\nM 52.59375 71.296875 \r\nL 52.59375 62.3125 \r\nQ 48.875 64.0625 45.09375 64.984375 \r\nQ 41.3125 65.921875 37.59375 65.921875 \r\nQ 27.828125 65.921875 22.671875 59.328125 \r\nQ 17.53125 52.734375 16.796875 39.40625 \r\nQ 19.671875 43.65625 24.015625 45.921875 \r\nQ 28.375 48.1875 33.59375 48.1875 \r\nQ 44.578125 48.1875 50.953125 41.515625 \r\nQ 57.328125 34.859375 57.328125 23.390625 \r\nQ 57.328125 12.15625 50.6875 5.359375 \r\nQ 44.046875 -1.421875 33.015625 -1.421875 \r\nQ 20.359375 -1.421875 13.671875 8.265625 \r\nQ 6.984375 17.96875 6.984375 36.375 \r\nQ 6.984375 53.65625 15.1875 63.9375 \r\nQ 23.390625 74.21875 37.203125 74.21875 \r\nQ 40.921875 74.21875 44.703125 73.484375 \r\nQ 48.484375 72.75 52.59375 71.296875 \r\nz\r\n\" id=\"DejaVuSans-54\"/>\r\n      </defs>\r\n      <g transform=\"translate(632.93225 304.474769)scale(0.1 -0.1)\">\r\n       <use xlink:href=\"#DejaVuSans-48\"/>\r\n       <use x=\"63.623047\" xlink:href=\"#DejaVuSans-46\"/>\r\n       <use x=\"95.410156\" xlink:href=\"#DejaVuSans-54\"/>\r\n      </g>\r\n     </g>\r\n    </g>\r\n    <g id=\"ytick_9\">\r\n     <g id=\"line2d_14\">\r\n      <g>\r\n       <use style=\"stroke:#000000;stroke-width:0.8;\" x=\"625.93225\" xlink:href=\"#m3b9361cadf\" y=\"155.837385\"/>\r\n      </g>\r\n     </g>\r\n     <g id=\"text_40\">\r\n      <!-- 0.8 -->\r\n      <g transform=\"translate(632.93225 159.636603)scale(0.1 -0.1)\">\r\n       <use xlink:href=\"#DejaVuSans-48\"/>\r\n       <use x=\"63.623047\" xlink:href=\"#DejaVuSans-46\"/>\r\n       <use x=\"95.410156\" xlink:href=\"#DejaVuSans-56\"/>\r\n      </g>\r\n     </g>\r\n    </g>\r\n    <g id=\"ytick_10\">\r\n     <g id=\"line2d_15\">\r\n      <g>\r\n       <use style=\"stroke:#000000;stroke-width:0.8;\" x=\"625.93225\" xlink:href=\"#m3b9361cadf\" y=\"10.999219\"/>\r\n      </g>\r\n     </g>\r\n     <g id=\"text_41\">\r\n      <!-- 1.0 -->\r\n      <g transform=\"translate(632.93225 14.798438)scale(0.1 -0.1)\">\r\n       <use xlink:href=\"#DejaVuSans-49\"/>\r\n       <use x=\"63.623047\" xlink:href=\"#DejaVuSans-46\"/>\r\n       <use x=\"95.410156\" xlink:href=\"#DejaVuSans-48\"/>\r\n      </g>\r\n     </g>\r\n    </g>\r\n   </g>\r\n   <g id=\"patch_4\">\r\n    <path d=\"M 593.31625 663.319219 \r\nL 593.31625 660.771094 \r\nL 593.31625 13.547344 \r\nL 593.31625 10.999219 \r\nL 625.93225 10.999219 \r\nL 625.93225 13.547344 \r\nL 625.93225 660.771094 \r\nL 625.93225 663.319219 \r\nz\r\n\" style=\"fill:none;\"/>\r\n   </g>\r\n  </g>\r\n </g>\r\n <defs>\r\n  <clipPath id=\"pa8a2d69c44\">\r\n   <rect height=\"535.68\" width=\"535.68\" x=\"24.15625\" y=\"69.319219\"/>\r\n  </clipPath>\r\n  <clipPath id=\"pfc9ca543b5\">\r\n   <rect height=\"652.32\" width=\"32.616\" x=\"593.31625\" y=\"10.999219\"/>\r\n  </clipPath>\r\n </defs>\r\n</svg>\r\n",
      "image/png": "[encoded data removed]"
     },
     "metadata": {
      "needs_background": "light"
     }
    }
   ],
   "source": [
    "plt.figure(figsize=(12,12))\n",
    "plt.title('Análisis de correlación entre variables', y=1.05, size=15)\n",
    "sns.heatmap(dataset_final.corr(), linewidths=0.1,vmax=1.0, square=True, linecolor='white', annot=True)"
   ]
  },
  {
   "source": [
    "## Clustering con K-Means"
   ],
   "cell_type": "markdown",
   "metadata": {}
  },
  {
   "cell_type": "code",
   "execution_count": 19,
   "metadata": {},
   "outputs": [],
   "source": [
    "from sklearn.cluster import KMeans,MeanShift\n",
    "from sklearn import decomposition\n"
   ]
  },
  {
   "source": [
    "### Definición del array de variables a utilizar en el algoritmo"
   ],
   "cell_type": "markdown",
   "metadata": {}
  },
  {
   "cell_type": "code",
   "execution_count": 20,
   "metadata": {},
   "outputs": [
    {
     "output_type": "execute_result",
     "data": {
      "text/plain": [
       "    confirmados  fallecidos  edad_promedio  cuidado_intensivo  \\\n",
       "0        532417       20171      71.632746              13877   \n",
       "1        143275        6005      76.691319               5159   \n",
       "2           879           1      97.000000                 35   \n",
       "3         12679         558      65.491039               1004   \n",
       "4         13674         196      70.040816                177   \n",
       "5          2442          47      67.787234                 85   \n",
       "6         80182        1333      73.181545               1990   \n",
       "7         15402         465      71.329032                438   \n",
       "8           145           3      64.333333                 44   \n",
       "9         16508         753      66.743351                187   \n",
       "10         3074          55      71.981818                 88   \n",
       "11         7260         284      66.693662                123   \n",
       "12        45172        1007      72.358491                618   \n",
       "13          260          92      58.445652                125   \n",
       "14        21727         439      68.437358                369   \n",
       "15        22792         643      69.928460                351   \n",
       "16        18158         914      66.093100                663   \n",
       "17         2268          79      74.493671                261   \n",
       "18         6604          53      71.377358                 64   \n",
       "19         9485         162      67.512346                188   \n",
       "20       105579        1418      73.241890               1521   \n",
       "21         9434         134      65.619403                 68   \n",
       "22        10710         144      65.638889                 84   \n",
       "23        45903         757      66.302510                436   \n",
       "\n",
       "    asistencia_respiratoria_mecanica  \n",
       "0                               5378  \n",
       "1                               2163  \n",
       "2                                 10  \n",
       "3                                443  \n",
       "4                                 79  \n",
       "5                                 46  \n",
       "6                                515  \n",
       "7                                166  \n",
       "8                                 26  \n",
       "9                                116  \n",
       "10                                40  \n",
       "11                                40  \n",
       "12                               315  \n",
       "13                                62  \n",
       "14                               238  \n",
       "15                               185  \n",
       "16                               319  \n",
       "17                                55  \n",
       "18                                30  \n",
       "19                               114  \n",
       "20                               682  \n",
       "21                                30  \n",
       "22                                64  \n",
       "23                               138  "
      ],
      "text/html": "<div>\n<style scoped>\n    .dataframe tbody tr th:only-of-type {\n        vertical-align: middle;\n    }\n\n    .dataframe tbody tr th {\n        vertical-align: top;\n    }\n\n    .dataframe thead th {\n        text-align: right;\n    }\n</style>\n<table border=\"1\" class=\"dataframe\">\n  <thead>\n    <tr style=\"text-align: right;\">\n      <th></th>\n      <th>confirmados</th>\n      <th>fallecidos</th>\n      <th>edad_promedio</th>\n      <th>cuidado_intensivo</th>\n      <th>asistencia_respiratoria_mecanica</th>\n    </tr>\n  </thead>\n  <tbody>\n    <tr>\n      <th>0</th>\n      <td>532417</td>\n      <td>20171</td>\n      <td>71.632746</td>\n      <td>13877</td>\n      <td>5378</td>\n    </tr>\n    <tr>\n      <th>1</th>\n      <td>143275</td>\n      <td>6005</td>\n      <td>76.691319</td>\n      <td>5159</td>\n      <td>2163</td>\n    </tr>\n    <tr>\n      <th>2</th>\n      <td>879</td>\n      <td>1</td>\n      <td>97.000000</td>\n      <td>35</td>\n      <td>10</td>\n    </tr>\n    <tr>\n      <th>3</th>\n      <td>12679</td>\n      <td>558</td>\n      <td>65.491039</td>\n      <td>1004</td>\n      <td>443</td>\n    </tr>\n    <tr>\n      <th>4</th>\n      <td>13674</td>\n      <td>196</td>\n      <td>70.040816</td>\n      <td>177</td>\n      <td>79</td>\n    </tr>\n    <tr>\n      <th>5</th>\n      <td>2442</td>\n      <td>47</td>\n      <td>67.787234</td>\n      <td>85</td>\n      <td>46</td>\n    </tr>\n    <tr>\n      <th>6</th>\n      <td>80182</td>\n      <td>1333</td>\n      <td>73.181545</td>\n      <td>1990</td>\n      <td>515</td>\n    </tr>\n    <tr>\n      <th>7</th>\n      <td>15402</td>\n      <td>465</td>\n      <td>71.329032</td>\n      <td>438</td>\n      <td>166</td>\n    </tr>\n    <tr>\n      <th>8</th>\n      <td>145</td>\n      <td>3</td>\n      <td>64.333333</td>\n      <td>44</td>\n      <td>26</td>\n    </tr>\n    <tr>\n      <th>9</th>\n      <td>16508</td>\n      <td>753</td>\n      <td>66.743351</td>\n      <td>187</td>\n      <td>116</td>\n    </tr>\n    <tr>\n      <th>10</th>\n      <td>3074</td>\n      <td>55</td>\n      <td>71.981818</td>\n      <td>88</td>\n      <td>40</td>\n    </tr>\n    <tr>\n      <th>11</th>\n      <td>7260</td>\n      <td>284</td>\n      <td>66.693662</td>\n      <td>123</td>\n      <td>40</td>\n    </tr>\n    <tr>\n      <th>12</th>\n      <td>45172</td>\n      <td>1007</td>\n      <td>72.358491</td>\n      <td>618</td>\n      <td>315</td>\n    </tr>\n    <tr>\n      <th>13</th>\n      <td>260</td>\n      <td>92</td>\n      <td>58.445652</td>\n      <td>125</td>\n      <td>62</td>\n    </tr>\n    <tr>\n      <th>14</th>\n      <td>21727</td>\n      <td>439</td>\n      <td>68.437358</td>\n      <td>369</td>\n      <td>238</td>\n    </tr>\n    <tr>\n      <th>15</th>\n      <td>22792</td>\n      <td>643</td>\n      <td>69.928460</td>\n      <td>351</td>\n      <td>185</td>\n    </tr>\n    <tr>\n      <th>16</th>\n      <td>18158</td>\n      <td>914</td>\n      <td>66.093100</td>\n      <td>663</td>\n      <td>319</td>\n    </tr>\n    <tr>\n      <th>17</th>\n      <td>2268</td>\n      <td>79</td>\n      <td>74.493671</td>\n      <td>261</td>\n      <td>55</td>\n    </tr>\n    <tr>\n      <th>18</th>\n      <td>6604</td>\n      <td>53</td>\n      <td>71.377358</td>\n      <td>64</td>\n      <td>30</td>\n    </tr>\n    <tr>\n      <th>19</th>\n      <td>9485</td>\n      <td>162</td>\n      <td>67.512346</td>\n      <td>188</td>\n      <td>114</td>\n    </tr>\n    <tr>\n      <th>20</th>\n      <td>105579</td>\n      <td>1418</td>\n      <td>73.241890</td>\n      <td>1521</td>\n      <td>682</td>\n    </tr>\n    <tr>\n      <th>21</th>\n      <td>9434</td>\n      <td>134</td>\n      <td>65.619403</td>\n      <td>68</td>\n      <td>30</td>\n    </tr>\n    <tr>\n      <th>22</th>\n      <td>10710</td>\n      <td>144</td>\n      <td>65.638889</td>\n      <td>84</td>\n      <td>64</td>\n    </tr>\n    <tr>\n      <th>23</th>\n      <td>45903</td>\n      <td>757</td>\n      <td>66.302510</td>\n      <td>436</td>\n      <td>138</td>\n    </tr>\n  </tbody>\n</table>\n</div>"
     },
     "metadata": {},
     "execution_count": 20
    }
   ],
   "source": [
    "values = [\"confirmados\", \"fallecidos\", \"edad_promedio\", \"cuidado_intensivo\", \"asistencia_respiratoria_mecanica\"]\n",
    "dataset_km = dataset_final[values]\n",
    "dataset_km"
   ]
  },
  {
   "source": [
    "### Análisis y búsqueda del número óptimo de clusters a través de Inertia"
   ],
   "cell_type": "markdown",
   "metadata": {}
  },
  {
   "cell_type": "code",
   "execution_count": 21,
   "metadata": {},
   "outputs": [
    {
     "output_type": "execute_result",
     "data": {
      "text/plain": [
       "Text(0.5, 1.0, 'Inertia of k-Means versus number of clusters')"
      ]
     },
     "metadata": {},
     "execution_count": 21
    },
    {
     "output_type": "display_data",
     "data": {
      "text/plain": "<Figure size 864x432 with 1 Axes>",
      "image/svg+xml": "<?xml version=\"1.0\" encoding=\"utf-8\" standalone=\"no\"?>\r\n<!DOCTYPE svg PUBLIC \"-//W3C//DTD SVG 1.1//EN\"\r\n  \"http://www.w3.org/Graphics/SVG/1.1/DTD/svg11.dtd\">\r\n<!-- Created with matplotlib (https://matplotlib.org/) -->\r\n<svg height=\"386.034375pt\" version=\"1.1\" viewBox=\"0 0 720.58125 386.034375\" width=\"720.58125pt\" xmlns=\"http://www.w3.org/2000/svg\" xmlns:xlink=\"http://www.w3.org/1999/xlink\">\r\n <defs>\r\n  <style type=\"text/css\">\r\n*{stroke-linecap:butt;stroke-linejoin:round;}\r\n  </style>\r\n </defs>\r\n <g id=\"figure_1\">\r\n  <g id=\"patch_1\">\r\n   <path d=\"M 0 386.034375 \r\nL 720.58125 386.034375 \r\nL 720.58125 0 \r\nL 0 0 \r\nz\r\n\" style=\"fill:none;\"/>\r\n  </g>\r\n  <g id=\"axes_1\">\r\n   <g id=\"patch_2\">\r\n    <path d=\"M 43.78125 348.478125 \r\nL 713.38125 348.478125 \r\nL 713.38125 22.318125 \r\nL 43.78125 22.318125 \r\nz\r\n\" style=\"fill:#ffffff;\"/>\r\n   </g>\r\n   <g id=\"matplotlib.axis_1\">\r\n    <g id=\"xtick_1\">\r\n     <g id=\"line2d_1\">\r\n      <defs>\r\n       <path d=\"M 0 0 \r\nL 0 3.5 \r\n\" id=\"m54b9c53de0\" style=\"stroke:#000000;stroke-width:0.8;\"/>\r\n      </defs>\r\n      <g>\r\n       <use style=\"stroke:#000000;stroke-width:0.8;\" x=\"74.217614\" xlink:href=\"#m54b9c53de0\" y=\"348.478125\"/>\r\n      </g>\r\n     </g>\r\n     <g id=\"text_1\">\r\n      <!-- 2 -->\r\n      <defs>\r\n       <path d=\"M 19.1875 8.296875 \r\nL 53.609375 8.296875 \r\nL 53.609375 0 \r\nL 7.328125 0 \r\nL 7.328125 8.296875 \r\nQ 12.9375 14.109375 22.625 23.890625 \r\nQ 32.328125 33.6875 34.8125 36.53125 \r\nQ 39.546875 41.84375 41.421875 45.53125 \r\nQ 43.3125 49.21875 43.3125 52.78125 \r\nQ 43.3125 58.59375 39.234375 62.25 \r\nQ 35.15625 65.921875 28.609375 65.921875 \r\nQ 23.96875 65.921875 18.8125 64.3125 \r\nQ 13.671875 62.703125 7.8125 59.421875 \r\nL 7.8125 69.390625 \r\nQ 13.765625 71.78125 18.9375 73 \r\nQ 24.125 74.21875 28.421875 74.21875 \r\nQ 39.75 74.21875 46.484375 68.546875 \r\nQ 53.21875 62.890625 53.21875 53.421875 \r\nQ 53.21875 48.921875 51.53125 44.890625 \r\nQ 49.859375 40.875 45.40625 35.40625 \r\nQ 44.1875 33.984375 37.640625 27.21875 \r\nQ 31.109375 20.453125 19.1875 8.296875 \r\nz\r\n\" id=\"DejaVuSans-50\"/>\r\n      </defs>\r\n      <g transform=\"translate(71.036364 363.076562)scale(0.1 -0.1)\">\r\n       <use xlink:href=\"#DejaVuSans-50\"/>\r\n      </g>\r\n     </g>\r\n    </g>\r\n    <g id=\"xtick_2\">\r\n     <g id=\"line2d_2\">\r\n      <g>\r\n       <use style=\"stroke:#000000;stroke-width:0.8;\" x=\"209.490341\" xlink:href=\"#m54b9c53de0\" y=\"348.478125\"/>\r\n      </g>\r\n     </g>\r\n     <g id=\"text_2\">\r\n      <!-- 4 -->\r\n      <defs>\r\n       <path d=\"M 37.796875 64.3125 \r\nL 12.890625 25.390625 \r\nL 37.796875 25.390625 \r\nz\r\nM 35.203125 72.90625 \r\nL 47.609375 72.90625 \r\nL 47.609375 25.390625 \r\nL 58.015625 25.390625 \r\nL 58.015625 17.1875 \r\nL 47.609375 17.1875 \r\nL 47.609375 0 \r\nL 37.796875 0 \r\nL 37.796875 17.1875 \r\nL 4.890625 17.1875 \r\nL 4.890625 26.703125 \r\nz\r\n\" id=\"DejaVuSans-52\"/>\r\n      </defs>\r\n      <g transform=\"translate(206.309091 363.076562)scale(0.1 -0.1)\">\r\n       <use xlink:href=\"#DejaVuSans-52\"/>\r\n      </g>\r\n     </g>\r\n    </g>\r\n    <g id=\"xtick_3\">\r\n     <g id=\"line2d_3\">\r\n      <g>\r\n       <use style=\"stroke:#000000;stroke-width:0.8;\" x=\"344.763068\" xlink:href=\"#m54b9c53de0\" y=\"348.478125\"/>\r\n      </g>\r\n     </g>\r\n     <g id=\"text_3\">\r\n      <!-- 6 -->\r\n      <defs>\r\n       <path d=\"M 33.015625 40.375 \r\nQ 26.375 40.375 22.484375 35.828125 \r\nQ 18.609375 31.296875 18.609375 23.390625 \r\nQ 18.609375 15.53125 22.484375 10.953125 \r\nQ 26.375 6.390625 33.015625 6.390625 \r\nQ 39.65625 6.390625 43.53125 10.953125 \r\nQ 47.40625 15.53125 47.40625 23.390625 \r\nQ 47.40625 31.296875 43.53125 35.828125 \r\nQ 39.65625 40.375 33.015625 40.375 \r\nz\r\nM 52.59375 71.296875 \r\nL 52.59375 62.3125 \r\nQ 48.875 64.0625 45.09375 64.984375 \r\nQ 41.3125 65.921875 37.59375 65.921875 \r\nQ 27.828125 65.921875 22.671875 59.328125 \r\nQ 17.53125 52.734375 16.796875 39.40625 \r\nQ 19.671875 43.65625 24.015625 45.921875 \r\nQ 28.375 48.1875 33.59375 48.1875 \r\nQ 44.578125 48.1875 50.953125 41.515625 \r\nQ 57.328125 34.859375 57.328125 23.390625 \r\nQ 57.328125 12.15625 50.6875 5.359375 \r\nQ 44.046875 -1.421875 33.015625 -1.421875 \r\nQ 20.359375 -1.421875 13.671875 8.265625 \r\nQ 6.984375 17.96875 6.984375 36.375 \r\nQ 6.984375 53.65625 15.1875 63.9375 \r\nQ 23.390625 74.21875 37.203125 74.21875 \r\nQ 40.921875 74.21875 44.703125 73.484375 \r\nQ 48.484375 72.75 52.59375 71.296875 \r\nz\r\n\" id=\"DejaVuSans-54\"/>\r\n      </defs>\r\n      <g transform=\"translate(341.581818 363.076562)scale(0.1 -0.1)\">\r\n       <use xlink:href=\"#DejaVuSans-54\"/>\r\n      </g>\r\n     </g>\r\n    </g>\r\n    <g id=\"xtick_4\">\r\n     <g id=\"line2d_4\">\r\n      <g>\r\n       <use style=\"stroke:#000000;stroke-width:0.8;\" x=\"480.035795\" xlink:href=\"#m54b9c53de0\" y=\"348.478125\"/>\r\n      </g>\r\n     </g>\r\n     <g id=\"text_4\">\r\n      <!-- 8 -->\r\n      <defs>\r\n       <path d=\"M 31.78125 34.625 \r\nQ 24.75 34.625 20.71875 30.859375 \r\nQ 16.703125 27.09375 16.703125 20.515625 \r\nQ 16.703125 13.921875 20.71875 10.15625 \r\nQ 24.75 6.390625 31.78125 6.390625 \r\nQ 38.8125 6.390625 42.859375 10.171875 \r\nQ 46.921875 13.96875 46.921875 20.515625 \r\nQ 46.921875 27.09375 42.890625 30.859375 \r\nQ 38.875 34.625 31.78125 34.625 \r\nz\r\nM 21.921875 38.8125 \r\nQ 15.578125 40.375 12.03125 44.71875 \r\nQ 8.5 49.078125 8.5 55.328125 \r\nQ 8.5 64.0625 14.71875 69.140625 \r\nQ 20.953125 74.21875 31.78125 74.21875 \r\nQ 42.671875 74.21875 48.875 69.140625 \r\nQ 55.078125 64.0625 55.078125 55.328125 \r\nQ 55.078125 49.078125 51.53125 44.71875 \r\nQ 48 40.375 41.703125 38.8125 \r\nQ 48.828125 37.15625 52.796875 32.3125 \r\nQ 56.78125 27.484375 56.78125 20.515625 \r\nQ 56.78125 9.90625 50.3125 4.234375 \r\nQ 43.84375 -1.421875 31.78125 -1.421875 \r\nQ 19.734375 -1.421875 13.25 4.234375 \r\nQ 6.78125 9.90625 6.78125 20.515625 \r\nQ 6.78125 27.484375 10.78125 32.3125 \r\nQ 14.796875 37.15625 21.921875 38.8125 \r\nz\r\nM 18.3125 54.390625 \r\nQ 18.3125 48.734375 21.84375 45.5625 \r\nQ 25.390625 42.390625 31.78125 42.390625 \r\nQ 38.140625 42.390625 41.71875 45.5625 \r\nQ 45.3125 48.734375 45.3125 54.390625 \r\nQ 45.3125 60.0625 41.71875 63.234375 \r\nQ 38.140625 66.40625 31.78125 66.40625 \r\nQ 25.390625 66.40625 21.84375 63.234375 \r\nQ 18.3125 60.0625 18.3125 54.390625 \r\nz\r\n\" id=\"DejaVuSans-56\"/>\r\n      </defs>\r\n      <g transform=\"translate(476.854545 363.076562)scale(0.1 -0.1)\">\r\n       <use xlink:href=\"#DejaVuSans-56\"/>\r\n      </g>\r\n     </g>\r\n    </g>\r\n    <g id=\"xtick_5\">\r\n     <g id=\"line2d_5\">\r\n      <g>\r\n       <use style=\"stroke:#000000;stroke-width:0.8;\" x=\"615.308523\" xlink:href=\"#m54b9c53de0\" y=\"348.478125\"/>\r\n      </g>\r\n     </g>\r\n     <g id=\"text_5\">\r\n      <!-- 10 -->\r\n      <defs>\r\n       <path d=\"M 12.40625 8.296875 \r\nL 28.515625 8.296875 \r\nL 28.515625 63.921875 \r\nL 10.984375 60.40625 \r\nL 10.984375 69.390625 \r\nL 28.421875 72.90625 \r\nL 38.28125 72.90625 \r\nL 38.28125 8.296875 \r\nL 54.390625 8.296875 \r\nL 54.390625 0 \r\nL 12.40625 0 \r\nz\r\n\" id=\"DejaVuSans-49\"/>\r\n       <path d=\"M 31.78125 66.40625 \r\nQ 24.171875 66.40625 20.328125 58.90625 \r\nQ 16.5 51.421875 16.5 36.375 \r\nQ 16.5 21.390625 20.328125 13.890625 \r\nQ 24.171875 6.390625 31.78125 6.390625 \r\nQ 39.453125 6.390625 43.28125 13.890625 \r\nQ 47.125 21.390625 47.125 36.375 \r\nQ 47.125 51.421875 43.28125 58.90625 \r\nQ 39.453125 66.40625 31.78125 66.40625 \r\nz\r\nM 31.78125 74.21875 \r\nQ 44.046875 74.21875 50.515625 64.515625 \r\nQ 56.984375 54.828125 56.984375 36.375 \r\nQ 56.984375 17.96875 50.515625 8.265625 \r\nQ 44.046875 -1.421875 31.78125 -1.421875 \r\nQ 19.53125 -1.421875 13.0625 8.265625 \r\nQ 6.59375 17.96875 6.59375 36.375 \r\nQ 6.59375 54.828125 13.0625 64.515625 \r\nQ 19.53125 74.21875 31.78125 74.21875 \r\nz\r\n\" id=\"DejaVuSans-48\"/>\r\n      </defs>\r\n      <g transform=\"translate(608.946023 363.076562)scale(0.1 -0.1)\">\r\n       <use xlink:href=\"#DejaVuSans-49\"/>\r\n       <use x=\"63.623047\" xlink:href=\"#DejaVuSans-48\"/>\r\n      </g>\r\n     </g>\r\n    </g>\r\n    <g id=\"text_6\">\r\n     <!-- Number of clusters -->\r\n     <defs>\r\n      <path d=\"M 9.8125 72.90625 \r\nL 23.09375 72.90625 \r\nL 55.421875 11.921875 \r\nL 55.421875 72.90625 \r\nL 64.984375 72.90625 \r\nL 64.984375 0 \r\nL 51.703125 0 \r\nL 19.390625 60.984375 \r\nL 19.390625 0 \r\nL 9.8125 0 \r\nz\r\n\" id=\"DejaVuSans-78\"/>\r\n      <path d=\"M 8.5 21.578125 \r\nL 8.5 54.6875 \r\nL 17.484375 54.6875 \r\nL 17.484375 21.921875 \r\nQ 17.484375 14.15625 20.5 10.265625 \r\nQ 23.53125 6.390625 29.59375 6.390625 \r\nQ 36.859375 6.390625 41.078125 11.03125 \r\nQ 45.3125 15.671875 45.3125 23.6875 \r\nL 45.3125 54.6875 \r\nL 54.296875 54.6875 \r\nL 54.296875 0 \r\nL 45.3125 0 \r\nL 45.3125 8.40625 \r\nQ 42.046875 3.421875 37.71875 1 \r\nQ 33.40625 -1.421875 27.6875 -1.421875 \r\nQ 18.265625 -1.421875 13.375 4.4375 \r\nQ 8.5 10.296875 8.5 21.578125 \r\nz\r\nM 31.109375 56 \r\nz\r\n\" id=\"DejaVuSans-117\"/>\r\n      <path d=\"M 52 44.1875 \r\nQ 55.375 50.25 60.0625 53.125 \r\nQ 64.75 56 71.09375 56 \r\nQ 79.640625 56 84.28125 50.015625 \r\nQ 88.921875 44.046875 88.921875 33.015625 \r\nL 88.921875 0 \r\nL 79.890625 0 \r\nL 79.890625 32.71875 \r\nQ 79.890625 40.578125 77.09375 44.375 \r\nQ 74.3125 48.1875 68.609375 48.1875 \r\nQ 61.625 48.1875 57.5625 43.546875 \r\nQ 53.515625 38.921875 53.515625 30.90625 \r\nL 53.515625 0 \r\nL 44.484375 0 \r\nL 44.484375 32.71875 \r\nQ 44.484375 40.625 41.703125 44.40625 \r\nQ 38.921875 48.1875 33.109375 48.1875 \r\nQ 26.21875 48.1875 22.15625 43.53125 \r\nQ 18.109375 38.875 18.109375 30.90625 \r\nL 18.109375 0 \r\nL 9.078125 0 \r\nL 9.078125 54.6875 \r\nL 18.109375 54.6875 \r\nL 18.109375 46.1875 \r\nQ 21.1875 51.21875 25.484375 53.609375 \r\nQ 29.78125 56 35.6875 56 \r\nQ 41.65625 56 45.828125 52.96875 \r\nQ 50 49.953125 52 44.1875 \r\nz\r\n\" id=\"DejaVuSans-109\"/>\r\n      <path d=\"M 48.6875 27.296875 \r\nQ 48.6875 37.203125 44.609375 42.84375 \r\nQ 40.53125 48.484375 33.40625 48.484375 \r\nQ 26.265625 48.484375 22.1875 42.84375 \r\nQ 18.109375 37.203125 18.109375 27.296875 \r\nQ 18.109375 17.390625 22.1875 11.75 \r\nQ 26.265625 6.109375 33.40625 6.109375 \r\nQ 40.53125 6.109375 44.609375 11.75 \r\nQ 48.6875 17.390625 48.6875 27.296875 \r\nz\r\nM 18.109375 46.390625 \r\nQ 20.953125 51.265625 25.265625 53.625 \r\nQ 29.59375 56 35.59375 56 \r\nQ 45.5625 56 51.78125 48.09375 \r\nQ 58.015625 40.1875 58.015625 27.296875 \r\nQ 58.015625 14.40625 51.78125 6.484375 \r\nQ 45.5625 -1.421875 35.59375 -1.421875 \r\nQ 29.59375 -1.421875 25.265625 0.953125 \r\nQ 20.953125 3.328125 18.109375 8.203125 \r\nL 18.109375 0 \r\nL 9.078125 0 \r\nL 9.078125 75.984375 \r\nL 18.109375 75.984375 \r\nz\r\n\" id=\"DejaVuSans-98\"/>\r\n      <path d=\"M 56.203125 29.59375 \r\nL 56.203125 25.203125 \r\nL 14.890625 25.203125 \r\nQ 15.484375 15.921875 20.484375 11.0625 \r\nQ 25.484375 6.203125 34.421875 6.203125 \r\nQ 39.59375 6.203125 44.453125 7.46875 \r\nQ 49.3125 8.734375 54.109375 11.28125 \r\nL 54.109375 2.78125 \r\nQ 49.265625 0.734375 44.1875 -0.34375 \r\nQ 39.109375 -1.421875 33.890625 -1.421875 \r\nQ 20.796875 -1.421875 13.15625 6.1875 \r\nQ 5.515625 13.8125 5.515625 26.8125 \r\nQ 5.515625 40.234375 12.765625 48.109375 \r\nQ 20.015625 56 32.328125 56 \r\nQ 43.359375 56 49.78125 48.890625 \r\nQ 56.203125 41.796875 56.203125 29.59375 \r\nz\r\nM 47.21875 32.234375 \r\nQ 47.125 39.59375 43.09375 43.984375 \r\nQ 39.0625 48.390625 32.421875 48.390625 \r\nQ 24.90625 48.390625 20.390625 44.140625 \r\nQ 15.875 39.890625 15.1875 32.171875 \r\nz\r\n\" id=\"DejaVuSans-101\"/>\r\n      <path d=\"M 41.109375 46.296875 \r\nQ 39.59375 47.171875 37.8125 47.578125 \r\nQ 36.03125 48 33.890625 48 \r\nQ 26.265625 48 22.1875 43.046875 \r\nQ 18.109375 38.09375 18.109375 28.8125 \r\nL 18.109375 0 \r\nL 9.078125 0 \r\nL 9.078125 54.6875 \r\nL 18.109375 54.6875 \r\nL 18.109375 46.1875 \r\nQ 20.953125 51.171875 25.484375 53.578125 \r\nQ 30.03125 56 36.53125 56 \r\nQ 37.453125 56 38.578125 55.875 \r\nQ 39.703125 55.765625 41.0625 55.515625 \r\nz\r\n\" id=\"DejaVuSans-114\"/>\r\n      <path id=\"DejaVuSans-32\"/>\r\n      <path d=\"M 30.609375 48.390625 \r\nQ 23.390625 48.390625 19.1875 42.75 \r\nQ 14.984375 37.109375 14.984375 27.296875 \r\nQ 14.984375 17.484375 19.15625 11.84375 \r\nQ 23.34375 6.203125 30.609375 6.203125 \r\nQ 37.796875 6.203125 41.984375 11.859375 \r\nQ 46.1875 17.53125 46.1875 27.296875 \r\nQ 46.1875 37.015625 41.984375 42.703125 \r\nQ 37.796875 48.390625 30.609375 48.390625 \r\nz\r\nM 30.609375 56 \r\nQ 42.328125 56 49.015625 48.375 \r\nQ 55.71875 40.765625 55.71875 27.296875 \r\nQ 55.71875 13.875 49.015625 6.21875 \r\nQ 42.328125 -1.421875 30.609375 -1.421875 \r\nQ 18.84375 -1.421875 12.171875 6.21875 \r\nQ 5.515625 13.875 5.515625 27.296875 \r\nQ 5.515625 40.765625 12.171875 48.375 \r\nQ 18.84375 56 30.609375 56 \r\nz\r\n\" id=\"DejaVuSans-111\"/>\r\n      <path d=\"M 37.109375 75.984375 \r\nL 37.109375 68.5 \r\nL 28.515625 68.5 \r\nQ 23.6875 68.5 21.796875 66.546875 \r\nQ 19.921875 64.59375 19.921875 59.515625 \r\nL 19.921875 54.6875 \r\nL 34.71875 54.6875 \r\nL 34.71875 47.703125 \r\nL 19.921875 47.703125 \r\nL 19.921875 0 \r\nL 10.890625 0 \r\nL 10.890625 47.703125 \r\nL 2.296875 47.703125 \r\nL 2.296875 54.6875 \r\nL 10.890625 54.6875 \r\nL 10.890625 58.5 \r\nQ 10.890625 67.625 15.140625 71.796875 \r\nQ 19.390625 75.984375 28.609375 75.984375 \r\nz\r\n\" id=\"DejaVuSans-102\"/>\r\n      <path d=\"M 48.78125 52.59375 \r\nL 48.78125 44.1875 \r\nQ 44.96875 46.296875 41.140625 47.34375 \r\nQ 37.3125 48.390625 33.40625 48.390625 \r\nQ 24.65625 48.390625 19.8125 42.84375 \r\nQ 14.984375 37.3125 14.984375 27.296875 \r\nQ 14.984375 17.28125 19.8125 11.734375 \r\nQ 24.65625 6.203125 33.40625 6.203125 \r\nQ 37.3125 6.203125 41.140625 7.25 \r\nQ 44.96875 8.296875 48.78125 10.40625 \r\nL 48.78125 2.09375 \r\nQ 45.015625 0.34375 40.984375 -0.53125 \r\nQ 36.96875 -1.421875 32.421875 -1.421875 \r\nQ 20.0625 -1.421875 12.78125 6.34375 \r\nQ 5.515625 14.109375 5.515625 27.296875 \r\nQ 5.515625 40.671875 12.859375 48.328125 \r\nQ 20.21875 56 33.015625 56 \r\nQ 37.15625 56 41.109375 55.140625 \r\nQ 45.0625 54.296875 48.78125 52.59375 \r\nz\r\n\" id=\"DejaVuSans-99\"/>\r\n      <path d=\"M 9.421875 75.984375 \r\nL 18.40625 75.984375 \r\nL 18.40625 0 \r\nL 9.421875 0 \r\nz\r\n\" id=\"DejaVuSans-108\"/>\r\n      <path d=\"M 44.28125 53.078125 \r\nL 44.28125 44.578125 \r\nQ 40.484375 46.53125 36.375 47.5 \r\nQ 32.28125 48.484375 27.875 48.484375 \r\nQ 21.1875 48.484375 17.84375 46.4375 \r\nQ 14.5 44.390625 14.5 40.28125 \r\nQ 14.5 37.15625 16.890625 35.375 \r\nQ 19.28125 33.59375 26.515625 31.984375 \r\nL 29.59375 31.296875 \r\nQ 39.15625 29.25 43.1875 25.515625 \r\nQ 47.21875 21.78125 47.21875 15.09375 \r\nQ 47.21875 7.46875 41.1875 3.015625 \r\nQ 35.15625 -1.421875 24.609375 -1.421875 \r\nQ 20.21875 -1.421875 15.453125 -0.5625 \r\nQ 10.6875 0.296875 5.421875 2 \r\nL 5.421875 11.28125 \r\nQ 10.40625 8.6875 15.234375 7.390625 \r\nQ 20.0625 6.109375 24.8125 6.109375 \r\nQ 31.15625 6.109375 34.5625 8.28125 \r\nQ 37.984375 10.453125 37.984375 14.40625 \r\nQ 37.984375 18.0625 35.515625 20.015625 \r\nQ 33.0625 21.96875 24.703125 23.78125 \r\nL 21.578125 24.515625 \r\nQ 13.234375 26.265625 9.515625 29.90625 \r\nQ 5.8125 33.546875 5.8125 39.890625 \r\nQ 5.8125 47.609375 11.28125 51.796875 \r\nQ 16.75 56 26.8125 56 \r\nQ 31.78125 56 36.171875 55.265625 \r\nQ 40.578125 54.546875 44.28125 53.078125 \r\nz\r\n\" id=\"DejaVuSans-115\"/>\r\n      <path d=\"M 18.3125 70.21875 \r\nL 18.3125 54.6875 \r\nL 36.8125 54.6875 \r\nL 36.8125 47.703125 \r\nL 18.3125 47.703125 \r\nL 18.3125 18.015625 \r\nQ 18.3125 11.328125 20.140625 9.421875 \r\nQ 21.96875 7.515625 27.59375 7.515625 \r\nL 36.8125 7.515625 \r\nL 36.8125 0 \r\nL 27.59375 0 \r\nQ 17.1875 0 13.234375 3.875 \r\nQ 9.28125 7.765625 9.28125 18.015625 \r\nL 9.28125 47.703125 \r\nL 2.6875 47.703125 \r\nL 2.6875 54.6875 \r\nL 9.28125 54.6875 \r\nL 9.28125 70.21875 \r\nz\r\n\" id=\"DejaVuSans-116\"/>\r\n     </defs>\r\n     <g transform=\"translate(330.889063 376.754687)scale(0.1 -0.1)\">\r\n      <use xlink:href=\"#DejaVuSans-78\"/>\r\n      <use x=\"74.804688\" xlink:href=\"#DejaVuSans-117\"/>\r\n      <use x=\"138.183594\" xlink:href=\"#DejaVuSans-109\"/>\r\n      <use x=\"235.595703\" xlink:href=\"#DejaVuSans-98\"/>\r\n      <use x=\"299.072266\" xlink:href=\"#DejaVuSans-101\"/>\r\n      <use x=\"360.595703\" xlink:href=\"#DejaVuSans-114\"/>\r\n      <use x=\"401.708984\" xlink:href=\"#DejaVuSans-32\"/>\r\n      <use x=\"433.496094\" xlink:href=\"#DejaVuSans-111\"/>\r\n      <use x=\"494.677734\" xlink:href=\"#DejaVuSans-102\"/>\r\n      <use x=\"529.882812\" xlink:href=\"#DejaVuSans-32\"/>\r\n      <use x=\"561.669922\" xlink:href=\"#DejaVuSans-99\"/>\r\n      <use x=\"616.650391\" xlink:href=\"#DejaVuSans-108\"/>\r\n      <use x=\"644.433594\" xlink:href=\"#DejaVuSans-117\"/>\r\n      <use x=\"707.8125\" xlink:href=\"#DejaVuSans-115\"/>\r\n      <use x=\"759.912109\" xlink:href=\"#DejaVuSans-116\"/>\r\n      <use x=\"799.121094\" xlink:href=\"#DejaVuSans-101\"/>\r\n      <use x=\"860.644531\" xlink:href=\"#DejaVuSans-114\"/>\r\n      <use x=\"901.757812\" xlink:href=\"#DejaVuSans-115\"/>\r\n     </g>\r\n    </g>\r\n   </g>\r\n   <g id=\"matplotlib.axis_2\">\r\n    <g id=\"ytick_1\">\r\n     <g id=\"line2d_6\">\r\n      <defs>\r\n       <path d=\"M 0 0 \r\nL -3.5 0 \r\n\" id=\"m84573a4bd0\" style=\"stroke:#000000;stroke-width:0.8;\"/>\r\n      </defs>\r\n      <g>\r\n       <use style=\"stroke:#000000;stroke-width:0.8;\" x=\"43.78125\" xlink:href=\"#m84573a4bd0\" y=\"333.8034\"/>\r\n      </g>\r\n     </g>\r\n     <g id=\"text_7\">\r\n      <!-- 0.0 -->\r\n      <defs>\r\n       <path d=\"M 10.6875 12.40625 \r\nL 21 12.40625 \r\nL 21 0 \r\nL 10.6875 0 \r\nz\r\n\" id=\"DejaVuSans-46\"/>\r\n      </defs>\r\n      <g transform=\"translate(20.878125 337.602618)scale(0.1 -0.1)\">\r\n       <use xlink:href=\"#DejaVuSans-48\"/>\r\n       <use x=\"63.623047\" xlink:href=\"#DejaVuSans-46\"/>\r\n       <use x=\"95.410156\" xlink:href=\"#DejaVuSans-48\"/>\r\n      </g>\r\n     </g>\r\n    </g>\r\n    <g id=\"ytick_2\">\r\n     <g id=\"line2d_7\">\r\n      <g>\r\n       <use style=\"stroke:#000000;stroke-width:0.8;\" x=\"43.78125\" xlink:href=\"#m84573a4bd0\" y=\"283.668257\"/>\r\n      </g>\r\n     </g>\r\n     <g id=\"text_8\">\r\n      <!-- 0.5 -->\r\n      <defs>\r\n       <path d=\"M 10.796875 72.90625 \r\nL 49.515625 72.90625 \r\nL 49.515625 64.59375 \r\nL 19.828125 64.59375 \r\nL 19.828125 46.734375 \r\nQ 21.96875 47.46875 24.109375 47.828125 \r\nQ 26.265625 48.1875 28.421875 48.1875 \r\nQ 40.625 48.1875 47.75 41.5 \r\nQ 54.890625 34.8125 54.890625 23.390625 \r\nQ 54.890625 11.625 47.5625 5.09375 \r\nQ 40.234375 -1.421875 26.90625 -1.421875 \r\nQ 22.3125 -1.421875 17.546875 -0.640625 \r\nQ 12.796875 0.140625 7.71875 1.703125 \r\nL 7.71875 11.625 \r\nQ 12.109375 9.234375 16.796875 8.0625 \r\nQ 21.484375 6.890625 26.703125 6.890625 \r\nQ 35.15625 6.890625 40.078125 11.328125 \r\nQ 45.015625 15.765625 45.015625 23.390625 \r\nQ 45.015625 31 40.078125 35.4375 \r\nQ 35.15625 39.890625 26.703125 39.890625 \r\nQ 22.75 39.890625 18.8125 39.015625 \r\nQ 14.890625 38.140625 10.796875 36.28125 \r\nz\r\n\" id=\"DejaVuSans-53\"/>\r\n      </defs>\r\n      <g transform=\"translate(20.878125 287.467475)scale(0.1 -0.1)\">\r\n       <use xlink:href=\"#DejaVuSans-48\"/>\r\n       <use x=\"63.623047\" xlink:href=\"#DejaVuSans-46\"/>\r\n       <use x=\"95.410156\" xlink:href=\"#DejaVuSans-53\"/>\r\n      </g>\r\n     </g>\r\n    </g>\r\n    <g id=\"ytick_3\">\r\n     <g id=\"line2d_8\">\r\n      <g>\r\n       <use style=\"stroke:#000000;stroke-width:0.8;\" x=\"43.78125\" xlink:href=\"#m84573a4bd0\" y=\"233.533114\"/>\r\n      </g>\r\n     </g>\r\n     <g id=\"text_9\">\r\n      <!-- 1.0 -->\r\n      <g transform=\"translate(20.878125 237.332332)scale(0.1 -0.1)\">\r\n       <use xlink:href=\"#DejaVuSans-49\"/>\r\n       <use x=\"63.623047\" xlink:href=\"#DejaVuSans-46\"/>\r\n       <use x=\"95.410156\" xlink:href=\"#DejaVuSans-48\"/>\r\n      </g>\r\n     </g>\r\n    </g>\r\n    <g id=\"ytick_4\">\r\n     <g id=\"line2d_9\">\r\n      <g>\r\n       <use style=\"stroke:#000000;stroke-width:0.8;\" x=\"43.78125\" xlink:href=\"#m84573a4bd0\" y=\"183.397971\"/>\r\n      </g>\r\n     </g>\r\n     <g id=\"text_10\">\r\n      <!-- 1.5 -->\r\n      <g transform=\"translate(20.878125 187.197189)scale(0.1 -0.1)\">\r\n       <use xlink:href=\"#DejaVuSans-49\"/>\r\n       <use x=\"63.623047\" xlink:href=\"#DejaVuSans-46\"/>\r\n       <use x=\"95.410156\" xlink:href=\"#DejaVuSans-53\"/>\r\n      </g>\r\n     </g>\r\n    </g>\r\n    <g id=\"ytick_5\">\r\n     <g id=\"line2d_10\">\r\n      <g>\r\n       <use style=\"stroke:#000000;stroke-width:0.8;\" x=\"43.78125\" xlink:href=\"#m84573a4bd0\" y=\"133.262827\"/>\r\n      </g>\r\n     </g>\r\n     <g id=\"text_11\">\r\n      <!-- 2.0 -->\r\n      <g transform=\"translate(20.878125 137.062046)scale(0.1 -0.1)\">\r\n       <use xlink:href=\"#DejaVuSans-50\"/>\r\n       <use x=\"63.623047\" xlink:href=\"#DejaVuSans-46\"/>\r\n       <use x=\"95.410156\" xlink:href=\"#DejaVuSans-48\"/>\r\n      </g>\r\n     </g>\r\n    </g>\r\n    <g id=\"ytick_6\">\r\n     <g id=\"line2d_11\">\r\n      <g>\r\n       <use style=\"stroke:#000000;stroke-width:0.8;\" x=\"43.78125\" xlink:href=\"#m84573a4bd0\" y=\"83.127684\"/>\r\n      </g>\r\n     </g>\r\n     <g id=\"text_12\">\r\n      <!-- 2.5 -->\r\n      <g transform=\"translate(20.878125 86.926903)scale(0.1 -0.1)\">\r\n       <use xlink:href=\"#DejaVuSans-50\"/>\r\n       <use x=\"63.623047\" xlink:href=\"#DejaVuSans-46\"/>\r\n       <use x=\"95.410156\" xlink:href=\"#DejaVuSans-53\"/>\r\n      </g>\r\n     </g>\r\n    </g>\r\n    <g id=\"ytick_7\">\r\n     <g id=\"line2d_12\">\r\n      <g>\r\n       <use style=\"stroke:#000000;stroke-width:0.8;\" x=\"43.78125\" xlink:href=\"#m84573a4bd0\" y=\"32.992541\"/>\r\n      </g>\r\n     </g>\r\n     <g id=\"text_13\">\r\n      <!-- 3.0 -->\r\n      <defs>\r\n       <path d=\"M 40.578125 39.3125 \r\nQ 47.65625 37.796875 51.625 33 \r\nQ 55.609375 28.21875 55.609375 21.1875 \r\nQ 55.609375 10.40625 48.1875 4.484375 \r\nQ 40.765625 -1.421875 27.09375 -1.421875 \r\nQ 22.515625 -1.421875 17.65625 -0.515625 \r\nQ 12.796875 0.390625 7.625 2.203125 \r\nL 7.625 11.71875 \r\nQ 11.71875 9.328125 16.59375 8.109375 \r\nQ 21.484375 6.890625 26.8125 6.890625 \r\nQ 36.078125 6.890625 40.9375 10.546875 \r\nQ 45.796875 14.203125 45.796875 21.1875 \r\nQ 45.796875 27.640625 41.28125 31.265625 \r\nQ 36.765625 34.90625 28.71875 34.90625 \r\nL 20.21875 34.90625 \r\nL 20.21875 43.015625 \r\nL 29.109375 43.015625 \r\nQ 36.375 43.015625 40.234375 45.921875 \r\nQ 44.09375 48.828125 44.09375 54.296875 \r\nQ 44.09375 59.90625 40.109375 62.90625 \r\nQ 36.140625 65.921875 28.71875 65.921875 \r\nQ 24.65625 65.921875 20.015625 65.03125 \r\nQ 15.375 64.15625 9.8125 62.3125 \r\nL 9.8125 71.09375 \r\nQ 15.4375 72.65625 20.34375 73.4375 \r\nQ 25.25 74.21875 29.59375 74.21875 \r\nQ 40.828125 74.21875 47.359375 69.109375 \r\nQ 53.90625 64.015625 53.90625 55.328125 \r\nQ 53.90625 49.265625 50.4375 45.09375 \r\nQ 46.96875 40.921875 40.578125 39.3125 \r\nz\r\n\" id=\"DejaVuSans-51\"/>\r\n      </defs>\r\n      <g transform=\"translate(20.878125 36.79176)scale(0.1 -0.1)\">\r\n       <use xlink:href=\"#DejaVuSans-51\"/>\r\n       <use x=\"63.623047\" xlink:href=\"#DejaVuSans-46\"/>\r\n       <use x=\"95.410156\" xlink:href=\"#DejaVuSans-48\"/>\r\n      </g>\r\n     </g>\r\n    </g>\r\n    <g id=\"text_14\">\r\n     <!-- Inertia -->\r\n     <defs>\r\n      <path d=\"M 9.8125 72.90625 \r\nL 19.671875 72.90625 \r\nL 19.671875 0 \r\nL 9.8125 0 \r\nz\r\n\" id=\"DejaVuSans-73\"/>\r\n      <path d=\"M 54.890625 33.015625 \r\nL 54.890625 0 \r\nL 45.90625 0 \r\nL 45.90625 32.71875 \r\nQ 45.90625 40.484375 42.875 44.328125 \r\nQ 39.84375 48.1875 33.796875 48.1875 \r\nQ 26.515625 48.1875 22.3125 43.546875 \r\nQ 18.109375 38.921875 18.109375 30.90625 \r\nL 18.109375 0 \r\nL 9.078125 0 \r\nL 9.078125 54.6875 \r\nL 18.109375 54.6875 \r\nL 18.109375 46.1875 \r\nQ 21.34375 51.125 25.703125 53.5625 \r\nQ 30.078125 56 35.796875 56 \r\nQ 45.21875 56 50.046875 50.171875 \r\nQ 54.890625 44.34375 54.890625 33.015625 \r\nz\r\n\" id=\"DejaVuSans-110\"/>\r\n      <path d=\"M 9.421875 54.6875 \r\nL 18.40625 54.6875 \r\nL 18.40625 0 \r\nL 9.421875 0 \r\nz\r\nM 9.421875 75.984375 \r\nL 18.40625 75.984375 \r\nL 18.40625 64.59375 \r\nL 9.421875 64.59375 \r\nz\r\n\" id=\"DejaVuSans-105\"/>\r\n      <path d=\"M 34.28125 27.484375 \r\nQ 23.390625 27.484375 19.1875 25 \r\nQ 14.984375 22.515625 14.984375 16.5 \r\nQ 14.984375 11.71875 18.140625 8.90625 \r\nQ 21.296875 6.109375 26.703125 6.109375 \r\nQ 34.1875 6.109375 38.703125 11.40625 \r\nQ 43.21875 16.703125 43.21875 25.484375 \r\nL 43.21875 27.484375 \r\nz\r\nM 52.203125 31.203125 \r\nL 52.203125 0 \r\nL 43.21875 0 \r\nL 43.21875 8.296875 \r\nQ 40.140625 3.328125 35.546875 0.953125 \r\nQ 30.953125 -1.421875 24.3125 -1.421875 \r\nQ 15.921875 -1.421875 10.953125 3.296875 \r\nQ 6 8.015625 6 15.921875 \r\nQ 6 25.140625 12.171875 29.828125 \r\nQ 18.359375 34.515625 30.609375 34.515625 \r\nL 43.21875 34.515625 \r\nL 43.21875 35.40625 \r\nQ 43.21875 41.609375 39.140625 45 \r\nQ 35.0625 48.390625 27.6875 48.390625 \r\nQ 23 48.390625 18.546875 47.265625 \r\nQ 14.109375 46.140625 10.015625 43.890625 \r\nL 10.015625 52.203125 \r\nQ 14.9375 54.109375 19.578125 55.046875 \r\nQ 24.21875 56 28.609375 56 \r\nQ 40.484375 56 46.34375 49.84375 \r\nQ 52.203125 43.703125 52.203125 31.203125 \r\nz\r\n\" id=\"DejaVuSans-97\"/>\r\n     </defs>\r\n     <g transform=\"translate(14.798438 201.587187)rotate(-90)scale(0.1 -0.1)\">\r\n      <use xlink:href=\"#DejaVuSans-73\"/>\r\n      <use x=\"29.492188\" xlink:href=\"#DejaVuSans-110\"/>\r\n      <use x=\"92.871094\" xlink:href=\"#DejaVuSans-101\"/>\r\n      <use x=\"154.394531\" xlink:href=\"#DejaVuSans-114\"/>\r\n      <use x=\"195.507812\" xlink:href=\"#DejaVuSans-116\"/>\r\n      <use x=\"234.716797\" xlink:href=\"#DejaVuSans-105\"/>\r\n      <use x=\"262.5\" xlink:href=\"#DejaVuSans-97\"/>\r\n     </g>\r\n    </g>\r\n    <g id=\"text_15\">\r\n     <!-- 1e10 -->\r\n     <g transform=\"translate(43.78125 19.318125)scale(0.1 -0.1)\">\r\n      <use xlink:href=\"#DejaVuSans-49\"/>\r\n      <use x=\"63.623047\" xlink:href=\"#DejaVuSans-101\"/>\r\n      <use x=\"125.146484\" xlink:href=\"#DejaVuSans-49\"/>\r\n      <use x=\"188.769531\" xlink:href=\"#DejaVuSans-48\"/>\r\n     </g>\r\n    </g>\r\n   </g>\r\n   <g id=\"line2d_13\">\r\n    <path clip-path=\"url(#pd9d9a14595)\" d=\"M 74.217614 37.14358 \r\nL 141.853977 280.8548 \r\nL 209.490341 309.224586 \r\nL 277.126705 321.335996 \r\nL 344.763068 328.052936 \r\nL 412.399432 331.294709 \r\nL 480.035795 332.882698 \r\nL 547.672159 333.398159 \r\nL 615.308523 333.556048 \r\nL 682.944886 333.65267 \r\n\" style=\"fill:none;stroke:#1f77b4;stroke-linecap:square;stroke-width:1.5;\"/>\r\n    <defs>\r\n     <path d=\"M 0 5 \r\nC 1.326016 5 2.597899 4.473168 3.535534 3.535534 \r\nC 4.473168 2.597899 5 1.326016 5 0 \r\nC 5 -1.326016 4.473168 -2.597899 3.535534 -3.535534 \r\nC 2.597899 -4.473168 1.326016 -5 0 -5 \r\nC -1.326016 -5 -2.597899 -4.473168 -3.535534 -3.535534 \r\nC -4.473168 -2.597899 -5 -1.326016 -5 0 \r\nC -5 1.326016 -4.473168 2.597899 -3.535534 3.535534 \r\nC -2.597899 4.473168 -1.326016 5 0 5 \r\nz\r\n\" id=\"mcb8e03b8c6\" style=\"stroke:#1f77b4;\"/>\r\n    </defs>\r\n    <g clip-path=\"url(#pd9d9a14595)\">\r\n     <use style=\"fill:#1f77b4;stroke:#1f77b4;\" x=\"74.217614\" xlink:href=\"#mcb8e03b8c6\" y=\"37.14358\"/>\r\n     <use style=\"fill:#1f77b4;stroke:#1f77b4;\" x=\"141.853977\" xlink:href=\"#mcb8e03b8c6\" y=\"280.8548\"/>\r\n     <use style=\"fill:#1f77b4;stroke:#1f77b4;\" x=\"209.490341\" xlink:href=\"#mcb8e03b8c6\" y=\"309.224586\"/>\r\n     <use style=\"fill:#1f77b4;stroke:#1f77b4;\" x=\"277.126705\" xlink:href=\"#mcb8e03b8c6\" y=\"321.335996\"/>\r\n     <use style=\"fill:#1f77b4;stroke:#1f77b4;\" x=\"344.763068\" xlink:href=\"#mcb8e03b8c6\" y=\"328.052936\"/>\r\n     <use style=\"fill:#1f77b4;stroke:#1f77b4;\" x=\"412.399432\" xlink:href=\"#mcb8e03b8c6\" y=\"331.294709\"/>\r\n     <use style=\"fill:#1f77b4;stroke:#1f77b4;\" x=\"480.035795\" xlink:href=\"#mcb8e03b8c6\" y=\"332.882698\"/>\r\n     <use style=\"fill:#1f77b4;stroke:#1f77b4;\" x=\"547.672159\" xlink:href=\"#mcb8e03b8c6\" y=\"333.398159\"/>\r\n     <use style=\"fill:#1f77b4;stroke:#1f77b4;\" x=\"615.308523\" xlink:href=\"#mcb8e03b8c6\" y=\"333.556048\"/>\r\n     <use style=\"fill:#1f77b4;stroke:#1f77b4;\" x=\"682.944886\" xlink:href=\"#mcb8e03b8c6\" y=\"333.65267\"/>\r\n    </g>\r\n   </g>\r\n   <g id=\"patch_3\">\r\n    <path d=\"M 43.78125 348.478125 \r\nL 43.78125 22.318125 \r\n\" style=\"fill:none;stroke:#000000;stroke-linecap:square;stroke-linejoin:miter;stroke-width:0.8;\"/>\r\n   </g>\r\n   <g id=\"patch_4\">\r\n    <path d=\"M 713.38125 348.478125 \r\nL 713.38125 22.318125 \r\n\" style=\"fill:none;stroke:#000000;stroke-linecap:square;stroke-linejoin:miter;stroke-width:0.8;\"/>\r\n   </g>\r\n   <g id=\"patch_5\">\r\n    <path d=\"M 43.78125 348.478125 \r\nL 713.38125 348.478125 \r\n\" style=\"fill:none;stroke:#000000;stroke-linecap:square;stroke-linejoin:miter;stroke-width:0.8;\"/>\r\n   </g>\r\n   <g id=\"patch_6\">\r\n    <path d=\"M 43.78125 22.318125 \r\nL 713.38125 22.318125 \r\n\" style=\"fill:none;stroke:#000000;stroke-linecap:square;stroke-linejoin:miter;stroke-width:0.8;\"/>\r\n   </g>\r\n   <g id=\"text_16\">\r\n    <!-- Inertia of k-Means versus number of clusters -->\r\n    <defs>\r\n     <path d=\"M 9.078125 75.984375 \r\nL 18.109375 75.984375 \r\nL 18.109375 31.109375 \r\nL 44.921875 54.6875 \r\nL 56.390625 54.6875 \r\nL 27.390625 29.109375 \r\nL 57.625 0 \r\nL 45.90625 0 \r\nL 18.109375 26.703125 \r\nL 18.109375 0 \r\nL 9.078125 0 \r\nz\r\n\" id=\"DejaVuSans-107\"/>\r\n     <path d=\"M 4.890625 31.390625 \r\nL 31.203125 31.390625 \r\nL 31.203125 23.390625 \r\nL 4.890625 23.390625 \r\nz\r\n\" id=\"DejaVuSans-45\"/>\r\n     <path d=\"M 9.8125 72.90625 \r\nL 24.515625 72.90625 \r\nL 43.109375 23.296875 \r\nL 61.8125 72.90625 \r\nL 76.515625 72.90625 \r\nL 76.515625 0 \r\nL 66.890625 0 \r\nL 66.890625 64.015625 \r\nL 48.09375 14.015625 \r\nL 38.1875 14.015625 \r\nL 19.390625 64.015625 \r\nL 19.390625 0 \r\nL 9.8125 0 \r\nz\r\n\" id=\"DejaVuSans-77\"/>\r\n     <path d=\"M 2.984375 54.6875 \r\nL 12.5 54.6875 \r\nL 29.59375 8.796875 \r\nL 46.6875 54.6875 \r\nL 56.203125 54.6875 \r\nL 35.6875 0 \r\nL 23.484375 0 \r\nz\r\n\" id=\"DejaVuSans-118\"/>\r\n    </defs>\r\n    <g transform=\"translate(244.322813 16.318125)scale(0.12 -0.12)\">\r\n     <use xlink:href=\"#DejaVuSans-73\"/>\r\n     <use x=\"29.492188\" xlink:href=\"#DejaVuSans-110\"/>\r\n     <use x=\"92.871094\" xlink:href=\"#DejaVuSans-101\"/>\r\n     <use x=\"154.394531\" xlink:href=\"#DejaVuSans-114\"/>\r\n     <use x=\"195.507812\" xlink:href=\"#DejaVuSans-116\"/>\r\n     <use x=\"234.716797\" xlink:href=\"#DejaVuSans-105\"/>\r\n     <use x=\"262.5\" xlink:href=\"#DejaVuSans-97\"/>\r\n     <use x=\"323.779297\" xlink:href=\"#DejaVuSans-32\"/>\r\n     <use x=\"355.566406\" xlink:href=\"#DejaVuSans-111\"/>\r\n     <use x=\"416.748047\" xlink:href=\"#DejaVuSans-102\"/>\r\n     <use x=\"451.953125\" xlink:href=\"#DejaVuSans-32\"/>\r\n     <use x=\"483.740234\" xlink:href=\"#DejaVuSans-107\"/>\r\n     <use x=\"541.650391\" xlink:href=\"#DejaVuSans-45\"/>\r\n     <use x=\"577.734375\" xlink:href=\"#DejaVuSans-77\"/>\r\n     <use x=\"664.013672\" xlink:href=\"#DejaVuSans-101\"/>\r\n     <use x=\"725.537109\" xlink:href=\"#DejaVuSans-97\"/>\r\n     <use x=\"786.816406\" xlink:href=\"#DejaVuSans-110\"/>\r\n     <use x=\"850.195312\" xlink:href=\"#DejaVuSans-115\"/>\r\n     <use x=\"902.294922\" xlink:href=\"#DejaVuSans-32\"/>\r\n     <use x=\"934.082031\" xlink:href=\"#DejaVuSans-118\"/>\r\n     <use x=\"993.261719\" xlink:href=\"#DejaVuSans-101\"/>\r\n     <use x=\"1054.785156\" xlink:href=\"#DejaVuSans-114\"/>\r\n     <use x=\"1095.898438\" xlink:href=\"#DejaVuSans-115\"/>\r\n     <use x=\"1147.998047\" xlink:href=\"#DejaVuSans-117\"/>\r\n     <use x=\"1211.376953\" xlink:href=\"#DejaVuSans-115\"/>\r\n     <use x=\"1263.476562\" xlink:href=\"#DejaVuSans-32\"/>\r\n     <use x=\"1295.263672\" xlink:href=\"#DejaVuSans-110\"/>\r\n     <use x=\"1358.642578\" xlink:href=\"#DejaVuSans-117\"/>\r\n     <use x=\"1422.021484\" xlink:href=\"#DejaVuSans-109\"/>\r\n     <use x=\"1519.433594\" xlink:href=\"#DejaVuSans-98\"/>\r\n     <use x=\"1582.910156\" xlink:href=\"#DejaVuSans-101\"/>\r\n     <use x=\"1644.433594\" xlink:href=\"#DejaVuSans-114\"/>\r\n     <use x=\"1685.546875\" xlink:href=\"#DejaVuSans-32\"/>\r\n     <use x=\"1717.333984\" xlink:href=\"#DejaVuSans-111\"/>\r\n     <use x=\"1778.515625\" xlink:href=\"#DejaVuSans-102\"/>\r\n     <use x=\"1813.720703\" xlink:href=\"#DejaVuSans-32\"/>\r\n     <use x=\"1845.507812\" xlink:href=\"#DejaVuSans-99\"/>\r\n     <use x=\"1900.488281\" xlink:href=\"#DejaVuSans-108\"/>\r\n     <use x=\"1928.271484\" xlink:href=\"#DejaVuSans-117\"/>\r\n     <use x=\"1991.650391\" xlink:href=\"#DejaVuSans-115\"/>\r\n     <use x=\"2043.75\" xlink:href=\"#DejaVuSans-116\"/>\r\n     <use x=\"2082.958984\" xlink:href=\"#DejaVuSans-101\"/>\r\n     <use x=\"2144.482422\" xlink:href=\"#DejaVuSans-114\"/>\r\n     <use x=\"2185.595703\" xlink:href=\"#DejaVuSans-115\"/>\r\n    </g>\r\n   </g>\r\n  </g>\r\n </g>\r\n <defs>\r\n  <clipPath id=\"pd9d9a14595\">\r\n   <rect height=\"326.16\" width=\"669.6\" x=\"43.78125\" y=\"22.318125\"/>\r\n  </clipPath>\r\n </defs>\r\n</svg>\r\n",
      "image/png": "[encoded data removed]"
     },
     "metadata": {
      "needs_background": "light"
     }
    }
   ],
   "source": [
    "scores = [KMeans(n_clusters=i+2).fit(dataset_km).inertia_ for i in range(10)]\n",
    "\n",
    "from matplotlib import pyplot as plt\n",
    "plt.figure(figsize=(12,6))\n",
    "plt.plot(np.arange(2, 12), scores,'-o', markersize=10)\n",
    "plt.xlabel('Number of clusters')\n",
    "plt.ylabel(\"Inertia\")\n",
    "plt.title(\"Inertia of k-Means versus number of clusters\")"
   ]
  },
  {
   "source": [
    "### Implementación del algoritmo"
   ],
   "cell_type": "markdown",
   "metadata": {}
  },
  {
   "cell_type": "code",
   "execution_count": 35,
   "metadata": {},
   "outputs": [
    {
     "output_type": "execute_result",
     "data": {
      "text/plain": [
       "         confirmados  fallecidos  edad_promedio  cuidado_intensivo  \\\n",
       "cluster                                                              \n",
       "1            13228.8       339.3           69.4              270.4   \n",
       "2           532417.0     20171.0           71.6            13877.0   \n",
       "3           109678.7      2918.7           74.4             2890.0   \n",
       "\n",
       "         asistencia_respiratoria_mecanica  \n",
       "cluster                                    \n",
       "1                                   125.8  \n",
       "2                                  5378.0  \n",
       "3                                  1120.0  "
      ],
      "text/html": "<div>\n<style scoped>\n    .dataframe tbody tr th:only-of-type {\n        vertical-align: middle;\n    }\n\n    .dataframe tbody tr th {\n        vertical-align: top;\n    }\n\n    .dataframe thead th {\n        text-align: right;\n    }\n</style>\n<table border=\"1\" class=\"dataframe\">\n  <thead>\n    <tr style=\"text-align: right;\">\n      <th></th>\n      <th>confirmados</th>\n      <th>fallecidos</th>\n      <th>edad_promedio</th>\n      <th>cuidado_intensivo</th>\n      <th>asistencia_respiratoria_mecanica</th>\n    </tr>\n    <tr>\n      <th>cluster</th>\n      <th></th>\n      <th></th>\n      <th></th>\n      <th></th>\n      <th></th>\n    </tr>\n  </thead>\n  <tbody>\n    <tr>\n      <th>1</th>\n      <td>13228.8</td>\n      <td>339.3</td>\n      <td>69.4</td>\n      <td>270.4</td>\n      <td>125.8</td>\n    </tr>\n    <tr>\n      <th>2</th>\n      <td>532417.0</td>\n      <td>20171.0</td>\n      <td>71.6</td>\n      <td>13877.0</td>\n      <td>5378.0</td>\n    </tr>\n    <tr>\n      <th>3</th>\n      <td>109678.7</td>\n      <td>2918.7</td>\n      <td>74.4</td>\n      <td>2890.0</td>\n      <td>1120.0</td>\n    </tr>\n  </tbody>\n</table>\n</div>"
     },
     "metadata": {},
     "execution_count": 35
    }
   ],
   "source": [
    "kmeans = KMeans(n_clusters = 3)\n",
    "y_kmeans = kmeans.fit_predict(dataset_km)\n",
    "y_kmeans1=y_kmeans+1\n",
    "cluster = pd.DataFrame(y_kmeans1)\n",
    "dataset_km_sub = dataset_final.drop(['residencia_provincia_nombre'], axis=1)\n",
    "# Adding cluster to the Dataset\n",
    "dataset_km_sub['cluster'] = cluster\n",
    "#Mean of clusters\n",
    "kmeans_mean_cluster = pd.DataFrame(round(dataset_km_sub.groupby('cluster').mean(),1))\n",
    "\n",
    "clusters = kmeans.labels_\n",
    "\n",
    "## Identificación de los valores promedio (centroides) \n",
    "kmeans_mean_cluster"
   ]
  },
  {
   "cell_type": "code",
   "execution_count": 28,
   "metadata": {},
   "outputs": [],
   "source": [
    "dataset_km_sub_concat = pd.concat([dataset_final[['residencia_provincia_nombre']],dataset_km_sub],axis=1)"
   ]
  },
  {
   "cell_type": "code",
   "execution_count": 29,
   "metadata": {},
   "outputs": [
    {
     "output_type": "execute_result",
     "data": {
      "text/plain": [
       "  residencia_provincia_nombre  confirmados  fallecidos  edad_promedio  \\\n",
       "0                Buenos Aires       532417       20171      71.632746   \n",
       "1                        CABA       143275        6005      76.691319   \n",
       "2                   Catamarca          879           1      97.000000   \n",
       "3                       Chaco        12679         558      65.491039   \n",
       "4                      Chubut        13674         196      70.040816   \n",
       "5                  Corrientes         2442          47      67.787234   \n",
       "6                     Córdoba        80182        1333      73.181545   \n",
       "7                  Entre Ríos        15402         465      71.329032   \n",
       "8                     Formosa          145           3      64.333333   \n",
       "9                       Jujuy        16508         753      66.743351   \n",
       "\n",
       "   cuidado_intensivo  asistencia_respiratoria_mecanica  cluster  \n",
       "0              13877                              5378        3  \n",
       "1               5159                              2163        1  \n",
       "2                 35                                10        2  \n",
       "3               1004                               443        2  \n",
       "4                177                                79        2  \n",
       "5                 85                                46        2  \n",
       "6               1990                               515        4  \n",
       "7                438                               166        2  \n",
       "8                 44                                26        2  \n",
       "9                187                               116        2  "
      ],
      "text/html": "<div>\n<style scoped>\n    .dataframe tbody tr th:only-of-type {\n        vertical-align: middle;\n    }\n\n    .dataframe tbody tr th {\n        vertical-align: top;\n    }\n\n    .dataframe thead th {\n        text-align: right;\n    }\n</style>\n<table border=\"1\" class=\"dataframe\">\n  <thead>\n    <tr style=\"text-align: right;\">\n      <th></th>\n      <th>residencia_provincia_nombre</th>\n      <th>confirmados</th>\n      <th>fallecidos</th>\n      <th>edad_promedio</th>\n      <th>cuidado_intensivo</th>\n      <th>asistencia_respiratoria_mecanica</th>\n      <th>cluster</th>\n    </tr>\n  </thead>\n  <tbody>\n    <tr>\n      <th>0</th>\n      <td>Buenos Aires</td>\n      <td>532417</td>\n      <td>20171</td>\n      <td>71.632746</td>\n      <td>13877</td>\n      <td>5378</td>\n      <td>3</td>\n    </tr>\n    <tr>\n      <th>1</th>\n      <td>CABA</td>\n      <td>143275</td>\n      <td>6005</td>\n      <td>76.691319</td>\n      <td>5159</td>\n      <td>2163</td>\n      <td>1</td>\n    </tr>\n    <tr>\n      <th>2</th>\n      <td>Catamarca</td>\n      <td>879</td>\n      <td>1</td>\n      <td>97.000000</td>\n      <td>35</td>\n      <td>10</td>\n      <td>2</td>\n    </tr>\n    <tr>\n      <th>3</th>\n      <td>Chaco</td>\n      <td>12679</td>\n      <td>558</td>\n      <td>65.491039</td>\n      <td>1004</td>\n      <td>443</td>\n      <td>2</td>\n    </tr>\n    <tr>\n      <th>4</th>\n      <td>Chubut</td>\n      <td>13674</td>\n      <td>196</td>\n      <td>70.040816</td>\n      <td>177</td>\n      <td>79</td>\n      <td>2</td>\n    </tr>\n    <tr>\n      <th>5</th>\n      <td>Corrientes</td>\n      <td>2442</td>\n      <td>47</td>\n      <td>67.787234</td>\n      <td>85</td>\n      <td>46</td>\n      <td>2</td>\n    </tr>\n    <tr>\n      <th>6</th>\n      <td>Córdoba</td>\n      <td>80182</td>\n      <td>1333</td>\n      <td>73.181545</td>\n      <td>1990</td>\n      <td>515</td>\n      <td>4</td>\n    </tr>\n    <tr>\n      <th>7</th>\n      <td>Entre Ríos</td>\n      <td>15402</td>\n      <td>465</td>\n      <td>71.329032</td>\n      <td>438</td>\n      <td>166</td>\n      <td>2</td>\n    </tr>\n    <tr>\n      <th>8</th>\n      <td>Formosa</td>\n      <td>145</td>\n      <td>3</td>\n      <td>64.333333</td>\n      <td>44</td>\n      <td>26</td>\n      <td>2</td>\n    </tr>\n    <tr>\n      <th>9</th>\n      <td>Jujuy</td>\n      <td>16508</td>\n      <td>753</td>\n      <td>66.743351</td>\n      <td>187</td>\n      <td>116</td>\n      <td>2</td>\n    </tr>\n  </tbody>\n</table>\n</div>"
     },
     "metadata": {},
     "execution_count": 29
    }
   ],
   "source": [
    "dataset_km_sub_concat.head(10)"
   ]
  },
  {
   "cell_type": "code",
   "execution_count": null,
   "metadata": {},
   "outputs": [],
   "source": []
  },
  {
   "cell_type": "code",
   "execution_count": 41,
   "metadata": {},
   "outputs": [
    {
     "output_type": "display_data",
     "data": {
      "application/vnd.plotly.v1+json": {
       "config": {
        "plotlyServerURL": "https://plot.ly"
       },
       "data": [
        {
         "branchvalues": "total",
         "domain": {
          "x": [
           0,
           1
          ],
          "y": [
           0,
           1
          ]
         },
         "hovertemplate": "labels=%{label}<br>confirmados=%{value}<br>parent=%{parent}<br>id=%{id}<extra></extra>",
         "ids": [
          "3/Buenos Aires",
          "1/CABA",
          "2/Catamarca",
          "2/Chaco",
          "2/Chubut",
          "2/Corrientes",
          "4/Córdoba",
          "2/Entre Ríos",
          "2/Formosa",
          "2/Jujuy",
          "2/La Pampa",
          "2/La Rioja",
          "4/Mendoza",
          "2/Misiones",
          "2/Neuquén",
          "2/Río Negro",
          "2/Salta",
          "2/San Juan",
          "2/San Luis",
          "2/Santa Cruz",
          "1/Santa Fe",
          "2/Santiago del Estero",
          "2/Tierra del Fuego",
          "4/Tucumán",
          "1",
          "2",
          "3",
          "4"
         ],
         "labels": [
          "Buenos Aires",
          "CABA",
          "Catamarca",
          "Chaco",
          "Chubut",
          "Corrientes",
          "Córdoba",
          "Entre Ríos",
          "Formosa",
          "Jujuy",
          "La Pampa",
          "La Rioja",
          "Mendoza",
          "Misiones",
          "Neuquén",
          "Río Negro",
          "Salta",
          "San Juan",
          "San Luis",
          "Santa Cruz",
          "Santa Fe",
          "Santiago del Estero",
          "Tierra del Fuego",
          "Tucumán",
          "1",
          "2",
          "3",
          "4"
         ],
         "name": "",
         "parents": [
          "3",
          "1",
          "2",
          "2",
          "2",
          "2",
          "4",
          "2",
          "2",
          "2",
          "2",
          "2",
          "4",
          "2",
          "2",
          "2",
          "2",
          "2",
          "2",
          "2",
          "1",
          "2",
          "2",
          "4",
          "",
          "",
          "",
          ""
         ],
         "type": "treemap",
         "values": [
          532417,
          143275,
          879,
          12679,
          13674,
          2442,
          80182,
          15402,
          145,
          16508,
          3074,
          7260,
          45172,
          260,
          21727,
          22792,
          18158,
          2268,
          6604,
          9485,
          105579,
          9434,
          10710,
          45903,
          248854,
          173501,
          532417,
          171257
         ]
        }
       ],
       "layout": {
        "autosize": false,
        "height": 700,
        "legend": {
         "tracegroupgap": 0
        },
        "margin": {
         "t": 60
        },
        "template": {
         "data": {
          "bar": [
           {
            "error_x": {
             "color": "#2a3f5f"
            },
            "error_y": {
             "color": "#2a3f5f"
            },
            "marker": {
             "line": {
              "color": "#E5ECF6",
              "width": 0.5
             }
            },
            "type": "bar"
           }
          ],
          "barpolar": [
           {
            "marker": {
             "line": {
              "color": "#E5ECF6",
              "width": 0.5
             }
            },
            "type": "barpolar"
           }
          ],
          "carpet": [
           {
            "aaxis": {
             "endlinecolor": "#2a3f5f",
             "gridcolor": "white",
             "linecolor": "white",
             "minorgridcolor": "white",
             "startlinecolor": "#2a3f5f"
            },
            "baxis": {
             "endlinecolor": "#2a3f5f",
             "gridcolor": "white",
             "linecolor": "white",
             "minorgridcolor": "white",
             "startlinecolor": "#2a3f5f"
            },
            "type": "carpet"
           }
          ],
          "choropleth": [
           {
            "colorbar": {
             "outlinewidth": 0,
             "ticks": ""
            },
            "type": "choropleth"
           }
          ],
          "contour": [
           {
            "colorbar": {
             "outlinewidth": 0,
             "ticks": ""
            },
            "colorscale": [
             [
              0,
              "#0d0887"
             ],
             [
              0.1111111111111111,
              "#46039f"
             ],
             [
              0.2222222222222222,
              "#7201a8"
             ],
             [
              0.3333333333333333,
              "#9c179e"
             ],
             [
              0.4444444444444444,
              "#bd3786"
             ],
             [
              0.5555555555555556,
              "#d8576b"
             ],
             [
              0.6666666666666666,
              "#ed7953"
             ],
             [
              0.7777777777777778,
              "#fb9f3a"
             ],
             [
              0.8888888888888888,
              "#fdca26"
             ],
             [
              1,
              "#f0f921"
             ]
            ],
            "type": "contour"
           }
          ],
          "contourcarpet": [
           {
            "colorbar": {
             "outlinewidth": 0,
             "ticks": ""
            },
            "type": "contourcarpet"
           }
          ],
          "heatmap": [
           {
            "colorbar": {
             "outlinewidth": 0,
             "ticks": ""
            },
            "colorscale": [
             [
              0,
              "#0d0887"
             ],
             [
              0.1111111111111111,
              "#46039f"
             ],
             [
              0.2222222222222222,
              "#7201a8"
             ],
             [
              0.3333333333333333,
              "#9c179e"
             ],
             [
              0.4444444444444444,
              "#bd3786"
             ],
             [
              0.5555555555555556,
              "#d8576b"
             ],
             [
              0.6666666666666666,
              "#ed7953"
             ],
             [
              0.7777777777777778,
              "#fb9f3a"
             ],
             [
              0.8888888888888888,
              "#fdca26"
             ],
             [
              1,
              "#f0f921"
             ]
            ],
            "type": "heatmap"
           }
          ],
          "heatmapgl": [
           {
            "colorbar": {
             "outlinewidth": 0,
             "ticks": ""
            },
            "colorscale": [
             [
              0,
              "#0d0887"
             ],
             [
              0.1111111111111111,
              "#46039f"
             ],
             [
              0.2222222222222222,
              "#7201a8"
             ],
             [
              0.3333333333333333,
              "#9c179e"
             ],
             [
              0.4444444444444444,
              "#bd3786"
             ],
             [
              0.5555555555555556,
              "#d8576b"
             ],
             [
              0.6666666666666666,
              "#ed7953"
             ],
             [
              0.7777777777777778,
              "#fb9f3a"
             ],
             [
              0.8888888888888888,
              "#fdca26"
             ],
             [
              1,
              "#f0f921"
             ]
            ],
            "type": "heatmapgl"
           }
          ],
          "histogram": [
           {
            "marker": {
             "colorbar": {
              "outlinewidth": 0,
              "ticks": ""
             }
            },
            "type": "histogram"
           }
          ],
          "histogram2d": [
           {
            "colorbar": {
             "outlinewidth": 0,
             "ticks": ""
            },
            "colorscale": [
             [
              0,
              "#0d0887"
             ],
             [
              0.1111111111111111,
              "#46039f"
             ],
             [
              0.2222222222222222,
              "#7201a8"
             ],
             [
              0.3333333333333333,
              "#9c179e"
             ],
             [
              0.4444444444444444,
              "#bd3786"
             ],
             [
              0.5555555555555556,
              "#d8576b"
             ],
             [
              0.6666666666666666,
              "#ed7953"
             ],
             [
              0.7777777777777778,
              "#fb9f3a"
             ],
             [
              0.8888888888888888,
              "#fdca26"
             ],
             [
              1,
              "#f0f921"
             ]
            ],
            "type": "histogram2d"
           }
          ],
          "histogram2dcontour": [
           {
            "colorbar": {
             "outlinewidth": 0,
             "ticks": ""
            },
            "colorscale": [
             [
              0,
              "#0d0887"
             ],
             [
              0.1111111111111111,
              "#46039f"
             ],
             [
              0.2222222222222222,
              "#7201a8"
             ],
             [
              0.3333333333333333,
              "#9c179e"
             ],
             [
              0.4444444444444444,
              "#bd3786"
             ],
             [
              0.5555555555555556,
              "#d8576b"
             ],
             [
              0.6666666666666666,
              "#ed7953"
             ],
             [
              0.7777777777777778,
              "#fb9f3a"
             ],
             [
              0.8888888888888888,
              "#fdca26"
             ],
             [
              1,
              "#f0f921"
             ]
            ],
            "type": "histogram2dcontour"
           }
          ],
          "mesh3d": [
           {
            "colorbar": {
             "outlinewidth": 0,
             "ticks": ""
            },
            "type": "mesh3d"
           }
          ],
          "parcoords": [
           {
            "line": {
             "colorbar": {
              "outlinewidth": 0,
              "ticks": ""
             }
            },
            "type": "parcoords"
           }
          ],
          "pie": [
           {
            "automargin": true,
            "type": "pie"
           }
          ],
          "scatter": [
           {
            "marker": {
             "colorbar": {
              "outlinewidth": 0,
              "ticks": ""
             }
            },
            "type": "scatter"
           }
          ],
          "scatter3d": [
           {
            "line": {
             "colorbar": {
              "outlinewidth": 0,
              "ticks": ""
             }
            },
            "marker": {
             "colorbar": {
              "outlinewidth": 0,
              "ticks": ""
             }
            },
            "type": "scatter3d"
           }
          ],
          "scattercarpet": [
           {
            "marker": {
             "colorbar": {
              "outlinewidth": 0,
              "ticks": ""
             }
            },
            "type": "scattercarpet"
           }
          ],
          "scattergeo": [
           {
            "marker": {
             "colorbar": {
              "outlinewidth": 0,
              "ticks": ""
             }
            },
            "type": "scattergeo"
           }
          ],
          "scattergl": [
           {
            "marker": {
             "colorbar": {
              "outlinewidth": 0,
              "ticks": ""
             }
            },
            "type": "scattergl"
           }
          ],
          "scattermapbox": [
           {
            "marker": {
             "colorbar": {
              "outlinewidth": 0,
              "ticks": ""
             }
            },
            "type": "scattermapbox"
           }
          ],
          "scatterpolar": [
           {
            "marker": {
             "colorbar": {
              "outlinewidth": 0,
              "ticks": ""
             }
            },
            "type": "scatterpolar"
           }
          ],
          "scatterpolargl": [
           {
            "marker": {
             "colorbar": {
              "outlinewidth": 0,
              "ticks": ""
             }
            },
            "type": "scatterpolargl"
           }
          ],
          "scatterternary": [
           {
            "marker": {
             "colorbar": {
              "outlinewidth": 0,
              "ticks": ""
             }
            },
            "type": "scatterternary"
           }
          ],
          "surface": [
           {
            "colorbar": {
             "outlinewidth": 0,
             "ticks": ""
            },
            "colorscale": [
             [
              0,
              "#0d0887"
             ],
             [
              0.1111111111111111,
              "#46039f"
             ],
             [
              0.2222222222222222,
              "#7201a8"
             ],
             [
              0.3333333333333333,
              "#9c179e"
             ],
             [
              0.4444444444444444,
              "#bd3786"
             ],
             [
              0.5555555555555556,
              "#d8576b"
             ],
             [
              0.6666666666666666,
              "#ed7953"
             ],
             [
              0.7777777777777778,
              "#fb9f3a"
             ],
             [
              0.8888888888888888,
              "#fdca26"
             ],
             [
              1,
              "#f0f921"
             ]
            ],
            "type": "surface"
           }
          ],
          "table": [
           {
            "cells": {
             "fill": {
              "color": "#EBF0F8"
             },
             "line": {
              "color": "white"
             }
            },
            "header": {
             "fill": {
              "color": "#C8D4E3"
             },
             "line": {
              "color": "white"
             }
            },
            "type": "table"
           }
          ]
         },
         "layout": {
          "annotationdefaults": {
           "arrowcolor": "#2a3f5f",
           "arrowhead": 0,
           "arrowwidth": 1
          },
          "coloraxis": {
           "colorbar": {
            "outlinewidth": 0,
            "ticks": ""
           }
          },
          "colorscale": {
           "diverging": [
            [
             0,
             "#8e0152"
            ],
            [
             0.1,
             "#c51b7d"
            ],
            [
             0.2,
             "#de77ae"
            ],
            [
             0.3,
             "#f1b6da"
            ],
            [
             0.4,
             "#fde0ef"
            ],
            [
             0.5,
             "#f7f7f7"
            ],
            [
             0.6,
             "#e6f5d0"
            ],
            [
             0.7,
             "#b8e186"
            ],
            [
             0.8,
             "#7fbc41"
            ],
            [
             0.9,
             "#4d9221"
            ],
            [
             1,
             "#276419"
            ]
           ],
           "sequential": [
            [
             0,
             "#0d0887"
            ],
            [
             0.1111111111111111,
             "#46039f"
            ],
            [
             0.2222222222222222,
             "#7201a8"
            ],
            [
             0.3333333333333333,
             "#9c179e"
            ],
            [
             0.4444444444444444,
             "#bd3786"
            ],
            [
             0.5555555555555556,
             "#d8576b"
            ],
            [
             0.6666666666666666,
             "#ed7953"
            ],
            [
             0.7777777777777778,
             "#fb9f3a"
            ],
            [
             0.8888888888888888,
             "#fdca26"
            ],
            [
             1,
             "#f0f921"
            ]
           ],
           "sequentialminus": [
            [
             0,
             "#0d0887"
            ],
            [
             0.1111111111111111,
             "#46039f"
            ],
            [
             0.2222222222222222,
             "#7201a8"
            ],
            [
             0.3333333333333333,
             "#9c179e"
            ],
            [
             0.4444444444444444,
             "#bd3786"
            ],
            [
             0.5555555555555556,
             "#d8576b"
            ],
            [
             0.6666666666666666,
             "#ed7953"
            ],
            [
             0.7777777777777778,
             "#fb9f3a"
            ],
            [
             0.8888888888888888,
             "#fdca26"
            ],
            [
             1,
             "#f0f921"
            ]
           ]
          },
          "colorway": [
           "#636efa",
           "#EF553B",
           "#00cc96",
           "#ab63fa",
           "#FFA15A",
           "#19d3f3",
           "#FF6692",
           "#B6E880",
           "#FF97FF",
           "#FECB52"
          ],
          "font": {
           "color": "#2a3f5f"
          },
          "geo": {
           "bgcolor": "white",
           "lakecolor": "white",
           "landcolor": "#E5ECF6",
           "showlakes": true,
           "showland": true,
           "subunitcolor": "white"
          },
          "hoverlabel": {
           "align": "left"
          },
          "hovermode": "closest",
          "mapbox": {
           "style": "light"
          },
          "paper_bgcolor": "white",
          "plot_bgcolor": "#E5ECF6",
          "polar": {
           "angularaxis": {
            "gridcolor": "white",
            "linecolor": "white",
            "ticks": ""
           },
           "bgcolor": "#E5ECF6",
           "radialaxis": {
            "gridcolor": "white",
            "linecolor": "white",
            "ticks": ""
           }
          },
          "scene": {
           "xaxis": {
            "backgroundcolor": "#E5ECF6",
            "gridcolor": "white",
            "gridwidth": 2,
            "linecolor": "white",
            "showbackground": true,
            "ticks": "",
            "zerolinecolor": "white"
           },
           "yaxis": {
            "backgroundcolor": "#E5ECF6",
            "gridcolor": "white",
            "gridwidth": 2,
            "linecolor": "white",
            "showbackground": true,
            "ticks": "",
            "zerolinecolor": "white"
           },
           "zaxis": {
            "backgroundcolor": "#E5ECF6",
            "gridcolor": "white",
            "gridwidth": 2,
            "linecolor": "white",
            "showbackground": true,
            "ticks": "",
            "zerolinecolor": "white"
           }
          },
          "shapedefaults": {
           "line": {
            "color": "#2a3f5f"
           }
          },
          "ternary": {
           "aaxis": {
            "gridcolor": "white",
            "linecolor": "white",
            "ticks": ""
           },
           "baxis": {
            "gridcolor": "white",
            "linecolor": "white",
            "ticks": ""
           },
           "bgcolor": "#E5ECF6",
           "caxis": {
            "gridcolor": "white",
            "linecolor": "white",
            "ticks": ""
           }
          },
          "title": {
           "x": 0.05
          },
          "xaxis": {
           "automargin": true,
           "gridcolor": "white",
           "linecolor": "white",
           "ticks": "",
           "title": {
            "standoff": 15
           },
           "zerolinecolor": "white",
           "zerolinewidth": 2
          },
          "yaxis": {
           "automargin": true,
           "gridcolor": "white",
           "linecolor": "white",
           "ticks": "",
           "title": {
            "standoff": 15
           },
           "zerolinecolor": "white",
           "zerolinewidth": 2
          }
         }
        },
        "width": 800
       }
      }
     },
     "metadata": {}
    }
   ],
   "source": [
    "import plotly.express as px\n",
    "fig = px.treemap(dataset_km_sub_concat, path=['cluster', 'residencia_provincia_nombre'], values='confirmados')\n",
    "fig.update_layout(autosize=False,width=800,height=700)\n",
    "\n",
    "fig.show()"
   ]
  },
  {
   "cell_type": "code",
   "execution_count": 40,
   "metadata": {},
   "outputs": [
    {
     "output_type": "display_data",
     "data": {
      "application/vnd.plotly.v1+json": {
       "config": {
        "linkText": "Export to plot.ly",
        "plotlyServerURL": "https://plot.ly",
        "showLink": false
       },
       "data": [
        {
         "marker": {
          "color": [
           1,
           2,
           0,
           0,
           0,
           0,
           2,
           0,
           0,
           0,
           0,
           0,
           0,
           0,
           0,
           0,
           0,
           0,
           0,
           0,
           2,
           0,
           0,
           0
          ],
          "colorscale": [
           [
            0,
            "rgb(12,51,131)"
           ],
           [
            0.25,
            "rgb(10,136,186)"
           ],
           [
            0.5,
            "rgb(242,211,56)"
           ],
           [
            0.75,
            "rgb(242,143,56)"
           ],
           [
            1,
            "rgb(217,30,30)"
           ]
          ],
          "showscale": false,
          "size": 8
         },
         "mode": "markers",
         "text": [
          "Buenos Aires",
          "CABA",
          "Catamarca",
          "Chaco",
          "Chubut",
          "Corrientes",
          "Córdoba",
          "Entre Ríos",
          "Formosa",
          "Jujuy",
          "La Pampa",
          "La Rioja",
          "Mendoza",
          "Misiones",
          "Neuquén",
          "Río Negro",
          "Salta",
          "San Juan",
          "San Luis",
          "Santa Cruz",
          "Santa Fe",
          "Santiago del Estero",
          "Tierra del Fuego",
          "Tucumán"
         ],
         "type": "scatter",
         "x": [
          20171,
          6005,
          1,
          558,
          196,
          47,
          1333,
          465,
          3,
          753,
          55,
          284,
          1007,
          92,
          439,
          643,
          914,
          79,
          53,
          162,
          1418,
          134,
          144,
          757
         ],
         "y": [
          71.63274621681965,
          76.69131886477463,
          97,
          65.4910394265233,
          70.04081632653062,
          67.7872340425532,
          73.18154538634658,
          71.32903225806452,
          64.33333333333333,
          66.74335106382979,
          71.98181818181818,
          66.69366197183099,
          72.35849056603773,
          58.44565217391305,
          68.4373576309795,
          69.9284603421462,
          66.09309967141293,
          74.49367088607595,
          71.37735849056604,
          67.51234567901234,
          73.24188998589563,
          65.61940298507463,
          65.63888888888889,
          66.30250990752972
         ]
        }
       ],
       "layout": {
        "autosize": false,
        "height": 600,
        "template": {
         "data": {
          "bar": [
           {
            "error_x": {
             "color": "#2a3f5f"
            },
            "error_y": {
             "color": "#2a3f5f"
            },
            "marker": {
             "line": {
              "color": "#E5ECF6",
              "width": 0.5
             }
            },
            "type": "bar"
           }
          ],
          "barpolar": [
           {
            "marker": {
             "line": {
              "color": "#E5ECF6",
              "width": 0.5
             }
            },
            "type": "barpolar"
           }
          ],
          "carpet": [
           {
            "aaxis": {
             "endlinecolor": "#2a3f5f",
             "gridcolor": "white",
             "linecolor": "white",
             "minorgridcolor": "white",
             "startlinecolor": "#2a3f5f"
            },
            "baxis": {
             "endlinecolor": "#2a3f5f",
             "gridcolor": "white",
             "linecolor": "white",
             "minorgridcolor": "white",
             "startlinecolor": "#2a3f5f"
            },
            "type": "carpet"
           }
          ],
          "choropleth": [
           {
            "colorbar": {
             "outlinewidth": 0,
             "ticks": ""
            },
            "type": "choropleth"
           }
          ],
          "contour": [
           {
            "colorbar": {
             "outlinewidth": 0,
             "ticks": ""
            },
            "colorscale": [
             [
              0,
              "#0d0887"
             ],
             [
              0.1111111111111111,
              "#46039f"
             ],
             [
              0.2222222222222222,
              "#7201a8"
             ],
             [
              0.3333333333333333,
              "#9c179e"
             ],
             [
              0.4444444444444444,
              "#bd3786"
             ],
             [
              0.5555555555555556,
              "#d8576b"
             ],
             [
              0.6666666666666666,
              "#ed7953"
             ],
             [
              0.7777777777777778,
              "#fb9f3a"
             ],
             [
              0.8888888888888888,
              "#fdca26"
             ],
             [
              1,
              "#f0f921"
             ]
            ],
            "type": "contour"
           }
          ],
          "contourcarpet": [
           {
            "colorbar": {
             "outlinewidth": 0,
             "ticks": ""
            },
            "type": "contourcarpet"
           }
          ],
          "heatmap": [
           {
            "colorbar": {
             "outlinewidth": 0,
             "ticks": ""
            },
            "colorscale": [
             [
              0,
              "#0d0887"
             ],
             [
              0.1111111111111111,
              "#46039f"
             ],
             [
              0.2222222222222222,
              "#7201a8"
             ],
             [
              0.3333333333333333,
              "#9c179e"
             ],
             [
              0.4444444444444444,
              "#bd3786"
             ],
             [
              0.5555555555555556,
              "#d8576b"
             ],
             [
              0.6666666666666666,
              "#ed7953"
             ],
             [
              0.7777777777777778,
              "#fb9f3a"
             ],
             [
              0.8888888888888888,
              "#fdca26"
             ],
             [
              1,
              "#f0f921"
             ]
            ],
            "type": "heatmap"
           }
          ],
          "heatmapgl": [
           {
            "colorbar": {
             "outlinewidth": 0,
             "ticks": ""
            },
            "colorscale": [
             [
              0,
              "#0d0887"
             ],
             [
              0.1111111111111111,
              "#46039f"
             ],
             [
              0.2222222222222222,
              "#7201a8"
             ],
             [
              0.3333333333333333,
              "#9c179e"
             ],
             [
              0.4444444444444444,
              "#bd3786"
             ],
             [
              0.5555555555555556,
              "#d8576b"
             ],
             [
              0.6666666666666666,
              "#ed7953"
             ],
             [
              0.7777777777777778,
              "#fb9f3a"
             ],
             [
              0.8888888888888888,
              "#fdca26"
             ],
             [
              1,
              "#f0f921"
             ]
            ],
            "type": "heatmapgl"
           }
          ],
          "histogram": [
           {
            "marker": {
             "colorbar": {
              "outlinewidth": 0,
              "ticks": ""
             }
            },
            "type": "histogram"
           }
          ],
          "histogram2d": [
           {
            "colorbar": {
             "outlinewidth": 0,
             "ticks": ""
            },
            "colorscale": [
             [
              0,
              "#0d0887"
             ],
             [
              0.1111111111111111,
              "#46039f"
             ],
             [
              0.2222222222222222,
              "#7201a8"
             ],
             [
              0.3333333333333333,
              "#9c179e"
             ],
             [
              0.4444444444444444,
              "#bd3786"
             ],
             [
              0.5555555555555556,
              "#d8576b"
             ],
             [
              0.6666666666666666,
              "#ed7953"
             ],
             [
              0.7777777777777778,
              "#fb9f3a"
             ],
             [
              0.8888888888888888,
              "#fdca26"
             ],
             [
              1,
              "#f0f921"
             ]
            ],
            "type": "histogram2d"
           }
          ],
          "histogram2dcontour": [
           {
            "colorbar": {
             "outlinewidth": 0,
             "ticks": ""
            },
            "colorscale": [
             [
              0,
              "#0d0887"
             ],
             [
              0.1111111111111111,
              "#46039f"
             ],
             [
              0.2222222222222222,
              "#7201a8"
             ],
             [
              0.3333333333333333,
              "#9c179e"
             ],
             [
              0.4444444444444444,
              "#bd3786"
             ],
             [
              0.5555555555555556,
              "#d8576b"
             ],
             [
              0.6666666666666666,
              "#ed7953"
             ],
             [
              0.7777777777777778,
              "#fb9f3a"
             ],
             [
              0.8888888888888888,
              "#fdca26"
             ],
             [
              1,
              "#f0f921"
             ]
            ],
            "type": "histogram2dcontour"
           }
          ],
          "mesh3d": [
           {
            "colorbar": {
             "outlinewidth": 0,
             "ticks": ""
            },
            "type": "mesh3d"
           }
          ],
          "parcoords": [
           {
            "line": {
             "colorbar": {
              "outlinewidth": 0,
              "ticks": ""
             }
            },
            "type": "parcoords"
           }
          ],
          "pie": [
           {
            "automargin": true,
            "type": "pie"
           }
          ],
          "scatter": [
           {
            "marker": {
             "colorbar": {
              "outlinewidth": 0,
              "ticks": ""
             }
            },
            "type": "scatter"
           }
          ],
          "scatter3d": [
           {
            "line": {
             "colorbar": {
              "outlinewidth": 0,
              "ticks": ""
             }
            },
            "marker": {
             "colorbar": {
              "outlinewidth": 0,
              "ticks": ""
             }
            },
            "type": "scatter3d"
           }
          ],
          "scattercarpet": [
           {
            "marker": {
             "colorbar": {
              "outlinewidth": 0,
              "ticks": ""
             }
            },
            "type": "scattercarpet"
           }
          ],
          "scattergeo": [
           {
            "marker": {
             "colorbar": {
              "outlinewidth": 0,
              "ticks": ""
             }
            },
            "type": "scattergeo"
           }
          ],
          "scattergl": [
           {
            "marker": {
             "colorbar": {
              "outlinewidth": 0,
              "ticks": ""
             }
            },
            "type": "scattergl"
           }
          ],
          "scattermapbox": [
           {
            "marker": {
             "colorbar": {
              "outlinewidth": 0,
              "ticks": ""
             }
            },
            "type": "scattermapbox"
           }
          ],
          "scatterpolar": [
           {
            "marker": {
             "colorbar": {
              "outlinewidth": 0,
              "ticks": ""
             }
            },
            "type": "scatterpolar"
           }
          ],
          "scatterpolargl": [
           {
            "marker": {
             "colorbar": {
              "outlinewidth": 0,
              "ticks": ""
             }
            },
            "type": "scatterpolargl"
           }
          ],
          "scatterternary": [
           {
            "marker": {
             "colorbar": {
              "outlinewidth": 0,
              "ticks": ""
             }
            },
            "type": "scatterternary"
           }
          ],
          "surface": [
           {
            "colorbar": {
             "outlinewidth": 0,
             "ticks": ""
            },
            "colorscale": [
             [
              0,
              "#0d0887"
             ],
             [
              0.1111111111111111,
              "#46039f"
             ],
             [
              0.2222222222222222,
              "#7201a8"
             ],
             [
              0.3333333333333333,
              "#9c179e"
             ],
             [
              0.4444444444444444,
              "#bd3786"
             ],
             [
              0.5555555555555556,
              "#d8576b"
             ],
             [
              0.6666666666666666,
              "#ed7953"
             ],
             [
              0.7777777777777778,
              "#fb9f3a"
             ],
             [
              0.8888888888888888,
              "#fdca26"
             ],
             [
              1,
              "#f0f921"
             ]
            ],
            "type": "surface"
           }
          ],
          "table": [
           {
            "cells": {
             "fill": {
              "color": "#EBF0F8"
             },
             "line": {
              "color": "white"
             }
            },
            "header": {
             "fill": {
              "color": "#C8D4E3"
             },
             "line": {
              "color": "white"
             }
            },
            "type": "table"
           }
          ]
         },
         "layout": {
          "annotationdefaults": {
           "arrowcolor": "#2a3f5f",
           "arrowhead": 0,
           "arrowwidth": 1
          },
          "coloraxis": {
           "colorbar": {
            "outlinewidth": 0,
            "ticks": ""
           }
          },
          "colorscale": {
           "diverging": [
            [
             0,
             "#8e0152"
            ],
            [
             0.1,
             "#c51b7d"
            ],
            [
             0.2,
             "#de77ae"
            ],
            [
             0.3,
             "#f1b6da"
            ],
            [
             0.4,
             "#fde0ef"
            ],
            [
             0.5,
             "#f7f7f7"
            ],
            [
             0.6,
             "#e6f5d0"
            ],
            [
             0.7,
             "#b8e186"
            ],
            [
             0.8,
             "#7fbc41"
            ],
            [
             0.9,
             "#4d9221"
            ],
            [
             1,
             "#276419"
            ]
           ],
           "sequential": [
            [
             0,
             "#0d0887"
            ],
            [
             0.1111111111111111,
             "#46039f"
            ],
            [
             0.2222222222222222,
             "#7201a8"
            ],
            [
             0.3333333333333333,
             "#9c179e"
            ],
            [
             0.4444444444444444,
             "#bd3786"
            ],
            [
             0.5555555555555556,
             "#d8576b"
            ],
            [
             0.6666666666666666,
             "#ed7953"
            ],
            [
             0.7777777777777778,
             "#fb9f3a"
            ],
            [
             0.8888888888888888,
             "#fdca26"
            ],
            [
             1,
             "#f0f921"
            ]
           ],
           "sequentialminus": [
            [
             0,
             "#0d0887"
            ],
            [
             0.1111111111111111,
             "#46039f"
            ],
            [
             0.2222222222222222,
             "#7201a8"
            ],
            [
             0.3333333333333333,
             "#9c179e"
            ],
            [
             0.4444444444444444,
             "#bd3786"
            ],
            [
             0.5555555555555556,
             "#d8576b"
            ],
            [
             0.6666666666666666,
             "#ed7953"
            ],
            [
             0.7777777777777778,
             "#fb9f3a"
            ],
            [
             0.8888888888888888,
             "#fdca26"
            ],
            [
             1,
             "#f0f921"
            ]
           ]
          },
          "colorway": [
           "#636efa",
           "#EF553B",
           "#00cc96",
           "#ab63fa",
           "#FFA15A",
           "#19d3f3",
           "#FF6692",
           "#B6E880",
           "#FF97FF",
           "#FECB52"
          ],
          "font": {
           "color": "#2a3f5f"
          },
          "geo": {
           "bgcolor": "white",
           "lakecolor": "white",
           "landcolor": "#E5ECF6",
           "showlakes": true,
           "showland": true,
           "subunitcolor": "white"
          },
          "hoverlabel": {
           "align": "left"
          },
          "hovermode": "closest",
          "mapbox": {
           "style": "light"
          },
          "paper_bgcolor": "white",
          "plot_bgcolor": "#E5ECF6",
          "polar": {
           "angularaxis": {
            "gridcolor": "white",
            "linecolor": "white",
            "ticks": ""
           },
           "bgcolor": "#E5ECF6",
           "radialaxis": {
            "gridcolor": "white",
            "linecolor": "white",
            "ticks": ""
           }
          },
          "scene": {
           "xaxis": {
            "backgroundcolor": "#E5ECF6",
            "gridcolor": "white",
            "gridwidth": 2,
            "linecolor": "white",
            "showbackground": true,
            "ticks": "",
            "zerolinecolor": "white"
           },
           "yaxis": {
            "backgroundcolor": "#E5ECF6",
            "gridcolor": "white",
            "gridwidth": 2,
            "linecolor": "white",
            "showbackground": true,
            "ticks": "",
            "zerolinecolor": "white"
           },
           "zaxis": {
            "backgroundcolor": "#E5ECF6",
            "gridcolor": "white",
            "gridwidth": 2,
            "linecolor": "white",
            "showbackground": true,
            "ticks": "",
            "zerolinecolor": "white"
           }
          },
          "shapedefaults": {
           "line": {
            "color": "#2a3f5f"
           }
          },
          "ternary": {
           "aaxis": {
            "gridcolor": "white",
            "linecolor": "white",
            "ticks": ""
           },
           "baxis": {
            "gridcolor": "white",
            "linecolor": "white",
            "ticks": ""
           },
           "bgcolor": "#E5ECF6",
           "caxis": {
            "gridcolor": "white",
            "linecolor": "white",
            "ticks": ""
           }
          },
          "title": {
           "x": 0.05
          },
          "xaxis": {
           "automargin": true,
           "gridcolor": "white",
           "linecolor": "white",
           "ticks": "",
           "title": {
            "standoff": 15
           },
           "zerolinecolor": "white",
           "zerolinewidth": 2
          },
          "yaxis": {
           "automargin": true,
           "gridcolor": "white",
           "linecolor": "white",
           "ticks": "",
           "title": {
            "standoff": 15
           },
           "zerolinecolor": "white",
           "zerolinewidth": 2
          }
         }
        },
        "title": {
         "font": {
          "size": 20
         },
         "text": "Clustering K means"
        },
        "width": 600,
        "xaxis": {
         "title": {
          "text": "cuidado_intensivo"
         }
        },
        "yaxis": {
         "title": {
          "text": "edad_promedio"
         }
        }
       }
      }
     },
     "metadata": {}
    }
   ],
   "source": [
    "data=[]\n",
    "\n",
    "kmean_clusters = go.Scatter(x=dataset_km[\"fallecidos\"], y=dataset_km[\"edad_promedio\"],\n",
    "                                mode='markers',\n",
    "                                text= dataset_final.loc[:,'residencia_provincia_nombre'],\n",
    "                                marker=dict(\n",
    "                                size=8,\n",
    "                                color = clusters.astype(np.float), #set color equal to a variable\n",
    "                                colorscale='Portland',\n",
    "                                showscale=False)\n",
    "                           )\n",
    "\n",
    "data=[kmean_clusters]\n",
    "\n",
    "layout = go.Layout(title=\"Clustering K means\",titlefont=dict(size=20),\n",
    "                xaxis=dict(title=\"cuidado_intensivo\"),\n",
    "                yaxis=dict(title=\"edad_promedio\"),\n",
    "                autosize=False, width=600,height=600)\n",
    "\n",
    "fig = go.Figure(data=data, layout=layout)\n",
    "\n",
    "iplot(fig)"
   ]
  },
  {
   "source": [
    "### Análisis por pairplot"
   ],
   "cell_type": "markdown",
   "metadata": {}
  },
  {
   "cell_type": "code",
   "execution_count": 32,
   "metadata": {},
   "outputs": [
    {
     "output_type": "execute_result",
     "data": {
      "text/plain": [
       "<seaborn.axisgrid.PairGrid at 0x24a4ceb2c08>"
      ]
     },
     "metadata": {},
     "execution_count": 32
    },
    {
     "output_type": "display_data",
     "data": {
      "text/plain": "<Figure size 1440x1440 with 0 Axes>"
     },
     "metadata": {}
    },
    {
     "output_type": "display_data",
     "data": {
      "text/plain": "<Figure size 402.375x360 with 6 Axes>",
      "image/svg+xml": "<?xml version=\"1.0\" encoding=\"utf-8\" standalone=\"no\"?>\r\n<!DOCTYPE svg PUBLIC \"-//W3C//DTD SVG 1.1//EN\"\r\n  \"http://www.w3.org/Graphics/SVG/1.1/DTD/svg11.dtd\">\r\n<!-- Created with matplotlib (https://matplotlib.org/) -->\r\n<svg height=\"369.75625pt\" version=\"1.1\" viewBox=\"0 0 429.272917 369.75625\" width=\"429.272917pt\" xmlns=\"http://www.w3.org/2000/svg\" xmlns:xlink=\"http://www.w3.org/1999/xlink\">\r\n <defs>\r\n  <style type=\"text/css\">\r\n*{stroke-linecap:butt;stroke-linejoin:round;}\r\n  </style>\r\n </defs>\r\n <g id=\"figure_1\">\r\n  <g id=\"patch_1\">\r\n   <path d=\"M 0 369.75625 \r\nL 429.272917 369.75625 \r\nL 429.272917 -0 \r\nL 0 -0 \r\nz\r\n\" style=\"fill:none;\"/>\r\n  </g>\r\n  <g id=\"axes_1\">\r\n   <g id=\"patch_2\">\r\n    <path d=\"M 66.053125 164.7 \r\nL 212.075378 164.7 \r\nL 212.075378 7.2 \r\nL 66.053125 7.2 \r\nz\r\n\" style=\"fill:#ffffff;\"/>\r\n   </g>\r\n   <g id=\"matplotlib.axis_1\">\r\n    <g id=\"xtick_1\">\r\n     <g id=\"line2d_1\">\r\n      <defs>\r\n       <path d=\"M 0 0 \r\nL 0 3.5 \r\n\" id=\"m3ae7f74568\" style=\"stroke:#000000;stroke-width:0.8;\"/>\r\n      </defs>\r\n      <g>\r\n       <use style=\"stroke:#000000;stroke-width:0.8;\" x=\"75.585979\" xlink:href=\"#m3ae7f74568\" y=\"164.7\"/>\r\n      </g>\r\n     </g>\r\n    </g>\r\n    <g id=\"xtick_2\">\r\n     <g id=\"line2d_2\">\r\n      <g>\r\n       <use style=\"stroke:#000000;stroke-width:0.8;\" x=\"124.364296\" xlink:href=\"#m3ae7f74568\" y=\"164.7\"/>\r\n      </g>\r\n     </g>\r\n    </g>\r\n    <g id=\"xtick_3\">\r\n     <g id=\"line2d_3\">\r\n      <g>\r\n       <use style=\"stroke:#000000;stroke-width:0.8;\" x=\"173.142612\" xlink:href=\"#m3ae7f74568\" y=\"164.7\"/>\r\n      </g>\r\n     </g>\r\n    </g>\r\n   </g>\r\n   <g id=\"matplotlib.axis_2\">\r\n    <g id=\"ytick_1\">\r\n     <g id=\"line2d_4\">\r\n      <defs>\r\n       <path d=\"M 0 0 \r\nL -3.5 0 \r\n\" id=\"m66cce2c5f6\" style=\"stroke:#000000;stroke-width:0.8;\"/>\r\n      </defs>\r\n      <g>\r\n       <use style=\"stroke:#000000;stroke-width:0.8;\" x=\"66.053125\" xlink:href=\"#m66cce2c5f6\" y=\"157.579914\"/>\r\n      </g>\r\n     </g>\r\n     <g id=\"text_1\">\r\n      <!-- 0 -->\r\n      <defs>\r\n       <path d=\"M 31.78125 66.40625 \r\nQ 24.171875 66.40625 20.328125 58.90625 \r\nQ 16.5 51.421875 16.5 36.375 \r\nQ 16.5 21.390625 20.328125 13.890625 \r\nQ 24.171875 6.390625 31.78125 6.390625 \r\nQ 39.453125 6.390625 43.28125 13.890625 \r\nQ 47.125 21.390625 47.125 36.375 \r\nQ 47.125 51.421875 43.28125 58.90625 \r\nQ 39.453125 66.40625 31.78125 66.40625 \r\nz\r\nM 31.78125 74.21875 \r\nQ 44.046875 74.21875 50.515625 64.515625 \r\nQ 56.984375 54.828125 56.984375 36.375 \r\nQ 56.984375 17.96875 50.515625 8.265625 \r\nQ 44.046875 -1.421875 31.78125 -1.421875 \r\nQ 19.53125 -1.421875 13.0625 8.265625 \r\nQ 6.59375 17.96875 6.59375 36.375 \r\nQ 6.59375 54.828125 13.0625 64.515625 \r\nQ 19.53125 74.21875 31.78125 74.21875 \r\nz\r\n\" id=\"DejaVuSans-48\"/>\r\n      </defs>\r\n      <g transform=\"translate(52.690625 161.379133)scale(0.1 -0.1)\">\r\n       <use xlink:href=\"#DejaVuSans-48\"/>\r\n      </g>\r\n     </g>\r\n    </g>\r\n    <g id=\"ytick_2\">\r\n     <g id=\"line2d_5\">\r\n      <g>\r\n       <use style=\"stroke:#000000;stroke-width:0.8;\" x=\"66.053125\" xlink:href=\"#m66cce2c5f6\" y=\"130.679792\"/>\r\n      </g>\r\n     </g>\r\n     <g id=\"text_2\">\r\n      <!-- 100000 -->\r\n      <defs>\r\n       <path d=\"M 12.40625 8.296875 \r\nL 28.515625 8.296875 \r\nL 28.515625 63.921875 \r\nL 10.984375 60.40625 \r\nL 10.984375 69.390625 \r\nL 28.421875 72.90625 \r\nL 38.28125 72.90625 \r\nL 38.28125 8.296875 \r\nL 54.390625 8.296875 \r\nL 54.390625 0 \r\nL 12.40625 0 \r\nz\r\n\" id=\"DejaVuSans-49\"/>\r\n      </defs>\r\n      <g transform=\"translate(20.878125 134.479011)scale(0.1 -0.1)\">\r\n       <use xlink:href=\"#DejaVuSans-49\"/>\r\n       <use x=\"63.623047\" xlink:href=\"#DejaVuSans-48\"/>\r\n       <use x=\"127.246094\" xlink:href=\"#DejaVuSans-48\"/>\r\n       <use x=\"190.869141\" xlink:href=\"#DejaVuSans-48\"/>\r\n       <use x=\"254.492188\" xlink:href=\"#DejaVuSans-48\"/>\r\n       <use x=\"318.115234\" xlink:href=\"#DejaVuSans-48\"/>\r\n      </g>\r\n     </g>\r\n    </g>\r\n    <g id=\"ytick_3\">\r\n     <g id=\"line2d_6\">\r\n      <g>\r\n       <use style=\"stroke:#000000;stroke-width:0.8;\" x=\"66.053125\" xlink:href=\"#m66cce2c5f6\" y=\"103.77967\"/>\r\n      </g>\r\n     </g>\r\n     <g id=\"text_3\">\r\n      <!-- 200000 -->\r\n      <defs>\r\n       <path d=\"M 19.1875 8.296875 \r\nL 53.609375 8.296875 \r\nL 53.609375 0 \r\nL 7.328125 0 \r\nL 7.328125 8.296875 \r\nQ 12.9375 14.109375 22.625 23.890625 \r\nQ 32.328125 33.6875 34.8125 36.53125 \r\nQ 39.546875 41.84375 41.421875 45.53125 \r\nQ 43.3125 49.21875 43.3125 52.78125 \r\nQ 43.3125 58.59375 39.234375 62.25 \r\nQ 35.15625 65.921875 28.609375 65.921875 \r\nQ 23.96875 65.921875 18.8125 64.3125 \r\nQ 13.671875 62.703125 7.8125 59.421875 \r\nL 7.8125 69.390625 \r\nQ 13.765625 71.78125 18.9375 73 \r\nQ 24.125 74.21875 28.421875 74.21875 \r\nQ 39.75 74.21875 46.484375 68.546875 \r\nQ 53.21875 62.890625 53.21875 53.421875 \r\nQ 53.21875 48.921875 51.53125 44.890625 \r\nQ 49.859375 40.875 45.40625 35.40625 \r\nQ 44.1875 33.984375 37.640625 27.21875 \r\nQ 31.109375 20.453125 19.1875 8.296875 \r\nz\r\n\" id=\"DejaVuSans-50\"/>\r\n      </defs>\r\n      <g transform=\"translate(20.878125 107.578889)scale(0.1 -0.1)\">\r\n       <use xlink:href=\"#DejaVuSans-50\"/>\r\n       <use x=\"63.623047\" xlink:href=\"#DejaVuSans-48\"/>\r\n       <use x=\"127.246094\" xlink:href=\"#DejaVuSans-48\"/>\r\n       <use x=\"190.869141\" xlink:href=\"#DejaVuSans-48\"/>\r\n       <use x=\"254.492188\" xlink:href=\"#DejaVuSans-48\"/>\r\n       <use x=\"318.115234\" xlink:href=\"#DejaVuSans-48\"/>\r\n      </g>\r\n     </g>\r\n    </g>\r\n    <g id=\"ytick_4\">\r\n     <g id=\"line2d_7\">\r\n      <g>\r\n       <use style=\"stroke:#000000;stroke-width:0.8;\" x=\"66.053125\" xlink:href=\"#m66cce2c5f6\" y=\"76.879548\"/>\r\n      </g>\r\n     </g>\r\n     <g id=\"text_4\">\r\n      <!-- 300000 -->\r\n      <defs>\r\n       <path d=\"M 40.578125 39.3125 \r\nQ 47.65625 37.796875 51.625 33 \r\nQ 55.609375 28.21875 55.609375 21.1875 \r\nQ 55.609375 10.40625 48.1875 4.484375 \r\nQ 40.765625 -1.421875 27.09375 -1.421875 \r\nQ 22.515625 -1.421875 17.65625 -0.515625 \r\nQ 12.796875 0.390625 7.625 2.203125 \r\nL 7.625 11.71875 \r\nQ 11.71875 9.328125 16.59375 8.109375 \r\nQ 21.484375 6.890625 26.8125 6.890625 \r\nQ 36.078125 6.890625 40.9375 10.546875 \r\nQ 45.796875 14.203125 45.796875 21.1875 \r\nQ 45.796875 27.640625 41.28125 31.265625 \r\nQ 36.765625 34.90625 28.71875 34.90625 \r\nL 20.21875 34.90625 \r\nL 20.21875 43.015625 \r\nL 29.109375 43.015625 \r\nQ 36.375 43.015625 40.234375 45.921875 \r\nQ 44.09375 48.828125 44.09375 54.296875 \r\nQ 44.09375 59.90625 40.109375 62.90625 \r\nQ 36.140625 65.921875 28.71875 65.921875 \r\nQ 24.65625 65.921875 20.015625 65.03125 \r\nQ 15.375 64.15625 9.8125 62.3125 \r\nL 9.8125 71.09375 \r\nQ 15.4375 72.65625 20.34375 73.4375 \r\nQ 25.25 74.21875 29.59375 74.21875 \r\nQ 40.828125 74.21875 47.359375 69.109375 \r\nQ 53.90625 64.015625 53.90625 55.328125 \r\nQ 53.90625 49.265625 50.4375 45.09375 \r\nQ 46.96875 40.921875 40.578125 39.3125 \r\nz\r\n\" id=\"DejaVuSans-51\"/>\r\n      </defs>\r\n      <g transform=\"translate(20.878125 80.678767)scale(0.1 -0.1)\">\r\n       <use xlink:href=\"#DejaVuSans-51\"/>\r\n       <use x=\"63.623047\" xlink:href=\"#DejaVuSans-48\"/>\r\n       <use x=\"127.246094\" xlink:href=\"#DejaVuSans-48\"/>\r\n       <use x=\"190.869141\" xlink:href=\"#DejaVuSans-48\"/>\r\n       <use x=\"254.492188\" xlink:href=\"#DejaVuSans-48\"/>\r\n       <use x=\"318.115234\" xlink:href=\"#DejaVuSans-48\"/>\r\n      </g>\r\n     </g>\r\n    </g>\r\n    <g id=\"ytick_5\">\r\n     <g id=\"line2d_8\">\r\n      <g>\r\n       <use style=\"stroke:#000000;stroke-width:0.8;\" x=\"66.053125\" xlink:href=\"#m66cce2c5f6\" y=\"49.979426\"/>\r\n      </g>\r\n     </g>\r\n     <g id=\"text_5\">\r\n      <!-- 400000 -->\r\n      <defs>\r\n       <path d=\"M 37.796875 64.3125 \r\nL 12.890625 25.390625 \r\nL 37.796875 25.390625 \r\nz\r\nM 35.203125 72.90625 \r\nL 47.609375 72.90625 \r\nL 47.609375 25.390625 \r\nL 58.015625 25.390625 \r\nL 58.015625 17.1875 \r\nL 47.609375 17.1875 \r\nL 47.609375 0 \r\nL 37.796875 0 \r\nL 37.796875 17.1875 \r\nL 4.890625 17.1875 \r\nL 4.890625 26.703125 \r\nz\r\n\" id=\"DejaVuSans-52\"/>\r\n      </defs>\r\n      <g transform=\"translate(20.878125 53.778644)scale(0.1 -0.1)\">\r\n       <use xlink:href=\"#DejaVuSans-52\"/>\r\n       <use x=\"63.623047\" xlink:href=\"#DejaVuSans-48\"/>\r\n       <use x=\"127.246094\" xlink:href=\"#DejaVuSans-48\"/>\r\n       <use x=\"190.869141\" xlink:href=\"#DejaVuSans-48\"/>\r\n       <use x=\"254.492188\" xlink:href=\"#DejaVuSans-48\"/>\r\n       <use x=\"318.115234\" xlink:href=\"#DejaVuSans-48\"/>\r\n      </g>\r\n     </g>\r\n    </g>\r\n    <g id=\"ytick_6\">\r\n     <g id=\"line2d_9\">\r\n      <g>\r\n       <use style=\"stroke:#000000;stroke-width:0.8;\" x=\"66.053125\" xlink:href=\"#m66cce2c5f6\" y=\"23.079304\"/>\r\n      </g>\r\n     </g>\r\n     <g id=\"text_6\">\r\n      <!-- 500000 -->\r\n      <defs>\r\n       <path d=\"M 10.796875 72.90625 \r\nL 49.515625 72.90625 \r\nL 49.515625 64.59375 \r\nL 19.828125 64.59375 \r\nL 19.828125 46.734375 \r\nQ 21.96875 47.46875 24.109375 47.828125 \r\nQ 26.265625 48.1875 28.421875 48.1875 \r\nQ 40.625 48.1875 47.75 41.5 \r\nQ 54.890625 34.8125 54.890625 23.390625 \r\nQ 54.890625 11.625 47.5625 5.09375 \r\nQ 40.234375 -1.421875 26.90625 -1.421875 \r\nQ 22.3125 -1.421875 17.546875 -0.640625 \r\nQ 12.796875 0.140625 7.71875 1.703125 \r\nL 7.71875 11.625 \r\nQ 12.109375 9.234375 16.796875 8.0625 \r\nQ 21.484375 6.890625 26.703125 6.890625 \r\nQ 35.15625 6.890625 40.078125 11.328125 \r\nQ 45.015625 15.765625 45.015625 23.390625 \r\nQ 45.015625 31 40.078125 35.4375 \r\nQ 35.15625 39.890625 26.703125 39.890625 \r\nQ 22.75 39.890625 18.8125 39.015625 \r\nQ 14.890625 38.140625 10.796875 36.28125 \r\nz\r\n\" id=\"DejaVuSans-53\"/>\r\n      </defs>\r\n      <g transform=\"translate(20.878125 26.878522)scale(0.1 -0.1)\">\r\n       <use xlink:href=\"#DejaVuSans-53\"/>\r\n       <use x=\"63.623047\" xlink:href=\"#DejaVuSans-48\"/>\r\n       <use x=\"127.246094\" xlink:href=\"#DejaVuSans-48\"/>\r\n       <use x=\"190.869141\" xlink:href=\"#DejaVuSans-48\"/>\r\n       <use x=\"254.492188\" xlink:href=\"#DejaVuSans-48\"/>\r\n       <use x=\"318.115234\" xlink:href=\"#DejaVuSans-48\"/>\r\n      </g>\r\n     </g>\r\n    </g>\r\n    <g id=\"text_7\">\r\n     <!-- confirmados -->\r\n     <defs>\r\n      <path d=\"M 48.78125 52.59375 \r\nL 48.78125 44.1875 \r\nQ 44.96875 46.296875 41.140625 47.34375 \r\nQ 37.3125 48.390625 33.40625 48.390625 \r\nQ 24.65625 48.390625 19.8125 42.84375 \r\nQ 14.984375 37.3125 14.984375 27.296875 \r\nQ 14.984375 17.28125 19.8125 11.734375 \r\nQ 24.65625 6.203125 33.40625 6.203125 \r\nQ 37.3125 6.203125 41.140625 7.25 \r\nQ 44.96875 8.296875 48.78125 10.40625 \r\nL 48.78125 2.09375 \r\nQ 45.015625 0.34375 40.984375 -0.53125 \r\nQ 36.96875 -1.421875 32.421875 -1.421875 \r\nQ 20.0625 -1.421875 12.78125 6.34375 \r\nQ 5.515625 14.109375 5.515625 27.296875 \r\nQ 5.515625 40.671875 12.859375 48.328125 \r\nQ 20.21875 56 33.015625 56 \r\nQ 37.15625 56 41.109375 55.140625 \r\nQ 45.0625 54.296875 48.78125 52.59375 \r\nz\r\n\" id=\"DejaVuSans-99\"/>\r\n      <path d=\"M 30.609375 48.390625 \r\nQ 23.390625 48.390625 19.1875 42.75 \r\nQ 14.984375 37.109375 14.984375 27.296875 \r\nQ 14.984375 17.484375 19.15625 11.84375 \r\nQ 23.34375 6.203125 30.609375 6.203125 \r\nQ 37.796875 6.203125 41.984375 11.859375 \r\nQ 46.1875 17.53125 46.1875 27.296875 \r\nQ 46.1875 37.015625 41.984375 42.703125 \r\nQ 37.796875 48.390625 30.609375 48.390625 \r\nz\r\nM 30.609375 56 \r\nQ 42.328125 56 49.015625 48.375 \r\nQ 55.71875 40.765625 55.71875 27.296875 \r\nQ 55.71875 13.875 49.015625 6.21875 \r\nQ 42.328125 -1.421875 30.609375 -1.421875 \r\nQ 18.84375 -1.421875 12.171875 6.21875 \r\nQ 5.515625 13.875 5.515625 27.296875 \r\nQ 5.515625 40.765625 12.171875 48.375 \r\nQ 18.84375 56 30.609375 56 \r\nz\r\n\" id=\"DejaVuSans-111\"/>\r\n      <path d=\"M 54.890625 33.015625 \r\nL 54.890625 0 \r\nL 45.90625 0 \r\nL 45.90625 32.71875 \r\nQ 45.90625 40.484375 42.875 44.328125 \r\nQ 39.84375 48.1875 33.796875 48.1875 \r\nQ 26.515625 48.1875 22.3125 43.546875 \r\nQ 18.109375 38.921875 18.109375 30.90625 \r\nL 18.109375 0 \r\nL 9.078125 0 \r\nL 9.078125 54.6875 \r\nL 18.109375 54.6875 \r\nL 18.109375 46.1875 \r\nQ 21.34375 51.125 25.703125 53.5625 \r\nQ 30.078125 56 35.796875 56 \r\nQ 45.21875 56 50.046875 50.171875 \r\nQ 54.890625 44.34375 54.890625 33.015625 \r\nz\r\n\" id=\"DejaVuSans-110\"/>\r\n      <path d=\"M 37.109375 75.984375 \r\nL 37.109375 68.5 \r\nL 28.515625 68.5 \r\nQ 23.6875 68.5 21.796875 66.546875 \r\nQ 19.921875 64.59375 19.921875 59.515625 \r\nL 19.921875 54.6875 \r\nL 34.71875 54.6875 \r\nL 34.71875 47.703125 \r\nL 19.921875 47.703125 \r\nL 19.921875 0 \r\nL 10.890625 0 \r\nL 10.890625 47.703125 \r\nL 2.296875 47.703125 \r\nL 2.296875 54.6875 \r\nL 10.890625 54.6875 \r\nL 10.890625 58.5 \r\nQ 10.890625 67.625 15.140625 71.796875 \r\nQ 19.390625 75.984375 28.609375 75.984375 \r\nz\r\n\" id=\"DejaVuSans-102\"/>\r\n      <path d=\"M 9.421875 54.6875 \r\nL 18.40625 54.6875 \r\nL 18.40625 0 \r\nL 9.421875 0 \r\nz\r\nM 9.421875 75.984375 \r\nL 18.40625 75.984375 \r\nL 18.40625 64.59375 \r\nL 9.421875 64.59375 \r\nz\r\n\" id=\"DejaVuSans-105\"/>\r\n      <path d=\"M 41.109375 46.296875 \r\nQ 39.59375 47.171875 37.8125 47.578125 \r\nQ 36.03125 48 33.890625 48 \r\nQ 26.265625 48 22.1875 43.046875 \r\nQ 18.109375 38.09375 18.109375 28.8125 \r\nL 18.109375 0 \r\nL 9.078125 0 \r\nL 9.078125 54.6875 \r\nL 18.109375 54.6875 \r\nL 18.109375 46.1875 \r\nQ 20.953125 51.171875 25.484375 53.578125 \r\nQ 30.03125 56 36.53125 56 \r\nQ 37.453125 56 38.578125 55.875 \r\nQ 39.703125 55.765625 41.0625 55.515625 \r\nz\r\n\" id=\"DejaVuSans-114\"/>\r\n      <path d=\"M 52 44.1875 \r\nQ 55.375 50.25 60.0625 53.125 \r\nQ 64.75 56 71.09375 56 \r\nQ 79.640625 56 84.28125 50.015625 \r\nQ 88.921875 44.046875 88.921875 33.015625 \r\nL 88.921875 0 \r\nL 79.890625 0 \r\nL 79.890625 32.71875 \r\nQ 79.890625 40.578125 77.09375 44.375 \r\nQ 74.3125 48.1875 68.609375 48.1875 \r\nQ 61.625 48.1875 57.5625 43.546875 \r\nQ 53.515625 38.921875 53.515625 30.90625 \r\nL 53.515625 0 \r\nL 44.484375 0 \r\nL 44.484375 32.71875 \r\nQ 44.484375 40.625 41.703125 44.40625 \r\nQ 38.921875 48.1875 33.109375 48.1875 \r\nQ 26.21875 48.1875 22.15625 43.53125 \r\nQ 18.109375 38.875 18.109375 30.90625 \r\nL 18.109375 0 \r\nL 9.078125 0 \r\nL 9.078125 54.6875 \r\nL 18.109375 54.6875 \r\nL 18.109375 46.1875 \r\nQ 21.1875 51.21875 25.484375 53.609375 \r\nQ 29.78125 56 35.6875 56 \r\nQ 41.65625 56 45.828125 52.96875 \r\nQ 50 49.953125 52 44.1875 \r\nz\r\n\" id=\"DejaVuSans-109\"/>\r\n      <path d=\"M 34.28125 27.484375 \r\nQ 23.390625 27.484375 19.1875 25 \r\nQ 14.984375 22.515625 14.984375 16.5 \r\nQ 14.984375 11.71875 18.140625 8.90625 \r\nQ 21.296875 6.109375 26.703125 6.109375 \r\nQ 34.1875 6.109375 38.703125 11.40625 \r\nQ 43.21875 16.703125 43.21875 25.484375 \r\nL 43.21875 27.484375 \r\nz\r\nM 52.203125 31.203125 \r\nL 52.203125 0 \r\nL 43.21875 0 \r\nL 43.21875 8.296875 \r\nQ 40.140625 3.328125 35.546875 0.953125 \r\nQ 30.953125 -1.421875 24.3125 -1.421875 \r\nQ 15.921875 -1.421875 10.953125 3.296875 \r\nQ 6 8.015625 6 15.921875 \r\nQ 6 25.140625 12.171875 29.828125 \r\nQ 18.359375 34.515625 30.609375 34.515625 \r\nL 43.21875 34.515625 \r\nL 43.21875 35.40625 \r\nQ 43.21875 41.609375 39.140625 45 \r\nQ 35.0625 48.390625 27.6875 48.390625 \r\nQ 23 48.390625 18.546875 47.265625 \r\nQ 14.109375 46.140625 10.015625 43.890625 \r\nL 10.015625 52.203125 \r\nQ 14.9375 54.109375 19.578125 55.046875 \r\nQ 24.21875 56 28.609375 56 \r\nQ 40.484375 56 46.34375 49.84375 \r\nQ 52.203125 43.703125 52.203125 31.203125 \r\nz\r\n\" id=\"DejaVuSans-97\"/>\r\n      <path d=\"M 45.40625 46.390625 \r\nL 45.40625 75.984375 \r\nL 54.390625 75.984375 \r\nL 54.390625 0 \r\nL 45.40625 0 \r\nL 45.40625 8.203125 \r\nQ 42.578125 3.328125 38.25 0.953125 \r\nQ 33.9375 -1.421875 27.875 -1.421875 \r\nQ 17.96875 -1.421875 11.734375 6.484375 \r\nQ 5.515625 14.40625 5.515625 27.296875 \r\nQ 5.515625 40.1875 11.734375 48.09375 \r\nQ 17.96875 56 27.875 56 \r\nQ 33.9375 56 38.25 53.625 \r\nQ 42.578125 51.265625 45.40625 46.390625 \r\nz\r\nM 14.796875 27.296875 \r\nQ 14.796875 17.390625 18.875 11.75 \r\nQ 22.953125 6.109375 30.078125 6.109375 \r\nQ 37.203125 6.109375 41.296875 11.75 \r\nQ 45.40625 17.390625 45.40625 27.296875 \r\nQ 45.40625 37.203125 41.296875 42.84375 \r\nQ 37.203125 48.484375 30.078125 48.484375 \r\nQ 22.953125 48.484375 18.875 42.84375 \r\nQ 14.796875 37.203125 14.796875 27.296875 \r\nz\r\n\" id=\"DejaVuSans-100\"/>\r\n      <path d=\"M 44.28125 53.078125 \r\nL 44.28125 44.578125 \r\nQ 40.484375 46.53125 36.375 47.5 \r\nQ 32.28125 48.484375 27.875 48.484375 \r\nQ 21.1875 48.484375 17.84375 46.4375 \r\nQ 14.5 44.390625 14.5 40.28125 \r\nQ 14.5 37.15625 16.890625 35.375 \r\nQ 19.28125 33.59375 26.515625 31.984375 \r\nL 29.59375 31.296875 \r\nQ 39.15625 29.25 43.1875 25.515625 \r\nQ 47.21875 21.78125 47.21875 15.09375 \r\nQ 47.21875 7.46875 41.1875 3.015625 \r\nQ 35.15625 -1.421875 24.609375 -1.421875 \r\nQ 20.21875 -1.421875 15.453125 -0.5625 \r\nQ 10.6875 0.296875 5.421875 2 \r\nL 5.421875 11.28125 \r\nQ 10.40625 8.6875 15.234375 7.390625 \r\nQ 20.0625 6.109375 24.8125 6.109375 \r\nQ 31.15625 6.109375 34.5625 8.28125 \r\nQ 37.984375 10.453125 37.984375 14.40625 \r\nQ 37.984375 18.0625 35.515625 20.015625 \r\nQ 33.0625 21.96875 24.703125 23.78125 \r\nL 21.578125 24.515625 \r\nQ 13.234375 26.265625 9.515625 29.90625 \r\nQ 5.8125 33.546875 5.8125 39.890625 \r\nQ 5.8125 47.609375 11.28125 51.796875 \r\nQ 16.75 56 26.8125 56 \r\nQ 31.78125 56 36.171875 55.265625 \r\nQ 40.578125 54.546875 44.28125 53.078125 \r\nz\r\n\" id=\"DejaVuSans-115\"/>\r\n     </defs>\r\n     <g transform=\"translate(14.798437 116.817187)rotate(-90)scale(0.1 -0.1)\">\r\n      <use xlink:href=\"#DejaVuSans-99\"/>\r\n      <use x=\"54.980469\" xlink:href=\"#DejaVuSans-111\"/>\r\n      <use x=\"116.162109\" xlink:href=\"#DejaVuSans-110\"/>\r\n      <use x=\"179.541016\" xlink:href=\"#DejaVuSans-102\"/>\r\n      <use x=\"214.746094\" xlink:href=\"#DejaVuSans-105\"/>\r\n      <use x=\"242.529297\" xlink:href=\"#DejaVuSans-114\"/>\r\n      <use x=\"281.892578\" xlink:href=\"#DejaVuSans-109\"/>\r\n      <use x=\"379.304688\" xlink:href=\"#DejaVuSans-97\"/>\r\n      <use x=\"440.583984\" xlink:href=\"#DejaVuSans-100\"/>\r\n      <use x=\"504.060547\" xlink:href=\"#DejaVuSans-111\"/>\r\n      <use x=\"565.242188\" xlink:href=\"#DejaVuSans-115\"/>\r\n     </g>\r\n    </g>\r\n   </g>\r\n   <g id=\"patch_3\">\r\n    <path d=\"M 66.053125 164.7 \r\nL 66.053125 7.2 \r\n\" style=\"fill:none;stroke:#000000;stroke-linecap:square;stroke-linejoin:miter;stroke-width:0.8;\"/>\r\n   </g>\r\n   <g id=\"patch_4\">\r\n    <path d=\"M 66.053125 164.7 \r\nL 212.075378 164.7 \r\n\" style=\"fill:none;stroke:#000000;stroke-linecap:square;stroke-linejoin:miter;stroke-width:0.8;\"/>\r\n   </g>\r\n  </g>\r\n  <g id=\"axes_2\">\r\n   <g id=\"patch_5\">\r\n    <path d=\"M 234.651913 164.7 \r\nL 380.674167 164.7 \r\nL 380.674167 7.2 \r\nL 234.651913 7.2 \r\nz\r\n\" style=\"fill:#ffffff;\"/>\r\n   </g>\r\n   <g id=\"PathCollection_1\">\r\n    <defs>\r\n     <path d=\"M 0 3 \r\nC 0.795609 3 1.55874 2.683901 2.12132 2.12132 \r\nC 2.683901 1.55874 3 0.795609 3 0 \r\nC 3 -0.795609 2.683901 -1.55874 2.12132 -2.12132 \r\nC 1.55874 -2.683901 0.795609 -3 0 -3 \r\nC -0.795609 -3 -1.55874 -2.683901 -2.12132 -2.12132 \r\nC -2.683901 -1.55874 -3 -0.795609 -3 0 \r\nC -3 0.795609 -2.683901 1.55874 -2.12132 2.12132 \r\nC -1.55874 2.683901 -0.795609 3 0 3 \r\nz\r\n\" id=\"m446cc3a3ea\" style=\"stroke:#ffffff;stroke-width:0.75;\"/>\r\n    </defs>\r\n    <g clip-path=\"url(#pc0f27be91b)\">\r\n     <use style=\"fill:#1f77b4;stroke:#ffffff;stroke-width:0.75;\" x=\"298.034909\" xlink:href=\"#m446cc3a3ea\" y=\"119.038764\"/>\r\n     <use style=\"fill:#1f77b4;stroke:#ffffff;stroke-width:0.75;\" x=\"273.425236\" xlink:href=\"#m446cc3a3ea\" y=\"129.179034\"/>\r\n    </g>\r\n   </g>\r\n   <g id=\"PathCollection_2\">\r\n    <defs>\r\n     <path d=\"M 0 3 \r\nC 0.795609 3 1.55874 2.683901 2.12132 2.12132 \r\nC 2.683901 1.55874 3 0.795609 3 0 \r\nC 3 -0.795609 2.683901 -1.55874 2.12132 -2.12132 \r\nC 1.55874 -2.683901 0.795609 -3 0 -3 \r\nC -0.795609 -3 -1.55874 -2.683901 -2.12132 -2.12132 \r\nC -2.683901 -1.55874 -3 -0.795609 -3 0 \r\nC -3 0.795609 -2.683901 1.55874 -2.12132 2.12132 \r\nC -1.55874 2.683901 -0.795609 3 0 3 \r\nz\r\n\" id=\"m8999325a8d\" style=\"stroke:#ffffff;stroke-width:0.75;\"/>\r\n    </defs>\r\n    <g clip-path=\"url(#pc0f27be91b)\">\r\n     <use style=\"fill:#ff7f0e;stroke:#ffffff;stroke-width:0.75;\" x=\"265.822902\" xlink:href=\"#m8999325a8d\" y=\"157.343462\"/>\r\n     <use style=\"fill:#ff7f0e;stroke:#ffffff;stroke-width:0.75;\" x=\"268.811258\" xlink:href=\"#m8999325a8d\" y=\"154.169248\"/>\r\n     <use style=\"fill:#ff7f0e;stroke:#ffffff;stroke-width:0.75;\" x=\"266.869095\" xlink:href=\"#m8999325a8d\" y=\"153.901592\"/>\r\n     <use style=\"fill:#ff7f0e;stroke:#ffffff;stroke-width:0.75;\" x=\"266.069696\" xlink:href=\"#m8999325a8d\" y=\"156.923013\"/>\r\n     <use style=\"fill:#ff7f0e;stroke:#ffffff;stroke-width:0.75;\" x=\"268.312304\" xlink:href=\"#m8999325a8d\" y=\"153.436757\"/>\r\n     <use style=\"fill:#ff7f0e;stroke:#ffffff;stroke-width:0.75;\" x=\"265.833632\" xlink:href=\"#m8999325a8d\" y=\"157.540909\"/>\r\n     <use style=\"fill:#ff7f0e;stroke:#ffffff;stroke-width:0.75;\" x=\"269.85745\" xlink:href=\"#m8999325a8d\" y=\"153.139242\"/>\r\n     <use style=\"fill:#ff7f0e;stroke:#ffffff;stroke-width:0.75;\" x=\"266.112617\" xlink:href=\"#m8999325a8d\" y=\"156.753005\"/>\r\n     <use style=\"fill:#ff7f0e;stroke:#ffffff;stroke-width:0.75;\" x=\"267.341223\" xlink:href=\"#m8999325a8d\" y=\"155.626965\"/>\r\n     <use style=\"fill:#ff7f0e;stroke:#ffffff;stroke-width:0.75;\" x=\"266.311125\" xlink:href=\"#m8999325a8d\" y=\"157.509974\"/>\r\n     <use style=\"fill:#ff7f0e;stroke:#ffffff;stroke-width:0.75;\" x=\"268.172812\" xlink:href=\"#m8999325a8d\" y=\"151.735325\"/>\r\n     <use style=\"fill:#ff7f0e;stroke:#ffffff;stroke-width:0.75;\" x=\"269.26729\" xlink:href=\"#m8999325a8d\" y=\"151.448838\"/>\r\n     <use style=\"fill:#ff7f0e;stroke:#ffffff;stroke-width:0.75;\" x=\"270.72123\" xlink:href=\"#m8999325a8d\" y=\"152.69539\"/>\r\n     <use style=\"fill:#ff7f0e;stroke:#ffffff;stroke-width:0.75;\" x=\"266.241379\" xlink:href=\"#m8999325a8d\" y=\"156.969819\"/>\r\n     <use style=\"fill:#ff7f0e;stroke:#ffffff;stroke-width:0.75;\" x=\"266.101887\" xlink:href=\"#m8999325a8d\" y=\"155.80343\"/>\r\n     <use style=\"fill:#ff7f0e;stroke:#ffffff;stroke-width:0.75;\" x=\"266.686681\" xlink:href=\"#m8999325a8d\" y=\"155.028438\"/>\r\n     <use style=\"fill:#ff7f0e;stroke:#ffffff;stroke-width:0.75;\" x=\"266.536459\" xlink:href=\"#m8999325a8d\" y=\"155.042157\"/>\r\n     <use style=\"fill:#ff7f0e;stroke:#ffffff;stroke-width:0.75;\" x=\"266.59011\" xlink:href=\"#m8999325a8d\" y=\"154.698911\"/>\r\n    </g>\r\n   </g>\r\n   <g id=\"PathCollection_3\">\r\n    <defs>\r\n     <path d=\"M 0 3 \r\nC 0.795609 3 1.55874 2.683901 2.12132 2.12132 \r\nC 2.683901 1.55874 3 0.795609 3 0 \r\nC 3 -0.795609 2.683901 -1.55874 2.12132 -2.12132 \r\nC 1.55874 -2.683901 0.795609 -3 0 -3 \r\nC -0.795609 -3 -1.55874 -2.683901 -2.12132 -2.12132 \r\nC -2.683901 -1.55874 -3 -0.795609 -3 0 \r\nC -3 0.795609 -2.683901 1.55874 -2.12132 2.12132 \r\nC -1.55874 2.683901 -0.795609 3 0 3 \r\nz\r\n\" id=\"mc219106872\" style=\"stroke:#ffffff;stroke-width:0.75;\"/>\r\n    </defs>\r\n    <g clip-path=\"url(#pc0f27be91b)\">\r\n     <use style=\"fill:#2ca02c;stroke:#ffffff;stroke-width:0.75;\" x=\"374.036792\" xlink:href=\"#mc219106872\" y=\"14.359091\"/>\r\n    </g>\r\n   </g>\r\n   <g id=\"PathCollection_4\">\r\n    <defs>\r\n     <path d=\"M 0 3 \r\nC 0.795609 3 1.55874 2.683901 2.12132 2.12132 \r\nC 2.683901 1.55874 3 0.795609 3 0 \r\nC 3 -0.795609 2.683901 -1.55874 2.12132 -2.12132 \r\nC 1.55874 -2.683901 0.795609 -3 0 -3 \r\nC -0.795609 -3 -1.55874 -2.683901 -2.12132 -2.12132 \r\nC -2.683901 -1.55874 -3 -0.795609 -3 0 \r\nC -3 0.795609 -2.683901 1.55874 -2.12132 2.12132 \r\nC -1.55874 2.683901 -0.795609 3 0 3 \r\nz\r\n\" id=\"me5bf5e888d\" style=\"stroke:#ffffff;stroke-width:0.75;\"/>\r\n    </defs>\r\n    <g clip-path=\"url(#pc0f27be91b)\">\r\n     <use style=\"fill:#d62728;stroke:#ffffff;stroke-width:0.75;\" x=\"272.969203\" xlink:href=\"#me5bf5e888d\" y=\"136.010858\"/>\r\n     <use style=\"fill:#d62728;stroke:#ffffff;stroke-width:0.75;\" x=\"271.220184\" xlink:href=\"#me5bf5e888d\" y=\"145.428591\"/>\r\n     <use style=\"fill:#d62728;stroke:#ffffff;stroke-width:0.75;\" x=\"269.878911\" xlink:href=\"#me5bf5e888d\" y=\"145.231951\"/>\r\n    </g>\r\n   </g>\r\n   <g id=\"matplotlib.axis_3\">\r\n    <g id=\"xtick_4\">\r\n     <g id=\"line2d_10\">\r\n      <g>\r\n       <use style=\"stroke:#000000;stroke-width:0.8;\" x=\"265.817537\" xlink:href=\"#m3ae7f74568\" y=\"164.7\"/>\r\n      </g>\r\n     </g>\r\n    </g>\r\n    <g id=\"xtick_5\">\r\n     <g id=\"line2d_11\">\r\n      <g>\r\n       <use style=\"stroke:#000000;stroke-width:0.8;\" x=\"319.468449\" xlink:href=\"#m3ae7f74568\" y=\"164.7\"/>\r\n      </g>\r\n     </g>\r\n    </g>\r\n    <g id=\"xtick_6\">\r\n     <g id=\"line2d_12\">\r\n      <g>\r\n       <use style=\"stroke:#000000;stroke-width:0.8;\" x=\"373.119361\" xlink:href=\"#m3ae7f74568\" y=\"164.7\"/>\r\n      </g>\r\n     </g>\r\n    </g>\r\n   </g>\r\n   <g id=\"matplotlib.axis_4\">\r\n    <g id=\"ytick_7\">\r\n     <g id=\"line2d_13\">\r\n      <g>\r\n       <use style=\"stroke:#000000;stroke-width:0.8;\" x=\"234.651913\" xlink:href=\"#m66cce2c5f6\" y=\"157.579914\"/>\r\n      </g>\r\n     </g>\r\n    </g>\r\n    <g id=\"ytick_8\">\r\n     <g id=\"line2d_14\">\r\n      <g>\r\n       <use style=\"stroke:#000000;stroke-width:0.8;\" x=\"234.651913\" xlink:href=\"#m66cce2c5f6\" y=\"130.679792\"/>\r\n      </g>\r\n     </g>\r\n    </g>\r\n    <g id=\"ytick_9\">\r\n     <g id=\"line2d_15\">\r\n      <g>\r\n       <use style=\"stroke:#000000;stroke-width:0.8;\" x=\"234.651913\" xlink:href=\"#m66cce2c5f6\" y=\"103.77967\"/>\r\n      </g>\r\n     </g>\r\n    </g>\r\n    <g id=\"ytick_10\">\r\n     <g id=\"line2d_16\">\r\n      <g>\r\n       <use style=\"stroke:#000000;stroke-width:0.8;\" x=\"234.651913\" xlink:href=\"#m66cce2c5f6\" y=\"76.879548\"/>\r\n      </g>\r\n     </g>\r\n    </g>\r\n    <g id=\"ytick_11\">\r\n     <g id=\"line2d_17\">\r\n      <g>\r\n       <use style=\"stroke:#000000;stroke-width:0.8;\" x=\"234.651913\" xlink:href=\"#m66cce2c5f6\" y=\"49.979426\"/>\r\n      </g>\r\n     </g>\r\n    </g>\r\n    <g id=\"ytick_12\">\r\n     <g id=\"line2d_18\">\r\n      <g>\r\n       <use style=\"stroke:#000000;stroke-width:0.8;\" x=\"234.651913\" xlink:href=\"#m66cce2c5f6\" y=\"23.079304\"/>\r\n      </g>\r\n     </g>\r\n    </g>\r\n   </g>\r\n   <g id=\"patch_6\">\r\n    <path d=\"M 234.651913 164.7 \r\nL 234.651913 7.2 \r\n\" style=\"fill:none;stroke:#000000;stroke-linecap:square;stroke-linejoin:miter;stroke-width:0.8;\"/>\r\n   </g>\r\n   <g id=\"patch_7\">\r\n    <path d=\"M 234.651913 164.7 \r\nL 380.674167 164.7 \r\n\" style=\"fill:none;stroke:#000000;stroke-linecap:square;stroke-linejoin:miter;stroke-width:0.8;\"/>\r\n   </g>\r\n  </g>\r\n  <g id=\"axes_3\">\r\n   <g id=\"patch_8\">\r\n    <path d=\"M 66.053125 332.2 \r\nL 212.075378 332.2 \r\nL 212.075378 174.7 \r\nL 66.053125 174.7 \r\nz\r\n\" style=\"fill:#ffffff;\"/>\r\n   </g>\r\n   <g id=\"PathCollection_5\">\r\n    <g clip-path=\"url(#pcb5d9493d3)\">\r\n     <use style=\"fill:#1f77b4;stroke:#ffffff;stroke-width:0.75;\" x=\"110.529546\" xlink:href=\"#m446cc3a3ea\" y=\"282.420005\"/>\r\n     <use style=\"fill:#1f77b4;stroke:#ffffff;stroke-width:0.75;\" x=\"101.335809\" xlink:href=\"#m446cc3a3ea\" y=\"314.981978\"/>\r\n    </g>\r\n   </g>\r\n   <g id=\"PathCollection_6\">\r\n    <g clip-path=\"url(#pcb5d9493d3)\">\r\n     <use style=\"fill:#ff7f0e;stroke:#ffffff;stroke-width:0.75;\" x=\"75.80036\" xlink:href=\"#m8999325a8d\" y=\"325.040909\"/>\r\n     <use style=\"fill:#ff7f0e;stroke:#ffffff;stroke-width:0.75;\" x=\"78.678281\" xlink:href=\"#m8999325a8d\" y=\"321.086904\"/>\r\n     <use style=\"fill:#ff7f0e;stroke:#ffffff;stroke-width:0.75;\" x=\"78.920953\" xlink:href=\"#m8999325a8d\" y=\"323.656653\"/>\r\n     <use style=\"fill:#ff7f0e;stroke:#ffffff;stroke-width:0.75;\" x=\"76.181563\" xlink:href=\"#m8999325a8d\" y=\"324.714367\"/>\r\n     <use style=\"fill:#ff7f0e;stroke:#ffffff;stroke-width:0.75;\" x=\"79.342398\" xlink:href=\"#m8999325a8d\" y=\"321.747088\"/>\r\n     <use style=\"fill:#ff7f0e;stroke:#ffffff;stroke-width:0.75;\" x=\"75.621344\" xlink:href=\"#m8999325a8d\" y=\"325.026712\"/>\r\n     <use style=\"fill:#ff7f0e;stroke:#ffffff;stroke-width:0.75;\" x=\"79.612142\" xlink:href=\"#m8999325a8d\" y=\"319.702648\"/>\r\n     <use style=\"fill:#ff7f0e;stroke:#ffffff;stroke-width:0.75;\" x=\"76.335702\" xlink:href=\"#m8999325a8d\" y=\"324.657577\"/>\r\n     <use style=\"fill:#ff7f0e;stroke:#ffffff;stroke-width:0.75;\" x=\"77.356632\" xlink:href=\"#m8999325a8d\" y=\"323.031962\"/>\r\n     <use style=\"fill:#ff7f0e;stroke:#ffffff;stroke-width:0.75;\" x=\"75.649391\" xlink:href=\"#m8999325a8d\" y=\"324.394923\"/>\r\n     <use style=\"fill:#ff7f0e;stroke:#ffffff;stroke-width:0.75;\" x=\"80.885012\" xlink:href=\"#m8999325a8d\" y=\"321.931656\"/>\r\n     <use style=\"fill:#ff7f0e;stroke:#ffffff;stroke-width:0.75;\" x=\"81.144756\" xlink:href=\"#m8999325a8d\" y=\"320.483511\"/>\r\n     <use style=\"fill:#ff7f0e;stroke:#ffffff;stroke-width:0.75;\" x=\"80.014563\" xlink:href=\"#m8999325a8d\" y=\"318.559749\"/>\r\n     <use style=\"fill:#ff7f0e;stroke:#ffffff;stroke-width:0.75;\" x=\"76.139126\" xlink:href=\"#m8999325a8d\" y=\"324.487206\"/>\r\n     <use style=\"fill:#ff7f0e;stroke:#ffffff;stroke-width:0.75;\" x=\"77.196639\" xlink:href=\"#m8999325a8d\" y=\"324.671774\"/>\r\n     <use style=\"fill:#ff7f0e;stroke:#ffffff;stroke-width:0.75;\" x=\"77.899291\" xlink:href=\"#m8999325a8d\" y=\"323.89801\"/>\r\n     <use style=\"fill:#ff7f0e;stroke:#ffffff;stroke-width:0.75;\" x=\"77.886853\" xlink:href=\"#m8999325a8d\" y=\"324.096775\"/>\r\n     <use style=\"fill:#ff7f0e;stroke:#ffffff;stroke-width:0.75;\" x=\"78.198058\" xlink:href=\"#m8999325a8d\" y=\"324.025788\"/>\r\n    </g>\r\n   </g>\r\n   <g id=\"PathCollection_7\">\r\n    <g clip-path=\"url(#pcb5d9493d3)\">\r\n     <use style=\"fill:#2ca02c;stroke:#ffffff;stroke-width:0.75;\" x=\"205.438003\" xlink:href=\"#mc219106872\" y=\"181.859091\"/>\r\n    </g>\r\n   </g>\r\n   <g id=\"PathCollection_8\">\r\n    <g clip-path=\"url(#pcb5d9493d3)\">\r\n     <use style=\"fill:#d62728;stroke:#ffffff;stroke-width:0.75;\" x=\"95.141694\" xlink:href=\"#me5bf5e888d\" y=\"315.585372\"/>\r\n     <use style=\"fill:#d62728;stroke:#ffffff;stroke-width:0.75;\" x=\"86.60305\" xlink:href=\"#me5bf5e888d\" y=\"317.899565\"/>\r\n     <use style=\"fill:#d62728;stroke:#ffffff;stroke-width:0.75;\" x=\"86.781335\" xlink:href=\"#me5bf5e888d\" y=\"319.674253\"/>\r\n    </g>\r\n   </g>\r\n   <g id=\"matplotlib.axis_5\">\r\n    <g id=\"xtick_7\">\r\n     <g id=\"line2d_19\">\r\n      <g>\r\n       <use style=\"stroke:#000000;stroke-width:0.8;\" x=\"75.585979\" xlink:href=\"#m3ae7f74568\" y=\"332.2\"/>\r\n      </g>\r\n     </g>\r\n     <g id=\"text_8\">\r\n      <!-- 0 -->\r\n      <g transform=\"translate(72.404729 346.798437)scale(0.1 -0.1)\">\r\n       <use xlink:href=\"#DejaVuSans-48\"/>\r\n      </g>\r\n     </g>\r\n    </g>\r\n    <g id=\"xtick_8\">\r\n     <g id=\"line2d_20\">\r\n      <g>\r\n       <use style=\"stroke:#000000;stroke-width:0.8;\" x=\"124.364296\" xlink:href=\"#m3ae7f74568\" y=\"332.2\"/>\r\n      </g>\r\n     </g>\r\n     <g id=\"text_9\">\r\n      <!-- 200000 -->\r\n      <g transform=\"translate(105.276796 346.798437)scale(0.1 -0.1)\">\r\n       <use xlink:href=\"#DejaVuSans-50\"/>\r\n       <use x=\"63.623047\" xlink:href=\"#DejaVuSans-48\"/>\r\n       <use x=\"127.246094\" xlink:href=\"#DejaVuSans-48\"/>\r\n       <use x=\"190.869141\" xlink:href=\"#DejaVuSans-48\"/>\r\n       <use x=\"254.492188\" xlink:href=\"#DejaVuSans-48\"/>\r\n       <use x=\"318.115234\" xlink:href=\"#DejaVuSans-48\"/>\r\n      </g>\r\n     </g>\r\n    </g>\r\n    <g id=\"xtick_9\">\r\n     <g id=\"line2d_21\">\r\n      <g>\r\n       <use style=\"stroke:#000000;stroke-width:0.8;\" x=\"173.142612\" xlink:href=\"#m3ae7f74568\" y=\"332.2\"/>\r\n      </g>\r\n     </g>\r\n     <g id=\"text_10\">\r\n      <!-- 400000 -->\r\n      <g transform=\"translate(154.055112 346.798437)scale(0.1 -0.1)\">\r\n       <use xlink:href=\"#DejaVuSans-52\"/>\r\n       <use x=\"63.623047\" xlink:href=\"#DejaVuSans-48\"/>\r\n       <use x=\"127.246094\" xlink:href=\"#DejaVuSans-48\"/>\r\n       <use x=\"190.869141\" xlink:href=\"#DejaVuSans-48\"/>\r\n       <use x=\"254.492188\" xlink:href=\"#DejaVuSans-48\"/>\r\n       <use x=\"318.115234\" xlink:href=\"#DejaVuSans-48\"/>\r\n      </g>\r\n     </g>\r\n    </g>\r\n    <g id=\"text_11\">\r\n     <!-- confirmados -->\r\n     <g transform=\"translate(108.197064 360.476562)scale(0.1 -0.1)\">\r\n      <use xlink:href=\"#DejaVuSans-99\"/>\r\n      <use x=\"54.980469\" xlink:href=\"#DejaVuSans-111\"/>\r\n      <use x=\"116.162109\" xlink:href=\"#DejaVuSans-110\"/>\r\n      <use x=\"179.541016\" xlink:href=\"#DejaVuSans-102\"/>\r\n      <use x=\"214.746094\" xlink:href=\"#DejaVuSans-105\"/>\r\n      <use x=\"242.529297\" xlink:href=\"#DejaVuSans-114\"/>\r\n      <use x=\"281.892578\" xlink:href=\"#DejaVuSans-109\"/>\r\n      <use x=\"379.304688\" xlink:href=\"#DejaVuSans-97\"/>\r\n      <use x=\"440.583984\" xlink:href=\"#DejaVuSans-100\"/>\r\n      <use x=\"504.060547\" xlink:href=\"#DejaVuSans-111\"/>\r\n      <use x=\"565.242188\" xlink:href=\"#DejaVuSans-115\"/>\r\n     </g>\r\n    </g>\r\n   </g>\r\n   <g id=\"matplotlib.axis_6\">\r\n    <g id=\"ytick_13\">\r\n     <g id=\"line2d_22\">\r\n      <g>\r\n       <use style=\"stroke:#000000;stroke-width:0.8;\" x=\"66.053125\" xlink:href=\"#m66cce2c5f6\" y=\"325.048008\"/>\r\n      </g>\r\n     </g>\r\n     <g id=\"text_12\">\r\n      <!-- 0 -->\r\n      <g transform=\"translate(52.690625 328.847227)scale(0.1 -0.1)\">\r\n       <use xlink:href=\"#DejaVuSans-48\"/>\r\n      </g>\r\n     </g>\r\n    </g>\r\n    <g id=\"ytick_14\">\r\n     <g id=\"line2d_23\">\r\n      <g>\r\n       <use style=\"stroke:#000000;stroke-width:0.8;\" x=\"66.053125\" xlink:href=\"#m66cce2c5f6\" y=\"289.55425\"/>\r\n      </g>\r\n     </g>\r\n     <g id=\"text_13\">\r\n      <!-- 5000 -->\r\n      <g transform=\"translate(33.603125 293.353469)scale(0.1 -0.1)\">\r\n       <use xlink:href=\"#DejaVuSans-53\"/>\r\n       <use x=\"63.623047\" xlink:href=\"#DejaVuSans-48\"/>\r\n       <use x=\"127.246094\" xlink:href=\"#DejaVuSans-48\"/>\r\n       <use x=\"190.869141\" xlink:href=\"#DejaVuSans-48\"/>\r\n      </g>\r\n     </g>\r\n    </g>\r\n    <g id=\"ytick_15\">\r\n     <g id=\"line2d_24\">\r\n      <g>\r\n       <use style=\"stroke:#000000;stroke-width:0.8;\" x=\"66.053125\" xlink:href=\"#m66cce2c5f6\" y=\"254.060493\"/>\r\n      </g>\r\n     </g>\r\n     <g id=\"text_14\">\r\n      <!-- 10000 -->\r\n      <g transform=\"translate(27.240625 257.859711)scale(0.1 -0.1)\">\r\n       <use xlink:href=\"#DejaVuSans-49\"/>\r\n       <use x=\"63.623047\" xlink:href=\"#DejaVuSans-48\"/>\r\n       <use x=\"127.246094\" xlink:href=\"#DejaVuSans-48\"/>\r\n       <use x=\"190.869141\" xlink:href=\"#DejaVuSans-48\"/>\r\n       <use x=\"254.492188\" xlink:href=\"#DejaVuSans-48\"/>\r\n      </g>\r\n     </g>\r\n    </g>\r\n    <g id=\"ytick_16\">\r\n     <g id=\"line2d_25\">\r\n      <g>\r\n       <use style=\"stroke:#000000;stroke-width:0.8;\" x=\"66.053125\" xlink:href=\"#m66cce2c5f6\" y=\"218.566735\"/>\r\n      </g>\r\n     </g>\r\n     <g id=\"text_15\">\r\n      <!-- 15000 -->\r\n      <g transform=\"translate(27.240625 222.365954)scale(0.1 -0.1)\">\r\n       <use xlink:href=\"#DejaVuSans-49\"/>\r\n       <use x=\"63.623047\" xlink:href=\"#DejaVuSans-53\"/>\r\n       <use x=\"127.246094\" xlink:href=\"#DejaVuSans-48\"/>\r\n       <use x=\"190.869141\" xlink:href=\"#DejaVuSans-48\"/>\r\n       <use x=\"254.492188\" xlink:href=\"#DejaVuSans-48\"/>\r\n      </g>\r\n     </g>\r\n    </g>\r\n    <g id=\"ytick_17\">\r\n     <g id=\"line2d_26\">\r\n      <g>\r\n       <use style=\"stroke:#000000;stroke-width:0.8;\" x=\"66.053125\" xlink:href=\"#m66cce2c5f6\" y=\"183.072977\"/>\r\n      </g>\r\n     </g>\r\n     <g id=\"text_16\">\r\n      <!-- 20000 -->\r\n      <g transform=\"translate(27.240625 186.872196)scale(0.1 -0.1)\">\r\n       <use xlink:href=\"#DejaVuSans-50\"/>\r\n       <use x=\"63.623047\" xlink:href=\"#DejaVuSans-48\"/>\r\n       <use x=\"127.246094\" xlink:href=\"#DejaVuSans-48\"/>\r\n       <use x=\"190.869141\" xlink:href=\"#DejaVuSans-48\"/>\r\n       <use x=\"254.492188\" xlink:href=\"#DejaVuSans-48\"/>\r\n      </g>\r\n     </g>\r\n    </g>\r\n    <g id=\"text_17\">\r\n     <!-- fallecidos -->\r\n     <defs>\r\n      <path d=\"M 9.421875 75.984375 \r\nL 18.40625 75.984375 \r\nL 18.40625 0 \r\nL 9.421875 0 \r\nz\r\n\" id=\"DejaVuSans-108\"/>\r\n      <path d=\"M 56.203125 29.59375 \r\nL 56.203125 25.203125 \r\nL 14.890625 25.203125 \r\nQ 15.484375 15.921875 20.484375 11.0625 \r\nQ 25.484375 6.203125 34.421875 6.203125 \r\nQ 39.59375 6.203125 44.453125 7.46875 \r\nQ 49.3125 8.734375 54.109375 11.28125 \r\nL 54.109375 2.78125 \r\nQ 49.265625 0.734375 44.1875 -0.34375 \r\nQ 39.109375 -1.421875 33.890625 -1.421875 \r\nQ 20.796875 -1.421875 13.15625 6.1875 \r\nQ 5.515625 13.8125 5.515625 26.8125 \r\nQ 5.515625 40.234375 12.765625 48.109375 \r\nQ 20.015625 56 32.328125 56 \r\nQ 43.359375 56 49.78125 48.890625 \r\nQ 56.203125 41.796875 56.203125 29.59375 \r\nz\r\nM 47.21875 32.234375 \r\nQ 47.125 39.59375 43.09375 43.984375 \r\nQ 39.0625 48.390625 32.421875 48.390625 \r\nQ 24.90625 48.390625 20.390625 44.140625 \r\nQ 15.875 39.890625 15.1875 32.171875 \r\nz\r\n\" id=\"DejaVuSans-101\"/>\r\n     </defs>\r\n     <g transform=\"translate(21.160937 277.105469)rotate(-90)scale(0.1 -0.1)\">\r\n      <use xlink:href=\"#DejaVuSans-102\"/>\r\n      <use x=\"35.205078\" xlink:href=\"#DejaVuSans-97\"/>\r\n      <use x=\"96.484375\" xlink:href=\"#DejaVuSans-108\"/>\r\n      <use x=\"124.267578\" xlink:href=\"#DejaVuSans-108\"/>\r\n      <use x=\"152.050781\" xlink:href=\"#DejaVuSans-101\"/>\r\n      <use x=\"213.574219\" xlink:href=\"#DejaVuSans-99\"/>\r\n      <use x=\"268.554688\" xlink:href=\"#DejaVuSans-105\"/>\r\n      <use x=\"296.337891\" xlink:href=\"#DejaVuSans-100\"/>\r\n      <use x=\"359.814453\" xlink:href=\"#DejaVuSans-111\"/>\r\n      <use x=\"420.996094\" xlink:href=\"#DejaVuSans-115\"/>\r\n     </g>\r\n    </g>\r\n   </g>\r\n   <g id=\"patch_9\">\r\n    <path d=\"M 66.053125 332.2 \r\nL 66.053125 174.7 \r\n\" style=\"fill:none;stroke:#000000;stroke-linecap:square;stroke-linejoin:miter;stroke-width:0.8;\"/>\r\n   </g>\r\n   <g id=\"patch_10\">\r\n    <path d=\"M 66.053125 332.2 \r\nL 212.075378 332.2 \r\n\" style=\"fill:none;stroke:#000000;stroke-linecap:square;stroke-linejoin:miter;stroke-width:0.8;\"/>\r\n   </g>\r\n  </g>\r\n  <g id=\"axes_4\">\r\n   <g id=\"patch_11\">\r\n    <path d=\"M 234.651913 332.2 \r\nL 380.674167 332.2 \r\nL 380.674167 174.7 \r\nL 234.651913 174.7 \r\nz\r\n\" style=\"fill:#ffffff;\"/>\r\n   </g>\r\n   <g id=\"matplotlib.axis_7\">\r\n    <g id=\"xtick_10\">\r\n     <g id=\"line2d_27\">\r\n      <g>\r\n       <use style=\"stroke:#000000;stroke-width:0.8;\" x=\"265.817537\" xlink:href=\"#m3ae7f74568\" y=\"332.2\"/>\r\n      </g>\r\n     </g>\r\n     <g id=\"text_18\">\r\n      <!-- 0 -->\r\n      <g transform=\"translate(262.636287 346.798437)scale(0.1 -0.1)\">\r\n       <use xlink:href=\"#DejaVuSans-48\"/>\r\n      </g>\r\n     </g>\r\n    </g>\r\n    <g id=\"xtick_11\">\r\n     <g id=\"line2d_28\">\r\n      <g>\r\n       <use style=\"stroke:#000000;stroke-width:0.8;\" x=\"319.468449\" xlink:href=\"#m3ae7f74568\" y=\"332.2\"/>\r\n      </g>\r\n     </g>\r\n     <g id=\"text_19\">\r\n      <!-- 10000 -->\r\n      <g transform=\"translate(303.562199 346.798437)scale(0.1 -0.1)\">\r\n       <use xlink:href=\"#DejaVuSans-49\"/>\r\n       <use x=\"63.623047\" xlink:href=\"#DejaVuSans-48\"/>\r\n       <use x=\"127.246094\" xlink:href=\"#DejaVuSans-48\"/>\r\n       <use x=\"190.869141\" xlink:href=\"#DejaVuSans-48\"/>\r\n       <use x=\"254.492188\" xlink:href=\"#DejaVuSans-48\"/>\r\n      </g>\r\n     </g>\r\n    </g>\r\n    <g id=\"xtick_12\">\r\n     <g id=\"line2d_29\">\r\n      <g>\r\n       <use style=\"stroke:#000000;stroke-width:0.8;\" x=\"373.119361\" xlink:href=\"#m3ae7f74568\" y=\"332.2\"/>\r\n      </g>\r\n     </g>\r\n     <g id=\"text_20\">\r\n      <!-- 20000 -->\r\n      <g transform=\"translate(357.213111 346.798437)scale(0.1 -0.1)\">\r\n       <use xlink:href=\"#DejaVuSans-50\"/>\r\n       <use x=\"63.623047\" xlink:href=\"#DejaVuSans-48\"/>\r\n       <use x=\"127.246094\" xlink:href=\"#DejaVuSans-48\"/>\r\n       <use x=\"190.869141\" xlink:href=\"#DejaVuSans-48\"/>\r\n       <use x=\"254.492188\" xlink:href=\"#DejaVuSans-48\"/>\r\n      </g>\r\n     </g>\r\n    </g>\r\n    <g id=\"text_21\">\r\n     <!-- fallecidos -->\r\n     <g transform=\"translate(284.007571 360.476562)scale(0.1 -0.1)\">\r\n      <use xlink:href=\"#DejaVuSans-102\"/>\r\n      <use x=\"35.205078\" xlink:href=\"#DejaVuSans-97\"/>\r\n      <use x=\"96.484375\" xlink:href=\"#DejaVuSans-108\"/>\r\n      <use x=\"124.267578\" xlink:href=\"#DejaVuSans-108\"/>\r\n      <use x=\"152.050781\" xlink:href=\"#DejaVuSans-101\"/>\r\n      <use x=\"213.574219\" xlink:href=\"#DejaVuSans-99\"/>\r\n      <use x=\"268.554688\" xlink:href=\"#DejaVuSans-105\"/>\r\n      <use x=\"296.337891\" xlink:href=\"#DejaVuSans-100\"/>\r\n      <use x=\"359.814453\" xlink:href=\"#DejaVuSans-111\"/>\r\n      <use x=\"420.996094\" xlink:href=\"#DejaVuSans-115\"/>\r\n     </g>\r\n    </g>\r\n   </g>\r\n   <g id=\"matplotlib.axis_8\">\r\n    <g id=\"ytick_18\">\r\n     <g id=\"line2d_30\">\r\n      <g>\r\n       <use style=\"stroke:#000000;stroke-width:0.8;\" x=\"234.651913\" xlink:href=\"#m66cce2c5f6\" y=\"325.048008\"/>\r\n      </g>\r\n     </g>\r\n    </g>\r\n    <g id=\"ytick_19\">\r\n     <g id=\"line2d_31\">\r\n      <g>\r\n       <use style=\"stroke:#000000;stroke-width:0.8;\" x=\"234.651913\" xlink:href=\"#m66cce2c5f6\" y=\"289.55425\"/>\r\n      </g>\r\n     </g>\r\n    </g>\r\n    <g id=\"ytick_20\">\r\n     <g id=\"line2d_32\">\r\n      <g>\r\n       <use style=\"stroke:#000000;stroke-width:0.8;\" x=\"234.651913\" xlink:href=\"#m66cce2c5f6\" y=\"254.060493\"/>\r\n      </g>\r\n     </g>\r\n    </g>\r\n    <g id=\"ytick_21\">\r\n     <g id=\"line2d_33\">\r\n      <g>\r\n       <use style=\"stroke:#000000;stroke-width:0.8;\" x=\"234.651913\" xlink:href=\"#m66cce2c5f6\" y=\"218.566735\"/>\r\n      </g>\r\n     </g>\r\n    </g>\r\n    <g id=\"ytick_22\">\r\n     <g id=\"line2d_34\">\r\n      <g>\r\n       <use style=\"stroke:#000000;stroke-width:0.8;\" x=\"234.651913\" xlink:href=\"#m66cce2c5f6\" y=\"183.072977\"/>\r\n      </g>\r\n     </g>\r\n    </g>\r\n   </g>\r\n   <g id=\"patch_12\">\r\n    <path d=\"M 234.651913 332.2 \r\nL 234.651913 174.7 \r\n\" style=\"fill:none;stroke:#000000;stroke-linecap:square;stroke-linejoin:miter;stroke-width:0.8;\"/>\r\n   </g>\r\n   <g id=\"patch_13\">\r\n    <path d=\"M 234.651913 332.2 \r\nL 380.674167 332.2 \r\n\" style=\"fill:none;stroke:#000000;stroke-linecap:square;stroke-linejoin:miter;stroke-width:0.8;\"/>\r\n   </g>\r\n  </g>\r\n  <g id=\"axes_5\">\r\n   <g id=\"PolyCollection_1\">\r\n    <path clip-path=\"url(#pd65142b25b)\" d=\"M 89.330389 161.426251 \r\nL 89.330389 164.7 \r\nL 89.665789 164.7 \r\nL 90.001189 164.7 \r\nL 90.336589 164.7 \r\nL 90.671988 164.7 \r\nL 91.007388 164.7 \r\nL 91.342788 164.7 \r\nL 91.678188 164.7 \r\nL 92.013587 164.7 \r\nL 92.348987 164.7 \r\nL 92.684387 164.7 \r\nL 93.019787 164.7 \r\nL 93.355186 164.7 \r\nL 93.690586 164.7 \r\nL 94.025986 164.7 \r\nL 94.361386 164.7 \r\nL 94.696785 164.7 \r\nL 95.032185 164.7 \r\nL 95.367585 164.7 \r\nL 95.702985 164.7 \r\nL 96.038384 164.7 \r\nL 96.373784 164.7 \r\nL 96.709184 164.7 \r\nL 97.044584 164.7 \r\nL 97.379983 164.7 \r\nL 97.715383 164.7 \r\nL 98.050783 164.7 \r\nL 98.386183 164.7 \r\nL 98.721582 164.7 \r\nL 99.056982 164.7 \r\nL 99.392382 164.7 \r\nL 99.727782 164.7 \r\nL 100.063181 164.7 \r\nL 100.398581 164.7 \r\nL 100.733981 164.7 \r\nL 101.069381 164.7 \r\nL 101.40478 164.7 \r\nL 101.74018 164.7 \r\nL 102.07558 164.7 \r\nL 102.41098 164.7 \r\nL 102.74638 164.7 \r\nL 103.081779 164.7 \r\nL 103.417179 164.7 \r\nL 103.752579 164.7 \r\nL 104.087979 164.7 \r\nL 104.423378 164.7 \r\nL 104.758778 164.7 \r\nL 105.094178 164.7 \r\nL 105.429578 164.7 \r\nL 105.764977 164.7 \r\nL 106.100377 164.7 \r\nL 106.435777 164.7 \r\nL 106.771177 164.7 \r\nL 107.106576 164.7 \r\nL 107.441976 164.7 \r\nL 107.777376 164.7 \r\nL 108.112776 164.7 \r\nL 108.448175 164.7 \r\nL 108.783575 164.7 \r\nL 109.118975 164.7 \r\nL 109.454375 164.7 \r\nL 109.789774 164.7 \r\nL 110.125174 164.7 \r\nL 110.460574 164.7 \r\nL 110.795974 164.7 \r\nL 111.131373 164.7 \r\nL 111.466773 164.7 \r\nL 111.802173 164.7 \r\nL 112.137573 164.7 \r\nL 112.472972 164.7 \r\nL 112.808372 164.7 \r\nL 113.143772 164.7 \r\nL 113.479172 164.7 \r\nL 113.814571 164.7 \r\nL 114.149971 164.7 \r\nL 114.485371 164.7 \r\nL 114.820771 164.7 \r\nL 115.15617 164.7 \r\nL 115.49157 164.7 \r\nL 115.82697 164.7 \r\nL 116.16237 164.7 \r\nL 116.49777 164.7 \r\nL 116.833169 164.7 \r\nL 117.168569 164.7 \r\nL 117.503969 164.7 \r\nL 117.839369 164.7 \r\nL 118.174768 164.7 \r\nL 118.510168 164.7 \r\nL 118.845568 164.7 \r\nL 119.180968 164.7 \r\nL 119.516367 164.7 \r\nL 119.851767 164.7 \r\nL 120.187167 164.7 \r\nL 120.522567 164.7 \r\nL 120.857966 164.7 \r\nL 121.193366 164.7 \r\nL 121.528766 164.7 \r\nL 121.864166 164.7 \r\nL 122.199565 164.7 \r\nL 122.534965 164.7 \r\nL 122.534965 161.426251 \r\nL 122.534965 161.426251 \r\nL 122.199565 160.991042 \r\nL 121.864166 160.512352 \r\nL 121.528766 159.988015 \r\nL 121.193366 159.41607 \r\nL 120.857966 158.794808 \r\nL 120.522567 158.122821 \r\nL 120.187167 157.399051 \r\nL 119.851767 156.622839 \r\nL 119.516367 155.793968 \r\nL 119.180968 154.912701 \r\nL 118.845568 153.979819 \r\nL 118.510168 152.996649 \r\nL 118.174768 151.965078 \r\nL 117.839369 150.887569 \r\nL 117.503969 149.76716 \r\nL 117.168569 148.607452 \r\nL 116.833169 147.412589 \r\nL 116.49777 146.187223 \r\nL 116.16237 144.936472 \r\nL 115.82697 143.665861 \r\nL 115.49157 142.381259 \r\nL 115.15617 141.088804 \r\nL 114.820771 139.794819 \r\nL 114.485371 138.505728 \r\nL 114.149971 137.227963 \r\nL 113.814571 135.967868 \r\nL 113.479172 134.731613 \r\nL 113.143772 133.525103 \r\nL 112.808372 132.353895 \r\nL 112.472972 131.223125 \r\nL 112.137573 130.137443 \r\nL 111.802173 129.100963 \r\nL 111.466773 128.117225 \r\nL 111.131373 127.189171 \r\nL 110.795974 126.319139 \r\nL 110.460574 125.508872 \r\nL 110.125174 124.759542 \r\nL 109.789774 124.071787 \r\nL 109.454375 123.445767 \r\nL 109.118975 122.881223 \r\nL 108.783575 122.377556 \r\nL 108.448175 121.933897 \r\nL 108.112776 121.549202 \r\nL 107.777376 121.222326 \r\nL 107.441976 120.952108 \r\nL 107.106576 120.737452 \r\nL 106.771177 120.577388 \r\nL 106.435777 120.471136 \r\nL 106.100377 120.418151 \r\nL 105.764977 120.418151 \r\nL 105.429578 120.471136 \r\nL 105.094178 120.577388 \r\nL 104.758778 120.737452 \r\nL 104.423378 120.952108 \r\nL 104.087979 121.222326 \r\nL 103.752579 121.549202 \r\nL 103.417179 121.933897 \r\nL 103.081779 122.377556 \r\nL 102.74638 122.881223 \r\nL 102.41098 123.445767 \r\nL 102.07558 124.071787 \r\nL 101.74018 124.759542 \r\nL 101.40478 125.508872 \r\nL 101.069381 126.319139 \r\nL 100.733981 127.189171 \r\nL 100.398581 128.117225 \r\nL 100.063181 129.100963 \r\nL 99.727782 130.137443 \r\nL 99.392382 131.223125 \r\nL 99.056982 132.353895 \r\nL 98.721582 133.525103 \r\nL 98.386183 134.731613 \r\nL 98.050783 135.967868 \r\nL 97.715383 137.227963 \r\nL 97.379983 138.505728 \r\nL 97.044584 139.794819 \r\nL 96.709184 141.088804 \r\nL 96.373784 142.381259 \r\nL 96.038384 143.665861 \r\nL 95.702985 144.936472 \r\nL 95.367585 146.187223 \r\nL 95.032185 147.412589 \r\nL 94.696785 148.607452 \r\nL 94.361386 149.76716 \r\nL 94.025986 150.887569 \r\nL 93.690586 151.965078 \r\nL 93.355186 152.996649 \r\nL 93.019787 153.979819 \r\nL 92.684387 154.912701 \r\nL 92.348987 155.793968 \r\nL 92.013587 156.622839 \r\nL 91.678188 157.399051 \r\nL 91.342788 158.122821 \r\nL 91.007388 158.794808 \r\nL 90.671988 159.41607 \r\nL 90.336589 159.988015 \r\nL 90.001189 160.512352 \r\nL 89.665789 160.991042 \r\nL 89.330389 161.426251 \r\nz\r\n\" style=\"fill:#1f77b4;fill-opacity:0.25;\"/>\r\n   </g>\r\n   <g id=\"PolyCollection_2\">\r\n    <path clip-path=\"url(#pd65142b25b)\" d=\"M 72.6905 163.882883 \r\nL 72.6905 164.7 \r\nL 72.805501 164.7 \r\nL 72.920502 164.7 \r\nL 73.035503 164.7 \r\nL 73.150504 164.7 \r\nL 73.265505 164.7 \r\nL 73.380506 164.7 \r\nL 73.495507 164.7 \r\nL 73.610508 164.7 \r\nL 73.725509 164.7 \r\nL 73.84051 164.7 \r\nL 73.955511 164.7 \r\nL 74.070512 164.7 \r\nL 74.185513 164.7 \r\nL 74.300514 164.7 \r\nL 74.415515 164.7 \r\nL 74.530516 164.7 \r\nL 74.645517 164.7 \r\nL 74.760518 164.7 \r\nL 74.875519 164.7 \r\nL 74.99052 164.7 \r\nL 75.105521 164.7 \r\nL 75.220522 164.7 \r\nL 75.335523 164.7 \r\nL 75.450524 164.7 \r\nL 75.565525 164.7 \r\nL 75.680526 164.7 \r\nL 75.795527 164.7 \r\nL 75.910528 164.7 \r\nL 76.025529 164.7 \r\nL 76.14053 164.7 \r\nL 76.255531 164.7 \r\nL 76.370532 164.7 \r\nL 76.485533 164.7 \r\nL 76.600534 164.7 \r\nL 76.715535 164.7 \r\nL 76.830536 164.7 \r\nL 76.945537 164.7 \r\nL 77.060538 164.7 \r\nL 77.175539 164.7 \r\nL 77.29054 164.7 \r\nL 77.405542 164.7 \r\nL 77.520543 164.7 \r\nL 77.635544 164.7 \r\nL 77.750545 164.7 \r\nL 77.865546 164.7 \r\nL 77.980547 164.7 \r\nL 78.095548 164.7 \r\nL 78.210549 164.7 \r\nL 78.32555 164.7 \r\nL 78.440551 164.7 \r\nL 78.555552 164.7 \r\nL 78.670553 164.7 \r\nL 78.785554 164.7 \r\nL 78.900555 164.7 \r\nL 79.015556 164.7 \r\nL 79.130557 164.7 \r\nL 79.245558 164.7 \r\nL 79.360559 164.7 \r\nL 79.47556 164.7 \r\nL 79.590561 164.7 \r\nL 79.705562 164.7 \r\nL 79.820563 164.7 \r\nL 79.935564 164.7 \r\nL 80.050565 164.7 \r\nL 80.165566 164.7 \r\nL 80.280567 164.7 \r\nL 80.395568 164.7 \r\nL 80.510569 164.7 \r\nL 80.62557 164.7 \r\nL 80.740571 164.7 \r\nL 80.855572 164.7 \r\nL 80.970573 164.7 \r\nL 81.085574 164.7 \r\nL 81.200575 164.7 \r\nL 81.315576 164.7 \r\nL 81.430577 164.7 \r\nL 81.545578 164.7 \r\nL 81.660579 164.7 \r\nL 81.77558 164.7 \r\nL 81.890581 164.7 \r\nL 82.005582 164.7 \r\nL 82.120583 164.7 \r\nL 82.235584 164.7 \r\nL 82.350585 164.7 \r\nL 82.465586 164.7 \r\nL 82.580587 164.7 \r\nL 82.695588 164.7 \r\nL 82.810589 164.7 \r\nL 82.92559 164.7 \r\nL 83.040591 164.7 \r\nL 83.155592 164.7 \r\nL 83.270593 164.7 \r\nL 83.385594 164.7 \r\nL 83.500595 164.7 \r\nL 83.615596 164.7 \r\nL 83.730597 164.7 \r\nL 83.845598 164.7 \r\nL 83.960599 164.7 \r\nL 84.0756 164.7 \r\nL 84.0756 164.293206 \r\nL 84.0756 164.293206 \r\nL 83.960599 164.129234 \r\nL 83.845598 163.909168 \r\nL 83.730597 163.617884 \r\nL 83.615596 163.23765 \r\nL 83.500595 162.748159 \r\nL 83.385594 162.126733 \r\nL 83.270593 161.348738 \r\nL 83.155592 160.388221 \r\nL 83.040591 159.218795 \r\nL 82.92559 157.814739 \r\nL 82.810589 156.152272 \r\nL 82.695588 154.21095 \r\nL 82.580587 151.97507 \r\nL 82.465586 149.434968 \r\nL 82.350585 146.588109 \r\nL 82.235584 143.439812 \r\nL 82.120583 140.003529 \r\nL 82.005582 136.3006 \r\nL 81.890581 132.359451 \r\nL 81.77558 128.214268 \r\nL 81.660579 123.903235 \r\nL 81.545578 119.466467 \r\nL 81.430577 114.943825 \r\nL 81.315576 110.372815 \r\nL 81.200575 105.786762 \r\nL 81.085574 101.213442 \r\nL 80.970573 96.6743 \r\nL 80.855572 92.184307 \r\nL 80.740571 87.75245 \r\nL 80.62557 83.382785 \r\nL 80.510569 79.075887 \r\nL 80.395568 74.830541 \r\nL 80.280567 70.64546 \r\nL 80.165566 66.520856 \r\nL 80.050565 62.4597 \r\nL 79.935564 58.468575 \r\nL 79.820563 54.558064 \r\nL 79.705562 50.742698 \r\nL 79.590561 47.040501 \r\nL 79.47556 43.472235 \r\nL 79.360559 40.060418 \r\nL 79.245558 36.828236 \r\nL 79.130557 33.798395 \r\nL 79.015556 30.991973 \r\nL 78.900555 28.4273 \r\nL 78.785554 26.118878 \r\nL 78.670553 24.076345 \r\nL 78.555552 22.30352 \r\nL 78.440551 20.797584 \r\nL 78.32555 19.54848 \r\nL 78.210549 18.53866 \r\nL 78.095548 17.743307 \r\nL 77.980547 17.13119 \r\nL 77.865546 16.66624 \r\nL 77.750545 16.309907 \r\nL 77.635544 16.024264 \r\nL 77.520543 15.775714 \r\nL 77.405542 15.539045 \r\nL 77.29054 15.301497 \r\nL 77.175539 15.066408 \r\nL 77.060538 14.856008 \r\nL 76.945537 14.712913 \r\nL 76.830536 14.7 \r\nL 76.715535 14.898433 \r\nL 76.600534 15.403819 \r\nL 76.485533 16.320641 \r\nL 76.370532 17.755325 \r\nL 76.255531 19.808477 \r\nL 76.14053 22.566909 \r\nL 76.025529 26.096182 \r\nL 75.910528 30.434329 \r\nL 75.795527 35.587347 \r\nL 75.680526 41.526899 \r\nL 75.565525 48.190435 \r\nL 75.450524 55.483732 \r\nL 75.335523 63.285629 \r\nL 75.220522 71.45453 \r\nL 75.105521 79.836099 \r\nL 74.99052 88.271507 \r\nL 74.875519 96.605557 \r\nL 74.760518 104.694098 \r\nL 74.645517 112.410196 \r\nL 74.530516 119.648756 \r\nL 74.415515 126.329373 \r\nL 74.300514 132.397423 \r\nL 74.185513 137.823514 \r\nL 74.070512 142.601556 \r\nL 73.955511 146.745773 \r\nL 73.84051 150.287017 \r\nL 73.725509 153.268766 \r\nL 73.610508 155.743103 \r\nL 73.495507 157.766971 \r\nL 73.380506 159.398881 \r\nL 73.265505 160.696211 \r\nL 73.150504 161.713134 \r\nL 73.035503 162.499181 \r\nL 72.920502 163.098373 \r\nL 72.805501 163.548848 \r\nL 72.6905 163.882883 \r\nz\r\n\" style=\"fill:#ff7f0e;fill-opacity:0.25;\"/>\r\n   </g>\r\n   <g id=\"PolyCollection_3\"/>\r\n   <g id=\"PolyCollection_4\">\r\n    <path clip-path=\"url(#pd65142b25b)\" d=\"M 77.009169 161.902406 \r\nL 77.009169 164.7 \r\nL 77.289233 164.7 \r\nL 77.569298 164.7 \r\nL 77.849363 164.7 \r\nL 78.129427 164.7 \r\nL 78.409492 164.7 \r\nL 78.689557 164.7 \r\nL 78.969622 164.7 \r\nL 79.249686 164.7 \r\nL 79.529751 164.7 \r\nL 79.809816 164.7 \r\nL 80.08988 164.7 \r\nL 80.369945 164.7 \r\nL 80.65001 164.7 \r\nL 80.930075 164.7 \r\nL 81.210139 164.7 \r\nL 81.490204 164.7 \r\nL 81.770269 164.7 \r\nL 82.050333 164.7 \r\nL 82.330398 164.7 \r\nL 82.610463 164.7 \r\nL 82.890528 164.7 \r\nL 83.170592 164.7 \r\nL 83.450657 164.7 \r\nL 83.730722 164.7 \r\nL 84.010786 164.7 \r\nL 84.290851 164.7 \r\nL 84.570916 164.7 \r\nL 84.850981 164.7 \r\nL 85.131045 164.7 \r\nL 85.41111 164.7 \r\nL 85.691175 164.7 \r\nL 85.97124 164.7 \r\nL 86.251304 164.7 \r\nL 86.531369 164.7 \r\nL 86.811434 164.7 \r\nL 87.091498 164.7 \r\nL 87.371563 164.7 \r\nL 87.651628 164.7 \r\nL 87.931693 164.7 \r\nL 88.211757 164.7 \r\nL 88.491822 164.7 \r\nL 88.771887 164.7 \r\nL 89.051951 164.7 \r\nL 89.332016 164.7 \r\nL 89.612081 164.7 \r\nL 89.892146 164.7 \r\nL 90.17221 164.7 \r\nL 90.452275 164.7 \r\nL 90.73234 164.7 \r\nL 91.012404 164.7 \r\nL 91.292469 164.7 \r\nL 91.572534 164.7 \r\nL 91.852599 164.7 \r\nL 92.132663 164.7 \r\nL 92.412728 164.7 \r\nL 92.692793 164.7 \r\nL 92.972857 164.7 \r\nL 93.252922 164.7 \r\nL 93.532987 164.7 \r\nL 93.813052 164.7 \r\nL 94.093116 164.7 \r\nL 94.373181 164.7 \r\nL 94.653246 164.7 \r\nL 94.933311 164.7 \r\nL 95.213375 164.7 \r\nL 95.49344 164.7 \r\nL 95.773505 164.7 \r\nL 96.053569 164.7 \r\nL 96.333634 164.7 \r\nL 96.613699 164.7 \r\nL 96.893764 164.7 \r\nL 97.173828 164.7 \r\nL 97.453893 164.7 \r\nL 97.733958 164.7 \r\nL 98.014022 164.7 \r\nL 98.294087 164.7 \r\nL 98.574152 164.7 \r\nL 98.854217 164.7 \r\nL 99.134281 164.7 \r\nL 99.414346 164.7 \r\nL 99.694411 164.7 \r\nL 99.974475 164.7 \r\nL 100.25454 164.7 \r\nL 100.534605 164.7 \r\nL 100.81467 164.7 \r\nL 101.094734 164.7 \r\nL 101.374799 164.7 \r\nL 101.654864 164.7 \r\nL 101.934928 164.7 \r\nL 102.214993 164.7 \r\nL 102.495058 164.7 \r\nL 102.775123 164.7 \r\nL 103.055187 164.7 \r\nL 103.335252 164.7 \r\nL 103.615317 164.7 \r\nL 103.895382 164.7 \r\nL 104.175446 164.7 \r\nL 104.455511 164.7 \r\nL 104.735576 164.7 \r\nL 104.735576 163.221457 \r\nL 104.735576 163.221457 \r\nL 104.455511 162.942631 \r\nL 104.175446 162.621818 \r\nL 103.895382 162.254894 \r\nL 103.615317 161.837751 \r\nL 103.335252 161.366385 \r\nL 103.055187 160.836996 \r\nL 102.775123 160.246105 \r\nL 102.495058 159.590665 \r\nL 102.214993 158.868192 \r\nL 101.934928 158.076884 \r\nL 101.654864 157.215747 \r\nL 101.374799 156.284704 \r\nL 101.094734 155.284696 \r\nL 100.81467 154.217766 \r\nL 100.534605 153.087112 \r\nL 100.25454 151.897118 \r\nL 99.974475 150.653342 \r\nL 99.694411 149.362479 \r\nL 99.414346 148.032272 \r\nL 99.134281 146.671384 \r\nL 98.854217 145.289234 \r\nL 98.574152 143.895787 \r\nL 98.294087 142.501309 \r\nL 98.014022 141.116095 \r\nL 97.733958 139.750175 \r\nL 97.453893 138.413001 \r\nL 97.173828 137.113138 \r\nL 96.893764 135.857959 \r\nL 96.613699 134.653371 \r\nL 96.333634 133.50356 \r\nL 96.053569 132.410801 \r\nL 95.773505 131.375312 \r\nL 95.49344 130.395182 \r\nL 95.213375 129.466376 \r\nL 94.933311 128.582817 \r\nL 94.653246 127.736554 \r\nL 94.373181 126.918011 \r\nL 94.093116 126.116317 \r\nL 93.813052 125.319699 \r\nL 93.532987 124.515944 \r\nL 93.252922 123.692896 \r\nL 92.972857 122.838985 \r\nL 92.692793 121.943769 \r\nL 92.412728 120.998457 \r\nL 92.132663 119.996405 \r\nL 91.852599 118.933561 \r\nL 91.572534 117.808835 \r\nL 91.292469 116.624382 \r\nL 91.012404 115.385785 \r\nL 90.73234 114.102116 \r\nL 90.452275 112.785888 \r\nL 90.17221 111.452876 \r\nL 89.892146 110.121818 \r\nL 89.612081 108.814009 \r\nL 89.332016 107.552782 \r\nL 89.051951 106.36292 \r\nL 88.771887 105.269984 \r\nL 88.491822 104.299611 \r\nL 88.211757 103.476782 \r\nL 87.931693 102.825104 \r\nL 87.651628 102.366117 \r\nL 87.371563 102.118656 \r\nL 87.091498 102.098291 \r\nL 86.811434 102.316862 \r\nL 86.531369 102.782125 \r\nL 86.251304 103.497516 \r\nL 85.97124 104.462049 \r\nL 85.691175 105.670336 \r\nL 85.41111 107.112742 \r\nL 85.131045 108.775646 \r\nL 84.850981 110.641821 \r\nL 84.570916 112.690892 \r\nL 84.290851 114.899877 \r\nL 84.010786 117.243773 \r\nL 83.730722 119.696171 \r\nL 83.450657 122.229894 \r\nL 83.170592 124.817608 \r\nL 82.890528 127.432412 \r\nL 82.610463 130.048385 \r\nL 82.330398 132.641066 \r\nL 82.050333 135.187867 \r\nL 81.770269 137.668409 \r\nL 81.490204 140.064773 \r\nL 81.210139 142.361667 \r\nL 80.930075 144.546518 \r\nL 80.65001 146.60948 \r\nL 80.369945 148.543374 \r\nL 80.08988 150.343573 \r\nL 79.809816 152.007829 \r\nL 79.529751 153.536062 \r\nL 79.249686 154.930119 \r\nL 78.969622 156.193516 \r\nL 78.689557 157.331168 \r\nL 78.409492 158.349119 \r\nL 78.129427 159.254283 \r\nL 77.849363 160.054191 \r\nL 77.569298 160.756771 \r\nL 77.289233 161.370135 \r\nL 77.009169 161.902406 \r\nz\r\n\" style=\"fill:#d62728;fill-opacity:0.25;\"/>\r\n   </g>\r\n   <g id=\"line2d_35\">\r\n    <path clip-path=\"url(#pd65142b25b)\" d=\"M 89.330389 161.426251 \r\nL 89.665789 160.991042 \r\nL 90.001189 160.512352 \r\nL 90.336589 159.988015 \r\nL 90.671988 159.41607 \r\nL 91.007388 158.794808 \r\nL 91.342788 158.122821 \r\nL 91.678188 157.399051 \r\nL 92.013587 156.622839 \r\nL 92.348987 155.793968 \r\nL 92.684387 154.912701 \r\nL 93.019787 153.979819 \r\nL 93.355186 152.996649 \r\nL 93.690586 151.965078 \r\nL 94.025986 150.887569 \r\nL 94.361386 149.76716 \r\nL 94.696785 148.607452 \r\nL 95.032185 147.412589 \r\nL 95.367585 146.187223 \r\nL 95.702985 144.936472 \r\nL 96.038384 143.665861 \r\nL 96.373784 142.381259 \r\nL 96.709184 141.088804 \r\nL 97.044584 139.794819 \r\nL 97.379983 138.505728 \r\nL 97.715383 137.227963 \r\nL 98.050783 135.967868 \r\nL 98.386183 134.731613 \r\nL 98.721582 133.525103 \r\nL 99.056982 132.353895 \r\nL 99.392382 131.223125 \r\nL 99.727782 130.137443 \r\nL 100.063181 129.100963 \r\nL 100.398581 128.117225 \r\nL 100.733981 127.189171 \r\nL 101.069381 126.319139 \r\nL 101.40478 125.508872 \r\nL 101.74018 124.759542 \r\nL 102.07558 124.071787 \r\nL 102.41098 123.445767 \r\nL 102.74638 122.881223 \r\nL 103.081779 122.377556 \r\nL 103.417179 121.933897 \r\nL 103.752579 121.549202 \r\nL 104.087979 121.222326 \r\nL 104.423378 120.952108 \r\nL 104.758778 120.737452 \r\nL 105.094178 120.577388 \r\nL 105.429578 120.471136 \r\nL 105.764977 120.418151 \r\nL 106.100377 120.418151 \r\nL 106.435777 120.471136 \r\nL 106.771177 120.577388 \r\nL 107.106576 120.737452 \r\nL 107.441976 120.952108 \r\nL 107.777376 121.222326 \r\nL 108.112776 121.549202 \r\nL 108.448175 121.933897 \r\nL 108.783575 122.377556 \r\nL 109.118975 122.881223 \r\nL 109.454375 123.445767 \r\nL 109.789774 124.071787 \r\nL 110.125174 124.759542 \r\nL 110.460574 125.508872 \r\nL 110.795974 126.319139 \r\nL 111.131373 127.189171 \r\nL 111.466773 128.117225 \r\nL 111.802173 129.100963 \r\nL 112.137573 130.137443 \r\nL 112.472972 131.223125 \r\nL 112.808372 132.353895 \r\nL 113.143772 133.525103 \r\nL 113.479172 134.731613 \r\nL 113.814571 135.967868 \r\nL 114.149971 137.227963 \r\nL 114.485371 138.505728 \r\nL 114.820771 139.794819 \r\nL 115.15617 141.088804 \r\nL 115.49157 142.381259 \r\nL 115.82697 143.665861 \r\nL 116.16237 144.936472 \r\nL 116.49777 146.187223 \r\nL 116.833169 147.412589 \r\nL 117.168569 148.607452 \r\nL 117.503969 149.76716 \r\nL 117.839369 150.887569 \r\nL 118.174768 151.965078 \r\nL 118.510168 152.996649 \r\nL 118.845568 153.979819 \r\nL 119.180968 154.912701 \r\nL 119.516367 155.793968 \r\nL 119.851767 156.622839 \r\nL 120.187167 157.399051 \r\nL 120.522567 158.122821 \r\nL 120.857966 158.794808 \r\nL 121.193366 159.41607 \r\nL 121.528766 159.988015 \r\nL 121.864166 160.512352 \r\nL 122.199565 160.991042 \r\nL 122.534965 161.426251 \r\n\" style=\"fill:none;stroke:#1f77b4;stroke-linecap:square;stroke-width:1.5;\"/>\r\n   </g>\r\n   <g id=\"line2d_36\">\r\n    <path clip-path=\"url(#pd65142b25b)\" d=\"M 72.6905 163.882883 \r\nL 72.805501 163.548848 \r\nL 72.920502 163.098373 \r\nL 73.035503 162.499181 \r\nL 73.150504 161.713134 \r\nL 73.265505 160.696211 \r\nL 73.380506 159.398881 \r\nL 73.495507 157.766971 \r\nL 73.610508 155.743103 \r\nL 73.725509 153.268766 \r\nL 73.84051 150.287017 \r\nL 73.955511 146.745773 \r\nL 74.070512 142.601556 \r\nL 74.185513 137.823514 \r\nL 74.300514 132.397423 \r\nL 74.415515 126.329373 \r\nL 74.530516 119.648756 \r\nL 74.645517 112.410196 \r\nL 74.760518 104.694098 \r\nL 74.875519 96.605557 \r\nL 74.99052 88.271507 \r\nL 75.105521 79.836099 \r\nL 75.220522 71.45453 \r\nL 75.335523 63.285629 \r\nL 75.450524 55.483732 \r\nL 75.565525 48.190435 \r\nL 75.680526 41.526899 \r\nL 75.795527 35.587347 \r\nL 75.910528 30.434329 \r\nL 76.025529 26.096182 \r\nL 76.14053 22.566909 \r\nL 76.255531 19.808477 \r\nL 76.370532 17.755325 \r\nL 76.485533 16.320641 \r\nL 76.600534 15.403819 \r\nL 76.715535 14.898433 \r\nL 76.830536 14.7 \r\nL 76.945537 14.712913 \r\nL 77.060538 14.856008 \r\nL 77.175539 15.066408 \r\nL 77.29054 15.301497 \r\nL 77.405542 15.539045 \r\nL 77.520543 15.775714 \r\nL 77.635544 16.024264 \r\nL 77.750545 16.309907 \r\nL 77.865546 16.66624 \r\nL 77.980547 17.13119 \r\nL 78.095548 17.743307 \r\nL 78.210549 18.53866 \r\nL 78.32555 19.54848 \r\nL 78.440551 20.797584 \r\nL 78.555552 22.30352 \r\nL 78.670553 24.076345 \r\nL 78.785554 26.118878 \r\nL 78.900555 28.4273 \r\nL 79.015556 30.991973 \r\nL 79.130557 33.798395 \r\nL 79.245558 36.828236 \r\nL 79.360559 40.060418 \r\nL 79.47556 43.472235 \r\nL 79.590561 47.040501 \r\nL 79.705562 50.742698 \r\nL 79.820563 54.558064 \r\nL 79.935564 58.468575 \r\nL 80.050565 62.4597 \r\nL 80.165566 66.520856 \r\nL 80.280567 70.64546 \r\nL 80.395568 74.830541 \r\nL 80.510569 79.075887 \r\nL 80.62557 83.382785 \r\nL 80.740571 87.75245 \r\nL 80.855572 92.184307 \r\nL 80.970573 96.6743 \r\nL 81.085574 101.213442 \r\nL 81.200575 105.786762 \r\nL 81.315576 110.372815 \r\nL 81.430577 114.943825 \r\nL 81.545578 119.466467 \r\nL 81.660579 123.903235 \r\nL 81.77558 128.214268 \r\nL 81.890581 132.359451 \r\nL 82.005582 136.3006 \r\nL 82.120583 140.003529 \r\nL 82.235584 143.439812 \r\nL 82.350585 146.588109 \r\nL 82.465586 149.434968 \r\nL 82.580587 151.97507 \r\nL 82.695588 154.21095 \r\nL 82.810589 156.152272 \r\nL 82.92559 157.814739 \r\nL 83.040591 159.218795 \r\nL 83.155592 160.388221 \r\nL 83.270593 161.348738 \r\nL 83.385594 162.126733 \r\nL 83.500595 162.748159 \r\nL 83.615596 163.23765 \r\nL 83.730597 163.617884 \r\nL 83.845598 163.909168 \r\nL 83.960599 164.129234 \r\nL 84.0756 164.293206 \r\n\" style=\"fill:none;stroke:#ff7f0e;stroke-linecap:square;stroke-width:1.5;\"/>\r\n   </g>\r\n   <g id=\"line2d_37\"/>\r\n   <g id=\"line2d_38\">\r\n    <path clip-path=\"url(#pd65142b25b)\" d=\"M 77.009169 161.902406 \r\nL 77.289233 161.370135 \r\nL 77.569298 160.756771 \r\nL 77.849363 160.054191 \r\nL 78.129427 159.254283 \r\nL 78.409492 158.349119 \r\nL 78.689557 157.331168 \r\nL 78.969622 156.193516 \r\nL 79.249686 154.930119 \r\nL 79.529751 153.536062 \r\nL 79.809816 152.007829 \r\nL 80.08988 150.343573 \r\nL 80.369945 148.543374 \r\nL 80.65001 146.60948 \r\nL 80.930075 144.546518 \r\nL 81.210139 142.361667 \r\nL 81.490204 140.064773 \r\nL 81.770269 137.668409 \r\nL 82.050333 135.187867 \r\nL 82.330398 132.641066 \r\nL 82.610463 130.048385 \r\nL 82.890528 127.432412 \r\nL 83.170592 124.817608 \r\nL 83.450657 122.229894 \r\nL 83.730722 119.696171 \r\nL 84.010786 117.243773 \r\nL 84.290851 114.899877 \r\nL 84.570916 112.690892 \r\nL 84.850981 110.641821 \r\nL 85.131045 108.775646 \r\nL 85.41111 107.112742 \r\nL 85.691175 105.670336 \r\nL 85.97124 104.462049 \r\nL 86.251304 103.497516 \r\nL 86.531369 102.782125 \r\nL 86.811434 102.316862 \r\nL 87.091498 102.098291 \r\nL 87.371563 102.118656 \r\nL 87.651628 102.366117 \r\nL 87.931693 102.825104 \r\nL 88.211757 103.476782 \r\nL 88.491822 104.299611 \r\nL 88.771887 105.269984 \r\nL 89.051951 106.36292 \r\nL 89.332016 107.552782 \r\nL 89.612081 108.814009 \r\nL 89.892146 110.121818 \r\nL 90.17221 111.452876 \r\nL 90.452275 112.785888 \r\nL 90.73234 114.102116 \r\nL 91.012404 115.385785 \r\nL 91.292469 116.624382 \r\nL 91.572534 117.808835 \r\nL 91.852599 118.933561 \r\nL 92.132663 119.996405 \r\nL 92.412728 120.998457 \r\nL 92.692793 121.943769 \r\nL 92.972857 122.838985 \r\nL 93.252922 123.692896 \r\nL 93.532987 124.515944 \r\nL 93.813052 125.319699 \r\nL 94.093116 126.116317 \r\nL 94.373181 126.918011 \r\nL 94.653246 127.736554 \r\nL 94.933311 128.582817 \r\nL 95.213375 129.466376 \r\nL 95.49344 130.395182 \r\nL 95.773505 131.375312 \r\nL 96.053569 132.410801 \r\nL 96.333634 133.50356 \r\nL 96.613699 134.653371 \r\nL 96.893764 135.857959 \r\nL 97.173828 137.113138 \r\nL 97.453893 138.413001 \r\nL 97.733958 139.750175 \r\nL 98.014022 141.116095 \r\nL 98.294087 142.501309 \r\nL 98.574152 143.895787 \r\nL 98.854217 145.289234 \r\nL 99.134281 146.671384 \r\nL 99.414346 148.032272 \r\nL 99.694411 149.362479 \r\nL 99.974475 150.653342 \r\nL 100.25454 151.897118 \r\nL 100.534605 153.087112 \r\nL 100.81467 154.217766 \r\nL 101.094734 155.284696 \r\nL 101.374799 156.284704 \r\nL 101.654864 157.215747 \r\nL 101.934928 158.076884 \r\nL 102.214993 158.868192 \r\nL 102.495058 159.590665 \r\nL 102.775123 160.246105 \r\nL 103.055187 160.836996 \r\nL 103.335252 161.366385 \r\nL 103.615317 161.837751 \r\nL 103.895382 162.254894 \r\nL 104.175446 162.621818 \r\nL 104.455511 162.942631 \r\nL 104.735576 163.221457 \r\n\" style=\"fill:none;stroke:#d62728;stroke-linecap:square;stroke-width:1.5;\"/>\r\n   </g>\r\n  </g>\r\n  <g id=\"axes_6\">\r\n   <g id=\"PolyCollection_5\">\r\n    <path clip-path=\"url(#pce18832f71)\" d=\"M 241.289288 331.463682 \r\nL 241.289288 332.2 \r\nL 242.187082 332.2 \r\nL 243.084876 332.2 \r\nL 243.982669 332.2 \r\nL 244.880463 332.2 \r\nL 245.778257 332.2 \r\nL 246.67605 332.2 \r\nL 247.573844 332.2 \r\nL 248.471637 332.2 \r\nL 249.369431 332.2 \r\nL 250.267225 332.2 \r\nL 251.165018 332.2 \r\nL 252.062812 332.2 \r\nL 252.960606 332.2 \r\nL 253.858399 332.2 \r\nL 254.756193 332.2 \r\nL 255.653986 332.2 \r\nL 256.55178 332.2 \r\nL 257.449574 332.2 \r\nL 258.347367 332.2 \r\nL 259.245161 332.2 \r\nL 260.142955 332.2 \r\nL 261.040748 332.2 \r\nL 261.938542 332.2 \r\nL 262.836335 332.2 \r\nL 263.734129 332.2 \r\nL 264.631923 332.2 \r\nL 265.529716 332.2 \r\nL 266.42751 332.2 \r\nL 267.325303 332.2 \r\nL 268.223097 332.2 \r\nL 269.120891 332.2 \r\nL 270.018684 332.2 \r\nL 270.916478 332.2 \r\nL 271.814272 332.2 \r\nL 272.712065 332.2 \r\nL 273.609859 332.2 \r\nL 274.507652 332.2 \r\nL 275.405446 332.2 \r\nL 276.30324 332.2 \r\nL 277.201033 332.2 \r\nL 278.098827 332.2 \r\nL 278.996621 332.2 \r\nL 279.894414 332.2 \r\nL 280.792208 332.2 \r\nL 281.690001 332.2 \r\nL 282.587795 332.2 \r\nL 283.485589 332.2 \r\nL 284.383382 332.2 \r\nL 285.281176 332.2 \r\nL 286.17897 332.2 \r\nL 287.076763 332.2 \r\nL 287.974557 332.2 \r\nL 288.87235 332.2 \r\nL 289.770144 332.2 \r\nL 290.667938 332.2 \r\nL 291.565731 332.2 \r\nL 292.463525 332.2 \r\nL 293.361318 332.2 \r\nL 294.259112 332.2 \r\nL 295.156906 332.2 \r\nL 296.054699 332.2 \r\nL 296.952493 332.2 \r\nL 297.850287 332.2 \r\nL 298.74808 332.2 \r\nL 299.645874 332.2 \r\nL 300.543667 332.2 \r\nL 301.441461 332.2 \r\nL 302.339255 332.2 \r\nL 303.237048 332.2 \r\nL 304.134842 332.2 \r\nL 305.032636 332.2 \r\nL 305.930429 332.2 \r\nL 306.828223 332.2 \r\nL 307.726016 332.2 \r\nL 308.62381 332.2 \r\nL 309.521604 332.2 \r\nL 310.419397 332.2 \r\nL 311.317191 332.2 \r\nL 312.214985 332.2 \r\nL 313.112778 332.2 \r\nL 314.010572 332.2 \r\nL 314.908365 332.2 \r\nL 315.806159 332.2 \r\nL 316.703953 332.2 \r\nL 317.601746 332.2 \r\nL 318.49954 332.2 \r\nL 319.397333 332.2 \r\nL 320.295127 332.2 \r\nL 321.192921 332.2 \r\nL 322.090714 332.2 \r\nL 322.988508 332.2 \r\nL 323.886302 332.2 \r\nL 324.784095 332.2 \r\nL 325.681889 332.2 \r\nL 326.579682 332.2 \r\nL 327.477476 332.2 \r\nL 328.37527 332.2 \r\nL 329.273063 332.2 \r\nL 330.170857 332.2 \r\nL 330.170857 331.463682 \r\nL 330.170857 331.463682 \r\nL 329.273063 331.365797 \r\nL 328.37527 331.258132 \r\nL 327.477476 331.140201 \r\nL 326.579682 331.011561 \r\nL 325.681889 330.87183 \r\nL 324.784095 330.720689 \r\nL 323.886302 330.557902 \r\nL 322.988508 330.38332 \r\nL 322.090714 330.196893 \r\nL 321.192921 329.998683 \r\nL 320.295127 329.788863 \r\nL 319.397333 329.567732 \r\nL 318.49954 329.335716 \r\nL 317.601746 329.093367 \r\nL 316.703953 328.841369 \r\nL 315.806159 328.580533 \r\nL 314.908365 328.311789 \r\nL 314.010572 328.036186 \r\nL 313.112778 327.754872 \r\nL 312.214985 327.469092 \r\nL 311.317191 327.180164 \r\nL 310.419397 326.889471 \r\nL 309.521604 326.598433 \r\nL 308.62381 326.308497 \r\nL 307.726016 326.021107 \r\nL 306.828223 325.737692 \r\nL 305.930429 325.459639 \r\nL 305.032636 325.188276 \r\nL 304.134842 324.924853 \r\nL 303.237048 324.670525 \r\nL 302.339255 324.426338 \r\nL 301.441461 324.193217 \r\nL 300.543667 323.971959 \r\nL 299.645874 323.763225 \r\nL 298.74808 323.567541 \r\nL 297.850287 323.385299 \r\nL 296.952493 323.216763 \r\nL 296.054699 323.062076 \r\nL 295.156906 322.921274 \r\nL 294.259112 322.7943 \r\nL 293.361318 322.681017 \r\nL 292.463525 322.581231 \r\nL 291.565731 322.494707 \r\nL 290.667938 322.421188 \r\nL 289.770144 322.360411 \r\nL 288.87235 322.312132 \r\nL 287.974557 322.276131 \r\nL 287.076763 322.252233 \r\nL 286.17897 322.240316 \r\nL 285.281176 322.240316 \r\nL 284.383382 322.252233 \r\nL 283.485589 322.276131 \r\nL 282.587795 322.312132 \r\nL 281.690001 322.360411 \r\nL 280.792208 322.421188 \r\nL 279.894414 322.494707 \r\nL 278.996621 322.581231 \r\nL 278.098827 322.681017 \r\nL 277.201033 322.7943 \r\nL 276.30324 322.921274 \r\nL 275.405446 323.062076 \r\nL 274.507652 323.216763 \r\nL 273.609859 323.385299 \r\nL 272.712065 323.567541 \r\nL 271.814272 323.763225 \r\nL 270.916478 323.971959 \r\nL 270.018684 324.193217 \r\nL 269.120891 324.426338 \r\nL 268.223097 324.670525 \r\nL 267.325303 324.924853 \r\nL 266.42751 325.188276 \r\nL 265.529716 325.459639 \r\nL 264.631923 325.737692 \r\nL 263.734129 326.021107 \r\nL 262.836335 326.308497 \r\nL 261.938542 326.598433 \r\nL 261.040748 326.889471 \r\nL 260.142955 327.180164 \r\nL 259.245161 327.469092 \r\nL 258.347367 327.754872 \r\nL 257.449574 328.036186 \r\nL 256.55178 328.311789 \r\nL 255.653986 328.580533 \r\nL 254.756193 328.841369 \r\nL 253.858399 329.093367 \r\nL 252.960606 329.335716 \r\nL 252.062812 329.567732 \r\nL 251.165018 329.788863 \r\nL 250.267225 329.998683 \r\nL 249.369431 330.196893 \r\nL 248.471637 330.38332 \r\nL 247.573844 330.557902 \r\nL 246.67605 330.720689 \r\nL 245.778257 330.87183 \r\nL 244.880463 331.011561 \r\nL 243.982669 331.140201 \r\nL 243.084876 331.258132 \r\nL 242.187082 331.365797 \r\nL 241.289288 331.463682 \r\nz\r\n\" style=\"fill:#1f77b4;fill-opacity:0.25;\"/>\r\n   </g>\r\n   <g id=\"PolyCollection_6\">\r\n    <path clip-path=\"url(#pce18832f71)\" d=\"M 263.357713 331.492104 \r\nL 263.357713 332.2 \r\nL 263.456993 332.2 \r\nL 263.556273 332.2 \r\nL 263.655552 332.2 \r\nL 263.754832 332.2 \r\nL 263.854112 332.2 \r\nL 263.953392 332.2 \r\nL 264.052672 332.2 \r\nL 264.151952 332.2 \r\nL 264.251232 332.2 \r\nL 264.350511 332.2 \r\nL 264.449791 332.2 \r\nL 264.549071 332.2 \r\nL 264.648351 332.2 \r\nL 264.747631 332.2 \r\nL 264.846911 332.2 \r\nL 264.946191 332.2 \r\nL 265.04547 332.2 \r\nL 265.14475 332.2 \r\nL 265.24403 332.2 \r\nL 265.34331 332.2 \r\nL 265.44259 332.2 \r\nL 265.54187 332.2 \r\nL 265.64115 332.2 \r\nL 265.740429 332.2 \r\nL 265.839709 332.2 \r\nL 265.938989 332.2 \r\nL 266.038269 332.2 \r\nL 266.137549 332.2 \r\nL 266.236829 332.2 \r\nL 266.336109 332.2 \r\nL 266.435388 332.2 \r\nL 266.534668 332.2 \r\nL 266.633948 332.2 \r\nL 266.733228 332.2 \r\nL 266.832508 332.2 \r\nL 266.931788 332.2 \r\nL 267.031068 332.2 \r\nL 267.130348 332.2 \r\nL 267.229627 332.2 \r\nL 267.328907 332.2 \r\nL 267.428187 332.2 \r\nL 267.527467 332.2 \r\nL 267.626747 332.2 \r\nL 267.726027 332.2 \r\nL 267.825307 332.2 \r\nL 267.924586 332.2 \r\nL 268.023866 332.2 \r\nL 268.123146 332.2 \r\nL 268.222426 332.2 \r\nL 268.321706 332.2 \r\nL 268.420986 332.2 \r\nL 268.520266 332.2 \r\nL 268.619545 332.2 \r\nL 268.718825 332.2 \r\nL 268.818105 332.2 \r\nL 268.917385 332.2 \r\nL 269.016665 332.2 \r\nL 269.115945 332.2 \r\nL 269.215225 332.2 \r\nL 269.314504 332.2 \r\nL 269.413784 332.2 \r\nL 269.513064 332.2 \r\nL 269.612344 332.2 \r\nL 269.711624 332.2 \r\nL 269.810904 332.2 \r\nL 269.910184 332.2 \r\nL 270.009463 332.2 \r\nL 270.108743 332.2 \r\nL 270.208023 332.2 \r\nL 270.307303 332.2 \r\nL 270.406583 332.2 \r\nL 270.505863 332.2 \r\nL 270.605143 332.2 \r\nL 270.704422 332.2 \r\nL 270.803702 332.2 \r\nL 270.902982 332.2 \r\nL 271.002262 332.2 \r\nL 271.101542 332.2 \r\nL 271.200822 332.2 \r\nL 271.300102 332.2 \r\nL 271.399381 332.2 \r\nL 271.498661 332.2 \r\nL 271.597941 332.2 \r\nL 271.697221 332.2 \r\nL 271.796501 332.2 \r\nL 271.895781 332.2 \r\nL 271.995061 332.2 \r\nL 272.094341 332.2 \r\nL 272.19362 332.2 \r\nL 272.2929 332.2 \r\nL 272.39218 332.2 \r\nL 272.49146 332.2 \r\nL 272.59074 332.2 \r\nL 272.69002 332.2 \r\nL 272.7893 332.2 \r\nL 272.888579 332.2 \r\nL 272.987859 332.2 \r\nL 273.087139 332.2 \r\nL 273.186419 332.2 \r\nL 273.186419 331.997045 \r\nL 273.186419 331.997045 \r\nL 273.087139 331.914999 \r\nL 272.987859 331.805052 \r\nL 272.888579 331.659855 \r\nL 272.7893 331.470889 \r\nL 272.69002 331.228528 \r\nL 272.59074 330.922193 \r\nL 272.49146 330.540606 \r\nL 272.39218 330.072147 \r\nL 272.2929 329.505321 \r\nL 272.19362 328.829303 \r\nL 272.094341 328.034537 \r\nL 271.995061 327.113354 \r\nL 271.895781 326.06055 \r\nL 271.796501 324.873868 \r\nL 271.697221 323.554335 \r\nL 271.597941 322.106411 \r\nL 271.498661 320.537904 \r\nL 271.399381 318.859651 \r\nL 271.300102 317.084983 \r\nL 271.200822 315.22899 \r\nL 271.101542 313.307675 \r\nL 271.002262 311.337047 \r\nL 270.902982 309.332261 \r\nL 270.803702 307.306868 \r\nL 270.704422 305.272265 \r\nL 270.605143 303.237391 \r\nL 270.505863 301.208685 \r\nL 270.406583 299.190327 \r\nL 270.307303 297.184697 \r\nL 270.208023 295.193029 \r\nL 270.108743 293.216159 \r\nL 270.009463 291.255297 \r\nL 269.910184 289.312729 \r\nL 269.810904 287.392355 \r\nL 269.711624 285.500015 \r\nL 269.612344 283.643506 \r\nL 269.513064 281.832282 \r\nL 269.413784 280.07679 \r\nL 269.314504 278.387451 \r\nL 269.215225 276.77331 \r\nL 269.115945 275.240414 \r\nL 269.016665 273.789992 \r\nL 268.917385 272.416573 \r\nL 268.818105 271.106181 \r\nL 268.718825 269.834803 \r\nL 268.619545 268.567321 \r\nL 268.520266 267.257122 \r\nL 268.420986 265.846571 \r\nL 268.321706 264.26851 \r\nL 268.222426 262.448867 \r\nL 268.123146 260.310395 \r\nL 268.023866 257.777446 \r\nL 267.924586 254.781585 \r\nL 267.825307 251.267739 \r\nL 267.726027 247.200482 \r\nL 267.626747 242.569979 \r\nL 267.527467 237.397087 \r\nL 267.428187 231.737092 \r\nL 267.328907 225.681635 \r\nL 267.229627 219.358461 \r\nL 267.130348 212.928766 \r\nL 267.031068 206.582084 \r\nL 266.931788 200.528865 \r\nL 266.832508 194.991064 \r\nL 266.733228 190.191274 \r\nL 266.633948 186.341073 \r\nL 266.534668 183.629353 \r\nL 266.435388 182.211471 \r\nL 266.336109 182.2 \r\nL 266.236829 183.657793 \r\nL 266.137549 186.593887 \r\nL 266.038269 190.962578 \r\nL 265.938989 196.665744 \r\nL 265.839709 203.558228 \r\nL 265.740429 211.455872 \r\nL 265.64115 220.14557 \r\nL 265.54187 229.396578 \r\nL 265.44259 238.972255 \r\nL 265.34331 248.641397 \r\nL 265.24403 258.188427 \r\nL 265.14475 267.421831 \r\nL 265.04547 276.180437 \r\nL 264.946191 284.337309 \r\nL 264.846911 291.801276 \r\nL 264.747631 298.516264 \r\nL 264.648351 304.458765 \r\nL 264.549071 309.633886 \r\nL 264.449791 314.070439 \r\nL 264.350511 317.815567 \r\nL 264.251232 320.929326 \r\nL 264.151952 323.479596 \r\nL 264.052672 325.537583 \r\nL 263.953392 327.17408 \r\nL 263.854112 328.456578 \r\nL 263.754832 329.447209 \r\nL 263.655552 330.201465 \r\nL 263.556273 330.767589 \r\nL 263.456993 331.186497 \r\nL 263.357713 331.492104 \r\nz\r\n\" style=\"fill:#ff7f0e;fill-opacity:0.25;\"/>\r\n   </g>\r\n   <g id=\"PolyCollection_7\"/>\r\n   <g id=\"PolyCollection_8\">\r\n    <path clip-path=\"url(#pce18832f71)\" d=\"M 266.831876 329.288144 \r\nL 266.831876 332.2 \r\nL 266.924647 332.2 \r\nL 267.017418 332.2 \r\nL 267.11019 332.2 \r\nL 267.202961 332.2 \r\nL 267.295732 332.2 \r\nL 267.388504 332.2 \r\nL 267.481275 332.2 \r\nL 267.574046 332.2 \r\nL 267.666818 332.2 \r\nL 267.759589 332.2 \r\nL 267.85236 332.2 \r\nL 267.945132 332.2 \r\nL 268.037903 332.2 \r\nL 268.130674 332.2 \r\nL 268.223446 332.2 \r\nL 268.316217 332.2 \r\nL 268.408988 332.2 \r\nL 268.50176 332.2 \r\nL 268.594531 332.2 \r\nL 268.687302 332.2 \r\nL 268.780074 332.2 \r\nL 268.872845 332.2 \r\nL 268.965616 332.2 \r\nL 269.058388 332.2 \r\nL 269.151159 332.2 \r\nL 269.24393 332.2 \r\nL 269.336702 332.2 \r\nL 269.429473 332.2 \r\nL 269.522244 332.2 \r\nL 269.615016 332.2 \r\nL 269.707787 332.2 \r\nL 269.800559 332.2 \r\nL 269.89333 332.2 \r\nL 269.986101 332.2 \r\nL 270.078873 332.2 \r\nL 270.171644 332.2 \r\nL 270.264415 332.2 \r\nL 270.357187 332.2 \r\nL 270.449958 332.2 \r\nL 270.542729 332.2 \r\nL 270.635501 332.2 \r\nL 270.728272 332.2 \r\nL 270.821043 332.2 \r\nL 270.913815 332.2 \r\nL 271.006586 332.2 \r\nL 271.099357 332.2 \r\nL 271.192129 332.2 \r\nL 271.2849 332.2 \r\nL 271.377671 332.2 \r\nL 271.470443 332.2 \r\nL 271.563214 332.2 \r\nL 271.655985 332.2 \r\nL 271.748757 332.2 \r\nL 271.841528 332.2 \r\nL 271.934299 332.2 \r\nL 272.027071 332.2 \r\nL 272.119842 332.2 \r\nL 272.212613 332.2 \r\nL 272.305385 332.2 \r\nL 272.398156 332.2 \r\nL 272.490927 332.2 \r\nL 272.583699 332.2 \r\nL 272.67647 332.2 \r\nL 272.769241 332.2 \r\nL 272.862013 332.2 \r\nL 272.954784 332.2 \r\nL 273.047555 332.2 \r\nL 273.140327 332.2 \r\nL 273.233098 332.2 \r\nL 273.325869 332.2 \r\nL 273.418641 332.2 \r\nL 273.511412 332.2 \r\nL 273.604184 332.2 \r\nL 273.696955 332.2 \r\nL 273.789726 332.2 \r\nL 273.882498 332.2 \r\nL 273.975269 332.2 \r\nL 274.06804 332.2 \r\nL 274.160812 332.2 \r\nL 274.253583 332.2 \r\nL 274.346354 332.2 \r\nL 274.439126 332.2 \r\nL 274.531897 332.2 \r\nL 274.624668 332.2 \r\nL 274.71744 332.2 \r\nL 274.810211 332.2 \r\nL 274.902982 332.2 \r\nL 274.995754 332.2 \r\nL 275.088525 332.2 \r\nL 275.181296 332.2 \r\nL 275.274068 332.2 \r\nL 275.366839 332.2 \r\nL 275.45961 332.2 \r\nL 275.552382 332.2 \r\nL 275.645153 332.2 \r\nL 275.737924 332.2 \r\nL 275.830696 332.2 \r\nL 275.923467 332.2 \r\nL 276.016238 332.2 \r\nL 276.016238 329.366467 \r\nL 276.016238 329.366467 \r\nL 275.923467 328.803518 \r\nL 275.830696 328.150716 \r\nL 275.737924 327.398446 \r\nL 275.645153 326.536984 \r\nL 275.552382 325.556686 \r\nL 275.45961 324.448207 \r\nL 275.366839 323.202735 \r\nL 275.274068 321.812253 \r\nL 275.181296 320.269803 \r\nL 275.088525 318.569763 \r\nL 274.995754 316.70811 \r\nL 274.902982 314.682668 \r\nL 274.810211 312.493335 \r\nL 274.71744 310.142264 \r\nL 274.624668 307.633998 \r\nL 274.531897 304.975545 \r\nL 274.439126 302.176387 \r\nL 274.346354 299.248416 \r\nL 274.253583 296.205795 \r\nL 274.160812 293.064739 \r\nL 274.06804 289.843227 \r\nL 273.975269 286.560647 \r\nL 273.882498 283.237388 \r\nL 273.789726 279.894384 \r\nL 273.696955 276.552639 \r\nL 273.604184 273.23274 \r\nL 273.511412 269.954382 \r\nL 273.418641 266.73593 \r\nL 273.325869 263.594022 \r\nL 273.233098 260.543248 \r\nL 273.140327 257.595906 \r\nL 273.047555 254.761851 \r\nL 272.954784 252.048448 \r\nL 272.862013 249.460619 \r\nL 272.769241 247.001001 \r\nL 272.67647 244.670179 \r\nL 272.583699 242.467018 \r\nL 272.490927 240.389051 \r\nL 272.398156 238.432907 \r\nL 272.305385 236.594786 \r\nL 272.212613 234.870917 \r\nL 272.119842 233.258017 \r\nL 272.027071 231.753705 \r\nL 271.934299 230.356871 \r\nL 271.841528 229.067966 \r\nL 271.748757 227.889221 \r\nL 271.655985 226.824771 \r\nL 271.563214 225.88069 \r\nL 271.470443 225.06493 \r\nL 271.377671 224.387171 \r\nL 271.2849 223.858592 \r\nL 271.192129 223.491557 \r\nL 271.099357 223.299253 \r\nL 271.006586 223.295272 \r\nL 270.913815 223.493155 \r\nL 270.821043 223.905929 \r\nL 270.728272 224.545627 \r\nL 270.635501 225.422831 \r\nL 270.542729 226.546235 \r\nL 270.449958 227.922244 \r\nL 270.357187 229.55463 \r\nL 270.264415 231.444243 \r\nL 270.171644 233.5888 \r\nL 270.078873 235.982738 \r\nL 269.986101 238.617159 \r\nL 269.89333 241.479854 \r\nL 269.800559 244.555411 \r\nL 269.707787 247.825404 \r\nL 269.615016 251.268661 \r\nL 269.522244 254.861604 \r\nL 269.429473 258.578644 \r\nL 269.336702 262.392636 \r\nL 269.24393 266.275362 \r\nL 269.151159 270.198046 \r\nL 269.058388 274.131877 \r\nL 268.965616 278.048521 \r\nL 268.872845 281.920621 \r\nL 268.780074 285.722258 \r\nL 268.687302 289.429368 \r\nL 268.594531 293.020098 \r\nL 268.50176 296.475105 \r\nL 268.408988 299.777773 \r\nL 268.316217 302.914364 \r\nL 268.223446 305.87409 \r\nL 268.130674 308.649111 \r\nL 268.037903 311.234469 \r\nL 267.945132 313.627957 \r\nL 267.85236 315.829929 \r\nL 267.759589 317.843078 \r\nL 267.666818 319.672168 \r\nL 267.574046 321.323752 \r\nL 267.481275 322.805866 \r\nL 267.388504 324.127732 \r\nL 267.295732 325.299459 \r\nL 267.202961 326.331762 \r\nL 267.11019 327.235694 \r\nL 267.017418 328.022414 \r\nL 266.924647 328.702975 \r\nL 266.831876 329.288144 \r\nz\r\n\" style=\"fill:#d62728;fill-opacity:0.25;\"/>\r\n   </g>\r\n   <g id=\"line2d_39\">\r\n    <path clip-path=\"url(#pce18832f71)\" d=\"M 241.289288 331.463682 \r\nL 242.187082 331.365797 \r\nL 243.084876 331.258132 \r\nL 243.982669 331.140201 \r\nL 244.880463 331.011561 \r\nL 245.778257 330.87183 \r\nL 246.67605 330.720689 \r\nL 247.573844 330.557902 \r\nL 248.471637 330.38332 \r\nL 249.369431 330.196893 \r\nL 250.267225 329.998683 \r\nL 251.165018 329.788863 \r\nL 252.062812 329.567732 \r\nL 252.960606 329.335716 \r\nL 253.858399 329.093367 \r\nL 254.756193 328.841369 \r\nL 255.653986 328.580533 \r\nL 256.55178 328.311789 \r\nL 257.449574 328.036186 \r\nL 258.347367 327.754872 \r\nL 259.245161 327.469092 \r\nL 260.142955 327.180164 \r\nL 261.040748 326.889471 \r\nL 261.938542 326.598433 \r\nL 262.836335 326.308497 \r\nL 263.734129 326.021107 \r\nL 264.631923 325.737692 \r\nL 265.529716 325.459639 \r\nL 266.42751 325.188276 \r\nL 267.325303 324.924853 \r\nL 268.223097 324.670525 \r\nL 269.120891 324.426338 \r\nL 270.018684 324.193217 \r\nL 270.916478 323.971959 \r\nL 271.814272 323.763225 \r\nL 272.712065 323.567541 \r\nL 273.609859 323.385299 \r\nL 274.507652 323.216763 \r\nL 275.405446 323.062076 \r\nL 276.30324 322.921274 \r\nL 277.201033 322.7943 \r\nL 278.098827 322.681017 \r\nL 278.996621 322.581231 \r\nL 279.894414 322.494707 \r\nL 280.792208 322.421188 \r\nL 281.690001 322.360411 \r\nL 282.587795 322.312132 \r\nL 283.485589 322.276131 \r\nL 284.383382 322.252233 \r\nL 285.281176 322.240316 \r\nL 286.17897 322.240316 \r\nL 287.076763 322.252233 \r\nL 287.974557 322.276131 \r\nL 288.87235 322.312132 \r\nL 289.770144 322.360411 \r\nL 290.667938 322.421188 \r\nL 291.565731 322.494707 \r\nL 292.463525 322.581231 \r\nL 293.361318 322.681017 \r\nL 294.259112 322.7943 \r\nL 295.156906 322.921274 \r\nL 296.054699 323.062076 \r\nL 296.952493 323.216763 \r\nL 297.850287 323.385299 \r\nL 298.74808 323.567541 \r\nL 299.645874 323.763225 \r\nL 300.543667 323.971959 \r\nL 301.441461 324.193217 \r\nL 302.339255 324.426338 \r\nL 303.237048 324.670525 \r\nL 304.134842 324.924853 \r\nL 305.032636 325.188276 \r\nL 305.930429 325.459639 \r\nL 306.828223 325.737692 \r\nL 307.726016 326.021107 \r\nL 308.62381 326.308497 \r\nL 309.521604 326.598433 \r\nL 310.419397 326.889471 \r\nL 311.317191 327.180164 \r\nL 312.214985 327.469092 \r\nL 313.112778 327.754872 \r\nL 314.010572 328.036186 \r\nL 314.908365 328.311789 \r\nL 315.806159 328.580533 \r\nL 316.703953 328.841369 \r\nL 317.601746 329.093367 \r\nL 318.49954 329.335716 \r\nL 319.397333 329.567732 \r\nL 320.295127 329.788863 \r\nL 321.192921 329.998683 \r\nL 322.090714 330.196893 \r\nL 322.988508 330.38332 \r\nL 323.886302 330.557902 \r\nL 324.784095 330.720689 \r\nL 325.681889 330.87183 \r\nL 326.579682 331.011561 \r\nL 327.477476 331.140201 \r\nL 328.37527 331.258132 \r\nL 329.273063 331.365797 \r\nL 330.170857 331.463682 \r\n\" style=\"fill:none;stroke:#1f77b4;stroke-linecap:square;stroke-width:1.5;\"/>\r\n   </g>\r\n   <g id=\"line2d_40\">\r\n    <path clip-path=\"url(#pce18832f71)\" d=\"M 263.357713 331.492104 \r\nL 263.456993 331.186497 \r\nL 263.556273 330.767589 \r\nL 263.655552 330.201465 \r\nL 263.754832 329.447209 \r\nL 263.854112 328.456578 \r\nL 263.953392 327.17408 \r\nL 264.052672 325.537583 \r\nL 264.151952 323.479596 \r\nL 264.251232 320.929326 \r\nL 264.350511 317.815567 \r\nL 264.449791 314.070439 \r\nL 264.549071 309.633886 \r\nL 264.648351 304.458765 \r\nL 264.747631 298.516264 \r\nL 264.846911 291.801276 \r\nL 264.946191 284.337309 \r\nL 265.04547 276.180437 \r\nL 265.14475 267.421831 \r\nL 265.24403 258.188427 \r\nL 265.34331 248.641397 \r\nL 265.44259 238.972255 \r\nL 265.54187 229.396578 \r\nL 265.64115 220.14557 \r\nL 265.740429 211.455872 \r\nL 265.839709 203.558228 \r\nL 265.938989 196.665744 \r\nL 266.038269 190.962578 \r\nL 266.137549 186.593887 \r\nL 266.236829 183.657793 \r\nL 266.336109 182.2 \r\nL 266.435388 182.211471 \r\nL 266.534668 183.629353 \r\nL 266.633948 186.341073 \r\nL 266.733228 190.191274 \r\nL 266.832508 194.991064 \r\nL 266.931788 200.528865 \r\nL 267.031068 206.582084 \r\nL 267.130348 212.928766 \r\nL 267.229627 219.358461 \r\nL 267.328907 225.681635 \r\nL 267.428187 231.737092 \r\nL 267.527467 237.397087 \r\nL 267.626747 242.569979 \r\nL 267.726027 247.200482 \r\nL 267.825307 251.267739 \r\nL 267.924586 254.781585 \r\nL 268.023866 257.777446 \r\nL 268.123146 260.310395 \r\nL 268.222426 262.448867 \r\nL 268.321706 264.26851 \r\nL 268.420986 265.846571 \r\nL 268.520266 267.257122 \r\nL 268.619545 268.567321 \r\nL 268.718825 269.834803 \r\nL 268.818105 271.106181 \r\nL 268.917385 272.416573 \r\nL 269.016665 273.789992 \r\nL 269.115945 275.240414 \r\nL 269.215225 276.77331 \r\nL 269.314504 278.387451 \r\nL 269.413784 280.07679 \r\nL 269.513064 281.832282 \r\nL 269.612344 283.643506 \r\nL 269.711624 285.500015 \r\nL 269.810904 287.392355 \r\nL 269.910184 289.312729 \r\nL 270.009463 291.255297 \r\nL 270.108743 293.216159 \r\nL 270.208023 295.193029 \r\nL 270.307303 297.184697 \r\nL 270.406583 299.190327 \r\nL 270.505863 301.208685 \r\nL 270.605143 303.237391 \r\nL 270.704422 305.272265 \r\nL 270.803702 307.306868 \r\nL 270.902982 309.332261 \r\nL 271.002262 311.337047 \r\nL 271.101542 313.307675 \r\nL 271.200822 315.22899 \r\nL 271.300102 317.084983 \r\nL 271.399381 318.859651 \r\nL 271.498661 320.537904 \r\nL 271.597941 322.106411 \r\nL 271.697221 323.554335 \r\nL 271.796501 324.873868 \r\nL 271.895781 326.06055 \r\nL 271.995061 327.113354 \r\nL 272.094341 328.034537 \r\nL 272.19362 328.829303 \r\nL 272.2929 329.505321 \r\nL 272.39218 330.072147 \r\nL 272.49146 330.540606 \r\nL 272.59074 330.922193 \r\nL 272.69002 331.228528 \r\nL 272.7893 331.470889 \r\nL 272.888579 331.659855 \r\nL 272.987859 331.805052 \r\nL 273.087139 331.914999 \r\nL 273.186419 331.997045 \r\n\" style=\"fill:none;stroke:#ff7f0e;stroke-linecap:square;stroke-width:1.5;\"/>\r\n   </g>\r\n   <g id=\"line2d_41\"/>\r\n   <g id=\"line2d_42\">\r\n    <path clip-path=\"url(#pce18832f71)\" d=\"M 266.831876 329.288144 \r\nL 266.924647 328.702975 \r\nL 267.017418 328.022414 \r\nL 267.11019 327.235694 \r\nL 267.202961 326.331762 \r\nL 267.295732 325.299459 \r\nL 267.388504 324.127732 \r\nL 267.481275 322.805866 \r\nL 267.574046 321.323752 \r\nL 267.666818 319.672168 \r\nL 267.759589 317.843078 \r\nL 267.85236 315.829929 \r\nL 267.945132 313.627957 \r\nL 268.037903 311.234469 \r\nL 268.130674 308.649111 \r\nL 268.223446 305.87409 \r\nL 268.316217 302.914364 \r\nL 268.408988 299.777773 \r\nL 268.50176 296.475105 \r\nL 268.594531 293.020098 \r\nL 268.687302 289.429368 \r\nL 268.780074 285.722258 \r\nL 268.872845 281.920621 \r\nL 268.965616 278.048521 \r\nL 269.058388 274.131877 \r\nL 269.151159 270.198046 \r\nL 269.24393 266.275362 \r\nL 269.336702 262.392636 \r\nL 269.429473 258.578644 \r\nL 269.522244 254.861604 \r\nL 269.615016 251.268661 \r\nL 269.707787 247.825404 \r\nL 269.800559 244.555411 \r\nL 269.89333 241.479854 \r\nL 269.986101 238.617159 \r\nL 270.078873 235.982738 \r\nL 270.171644 233.5888 \r\nL 270.264415 231.444243 \r\nL 270.357187 229.55463 \r\nL 270.449958 227.922244 \r\nL 270.542729 226.546235 \r\nL 270.635501 225.422831 \r\nL 270.728272 224.545627 \r\nL 270.821043 223.905929 \r\nL 270.913815 223.493155 \r\nL 271.006586 223.295272 \r\nL 271.099357 223.299253 \r\nL 271.192129 223.491557 \r\nL 271.2849 223.858592 \r\nL 271.377671 224.387171 \r\nL 271.470443 225.06493 \r\nL 271.563214 225.88069 \r\nL 271.655985 226.824771 \r\nL 271.748757 227.889221 \r\nL 271.841528 229.067966 \r\nL 271.934299 230.356871 \r\nL 272.027071 231.753705 \r\nL 272.119842 233.258017 \r\nL 272.212613 234.870917 \r\nL 272.305385 236.594786 \r\nL 272.398156 238.432907 \r\nL 272.490927 240.389051 \r\nL 272.583699 242.467018 \r\nL 272.67647 244.670179 \r\nL 272.769241 247.001001 \r\nL 272.862013 249.460619 \r\nL 272.954784 252.048448 \r\nL 273.047555 254.761851 \r\nL 273.140327 257.595906 \r\nL 273.233098 260.543248 \r\nL 273.325869 263.594022 \r\nL 273.418641 266.73593 \r\nL 273.511412 269.954382 \r\nL 273.604184 273.23274 \r\nL 273.696955 276.552639 \r\nL 273.789726 279.894384 \r\nL 273.882498 283.237388 \r\nL 273.975269 286.560647 \r\nL 274.06804 289.843227 \r\nL 274.160812 293.064739 \r\nL 274.253583 296.205795 \r\nL 274.346354 299.248416 \r\nL 274.439126 302.176387 \r\nL 274.531897 304.975545 \r\nL 274.624668 307.633998 \r\nL 274.71744 310.142264 \r\nL 274.810211 312.493335 \r\nL 274.902982 314.682668 \r\nL 274.995754 316.70811 \r\nL 275.088525 318.569763 \r\nL 275.181296 320.269803 \r\nL 275.274068 321.812253 \r\nL 275.366839 323.202735 \r\nL 275.45961 324.448207 \r\nL 275.552382 325.556686 \r\nL 275.645153 326.536984 \r\nL 275.737924 327.398446 \r\nL 275.830696 328.150716 \r\nL 275.923467 328.803518 \r\nL 276.016238 329.366467 \r\n\" style=\"fill:none;stroke:#d62728;stroke-linecap:square;stroke-width:1.5;\"/>\r\n   </g>\r\n  </g>\r\n  <g id=\"legend_1\">\r\n   <g id=\"text_22\">\r\n    <!-- cluster -->\r\n    <defs>\r\n     <path d=\"M 8.5 21.578125 \r\nL 8.5 54.6875 \r\nL 17.484375 54.6875 \r\nL 17.484375 21.921875 \r\nQ 17.484375 14.15625 20.5 10.265625 \r\nQ 23.53125 6.390625 29.59375 6.390625 \r\nQ 36.859375 6.390625 41.078125 11.03125 \r\nQ 45.3125 15.671875 45.3125 23.6875 \r\nL 45.3125 54.6875 \r\nL 54.296875 54.6875 \r\nL 54.296875 0 \r\nL 45.3125 0 \r\nL 45.3125 8.40625 \r\nQ 42.046875 3.421875 37.71875 1 \r\nQ 33.40625 -1.421875 27.6875 -1.421875 \r\nQ 18.265625 -1.421875 13.375 4.4375 \r\nQ 8.5 10.296875 8.5 21.578125 \r\nz\r\nM 31.109375 56 \r\nz\r\n\" id=\"DejaVuSans-117\"/>\r\n     <path d=\"M 18.3125 70.21875 \r\nL 18.3125 54.6875 \r\nL 36.8125 54.6875 \r\nL 36.8125 47.703125 \r\nL 18.3125 47.703125 \r\nL 18.3125 18.015625 \r\nQ 18.3125 11.328125 20.140625 9.421875 \r\nQ 21.96875 7.515625 27.59375 7.515625 \r\nL 36.8125 7.515625 \r\nL 36.8125 0 \r\nL 27.59375 0 \r\nQ 17.1875 0 13.234375 3.875 \r\nQ 9.28125 7.765625 9.28125 18.015625 \r\nL 9.28125 47.703125 \r\nL 2.6875 47.703125 \r\nL 2.6875 54.6875 \r\nL 9.28125 54.6875 \r\nL 9.28125 70.21875 \r\nz\r\n\" id=\"DejaVuSans-116\"/>\r\n    </defs>\r\n    <g transform=\"translate(386.08776 158.28125)scale(0.1 -0.1)\">\r\n     <use xlink:href=\"#DejaVuSans-99\"/>\r\n     <use x=\"54.980469\" xlink:href=\"#DejaVuSans-108\"/>\r\n     <use x=\"82.763672\" xlink:href=\"#DejaVuSans-117\"/>\r\n     <use x=\"146.142578\" xlink:href=\"#DejaVuSans-115\"/>\r\n     <use x=\"198.242188\" xlink:href=\"#DejaVuSans-116\"/>\r\n     <use x=\"237.451172\" xlink:href=\"#DejaVuSans-101\"/>\r\n     <use x=\"298.974609\" xlink:href=\"#DejaVuSans-114\"/>\r\n    </g>\r\n   </g>\r\n   <g id=\"PathCollection_9\">\r\n    <g>\r\n     <use style=\"fill:#1f77b4;stroke:#ffffff;stroke-width:0.75;\" x=\"395.910417\" xlink:href=\"#m446cc3a3ea\" y=\"170.334375\"/>\r\n    </g>\r\n   </g>\r\n   <g id=\"text_23\">\r\n    <!-- 1 -->\r\n    <g transform=\"translate(413.910417 172.959375)scale(0.1 -0.1)\">\r\n     <use xlink:href=\"#DejaVuSans-49\"/>\r\n    </g>\r\n   </g>\r\n   <g id=\"PathCollection_10\">\r\n    <g>\r\n     <use style=\"fill:#ff7f0e;stroke:#ffffff;stroke-width:0.75;\" x=\"395.910417\" xlink:href=\"#m8999325a8d\" y=\"185.0125\"/>\r\n    </g>\r\n   </g>\r\n   <g id=\"text_24\">\r\n    <!-- 2 -->\r\n    <g transform=\"translate(413.910417 187.6375)scale(0.1 -0.1)\">\r\n     <use xlink:href=\"#DejaVuSans-50\"/>\r\n    </g>\r\n   </g>\r\n   <g id=\"PathCollection_11\">\r\n    <g>\r\n     <use style=\"fill:#2ca02c;stroke:#ffffff;stroke-width:0.75;\" x=\"395.910417\" xlink:href=\"#mc219106872\" y=\"199.690625\"/>\r\n    </g>\r\n   </g>\r\n   <g id=\"text_25\">\r\n    <!-- 3 -->\r\n    <g transform=\"translate(413.910417 202.315625)scale(0.1 -0.1)\">\r\n     <use xlink:href=\"#DejaVuSans-51\"/>\r\n    </g>\r\n   </g>\r\n   <g id=\"PathCollection_12\">\r\n    <g>\r\n     <use style=\"fill:#d62728;stroke:#ffffff;stroke-width:0.75;\" x=\"395.910417\" xlink:href=\"#me5bf5e888d\" y=\"214.36875\"/>\r\n    </g>\r\n   </g>\r\n   <g id=\"text_26\">\r\n    <!-- 4 -->\r\n    <g transform=\"translate(413.910417 216.99375)scale(0.1 -0.1)\">\r\n     <use xlink:href=\"#DejaVuSans-52\"/>\r\n    </g>\r\n   </g>\r\n  </g>\r\n </g>\r\n <defs>\r\n  <clipPath id=\"pc0f27be91b\">\r\n   <rect height=\"157.5\" width=\"146.022253\" x=\"234.651913\" y=\"7.2\"/>\r\n  </clipPath>\r\n  <clipPath id=\"pcb5d9493d3\">\r\n   <rect height=\"157.5\" width=\"146.022253\" x=\"66.053125\" y=\"174.7\"/>\r\n  </clipPath>\r\n  <clipPath id=\"pd65142b25b\">\r\n   <rect height=\"157.5\" width=\"146.022253\" x=\"66.053125\" y=\"7.2\"/>\r\n  </clipPath>\r\n  <clipPath id=\"pce18832f71\">\r\n   <rect height=\"157.5\" width=\"146.022253\" x=\"234.651913\" y=\"174.7\"/>\r\n  </clipPath>\r\n </defs>\r\n</svg>\r\n",
      "image/png": "[encoded data removed]"
     },
     "metadata": {
      "needs_background": "light"
     }
    }
   ],
   "source": [
    "columnas_seleccionadas=[\"confirmados\", \"fallecidos\"]\n",
    "plt.figure(figsize=(20,20))\n",
    "sns.pairplot(data=dataset_km_sub_concat, vars=columnas_seleccionadas, hue='cluster')"
   ]
  },
  {
   "source": [
    "### Análisis exploratorio de clusters   "
   ],
   "cell_type": "markdown",
   "metadata": {}
  },
  {
   "source": [
    "#### Cantidad de observaciones por cluster"
   ],
   "cell_type": "markdown",
   "metadata": {}
  },
  {
   "cell_type": "code",
   "execution_count": 176,
   "metadata": {},
   "outputs": [
    {
     "output_type": "execute_result",
     "data": {
      "text/plain": [
       "         observaciones\n",
       "cluster               \n",
       "1                   20\n",
       "2                    1\n",
       "3                    3"
      ],
      "text/html": "<div>\n<style scoped>\n    .dataframe tbody tr th:only-of-type {\n        vertical-align: middle;\n    }\n\n    .dataframe tbody tr th {\n        vertical-align: top;\n    }\n\n    .dataframe thead th {\n        text-align: right;\n    }\n</style>\n<table border=\"1\" class=\"dataframe\">\n  <thead>\n    <tr style=\"text-align: right;\">\n      <th></th>\n      <th>observaciones</th>\n    </tr>\n    <tr>\n      <th>cluster</th>\n      <th></th>\n    </tr>\n  </thead>\n  <tbody>\n    <tr>\n      <th>1</th>\n      <td>20</td>\n    </tr>\n    <tr>\n      <th>2</th>\n      <td>1</td>\n    </tr>\n    <tr>\n      <th>3</th>\n      <td>3</td>\n    </tr>\n  </tbody>\n</table>\n</div>"
     },
     "metadata": {},
     "execution_count": 176
    }
   ],
   "source": [
    "dataset_km_sub_concat_count = dataset_km_sub_concat.groupby(by=['cluster']).count()[['residencia_provincia_nombre']]\n",
    "dataset_km_sub_concat_count.columns = ['observaciones']\n",
    "dataset_km_sub_concat_count"
   ]
  },
  {
   "cell_type": "code",
   "execution_count": 186,
   "metadata": {},
   "outputs": [
    {
     "output_type": "execute_result",
     "data": {
      "text/plain": [
       "   residencia_provincia_nombre  confirmados  fallecidos  edad_promedio  \\\n",
       "2                    Catamarca          694           1      97.000000   \n",
       "3                        Chaco        12257         549      65.318761   \n",
       "4                       Chubut        13095         192      69.625000   \n",
       "5                   Corrientes         2419          47      67.787234   \n",
       "7                   Entre Ríos        14644         456      71.291667   \n",
       "8                      Formosa          143           3      64.333333   \n",
       "9                        Jujuy        16413         745      66.697581   \n",
       "10                    La Pampa         2807          54      71.648148   \n",
       "11                    La Rioja         7105         276      66.811594   \n",
       "12                     Mendoza        43806         987      72.209726   \n",
       "\n",
       "    cuidado_intensivo  asistencia_respiratoria_mecanica  cluster  \n",
       "2                  35                                10        1  \n",
       "3                 994                               435        1  \n",
       "4                 174                                77        1  \n",
       "5                  84                                45        1  \n",
       "7                 433                               164        1  \n",
       "8                  44                                26        1  \n",
       "9                 187                               116        1  \n",
       "10                 86                                39        1  \n",
       "11                122                                39        1  \n",
       "12                606                               305        1  "
      ],
      "text/html": "<div>\n<style scoped>\n    .dataframe tbody tr th:only-of-type {\n        vertical-align: middle;\n    }\n\n    .dataframe tbody tr th {\n        vertical-align: top;\n    }\n\n    .dataframe thead th {\n        text-align: right;\n    }\n</style>\n<table border=\"1\" class=\"dataframe\">\n  <thead>\n    <tr style=\"text-align: right;\">\n      <th></th>\n      <th>residencia_provincia_nombre</th>\n      <th>confirmados</th>\n      <th>fallecidos</th>\n      <th>edad_promedio</th>\n      <th>cuidado_intensivo</th>\n      <th>asistencia_respiratoria_mecanica</th>\n      <th>cluster</th>\n    </tr>\n  </thead>\n  <tbody>\n    <tr>\n      <th>2</th>\n      <td>Catamarca</td>\n      <td>694</td>\n      <td>1</td>\n      <td>97.000000</td>\n      <td>35</td>\n      <td>10</td>\n      <td>1</td>\n    </tr>\n    <tr>\n      <th>3</th>\n      <td>Chaco</td>\n      <td>12257</td>\n      <td>549</td>\n      <td>65.318761</td>\n      <td>994</td>\n      <td>435</td>\n      <td>1</td>\n    </tr>\n    <tr>\n      <th>4</th>\n      <td>Chubut</td>\n      <td>13095</td>\n      <td>192</td>\n      <td>69.625000</td>\n      <td>174</td>\n      <td>77</td>\n      <td>1</td>\n    </tr>\n    <tr>\n      <th>5</th>\n      <td>Corrientes</td>\n      <td>2419</td>\n      <td>47</td>\n      <td>67.787234</td>\n      <td>84</td>\n      <td>45</td>\n      <td>1</td>\n    </tr>\n    <tr>\n      <th>7</th>\n      <td>Entre Ríos</td>\n      <td>14644</td>\n      <td>456</td>\n      <td>71.291667</td>\n      <td>433</td>\n      <td>164</td>\n      <td>1</td>\n    </tr>\n    <tr>\n      <th>8</th>\n      <td>Formosa</td>\n      <td>143</td>\n      <td>3</td>\n      <td>64.333333</td>\n      <td>44</td>\n      <td>26</td>\n      <td>1</td>\n    </tr>\n    <tr>\n      <th>9</th>\n      <td>Jujuy</td>\n      <td>16413</td>\n      <td>745</td>\n      <td>66.697581</td>\n      <td>187</td>\n      <td>116</td>\n      <td>1</td>\n    </tr>\n    <tr>\n      <th>10</th>\n      <td>La Pampa</td>\n      <td>2807</td>\n      <td>54</td>\n      <td>71.648148</td>\n      <td>86</td>\n      <td>39</td>\n      <td>1</td>\n    </tr>\n    <tr>\n      <th>11</th>\n      <td>La Rioja</td>\n      <td>7105</td>\n      <td>276</td>\n      <td>66.811594</td>\n      <td>122</td>\n      <td>39</td>\n      <td>1</td>\n    </tr>\n    <tr>\n      <th>12</th>\n      <td>Mendoza</td>\n      <td>43806</td>\n      <td>987</td>\n      <td>72.209726</td>\n      <td>606</td>\n      <td>305</td>\n      <td>1</td>\n    </tr>\n  </tbody>\n</table>\n</div>"
     },
     "metadata": {},
     "execution_count": 186
    }
   ],
   "source": [
    "dataset_km_sub_concat[(dataset_km_sub_concat['cluster'] == 1)].head(10)"
   ]
  },
  {
   "cell_type": "code",
   "execution_count": 187,
   "metadata": {},
   "outputs": [
    {
     "output_type": "execute_result",
     "data": {
      "text/plain": [
       "  residencia_provincia_nombre  confirmados  fallecidos  edad_promedio  \\\n",
       "0                Buenos Aires       524923       19864      71.603023   \n",
       "\n",
       "   cuidado_intensivo  asistencia_respiratoria_mecanica  cluster  \n",
       "0              13726                              5320        2  "
      ],
      "text/html": "<div>\n<style scoped>\n    .dataframe tbody tr th:only-of-type {\n        vertical-align: middle;\n    }\n\n    .dataframe tbody tr th {\n        vertical-align: top;\n    }\n\n    .dataframe thead th {\n        text-align: right;\n    }\n</style>\n<table border=\"1\" class=\"dataframe\">\n  <thead>\n    <tr style=\"text-align: right;\">\n      <th></th>\n      <th>residencia_provincia_nombre</th>\n      <th>confirmados</th>\n      <th>fallecidos</th>\n      <th>edad_promedio</th>\n      <th>cuidado_intensivo</th>\n      <th>asistencia_respiratoria_mecanica</th>\n      <th>cluster</th>\n    </tr>\n  </thead>\n  <tbody>\n    <tr>\n      <th>0</th>\n      <td>Buenos Aires</td>\n      <td>524923</td>\n      <td>19864</td>\n      <td>71.603023</td>\n      <td>13726</td>\n      <td>5320</td>\n      <td>2</td>\n    </tr>\n  </tbody>\n</table>\n</div>"
     },
     "metadata": {},
     "execution_count": 187
    }
   ],
   "source": [
    "dataset_km_sub_concat[(dataset_km_sub_concat['cluster'] == 2)]"
   ]
  },
  {
   "cell_type": "code",
   "execution_count": null,
   "metadata": {},
   "outputs": [],
   "source": []
  },
  {
   "cell_type": "code",
   "execution_count": 188,
   "metadata": {},
   "outputs": [
    {
     "output_type": "execute_result",
     "data": {
      "text/plain": [
       "   residencia_provincia_nombre  confirmados  fallecidos  edad_promedio  \\\n",
       "1                         CABA       142120        5924      76.635641   \n",
       "6                      Córdoba        76510        1258      73.162957   \n",
       "20                    Santa Fe       100631        1338      73.343797   \n",
       "\n",
       "    cuidado_intensivo  asistencia_respiratoria_mecanica  cluster  \n",
       "1                5127                              2152        3  \n",
       "6                1933                               497        3  \n",
       "20               1473                               657        3  "
      ],
      "text/html": "<div>\n<style scoped>\n    .dataframe tbody tr th:only-of-type {\n        vertical-align: middle;\n    }\n\n    .dataframe tbody tr th {\n        vertical-align: top;\n    }\n\n    .dataframe thead th {\n        text-align: right;\n    }\n</style>\n<table border=\"1\" class=\"dataframe\">\n  <thead>\n    <tr style=\"text-align: right;\">\n      <th></th>\n      <th>residencia_provincia_nombre</th>\n      <th>confirmados</th>\n      <th>fallecidos</th>\n      <th>edad_promedio</th>\n      <th>cuidado_intensivo</th>\n      <th>asistencia_respiratoria_mecanica</th>\n      <th>cluster</th>\n    </tr>\n  </thead>\n  <tbody>\n    <tr>\n      <th>1</th>\n      <td>CABA</td>\n      <td>142120</td>\n      <td>5924</td>\n      <td>76.635641</td>\n      <td>5127</td>\n      <td>2152</td>\n      <td>3</td>\n    </tr>\n    <tr>\n      <th>6</th>\n      <td>Córdoba</td>\n      <td>76510</td>\n      <td>1258</td>\n      <td>73.162957</td>\n      <td>1933</td>\n      <td>497</td>\n      <td>3</td>\n    </tr>\n    <tr>\n      <th>20</th>\n      <td>Santa Fe</td>\n      <td>100631</td>\n      <td>1338</td>\n      <td>73.343797</td>\n      <td>1473</td>\n      <td>657</td>\n      <td>3</td>\n    </tr>\n  </tbody>\n</table>\n</div>"
     },
     "metadata": {},
     "execution_count": 188
    }
   ],
   "source": [
    "dataset_km_sub_concat[(dataset_km_sub_concat['cluster'] == 3)].head(4)"
   ]
  },
  {
   "cell_type": "code",
   "execution_count": null,
   "metadata": {},
   "outputs": [],
   "source": []
  }
 ]
}