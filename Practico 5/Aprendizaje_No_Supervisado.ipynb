{
 "metadata": {
  "language_info": {
   "codemirror_mode": {
    "name": "ipython",
    "version": 3
   },
   "file_extension": ".py",
   "mimetype": "text/x-python",
   "name": "python",
   "nbconvert_exporter": "python",
   "pygments_lexer": "ipython3",
   "version": "3.7.6-final"
  },
  "orig_nbformat": 2,
  "kernelspec": {
   "name": "python3",
   "display_name": "Python 3"
  }
 },
 "nbformat": 4,
 "nbformat_minor": 2,
 "cells": [
  {
   "source": [
    "### Carga de datos"
   ],
   "cell_type": "markdown",
   "metadata": {}
  },
  {
   "cell_type": "code",
   "execution_count": 3,
   "metadata": {},
   "outputs": [],
   "source": [
    "# Importamos librerías necesarias\n",
    "\n",
    "import pandas as pd\n",
    "import numpy as np\n",
    "import matplotlib.pyplot as plt\n",
    "from plotly.offline import init_notebook_mode, plot,iplot\n",
    "import plotly.graph_objs as go\n",
    "import plotly.tools as tls#visualization\n",
    "import plotly.figure_factory as ff#visualization\n",
    "import seaborn as sns"
   ]
  },
  {
   "source": [
    "### Experimentación con el dataset: Covid19Casos"
   ],
   "cell_type": "markdown",
   "metadata": {}
  },
  {
   "source": [
    "##### Dataset - Covid19Casos\n",
    "- Source: http://datos.salud.gob.ar/dataset/covid-19-casos-registrados-en-la-republica-argentina/archivo/fd657d02-a33a-498b-a91b-2ef1a68b8d16"
   ],
   "cell_type": "markdown",
   "metadata": {}
  },
  {
   "cell_type": "code",
   "execution_count": 4,
   "metadata": {},
   "outputs": [],
   "source": [
    "url = 'https://sisa.msal.gov.ar/datos/descargas/covid-19/files/Covid19Casos.csv'\n",
    "\n",
    "df = pd.read_csv(url, error_bad_lines=False)"
   ]
  },
  {
   "cell_type": "code",
   "execution_count": 5,
   "metadata": {},
   "outputs": [],
   "source": [
    "dataset = df.copy(deep=True)"
   ]
  },
  {
   "cell_type": "code",
   "execution_count": 6,
   "metadata": {},
   "outputs": [
    {
     "output_type": "execute_result",
     "data": {
      "text/plain": [
       "   id_evento_caso sexo  edad edad_años_meses residencia_pais_nombre  \\\n",
       "0         1000000    M  53.0            Años              Argentina   \n",
       "1         1000002    M  21.0            Años              Argentina   \n",
       "2         1000003    F  40.0            Años              Argentina   \n",
       "3         1000005    F  58.0            Años              Argentina   \n",
       "4         1000006    M  28.0            Años              Argentina   \n",
       "5         1000007    M  26.0            Años              Argentina   \n",
       "6         1000008    F  69.0            Años              Argentina   \n",
       "7         1000009    M  73.0            Años              Argentina   \n",
       "8         1000010    M   7.0            Años              Argentina   \n",
       "9         1000011    M  42.0            Años              Argentina   \n",
       "\n",
       "  residencia_provincia_nombre residencia_departamento_nombre  \\\n",
       "0                        CABA                SIN ESPECIFICAR   \n",
       "1                Buenos Aires                     La Matanza   \n",
       "2                     Córdoba                        Capital   \n",
       "3                     Mendoza                      Las Heras   \n",
       "4                Buenos Aires            Malvinas Argentinas   \n",
       "5                     Formosa                         Patiño   \n",
       "6                        CABA                SIN ESPECIFICAR   \n",
       "7                Buenos Aires             Esteban Echeverría   \n",
       "8                        CABA                      COMUNA 07   \n",
       "9                    Santa Fe                        Rosario   \n",
       "\n",
       "  carga_provincia_nombre fecha_inicio_sintomas fecha_apertura  ...  \\\n",
       "0           Buenos Aires                   NaN     2020-06-01  ...   \n",
       "1           Buenos Aires                   NaN     2020-06-01  ...   \n",
       "2                Córdoba            2020-05-24     2020-06-01  ...   \n",
       "3                Mendoza                   NaN     2020-06-01  ...   \n",
       "4           Buenos Aires            2020-05-30     2020-06-01  ...   \n",
       "5                Formosa                   NaN     2020-06-01  ...   \n",
       "6                   CABA            2020-05-31     2020-06-01  ...   \n",
       "7           Buenos Aires            2020-05-31     2020-06-01  ...   \n",
       "8                   CABA                   NaN     2020-06-01  ...   \n",
       "9               Santa Fe                   NaN     2020-06-01  ...   \n",
       "\n",
       "   fecha_fallecimiento asistencia_respiratoria_mecanica carga_provincia_id  \\\n",
       "0                  NaN                               NO                  6   \n",
       "1                  NaN                               NO                  6   \n",
       "2                  NaN                               NO                 14   \n",
       "3                  NaN                               NO                 50   \n",
       "4                  NaN                               NO                  6   \n",
       "5                  NaN                               NO                 34   \n",
       "6                  NaN                               NO                  2   \n",
       "7                  NaN                               NO                  6   \n",
       "8                  NaN                               NO                  2   \n",
       "9                  NaN                               NO                 82   \n",
       "\n",
       "  origen_financiamiento                                      clasificacion  \\\n",
       "0               Privado                                    Caso Descartado   \n",
       "1               Público                                    Caso Descartado   \n",
       "2               Privado                                    Caso Descartado   \n",
       "3               Público                                    Caso Descartado   \n",
       "4               Público  Caso sospechoso - No Activo - Con muestra sin ...   \n",
       "5               Público  Caso confirmado por laboratorio - No Activo po...   \n",
       "6               Privado                                    Caso Descartado   \n",
       "7               Privado                                    Caso Descartado   \n",
       "8               Público  Caso confirmado por laboratorio - No activo (p...   \n",
       "9               Público                                    Caso Descartado   \n",
       "\n",
       "  clasificacion_resumen residencia_provincia_id  fecha_diagnostico  \\\n",
       "0            Descartado                       2         2020-06-09   \n",
       "1            Descartado                       6         2020-06-01   \n",
       "2            Descartado                      14         2020-06-01   \n",
       "3            Descartado                      50         2020-06-01   \n",
       "4            Sospechoso                       6                NaN   \n",
       "5            Confirmado                      34         2020-06-25   \n",
       "6            Descartado                       2         2020-06-01   \n",
       "7            Descartado                       6         2020-06-02   \n",
       "8            Confirmado                       2         2020-06-01   \n",
       "9            Descartado                      82         2020-06-01   \n",
       "\n",
       "  residencia_departamento_id ultima_actualizacion  \n",
       "0                          0           2020-11-02  \n",
       "1                        427           2020-11-02  \n",
       "2                         14           2020-11-02  \n",
       "3                         49           2020-11-02  \n",
       "4                        515           2020-11-02  \n",
       "5                         35           2020-11-02  \n",
       "6                          0           2020-11-02  \n",
       "7                        260           2020-11-02  \n",
       "8                          7           2020-11-02  \n",
       "9                         84           2020-11-02  \n",
       "\n",
       "[10 rows x 25 columns]"
      ],
      "text/html": "<div>\n<style scoped>\n    .dataframe tbody tr th:only-of-type {\n        vertical-align: middle;\n    }\n\n    .dataframe tbody tr th {\n        vertical-align: top;\n    }\n\n    .dataframe thead th {\n        text-align: right;\n    }\n</style>\n<table border=\"1\" class=\"dataframe\">\n  <thead>\n    <tr style=\"text-align: right;\">\n      <th></th>\n      <th>id_evento_caso</th>\n      <th>sexo</th>\n      <th>edad</th>\n      <th>edad_años_meses</th>\n      <th>residencia_pais_nombre</th>\n      <th>residencia_provincia_nombre</th>\n      <th>residencia_departamento_nombre</th>\n      <th>carga_provincia_nombre</th>\n      <th>fecha_inicio_sintomas</th>\n      <th>fecha_apertura</th>\n      <th>...</th>\n      <th>fecha_fallecimiento</th>\n      <th>asistencia_respiratoria_mecanica</th>\n      <th>carga_provincia_id</th>\n      <th>origen_financiamiento</th>\n      <th>clasificacion</th>\n      <th>clasificacion_resumen</th>\n      <th>residencia_provincia_id</th>\n      <th>fecha_diagnostico</th>\n      <th>residencia_departamento_id</th>\n      <th>ultima_actualizacion</th>\n    </tr>\n  </thead>\n  <tbody>\n    <tr>\n      <th>0</th>\n      <td>1000000</td>\n      <td>M</td>\n      <td>53.0</td>\n      <td>Años</td>\n      <td>Argentina</td>\n      <td>CABA</td>\n      <td>SIN ESPECIFICAR</td>\n      <td>Buenos Aires</td>\n      <td>NaN</td>\n      <td>2020-06-01</td>\n      <td>...</td>\n      <td>NaN</td>\n      <td>NO</td>\n      <td>6</td>\n      <td>Privado</td>\n      <td>Caso Descartado</td>\n      <td>Descartado</td>\n      <td>2</td>\n      <td>2020-06-09</td>\n      <td>0</td>\n      <td>2020-11-02</td>\n    </tr>\n    <tr>\n      <th>1</th>\n      <td>1000002</td>\n      <td>M</td>\n      <td>21.0</td>\n      <td>Años</td>\n      <td>Argentina</td>\n      <td>Buenos Aires</td>\n      <td>La Matanza</td>\n      <td>Buenos Aires</td>\n      <td>NaN</td>\n      <td>2020-06-01</td>\n      <td>...</td>\n      <td>NaN</td>\n      <td>NO</td>\n      <td>6</td>\n      <td>Público</td>\n      <td>Caso Descartado</td>\n      <td>Descartado</td>\n      <td>6</td>\n      <td>2020-06-01</td>\n      <td>427</td>\n      <td>2020-11-02</td>\n    </tr>\n    <tr>\n      <th>2</th>\n      <td>1000003</td>\n      <td>F</td>\n      <td>40.0</td>\n      <td>Años</td>\n      <td>Argentina</td>\n      <td>Córdoba</td>\n      <td>Capital</td>\n      <td>Córdoba</td>\n      <td>2020-05-24</td>\n      <td>2020-06-01</td>\n      <td>...</td>\n      <td>NaN</td>\n      <td>NO</td>\n      <td>14</td>\n      <td>Privado</td>\n      <td>Caso Descartado</td>\n      <td>Descartado</td>\n      <td>14</td>\n      <td>2020-06-01</td>\n      <td>14</td>\n      <td>2020-11-02</td>\n    </tr>\n    <tr>\n      <th>3</th>\n      <td>1000005</td>\n      <td>F</td>\n      <td>58.0</td>\n      <td>Años</td>\n      <td>Argentina</td>\n      <td>Mendoza</td>\n      <td>Las Heras</td>\n      <td>Mendoza</td>\n      <td>NaN</td>\n      <td>2020-06-01</td>\n      <td>...</td>\n      <td>NaN</td>\n      <td>NO</td>\n      <td>50</td>\n      <td>Público</td>\n      <td>Caso Descartado</td>\n      <td>Descartado</td>\n      <td>50</td>\n      <td>2020-06-01</td>\n      <td>49</td>\n      <td>2020-11-02</td>\n    </tr>\n    <tr>\n      <th>4</th>\n      <td>1000006</td>\n      <td>M</td>\n      <td>28.0</td>\n      <td>Años</td>\n      <td>Argentina</td>\n      <td>Buenos Aires</td>\n      <td>Malvinas Argentinas</td>\n      <td>Buenos Aires</td>\n      <td>2020-05-30</td>\n      <td>2020-06-01</td>\n      <td>...</td>\n      <td>NaN</td>\n      <td>NO</td>\n      <td>6</td>\n      <td>Público</td>\n      <td>Caso sospechoso - No Activo - Con muestra sin ...</td>\n      <td>Sospechoso</td>\n      <td>6</td>\n      <td>NaN</td>\n      <td>515</td>\n      <td>2020-11-02</td>\n    </tr>\n    <tr>\n      <th>5</th>\n      <td>1000007</td>\n      <td>M</td>\n      <td>26.0</td>\n      <td>Años</td>\n      <td>Argentina</td>\n      <td>Formosa</td>\n      <td>Patiño</td>\n      <td>Formosa</td>\n      <td>NaN</td>\n      <td>2020-06-01</td>\n      <td>...</td>\n      <td>NaN</td>\n      <td>NO</td>\n      <td>34</td>\n      <td>Público</td>\n      <td>Caso confirmado por laboratorio - No Activo po...</td>\n      <td>Confirmado</td>\n      <td>34</td>\n      <td>2020-06-25</td>\n      <td>35</td>\n      <td>2020-11-02</td>\n    </tr>\n    <tr>\n      <th>6</th>\n      <td>1000008</td>\n      <td>F</td>\n      <td>69.0</td>\n      <td>Años</td>\n      <td>Argentina</td>\n      <td>CABA</td>\n      <td>SIN ESPECIFICAR</td>\n      <td>CABA</td>\n      <td>2020-05-31</td>\n      <td>2020-06-01</td>\n      <td>...</td>\n      <td>NaN</td>\n      <td>NO</td>\n      <td>2</td>\n      <td>Privado</td>\n      <td>Caso Descartado</td>\n      <td>Descartado</td>\n      <td>2</td>\n      <td>2020-06-01</td>\n      <td>0</td>\n      <td>2020-11-02</td>\n    </tr>\n    <tr>\n      <th>7</th>\n      <td>1000009</td>\n      <td>M</td>\n      <td>73.0</td>\n      <td>Años</td>\n      <td>Argentina</td>\n      <td>Buenos Aires</td>\n      <td>Esteban Echeverría</td>\n      <td>Buenos Aires</td>\n      <td>2020-05-31</td>\n      <td>2020-06-01</td>\n      <td>...</td>\n      <td>NaN</td>\n      <td>NO</td>\n      <td>6</td>\n      <td>Privado</td>\n      <td>Caso Descartado</td>\n      <td>Descartado</td>\n      <td>6</td>\n      <td>2020-06-02</td>\n      <td>260</td>\n      <td>2020-11-02</td>\n    </tr>\n    <tr>\n      <th>8</th>\n      <td>1000010</td>\n      <td>M</td>\n      <td>7.0</td>\n      <td>Años</td>\n      <td>Argentina</td>\n      <td>CABA</td>\n      <td>COMUNA 07</td>\n      <td>CABA</td>\n      <td>NaN</td>\n      <td>2020-06-01</td>\n      <td>...</td>\n      <td>NaN</td>\n      <td>NO</td>\n      <td>2</td>\n      <td>Público</td>\n      <td>Caso confirmado por laboratorio - No activo (p...</td>\n      <td>Confirmado</td>\n      <td>2</td>\n      <td>2020-06-01</td>\n      <td>7</td>\n      <td>2020-11-02</td>\n    </tr>\n    <tr>\n      <th>9</th>\n      <td>1000011</td>\n      <td>M</td>\n      <td>42.0</td>\n      <td>Años</td>\n      <td>Argentina</td>\n      <td>Santa Fe</td>\n      <td>Rosario</td>\n      <td>Santa Fe</td>\n      <td>NaN</td>\n      <td>2020-06-01</td>\n      <td>...</td>\n      <td>NaN</td>\n      <td>NO</td>\n      <td>82</td>\n      <td>Público</td>\n      <td>Caso Descartado</td>\n      <td>Descartado</td>\n      <td>82</td>\n      <td>2020-06-01</td>\n      <td>84</td>\n      <td>2020-11-02</td>\n    </tr>\n  </tbody>\n</table>\n<p>10 rows × 25 columns</p>\n</div>"
     },
     "metadata": {},
     "execution_count": 6
    }
   ],
   "source": [
    "dataset.head(10)"
   ]
  },
  {
   "source": [
    "## Limpieza, Preprocesado y Feature Engineering"
   ],
   "cell_type": "markdown",
   "metadata": {}
  },
  {
   "source": [
    "### Edad"
   ],
   "cell_type": "markdown",
   "metadata": {}
  },
  {
   "cell_type": "code",
   "execution_count": 7,
   "metadata": {},
   "outputs": [],
   "source": [
    "# Paso meses a años (cuando la edad está expresada en meses)\n",
    "dataset['edad'].loc[dataset.edad_años_meses == 'Meses'] = 0"
   ]
  },
  {
   "cell_type": "code",
   "execution_count": 8,
   "metadata": {},
   "outputs": [],
   "source": [
    "# Eliminamos la columna edad_años_meses\n",
    "dataset.drop(['edad_años_meses'], axis=1, inplace=True)"
   ]
  },
  {
   "source": [
    "### Lugares"
   ],
   "cell_type": "markdown",
   "metadata": {}
  },
  {
   "source": [
    "#### País<br/>\n",
    "- Se conservan sólo los datos de personas residentes en Argentina"
   ],
   "cell_type": "markdown",
   "metadata": {}
  },
  {
   "cell_type": "code",
   "execution_count": 9,
   "metadata": {},
   "outputs": [],
   "source": [
    "dataset.drop(dataset[dataset.residencia_pais_nombre != \"Argentina\"].index, inplace=True)"
   ]
  },
  {
   "cell_type": "code",
   "execution_count": 10,
   "metadata": {},
   "outputs": [],
   "source": [
    "#Elimino la columna país porque todos los registros tienen el mismo valor\n",
    "dataset.drop(['residencia_pais_nombre'], axis=1, inplace=True)"
   ]
  },
  {
   "source": [
    "#### Provincia"
   ],
   "cell_type": "markdown",
   "metadata": {}
  },
  {
   "cell_type": "code",
   "execution_count": 11,
   "metadata": {},
   "outputs": [],
   "source": [
    "#Se elimina la variable carga_provincia_nombre\n",
    "dataset.drop(['carga_provincia_nombre'], axis=1, inplace=True)"
   ]
  },
  {
   "cell_type": "code",
   "execution_count": 12,
   "metadata": {},
   "outputs": [],
   "source": [
    "#Se quitan los registros con provincia \"SIN ESPECIFICAR\"\n",
    "dataset.drop(dataset[dataset.residencia_provincia_nombre == \"SIN ESPECIFICAR\"].index, inplace=True)"
   ]
  },
  {
   "source": [
    "## Clustering"
   ],
   "cell_type": "markdown",
   "metadata": {}
  },
  {
   "source": [
    "### Pre-procesamiento del dataset<br />\n",
    "Se divide el dataset principal en cuatro sub dataset agrupando por provincia de acuerdo a las siguientes variables de interés:\n",
    "- Casos confirmados\n",
    "- Fallecidos\n",
    "- Cantidad de casos en cuidados intensivos\n",
    "- Cantidad de casos con asistencia respiratoria mecánica"
   ],
   "cell_type": "markdown",
   "metadata": {}
  },
  {
   "cell_type": "code",
   "execution_count": 13,
   "metadata": {},
   "outputs": [],
   "source": [
    "# Dataset de confirmados por provincia\n",
    "ds_confirmados = dataset[(dataset[\"clasificacion_resumen\"] == \"Confirmado\")].groupby(['residencia_provincia_nombre']).size().reset_index(name='confirmados')\n",
    "ds_confirmados.reset_index(inplace=True)"
   ]
  },
  {
   "cell_type": "code",
   "execution_count": 14,
   "metadata": {},
   "outputs": [],
   "source": [
    "# Dataset de fallecidos por provincia\n",
    "ds_fallecidos = dataset[(dataset[\"fallecido\"] == \"SI\")].groupby(['residencia_provincia_nombre']).agg({'residencia_provincia_nombre':'size', 'edad':'mean'}).rename(columns={'residencia_provincia_nombre':'fallecidos','edad':'edad_promedio'})\n",
    "ds_fallecidos.reset_index(inplace=True)"
   ]
  },
  {
   "cell_type": "code",
   "execution_count": 15,
   "metadata": {},
   "outputs": [],
   "source": [
    "# Dataset de cuidados intensivos por provincia\n",
    "ds_cuidado_intensivo = dataset[(dataset[\"cuidado_intensivo\"] == \"SI\")].groupby(['residencia_provincia_nombre']).size().reset_index(name='cuidado_intensivo')\n",
    "ds_cuidado_intensivo.reset_index(inplace=True)"
   ]
  },
  {
   "cell_type": "code",
   "execution_count": 16,
   "metadata": {},
   "outputs": [],
   "source": [
    "# Dataset de cuidados intensivos por provincia\n",
    "ds_asistencia_respiratoria = dataset[(dataset[\"asistencia_respiratoria_mecanica\"] == \"SI\")].groupby(['residencia_provincia_nombre']).size().reset_index(name='asistencia_respiratoria_mecanica')\n",
    "ds_asistencia_respiratoria.reset_index(inplace=True)"
   ]
  },
  {
   "source": [
    "Luego, se hace combinan los cuatro sub datasets en un dataset final, el cual se utilizará para los algoritmos de clustering."
   ],
   "cell_type": "markdown",
   "metadata": {}
  },
  {
   "cell_type": "code",
   "execution_count": 17,
   "metadata": {},
   "outputs": [],
   "source": [
    "dataset_final = ds_confirmados.merge(ds_fallecidos).merge(ds_cuidado_intensivo).merge(ds_asistencia_respiratoria)\n",
    "dataset_final.drop(['index'], axis=1, inplace=True)"
   ]
  },
  {
   "cell_type": "code",
   "execution_count": 18,
   "metadata": {},
   "outputs": [
    {
     "output_type": "execute_result",
     "data": {
      "text/plain": [
       "  residencia_provincia_nombre  confirmados  fallecidos  edad_promedio  \\\n",
       "0                Buenos Aires       535333       20381      71.615468   \n",
       "1                        CABA       143690        6045      76.649254   \n",
       "2                   Catamarca          924           1      97.000000   \n",
       "3                       Chaco        12743         560      65.517857   \n",
       "4                      Chubut        13972         202      70.282178   \n",
       "\n",
       "   cuidado_intensivo  asistencia_respiratoria_mecanica  \n",
       "0              13948                              5405  \n",
       "1               5178                              2169  \n",
       "2                 35                                10  \n",
       "3               1004                               443  \n",
       "4                177                                79  "
      ],
      "text/html": "<div>\n<style scoped>\n    .dataframe tbody tr th:only-of-type {\n        vertical-align: middle;\n    }\n\n    .dataframe tbody tr th {\n        vertical-align: top;\n    }\n\n    .dataframe thead th {\n        text-align: right;\n    }\n</style>\n<table border=\"1\" class=\"dataframe\">\n  <thead>\n    <tr style=\"text-align: right;\">\n      <th></th>\n      <th>residencia_provincia_nombre</th>\n      <th>confirmados</th>\n      <th>fallecidos</th>\n      <th>edad_promedio</th>\n      <th>cuidado_intensivo</th>\n      <th>asistencia_respiratoria_mecanica</th>\n    </tr>\n  </thead>\n  <tbody>\n    <tr>\n      <th>0</th>\n      <td>Buenos Aires</td>\n      <td>535333</td>\n      <td>20381</td>\n      <td>71.615468</td>\n      <td>13948</td>\n      <td>5405</td>\n    </tr>\n    <tr>\n      <th>1</th>\n      <td>CABA</td>\n      <td>143690</td>\n      <td>6045</td>\n      <td>76.649254</td>\n      <td>5178</td>\n      <td>2169</td>\n    </tr>\n    <tr>\n      <th>2</th>\n      <td>Catamarca</td>\n      <td>924</td>\n      <td>1</td>\n      <td>97.000000</td>\n      <td>35</td>\n      <td>10</td>\n    </tr>\n    <tr>\n      <th>3</th>\n      <td>Chaco</td>\n      <td>12743</td>\n      <td>560</td>\n      <td>65.517857</td>\n      <td>1004</td>\n      <td>443</td>\n    </tr>\n    <tr>\n      <th>4</th>\n      <td>Chubut</td>\n      <td>13972</td>\n      <td>202</td>\n      <td>70.282178</td>\n      <td>177</td>\n      <td>79</td>\n    </tr>\n  </tbody>\n</table>\n</div>"
     },
     "metadata": {},
     "execution_count": 18
    }
   ],
   "source": [
    "dataset_final.head(5)"
   ]
  },
  {
   "source": [
    "## Clustering con K-Means"
   ],
   "cell_type": "markdown",
   "metadata": {}
  },
  {
   "cell_type": "code",
   "execution_count": 19,
   "metadata": {},
   "outputs": [],
   "source": [
    "from sklearn.cluster import KMeans,MeanShift\n",
    "from sklearn import decomposition\n"
   ]
  },
  {
   "source": [
    "### Definición del array de variables a utilizar en el algoritmo"
   ],
   "cell_type": "markdown",
   "metadata": {}
  },
  {
   "cell_type": "code",
   "execution_count": 20,
   "metadata": {},
   "outputs": [
    {
     "output_type": "execute_result",
     "data": {
      "text/plain": [
       "    confirmados  fallecidos  edad_promedio  cuidado_intensivo  \\\n",
       "0        535333       20381      71.615468              13948   \n",
       "1        143690        6045      76.649254               5178   \n",
       "2           924           1      97.000000                 35   \n",
       "3         12743         560      65.517857               1004   \n",
       "4         13972         202      70.282178                177   \n",
       "5          2482          47      67.808511                 85   \n",
       "6         80836        1364      73.166422               2017   \n",
       "7         15616         476      71.159664                439   \n",
       "8           151           2      54.000000                 44   \n",
       "9         16540         757      66.685185                188   \n",
       "10         3184          58      72.293103                 88   \n",
       "11         7295         286      66.755245                123   \n",
       "12        45716        1026      72.316764                626   \n",
       "13          263          92      58.445652                125   \n",
       "14        21974         439      68.437358                370   \n",
       "15        23054         660      69.931818                354   \n",
       "16        18220         921      66.121739                669   \n",
       "17         2541          79      74.493671                261   \n",
       "18         6947          74      71.270270                 68   \n",
       "19         9615         169      67.757396                192   \n",
       "20       107340        1502      72.922104               1550   \n",
       "21         9537         135      65.651852                 68   \n",
       "22        10827         148      65.621622                 85   \n",
       "23        46505         793      66.316520                436   \n",
       "\n",
       "    asistencia_respiratoria_mecanica  \n",
       "0                               5405  \n",
       "1                               2169  \n",
       "2                                 10  \n",
       "3                                443  \n",
       "4                                 79  \n",
       "5                                 46  \n",
       "6                                529  \n",
       "7                                166  \n",
       "8                                 26  \n",
       "9                                117  \n",
       "10                                40  \n",
       "11                                40  \n",
       "12                               320  \n",
       "13                                62  \n",
       "14                               238  \n",
       "15                               186  \n",
       "16                               321  \n",
       "17                                55  \n",
       "18                                33  \n",
       "19                               114  \n",
       "20                               701  \n",
       "21                                30  \n",
       "22                                65  \n",
       "23                               138  "
      ],
      "text/html": "<div>\n<style scoped>\n    .dataframe tbody tr th:only-of-type {\n        vertical-align: middle;\n    }\n\n    .dataframe tbody tr th {\n        vertical-align: top;\n    }\n\n    .dataframe thead th {\n        text-align: right;\n    }\n</style>\n<table border=\"1\" class=\"dataframe\">\n  <thead>\n    <tr style=\"text-align: right;\">\n      <th></th>\n      <th>confirmados</th>\n      <th>fallecidos</th>\n      <th>edad_promedio</th>\n      <th>cuidado_intensivo</th>\n      <th>asistencia_respiratoria_mecanica</th>\n    </tr>\n  </thead>\n  <tbody>\n    <tr>\n      <th>0</th>\n      <td>535333</td>\n      <td>20381</td>\n      <td>71.615468</td>\n      <td>13948</td>\n      <td>5405</td>\n    </tr>\n    <tr>\n      <th>1</th>\n      <td>143690</td>\n      <td>6045</td>\n      <td>76.649254</td>\n      <td>5178</td>\n      <td>2169</td>\n    </tr>\n    <tr>\n      <th>2</th>\n      <td>924</td>\n      <td>1</td>\n      <td>97.000000</td>\n      <td>35</td>\n      <td>10</td>\n    </tr>\n    <tr>\n      <th>3</th>\n      <td>12743</td>\n      <td>560</td>\n      <td>65.517857</td>\n      <td>1004</td>\n      <td>443</td>\n    </tr>\n    <tr>\n      <th>4</th>\n      <td>13972</td>\n      <td>202</td>\n      <td>70.282178</td>\n      <td>177</td>\n      <td>79</td>\n    </tr>\n    <tr>\n      <th>5</th>\n      <td>2482</td>\n      <td>47</td>\n      <td>67.808511</td>\n      <td>85</td>\n      <td>46</td>\n    </tr>\n    <tr>\n      <th>6</th>\n      <td>80836</td>\n      <td>1364</td>\n      <td>73.166422</td>\n      <td>2017</td>\n      <td>529</td>\n    </tr>\n    <tr>\n      <th>7</th>\n      <td>15616</td>\n      <td>476</td>\n      <td>71.159664</td>\n      <td>439</td>\n      <td>166</td>\n    </tr>\n    <tr>\n      <th>8</th>\n      <td>151</td>\n      <td>2</td>\n      <td>54.000000</td>\n      <td>44</td>\n      <td>26</td>\n    </tr>\n    <tr>\n      <th>9</th>\n      <td>16540</td>\n      <td>757</td>\n      <td>66.685185</td>\n      <td>188</td>\n      <td>117</td>\n    </tr>\n    <tr>\n      <th>10</th>\n      <td>3184</td>\n      <td>58</td>\n      <td>72.293103</td>\n      <td>88</td>\n      <td>40</td>\n    </tr>\n    <tr>\n      <th>11</th>\n      <td>7295</td>\n      <td>286</td>\n      <td>66.755245</td>\n      <td>123</td>\n      <td>40</td>\n    </tr>\n    <tr>\n      <th>12</th>\n      <td>45716</td>\n      <td>1026</td>\n      <td>72.316764</td>\n      <td>626</td>\n      <td>320</td>\n    </tr>\n    <tr>\n      <th>13</th>\n      <td>263</td>\n      <td>92</td>\n      <td>58.445652</td>\n      <td>125</td>\n      <td>62</td>\n    </tr>\n    <tr>\n      <th>14</th>\n      <td>21974</td>\n      <td>439</td>\n      <td>68.437358</td>\n      <td>370</td>\n      <td>238</td>\n    </tr>\n    <tr>\n      <th>15</th>\n      <td>23054</td>\n      <td>660</td>\n      <td>69.931818</td>\n      <td>354</td>\n      <td>186</td>\n    </tr>\n    <tr>\n      <th>16</th>\n      <td>18220</td>\n      <td>921</td>\n      <td>66.121739</td>\n      <td>669</td>\n      <td>321</td>\n    </tr>\n    <tr>\n      <th>17</th>\n      <td>2541</td>\n      <td>79</td>\n      <td>74.493671</td>\n      <td>261</td>\n      <td>55</td>\n    </tr>\n    <tr>\n      <th>18</th>\n      <td>6947</td>\n      <td>74</td>\n      <td>71.270270</td>\n      <td>68</td>\n      <td>33</td>\n    </tr>\n    <tr>\n      <th>19</th>\n      <td>9615</td>\n      <td>169</td>\n      <td>67.757396</td>\n      <td>192</td>\n      <td>114</td>\n    </tr>\n    <tr>\n      <th>20</th>\n      <td>107340</td>\n      <td>1502</td>\n      <td>72.922104</td>\n      <td>1550</td>\n      <td>701</td>\n    </tr>\n    <tr>\n      <th>21</th>\n      <td>9537</td>\n      <td>135</td>\n      <td>65.651852</td>\n      <td>68</td>\n      <td>30</td>\n    </tr>\n    <tr>\n      <th>22</th>\n      <td>10827</td>\n      <td>148</td>\n      <td>65.621622</td>\n      <td>85</td>\n      <td>65</td>\n    </tr>\n    <tr>\n      <th>23</th>\n      <td>46505</td>\n      <td>793</td>\n      <td>66.316520</td>\n      <td>436</td>\n      <td>138</td>\n    </tr>\n  </tbody>\n</table>\n</div>"
     },
     "metadata": {},
     "execution_count": 20
    }
   ],
   "source": [
    "values = [\"confirmados\", \"fallecidos\", \"edad_promedio\", \"cuidado_intensivo\", \"asistencia_respiratoria_mecanica\"]\n",
    "dataset_km = dataset_final[values]\n",
    "dataset_km"
   ]
  },
  {
   "source": [
    "### Análisis y búsqueda del número óptimo de clusters a través de Inertia"
   ],
   "cell_type": "markdown",
   "metadata": {}
  },
  {
   "cell_type": "code",
   "execution_count": 21,
   "metadata": {},
   "outputs": [
    {
     "output_type": "execute_result",
     "data": {
      "text/plain": [
       "Text(0.5, 1.0, 'Inertia of k-Means versus number of clusters')"
      ]
     },
     "metadata": {},
     "execution_count": 21
    },
    {
     "output_type": "display_data",
     "data": {
      "text/plain": "<Figure size 864x432 with 1 Axes>",
      "image/svg+xml": "<?xml version=\"1.0\" encoding=\"utf-8\" standalone=\"no\"?>\r\n<!DOCTYPE svg PUBLIC \"-//W3C//DTD SVG 1.1//EN\"\r\n  \"http://www.w3.org/Graphics/SVG/1.1/DTD/svg11.dtd\">\r\n<!-- Created with matplotlib (https://matplotlib.org/) -->\r\n<svg height=\"386.034375pt\" version=\"1.1\" viewBox=\"0 0 720.58125 386.034375\" width=\"720.58125pt\" xmlns=\"http://www.w3.org/2000/svg\" xmlns:xlink=\"http://www.w3.org/1999/xlink\">\r\n <defs>\r\n  <style type=\"text/css\">\r\n*{stroke-linecap:butt;stroke-linejoin:round;}\r\n  </style>\r\n </defs>\r\n <g id=\"figure_1\">\r\n  <g id=\"patch_1\">\r\n   <path d=\"M 0 386.034375 \r\nL 720.58125 386.034375 \r\nL 720.58125 0 \r\nL 0 0 \r\nz\r\n\" style=\"fill:none;\"/>\r\n  </g>\r\n  <g id=\"axes_1\">\r\n   <g id=\"patch_2\">\r\n    <path d=\"M 43.78125 348.478125 \r\nL 713.38125 348.478125 \r\nL 713.38125 22.318125 \r\nL 43.78125 22.318125 \r\nz\r\n\" style=\"fill:#ffffff;\"/>\r\n   </g>\r\n   <g id=\"matplotlib.axis_1\">\r\n    <g id=\"xtick_1\">\r\n     <g id=\"line2d_1\">\r\n      <defs>\r\n       <path d=\"M 0 0 \r\nL 0 3.5 \r\n\" id=\"m9d11037f27\" style=\"stroke:#000000;stroke-width:0.8;\"/>\r\n      </defs>\r\n      <g>\r\n       <use style=\"stroke:#000000;stroke-width:0.8;\" x=\"74.217614\" xlink:href=\"#m9d11037f27\" y=\"348.478125\"/>\r\n      </g>\r\n     </g>\r\n     <g id=\"text_1\">\r\n      <!-- 2 -->\r\n      <defs>\r\n       <path d=\"M 19.1875 8.296875 \r\nL 53.609375 8.296875 \r\nL 53.609375 0 \r\nL 7.328125 0 \r\nL 7.328125 8.296875 \r\nQ 12.9375 14.109375 22.625 23.890625 \r\nQ 32.328125 33.6875 34.8125 36.53125 \r\nQ 39.546875 41.84375 41.421875 45.53125 \r\nQ 43.3125 49.21875 43.3125 52.78125 \r\nQ 43.3125 58.59375 39.234375 62.25 \r\nQ 35.15625 65.921875 28.609375 65.921875 \r\nQ 23.96875 65.921875 18.8125 64.3125 \r\nQ 13.671875 62.703125 7.8125 59.421875 \r\nL 7.8125 69.390625 \r\nQ 13.765625 71.78125 18.9375 73 \r\nQ 24.125 74.21875 28.421875 74.21875 \r\nQ 39.75 74.21875 46.484375 68.546875 \r\nQ 53.21875 62.890625 53.21875 53.421875 \r\nQ 53.21875 48.921875 51.53125 44.890625 \r\nQ 49.859375 40.875 45.40625 35.40625 \r\nQ 44.1875 33.984375 37.640625 27.21875 \r\nQ 31.109375 20.453125 19.1875 8.296875 \r\nz\r\n\" id=\"DejaVuSans-50\"/>\r\n      </defs>\r\n      <g transform=\"translate(71.036364 363.076562)scale(0.1 -0.1)\">\r\n       <use xlink:href=\"#DejaVuSans-50\"/>\r\n      </g>\r\n     </g>\r\n    </g>\r\n    <g id=\"xtick_2\">\r\n     <g id=\"line2d_2\">\r\n      <g>\r\n       <use style=\"stroke:#000000;stroke-width:0.8;\" x=\"209.490341\" xlink:href=\"#m9d11037f27\" y=\"348.478125\"/>\r\n      </g>\r\n     </g>\r\n     <g id=\"text_2\">\r\n      <!-- 4 -->\r\n      <defs>\r\n       <path d=\"M 37.796875 64.3125 \r\nL 12.890625 25.390625 \r\nL 37.796875 25.390625 \r\nz\r\nM 35.203125 72.90625 \r\nL 47.609375 72.90625 \r\nL 47.609375 25.390625 \r\nL 58.015625 25.390625 \r\nL 58.015625 17.1875 \r\nL 47.609375 17.1875 \r\nL 47.609375 0 \r\nL 37.796875 0 \r\nL 37.796875 17.1875 \r\nL 4.890625 17.1875 \r\nL 4.890625 26.703125 \r\nz\r\n\" id=\"DejaVuSans-52\"/>\r\n      </defs>\r\n      <g transform=\"translate(206.309091 363.076562)scale(0.1 -0.1)\">\r\n       <use xlink:href=\"#DejaVuSans-52\"/>\r\n      </g>\r\n     </g>\r\n    </g>\r\n    <g id=\"xtick_3\">\r\n     <g id=\"line2d_3\">\r\n      <g>\r\n       <use style=\"stroke:#000000;stroke-width:0.8;\" x=\"344.763068\" xlink:href=\"#m9d11037f27\" y=\"348.478125\"/>\r\n      </g>\r\n     </g>\r\n     <g id=\"text_3\">\r\n      <!-- 6 -->\r\n      <defs>\r\n       <path d=\"M 33.015625 40.375 \r\nQ 26.375 40.375 22.484375 35.828125 \r\nQ 18.609375 31.296875 18.609375 23.390625 \r\nQ 18.609375 15.53125 22.484375 10.953125 \r\nQ 26.375 6.390625 33.015625 6.390625 \r\nQ 39.65625 6.390625 43.53125 10.953125 \r\nQ 47.40625 15.53125 47.40625 23.390625 \r\nQ 47.40625 31.296875 43.53125 35.828125 \r\nQ 39.65625 40.375 33.015625 40.375 \r\nz\r\nM 52.59375 71.296875 \r\nL 52.59375 62.3125 \r\nQ 48.875 64.0625 45.09375 64.984375 \r\nQ 41.3125 65.921875 37.59375 65.921875 \r\nQ 27.828125 65.921875 22.671875 59.328125 \r\nQ 17.53125 52.734375 16.796875 39.40625 \r\nQ 19.671875 43.65625 24.015625 45.921875 \r\nQ 28.375 48.1875 33.59375 48.1875 \r\nQ 44.578125 48.1875 50.953125 41.515625 \r\nQ 57.328125 34.859375 57.328125 23.390625 \r\nQ 57.328125 12.15625 50.6875 5.359375 \r\nQ 44.046875 -1.421875 33.015625 -1.421875 \r\nQ 20.359375 -1.421875 13.671875 8.265625 \r\nQ 6.984375 17.96875 6.984375 36.375 \r\nQ 6.984375 53.65625 15.1875 63.9375 \r\nQ 23.390625 74.21875 37.203125 74.21875 \r\nQ 40.921875 74.21875 44.703125 73.484375 \r\nQ 48.484375 72.75 52.59375 71.296875 \r\nz\r\n\" id=\"DejaVuSans-54\"/>\r\n      </defs>\r\n      <g transform=\"translate(341.581818 363.076562)scale(0.1 -0.1)\">\r\n       <use xlink:href=\"#DejaVuSans-54\"/>\r\n      </g>\r\n     </g>\r\n    </g>\r\n    <g id=\"xtick_4\">\r\n     <g id=\"line2d_4\">\r\n      <g>\r\n       <use style=\"stroke:#000000;stroke-width:0.8;\" x=\"480.035795\" xlink:href=\"#m9d11037f27\" y=\"348.478125\"/>\r\n      </g>\r\n     </g>\r\n     <g id=\"text_4\">\r\n      <!-- 8 -->\r\n      <defs>\r\n       <path d=\"M 31.78125 34.625 \r\nQ 24.75 34.625 20.71875 30.859375 \r\nQ 16.703125 27.09375 16.703125 20.515625 \r\nQ 16.703125 13.921875 20.71875 10.15625 \r\nQ 24.75 6.390625 31.78125 6.390625 \r\nQ 38.8125 6.390625 42.859375 10.171875 \r\nQ 46.921875 13.96875 46.921875 20.515625 \r\nQ 46.921875 27.09375 42.890625 30.859375 \r\nQ 38.875 34.625 31.78125 34.625 \r\nz\r\nM 21.921875 38.8125 \r\nQ 15.578125 40.375 12.03125 44.71875 \r\nQ 8.5 49.078125 8.5 55.328125 \r\nQ 8.5 64.0625 14.71875 69.140625 \r\nQ 20.953125 74.21875 31.78125 74.21875 \r\nQ 42.671875 74.21875 48.875 69.140625 \r\nQ 55.078125 64.0625 55.078125 55.328125 \r\nQ 55.078125 49.078125 51.53125 44.71875 \r\nQ 48 40.375 41.703125 38.8125 \r\nQ 48.828125 37.15625 52.796875 32.3125 \r\nQ 56.78125 27.484375 56.78125 20.515625 \r\nQ 56.78125 9.90625 50.3125 4.234375 \r\nQ 43.84375 -1.421875 31.78125 -1.421875 \r\nQ 19.734375 -1.421875 13.25 4.234375 \r\nQ 6.78125 9.90625 6.78125 20.515625 \r\nQ 6.78125 27.484375 10.78125 32.3125 \r\nQ 14.796875 37.15625 21.921875 38.8125 \r\nz\r\nM 18.3125 54.390625 \r\nQ 18.3125 48.734375 21.84375 45.5625 \r\nQ 25.390625 42.390625 31.78125 42.390625 \r\nQ 38.140625 42.390625 41.71875 45.5625 \r\nQ 45.3125 48.734375 45.3125 54.390625 \r\nQ 45.3125 60.0625 41.71875 63.234375 \r\nQ 38.140625 66.40625 31.78125 66.40625 \r\nQ 25.390625 66.40625 21.84375 63.234375 \r\nQ 18.3125 60.0625 18.3125 54.390625 \r\nz\r\n\" id=\"DejaVuSans-56\"/>\r\n      </defs>\r\n      <g transform=\"translate(476.854545 363.076562)scale(0.1 -0.1)\">\r\n       <use xlink:href=\"#DejaVuSans-56\"/>\r\n      </g>\r\n     </g>\r\n    </g>\r\n    <g id=\"xtick_5\">\r\n     <g id=\"line2d_5\">\r\n      <g>\r\n       <use style=\"stroke:#000000;stroke-width:0.8;\" x=\"615.308523\" xlink:href=\"#m9d11037f27\" y=\"348.478125\"/>\r\n      </g>\r\n     </g>\r\n     <g id=\"text_5\">\r\n      <!-- 10 -->\r\n      <defs>\r\n       <path d=\"M 12.40625 8.296875 \r\nL 28.515625 8.296875 \r\nL 28.515625 63.921875 \r\nL 10.984375 60.40625 \r\nL 10.984375 69.390625 \r\nL 28.421875 72.90625 \r\nL 38.28125 72.90625 \r\nL 38.28125 8.296875 \r\nL 54.390625 8.296875 \r\nL 54.390625 0 \r\nL 12.40625 0 \r\nz\r\n\" id=\"DejaVuSans-49\"/>\r\n       <path d=\"M 31.78125 66.40625 \r\nQ 24.171875 66.40625 20.328125 58.90625 \r\nQ 16.5 51.421875 16.5 36.375 \r\nQ 16.5 21.390625 20.328125 13.890625 \r\nQ 24.171875 6.390625 31.78125 6.390625 \r\nQ 39.453125 6.390625 43.28125 13.890625 \r\nQ 47.125 21.390625 47.125 36.375 \r\nQ 47.125 51.421875 43.28125 58.90625 \r\nQ 39.453125 66.40625 31.78125 66.40625 \r\nz\r\nM 31.78125 74.21875 \r\nQ 44.046875 74.21875 50.515625 64.515625 \r\nQ 56.984375 54.828125 56.984375 36.375 \r\nQ 56.984375 17.96875 50.515625 8.265625 \r\nQ 44.046875 -1.421875 31.78125 -1.421875 \r\nQ 19.53125 -1.421875 13.0625 8.265625 \r\nQ 6.59375 17.96875 6.59375 36.375 \r\nQ 6.59375 54.828125 13.0625 64.515625 \r\nQ 19.53125 74.21875 31.78125 74.21875 \r\nz\r\n\" id=\"DejaVuSans-48\"/>\r\n      </defs>\r\n      <g transform=\"translate(608.946023 363.076562)scale(0.1 -0.1)\">\r\n       <use xlink:href=\"#DejaVuSans-49\"/>\r\n       <use x=\"63.623047\" xlink:href=\"#DejaVuSans-48\"/>\r\n      </g>\r\n     </g>\r\n    </g>\r\n    <g id=\"text_6\">\r\n     <!-- Number of clusters -->\r\n     <defs>\r\n      <path d=\"M 9.8125 72.90625 \r\nL 23.09375 72.90625 \r\nL 55.421875 11.921875 \r\nL 55.421875 72.90625 \r\nL 64.984375 72.90625 \r\nL 64.984375 0 \r\nL 51.703125 0 \r\nL 19.390625 60.984375 \r\nL 19.390625 0 \r\nL 9.8125 0 \r\nz\r\n\" id=\"DejaVuSans-78\"/>\r\n      <path d=\"M 8.5 21.578125 \r\nL 8.5 54.6875 \r\nL 17.484375 54.6875 \r\nL 17.484375 21.921875 \r\nQ 17.484375 14.15625 20.5 10.265625 \r\nQ 23.53125 6.390625 29.59375 6.390625 \r\nQ 36.859375 6.390625 41.078125 11.03125 \r\nQ 45.3125 15.671875 45.3125 23.6875 \r\nL 45.3125 54.6875 \r\nL 54.296875 54.6875 \r\nL 54.296875 0 \r\nL 45.3125 0 \r\nL 45.3125 8.40625 \r\nQ 42.046875 3.421875 37.71875 1 \r\nQ 33.40625 -1.421875 27.6875 -1.421875 \r\nQ 18.265625 -1.421875 13.375 4.4375 \r\nQ 8.5 10.296875 8.5 21.578125 \r\nz\r\nM 31.109375 56 \r\nz\r\n\" id=\"DejaVuSans-117\"/>\r\n      <path d=\"M 52 44.1875 \r\nQ 55.375 50.25 60.0625 53.125 \r\nQ 64.75 56 71.09375 56 \r\nQ 79.640625 56 84.28125 50.015625 \r\nQ 88.921875 44.046875 88.921875 33.015625 \r\nL 88.921875 0 \r\nL 79.890625 0 \r\nL 79.890625 32.71875 \r\nQ 79.890625 40.578125 77.09375 44.375 \r\nQ 74.3125 48.1875 68.609375 48.1875 \r\nQ 61.625 48.1875 57.5625 43.546875 \r\nQ 53.515625 38.921875 53.515625 30.90625 \r\nL 53.515625 0 \r\nL 44.484375 0 \r\nL 44.484375 32.71875 \r\nQ 44.484375 40.625 41.703125 44.40625 \r\nQ 38.921875 48.1875 33.109375 48.1875 \r\nQ 26.21875 48.1875 22.15625 43.53125 \r\nQ 18.109375 38.875 18.109375 30.90625 \r\nL 18.109375 0 \r\nL 9.078125 0 \r\nL 9.078125 54.6875 \r\nL 18.109375 54.6875 \r\nL 18.109375 46.1875 \r\nQ 21.1875 51.21875 25.484375 53.609375 \r\nQ 29.78125 56 35.6875 56 \r\nQ 41.65625 56 45.828125 52.96875 \r\nQ 50 49.953125 52 44.1875 \r\nz\r\n\" id=\"DejaVuSans-109\"/>\r\n      <path d=\"M 48.6875 27.296875 \r\nQ 48.6875 37.203125 44.609375 42.84375 \r\nQ 40.53125 48.484375 33.40625 48.484375 \r\nQ 26.265625 48.484375 22.1875 42.84375 \r\nQ 18.109375 37.203125 18.109375 27.296875 \r\nQ 18.109375 17.390625 22.1875 11.75 \r\nQ 26.265625 6.109375 33.40625 6.109375 \r\nQ 40.53125 6.109375 44.609375 11.75 \r\nQ 48.6875 17.390625 48.6875 27.296875 \r\nz\r\nM 18.109375 46.390625 \r\nQ 20.953125 51.265625 25.265625 53.625 \r\nQ 29.59375 56 35.59375 56 \r\nQ 45.5625 56 51.78125 48.09375 \r\nQ 58.015625 40.1875 58.015625 27.296875 \r\nQ 58.015625 14.40625 51.78125 6.484375 \r\nQ 45.5625 -1.421875 35.59375 -1.421875 \r\nQ 29.59375 -1.421875 25.265625 0.953125 \r\nQ 20.953125 3.328125 18.109375 8.203125 \r\nL 18.109375 0 \r\nL 9.078125 0 \r\nL 9.078125 75.984375 \r\nL 18.109375 75.984375 \r\nz\r\n\" id=\"DejaVuSans-98\"/>\r\n      <path d=\"M 56.203125 29.59375 \r\nL 56.203125 25.203125 \r\nL 14.890625 25.203125 \r\nQ 15.484375 15.921875 20.484375 11.0625 \r\nQ 25.484375 6.203125 34.421875 6.203125 \r\nQ 39.59375 6.203125 44.453125 7.46875 \r\nQ 49.3125 8.734375 54.109375 11.28125 \r\nL 54.109375 2.78125 \r\nQ 49.265625 0.734375 44.1875 -0.34375 \r\nQ 39.109375 -1.421875 33.890625 -1.421875 \r\nQ 20.796875 -1.421875 13.15625 6.1875 \r\nQ 5.515625 13.8125 5.515625 26.8125 \r\nQ 5.515625 40.234375 12.765625 48.109375 \r\nQ 20.015625 56 32.328125 56 \r\nQ 43.359375 56 49.78125 48.890625 \r\nQ 56.203125 41.796875 56.203125 29.59375 \r\nz\r\nM 47.21875 32.234375 \r\nQ 47.125 39.59375 43.09375 43.984375 \r\nQ 39.0625 48.390625 32.421875 48.390625 \r\nQ 24.90625 48.390625 20.390625 44.140625 \r\nQ 15.875 39.890625 15.1875 32.171875 \r\nz\r\n\" id=\"DejaVuSans-101\"/>\r\n      <path d=\"M 41.109375 46.296875 \r\nQ 39.59375 47.171875 37.8125 47.578125 \r\nQ 36.03125 48 33.890625 48 \r\nQ 26.265625 48 22.1875 43.046875 \r\nQ 18.109375 38.09375 18.109375 28.8125 \r\nL 18.109375 0 \r\nL 9.078125 0 \r\nL 9.078125 54.6875 \r\nL 18.109375 54.6875 \r\nL 18.109375 46.1875 \r\nQ 20.953125 51.171875 25.484375 53.578125 \r\nQ 30.03125 56 36.53125 56 \r\nQ 37.453125 56 38.578125 55.875 \r\nQ 39.703125 55.765625 41.0625 55.515625 \r\nz\r\n\" id=\"DejaVuSans-114\"/>\r\n      <path id=\"DejaVuSans-32\"/>\r\n      <path d=\"M 30.609375 48.390625 \r\nQ 23.390625 48.390625 19.1875 42.75 \r\nQ 14.984375 37.109375 14.984375 27.296875 \r\nQ 14.984375 17.484375 19.15625 11.84375 \r\nQ 23.34375 6.203125 30.609375 6.203125 \r\nQ 37.796875 6.203125 41.984375 11.859375 \r\nQ 46.1875 17.53125 46.1875 27.296875 \r\nQ 46.1875 37.015625 41.984375 42.703125 \r\nQ 37.796875 48.390625 30.609375 48.390625 \r\nz\r\nM 30.609375 56 \r\nQ 42.328125 56 49.015625 48.375 \r\nQ 55.71875 40.765625 55.71875 27.296875 \r\nQ 55.71875 13.875 49.015625 6.21875 \r\nQ 42.328125 -1.421875 30.609375 -1.421875 \r\nQ 18.84375 -1.421875 12.171875 6.21875 \r\nQ 5.515625 13.875 5.515625 27.296875 \r\nQ 5.515625 40.765625 12.171875 48.375 \r\nQ 18.84375 56 30.609375 56 \r\nz\r\n\" id=\"DejaVuSans-111\"/>\r\n      <path d=\"M 37.109375 75.984375 \r\nL 37.109375 68.5 \r\nL 28.515625 68.5 \r\nQ 23.6875 68.5 21.796875 66.546875 \r\nQ 19.921875 64.59375 19.921875 59.515625 \r\nL 19.921875 54.6875 \r\nL 34.71875 54.6875 \r\nL 34.71875 47.703125 \r\nL 19.921875 47.703125 \r\nL 19.921875 0 \r\nL 10.890625 0 \r\nL 10.890625 47.703125 \r\nL 2.296875 47.703125 \r\nL 2.296875 54.6875 \r\nL 10.890625 54.6875 \r\nL 10.890625 58.5 \r\nQ 10.890625 67.625 15.140625 71.796875 \r\nQ 19.390625 75.984375 28.609375 75.984375 \r\nz\r\n\" id=\"DejaVuSans-102\"/>\r\n      <path d=\"M 48.78125 52.59375 \r\nL 48.78125 44.1875 \r\nQ 44.96875 46.296875 41.140625 47.34375 \r\nQ 37.3125 48.390625 33.40625 48.390625 \r\nQ 24.65625 48.390625 19.8125 42.84375 \r\nQ 14.984375 37.3125 14.984375 27.296875 \r\nQ 14.984375 17.28125 19.8125 11.734375 \r\nQ 24.65625 6.203125 33.40625 6.203125 \r\nQ 37.3125 6.203125 41.140625 7.25 \r\nQ 44.96875 8.296875 48.78125 10.40625 \r\nL 48.78125 2.09375 \r\nQ 45.015625 0.34375 40.984375 -0.53125 \r\nQ 36.96875 -1.421875 32.421875 -1.421875 \r\nQ 20.0625 -1.421875 12.78125 6.34375 \r\nQ 5.515625 14.109375 5.515625 27.296875 \r\nQ 5.515625 40.671875 12.859375 48.328125 \r\nQ 20.21875 56 33.015625 56 \r\nQ 37.15625 56 41.109375 55.140625 \r\nQ 45.0625 54.296875 48.78125 52.59375 \r\nz\r\n\" id=\"DejaVuSans-99\"/>\r\n      <path d=\"M 9.421875 75.984375 \r\nL 18.40625 75.984375 \r\nL 18.40625 0 \r\nL 9.421875 0 \r\nz\r\n\" id=\"DejaVuSans-108\"/>\r\n      <path d=\"M 44.28125 53.078125 \r\nL 44.28125 44.578125 \r\nQ 40.484375 46.53125 36.375 47.5 \r\nQ 32.28125 48.484375 27.875 48.484375 \r\nQ 21.1875 48.484375 17.84375 46.4375 \r\nQ 14.5 44.390625 14.5 40.28125 \r\nQ 14.5 37.15625 16.890625 35.375 \r\nQ 19.28125 33.59375 26.515625 31.984375 \r\nL 29.59375 31.296875 \r\nQ 39.15625 29.25 43.1875 25.515625 \r\nQ 47.21875 21.78125 47.21875 15.09375 \r\nQ 47.21875 7.46875 41.1875 3.015625 \r\nQ 35.15625 -1.421875 24.609375 -1.421875 \r\nQ 20.21875 -1.421875 15.453125 -0.5625 \r\nQ 10.6875 0.296875 5.421875 2 \r\nL 5.421875 11.28125 \r\nQ 10.40625 8.6875 15.234375 7.390625 \r\nQ 20.0625 6.109375 24.8125 6.109375 \r\nQ 31.15625 6.109375 34.5625 8.28125 \r\nQ 37.984375 10.453125 37.984375 14.40625 \r\nQ 37.984375 18.0625 35.515625 20.015625 \r\nQ 33.0625 21.96875 24.703125 23.78125 \r\nL 21.578125 24.515625 \r\nQ 13.234375 26.265625 9.515625 29.90625 \r\nQ 5.8125 33.546875 5.8125 39.890625 \r\nQ 5.8125 47.609375 11.28125 51.796875 \r\nQ 16.75 56 26.8125 56 \r\nQ 31.78125 56 36.171875 55.265625 \r\nQ 40.578125 54.546875 44.28125 53.078125 \r\nz\r\n\" id=\"DejaVuSans-115\"/>\r\n      <path d=\"M 18.3125 70.21875 \r\nL 18.3125 54.6875 \r\nL 36.8125 54.6875 \r\nL 36.8125 47.703125 \r\nL 18.3125 47.703125 \r\nL 18.3125 18.015625 \r\nQ 18.3125 11.328125 20.140625 9.421875 \r\nQ 21.96875 7.515625 27.59375 7.515625 \r\nL 36.8125 7.515625 \r\nL 36.8125 0 \r\nL 27.59375 0 \r\nQ 17.1875 0 13.234375 3.875 \r\nQ 9.28125 7.765625 9.28125 18.015625 \r\nL 9.28125 47.703125 \r\nL 2.6875 47.703125 \r\nL 2.6875 54.6875 \r\nL 9.28125 54.6875 \r\nL 9.28125 70.21875 \r\nz\r\n\" id=\"DejaVuSans-116\"/>\r\n     </defs>\r\n     <g transform=\"translate(330.889063 376.754687)scale(0.1 -0.1)\">\r\n      <use xlink:href=\"#DejaVuSans-78\"/>\r\n      <use x=\"74.804688\" xlink:href=\"#DejaVuSans-117\"/>\r\n      <use x=\"138.183594\" xlink:href=\"#DejaVuSans-109\"/>\r\n      <use x=\"235.595703\" xlink:href=\"#DejaVuSans-98\"/>\r\n      <use x=\"299.072266\" xlink:href=\"#DejaVuSans-101\"/>\r\n      <use x=\"360.595703\" xlink:href=\"#DejaVuSans-114\"/>\r\n      <use x=\"401.708984\" xlink:href=\"#DejaVuSans-32\"/>\r\n      <use x=\"433.496094\" xlink:href=\"#DejaVuSans-111\"/>\r\n      <use x=\"494.677734\" xlink:href=\"#DejaVuSans-102\"/>\r\n      <use x=\"529.882812\" xlink:href=\"#DejaVuSans-32\"/>\r\n      <use x=\"561.669922\" xlink:href=\"#DejaVuSans-99\"/>\r\n      <use x=\"616.650391\" xlink:href=\"#DejaVuSans-108\"/>\r\n      <use x=\"644.433594\" xlink:href=\"#DejaVuSans-117\"/>\r\n      <use x=\"707.8125\" xlink:href=\"#DejaVuSans-115\"/>\r\n      <use x=\"759.912109\" xlink:href=\"#DejaVuSans-116\"/>\r\n      <use x=\"799.121094\" xlink:href=\"#DejaVuSans-101\"/>\r\n      <use x=\"860.644531\" xlink:href=\"#DejaVuSans-114\"/>\r\n      <use x=\"901.757812\" xlink:href=\"#DejaVuSans-115\"/>\r\n     </g>\r\n    </g>\r\n   </g>\r\n   <g id=\"matplotlib.axis_2\">\r\n    <g id=\"ytick_1\">\r\n     <g id=\"line2d_6\">\r\n      <defs>\r\n       <path d=\"M 0 0 \r\nL -3.5 0 \r\n\" id=\"m1552b199e9\" style=\"stroke:#000000;stroke-width:0.8;\"/>\r\n      </defs>\r\n      <g>\r\n       <use style=\"stroke:#000000;stroke-width:0.8;\" x=\"43.78125\" xlink:href=\"#m1552b199e9\" y=\"333.807233\"/>\r\n      </g>\r\n     </g>\r\n     <g id=\"text_7\">\r\n      <!-- 0.0 -->\r\n      <defs>\r\n       <path d=\"M 10.6875 12.40625 \r\nL 21 12.40625 \r\nL 21 0 \r\nL 10.6875 0 \r\nz\r\n\" id=\"DejaVuSans-46\"/>\r\n      </defs>\r\n      <g transform=\"translate(20.878125 337.606452)scale(0.1 -0.1)\">\r\n       <use xlink:href=\"#DejaVuSans-48\"/>\r\n       <use x=\"63.623047\" xlink:href=\"#DejaVuSans-46\"/>\r\n       <use x=\"95.410156\" xlink:href=\"#DejaVuSans-48\"/>\r\n      </g>\r\n     </g>\r\n    </g>\r\n    <g id=\"ytick_2\">\r\n     <g id=\"line2d_7\">\r\n      <g>\r\n       <use style=\"stroke:#000000;stroke-width:0.8;\" x=\"43.78125\" xlink:href=\"#m1552b199e9\" y=\"284.393443\"/>\r\n      </g>\r\n     </g>\r\n     <g id=\"text_8\">\r\n      <!-- 0.5 -->\r\n      <defs>\r\n       <path d=\"M 10.796875 72.90625 \r\nL 49.515625 72.90625 \r\nL 49.515625 64.59375 \r\nL 19.828125 64.59375 \r\nL 19.828125 46.734375 \r\nQ 21.96875 47.46875 24.109375 47.828125 \r\nQ 26.265625 48.1875 28.421875 48.1875 \r\nQ 40.625 48.1875 47.75 41.5 \r\nQ 54.890625 34.8125 54.890625 23.390625 \r\nQ 54.890625 11.625 47.5625 5.09375 \r\nQ 40.234375 -1.421875 26.90625 -1.421875 \r\nQ 22.3125 -1.421875 17.546875 -0.640625 \r\nQ 12.796875 0.140625 7.71875 1.703125 \r\nL 7.71875 11.625 \r\nQ 12.109375 9.234375 16.796875 8.0625 \r\nQ 21.484375 6.890625 26.703125 6.890625 \r\nQ 35.15625 6.890625 40.078125 11.328125 \r\nQ 45.015625 15.765625 45.015625 23.390625 \r\nQ 45.015625 31 40.078125 35.4375 \r\nQ 35.15625 39.890625 26.703125 39.890625 \r\nQ 22.75 39.890625 18.8125 39.015625 \r\nQ 14.890625 38.140625 10.796875 36.28125 \r\nz\r\n\" id=\"DejaVuSans-53\"/>\r\n      </defs>\r\n      <g transform=\"translate(20.878125 288.192661)scale(0.1 -0.1)\">\r\n       <use xlink:href=\"#DejaVuSans-48\"/>\r\n       <use x=\"63.623047\" xlink:href=\"#DejaVuSans-46\"/>\r\n       <use x=\"95.410156\" xlink:href=\"#DejaVuSans-53\"/>\r\n      </g>\r\n     </g>\r\n    </g>\r\n    <g id=\"ytick_3\">\r\n     <g id=\"line2d_8\">\r\n      <g>\r\n       <use style=\"stroke:#000000;stroke-width:0.8;\" x=\"43.78125\" xlink:href=\"#m1552b199e9\" y=\"234.979652\"/>\r\n      </g>\r\n     </g>\r\n     <g id=\"text_9\">\r\n      <!-- 1.0 -->\r\n      <g transform=\"translate(20.878125 238.778871)scale(0.1 -0.1)\">\r\n       <use xlink:href=\"#DejaVuSans-49\"/>\r\n       <use x=\"63.623047\" xlink:href=\"#DejaVuSans-46\"/>\r\n       <use x=\"95.410156\" xlink:href=\"#DejaVuSans-48\"/>\r\n      </g>\r\n     </g>\r\n    </g>\r\n    <g id=\"ytick_4\">\r\n     <g id=\"line2d_9\">\r\n      <g>\r\n       <use style=\"stroke:#000000;stroke-width:0.8;\" x=\"43.78125\" xlink:href=\"#m1552b199e9\" y=\"185.565861\"/>\r\n      </g>\r\n     </g>\r\n     <g id=\"text_10\">\r\n      <!-- 1.5 -->\r\n      <g transform=\"translate(20.878125 189.36508)scale(0.1 -0.1)\">\r\n       <use xlink:href=\"#DejaVuSans-49\"/>\r\n       <use x=\"63.623047\" xlink:href=\"#DejaVuSans-46\"/>\r\n       <use x=\"95.410156\" xlink:href=\"#DejaVuSans-53\"/>\r\n      </g>\r\n     </g>\r\n    </g>\r\n    <g id=\"ytick_5\">\r\n     <g id=\"line2d_10\">\r\n      <g>\r\n       <use style=\"stroke:#000000;stroke-width:0.8;\" x=\"43.78125\" xlink:href=\"#m1552b199e9\" y=\"136.152071\"/>\r\n      </g>\r\n     </g>\r\n     <g id=\"text_11\">\r\n      <!-- 2.0 -->\r\n      <g transform=\"translate(20.878125 139.95129)scale(0.1 -0.1)\">\r\n       <use xlink:href=\"#DejaVuSans-50\"/>\r\n       <use x=\"63.623047\" xlink:href=\"#DejaVuSans-46\"/>\r\n       <use x=\"95.410156\" xlink:href=\"#DejaVuSans-48\"/>\r\n      </g>\r\n     </g>\r\n    </g>\r\n    <g id=\"ytick_6\">\r\n     <g id=\"line2d_11\">\r\n      <g>\r\n       <use style=\"stroke:#000000;stroke-width:0.8;\" x=\"43.78125\" xlink:href=\"#m1552b199e9\" y=\"86.73828\"/>\r\n      </g>\r\n     </g>\r\n     <g id=\"text_12\">\r\n      <!-- 2.5 -->\r\n      <g transform=\"translate(20.878125 90.537499)scale(0.1 -0.1)\">\r\n       <use xlink:href=\"#DejaVuSans-50\"/>\r\n       <use x=\"63.623047\" xlink:href=\"#DejaVuSans-46\"/>\r\n       <use x=\"95.410156\" xlink:href=\"#DejaVuSans-53\"/>\r\n      </g>\r\n     </g>\r\n    </g>\r\n    <g id=\"ytick_7\">\r\n     <g id=\"line2d_12\">\r\n      <g>\r\n       <use style=\"stroke:#000000;stroke-width:0.8;\" x=\"43.78125\" xlink:href=\"#m1552b199e9\" y=\"37.32449\"/>\r\n      </g>\r\n     </g>\r\n     <g id=\"text_13\">\r\n      <!-- 3.0 -->\r\n      <defs>\r\n       <path d=\"M 40.578125 39.3125 \r\nQ 47.65625 37.796875 51.625 33 \r\nQ 55.609375 28.21875 55.609375 21.1875 \r\nQ 55.609375 10.40625 48.1875 4.484375 \r\nQ 40.765625 -1.421875 27.09375 -1.421875 \r\nQ 22.515625 -1.421875 17.65625 -0.515625 \r\nQ 12.796875 0.390625 7.625 2.203125 \r\nL 7.625 11.71875 \r\nQ 11.71875 9.328125 16.59375 8.109375 \r\nQ 21.484375 6.890625 26.8125 6.890625 \r\nQ 36.078125 6.890625 40.9375 10.546875 \r\nQ 45.796875 14.203125 45.796875 21.1875 \r\nQ 45.796875 27.640625 41.28125 31.265625 \r\nQ 36.765625 34.90625 28.71875 34.90625 \r\nL 20.21875 34.90625 \r\nL 20.21875 43.015625 \r\nL 29.109375 43.015625 \r\nQ 36.375 43.015625 40.234375 45.921875 \r\nQ 44.09375 48.828125 44.09375 54.296875 \r\nQ 44.09375 59.90625 40.109375 62.90625 \r\nQ 36.140625 65.921875 28.71875 65.921875 \r\nQ 24.65625 65.921875 20.015625 65.03125 \r\nQ 15.375 64.15625 9.8125 62.3125 \r\nL 9.8125 71.09375 \r\nQ 15.4375 72.65625 20.34375 73.4375 \r\nQ 25.25 74.21875 29.59375 74.21875 \r\nQ 40.828125 74.21875 47.359375 69.109375 \r\nQ 53.90625 64.015625 53.90625 55.328125 \r\nQ 53.90625 49.265625 50.4375 45.09375 \r\nQ 46.96875 40.921875 40.578125 39.3125 \r\nz\r\n\" id=\"DejaVuSans-51\"/>\r\n      </defs>\r\n      <g transform=\"translate(20.878125 41.123708)scale(0.1 -0.1)\">\r\n       <use xlink:href=\"#DejaVuSans-51\"/>\r\n       <use x=\"63.623047\" xlink:href=\"#DejaVuSans-46\"/>\r\n       <use x=\"95.410156\" xlink:href=\"#DejaVuSans-48\"/>\r\n      </g>\r\n     </g>\r\n    </g>\r\n    <g id=\"text_14\">\r\n     <!-- Inertia -->\r\n     <defs>\r\n      <path d=\"M 9.8125 72.90625 \r\nL 19.671875 72.90625 \r\nL 19.671875 0 \r\nL 9.8125 0 \r\nz\r\n\" id=\"DejaVuSans-73\"/>\r\n      <path d=\"M 54.890625 33.015625 \r\nL 54.890625 0 \r\nL 45.90625 0 \r\nL 45.90625 32.71875 \r\nQ 45.90625 40.484375 42.875 44.328125 \r\nQ 39.84375 48.1875 33.796875 48.1875 \r\nQ 26.515625 48.1875 22.3125 43.546875 \r\nQ 18.109375 38.921875 18.109375 30.90625 \r\nL 18.109375 0 \r\nL 9.078125 0 \r\nL 9.078125 54.6875 \r\nL 18.109375 54.6875 \r\nL 18.109375 46.1875 \r\nQ 21.34375 51.125 25.703125 53.5625 \r\nQ 30.078125 56 35.796875 56 \r\nQ 45.21875 56 50.046875 50.171875 \r\nQ 54.890625 44.34375 54.890625 33.015625 \r\nz\r\n\" id=\"DejaVuSans-110\"/>\r\n      <path d=\"M 9.421875 54.6875 \r\nL 18.40625 54.6875 \r\nL 18.40625 0 \r\nL 9.421875 0 \r\nz\r\nM 9.421875 75.984375 \r\nL 18.40625 75.984375 \r\nL 18.40625 64.59375 \r\nL 9.421875 64.59375 \r\nz\r\n\" id=\"DejaVuSans-105\"/>\r\n      <path d=\"M 34.28125 27.484375 \r\nQ 23.390625 27.484375 19.1875 25 \r\nQ 14.984375 22.515625 14.984375 16.5 \r\nQ 14.984375 11.71875 18.140625 8.90625 \r\nQ 21.296875 6.109375 26.703125 6.109375 \r\nQ 34.1875 6.109375 38.703125 11.40625 \r\nQ 43.21875 16.703125 43.21875 25.484375 \r\nL 43.21875 27.484375 \r\nz\r\nM 52.203125 31.203125 \r\nL 52.203125 0 \r\nL 43.21875 0 \r\nL 43.21875 8.296875 \r\nQ 40.140625 3.328125 35.546875 0.953125 \r\nQ 30.953125 -1.421875 24.3125 -1.421875 \r\nQ 15.921875 -1.421875 10.953125 3.296875 \r\nQ 6 8.015625 6 15.921875 \r\nQ 6 25.140625 12.171875 29.828125 \r\nQ 18.359375 34.515625 30.609375 34.515625 \r\nL 43.21875 34.515625 \r\nL 43.21875 35.40625 \r\nQ 43.21875 41.609375 39.140625 45 \r\nQ 35.0625 48.390625 27.6875 48.390625 \r\nQ 23 48.390625 18.546875 47.265625 \r\nQ 14.109375 46.140625 10.015625 43.890625 \r\nL 10.015625 52.203125 \r\nQ 14.9375 54.109375 19.578125 55.046875 \r\nQ 24.21875 56 28.609375 56 \r\nQ 40.484375 56 46.34375 49.84375 \r\nQ 52.203125 43.703125 52.203125 31.203125 \r\nz\r\n\" id=\"DejaVuSans-97\"/>\r\n     </defs>\r\n     <g transform=\"translate(14.798438 201.587187)rotate(-90)scale(0.1 -0.1)\">\r\n      <use xlink:href=\"#DejaVuSans-73\"/>\r\n      <use x=\"29.492188\" xlink:href=\"#DejaVuSans-110\"/>\r\n      <use x=\"92.871094\" xlink:href=\"#DejaVuSans-101\"/>\r\n      <use x=\"154.394531\" xlink:href=\"#DejaVuSans-114\"/>\r\n      <use x=\"195.507812\" xlink:href=\"#DejaVuSans-116\"/>\r\n      <use x=\"234.716797\" xlink:href=\"#DejaVuSans-105\"/>\r\n      <use x=\"262.5\" xlink:href=\"#DejaVuSans-97\"/>\r\n     </g>\r\n    </g>\r\n    <g id=\"text_15\">\r\n     <!-- 1e10 -->\r\n     <g transform=\"translate(43.78125 19.318125)scale(0.1 -0.1)\">\r\n      <use xlink:href=\"#DejaVuSans-49\"/>\r\n      <use x=\"63.623047\" xlink:href=\"#DejaVuSans-101\"/>\r\n      <use x=\"125.146484\" xlink:href=\"#DejaVuSans-49\"/>\r\n      <use x=\"188.769531\" xlink:href=\"#DejaVuSans-48\"/>\r\n     </g>\r\n    </g>\r\n   </g>\r\n   <g id=\"line2d_13\">\r\n    <path clip-path=\"url(#p0d4c691da5)\" d=\"M 74.217614 37.14358 \r\nL 141.853977 281.186827 \r\nL 209.490341 309.932733 \r\nL 277.126705 321.128433 \r\nL 344.763068 327.812985 \r\nL 412.399432 331.285434 \r\nL 480.035795 332.873987 \r\nL 547.672159 333.413246 \r\nL 615.308523 333.558916 \r\nL 682.944886 333.65267 \r\n\" style=\"fill:none;stroke:#1f77b4;stroke-linecap:square;stroke-width:1.5;\"/>\r\n    <defs>\r\n     <path d=\"M 0 5 \r\nC 1.326016 5 2.597899 4.473168 3.535534 3.535534 \r\nC 4.473168 2.597899 5 1.326016 5 0 \r\nC 5 -1.326016 4.473168 -2.597899 3.535534 -3.535534 \r\nC 2.597899 -4.473168 1.326016 -5 0 -5 \r\nC -1.326016 -5 -2.597899 -4.473168 -3.535534 -3.535534 \r\nC -4.473168 -2.597899 -5 -1.326016 -5 0 \r\nC -5 1.326016 -4.473168 2.597899 -3.535534 3.535534 \r\nC -2.597899 4.473168 -1.326016 5 0 5 \r\nz\r\n\" id=\"ma07a177856\" style=\"stroke:#1f77b4;\"/>\r\n    </defs>\r\n    <g clip-path=\"url(#p0d4c691da5)\">\r\n     <use style=\"fill:#1f77b4;stroke:#1f77b4;\" x=\"74.217614\" xlink:href=\"#ma07a177856\" y=\"37.14358\"/>\r\n     <use style=\"fill:#1f77b4;stroke:#1f77b4;\" x=\"141.853977\" xlink:href=\"#ma07a177856\" y=\"281.186827\"/>\r\n     <use style=\"fill:#1f77b4;stroke:#1f77b4;\" x=\"209.490341\" xlink:href=\"#ma07a177856\" y=\"309.932733\"/>\r\n     <use style=\"fill:#1f77b4;stroke:#1f77b4;\" x=\"277.126705\" xlink:href=\"#ma07a177856\" y=\"321.128433\"/>\r\n     <use style=\"fill:#1f77b4;stroke:#1f77b4;\" x=\"344.763068\" xlink:href=\"#ma07a177856\" y=\"327.812985\"/>\r\n     <use style=\"fill:#1f77b4;stroke:#1f77b4;\" x=\"412.399432\" xlink:href=\"#ma07a177856\" y=\"331.285434\"/>\r\n     <use style=\"fill:#1f77b4;stroke:#1f77b4;\" x=\"480.035795\" xlink:href=\"#ma07a177856\" y=\"332.873987\"/>\r\n     <use style=\"fill:#1f77b4;stroke:#1f77b4;\" x=\"547.672159\" xlink:href=\"#ma07a177856\" y=\"333.413246\"/>\r\n     <use style=\"fill:#1f77b4;stroke:#1f77b4;\" x=\"615.308523\" xlink:href=\"#ma07a177856\" y=\"333.558916\"/>\r\n     <use style=\"fill:#1f77b4;stroke:#1f77b4;\" x=\"682.944886\" xlink:href=\"#ma07a177856\" y=\"333.65267\"/>\r\n    </g>\r\n   </g>\r\n   <g id=\"patch_3\">\r\n    <path d=\"M 43.78125 348.478125 \r\nL 43.78125 22.318125 \r\n\" style=\"fill:none;stroke:#000000;stroke-linecap:square;stroke-linejoin:miter;stroke-width:0.8;\"/>\r\n   </g>\r\n   <g id=\"patch_4\">\r\n    <path d=\"M 713.38125 348.478125 \r\nL 713.38125 22.318125 \r\n\" style=\"fill:none;stroke:#000000;stroke-linecap:square;stroke-linejoin:miter;stroke-width:0.8;\"/>\r\n   </g>\r\n   <g id=\"patch_5\">\r\n    <path d=\"M 43.78125 348.478125 \r\nL 713.38125 348.478125 \r\n\" style=\"fill:none;stroke:#000000;stroke-linecap:square;stroke-linejoin:miter;stroke-width:0.8;\"/>\r\n   </g>\r\n   <g id=\"patch_6\">\r\n    <path d=\"M 43.78125 22.318125 \r\nL 713.38125 22.318125 \r\n\" style=\"fill:none;stroke:#000000;stroke-linecap:square;stroke-linejoin:miter;stroke-width:0.8;\"/>\r\n   </g>\r\n   <g id=\"text_16\">\r\n    <!-- Inertia of k-Means versus number of clusters -->\r\n    <defs>\r\n     <path d=\"M 9.078125 75.984375 \r\nL 18.109375 75.984375 \r\nL 18.109375 31.109375 \r\nL 44.921875 54.6875 \r\nL 56.390625 54.6875 \r\nL 27.390625 29.109375 \r\nL 57.625 0 \r\nL 45.90625 0 \r\nL 18.109375 26.703125 \r\nL 18.109375 0 \r\nL 9.078125 0 \r\nz\r\n\" id=\"DejaVuSans-107\"/>\r\n     <path d=\"M 4.890625 31.390625 \r\nL 31.203125 31.390625 \r\nL 31.203125 23.390625 \r\nL 4.890625 23.390625 \r\nz\r\n\" id=\"DejaVuSans-45\"/>\r\n     <path d=\"M 9.8125 72.90625 \r\nL 24.515625 72.90625 \r\nL 43.109375 23.296875 \r\nL 61.8125 72.90625 \r\nL 76.515625 72.90625 \r\nL 76.515625 0 \r\nL 66.890625 0 \r\nL 66.890625 64.015625 \r\nL 48.09375 14.015625 \r\nL 38.1875 14.015625 \r\nL 19.390625 64.015625 \r\nL 19.390625 0 \r\nL 9.8125 0 \r\nz\r\n\" id=\"DejaVuSans-77\"/>\r\n     <path d=\"M 2.984375 54.6875 \r\nL 12.5 54.6875 \r\nL 29.59375 8.796875 \r\nL 46.6875 54.6875 \r\nL 56.203125 54.6875 \r\nL 35.6875 0 \r\nL 23.484375 0 \r\nz\r\n\" id=\"DejaVuSans-118\"/>\r\n    </defs>\r\n    <g transform=\"translate(244.322813 16.318125)scale(0.12 -0.12)\">\r\n     <use xlink:href=\"#DejaVuSans-73\"/>\r\n     <use x=\"29.492188\" xlink:href=\"#DejaVuSans-110\"/>\r\n     <use x=\"92.871094\" xlink:href=\"#DejaVuSans-101\"/>\r\n     <use x=\"154.394531\" xlink:href=\"#DejaVuSans-114\"/>\r\n     <use x=\"195.507812\" xlink:href=\"#DejaVuSans-116\"/>\r\n     <use x=\"234.716797\" xlink:href=\"#DejaVuSans-105\"/>\r\n     <use x=\"262.5\" xlink:href=\"#DejaVuSans-97\"/>\r\n     <use x=\"323.779297\" xlink:href=\"#DejaVuSans-32\"/>\r\n     <use x=\"355.566406\" xlink:href=\"#DejaVuSans-111\"/>\r\n     <use x=\"416.748047\" xlink:href=\"#DejaVuSans-102\"/>\r\n     <use x=\"451.953125\" xlink:href=\"#DejaVuSans-32\"/>\r\n     <use x=\"483.740234\" xlink:href=\"#DejaVuSans-107\"/>\r\n     <use x=\"541.650391\" xlink:href=\"#DejaVuSans-45\"/>\r\n     <use x=\"577.734375\" xlink:href=\"#DejaVuSans-77\"/>\r\n     <use x=\"664.013672\" xlink:href=\"#DejaVuSans-101\"/>\r\n     <use x=\"725.537109\" xlink:href=\"#DejaVuSans-97\"/>\r\n     <use x=\"786.816406\" xlink:href=\"#DejaVuSans-110\"/>\r\n     <use x=\"850.195312\" xlink:href=\"#DejaVuSans-115\"/>\r\n     <use x=\"902.294922\" xlink:href=\"#DejaVuSans-32\"/>\r\n     <use x=\"934.082031\" xlink:href=\"#DejaVuSans-118\"/>\r\n     <use x=\"993.261719\" xlink:href=\"#DejaVuSans-101\"/>\r\n     <use x=\"1054.785156\" xlink:href=\"#DejaVuSans-114\"/>\r\n     <use x=\"1095.898438\" xlink:href=\"#DejaVuSans-115\"/>\r\n     <use x=\"1147.998047\" xlink:href=\"#DejaVuSans-117\"/>\r\n     <use x=\"1211.376953\" xlink:href=\"#DejaVuSans-115\"/>\r\n     <use x=\"1263.476562\" xlink:href=\"#DejaVuSans-32\"/>\r\n     <use x=\"1295.263672\" xlink:href=\"#DejaVuSans-110\"/>\r\n     <use x=\"1358.642578\" xlink:href=\"#DejaVuSans-117\"/>\r\n     <use x=\"1422.021484\" xlink:href=\"#DejaVuSans-109\"/>\r\n     <use x=\"1519.433594\" xlink:href=\"#DejaVuSans-98\"/>\r\n     <use x=\"1582.910156\" xlink:href=\"#DejaVuSans-101\"/>\r\n     <use x=\"1644.433594\" xlink:href=\"#DejaVuSans-114\"/>\r\n     <use x=\"1685.546875\" xlink:href=\"#DejaVuSans-32\"/>\r\n     <use x=\"1717.333984\" xlink:href=\"#DejaVuSans-111\"/>\r\n     <use x=\"1778.515625\" xlink:href=\"#DejaVuSans-102\"/>\r\n     <use x=\"1813.720703\" xlink:href=\"#DejaVuSans-32\"/>\r\n     <use x=\"1845.507812\" xlink:href=\"#DejaVuSans-99\"/>\r\n     <use x=\"1900.488281\" xlink:href=\"#DejaVuSans-108\"/>\r\n     <use x=\"1928.271484\" xlink:href=\"#DejaVuSans-117\"/>\r\n     <use x=\"1991.650391\" xlink:href=\"#DejaVuSans-115\"/>\r\n     <use x=\"2043.75\" xlink:href=\"#DejaVuSans-116\"/>\r\n     <use x=\"2082.958984\" xlink:href=\"#DejaVuSans-101\"/>\r\n     <use x=\"2144.482422\" xlink:href=\"#DejaVuSans-114\"/>\r\n     <use x=\"2185.595703\" xlink:href=\"#DejaVuSans-115\"/>\r\n    </g>\r\n   </g>\r\n  </g>\r\n </g>\r\n <defs>\r\n  <clipPath id=\"p0d4c691da5\">\r\n   <rect height=\"326.16\" width=\"669.6\" x=\"43.78125\" y=\"22.318125\"/>\r\n  </clipPath>\r\n </defs>\r\n</svg>\r\n",
      "image/png": "[encoded data removed]"
     },
     "metadata": {
      "needs_background": "light"
     }
    }
   ],
   "source": [
    "scores = [KMeans(n_clusters=i+2).fit(dataset_km).inertia_ for i in range(10)]\n",
    "\n",
    "from matplotlib import pyplot as plt\n",
    "plt.figure(figsize=(12,6))\n",
    "plt.plot(np.arange(2, 12), scores,'-o', markersize=10)\n",
    "plt.xlabel('Number of clusters')\n",
    "plt.ylabel(\"Inertia\")\n",
    "plt.title(\"Inertia of k-Means versus number of clusters\")"
   ]
  },
  {
   "source": [
    "### Implementación del algoritmo"
   ],
   "cell_type": "markdown",
   "metadata": {}
  },
  {
   "cell_type": "code",
   "execution_count": 22,
   "metadata": {},
   "outputs": [
    {
     "output_type": "execute_result",
     "data": {
      "text/plain": [
       "         confirmados  fallecidos  edad_promedio  cuidado_intensivo  \\\n",
       "cluster                                                              \n",
       "1            13405.3       346.2           68.9              271.8   \n",
       "2           535333.0     20381.0           71.6            13948.0   \n",
       "3           110622.0      2970.3           74.2             2915.0   \n",
       "\n",
       "         asistencia_respiratoria_mecanica  \n",
       "cluster                                    \n",
       "1                                   126.4  \n",
       "2                                  5405.0  \n",
       "3                                  1133.0  "
      ],
      "text/html": "<div>\n<style scoped>\n    .dataframe tbody tr th:only-of-type {\n        vertical-align: middle;\n    }\n\n    .dataframe tbody tr th {\n        vertical-align: top;\n    }\n\n    .dataframe thead th {\n        text-align: right;\n    }\n</style>\n<table border=\"1\" class=\"dataframe\">\n  <thead>\n    <tr style=\"text-align: right;\">\n      <th></th>\n      <th>confirmados</th>\n      <th>fallecidos</th>\n      <th>edad_promedio</th>\n      <th>cuidado_intensivo</th>\n      <th>asistencia_respiratoria_mecanica</th>\n    </tr>\n    <tr>\n      <th>cluster</th>\n      <th></th>\n      <th></th>\n      <th></th>\n      <th></th>\n      <th></th>\n    </tr>\n  </thead>\n  <tbody>\n    <tr>\n      <th>1</th>\n      <td>13405.3</td>\n      <td>346.2</td>\n      <td>68.9</td>\n      <td>271.8</td>\n      <td>126.4</td>\n    </tr>\n    <tr>\n      <th>2</th>\n      <td>535333.0</td>\n      <td>20381.0</td>\n      <td>71.6</td>\n      <td>13948.0</td>\n      <td>5405.0</td>\n    </tr>\n    <tr>\n      <th>3</th>\n      <td>110622.0</td>\n      <td>2970.3</td>\n      <td>74.2</td>\n      <td>2915.0</td>\n      <td>1133.0</td>\n    </tr>\n  </tbody>\n</table>\n</div>"
     },
     "metadata": {},
     "execution_count": 22
    }
   ],
   "source": [
    "kmeans = KMeans(n_clusters = 3, init = 'k-means++', random_state=42)\n",
    "y_kmeans = kmeans.fit_predict(dataset_km)\n",
    "y_kmeans1=y_kmeans+1\n",
    "cluster = pd.DataFrame(y_kmeans1)\n",
    "dataset_km_sub = dataset_final.drop(['residencia_provincia_nombre'], axis=1)\n",
    "# Adding cluster to the Dataset\n",
    "dataset_km_sub['cluster'] = cluster\n",
    "#Mean of clusters\n",
    "kmeans_mean_cluster = pd.DataFrame(round(dataset_km_sub.groupby('cluster').mean(),1))\n",
    "\n",
    "clusters = kmeans.labels_\n",
    "\n",
    "## Identificación de los valores promedio (centroides) \n",
    "kmeans_mean_cluster"
   ]
  },
  {
   "cell_type": "code",
   "execution_count": 23,
   "metadata": {},
   "outputs": [],
   "source": [
    "dataset_km_sub_concat = pd.concat([dataset_final[['residencia_provincia_nombre']],dataset_km_sub],axis=1)"
   ]
  },
  {
   "cell_type": "code",
   "execution_count": 24,
   "metadata": {},
   "outputs": [
    {
     "output_type": "execute_result",
     "data": {
      "text/plain": [
       "  residencia_provincia_nombre  confirmados  fallecidos  edad_promedio  \\\n",
       "0                Buenos Aires       535333       20381      71.615468   \n",
       "1                        CABA       143690        6045      76.649254   \n",
       "2                   Catamarca          924           1      97.000000   \n",
       "3                       Chaco        12743         560      65.517857   \n",
       "4                      Chubut        13972         202      70.282178   \n",
       "5                  Corrientes         2482          47      67.808511   \n",
       "6                     Córdoba        80836        1364      73.166422   \n",
       "7                  Entre Ríos        15616         476      71.159664   \n",
       "8                     Formosa          151           2      54.000000   \n",
       "9                       Jujuy        16540         757      66.685185   \n",
       "\n",
       "   cuidado_intensivo  asistencia_respiratoria_mecanica  cluster  \n",
       "0              13948                              5405        2  \n",
       "1               5178                              2169        3  \n",
       "2                 35                                10        1  \n",
       "3               1004                               443        1  \n",
       "4                177                                79        1  \n",
       "5                 85                                46        1  \n",
       "6               2017                               529        3  \n",
       "7                439                               166        1  \n",
       "8                 44                                26        1  \n",
       "9                188                               117        1  "
      ],
      "text/html": "<div>\n<style scoped>\n    .dataframe tbody tr th:only-of-type {\n        vertical-align: middle;\n    }\n\n    .dataframe tbody tr th {\n        vertical-align: top;\n    }\n\n    .dataframe thead th {\n        text-align: right;\n    }\n</style>\n<table border=\"1\" class=\"dataframe\">\n  <thead>\n    <tr style=\"text-align: right;\">\n      <th></th>\n      <th>residencia_provincia_nombre</th>\n      <th>confirmados</th>\n      <th>fallecidos</th>\n      <th>edad_promedio</th>\n      <th>cuidado_intensivo</th>\n      <th>asistencia_respiratoria_mecanica</th>\n      <th>cluster</th>\n    </tr>\n  </thead>\n  <tbody>\n    <tr>\n      <th>0</th>\n      <td>Buenos Aires</td>\n      <td>535333</td>\n      <td>20381</td>\n      <td>71.615468</td>\n      <td>13948</td>\n      <td>5405</td>\n      <td>2</td>\n    </tr>\n    <tr>\n      <th>1</th>\n      <td>CABA</td>\n      <td>143690</td>\n      <td>6045</td>\n      <td>76.649254</td>\n      <td>5178</td>\n      <td>2169</td>\n      <td>3</td>\n    </tr>\n    <tr>\n      <th>2</th>\n      <td>Catamarca</td>\n      <td>924</td>\n      <td>1</td>\n      <td>97.000000</td>\n      <td>35</td>\n      <td>10</td>\n      <td>1</td>\n    </tr>\n    <tr>\n      <th>3</th>\n      <td>Chaco</td>\n      <td>12743</td>\n      <td>560</td>\n      <td>65.517857</td>\n      <td>1004</td>\n      <td>443</td>\n      <td>1</td>\n    </tr>\n    <tr>\n      <th>4</th>\n      <td>Chubut</td>\n      <td>13972</td>\n      <td>202</td>\n      <td>70.282178</td>\n      <td>177</td>\n      <td>79</td>\n      <td>1</td>\n    </tr>\n    <tr>\n      <th>5</th>\n      <td>Corrientes</td>\n      <td>2482</td>\n      <td>47</td>\n      <td>67.808511</td>\n      <td>85</td>\n      <td>46</td>\n      <td>1</td>\n    </tr>\n    <tr>\n      <th>6</th>\n      <td>Córdoba</td>\n      <td>80836</td>\n      <td>1364</td>\n      <td>73.166422</td>\n      <td>2017</td>\n      <td>529</td>\n      <td>3</td>\n    </tr>\n    <tr>\n      <th>7</th>\n      <td>Entre Ríos</td>\n      <td>15616</td>\n      <td>476</td>\n      <td>71.159664</td>\n      <td>439</td>\n      <td>166</td>\n      <td>1</td>\n    </tr>\n    <tr>\n      <th>8</th>\n      <td>Formosa</td>\n      <td>151</td>\n      <td>2</td>\n      <td>54.000000</td>\n      <td>44</td>\n      <td>26</td>\n      <td>1</td>\n    </tr>\n    <tr>\n      <th>9</th>\n      <td>Jujuy</td>\n      <td>16540</td>\n      <td>757</td>\n      <td>66.685185</td>\n      <td>188</td>\n      <td>117</td>\n      <td>1</td>\n    </tr>\n  </tbody>\n</table>\n</div>"
     },
     "metadata": {},
     "execution_count": 24
    }
   ],
   "source": [
    "dataset_km_sub_concat.head(10)"
   ]
  },
  {
   "cell_type": "code",
   "execution_count": null,
   "metadata": {},
   "outputs": [],
   "source": []
  },
  {
   "cell_type": "code",
   "execution_count": 25,
   "metadata": {},
   "outputs": [
    {
     "output_type": "display_data",
     "data": {
      "application/vnd.plotly.v1+json": {
       "config": {
        "plotlyServerURL": "https://plot.ly"
       },
       "data": [
        {
         "branchvalues": "total",
         "domain": {
          "x": [
           0,
           1
          ],
          "y": [
           0,
           1
          ]
         },
         "hovertemplate": "labels=%{label}<br>confirmados=%{value}<br>parent=%{parent}<br>id=%{id}<extra></extra>",
         "ids": [
          "2/Buenos Aires",
          "3/CABA",
          "1/Catamarca",
          "1/Chaco",
          "1/Chubut",
          "1/Corrientes",
          "3/Córdoba",
          "1/Entre Ríos",
          "1/Formosa",
          "1/Jujuy",
          "1/La Pampa",
          "1/La Rioja",
          "1/Mendoza",
          "1/Misiones",
          "1/Neuquén",
          "1/Río Negro",
          "1/Salta",
          "1/San Juan",
          "1/San Luis",
          "1/Santa Cruz",
          "3/Santa Fe",
          "1/Santiago del Estero",
          "1/Tierra del Fuego",
          "1/Tucumán",
          "1",
          "2",
          "3"
         ],
         "labels": [
          "Buenos Aires",
          "CABA",
          "Catamarca",
          "Chaco",
          "Chubut",
          "Corrientes",
          "Córdoba",
          "Entre Ríos",
          "Formosa",
          "Jujuy",
          "La Pampa",
          "La Rioja",
          "Mendoza",
          "Misiones",
          "Neuquén",
          "Río Negro",
          "Salta",
          "San Juan",
          "San Luis",
          "Santa Cruz",
          "Santa Fe",
          "Santiago del Estero",
          "Tierra del Fuego",
          "Tucumán",
          "1",
          "2",
          "3"
         ],
         "name": "",
         "parents": [
          "2",
          "3",
          "1",
          "1",
          "1",
          "1",
          "3",
          "1",
          "1",
          "1",
          "1",
          "1",
          "1",
          "1",
          "1",
          "1",
          "1",
          "1",
          "1",
          "1",
          "3",
          "1",
          "1",
          "1",
          "",
          "",
          ""
         ],
         "type": "treemap",
         "values": [
          535333,
          143690,
          924,
          12743,
          13972,
          2482,
          80836,
          15616,
          151,
          16540,
          3184,
          7295,
          45716,
          263,
          21974,
          23054,
          18220,
          2541,
          6947,
          9615,
          107340,
          9537,
          10827,
          46505,
          268106,
          535333,
          331866
         ]
        }
       ],
       "layout": {
        "autosize": false,
        "height": 700,
        "legend": {
         "tracegroupgap": 0
        },
        "margin": {
         "t": 60
        },
        "template": {
         "data": {
          "bar": [
           {
            "error_x": {
             "color": "#2a3f5f"
            },
            "error_y": {
             "color": "#2a3f5f"
            },
            "marker": {
             "line": {
              "color": "#E5ECF6",
              "width": 0.5
             }
            },
            "type": "bar"
           }
          ],
          "barpolar": [
           {
            "marker": {
             "line": {
              "color": "#E5ECF6",
              "width": 0.5
             }
            },
            "type": "barpolar"
           }
          ],
          "carpet": [
           {
            "aaxis": {
             "endlinecolor": "#2a3f5f",
             "gridcolor": "white",
             "linecolor": "white",
             "minorgridcolor": "white",
             "startlinecolor": "#2a3f5f"
            },
            "baxis": {
             "endlinecolor": "#2a3f5f",
             "gridcolor": "white",
             "linecolor": "white",
             "minorgridcolor": "white",
             "startlinecolor": "#2a3f5f"
            },
            "type": "carpet"
           }
          ],
          "choropleth": [
           {
            "colorbar": {
             "outlinewidth": 0,
             "ticks": ""
            },
            "type": "choropleth"
           }
          ],
          "contour": [
           {
            "colorbar": {
             "outlinewidth": 0,
             "ticks": ""
            },
            "colorscale": [
             [
              0,
              "#0d0887"
             ],
             [
              0.1111111111111111,
              "#46039f"
             ],
             [
              0.2222222222222222,
              "#7201a8"
             ],
             [
              0.3333333333333333,
              "#9c179e"
             ],
             [
              0.4444444444444444,
              "#bd3786"
             ],
             [
              0.5555555555555556,
              "#d8576b"
             ],
             [
              0.6666666666666666,
              "#ed7953"
             ],
             [
              0.7777777777777778,
              "#fb9f3a"
             ],
             [
              0.8888888888888888,
              "#fdca26"
             ],
             [
              1,
              "#f0f921"
             ]
            ],
            "type": "contour"
           }
          ],
          "contourcarpet": [
           {
            "colorbar": {
             "outlinewidth": 0,
             "ticks": ""
            },
            "type": "contourcarpet"
           }
          ],
          "heatmap": [
           {
            "colorbar": {
             "outlinewidth": 0,
             "ticks": ""
            },
            "colorscale": [
             [
              0,
              "#0d0887"
             ],
             [
              0.1111111111111111,
              "#46039f"
             ],
             [
              0.2222222222222222,
              "#7201a8"
             ],
             [
              0.3333333333333333,
              "#9c179e"
             ],
             [
              0.4444444444444444,
              "#bd3786"
             ],
             [
              0.5555555555555556,
              "#d8576b"
             ],
             [
              0.6666666666666666,
              "#ed7953"
             ],
             [
              0.7777777777777778,
              "#fb9f3a"
             ],
             [
              0.8888888888888888,
              "#fdca26"
             ],
             [
              1,
              "#f0f921"
             ]
            ],
            "type": "heatmap"
           }
          ],
          "heatmapgl": [
           {
            "colorbar": {
             "outlinewidth": 0,
             "ticks": ""
            },
            "colorscale": [
             [
              0,
              "#0d0887"
             ],
             [
              0.1111111111111111,
              "#46039f"
             ],
             [
              0.2222222222222222,
              "#7201a8"
             ],
             [
              0.3333333333333333,
              "#9c179e"
             ],
             [
              0.4444444444444444,
              "#bd3786"
             ],
             [
              0.5555555555555556,
              "#d8576b"
             ],
             [
              0.6666666666666666,
              "#ed7953"
             ],
             [
              0.7777777777777778,
              "#fb9f3a"
             ],
             [
              0.8888888888888888,
              "#fdca26"
             ],
             [
              1,
              "#f0f921"
             ]
            ],
            "type": "heatmapgl"
           }
          ],
          "histogram": [
           {
            "marker": {
             "colorbar": {
              "outlinewidth": 0,
              "ticks": ""
             }
            },
            "type": "histogram"
           }
          ],
          "histogram2d": [
           {
            "colorbar": {
             "outlinewidth": 0,
             "ticks": ""
            },
            "colorscale": [
             [
              0,
              "#0d0887"
             ],
             [
              0.1111111111111111,
              "#46039f"
             ],
             [
              0.2222222222222222,
              "#7201a8"
             ],
             [
              0.3333333333333333,
              "#9c179e"
             ],
             [
              0.4444444444444444,
              "#bd3786"
             ],
             [
              0.5555555555555556,
              "#d8576b"
             ],
             [
              0.6666666666666666,
              "#ed7953"
             ],
             [
              0.7777777777777778,
              "#fb9f3a"
             ],
             [
              0.8888888888888888,
              "#fdca26"
             ],
             [
              1,
              "#f0f921"
             ]
            ],
            "type": "histogram2d"
           }
          ],
          "histogram2dcontour": [
           {
            "colorbar": {
             "outlinewidth": 0,
             "ticks": ""
            },
            "colorscale": [
             [
              0,
              "#0d0887"
             ],
             [
              0.1111111111111111,
              "#46039f"
             ],
             [
              0.2222222222222222,
              "#7201a8"
             ],
             [
              0.3333333333333333,
              "#9c179e"
             ],
             [
              0.4444444444444444,
              "#bd3786"
             ],
             [
              0.5555555555555556,
              "#d8576b"
             ],
             [
              0.6666666666666666,
              "#ed7953"
             ],
             [
              0.7777777777777778,
              "#fb9f3a"
             ],
             [
              0.8888888888888888,
              "#fdca26"
             ],
             [
              1,
              "#f0f921"
             ]
            ],
            "type": "histogram2dcontour"
           }
          ],
          "mesh3d": [
           {
            "colorbar": {
             "outlinewidth": 0,
             "ticks": ""
            },
            "type": "mesh3d"
           }
          ],
          "parcoords": [
           {
            "line": {
             "colorbar": {
              "outlinewidth": 0,
              "ticks": ""
             }
            },
            "type": "parcoords"
           }
          ],
          "pie": [
           {
            "automargin": true,
            "type": "pie"
           }
          ],
          "scatter": [
           {
            "marker": {
             "colorbar": {
              "outlinewidth": 0,
              "ticks": ""
             }
            },
            "type": "scatter"
           }
          ],
          "scatter3d": [
           {
            "line": {
             "colorbar": {
              "outlinewidth": 0,
              "ticks": ""
             }
            },
            "marker": {
             "colorbar": {
              "outlinewidth": 0,
              "ticks": ""
             }
            },
            "type": "scatter3d"
           }
          ],
          "scattercarpet": [
           {
            "marker": {
             "colorbar": {
              "outlinewidth": 0,
              "ticks": ""
             }
            },
            "type": "scattercarpet"
           }
          ],
          "scattergeo": [
           {
            "marker": {
             "colorbar": {
              "outlinewidth": 0,
              "ticks": ""
             }
            },
            "type": "scattergeo"
           }
          ],
          "scattergl": [
           {
            "marker": {
             "colorbar": {
              "outlinewidth": 0,
              "ticks": ""
             }
            },
            "type": "scattergl"
           }
          ],
          "scattermapbox": [
           {
            "marker": {
             "colorbar": {
              "outlinewidth": 0,
              "ticks": ""
             }
            },
            "type": "scattermapbox"
           }
          ],
          "scatterpolar": [
           {
            "marker": {
             "colorbar": {
              "outlinewidth": 0,
              "ticks": ""
             }
            },
            "type": "scatterpolar"
           }
          ],
          "scatterpolargl": [
           {
            "marker": {
             "colorbar": {
              "outlinewidth": 0,
              "ticks": ""
             }
            },
            "type": "scatterpolargl"
           }
          ],
          "scatterternary": [
           {
            "marker": {
             "colorbar": {
              "outlinewidth": 0,
              "ticks": ""
             }
            },
            "type": "scatterternary"
           }
          ],
          "surface": [
           {
            "colorbar": {
             "outlinewidth": 0,
             "ticks": ""
            },
            "colorscale": [
             [
              0,
              "#0d0887"
             ],
             [
              0.1111111111111111,
              "#46039f"
             ],
             [
              0.2222222222222222,
              "#7201a8"
             ],
             [
              0.3333333333333333,
              "#9c179e"
             ],
             [
              0.4444444444444444,
              "#bd3786"
             ],
             [
              0.5555555555555556,
              "#d8576b"
             ],
             [
              0.6666666666666666,
              "#ed7953"
             ],
             [
              0.7777777777777778,
              "#fb9f3a"
             ],
             [
              0.8888888888888888,
              "#fdca26"
             ],
             [
              1,
              "#f0f921"
             ]
            ],
            "type": "surface"
           }
          ],
          "table": [
           {
            "cells": {
             "fill": {
              "color": "#EBF0F8"
             },
             "line": {
              "color": "white"
             }
            },
            "header": {
             "fill": {
              "color": "#C8D4E3"
             },
             "line": {
              "color": "white"
             }
            },
            "type": "table"
           }
          ]
         },
         "layout": {
          "annotationdefaults": {
           "arrowcolor": "#2a3f5f",
           "arrowhead": 0,
           "arrowwidth": 1
          },
          "coloraxis": {
           "colorbar": {
            "outlinewidth": 0,
            "ticks": ""
           }
          },
          "colorscale": {
           "diverging": [
            [
             0,
             "#8e0152"
            ],
            [
             0.1,
             "#c51b7d"
            ],
            [
             0.2,
             "#de77ae"
            ],
            [
             0.3,
             "#f1b6da"
            ],
            [
             0.4,
             "#fde0ef"
            ],
            [
             0.5,
             "#f7f7f7"
            ],
            [
             0.6,
             "#e6f5d0"
            ],
            [
             0.7,
             "#b8e186"
            ],
            [
             0.8,
             "#7fbc41"
            ],
            [
             0.9,
             "#4d9221"
            ],
            [
             1,
             "#276419"
            ]
           ],
           "sequential": [
            [
             0,
             "#0d0887"
            ],
            [
             0.1111111111111111,
             "#46039f"
            ],
            [
             0.2222222222222222,
             "#7201a8"
            ],
            [
             0.3333333333333333,
             "#9c179e"
            ],
            [
             0.4444444444444444,
             "#bd3786"
            ],
            [
             0.5555555555555556,
             "#d8576b"
            ],
            [
             0.6666666666666666,
             "#ed7953"
            ],
            [
             0.7777777777777778,
             "#fb9f3a"
            ],
            [
             0.8888888888888888,
             "#fdca26"
            ],
            [
             1,
             "#f0f921"
            ]
           ],
           "sequentialminus": [
            [
             0,
             "#0d0887"
            ],
            [
             0.1111111111111111,
             "#46039f"
            ],
            [
             0.2222222222222222,
             "#7201a8"
            ],
            [
             0.3333333333333333,
             "#9c179e"
            ],
            [
             0.4444444444444444,
             "#bd3786"
            ],
            [
             0.5555555555555556,
             "#d8576b"
            ],
            [
             0.6666666666666666,
             "#ed7953"
            ],
            [
             0.7777777777777778,
             "#fb9f3a"
            ],
            [
             0.8888888888888888,
             "#fdca26"
            ],
            [
             1,
             "#f0f921"
            ]
           ]
          },
          "colorway": [
           "#636efa",
           "#EF553B",
           "#00cc96",
           "#ab63fa",
           "#FFA15A",
           "#19d3f3",
           "#FF6692",
           "#B6E880",
           "#FF97FF",
           "#FECB52"
          ],
          "font": {
           "color": "#2a3f5f"
          },
          "geo": {
           "bgcolor": "white",
           "lakecolor": "white",
           "landcolor": "#E5ECF6",
           "showlakes": true,
           "showland": true,
           "subunitcolor": "white"
          },
          "hoverlabel": {
           "align": "left"
          },
          "hovermode": "closest",
          "mapbox": {
           "style": "light"
          },
          "paper_bgcolor": "white",
          "plot_bgcolor": "#E5ECF6",
          "polar": {
           "angularaxis": {
            "gridcolor": "white",
            "linecolor": "white",
            "ticks": ""
           },
           "bgcolor": "#E5ECF6",
           "radialaxis": {
            "gridcolor": "white",
            "linecolor": "white",
            "ticks": ""
           }
          },
          "scene": {
           "xaxis": {
            "backgroundcolor": "#E5ECF6",
            "gridcolor": "white",
            "gridwidth": 2,
            "linecolor": "white",
            "showbackground": true,
            "ticks": "",
            "zerolinecolor": "white"
           },
           "yaxis": {
            "backgroundcolor": "#E5ECF6",
            "gridcolor": "white",
            "gridwidth": 2,
            "linecolor": "white",
            "showbackground": true,
            "ticks": "",
            "zerolinecolor": "white"
           },
           "zaxis": {
            "backgroundcolor": "#E5ECF6",
            "gridcolor": "white",
            "gridwidth": 2,
            "linecolor": "white",
            "showbackground": true,
            "ticks": "",
            "zerolinecolor": "white"
           }
          },
          "shapedefaults": {
           "line": {
            "color": "#2a3f5f"
           }
          },
          "ternary": {
           "aaxis": {
            "gridcolor": "white",
            "linecolor": "white",
            "ticks": ""
           },
           "baxis": {
            "gridcolor": "white",
            "linecolor": "white",
            "ticks": ""
           },
           "bgcolor": "#E5ECF6",
           "caxis": {
            "gridcolor": "white",
            "linecolor": "white",
            "ticks": ""
           }
          },
          "title": {
           "x": 0.05
          },
          "xaxis": {
           "automargin": true,
           "gridcolor": "white",
           "linecolor": "white",
           "ticks": "",
           "title": {
            "standoff": 15
           },
           "zerolinecolor": "white",
           "zerolinewidth": 2
          },
          "yaxis": {
           "automargin": true,
           "gridcolor": "white",
           "linecolor": "white",
           "ticks": "",
           "title": {
            "standoff": 15
           },
           "zerolinecolor": "white",
           "zerolinewidth": 2
          }
         }
        },
        "width": 800
       }
      }
     },
     "metadata": {}
    }
   ],
   "source": [
    "import plotly.express as px\n",
    "fig = px.treemap(dataset_km_sub_concat, path=['cluster', 'residencia_provincia_nombre'], values='confirmados')\n",
    "fig.update_layout(autosize=False,width=800,height=700)\n",
    "\n",
    "fig.show()"
   ]
  },
  {
   "cell_type": "code",
   "execution_count": 26,
   "metadata": {},
   "outputs": [
    {
     "output_type": "display_data",
     "data": {
      "application/vnd.plotly.v1+json": {
       "config": {
        "linkText": "Export to plot.ly",
        "plotlyServerURL": "https://plot.ly",
        "showLink": false
       },
       "data": [
        {
         "marker": {
          "color": [
           1,
           2,
           0,
           0,
           0,
           0,
           2,
           0,
           0,
           0,
           0,
           0,
           0,
           0,
           0,
           0,
           0,
           0,
           0,
           0,
           2,
           0,
           0,
           0
          ],
          "colorscale": [
           [
            0,
            "rgb(12,51,131)"
           ],
           [
            0.25,
            "rgb(10,136,186)"
           ],
           [
            0.5,
            "rgb(242,211,56)"
           ],
           [
            0.75,
            "rgb(242,143,56)"
           ],
           [
            1,
            "rgb(217,30,30)"
           ]
          ],
          "showscale": false,
          "size": 8
         },
         "mode": "markers",
         "text": [
          "Buenos Aires",
          "CABA",
          "Catamarca",
          "Chaco",
          "Chubut",
          "Corrientes",
          "Córdoba",
          "Entre Ríos",
          "Formosa",
          "Jujuy",
          "La Pampa",
          "La Rioja",
          "Mendoza",
          "Misiones",
          "Neuquén",
          "Río Negro",
          "Salta",
          "San Juan",
          "San Luis",
          "Santa Cruz",
          "Santa Fe",
          "Santiago del Estero",
          "Tierra del Fuego",
          "Tucumán"
         ],
         "type": "scatter",
         "x": [
          20381,
          6045,
          1,
          560,
          202,
          47,
          1364,
          476,
          2,
          757,
          58,
          286,
          1026,
          92,
          439,
          660,
          921,
          79,
          74,
          169,
          1502,
          135,
          148,
          793
         ],
         "y": [
          71.61546771421557,
          76.64925373134328,
          97,
          65.51785714285714,
          70.28217821782178,
          67.80851063829788,
          73.16642228739003,
          71.15966386554622,
          54,
          66.68518518518519,
          72.29310344827586,
          66.75524475524476,
          72.3167641325536,
          58.44565217391305,
          68.4373576309795,
          69.93181818181819,
          66.12173913043478,
          74.49367088607595,
          71.27027027027027,
          67.75739644970415,
          72.92210386151798,
          65.65185185185184,
          65.62162162162163,
          66.31651954602775
         ]
        }
       ],
       "layout": {
        "autosize": false,
        "height": 600,
        "template": {
         "data": {
          "bar": [
           {
            "error_x": {
             "color": "#2a3f5f"
            },
            "error_y": {
             "color": "#2a3f5f"
            },
            "marker": {
             "line": {
              "color": "#E5ECF6",
              "width": 0.5
             }
            },
            "type": "bar"
           }
          ],
          "barpolar": [
           {
            "marker": {
             "line": {
              "color": "#E5ECF6",
              "width": 0.5
             }
            },
            "type": "barpolar"
           }
          ],
          "carpet": [
           {
            "aaxis": {
             "endlinecolor": "#2a3f5f",
             "gridcolor": "white",
             "linecolor": "white",
             "minorgridcolor": "white",
             "startlinecolor": "#2a3f5f"
            },
            "baxis": {
             "endlinecolor": "#2a3f5f",
             "gridcolor": "white",
             "linecolor": "white",
             "minorgridcolor": "white",
             "startlinecolor": "#2a3f5f"
            },
            "type": "carpet"
           }
          ],
          "choropleth": [
           {
            "colorbar": {
             "outlinewidth": 0,
             "ticks": ""
            },
            "type": "choropleth"
           }
          ],
          "contour": [
           {
            "colorbar": {
             "outlinewidth": 0,
             "ticks": ""
            },
            "colorscale": [
             [
              0,
              "#0d0887"
             ],
             [
              0.1111111111111111,
              "#46039f"
             ],
             [
              0.2222222222222222,
              "#7201a8"
             ],
             [
              0.3333333333333333,
              "#9c179e"
             ],
             [
              0.4444444444444444,
              "#bd3786"
             ],
             [
              0.5555555555555556,
              "#d8576b"
             ],
             [
              0.6666666666666666,
              "#ed7953"
             ],
             [
              0.7777777777777778,
              "#fb9f3a"
             ],
             [
              0.8888888888888888,
              "#fdca26"
             ],
             [
              1,
              "#f0f921"
             ]
            ],
            "type": "contour"
           }
          ],
          "contourcarpet": [
           {
            "colorbar": {
             "outlinewidth": 0,
             "ticks": ""
            },
            "type": "contourcarpet"
           }
          ],
          "heatmap": [
           {
            "colorbar": {
             "outlinewidth": 0,
             "ticks": ""
            },
            "colorscale": [
             [
              0,
              "#0d0887"
             ],
             [
              0.1111111111111111,
              "#46039f"
             ],
             [
              0.2222222222222222,
              "#7201a8"
             ],
             [
              0.3333333333333333,
              "#9c179e"
             ],
             [
              0.4444444444444444,
              "#bd3786"
             ],
             [
              0.5555555555555556,
              "#d8576b"
             ],
             [
              0.6666666666666666,
              "#ed7953"
             ],
             [
              0.7777777777777778,
              "#fb9f3a"
             ],
             [
              0.8888888888888888,
              "#fdca26"
             ],
             [
              1,
              "#f0f921"
             ]
            ],
            "type": "heatmap"
           }
          ],
          "heatmapgl": [
           {
            "colorbar": {
             "outlinewidth": 0,
             "ticks": ""
            },
            "colorscale": [
             [
              0,
              "#0d0887"
             ],
             [
              0.1111111111111111,
              "#46039f"
             ],
             [
              0.2222222222222222,
              "#7201a8"
             ],
             [
              0.3333333333333333,
              "#9c179e"
             ],
             [
              0.4444444444444444,
              "#bd3786"
             ],
             [
              0.5555555555555556,
              "#d8576b"
             ],
             [
              0.6666666666666666,
              "#ed7953"
             ],
             [
              0.7777777777777778,
              "#fb9f3a"
             ],
             [
              0.8888888888888888,
              "#fdca26"
             ],
             [
              1,
              "#f0f921"
             ]
            ],
            "type": "heatmapgl"
           }
          ],
          "histogram": [
           {
            "marker": {
             "colorbar": {
              "outlinewidth": 0,
              "ticks": ""
             }
            },
            "type": "histogram"
           }
          ],
          "histogram2d": [
           {
            "colorbar": {
             "outlinewidth": 0,
             "ticks": ""
            },
            "colorscale": [
             [
              0,
              "#0d0887"
             ],
             [
              0.1111111111111111,
              "#46039f"
             ],
             [
              0.2222222222222222,
              "#7201a8"
             ],
             [
              0.3333333333333333,
              "#9c179e"
             ],
             [
              0.4444444444444444,
              "#bd3786"
             ],
             [
              0.5555555555555556,
              "#d8576b"
             ],
             [
              0.6666666666666666,
              "#ed7953"
             ],
             [
              0.7777777777777778,
              "#fb9f3a"
             ],
             [
              0.8888888888888888,
              "#fdca26"
             ],
             [
              1,
              "#f0f921"
             ]
            ],
            "type": "histogram2d"
           }
          ],
          "histogram2dcontour": [
           {
            "colorbar": {
             "outlinewidth": 0,
             "ticks": ""
            },
            "colorscale": [
             [
              0,
              "#0d0887"
             ],
             [
              0.1111111111111111,
              "#46039f"
             ],
             [
              0.2222222222222222,
              "#7201a8"
             ],
             [
              0.3333333333333333,
              "#9c179e"
             ],
             [
              0.4444444444444444,
              "#bd3786"
             ],
             [
              0.5555555555555556,
              "#d8576b"
             ],
             [
              0.6666666666666666,
              "#ed7953"
             ],
             [
              0.7777777777777778,
              "#fb9f3a"
             ],
             [
              0.8888888888888888,
              "#fdca26"
             ],
             [
              1,
              "#f0f921"
             ]
            ],
            "type": "histogram2dcontour"
           }
          ],
          "mesh3d": [
           {
            "colorbar": {
             "outlinewidth": 0,
             "ticks": ""
            },
            "type": "mesh3d"
           }
          ],
          "parcoords": [
           {
            "line": {
             "colorbar": {
              "outlinewidth": 0,
              "ticks": ""
             }
            },
            "type": "parcoords"
           }
          ],
          "pie": [
           {
            "automargin": true,
            "type": "pie"
           }
          ],
          "scatter": [
           {
            "marker": {
             "colorbar": {
              "outlinewidth": 0,
              "ticks": ""
             }
            },
            "type": "scatter"
           }
          ],
          "scatter3d": [
           {
            "line": {
             "colorbar": {
              "outlinewidth": 0,
              "ticks": ""
             }
            },
            "marker": {
             "colorbar": {
              "outlinewidth": 0,
              "ticks": ""
             }
            },
            "type": "scatter3d"
           }
          ],
          "scattercarpet": [
           {
            "marker": {
             "colorbar": {
              "outlinewidth": 0,
              "ticks": ""
             }
            },
            "type": "scattercarpet"
           }
          ],
          "scattergeo": [
           {
            "marker": {
             "colorbar": {
              "outlinewidth": 0,
              "ticks": ""
             }
            },
            "type": "scattergeo"
           }
          ],
          "scattergl": [
           {
            "marker": {
             "colorbar": {
              "outlinewidth": 0,
              "ticks": ""
             }
            },
            "type": "scattergl"
           }
          ],
          "scattermapbox": [
           {
            "marker": {
             "colorbar": {
              "outlinewidth": 0,
              "ticks": ""
             }
            },
            "type": "scattermapbox"
           }
          ],
          "scatterpolar": [
           {
            "marker": {
             "colorbar": {
              "outlinewidth": 0,
              "ticks": ""
             }
            },
            "type": "scatterpolar"
           }
          ],
          "scatterpolargl": [
           {
            "marker": {
             "colorbar": {
              "outlinewidth": 0,
              "ticks": ""
             }
            },
            "type": "scatterpolargl"
           }
          ],
          "scatterternary": [
           {
            "marker": {
             "colorbar": {
              "outlinewidth": 0,
              "ticks": ""
             }
            },
            "type": "scatterternary"
           }
          ],
          "surface": [
           {
            "colorbar": {
             "outlinewidth": 0,
             "ticks": ""
            },
            "colorscale": [
             [
              0,
              "#0d0887"
             ],
             [
              0.1111111111111111,
              "#46039f"
             ],
             [
              0.2222222222222222,
              "#7201a8"
             ],
             [
              0.3333333333333333,
              "#9c179e"
             ],
             [
              0.4444444444444444,
              "#bd3786"
             ],
             [
              0.5555555555555556,
              "#d8576b"
             ],
             [
              0.6666666666666666,
              "#ed7953"
             ],
             [
              0.7777777777777778,
              "#fb9f3a"
             ],
             [
              0.8888888888888888,
              "#fdca26"
             ],
             [
              1,
              "#f0f921"
             ]
            ],
            "type": "surface"
           }
          ],
          "table": [
           {
            "cells": {
             "fill": {
              "color": "#EBF0F8"
             },
             "line": {
              "color": "white"
             }
            },
            "header": {
             "fill": {
              "color": "#C8D4E3"
             },
             "line": {
              "color": "white"
             }
            },
            "type": "table"
           }
          ]
         },
         "layout": {
          "annotationdefaults": {
           "arrowcolor": "#2a3f5f",
           "arrowhead": 0,
           "arrowwidth": 1
          },
          "coloraxis": {
           "colorbar": {
            "outlinewidth": 0,
            "ticks": ""
           }
          },
          "colorscale": {
           "diverging": [
            [
             0,
             "#8e0152"
            ],
            [
             0.1,
             "#c51b7d"
            ],
            [
             0.2,
             "#de77ae"
            ],
            [
             0.3,
             "#f1b6da"
            ],
            [
             0.4,
             "#fde0ef"
            ],
            [
             0.5,
             "#f7f7f7"
            ],
            [
             0.6,
             "#e6f5d0"
            ],
            [
             0.7,
             "#b8e186"
            ],
            [
             0.8,
             "#7fbc41"
            ],
            [
             0.9,
             "#4d9221"
            ],
            [
             1,
             "#276419"
            ]
           ],
           "sequential": [
            [
             0,
             "#0d0887"
            ],
            [
             0.1111111111111111,
             "#46039f"
            ],
            [
             0.2222222222222222,
             "#7201a8"
            ],
            [
             0.3333333333333333,
             "#9c179e"
            ],
            [
             0.4444444444444444,
             "#bd3786"
            ],
            [
             0.5555555555555556,
             "#d8576b"
            ],
            [
             0.6666666666666666,
             "#ed7953"
            ],
            [
             0.7777777777777778,
             "#fb9f3a"
            ],
            [
             0.8888888888888888,
             "#fdca26"
            ],
            [
             1,
             "#f0f921"
            ]
           ],
           "sequentialminus": [
            [
             0,
             "#0d0887"
            ],
            [
             0.1111111111111111,
             "#46039f"
            ],
            [
             0.2222222222222222,
             "#7201a8"
            ],
            [
             0.3333333333333333,
             "#9c179e"
            ],
            [
             0.4444444444444444,
             "#bd3786"
            ],
            [
             0.5555555555555556,
             "#d8576b"
            ],
            [
             0.6666666666666666,
             "#ed7953"
            ],
            [
             0.7777777777777778,
             "#fb9f3a"
            ],
            [
             0.8888888888888888,
             "#fdca26"
            ],
            [
             1,
             "#f0f921"
            ]
           ]
          },
          "colorway": [
           "#636efa",
           "#EF553B",
           "#00cc96",
           "#ab63fa",
           "#FFA15A",
           "#19d3f3",
           "#FF6692",
           "#B6E880",
           "#FF97FF",
           "#FECB52"
          ],
          "font": {
           "color": "#2a3f5f"
          },
          "geo": {
           "bgcolor": "white",
           "lakecolor": "white",
           "landcolor": "#E5ECF6",
           "showlakes": true,
           "showland": true,
           "subunitcolor": "white"
          },
          "hoverlabel": {
           "align": "left"
          },
          "hovermode": "closest",
          "mapbox": {
           "style": "light"
          },
          "paper_bgcolor": "white",
          "plot_bgcolor": "#E5ECF6",
          "polar": {
           "angularaxis": {
            "gridcolor": "white",
            "linecolor": "white",
            "ticks": ""
           },
           "bgcolor": "#E5ECF6",
           "radialaxis": {
            "gridcolor": "white",
            "linecolor": "white",
            "ticks": ""
           }
          },
          "scene": {
           "xaxis": {
            "backgroundcolor": "#E5ECF6",
            "gridcolor": "white",
            "gridwidth": 2,
            "linecolor": "white",
            "showbackground": true,
            "ticks": "",
            "zerolinecolor": "white"
           },
           "yaxis": {
            "backgroundcolor": "#E5ECF6",
            "gridcolor": "white",
            "gridwidth": 2,
            "linecolor": "white",
            "showbackground": true,
            "ticks": "",
            "zerolinecolor": "white"
           },
           "zaxis": {
            "backgroundcolor": "#E5ECF6",
            "gridcolor": "white",
            "gridwidth": 2,
            "linecolor": "white",
            "showbackground": true,
            "ticks": "",
            "zerolinecolor": "white"
           }
          },
          "shapedefaults": {
           "line": {
            "color": "#2a3f5f"
           }
          },
          "ternary": {
           "aaxis": {
            "gridcolor": "white",
            "linecolor": "white",
            "ticks": ""
           },
           "baxis": {
            "gridcolor": "white",
            "linecolor": "white",
            "ticks": ""
           },
           "bgcolor": "#E5ECF6",
           "caxis": {
            "gridcolor": "white",
            "linecolor": "white",
            "ticks": ""
           }
          },
          "title": {
           "x": 0.05
          },
          "xaxis": {
           "automargin": true,
           "gridcolor": "white",
           "linecolor": "white",
           "ticks": "",
           "title": {
            "standoff": 15
           },
           "zerolinecolor": "white",
           "zerolinewidth": 2
          },
          "yaxis": {
           "automargin": true,
           "gridcolor": "white",
           "linecolor": "white",
           "ticks": "",
           "title": {
            "standoff": 15
           },
           "zerolinecolor": "white",
           "zerolinewidth": 2
          }
         }
        },
        "title": {
         "font": {
          "size": 20
         },
         "text": "Clustering K means"
        },
        "width": 600,
        "xaxis": {
         "title": {
          "text": "cuidado_intensivo"
         }
        },
        "yaxis": {
         "title": {
          "text": "edad_promedio"
         }
        }
       }
      }
     },
     "metadata": {}
    }
   ],
   "source": [
    "data=[]\n",
    "\n",
    "kmean_clusters = go.Scatter(x=dataset_km[\"fallecidos\"], y=dataset_km[\"edad_promedio\"],\n",
    "                                mode='markers',\n",
    "                                text= dataset_final.loc[:,'residencia_provincia_nombre'],\n",
    "                                marker=dict(\n",
    "                                size=8,\n",
    "                                color = clusters.astype(np.float), #set color equal to a variable\n",
    "                                colorscale='Portland',\n",
    "                                showscale=False)\n",
    "                           )\n",
    "\n",
    "data=[kmean_clusters]\n",
    "\n",
    "layout = go.Layout(title=\"Clustering K means\",titlefont=dict(size=20),\n",
    "                xaxis=dict(title=\"cuidado_intensivo\"),\n",
    "                yaxis=dict(title=\"edad_promedio\"),\n",
    "                autosize=False, width=600,height=600)\n",
    "\n",
    "fig = go.Figure(data=data, layout=layout)\n",
    "\n",
    "iplot(fig)"
   ]
  },
  {
   "source": [
    "### Análisis por pairplot"
   ],
   "cell_type": "markdown",
   "metadata": {}
  },
  {
   "cell_type": "code",
   "execution_count": 27,
   "metadata": {},
   "outputs": [
    {
     "output_type": "execute_result",
     "data": {
      "text/plain": [
       "<seaborn.axisgrid.PairGrid at 0x229c810c448>"
      ]
     },
     "metadata": {},
     "execution_count": 27
    },
    {
     "output_type": "display_data",
     "data": {
      "text/plain": "<Figure size 1440x1440 with 0 Axes>"
     },
     "metadata": {}
    },
    {
     "output_type": "display_data",
     "data": {
      "text/plain": "<Figure size 402.375x360 with 6 Axes>",
      "image/svg+xml": "<?xml version=\"1.0\" encoding=\"utf-8\" standalone=\"no\"?>\r\n<!DOCTYPE svg PUBLIC \"-//W3C//DTD SVG 1.1//EN\"\r\n  \"http://www.w3.org/Graphics/SVG/1.1/DTD/svg11.dtd\">\r\n<!-- Created with matplotlib (https://matplotlib.org/) -->\r\n<svg height=\"369.75625pt\" version=\"1.1\" viewBox=\"0 0 429.272917 369.75625\" width=\"429.272917pt\" xmlns=\"http://www.w3.org/2000/svg\" xmlns:xlink=\"http://www.w3.org/1999/xlink\">\r\n <defs>\r\n  <style type=\"text/css\">\r\n*{stroke-linecap:butt;stroke-linejoin:round;}\r\n  </style>\r\n </defs>\r\n <g id=\"figure_1\">\r\n  <g id=\"patch_1\">\r\n   <path d=\"M 0 369.75625 \r\nL 429.272917 369.75625 \r\nL 429.272917 -0 \r\nL 0 -0 \r\nz\r\n\" style=\"fill:none;\"/>\r\n  </g>\r\n  <g id=\"axes_1\">\r\n   <g id=\"patch_2\">\r\n    <path d=\"M 66.053125 164.7 \r\nL 212.075378 164.7 \r\nL 212.075378 7.2 \r\nL 66.053125 7.2 \r\nz\r\n\" style=\"fill:#ffffff;\"/>\r\n   </g>\r\n   <g id=\"matplotlib.axis_1\">\r\n    <g id=\"xtick_1\">\r\n     <g id=\"line2d_1\">\r\n      <defs>\r\n       <path d=\"M 0 0 \r\nL 0 3.5 \r\n\" id=\"m8f58425fd1\" style=\"stroke:#000000;stroke-width:0.8;\"/>\r\n      </defs>\r\n      <g>\r\n       <use style=\"stroke:#000000;stroke-width:0.8;\" x=\"77.709244\" xlink:href=\"#m8f58425fd1\" y=\"164.7\"/>\r\n      </g>\r\n     </g>\r\n    </g>\r\n    <g id=\"xtick_2\">\r\n     <g id=\"line2d_2\">\r\n      <g>\r\n       <use style=\"stroke:#000000;stroke-width:0.8;\" x=\"125.428611\" xlink:href=\"#m8f58425fd1\" y=\"164.7\"/>\r\n      </g>\r\n     </g>\r\n    </g>\r\n    <g id=\"xtick_3\">\r\n     <g id=\"line2d_3\">\r\n      <g>\r\n       <use style=\"stroke:#000000;stroke-width:0.8;\" x=\"173.147978\" xlink:href=\"#m8f58425fd1\" y=\"164.7\"/>\r\n      </g>\r\n     </g>\r\n    </g>\r\n   </g>\r\n   <g id=\"matplotlib.axis_2\">\r\n    <g id=\"ytick_1\">\r\n     <g id=\"line2d_4\">\r\n      <defs>\r\n       <path d=\"M 0 0 \r\nL -3.5 0 \r\n\" id=\"ma5e6ea4eb3\" style=\"stroke:#000000;stroke-width:0.8;\"/>\r\n      </defs>\r\n      <g>\r\n       <use style=\"stroke:#000000;stroke-width:0.8;\" x=\"66.053125\" xlink:href=\"#ma5e6ea4eb3\" y=\"157.581307\"/>\r\n      </g>\r\n     </g>\r\n     <g id=\"text_1\">\r\n      <!-- 0 -->\r\n      <defs>\r\n       <path d=\"M 31.78125 66.40625 \r\nQ 24.171875 66.40625 20.328125 58.90625 \r\nQ 16.5 51.421875 16.5 36.375 \r\nQ 16.5 21.390625 20.328125 13.890625 \r\nQ 24.171875 6.390625 31.78125 6.390625 \r\nQ 39.453125 6.390625 43.28125 13.890625 \r\nQ 47.125 21.390625 47.125 36.375 \r\nQ 47.125 51.421875 43.28125 58.90625 \r\nQ 39.453125 66.40625 31.78125 66.40625 \r\nz\r\nM 31.78125 74.21875 \r\nQ 44.046875 74.21875 50.515625 64.515625 \r\nQ 56.984375 54.828125 56.984375 36.375 \r\nQ 56.984375 17.96875 50.515625 8.265625 \r\nQ 44.046875 -1.421875 31.78125 -1.421875 \r\nQ 19.53125 -1.421875 13.0625 8.265625 \r\nQ 6.59375 17.96875 6.59375 36.375 \r\nQ 6.59375 54.828125 13.0625 64.515625 \r\nQ 19.53125 74.21875 31.78125 74.21875 \r\nz\r\n\" id=\"DejaVuSans-48\"/>\r\n      </defs>\r\n      <g transform=\"translate(52.690625 161.380526)scale(0.1 -0.1)\">\r\n       <use xlink:href=\"#DejaVuSans-48\"/>\r\n      </g>\r\n     </g>\r\n    </g>\r\n    <g id=\"ytick_2\">\r\n     <g id=\"line2d_5\">\r\n      <g>\r\n       <use style=\"stroke:#000000;stroke-width:0.8;\" x=\"66.053125\" xlink:href=\"#ma5e6ea4eb3\" y=\"130.827452\"/>\r\n      </g>\r\n     </g>\r\n     <g id=\"text_2\">\r\n      <!-- 100000 -->\r\n      <defs>\r\n       <path d=\"M 12.40625 8.296875 \r\nL 28.515625 8.296875 \r\nL 28.515625 63.921875 \r\nL 10.984375 60.40625 \r\nL 10.984375 69.390625 \r\nL 28.421875 72.90625 \r\nL 38.28125 72.90625 \r\nL 38.28125 8.296875 \r\nL 54.390625 8.296875 \r\nL 54.390625 0 \r\nL 12.40625 0 \r\nz\r\n\" id=\"DejaVuSans-49\"/>\r\n      </defs>\r\n      <g transform=\"translate(20.878125 134.626671)scale(0.1 -0.1)\">\r\n       <use xlink:href=\"#DejaVuSans-49\"/>\r\n       <use x=\"63.623047\" xlink:href=\"#DejaVuSans-48\"/>\r\n       <use x=\"127.246094\" xlink:href=\"#DejaVuSans-48\"/>\r\n       <use x=\"190.869141\" xlink:href=\"#DejaVuSans-48\"/>\r\n       <use x=\"254.492188\" xlink:href=\"#DejaVuSans-48\"/>\r\n       <use x=\"318.115234\" xlink:href=\"#DejaVuSans-48\"/>\r\n      </g>\r\n     </g>\r\n    </g>\r\n    <g id=\"ytick_3\">\r\n     <g id=\"line2d_6\">\r\n      <g>\r\n       <use style=\"stroke:#000000;stroke-width:0.8;\" x=\"66.053125\" xlink:href=\"#ma5e6ea4eb3\" y=\"104.073597\"/>\r\n      </g>\r\n     </g>\r\n     <g id=\"text_3\">\r\n      <!-- 200000 -->\r\n      <defs>\r\n       <path d=\"M 19.1875 8.296875 \r\nL 53.609375 8.296875 \r\nL 53.609375 0 \r\nL 7.328125 0 \r\nL 7.328125 8.296875 \r\nQ 12.9375 14.109375 22.625 23.890625 \r\nQ 32.328125 33.6875 34.8125 36.53125 \r\nQ 39.546875 41.84375 41.421875 45.53125 \r\nQ 43.3125 49.21875 43.3125 52.78125 \r\nQ 43.3125 58.59375 39.234375 62.25 \r\nQ 35.15625 65.921875 28.609375 65.921875 \r\nQ 23.96875 65.921875 18.8125 64.3125 \r\nQ 13.671875 62.703125 7.8125 59.421875 \r\nL 7.8125 69.390625 \r\nQ 13.765625 71.78125 18.9375 73 \r\nQ 24.125 74.21875 28.421875 74.21875 \r\nQ 39.75 74.21875 46.484375 68.546875 \r\nQ 53.21875 62.890625 53.21875 53.421875 \r\nQ 53.21875 48.921875 51.53125 44.890625 \r\nQ 49.859375 40.875 45.40625 35.40625 \r\nQ 44.1875 33.984375 37.640625 27.21875 \r\nQ 31.109375 20.453125 19.1875 8.296875 \r\nz\r\n\" id=\"DejaVuSans-50\"/>\r\n      </defs>\r\n      <g transform=\"translate(20.878125 107.872815)scale(0.1 -0.1)\">\r\n       <use xlink:href=\"#DejaVuSans-50\"/>\r\n       <use x=\"63.623047\" xlink:href=\"#DejaVuSans-48\"/>\r\n       <use x=\"127.246094\" xlink:href=\"#DejaVuSans-48\"/>\r\n       <use x=\"190.869141\" xlink:href=\"#DejaVuSans-48\"/>\r\n       <use x=\"254.492188\" xlink:href=\"#DejaVuSans-48\"/>\r\n       <use x=\"318.115234\" xlink:href=\"#DejaVuSans-48\"/>\r\n      </g>\r\n     </g>\r\n    </g>\r\n    <g id=\"ytick_4\">\r\n     <g id=\"line2d_7\">\r\n      <g>\r\n       <use style=\"stroke:#000000;stroke-width:0.8;\" x=\"66.053125\" xlink:href=\"#ma5e6ea4eb3\" y=\"77.319741\"/>\r\n      </g>\r\n     </g>\r\n     <g id=\"text_4\">\r\n      <!-- 300000 -->\r\n      <defs>\r\n       <path d=\"M 40.578125 39.3125 \r\nQ 47.65625 37.796875 51.625 33 \r\nQ 55.609375 28.21875 55.609375 21.1875 \r\nQ 55.609375 10.40625 48.1875 4.484375 \r\nQ 40.765625 -1.421875 27.09375 -1.421875 \r\nQ 22.515625 -1.421875 17.65625 -0.515625 \r\nQ 12.796875 0.390625 7.625 2.203125 \r\nL 7.625 11.71875 \r\nQ 11.71875 9.328125 16.59375 8.109375 \r\nQ 21.484375 6.890625 26.8125 6.890625 \r\nQ 36.078125 6.890625 40.9375 10.546875 \r\nQ 45.796875 14.203125 45.796875 21.1875 \r\nQ 45.796875 27.640625 41.28125 31.265625 \r\nQ 36.765625 34.90625 28.71875 34.90625 \r\nL 20.21875 34.90625 \r\nL 20.21875 43.015625 \r\nL 29.109375 43.015625 \r\nQ 36.375 43.015625 40.234375 45.921875 \r\nQ 44.09375 48.828125 44.09375 54.296875 \r\nQ 44.09375 59.90625 40.109375 62.90625 \r\nQ 36.140625 65.921875 28.71875 65.921875 \r\nQ 24.65625 65.921875 20.015625 65.03125 \r\nQ 15.375 64.15625 9.8125 62.3125 \r\nL 9.8125 71.09375 \r\nQ 15.4375 72.65625 20.34375 73.4375 \r\nQ 25.25 74.21875 29.59375 74.21875 \r\nQ 40.828125 74.21875 47.359375 69.109375 \r\nQ 53.90625 64.015625 53.90625 55.328125 \r\nQ 53.90625 49.265625 50.4375 45.09375 \r\nQ 46.96875 40.921875 40.578125 39.3125 \r\nz\r\n\" id=\"DejaVuSans-51\"/>\r\n      </defs>\r\n      <g transform=\"translate(20.878125 81.11896)scale(0.1 -0.1)\">\r\n       <use xlink:href=\"#DejaVuSans-51\"/>\r\n       <use x=\"63.623047\" xlink:href=\"#DejaVuSans-48\"/>\r\n       <use x=\"127.246094\" xlink:href=\"#DejaVuSans-48\"/>\r\n       <use x=\"190.869141\" xlink:href=\"#DejaVuSans-48\"/>\r\n       <use x=\"254.492188\" xlink:href=\"#DejaVuSans-48\"/>\r\n       <use x=\"318.115234\" xlink:href=\"#DejaVuSans-48\"/>\r\n      </g>\r\n     </g>\r\n    </g>\r\n    <g id=\"ytick_5\">\r\n     <g id=\"line2d_8\">\r\n      <g>\r\n       <use style=\"stroke:#000000;stroke-width:0.8;\" x=\"66.053125\" xlink:href=\"#ma5e6ea4eb3\" y=\"50.565886\"/>\r\n      </g>\r\n     </g>\r\n     <g id=\"text_5\">\r\n      <!-- 400000 -->\r\n      <defs>\r\n       <path d=\"M 37.796875 64.3125 \r\nL 12.890625 25.390625 \r\nL 37.796875 25.390625 \r\nz\r\nM 35.203125 72.90625 \r\nL 47.609375 72.90625 \r\nL 47.609375 25.390625 \r\nL 58.015625 25.390625 \r\nL 58.015625 17.1875 \r\nL 47.609375 17.1875 \r\nL 47.609375 0 \r\nL 37.796875 0 \r\nL 37.796875 17.1875 \r\nL 4.890625 17.1875 \r\nL 4.890625 26.703125 \r\nz\r\n\" id=\"DejaVuSans-52\"/>\r\n      </defs>\r\n      <g transform=\"translate(20.878125 54.365105)scale(0.1 -0.1)\">\r\n       <use xlink:href=\"#DejaVuSans-52\"/>\r\n       <use x=\"63.623047\" xlink:href=\"#DejaVuSans-48\"/>\r\n       <use x=\"127.246094\" xlink:href=\"#DejaVuSans-48\"/>\r\n       <use x=\"190.869141\" xlink:href=\"#DejaVuSans-48\"/>\r\n       <use x=\"254.492188\" xlink:href=\"#DejaVuSans-48\"/>\r\n       <use x=\"318.115234\" xlink:href=\"#DejaVuSans-48\"/>\r\n      </g>\r\n     </g>\r\n    </g>\r\n    <g id=\"ytick_6\">\r\n     <g id=\"line2d_9\">\r\n      <g>\r\n       <use style=\"stroke:#000000;stroke-width:0.8;\" x=\"66.053125\" xlink:href=\"#ma5e6ea4eb3\" y=\"23.812031\"/>\r\n      </g>\r\n     </g>\r\n     <g id=\"text_6\">\r\n      <!-- 500000 -->\r\n      <defs>\r\n       <path d=\"M 10.796875 72.90625 \r\nL 49.515625 72.90625 \r\nL 49.515625 64.59375 \r\nL 19.828125 64.59375 \r\nL 19.828125 46.734375 \r\nQ 21.96875 47.46875 24.109375 47.828125 \r\nQ 26.265625 48.1875 28.421875 48.1875 \r\nQ 40.625 48.1875 47.75 41.5 \r\nQ 54.890625 34.8125 54.890625 23.390625 \r\nQ 54.890625 11.625 47.5625 5.09375 \r\nQ 40.234375 -1.421875 26.90625 -1.421875 \r\nQ 22.3125 -1.421875 17.546875 -0.640625 \r\nQ 12.796875 0.140625 7.71875 1.703125 \r\nL 7.71875 11.625 \r\nQ 12.109375 9.234375 16.796875 8.0625 \r\nQ 21.484375 6.890625 26.703125 6.890625 \r\nQ 35.15625 6.890625 40.078125 11.328125 \r\nQ 45.015625 15.765625 45.015625 23.390625 \r\nQ 45.015625 31 40.078125 35.4375 \r\nQ 35.15625 39.890625 26.703125 39.890625 \r\nQ 22.75 39.890625 18.8125 39.015625 \r\nQ 14.890625 38.140625 10.796875 36.28125 \r\nz\r\n\" id=\"DejaVuSans-53\"/>\r\n      </defs>\r\n      <g transform=\"translate(20.878125 27.611249)scale(0.1 -0.1)\">\r\n       <use xlink:href=\"#DejaVuSans-53\"/>\r\n       <use x=\"63.623047\" xlink:href=\"#DejaVuSans-48\"/>\r\n       <use x=\"127.246094\" xlink:href=\"#DejaVuSans-48\"/>\r\n       <use x=\"190.869141\" xlink:href=\"#DejaVuSans-48\"/>\r\n       <use x=\"254.492188\" xlink:href=\"#DejaVuSans-48\"/>\r\n       <use x=\"318.115234\" xlink:href=\"#DejaVuSans-48\"/>\r\n      </g>\r\n     </g>\r\n    </g>\r\n    <g id=\"text_7\">\r\n     <!-- confirmados -->\r\n     <defs>\r\n      <path d=\"M 48.78125 52.59375 \r\nL 48.78125 44.1875 \r\nQ 44.96875 46.296875 41.140625 47.34375 \r\nQ 37.3125 48.390625 33.40625 48.390625 \r\nQ 24.65625 48.390625 19.8125 42.84375 \r\nQ 14.984375 37.3125 14.984375 27.296875 \r\nQ 14.984375 17.28125 19.8125 11.734375 \r\nQ 24.65625 6.203125 33.40625 6.203125 \r\nQ 37.3125 6.203125 41.140625 7.25 \r\nQ 44.96875 8.296875 48.78125 10.40625 \r\nL 48.78125 2.09375 \r\nQ 45.015625 0.34375 40.984375 -0.53125 \r\nQ 36.96875 -1.421875 32.421875 -1.421875 \r\nQ 20.0625 -1.421875 12.78125 6.34375 \r\nQ 5.515625 14.109375 5.515625 27.296875 \r\nQ 5.515625 40.671875 12.859375 48.328125 \r\nQ 20.21875 56 33.015625 56 \r\nQ 37.15625 56 41.109375 55.140625 \r\nQ 45.0625 54.296875 48.78125 52.59375 \r\nz\r\n\" id=\"DejaVuSans-99\"/>\r\n      <path d=\"M 30.609375 48.390625 \r\nQ 23.390625 48.390625 19.1875 42.75 \r\nQ 14.984375 37.109375 14.984375 27.296875 \r\nQ 14.984375 17.484375 19.15625 11.84375 \r\nQ 23.34375 6.203125 30.609375 6.203125 \r\nQ 37.796875 6.203125 41.984375 11.859375 \r\nQ 46.1875 17.53125 46.1875 27.296875 \r\nQ 46.1875 37.015625 41.984375 42.703125 \r\nQ 37.796875 48.390625 30.609375 48.390625 \r\nz\r\nM 30.609375 56 \r\nQ 42.328125 56 49.015625 48.375 \r\nQ 55.71875 40.765625 55.71875 27.296875 \r\nQ 55.71875 13.875 49.015625 6.21875 \r\nQ 42.328125 -1.421875 30.609375 -1.421875 \r\nQ 18.84375 -1.421875 12.171875 6.21875 \r\nQ 5.515625 13.875 5.515625 27.296875 \r\nQ 5.515625 40.765625 12.171875 48.375 \r\nQ 18.84375 56 30.609375 56 \r\nz\r\n\" id=\"DejaVuSans-111\"/>\r\n      <path d=\"M 54.890625 33.015625 \r\nL 54.890625 0 \r\nL 45.90625 0 \r\nL 45.90625 32.71875 \r\nQ 45.90625 40.484375 42.875 44.328125 \r\nQ 39.84375 48.1875 33.796875 48.1875 \r\nQ 26.515625 48.1875 22.3125 43.546875 \r\nQ 18.109375 38.921875 18.109375 30.90625 \r\nL 18.109375 0 \r\nL 9.078125 0 \r\nL 9.078125 54.6875 \r\nL 18.109375 54.6875 \r\nL 18.109375 46.1875 \r\nQ 21.34375 51.125 25.703125 53.5625 \r\nQ 30.078125 56 35.796875 56 \r\nQ 45.21875 56 50.046875 50.171875 \r\nQ 54.890625 44.34375 54.890625 33.015625 \r\nz\r\n\" id=\"DejaVuSans-110\"/>\r\n      <path d=\"M 37.109375 75.984375 \r\nL 37.109375 68.5 \r\nL 28.515625 68.5 \r\nQ 23.6875 68.5 21.796875 66.546875 \r\nQ 19.921875 64.59375 19.921875 59.515625 \r\nL 19.921875 54.6875 \r\nL 34.71875 54.6875 \r\nL 34.71875 47.703125 \r\nL 19.921875 47.703125 \r\nL 19.921875 0 \r\nL 10.890625 0 \r\nL 10.890625 47.703125 \r\nL 2.296875 47.703125 \r\nL 2.296875 54.6875 \r\nL 10.890625 54.6875 \r\nL 10.890625 58.5 \r\nQ 10.890625 67.625 15.140625 71.796875 \r\nQ 19.390625 75.984375 28.609375 75.984375 \r\nz\r\n\" id=\"DejaVuSans-102\"/>\r\n      <path d=\"M 9.421875 54.6875 \r\nL 18.40625 54.6875 \r\nL 18.40625 0 \r\nL 9.421875 0 \r\nz\r\nM 9.421875 75.984375 \r\nL 18.40625 75.984375 \r\nL 18.40625 64.59375 \r\nL 9.421875 64.59375 \r\nz\r\n\" id=\"DejaVuSans-105\"/>\r\n      <path d=\"M 41.109375 46.296875 \r\nQ 39.59375 47.171875 37.8125 47.578125 \r\nQ 36.03125 48 33.890625 48 \r\nQ 26.265625 48 22.1875 43.046875 \r\nQ 18.109375 38.09375 18.109375 28.8125 \r\nL 18.109375 0 \r\nL 9.078125 0 \r\nL 9.078125 54.6875 \r\nL 18.109375 54.6875 \r\nL 18.109375 46.1875 \r\nQ 20.953125 51.171875 25.484375 53.578125 \r\nQ 30.03125 56 36.53125 56 \r\nQ 37.453125 56 38.578125 55.875 \r\nQ 39.703125 55.765625 41.0625 55.515625 \r\nz\r\n\" id=\"DejaVuSans-114\"/>\r\n      <path d=\"M 52 44.1875 \r\nQ 55.375 50.25 60.0625 53.125 \r\nQ 64.75 56 71.09375 56 \r\nQ 79.640625 56 84.28125 50.015625 \r\nQ 88.921875 44.046875 88.921875 33.015625 \r\nL 88.921875 0 \r\nL 79.890625 0 \r\nL 79.890625 32.71875 \r\nQ 79.890625 40.578125 77.09375 44.375 \r\nQ 74.3125 48.1875 68.609375 48.1875 \r\nQ 61.625 48.1875 57.5625 43.546875 \r\nQ 53.515625 38.921875 53.515625 30.90625 \r\nL 53.515625 0 \r\nL 44.484375 0 \r\nL 44.484375 32.71875 \r\nQ 44.484375 40.625 41.703125 44.40625 \r\nQ 38.921875 48.1875 33.109375 48.1875 \r\nQ 26.21875 48.1875 22.15625 43.53125 \r\nQ 18.109375 38.875 18.109375 30.90625 \r\nL 18.109375 0 \r\nL 9.078125 0 \r\nL 9.078125 54.6875 \r\nL 18.109375 54.6875 \r\nL 18.109375 46.1875 \r\nQ 21.1875 51.21875 25.484375 53.609375 \r\nQ 29.78125 56 35.6875 56 \r\nQ 41.65625 56 45.828125 52.96875 \r\nQ 50 49.953125 52 44.1875 \r\nz\r\n\" id=\"DejaVuSans-109\"/>\r\n      <path d=\"M 34.28125 27.484375 \r\nQ 23.390625 27.484375 19.1875 25 \r\nQ 14.984375 22.515625 14.984375 16.5 \r\nQ 14.984375 11.71875 18.140625 8.90625 \r\nQ 21.296875 6.109375 26.703125 6.109375 \r\nQ 34.1875 6.109375 38.703125 11.40625 \r\nQ 43.21875 16.703125 43.21875 25.484375 \r\nL 43.21875 27.484375 \r\nz\r\nM 52.203125 31.203125 \r\nL 52.203125 0 \r\nL 43.21875 0 \r\nL 43.21875 8.296875 \r\nQ 40.140625 3.328125 35.546875 0.953125 \r\nQ 30.953125 -1.421875 24.3125 -1.421875 \r\nQ 15.921875 -1.421875 10.953125 3.296875 \r\nQ 6 8.015625 6 15.921875 \r\nQ 6 25.140625 12.171875 29.828125 \r\nQ 18.359375 34.515625 30.609375 34.515625 \r\nL 43.21875 34.515625 \r\nL 43.21875 35.40625 \r\nQ 43.21875 41.609375 39.140625 45 \r\nQ 35.0625 48.390625 27.6875 48.390625 \r\nQ 23 48.390625 18.546875 47.265625 \r\nQ 14.109375 46.140625 10.015625 43.890625 \r\nL 10.015625 52.203125 \r\nQ 14.9375 54.109375 19.578125 55.046875 \r\nQ 24.21875 56 28.609375 56 \r\nQ 40.484375 56 46.34375 49.84375 \r\nQ 52.203125 43.703125 52.203125 31.203125 \r\nz\r\n\" id=\"DejaVuSans-97\"/>\r\n      <path d=\"M 45.40625 46.390625 \r\nL 45.40625 75.984375 \r\nL 54.390625 75.984375 \r\nL 54.390625 0 \r\nL 45.40625 0 \r\nL 45.40625 8.203125 \r\nQ 42.578125 3.328125 38.25 0.953125 \r\nQ 33.9375 -1.421875 27.875 -1.421875 \r\nQ 17.96875 -1.421875 11.734375 6.484375 \r\nQ 5.515625 14.40625 5.515625 27.296875 \r\nQ 5.515625 40.1875 11.734375 48.09375 \r\nQ 17.96875 56 27.875 56 \r\nQ 33.9375 56 38.25 53.625 \r\nQ 42.578125 51.265625 45.40625 46.390625 \r\nz\r\nM 14.796875 27.296875 \r\nQ 14.796875 17.390625 18.875 11.75 \r\nQ 22.953125 6.109375 30.078125 6.109375 \r\nQ 37.203125 6.109375 41.296875 11.75 \r\nQ 45.40625 17.390625 45.40625 27.296875 \r\nQ 45.40625 37.203125 41.296875 42.84375 \r\nQ 37.203125 48.484375 30.078125 48.484375 \r\nQ 22.953125 48.484375 18.875 42.84375 \r\nQ 14.796875 37.203125 14.796875 27.296875 \r\nz\r\n\" id=\"DejaVuSans-100\"/>\r\n      <path d=\"M 44.28125 53.078125 \r\nL 44.28125 44.578125 \r\nQ 40.484375 46.53125 36.375 47.5 \r\nQ 32.28125 48.484375 27.875 48.484375 \r\nQ 21.1875 48.484375 17.84375 46.4375 \r\nQ 14.5 44.390625 14.5 40.28125 \r\nQ 14.5 37.15625 16.890625 35.375 \r\nQ 19.28125 33.59375 26.515625 31.984375 \r\nL 29.59375 31.296875 \r\nQ 39.15625 29.25 43.1875 25.515625 \r\nQ 47.21875 21.78125 47.21875 15.09375 \r\nQ 47.21875 7.46875 41.1875 3.015625 \r\nQ 35.15625 -1.421875 24.609375 -1.421875 \r\nQ 20.21875 -1.421875 15.453125 -0.5625 \r\nQ 10.6875 0.296875 5.421875 2 \r\nL 5.421875 11.28125 \r\nQ 10.40625 8.6875 15.234375 7.390625 \r\nQ 20.0625 6.109375 24.8125 6.109375 \r\nQ 31.15625 6.109375 34.5625 8.28125 \r\nQ 37.984375 10.453125 37.984375 14.40625 \r\nQ 37.984375 18.0625 35.515625 20.015625 \r\nQ 33.0625 21.96875 24.703125 23.78125 \r\nL 21.578125 24.515625 \r\nQ 13.234375 26.265625 9.515625 29.90625 \r\nQ 5.8125 33.546875 5.8125 39.890625 \r\nQ 5.8125 47.609375 11.28125 51.796875 \r\nQ 16.75 56 26.8125 56 \r\nQ 31.78125 56 36.171875 55.265625 \r\nQ 40.578125 54.546875 44.28125 53.078125 \r\nz\r\n\" id=\"DejaVuSans-115\"/>\r\n     </defs>\r\n     <g transform=\"translate(14.798437 116.817187)rotate(-90)scale(0.1 -0.1)\">\r\n      <use xlink:href=\"#DejaVuSans-99\"/>\r\n      <use x=\"54.980469\" xlink:href=\"#DejaVuSans-111\"/>\r\n      <use x=\"116.162109\" xlink:href=\"#DejaVuSans-110\"/>\r\n      <use x=\"179.541016\" xlink:href=\"#DejaVuSans-102\"/>\r\n      <use x=\"214.746094\" xlink:href=\"#DejaVuSans-105\"/>\r\n      <use x=\"242.529297\" xlink:href=\"#DejaVuSans-114\"/>\r\n      <use x=\"281.892578\" xlink:href=\"#DejaVuSans-109\"/>\r\n      <use x=\"379.304688\" xlink:href=\"#DejaVuSans-97\"/>\r\n      <use x=\"440.583984\" xlink:href=\"#DejaVuSans-100\"/>\r\n      <use x=\"504.060547\" xlink:href=\"#DejaVuSans-111\"/>\r\n      <use x=\"565.242188\" xlink:href=\"#DejaVuSans-115\"/>\r\n     </g>\r\n    </g>\r\n   </g>\r\n   <g id=\"patch_3\">\r\n    <path d=\"M 66.053125 164.7 \r\nL 66.053125 7.2 \r\n\" style=\"fill:none;stroke:#000000;stroke-linecap:square;stroke-linejoin:miter;stroke-width:0.8;\"/>\r\n   </g>\r\n   <g id=\"patch_4\">\r\n    <path d=\"M 66.053125 164.7 \r\nL 212.075378 164.7 \r\n\" style=\"fill:none;stroke:#000000;stroke-linecap:square;stroke-linejoin:miter;stroke-width:0.8;\"/>\r\n   </g>\r\n  </g>\r\n  <g id=\"axes_2\">\r\n   <g id=\"patch_5\">\r\n    <path d=\"M 234.651913 164.7 \r\nL 380.674167 164.7 \r\nL 380.674167 7.2 \r\nL 234.651913 7.2 \r\nz\r\n\" style=\"fill:#ffffff;\"/>\r\n   </g>\r\n   <g id=\"PathCollection_1\">\r\n    <defs>\r\n     <path d=\"M 0 3 \r\nC 0.795609 3 1.55874 2.683901 2.12132 2.12132 \r\nC 2.683901 1.55874 3 0.795609 3 0 \r\nC 3 -0.795609 2.683901 -1.55874 2.12132 -2.12132 \r\nC 1.55874 -2.683901 0.795609 -3 0 -3 \r\nC -0.795609 -3 -1.55874 -2.683901 -2.12132 -2.12132 \r\nC -2.683901 -1.55874 -3 -0.795609 -3 0 \r\nC -3 0.795609 -2.683901 1.55874 -2.12132 2.12132 \r\nC -1.55874 2.683901 -0.795609 3 0 3 \r\nz\r\n\" id=\"m2f289cf573\" style=\"stroke:#ffffff;stroke-width:0.75;\"/>\r\n    </defs>\r\n    <g clip-path=\"url(#pfee3804b77)\">\r\n     <use style=\"fill:#1f77b4;stroke:#ffffff;stroke-width:0.75;\" x=\"262.494945\" xlink:href=\"#m2f289cf573\" y=\"157.334102\"/>\r\n     <use style=\"fill:#1f77b4;stroke:#ffffff;stroke-width:0.75;\" x=\"265.554409\" xlink:href=\"#m2f289cf573\" y=\"154.172064\"/>\r\n     <use style=\"fill:#1f77b4;stroke:#ffffff;stroke-width:0.75;\" x=\"263.595038\" xlink:href=\"#m2f289cf573\" y=\"153.843259\"/>\r\n     <use style=\"fill:#1f77b4;stroke:#ffffff;stroke-width:0.75;\" x=\"262.746707\" xlink:href=\"#m2f289cf573\" y=\"156.917277\"/>\r\n     <use style=\"fill:#1f77b4;stroke:#ffffff;stroke-width:0.75;\" x=\"265.094669\" xlink:href=\"#m2f289cf573\" y=\"153.403425\"/>\r\n     <use style=\"fill:#1f77b4;stroke:#ffffff;stroke-width:0.75;\" x=\"262.500418\" xlink:href=\"#m2f289cf573\" y=\"157.540909\"/>\r\n     <use style=\"fill:#1f77b4;stroke:#ffffff;stroke-width:0.75;\" x=\"266.632611\" xlink:href=\"#m2f289cf573\" y=\"153.15622\"/>\r\n     <use style=\"fill:#1f77b4;stroke:#ffffff;stroke-width:0.75;\" x=\"262.806911\" xlink:href=\"#m2f289cf573\" y=\"156.729465\"/>\r\n     <use style=\"fill:#1f77b4;stroke:#ffffff;stroke-width:0.75;\" x=\"264.054779\" xlink:href=\"#m2f289cf573\" y=\"155.629614\"/>\r\n     <use style=\"fill:#1f77b4;stroke:#ffffff;stroke-width:0.75;\" x=\"268.104876\" xlink:href=\"#m2f289cf573\" y=\"145.350515\"/>\r\n     <use style=\"fill:#1f77b4;stroke:#ffffff;stroke-width:0.75;\" x=\"262.992997\" xlink:href=\"#m2f289cf573\" y=\"157.510945\"/>\r\n     <use style=\"fill:#1f77b4;stroke:#ffffff;stroke-width:0.75;\" x=\"264.892164\" xlink:href=\"#m2f289cf573\" y=\"151.702415\"/>\r\n     <use style=\"fill:#1f77b4;stroke:#ffffff;stroke-width:0.75;\" x=\"266.10172\" xlink:href=\"#m2f289cf573\" y=\"151.413474\"/>\r\n     <use style=\"fill:#1f77b4;stroke:#ffffff;stroke-width:0.75;\" x=\"267.5302\" xlink:href=\"#m2f289cf573\" y=\"152.706755\"/>\r\n     <use style=\"fill:#1f77b4;stroke:#ffffff;stroke-width:0.75;\" x=\"262.921847\" xlink:href=\"#m2f289cf573\" y=\"156.901492\"/>\r\n     <use style=\"fill:#1f77b4;stroke:#ffffff;stroke-width:0.75;\" x=\"262.894481\" xlink:href=\"#m2f289cf573\" y=\"155.722717\"/>\r\n     <use style=\"fill:#1f77b4;stroke:#ffffff;stroke-width:0.75;\" x=\"263.414426\" xlink:href=\"#m2f289cf573\" y=\"155.008924\"/>\r\n     <use style=\"fill:#1f77b4;stroke:#ffffff;stroke-width:0.75;\" x=\"263.22834\" xlink:href=\"#m2f289cf573\" y=\"155.029792\"/>\r\n     <use style=\"fill:#1f77b4;stroke:#ffffff;stroke-width:0.75;\" x=\"263.299491\" xlink:href=\"#m2f289cf573\" y=\"154.684667\"/>\r\n     <use style=\"fill:#1f77b4;stroke:#ffffff;stroke-width:0.75;\" x=\"266.829642\" xlink:href=\"#m2f289cf573\" y=\"145.139427\"/>\r\n    </g>\r\n   </g>\r\n   <g id=\"PathCollection_2\">\r\n    <defs>\r\n     <path d=\"M 0 3 \r\nC 0.795609 3 1.55874 2.683901 2.12132 2.12132 \r\nC 2.683901 1.55874 3 0.795609 3 0 \r\nC 3 -0.795609 2.683901 -1.55874 2.12132 -2.12132 \r\nC 1.55874 -2.683901 0.795609 -3 0 -3 \r\nC -0.795609 -3 -1.55874 -2.683901 -2.12132 -2.12132 \r\nC -2.683901 -1.55874 -3 -0.795609 -3 0 \r\nC -3 0.795609 -2.683901 1.55874 -2.12132 2.12132 \r\nC -1.55874 2.683901 -0.795609 3 0 3 \r\nz\r\n\" id=\"m0bf4695f53\" style=\"stroke:#ffffff;stroke-width:0.75;\"/>\r\n    </defs>\r\n    <g clip-path=\"url(#pfee3804b77)\">\r\n     <use style=\"fill:#ff7f0e;stroke:#ffffff;stroke-width:0.75;\" x=\"374.036792\" xlink:href=\"#m0bf4695f53\" y=\"14.359091\"/>\r\n    </g>\r\n   </g>\r\n   <g id=\"PathCollection_3\">\r\n    <defs>\r\n     <path d=\"M 0 3 \r\nC 0.795609 3 1.55874 2.683901 2.12132 2.12132 \r\nC 2.683901 1.55874 3 0.795609 3 0 \r\nC 3 -0.795609 2.683901 -1.55874 2.12132 -2.12132 \r\nC 1.55874 -2.683901 0.795609 -3 0 -3 \r\nC -0.795609 -3 -1.55874 -2.683901 -2.12132 -2.12132 \r\nC -2.683901 -1.55874 -3 -0.795609 -3 0 \r\nC -3 0.795609 -2.683901 1.55874 -2.12132 2.12132 \r\nC -1.55874 2.683901 -0.795609 3 0 3 \r\nz\r\n\" id=\"m10fd75b6b5\" style=\"stroke:#ffffff;stroke-width:0.75;\"/>\r\n    </defs>\r\n    <g clip-path=\"url(#pfee3804b77)\">\r\n     <use style=\"fill:#2ca02c;stroke:#ffffff;stroke-width:0.75;\" x=\"295.574381\" xlink:href=\"#m10fd75b6b5\" y=\"119.138693\"/>\r\n     <use style=\"fill:#2ca02c;stroke:#ffffff;stroke-width:0.75;\" x=\"269.954784\" xlink:href=\"#m10fd75b6b5\" y=\"135.954561\"/>\r\n     <use style=\"fill:#2ca02c;stroke:#ffffff;stroke-width:0.75;\" x=\"270.710073\" xlink:href=\"#m10fd75b6b5\" y=\"128.863719\"/>\r\n    </g>\r\n   </g>\r\n   <g id=\"matplotlib.axis_3\">\r\n    <g id=\"xtick_4\">\r\n     <g id=\"line2d_10\">\r\n      <g>\r\n       <use style=\"stroke:#000000;stroke-width:0.8;\" x=\"262.489471\" xlink:href=\"#m8f58425fd1\" y=\"164.7\"/>\r\n      </g>\r\n     </g>\r\n    </g>\r\n    <g id=\"xtick_5\">\r\n     <g id=\"line2d_11\">\r\n      <g>\r\n       <use style=\"stroke:#000000;stroke-width:0.8;\" x=\"317.220505\" xlink:href=\"#m8f58425fd1\" y=\"164.7\"/>\r\n      </g>\r\n     </g>\r\n    </g>\r\n    <g id=\"xtick_6\">\r\n     <g id=\"line2d_12\">\r\n      <g>\r\n       <use style=\"stroke:#000000;stroke-width:0.8;\" x=\"371.951539\" xlink:href=\"#m8f58425fd1\" y=\"164.7\"/>\r\n      </g>\r\n     </g>\r\n    </g>\r\n   </g>\r\n   <g id=\"matplotlib.axis_4\">\r\n    <g id=\"ytick_7\">\r\n     <g id=\"line2d_13\">\r\n      <g>\r\n       <use style=\"stroke:#000000;stroke-width:0.8;\" x=\"234.651913\" xlink:href=\"#ma5e6ea4eb3\" y=\"157.581307\"/>\r\n      </g>\r\n     </g>\r\n    </g>\r\n    <g id=\"ytick_8\">\r\n     <g id=\"line2d_14\">\r\n      <g>\r\n       <use style=\"stroke:#000000;stroke-width:0.8;\" x=\"234.651913\" xlink:href=\"#ma5e6ea4eb3\" y=\"130.827452\"/>\r\n      </g>\r\n     </g>\r\n    </g>\r\n    <g id=\"ytick_9\">\r\n     <g id=\"line2d_15\">\r\n      <g>\r\n       <use style=\"stroke:#000000;stroke-width:0.8;\" x=\"234.651913\" xlink:href=\"#ma5e6ea4eb3\" y=\"104.073597\"/>\r\n      </g>\r\n     </g>\r\n    </g>\r\n    <g id=\"ytick_10\">\r\n     <g id=\"line2d_16\">\r\n      <g>\r\n       <use style=\"stroke:#000000;stroke-width:0.8;\" x=\"234.651913\" xlink:href=\"#ma5e6ea4eb3\" y=\"77.319741\"/>\r\n      </g>\r\n     </g>\r\n    </g>\r\n    <g id=\"ytick_11\">\r\n     <g id=\"line2d_17\">\r\n      <g>\r\n       <use style=\"stroke:#000000;stroke-width:0.8;\" x=\"234.651913\" xlink:href=\"#ma5e6ea4eb3\" y=\"50.565886\"/>\r\n      </g>\r\n     </g>\r\n    </g>\r\n    <g id=\"ytick_12\">\r\n     <g id=\"line2d_18\">\r\n      <g>\r\n       <use style=\"stroke:#000000;stroke-width:0.8;\" x=\"234.651913\" xlink:href=\"#ma5e6ea4eb3\" y=\"23.812031\"/>\r\n      </g>\r\n     </g>\r\n    </g>\r\n   </g>\r\n   <g id=\"patch_6\">\r\n    <path d=\"M 234.651913 164.7 \r\nL 234.651913 7.2 \r\n\" style=\"fill:none;stroke:#000000;stroke-linecap:square;stroke-linejoin:miter;stroke-width:0.8;\"/>\r\n   </g>\r\n   <g id=\"patch_7\">\r\n    <path d=\"M 234.651913 164.7 \r\nL 380.674167 164.7 \r\n\" style=\"fill:none;stroke:#000000;stroke-linecap:square;stroke-linejoin:miter;stroke-width:0.8;\"/>\r\n   </g>\r\n  </g>\r\n  <g id=\"axes_3\">\r\n   <g id=\"patch_8\">\r\n    <path d=\"M 66.053125 332.2 \r\nL 212.075378 332.2 \r\nL 212.075378 174.7 \r\nL 66.053125 174.7 \r\nz\r\n\" style=\"fill:#ffffff;\"/>\r\n   </g>\r\n   <g id=\"PathCollection_4\">\r\n    <g clip-path=\"url(#p7579ad33b8)\">\r\n     <use style=\"fill:#1f77b4;stroke:#ffffff;stroke-width:0.75;\" x=\"77.929708\" xlink:href=\"#m2f289cf573\" y=\"325.040909\"/>\r\n     <use style=\"fill:#1f77b4;stroke:#ffffff;stroke-width:0.75;\" x=\"80.749684\" xlink:href=\"#m2f289cf573\" y=\"321.113596\"/>\r\n     <use style=\"fill:#1f77b4;stroke:#ffffff;stroke-width:0.75;\" x=\"81.042919\" xlink:href=\"#m2f289cf573\" y=\"323.628763\"/>\r\n     <use style=\"fill:#1f77b4;stroke:#ffffff;stroke-width:0.75;\" x=\"78.301442\" xlink:href=\"#m2f289cf573\" y=\"324.717731\"/>\r\n     <use style=\"fill:#1f77b4;stroke:#ffffff;stroke-width:0.75;\" x=\"81.435172\" xlink:href=\"#m2f289cf573\" y=\"321.703747\"/>\r\n     <use style=\"fill:#1f77b4;stroke:#ffffff;stroke-width:0.75;\" x=\"77.745272\" xlink:href=\"#m2f289cf573\" y=\"325.033883\"/>\r\n     <use style=\"fill:#1f77b4;stroke:#ffffff;stroke-width:0.75;\" x=\"81.655636\" xlink:href=\"#m2f289cf573\" y=\"319.729552\"/>\r\n     <use style=\"fill:#1f77b4;stroke:#ffffff;stroke-width:0.75;\" x=\"78.468937\" xlink:href=\"#m2f289cf573\" y=\"324.64045\"/>\r\n     <use style=\"fill:#1f77b4;stroke:#ffffff;stroke-width:0.75;\" x=\"79.449808\" xlink:href=\"#m2f289cf573\" y=\"323.038612\"/>\r\n     <use style=\"fill:#1f77b4;stroke:#ffffff;stroke-width:0.75;\" x=\"88.616937\" xlink:href=\"#m2f289cf573\" y=\"317.839665\"/>\r\n     <use style=\"fill:#1f77b4;stroke:#ffffff;stroke-width:0.75;\" x=\"77.771995\" xlink:href=\"#m2f289cf573\" y=\"324.401579\"/>\r\n     <use style=\"fill:#1f77b4;stroke:#ffffff;stroke-width:0.75;\" x=\"82.952171\" xlink:href=\"#m2f289cf573\" y=\"321.963694\"/>\r\n     <use style=\"fill:#1f77b4;stroke:#ffffff;stroke-width:0.75;\" x=\"83.209856\" xlink:href=\"#m2f289cf573\" y=\"320.411036\"/>\r\n     <use style=\"fill:#1f77b4;stroke:#ffffff;stroke-width:0.75;\" x=\"82.056479\" xlink:href=\"#m2f289cf573\" y=\"318.577353\"/>\r\n     <use style=\"fill:#1f77b4;stroke:#ffffff;stroke-width:0.75;\" x=\"78.315519\" xlink:href=\"#m2f289cf573\" y=\"324.492912\"/>\r\n     <use style=\"fill:#1f77b4;stroke:#ffffff;stroke-width:0.75;\" x=\"79.366776\" xlink:href=\"#m2f289cf573\" y=\"324.52804\"/>\r\n     <use style=\"fill:#1f77b4;stroke:#ffffff;stroke-width:0.75;\" x=\"80.003353\" xlink:href=\"#m2f289cf573\" y=\"323.860608\"/>\r\n     <use style=\"fill:#1f77b4;stroke:#ffffff;stroke-width:0.75;\" x=\"79.984742\" xlink:href=\"#m2f289cf573\" y=\"324.099478\"/>\r\n     <use style=\"fill:#1f77b4;stroke:#ffffff;stroke-width:0.75;\" x=\"80.292532\" xlink:href=\"#m2f289cf573\" y=\"324.008145\"/>\r\n     <use style=\"fill:#1f77b4;stroke:#ffffff;stroke-width:0.75;\" x=\"88.80519\" xlink:href=\"#m2f289cf573\" y=\"319.47663\"/>\r\n    </g>\r\n   </g>\r\n   <g id=\"PathCollection_5\">\r\n    <g clip-path=\"url(#p7579ad33b8)\">\r\n     <use style=\"fill:#ff7f0e;stroke:#ffffff;stroke-width:0.75;\" x=\"205.438003\" xlink:href=\"#m0bf4695f53\" y=\"181.859091\"/>\r\n    </g>\r\n   </g>\r\n   <g id=\"PathCollection_6\">\r\n    <g clip-path=\"url(#p7579ad33b8)\">\r\n     <use style=\"fill:#2ca02c;stroke:#ffffff;stroke-width:0.75;\" x=\"111.993223\" xlink:href=\"#m10fd75b6b5\" y=\"282.578156\"/>\r\n     <use style=\"fill:#2ca02c;stroke:#ffffff;stroke-width:0.75;\" x=\"96.996458\" xlink:href=\"#m10fd75b6b5\" y=\"315.46501\"/>\r\n     <use style=\"fill:#2ca02c;stroke:#ffffff;stroke-width:0.75;\" x=\"103.320228\" xlink:href=\"#m10fd75b6b5\" y=\"314.495477\"/>\r\n    </g>\r\n   </g>\r\n   <g id=\"matplotlib.axis_5\">\r\n    <g id=\"xtick_7\">\r\n     <g id=\"line2d_19\">\r\n      <g>\r\n       <use style=\"stroke:#000000;stroke-width:0.8;\" x=\"77.709244\" xlink:href=\"#m8f58425fd1\" y=\"332.2\"/>\r\n      </g>\r\n     </g>\r\n     <g id=\"text_8\">\r\n      <!-- 0 -->\r\n      <g transform=\"translate(74.527994 346.798437)scale(0.1 -0.1)\">\r\n       <use xlink:href=\"#DejaVuSans-48\"/>\r\n      </g>\r\n     </g>\r\n    </g>\r\n    <g id=\"xtick_8\">\r\n     <g id=\"line2d_20\">\r\n      <g>\r\n       <use style=\"stroke:#000000;stroke-width:0.8;\" x=\"125.428611\" xlink:href=\"#m8f58425fd1\" y=\"332.2\"/>\r\n      </g>\r\n     </g>\r\n     <g id=\"text_9\">\r\n      <!-- 200000 -->\r\n      <g transform=\"translate(106.341111 346.798437)scale(0.1 -0.1)\">\r\n       <use xlink:href=\"#DejaVuSans-50\"/>\r\n       <use x=\"63.623047\" xlink:href=\"#DejaVuSans-48\"/>\r\n       <use x=\"127.246094\" xlink:href=\"#DejaVuSans-48\"/>\r\n       <use x=\"190.869141\" xlink:href=\"#DejaVuSans-48\"/>\r\n       <use x=\"254.492188\" xlink:href=\"#DejaVuSans-48\"/>\r\n       <use x=\"318.115234\" xlink:href=\"#DejaVuSans-48\"/>\r\n      </g>\r\n     </g>\r\n    </g>\r\n    <g id=\"xtick_9\">\r\n     <g id=\"line2d_21\">\r\n      <g>\r\n       <use style=\"stroke:#000000;stroke-width:0.8;\" x=\"173.147978\" xlink:href=\"#m8f58425fd1\" y=\"332.2\"/>\r\n      </g>\r\n     </g>\r\n     <g id=\"text_10\">\r\n      <!-- 400000 -->\r\n      <g transform=\"translate(154.060478 346.798437)scale(0.1 -0.1)\">\r\n       <use xlink:href=\"#DejaVuSans-52\"/>\r\n       <use x=\"63.623047\" xlink:href=\"#DejaVuSans-48\"/>\r\n       <use x=\"127.246094\" xlink:href=\"#DejaVuSans-48\"/>\r\n       <use x=\"190.869141\" xlink:href=\"#DejaVuSans-48\"/>\r\n       <use x=\"254.492188\" xlink:href=\"#DejaVuSans-48\"/>\r\n       <use x=\"318.115234\" xlink:href=\"#DejaVuSans-48\"/>\r\n      </g>\r\n     </g>\r\n    </g>\r\n    <g id=\"text_11\">\r\n     <!-- confirmados -->\r\n     <g transform=\"translate(108.197064 360.476562)scale(0.1 -0.1)\">\r\n      <use xlink:href=\"#DejaVuSans-99\"/>\r\n      <use x=\"54.980469\" xlink:href=\"#DejaVuSans-111\"/>\r\n      <use x=\"116.162109\" xlink:href=\"#DejaVuSans-110\"/>\r\n      <use x=\"179.541016\" xlink:href=\"#DejaVuSans-102\"/>\r\n      <use x=\"214.746094\" xlink:href=\"#DejaVuSans-105\"/>\r\n      <use x=\"242.529297\" xlink:href=\"#DejaVuSans-114\"/>\r\n      <use x=\"281.892578\" xlink:href=\"#DejaVuSans-109\"/>\r\n      <use x=\"379.304688\" xlink:href=\"#DejaVuSans-97\"/>\r\n      <use x=\"440.583984\" xlink:href=\"#DejaVuSans-100\"/>\r\n      <use x=\"504.060547\" xlink:href=\"#DejaVuSans-111\"/>\r\n      <use x=\"565.242188\" xlink:href=\"#DejaVuSans-115\"/>\r\n     </g>\r\n    </g>\r\n   </g>\r\n   <g id=\"matplotlib.axis_6\">\r\n    <g id=\"ytick_13\">\r\n     <g id=\"line2d_22\">\r\n      <g>\r\n       <use style=\"stroke:#000000;stroke-width:0.8;\" x=\"66.053125\" xlink:href=\"#ma5e6ea4eb3\" y=\"325.047935\"/>\r\n      </g>\r\n     </g>\r\n     <g id=\"text_12\">\r\n      <!-- 0 -->\r\n      <g transform=\"translate(52.690625 328.847153)scale(0.1 -0.1)\">\r\n       <use xlink:href=\"#DejaVuSans-48\"/>\r\n      </g>\r\n     </g>\r\n    </g>\r\n    <g id=\"ytick_14\">\r\n     <g id=\"line2d_23\">\r\n      <g>\r\n       <use style=\"stroke:#000000;stroke-width:0.8;\" x=\"66.053125\" xlink:href=\"#ma5e6ea4eb3\" y=\"289.919913\"/>\r\n      </g>\r\n     </g>\r\n     <g id=\"text_13\">\r\n      <!-- 5000 -->\r\n      <g transform=\"translate(33.603125 293.719131)scale(0.1 -0.1)\">\r\n       <use xlink:href=\"#DejaVuSans-53\"/>\r\n       <use x=\"63.623047\" xlink:href=\"#DejaVuSans-48\"/>\r\n       <use x=\"127.246094\" xlink:href=\"#DejaVuSans-48\"/>\r\n       <use x=\"190.869141\" xlink:href=\"#DejaVuSans-48\"/>\r\n      </g>\r\n     </g>\r\n    </g>\r\n    <g id=\"ytick_15\">\r\n     <g id=\"line2d_24\">\r\n      <g>\r\n       <use style=\"stroke:#000000;stroke-width:0.8;\" x=\"66.053125\" xlink:href=\"#ma5e6ea4eb3\" y=\"254.79189\"/>\r\n      </g>\r\n     </g>\r\n     <g id=\"text_14\">\r\n      <!-- 10000 -->\r\n      <g transform=\"translate(27.240625 258.591109)scale(0.1 -0.1)\">\r\n       <use xlink:href=\"#DejaVuSans-49\"/>\r\n       <use x=\"63.623047\" xlink:href=\"#DejaVuSans-48\"/>\r\n       <use x=\"127.246094\" xlink:href=\"#DejaVuSans-48\"/>\r\n       <use x=\"190.869141\" xlink:href=\"#DejaVuSans-48\"/>\r\n       <use x=\"254.492188\" xlink:href=\"#DejaVuSans-48\"/>\r\n      </g>\r\n     </g>\r\n    </g>\r\n    <g id=\"ytick_16\">\r\n     <g id=\"line2d_25\">\r\n      <g>\r\n       <use style=\"stroke:#000000;stroke-width:0.8;\" x=\"66.053125\" xlink:href=\"#ma5e6ea4eb3\" y=\"219.663868\"/>\r\n      </g>\r\n     </g>\r\n     <g id=\"text_15\">\r\n      <!-- 15000 -->\r\n      <g transform=\"translate(27.240625 223.463087)scale(0.1 -0.1)\">\r\n       <use xlink:href=\"#DejaVuSans-49\"/>\r\n       <use x=\"63.623047\" xlink:href=\"#DejaVuSans-53\"/>\r\n       <use x=\"127.246094\" xlink:href=\"#DejaVuSans-48\"/>\r\n       <use x=\"190.869141\" xlink:href=\"#DejaVuSans-48\"/>\r\n       <use x=\"254.492188\" xlink:href=\"#DejaVuSans-48\"/>\r\n      </g>\r\n     </g>\r\n    </g>\r\n    <g id=\"ytick_17\">\r\n     <g id=\"line2d_26\">\r\n      <g>\r\n       <use style=\"stroke:#000000;stroke-width:0.8;\" x=\"66.053125\" xlink:href=\"#ma5e6ea4eb3\" y=\"184.535846\"/>\r\n      </g>\r\n     </g>\r\n     <g id=\"text_16\">\r\n      <!-- 20000 -->\r\n      <g transform=\"translate(27.240625 188.335065)scale(0.1 -0.1)\">\r\n       <use xlink:href=\"#DejaVuSans-50\"/>\r\n       <use x=\"63.623047\" xlink:href=\"#DejaVuSans-48\"/>\r\n       <use x=\"127.246094\" xlink:href=\"#DejaVuSans-48\"/>\r\n       <use x=\"190.869141\" xlink:href=\"#DejaVuSans-48\"/>\r\n       <use x=\"254.492188\" xlink:href=\"#DejaVuSans-48\"/>\r\n      </g>\r\n     </g>\r\n    </g>\r\n    <g id=\"text_17\">\r\n     <!-- fallecidos -->\r\n     <defs>\r\n      <path d=\"M 9.421875 75.984375 \r\nL 18.40625 75.984375 \r\nL 18.40625 0 \r\nL 9.421875 0 \r\nz\r\n\" id=\"DejaVuSans-108\"/>\r\n      <path d=\"M 56.203125 29.59375 \r\nL 56.203125 25.203125 \r\nL 14.890625 25.203125 \r\nQ 15.484375 15.921875 20.484375 11.0625 \r\nQ 25.484375 6.203125 34.421875 6.203125 \r\nQ 39.59375 6.203125 44.453125 7.46875 \r\nQ 49.3125 8.734375 54.109375 11.28125 \r\nL 54.109375 2.78125 \r\nQ 49.265625 0.734375 44.1875 -0.34375 \r\nQ 39.109375 -1.421875 33.890625 -1.421875 \r\nQ 20.796875 -1.421875 13.15625 6.1875 \r\nQ 5.515625 13.8125 5.515625 26.8125 \r\nQ 5.515625 40.234375 12.765625 48.109375 \r\nQ 20.015625 56 32.328125 56 \r\nQ 43.359375 56 49.78125 48.890625 \r\nQ 56.203125 41.796875 56.203125 29.59375 \r\nz\r\nM 47.21875 32.234375 \r\nQ 47.125 39.59375 43.09375 43.984375 \r\nQ 39.0625 48.390625 32.421875 48.390625 \r\nQ 24.90625 48.390625 20.390625 44.140625 \r\nQ 15.875 39.890625 15.1875 32.171875 \r\nz\r\n\" id=\"DejaVuSans-101\"/>\r\n     </defs>\r\n     <g transform=\"translate(21.160937 277.105469)rotate(-90)scale(0.1 -0.1)\">\r\n      <use xlink:href=\"#DejaVuSans-102\"/>\r\n      <use x=\"35.205078\" xlink:href=\"#DejaVuSans-97\"/>\r\n      <use x=\"96.484375\" xlink:href=\"#DejaVuSans-108\"/>\r\n      <use x=\"124.267578\" xlink:href=\"#DejaVuSans-108\"/>\r\n      <use x=\"152.050781\" xlink:href=\"#DejaVuSans-101\"/>\r\n      <use x=\"213.574219\" xlink:href=\"#DejaVuSans-99\"/>\r\n      <use x=\"268.554688\" xlink:href=\"#DejaVuSans-105\"/>\r\n      <use x=\"296.337891\" xlink:href=\"#DejaVuSans-100\"/>\r\n      <use x=\"359.814453\" xlink:href=\"#DejaVuSans-111\"/>\r\n      <use x=\"420.996094\" xlink:href=\"#DejaVuSans-115\"/>\r\n     </g>\r\n    </g>\r\n   </g>\r\n   <g id=\"patch_9\">\r\n    <path d=\"M 66.053125 332.2 \r\nL 66.053125 174.7 \r\n\" style=\"fill:none;stroke:#000000;stroke-linecap:square;stroke-linejoin:miter;stroke-width:0.8;\"/>\r\n   </g>\r\n   <g id=\"patch_10\">\r\n    <path d=\"M 66.053125 332.2 \r\nL 212.075378 332.2 \r\n\" style=\"fill:none;stroke:#000000;stroke-linecap:square;stroke-linejoin:miter;stroke-width:0.8;\"/>\r\n   </g>\r\n  </g>\r\n  <g id=\"axes_4\">\r\n   <g id=\"patch_11\">\r\n    <path d=\"M 234.651913 332.2 \r\nL 380.674167 332.2 \r\nL 380.674167 174.7 \r\nL 234.651913 174.7 \r\nz\r\n\" style=\"fill:#ffffff;\"/>\r\n   </g>\r\n   <g id=\"matplotlib.axis_7\">\r\n    <g id=\"xtick_10\">\r\n     <g id=\"line2d_27\">\r\n      <g>\r\n       <use style=\"stroke:#000000;stroke-width:0.8;\" x=\"262.489471\" xlink:href=\"#m8f58425fd1\" y=\"332.2\"/>\r\n      </g>\r\n     </g>\r\n     <g id=\"text_18\">\r\n      <!-- 0 -->\r\n      <g transform=\"translate(259.308221 346.798437)scale(0.1 -0.1)\">\r\n       <use xlink:href=\"#DejaVuSans-48\"/>\r\n      </g>\r\n     </g>\r\n    </g>\r\n    <g id=\"xtick_11\">\r\n     <g id=\"line2d_28\">\r\n      <g>\r\n       <use style=\"stroke:#000000;stroke-width:0.8;\" x=\"317.220505\" xlink:href=\"#m8f58425fd1\" y=\"332.2\"/>\r\n      </g>\r\n     </g>\r\n     <g id=\"text_19\">\r\n      <!-- 10000 -->\r\n      <g transform=\"translate(301.314255 346.798437)scale(0.1 -0.1)\">\r\n       <use xlink:href=\"#DejaVuSans-49\"/>\r\n       <use x=\"63.623047\" xlink:href=\"#DejaVuSans-48\"/>\r\n       <use x=\"127.246094\" xlink:href=\"#DejaVuSans-48\"/>\r\n       <use x=\"190.869141\" xlink:href=\"#DejaVuSans-48\"/>\r\n       <use x=\"254.492188\" xlink:href=\"#DejaVuSans-48\"/>\r\n      </g>\r\n     </g>\r\n    </g>\r\n    <g id=\"xtick_12\">\r\n     <g id=\"line2d_29\">\r\n      <g>\r\n       <use style=\"stroke:#000000;stroke-width:0.8;\" x=\"371.951539\" xlink:href=\"#m8f58425fd1\" y=\"332.2\"/>\r\n      </g>\r\n     </g>\r\n     <g id=\"text_20\">\r\n      <!-- 20000 -->\r\n      <g transform=\"translate(356.045289 346.798437)scale(0.1 -0.1)\">\r\n       <use xlink:href=\"#DejaVuSans-50\"/>\r\n       <use x=\"63.623047\" xlink:href=\"#DejaVuSans-48\"/>\r\n       <use x=\"127.246094\" xlink:href=\"#DejaVuSans-48\"/>\r\n       <use x=\"190.869141\" xlink:href=\"#DejaVuSans-48\"/>\r\n       <use x=\"254.492188\" xlink:href=\"#DejaVuSans-48\"/>\r\n      </g>\r\n     </g>\r\n    </g>\r\n    <g id=\"text_21\">\r\n     <!-- fallecidos -->\r\n     <g transform=\"translate(284.007571 360.476562)scale(0.1 -0.1)\">\r\n      <use xlink:href=\"#DejaVuSans-102\"/>\r\n      <use x=\"35.205078\" xlink:href=\"#DejaVuSans-97\"/>\r\n      <use x=\"96.484375\" xlink:href=\"#DejaVuSans-108\"/>\r\n      <use x=\"124.267578\" xlink:href=\"#DejaVuSans-108\"/>\r\n      <use x=\"152.050781\" xlink:href=\"#DejaVuSans-101\"/>\r\n      <use x=\"213.574219\" xlink:href=\"#DejaVuSans-99\"/>\r\n      <use x=\"268.554688\" xlink:href=\"#DejaVuSans-105\"/>\r\n      <use x=\"296.337891\" xlink:href=\"#DejaVuSans-100\"/>\r\n      <use x=\"359.814453\" xlink:href=\"#DejaVuSans-111\"/>\r\n      <use x=\"420.996094\" xlink:href=\"#DejaVuSans-115\"/>\r\n     </g>\r\n    </g>\r\n   </g>\r\n   <g id=\"matplotlib.axis_8\">\r\n    <g id=\"ytick_18\">\r\n     <g id=\"line2d_30\">\r\n      <g>\r\n       <use style=\"stroke:#000000;stroke-width:0.8;\" x=\"234.651913\" xlink:href=\"#ma5e6ea4eb3\" y=\"325.047935\"/>\r\n      </g>\r\n     </g>\r\n    </g>\r\n    <g id=\"ytick_19\">\r\n     <g id=\"line2d_31\">\r\n      <g>\r\n       <use style=\"stroke:#000000;stroke-width:0.8;\" x=\"234.651913\" xlink:href=\"#ma5e6ea4eb3\" y=\"289.919913\"/>\r\n      </g>\r\n     </g>\r\n    </g>\r\n    <g id=\"ytick_20\">\r\n     <g id=\"line2d_32\">\r\n      <g>\r\n       <use style=\"stroke:#000000;stroke-width:0.8;\" x=\"234.651913\" xlink:href=\"#ma5e6ea4eb3\" y=\"254.79189\"/>\r\n      </g>\r\n     </g>\r\n    </g>\r\n    <g id=\"ytick_21\">\r\n     <g id=\"line2d_33\">\r\n      <g>\r\n       <use style=\"stroke:#000000;stroke-width:0.8;\" x=\"234.651913\" xlink:href=\"#ma5e6ea4eb3\" y=\"219.663868\"/>\r\n      </g>\r\n     </g>\r\n    </g>\r\n    <g id=\"ytick_22\">\r\n     <g id=\"line2d_34\">\r\n      <g>\r\n       <use style=\"stroke:#000000;stroke-width:0.8;\" x=\"234.651913\" xlink:href=\"#ma5e6ea4eb3\" y=\"184.535846\"/>\r\n      </g>\r\n     </g>\r\n    </g>\r\n   </g>\r\n   <g id=\"patch_12\">\r\n    <path d=\"M 234.651913 332.2 \r\nL 234.651913 174.7 \r\n\" style=\"fill:none;stroke:#000000;stroke-linecap:square;stroke-linejoin:miter;stroke-width:0.8;\"/>\r\n   </g>\r\n   <g id=\"patch_13\">\r\n    <path d=\"M 234.651913 332.2 \r\nL 380.674167 332.2 \r\n\" style=\"fill:none;stroke:#000000;stroke-linecap:square;stroke-linejoin:miter;stroke-width:0.8;\"/>\r\n   </g>\r\n  </g>\r\n  <g id=\"axes_5\">\r\n   <g id=\"PolyCollection_1\">\r\n    <path clip-path=\"url(#pf6f2cea65a)\" d=\"M 72.6905 164.050403 \r\nL 72.6905 164.7 \r\nL 72.904333 164.7 \r\nL 73.118166 164.7 \r\nL 73.331999 164.7 \r\nL 73.545832 164.7 \r\nL 73.759665 164.7 \r\nL 73.973498 164.7 \r\nL 74.187331 164.7 \r\nL 74.401164 164.7 \r\nL 74.614997 164.7 \r\nL 74.82883 164.7 \r\nL 75.042663 164.7 \r\nL 75.256496 164.7 \r\nL 75.470329 164.7 \r\nL 75.684161 164.7 \r\nL 75.897994 164.7 \r\nL 76.111827 164.7 \r\nL 76.32566 164.7 \r\nL 76.539493 164.7 \r\nL 76.753326 164.7 \r\nL 76.967159 164.7 \r\nL 77.180992 164.7 \r\nL 77.394825 164.7 \r\nL 77.608658 164.7 \r\nL 77.822491 164.7 \r\nL 78.036324 164.7 \r\nL 78.250157 164.7 \r\nL 78.46399 164.7 \r\nL 78.677823 164.7 \r\nL 78.891656 164.7 \r\nL 79.105489 164.7 \r\nL 79.319322 164.7 \r\nL 79.533155 164.7 \r\nL 79.746988 164.7 \r\nL 79.96082 164.7 \r\nL 80.174653 164.7 \r\nL 80.388486 164.7 \r\nL 80.602319 164.7 \r\nL 80.816152 164.7 \r\nL 81.029985 164.7 \r\nL 81.243818 164.7 \r\nL 81.457651 164.7 \r\nL 81.671484 164.7 \r\nL 81.885317 164.7 \r\nL 82.09915 164.7 \r\nL 82.312983 164.7 \r\nL 82.526816 164.7 \r\nL 82.740649 164.7 \r\nL 82.954482 164.7 \r\nL 83.168315 164.7 \r\nL 83.382148 164.7 \r\nL 83.595981 164.7 \r\nL 83.809814 164.7 \r\nL 84.023647 164.7 \r\nL 84.237479 164.7 \r\nL 84.451312 164.7 \r\nL 84.665145 164.7 \r\nL 84.878978 164.7 \r\nL 85.092811 164.7 \r\nL 85.306644 164.7 \r\nL 85.520477 164.7 \r\nL 85.73431 164.7 \r\nL 85.948143 164.7 \r\nL 86.161976 164.7 \r\nL 86.375809 164.7 \r\nL 86.589642 164.7 \r\nL 86.803475 164.7 \r\nL 87.017308 164.7 \r\nL 87.231141 164.7 \r\nL 87.444974 164.7 \r\nL 87.658807 164.7 \r\nL 87.87264 164.7 \r\nL 88.086473 164.7 \r\nL 88.300306 164.7 \r\nL 88.514138 164.7 \r\nL 88.727971 164.7 \r\nL 88.941804 164.7 \r\nL 89.155637 164.7 \r\nL 89.36947 164.7 \r\nL 89.583303 164.7 \r\nL 89.797136 164.7 \r\nL 90.010969 164.7 \r\nL 90.224802 164.7 \r\nL 90.438635 164.7 \r\nL 90.652468 164.7 \r\nL 90.866301 164.7 \r\nL 91.080134 164.7 \r\nL 91.293967 164.7 \r\nL 91.5078 164.7 \r\nL 91.721633 164.7 \r\nL 91.935466 164.7 \r\nL 92.149299 164.7 \r\nL 92.363132 164.7 \r\nL 92.576965 164.7 \r\nL 92.790797 164.7 \r\nL 93.00463 164.7 \r\nL 93.218463 164.7 \r\nL 93.432296 164.7 \r\nL 93.646129 164.7 \r\nL 93.859962 164.7 \r\nL 93.859962 164.404403 \r\nL 93.859962 164.404403 \r\nL 93.646129 164.276432 \r\nL 93.432296 164.102249 \r\nL 93.218463 163.86921 \r\nL 93.00463 163.562799 \r\nL 92.790797 163.166946 \r\nL 92.576965 162.664588 \r\nL 92.363132 162.038529 \r\nL 92.149299 161.272591 \r\nL 91.935466 160.353044 \r\nL 91.721633 159.270249 \r\nL 91.5078 158.020401 \r\nL 91.293967 156.607225 \r\nL 91.080134 155.043449 \r\nL 90.866301 153.351833 \r\nL 90.652468 151.565584 \r\nL 90.438635 149.727974 \r\nL 90.224802 147.891063 \r\nL 90.010969 146.113504 \r\nL 89.797136 144.45751 \r\nL 89.583303 142.985148 \r\nL 89.36947 141.754232 \r\nL 89.155637 140.814154 \r\nL 88.941804 140.202004 \r\nL 88.727971 139.939334 \r\nL 88.514138 140.029875 \r\nL 88.300306 140.458394 \r\nL 88.086473 141.190794 \r\nL 87.87264 142.175414 \r\nL 87.658807 143.345392 \r\nL 87.444974 144.621831 \r\nL 87.231141 145.917481 \r\nL 87.017308 147.140623 \r\nL 86.803475 148.198864 \r\nL 86.589642 149.002603 \r\nL 86.375809 149.468027 \r\nL 86.161976 149.519532 \r\nL 85.948143 149.091588 \r\nL 85.73431 148.130087 \r\nL 85.520477 146.593248 \r\nL 85.306644 144.452175 \r\nL 85.092811 141.691148 \r\nL 84.878978 138.307682 \r\nL 84.665145 134.312394 \r\nL 84.451312 129.728667 \r\nL 84.237479 124.592101 \r\nL 84.023647 118.949717 \r\nL 83.809814 112.858923 \r\nL 83.595981 106.386236 \r\nL 83.382148 99.60578 \r\nL 83.168315 92.597626 \r\nL 82.954482 85.446022 \r\nL 82.740649 78.237602 \r\nL 82.526816 71.059634 \r\nL 82.312983 63.998419 \r\nL 82.09915 57.137877 \r\nL 81.885317 50.55841 \r\nL 81.671484 44.336089 \r\nL 81.457651 38.542175 \r\nL 81.243818 33.243001 \r\nL 81.029985 28.500174 \r\nL 80.816152 24.371019 \r\nL 80.602319 20.909153 \r\nL 80.388486 18.165035 \r\nL 80.174653 16.186283 \r\nL 79.96082 15.017586 \r\nL 79.746988 14.7 \r\nL 79.533155 15.269533 \r\nL 79.319322 16.754963 \r\nL 79.105489 19.174981 \r\nL 78.891656 22.53486 \r\nL 78.677823 26.822979 \r\nL 78.46399 32.007619 \r\nL 78.250157 38.03449 \r\nL 78.036324 44.825424 \r\nL 77.822491 52.278593 \r\nL 77.608658 60.270453 \r\nL 77.394825 68.659451 \r\nL 77.180992 77.291285 \r\nL 76.967159 86.005386 \r\nL 76.753326 94.64206 \r\nL 76.539493 103.049728 \r\nL 76.32566 111.091605 \r\nL 76.111827 118.651305 \r\nL 75.897994 125.636915 \r\nL 75.684161 131.983312 \r\nL 75.470329 137.65263 \r\nL 75.256496 142.633033 \r\nL 75.042663 146.936026 \r\nL 74.82883 150.592706 \r\nL 74.614997 153.649365 \r\nL 74.401164 156.162883 \r\nL 74.187331 158.19627 \r\nL 73.973498 159.814676 \r\nL 73.759665 161.082062 \r\nL 73.545832 162.058641 \r\nL 73.331999 162.799105 \r\nL 73.118166 163.351589 \r\nL 72.904333 163.757259 \r\nL 72.6905 164.050403 \r\nz\r\n\" style=\"fill:#1f77b4;fill-opacity:0.25;\"/>\r\n   </g>\r\n   <g id=\"PolyCollection_2\"/>\r\n   <g id=\"PolyCollection_3\">\r\n    <path clip-path=\"url(#pf6f2cea65a)\" d=\"M 82.192156 163.476949 \r\nL 82.192156 164.7 \r\nL 82.642715 164.7 \r\nL 83.093275 164.7 \r\nL 83.543834 164.7 \r\nL 83.994393 164.7 \r\nL 84.444953 164.7 \r\nL 84.895512 164.7 \r\nL 85.346071 164.7 \r\nL 85.79663 164.7 \r\nL 86.24719 164.7 \r\nL 86.697749 164.7 \r\nL 87.148308 164.7 \r\nL 87.598867 164.7 \r\nL 88.049427 164.7 \r\nL 88.499986 164.7 \r\nL 88.950545 164.7 \r\nL 89.401105 164.7 \r\nL 89.851664 164.7 \r\nL 90.302223 164.7 \r\nL 90.752782 164.7 \r\nL 91.203342 164.7 \r\nL 91.653901 164.7 \r\nL 92.10446 164.7 \r\nL 92.55502 164.7 \r\nL 93.005579 164.7 \r\nL 93.456138 164.7 \r\nL 93.906697 164.7 \r\nL 94.357257 164.7 \r\nL 94.807816 164.7 \r\nL 95.258375 164.7 \r\nL 95.708935 164.7 \r\nL 96.159494 164.7 \r\nL 96.610053 164.7 \r\nL 97.060612 164.7 \r\nL 97.511172 164.7 \r\nL 97.961731 164.7 \r\nL 98.41229 164.7 \r\nL 98.86285 164.7 \r\nL 99.313409 164.7 \r\nL 99.763968 164.7 \r\nL 100.214527 164.7 \r\nL 100.665087 164.7 \r\nL 101.115646 164.7 \r\nL 101.566205 164.7 \r\nL 102.016765 164.7 \r\nL 102.467324 164.7 \r\nL 102.917883 164.7 \r\nL 103.368442 164.7 \r\nL 103.819002 164.7 \r\nL 104.269561 164.7 \r\nL 104.72012 164.7 \r\nL 105.17068 164.7 \r\nL 105.621239 164.7 \r\nL 106.071798 164.7 \r\nL 106.522357 164.7 \r\nL 106.972917 164.7 \r\nL 107.423476 164.7 \r\nL 107.874035 164.7 \r\nL 108.324595 164.7 \r\nL 108.775154 164.7 \r\nL 109.225713 164.7 \r\nL 109.676272 164.7 \r\nL 110.126832 164.7 \r\nL 110.577391 164.7 \r\nL 111.02795 164.7 \r\nL 111.47851 164.7 \r\nL 111.929069 164.7 \r\nL 112.379628 164.7 \r\nL 112.830187 164.7 \r\nL 113.280747 164.7 \r\nL 113.731306 164.7 \r\nL 114.181865 164.7 \r\nL 114.632425 164.7 \r\nL 115.082984 164.7 \r\nL 115.533543 164.7 \r\nL 115.984102 164.7 \r\nL 116.434662 164.7 \r\nL 116.885221 164.7 \r\nL 117.33578 164.7 \r\nL 117.78634 164.7 \r\nL 118.236899 164.7 \r\nL 118.687458 164.7 \r\nL 119.138017 164.7 \r\nL 119.588577 164.7 \r\nL 120.039136 164.7 \r\nL 120.489695 164.7 \r\nL 120.940254 164.7 \r\nL 121.390814 164.7 \r\nL 121.841373 164.7 \r\nL 122.291932 164.7 \r\nL 122.742492 164.7 \r\nL 123.193051 164.7 \r\nL 123.64361 164.7 \r\nL 124.094169 164.7 \r\nL 124.544729 164.7 \r\nL 124.995288 164.7 \r\nL 125.445847 164.7 \r\nL 125.896407 164.7 \r\nL 126.346966 164.7 \r\nL 126.797525 164.7 \r\nL 126.797525 163.51671 \r\nL 126.797525 163.51671 \r\nL 126.346966 163.281878 \r\nL 125.896407 163.009631 \r\nL 125.445847 162.695981 \r\nL 124.995288 162.3369 \r\nL 124.544729 161.928401 \r\nL 124.094169 161.466626 \r\nL 123.64361 160.947948 \r\nL 123.193051 160.369077 \r\nL 122.742492 159.727173 \r\nL 122.291932 159.019959 \r\nL 121.841373 158.245834 \r\nL 121.390814 157.403973 \r\nL 120.940254 156.494421 \r\nL 120.489695 155.518168 \r\nL 120.039136 154.477201 \r\nL 119.588577 153.374536 \r\nL 119.138017 152.214215 \r\nL 118.687458 151.001281 \r\nL 118.236899 149.741707 \r\nL 117.78634 148.44231 \r\nL 117.33578 147.110618 \r\nL 116.885221 145.754721 \r\nL 116.434662 144.383092 \r\nL 115.984102 143.004395 \r\nL 115.533543 141.627281 \r\nL 115.082984 140.260178 \r\nL 114.632425 138.911096 \r\nL 114.181865 137.587435 \r\nL 113.731306 136.295824 \r\nL 113.280747 135.041988 \r\nL 112.830187 133.83065 \r\nL 112.379628 132.665472 \r\nL 111.929069 131.549046 \r\nL 111.47851 130.482923 \r\nL 111.02795 129.467689 \r\nL 110.577391 128.503084 \r\nL 110.126832 127.588146 \r\nL 109.676272 126.721395 \r\nL 109.225713 125.90103 \r\nL 108.775154 125.125139 \r\nL 108.324595 124.391909 \r\nL 107.874035 123.69983 \r\nL 107.423476 123.04788 \r\nL 106.972917 122.435685 \r\nL 106.522357 121.863647 \r\nL 106.071798 121.333033 \r\nL 105.621239 120.846029 \r\nL 105.17068 120.405738 \r\nL 104.72012 120.016151 \r\nL 104.269561 119.682062 \r\nL 103.819002 119.408957 \r\nL 103.368442 119.20286 \r\nL 102.917883 119.070158 \r\nL 102.467324 119.017402 \r\nL 102.016765 119.051092 \r\nL 101.566205 119.177463 \r\nL 101.115646 119.402259 \r\nL 100.665087 119.730524 \r\nL 100.214527 120.166409 \r\nL 99.763968 120.712985 \r\nL 99.313409 121.372101 \r\nL 98.86285 122.144254 \r\nL 98.41229 123.028505 \r\nL 97.961731 124.022426 \r\nL 97.511172 125.122079 \r\nL 97.060612 126.322046 \r\nL 96.610053 127.615488 \r\nL 96.159494 128.994234 \r\nL 95.708935 130.448922 \r\nL 95.258375 131.969146 \r\nL 94.807816 133.54365 \r\nL 94.357257 135.160527 \r\nL 93.906697 136.807439 \r\nL 93.456138 138.471845 \r\nL 93.005579 140.141227 \r\nL 92.55502 141.803317 \r\nL 92.10446 143.446305 \r\nL 91.653901 145.059044 \r\nL 91.203342 146.631215 \r\nL 90.752782 148.153483 \r\nL 90.302223 149.617616 \r\nL 89.851664 151.016572 \r\nL 89.401105 152.344557 \r\nL 88.950545 153.59705 \r\nL 88.499986 154.770796 \r\nL 88.049427 155.863774 \r\nL 87.598867 156.875132 \r\nL 87.148308 157.805106 \r\nL 86.697749 158.654921 \r\nL 86.24719 159.426675 \r\nL 85.79663 160.123213 \r\nL 85.346071 160.748003 \r\nL 84.895512 161.305004 \r\nL 84.444953 161.798541 \r\nL 83.994393 162.233184 \r\nL 83.543834 162.613639 \r\nL 83.093275 162.944647 \r\nL 82.642715 163.230896 \r\nL 82.192156 163.476949 \r\nz\r\n\" style=\"fill:#2ca02c;fill-opacity:0.25;\"/>\r\n   </g>\r\n   <g id=\"line2d_35\">\r\n    <path clip-path=\"url(#pf6f2cea65a)\" d=\"M 72.6905 164.050403 \r\nL 72.904333 163.757259 \r\nL 73.118166 163.351589 \r\nL 73.331999 162.799105 \r\nL 73.545832 162.058641 \r\nL 73.759665 161.082062 \r\nL 73.973498 159.814676 \r\nL 74.187331 158.19627 \r\nL 74.401164 156.162883 \r\nL 74.614997 153.649365 \r\nL 74.82883 150.592706 \r\nL 75.042663 146.936026 \r\nL 75.256496 142.633033 \r\nL 75.470329 137.65263 \r\nL 75.684161 131.983312 \r\nL 75.897994 125.636915 \r\nL 76.111827 118.651305 \r\nL 76.32566 111.091605 \r\nL 76.539493 103.049728 \r\nL 76.753326 94.64206 \r\nL 76.967159 86.005386 \r\nL 77.180992 77.291285 \r\nL 77.394825 68.659451 \r\nL 77.608658 60.270453 \r\nL 77.822491 52.278593 \r\nL 78.036324 44.825424 \r\nL 78.250157 38.03449 \r\nL 78.46399 32.007619 \r\nL 78.677823 26.822979 \r\nL 78.891656 22.53486 \r\nL 79.105489 19.174981 \r\nL 79.319322 16.754963 \r\nL 79.533155 15.269533 \r\nL 79.746988 14.7 \r\nL 79.96082 15.017586 \r\nL 80.174653 16.186283 \r\nL 80.388486 18.165035 \r\nL 80.602319 20.909153 \r\nL 80.816152 24.371019 \r\nL 81.029985 28.500174 \r\nL 81.243818 33.243001 \r\nL 81.457651 38.542175 \r\nL 81.671484 44.336089 \r\nL 81.885317 50.55841 \r\nL 82.09915 57.137877 \r\nL 82.312983 63.998419 \r\nL 82.526816 71.059634 \r\nL 82.740649 78.237602 \r\nL 82.954482 85.446022 \r\nL 83.168315 92.597626 \r\nL 83.382148 99.60578 \r\nL 83.595981 106.386236 \r\nL 83.809814 112.858923 \r\nL 84.023647 118.949717 \r\nL 84.237479 124.592101 \r\nL 84.451312 129.728667 \r\nL 84.665145 134.312394 \r\nL 84.878978 138.307682 \r\nL 85.092811 141.691148 \r\nL 85.306644 144.452175 \r\nL 85.520477 146.593248 \r\nL 85.73431 148.130087 \r\nL 85.948143 149.091588 \r\nL 86.161976 149.519532 \r\nL 86.375809 149.468027 \r\nL 86.589642 149.002603 \r\nL 86.803475 148.198864 \r\nL 87.017308 147.140623 \r\nL 87.231141 145.917481 \r\nL 87.444974 144.621831 \r\nL 87.658807 143.345392 \r\nL 87.87264 142.175414 \r\nL 88.086473 141.190794 \r\nL 88.300306 140.458394 \r\nL 88.514138 140.029875 \r\nL 88.727971 139.939334 \r\nL 88.941804 140.202004 \r\nL 89.155637 140.814154 \r\nL 89.36947 141.754232 \r\nL 89.583303 142.985148 \r\nL 89.797136 144.45751 \r\nL 90.010969 146.113504 \r\nL 90.224802 147.891063 \r\nL 90.438635 149.727974 \r\nL 90.652468 151.565584 \r\nL 90.866301 153.351833 \r\nL 91.080134 155.043449 \r\nL 91.293967 156.607225 \r\nL 91.5078 158.020401 \r\nL 91.721633 159.270249 \r\nL 91.935466 160.353044 \r\nL 92.149299 161.272591 \r\nL 92.363132 162.038529 \r\nL 92.576965 162.664588 \r\nL 92.790797 163.166946 \r\nL 93.00463 163.562799 \r\nL 93.218463 163.86921 \r\nL 93.432296 164.102249 \r\nL 93.646129 164.276432 \r\nL 93.859962 164.404403 \r\n\" style=\"fill:none;stroke:#1f77b4;stroke-linecap:square;stroke-width:1.5;\"/>\r\n   </g>\r\n   <g id=\"line2d_36\"/>\r\n   <g id=\"line2d_37\">\r\n    <path clip-path=\"url(#pf6f2cea65a)\" d=\"M 82.192156 163.476949 \r\nL 82.642715 163.230896 \r\nL 83.093275 162.944647 \r\nL 83.543834 162.613639 \r\nL 83.994393 162.233184 \r\nL 84.444953 161.798541 \r\nL 84.895512 161.305004 \r\nL 85.346071 160.748003 \r\nL 85.79663 160.123213 \r\nL 86.24719 159.426675 \r\nL 86.697749 158.654921 \r\nL 87.148308 157.805106 \r\nL 87.598867 156.875132 \r\nL 88.049427 155.863774 \r\nL 88.499986 154.770796 \r\nL 88.950545 153.59705 \r\nL 89.401105 152.344557 \r\nL 89.851664 151.016572 \r\nL 90.302223 149.617616 \r\nL 90.752782 148.153483 \r\nL 91.203342 146.631215 \r\nL 91.653901 145.059044 \r\nL 92.10446 143.446305 \r\nL 92.55502 141.803317 \r\nL 93.005579 140.141227 \r\nL 93.456138 138.471845 \r\nL 93.906697 136.807439 \r\nL 94.357257 135.160527 \r\nL 94.807816 133.54365 \r\nL 95.258375 131.969146 \r\nL 95.708935 130.448922 \r\nL 96.159494 128.994234 \r\nL 96.610053 127.615488 \r\nL 97.060612 126.322046 \r\nL 97.511172 125.122079 \r\nL 97.961731 124.022426 \r\nL 98.41229 123.028505 \r\nL 98.86285 122.144254 \r\nL 99.313409 121.372101 \r\nL 99.763968 120.712985 \r\nL 100.214527 120.166409 \r\nL 100.665087 119.730524 \r\nL 101.115646 119.402259 \r\nL 101.566205 119.177463 \r\nL 102.016765 119.051092 \r\nL 102.467324 119.017402 \r\nL 102.917883 119.070158 \r\nL 103.368442 119.20286 \r\nL 103.819002 119.408957 \r\nL 104.269561 119.682062 \r\nL 104.72012 120.016151 \r\nL 105.17068 120.405738 \r\nL 105.621239 120.846029 \r\nL 106.071798 121.333033 \r\nL 106.522357 121.863647 \r\nL 106.972917 122.435685 \r\nL 107.423476 123.04788 \r\nL 107.874035 123.69983 \r\nL 108.324595 124.391909 \r\nL 108.775154 125.125139 \r\nL 109.225713 125.90103 \r\nL 109.676272 126.721395 \r\nL 110.126832 127.588146 \r\nL 110.577391 128.503084 \r\nL 111.02795 129.467689 \r\nL 111.47851 130.482923 \r\nL 111.929069 131.549046 \r\nL 112.379628 132.665472 \r\nL 112.830187 133.83065 \r\nL 113.280747 135.041988 \r\nL 113.731306 136.295824 \r\nL 114.181865 137.587435 \r\nL 114.632425 138.911096 \r\nL 115.082984 140.260178 \r\nL 115.533543 141.627281 \r\nL 115.984102 143.004395 \r\nL 116.434662 144.383092 \r\nL 116.885221 145.754721 \r\nL 117.33578 147.110618 \r\nL 117.78634 148.44231 \r\nL 118.236899 149.741707 \r\nL 118.687458 151.001281 \r\nL 119.138017 152.214215 \r\nL 119.588577 153.374536 \r\nL 120.039136 154.477201 \r\nL 120.489695 155.518168 \r\nL 120.940254 156.494421 \r\nL 121.390814 157.403973 \r\nL 121.841373 158.245834 \r\nL 122.291932 159.019959 \r\nL 122.742492 159.727173 \r\nL 123.193051 160.369077 \r\nL 123.64361 160.947948 \r\nL 124.094169 161.466626 \r\nL 124.544729 161.928401 \r\nL 124.995288 162.3369 \r\nL 125.445847 162.695981 \r\nL 125.896407 163.009631 \r\nL 126.346966 163.281878 \r\nL 126.797525 163.51671 \r\n\" style=\"fill:none;stroke:#2ca02c;stroke-linecap:square;stroke-width:1.5;\"/>\r\n   </g>\r\n  </g>\r\n  <g id=\"axes_6\">\r\n   <g id=\"PolyCollection_4\">\r\n    <path clip-path=\"url(#p4bcddd2775)\" d=\"M 259.57908 331.501016 \r\nL 259.57908 332.2 \r\nL 259.694653 332.2 \r\nL 259.810225 332.2 \r\nL 259.925797 332.2 \r\nL 260.04137 332.2 \r\nL 260.156942 332.2 \r\nL 260.272514 332.2 \r\nL 260.388087 332.2 \r\nL 260.503659 332.2 \r\nL 260.619231 332.2 \r\nL 260.734804 332.2 \r\nL 260.850376 332.2 \r\nL 260.965948 332.2 \r\nL 261.081521 332.2 \r\nL 261.197093 332.2 \r\nL 261.312665 332.2 \r\nL 261.428238 332.2 \r\nL 261.54381 332.2 \r\nL 261.659382 332.2 \r\nL 261.774954 332.2 \r\nL 261.890527 332.2 \r\nL 262.006099 332.2 \r\nL 262.121671 332.2 \r\nL 262.237244 332.2 \r\nL 262.352816 332.2 \r\nL 262.468388 332.2 \r\nL 262.583961 332.2 \r\nL 262.699533 332.2 \r\nL 262.815105 332.2 \r\nL 262.930678 332.2 \r\nL 263.04625 332.2 \r\nL 263.161822 332.2 \r\nL 263.277395 332.2 \r\nL 263.392967 332.2 \r\nL 263.508539 332.2 \r\nL 263.624111 332.2 \r\nL 263.739684 332.2 \r\nL 263.855256 332.2 \r\nL 263.970828 332.2 \r\nL 264.086401 332.2 \r\nL 264.201973 332.2 \r\nL 264.317545 332.2 \r\nL 264.433118 332.2 \r\nL 264.54869 332.2 \r\nL 264.664262 332.2 \r\nL 264.779835 332.2 \r\nL 264.895407 332.2 \r\nL 265.010979 332.2 \r\nL 265.126552 332.2 \r\nL 265.242124 332.2 \r\nL 265.357696 332.2 \r\nL 265.473269 332.2 \r\nL 265.588841 332.2 \r\nL 265.704413 332.2 \r\nL 265.819985 332.2 \r\nL 265.935558 332.2 \r\nL 266.05113 332.2 \r\nL 266.166702 332.2 \r\nL 266.282275 332.2 \r\nL 266.397847 332.2 \r\nL 266.513419 332.2 \r\nL 266.628992 332.2 \r\nL 266.744564 332.2 \r\nL 266.860136 332.2 \r\nL 266.975709 332.2 \r\nL 267.091281 332.2 \r\nL 267.206853 332.2 \r\nL 267.322426 332.2 \r\nL 267.437998 332.2 \r\nL 267.55357 332.2 \r\nL 267.669143 332.2 \r\nL 267.784715 332.2 \r\nL 267.900287 332.2 \r\nL 268.015859 332.2 \r\nL 268.131432 332.2 \r\nL 268.247004 332.2 \r\nL 268.362576 332.2 \r\nL 268.478149 332.2 \r\nL 268.593721 332.2 \r\nL 268.709293 332.2 \r\nL 268.824866 332.2 \r\nL 268.940438 332.2 \r\nL 269.05601 332.2 \r\nL 269.171583 332.2 \r\nL 269.287155 332.2 \r\nL 269.402727 332.2 \r\nL 269.5183 332.2 \r\nL 269.633872 332.2 \r\nL 269.749444 332.2 \r\nL 269.865016 332.2 \r\nL 269.980589 332.2 \r\nL 270.096161 332.2 \r\nL 270.211733 332.2 \r\nL 270.327306 332.2 \r\nL 270.442878 332.2 \r\nL 270.55845 332.2 \r\nL 270.674023 332.2 \r\nL 270.789595 332.2 \r\nL 270.905167 332.2 \r\nL 271.02074 332.2 \r\nL 271.02074 331.984695 \r\nL 271.02074 331.984695 \r\nL 270.905167 331.896419 \r\nL 270.789595 331.777293 \r\nL 270.674023 331.618724 \r\nL 270.55845 331.410523 \r\nL 270.442878 331.140871 \r\nL 270.327306 330.796366 \r\nL 270.211733 330.362185 \r\nL 270.096161 329.822371 \r\nL 269.980589 329.160248 \r\nL 269.865016 328.358987 \r\nL 269.749444 327.402273 \r\nL 269.633872 326.27509 \r\nL 269.5183 324.964542 \r\nL 269.402727 323.4607 \r\nL 269.287155 321.757374 \r\nL 269.171583 319.852789 \r\nL 269.05601 317.750073 \r\nL 268.940438 315.457531 \r\nL 268.824866 312.988663 \r\nL 268.709293 310.361911 \r\nL 268.593721 307.600164 \r\nL 268.478149 304.730025 \r\nL 268.362576 301.780917 \r\nL 268.247004 298.784075 \r\nL 268.131432 295.771503 \r\nL 268.015859 292.774948 \r\nL 267.900287 289.824969 \r\nL 267.784715 286.950112 \r\nL 267.669143 284.176248 \r\nL 267.55357 281.526056 \r\nL 267.437998 279.018646 \r\nL 267.322426 276.669322 \r\nL 267.206853 274.489437 \r\nL 267.091281 272.486327 \r\nL 266.975709 270.663302 \r\nL 266.860136 269.019661 \r\nL 266.744564 267.550726 \r\nL 266.628992 266.247859 \r\nL 266.513419 265.098456 \r\nL 266.397847 264.085893 \r\nL 266.282275 263.189396 \r\nL 266.166702 262.383845 \r\nL 266.05113 261.639494 \r\nL 265.935558 260.921651 \r\nL 265.819985 260.190375 \r\nL 265.704413 259.400274 \r\nL 265.588841 258.500548 \r\nL 265.473269 257.435408 \r\nL 265.357696 256.145056 \r\nL 265.242124 254.567351 \r\nL 265.126552 252.640281 \r\nL 265.010979 250.305275 \r\nL 264.895407 247.511304 \r\nL 264.779835 244.219598 \r\nL 264.664262 240.408719 \r\nL 264.54869 236.079597 \r\nL 264.433118 231.260071 \r\nL 264.317545 226.008442 \r\nL 264.201973 220.41553 \r\nL 264.086401 214.604827 \r\nL 263.970828 208.73042 \r\nL 263.855256 202.972549 \r\nL 263.739684 197.53086 \r\nL 263.624111 192.615627 \r\nL 263.508539 188.437426 \r\nL 263.392967 185.195922 \r\nL 263.277395 183.068559 \r\nL 263.161822 182.2 \r\nL 263.04625 182.693133 \r\nL 262.930678 184.602374 \r\nL 262.815105 187.929808 \r\nL 262.699533 192.624499 \r\nL 262.583961 198.585023 \r\nL 262.468388 205.665016 \r\nL 262.352816 213.681297 \r\nL 262.237244 222.423905 \r\nL 262.121671 231.667272 \r\nL 262.006099 241.181701 \r\nL 261.890527 250.74432 \r\nL 261.774954 260.14881 \r\nL 261.659382 269.213329 \r\nL 261.54381 277.786269 \r\nL 261.428238 285.749677 \r\nL 261.312665 293.020381 \r\nL 261.197093 299.549021 \r\nL 261.081521 305.317352 \r\nL 260.965948 310.334229 \r\nL 260.850376 314.630757 \r\nL 260.734804 318.255059 \r\nL 260.619231 321.267065 \r\nL 260.503659 323.733666 \r\nL 260.388087 325.724466 \r\nL 260.272514 327.308286 \r\nL 260.156942 328.550474 \r\nL 260.04137 329.511023 \r\nL 259.925797 330.243415 \r\nL 259.810225 330.794089 \r\nL 259.694653 331.202411 \r\nL 259.57908 331.501016 \r\nz\r\n\" style=\"fill:#1f77b4;fill-opacity:0.25;\"/>\r\n   </g>\r\n   <g id=\"PolyCollection_5\"/>\r\n   <g id=\"PolyCollection_6\">\r\n    <path clip-path=\"url(#p4bcddd2775)\" d=\"M 241.289288 331.508423 \r\nL 241.289288 332.2 \r\nL 242.127173 332.2 \r\nL 242.965058 332.2 \r\nL 243.802943 332.2 \r\nL 244.640827 332.2 \r\nL 245.478712 332.2 \r\nL 246.316597 332.2 \r\nL 247.154482 332.2 \r\nL 247.992366 332.2 \r\nL 248.830251 332.2 \r\nL 249.668136 332.2 \r\nL 250.506021 332.2 \r\nL 251.343905 332.2 \r\nL 252.18179 332.2 \r\nL 253.019675 332.2 \r\nL 253.85756 332.2 \r\nL 254.695444 332.2 \r\nL 255.533329 332.2 \r\nL 256.371214 332.2 \r\nL 257.209098 332.2 \r\nL 258.046983 332.2 \r\nL 258.884868 332.2 \r\nL 259.722753 332.2 \r\nL 260.560637 332.2 \r\nL 261.398522 332.2 \r\nL 262.236407 332.2 \r\nL 263.074292 332.2 \r\nL 263.912176 332.2 \r\nL 264.750061 332.2 \r\nL 265.587946 332.2 \r\nL 266.425831 332.2 \r\nL 267.263715 332.2 \r\nL 268.1016 332.2 \r\nL 268.939485 332.2 \r\nL 269.77737 332.2 \r\nL 270.615254 332.2 \r\nL 271.453139 332.2 \r\nL 272.291024 332.2 \r\nL 273.128908 332.2 \r\nL 273.966793 332.2 \r\nL 274.804678 332.2 \r\nL 275.642563 332.2 \r\nL 276.480447 332.2 \r\nL 277.318332 332.2 \r\nL 278.156217 332.2 \r\nL 278.994102 332.2 \r\nL 279.831986 332.2 \r\nL 280.669871 332.2 \r\nL 281.507756 332.2 \r\nL 282.345641 332.2 \r\nL 283.183525 332.2 \r\nL 284.02141 332.2 \r\nL 284.859295 332.2 \r\nL 285.69718 332.2 \r\nL 286.535064 332.2 \r\nL 287.372949 332.2 \r\nL 288.210834 332.2 \r\nL 289.048718 332.2 \r\nL 289.886603 332.2 \r\nL 290.724488 332.2 \r\nL 291.562373 332.2 \r\nL 292.400257 332.2 \r\nL 293.238142 332.2 \r\nL 294.076027 332.2 \r\nL 294.913912 332.2 \r\nL 295.751796 332.2 \r\nL 296.589681 332.2 \r\nL 297.427566 332.2 \r\nL 298.265451 332.2 \r\nL 299.103335 332.2 \r\nL 299.94122 332.2 \r\nL 300.779105 332.2 \r\nL 301.61699 332.2 \r\nL 302.454874 332.2 \r\nL 303.292759 332.2 \r\nL 304.130644 332.2 \r\nL 304.968528 332.2 \r\nL 305.806413 332.2 \r\nL 306.644298 332.2 \r\nL 307.482183 332.2 \r\nL 308.320067 332.2 \r\nL 309.157952 332.2 \r\nL 309.995837 332.2 \r\nL 310.833722 332.2 \r\nL 311.671606 332.2 \r\nL 312.509491 332.2 \r\nL 313.347376 332.2 \r\nL 314.185261 332.2 \r\nL 315.023145 332.2 \r\nL 315.86103 332.2 \r\nL 316.698915 332.2 \r\nL 317.5368 332.2 \r\nL 318.374684 332.2 \r\nL 319.212569 332.2 \r\nL 320.050454 332.2 \r\nL 320.888338 332.2 \r\nL 321.726223 332.2 \r\nL 322.564108 332.2 \r\nL 323.401993 332.2 \r\nL 324.239877 332.2 \r\nL 324.239877 331.82629 \r\nL 324.239877 331.82629 \r\nL 323.401993 331.755717 \r\nL 322.564108 331.674502 \r\nL 321.726223 331.5816 \r\nL 320.888338 331.475967 \r\nL 320.050454 331.356588 \r\nL 319.212569 331.222499 \r\nL 318.374684 331.072817 \r\nL 317.5368 330.906771 \r\nL 316.698915 330.723731 \r\nL 315.86103 330.523242 \r\nL 315.023145 330.305053 \r\nL 314.185261 330.069149 \r\nL 313.347376 329.815772 \r\nL 312.509491 329.545443 \r\nL 311.671606 329.258979 \r\nL 310.833722 328.957498 \r\nL 309.995837 328.642414 \r\nL 309.157952 328.315432 \r\nL 308.320067 327.97852 \r\nL 307.482183 327.633881 \r\nL 306.644298 327.283908 \r\nL 305.806413 326.931131 \r\nL 304.968528 326.578156 \r\nL 304.130644 326.227593 \r\nL 303.292759 325.881981 \r\nL 302.454874 325.543714 \r\nL 301.61699 325.214955 \r\nL 300.779105 324.897564 \r\nL 299.94122 324.593023 \r\nL 299.103335 324.30238 \r\nL 298.265451 324.026193 \r\nL 297.427566 323.764497 \r\nL 296.589681 323.516788 \r\nL 295.751796 323.282023 \r\nL 294.913912 323.05864 \r\nL 294.076027 322.844607 \r\nL 293.238142 322.63748 \r\nL 292.400257 322.434495 \r\nL 291.562373 322.232659 \r\nL 290.724488 322.028879 \r\nL 289.886603 321.820079 \r\nL 289.048718 321.603342 \r\nL 288.210834 321.376043 \r\nL 287.372949 321.135984 \r\nL 286.535064 320.881519 \r\nL 285.69718 320.611664 \r\nL 284.859295 320.326194 \r\nL 284.02141 320.02571 \r\nL 283.183525 319.711682 \r\nL 282.345641 319.386469 \r\nL 281.507756 319.053298 \r\nL 280.669871 318.716221 \r\nL 279.831986 318.380035 \r\nL 278.994102 318.050176 \r\nL 278.156217 317.732587 \r\nL 277.318332 317.433569 \r\nL 276.480447 317.159604 \r\nL 275.642563 316.917181 \r\nL 274.804678 316.712609 \r\nL 273.966793 316.551833 \r\nL 273.128908 316.44026 \r\nL 272.291024 316.382599 \r\nL 271.453139 316.38272 \r\nL 270.615254 316.443538 \r\nL 269.77737 316.566925 \r\nL 268.939485 316.753654 \r\nL 268.1016 317.003377 \r\nL 267.263715 317.314629 \r\nL 266.425831 317.684873 \r\nL 265.587946 318.110569 \r\nL 264.750061 318.587272 \r\nL 263.912176 319.10975 \r\nL 263.074292 319.672124 \r\nL 262.236407 320.268015 \r\nL 261.398522 320.890705 \r\nL 260.560637 321.533295 \r\nL 259.722753 322.188862 \r\nL 258.884868 322.850607 \r\nL 258.046983 323.511994 \r\nL 257.209098 324.166866 \r\nL 256.371214 324.809554 \r\nL 255.533329 325.434954 \r\nL 254.695444 326.038595 \r\nL 253.85756 326.616673 \r\nL 253.019675 327.166077 \r\nL 252.18179 327.684386 \r\nL 251.343905 328.169853 \r\nL 250.506021 328.621374 \r\nL 249.668136 329.038445 \r\nL 248.830251 329.421103 \r\nL 247.992366 329.769869 \r\nL 247.154482 330.085677 \r\nL 246.316597 330.369811 \r\nL 245.478712 330.623832 \r\nL 244.640827 330.849513 \r\nL 243.802943 331.048779 \r\nL 242.965058 331.223647 \r\nL 242.127173 331.376176 \r\nL 241.289288 331.508423 \r\nz\r\n\" style=\"fill:#2ca02c;fill-opacity:0.25;\"/>\r\n   </g>\r\n   <g id=\"line2d_38\">\r\n    <path clip-path=\"url(#p4bcddd2775)\" d=\"M 259.57908 331.501016 \r\nL 259.694653 331.202411 \r\nL 259.810225 330.794089 \r\nL 259.925797 330.243415 \r\nL 260.04137 329.511023 \r\nL 260.156942 328.550474 \r\nL 260.272514 327.308286 \r\nL 260.388087 325.724466 \r\nL 260.503659 323.733666 \r\nL 260.619231 321.267065 \r\nL 260.734804 318.255059 \r\nL 260.850376 314.630757 \r\nL 260.965948 310.334229 \r\nL 261.081521 305.317352 \r\nL 261.197093 299.549021 \r\nL 261.312665 293.020381 \r\nL 261.428238 285.749677 \r\nL 261.54381 277.786269 \r\nL 261.659382 269.213329 \r\nL 261.774954 260.14881 \r\nL 261.890527 250.74432 \r\nL 262.006099 241.181701 \r\nL 262.121671 231.667272 \r\nL 262.237244 222.423905 \r\nL 262.352816 213.681297 \r\nL 262.468388 205.665016 \r\nL 262.583961 198.585023 \r\nL 262.699533 192.624499 \r\nL 262.815105 187.929808 \r\nL 262.930678 184.602374 \r\nL 263.04625 182.693133 \r\nL 263.161822 182.2 \r\nL 263.277395 183.068559 \r\nL 263.392967 185.195922 \r\nL 263.508539 188.437426 \r\nL 263.624111 192.615627 \r\nL 263.739684 197.53086 \r\nL 263.855256 202.972549 \r\nL 263.970828 208.73042 \r\nL 264.086401 214.604827 \r\nL 264.201973 220.41553 \r\nL 264.317545 226.008442 \r\nL 264.433118 231.260071 \r\nL 264.54869 236.079597 \r\nL 264.664262 240.408719 \r\nL 264.779835 244.219598 \r\nL 264.895407 247.511304 \r\nL 265.010979 250.305275 \r\nL 265.126552 252.640281 \r\nL 265.242124 254.567351 \r\nL 265.357696 256.145056 \r\nL 265.473269 257.435408 \r\nL 265.588841 258.500548 \r\nL 265.704413 259.400274 \r\nL 265.819985 260.190375 \r\nL 265.935558 260.921651 \r\nL 266.05113 261.639494 \r\nL 266.166702 262.383845 \r\nL 266.282275 263.189396 \r\nL 266.397847 264.085893 \r\nL 266.513419 265.098456 \r\nL 266.628992 266.247859 \r\nL 266.744564 267.550726 \r\nL 266.860136 269.019661 \r\nL 266.975709 270.663302 \r\nL 267.091281 272.486327 \r\nL 267.206853 274.489437 \r\nL 267.322426 276.669322 \r\nL 267.437998 279.018646 \r\nL 267.55357 281.526056 \r\nL 267.669143 284.176248 \r\nL 267.784715 286.950112 \r\nL 267.900287 289.824969 \r\nL 268.015859 292.774948 \r\nL 268.131432 295.771503 \r\nL 268.247004 298.784075 \r\nL 268.362576 301.780917 \r\nL 268.478149 304.730025 \r\nL 268.593721 307.600164 \r\nL 268.709293 310.361911 \r\nL 268.824866 312.988663 \r\nL 268.940438 315.457531 \r\nL 269.05601 317.750073 \r\nL 269.171583 319.852789 \r\nL 269.287155 321.757374 \r\nL 269.402727 323.4607 \r\nL 269.5183 324.964542 \r\nL 269.633872 326.27509 \r\nL 269.749444 327.402273 \r\nL 269.865016 328.358987 \r\nL 269.980589 329.160248 \r\nL 270.096161 329.822371 \r\nL 270.211733 330.362185 \r\nL 270.327306 330.796366 \r\nL 270.442878 331.140871 \r\nL 270.55845 331.410523 \r\nL 270.674023 331.618724 \r\nL 270.789595 331.777293 \r\nL 270.905167 331.896419 \r\nL 271.02074 331.984695 \r\n\" style=\"fill:none;stroke:#1f77b4;stroke-linecap:square;stroke-width:1.5;\"/>\r\n   </g>\r\n   <g id=\"line2d_39\"/>\r\n   <g id=\"line2d_40\">\r\n    <path clip-path=\"url(#p4bcddd2775)\" d=\"M 241.289288 331.508423 \r\nL 242.127173 331.376176 \r\nL 242.965058 331.223647 \r\nL 243.802943 331.048779 \r\nL 244.640827 330.849513 \r\nL 245.478712 330.623832 \r\nL 246.316597 330.369811 \r\nL 247.154482 330.085677 \r\nL 247.992366 329.769869 \r\nL 248.830251 329.421103 \r\nL 249.668136 329.038445 \r\nL 250.506021 328.621374 \r\nL 251.343905 328.169853 \r\nL 252.18179 327.684386 \r\nL 253.019675 327.166077 \r\nL 253.85756 326.616673 \r\nL 254.695444 326.038595 \r\nL 255.533329 325.434954 \r\nL 256.371214 324.809554 \r\nL 257.209098 324.166866 \r\nL 258.046983 323.511994 \r\nL 258.884868 322.850607 \r\nL 259.722753 322.188862 \r\nL 260.560637 321.533295 \r\nL 261.398522 320.890705 \r\nL 262.236407 320.268015 \r\nL 263.074292 319.672124 \r\nL 263.912176 319.10975 \r\nL 264.750061 318.587272 \r\nL 265.587946 318.110569 \r\nL 266.425831 317.684873 \r\nL 267.263715 317.314629 \r\nL 268.1016 317.003377 \r\nL 268.939485 316.753654 \r\nL 269.77737 316.566925 \r\nL 270.615254 316.443538 \r\nL 271.453139 316.38272 \r\nL 272.291024 316.382599 \r\nL 273.128908 316.44026 \r\nL 273.966793 316.551833 \r\nL 274.804678 316.712609 \r\nL 275.642563 316.917181 \r\nL 276.480447 317.159604 \r\nL 277.318332 317.433569 \r\nL 278.156217 317.732587 \r\nL 278.994102 318.050176 \r\nL 279.831986 318.380035 \r\nL 280.669871 318.716221 \r\nL 281.507756 319.053298 \r\nL 282.345641 319.386469 \r\nL 283.183525 319.711682 \r\nL 284.02141 320.02571 \r\nL 284.859295 320.326194 \r\nL 285.69718 320.611664 \r\nL 286.535064 320.881519 \r\nL 287.372949 321.135984 \r\nL 288.210834 321.376043 \r\nL 289.048718 321.603342 \r\nL 289.886603 321.820079 \r\nL 290.724488 322.028879 \r\nL 291.562373 322.232659 \r\nL 292.400257 322.434495 \r\nL 293.238142 322.63748 \r\nL 294.076027 322.844607 \r\nL 294.913912 323.05864 \r\nL 295.751796 323.282023 \r\nL 296.589681 323.516788 \r\nL 297.427566 323.764497 \r\nL 298.265451 324.026193 \r\nL 299.103335 324.30238 \r\nL 299.94122 324.593023 \r\nL 300.779105 324.897564 \r\nL 301.61699 325.214955 \r\nL 302.454874 325.543714 \r\nL 303.292759 325.881981 \r\nL 304.130644 326.227593 \r\nL 304.968528 326.578156 \r\nL 305.806413 326.931131 \r\nL 306.644298 327.283908 \r\nL 307.482183 327.633881 \r\nL 308.320067 327.97852 \r\nL 309.157952 328.315432 \r\nL 309.995837 328.642414 \r\nL 310.833722 328.957498 \r\nL 311.671606 329.258979 \r\nL 312.509491 329.545443 \r\nL 313.347376 329.815772 \r\nL 314.185261 330.069149 \r\nL 315.023145 330.305053 \r\nL 315.86103 330.523242 \r\nL 316.698915 330.723731 \r\nL 317.5368 330.906771 \r\nL 318.374684 331.072817 \r\nL 319.212569 331.222499 \r\nL 320.050454 331.356588 \r\nL 320.888338 331.475967 \r\nL 321.726223 331.5816 \r\nL 322.564108 331.674502 \r\nL 323.401993 331.755717 \r\nL 324.239877 331.82629 \r\n\" style=\"fill:none;stroke:#2ca02c;stroke-linecap:square;stroke-width:1.5;\"/>\r\n   </g>\r\n  </g>\r\n  <g id=\"legend_1\">\r\n   <g id=\"text_22\">\r\n    <!-- cluster -->\r\n    <defs>\r\n     <path d=\"M 8.5 21.578125 \r\nL 8.5 54.6875 \r\nL 17.484375 54.6875 \r\nL 17.484375 21.921875 \r\nQ 17.484375 14.15625 20.5 10.265625 \r\nQ 23.53125 6.390625 29.59375 6.390625 \r\nQ 36.859375 6.390625 41.078125 11.03125 \r\nQ 45.3125 15.671875 45.3125 23.6875 \r\nL 45.3125 54.6875 \r\nL 54.296875 54.6875 \r\nL 54.296875 0 \r\nL 45.3125 0 \r\nL 45.3125 8.40625 \r\nQ 42.046875 3.421875 37.71875 1 \r\nQ 33.40625 -1.421875 27.6875 -1.421875 \r\nQ 18.265625 -1.421875 13.375 4.4375 \r\nQ 8.5 10.296875 8.5 21.578125 \r\nz\r\nM 31.109375 56 \r\nz\r\n\" id=\"DejaVuSans-117\"/>\r\n     <path d=\"M 18.3125 70.21875 \r\nL 18.3125 54.6875 \r\nL 36.8125 54.6875 \r\nL 36.8125 47.703125 \r\nL 18.3125 47.703125 \r\nL 18.3125 18.015625 \r\nQ 18.3125 11.328125 20.140625 9.421875 \r\nQ 21.96875 7.515625 27.59375 7.515625 \r\nL 36.8125 7.515625 \r\nL 36.8125 0 \r\nL 27.59375 0 \r\nQ 17.1875 0 13.234375 3.875 \r\nQ 9.28125 7.765625 9.28125 18.015625 \r\nL 9.28125 47.703125 \r\nL 2.6875 47.703125 \r\nL 2.6875 54.6875 \r\nL 9.28125 54.6875 \r\nL 9.28125 70.21875 \r\nz\r\n\" id=\"DejaVuSans-116\"/>\r\n    </defs>\r\n    <g transform=\"translate(386.08776 165.620312)scale(0.1 -0.1)\">\r\n     <use xlink:href=\"#DejaVuSans-99\"/>\r\n     <use x=\"54.980469\" xlink:href=\"#DejaVuSans-108\"/>\r\n     <use x=\"82.763672\" xlink:href=\"#DejaVuSans-117\"/>\r\n     <use x=\"146.142578\" xlink:href=\"#DejaVuSans-115\"/>\r\n     <use x=\"198.242188\" xlink:href=\"#DejaVuSans-116\"/>\r\n     <use x=\"237.451172\" xlink:href=\"#DejaVuSans-101\"/>\r\n     <use x=\"298.974609\" xlink:href=\"#DejaVuSans-114\"/>\r\n    </g>\r\n   </g>\r\n   <g id=\"PathCollection_7\">\r\n    <g>\r\n     <use style=\"fill:#1f77b4;stroke:#ffffff;stroke-width:0.75;\" x=\"395.910417\" xlink:href=\"#m2f289cf573\" y=\"177.673437\"/>\r\n    </g>\r\n   </g>\r\n   <g id=\"text_23\">\r\n    <!-- 1 -->\r\n    <g transform=\"translate(413.910417 180.298437)scale(0.1 -0.1)\">\r\n     <use xlink:href=\"#DejaVuSans-49\"/>\r\n    </g>\r\n   </g>\r\n   <g id=\"PathCollection_8\">\r\n    <g>\r\n     <use style=\"fill:#ff7f0e;stroke:#ffffff;stroke-width:0.75;\" x=\"395.910417\" xlink:href=\"#m0bf4695f53\" y=\"192.351562\"/>\r\n    </g>\r\n   </g>\r\n   <g id=\"text_24\">\r\n    <!-- 2 -->\r\n    <g transform=\"translate(413.910417 194.976562)scale(0.1 -0.1)\">\r\n     <use xlink:href=\"#DejaVuSans-50\"/>\r\n    </g>\r\n   </g>\r\n   <g id=\"PathCollection_9\">\r\n    <g>\r\n     <use style=\"fill:#2ca02c;stroke:#ffffff;stroke-width:0.75;\" x=\"395.910417\" xlink:href=\"#m10fd75b6b5\" y=\"207.029687\"/>\r\n    </g>\r\n   </g>\r\n   <g id=\"text_25\">\r\n    <!-- 3 -->\r\n    <g transform=\"translate(413.910417 209.654687)scale(0.1 -0.1)\">\r\n     <use xlink:href=\"#DejaVuSans-51\"/>\r\n    </g>\r\n   </g>\r\n  </g>\r\n </g>\r\n <defs>\r\n  <clipPath id=\"pfee3804b77\">\r\n   <rect height=\"157.5\" width=\"146.022253\" x=\"234.651913\" y=\"7.2\"/>\r\n  </clipPath>\r\n  <clipPath id=\"p7579ad33b8\">\r\n   <rect height=\"157.5\" width=\"146.022253\" x=\"66.053125\" y=\"174.7\"/>\r\n  </clipPath>\r\n  <clipPath id=\"pf6f2cea65a\">\r\n   <rect height=\"157.5\" width=\"146.022253\" x=\"66.053125\" y=\"7.2\"/>\r\n  </clipPath>\r\n  <clipPath id=\"p4bcddd2775\">\r\n   <rect height=\"157.5\" width=\"146.022253\" x=\"234.651913\" y=\"174.7\"/>\r\n  </clipPath>\r\n </defs>\r\n</svg>\r\n",
      "image/png": "[encoded data removed]"
     },
     "metadata": {
      "needs_background": "light"
     }
    }
   ],
   "source": [
    "columnas_seleccionadas=[\"confirmados\", \"fallecidos\"]\n",
    "plt.figure(figsize=(20,20))\n",
    "sns.pairplot(data=dataset_km_sub_concat, vars=columnas_seleccionadas, hue='cluster')"
   ]
  },
  {
   "source": [
    "### Análisis exploratorio de clusters   "
   ],
   "cell_type": "markdown",
   "metadata": {}
  },
  {
   "source": [
    "#### Cantidad de observaciones por cluster"
   ],
   "cell_type": "markdown",
   "metadata": {}
  },
  {
   "cell_type": "code",
   "execution_count": 28,
   "metadata": {},
   "outputs": [
    {
     "output_type": "execute_result",
     "data": {
      "text/plain": [
       "         observaciones\n",
       "cluster               \n",
       "1                   20\n",
       "2                    1\n",
       "3                    3"
      ],
      "text/html": "<div>\n<style scoped>\n    .dataframe tbody tr th:only-of-type {\n        vertical-align: middle;\n    }\n\n    .dataframe tbody tr th {\n        vertical-align: top;\n    }\n\n    .dataframe thead th {\n        text-align: right;\n    }\n</style>\n<table border=\"1\" class=\"dataframe\">\n  <thead>\n    <tr style=\"text-align: right;\">\n      <th></th>\n      <th>observaciones</th>\n    </tr>\n    <tr>\n      <th>cluster</th>\n      <th></th>\n    </tr>\n  </thead>\n  <tbody>\n    <tr>\n      <th>1</th>\n      <td>20</td>\n    </tr>\n    <tr>\n      <th>2</th>\n      <td>1</td>\n    </tr>\n    <tr>\n      <th>3</th>\n      <td>3</td>\n    </tr>\n  </tbody>\n</table>\n</div>"
     },
     "metadata": {},
     "execution_count": 28
    }
   ],
   "source": [
    "dataset_km_sub_concat_count = dataset_km_sub_concat.groupby(by=['cluster']).count()[['residencia_provincia_nombre']]\n",
    "dataset_km_sub_concat_count.columns = ['observaciones']\n",
    "dataset_km_sub_concat_count"
   ]
  },
  {
   "cell_type": "code",
   "execution_count": 29,
   "metadata": {},
   "outputs": [
    {
     "output_type": "execute_result",
     "data": {
      "text/plain": [
       "   residencia_provincia_nombre  confirmados  fallecidos  edad_promedio  \\\n",
       "2                    Catamarca          924           1      97.000000   \n",
       "3                        Chaco        12743         560      65.517857   \n",
       "4                       Chubut        13972         202      70.282178   \n",
       "5                   Corrientes         2482          47      67.808511   \n",
       "7                   Entre Ríos        15616         476      71.159664   \n",
       "8                      Formosa          151           2      54.000000   \n",
       "9                        Jujuy        16540         757      66.685185   \n",
       "10                    La Pampa         3184          58      72.293103   \n",
       "11                    La Rioja         7295         286      66.755245   \n",
       "12                     Mendoza        45716        1026      72.316764   \n",
       "\n",
       "    cuidado_intensivo  asistencia_respiratoria_mecanica  cluster  \n",
       "2                  35                                10        1  \n",
       "3                1004                               443        1  \n",
       "4                 177                                79        1  \n",
       "5                  85                                46        1  \n",
       "7                 439                               166        1  \n",
       "8                  44                                26        1  \n",
       "9                 188                               117        1  \n",
       "10                 88                                40        1  \n",
       "11                123                                40        1  \n",
       "12                626                               320        1  "
      ],
      "text/html": "<div>\n<style scoped>\n    .dataframe tbody tr th:only-of-type {\n        vertical-align: middle;\n    }\n\n    .dataframe tbody tr th {\n        vertical-align: top;\n    }\n\n    .dataframe thead th {\n        text-align: right;\n    }\n</style>\n<table border=\"1\" class=\"dataframe\">\n  <thead>\n    <tr style=\"text-align: right;\">\n      <th></th>\n      <th>residencia_provincia_nombre</th>\n      <th>confirmados</th>\n      <th>fallecidos</th>\n      <th>edad_promedio</th>\n      <th>cuidado_intensivo</th>\n      <th>asistencia_respiratoria_mecanica</th>\n      <th>cluster</th>\n    </tr>\n  </thead>\n  <tbody>\n    <tr>\n      <th>2</th>\n      <td>Catamarca</td>\n      <td>924</td>\n      <td>1</td>\n      <td>97.000000</td>\n      <td>35</td>\n      <td>10</td>\n      <td>1</td>\n    </tr>\n    <tr>\n      <th>3</th>\n      <td>Chaco</td>\n      <td>12743</td>\n      <td>560</td>\n      <td>65.517857</td>\n      <td>1004</td>\n      <td>443</td>\n      <td>1</td>\n    </tr>\n    <tr>\n      <th>4</th>\n      <td>Chubut</td>\n      <td>13972</td>\n      <td>202</td>\n      <td>70.282178</td>\n      <td>177</td>\n      <td>79</td>\n      <td>1</td>\n    </tr>\n    <tr>\n      <th>5</th>\n      <td>Corrientes</td>\n      <td>2482</td>\n      <td>47</td>\n      <td>67.808511</td>\n      <td>85</td>\n      <td>46</td>\n      <td>1</td>\n    </tr>\n    <tr>\n      <th>7</th>\n      <td>Entre Ríos</td>\n      <td>15616</td>\n      <td>476</td>\n      <td>71.159664</td>\n      <td>439</td>\n      <td>166</td>\n      <td>1</td>\n    </tr>\n    <tr>\n      <th>8</th>\n      <td>Formosa</td>\n      <td>151</td>\n      <td>2</td>\n      <td>54.000000</td>\n      <td>44</td>\n      <td>26</td>\n      <td>1</td>\n    </tr>\n    <tr>\n      <th>9</th>\n      <td>Jujuy</td>\n      <td>16540</td>\n      <td>757</td>\n      <td>66.685185</td>\n      <td>188</td>\n      <td>117</td>\n      <td>1</td>\n    </tr>\n    <tr>\n      <th>10</th>\n      <td>La Pampa</td>\n      <td>3184</td>\n      <td>58</td>\n      <td>72.293103</td>\n      <td>88</td>\n      <td>40</td>\n      <td>1</td>\n    </tr>\n    <tr>\n      <th>11</th>\n      <td>La Rioja</td>\n      <td>7295</td>\n      <td>286</td>\n      <td>66.755245</td>\n      <td>123</td>\n      <td>40</td>\n      <td>1</td>\n    </tr>\n    <tr>\n      <th>12</th>\n      <td>Mendoza</td>\n      <td>45716</td>\n      <td>1026</td>\n      <td>72.316764</td>\n      <td>626</td>\n      <td>320</td>\n      <td>1</td>\n    </tr>\n  </tbody>\n</table>\n</div>"
     },
     "metadata": {},
     "execution_count": 29
    }
   ],
   "source": [
    "dataset_km_sub_concat[(dataset_km_sub_concat['cluster'] == 1)].head(10)"
   ]
  },
  {
   "cell_type": "code",
   "execution_count": 30,
   "metadata": {},
   "outputs": [
    {
     "output_type": "execute_result",
     "data": {
      "text/plain": [
       "  residencia_provincia_nombre  confirmados  fallecidos  edad_promedio  \\\n",
       "0                Buenos Aires       535333       20381      71.615468   \n",
       "\n",
       "   cuidado_intensivo  asistencia_respiratoria_mecanica  cluster  \n",
       "0              13948                              5405        2  "
      ],
      "text/html": "<div>\n<style scoped>\n    .dataframe tbody tr th:only-of-type {\n        vertical-align: middle;\n    }\n\n    .dataframe tbody tr th {\n        vertical-align: top;\n    }\n\n    .dataframe thead th {\n        text-align: right;\n    }\n</style>\n<table border=\"1\" class=\"dataframe\">\n  <thead>\n    <tr style=\"text-align: right;\">\n      <th></th>\n      <th>residencia_provincia_nombre</th>\n      <th>confirmados</th>\n      <th>fallecidos</th>\n      <th>edad_promedio</th>\n      <th>cuidado_intensivo</th>\n      <th>asistencia_respiratoria_mecanica</th>\n      <th>cluster</th>\n    </tr>\n  </thead>\n  <tbody>\n    <tr>\n      <th>0</th>\n      <td>Buenos Aires</td>\n      <td>535333</td>\n      <td>20381</td>\n      <td>71.615468</td>\n      <td>13948</td>\n      <td>5405</td>\n      <td>2</td>\n    </tr>\n  </tbody>\n</table>\n</div>"
     },
     "metadata": {},
     "execution_count": 30
    }
   ],
   "source": [
    "dataset_km_sub_concat[(dataset_km_sub_concat['cluster'] == 2)]"
   ]
  },
  {
   "cell_type": "code",
   "execution_count": null,
   "metadata": {},
   "outputs": [],
   "source": []
  },
  {
   "cell_type": "code",
   "execution_count": 31,
   "metadata": {},
   "outputs": [
    {
     "output_type": "execute_result",
     "data": {
      "text/plain": [
       "   residencia_provincia_nombre  confirmados  fallecidos  edad_promedio  \\\n",
       "1                         CABA       143690        6045      76.649254   \n",
       "6                      Córdoba        80836        1364      73.166422   \n",
       "20                    Santa Fe       107340        1502      72.922104   \n",
       "\n",
       "    cuidado_intensivo  asistencia_respiratoria_mecanica  cluster  \n",
       "1                5178                              2169        3  \n",
       "6                2017                               529        3  \n",
       "20               1550                               701        3  "
      ],
      "text/html": "<div>\n<style scoped>\n    .dataframe tbody tr th:only-of-type {\n        vertical-align: middle;\n    }\n\n    .dataframe tbody tr th {\n        vertical-align: top;\n    }\n\n    .dataframe thead th {\n        text-align: right;\n    }\n</style>\n<table border=\"1\" class=\"dataframe\">\n  <thead>\n    <tr style=\"text-align: right;\">\n      <th></th>\n      <th>residencia_provincia_nombre</th>\n      <th>confirmados</th>\n      <th>fallecidos</th>\n      <th>edad_promedio</th>\n      <th>cuidado_intensivo</th>\n      <th>asistencia_respiratoria_mecanica</th>\n      <th>cluster</th>\n    </tr>\n  </thead>\n  <tbody>\n    <tr>\n      <th>1</th>\n      <td>CABA</td>\n      <td>143690</td>\n      <td>6045</td>\n      <td>76.649254</td>\n      <td>5178</td>\n      <td>2169</td>\n      <td>3</td>\n    </tr>\n    <tr>\n      <th>6</th>\n      <td>Córdoba</td>\n      <td>80836</td>\n      <td>1364</td>\n      <td>73.166422</td>\n      <td>2017</td>\n      <td>529</td>\n      <td>3</td>\n    </tr>\n    <tr>\n      <th>20</th>\n      <td>Santa Fe</td>\n      <td>107340</td>\n      <td>1502</td>\n      <td>72.922104</td>\n      <td>1550</td>\n      <td>701</td>\n      <td>3</td>\n    </tr>\n  </tbody>\n</table>\n</div>"
     },
     "metadata": {},
     "execution_count": 31
    }
   ],
   "source": [
    "dataset_km_sub_concat[(dataset_km_sub_concat['cluster'] == 3)].head(4)"
   ]
  },
  {
   "cell_type": "code",
   "execution_count": null,
   "metadata": {},
   "outputs": [],
   "source": []
  }
 ]
}