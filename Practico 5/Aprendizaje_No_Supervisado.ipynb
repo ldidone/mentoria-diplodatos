{
 "metadata": {
  "language_info": {
   "codemirror_mode": {
    "name": "ipython",
    "version": 3
   },
   "file_extension": ".py",
   "mimetype": "text/x-python",
   "name": "python",
   "nbconvert_exporter": "python",
   "pygments_lexer": "ipython3",
   "version": "3.7.6-final"
  },
  "orig_nbformat": 2,
  "kernelspec": {
   "name": "python3",
   "display_name": "Python 3"
  }
 },
 "nbformat": 4,
 "nbformat_minor": 2,
 "cells": [
  {
   "source": [
    "### Carga de datos"
   ],
   "cell_type": "markdown",
   "metadata": {}
  },
  {
   "cell_type": "code",
   "execution_count": 118,
   "metadata": {},
   "outputs": [],
   "source": [
    "# Importamos librerías necesarias\n",
    "\n",
    "import pandas as pd\n",
    "import numpy as np\n",
    "import matplotlib.pyplot as plt\n",
    "from plotly.offline import init_notebook_mode, plot,iplot\n",
    "import plotly.graph_objs as go\n",
    "import plotly.tools as tls#visualization\n",
    "import plotly.figure_factory as ff#visualization\n",
    "import seaborn as sns"
   ]
  },
  {
   "source": [
    "### Experimentación con el dataset: Covid19Casos"
   ],
   "cell_type": "markdown",
   "metadata": {}
  },
  {
   "source": [
    "##### Dataset - Covid19Casos\n",
    "- Source: http://datos.salud.gob.ar/dataset/covid-19-casos-registrados-en-la-republica-argentina/archivo/fd657d02-a33a-498b-a91b-2ef1a68b8d16"
   ],
   "cell_type": "markdown",
   "metadata": {}
  },
  {
   "cell_type": "code",
   "execution_count": 119,
   "metadata": {},
   "outputs": [],
   "source": [
    "url = 'https://sisa.msal.gov.ar/datos/descargas/covid-19/files/Covid19Casos.csv'\n",
    "\n",
    "df = pd.read_csv(url, error_bad_lines=False)"
   ]
  },
  {
   "cell_type": "code",
   "execution_count": 120,
   "metadata": {},
   "outputs": [],
   "source": [
    "dataset = df.copy(deep=True)"
   ]
  },
  {
   "cell_type": "code",
   "execution_count": 121,
   "metadata": {},
   "outputs": [
    {
     "output_type": "execute_result",
     "data": {
      "text/plain": [
       "   id_evento_caso sexo  edad edad_años_meses residencia_pais_nombre  \\\n",
       "0         1000000    M  53.0            Años              Argentina   \n",
       "1         1000002    M  21.0            Años              Argentina   \n",
       "2         1000003    F  40.0            Años              Argentina   \n",
       "3         1000005    F  58.0            Años              Argentina   \n",
       "4         1000006    M  28.0            Años              Argentina   \n",
       "5         1000007    M  26.0            Años              Argentina   \n",
       "6         1000008    F  69.0            Años              Argentina   \n",
       "7         1000009    M  73.0            Años              Argentina   \n",
       "8         1000010    M   7.0            Años              Argentina   \n",
       "9         1000011    M  42.0            Años              Argentina   \n",
       "\n",
       "  residencia_provincia_nombre residencia_departamento_nombre  \\\n",
       "0                        CABA                SIN ESPECIFICAR   \n",
       "1                Buenos Aires                     La Matanza   \n",
       "2                     Córdoba                        Capital   \n",
       "3                     Mendoza                      Las Heras   \n",
       "4                Buenos Aires            Malvinas Argentinas   \n",
       "5                     Formosa                         Patiño   \n",
       "6                        CABA                SIN ESPECIFICAR   \n",
       "7                Buenos Aires             Esteban Echeverría   \n",
       "8                        CABA                      COMUNA 07   \n",
       "9                    Santa Fe                        Rosario   \n",
       "\n",
       "  carga_provincia_nombre fecha_inicio_sintomas fecha_apertura  ...  \\\n",
       "0           Buenos Aires                   NaN     2020-06-01  ...   \n",
       "1           Buenos Aires                   NaN     2020-06-01  ...   \n",
       "2                Córdoba            2020-05-24     2020-06-01  ...   \n",
       "3                Mendoza                   NaN     2020-06-01  ...   \n",
       "4           Buenos Aires            2020-05-30     2020-06-01  ...   \n",
       "5                Formosa                   NaN     2020-06-01  ...   \n",
       "6                   CABA            2020-05-31     2020-06-01  ...   \n",
       "7           Buenos Aires            2020-05-31     2020-06-01  ...   \n",
       "8                   CABA                   NaN     2020-06-01  ...   \n",
       "9               Santa Fe                   NaN     2020-06-01  ...   \n",
       "\n",
       "   fecha_fallecimiento asistencia_respiratoria_mecanica carga_provincia_id  \\\n",
       "0                  NaN                               NO                  6   \n",
       "1                  NaN                               NO                  6   \n",
       "2                  NaN                               NO                 14   \n",
       "3                  NaN                               NO                 50   \n",
       "4                  NaN                               NO                  6   \n",
       "5                  NaN                               NO                 34   \n",
       "6                  NaN                               NO                  2   \n",
       "7                  NaN                               NO                  6   \n",
       "8                  NaN                               NO                  2   \n",
       "9                  NaN                               NO                 82   \n",
       "\n",
       "  origen_financiamiento                                      clasificacion  \\\n",
       "0               Privado                                    Caso Descartado   \n",
       "1               Público                                    Caso Descartado   \n",
       "2               Privado                                    Caso Descartado   \n",
       "3               Público                                    Caso Descartado   \n",
       "4               Público  Caso sospechoso - No Activo - Con muestra sin ...   \n",
       "5               Público  Caso confirmado por laboratorio - No Activo po...   \n",
       "6               Privado                                    Caso Descartado   \n",
       "7               Privado                                    Caso Descartado   \n",
       "8               Público  Caso confirmado por laboratorio - No activo (p...   \n",
       "9               Público                                    Caso Descartado   \n",
       "\n",
       "  clasificacion_resumen residencia_provincia_id  fecha_diagnostico  \\\n",
       "0            Descartado                       2         2020-06-09   \n",
       "1            Descartado                       6         2020-06-01   \n",
       "2            Descartado                      14         2020-06-01   \n",
       "3            Descartado                      50         2020-06-01   \n",
       "4            Sospechoso                       6                NaN   \n",
       "5            Confirmado                      34         2020-06-25   \n",
       "6            Descartado                       2         2020-06-01   \n",
       "7            Descartado                       6         2020-06-02   \n",
       "8            Confirmado                       2         2020-06-01   \n",
       "9            Descartado                      82         2020-06-01   \n",
       "\n",
       "  residencia_departamento_id ultima_actualizacion  \n",
       "0                          0           2020-10-29  \n",
       "1                        427           2020-10-29  \n",
       "2                         14           2020-10-29  \n",
       "3                         49           2020-10-29  \n",
       "4                        515           2020-10-29  \n",
       "5                         35           2020-10-29  \n",
       "6                          0           2020-10-29  \n",
       "7                        260           2020-10-29  \n",
       "8                          7           2020-10-29  \n",
       "9                         84           2020-10-29  \n",
       "\n",
       "[10 rows x 25 columns]"
      ],
      "text/html": "<div>\n<style scoped>\n    .dataframe tbody tr th:only-of-type {\n        vertical-align: middle;\n    }\n\n    .dataframe tbody tr th {\n        vertical-align: top;\n    }\n\n    .dataframe thead th {\n        text-align: right;\n    }\n</style>\n<table border=\"1\" class=\"dataframe\">\n  <thead>\n    <tr style=\"text-align: right;\">\n      <th></th>\n      <th>id_evento_caso</th>\n      <th>sexo</th>\n      <th>edad</th>\n      <th>edad_años_meses</th>\n      <th>residencia_pais_nombre</th>\n      <th>residencia_provincia_nombre</th>\n      <th>residencia_departamento_nombre</th>\n      <th>carga_provincia_nombre</th>\n      <th>fecha_inicio_sintomas</th>\n      <th>fecha_apertura</th>\n      <th>...</th>\n      <th>fecha_fallecimiento</th>\n      <th>asistencia_respiratoria_mecanica</th>\n      <th>carga_provincia_id</th>\n      <th>origen_financiamiento</th>\n      <th>clasificacion</th>\n      <th>clasificacion_resumen</th>\n      <th>residencia_provincia_id</th>\n      <th>fecha_diagnostico</th>\n      <th>residencia_departamento_id</th>\n      <th>ultima_actualizacion</th>\n    </tr>\n  </thead>\n  <tbody>\n    <tr>\n      <th>0</th>\n      <td>1000000</td>\n      <td>M</td>\n      <td>53.0</td>\n      <td>Años</td>\n      <td>Argentina</td>\n      <td>CABA</td>\n      <td>SIN ESPECIFICAR</td>\n      <td>Buenos Aires</td>\n      <td>NaN</td>\n      <td>2020-06-01</td>\n      <td>...</td>\n      <td>NaN</td>\n      <td>NO</td>\n      <td>6</td>\n      <td>Privado</td>\n      <td>Caso Descartado</td>\n      <td>Descartado</td>\n      <td>2</td>\n      <td>2020-06-09</td>\n      <td>0</td>\n      <td>2020-10-29</td>\n    </tr>\n    <tr>\n      <th>1</th>\n      <td>1000002</td>\n      <td>M</td>\n      <td>21.0</td>\n      <td>Años</td>\n      <td>Argentina</td>\n      <td>Buenos Aires</td>\n      <td>La Matanza</td>\n      <td>Buenos Aires</td>\n      <td>NaN</td>\n      <td>2020-06-01</td>\n      <td>...</td>\n      <td>NaN</td>\n      <td>NO</td>\n      <td>6</td>\n      <td>Público</td>\n      <td>Caso Descartado</td>\n      <td>Descartado</td>\n      <td>6</td>\n      <td>2020-06-01</td>\n      <td>427</td>\n      <td>2020-10-29</td>\n    </tr>\n    <tr>\n      <th>2</th>\n      <td>1000003</td>\n      <td>F</td>\n      <td>40.0</td>\n      <td>Años</td>\n      <td>Argentina</td>\n      <td>Córdoba</td>\n      <td>Capital</td>\n      <td>Córdoba</td>\n      <td>2020-05-24</td>\n      <td>2020-06-01</td>\n      <td>...</td>\n      <td>NaN</td>\n      <td>NO</td>\n      <td>14</td>\n      <td>Privado</td>\n      <td>Caso Descartado</td>\n      <td>Descartado</td>\n      <td>14</td>\n      <td>2020-06-01</td>\n      <td>14</td>\n      <td>2020-10-29</td>\n    </tr>\n    <tr>\n      <th>3</th>\n      <td>1000005</td>\n      <td>F</td>\n      <td>58.0</td>\n      <td>Años</td>\n      <td>Argentina</td>\n      <td>Mendoza</td>\n      <td>Las Heras</td>\n      <td>Mendoza</td>\n      <td>NaN</td>\n      <td>2020-06-01</td>\n      <td>...</td>\n      <td>NaN</td>\n      <td>NO</td>\n      <td>50</td>\n      <td>Público</td>\n      <td>Caso Descartado</td>\n      <td>Descartado</td>\n      <td>50</td>\n      <td>2020-06-01</td>\n      <td>49</td>\n      <td>2020-10-29</td>\n    </tr>\n    <tr>\n      <th>4</th>\n      <td>1000006</td>\n      <td>M</td>\n      <td>28.0</td>\n      <td>Años</td>\n      <td>Argentina</td>\n      <td>Buenos Aires</td>\n      <td>Malvinas Argentinas</td>\n      <td>Buenos Aires</td>\n      <td>2020-05-30</td>\n      <td>2020-06-01</td>\n      <td>...</td>\n      <td>NaN</td>\n      <td>NO</td>\n      <td>6</td>\n      <td>Público</td>\n      <td>Caso sospechoso - No Activo - Con muestra sin ...</td>\n      <td>Sospechoso</td>\n      <td>6</td>\n      <td>NaN</td>\n      <td>515</td>\n      <td>2020-10-29</td>\n    </tr>\n    <tr>\n      <th>5</th>\n      <td>1000007</td>\n      <td>M</td>\n      <td>26.0</td>\n      <td>Años</td>\n      <td>Argentina</td>\n      <td>Formosa</td>\n      <td>Patiño</td>\n      <td>Formosa</td>\n      <td>NaN</td>\n      <td>2020-06-01</td>\n      <td>...</td>\n      <td>NaN</td>\n      <td>NO</td>\n      <td>34</td>\n      <td>Público</td>\n      <td>Caso confirmado por laboratorio - No Activo po...</td>\n      <td>Confirmado</td>\n      <td>34</td>\n      <td>2020-06-25</td>\n      <td>35</td>\n      <td>2020-10-29</td>\n    </tr>\n    <tr>\n      <th>6</th>\n      <td>1000008</td>\n      <td>F</td>\n      <td>69.0</td>\n      <td>Años</td>\n      <td>Argentina</td>\n      <td>CABA</td>\n      <td>SIN ESPECIFICAR</td>\n      <td>CABA</td>\n      <td>2020-05-31</td>\n      <td>2020-06-01</td>\n      <td>...</td>\n      <td>NaN</td>\n      <td>NO</td>\n      <td>2</td>\n      <td>Privado</td>\n      <td>Caso Descartado</td>\n      <td>Descartado</td>\n      <td>2</td>\n      <td>2020-06-01</td>\n      <td>0</td>\n      <td>2020-10-29</td>\n    </tr>\n    <tr>\n      <th>7</th>\n      <td>1000009</td>\n      <td>M</td>\n      <td>73.0</td>\n      <td>Años</td>\n      <td>Argentina</td>\n      <td>Buenos Aires</td>\n      <td>Esteban Echeverría</td>\n      <td>Buenos Aires</td>\n      <td>2020-05-31</td>\n      <td>2020-06-01</td>\n      <td>...</td>\n      <td>NaN</td>\n      <td>NO</td>\n      <td>6</td>\n      <td>Privado</td>\n      <td>Caso Descartado</td>\n      <td>Descartado</td>\n      <td>6</td>\n      <td>2020-06-02</td>\n      <td>260</td>\n      <td>2020-10-29</td>\n    </tr>\n    <tr>\n      <th>8</th>\n      <td>1000010</td>\n      <td>M</td>\n      <td>7.0</td>\n      <td>Años</td>\n      <td>Argentina</td>\n      <td>CABA</td>\n      <td>COMUNA 07</td>\n      <td>CABA</td>\n      <td>NaN</td>\n      <td>2020-06-01</td>\n      <td>...</td>\n      <td>NaN</td>\n      <td>NO</td>\n      <td>2</td>\n      <td>Público</td>\n      <td>Caso confirmado por laboratorio - No activo (p...</td>\n      <td>Confirmado</td>\n      <td>2</td>\n      <td>2020-06-01</td>\n      <td>7</td>\n      <td>2020-10-29</td>\n    </tr>\n    <tr>\n      <th>9</th>\n      <td>1000011</td>\n      <td>M</td>\n      <td>42.0</td>\n      <td>Años</td>\n      <td>Argentina</td>\n      <td>Santa Fe</td>\n      <td>Rosario</td>\n      <td>Santa Fe</td>\n      <td>NaN</td>\n      <td>2020-06-01</td>\n      <td>...</td>\n      <td>NaN</td>\n      <td>NO</td>\n      <td>82</td>\n      <td>Público</td>\n      <td>Caso Descartado</td>\n      <td>Descartado</td>\n      <td>82</td>\n      <td>2020-06-01</td>\n      <td>84</td>\n      <td>2020-10-29</td>\n    </tr>\n  </tbody>\n</table>\n<p>10 rows × 25 columns</p>\n</div>"
     },
     "metadata": {},
     "execution_count": 121
    }
   ],
   "source": [
    "dataset.head(10)"
   ]
  },
  {
   "source": [
    "## Limpieza, Preprocesado y Feature Engineering"
   ],
   "cell_type": "markdown",
   "metadata": {}
  },
  {
   "source": [
    "### Edad"
   ],
   "cell_type": "markdown",
   "metadata": {}
  },
  {
   "cell_type": "code",
   "execution_count": 122,
   "metadata": {},
   "outputs": [],
   "source": [
    "# Paso meses a años (cuando la edad está expresada en meses)\n",
    "dataset['edad'].loc[dataset.edad_años_meses == 'Meses'] = 0"
   ]
  },
  {
   "cell_type": "code",
   "execution_count": 123,
   "metadata": {},
   "outputs": [],
   "source": [
    "# Eliminamos la columna edad_años_meses\n",
    "dataset.drop(['edad_años_meses'], axis=1, inplace=True)"
   ]
  },
  {
   "source": [
    "### Lugares"
   ],
   "cell_type": "markdown",
   "metadata": {}
  },
  {
   "source": [
    "#### País<br/>\n",
    "- Se conservan sólo los datos de personas residentes en Argentina"
   ],
   "cell_type": "markdown",
   "metadata": {}
  },
  {
   "cell_type": "code",
   "execution_count": 124,
   "metadata": {},
   "outputs": [],
   "source": [
    "dataset.drop(dataset[dataset.residencia_pais_nombre != \"Argentina\"].index, inplace=True)"
   ]
  },
  {
   "cell_type": "code",
   "execution_count": 125,
   "metadata": {},
   "outputs": [],
   "source": [
    "#Elimino la columna país porque todos los registros tienen el mismo valor\n",
    "dataset.drop(['residencia_pais_nombre'], axis=1, inplace=True)"
   ]
  },
  {
   "source": [
    "#### Provincia"
   ],
   "cell_type": "markdown",
   "metadata": {}
  },
  {
   "cell_type": "code",
   "execution_count": 126,
   "metadata": {},
   "outputs": [],
   "source": [
    "#Se elimina la variable carga_provincia_nombre\n",
    "dataset.drop(['carga_provincia_nombre'], axis=1, inplace=True)"
   ]
  },
  {
   "cell_type": "code",
   "execution_count": 127,
   "metadata": {},
   "outputs": [],
   "source": [
    "#Se quitan los registros con provincia \"SIN ESPECIFICAR\"\n",
    "dataset.drop(dataset[dataset.residencia_provincia_nombre == \"SIN ESPECIFICAR\"].index, inplace=True)"
   ]
  },
  {
   "source": [
    "## Clustering"
   ],
   "cell_type": "markdown",
   "metadata": {}
  },
  {
   "source": [
    "### Pre-procesamiento del dataset<br />\n",
    "Se divide el dataset principal en cuatro sub dataset agrupando por provincia de acuerdo a las siguientes variables de interés:\n",
    "- Casos confirmados\n",
    "- Fallecidos\n",
    "- Cantidad de casos en cuidados intensivos\n",
    "- Cantidad de casos con asistencia respiratoria mecánica"
   ],
   "cell_type": "markdown",
   "metadata": {}
  },
  {
   "cell_type": "code",
   "execution_count": 148,
   "metadata": {},
   "outputs": [],
   "source": [
    "# Dataset de confirmados por provincia\n",
    "ds_confirmados = dataset[(dataset[\"clasificacion_resumen\"] == \"Confirmado\")].groupby(['residencia_provincia_nombre']).size().reset_index(name='confirmados')\n",
    "ds_confirmados.reset_index(inplace=True)"
   ]
  },
  {
   "cell_type": "code",
   "execution_count": 149,
   "metadata": {},
   "outputs": [],
   "source": [
    "# Dataset de fallecidos por provincia\n",
    "ds_fallecidos = dataset[(dataset[\"fallecido\"] == \"SI\")].groupby(['residencia_provincia_nombre']).agg({'residencia_provincia_nombre':'size', 'edad':'mean'}).rename(columns={'residencia_provincia_nombre':'fallecidos','edad':'edad_promedio'})\n",
    "ds_fallecidos.reset_index(inplace=True)"
   ]
  },
  {
   "cell_type": "code",
   "execution_count": 150,
   "metadata": {},
   "outputs": [],
   "source": [
    "# Dataset de cuidados intensivos por provincia\n",
    "ds_cuidado_intensivo = dataset[(dataset[\"cuidado_intensivo\"] == \"SI\")].groupby(['residencia_provincia_nombre']).size().reset_index(name='cuidado_intensivo')\n",
    "ds_cuidado_intensivo.reset_index(inplace=True)"
   ]
  },
  {
   "cell_type": "code",
   "execution_count": 151,
   "metadata": {},
   "outputs": [],
   "source": [
    "# Dataset de cuidados intensivos por provincia\n",
    "ds_asistencia_respiratoria = dataset[(dataset[\"asistencia_respiratoria_mecanica\"] == \"SI\")].groupby(['residencia_provincia_nombre']).size().reset_index(name='asistencia_respiratoria_mecanica')\n",
    "ds_asistencia_respiratoria.reset_index(inplace=True)"
   ]
  },
  {
   "source": [
    "Luego, se hace combinan los cuatro sub datasets en un dataset final, el cual se utilizará para los algoritmos de clustering."
   ],
   "cell_type": "markdown",
   "metadata": {}
  },
  {
   "cell_type": "code",
   "execution_count": 152,
   "metadata": {},
   "outputs": [],
   "source": [
    "dataset_final = ds_confirmados.merge(ds_fallecidos).merge(ds_cuidado_intensivo).merge(ds_asistencia_respiratoria)\n",
    "dataset_final.drop(['index'], axis=1, inplace=True)"
   ]
  },
  {
   "cell_type": "code",
   "execution_count": 153,
   "metadata": {},
   "outputs": [
    {
     "output_type": "execute_result",
     "data": {
      "text/plain": [
       "  residencia_provincia_nombre  confirmados  fallecidos  edad_promedio  \\\n",
       "0                Buenos Aires       524923       19864      71.603023   \n",
       "1                        CABA       142120        5924      76.635641   \n",
       "2                   Catamarca          694           1      97.000000   \n",
       "3                       Chaco        12257         549      65.318761   \n",
       "4                      Chubut        13095         192      69.625000   \n",
       "\n",
       "   cuidado_intensivo  asistencia_respiratoria_mecanica  \n",
       "0              13726                              5320  \n",
       "1               5127                              2152  \n",
       "2                 35                                10  \n",
       "3                994                               435  \n",
       "4                174                                77  "
      ],
      "text/html": "<div>\n<style scoped>\n    .dataframe tbody tr th:only-of-type {\n        vertical-align: middle;\n    }\n\n    .dataframe tbody tr th {\n        vertical-align: top;\n    }\n\n    .dataframe thead th {\n        text-align: right;\n    }\n</style>\n<table border=\"1\" class=\"dataframe\">\n  <thead>\n    <tr style=\"text-align: right;\">\n      <th></th>\n      <th>residencia_provincia_nombre</th>\n      <th>confirmados</th>\n      <th>fallecidos</th>\n      <th>edad_promedio</th>\n      <th>cuidado_intensivo</th>\n      <th>asistencia_respiratoria_mecanica</th>\n    </tr>\n  </thead>\n  <tbody>\n    <tr>\n      <th>0</th>\n      <td>Buenos Aires</td>\n      <td>524923</td>\n      <td>19864</td>\n      <td>71.603023</td>\n      <td>13726</td>\n      <td>5320</td>\n    </tr>\n    <tr>\n      <th>1</th>\n      <td>CABA</td>\n      <td>142120</td>\n      <td>5924</td>\n      <td>76.635641</td>\n      <td>5127</td>\n      <td>2152</td>\n    </tr>\n    <tr>\n      <th>2</th>\n      <td>Catamarca</td>\n      <td>694</td>\n      <td>1</td>\n      <td>97.000000</td>\n      <td>35</td>\n      <td>10</td>\n    </tr>\n    <tr>\n      <th>3</th>\n      <td>Chaco</td>\n      <td>12257</td>\n      <td>549</td>\n      <td>65.318761</td>\n      <td>994</td>\n      <td>435</td>\n    </tr>\n    <tr>\n      <th>4</th>\n      <td>Chubut</td>\n      <td>13095</td>\n      <td>192</td>\n      <td>69.625000</td>\n      <td>174</td>\n      <td>77</td>\n    </tr>\n  </tbody>\n</table>\n</div>"
     },
     "metadata": {},
     "execution_count": 153
    }
   ],
   "source": [
    "dataset_final.head(5)"
   ]
  },
  {
   "source": [
    "### Análisis de correlación entre las variables del dataset final"
   ],
   "cell_type": "markdown",
   "metadata": {}
  },
  {
   "cell_type": "code",
   "execution_count": 154,
   "metadata": {},
   "outputs": [
    {
     "output_type": "execute_result",
     "data": {
      "text/plain": [
       "<matplotlib.axes._subplots.AxesSubplot at 0x1da37076b08>"
      ]
     },
     "metadata": {},
     "execution_count": 154
    },
    {
     "output_type": "display_data",
     "data": {
      "text/plain": "<Figure size 864x864 with 2 Axes>",
      "image/svg+xml": "<?xml version=\"1.0\" encoding=\"utf-8\" standalone=\"no\"?>\r\n<!DOCTYPE svg PUBLIC \"-//W3C//DTD SVG 1.1//EN\"\r\n  \"http://www.w3.org/Graphics/SVG/1.1/DTD/svg11.dtd\">\r\n<!-- Created with matplotlib (https://matplotlib.org/) -->\r\n<svg height=\"785.272656pt\" version=\"1.1\" viewBox=\"0 0 656.035375 785.272656\" width=\"656.035375pt\" xmlns=\"http://www.w3.org/2000/svg\" xmlns:xlink=\"http://www.w3.org/1999/xlink\">\r\n <defs>\r\n  <style type=\"text/css\">\r\n*{stroke-linecap:butt;stroke-linejoin:round;}\r\n  </style>\r\n </defs>\r\n <g id=\"figure_1\">\r\n  <g id=\"patch_1\">\r\n   <path d=\"M 0 785.272656 \r\nL 656.035375 785.272656 \r\nL 656.035375 0 \r\nL 0 0 \r\nz\r\n\" style=\"fill:none;\"/>\r\n  </g>\r\n  <g id=\"axes_1\">\r\n   <g id=\"patch_2\">\r\n    <path d=\"M 24.15625 604.999219 \r\nL 559.83625 604.999219 \r\nL 559.83625 69.319219 \r\nL 24.15625 69.319219 \r\nz\r\n\" style=\"fill:#ffffff;\"/>\r\n   </g>\r\n   <g id=\"QuadMesh_1\">\r\n    <path clip-path=\"url(#pfa8dc29d14)\" d=\"M 24.15625 69.319219 \r\nL 131.29225 69.319219 \r\nL 131.29225 176.455219 \r\nL 24.15625 176.455219 \r\nL 24.15625 69.319219 \r\n\" style=\"fill:#faebdd;stroke:#ffffff;stroke-width:0.1;\"/>\r\n    <path clip-path=\"url(#pfa8dc29d14)\" d=\"M 131.29225 69.319219 \r\nL 238.42825 69.319219 \r\nL 238.42825 176.455219 \r\nL 131.29225 176.455219 \r\nL 131.29225 69.319219 \r\n\" style=\"fill:#fae6d6;stroke:#ffffff;stroke-width:0.1;\"/>\r\n    <path clip-path=\"url(#pfa8dc29d14)\" d=\"M 238.42825 69.319219 \r\nL 345.56425 69.319219 \r\nL 345.56425 176.455219 \r\nL 238.42825 176.455219 \r\nL 238.42825 69.319219 \r\n\" style=\"fill:#06071c;stroke:#ffffff;stroke-width:0.1;\"/>\r\n    <path clip-path=\"url(#pfa8dc29d14)\" d=\"M 345.56425 69.319219 \r\nL 452.70025 69.319219 \r\nL 452.70025 176.455219 \r\nL 345.56425 176.455219 \r\nL 345.56425 69.319219 \r\n\" style=\"fill:#fae6d6;stroke:#ffffff;stroke-width:0.1;\"/>\r\n    <path clip-path=\"url(#pfa8dc29d14)\" d=\"M 452.70025 69.319219 \r\nL 559.83625 69.319219 \r\nL 559.83625 176.455219 \r\nL 452.70025 176.455219 \r\nL 452.70025 69.319219 \r\n\" style=\"fill:#f9e5d4;stroke:#ffffff;stroke-width:0.1;\"/>\r\n    <path clip-path=\"url(#pfa8dc29d14)\" d=\"M 24.15625 176.455219 \r\nL 131.29225 176.455219 \r\nL 131.29225 283.591219 \r\nL 24.15625 283.591219 \r\nL 24.15625 176.455219 \r\n\" style=\"fill:#fae6d6;stroke:#ffffff;stroke-width:0.1;\"/>\r\n    <path clip-path=\"url(#pfa8dc29d14)\" d=\"M 131.29225 176.455219 \r\nL 238.42825 176.455219 \r\nL 238.42825 283.591219 \r\nL 131.29225 283.591219 \r\nL 131.29225 176.455219 \r\n\" style=\"fill:#faebdd;stroke:#ffffff;stroke-width:0.1;\"/>\r\n    <path clip-path=\"url(#pfa8dc29d14)\" d=\"M 238.42825 176.455219 \r\nL 345.56425 176.455219 \r\nL 345.56425 283.591219 \r\nL 238.42825 283.591219 \r\nL 238.42825 176.455219 \r\n\" style=\"fill:#03051a;stroke:#ffffff;stroke-width:0.1;\"/>\r\n    <path clip-path=\"url(#pfa8dc29d14)\" d=\"M 345.56425 176.455219 \r\nL 452.70025 176.455219 \r\nL 452.70025 283.591219 \r\nL 345.56425 283.591219 \r\nL 345.56425 176.455219 \r\n\" style=\"fill:#fae9da;stroke:#ffffff;stroke-width:0.1;\"/>\r\n    <path clip-path=\"url(#pfa8dc29d14)\" d=\"M 452.70025 176.455219 \r\nL 559.83625 176.455219 \r\nL 559.83625 283.591219 \r\nL 452.70025 283.591219 \r\nL 452.70025 176.455219 \r\n\" style=\"fill:#fae8d8;stroke:#ffffff;stroke-width:0.1;\"/>\r\n    <path clip-path=\"url(#pfa8dc29d14)\" d=\"M 24.15625 283.591219 \r\nL 131.29225 283.591219 \r\nL 131.29225 390.727219 \r\nL 24.15625 390.727219 \r\nL 24.15625 283.591219 \r\n\" style=\"fill:#06071c;stroke:#ffffff;stroke-width:0.1;\"/>\r\n    <path clip-path=\"url(#pfa8dc29d14)\" d=\"M 131.29225 283.591219 \r\nL 238.42825 283.591219 \r\nL 238.42825 390.727219 \r\nL 131.29225 390.727219 \r\nL 131.29225 283.591219 \r\n\" style=\"fill:#03051a;stroke:#ffffff;stroke-width:0.1;\"/>\r\n    <path clip-path=\"url(#pfa8dc29d14)\" d=\"M 238.42825 283.591219 \r\nL 345.56425 283.591219 \r\nL 345.56425 390.727219 \r\nL 238.42825 390.727219 \r\nL 238.42825 283.591219 \r\n\" style=\"fill:#faebdd;stroke:#ffffff;stroke-width:0.1;\"/>\r\n    <path clip-path=\"url(#pfa8dc29d14)\" d=\"M 345.56425 283.591219 \r\nL 452.70025 283.591219 \r\nL 452.70025 390.727219 \r\nL 345.56425 390.727219 \r\nL 345.56425 283.591219 \r\n\" style=\"fill:#0a091f;stroke:#ffffff;stroke-width:0.1;\"/>\r\n    <path clip-path=\"url(#pfa8dc29d14)\" d=\"M 452.70025 283.591219 \r\nL 559.83625 283.591219 \r\nL 559.83625 390.727219 \r\nL 452.70025 390.727219 \r\nL 452.70025 283.591219 \r\n\" style=\"fill:#08081e;stroke:#ffffff;stroke-width:0.1;\"/>\r\n    <path clip-path=\"url(#pfa8dc29d14)\" d=\"M 24.15625 390.727219 \r\nL 131.29225 390.727219 \r\nL 131.29225 497.863219 \r\nL 24.15625 497.863219 \r\nL 24.15625 390.727219 \r\n\" style=\"fill:#fae6d6;stroke:#ffffff;stroke-width:0.1;\"/>\r\n    <path clip-path=\"url(#pfa8dc29d14)\" d=\"M 131.29225 390.727219 \r\nL 238.42825 390.727219 \r\nL 238.42825 497.863219 \r\nL 131.29225 497.863219 \r\nL 131.29225 390.727219 \r\n\" style=\"fill:#fae9da;stroke:#ffffff;stroke-width:0.1;\"/>\r\n    <path clip-path=\"url(#pfa8dc29d14)\" d=\"M 238.42825 390.727219 \r\nL 345.56425 390.727219 \r\nL 345.56425 497.863219 \r\nL 238.42825 497.863219 \r\nL 238.42825 390.727219 \r\n\" style=\"fill:#0a091f;stroke:#ffffff;stroke-width:0.1;\"/>\r\n    <path clip-path=\"url(#pfa8dc29d14)\" d=\"M 345.56425 390.727219 \r\nL 452.70025 390.727219 \r\nL 452.70025 497.863219 \r\nL 345.56425 497.863219 \r\nL 345.56425 390.727219 \r\n\" style=\"fill:#faebdd;stroke:#ffffff;stroke-width:0.1;\"/>\r\n    <path clip-path=\"url(#pfa8dc29d14)\" d=\"M 452.70025 390.727219 \r\nL 559.83625 390.727219 \r\nL 559.83625 497.863219 \r\nL 452.70025 497.863219 \r\nL 452.70025 390.727219 \r\n\" style=\"fill:#faebdd;stroke:#ffffff;stroke-width:0.1;\"/>\r\n    <path clip-path=\"url(#pfa8dc29d14)\" d=\"M 24.15625 497.863219 \r\nL 131.29225 497.863219 \r\nL 131.29225 604.999219 \r\nL 24.15625 604.999219 \r\nL 24.15625 497.863219 \r\n\" style=\"fill:#f9e5d4;stroke:#ffffff;stroke-width:0.1;\"/>\r\n    <path clip-path=\"url(#pfa8dc29d14)\" d=\"M 131.29225 497.863219 \r\nL 238.42825 497.863219 \r\nL 238.42825 604.999219 \r\nL 131.29225 604.999219 \r\nL 131.29225 497.863219 \r\n\" style=\"fill:#fae8d8;stroke:#ffffff;stroke-width:0.1;\"/>\r\n    <path clip-path=\"url(#pfa8dc29d14)\" d=\"M 238.42825 497.863219 \r\nL 345.56425 497.863219 \r\nL 345.56425 604.999219 \r\nL 238.42825 604.999219 \r\nL 238.42825 497.863219 \r\n\" style=\"fill:#08081e;stroke:#ffffff;stroke-width:0.1;\"/>\r\n    <path clip-path=\"url(#pfa8dc29d14)\" d=\"M 345.56425 497.863219 \r\nL 452.70025 497.863219 \r\nL 452.70025 604.999219 \r\nL 345.56425 604.999219 \r\nL 345.56425 497.863219 \r\n\" style=\"fill:#faebdd;stroke:#ffffff;stroke-width:0.1;\"/>\r\n    <path clip-path=\"url(#pfa8dc29d14)\" d=\"M 452.70025 497.863219 \r\nL 559.83625 497.863219 \r\nL 559.83625 604.999219 \r\nL 452.70025 604.999219 \r\nL 452.70025 497.863219 \r\n\" style=\"fill:#faebdd;stroke:#ffffff;stroke-width:0.1;\"/>\r\n   </g>\r\n   <g id=\"matplotlib.axis_1\">\r\n    <g id=\"xtick_1\">\r\n     <g id=\"line2d_1\">\r\n      <defs>\r\n       <path d=\"M 0 0 \r\nL 0 3.5 \r\n\" id=\"m877cdb0864\" style=\"stroke:#000000;stroke-width:0.8;\"/>\r\n      </defs>\r\n      <g>\r\n       <use style=\"stroke:#000000;stroke-width:0.8;\" x=\"77.72425\" xlink:href=\"#m877cdb0864\" y=\"604.999219\"/>\r\n      </g>\r\n     </g>\r\n     <g id=\"text_1\">\r\n      <!-- confirmados -->\r\n      <defs>\r\n       <path d=\"M 48.78125 52.59375 \r\nL 48.78125 44.1875 \r\nQ 44.96875 46.296875 41.140625 47.34375 \r\nQ 37.3125 48.390625 33.40625 48.390625 \r\nQ 24.65625 48.390625 19.8125 42.84375 \r\nQ 14.984375 37.3125 14.984375 27.296875 \r\nQ 14.984375 17.28125 19.8125 11.734375 \r\nQ 24.65625 6.203125 33.40625 6.203125 \r\nQ 37.3125 6.203125 41.140625 7.25 \r\nQ 44.96875 8.296875 48.78125 10.40625 \r\nL 48.78125 2.09375 \r\nQ 45.015625 0.34375 40.984375 -0.53125 \r\nQ 36.96875 -1.421875 32.421875 -1.421875 \r\nQ 20.0625 -1.421875 12.78125 6.34375 \r\nQ 5.515625 14.109375 5.515625 27.296875 \r\nQ 5.515625 40.671875 12.859375 48.328125 \r\nQ 20.21875 56 33.015625 56 \r\nQ 37.15625 56 41.109375 55.140625 \r\nQ 45.0625 54.296875 48.78125 52.59375 \r\nz\r\n\" id=\"DejaVuSans-99\"/>\r\n       <path d=\"M 30.609375 48.390625 \r\nQ 23.390625 48.390625 19.1875 42.75 \r\nQ 14.984375 37.109375 14.984375 27.296875 \r\nQ 14.984375 17.484375 19.15625 11.84375 \r\nQ 23.34375 6.203125 30.609375 6.203125 \r\nQ 37.796875 6.203125 41.984375 11.859375 \r\nQ 46.1875 17.53125 46.1875 27.296875 \r\nQ 46.1875 37.015625 41.984375 42.703125 \r\nQ 37.796875 48.390625 30.609375 48.390625 \r\nz\r\nM 30.609375 56 \r\nQ 42.328125 56 49.015625 48.375 \r\nQ 55.71875 40.765625 55.71875 27.296875 \r\nQ 55.71875 13.875 49.015625 6.21875 \r\nQ 42.328125 -1.421875 30.609375 -1.421875 \r\nQ 18.84375 -1.421875 12.171875 6.21875 \r\nQ 5.515625 13.875 5.515625 27.296875 \r\nQ 5.515625 40.765625 12.171875 48.375 \r\nQ 18.84375 56 30.609375 56 \r\nz\r\n\" id=\"DejaVuSans-111\"/>\r\n       <path d=\"M 54.890625 33.015625 \r\nL 54.890625 0 \r\nL 45.90625 0 \r\nL 45.90625 32.71875 \r\nQ 45.90625 40.484375 42.875 44.328125 \r\nQ 39.84375 48.1875 33.796875 48.1875 \r\nQ 26.515625 48.1875 22.3125 43.546875 \r\nQ 18.109375 38.921875 18.109375 30.90625 \r\nL 18.109375 0 \r\nL 9.078125 0 \r\nL 9.078125 54.6875 \r\nL 18.109375 54.6875 \r\nL 18.109375 46.1875 \r\nQ 21.34375 51.125 25.703125 53.5625 \r\nQ 30.078125 56 35.796875 56 \r\nQ 45.21875 56 50.046875 50.171875 \r\nQ 54.890625 44.34375 54.890625 33.015625 \r\nz\r\n\" id=\"DejaVuSans-110\"/>\r\n       <path d=\"M 37.109375 75.984375 \r\nL 37.109375 68.5 \r\nL 28.515625 68.5 \r\nQ 23.6875 68.5 21.796875 66.546875 \r\nQ 19.921875 64.59375 19.921875 59.515625 \r\nL 19.921875 54.6875 \r\nL 34.71875 54.6875 \r\nL 34.71875 47.703125 \r\nL 19.921875 47.703125 \r\nL 19.921875 0 \r\nL 10.890625 0 \r\nL 10.890625 47.703125 \r\nL 2.296875 47.703125 \r\nL 2.296875 54.6875 \r\nL 10.890625 54.6875 \r\nL 10.890625 58.5 \r\nQ 10.890625 67.625 15.140625 71.796875 \r\nQ 19.390625 75.984375 28.609375 75.984375 \r\nz\r\n\" id=\"DejaVuSans-102\"/>\r\n       <path d=\"M 9.421875 54.6875 \r\nL 18.40625 54.6875 \r\nL 18.40625 0 \r\nL 9.421875 0 \r\nz\r\nM 9.421875 75.984375 \r\nL 18.40625 75.984375 \r\nL 18.40625 64.59375 \r\nL 9.421875 64.59375 \r\nz\r\n\" id=\"DejaVuSans-105\"/>\r\n       <path d=\"M 41.109375 46.296875 \r\nQ 39.59375 47.171875 37.8125 47.578125 \r\nQ 36.03125 48 33.890625 48 \r\nQ 26.265625 48 22.1875 43.046875 \r\nQ 18.109375 38.09375 18.109375 28.8125 \r\nL 18.109375 0 \r\nL 9.078125 0 \r\nL 9.078125 54.6875 \r\nL 18.109375 54.6875 \r\nL 18.109375 46.1875 \r\nQ 20.953125 51.171875 25.484375 53.578125 \r\nQ 30.03125 56 36.53125 56 \r\nQ 37.453125 56 38.578125 55.875 \r\nQ 39.703125 55.765625 41.0625 55.515625 \r\nz\r\n\" id=\"DejaVuSans-114\"/>\r\n       <path d=\"M 52 44.1875 \r\nQ 55.375 50.25 60.0625 53.125 \r\nQ 64.75 56 71.09375 56 \r\nQ 79.640625 56 84.28125 50.015625 \r\nQ 88.921875 44.046875 88.921875 33.015625 \r\nL 88.921875 0 \r\nL 79.890625 0 \r\nL 79.890625 32.71875 \r\nQ 79.890625 40.578125 77.09375 44.375 \r\nQ 74.3125 48.1875 68.609375 48.1875 \r\nQ 61.625 48.1875 57.5625 43.546875 \r\nQ 53.515625 38.921875 53.515625 30.90625 \r\nL 53.515625 0 \r\nL 44.484375 0 \r\nL 44.484375 32.71875 \r\nQ 44.484375 40.625 41.703125 44.40625 \r\nQ 38.921875 48.1875 33.109375 48.1875 \r\nQ 26.21875 48.1875 22.15625 43.53125 \r\nQ 18.109375 38.875 18.109375 30.90625 \r\nL 18.109375 0 \r\nL 9.078125 0 \r\nL 9.078125 54.6875 \r\nL 18.109375 54.6875 \r\nL 18.109375 46.1875 \r\nQ 21.1875 51.21875 25.484375 53.609375 \r\nQ 29.78125 56 35.6875 56 \r\nQ 41.65625 56 45.828125 52.96875 \r\nQ 50 49.953125 52 44.1875 \r\nz\r\n\" id=\"DejaVuSans-109\"/>\r\n       <path d=\"M 34.28125 27.484375 \r\nQ 23.390625 27.484375 19.1875 25 \r\nQ 14.984375 22.515625 14.984375 16.5 \r\nQ 14.984375 11.71875 18.140625 8.90625 \r\nQ 21.296875 6.109375 26.703125 6.109375 \r\nQ 34.1875 6.109375 38.703125 11.40625 \r\nQ 43.21875 16.703125 43.21875 25.484375 \r\nL 43.21875 27.484375 \r\nz\r\nM 52.203125 31.203125 \r\nL 52.203125 0 \r\nL 43.21875 0 \r\nL 43.21875 8.296875 \r\nQ 40.140625 3.328125 35.546875 0.953125 \r\nQ 30.953125 -1.421875 24.3125 -1.421875 \r\nQ 15.921875 -1.421875 10.953125 3.296875 \r\nQ 6 8.015625 6 15.921875 \r\nQ 6 25.140625 12.171875 29.828125 \r\nQ 18.359375 34.515625 30.609375 34.515625 \r\nL 43.21875 34.515625 \r\nL 43.21875 35.40625 \r\nQ 43.21875 41.609375 39.140625 45 \r\nQ 35.0625 48.390625 27.6875 48.390625 \r\nQ 23 48.390625 18.546875 47.265625 \r\nQ 14.109375 46.140625 10.015625 43.890625 \r\nL 10.015625 52.203125 \r\nQ 14.9375 54.109375 19.578125 55.046875 \r\nQ 24.21875 56 28.609375 56 \r\nQ 40.484375 56 46.34375 49.84375 \r\nQ 52.203125 43.703125 52.203125 31.203125 \r\nz\r\n\" id=\"DejaVuSans-97\"/>\r\n       <path d=\"M 45.40625 46.390625 \r\nL 45.40625 75.984375 \r\nL 54.390625 75.984375 \r\nL 54.390625 0 \r\nL 45.40625 0 \r\nL 45.40625 8.203125 \r\nQ 42.578125 3.328125 38.25 0.953125 \r\nQ 33.9375 -1.421875 27.875 -1.421875 \r\nQ 17.96875 -1.421875 11.734375 6.484375 \r\nQ 5.515625 14.40625 5.515625 27.296875 \r\nQ 5.515625 40.1875 11.734375 48.09375 \r\nQ 17.96875 56 27.875 56 \r\nQ 33.9375 56 38.25 53.625 \r\nQ 42.578125 51.265625 45.40625 46.390625 \r\nz\r\nM 14.796875 27.296875 \r\nQ 14.796875 17.390625 18.875 11.75 \r\nQ 22.953125 6.109375 30.078125 6.109375 \r\nQ 37.203125 6.109375 41.296875 11.75 \r\nQ 45.40625 17.390625 45.40625 27.296875 \r\nQ 45.40625 37.203125 41.296875 42.84375 \r\nQ 37.203125 48.484375 30.078125 48.484375 \r\nQ 22.953125 48.484375 18.875 42.84375 \r\nQ 14.796875 37.203125 14.796875 27.296875 \r\nz\r\n\" id=\"DejaVuSans-100\"/>\r\n       <path d=\"M 44.28125 53.078125 \r\nL 44.28125 44.578125 \r\nQ 40.484375 46.53125 36.375 47.5 \r\nQ 32.28125 48.484375 27.875 48.484375 \r\nQ 21.1875 48.484375 17.84375 46.4375 \r\nQ 14.5 44.390625 14.5 40.28125 \r\nQ 14.5 37.15625 16.890625 35.375 \r\nQ 19.28125 33.59375 26.515625 31.984375 \r\nL 29.59375 31.296875 \r\nQ 39.15625 29.25 43.1875 25.515625 \r\nQ 47.21875 21.78125 47.21875 15.09375 \r\nQ 47.21875 7.46875 41.1875 3.015625 \r\nQ 35.15625 -1.421875 24.609375 -1.421875 \r\nQ 20.21875 -1.421875 15.453125 -0.5625 \r\nQ 10.6875 0.296875 5.421875 2 \r\nL 5.421875 11.28125 \r\nQ 10.40625 8.6875 15.234375 7.390625 \r\nQ 20.0625 6.109375 24.8125 6.109375 \r\nQ 31.15625 6.109375 34.5625 8.28125 \r\nQ 37.984375 10.453125 37.984375 14.40625 \r\nQ 37.984375 18.0625 35.515625 20.015625 \r\nQ 33.0625 21.96875 24.703125 23.78125 \r\nL 21.578125 24.515625 \r\nQ 13.234375 26.265625 9.515625 29.90625 \r\nQ 5.8125 33.546875 5.8125 39.890625 \r\nQ 5.8125 47.609375 11.28125 51.796875 \r\nQ 16.75 56 26.8125 56 \r\nQ 31.78125 56 36.171875 55.265625 \r\nQ 40.578125 54.546875 44.28125 53.078125 \r\nz\r\n\" id=\"DejaVuSans-115\"/>\r\n      </defs>\r\n      <g transform=\"translate(80.483625 673.733594)rotate(-90)scale(0.1 -0.1)\">\r\n       <use xlink:href=\"#DejaVuSans-99\"/>\r\n       <use x=\"54.980469\" xlink:href=\"#DejaVuSans-111\"/>\r\n       <use x=\"116.162109\" xlink:href=\"#DejaVuSans-110\"/>\r\n       <use x=\"179.541016\" xlink:href=\"#DejaVuSans-102\"/>\r\n       <use x=\"214.746094\" xlink:href=\"#DejaVuSans-105\"/>\r\n       <use x=\"242.529297\" xlink:href=\"#DejaVuSans-114\"/>\r\n       <use x=\"281.892578\" xlink:href=\"#DejaVuSans-109\"/>\r\n       <use x=\"379.304688\" xlink:href=\"#DejaVuSans-97\"/>\r\n       <use x=\"440.583984\" xlink:href=\"#DejaVuSans-100\"/>\r\n       <use x=\"504.060547\" xlink:href=\"#DejaVuSans-111\"/>\r\n       <use x=\"565.242188\" xlink:href=\"#DejaVuSans-115\"/>\r\n      </g>\r\n     </g>\r\n    </g>\r\n    <g id=\"xtick_2\">\r\n     <g id=\"line2d_2\">\r\n      <g>\r\n       <use style=\"stroke:#000000;stroke-width:0.8;\" x=\"184.86025\" xlink:href=\"#m877cdb0864\" y=\"604.999219\"/>\r\n      </g>\r\n     </g>\r\n     <g id=\"text_2\">\r\n      <!-- fallecidos -->\r\n      <defs>\r\n       <path d=\"M 9.421875 75.984375 \r\nL 18.40625 75.984375 \r\nL 18.40625 0 \r\nL 9.421875 0 \r\nz\r\n\" id=\"DejaVuSans-108\"/>\r\n       <path d=\"M 56.203125 29.59375 \r\nL 56.203125 25.203125 \r\nL 14.890625 25.203125 \r\nQ 15.484375 15.921875 20.484375 11.0625 \r\nQ 25.484375 6.203125 34.421875 6.203125 \r\nQ 39.59375 6.203125 44.453125 7.46875 \r\nQ 49.3125 8.734375 54.109375 11.28125 \r\nL 54.109375 2.78125 \r\nQ 49.265625 0.734375 44.1875 -0.34375 \r\nQ 39.109375 -1.421875 33.890625 -1.421875 \r\nQ 20.796875 -1.421875 13.15625 6.1875 \r\nQ 5.515625 13.8125 5.515625 26.8125 \r\nQ 5.515625 40.234375 12.765625 48.109375 \r\nQ 20.015625 56 32.328125 56 \r\nQ 43.359375 56 49.78125 48.890625 \r\nQ 56.203125 41.796875 56.203125 29.59375 \r\nz\r\nM 47.21875 32.234375 \r\nQ 47.125 39.59375 43.09375 43.984375 \r\nQ 39.0625 48.390625 32.421875 48.390625 \r\nQ 24.90625 48.390625 20.390625 44.140625 \r\nQ 15.875 39.890625 15.1875 32.171875 \r\nz\r\n\" id=\"DejaVuSans-101\"/>\r\n      </defs>\r\n      <g transform=\"translate(187.619625 659.310156)rotate(-90)scale(0.1 -0.1)\">\r\n       <use xlink:href=\"#DejaVuSans-102\"/>\r\n       <use x=\"35.205078\" xlink:href=\"#DejaVuSans-97\"/>\r\n       <use x=\"96.484375\" xlink:href=\"#DejaVuSans-108\"/>\r\n       <use x=\"124.267578\" xlink:href=\"#DejaVuSans-108\"/>\r\n       <use x=\"152.050781\" xlink:href=\"#DejaVuSans-101\"/>\r\n       <use x=\"213.574219\" xlink:href=\"#DejaVuSans-99\"/>\r\n       <use x=\"268.554688\" xlink:href=\"#DejaVuSans-105\"/>\r\n       <use x=\"296.337891\" xlink:href=\"#DejaVuSans-100\"/>\r\n       <use x=\"359.814453\" xlink:href=\"#DejaVuSans-111\"/>\r\n       <use x=\"420.996094\" xlink:href=\"#DejaVuSans-115\"/>\r\n      </g>\r\n     </g>\r\n    </g>\r\n    <g id=\"xtick_3\">\r\n     <g id=\"line2d_3\">\r\n      <g>\r\n       <use style=\"stroke:#000000;stroke-width:0.8;\" x=\"291.99625\" xlink:href=\"#m877cdb0864\" y=\"604.999219\"/>\r\n      </g>\r\n     </g>\r\n     <g id=\"text_3\">\r\n      <!-- edad_promedio -->\r\n      <defs>\r\n       <path d=\"M 50.984375 -16.609375 \r\nL 50.984375 -23.578125 \r\nL -0.984375 -23.578125 \r\nL -0.984375 -16.609375 \r\nz\r\n\" id=\"DejaVuSans-95\"/>\r\n       <path d=\"M 18.109375 8.203125 \r\nL 18.109375 -20.796875 \r\nL 9.078125 -20.796875 \r\nL 9.078125 54.6875 \r\nL 18.109375 54.6875 \r\nL 18.109375 46.390625 \r\nQ 20.953125 51.265625 25.265625 53.625 \r\nQ 29.59375 56 35.59375 56 \r\nQ 45.5625 56 51.78125 48.09375 \r\nQ 58.015625 40.1875 58.015625 27.296875 \r\nQ 58.015625 14.40625 51.78125 6.484375 \r\nQ 45.5625 -1.421875 35.59375 -1.421875 \r\nQ 29.59375 -1.421875 25.265625 0.953125 \r\nQ 20.953125 3.328125 18.109375 8.203125 \r\nz\r\nM 48.6875 27.296875 \r\nQ 48.6875 37.203125 44.609375 42.84375 \r\nQ 40.53125 48.484375 33.40625 48.484375 \r\nQ 26.265625 48.484375 22.1875 42.84375 \r\nQ 18.109375 37.203125 18.109375 27.296875 \r\nQ 18.109375 17.390625 22.1875 11.75 \r\nQ 26.265625 6.109375 33.40625 6.109375 \r\nQ 40.53125 6.109375 44.609375 11.75 \r\nQ 48.6875 17.390625 48.6875 27.296875 \r\nz\r\n\" id=\"DejaVuSans-112\"/>\r\n      </defs>\r\n      <g transform=\"translate(294.616563 689.469531)rotate(-90)scale(0.1 -0.1)\">\r\n       <use xlink:href=\"#DejaVuSans-101\"/>\r\n       <use x=\"61.523438\" xlink:href=\"#DejaVuSans-100\"/>\r\n       <use x=\"125\" xlink:href=\"#DejaVuSans-97\"/>\r\n       <use x=\"186.279297\" xlink:href=\"#DejaVuSans-100\"/>\r\n       <use x=\"249.755859\" xlink:href=\"#DejaVuSans-95\"/>\r\n       <use x=\"299.755859\" xlink:href=\"#DejaVuSans-112\"/>\r\n       <use x=\"363.232422\" xlink:href=\"#DejaVuSans-114\"/>\r\n       <use x=\"402.095703\" xlink:href=\"#DejaVuSans-111\"/>\r\n       <use x=\"463.277344\" xlink:href=\"#DejaVuSans-109\"/>\r\n       <use x=\"560.689453\" xlink:href=\"#DejaVuSans-101\"/>\r\n       <use x=\"622.212891\" xlink:href=\"#DejaVuSans-100\"/>\r\n       <use x=\"685.689453\" xlink:href=\"#DejaVuSans-105\"/>\r\n       <use x=\"713.472656\" xlink:href=\"#DejaVuSans-111\"/>\r\n      </g>\r\n     </g>\r\n    </g>\r\n    <g id=\"xtick_4\">\r\n     <g id=\"line2d_4\">\r\n      <g>\r\n       <use style=\"stroke:#000000;stroke-width:0.8;\" x=\"399.13225\" xlink:href=\"#m877cdb0864\" y=\"604.999219\"/>\r\n      </g>\r\n     </g>\r\n     <g id=\"text_4\">\r\n      <!-- cuidado_intensivo -->\r\n      <defs>\r\n       <path d=\"M 8.5 21.578125 \r\nL 8.5 54.6875 \r\nL 17.484375 54.6875 \r\nL 17.484375 21.921875 \r\nQ 17.484375 14.15625 20.5 10.265625 \r\nQ 23.53125 6.390625 29.59375 6.390625 \r\nQ 36.859375 6.390625 41.078125 11.03125 \r\nQ 45.3125 15.671875 45.3125 23.6875 \r\nL 45.3125 54.6875 \r\nL 54.296875 54.6875 \r\nL 54.296875 0 \r\nL 45.3125 0 \r\nL 45.3125 8.40625 \r\nQ 42.046875 3.421875 37.71875 1 \r\nQ 33.40625 -1.421875 27.6875 -1.421875 \r\nQ 18.265625 -1.421875 13.375 4.4375 \r\nQ 8.5 10.296875 8.5 21.578125 \r\nz\r\nM 31.109375 56 \r\nz\r\n\" id=\"DejaVuSans-117\"/>\r\n       <path d=\"M 18.3125 70.21875 \r\nL 18.3125 54.6875 \r\nL 36.8125 54.6875 \r\nL 36.8125 47.703125 \r\nL 18.3125 47.703125 \r\nL 18.3125 18.015625 \r\nQ 18.3125 11.328125 20.140625 9.421875 \r\nQ 21.96875 7.515625 27.59375 7.515625 \r\nL 36.8125 7.515625 \r\nL 36.8125 0 \r\nL 27.59375 0 \r\nQ 17.1875 0 13.234375 3.875 \r\nQ 9.28125 7.765625 9.28125 18.015625 \r\nL 9.28125 47.703125 \r\nL 2.6875 47.703125 \r\nL 2.6875 54.6875 \r\nL 9.28125 54.6875 \r\nL 9.28125 70.21875 \r\nz\r\n\" id=\"DejaVuSans-116\"/>\r\n       <path d=\"M 2.984375 54.6875 \r\nL 12.5 54.6875 \r\nL 29.59375 8.796875 \r\nL 46.6875 54.6875 \r\nL 56.203125 54.6875 \r\nL 35.6875 0 \r\nL 23.484375 0 \r\nz\r\n\" id=\"DejaVuSans-118\"/>\r\n      </defs>\r\n      <g transform=\"translate(401.752563 702.108594)rotate(-90)scale(0.1 -0.1)\">\r\n       <use xlink:href=\"#DejaVuSans-99\"/>\r\n       <use x=\"54.980469\" xlink:href=\"#DejaVuSans-117\"/>\r\n       <use x=\"118.359375\" xlink:href=\"#DejaVuSans-105\"/>\r\n       <use x=\"146.142578\" xlink:href=\"#DejaVuSans-100\"/>\r\n       <use x=\"209.619141\" xlink:href=\"#DejaVuSans-97\"/>\r\n       <use x=\"270.898438\" xlink:href=\"#DejaVuSans-100\"/>\r\n       <use x=\"334.375\" xlink:href=\"#DejaVuSans-111\"/>\r\n       <use x=\"395.556641\" xlink:href=\"#DejaVuSans-95\"/>\r\n       <use x=\"445.556641\" xlink:href=\"#DejaVuSans-105\"/>\r\n       <use x=\"473.339844\" xlink:href=\"#DejaVuSans-110\"/>\r\n       <use x=\"536.71875\" xlink:href=\"#DejaVuSans-116\"/>\r\n       <use x=\"575.927734\" xlink:href=\"#DejaVuSans-101\"/>\r\n       <use x=\"637.451172\" xlink:href=\"#DejaVuSans-110\"/>\r\n       <use x=\"700.830078\" xlink:href=\"#DejaVuSans-115\"/>\r\n       <use x=\"752.929688\" xlink:href=\"#DejaVuSans-105\"/>\r\n       <use x=\"780.712891\" xlink:href=\"#DejaVuSans-118\"/>\r\n       <use x=\"839.892578\" xlink:href=\"#DejaVuSans-111\"/>\r\n      </g>\r\n     </g>\r\n    </g>\r\n    <g id=\"xtick_5\">\r\n     <g id=\"line2d_5\">\r\n      <g>\r\n       <use style=\"stroke:#000000;stroke-width:0.8;\" x=\"506.26825\" xlink:href=\"#m877cdb0864\" y=\"604.999219\"/>\r\n      </g>\r\n     </g>\r\n     <g id=\"text_5\">\r\n      <!-- asistencia_respiratoria_mecanica -->\r\n      <g transform=\"translate(508.888563 778.072656)rotate(-90)scale(0.1 -0.1)\">\r\n       <use xlink:href=\"#DejaVuSans-97\"/>\r\n       <use x=\"61.279297\" xlink:href=\"#DejaVuSans-115\"/>\r\n       <use x=\"113.378906\" xlink:href=\"#DejaVuSans-105\"/>\r\n       <use x=\"141.162109\" xlink:href=\"#DejaVuSans-115\"/>\r\n       <use x=\"193.261719\" xlink:href=\"#DejaVuSans-116\"/>\r\n       <use x=\"232.470703\" xlink:href=\"#DejaVuSans-101\"/>\r\n       <use x=\"293.994141\" xlink:href=\"#DejaVuSans-110\"/>\r\n       <use x=\"357.373047\" xlink:href=\"#DejaVuSans-99\"/>\r\n       <use x=\"412.353516\" xlink:href=\"#DejaVuSans-105\"/>\r\n       <use x=\"440.136719\" xlink:href=\"#DejaVuSans-97\"/>\r\n       <use x=\"501.416016\" xlink:href=\"#DejaVuSans-95\"/>\r\n       <use x=\"551.416016\" xlink:href=\"#DejaVuSans-114\"/>\r\n       <use x=\"590.279297\" xlink:href=\"#DejaVuSans-101\"/>\r\n       <use x=\"651.802734\" xlink:href=\"#DejaVuSans-115\"/>\r\n       <use x=\"703.902344\" xlink:href=\"#DejaVuSans-112\"/>\r\n       <use x=\"767.378906\" xlink:href=\"#DejaVuSans-105\"/>\r\n       <use x=\"795.162109\" xlink:href=\"#DejaVuSans-114\"/>\r\n       <use x=\"836.275391\" xlink:href=\"#DejaVuSans-97\"/>\r\n       <use x=\"897.554688\" xlink:href=\"#DejaVuSans-116\"/>\r\n       <use x=\"936.763672\" xlink:href=\"#DejaVuSans-111\"/>\r\n       <use x=\"997.945312\" xlink:href=\"#DejaVuSans-114\"/>\r\n       <use x=\"1039.058594\" xlink:href=\"#DejaVuSans-105\"/>\r\n       <use x=\"1066.841797\" xlink:href=\"#DejaVuSans-97\"/>\r\n       <use x=\"1128.121094\" xlink:href=\"#DejaVuSans-95\"/>\r\n       <use x=\"1178.121094\" xlink:href=\"#DejaVuSans-109\"/>\r\n       <use x=\"1275.533203\" xlink:href=\"#DejaVuSans-101\"/>\r\n       <use x=\"1337.056641\" xlink:href=\"#DejaVuSans-99\"/>\r\n       <use x=\"1392.037109\" xlink:href=\"#DejaVuSans-97\"/>\r\n       <use x=\"1453.316406\" xlink:href=\"#DejaVuSans-110\"/>\r\n       <use x=\"1516.695312\" xlink:href=\"#DejaVuSans-105\"/>\r\n       <use x=\"1544.478516\" xlink:href=\"#DejaVuSans-99\"/>\r\n       <use x=\"1599.458984\" xlink:href=\"#DejaVuSans-97\"/>\r\n      </g>\r\n     </g>\r\n    </g>\r\n   </g>\r\n   <g id=\"matplotlib.axis_2\">\r\n    <g id=\"ytick_1\">\r\n     <g id=\"line2d_6\">\r\n      <defs>\r\n       <path d=\"M 0 0 \r\nL -3.5 0 \r\n\" id=\"mc6181bf4b0\" style=\"stroke:#000000;stroke-width:0.8;\"/>\r\n      </defs>\r\n      <g>\r\n       <use style=\"stroke:#000000;stroke-width:0.8;\" x=\"24.15625\" xlink:href=\"#mc6181bf4b0\" y=\"122.887219\"/>\r\n      </g>\r\n     </g>\r\n     <g id=\"text_6\">\r\n      <!-- confirmados -->\r\n      <g transform=\"translate(15.076563 180.822375)rotate(-90)scale(0.1 -0.1)\">\r\n       <use xlink:href=\"#DejaVuSans-99\"/>\r\n       <use x=\"54.980469\" xlink:href=\"#DejaVuSans-111\"/>\r\n       <use x=\"116.162109\" xlink:href=\"#DejaVuSans-110\"/>\r\n       <use x=\"179.541016\" xlink:href=\"#DejaVuSans-102\"/>\r\n       <use x=\"214.746094\" xlink:href=\"#DejaVuSans-105\"/>\r\n       <use x=\"242.529297\" xlink:href=\"#DejaVuSans-114\"/>\r\n       <use x=\"281.892578\" xlink:href=\"#DejaVuSans-109\"/>\r\n       <use x=\"379.304688\" xlink:href=\"#DejaVuSans-97\"/>\r\n       <use x=\"440.583984\" xlink:href=\"#DejaVuSans-100\"/>\r\n       <use x=\"504.060547\" xlink:href=\"#DejaVuSans-111\"/>\r\n       <use x=\"565.242188\" xlink:href=\"#DejaVuSans-115\"/>\r\n      </g>\r\n     </g>\r\n    </g>\r\n    <g id=\"ytick_2\">\r\n     <g id=\"line2d_7\">\r\n      <g>\r\n       <use style=\"stroke:#000000;stroke-width:0.8;\" x=\"24.15625\" xlink:href=\"#mc6181bf4b0\" y=\"230.023219\"/>\r\n      </g>\r\n     </g>\r\n     <g id=\"text_7\">\r\n      <!-- fallecidos -->\r\n      <g transform=\"translate(15.076563 273.534937)rotate(-90)scale(0.1 -0.1)\">\r\n       <use xlink:href=\"#DejaVuSans-102\"/>\r\n       <use x=\"35.205078\" xlink:href=\"#DejaVuSans-97\"/>\r\n       <use x=\"96.484375\" xlink:href=\"#DejaVuSans-108\"/>\r\n       <use x=\"124.267578\" xlink:href=\"#DejaVuSans-108\"/>\r\n       <use x=\"152.050781\" xlink:href=\"#DejaVuSans-101\"/>\r\n       <use x=\"213.574219\" xlink:href=\"#DejaVuSans-99\"/>\r\n       <use x=\"268.554688\" xlink:href=\"#DejaVuSans-105\"/>\r\n       <use x=\"296.337891\" xlink:href=\"#DejaVuSans-100\"/>\r\n       <use x=\"359.814453\" xlink:href=\"#DejaVuSans-111\"/>\r\n       <use x=\"420.996094\" xlink:href=\"#DejaVuSans-115\"/>\r\n      </g>\r\n     </g>\r\n    </g>\r\n    <g id=\"ytick_3\">\r\n     <g id=\"line2d_8\">\r\n      <g>\r\n       <use style=\"stroke:#000000;stroke-width:0.8;\" x=\"24.15625\" xlink:href=\"#mc6181bf4b0\" y=\"337.159219\"/>\r\n      </g>\r\n     </g>\r\n     <g id=\"text_8\">\r\n      <!-- edad_promedio -->\r\n      <g transform=\"translate(14.798438 410.830312)rotate(-90)scale(0.1 -0.1)\">\r\n       <use xlink:href=\"#DejaVuSans-101\"/>\r\n       <use x=\"61.523438\" xlink:href=\"#DejaVuSans-100\"/>\r\n       <use x=\"125\" xlink:href=\"#DejaVuSans-97\"/>\r\n       <use x=\"186.279297\" xlink:href=\"#DejaVuSans-100\"/>\r\n       <use x=\"249.755859\" xlink:href=\"#DejaVuSans-95\"/>\r\n       <use x=\"299.755859\" xlink:href=\"#DejaVuSans-112\"/>\r\n       <use x=\"363.232422\" xlink:href=\"#DejaVuSans-114\"/>\r\n       <use x=\"402.095703\" xlink:href=\"#DejaVuSans-111\"/>\r\n       <use x=\"463.277344\" xlink:href=\"#DejaVuSans-109\"/>\r\n       <use x=\"560.689453\" xlink:href=\"#DejaVuSans-101\"/>\r\n       <use x=\"622.212891\" xlink:href=\"#DejaVuSans-100\"/>\r\n       <use x=\"685.689453\" xlink:href=\"#DejaVuSans-105\"/>\r\n       <use x=\"713.472656\" xlink:href=\"#DejaVuSans-111\"/>\r\n      </g>\r\n     </g>\r\n    </g>\r\n    <g id=\"ytick_4\">\r\n     <g id=\"line2d_9\">\r\n      <g>\r\n       <use style=\"stroke:#000000;stroke-width:0.8;\" x=\"24.15625\" xlink:href=\"#mc6181bf4b0\" y=\"444.295219\"/>\r\n      </g>\r\n     </g>\r\n     <g id=\"text_9\">\r\n      <!-- cuidado_intensivo -->\r\n      <g transform=\"translate(14.798438 530.605375)rotate(-90)scale(0.1 -0.1)\">\r\n       <use xlink:href=\"#DejaVuSans-99\"/>\r\n       <use x=\"54.980469\" xlink:href=\"#DejaVuSans-117\"/>\r\n       <use x=\"118.359375\" xlink:href=\"#DejaVuSans-105\"/>\r\n       <use x=\"146.142578\" xlink:href=\"#DejaVuSans-100\"/>\r\n       <use x=\"209.619141\" xlink:href=\"#DejaVuSans-97\"/>\r\n       <use x=\"270.898438\" xlink:href=\"#DejaVuSans-100\"/>\r\n       <use x=\"334.375\" xlink:href=\"#DejaVuSans-111\"/>\r\n       <use x=\"395.556641\" xlink:href=\"#DejaVuSans-95\"/>\r\n       <use x=\"445.556641\" xlink:href=\"#DejaVuSans-105\"/>\r\n       <use x=\"473.339844\" xlink:href=\"#DejaVuSans-110\"/>\r\n       <use x=\"536.71875\" xlink:href=\"#DejaVuSans-116\"/>\r\n       <use x=\"575.927734\" xlink:href=\"#DejaVuSans-101\"/>\r\n       <use x=\"637.451172\" xlink:href=\"#DejaVuSans-110\"/>\r\n       <use x=\"700.830078\" xlink:href=\"#DejaVuSans-115\"/>\r\n       <use x=\"752.929688\" xlink:href=\"#DejaVuSans-105\"/>\r\n       <use x=\"780.712891\" xlink:href=\"#DejaVuSans-118\"/>\r\n       <use x=\"839.892578\" xlink:href=\"#DejaVuSans-111\"/>\r\n      </g>\r\n     </g>\r\n    </g>\r\n    <g id=\"ytick_5\">\r\n     <g id=\"line2d_10\">\r\n      <g>\r\n       <use style=\"stroke:#000000;stroke-width:0.8;\" x=\"24.15625\" xlink:href=\"#mc6181bf4b0\" y=\"551.431219\"/>\r\n      </g>\r\n     </g>\r\n     <g id=\"text_10\">\r\n      <!-- asistencia_respiratoria_mecanica -->\r\n      <g transform=\"translate(14.798438 713.705438)rotate(-90)scale(0.1 -0.1)\">\r\n       <use xlink:href=\"#DejaVuSans-97\"/>\r\n       <use x=\"61.279297\" xlink:href=\"#DejaVuSans-115\"/>\r\n       <use x=\"113.378906\" xlink:href=\"#DejaVuSans-105\"/>\r\n       <use x=\"141.162109\" xlink:href=\"#DejaVuSans-115\"/>\r\n       <use x=\"193.261719\" xlink:href=\"#DejaVuSans-116\"/>\r\n       <use x=\"232.470703\" xlink:href=\"#DejaVuSans-101\"/>\r\n       <use x=\"293.994141\" xlink:href=\"#DejaVuSans-110\"/>\r\n       <use x=\"357.373047\" xlink:href=\"#DejaVuSans-99\"/>\r\n       <use x=\"412.353516\" xlink:href=\"#DejaVuSans-105\"/>\r\n       <use x=\"440.136719\" xlink:href=\"#DejaVuSans-97\"/>\r\n       <use x=\"501.416016\" xlink:href=\"#DejaVuSans-95\"/>\r\n       <use x=\"551.416016\" xlink:href=\"#DejaVuSans-114\"/>\r\n       <use x=\"590.279297\" xlink:href=\"#DejaVuSans-101\"/>\r\n       <use x=\"651.802734\" xlink:href=\"#DejaVuSans-115\"/>\r\n       <use x=\"703.902344\" xlink:href=\"#DejaVuSans-112\"/>\r\n       <use x=\"767.378906\" xlink:href=\"#DejaVuSans-105\"/>\r\n       <use x=\"795.162109\" xlink:href=\"#DejaVuSans-114\"/>\r\n       <use x=\"836.275391\" xlink:href=\"#DejaVuSans-97\"/>\r\n       <use x=\"897.554688\" xlink:href=\"#DejaVuSans-116\"/>\r\n       <use x=\"936.763672\" xlink:href=\"#DejaVuSans-111\"/>\r\n       <use x=\"997.945312\" xlink:href=\"#DejaVuSans-114\"/>\r\n       <use x=\"1039.058594\" xlink:href=\"#DejaVuSans-105\"/>\r\n       <use x=\"1066.841797\" xlink:href=\"#DejaVuSans-97\"/>\r\n       <use x=\"1128.121094\" xlink:href=\"#DejaVuSans-95\"/>\r\n       <use x=\"1178.121094\" xlink:href=\"#DejaVuSans-109\"/>\r\n       <use x=\"1275.533203\" xlink:href=\"#DejaVuSans-101\"/>\r\n       <use x=\"1337.056641\" xlink:href=\"#DejaVuSans-99\"/>\r\n       <use x=\"1392.037109\" xlink:href=\"#DejaVuSans-97\"/>\r\n       <use x=\"1453.316406\" xlink:href=\"#DejaVuSans-110\"/>\r\n       <use x=\"1516.695312\" xlink:href=\"#DejaVuSans-105\"/>\r\n       <use x=\"1544.478516\" xlink:href=\"#DejaVuSans-99\"/>\r\n       <use x=\"1599.458984\" xlink:href=\"#DejaVuSans-97\"/>\r\n      </g>\r\n     </g>\r\n    </g>\r\n   </g>\r\n   <g id=\"text_11\">\r\n    <!-- 1 -->\r\n    <defs>\r\n     <path d=\"M 12.40625 8.296875 \r\nL 28.515625 8.296875 \r\nL 28.515625 63.921875 \r\nL 10.984375 60.40625 \r\nL 10.984375 69.390625 \r\nL 28.421875 72.90625 \r\nL 38.28125 72.90625 \r\nL 38.28125 8.296875 \r\nL 54.390625 8.296875 \r\nL 54.390625 0 \r\nL 12.40625 0 \r\nz\r\n\" id=\"DejaVuSans-49\"/>\r\n    </defs>\r\n    <g style=\"fill:#262626;\" transform=\"translate(74.543 125.646594)scale(0.1 -0.1)\">\r\n     <use xlink:href=\"#DejaVuSans-49\"/>\r\n    </g>\r\n   </g>\r\n   <g id=\"text_12\">\r\n    <!-- 0.99 -->\r\n    <defs>\r\n     <path d=\"M 31.78125 66.40625 \r\nQ 24.171875 66.40625 20.328125 58.90625 \r\nQ 16.5 51.421875 16.5 36.375 \r\nQ 16.5 21.390625 20.328125 13.890625 \r\nQ 24.171875 6.390625 31.78125 6.390625 \r\nQ 39.453125 6.390625 43.28125 13.890625 \r\nQ 47.125 21.390625 47.125 36.375 \r\nQ 47.125 51.421875 43.28125 58.90625 \r\nQ 39.453125 66.40625 31.78125 66.40625 \r\nz\r\nM 31.78125 74.21875 \r\nQ 44.046875 74.21875 50.515625 64.515625 \r\nQ 56.984375 54.828125 56.984375 36.375 \r\nQ 56.984375 17.96875 50.515625 8.265625 \r\nQ 44.046875 -1.421875 31.78125 -1.421875 \r\nQ 19.53125 -1.421875 13.0625 8.265625 \r\nQ 6.59375 17.96875 6.59375 36.375 \r\nQ 6.59375 54.828125 13.0625 64.515625 \r\nQ 19.53125 74.21875 31.78125 74.21875 \r\nz\r\n\" id=\"DejaVuSans-48\"/>\r\n     <path d=\"M 10.6875 12.40625 \r\nL 21 12.40625 \r\nL 21 0 \r\nL 10.6875 0 \r\nz\r\n\" id=\"DejaVuSans-46\"/>\r\n     <path d=\"M 10.984375 1.515625 \r\nL 10.984375 10.5 \r\nQ 14.703125 8.734375 18.5 7.8125 \r\nQ 22.3125 6.890625 25.984375 6.890625 \r\nQ 35.75 6.890625 40.890625 13.453125 \r\nQ 46.046875 20.015625 46.78125 33.40625 \r\nQ 43.953125 29.203125 39.59375 26.953125 \r\nQ 35.25 24.703125 29.984375 24.703125 \r\nQ 19.046875 24.703125 12.671875 31.3125 \r\nQ 6.296875 37.9375 6.296875 49.421875 \r\nQ 6.296875 60.640625 12.9375 67.421875 \r\nQ 19.578125 74.21875 30.609375 74.21875 \r\nQ 43.265625 74.21875 49.921875 64.515625 \r\nQ 56.59375 54.828125 56.59375 36.375 \r\nQ 56.59375 19.140625 48.40625 8.859375 \r\nQ 40.234375 -1.421875 26.421875 -1.421875 \r\nQ 22.703125 -1.421875 18.890625 -0.6875 \r\nQ 15.09375 0.046875 10.984375 1.515625 \r\nz\r\nM 30.609375 32.421875 \r\nQ 37.25 32.421875 41.125 36.953125 \r\nQ 45.015625 41.5 45.015625 49.421875 \r\nQ 45.015625 57.28125 41.125 61.84375 \r\nQ 37.25 66.40625 30.609375 66.40625 \r\nQ 23.96875 66.40625 20.09375 61.84375 \r\nQ 16.21875 57.28125 16.21875 49.421875 \r\nQ 16.21875 41.5 20.09375 36.953125 \r\nQ 23.96875 32.421875 30.609375 32.421875 \r\nz\r\n\" id=\"DejaVuSans-57\"/>\r\n    </defs>\r\n    <g style=\"fill:#262626;\" transform=\"translate(173.727438 125.646594)scale(0.1 -0.1)\">\r\n     <use xlink:href=\"#DejaVuSans-48\"/>\r\n     <use x=\"63.623047\" xlink:href=\"#DejaVuSans-46\"/>\r\n     <use x=\"95.410156\" xlink:href=\"#DejaVuSans-57\"/>\r\n     <use x=\"159.033203\" xlink:href=\"#DejaVuSans-57\"/>\r\n    </g>\r\n   </g>\r\n   <g id=\"text_13\">\r\n    <!-- 0.11 -->\r\n    <g style=\"fill:#ffffff;\" transform=\"translate(280.863438 125.646594)scale(0.1 -0.1)\">\r\n     <use xlink:href=\"#DejaVuSans-48\"/>\r\n     <use x=\"63.623047\" xlink:href=\"#DejaVuSans-46\"/>\r\n     <use x=\"95.410156\" xlink:href=\"#DejaVuSans-49\"/>\r\n     <use x=\"159.033203\" xlink:href=\"#DejaVuSans-49\"/>\r\n    </g>\r\n   </g>\r\n   <g id=\"text_14\">\r\n    <!-- 0.99 -->\r\n    <g style=\"fill:#262626;\" transform=\"translate(387.999438 125.646594)scale(0.1 -0.1)\">\r\n     <use xlink:href=\"#DejaVuSans-48\"/>\r\n     <use x=\"63.623047\" xlink:href=\"#DejaVuSans-46\"/>\r\n     <use x=\"95.410156\" xlink:href=\"#DejaVuSans-57\"/>\r\n     <use x=\"159.033203\" xlink:href=\"#DejaVuSans-57\"/>\r\n    </g>\r\n   </g>\r\n   <g id=\"text_15\">\r\n    <!-- 0.98 -->\r\n    <defs>\r\n     <path d=\"M 31.78125 34.625 \r\nQ 24.75 34.625 20.71875 30.859375 \r\nQ 16.703125 27.09375 16.703125 20.515625 \r\nQ 16.703125 13.921875 20.71875 10.15625 \r\nQ 24.75 6.390625 31.78125 6.390625 \r\nQ 38.8125 6.390625 42.859375 10.171875 \r\nQ 46.921875 13.96875 46.921875 20.515625 \r\nQ 46.921875 27.09375 42.890625 30.859375 \r\nQ 38.875 34.625 31.78125 34.625 \r\nz\r\nM 21.921875 38.8125 \r\nQ 15.578125 40.375 12.03125 44.71875 \r\nQ 8.5 49.078125 8.5 55.328125 \r\nQ 8.5 64.0625 14.71875 69.140625 \r\nQ 20.953125 74.21875 31.78125 74.21875 \r\nQ 42.671875 74.21875 48.875 69.140625 \r\nQ 55.078125 64.0625 55.078125 55.328125 \r\nQ 55.078125 49.078125 51.53125 44.71875 \r\nQ 48 40.375 41.703125 38.8125 \r\nQ 48.828125 37.15625 52.796875 32.3125 \r\nQ 56.78125 27.484375 56.78125 20.515625 \r\nQ 56.78125 9.90625 50.3125 4.234375 \r\nQ 43.84375 -1.421875 31.78125 -1.421875 \r\nQ 19.734375 -1.421875 13.25 4.234375 \r\nQ 6.78125 9.90625 6.78125 20.515625 \r\nQ 6.78125 27.484375 10.78125 32.3125 \r\nQ 14.796875 37.15625 21.921875 38.8125 \r\nz\r\nM 18.3125 54.390625 \r\nQ 18.3125 48.734375 21.84375 45.5625 \r\nQ 25.390625 42.390625 31.78125 42.390625 \r\nQ 38.140625 42.390625 41.71875 45.5625 \r\nQ 45.3125 48.734375 45.3125 54.390625 \r\nQ 45.3125 60.0625 41.71875 63.234375 \r\nQ 38.140625 66.40625 31.78125 66.40625 \r\nQ 25.390625 66.40625 21.84375 63.234375 \r\nQ 18.3125 60.0625 18.3125 54.390625 \r\nz\r\n\" id=\"DejaVuSans-56\"/>\r\n    </defs>\r\n    <g style=\"fill:#262626;\" transform=\"translate(495.135438 125.646594)scale(0.1 -0.1)\">\r\n     <use xlink:href=\"#DejaVuSans-48\"/>\r\n     <use x=\"63.623047\" xlink:href=\"#DejaVuSans-46\"/>\r\n     <use x=\"95.410156\" xlink:href=\"#DejaVuSans-57\"/>\r\n     <use x=\"159.033203\" xlink:href=\"#DejaVuSans-56\"/>\r\n    </g>\r\n   </g>\r\n   <g id=\"text_16\">\r\n    <!-- 0.99 -->\r\n    <g style=\"fill:#262626;\" transform=\"translate(66.591438 232.782594)scale(0.1 -0.1)\">\r\n     <use xlink:href=\"#DejaVuSans-48\"/>\r\n     <use x=\"63.623047\" xlink:href=\"#DejaVuSans-46\"/>\r\n     <use x=\"95.410156\" xlink:href=\"#DejaVuSans-57\"/>\r\n     <use x=\"159.033203\" xlink:href=\"#DejaVuSans-57\"/>\r\n    </g>\r\n   </g>\r\n   <g id=\"text_17\">\r\n    <!-- 1 -->\r\n    <g style=\"fill:#262626;\" transform=\"translate(181.679 232.782594)scale(0.1 -0.1)\">\r\n     <use xlink:href=\"#DejaVuSans-49\"/>\r\n    </g>\r\n   </g>\r\n   <g id=\"text_18\">\r\n    <!-- 0.099 -->\r\n    <g style=\"fill:#ffffff;\" transform=\"translate(277.682188 232.782594)scale(0.1 -0.1)\">\r\n     <use xlink:href=\"#DejaVuSans-48\"/>\r\n     <use x=\"63.623047\" xlink:href=\"#DejaVuSans-46\"/>\r\n     <use x=\"95.410156\" xlink:href=\"#DejaVuSans-48\"/>\r\n     <use x=\"159.033203\" xlink:href=\"#DejaVuSans-57\"/>\r\n     <use x=\"222.65625\" xlink:href=\"#DejaVuSans-57\"/>\r\n    </g>\r\n   </g>\r\n   <g id=\"text_19\">\r\n    <!-- 0.99 -->\r\n    <g style=\"fill:#262626;\" transform=\"translate(387.999438 232.782594)scale(0.1 -0.1)\">\r\n     <use xlink:href=\"#DejaVuSans-48\"/>\r\n     <use x=\"63.623047\" xlink:href=\"#DejaVuSans-46\"/>\r\n     <use x=\"95.410156\" xlink:href=\"#DejaVuSans-57\"/>\r\n     <use x=\"159.033203\" xlink:href=\"#DejaVuSans-57\"/>\r\n    </g>\r\n   </g>\r\n   <g id=\"text_20\">\r\n    <!-- 0.99 -->\r\n    <g style=\"fill:#262626;\" transform=\"translate(495.135438 232.782594)scale(0.1 -0.1)\">\r\n     <use xlink:href=\"#DejaVuSans-48\"/>\r\n     <use x=\"63.623047\" xlink:href=\"#DejaVuSans-46\"/>\r\n     <use x=\"95.410156\" xlink:href=\"#DejaVuSans-57\"/>\r\n     <use x=\"159.033203\" xlink:href=\"#DejaVuSans-57\"/>\r\n    </g>\r\n   </g>\r\n   <g id=\"text_21\">\r\n    <!-- 0.11 -->\r\n    <g style=\"fill:#ffffff;\" transform=\"translate(66.591438 339.918594)scale(0.1 -0.1)\">\r\n     <use xlink:href=\"#DejaVuSans-48\"/>\r\n     <use x=\"63.623047\" xlink:href=\"#DejaVuSans-46\"/>\r\n     <use x=\"95.410156\" xlink:href=\"#DejaVuSans-49\"/>\r\n     <use x=\"159.033203\" xlink:href=\"#DejaVuSans-49\"/>\r\n    </g>\r\n   </g>\r\n   <g id=\"text_22\">\r\n    <!-- 0.099 -->\r\n    <g style=\"fill:#ffffff;\" transform=\"translate(170.546188 339.918594)scale(0.1 -0.1)\">\r\n     <use xlink:href=\"#DejaVuSans-48\"/>\r\n     <use x=\"63.623047\" xlink:href=\"#DejaVuSans-46\"/>\r\n     <use x=\"95.410156\" xlink:href=\"#DejaVuSans-48\"/>\r\n     <use x=\"159.033203\" xlink:href=\"#DejaVuSans-57\"/>\r\n     <use x=\"222.65625\" xlink:href=\"#DejaVuSans-57\"/>\r\n    </g>\r\n   </g>\r\n   <g id=\"text_23\">\r\n    <!-- 1 -->\r\n    <g style=\"fill:#262626;\" transform=\"translate(288.815 339.918594)scale(0.1 -0.1)\">\r\n     <use xlink:href=\"#DejaVuSans-49\"/>\r\n    </g>\r\n   </g>\r\n   <g id=\"text_24\">\r\n    <!-- 0.12 -->\r\n    <defs>\r\n     <path d=\"M 19.1875 8.296875 \r\nL 53.609375 8.296875 \r\nL 53.609375 0 \r\nL 7.328125 0 \r\nL 7.328125 8.296875 \r\nQ 12.9375 14.109375 22.625 23.890625 \r\nQ 32.328125 33.6875 34.8125 36.53125 \r\nQ 39.546875 41.84375 41.421875 45.53125 \r\nQ 43.3125 49.21875 43.3125 52.78125 \r\nQ 43.3125 58.59375 39.234375 62.25 \r\nQ 35.15625 65.921875 28.609375 65.921875 \r\nQ 23.96875 65.921875 18.8125 64.3125 \r\nQ 13.671875 62.703125 7.8125 59.421875 \r\nL 7.8125 69.390625 \r\nQ 13.765625 71.78125 18.9375 73 \r\nQ 24.125 74.21875 28.421875 74.21875 \r\nQ 39.75 74.21875 46.484375 68.546875 \r\nQ 53.21875 62.890625 53.21875 53.421875 \r\nQ 53.21875 48.921875 51.53125 44.890625 \r\nQ 49.859375 40.875 45.40625 35.40625 \r\nQ 44.1875 33.984375 37.640625 27.21875 \r\nQ 31.109375 20.453125 19.1875 8.296875 \r\nz\r\n\" id=\"DejaVuSans-50\"/>\r\n    </defs>\r\n    <g style=\"fill:#ffffff;\" transform=\"translate(387.999438 339.918594)scale(0.1 -0.1)\">\r\n     <use xlink:href=\"#DejaVuSans-48\"/>\r\n     <use x=\"63.623047\" xlink:href=\"#DejaVuSans-46\"/>\r\n     <use x=\"95.410156\" xlink:href=\"#DejaVuSans-49\"/>\r\n     <use x=\"159.033203\" xlink:href=\"#DejaVuSans-50\"/>\r\n    </g>\r\n   </g>\r\n   <g id=\"text_25\">\r\n    <!-- 0.12 -->\r\n    <g style=\"fill:#ffffff;\" transform=\"translate(495.135438 339.918594)scale(0.1 -0.1)\">\r\n     <use xlink:href=\"#DejaVuSans-48\"/>\r\n     <use x=\"63.623047\" xlink:href=\"#DejaVuSans-46\"/>\r\n     <use x=\"95.410156\" xlink:href=\"#DejaVuSans-49\"/>\r\n     <use x=\"159.033203\" xlink:href=\"#DejaVuSans-50\"/>\r\n    </g>\r\n   </g>\r\n   <g id=\"text_26\">\r\n    <!-- 0.99 -->\r\n    <g style=\"fill:#262626;\" transform=\"translate(66.591438 447.054594)scale(0.1 -0.1)\">\r\n     <use xlink:href=\"#DejaVuSans-48\"/>\r\n     <use x=\"63.623047\" xlink:href=\"#DejaVuSans-46\"/>\r\n     <use x=\"95.410156\" xlink:href=\"#DejaVuSans-57\"/>\r\n     <use x=\"159.033203\" xlink:href=\"#DejaVuSans-57\"/>\r\n    </g>\r\n   </g>\r\n   <g id=\"text_27\">\r\n    <!-- 0.99 -->\r\n    <g style=\"fill:#262626;\" transform=\"translate(173.727438 447.054594)scale(0.1 -0.1)\">\r\n     <use xlink:href=\"#DejaVuSans-48\"/>\r\n     <use x=\"63.623047\" xlink:href=\"#DejaVuSans-46\"/>\r\n     <use x=\"95.410156\" xlink:href=\"#DejaVuSans-57\"/>\r\n     <use x=\"159.033203\" xlink:href=\"#DejaVuSans-57\"/>\r\n    </g>\r\n   </g>\r\n   <g id=\"text_28\">\r\n    <!-- 0.12 -->\r\n    <g style=\"fill:#ffffff;\" transform=\"translate(280.863438 447.054594)scale(0.1 -0.1)\">\r\n     <use xlink:href=\"#DejaVuSans-48\"/>\r\n     <use x=\"63.623047\" xlink:href=\"#DejaVuSans-46\"/>\r\n     <use x=\"95.410156\" xlink:href=\"#DejaVuSans-49\"/>\r\n     <use x=\"159.033203\" xlink:href=\"#DejaVuSans-50\"/>\r\n    </g>\r\n   </g>\r\n   <g id=\"text_29\">\r\n    <!-- 1 -->\r\n    <g style=\"fill:#262626;\" transform=\"translate(395.951 447.054594)scale(0.1 -0.1)\">\r\n     <use xlink:href=\"#DejaVuSans-49\"/>\r\n    </g>\r\n   </g>\r\n   <g id=\"text_30\">\r\n    <!-- 1 -->\r\n    <g style=\"fill:#262626;\" transform=\"translate(503.087 447.054594)scale(0.1 -0.1)\">\r\n     <use xlink:href=\"#DejaVuSans-49\"/>\r\n    </g>\r\n   </g>\r\n   <g id=\"text_31\">\r\n    <!-- 0.98 -->\r\n    <g style=\"fill:#262626;\" transform=\"translate(66.591438 554.190594)scale(0.1 -0.1)\">\r\n     <use xlink:href=\"#DejaVuSans-48\"/>\r\n     <use x=\"63.623047\" xlink:href=\"#DejaVuSans-46\"/>\r\n     <use x=\"95.410156\" xlink:href=\"#DejaVuSans-57\"/>\r\n     <use x=\"159.033203\" xlink:href=\"#DejaVuSans-56\"/>\r\n    </g>\r\n   </g>\r\n   <g id=\"text_32\">\r\n    <!-- 0.99 -->\r\n    <g style=\"fill:#262626;\" transform=\"translate(173.727438 554.190594)scale(0.1 -0.1)\">\r\n     <use xlink:href=\"#DejaVuSans-48\"/>\r\n     <use x=\"63.623047\" xlink:href=\"#DejaVuSans-46\"/>\r\n     <use x=\"95.410156\" xlink:href=\"#DejaVuSans-57\"/>\r\n     <use x=\"159.033203\" xlink:href=\"#DejaVuSans-57\"/>\r\n    </g>\r\n   </g>\r\n   <g id=\"text_33\">\r\n    <!-- 0.12 -->\r\n    <g style=\"fill:#ffffff;\" transform=\"translate(280.863438 554.190594)scale(0.1 -0.1)\">\r\n     <use xlink:href=\"#DejaVuSans-48\"/>\r\n     <use x=\"63.623047\" xlink:href=\"#DejaVuSans-46\"/>\r\n     <use x=\"95.410156\" xlink:href=\"#DejaVuSans-49\"/>\r\n     <use x=\"159.033203\" xlink:href=\"#DejaVuSans-50\"/>\r\n    </g>\r\n   </g>\r\n   <g id=\"text_34\">\r\n    <!-- 1 -->\r\n    <g style=\"fill:#262626;\" transform=\"translate(395.951 554.190594)scale(0.1 -0.1)\">\r\n     <use xlink:href=\"#DejaVuSans-49\"/>\r\n    </g>\r\n   </g>\r\n   <g id=\"text_35\">\r\n    <!-- 1 -->\r\n    <g style=\"fill:#262626;\" transform=\"translate(503.087 554.190594)scale(0.1 -0.1)\">\r\n     <use xlink:href=\"#DejaVuSans-49\"/>\r\n    </g>\r\n   </g>\r\n   <g id=\"text_36\">\r\n    <!-- Análisis de correlación entre variables -->\r\n    <defs>\r\n     <path d=\"M 34.1875 63.1875 \r\nL 20.796875 26.90625 \r\nL 47.609375 26.90625 \r\nz\r\nM 28.609375 72.90625 \r\nL 39.796875 72.90625 \r\nL 67.578125 0 \r\nL 57.328125 0 \r\nL 50.6875 18.703125 \r\nL 17.828125 18.703125 \r\nL 11.1875 0 \r\nL 0.78125 0 \r\nz\r\n\" id=\"DejaVuSans-65\"/>\r\n     <path d=\"M 34.28125 27.484375 \r\nQ 23.390625 27.484375 19.1875 25 \r\nQ 14.984375 22.515625 14.984375 16.5 \r\nQ 14.984375 11.71875 18.140625 8.90625 \r\nQ 21.296875 6.109375 26.703125 6.109375 \r\nQ 34.1875 6.109375 38.703125 11.40625 \r\nQ 43.21875 16.703125 43.21875 25.484375 \r\nL 43.21875 27.484375 \r\nz\r\nM 52.203125 31.203125 \r\nL 52.203125 0 \r\nL 43.21875 0 \r\nL 43.21875 8.296875 \r\nQ 40.140625 3.328125 35.546875 0.953125 \r\nQ 30.953125 -1.421875 24.3125 -1.421875 \r\nQ 15.921875 -1.421875 10.953125 3.296875 \r\nQ 6 8.015625 6 15.921875 \r\nQ 6 25.140625 12.171875 29.828125 \r\nQ 18.359375 34.515625 30.609375 34.515625 \r\nL 43.21875 34.515625 \r\nL 43.21875 35.40625 \r\nQ 43.21875 41.609375 39.140625 45 \r\nQ 35.0625 48.390625 27.6875 48.390625 \r\nQ 23 48.390625 18.546875 47.265625 \r\nQ 14.109375 46.140625 10.015625 43.890625 \r\nL 10.015625 52.203125 \r\nQ 14.9375 54.109375 19.578125 55.046875 \r\nQ 24.21875 56 28.609375 56 \r\nQ 40.484375 56 46.34375 49.84375 \r\nQ 52.203125 43.703125 52.203125 31.203125 \r\nz\r\nM 35.796875 79.984375 \r\nL 45.515625 79.984375 \r\nL 29.59375 61.625 \r\nL 22.125 61.625 \r\nz\r\n\" id=\"DejaVuSans-225\"/>\r\n     <path id=\"DejaVuSans-32\"/>\r\n     <path d=\"M 30.609375 48.390625 \r\nQ 23.390625 48.390625 19.1875 42.75 \r\nQ 14.984375 37.109375 14.984375 27.296875 \r\nQ 14.984375 17.484375 19.15625 11.84375 \r\nQ 23.34375 6.203125 30.609375 6.203125 \r\nQ 37.796875 6.203125 41.984375 11.859375 \r\nQ 46.1875 17.53125 46.1875 27.296875 \r\nQ 46.1875 37.015625 41.984375 42.703125 \r\nQ 37.796875 48.390625 30.609375 48.390625 \r\nz\r\nM 30.609375 56 \r\nQ 42.328125 56 49.015625 48.375 \r\nQ 55.71875 40.765625 55.71875 27.296875 \r\nQ 55.71875 13.875 49.015625 6.21875 \r\nQ 42.328125 -1.421875 30.609375 -1.421875 \r\nQ 18.84375 -1.421875 12.171875 6.21875 \r\nQ 5.515625 13.875 5.515625 27.296875 \r\nQ 5.515625 40.765625 12.171875 48.375 \r\nQ 18.84375 56 30.609375 56 \r\nz\r\nM 37.40625 79.984375 \r\nL 47.125 79.984375 \r\nL 31.203125 61.625 \r\nL 23.734375 61.625 \r\nz\r\n\" id=\"DejaVuSans-243\"/>\r\n     <path d=\"M 48.6875 27.296875 \r\nQ 48.6875 37.203125 44.609375 42.84375 \r\nQ 40.53125 48.484375 33.40625 48.484375 \r\nQ 26.265625 48.484375 22.1875 42.84375 \r\nQ 18.109375 37.203125 18.109375 27.296875 \r\nQ 18.109375 17.390625 22.1875 11.75 \r\nQ 26.265625 6.109375 33.40625 6.109375 \r\nQ 40.53125 6.109375 44.609375 11.75 \r\nQ 48.6875 17.390625 48.6875 27.296875 \r\nz\r\nM 18.109375 46.390625 \r\nQ 20.953125 51.265625 25.265625 53.625 \r\nQ 29.59375 56 35.59375 56 \r\nQ 45.5625 56 51.78125 48.09375 \r\nQ 58.015625 40.1875 58.015625 27.296875 \r\nQ 58.015625 14.40625 51.78125 6.484375 \r\nQ 45.5625 -1.421875 35.59375 -1.421875 \r\nQ 29.59375 -1.421875 25.265625 0.953125 \r\nQ 20.953125 3.328125 18.109375 8.203125 \r\nL 18.109375 0 \r\nL 9.078125 0 \r\nL 9.078125 75.984375 \r\nL 18.109375 75.984375 \r\nz\r\n\" id=\"DejaVuSans-98\"/>\r\n    </defs>\r\n    <g transform=\"translate(149.115391 36.535219)scale(0.15 -0.15)\">\r\n     <use xlink:href=\"#DejaVuSans-65\"/>\r\n     <use x=\"68.408203\" xlink:href=\"#DejaVuSans-110\"/>\r\n     <use x=\"131.787109\" xlink:href=\"#DejaVuSans-225\"/>\r\n     <use x=\"193.066406\" xlink:href=\"#DejaVuSans-108\"/>\r\n     <use x=\"220.849609\" xlink:href=\"#DejaVuSans-105\"/>\r\n     <use x=\"248.632812\" xlink:href=\"#DejaVuSans-115\"/>\r\n     <use x=\"300.732422\" xlink:href=\"#DejaVuSans-105\"/>\r\n     <use x=\"328.515625\" xlink:href=\"#DejaVuSans-115\"/>\r\n     <use x=\"380.615234\" xlink:href=\"#DejaVuSans-32\"/>\r\n     <use x=\"412.402344\" xlink:href=\"#DejaVuSans-100\"/>\r\n     <use x=\"475.878906\" xlink:href=\"#DejaVuSans-101\"/>\r\n     <use x=\"537.402344\" xlink:href=\"#DejaVuSans-32\"/>\r\n     <use x=\"569.189453\" xlink:href=\"#DejaVuSans-99\"/>\r\n     <use x=\"624.169922\" xlink:href=\"#DejaVuSans-111\"/>\r\n     <use x=\"685.351562\" xlink:href=\"#DejaVuSans-114\"/>\r\n     <use x=\"724.714844\" xlink:href=\"#DejaVuSans-114\"/>\r\n     <use x=\"763.578125\" xlink:href=\"#DejaVuSans-101\"/>\r\n     <use x=\"825.101562\" xlink:href=\"#DejaVuSans-108\"/>\r\n     <use x=\"852.884766\" xlink:href=\"#DejaVuSans-97\"/>\r\n     <use x=\"914.164062\" xlink:href=\"#DejaVuSans-99\"/>\r\n     <use x=\"969.144531\" xlink:href=\"#DejaVuSans-105\"/>\r\n     <use x=\"996.927734\" xlink:href=\"#DejaVuSans-243\"/>\r\n     <use x=\"1058.109375\" xlink:href=\"#DejaVuSans-110\"/>\r\n     <use x=\"1121.488281\" xlink:href=\"#DejaVuSans-32\"/>\r\n     <use x=\"1153.275391\" xlink:href=\"#DejaVuSans-101\"/>\r\n     <use x=\"1214.798828\" xlink:href=\"#DejaVuSans-110\"/>\r\n     <use x=\"1278.177734\" xlink:href=\"#DejaVuSans-116\"/>\r\n     <use x=\"1317.386719\" xlink:href=\"#DejaVuSans-114\"/>\r\n     <use x=\"1356.25\" xlink:href=\"#DejaVuSans-101\"/>\r\n     <use x=\"1417.773438\" xlink:href=\"#DejaVuSans-32\"/>\r\n     <use x=\"1449.560547\" xlink:href=\"#DejaVuSans-118\"/>\r\n     <use x=\"1508.740234\" xlink:href=\"#DejaVuSans-97\"/>\r\n     <use x=\"1570.019531\" xlink:href=\"#DejaVuSans-114\"/>\r\n     <use x=\"1611.132812\" xlink:href=\"#DejaVuSans-105\"/>\r\n     <use x=\"1638.916016\" xlink:href=\"#DejaVuSans-97\"/>\r\n     <use x=\"1700.195312\" xlink:href=\"#DejaVuSans-98\"/>\r\n     <use x=\"1763.671875\" xlink:href=\"#DejaVuSans-108\"/>\r\n     <use x=\"1791.455078\" xlink:href=\"#DejaVuSans-101\"/>\r\n     <use x=\"1852.978516\" xlink:href=\"#DejaVuSans-115\"/>\r\n    </g>\r\n   </g>\r\n  </g>\r\n  <g id=\"axes_2\">\r\n   <g id=\"patch_3\">\r\n    <path clip-path=\"url(#p160fac6d5a)\" d=\"M 593.31625 663.319219 \r\nL 593.31625 660.771094 \r\nL 593.31625 13.547344 \r\nL 593.31625 10.999219 \r\nL 625.93225 10.999219 \r\nL 625.93225 13.547344 \r\nL 625.93225 660.771094 \r\nL 625.93225 663.319219 \r\nz\r\n\" style=\"fill:#ffffff;stroke:#ffffff;stroke-linejoin:miter;stroke-width:0.01;\"/>\r\n   </g>\r\n   <image height=\"652\" id=\"imagea0b9a950aa\" transform=\"scale(1 -1)translate(0 -652)\" width=\"33\" x=\"593\" xlink:href=\"data:image/png;base64,\r\niVBORw0KGgoAAAANSUhEUgAAACEAAAKMCAYAAABl+dF2AAAABHNCSVQICAgIfAhkiAAAA+lJREFUeJztncF1HDEMxagx00T679M+jOEtQTgAFeBJX59cr52cr3//v+cyz22BmZk9tw1GchIKiT3n/oV0EqA4CYXEnuk6ZqZgflBI7NN1vPREQSFRMKHGBIXEPvXES8EEhUSNCQqJXgfUmKCQKJjQyg8KiQYY9ERBIdEAg4IJComCCQqJPee+x32DabP6oJBos4KCCQqJggkFExQSBRMKJigkCiYUTFBI9FkUFBL9pAYKJigkCiY0wEAhUU9ATxQUEgUTOglQSPTXT9CnclBItFmBQqLahjYrUEgUTKgxQSGxBguDQ435h0KixoQaExQSNSYoJOoJaICBQqKegAYYKCRqTOiJgkKinoCeKCgk+voJ+voJFBINMFBINMCgYIJComBCwQSFRIsutGOCQqJgQo0JColGORRMUEg0wEAh0QCDegIUEvUE9ERBIVFPQE8UFBL1BOxz/X8Dk5yEQqLGhBoTFBIFExQSDTCoJ0AhUU9AmxUoJOoJ6ImCQqLrgBoTFBI1Jigk6gnoJEAhsafafimYoJDoOqDNChQSbVbQEwWFRD0BPVFQSOwz95OpOAmFRD0BDTBQSFTbsM/3/TeqOAmFRD0BPVFQSLRZQUsNKCT2FMyXZgcoJLoOUEjUE1AwQSFRMKEdExQS+wg+gjlOoif6i0KiAQZ7BL9UozgJhcQ+XceLQqIfIULBBIVEtQ0FExQSK/hHpjUnUTBnRiJRT0BPFBQS9QT0REEhsUfwPbXiJBQS1TYUTFBINMCgAQYKiT0CDYFCT/SDQqIBBi01oJAomNBJgEKingCFRK8D2jFBIdGiCwUTFBI1JhRMUEjs1JgvBRMUEl0HKCS6DliDhkBBIlEwoWCCQqJgQsEEhcQewd/lOU7CoCFQkEgUTCiYoJDYKZgvCol6AuoJUEjUE9ATBYVEwYROAhQSewS/2eM4iYL5i0Ki64Cd577HfYORSBRMUEi06ELBBIXEjuD7p/sGUzA/KCS6DtjTZvWikCiY0OwAhUTBBIVEH4ihYIJCotqGggkKiRZdKJigkKgxoWCCQqIdE3b6hvhFIVEwQSHRdUADDBQSbVbQEwWFRF/YQ08UFBL1BHQSoJDoExgUTFBINMBAIdHrgE4CFBINMCiYoJDoOqBRDgqJggkFExQSBRMKJigkCiYoJLoOqCdAIVEwoWCCQqJgQsEEhUTBhD3n67aD4yQUEgUTFBJdBzTAQCFRMKFggkJi52mfmJmC+UEhUWNCwQSFRJ/AoCcKCol6AhQSvQ4omKCQaOWHggkKiRoT9hTMF4VEwYQaExQSjXIomKCQqDFBIdE+AQUTFBLVNjTKQSHxA9zQMNcP9q+MAAAAAElFTkSuQmCC\" y=\"-11\"/>\r\n   <g id=\"matplotlib.axis_3\"/>\r\n   <g id=\"matplotlib.axis_4\">\r\n    <g id=\"ytick_6\">\r\n     <g id=\"line2d_11\">\r\n      <defs>\r\n       <path d=\"M 0 0 \r\nL 3.5 0 \r\n\" id=\"m170c9ea19a\" style=\"stroke:#000000;stroke-width:0.8;\"/>\r\n      </defs>\r\n      <g>\r\n       <use style=\"stroke:#000000;stroke-width:0.8;\" x=\"625.93225\" xlink:href=\"#m170c9ea19a\" y=\"590.409774\"/>\r\n      </g>\r\n     </g>\r\n     <g id=\"text_37\">\r\n      <!-- 0.2 -->\r\n      <g transform=\"translate(632.93225 594.208992)scale(0.1 -0.1)\">\r\n       <use xlink:href=\"#DejaVuSans-48\"/>\r\n       <use x=\"63.623047\" xlink:href=\"#DejaVuSans-46\"/>\r\n       <use x=\"95.410156\" xlink:href=\"#DejaVuSans-50\"/>\r\n      </g>\r\n     </g>\r\n    </g>\r\n    <g id=\"ytick_7\">\r\n     <g id=\"line2d_12\">\r\n      <g>\r\n       <use style=\"stroke:#000000;stroke-width:0.8;\" x=\"625.93225\" xlink:href=\"#m170c9ea19a\" y=\"445.557135\"/>\r\n      </g>\r\n     </g>\r\n     <g id=\"text_38\">\r\n      <!-- 0.4 -->\r\n      <defs>\r\n       <path d=\"M 37.796875 64.3125 \r\nL 12.890625 25.390625 \r\nL 37.796875 25.390625 \r\nz\r\nM 35.203125 72.90625 \r\nL 47.609375 72.90625 \r\nL 47.609375 25.390625 \r\nL 58.015625 25.390625 \r\nL 58.015625 17.1875 \r\nL 47.609375 17.1875 \r\nL 47.609375 0 \r\nL 37.796875 0 \r\nL 37.796875 17.1875 \r\nL 4.890625 17.1875 \r\nL 4.890625 26.703125 \r\nz\r\n\" id=\"DejaVuSans-52\"/>\r\n      </defs>\r\n      <g transform=\"translate(632.93225 449.356354)scale(0.1 -0.1)\">\r\n       <use xlink:href=\"#DejaVuSans-48\"/>\r\n       <use x=\"63.623047\" xlink:href=\"#DejaVuSans-46\"/>\r\n       <use x=\"95.410156\" xlink:href=\"#DejaVuSans-52\"/>\r\n      </g>\r\n     </g>\r\n    </g>\r\n    <g id=\"ytick_8\">\r\n     <g id=\"line2d_13\">\r\n      <g>\r\n       <use style=\"stroke:#000000;stroke-width:0.8;\" x=\"625.93225\" xlink:href=\"#m170c9ea19a\" y=\"300.704496\"/>\r\n      </g>\r\n     </g>\r\n     <g id=\"text_39\">\r\n      <!-- 0.6 -->\r\n      <defs>\r\n       <path d=\"M 33.015625 40.375 \r\nQ 26.375 40.375 22.484375 35.828125 \r\nQ 18.609375 31.296875 18.609375 23.390625 \r\nQ 18.609375 15.53125 22.484375 10.953125 \r\nQ 26.375 6.390625 33.015625 6.390625 \r\nQ 39.65625 6.390625 43.53125 10.953125 \r\nQ 47.40625 15.53125 47.40625 23.390625 \r\nQ 47.40625 31.296875 43.53125 35.828125 \r\nQ 39.65625 40.375 33.015625 40.375 \r\nz\r\nM 52.59375 71.296875 \r\nL 52.59375 62.3125 \r\nQ 48.875 64.0625 45.09375 64.984375 \r\nQ 41.3125 65.921875 37.59375 65.921875 \r\nQ 27.828125 65.921875 22.671875 59.328125 \r\nQ 17.53125 52.734375 16.796875 39.40625 \r\nQ 19.671875 43.65625 24.015625 45.921875 \r\nQ 28.375 48.1875 33.59375 48.1875 \r\nQ 44.578125 48.1875 50.953125 41.515625 \r\nQ 57.328125 34.859375 57.328125 23.390625 \r\nQ 57.328125 12.15625 50.6875 5.359375 \r\nQ 44.046875 -1.421875 33.015625 -1.421875 \r\nQ 20.359375 -1.421875 13.671875 8.265625 \r\nQ 6.984375 17.96875 6.984375 36.375 \r\nQ 6.984375 53.65625 15.1875 63.9375 \r\nQ 23.390625 74.21875 37.203125 74.21875 \r\nQ 40.921875 74.21875 44.703125 73.484375 \r\nQ 48.484375 72.75 52.59375 71.296875 \r\nz\r\n\" id=\"DejaVuSans-54\"/>\r\n      </defs>\r\n      <g transform=\"translate(632.93225 304.503715)scale(0.1 -0.1)\">\r\n       <use xlink:href=\"#DejaVuSans-48\"/>\r\n       <use x=\"63.623047\" xlink:href=\"#DejaVuSans-46\"/>\r\n       <use x=\"95.410156\" xlink:href=\"#DejaVuSans-54\"/>\r\n      </g>\r\n     </g>\r\n    </g>\r\n    <g id=\"ytick_9\">\r\n     <g id=\"line2d_14\">\r\n      <g>\r\n       <use style=\"stroke:#000000;stroke-width:0.8;\" x=\"625.93225\" xlink:href=\"#m170c9ea19a\" y=\"155.851857\"/>\r\n      </g>\r\n     </g>\r\n     <g id=\"text_40\">\r\n      <!-- 0.8 -->\r\n      <g transform=\"translate(632.93225 159.651076)scale(0.1 -0.1)\">\r\n       <use xlink:href=\"#DejaVuSans-48\"/>\r\n       <use x=\"63.623047\" xlink:href=\"#DejaVuSans-46\"/>\r\n       <use x=\"95.410156\" xlink:href=\"#DejaVuSans-56\"/>\r\n      </g>\r\n     </g>\r\n    </g>\r\n    <g id=\"ytick_10\">\r\n     <g id=\"line2d_15\">\r\n      <g>\r\n       <use style=\"stroke:#000000;stroke-width:0.8;\" x=\"625.93225\" xlink:href=\"#m170c9ea19a\" y=\"10.999219\"/>\r\n      </g>\r\n     </g>\r\n     <g id=\"text_41\">\r\n      <!-- 1.0 -->\r\n      <g transform=\"translate(632.93225 14.798437)scale(0.1 -0.1)\">\r\n       <use xlink:href=\"#DejaVuSans-49\"/>\r\n       <use x=\"63.623047\" xlink:href=\"#DejaVuSans-46\"/>\r\n       <use x=\"95.410156\" xlink:href=\"#DejaVuSans-48\"/>\r\n      </g>\r\n     </g>\r\n    </g>\r\n   </g>\r\n   <g id=\"patch_4\">\r\n    <path d=\"M 593.31625 663.319219 \r\nL 593.31625 660.771094 \r\nL 593.31625 13.547344 \r\nL 593.31625 10.999219 \r\nL 625.93225 10.999219 \r\nL 625.93225 13.547344 \r\nL 625.93225 660.771094 \r\nL 625.93225 663.319219 \r\nz\r\n\" style=\"fill:none;\"/>\r\n   </g>\r\n  </g>\r\n </g>\r\n <defs>\r\n  <clipPath id=\"pfa8dc29d14\">\r\n   <rect height=\"535.68\" width=\"535.68\" x=\"24.15625\" y=\"69.319219\"/>\r\n  </clipPath>\r\n  <clipPath id=\"p160fac6d5a\">\r\n   <rect height=\"652.32\" width=\"32.616\" x=\"593.31625\" y=\"10.999219\"/>\r\n  </clipPath>\r\n </defs>\r\n</svg>\r\n",
      "image/png": "[encoded data removed]"
     },
     "metadata": {
      "needs_background": "light"
     }
    }
   ],
   "source": [
    "plt.figure(figsize=(12,12))\n",
    "plt.title('Análisis de correlación entre variables', y=1.05, size=15)\n",
    "sns.heatmap(dataset_final.corr(), linewidths=0.1,vmax=1.0, square=True, linecolor='white', annot=True)"
   ]
  },
  {
   "source": [
    "## Clustering con K-Means"
   ],
   "cell_type": "markdown",
   "metadata": {}
  },
  {
   "cell_type": "code",
   "execution_count": 155,
   "metadata": {},
   "outputs": [],
   "source": [
    "from sklearn.cluster import KMeans,MeanShift\n",
    "from sklearn import decomposition\n"
   ]
  },
  {
   "source": [
    "### Definición del array de variables a utilizar en el algoritmo"
   ],
   "cell_type": "markdown",
   "metadata": {}
  },
  {
   "cell_type": "code",
   "execution_count": 166,
   "metadata": {},
   "outputs": [
    {
     "output_type": "execute_result",
     "data": {
      "text/plain": [
       "    confirmados  fallecidos  edad_promedio  cuidado_intensivo  \\\n",
       "0        524923       19864      71.603023              13726   \n",
       "1        142120        5924      76.635641               5127   \n",
       "2           694           1      97.000000                 35   \n",
       "3         12257         549      65.318761                994   \n",
       "4         13095         192      69.625000                174   \n",
       "5          2419          47      67.787234                 84   \n",
       "6         76510        1258      73.162957               1933   \n",
       "7         14644         456      71.291667                433   \n",
       "8           143           3      64.333333                 44   \n",
       "9         16413         745      66.697581                187   \n",
       "10         2807          54      71.648148                 86   \n",
       "11         7105         276      66.811594                122   \n",
       "12        43806         987      72.209726                606   \n",
       "13          243          92      58.445652                126   \n",
       "14        20370         420      68.295238                364   \n",
       "15        22138         631      69.920761                347   \n",
       "16        17697         888      66.038331                655   \n",
       "17         1763          65      74.523077                253   \n",
       "18         5999          53      71.377358                 59   \n",
       "19         8949         154      68.168831                179   \n",
       "20       100631        1338      73.343797               1473   \n",
       "21         8856         121      64.768595                 65   \n",
       "22        10195         137      66.072993                 82   \n",
       "23        43967         732      66.094262                435   \n",
       "\n",
       "    asistencia_respiratoria_mecanica  \n",
       "0                               5320  \n",
       "1                               2152  \n",
       "2                                 10  \n",
       "3                                435  \n",
       "4                                 77  \n",
       "5                                 45  \n",
       "6                                497  \n",
       "7                                164  \n",
       "8                                 26  \n",
       "9                                116  \n",
       "10                                39  \n",
       "11                                39  \n",
       "12                               305  \n",
       "13                                63  \n",
       "14                               233  \n",
       "15                               184  \n",
       "16                               315  \n",
       "17                                54  \n",
       "18                                25  \n",
       "19                               105  \n",
       "20                               657  \n",
       "21                                29  \n",
       "22                                64  \n",
       "23                               136  "
      ],
      "text/html": "<div>\n<style scoped>\n    .dataframe tbody tr th:only-of-type {\n        vertical-align: middle;\n    }\n\n    .dataframe tbody tr th {\n        vertical-align: top;\n    }\n\n    .dataframe thead th {\n        text-align: right;\n    }\n</style>\n<table border=\"1\" class=\"dataframe\">\n  <thead>\n    <tr style=\"text-align: right;\">\n      <th></th>\n      <th>confirmados</th>\n      <th>fallecidos</th>\n      <th>edad_promedio</th>\n      <th>cuidado_intensivo</th>\n      <th>asistencia_respiratoria_mecanica</th>\n    </tr>\n  </thead>\n  <tbody>\n    <tr>\n      <th>0</th>\n      <td>524923</td>\n      <td>19864</td>\n      <td>71.603023</td>\n      <td>13726</td>\n      <td>5320</td>\n    </tr>\n    <tr>\n      <th>1</th>\n      <td>142120</td>\n      <td>5924</td>\n      <td>76.635641</td>\n      <td>5127</td>\n      <td>2152</td>\n    </tr>\n    <tr>\n      <th>2</th>\n      <td>694</td>\n      <td>1</td>\n      <td>97.000000</td>\n      <td>35</td>\n      <td>10</td>\n    </tr>\n    <tr>\n      <th>3</th>\n      <td>12257</td>\n      <td>549</td>\n      <td>65.318761</td>\n      <td>994</td>\n      <td>435</td>\n    </tr>\n    <tr>\n      <th>4</th>\n      <td>13095</td>\n      <td>192</td>\n      <td>69.625000</td>\n      <td>174</td>\n      <td>77</td>\n    </tr>\n    <tr>\n      <th>5</th>\n      <td>2419</td>\n      <td>47</td>\n      <td>67.787234</td>\n      <td>84</td>\n      <td>45</td>\n    </tr>\n    <tr>\n      <th>6</th>\n      <td>76510</td>\n      <td>1258</td>\n      <td>73.162957</td>\n      <td>1933</td>\n      <td>497</td>\n    </tr>\n    <tr>\n      <th>7</th>\n      <td>14644</td>\n      <td>456</td>\n      <td>71.291667</td>\n      <td>433</td>\n      <td>164</td>\n    </tr>\n    <tr>\n      <th>8</th>\n      <td>143</td>\n      <td>3</td>\n      <td>64.333333</td>\n      <td>44</td>\n      <td>26</td>\n    </tr>\n    <tr>\n      <th>9</th>\n      <td>16413</td>\n      <td>745</td>\n      <td>66.697581</td>\n      <td>187</td>\n      <td>116</td>\n    </tr>\n    <tr>\n      <th>10</th>\n      <td>2807</td>\n      <td>54</td>\n      <td>71.648148</td>\n      <td>86</td>\n      <td>39</td>\n    </tr>\n    <tr>\n      <th>11</th>\n      <td>7105</td>\n      <td>276</td>\n      <td>66.811594</td>\n      <td>122</td>\n      <td>39</td>\n    </tr>\n    <tr>\n      <th>12</th>\n      <td>43806</td>\n      <td>987</td>\n      <td>72.209726</td>\n      <td>606</td>\n      <td>305</td>\n    </tr>\n    <tr>\n      <th>13</th>\n      <td>243</td>\n      <td>92</td>\n      <td>58.445652</td>\n      <td>126</td>\n      <td>63</td>\n    </tr>\n    <tr>\n      <th>14</th>\n      <td>20370</td>\n      <td>420</td>\n      <td>68.295238</td>\n      <td>364</td>\n      <td>233</td>\n    </tr>\n    <tr>\n      <th>15</th>\n      <td>22138</td>\n      <td>631</td>\n      <td>69.920761</td>\n      <td>347</td>\n      <td>184</td>\n    </tr>\n    <tr>\n      <th>16</th>\n      <td>17697</td>\n      <td>888</td>\n      <td>66.038331</td>\n      <td>655</td>\n      <td>315</td>\n    </tr>\n    <tr>\n      <th>17</th>\n      <td>1763</td>\n      <td>65</td>\n      <td>74.523077</td>\n      <td>253</td>\n      <td>54</td>\n    </tr>\n    <tr>\n      <th>18</th>\n      <td>5999</td>\n      <td>53</td>\n      <td>71.377358</td>\n      <td>59</td>\n      <td>25</td>\n    </tr>\n    <tr>\n      <th>19</th>\n      <td>8949</td>\n      <td>154</td>\n      <td>68.168831</td>\n      <td>179</td>\n      <td>105</td>\n    </tr>\n    <tr>\n      <th>20</th>\n      <td>100631</td>\n      <td>1338</td>\n      <td>73.343797</td>\n      <td>1473</td>\n      <td>657</td>\n    </tr>\n    <tr>\n      <th>21</th>\n      <td>8856</td>\n      <td>121</td>\n      <td>64.768595</td>\n      <td>65</td>\n      <td>29</td>\n    </tr>\n    <tr>\n      <th>22</th>\n      <td>10195</td>\n      <td>137</td>\n      <td>66.072993</td>\n      <td>82</td>\n      <td>64</td>\n    </tr>\n    <tr>\n      <th>23</th>\n      <td>43967</td>\n      <td>732</td>\n      <td>66.094262</td>\n      <td>435</td>\n      <td>136</td>\n    </tr>\n  </tbody>\n</table>\n</div>"
     },
     "metadata": {},
     "execution_count": 166
    }
   ],
   "source": [
    "values = [\"confirmados\", \"fallecidos\", \"edad_promedio\", \"cuidado_intensivo\", \"asistencia_respiratoria_mecanica\"]\n",
    "dataset_km = dataset_final[values]\n",
    "dataset_km"
   ]
  },
  {
   "source": [
    "### Análisis y búsqueda del número óptimo de clusters a través de Inertia"
   ],
   "cell_type": "markdown",
   "metadata": {}
  },
  {
   "cell_type": "code",
   "execution_count": 167,
   "metadata": {},
   "outputs": [
    {
     "output_type": "execute_result",
     "data": {
      "text/plain": [
       "Text(0.5, 1.0, 'Inertia of k-Means versus number of clusters')"
      ]
     },
     "metadata": {},
     "execution_count": 167
    },
    {
     "output_type": "display_data",
     "data": {
      "text/plain": "<Figure size 864x432 with 1 Axes>",
      "image/svg+xml": "<?xml version=\"1.0\" encoding=\"utf-8\" standalone=\"no\"?>\r\n<!DOCTYPE svg PUBLIC \"-//W3C//DTD SVG 1.1//EN\"\r\n  \"http://www.w3.org/Graphics/SVG/1.1/DTD/svg11.dtd\">\r\n<!-- Created with matplotlib (https://matplotlib.org/) -->\r\n<svg height=\"386.034375pt\" version=\"1.1\" viewBox=\"0 0 720.58125 386.034375\" width=\"720.58125pt\" xmlns=\"http://www.w3.org/2000/svg\" xmlns:xlink=\"http://www.w3.org/1999/xlink\">\r\n <defs>\r\n  <style type=\"text/css\">\r\n*{stroke-linecap:butt;stroke-linejoin:round;}\r\n  </style>\r\n </defs>\r\n <g id=\"figure_1\">\r\n  <g id=\"patch_1\">\r\n   <path d=\"M 0 386.034375 \r\nL 720.58125 386.034375 \r\nL 720.58125 0 \r\nL 0 0 \r\nz\r\n\" style=\"fill:none;\"/>\r\n  </g>\r\n  <g id=\"axes_1\">\r\n   <g id=\"patch_2\">\r\n    <path d=\"M 43.78125 348.478125 \r\nL 713.38125 348.478125 \r\nL 713.38125 22.318125 \r\nL 43.78125 22.318125 \r\nz\r\n\" style=\"fill:#ffffff;\"/>\r\n   </g>\r\n   <g id=\"matplotlib.axis_1\">\r\n    <g id=\"xtick_1\">\r\n     <g id=\"line2d_1\">\r\n      <defs>\r\n       <path d=\"M 0 0 \r\nL 0 3.5 \r\n\" id=\"m44e85771ca\" style=\"stroke:#000000;stroke-width:0.8;\"/>\r\n      </defs>\r\n      <g>\r\n       <use style=\"stroke:#000000;stroke-width:0.8;\" x=\"74.217614\" xlink:href=\"#m44e85771ca\" y=\"348.478125\"/>\r\n      </g>\r\n     </g>\r\n     <g id=\"text_1\">\r\n      <!-- 2 -->\r\n      <defs>\r\n       <path d=\"M 19.1875 8.296875 \r\nL 53.609375 8.296875 \r\nL 53.609375 0 \r\nL 7.328125 0 \r\nL 7.328125 8.296875 \r\nQ 12.9375 14.109375 22.625 23.890625 \r\nQ 32.328125 33.6875 34.8125 36.53125 \r\nQ 39.546875 41.84375 41.421875 45.53125 \r\nQ 43.3125 49.21875 43.3125 52.78125 \r\nQ 43.3125 58.59375 39.234375 62.25 \r\nQ 35.15625 65.921875 28.609375 65.921875 \r\nQ 23.96875 65.921875 18.8125 64.3125 \r\nQ 13.671875 62.703125 7.8125 59.421875 \r\nL 7.8125 69.390625 \r\nQ 13.765625 71.78125 18.9375 73 \r\nQ 24.125 74.21875 28.421875 74.21875 \r\nQ 39.75 74.21875 46.484375 68.546875 \r\nQ 53.21875 62.890625 53.21875 53.421875 \r\nQ 53.21875 48.921875 51.53125 44.890625 \r\nQ 49.859375 40.875 45.40625 35.40625 \r\nQ 44.1875 33.984375 37.640625 27.21875 \r\nQ 31.109375 20.453125 19.1875 8.296875 \r\nz\r\n\" id=\"DejaVuSans-50\"/>\r\n      </defs>\r\n      <g transform=\"translate(71.036364 363.076562)scale(0.1 -0.1)\">\r\n       <use xlink:href=\"#DejaVuSans-50\"/>\r\n      </g>\r\n     </g>\r\n    </g>\r\n    <g id=\"xtick_2\">\r\n     <g id=\"line2d_2\">\r\n      <g>\r\n       <use style=\"stroke:#000000;stroke-width:0.8;\" x=\"209.490341\" xlink:href=\"#m44e85771ca\" y=\"348.478125\"/>\r\n      </g>\r\n     </g>\r\n     <g id=\"text_2\">\r\n      <!-- 4 -->\r\n      <defs>\r\n       <path d=\"M 37.796875 64.3125 \r\nL 12.890625 25.390625 \r\nL 37.796875 25.390625 \r\nz\r\nM 35.203125 72.90625 \r\nL 47.609375 72.90625 \r\nL 47.609375 25.390625 \r\nL 58.015625 25.390625 \r\nL 58.015625 17.1875 \r\nL 47.609375 17.1875 \r\nL 47.609375 0 \r\nL 37.796875 0 \r\nL 37.796875 17.1875 \r\nL 4.890625 17.1875 \r\nL 4.890625 26.703125 \r\nz\r\n\" id=\"DejaVuSans-52\"/>\r\n      </defs>\r\n      <g transform=\"translate(206.309091 363.076562)scale(0.1 -0.1)\">\r\n       <use xlink:href=\"#DejaVuSans-52\"/>\r\n      </g>\r\n     </g>\r\n    </g>\r\n    <g id=\"xtick_3\">\r\n     <g id=\"line2d_3\">\r\n      <g>\r\n       <use style=\"stroke:#000000;stroke-width:0.8;\" x=\"344.763068\" xlink:href=\"#m44e85771ca\" y=\"348.478125\"/>\r\n      </g>\r\n     </g>\r\n     <g id=\"text_3\">\r\n      <!-- 6 -->\r\n      <defs>\r\n       <path d=\"M 33.015625 40.375 \r\nQ 26.375 40.375 22.484375 35.828125 \r\nQ 18.609375 31.296875 18.609375 23.390625 \r\nQ 18.609375 15.53125 22.484375 10.953125 \r\nQ 26.375 6.390625 33.015625 6.390625 \r\nQ 39.65625 6.390625 43.53125 10.953125 \r\nQ 47.40625 15.53125 47.40625 23.390625 \r\nQ 47.40625 31.296875 43.53125 35.828125 \r\nQ 39.65625 40.375 33.015625 40.375 \r\nz\r\nM 52.59375 71.296875 \r\nL 52.59375 62.3125 \r\nQ 48.875 64.0625 45.09375 64.984375 \r\nQ 41.3125 65.921875 37.59375 65.921875 \r\nQ 27.828125 65.921875 22.671875 59.328125 \r\nQ 17.53125 52.734375 16.796875 39.40625 \r\nQ 19.671875 43.65625 24.015625 45.921875 \r\nQ 28.375 48.1875 33.59375 48.1875 \r\nQ 44.578125 48.1875 50.953125 41.515625 \r\nQ 57.328125 34.859375 57.328125 23.390625 \r\nQ 57.328125 12.15625 50.6875 5.359375 \r\nQ 44.046875 -1.421875 33.015625 -1.421875 \r\nQ 20.359375 -1.421875 13.671875 8.265625 \r\nQ 6.984375 17.96875 6.984375 36.375 \r\nQ 6.984375 53.65625 15.1875 63.9375 \r\nQ 23.390625 74.21875 37.203125 74.21875 \r\nQ 40.921875 74.21875 44.703125 73.484375 \r\nQ 48.484375 72.75 52.59375 71.296875 \r\nz\r\n\" id=\"DejaVuSans-54\"/>\r\n      </defs>\r\n      <g transform=\"translate(341.581818 363.076562)scale(0.1 -0.1)\">\r\n       <use xlink:href=\"#DejaVuSans-54\"/>\r\n      </g>\r\n     </g>\r\n    </g>\r\n    <g id=\"xtick_4\">\r\n     <g id=\"line2d_4\">\r\n      <g>\r\n       <use style=\"stroke:#000000;stroke-width:0.8;\" x=\"480.035795\" xlink:href=\"#m44e85771ca\" y=\"348.478125\"/>\r\n      </g>\r\n     </g>\r\n     <g id=\"text_4\">\r\n      <!-- 8 -->\r\n      <defs>\r\n       <path d=\"M 31.78125 34.625 \r\nQ 24.75 34.625 20.71875 30.859375 \r\nQ 16.703125 27.09375 16.703125 20.515625 \r\nQ 16.703125 13.921875 20.71875 10.15625 \r\nQ 24.75 6.390625 31.78125 6.390625 \r\nQ 38.8125 6.390625 42.859375 10.171875 \r\nQ 46.921875 13.96875 46.921875 20.515625 \r\nQ 46.921875 27.09375 42.890625 30.859375 \r\nQ 38.875 34.625 31.78125 34.625 \r\nz\r\nM 21.921875 38.8125 \r\nQ 15.578125 40.375 12.03125 44.71875 \r\nQ 8.5 49.078125 8.5 55.328125 \r\nQ 8.5 64.0625 14.71875 69.140625 \r\nQ 20.953125 74.21875 31.78125 74.21875 \r\nQ 42.671875 74.21875 48.875 69.140625 \r\nQ 55.078125 64.0625 55.078125 55.328125 \r\nQ 55.078125 49.078125 51.53125 44.71875 \r\nQ 48 40.375 41.703125 38.8125 \r\nQ 48.828125 37.15625 52.796875 32.3125 \r\nQ 56.78125 27.484375 56.78125 20.515625 \r\nQ 56.78125 9.90625 50.3125 4.234375 \r\nQ 43.84375 -1.421875 31.78125 -1.421875 \r\nQ 19.734375 -1.421875 13.25 4.234375 \r\nQ 6.78125 9.90625 6.78125 20.515625 \r\nQ 6.78125 27.484375 10.78125 32.3125 \r\nQ 14.796875 37.15625 21.921875 38.8125 \r\nz\r\nM 18.3125 54.390625 \r\nQ 18.3125 48.734375 21.84375 45.5625 \r\nQ 25.390625 42.390625 31.78125 42.390625 \r\nQ 38.140625 42.390625 41.71875 45.5625 \r\nQ 45.3125 48.734375 45.3125 54.390625 \r\nQ 45.3125 60.0625 41.71875 63.234375 \r\nQ 38.140625 66.40625 31.78125 66.40625 \r\nQ 25.390625 66.40625 21.84375 63.234375 \r\nQ 18.3125 60.0625 18.3125 54.390625 \r\nz\r\n\" id=\"DejaVuSans-56\"/>\r\n      </defs>\r\n      <g transform=\"translate(476.854545 363.076562)scale(0.1 -0.1)\">\r\n       <use xlink:href=\"#DejaVuSans-56\"/>\r\n      </g>\r\n     </g>\r\n    </g>\r\n    <g id=\"xtick_5\">\r\n     <g id=\"line2d_5\">\r\n      <g>\r\n       <use style=\"stroke:#000000;stroke-width:0.8;\" x=\"615.308523\" xlink:href=\"#m44e85771ca\" y=\"348.478125\"/>\r\n      </g>\r\n     </g>\r\n     <g id=\"text_5\">\r\n      <!-- 10 -->\r\n      <defs>\r\n       <path d=\"M 12.40625 8.296875 \r\nL 28.515625 8.296875 \r\nL 28.515625 63.921875 \r\nL 10.984375 60.40625 \r\nL 10.984375 69.390625 \r\nL 28.421875 72.90625 \r\nL 38.28125 72.90625 \r\nL 38.28125 8.296875 \r\nL 54.390625 8.296875 \r\nL 54.390625 0 \r\nL 12.40625 0 \r\nz\r\n\" id=\"DejaVuSans-49\"/>\r\n       <path d=\"M 31.78125 66.40625 \r\nQ 24.171875 66.40625 20.328125 58.90625 \r\nQ 16.5 51.421875 16.5 36.375 \r\nQ 16.5 21.390625 20.328125 13.890625 \r\nQ 24.171875 6.390625 31.78125 6.390625 \r\nQ 39.453125 6.390625 43.28125 13.890625 \r\nQ 47.125 21.390625 47.125 36.375 \r\nQ 47.125 51.421875 43.28125 58.90625 \r\nQ 39.453125 66.40625 31.78125 66.40625 \r\nz\r\nM 31.78125 74.21875 \r\nQ 44.046875 74.21875 50.515625 64.515625 \r\nQ 56.984375 54.828125 56.984375 36.375 \r\nQ 56.984375 17.96875 50.515625 8.265625 \r\nQ 44.046875 -1.421875 31.78125 -1.421875 \r\nQ 19.53125 -1.421875 13.0625 8.265625 \r\nQ 6.59375 17.96875 6.59375 36.375 \r\nQ 6.59375 54.828125 13.0625 64.515625 \r\nQ 19.53125 74.21875 31.78125 74.21875 \r\nz\r\n\" id=\"DejaVuSans-48\"/>\r\n      </defs>\r\n      <g transform=\"translate(608.946023 363.076562)scale(0.1 -0.1)\">\r\n       <use xlink:href=\"#DejaVuSans-49\"/>\r\n       <use x=\"63.623047\" xlink:href=\"#DejaVuSans-48\"/>\r\n      </g>\r\n     </g>\r\n    </g>\r\n    <g id=\"text_6\">\r\n     <!-- Number of clusters -->\r\n     <defs>\r\n      <path d=\"M 9.8125 72.90625 \r\nL 23.09375 72.90625 \r\nL 55.421875 11.921875 \r\nL 55.421875 72.90625 \r\nL 64.984375 72.90625 \r\nL 64.984375 0 \r\nL 51.703125 0 \r\nL 19.390625 60.984375 \r\nL 19.390625 0 \r\nL 9.8125 0 \r\nz\r\n\" id=\"DejaVuSans-78\"/>\r\n      <path d=\"M 8.5 21.578125 \r\nL 8.5 54.6875 \r\nL 17.484375 54.6875 \r\nL 17.484375 21.921875 \r\nQ 17.484375 14.15625 20.5 10.265625 \r\nQ 23.53125 6.390625 29.59375 6.390625 \r\nQ 36.859375 6.390625 41.078125 11.03125 \r\nQ 45.3125 15.671875 45.3125 23.6875 \r\nL 45.3125 54.6875 \r\nL 54.296875 54.6875 \r\nL 54.296875 0 \r\nL 45.3125 0 \r\nL 45.3125 8.40625 \r\nQ 42.046875 3.421875 37.71875 1 \r\nQ 33.40625 -1.421875 27.6875 -1.421875 \r\nQ 18.265625 -1.421875 13.375 4.4375 \r\nQ 8.5 10.296875 8.5 21.578125 \r\nz\r\nM 31.109375 56 \r\nz\r\n\" id=\"DejaVuSans-117\"/>\r\n      <path d=\"M 52 44.1875 \r\nQ 55.375 50.25 60.0625 53.125 \r\nQ 64.75 56 71.09375 56 \r\nQ 79.640625 56 84.28125 50.015625 \r\nQ 88.921875 44.046875 88.921875 33.015625 \r\nL 88.921875 0 \r\nL 79.890625 0 \r\nL 79.890625 32.71875 \r\nQ 79.890625 40.578125 77.09375 44.375 \r\nQ 74.3125 48.1875 68.609375 48.1875 \r\nQ 61.625 48.1875 57.5625 43.546875 \r\nQ 53.515625 38.921875 53.515625 30.90625 \r\nL 53.515625 0 \r\nL 44.484375 0 \r\nL 44.484375 32.71875 \r\nQ 44.484375 40.625 41.703125 44.40625 \r\nQ 38.921875 48.1875 33.109375 48.1875 \r\nQ 26.21875 48.1875 22.15625 43.53125 \r\nQ 18.109375 38.875 18.109375 30.90625 \r\nL 18.109375 0 \r\nL 9.078125 0 \r\nL 9.078125 54.6875 \r\nL 18.109375 54.6875 \r\nL 18.109375 46.1875 \r\nQ 21.1875 51.21875 25.484375 53.609375 \r\nQ 29.78125 56 35.6875 56 \r\nQ 41.65625 56 45.828125 52.96875 \r\nQ 50 49.953125 52 44.1875 \r\nz\r\n\" id=\"DejaVuSans-109\"/>\r\n      <path d=\"M 48.6875 27.296875 \r\nQ 48.6875 37.203125 44.609375 42.84375 \r\nQ 40.53125 48.484375 33.40625 48.484375 \r\nQ 26.265625 48.484375 22.1875 42.84375 \r\nQ 18.109375 37.203125 18.109375 27.296875 \r\nQ 18.109375 17.390625 22.1875 11.75 \r\nQ 26.265625 6.109375 33.40625 6.109375 \r\nQ 40.53125 6.109375 44.609375 11.75 \r\nQ 48.6875 17.390625 48.6875 27.296875 \r\nz\r\nM 18.109375 46.390625 \r\nQ 20.953125 51.265625 25.265625 53.625 \r\nQ 29.59375 56 35.59375 56 \r\nQ 45.5625 56 51.78125 48.09375 \r\nQ 58.015625 40.1875 58.015625 27.296875 \r\nQ 58.015625 14.40625 51.78125 6.484375 \r\nQ 45.5625 -1.421875 35.59375 -1.421875 \r\nQ 29.59375 -1.421875 25.265625 0.953125 \r\nQ 20.953125 3.328125 18.109375 8.203125 \r\nL 18.109375 0 \r\nL 9.078125 0 \r\nL 9.078125 75.984375 \r\nL 18.109375 75.984375 \r\nz\r\n\" id=\"DejaVuSans-98\"/>\r\n      <path d=\"M 56.203125 29.59375 \r\nL 56.203125 25.203125 \r\nL 14.890625 25.203125 \r\nQ 15.484375 15.921875 20.484375 11.0625 \r\nQ 25.484375 6.203125 34.421875 6.203125 \r\nQ 39.59375 6.203125 44.453125 7.46875 \r\nQ 49.3125 8.734375 54.109375 11.28125 \r\nL 54.109375 2.78125 \r\nQ 49.265625 0.734375 44.1875 -0.34375 \r\nQ 39.109375 -1.421875 33.890625 -1.421875 \r\nQ 20.796875 -1.421875 13.15625 6.1875 \r\nQ 5.515625 13.8125 5.515625 26.8125 \r\nQ 5.515625 40.234375 12.765625 48.109375 \r\nQ 20.015625 56 32.328125 56 \r\nQ 43.359375 56 49.78125 48.890625 \r\nQ 56.203125 41.796875 56.203125 29.59375 \r\nz\r\nM 47.21875 32.234375 \r\nQ 47.125 39.59375 43.09375 43.984375 \r\nQ 39.0625 48.390625 32.421875 48.390625 \r\nQ 24.90625 48.390625 20.390625 44.140625 \r\nQ 15.875 39.890625 15.1875 32.171875 \r\nz\r\n\" id=\"DejaVuSans-101\"/>\r\n      <path d=\"M 41.109375 46.296875 \r\nQ 39.59375 47.171875 37.8125 47.578125 \r\nQ 36.03125 48 33.890625 48 \r\nQ 26.265625 48 22.1875 43.046875 \r\nQ 18.109375 38.09375 18.109375 28.8125 \r\nL 18.109375 0 \r\nL 9.078125 0 \r\nL 9.078125 54.6875 \r\nL 18.109375 54.6875 \r\nL 18.109375 46.1875 \r\nQ 20.953125 51.171875 25.484375 53.578125 \r\nQ 30.03125 56 36.53125 56 \r\nQ 37.453125 56 38.578125 55.875 \r\nQ 39.703125 55.765625 41.0625 55.515625 \r\nz\r\n\" id=\"DejaVuSans-114\"/>\r\n      <path id=\"DejaVuSans-32\"/>\r\n      <path d=\"M 30.609375 48.390625 \r\nQ 23.390625 48.390625 19.1875 42.75 \r\nQ 14.984375 37.109375 14.984375 27.296875 \r\nQ 14.984375 17.484375 19.15625 11.84375 \r\nQ 23.34375 6.203125 30.609375 6.203125 \r\nQ 37.796875 6.203125 41.984375 11.859375 \r\nQ 46.1875 17.53125 46.1875 27.296875 \r\nQ 46.1875 37.015625 41.984375 42.703125 \r\nQ 37.796875 48.390625 30.609375 48.390625 \r\nz\r\nM 30.609375 56 \r\nQ 42.328125 56 49.015625 48.375 \r\nQ 55.71875 40.765625 55.71875 27.296875 \r\nQ 55.71875 13.875 49.015625 6.21875 \r\nQ 42.328125 -1.421875 30.609375 -1.421875 \r\nQ 18.84375 -1.421875 12.171875 6.21875 \r\nQ 5.515625 13.875 5.515625 27.296875 \r\nQ 5.515625 40.765625 12.171875 48.375 \r\nQ 18.84375 56 30.609375 56 \r\nz\r\n\" id=\"DejaVuSans-111\"/>\r\n      <path d=\"M 37.109375 75.984375 \r\nL 37.109375 68.5 \r\nL 28.515625 68.5 \r\nQ 23.6875 68.5 21.796875 66.546875 \r\nQ 19.921875 64.59375 19.921875 59.515625 \r\nL 19.921875 54.6875 \r\nL 34.71875 54.6875 \r\nL 34.71875 47.703125 \r\nL 19.921875 47.703125 \r\nL 19.921875 0 \r\nL 10.890625 0 \r\nL 10.890625 47.703125 \r\nL 2.296875 47.703125 \r\nL 2.296875 54.6875 \r\nL 10.890625 54.6875 \r\nL 10.890625 58.5 \r\nQ 10.890625 67.625 15.140625 71.796875 \r\nQ 19.390625 75.984375 28.609375 75.984375 \r\nz\r\n\" id=\"DejaVuSans-102\"/>\r\n      <path d=\"M 48.78125 52.59375 \r\nL 48.78125 44.1875 \r\nQ 44.96875 46.296875 41.140625 47.34375 \r\nQ 37.3125 48.390625 33.40625 48.390625 \r\nQ 24.65625 48.390625 19.8125 42.84375 \r\nQ 14.984375 37.3125 14.984375 27.296875 \r\nQ 14.984375 17.28125 19.8125 11.734375 \r\nQ 24.65625 6.203125 33.40625 6.203125 \r\nQ 37.3125 6.203125 41.140625 7.25 \r\nQ 44.96875 8.296875 48.78125 10.40625 \r\nL 48.78125 2.09375 \r\nQ 45.015625 0.34375 40.984375 -0.53125 \r\nQ 36.96875 -1.421875 32.421875 -1.421875 \r\nQ 20.0625 -1.421875 12.78125 6.34375 \r\nQ 5.515625 14.109375 5.515625 27.296875 \r\nQ 5.515625 40.671875 12.859375 48.328125 \r\nQ 20.21875 56 33.015625 56 \r\nQ 37.15625 56 41.109375 55.140625 \r\nQ 45.0625 54.296875 48.78125 52.59375 \r\nz\r\n\" id=\"DejaVuSans-99\"/>\r\n      <path d=\"M 9.421875 75.984375 \r\nL 18.40625 75.984375 \r\nL 18.40625 0 \r\nL 9.421875 0 \r\nz\r\n\" id=\"DejaVuSans-108\"/>\r\n      <path d=\"M 44.28125 53.078125 \r\nL 44.28125 44.578125 \r\nQ 40.484375 46.53125 36.375 47.5 \r\nQ 32.28125 48.484375 27.875 48.484375 \r\nQ 21.1875 48.484375 17.84375 46.4375 \r\nQ 14.5 44.390625 14.5 40.28125 \r\nQ 14.5 37.15625 16.890625 35.375 \r\nQ 19.28125 33.59375 26.515625 31.984375 \r\nL 29.59375 31.296875 \r\nQ 39.15625 29.25 43.1875 25.515625 \r\nQ 47.21875 21.78125 47.21875 15.09375 \r\nQ 47.21875 7.46875 41.1875 3.015625 \r\nQ 35.15625 -1.421875 24.609375 -1.421875 \r\nQ 20.21875 -1.421875 15.453125 -0.5625 \r\nQ 10.6875 0.296875 5.421875 2 \r\nL 5.421875 11.28125 \r\nQ 10.40625 8.6875 15.234375 7.390625 \r\nQ 20.0625 6.109375 24.8125 6.109375 \r\nQ 31.15625 6.109375 34.5625 8.28125 \r\nQ 37.984375 10.453125 37.984375 14.40625 \r\nQ 37.984375 18.0625 35.515625 20.015625 \r\nQ 33.0625 21.96875 24.703125 23.78125 \r\nL 21.578125 24.515625 \r\nQ 13.234375 26.265625 9.515625 29.90625 \r\nQ 5.8125 33.546875 5.8125 39.890625 \r\nQ 5.8125 47.609375 11.28125 51.796875 \r\nQ 16.75 56 26.8125 56 \r\nQ 31.78125 56 36.171875 55.265625 \r\nQ 40.578125 54.546875 44.28125 53.078125 \r\nz\r\n\" id=\"DejaVuSans-115\"/>\r\n      <path d=\"M 18.3125 70.21875 \r\nL 18.3125 54.6875 \r\nL 36.8125 54.6875 \r\nL 36.8125 47.703125 \r\nL 18.3125 47.703125 \r\nL 18.3125 18.015625 \r\nQ 18.3125 11.328125 20.140625 9.421875 \r\nQ 21.96875 7.515625 27.59375 7.515625 \r\nL 36.8125 7.515625 \r\nL 36.8125 0 \r\nL 27.59375 0 \r\nQ 17.1875 0 13.234375 3.875 \r\nQ 9.28125 7.765625 9.28125 18.015625 \r\nL 9.28125 47.703125 \r\nL 2.6875 47.703125 \r\nL 2.6875 54.6875 \r\nL 9.28125 54.6875 \r\nL 9.28125 70.21875 \r\nz\r\n\" id=\"DejaVuSans-116\"/>\r\n     </defs>\r\n     <g transform=\"translate(330.889063 376.754687)scale(0.1 -0.1)\">\r\n      <use xlink:href=\"#DejaVuSans-78\"/>\r\n      <use x=\"74.804688\" xlink:href=\"#DejaVuSans-117\"/>\r\n      <use x=\"138.183594\" xlink:href=\"#DejaVuSans-109\"/>\r\n      <use x=\"235.595703\" xlink:href=\"#DejaVuSans-98\"/>\r\n      <use x=\"299.072266\" xlink:href=\"#DejaVuSans-101\"/>\r\n      <use x=\"360.595703\" xlink:href=\"#DejaVuSans-114\"/>\r\n      <use x=\"401.708984\" xlink:href=\"#DejaVuSans-32\"/>\r\n      <use x=\"433.496094\" xlink:href=\"#DejaVuSans-111\"/>\r\n      <use x=\"494.677734\" xlink:href=\"#DejaVuSans-102\"/>\r\n      <use x=\"529.882812\" xlink:href=\"#DejaVuSans-32\"/>\r\n      <use x=\"561.669922\" xlink:href=\"#DejaVuSans-99\"/>\r\n      <use x=\"616.650391\" xlink:href=\"#DejaVuSans-108\"/>\r\n      <use x=\"644.433594\" xlink:href=\"#DejaVuSans-117\"/>\r\n      <use x=\"707.8125\" xlink:href=\"#DejaVuSans-115\"/>\r\n      <use x=\"759.912109\" xlink:href=\"#DejaVuSans-116\"/>\r\n      <use x=\"799.121094\" xlink:href=\"#DejaVuSans-101\"/>\r\n      <use x=\"860.644531\" xlink:href=\"#DejaVuSans-114\"/>\r\n      <use x=\"901.757812\" xlink:href=\"#DejaVuSans-115\"/>\r\n     </g>\r\n    </g>\r\n   </g>\r\n   <g id=\"matplotlib.axis_2\">\r\n    <g id=\"ytick_1\">\r\n     <g id=\"line2d_6\">\r\n      <defs>\r\n       <path d=\"M 0 0 \r\nL -3.5 0 \r\n\" id=\"m016f6c80d9\" style=\"stroke:#000000;stroke-width:0.8;\"/>\r\n      </defs>\r\n      <g>\r\n       <use style=\"stroke:#000000;stroke-width:0.8;\" x=\"43.78125\" xlink:href=\"#m016f6c80d9\" y=\"333.804111\"/>\r\n      </g>\r\n     </g>\r\n     <g id=\"text_7\">\r\n      <!-- 0.0 -->\r\n      <defs>\r\n       <path d=\"M 10.6875 12.40625 \r\nL 21 12.40625 \r\nL 21 0 \r\nL 10.6875 0 \r\nz\r\n\" id=\"DejaVuSans-46\"/>\r\n      </defs>\r\n      <g transform=\"translate(20.878125 337.60333)scale(0.1 -0.1)\">\r\n       <use xlink:href=\"#DejaVuSans-48\"/>\r\n       <use x=\"63.623047\" xlink:href=\"#DejaVuSans-46\"/>\r\n       <use x=\"95.410156\" xlink:href=\"#DejaVuSans-48\"/>\r\n      </g>\r\n     </g>\r\n    </g>\r\n    <g id=\"ytick_2\">\r\n     <g id=\"line2d_7\">\r\n      <g>\r\n       <use style=\"stroke:#000000;stroke-width:0.8;\" x=\"43.78125\" xlink:href=\"#m016f6c80d9\" y=\"281.238112\"/>\r\n      </g>\r\n     </g>\r\n     <g id=\"text_8\">\r\n      <!-- 0.5 -->\r\n      <defs>\r\n       <path d=\"M 10.796875 72.90625 \r\nL 49.515625 72.90625 \r\nL 49.515625 64.59375 \r\nL 19.828125 64.59375 \r\nL 19.828125 46.734375 \r\nQ 21.96875 47.46875 24.109375 47.828125 \r\nQ 26.265625 48.1875 28.421875 48.1875 \r\nQ 40.625 48.1875 47.75 41.5 \r\nQ 54.890625 34.8125 54.890625 23.390625 \r\nQ 54.890625 11.625 47.5625 5.09375 \r\nQ 40.234375 -1.421875 26.90625 -1.421875 \r\nQ 22.3125 -1.421875 17.546875 -0.640625 \r\nQ 12.796875 0.140625 7.71875 1.703125 \r\nL 7.71875 11.625 \r\nQ 12.109375 9.234375 16.796875 8.0625 \r\nQ 21.484375 6.890625 26.703125 6.890625 \r\nQ 35.15625 6.890625 40.078125 11.328125 \r\nQ 45.015625 15.765625 45.015625 23.390625 \r\nQ 45.015625 31 40.078125 35.4375 \r\nQ 35.15625 39.890625 26.703125 39.890625 \r\nQ 22.75 39.890625 18.8125 39.015625 \r\nQ 14.890625 38.140625 10.796875 36.28125 \r\nz\r\n\" id=\"DejaVuSans-53\"/>\r\n      </defs>\r\n      <g transform=\"translate(20.878125 285.037331)scale(0.1 -0.1)\">\r\n       <use xlink:href=\"#DejaVuSans-48\"/>\r\n       <use x=\"63.623047\" xlink:href=\"#DejaVuSans-46\"/>\r\n       <use x=\"95.410156\" xlink:href=\"#DejaVuSans-53\"/>\r\n      </g>\r\n     </g>\r\n    </g>\r\n    <g id=\"ytick_3\">\r\n     <g id=\"line2d_8\">\r\n      <g>\r\n       <use style=\"stroke:#000000;stroke-width:0.8;\" x=\"43.78125\" xlink:href=\"#m016f6c80d9\" y=\"228.672113\"/>\r\n      </g>\r\n     </g>\r\n     <g id=\"text_9\">\r\n      <!-- 1.0 -->\r\n      <g transform=\"translate(20.878125 232.471331)scale(0.1 -0.1)\">\r\n       <use xlink:href=\"#DejaVuSans-49\"/>\r\n       <use x=\"63.623047\" xlink:href=\"#DejaVuSans-46\"/>\r\n       <use x=\"95.410156\" xlink:href=\"#DejaVuSans-48\"/>\r\n      </g>\r\n     </g>\r\n    </g>\r\n    <g id=\"ytick_4\">\r\n     <g id=\"line2d_9\">\r\n      <g>\r\n       <use style=\"stroke:#000000;stroke-width:0.8;\" x=\"43.78125\" xlink:href=\"#m016f6c80d9\" y=\"176.106113\"/>\r\n      </g>\r\n     </g>\r\n     <g id=\"text_10\">\r\n      <!-- 1.5 -->\r\n      <g transform=\"translate(20.878125 179.905332)scale(0.1 -0.1)\">\r\n       <use xlink:href=\"#DejaVuSans-49\"/>\r\n       <use x=\"63.623047\" xlink:href=\"#DejaVuSans-46\"/>\r\n       <use x=\"95.410156\" xlink:href=\"#DejaVuSans-53\"/>\r\n      </g>\r\n     </g>\r\n    </g>\r\n    <g id=\"ytick_5\">\r\n     <g id=\"line2d_10\">\r\n      <g>\r\n       <use style=\"stroke:#000000;stroke-width:0.8;\" x=\"43.78125\" xlink:href=\"#m016f6c80d9\" y=\"123.540114\"/>\r\n      </g>\r\n     </g>\r\n     <g id=\"text_11\">\r\n      <!-- 2.0 -->\r\n      <g transform=\"translate(20.878125 127.339333)scale(0.1 -0.1)\">\r\n       <use xlink:href=\"#DejaVuSans-50\"/>\r\n       <use x=\"63.623047\" xlink:href=\"#DejaVuSans-46\"/>\r\n       <use x=\"95.410156\" xlink:href=\"#DejaVuSans-48\"/>\r\n      </g>\r\n     </g>\r\n    </g>\r\n    <g id=\"ytick_6\">\r\n     <g id=\"line2d_11\">\r\n      <g>\r\n       <use style=\"stroke:#000000;stroke-width:0.8;\" x=\"43.78125\" xlink:href=\"#m016f6c80d9\" y=\"70.974115\"/>\r\n      </g>\r\n     </g>\r\n     <g id=\"text_12\">\r\n      <!-- 2.5 -->\r\n      <g transform=\"translate(20.878125 74.773333)scale(0.1 -0.1)\">\r\n       <use xlink:href=\"#DejaVuSans-50\"/>\r\n       <use x=\"63.623047\" xlink:href=\"#DejaVuSans-46\"/>\r\n       <use x=\"95.410156\" xlink:href=\"#DejaVuSans-53\"/>\r\n      </g>\r\n     </g>\r\n    </g>\r\n    <g id=\"text_13\">\r\n     <!-- Inertia -->\r\n     <defs>\r\n      <path d=\"M 9.8125 72.90625 \r\nL 19.671875 72.90625 \r\nL 19.671875 0 \r\nL 9.8125 0 \r\nz\r\n\" id=\"DejaVuSans-73\"/>\r\n      <path d=\"M 54.890625 33.015625 \r\nL 54.890625 0 \r\nL 45.90625 0 \r\nL 45.90625 32.71875 \r\nQ 45.90625 40.484375 42.875 44.328125 \r\nQ 39.84375 48.1875 33.796875 48.1875 \r\nQ 26.515625 48.1875 22.3125 43.546875 \r\nQ 18.109375 38.921875 18.109375 30.90625 \r\nL 18.109375 0 \r\nL 9.078125 0 \r\nL 9.078125 54.6875 \r\nL 18.109375 54.6875 \r\nL 18.109375 46.1875 \r\nQ 21.34375 51.125 25.703125 53.5625 \r\nQ 30.078125 56 35.796875 56 \r\nQ 45.21875 56 50.046875 50.171875 \r\nQ 54.890625 44.34375 54.890625 33.015625 \r\nz\r\n\" id=\"DejaVuSans-110\"/>\r\n      <path d=\"M 9.421875 54.6875 \r\nL 18.40625 54.6875 \r\nL 18.40625 0 \r\nL 9.421875 0 \r\nz\r\nM 9.421875 75.984375 \r\nL 18.40625 75.984375 \r\nL 18.40625 64.59375 \r\nL 9.421875 64.59375 \r\nz\r\n\" id=\"DejaVuSans-105\"/>\r\n      <path d=\"M 34.28125 27.484375 \r\nQ 23.390625 27.484375 19.1875 25 \r\nQ 14.984375 22.515625 14.984375 16.5 \r\nQ 14.984375 11.71875 18.140625 8.90625 \r\nQ 21.296875 6.109375 26.703125 6.109375 \r\nQ 34.1875 6.109375 38.703125 11.40625 \r\nQ 43.21875 16.703125 43.21875 25.484375 \r\nL 43.21875 27.484375 \r\nz\r\nM 52.203125 31.203125 \r\nL 52.203125 0 \r\nL 43.21875 0 \r\nL 43.21875 8.296875 \r\nQ 40.140625 3.328125 35.546875 0.953125 \r\nQ 30.953125 -1.421875 24.3125 -1.421875 \r\nQ 15.921875 -1.421875 10.953125 3.296875 \r\nQ 6 8.015625 6 15.921875 \r\nQ 6 25.140625 12.171875 29.828125 \r\nQ 18.359375 34.515625 30.609375 34.515625 \r\nL 43.21875 34.515625 \r\nL 43.21875 35.40625 \r\nQ 43.21875 41.609375 39.140625 45 \r\nQ 35.0625 48.390625 27.6875 48.390625 \r\nQ 23 48.390625 18.546875 47.265625 \r\nQ 14.109375 46.140625 10.015625 43.890625 \r\nL 10.015625 52.203125 \r\nQ 14.9375 54.109375 19.578125 55.046875 \r\nQ 24.21875 56 28.609375 56 \r\nQ 40.484375 56 46.34375 49.84375 \r\nQ 52.203125 43.703125 52.203125 31.203125 \r\nz\r\n\" id=\"DejaVuSans-97\"/>\r\n     </defs>\r\n     <g transform=\"translate(14.798438 201.587187)rotate(-90)scale(0.1 -0.1)\">\r\n      <use xlink:href=\"#DejaVuSans-73\"/>\r\n      <use x=\"29.492188\" xlink:href=\"#DejaVuSans-110\"/>\r\n      <use x=\"92.871094\" xlink:href=\"#DejaVuSans-101\"/>\r\n      <use x=\"154.394531\" xlink:href=\"#DejaVuSans-114\"/>\r\n      <use x=\"195.507812\" xlink:href=\"#DejaVuSans-116\"/>\r\n      <use x=\"234.716797\" xlink:href=\"#DejaVuSans-105\"/>\r\n      <use x=\"262.5\" xlink:href=\"#DejaVuSans-97\"/>\r\n     </g>\r\n    </g>\r\n    <g id=\"text_14\">\r\n     <!-- 1e10 -->\r\n     <g transform=\"translate(43.78125 19.318125)scale(0.1 -0.1)\">\r\n      <use xlink:href=\"#DejaVuSans-49\"/>\r\n      <use x=\"63.623047\" xlink:href=\"#DejaVuSans-101\"/>\r\n      <use x=\"125.146484\" xlink:href=\"#DejaVuSans-49\"/>\r\n      <use x=\"188.769531\" xlink:href=\"#DejaVuSans-48\"/>\r\n     </g>\r\n    </g>\r\n   </g>\r\n   <g id=\"line2d_12\">\r\n    <path clip-path=\"url(#pcce76f70f8)\" d=\"M 74.217614 37.14358 \r\nL 141.853977 278.531979 \r\nL 209.490341 307.986196 \r\nL 277.126705 321.642421 \r\nL 344.763068 328.340429 \r\nL 412.399432 331.400119 \r\nL 480.035795 332.92166 \r\nL 547.672159 333.398042 \r\nL 615.308523 333.555048 \r\nL 682.944886 333.65267 \r\n\" style=\"fill:none;stroke:#1f77b4;stroke-linecap:square;stroke-width:1.5;\"/>\r\n    <defs>\r\n     <path d=\"M 0 5 \r\nC 1.326016 5 2.597899 4.473168 3.535534 3.535534 \r\nC 4.473168 2.597899 5 1.326016 5 0 \r\nC 5 -1.326016 4.473168 -2.597899 3.535534 -3.535534 \r\nC 2.597899 -4.473168 1.326016 -5 0 -5 \r\nC -1.326016 -5 -2.597899 -4.473168 -3.535534 -3.535534 \r\nC -4.473168 -2.597899 -5 -1.326016 -5 0 \r\nC -5 1.326016 -4.473168 2.597899 -3.535534 3.535534 \r\nC -2.597899 4.473168 -1.326016 5 0 5 \r\nz\r\n\" id=\"mbc2cb34e78\" style=\"stroke:#1f77b4;\"/>\r\n    </defs>\r\n    <g clip-path=\"url(#pcce76f70f8)\">\r\n     <use style=\"fill:#1f77b4;stroke:#1f77b4;\" x=\"74.217614\" xlink:href=\"#mbc2cb34e78\" y=\"37.14358\"/>\r\n     <use style=\"fill:#1f77b4;stroke:#1f77b4;\" x=\"141.853977\" xlink:href=\"#mbc2cb34e78\" y=\"278.531979\"/>\r\n     <use style=\"fill:#1f77b4;stroke:#1f77b4;\" x=\"209.490341\" xlink:href=\"#mbc2cb34e78\" y=\"307.986196\"/>\r\n     <use style=\"fill:#1f77b4;stroke:#1f77b4;\" x=\"277.126705\" xlink:href=\"#mbc2cb34e78\" y=\"321.642421\"/>\r\n     <use style=\"fill:#1f77b4;stroke:#1f77b4;\" x=\"344.763068\" xlink:href=\"#mbc2cb34e78\" y=\"328.340429\"/>\r\n     <use style=\"fill:#1f77b4;stroke:#1f77b4;\" x=\"412.399432\" xlink:href=\"#mbc2cb34e78\" y=\"331.400119\"/>\r\n     <use style=\"fill:#1f77b4;stroke:#1f77b4;\" x=\"480.035795\" xlink:href=\"#mbc2cb34e78\" y=\"332.92166\"/>\r\n     <use style=\"fill:#1f77b4;stroke:#1f77b4;\" x=\"547.672159\" xlink:href=\"#mbc2cb34e78\" y=\"333.398042\"/>\r\n     <use style=\"fill:#1f77b4;stroke:#1f77b4;\" x=\"615.308523\" xlink:href=\"#mbc2cb34e78\" y=\"333.555048\"/>\r\n     <use style=\"fill:#1f77b4;stroke:#1f77b4;\" x=\"682.944886\" xlink:href=\"#mbc2cb34e78\" y=\"333.65267\"/>\r\n    </g>\r\n   </g>\r\n   <g id=\"patch_3\">\r\n    <path d=\"M 43.78125 348.478125 \r\nL 43.78125 22.318125 \r\n\" style=\"fill:none;stroke:#000000;stroke-linecap:square;stroke-linejoin:miter;stroke-width:0.8;\"/>\r\n   </g>\r\n   <g id=\"patch_4\">\r\n    <path d=\"M 713.38125 348.478125 \r\nL 713.38125 22.318125 \r\n\" style=\"fill:none;stroke:#000000;stroke-linecap:square;stroke-linejoin:miter;stroke-width:0.8;\"/>\r\n   </g>\r\n   <g id=\"patch_5\">\r\n    <path d=\"M 43.78125 348.478125 \r\nL 713.38125 348.478125 \r\n\" style=\"fill:none;stroke:#000000;stroke-linecap:square;stroke-linejoin:miter;stroke-width:0.8;\"/>\r\n   </g>\r\n   <g id=\"patch_6\">\r\n    <path d=\"M 43.78125 22.318125 \r\nL 713.38125 22.318125 \r\n\" style=\"fill:none;stroke:#000000;stroke-linecap:square;stroke-linejoin:miter;stroke-width:0.8;\"/>\r\n   </g>\r\n   <g id=\"text_15\">\r\n    <!-- Inertia of k-Means versus number of clusters -->\r\n    <defs>\r\n     <path d=\"M 9.078125 75.984375 \r\nL 18.109375 75.984375 \r\nL 18.109375 31.109375 \r\nL 44.921875 54.6875 \r\nL 56.390625 54.6875 \r\nL 27.390625 29.109375 \r\nL 57.625 0 \r\nL 45.90625 0 \r\nL 18.109375 26.703125 \r\nL 18.109375 0 \r\nL 9.078125 0 \r\nz\r\n\" id=\"DejaVuSans-107\"/>\r\n     <path d=\"M 4.890625 31.390625 \r\nL 31.203125 31.390625 \r\nL 31.203125 23.390625 \r\nL 4.890625 23.390625 \r\nz\r\n\" id=\"DejaVuSans-45\"/>\r\n     <path d=\"M 9.8125 72.90625 \r\nL 24.515625 72.90625 \r\nL 43.109375 23.296875 \r\nL 61.8125 72.90625 \r\nL 76.515625 72.90625 \r\nL 76.515625 0 \r\nL 66.890625 0 \r\nL 66.890625 64.015625 \r\nL 48.09375 14.015625 \r\nL 38.1875 14.015625 \r\nL 19.390625 64.015625 \r\nL 19.390625 0 \r\nL 9.8125 0 \r\nz\r\n\" id=\"DejaVuSans-77\"/>\r\n     <path d=\"M 2.984375 54.6875 \r\nL 12.5 54.6875 \r\nL 29.59375 8.796875 \r\nL 46.6875 54.6875 \r\nL 56.203125 54.6875 \r\nL 35.6875 0 \r\nL 23.484375 0 \r\nz\r\n\" id=\"DejaVuSans-118\"/>\r\n    </defs>\r\n    <g transform=\"translate(244.322813 16.318125)scale(0.12 -0.12)\">\r\n     <use xlink:href=\"#DejaVuSans-73\"/>\r\n     <use x=\"29.492188\" xlink:href=\"#DejaVuSans-110\"/>\r\n     <use x=\"92.871094\" xlink:href=\"#DejaVuSans-101\"/>\r\n     <use x=\"154.394531\" xlink:href=\"#DejaVuSans-114\"/>\r\n     <use x=\"195.507812\" xlink:href=\"#DejaVuSans-116\"/>\r\n     <use x=\"234.716797\" xlink:href=\"#DejaVuSans-105\"/>\r\n     <use x=\"262.5\" xlink:href=\"#DejaVuSans-97\"/>\r\n     <use x=\"323.779297\" xlink:href=\"#DejaVuSans-32\"/>\r\n     <use x=\"355.566406\" xlink:href=\"#DejaVuSans-111\"/>\r\n     <use x=\"416.748047\" xlink:href=\"#DejaVuSans-102\"/>\r\n     <use x=\"451.953125\" xlink:href=\"#DejaVuSans-32\"/>\r\n     <use x=\"483.740234\" xlink:href=\"#DejaVuSans-107\"/>\r\n     <use x=\"541.650391\" xlink:href=\"#DejaVuSans-45\"/>\r\n     <use x=\"577.734375\" xlink:href=\"#DejaVuSans-77\"/>\r\n     <use x=\"664.013672\" xlink:href=\"#DejaVuSans-101\"/>\r\n     <use x=\"725.537109\" xlink:href=\"#DejaVuSans-97\"/>\r\n     <use x=\"786.816406\" xlink:href=\"#DejaVuSans-110\"/>\r\n     <use x=\"850.195312\" xlink:href=\"#DejaVuSans-115\"/>\r\n     <use x=\"902.294922\" xlink:href=\"#DejaVuSans-32\"/>\r\n     <use x=\"934.082031\" xlink:href=\"#DejaVuSans-118\"/>\r\n     <use x=\"993.261719\" xlink:href=\"#DejaVuSans-101\"/>\r\n     <use x=\"1054.785156\" xlink:href=\"#DejaVuSans-114\"/>\r\n     <use x=\"1095.898438\" xlink:href=\"#DejaVuSans-115\"/>\r\n     <use x=\"1147.998047\" xlink:href=\"#DejaVuSans-117\"/>\r\n     <use x=\"1211.376953\" xlink:href=\"#DejaVuSans-115\"/>\r\n     <use x=\"1263.476562\" xlink:href=\"#DejaVuSans-32\"/>\r\n     <use x=\"1295.263672\" xlink:href=\"#DejaVuSans-110\"/>\r\n     <use x=\"1358.642578\" xlink:href=\"#DejaVuSans-117\"/>\r\n     <use x=\"1422.021484\" xlink:href=\"#DejaVuSans-109\"/>\r\n     <use x=\"1519.433594\" xlink:href=\"#DejaVuSans-98\"/>\r\n     <use x=\"1582.910156\" xlink:href=\"#DejaVuSans-101\"/>\r\n     <use x=\"1644.433594\" xlink:href=\"#DejaVuSans-114\"/>\r\n     <use x=\"1685.546875\" xlink:href=\"#DejaVuSans-32\"/>\r\n     <use x=\"1717.333984\" xlink:href=\"#DejaVuSans-111\"/>\r\n     <use x=\"1778.515625\" xlink:href=\"#DejaVuSans-102\"/>\r\n     <use x=\"1813.720703\" xlink:href=\"#DejaVuSans-32\"/>\r\n     <use x=\"1845.507812\" xlink:href=\"#DejaVuSans-99\"/>\r\n     <use x=\"1900.488281\" xlink:href=\"#DejaVuSans-108\"/>\r\n     <use x=\"1928.271484\" xlink:href=\"#DejaVuSans-117\"/>\r\n     <use x=\"1991.650391\" xlink:href=\"#DejaVuSans-115\"/>\r\n     <use x=\"2043.75\" xlink:href=\"#DejaVuSans-116\"/>\r\n     <use x=\"2082.958984\" xlink:href=\"#DejaVuSans-101\"/>\r\n     <use x=\"2144.482422\" xlink:href=\"#DejaVuSans-114\"/>\r\n     <use x=\"2185.595703\" xlink:href=\"#DejaVuSans-115\"/>\r\n    </g>\r\n   </g>\r\n  </g>\r\n </g>\r\n <defs>\r\n  <clipPath id=\"pcce76f70f8\">\r\n   <rect height=\"326.16\" width=\"669.6\" x=\"43.78125\" y=\"22.318125\"/>\r\n  </clipPath>\r\n </defs>\r\n</svg>\r\n",
      "image/png": "[encoded data removed]"
     },
     "metadata": {
      "needs_background": "light"
     }
    }
   ],
   "source": [
    "scores = [KMeans(n_clusters=i+2).fit(dataset_km).inertia_ for i in range(10)]\n",
    "\n",
    "from matplotlib import pyplot as plt\n",
    "plt.figure(figsize=(12,6))\n",
    "plt.plot(np.arange(2, 12), scores,'-o', markersize=10)\n",
    "plt.xlabel('Number of clusters')\n",
    "plt.ylabel(\"Inertia\")\n",
    "plt.title(\"Inertia of k-Means versus number of clusters\")"
   ]
  },
  {
   "source": [
    "### Implementación del algoritmo"
   ],
   "cell_type": "markdown",
   "metadata": {}
  },
  {
   "cell_type": "code",
   "execution_count": 159,
   "metadata": {},
   "outputs": [
    {
     "output_type": "execute_result",
     "data": {
      "text/plain": [
       "         confirmados  fallecidos  edad_promedio  cuidado_intensivo  \\\n",
       "cluster                                                              \n",
       "1            12678.0       330.2           69.3              266.5   \n",
       "2           524923.0     19864.0           71.6            13726.0   \n",
       "3           106420.3      2840.0           74.4             2844.3   \n",
       "\n",
       "         asistencia_respiratoria_mecanica  \n",
       "cluster                                    \n",
       "1                                   123.2  \n",
       "2                                  5320.0  \n",
       "3                                  1102.0  "
      ],
      "text/html": "<div>\n<style scoped>\n    .dataframe tbody tr th:only-of-type {\n        vertical-align: middle;\n    }\n\n    .dataframe tbody tr th {\n        vertical-align: top;\n    }\n\n    .dataframe thead th {\n        text-align: right;\n    }\n</style>\n<table border=\"1\" class=\"dataframe\">\n  <thead>\n    <tr style=\"text-align: right;\">\n      <th></th>\n      <th>confirmados</th>\n      <th>fallecidos</th>\n      <th>edad_promedio</th>\n      <th>cuidado_intensivo</th>\n      <th>asistencia_respiratoria_mecanica</th>\n    </tr>\n    <tr>\n      <th>cluster</th>\n      <th></th>\n      <th></th>\n      <th></th>\n      <th></th>\n      <th></th>\n    </tr>\n  </thead>\n  <tbody>\n    <tr>\n      <th>1</th>\n      <td>12678.0</td>\n      <td>330.2</td>\n      <td>69.3</td>\n      <td>266.5</td>\n      <td>123.2</td>\n    </tr>\n    <tr>\n      <th>2</th>\n      <td>524923.0</td>\n      <td>19864.0</td>\n      <td>71.6</td>\n      <td>13726.0</td>\n      <td>5320.0</td>\n    </tr>\n    <tr>\n      <th>3</th>\n      <td>106420.3</td>\n      <td>2840.0</td>\n      <td>74.4</td>\n      <td>2844.3</td>\n      <td>1102.0</td>\n    </tr>\n  </tbody>\n</table>\n</div>"
     },
     "metadata": {},
     "execution_count": 159
    }
   ],
   "source": [
    "kmeans = KMeans(n_clusters = 3, init = 'k-means++', random_state = 42)\n",
    "y_kmeans = kmeans.fit_predict(dataset_km)\n",
    "y_kmeans1=y_kmeans+1\n",
    "cluster = pd.DataFrame(y_kmeans1)\n",
    "dataset_km_sub = dataset_final.drop(['residencia_provincia_nombre'], axis=1)\n",
    "# Adding cluster to the Dataset\n",
    "dataset_km_sub['cluster'] = cluster\n",
    "#Mean of clusters\n",
    "kmeans_mean_cluster = pd.DataFrame(round(dataset_km_sub.groupby('cluster').mean(),1))\n",
    "\n",
    "clusters = kmeans.labels_\n",
    "\n",
    "## Identificación de los valores promedio (centroides) \n",
    "kmeans_mean_cluster"
   ]
  },
  {
   "cell_type": "code",
   "execution_count": 160,
   "metadata": {},
   "outputs": [],
   "source": [
    "dataset_km_sub_concat = pd.concat([dataset_final[['residencia_provincia_nombre']],dataset_km_sub],axis=1)"
   ]
  },
  {
   "cell_type": "code",
   "execution_count": 169,
   "metadata": {},
   "outputs": [
    {
     "output_type": "execute_result",
     "data": {
      "text/plain": [
       "  residencia_provincia_nombre  confirmados  fallecidos  edad_promedio  \\\n",
       "0                Buenos Aires       524923       19864      71.603023   \n",
       "1                        CABA       142120        5924      76.635641   \n",
       "2                   Catamarca          694           1      97.000000   \n",
       "3                       Chaco        12257         549      65.318761   \n",
       "4                      Chubut        13095         192      69.625000   \n",
       "5                  Corrientes         2419          47      67.787234   \n",
       "6                     Córdoba        76510        1258      73.162957   \n",
       "7                  Entre Ríos        14644         456      71.291667   \n",
       "8                     Formosa          143           3      64.333333   \n",
       "9                       Jujuy        16413         745      66.697581   \n",
       "\n",
       "   cuidado_intensivo  asistencia_respiratoria_mecanica  cluster  \n",
       "0              13726                              5320        2  \n",
       "1               5127                              2152        3  \n",
       "2                 35                                10        1  \n",
       "3                994                               435        1  \n",
       "4                174                                77        1  \n",
       "5                 84                                45        1  \n",
       "6               1933                               497        3  \n",
       "7                433                               164        1  \n",
       "8                 44                                26        1  \n",
       "9                187                               116        1  "
      ],
      "text/html": "<div>\n<style scoped>\n    .dataframe tbody tr th:only-of-type {\n        vertical-align: middle;\n    }\n\n    .dataframe tbody tr th {\n        vertical-align: top;\n    }\n\n    .dataframe thead th {\n        text-align: right;\n    }\n</style>\n<table border=\"1\" class=\"dataframe\">\n  <thead>\n    <tr style=\"text-align: right;\">\n      <th></th>\n      <th>residencia_provincia_nombre</th>\n      <th>confirmados</th>\n      <th>fallecidos</th>\n      <th>edad_promedio</th>\n      <th>cuidado_intensivo</th>\n      <th>asistencia_respiratoria_mecanica</th>\n      <th>cluster</th>\n    </tr>\n  </thead>\n  <tbody>\n    <tr>\n      <th>0</th>\n      <td>Buenos Aires</td>\n      <td>524923</td>\n      <td>19864</td>\n      <td>71.603023</td>\n      <td>13726</td>\n      <td>5320</td>\n      <td>2</td>\n    </tr>\n    <tr>\n      <th>1</th>\n      <td>CABA</td>\n      <td>142120</td>\n      <td>5924</td>\n      <td>76.635641</td>\n      <td>5127</td>\n      <td>2152</td>\n      <td>3</td>\n    </tr>\n    <tr>\n      <th>2</th>\n      <td>Catamarca</td>\n      <td>694</td>\n      <td>1</td>\n      <td>97.000000</td>\n      <td>35</td>\n      <td>10</td>\n      <td>1</td>\n    </tr>\n    <tr>\n      <th>3</th>\n      <td>Chaco</td>\n      <td>12257</td>\n      <td>549</td>\n      <td>65.318761</td>\n      <td>994</td>\n      <td>435</td>\n      <td>1</td>\n    </tr>\n    <tr>\n      <th>4</th>\n      <td>Chubut</td>\n      <td>13095</td>\n      <td>192</td>\n      <td>69.625000</td>\n      <td>174</td>\n      <td>77</td>\n      <td>1</td>\n    </tr>\n    <tr>\n      <th>5</th>\n      <td>Corrientes</td>\n      <td>2419</td>\n      <td>47</td>\n      <td>67.787234</td>\n      <td>84</td>\n      <td>45</td>\n      <td>1</td>\n    </tr>\n    <tr>\n      <th>6</th>\n      <td>Córdoba</td>\n      <td>76510</td>\n      <td>1258</td>\n      <td>73.162957</td>\n      <td>1933</td>\n      <td>497</td>\n      <td>3</td>\n    </tr>\n    <tr>\n      <th>7</th>\n      <td>Entre Ríos</td>\n      <td>14644</td>\n      <td>456</td>\n      <td>71.291667</td>\n      <td>433</td>\n      <td>164</td>\n      <td>1</td>\n    </tr>\n    <tr>\n      <th>8</th>\n      <td>Formosa</td>\n      <td>143</td>\n      <td>3</td>\n      <td>64.333333</td>\n      <td>44</td>\n      <td>26</td>\n      <td>1</td>\n    </tr>\n    <tr>\n      <th>9</th>\n      <td>Jujuy</td>\n      <td>16413</td>\n      <td>745</td>\n      <td>66.697581</td>\n      <td>187</td>\n      <td>116</td>\n      <td>1</td>\n    </tr>\n  </tbody>\n</table>\n</div>"
     },
     "metadata": {},
     "execution_count": 169
    }
   ],
   "source": [
    "dataset_km_sub_concat.head(10)"
   ]
  },
  {
   "cell_type": "code",
   "execution_count": null,
   "metadata": {},
   "outputs": [],
   "source": []
  },
  {
   "cell_type": "code",
   "execution_count": 189,
   "metadata": {},
   "outputs": [
    {
     "output_type": "display_data",
     "data": {
      "application/vnd.plotly.v1+json": {
       "config": {
        "plotlyServerURL": "https://plot.ly"
       },
       "data": [
        {
         "branchvalues": "total",
         "domain": {
          "x": [
           0,
           1
          ],
          "y": [
           0,
           1
          ]
         },
         "hovertemplate": "labels=%{label}<br>edad_promedio=%{value}<br>parent=%{parent}<br>id=%{id}<extra></extra>",
         "ids": [
          "2/Buenos Aires",
          "3/CABA",
          "1/Catamarca",
          "1/Chaco",
          "1/Chubut",
          "1/Corrientes",
          "3/Córdoba",
          "1/Entre Ríos",
          "1/Formosa",
          "1/Jujuy",
          "1/La Pampa",
          "1/La Rioja",
          "1/Mendoza",
          "1/Misiones",
          "1/Neuquén",
          "1/Río Negro",
          "1/Salta",
          "1/San Juan",
          "1/San Luis",
          "1/Santa Cruz",
          "3/Santa Fe",
          "1/Santiago del Estero",
          "1/Tierra del Fuego",
          "1/Tucumán",
          "1",
          "2",
          "3"
         ],
         "labels": [
          "Buenos Aires",
          "CABA",
          "Catamarca",
          "Chaco",
          "Chubut",
          "Corrientes",
          "Córdoba",
          "Entre Ríos",
          "Formosa",
          "Jujuy",
          "La Pampa",
          "La Rioja",
          "Mendoza",
          "Misiones",
          "Neuquén",
          "Río Negro",
          "Salta",
          "San Juan",
          "San Luis",
          "Santa Cruz",
          "Santa Fe",
          "Santiago del Estero",
          "Tierra del Fuego",
          "Tucumán",
          "1",
          "2",
          "3"
         ],
         "name": "",
         "parents": [
          "2",
          "3",
          "1",
          "1",
          "1",
          "1",
          "3",
          "1",
          "1",
          "1",
          "1",
          "1",
          "1",
          "1",
          "1",
          "1",
          "1",
          "1",
          "1",
          "1",
          "3",
          "1",
          "1",
          "1",
          "",
          "",
          ""
         ],
         "type": "treemap",
         "values": [
          71.60302267002518,
          76.63564054831613,
          97,
          65.31876138433516,
          69.625,
          67.7872340425532,
          73.16295707472177,
          71.29166666666667,
          64.33333333333333,
          66.6975806451613,
          71.64814814814815,
          66.81159420289855,
          72.209726443769,
          58.44565217391305,
          68.29523809523809,
          69.92076069730587,
          66.03833145434048,
          74.52307692307693,
          71.37735849056604,
          68.16883116883118,
          73.34379671150971,
          64.76859504132231,
          66.07299270072993,
          66.09426229508196,
          1386.4281439072709,
          71.60302267002518,
          223.1423943345476
         ]
        }
       ],
       "layout": {
        "autosize": false,
        "height": 700,
        "legend": {
         "tracegroupgap": 0
        },
        "margin": {
         "t": 60
        },
        "template": {
         "data": {
          "bar": [
           {
            "error_x": {
             "color": "#2a3f5f"
            },
            "error_y": {
             "color": "#2a3f5f"
            },
            "marker": {
             "line": {
              "color": "#E5ECF6",
              "width": 0.5
             }
            },
            "type": "bar"
           }
          ],
          "barpolar": [
           {
            "marker": {
             "line": {
              "color": "#E5ECF6",
              "width": 0.5
             }
            },
            "type": "barpolar"
           }
          ],
          "carpet": [
           {
            "aaxis": {
             "endlinecolor": "#2a3f5f",
             "gridcolor": "white",
             "linecolor": "white",
             "minorgridcolor": "white",
             "startlinecolor": "#2a3f5f"
            },
            "baxis": {
             "endlinecolor": "#2a3f5f",
             "gridcolor": "white",
             "linecolor": "white",
             "minorgridcolor": "white",
             "startlinecolor": "#2a3f5f"
            },
            "type": "carpet"
           }
          ],
          "choropleth": [
           {
            "colorbar": {
             "outlinewidth": 0,
             "ticks": ""
            },
            "type": "choropleth"
           }
          ],
          "contour": [
           {
            "colorbar": {
             "outlinewidth": 0,
             "ticks": ""
            },
            "colorscale": [
             [
              0,
              "#0d0887"
             ],
             [
              0.1111111111111111,
              "#46039f"
             ],
             [
              0.2222222222222222,
              "#7201a8"
             ],
             [
              0.3333333333333333,
              "#9c179e"
             ],
             [
              0.4444444444444444,
              "#bd3786"
             ],
             [
              0.5555555555555556,
              "#d8576b"
             ],
             [
              0.6666666666666666,
              "#ed7953"
             ],
             [
              0.7777777777777778,
              "#fb9f3a"
             ],
             [
              0.8888888888888888,
              "#fdca26"
             ],
             [
              1,
              "#f0f921"
             ]
            ],
            "type": "contour"
           }
          ],
          "contourcarpet": [
           {
            "colorbar": {
             "outlinewidth": 0,
             "ticks": ""
            },
            "type": "contourcarpet"
           }
          ],
          "heatmap": [
           {
            "colorbar": {
             "outlinewidth": 0,
             "ticks": ""
            },
            "colorscale": [
             [
              0,
              "#0d0887"
             ],
             [
              0.1111111111111111,
              "#46039f"
             ],
             [
              0.2222222222222222,
              "#7201a8"
             ],
             [
              0.3333333333333333,
              "#9c179e"
             ],
             [
              0.4444444444444444,
              "#bd3786"
             ],
             [
              0.5555555555555556,
              "#d8576b"
             ],
             [
              0.6666666666666666,
              "#ed7953"
             ],
             [
              0.7777777777777778,
              "#fb9f3a"
             ],
             [
              0.8888888888888888,
              "#fdca26"
             ],
             [
              1,
              "#f0f921"
             ]
            ],
            "type": "heatmap"
           }
          ],
          "heatmapgl": [
           {
            "colorbar": {
             "outlinewidth": 0,
             "ticks": ""
            },
            "colorscale": [
             [
              0,
              "#0d0887"
             ],
             [
              0.1111111111111111,
              "#46039f"
             ],
             [
              0.2222222222222222,
              "#7201a8"
             ],
             [
              0.3333333333333333,
              "#9c179e"
             ],
             [
              0.4444444444444444,
              "#bd3786"
             ],
             [
              0.5555555555555556,
              "#d8576b"
             ],
             [
              0.6666666666666666,
              "#ed7953"
             ],
             [
              0.7777777777777778,
              "#fb9f3a"
             ],
             [
              0.8888888888888888,
              "#fdca26"
             ],
             [
              1,
              "#f0f921"
             ]
            ],
            "type": "heatmapgl"
           }
          ],
          "histogram": [
           {
            "marker": {
             "colorbar": {
              "outlinewidth": 0,
              "ticks": ""
             }
            },
            "type": "histogram"
           }
          ],
          "histogram2d": [
           {
            "colorbar": {
             "outlinewidth": 0,
             "ticks": ""
            },
            "colorscale": [
             [
              0,
              "#0d0887"
             ],
             [
              0.1111111111111111,
              "#46039f"
             ],
             [
              0.2222222222222222,
              "#7201a8"
             ],
             [
              0.3333333333333333,
              "#9c179e"
             ],
             [
              0.4444444444444444,
              "#bd3786"
             ],
             [
              0.5555555555555556,
              "#d8576b"
             ],
             [
              0.6666666666666666,
              "#ed7953"
             ],
             [
              0.7777777777777778,
              "#fb9f3a"
             ],
             [
              0.8888888888888888,
              "#fdca26"
             ],
             [
              1,
              "#f0f921"
             ]
            ],
            "type": "histogram2d"
           }
          ],
          "histogram2dcontour": [
           {
            "colorbar": {
             "outlinewidth": 0,
             "ticks": ""
            },
            "colorscale": [
             [
              0,
              "#0d0887"
             ],
             [
              0.1111111111111111,
              "#46039f"
             ],
             [
              0.2222222222222222,
              "#7201a8"
             ],
             [
              0.3333333333333333,
              "#9c179e"
             ],
             [
              0.4444444444444444,
              "#bd3786"
             ],
             [
              0.5555555555555556,
              "#d8576b"
             ],
             [
              0.6666666666666666,
              "#ed7953"
             ],
             [
              0.7777777777777778,
              "#fb9f3a"
             ],
             [
              0.8888888888888888,
              "#fdca26"
             ],
             [
              1,
              "#f0f921"
             ]
            ],
            "type": "histogram2dcontour"
           }
          ],
          "mesh3d": [
           {
            "colorbar": {
             "outlinewidth": 0,
             "ticks": ""
            },
            "type": "mesh3d"
           }
          ],
          "parcoords": [
           {
            "line": {
             "colorbar": {
              "outlinewidth": 0,
              "ticks": ""
             }
            },
            "type": "parcoords"
           }
          ],
          "pie": [
           {
            "automargin": true,
            "type": "pie"
           }
          ],
          "scatter": [
           {
            "marker": {
             "colorbar": {
              "outlinewidth": 0,
              "ticks": ""
             }
            },
            "type": "scatter"
           }
          ],
          "scatter3d": [
           {
            "line": {
             "colorbar": {
              "outlinewidth": 0,
              "ticks": ""
             }
            },
            "marker": {
             "colorbar": {
              "outlinewidth": 0,
              "ticks": ""
             }
            },
            "type": "scatter3d"
           }
          ],
          "scattercarpet": [
           {
            "marker": {
             "colorbar": {
              "outlinewidth": 0,
              "ticks": ""
             }
            },
            "type": "scattercarpet"
           }
          ],
          "scattergeo": [
           {
            "marker": {
             "colorbar": {
              "outlinewidth": 0,
              "ticks": ""
             }
            },
            "type": "scattergeo"
           }
          ],
          "scattergl": [
           {
            "marker": {
             "colorbar": {
              "outlinewidth": 0,
              "ticks": ""
             }
            },
            "type": "scattergl"
           }
          ],
          "scattermapbox": [
           {
            "marker": {
             "colorbar": {
              "outlinewidth": 0,
              "ticks": ""
             }
            },
            "type": "scattermapbox"
           }
          ],
          "scatterpolar": [
           {
            "marker": {
             "colorbar": {
              "outlinewidth": 0,
              "ticks": ""
             }
            },
            "type": "scatterpolar"
           }
          ],
          "scatterpolargl": [
           {
            "marker": {
             "colorbar": {
              "outlinewidth": 0,
              "ticks": ""
             }
            },
            "type": "scatterpolargl"
           }
          ],
          "scatterternary": [
           {
            "marker": {
             "colorbar": {
              "outlinewidth": 0,
              "ticks": ""
             }
            },
            "type": "scatterternary"
           }
          ],
          "surface": [
           {
            "colorbar": {
             "outlinewidth": 0,
             "ticks": ""
            },
            "colorscale": [
             [
              0,
              "#0d0887"
             ],
             [
              0.1111111111111111,
              "#46039f"
             ],
             [
              0.2222222222222222,
              "#7201a8"
             ],
             [
              0.3333333333333333,
              "#9c179e"
             ],
             [
              0.4444444444444444,
              "#bd3786"
             ],
             [
              0.5555555555555556,
              "#d8576b"
             ],
             [
              0.6666666666666666,
              "#ed7953"
             ],
             [
              0.7777777777777778,
              "#fb9f3a"
             ],
             [
              0.8888888888888888,
              "#fdca26"
             ],
             [
              1,
              "#f0f921"
             ]
            ],
            "type": "surface"
           }
          ],
          "table": [
           {
            "cells": {
             "fill": {
              "color": "#EBF0F8"
             },
             "line": {
              "color": "white"
             }
            },
            "header": {
             "fill": {
              "color": "#C8D4E3"
             },
             "line": {
              "color": "white"
             }
            },
            "type": "table"
           }
          ]
         },
         "layout": {
          "annotationdefaults": {
           "arrowcolor": "#2a3f5f",
           "arrowhead": 0,
           "arrowwidth": 1
          },
          "coloraxis": {
           "colorbar": {
            "outlinewidth": 0,
            "ticks": ""
           }
          },
          "colorscale": {
           "diverging": [
            [
             0,
             "#8e0152"
            ],
            [
             0.1,
             "#c51b7d"
            ],
            [
             0.2,
             "#de77ae"
            ],
            [
             0.3,
             "#f1b6da"
            ],
            [
             0.4,
             "#fde0ef"
            ],
            [
             0.5,
             "#f7f7f7"
            ],
            [
             0.6,
             "#e6f5d0"
            ],
            [
             0.7,
             "#b8e186"
            ],
            [
             0.8,
             "#7fbc41"
            ],
            [
             0.9,
             "#4d9221"
            ],
            [
             1,
             "#276419"
            ]
           ],
           "sequential": [
            [
             0,
             "#0d0887"
            ],
            [
             0.1111111111111111,
             "#46039f"
            ],
            [
             0.2222222222222222,
             "#7201a8"
            ],
            [
             0.3333333333333333,
             "#9c179e"
            ],
            [
             0.4444444444444444,
             "#bd3786"
            ],
            [
             0.5555555555555556,
             "#d8576b"
            ],
            [
             0.6666666666666666,
             "#ed7953"
            ],
            [
             0.7777777777777778,
             "#fb9f3a"
            ],
            [
             0.8888888888888888,
             "#fdca26"
            ],
            [
             1,
             "#f0f921"
            ]
           ],
           "sequentialminus": [
            [
             0,
             "#0d0887"
            ],
            [
             0.1111111111111111,
             "#46039f"
            ],
            [
             0.2222222222222222,
             "#7201a8"
            ],
            [
             0.3333333333333333,
             "#9c179e"
            ],
            [
             0.4444444444444444,
             "#bd3786"
            ],
            [
             0.5555555555555556,
             "#d8576b"
            ],
            [
             0.6666666666666666,
             "#ed7953"
            ],
            [
             0.7777777777777778,
             "#fb9f3a"
            ],
            [
             0.8888888888888888,
             "#fdca26"
            ],
            [
             1,
             "#f0f921"
            ]
           ]
          },
          "colorway": [
           "#636efa",
           "#EF553B",
           "#00cc96",
           "#ab63fa",
           "#FFA15A",
           "#19d3f3",
           "#FF6692",
           "#B6E880",
           "#FF97FF",
           "#FECB52"
          ],
          "font": {
           "color": "#2a3f5f"
          },
          "geo": {
           "bgcolor": "white",
           "lakecolor": "white",
           "landcolor": "#E5ECF6",
           "showlakes": true,
           "showland": true,
           "subunitcolor": "white"
          },
          "hoverlabel": {
           "align": "left"
          },
          "hovermode": "closest",
          "mapbox": {
           "style": "light"
          },
          "paper_bgcolor": "white",
          "plot_bgcolor": "#E5ECF6",
          "polar": {
           "angularaxis": {
            "gridcolor": "white",
            "linecolor": "white",
            "ticks": ""
           },
           "bgcolor": "#E5ECF6",
           "radialaxis": {
            "gridcolor": "white",
            "linecolor": "white",
            "ticks": ""
           }
          },
          "scene": {
           "xaxis": {
            "backgroundcolor": "#E5ECF6",
            "gridcolor": "white",
            "gridwidth": 2,
            "linecolor": "white",
            "showbackground": true,
            "ticks": "",
            "zerolinecolor": "white"
           },
           "yaxis": {
            "backgroundcolor": "#E5ECF6",
            "gridcolor": "white",
            "gridwidth": 2,
            "linecolor": "white",
            "showbackground": true,
            "ticks": "",
            "zerolinecolor": "white"
           },
           "zaxis": {
            "backgroundcolor": "#E5ECF6",
            "gridcolor": "white",
            "gridwidth": 2,
            "linecolor": "white",
            "showbackground": true,
            "ticks": "",
            "zerolinecolor": "white"
           }
          },
          "shapedefaults": {
           "line": {
            "color": "#2a3f5f"
           }
          },
          "ternary": {
           "aaxis": {
            "gridcolor": "white",
            "linecolor": "white",
            "ticks": ""
           },
           "baxis": {
            "gridcolor": "white",
            "linecolor": "white",
            "ticks": ""
           },
           "bgcolor": "#E5ECF6",
           "caxis": {
            "gridcolor": "white",
            "linecolor": "white",
            "ticks": ""
           }
          },
          "title": {
           "x": 0.05
          },
          "xaxis": {
           "automargin": true,
           "gridcolor": "white",
           "linecolor": "white",
           "ticks": "",
           "title": {
            "standoff": 15
           },
           "zerolinecolor": "white",
           "zerolinewidth": 2
          },
          "yaxis": {
           "automargin": true,
           "gridcolor": "white",
           "linecolor": "white",
           "ticks": "",
           "title": {
            "standoff": 15
           },
           "zerolinecolor": "white",
           "zerolinewidth": 2
          }
         }
        },
        "width": 800
       }
      }
     },
     "metadata": {}
    }
   ],
   "source": [
    "import plotly.express as px\n",
    "fig = px.treemap(dataset_km_sub_concat, path=['cluster', 'residencia_provincia_nombre'], values='edad_promedio')\n",
    "fig.update_layout(autosize=False,width=800,height=700)\n",
    "\n",
    "fig.show()"
   ]
  },
  {
   "cell_type": "code",
   "execution_count": 174,
   "metadata": {},
   "outputs": [
    {
     "output_type": "display_data",
     "data": {
      "application/vnd.plotly.v1+json": {
       "config": {
        "linkText": "Export to plot.ly",
        "plotlyServerURL": "https://plot.ly",
        "showLink": false
       },
       "data": [
        {
         "marker": {
          "color": [
           1,
           2,
           0,
           0,
           0,
           0,
           2,
           0,
           0,
           0,
           0,
           0,
           0,
           0,
           0,
           0,
           0,
           0,
           0,
           0,
           2,
           0,
           0,
           0
          ],
          "colorscale": [
           [
            0,
            "rgb(12,51,131)"
           ],
           [
            0.25,
            "rgb(10,136,186)"
           ],
           [
            0.5,
            "rgb(242,211,56)"
           ],
           [
            0.75,
            "rgb(242,143,56)"
           ],
           [
            1,
            "rgb(217,30,30)"
           ]
          ],
          "showscale": false,
          "size": 8
         },
         "mode": "markers",
         "text": [
          "Buenos Aires",
          "CABA",
          "Catamarca",
          "Chaco",
          "Chubut",
          "Corrientes",
          "Córdoba",
          "Entre Ríos",
          "Formosa",
          "Jujuy",
          "La Pampa",
          "La Rioja",
          "Mendoza",
          "Misiones",
          "Neuquén",
          "Río Negro",
          "Salta",
          "San Juan",
          "San Luis",
          "Santa Cruz",
          "Santa Fe",
          "Santiago del Estero",
          "Tierra del Fuego",
          "Tucumán"
         ],
         "type": "scatter",
         "x": [
          19864,
          5924,
          1,
          549,
          192,
          47,
          1258,
          456,
          3,
          745,
          54,
          276,
          987,
          92,
          420,
          631,
          888,
          65,
          53,
          154,
          1338,
          121,
          137,
          732
         ],
         "y": [
          71.60302267002518,
          76.63564054831613,
          97,
          65.31876138433516,
          69.625,
          67.7872340425532,
          73.16295707472177,
          71.29166666666667,
          64.33333333333333,
          66.6975806451613,
          71.64814814814815,
          66.81159420289855,
          72.209726443769,
          58.44565217391305,
          68.29523809523809,
          69.92076069730587,
          66.03833145434048,
          74.52307692307693,
          71.37735849056604,
          68.16883116883118,
          73.34379671150971,
          64.76859504132231,
          66.07299270072993,
          66.09426229508196
         ]
        }
       ],
       "layout": {
        "autosize": false,
        "height": 600,
        "template": {
         "data": {
          "bar": [
           {
            "error_x": {
             "color": "#2a3f5f"
            },
            "error_y": {
             "color": "#2a3f5f"
            },
            "marker": {
             "line": {
              "color": "#E5ECF6",
              "width": 0.5
             }
            },
            "type": "bar"
           }
          ],
          "barpolar": [
           {
            "marker": {
             "line": {
              "color": "#E5ECF6",
              "width": 0.5
             }
            },
            "type": "barpolar"
           }
          ],
          "carpet": [
           {
            "aaxis": {
             "endlinecolor": "#2a3f5f",
             "gridcolor": "white",
             "linecolor": "white",
             "minorgridcolor": "white",
             "startlinecolor": "#2a3f5f"
            },
            "baxis": {
             "endlinecolor": "#2a3f5f",
             "gridcolor": "white",
             "linecolor": "white",
             "minorgridcolor": "white",
             "startlinecolor": "#2a3f5f"
            },
            "type": "carpet"
           }
          ],
          "choropleth": [
           {
            "colorbar": {
             "outlinewidth": 0,
             "ticks": ""
            },
            "type": "choropleth"
           }
          ],
          "contour": [
           {
            "colorbar": {
             "outlinewidth": 0,
             "ticks": ""
            },
            "colorscale": [
             [
              0,
              "#0d0887"
             ],
             [
              0.1111111111111111,
              "#46039f"
             ],
             [
              0.2222222222222222,
              "#7201a8"
             ],
             [
              0.3333333333333333,
              "#9c179e"
             ],
             [
              0.4444444444444444,
              "#bd3786"
             ],
             [
              0.5555555555555556,
              "#d8576b"
             ],
             [
              0.6666666666666666,
              "#ed7953"
             ],
             [
              0.7777777777777778,
              "#fb9f3a"
             ],
             [
              0.8888888888888888,
              "#fdca26"
             ],
             [
              1,
              "#f0f921"
             ]
            ],
            "type": "contour"
           }
          ],
          "contourcarpet": [
           {
            "colorbar": {
             "outlinewidth": 0,
             "ticks": ""
            },
            "type": "contourcarpet"
           }
          ],
          "heatmap": [
           {
            "colorbar": {
             "outlinewidth": 0,
             "ticks": ""
            },
            "colorscale": [
             [
              0,
              "#0d0887"
             ],
             [
              0.1111111111111111,
              "#46039f"
             ],
             [
              0.2222222222222222,
              "#7201a8"
             ],
             [
              0.3333333333333333,
              "#9c179e"
             ],
             [
              0.4444444444444444,
              "#bd3786"
             ],
             [
              0.5555555555555556,
              "#d8576b"
             ],
             [
              0.6666666666666666,
              "#ed7953"
             ],
             [
              0.7777777777777778,
              "#fb9f3a"
             ],
             [
              0.8888888888888888,
              "#fdca26"
             ],
             [
              1,
              "#f0f921"
             ]
            ],
            "type": "heatmap"
           }
          ],
          "heatmapgl": [
           {
            "colorbar": {
             "outlinewidth": 0,
             "ticks": ""
            },
            "colorscale": [
             [
              0,
              "#0d0887"
             ],
             [
              0.1111111111111111,
              "#46039f"
             ],
             [
              0.2222222222222222,
              "#7201a8"
             ],
             [
              0.3333333333333333,
              "#9c179e"
             ],
             [
              0.4444444444444444,
              "#bd3786"
             ],
             [
              0.5555555555555556,
              "#d8576b"
             ],
             [
              0.6666666666666666,
              "#ed7953"
             ],
             [
              0.7777777777777778,
              "#fb9f3a"
             ],
             [
              0.8888888888888888,
              "#fdca26"
             ],
             [
              1,
              "#f0f921"
             ]
            ],
            "type": "heatmapgl"
           }
          ],
          "histogram": [
           {
            "marker": {
             "colorbar": {
              "outlinewidth": 0,
              "ticks": ""
             }
            },
            "type": "histogram"
           }
          ],
          "histogram2d": [
           {
            "colorbar": {
             "outlinewidth": 0,
             "ticks": ""
            },
            "colorscale": [
             [
              0,
              "#0d0887"
             ],
             [
              0.1111111111111111,
              "#46039f"
             ],
             [
              0.2222222222222222,
              "#7201a8"
             ],
             [
              0.3333333333333333,
              "#9c179e"
             ],
             [
              0.4444444444444444,
              "#bd3786"
             ],
             [
              0.5555555555555556,
              "#d8576b"
             ],
             [
              0.6666666666666666,
              "#ed7953"
             ],
             [
              0.7777777777777778,
              "#fb9f3a"
             ],
             [
              0.8888888888888888,
              "#fdca26"
             ],
             [
              1,
              "#f0f921"
             ]
            ],
            "type": "histogram2d"
           }
          ],
          "histogram2dcontour": [
           {
            "colorbar": {
             "outlinewidth": 0,
             "ticks": ""
            },
            "colorscale": [
             [
              0,
              "#0d0887"
             ],
             [
              0.1111111111111111,
              "#46039f"
             ],
             [
              0.2222222222222222,
              "#7201a8"
             ],
             [
              0.3333333333333333,
              "#9c179e"
             ],
             [
              0.4444444444444444,
              "#bd3786"
             ],
             [
              0.5555555555555556,
              "#d8576b"
             ],
             [
              0.6666666666666666,
              "#ed7953"
             ],
             [
              0.7777777777777778,
              "#fb9f3a"
             ],
             [
              0.8888888888888888,
              "#fdca26"
             ],
             [
              1,
              "#f0f921"
             ]
            ],
            "type": "histogram2dcontour"
           }
          ],
          "mesh3d": [
           {
            "colorbar": {
             "outlinewidth": 0,
             "ticks": ""
            },
            "type": "mesh3d"
           }
          ],
          "parcoords": [
           {
            "line": {
             "colorbar": {
              "outlinewidth": 0,
              "ticks": ""
             }
            },
            "type": "parcoords"
           }
          ],
          "pie": [
           {
            "automargin": true,
            "type": "pie"
           }
          ],
          "scatter": [
           {
            "marker": {
             "colorbar": {
              "outlinewidth": 0,
              "ticks": ""
             }
            },
            "type": "scatter"
           }
          ],
          "scatter3d": [
           {
            "line": {
             "colorbar": {
              "outlinewidth": 0,
              "ticks": ""
             }
            },
            "marker": {
             "colorbar": {
              "outlinewidth": 0,
              "ticks": ""
             }
            },
            "type": "scatter3d"
           }
          ],
          "scattercarpet": [
           {
            "marker": {
             "colorbar": {
              "outlinewidth": 0,
              "ticks": ""
             }
            },
            "type": "scattercarpet"
           }
          ],
          "scattergeo": [
           {
            "marker": {
             "colorbar": {
              "outlinewidth": 0,
              "ticks": ""
             }
            },
            "type": "scattergeo"
           }
          ],
          "scattergl": [
           {
            "marker": {
             "colorbar": {
              "outlinewidth": 0,
              "ticks": ""
             }
            },
            "type": "scattergl"
           }
          ],
          "scattermapbox": [
           {
            "marker": {
             "colorbar": {
              "outlinewidth": 0,
              "ticks": ""
             }
            },
            "type": "scattermapbox"
           }
          ],
          "scatterpolar": [
           {
            "marker": {
             "colorbar": {
              "outlinewidth": 0,
              "ticks": ""
             }
            },
            "type": "scatterpolar"
           }
          ],
          "scatterpolargl": [
           {
            "marker": {
             "colorbar": {
              "outlinewidth": 0,
              "ticks": ""
             }
            },
            "type": "scatterpolargl"
           }
          ],
          "scatterternary": [
           {
            "marker": {
             "colorbar": {
              "outlinewidth": 0,
              "ticks": ""
             }
            },
            "type": "scatterternary"
           }
          ],
          "surface": [
           {
            "colorbar": {
             "outlinewidth": 0,
             "ticks": ""
            },
            "colorscale": [
             [
              0,
              "#0d0887"
             ],
             [
              0.1111111111111111,
              "#46039f"
             ],
             [
              0.2222222222222222,
              "#7201a8"
             ],
             [
              0.3333333333333333,
              "#9c179e"
             ],
             [
              0.4444444444444444,
              "#bd3786"
             ],
             [
              0.5555555555555556,
              "#d8576b"
             ],
             [
              0.6666666666666666,
              "#ed7953"
             ],
             [
              0.7777777777777778,
              "#fb9f3a"
             ],
             [
              0.8888888888888888,
              "#fdca26"
             ],
             [
              1,
              "#f0f921"
             ]
            ],
            "type": "surface"
           }
          ],
          "table": [
           {
            "cells": {
             "fill": {
              "color": "#EBF0F8"
             },
             "line": {
              "color": "white"
             }
            },
            "header": {
             "fill": {
              "color": "#C8D4E3"
             },
             "line": {
              "color": "white"
             }
            },
            "type": "table"
           }
          ]
         },
         "layout": {
          "annotationdefaults": {
           "arrowcolor": "#2a3f5f",
           "arrowhead": 0,
           "arrowwidth": 1
          },
          "coloraxis": {
           "colorbar": {
            "outlinewidth": 0,
            "ticks": ""
           }
          },
          "colorscale": {
           "diverging": [
            [
             0,
             "#8e0152"
            ],
            [
             0.1,
             "#c51b7d"
            ],
            [
             0.2,
             "#de77ae"
            ],
            [
             0.3,
             "#f1b6da"
            ],
            [
             0.4,
             "#fde0ef"
            ],
            [
             0.5,
             "#f7f7f7"
            ],
            [
             0.6,
             "#e6f5d0"
            ],
            [
             0.7,
             "#b8e186"
            ],
            [
             0.8,
             "#7fbc41"
            ],
            [
             0.9,
             "#4d9221"
            ],
            [
             1,
             "#276419"
            ]
           ],
           "sequential": [
            [
             0,
             "#0d0887"
            ],
            [
             0.1111111111111111,
             "#46039f"
            ],
            [
             0.2222222222222222,
             "#7201a8"
            ],
            [
             0.3333333333333333,
             "#9c179e"
            ],
            [
             0.4444444444444444,
             "#bd3786"
            ],
            [
             0.5555555555555556,
             "#d8576b"
            ],
            [
             0.6666666666666666,
             "#ed7953"
            ],
            [
             0.7777777777777778,
             "#fb9f3a"
            ],
            [
             0.8888888888888888,
             "#fdca26"
            ],
            [
             1,
             "#f0f921"
            ]
           ],
           "sequentialminus": [
            [
             0,
             "#0d0887"
            ],
            [
             0.1111111111111111,
             "#46039f"
            ],
            [
             0.2222222222222222,
             "#7201a8"
            ],
            [
             0.3333333333333333,
             "#9c179e"
            ],
            [
             0.4444444444444444,
             "#bd3786"
            ],
            [
             0.5555555555555556,
             "#d8576b"
            ],
            [
             0.6666666666666666,
             "#ed7953"
            ],
            [
             0.7777777777777778,
             "#fb9f3a"
            ],
            [
             0.8888888888888888,
             "#fdca26"
            ],
            [
             1,
             "#f0f921"
            ]
           ]
          },
          "colorway": [
           "#636efa",
           "#EF553B",
           "#00cc96",
           "#ab63fa",
           "#FFA15A",
           "#19d3f3",
           "#FF6692",
           "#B6E880",
           "#FF97FF",
           "#FECB52"
          ],
          "font": {
           "color": "#2a3f5f"
          },
          "geo": {
           "bgcolor": "white",
           "lakecolor": "white",
           "landcolor": "#E5ECF6",
           "showlakes": true,
           "showland": true,
           "subunitcolor": "white"
          },
          "hoverlabel": {
           "align": "left"
          },
          "hovermode": "closest",
          "mapbox": {
           "style": "light"
          },
          "paper_bgcolor": "white",
          "plot_bgcolor": "#E5ECF6",
          "polar": {
           "angularaxis": {
            "gridcolor": "white",
            "linecolor": "white",
            "ticks": ""
           },
           "bgcolor": "#E5ECF6",
           "radialaxis": {
            "gridcolor": "white",
            "linecolor": "white",
            "ticks": ""
           }
          },
          "scene": {
           "xaxis": {
            "backgroundcolor": "#E5ECF6",
            "gridcolor": "white",
            "gridwidth": 2,
            "linecolor": "white",
            "showbackground": true,
            "ticks": "",
            "zerolinecolor": "white"
           },
           "yaxis": {
            "backgroundcolor": "#E5ECF6",
            "gridcolor": "white",
            "gridwidth": 2,
            "linecolor": "white",
            "showbackground": true,
            "ticks": "",
            "zerolinecolor": "white"
           },
           "zaxis": {
            "backgroundcolor": "#E5ECF6",
            "gridcolor": "white",
            "gridwidth": 2,
            "linecolor": "white",
            "showbackground": true,
            "ticks": "",
            "zerolinecolor": "white"
           }
          },
          "shapedefaults": {
           "line": {
            "color": "#2a3f5f"
           }
          },
          "ternary": {
           "aaxis": {
            "gridcolor": "white",
            "linecolor": "white",
            "ticks": ""
           },
           "baxis": {
            "gridcolor": "white",
            "linecolor": "white",
            "ticks": ""
           },
           "bgcolor": "#E5ECF6",
           "caxis": {
            "gridcolor": "white",
            "linecolor": "white",
            "ticks": ""
           }
          },
          "title": {
           "x": 0.05
          },
          "xaxis": {
           "automargin": true,
           "gridcolor": "white",
           "linecolor": "white",
           "ticks": "",
           "title": {
            "standoff": 15
           },
           "zerolinecolor": "white",
           "zerolinewidth": 2
          },
          "yaxis": {
           "automargin": true,
           "gridcolor": "white",
           "linecolor": "white",
           "ticks": "",
           "title": {
            "standoff": 15
           },
           "zerolinecolor": "white",
           "zerolinewidth": 2
          }
         }
        },
        "title": {
         "font": {
          "size": 20
         },
         "text": "Clustering K means"
        },
        "width": 600,
        "xaxis": {
         "title": {
          "text": "fallecidos"
         }
        },
        "yaxis": {
         "title": {
          "text": "edad_promedio"
         }
        }
       }
      }
     },
     "metadata": {}
    }
   ],
   "source": [
    "data=[]\n",
    "\n",
    "kmean_clusters = go.Scatter(x=dataset_km[\"fallecidos\"], y=dataset_km[\"edad_promedio\"],\n",
    "                                mode='markers',\n",
    "                                text= dataset_final.loc[:,'residencia_provincia_nombre'],\n",
    "                                marker=dict(\n",
    "                                size=8,\n",
    "                                color = clusters.astype(np.float), #set color equal to a variable\n",
    "                                colorscale='Portland',\n",
    "                                showscale=False)\n",
    "                           )\n",
    "\n",
    "data=[kmean_clusters]\n",
    "\n",
    "layout = go.Layout(title=\"Clustering K means\",titlefont=dict(size=20),\n",
    "                xaxis=dict(title=\"fallecidos\"),\n",
    "                yaxis=dict(title=\"edad_promedio\"),\n",
    "                autosize=False, width=600,height=600)\n",
    "\n",
    "fig = go.Figure(data=data, layout=layout)\n",
    "\n",
    "iplot(fig)"
   ]
  },
  {
   "source": [
    "### Análisis por pairplot"
   ],
   "cell_type": "markdown",
   "metadata": {}
  },
  {
   "cell_type": "code",
   "execution_count": 175,
   "metadata": {},
   "outputs": [
    {
     "output_type": "execute_result",
     "data": {
      "text/plain": [
       "<seaborn.axisgrid.PairGrid at 0x1da029d8288>"
      ]
     },
     "metadata": {},
     "execution_count": 175
    },
    {
     "output_type": "display_data",
     "data": {
      "text/plain": "<Figure size 1440x1440 with 0 Axes>"
     },
     "metadata": {}
    },
    {
     "output_type": "display_data",
     "data": {
      "text/plain": "<Figure size 402.375x360 with 6 Axes>",
      "image/svg+xml": "<?xml version=\"1.0\" encoding=\"utf-8\" standalone=\"no\"?>\r\n<!DOCTYPE svg PUBLIC \"-//W3C//DTD SVG 1.1//EN\"\r\n  \"http://www.w3.org/Graphics/SVG/1.1/DTD/svg11.dtd\">\r\n<!-- Created with matplotlib (https://matplotlib.org/) -->\r\n<svg height=\"369.75625pt\" version=\"1.1\" viewBox=\"0 0 429.272917 369.75625\" width=\"429.272917pt\" xmlns=\"http://www.w3.org/2000/svg\" xmlns:xlink=\"http://www.w3.org/1999/xlink\">\r\n <defs>\r\n  <style type=\"text/css\">\r\n*{stroke-linecap:butt;stroke-linejoin:round;}\r\n  </style>\r\n </defs>\r\n <g id=\"figure_1\">\r\n  <g id=\"patch_1\">\r\n   <path d=\"M 0 369.75625 \r\nL 429.272917 369.75625 \r\nL 429.272917 -0 \r\nL 0 -0 \r\nz\r\n\" style=\"fill:none;\"/>\r\n  </g>\r\n  <g id=\"axes_1\">\r\n   <g id=\"patch_2\">\r\n    <path d=\"M 66.053125 164.7 \r\nL 212.075378 164.7 \r\nL 212.075378 7.2 \r\nL 66.053125 7.2 \r\nz\r\n\" style=\"fill:#ffffff;\"/>\r\n   </g>\r\n   <g id=\"matplotlib.axis_1\">\r\n    <g id=\"xtick_1\">\r\n     <g id=\"line2d_1\">\r\n      <defs>\r\n       <path d=\"M 0 0 \r\nL 0 3.5 \r\n\" id=\"m9fc6403bc2\" style=\"stroke:#000000;stroke-width:0.8;\"/>\r\n      </defs>\r\n      <g>\r\n       <use style=\"stroke:#000000;stroke-width:0.8;\" x=\"77.593428\" xlink:href=\"#m9fc6403bc2\" y=\"164.7\"/>\r\n      </g>\r\n     </g>\r\n    </g>\r\n    <g id=\"xtick_2\">\r\n     <g id=\"line2d_2\">\r\n      <g>\r\n       <use style=\"stroke:#000000;stroke-width:0.8;\" x=\"126.303268\" xlink:href=\"#m9fc6403bc2\" y=\"164.7\"/>\r\n      </g>\r\n     </g>\r\n    </g>\r\n    <g id=\"xtick_3\">\r\n     <g id=\"line2d_3\">\r\n      <g>\r\n       <use style=\"stroke:#000000;stroke-width:0.8;\" x=\"175.013107\" xlink:href=\"#m9fc6403bc2\" y=\"164.7\"/>\r\n      </g>\r\n     </g>\r\n    </g>\r\n   </g>\r\n   <g id=\"matplotlib.axis_2\">\r\n    <g id=\"ytick_1\">\r\n     <g id=\"line2d_4\">\r\n      <defs>\r\n       <path d=\"M 0 0 \r\nL -3.5 0 \r\n\" id=\"m9c05c8c4b7\" style=\"stroke:#000000;stroke-width:0.8;\"/>\r\n      </defs>\r\n      <g>\r\n       <use style=\"stroke:#000000;stroke-width:0.8;\" x=\"66.053125\" xlink:href=\"#m9c05c8c4b7\" y=\"157.579925\"/>\r\n      </g>\r\n     </g>\r\n     <g id=\"text_1\">\r\n      <!-- 0 -->\r\n      <defs>\r\n       <path d=\"M 31.78125 66.40625 \r\nQ 24.171875 66.40625 20.328125 58.90625 \r\nQ 16.5 51.421875 16.5 36.375 \r\nQ 16.5 21.390625 20.328125 13.890625 \r\nQ 24.171875 6.390625 31.78125 6.390625 \r\nQ 39.453125 6.390625 43.28125 13.890625 \r\nQ 47.125 21.390625 47.125 36.375 \r\nQ 47.125 51.421875 43.28125 58.90625 \r\nQ 39.453125 66.40625 31.78125 66.40625 \r\nz\r\nM 31.78125 74.21875 \r\nQ 44.046875 74.21875 50.515625 64.515625 \r\nQ 56.984375 54.828125 56.984375 36.375 \r\nQ 56.984375 17.96875 50.515625 8.265625 \r\nQ 44.046875 -1.421875 31.78125 -1.421875 \r\nQ 19.53125 -1.421875 13.0625 8.265625 \r\nQ 6.59375 17.96875 6.59375 36.375 \r\nQ 6.59375 54.828125 13.0625 64.515625 \r\nQ 19.53125 74.21875 31.78125 74.21875 \r\nz\r\n\" id=\"DejaVuSans-48\"/>\r\n      </defs>\r\n      <g transform=\"translate(52.690625 161.379144)scale(0.1 -0.1)\">\r\n       <use xlink:href=\"#DejaVuSans-48\"/>\r\n      </g>\r\n     </g>\r\n    </g>\r\n    <g id=\"ytick_2\">\r\n     <g id=\"line2d_5\">\r\n      <g>\r\n       <use style=\"stroke:#000000;stroke-width:0.8;\" x=\"66.053125\" xlink:href=\"#m9c05c8c4b7\" y=\"130.295765\"/>\r\n      </g>\r\n     </g>\r\n     <g id=\"text_2\">\r\n      <!-- 100000 -->\r\n      <defs>\r\n       <path d=\"M 12.40625 8.296875 \r\nL 28.515625 8.296875 \r\nL 28.515625 63.921875 \r\nL 10.984375 60.40625 \r\nL 10.984375 69.390625 \r\nL 28.421875 72.90625 \r\nL 38.28125 72.90625 \r\nL 38.28125 8.296875 \r\nL 54.390625 8.296875 \r\nL 54.390625 0 \r\nL 12.40625 0 \r\nz\r\n\" id=\"DejaVuSans-49\"/>\r\n      </defs>\r\n      <g transform=\"translate(20.878125 134.094984)scale(0.1 -0.1)\">\r\n       <use xlink:href=\"#DejaVuSans-49\"/>\r\n       <use x=\"63.623047\" xlink:href=\"#DejaVuSans-48\"/>\r\n       <use x=\"127.246094\" xlink:href=\"#DejaVuSans-48\"/>\r\n       <use x=\"190.869141\" xlink:href=\"#DejaVuSans-48\"/>\r\n       <use x=\"254.492188\" xlink:href=\"#DejaVuSans-48\"/>\r\n       <use x=\"318.115234\" xlink:href=\"#DejaVuSans-48\"/>\r\n      </g>\r\n     </g>\r\n    </g>\r\n    <g id=\"ytick_3\">\r\n     <g id=\"line2d_6\">\r\n      <g>\r\n       <use style=\"stroke:#000000;stroke-width:0.8;\" x=\"66.053125\" xlink:href=\"#m9c05c8c4b7\" y=\"103.011604\"/>\r\n      </g>\r\n     </g>\r\n     <g id=\"text_3\">\r\n      <!-- 200000 -->\r\n      <defs>\r\n       <path d=\"M 19.1875 8.296875 \r\nL 53.609375 8.296875 \r\nL 53.609375 0 \r\nL 7.328125 0 \r\nL 7.328125 8.296875 \r\nQ 12.9375 14.109375 22.625 23.890625 \r\nQ 32.328125 33.6875 34.8125 36.53125 \r\nQ 39.546875 41.84375 41.421875 45.53125 \r\nQ 43.3125 49.21875 43.3125 52.78125 \r\nQ 43.3125 58.59375 39.234375 62.25 \r\nQ 35.15625 65.921875 28.609375 65.921875 \r\nQ 23.96875 65.921875 18.8125 64.3125 \r\nQ 13.671875 62.703125 7.8125 59.421875 \r\nL 7.8125 69.390625 \r\nQ 13.765625 71.78125 18.9375 73 \r\nQ 24.125 74.21875 28.421875 74.21875 \r\nQ 39.75 74.21875 46.484375 68.546875 \r\nQ 53.21875 62.890625 53.21875 53.421875 \r\nQ 53.21875 48.921875 51.53125 44.890625 \r\nQ 49.859375 40.875 45.40625 35.40625 \r\nQ 44.1875 33.984375 37.640625 27.21875 \r\nQ 31.109375 20.453125 19.1875 8.296875 \r\nz\r\n\" id=\"DejaVuSans-50\"/>\r\n      </defs>\r\n      <g transform=\"translate(20.878125 106.810823)scale(0.1 -0.1)\">\r\n       <use xlink:href=\"#DejaVuSans-50\"/>\r\n       <use x=\"63.623047\" xlink:href=\"#DejaVuSans-48\"/>\r\n       <use x=\"127.246094\" xlink:href=\"#DejaVuSans-48\"/>\r\n       <use x=\"190.869141\" xlink:href=\"#DejaVuSans-48\"/>\r\n       <use x=\"254.492188\" xlink:href=\"#DejaVuSans-48\"/>\r\n       <use x=\"318.115234\" xlink:href=\"#DejaVuSans-48\"/>\r\n      </g>\r\n     </g>\r\n    </g>\r\n    <g id=\"ytick_4\">\r\n     <g id=\"line2d_7\">\r\n      <g>\r\n       <use style=\"stroke:#000000;stroke-width:0.8;\" x=\"66.053125\" xlink:href=\"#m9c05c8c4b7\" y=\"75.727444\"/>\r\n      </g>\r\n     </g>\r\n     <g id=\"text_4\">\r\n      <!-- 300000 -->\r\n      <defs>\r\n       <path d=\"M 40.578125 39.3125 \r\nQ 47.65625 37.796875 51.625 33 \r\nQ 55.609375 28.21875 55.609375 21.1875 \r\nQ 55.609375 10.40625 48.1875 4.484375 \r\nQ 40.765625 -1.421875 27.09375 -1.421875 \r\nQ 22.515625 -1.421875 17.65625 -0.515625 \r\nQ 12.796875 0.390625 7.625 2.203125 \r\nL 7.625 11.71875 \r\nQ 11.71875 9.328125 16.59375 8.109375 \r\nQ 21.484375 6.890625 26.8125 6.890625 \r\nQ 36.078125 6.890625 40.9375 10.546875 \r\nQ 45.796875 14.203125 45.796875 21.1875 \r\nQ 45.796875 27.640625 41.28125 31.265625 \r\nQ 36.765625 34.90625 28.71875 34.90625 \r\nL 20.21875 34.90625 \r\nL 20.21875 43.015625 \r\nL 29.109375 43.015625 \r\nQ 36.375 43.015625 40.234375 45.921875 \r\nQ 44.09375 48.828125 44.09375 54.296875 \r\nQ 44.09375 59.90625 40.109375 62.90625 \r\nQ 36.140625 65.921875 28.71875 65.921875 \r\nQ 24.65625 65.921875 20.015625 65.03125 \r\nQ 15.375 64.15625 9.8125 62.3125 \r\nL 9.8125 71.09375 \r\nQ 15.4375 72.65625 20.34375 73.4375 \r\nQ 25.25 74.21875 29.59375 74.21875 \r\nQ 40.828125 74.21875 47.359375 69.109375 \r\nQ 53.90625 64.015625 53.90625 55.328125 \r\nQ 53.90625 49.265625 50.4375 45.09375 \r\nQ 46.96875 40.921875 40.578125 39.3125 \r\nz\r\n\" id=\"DejaVuSans-51\"/>\r\n      </defs>\r\n      <g transform=\"translate(20.878125 79.526662)scale(0.1 -0.1)\">\r\n       <use xlink:href=\"#DejaVuSans-51\"/>\r\n       <use x=\"63.623047\" xlink:href=\"#DejaVuSans-48\"/>\r\n       <use x=\"127.246094\" xlink:href=\"#DejaVuSans-48\"/>\r\n       <use x=\"190.869141\" xlink:href=\"#DejaVuSans-48\"/>\r\n       <use x=\"254.492188\" xlink:href=\"#DejaVuSans-48\"/>\r\n       <use x=\"318.115234\" xlink:href=\"#DejaVuSans-48\"/>\r\n      </g>\r\n     </g>\r\n    </g>\r\n    <g id=\"ytick_5\">\r\n     <g id=\"line2d_8\">\r\n      <g>\r\n       <use style=\"stroke:#000000;stroke-width:0.8;\" x=\"66.053125\" xlink:href=\"#m9c05c8c4b7\" y=\"48.443283\"/>\r\n      </g>\r\n     </g>\r\n     <g id=\"text_5\">\r\n      <!-- 400000 -->\r\n      <defs>\r\n       <path d=\"M 37.796875 64.3125 \r\nL 12.890625 25.390625 \r\nL 37.796875 25.390625 \r\nz\r\nM 35.203125 72.90625 \r\nL 47.609375 72.90625 \r\nL 47.609375 25.390625 \r\nL 58.015625 25.390625 \r\nL 58.015625 17.1875 \r\nL 47.609375 17.1875 \r\nL 47.609375 0 \r\nL 37.796875 0 \r\nL 37.796875 17.1875 \r\nL 4.890625 17.1875 \r\nL 4.890625 26.703125 \r\nz\r\n\" id=\"DejaVuSans-52\"/>\r\n      </defs>\r\n      <g transform=\"translate(20.878125 52.242502)scale(0.1 -0.1)\">\r\n       <use xlink:href=\"#DejaVuSans-52\"/>\r\n       <use x=\"63.623047\" xlink:href=\"#DejaVuSans-48\"/>\r\n       <use x=\"127.246094\" xlink:href=\"#DejaVuSans-48\"/>\r\n       <use x=\"190.869141\" xlink:href=\"#DejaVuSans-48\"/>\r\n       <use x=\"254.492188\" xlink:href=\"#DejaVuSans-48\"/>\r\n       <use x=\"318.115234\" xlink:href=\"#DejaVuSans-48\"/>\r\n      </g>\r\n     </g>\r\n    </g>\r\n    <g id=\"ytick_6\">\r\n     <g id=\"line2d_9\">\r\n      <g>\r\n       <use style=\"stroke:#000000;stroke-width:0.8;\" x=\"66.053125\" xlink:href=\"#m9c05c8c4b7\" y=\"21.159122\"/>\r\n      </g>\r\n     </g>\r\n     <g id=\"text_6\">\r\n      <!-- 500000 -->\r\n      <defs>\r\n       <path d=\"M 10.796875 72.90625 \r\nL 49.515625 72.90625 \r\nL 49.515625 64.59375 \r\nL 19.828125 64.59375 \r\nL 19.828125 46.734375 \r\nQ 21.96875 47.46875 24.109375 47.828125 \r\nQ 26.265625 48.1875 28.421875 48.1875 \r\nQ 40.625 48.1875 47.75 41.5 \r\nQ 54.890625 34.8125 54.890625 23.390625 \r\nQ 54.890625 11.625 47.5625 5.09375 \r\nQ 40.234375 -1.421875 26.90625 -1.421875 \r\nQ 22.3125 -1.421875 17.546875 -0.640625 \r\nQ 12.796875 0.140625 7.71875 1.703125 \r\nL 7.71875 11.625 \r\nQ 12.109375 9.234375 16.796875 8.0625 \r\nQ 21.484375 6.890625 26.703125 6.890625 \r\nQ 35.15625 6.890625 40.078125 11.328125 \r\nQ 45.015625 15.765625 45.015625 23.390625 \r\nQ 45.015625 31 40.078125 35.4375 \r\nQ 35.15625 39.890625 26.703125 39.890625 \r\nQ 22.75 39.890625 18.8125 39.015625 \r\nQ 14.890625 38.140625 10.796875 36.28125 \r\nz\r\n\" id=\"DejaVuSans-53\"/>\r\n      </defs>\r\n      <g transform=\"translate(20.878125 24.958341)scale(0.1 -0.1)\">\r\n       <use xlink:href=\"#DejaVuSans-53\"/>\r\n       <use x=\"63.623047\" xlink:href=\"#DejaVuSans-48\"/>\r\n       <use x=\"127.246094\" xlink:href=\"#DejaVuSans-48\"/>\r\n       <use x=\"190.869141\" xlink:href=\"#DejaVuSans-48\"/>\r\n       <use x=\"254.492188\" xlink:href=\"#DejaVuSans-48\"/>\r\n       <use x=\"318.115234\" xlink:href=\"#DejaVuSans-48\"/>\r\n      </g>\r\n     </g>\r\n    </g>\r\n    <g id=\"text_7\">\r\n     <!-- confirmados -->\r\n     <defs>\r\n      <path d=\"M 48.78125 52.59375 \r\nL 48.78125 44.1875 \r\nQ 44.96875 46.296875 41.140625 47.34375 \r\nQ 37.3125 48.390625 33.40625 48.390625 \r\nQ 24.65625 48.390625 19.8125 42.84375 \r\nQ 14.984375 37.3125 14.984375 27.296875 \r\nQ 14.984375 17.28125 19.8125 11.734375 \r\nQ 24.65625 6.203125 33.40625 6.203125 \r\nQ 37.3125 6.203125 41.140625 7.25 \r\nQ 44.96875 8.296875 48.78125 10.40625 \r\nL 48.78125 2.09375 \r\nQ 45.015625 0.34375 40.984375 -0.53125 \r\nQ 36.96875 -1.421875 32.421875 -1.421875 \r\nQ 20.0625 -1.421875 12.78125 6.34375 \r\nQ 5.515625 14.109375 5.515625 27.296875 \r\nQ 5.515625 40.671875 12.859375 48.328125 \r\nQ 20.21875 56 33.015625 56 \r\nQ 37.15625 56 41.109375 55.140625 \r\nQ 45.0625 54.296875 48.78125 52.59375 \r\nz\r\n\" id=\"DejaVuSans-99\"/>\r\n      <path d=\"M 30.609375 48.390625 \r\nQ 23.390625 48.390625 19.1875 42.75 \r\nQ 14.984375 37.109375 14.984375 27.296875 \r\nQ 14.984375 17.484375 19.15625 11.84375 \r\nQ 23.34375 6.203125 30.609375 6.203125 \r\nQ 37.796875 6.203125 41.984375 11.859375 \r\nQ 46.1875 17.53125 46.1875 27.296875 \r\nQ 46.1875 37.015625 41.984375 42.703125 \r\nQ 37.796875 48.390625 30.609375 48.390625 \r\nz\r\nM 30.609375 56 \r\nQ 42.328125 56 49.015625 48.375 \r\nQ 55.71875 40.765625 55.71875 27.296875 \r\nQ 55.71875 13.875 49.015625 6.21875 \r\nQ 42.328125 -1.421875 30.609375 -1.421875 \r\nQ 18.84375 -1.421875 12.171875 6.21875 \r\nQ 5.515625 13.875 5.515625 27.296875 \r\nQ 5.515625 40.765625 12.171875 48.375 \r\nQ 18.84375 56 30.609375 56 \r\nz\r\n\" id=\"DejaVuSans-111\"/>\r\n      <path d=\"M 54.890625 33.015625 \r\nL 54.890625 0 \r\nL 45.90625 0 \r\nL 45.90625 32.71875 \r\nQ 45.90625 40.484375 42.875 44.328125 \r\nQ 39.84375 48.1875 33.796875 48.1875 \r\nQ 26.515625 48.1875 22.3125 43.546875 \r\nQ 18.109375 38.921875 18.109375 30.90625 \r\nL 18.109375 0 \r\nL 9.078125 0 \r\nL 9.078125 54.6875 \r\nL 18.109375 54.6875 \r\nL 18.109375 46.1875 \r\nQ 21.34375 51.125 25.703125 53.5625 \r\nQ 30.078125 56 35.796875 56 \r\nQ 45.21875 56 50.046875 50.171875 \r\nQ 54.890625 44.34375 54.890625 33.015625 \r\nz\r\n\" id=\"DejaVuSans-110\"/>\r\n      <path d=\"M 37.109375 75.984375 \r\nL 37.109375 68.5 \r\nL 28.515625 68.5 \r\nQ 23.6875 68.5 21.796875 66.546875 \r\nQ 19.921875 64.59375 19.921875 59.515625 \r\nL 19.921875 54.6875 \r\nL 34.71875 54.6875 \r\nL 34.71875 47.703125 \r\nL 19.921875 47.703125 \r\nL 19.921875 0 \r\nL 10.890625 0 \r\nL 10.890625 47.703125 \r\nL 2.296875 47.703125 \r\nL 2.296875 54.6875 \r\nL 10.890625 54.6875 \r\nL 10.890625 58.5 \r\nQ 10.890625 67.625 15.140625 71.796875 \r\nQ 19.390625 75.984375 28.609375 75.984375 \r\nz\r\n\" id=\"DejaVuSans-102\"/>\r\n      <path d=\"M 9.421875 54.6875 \r\nL 18.40625 54.6875 \r\nL 18.40625 0 \r\nL 9.421875 0 \r\nz\r\nM 9.421875 75.984375 \r\nL 18.40625 75.984375 \r\nL 18.40625 64.59375 \r\nL 9.421875 64.59375 \r\nz\r\n\" id=\"DejaVuSans-105\"/>\r\n      <path d=\"M 41.109375 46.296875 \r\nQ 39.59375 47.171875 37.8125 47.578125 \r\nQ 36.03125 48 33.890625 48 \r\nQ 26.265625 48 22.1875 43.046875 \r\nQ 18.109375 38.09375 18.109375 28.8125 \r\nL 18.109375 0 \r\nL 9.078125 0 \r\nL 9.078125 54.6875 \r\nL 18.109375 54.6875 \r\nL 18.109375 46.1875 \r\nQ 20.953125 51.171875 25.484375 53.578125 \r\nQ 30.03125 56 36.53125 56 \r\nQ 37.453125 56 38.578125 55.875 \r\nQ 39.703125 55.765625 41.0625 55.515625 \r\nz\r\n\" id=\"DejaVuSans-114\"/>\r\n      <path d=\"M 52 44.1875 \r\nQ 55.375 50.25 60.0625 53.125 \r\nQ 64.75 56 71.09375 56 \r\nQ 79.640625 56 84.28125 50.015625 \r\nQ 88.921875 44.046875 88.921875 33.015625 \r\nL 88.921875 0 \r\nL 79.890625 0 \r\nL 79.890625 32.71875 \r\nQ 79.890625 40.578125 77.09375 44.375 \r\nQ 74.3125 48.1875 68.609375 48.1875 \r\nQ 61.625 48.1875 57.5625 43.546875 \r\nQ 53.515625 38.921875 53.515625 30.90625 \r\nL 53.515625 0 \r\nL 44.484375 0 \r\nL 44.484375 32.71875 \r\nQ 44.484375 40.625 41.703125 44.40625 \r\nQ 38.921875 48.1875 33.109375 48.1875 \r\nQ 26.21875 48.1875 22.15625 43.53125 \r\nQ 18.109375 38.875 18.109375 30.90625 \r\nL 18.109375 0 \r\nL 9.078125 0 \r\nL 9.078125 54.6875 \r\nL 18.109375 54.6875 \r\nL 18.109375 46.1875 \r\nQ 21.1875 51.21875 25.484375 53.609375 \r\nQ 29.78125 56 35.6875 56 \r\nQ 41.65625 56 45.828125 52.96875 \r\nQ 50 49.953125 52 44.1875 \r\nz\r\n\" id=\"DejaVuSans-109\"/>\r\n      <path d=\"M 34.28125 27.484375 \r\nQ 23.390625 27.484375 19.1875 25 \r\nQ 14.984375 22.515625 14.984375 16.5 \r\nQ 14.984375 11.71875 18.140625 8.90625 \r\nQ 21.296875 6.109375 26.703125 6.109375 \r\nQ 34.1875 6.109375 38.703125 11.40625 \r\nQ 43.21875 16.703125 43.21875 25.484375 \r\nL 43.21875 27.484375 \r\nz\r\nM 52.203125 31.203125 \r\nL 52.203125 0 \r\nL 43.21875 0 \r\nL 43.21875 8.296875 \r\nQ 40.140625 3.328125 35.546875 0.953125 \r\nQ 30.953125 -1.421875 24.3125 -1.421875 \r\nQ 15.921875 -1.421875 10.953125 3.296875 \r\nQ 6 8.015625 6 15.921875 \r\nQ 6 25.140625 12.171875 29.828125 \r\nQ 18.359375 34.515625 30.609375 34.515625 \r\nL 43.21875 34.515625 \r\nL 43.21875 35.40625 \r\nQ 43.21875 41.609375 39.140625 45 \r\nQ 35.0625 48.390625 27.6875 48.390625 \r\nQ 23 48.390625 18.546875 47.265625 \r\nQ 14.109375 46.140625 10.015625 43.890625 \r\nL 10.015625 52.203125 \r\nQ 14.9375 54.109375 19.578125 55.046875 \r\nQ 24.21875 56 28.609375 56 \r\nQ 40.484375 56 46.34375 49.84375 \r\nQ 52.203125 43.703125 52.203125 31.203125 \r\nz\r\n\" id=\"DejaVuSans-97\"/>\r\n      <path d=\"M 45.40625 46.390625 \r\nL 45.40625 75.984375 \r\nL 54.390625 75.984375 \r\nL 54.390625 0 \r\nL 45.40625 0 \r\nL 45.40625 8.203125 \r\nQ 42.578125 3.328125 38.25 0.953125 \r\nQ 33.9375 -1.421875 27.875 -1.421875 \r\nQ 17.96875 -1.421875 11.734375 6.484375 \r\nQ 5.515625 14.40625 5.515625 27.296875 \r\nQ 5.515625 40.1875 11.734375 48.09375 \r\nQ 17.96875 56 27.875 56 \r\nQ 33.9375 56 38.25 53.625 \r\nQ 42.578125 51.265625 45.40625 46.390625 \r\nz\r\nM 14.796875 27.296875 \r\nQ 14.796875 17.390625 18.875 11.75 \r\nQ 22.953125 6.109375 30.078125 6.109375 \r\nQ 37.203125 6.109375 41.296875 11.75 \r\nQ 45.40625 17.390625 45.40625 27.296875 \r\nQ 45.40625 37.203125 41.296875 42.84375 \r\nQ 37.203125 48.484375 30.078125 48.484375 \r\nQ 22.953125 48.484375 18.875 42.84375 \r\nQ 14.796875 37.203125 14.796875 27.296875 \r\nz\r\n\" id=\"DejaVuSans-100\"/>\r\n      <path d=\"M 44.28125 53.078125 \r\nL 44.28125 44.578125 \r\nQ 40.484375 46.53125 36.375 47.5 \r\nQ 32.28125 48.484375 27.875 48.484375 \r\nQ 21.1875 48.484375 17.84375 46.4375 \r\nQ 14.5 44.390625 14.5 40.28125 \r\nQ 14.5 37.15625 16.890625 35.375 \r\nQ 19.28125 33.59375 26.515625 31.984375 \r\nL 29.59375 31.296875 \r\nQ 39.15625 29.25 43.1875 25.515625 \r\nQ 47.21875 21.78125 47.21875 15.09375 \r\nQ 47.21875 7.46875 41.1875 3.015625 \r\nQ 35.15625 -1.421875 24.609375 -1.421875 \r\nQ 20.21875 -1.421875 15.453125 -0.5625 \r\nQ 10.6875 0.296875 5.421875 2 \r\nL 5.421875 11.28125 \r\nQ 10.40625 8.6875 15.234375 7.390625 \r\nQ 20.0625 6.109375 24.8125 6.109375 \r\nQ 31.15625 6.109375 34.5625 8.28125 \r\nQ 37.984375 10.453125 37.984375 14.40625 \r\nQ 37.984375 18.0625 35.515625 20.015625 \r\nQ 33.0625 21.96875 24.703125 23.78125 \r\nL 21.578125 24.515625 \r\nQ 13.234375 26.265625 9.515625 29.90625 \r\nQ 5.8125 33.546875 5.8125 39.890625 \r\nQ 5.8125 47.609375 11.28125 51.796875 \r\nQ 16.75 56 26.8125 56 \r\nQ 31.78125 56 36.171875 55.265625 \r\nQ 40.578125 54.546875 44.28125 53.078125 \r\nz\r\n\" id=\"DejaVuSans-115\"/>\r\n     </defs>\r\n     <g transform=\"translate(14.798437 116.817187)rotate(-90)scale(0.1 -0.1)\">\r\n      <use xlink:href=\"#DejaVuSans-99\"/>\r\n      <use x=\"54.980469\" xlink:href=\"#DejaVuSans-111\"/>\r\n      <use x=\"116.162109\" xlink:href=\"#DejaVuSans-110\"/>\r\n      <use x=\"179.541016\" xlink:href=\"#DejaVuSans-102\"/>\r\n      <use x=\"214.746094\" xlink:href=\"#DejaVuSans-105\"/>\r\n      <use x=\"242.529297\" xlink:href=\"#DejaVuSans-114\"/>\r\n      <use x=\"281.892578\" xlink:href=\"#DejaVuSans-109\"/>\r\n      <use x=\"379.304688\" xlink:href=\"#DejaVuSans-97\"/>\r\n      <use x=\"440.583984\" xlink:href=\"#DejaVuSans-100\"/>\r\n      <use x=\"504.060547\" xlink:href=\"#DejaVuSans-111\"/>\r\n      <use x=\"565.242188\" xlink:href=\"#DejaVuSans-115\"/>\r\n     </g>\r\n    </g>\r\n   </g>\r\n   <g id=\"patch_3\">\r\n    <path d=\"M 66.053125 164.7 \r\nL 66.053125 7.2 \r\n\" style=\"fill:none;stroke:#000000;stroke-linecap:square;stroke-linejoin:miter;stroke-width:0.8;\"/>\r\n   </g>\r\n   <g id=\"patch_4\">\r\n    <path d=\"M 66.053125 164.7 \r\nL 212.075378 164.7 \r\n\" style=\"fill:none;stroke:#000000;stroke-linecap:square;stroke-linejoin:miter;stroke-width:0.8;\"/>\r\n   </g>\r\n  </g>\r\n  <g id=\"axes_2\">\r\n   <g id=\"patch_5\">\r\n    <path d=\"M 234.651913 164.7 \r\nL 380.674167 164.7 \r\nL 380.674167 7.2 \r\nL 234.651913 7.2 \r\nz\r\n\" style=\"fill:#ffffff;\"/>\r\n   </g>\r\n   <g id=\"PathCollection_1\">\r\n    <defs>\r\n     <path d=\"M 0 3 \r\nC 0.795609 3 1.55874 2.683901 2.12132 2.12132 \r\nC 2.683901 1.55874 3 0.795609 3 0 \r\nC 3 -0.795609 2.683901 -1.55874 2.12132 -2.12132 \r\nC 1.55874 -2.683901 0.795609 -3 0 -3 \r\nC -0.795609 -3 -1.55874 -2.683901 -2.12132 -2.12132 \r\nC -2.683901 -1.55874 -3 -0.795609 -3 0 \r\nC -3 0.795609 -2.683901 1.55874 -2.12132 2.12132 \r\nC -1.55874 2.683901 -0.795609 3 0 3 \r\nz\r\n\" id=\"mfb394d92e7\" style=\"stroke:#ffffff;stroke-width:0.75;\"/>\r\n    </defs>\r\n    <g clip-path=\"url(#p475c1664e4)\">\r\n     <use style=\"fill:#1f77b4;stroke:#ffffff;stroke-width:0.75;\" x=\"263.518875\" xlink:href=\"#mfb394d92e7\" y=\"157.390573\"/>\r\n     <use style=\"fill:#1f77b4;stroke:#ffffff;stroke-width:0.75;\" x=\"266.567952\" xlink:href=\"#mfb394d92e7\" y=\"154.235706\"/>\r\n     <use style=\"fill:#1f77b4;stroke:#ffffff;stroke-width:0.75;\" x=\"264.581601\" xlink:href=\"#mfb394d92e7\" y=\"154.007065\"/>\r\n     <use style=\"fill:#1f77b4;stroke:#ffffff;stroke-width:0.75;\" x=\"263.77482\" xlink:href=\"#mfb394d92e7\" y=\"156.919922\"/>\r\n     <use style=\"fill:#1f77b4;stroke:#ffffff;stroke-width:0.75;\" x=\"266.0505\" xlink:href=\"#mfb394d92e7\" y=\"153.584433\"/>\r\n     <use style=\"fill:#1f77b4;stroke:#ffffff;stroke-width:0.75;\" x=\"263.530003\" xlink:href=\"#mfb394d92e7\" y=\"157.540909\"/>\r\n     <use style=\"fill:#1f77b4;stroke:#ffffff;stroke-width:0.75;\" x=\"267.658498\" xlink:href=\"#mfb394d92e7\" y=\"153.101776\"/>\r\n     <use style=\"fill:#1f77b4;stroke:#ffffff;stroke-width:0.75;\" x=\"263.813768\" xlink:href=\"#mfb394d92e7\" y=\"156.814059\"/>\r\n     <use style=\"fill:#1f77b4;stroke:#ffffff;stroke-width:0.75;\" x=\"265.048978\" xlink:href=\"#mfb394d92e7\" y=\"155.641386\"/>\r\n     <use style=\"fill:#1f77b4;stroke:#ffffff;stroke-width:0.75;\" x=\"269.004989\" xlink:href=\"#mfb394d92e7\" y=\"145.627826\"/>\r\n     <use style=\"fill:#1f77b4;stroke:#ffffff;stroke-width:0.75;\" x=\"264.0252\" xlink:href=\"#mfb394d92e7\" y=\"157.513625\"/>\r\n     <use style=\"fill:#1f77b4;stroke:#ffffff;stroke-width:0.75;\" x=\"265.850195\" xlink:href=\"#mfb394d92e7\" y=\"152.022142\"/>\r\n     <use style=\"fill:#1f77b4;stroke:#ffffff;stroke-width:0.75;\" x=\"267.024201\" xlink:href=\"#mfb394d92e7\" y=\"151.539758\"/>\r\n     <use style=\"fill:#1f77b4;stroke:#ffffff;stroke-width:0.75;\" x=\"268.454152\" xlink:href=\"#mfb394d92e7\" y=\"152.751448\"/>\r\n     <use style=\"fill:#1f77b4;stroke:#ffffff;stroke-width:0.75;\" x=\"263.874972\" xlink:href=\"#mfb394d92e7\" y=\"157.098906\"/>\r\n     <use style=\"fill:#1f77b4;stroke:#ffffff;stroke-width:0.75;\" x=\"263.808204\" xlink:href=\"#mfb394d92e7\" y=\"155.943149\"/>\r\n     <use style=\"fill:#1f77b4;stroke:#ffffff;stroke-width:0.75;\" x=\"264.370169\" xlink:href=\"#mfb394d92e7\" y=\"155.138266\"/>\r\n     <use style=\"fill:#1f77b4;stroke:#ffffff;stroke-width:0.75;\" x=\"264.186557\" xlink:href=\"#mfb394d92e7\" y=\"155.16364\"/>\r\n     <use style=\"fill:#1f77b4;stroke:#ffffff;stroke-width:0.75;\" x=\"264.275581\" xlink:href=\"#mfb394d92e7\" y=\"154.798305\"/>\r\n     <use style=\"fill:#1f77b4;stroke:#ffffff;stroke-width:0.75;\" x=\"267.586166\" xlink:href=\"#mfb394d92e7\" y=\"145.583899\"/>\r\n    </g>\r\n   </g>\r\n   <g id=\"PathCollection_2\">\r\n    <defs>\r\n     <path d=\"M 0 3 \r\nC 0.795609 3 1.55874 2.683901 2.12132 2.12132 \r\nC 2.683901 1.55874 3 0.795609 3 0 \r\nC 3 -0.795609 2.683901 -1.55874 2.12132 -2.12132 \r\nC 1.55874 -2.683901 0.795609 -3 0 -3 \r\nC -0.795609 -3 -1.55874 -2.683901 -2.12132 -2.12132 \r\nC -2.683901 -1.55874 -3 -0.795609 -3 0 \r\nC -3 0.795609 -2.683901 1.55874 -2.12132 2.12132 \r\nC -1.55874 2.683901 -0.795609 3 0 3 \r\nz\r\n\" id=\"m2c8386a6fb\" style=\"stroke:#ffffff;stroke-width:0.75;\"/>\r\n    </defs>\r\n    <g clip-path=\"url(#p475c1664e4)\">\r\n     <use style=\"fill:#ff7f0e;stroke:#ffffff;stroke-width:0.75;\" x=\"374.036792\" xlink:href=\"#m2c8386a6fb\" y=\"14.359091\"/>\r\n    </g>\r\n   </g>\r\n   <g id=\"PathCollection_3\">\r\n    <defs>\r\n     <path d=\"M 0 3 \r\nC 0.795609 3 1.55874 2.683901 2.12132 2.12132 \r\nC 2.683901 1.55874 3 0.795609 3 0 \r\nC 3 -0.795609 2.683901 -1.55874 2.12132 -2.12132 \r\nC 1.55874 -2.683901 0.795609 -3 0 -3 \r\nC -0.795609 -3 -1.55874 -2.683901 -2.12132 -2.12132 \r\nC -2.683901 -1.55874 -3 -0.795609 -3 0 \r\nC -3 0.795609 -2.683901 1.55874 -2.12132 2.12132 \r\nC -1.55874 2.683901 -0.795609 3 0 3 \r\nz\r\n\" id=\"md512b9ce7b\" style=\"stroke:#ffffff;stroke-width:0.75;\"/>\r\n    </defs>\r\n    <g clip-path=\"url(#p475c1664e4)\">\r\n     <use style=\"fill:#2ca02c;stroke:#ffffff;stroke-width:0.75;\" x=\"296.474502\" xlink:href=\"#md512b9ce7b\" y=\"118.803676\"/>\r\n     <use style=\"fill:#2ca02c;stroke:#ffffff;stroke-width:0.75;\" x=\"270.512835\" xlink:href=\"#md512b9ce7b\" y=\"136.704814\"/>\r\n     <use style=\"fill:#2ca02c;stroke:#ffffff;stroke-width:0.75;\" x=\"270.957956\" xlink:href=\"#md512b9ce7b\" y=\"130.123602\"/>\r\n    </g>\r\n   </g>\r\n   <g id=\"matplotlib.axis_3\">\r\n    <g id=\"xtick_4\">\r\n     <g id=\"line2d_10\">\r\n      <g>\r\n       <use style=\"stroke:#000000;stroke-width:0.8;\" x=\"263.513311\" xlink:href=\"#m9fc6403bc2\" y=\"164.7\"/>\r\n      </g>\r\n     </g>\r\n    </g>\r\n    <g id=\"xtick_5\">\r\n     <g id=\"line2d_11\">\r\n      <g>\r\n       <use style=\"stroke:#000000;stroke-width:0.8;\" x=\"319.153404\" xlink:href=\"#m9fc6403bc2\" y=\"164.7\"/>\r\n      </g>\r\n     </g>\r\n    </g>\r\n    <g id=\"xtick_6\">\r\n     <g id=\"line2d_12\">\r\n      <g>\r\n       <use style=\"stroke:#000000;stroke-width:0.8;\" x=\"374.793497\" xlink:href=\"#m9fc6403bc2\" y=\"164.7\"/>\r\n      </g>\r\n     </g>\r\n    </g>\r\n   </g>\r\n   <g id=\"matplotlib.axis_4\">\r\n    <g id=\"ytick_7\">\r\n     <g id=\"line2d_13\">\r\n      <g>\r\n       <use style=\"stroke:#000000;stroke-width:0.8;\" x=\"234.651913\" xlink:href=\"#m9c05c8c4b7\" y=\"157.579925\"/>\r\n      </g>\r\n     </g>\r\n    </g>\r\n    <g id=\"ytick_8\">\r\n     <g id=\"line2d_14\">\r\n      <g>\r\n       <use style=\"stroke:#000000;stroke-width:0.8;\" x=\"234.651913\" xlink:href=\"#m9c05c8c4b7\" y=\"130.295765\"/>\r\n      </g>\r\n     </g>\r\n    </g>\r\n    <g id=\"ytick_9\">\r\n     <g id=\"line2d_15\">\r\n      <g>\r\n       <use style=\"stroke:#000000;stroke-width:0.8;\" x=\"234.651913\" xlink:href=\"#m9c05c8c4b7\" y=\"103.011604\"/>\r\n      </g>\r\n     </g>\r\n    </g>\r\n    <g id=\"ytick_10\">\r\n     <g id=\"line2d_16\">\r\n      <g>\r\n       <use style=\"stroke:#000000;stroke-width:0.8;\" x=\"234.651913\" xlink:href=\"#m9c05c8c4b7\" y=\"75.727444\"/>\r\n      </g>\r\n     </g>\r\n    </g>\r\n    <g id=\"ytick_11\">\r\n     <g id=\"line2d_17\">\r\n      <g>\r\n       <use style=\"stroke:#000000;stroke-width:0.8;\" x=\"234.651913\" xlink:href=\"#m9c05c8c4b7\" y=\"48.443283\"/>\r\n      </g>\r\n     </g>\r\n    </g>\r\n    <g id=\"ytick_12\">\r\n     <g id=\"line2d_18\">\r\n      <g>\r\n       <use style=\"stroke:#000000;stroke-width:0.8;\" x=\"234.651913\" xlink:href=\"#m9c05c8c4b7\" y=\"21.159122\"/>\r\n      </g>\r\n     </g>\r\n    </g>\r\n   </g>\r\n   <g id=\"patch_6\">\r\n    <path d=\"M 234.651913 164.7 \r\nL 234.651913 7.2 \r\n\" style=\"fill:none;stroke:#000000;stroke-linecap:square;stroke-linejoin:miter;stroke-width:0.8;\"/>\r\n   </g>\r\n   <g id=\"patch_7\">\r\n    <path d=\"M 234.651913 164.7 \r\nL 380.674167 164.7 \r\n\" style=\"fill:none;stroke:#000000;stroke-linecap:square;stroke-linejoin:miter;stroke-width:0.8;\"/>\r\n   </g>\r\n  </g>\r\n  <g id=\"axes_3\">\r\n   <g id=\"patch_8\">\r\n    <path d=\"M 66.053125 332.2 \r\nL 212.075378 332.2 \r\nL 212.075378 174.7 \r\nL 66.053125 174.7 \r\nz\r\n\" style=\"fill:#ffffff;\"/>\r\n   </g>\r\n   <g id=\"PathCollection_4\">\r\n    <g clip-path=\"url(#p49170c1f1e)\">\r\n     <use style=\"fill:#1f77b4;stroke:#ffffff;stroke-width:0.75;\" x=\"77.762451\" xlink:href=\"#mfb394d92e7\" y=\"325.040909\"/>\r\n     <use style=\"fill:#1f77b4;stroke:#ffffff;stroke-width:0.75;\" x=\"80.578611\" xlink:href=\"#mfb394d92e7\" y=\"321.090668\"/>\r\n     <use style=\"fill:#1f77b4;stroke:#ffffff;stroke-width:0.75;\" x=\"80.782705\" xlink:href=\"#mfb394d92e7\" y=\"323.664092\"/>\r\n     <use style=\"fill:#1f77b4;stroke:#ffffff;stroke-width:0.75;\" x=\"78.182574\" xlink:href=\"#mfb394d92e7\" y=\"324.70932\"/>\r\n     <use style=\"fill:#1f77b4;stroke:#ffffff;stroke-width:0.75;\" x=\"81.159963\" xlink:href=\"#mfb394d92e7\" y=\"321.761056\"/>\r\n     <use style=\"fill:#1f77b4;stroke:#ffffff;stroke-width:0.75;\" x=\"77.628256\" xlink:href=\"#mfb394d92e7\" y=\"325.026492\"/>\r\n     <use style=\"fill:#1f77b4;stroke:#ffffff;stroke-width:0.75;\" x=\"81.590801\" xlink:href=\"#mfb394d92e7\" y=\"319.677808\"/>\r\n     <use style=\"fill:#1f77b4;stroke:#ffffff;stroke-width:0.75;\" x=\"78.277071\" xlink:href=\"#mfb394d92e7\" y=\"324.65886\"/>\r\n     <use style=\"fill:#1f77b4;stroke:#ffffff;stroke-width:0.75;\" x=\"79.323845\" xlink:href=\"#mfb394d92e7\" y=\"323.05858\"/>\r\n     <use style=\"fill:#1f77b4;stroke:#ffffff;stroke-width:0.75;\" x=\"88.262344\" xlink:href=\"#mfb394d92e7\" y=\"317.933359\"/>\r\n     <use style=\"fill:#1f77b4;stroke:#ffffff;stroke-width:0.75;\" x=\"77.652611\" xlink:href=\"#mfb394d92e7\" y=\"324.384938\"/>\r\n     <use style=\"fill:#1f77b4;stroke:#ffffff;stroke-width:0.75;\" x=\"82.554525\" xlink:href=\"#mfb394d92e7\" y=\"322.020561\"/>\r\n     <use style=\"fill:#1f77b4;stroke:#ffffff;stroke-width:0.75;\" x=\"82.98512\" xlink:href=\"#mfb394d92e7\" y=\"320.499574\"/>\r\n     <use style=\"fill:#1f77b4;stroke:#ffffff;stroke-width:0.75;\" x=\"81.903518\" xlink:href=\"#mfb394d92e7\" y=\"318.646997\"/>\r\n     <use style=\"fill:#1f77b4;stroke:#ffffff;stroke-width:0.75;\" x=\"78.022805\" xlink:href=\"#mfb394d92e7\" y=\"324.579567\"/>\r\n     <use style=\"fill:#1f77b4;stroke:#ffffff;stroke-width:0.75;\" x=\"79.05448\" xlink:href=\"#mfb394d92e7\" y=\"324.666069\"/>\r\n     <use style=\"fill:#1f77b4;stroke:#ffffff;stroke-width:0.75;\" x=\"79.77295\" xlink:href=\"#mfb394d92e7\" y=\"323.938013\"/>\r\n     <use style=\"fill:#1f77b4;stroke:#ffffff;stroke-width:0.75;\" x=\"79.7503\" xlink:href=\"#mfb394d92e7\" y=\"324.175893\"/>\r\n     <use style=\"fill:#1f77b4;stroke:#ffffff;stroke-width:0.75;\" x=\"80.076412\" xlink:href=\"#mfb394d92e7\" y=\"324.060557\"/>\r\n     <use style=\"fill:#1f77b4;stroke:#ffffff;stroke-width:0.75;\" x=\"88.301556\" xlink:href=\"#mfb394d92e7\" y=\"319.771518\"/>\r\n    </g>\r\n   </g>\r\n   <g id=\"PathCollection_5\">\r\n    <g clip-path=\"url(#p49170c1f1e)\">\r\n     <use style=\"fill:#ff7f0e;stroke:#ffffff;stroke-width:0.75;\" x=\"205.438003\" xlink:href=\"#m2c8386a6fb\" y=\"181.859091\"/>\r\n    </g>\r\n   </g>\r\n   <g id=\"PathCollection_6\">\r\n    <g clip-path=\"url(#p49170c1f1e)\">\r\n     <use style=\"fill:#2ca02c;stroke:#ffffff;stroke-width:0.75;\" x=\"112.20664\" xlink:href=\"#md512b9ce7b\" y=\"282.345148\"/>\r\n     <use style=\"fill:#2ca02c;stroke:#ffffff;stroke-width:0.75;\" x=\"96.227377\" xlink:href=\"#md512b9ce7b\" y=\"315.979864\"/>\r\n     <use style=\"fill:#2ca02c;stroke:#ffffff;stroke-width:0.75;\" x=\"102.102027\" xlink:href=\"#md512b9ce7b\" y=\"315.403186\"/>\r\n    </g>\r\n   </g>\r\n   <g id=\"matplotlib.axis_5\">\r\n    <g id=\"xtick_7\">\r\n     <g id=\"line2d_19\">\r\n      <g>\r\n       <use style=\"stroke:#000000;stroke-width:0.8;\" x=\"77.593428\" xlink:href=\"#m9fc6403bc2\" y=\"332.2\"/>\r\n      </g>\r\n     </g>\r\n     <g id=\"text_8\">\r\n      <!-- 0 -->\r\n      <g transform=\"translate(74.412178 346.798437)scale(0.1 -0.1)\">\r\n       <use xlink:href=\"#DejaVuSans-48\"/>\r\n      </g>\r\n     </g>\r\n    </g>\r\n    <g id=\"xtick_8\">\r\n     <g id=\"line2d_20\">\r\n      <g>\r\n       <use style=\"stroke:#000000;stroke-width:0.8;\" x=\"126.303268\" xlink:href=\"#m9fc6403bc2\" y=\"332.2\"/>\r\n      </g>\r\n     </g>\r\n     <g id=\"text_9\">\r\n      <!-- 200000 -->\r\n      <g transform=\"translate(107.215768 346.798437)scale(0.1 -0.1)\">\r\n       <use xlink:href=\"#DejaVuSans-50\"/>\r\n       <use x=\"63.623047\" xlink:href=\"#DejaVuSans-48\"/>\r\n       <use x=\"127.246094\" xlink:href=\"#DejaVuSans-48\"/>\r\n       <use x=\"190.869141\" xlink:href=\"#DejaVuSans-48\"/>\r\n       <use x=\"254.492188\" xlink:href=\"#DejaVuSans-48\"/>\r\n       <use x=\"318.115234\" xlink:href=\"#DejaVuSans-48\"/>\r\n      </g>\r\n     </g>\r\n    </g>\r\n    <g id=\"xtick_9\">\r\n     <g id=\"line2d_21\">\r\n      <g>\r\n       <use style=\"stroke:#000000;stroke-width:0.8;\" x=\"175.013107\" xlink:href=\"#m9fc6403bc2\" y=\"332.2\"/>\r\n      </g>\r\n     </g>\r\n     <g id=\"text_10\">\r\n      <!-- 400000 -->\r\n      <g transform=\"translate(155.925607 346.798437)scale(0.1 -0.1)\">\r\n       <use xlink:href=\"#DejaVuSans-52\"/>\r\n       <use x=\"63.623047\" xlink:href=\"#DejaVuSans-48\"/>\r\n       <use x=\"127.246094\" xlink:href=\"#DejaVuSans-48\"/>\r\n       <use x=\"190.869141\" xlink:href=\"#DejaVuSans-48\"/>\r\n       <use x=\"254.492188\" xlink:href=\"#DejaVuSans-48\"/>\r\n       <use x=\"318.115234\" xlink:href=\"#DejaVuSans-48\"/>\r\n      </g>\r\n     </g>\r\n    </g>\r\n    <g id=\"text_11\">\r\n     <!-- confirmados -->\r\n     <g transform=\"translate(108.197064 360.476562)scale(0.1 -0.1)\">\r\n      <use xlink:href=\"#DejaVuSans-99\"/>\r\n      <use x=\"54.980469\" xlink:href=\"#DejaVuSans-111\"/>\r\n      <use x=\"116.162109\" xlink:href=\"#DejaVuSans-110\"/>\r\n      <use x=\"179.541016\" xlink:href=\"#DejaVuSans-102\"/>\r\n      <use x=\"214.746094\" xlink:href=\"#DejaVuSans-105\"/>\r\n      <use x=\"242.529297\" xlink:href=\"#DejaVuSans-114\"/>\r\n      <use x=\"281.892578\" xlink:href=\"#DejaVuSans-109\"/>\r\n      <use x=\"379.304688\" xlink:href=\"#DejaVuSans-97\"/>\r\n      <use x=\"440.583984\" xlink:href=\"#DejaVuSans-100\"/>\r\n      <use x=\"504.060547\" xlink:href=\"#DejaVuSans-111\"/>\r\n      <use x=\"565.242188\" xlink:href=\"#DejaVuSans-115\"/>\r\n     </g>\r\n    </g>\r\n   </g>\r\n   <g id=\"matplotlib.axis_6\">\r\n    <g id=\"ytick_13\">\r\n     <g id=\"line2d_22\">\r\n      <g>\r\n       <use style=\"stroke:#000000;stroke-width:0.8;\" x=\"66.053125\" xlink:href=\"#m9c05c8c4b7\" y=\"325.048118\"/>\r\n      </g>\r\n     </g>\r\n     <g id=\"text_12\">\r\n      <!-- 0 -->\r\n      <g transform=\"translate(52.690625 328.847336)scale(0.1 -0.1)\">\r\n       <use xlink:href=\"#DejaVuSans-48\"/>\r\n      </g>\r\n     </g>\r\n    </g>\r\n    <g id=\"ytick_14\">\r\n     <g id=\"line2d_23\">\r\n      <g>\r\n       <use style=\"stroke:#000000;stroke-width:0.8;\" x=\"66.053125\" xlink:href=\"#m9c05c8c4b7\" y=\"289.005773\"/>\r\n      </g>\r\n     </g>\r\n     <g id=\"text_13\">\r\n      <!-- 5000 -->\r\n      <g transform=\"translate(33.603125 292.804992)scale(0.1 -0.1)\">\r\n       <use xlink:href=\"#DejaVuSans-53\"/>\r\n       <use x=\"63.623047\" xlink:href=\"#DejaVuSans-48\"/>\r\n       <use x=\"127.246094\" xlink:href=\"#DejaVuSans-48\"/>\r\n       <use x=\"190.869141\" xlink:href=\"#DejaVuSans-48\"/>\r\n      </g>\r\n     </g>\r\n    </g>\r\n    <g id=\"ytick_15\">\r\n     <g id=\"line2d_24\">\r\n      <g>\r\n       <use style=\"stroke:#000000;stroke-width:0.8;\" x=\"66.053125\" xlink:href=\"#m9c05c8c4b7\" y=\"252.963428\"/>\r\n      </g>\r\n     </g>\r\n     <g id=\"text_14\">\r\n      <!-- 10000 -->\r\n      <g transform=\"translate(27.240625 256.762647)scale(0.1 -0.1)\">\r\n       <use xlink:href=\"#DejaVuSans-49\"/>\r\n       <use x=\"63.623047\" xlink:href=\"#DejaVuSans-48\"/>\r\n       <use x=\"127.246094\" xlink:href=\"#DejaVuSans-48\"/>\r\n       <use x=\"190.869141\" xlink:href=\"#DejaVuSans-48\"/>\r\n       <use x=\"254.492188\" xlink:href=\"#DejaVuSans-48\"/>\r\n      </g>\r\n     </g>\r\n    </g>\r\n    <g id=\"ytick_16\">\r\n     <g id=\"line2d_25\">\r\n      <g>\r\n       <use style=\"stroke:#000000;stroke-width:0.8;\" x=\"66.053125\" xlink:href=\"#m9c05c8c4b7\" y=\"216.921084\"/>\r\n      </g>\r\n     </g>\r\n     <g id=\"text_15\">\r\n      <!-- 15000 -->\r\n      <g transform=\"translate(27.240625 220.720302)scale(0.1 -0.1)\">\r\n       <use xlink:href=\"#DejaVuSans-49\"/>\r\n       <use x=\"63.623047\" xlink:href=\"#DejaVuSans-53\"/>\r\n       <use x=\"127.246094\" xlink:href=\"#DejaVuSans-48\"/>\r\n       <use x=\"190.869141\" xlink:href=\"#DejaVuSans-48\"/>\r\n       <use x=\"254.492188\" xlink:href=\"#DejaVuSans-48\"/>\r\n      </g>\r\n     </g>\r\n    </g>\r\n    <g id=\"ytick_17\">\r\n     <g id=\"line2d_26\">\r\n      <g>\r\n       <use style=\"stroke:#000000;stroke-width:0.8;\" x=\"66.053125\" xlink:href=\"#m9c05c8c4b7\" y=\"180.878739\"/>\r\n      </g>\r\n     </g>\r\n     <g id=\"text_16\">\r\n      <!-- 20000 -->\r\n      <g transform=\"translate(27.240625 184.677958)scale(0.1 -0.1)\">\r\n       <use xlink:href=\"#DejaVuSans-50\"/>\r\n       <use x=\"63.623047\" xlink:href=\"#DejaVuSans-48\"/>\r\n       <use x=\"127.246094\" xlink:href=\"#DejaVuSans-48\"/>\r\n       <use x=\"190.869141\" xlink:href=\"#DejaVuSans-48\"/>\r\n       <use x=\"254.492188\" xlink:href=\"#DejaVuSans-48\"/>\r\n      </g>\r\n     </g>\r\n    </g>\r\n    <g id=\"text_17\">\r\n     <!-- fallecidos -->\r\n     <defs>\r\n      <path d=\"M 9.421875 75.984375 \r\nL 18.40625 75.984375 \r\nL 18.40625 0 \r\nL 9.421875 0 \r\nz\r\n\" id=\"DejaVuSans-108\"/>\r\n      <path d=\"M 56.203125 29.59375 \r\nL 56.203125 25.203125 \r\nL 14.890625 25.203125 \r\nQ 15.484375 15.921875 20.484375 11.0625 \r\nQ 25.484375 6.203125 34.421875 6.203125 \r\nQ 39.59375 6.203125 44.453125 7.46875 \r\nQ 49.3125 8.734375 54.109375 11.28125 \r\nL 54.109375 2.78125 \r\nQ 49.265625 0.734375 44.1875 -0.34375 \r\nQ 39.109375 -1.421875 33.890625 -1.421875 \r\nQ 20.796875 -1.421875 13.15625 6.1875 \r\nQ 5.515625 13.8125 5.515625 26.8125 \r\nQ 5.515625 40.234375 12.765625 48.109375 \r\nQ 20.015625 56 32.328125 56 \r\nQ 43.359375 56 49.78125 48.890625 \r\nQ 56.203125 41.796875 56.203125 29.59375 \r\nz\r\nM 47.21875 32.234375 \r\nQ 47.125 39.59375 43.09375 43.984375 \r\nQ 39.0625 48.390625 32.421875 48.390625 \r\nQ 24.90625 48.390625 20.390625 44.140625 \r\nQ 15.875 39.890625 15.1875 32.171875 \r\nz\r\n\" id=\"DejaVuSans-101\"/>\r\n     </defs>\r\n     <g transform=\"translate(21.160937 277.105469)rotate(-90)scale(0.1 -0.1)\">\r\n      <use xlink:href=\"#DejaVuSans-102\"/>\r\n      <use x=\"35.205078\" xlink:href=\"#DejaVuSans-97\"/>\r\n      <use x=\"96.484375\" xlink:href=\"#DejaVuSans-108\"/>\r\n      <use x=\"124.267578\" xlink:href=\"#DejaVuSans-108\"/>\r\n      <use x=\"152.050781\" xlink:href=\"#DejaVuSans-101\"/>\r\n      <use x=\"213.574219\" xlink:href=\"#DejaVuSans-99\"/>\r\n      <use x=\"268.554688\" xlink:href=\"#DejaVuSans-105\"/>\r\n      <use x=\"296.337891\" xlink:href=\"#DejaVuSans-100\"/>\r\n      <use x=\"359.814453\" xlink:href=\"#DejaVuSans-111\"/>\r\n      <use x=\"420.996094\" xlink:href=\"#DejaVuSans-115\"/>\r\n     </g>\r\n    </g>\r\n   </g>\r\n   <g id=\"patch_9\">\r\n    <path d=\"M 66.053125 332.2 \r\nL 66.053125 174.7 \r\n\" style=\"fill:none;stroke:#000000;stroke-linecap:square;stroke-linejoin:miter;stroke-width:0.8;\"/>\r\n   </g>\r\n   <g id=\"patch_10\">\r\n    <path d=\"M 66.053125 332.2 \r\nL 212.075378 332.2 \r\n\" style=\"fill:none;stroke:#000000;stroke-linecap:square;stroke-linejoin:miter;stroke-width:0.8;\"/>\r\n   </g>\r\n  </g>\r\n  <g id=\"axes_4\">\r\n   <g id=\"patch_11\">\r\n    <path d=\"M 234.651913 332.2 \r\nL 380.674167 332.2 \r\nL 380.674167 174.7 \r\nL 234.651913 174.7 \r\nz\r\n\" style=\"fill:#ffffff;\"/>\r\n   </g>\r\n   <g id=\"matplotlib.axis_7\">\r\n    <g id=\"xtick_10\">\r\n     <g id=\"line2d_27\">\r\n      <g>\r\n       <use style=\"stroke:#000000;stroke-width:0.8;\" x=\"263.513311\" xlink:href=\"#m9fc6403bc2\" y=\"332.2\"/>\r\n      </g>\r\n     </g>\r\n     <g id=\"text_18\">\r\n      <!-- 0 -->\r\n      <g transform=\"translate(260.332061 346.798437)scale(0.1 -0.1)\">\r\n       <use xlink:href=\"#DejaVuSans-48\"/>\r\n      </g>\r\n     </g>\r\n    </g>\r\n    <g id=\"xtick_11\">\r\n     <g id=\"line2d_28\">\r\n      <g>\r\n       <use style=\"stroke:#000000;stroke-width:0.8;\" x=\"319.153404\" xlink:href=\"#m9fc6403bc2\" y=\"332.2\"/>\r\n      </g>\r\n     </g>\r\n     <g id=\"text_19\">\r\n      <!-- 10000 -->\r\n      <g transform=\"translate(303.247154 346.798437)scale(0.1 -0.1)\">\r\n       <use xlink:href=\"#DejaVuSans-49\"/>\r\n       <use x=\"63.623047\" xlink:href=\"#DejaVuSans-48\"/>\r\n       <use x=\"127.246094\" xlink:href=\"#DejaVuSans-48\"/>\r\n       <use x=\"190.869141\" xlink:href=\"#DejaVuSans-48\"/>\r\n       <use x=\"254.492188\" xlink:href=\"#DejaVuSans-48\"/>\r\n      </g>\r\n     </g>\r\n    </g>\r\n    <g id=\"xtick_12\">\r\n     <g id=\"line2d_29\">\r\n      <g>\r\n       <use style=\"stroke:#000000;stroke-width:0.8;\" x=\"374.793497\" xlink:href=\"#m9fc6403bc2\" y=\"332.2\"/>\r\n      </g>\r\n     </g>\r\n     <g id=\"text_20\">\r\n      <!-- 20000 -->\r\n      <g transform=\"translate(358.887247 346.798437)scale(0.1 -0.1)\">\r\n       <use xlink:href=\"#DejaVuSans-50\"/>\r\n       <use x=\"63.623047\" xlink:href=\"#DejaVuSans-48\"/>\r\n       <use x=\"127.246094\" xlink:href=\"#DejaVuSans-48\"/>\r\n       <use x=\"190.869141\" xlink:href=\"#DejaVuSans-48\"/>\r\n       <use x=\"254.492188\" xlink:href=\"#DejaVuSans-48\"/>\r\n      </g>\r\n     </g>\r\n    </g>\r\n    <g id=\"text_21\">\r\n     <!-- fallecidos -->\r\n     <g transform=\"translate(284.007571 360.476562)scale(0.1 -0.1)\">\r\n      <use xlink:href=\"#DejaVuSans-102\"/>\r\n      <use x=\"35.205078\" xlink:href=\"#DejaVuSans-97\"/>\r\n      <use x=\"96.484375\" xlink:href=\"#DejaVuSans-108\"/>\r\n      <use x=\"124.267578\" xlink:href=\"#DejaVuSans-108\"/>\r\n      <use x=\"152.050781\" xlink:href=\"#DejaVuSans-101\"/>\r\n      <use x=\"213.574219\" xlink:href=\"#DejaVuSans-99\"/>\r\n      <use x=\"268.554688\" xlink:href=\"#DejaVuSans-105\"/>\r\n      <use x=\"296.337891\" xlink:href=\"#DejaVuSans-100\"/>\r\n      <use x=\"359.814453\" xlink:href=\"#DejaVuSans-111\"/>\r\n      <use x=\"420.996094\" xlink:href=\"#DejaVuSans-115\"/>\r\n     </g>\r\n    </g>\r\n   </g>\r\n   <g id=\"matplotlib.axis_8\">\r\n    <g id=\"ytick_18\">\r\n     <g id=\"line2d_30\">\r\n      <g>\r\n       <use style=\"stroke:#000000;stroke-width:0.8;\" x=\"234.651913\" xlink:href=\"#m9c05c8c4b7\" y=\"325.048118\"/>\r\n      </g>\r\n     </g>\r\n    </g>\r\n    <g id=\"ytick_19\">\r\n     <g id=\"line2d_31\">\r\n      <g>\r\n       <use style=\"stroke:#000000;stroke-width:0.8;\" x=\"234.651913\" xlink:href=\"#m9c05c8c4b7\" y=\"289.005773\"/>\r\n      </g>\r\n     </g>\r\n    </g>\r\n    <g id=\"ytick_20\">\r\n     <g id=\"line2d_32\">\r\n      <g>\r\n       <use style=\"stroke:#000000;stroke-width:0.8;\" x=\"234.651913\" xlink:href=\"#m9c05c8c4b7\" y=\"252.963428\"/>\r\n      </g>\r\n     </g>\r\n    </g>\r\n    <g id=\"ytick_21\">\r\n     <g id=\"line2d_33\">\r\n      <g>\r\n       <use style=\"stroke:#000000;stroke-width:0.8;\" x=\"234.651913\" xlink:href=\"#m9c05c8c4b7\" y=\"216.921084\"/>\r\n      </g>\r\n     </g>\r\n    </g>\r\n    <g id=\"ytick_22\">\r\n     <g id=\"line2d_34\">\r\n      <g>\r\n       <use style=\"stroke:#000000;stroke-width:0.8;\" x=\"234.651913\" xlink:href=\"#m9c05c8c4b7\" y=\"180.878739\"/>\r\n      </g>\r\n     </g>\r\n    </g>\r\n   </g>\r\n   <g id=\"patch_12\">\r\n    <path d=\"M 234.651913 332.2 \r\nL 234.651913 174.7 \r\n\" style=\"fill:none;stroke:#000000;stroke-linecap:square;stroke-linejoin:miter;stroke-width:0.8;\"/>\r\n   </g>\r\n   <g id=\"patch_13\">\r\n    <path d=\"M 234.651913 332.2 \r\nL 380.674167 332.2 \r\n\" style=\"fill:none;stroke:#000000;stroke-linecap:square;stroke-linejoin:miter;stroke-width:0.8;\"/>\r\n   </g>\r\n  </g>\r\n  <g id=\"axes_5\">\r\n   <g id=\"PolyCollection_1\">\r\n    <path clip-path=\"url(#pb56e4b3e21)\" d=\"M 72.6905 164.004095 \r\nL 72.6905 164.7 \r\nL 72.898064 164.7 \r\nL 73.105628 164.7 \r\nL 73.313191 164.7 \r\nL 73.520755 164.7 \r\nL 73.728319 164.7 \r\nL 73.935883 164.7 \r\nL 74.143446 164.7 \r\nL 74.35101 164.7 \r\nL 74.558574 164.7 \r\nL 74.766138 164.7 \r\nL 74.973701 164.7 \r\nL 75.181265 164.7 \r\nL 75.388829 164.7 \r\nL 75.596393 164.7 \r\nL 75.803956 164.7 \r\nL 76.01152 164.7 \r\nL 76.219084 164.7 \r\nL 76.426648 164.7 \r\nL 76.634211 164.7 \r\nL 76.841775 164.7 \r\nL 77.049339 164.7 \r\nL 77.256903 164.7 \r\nL 77.464466 164.7 \r\nL 77.67203 164.7 \r\nL 77.879594 164.7 \r\nL 78.087158 164.7 \r\nL 78.294721 164.7 \r\nL 78.502285 164.7 \r\nL 78.709849 164.7 \r\nL 78.917413 164.7 \r\nL 79.124976 164.7 \r\nL 79.33254 164.7 \r\nL 79.540104 164.7 \r\nL 79.747668 164.7 \r\nL 79.955231 164.7 \r\nL 80.162795 164.7 \r\nL 80.370359 164.7 \r\nL 80.577923 164.7 \r\nL 80.785486 164.7 \r\nL 80.99305 164.7 \r\nL 81.200614 164.7 \r\nL 81.408178 164.7 \r\nL 81.615741 164.7 \r\nL 81.823305 164.7 \r\nL 82.030869 164.7 \r\nL 82.238433 164.7 \r\nL 82.445996 164.7 \r\nL 82.65356 164.7 \r\nL 82.861124 164.7 \r\nL 83.068688 164.7 \r\nL 83.276251 164.7 \r\nL 83.483815 164.7 \r\nL 83.691379 164.7 \r\nL 83.898943 164.7 \r\nL 84.106506 164.7 \r\nL 84.31407 164.7 \r\nL 84.521634 164.7 \r\nL 84.729198 164.7 \r\nL 84.936761 164.7 \r\nL 85.144325 164.7 \r\nL 85.351889 164.7 \r\nL 85.559453 164.7 \r\nL 85.767016 164.7 \r\nL 85.97458 164.7 \r\nL 86.182144 164.7 \r\nL 86.389708 164.7 \r\nL 86.597271 164.7 \r\nL 86.804835 164.7 \r\nL 87.012399 164.7 \r\nL 87.219963 164.7 \r\nL 87.427526 164.7 \r\nL 87.63509 164.7 \r\nL 87.842654 164.7 \r\nL 88.050218 164.7 \r\nL 88.257781 164.7 \r\nL 88.465345 164.7 \r\nL 88.672909 164.7 \r\nL 88.880473 164.7 \r\nL 89.088036 164.7 \r\nL 89.2956 164.7 \r\nL 89.503164 164.7 \r\nL 89.710728 164.7 \r\nL 89.918291 164.7 \r\nL 90.125855 164.7 \r\nL 90.333419 164.7 \r\nL 90.540983 164.7 \r\nL 90.748546 164.7 \r\nL 90.95611 164.7 \r\nL 91.163674 164.7 \r\nL 91.371238 164.7 \r\nL 91.578801 164.7 \r\nL 91.786365 164.7 \r\nL 91.993929 164.7 \r\nL 92.201493 164.7 \r\nL 92.409056 164.7 \r\nL 92.61662 164.7 \r\nL 92.824184 164.7 \r\nL 93.031748 164.7 \r\nL 93.239311 164.7 \r\nL 93.239311 164.365701 \r\nL 93.239311 164.365701 \r\nL 93.031748 164.22407 \r\nL 92.824184 164.032594 \r\nL 92.61662 163.778115 \r\nL 92.409056 163.445696 \r\nL 92.201493 163.018996 \r\nL 91.993929 162.480912 \r\nL 91.786365 161.814507 \r\nL 91.578801 161.004225 \r\nL 91.371238 160.037366 \r\nL 91.163674 158.905744 \r\nL 90.95611 157.607405 \r\nL 90.748546 156.148259 \r\nL 90.540983 154.543433 \r\nL 90.333419 152.818147 \r\nL 90.125855 151.007939 \r\nL 89.918291 149.158077 \r\nL 89.710728 147.32208 \r\nL 89.503164 145.559349 \r\nL 89.2956 143.932007 \r\nL 89.088036 142.501128 \r\nL 88.880473 141.32265 \r\nL 88.672909 140.443286 \r\nL 88.465345 139.896816 \r\nL 88.257781 139.701055 \r\nL 88.050218 139.855816 \r\nL 87.842654 140.342008 \r\nL 87.63509 141.12196 \r\nL 87.427526 142.140901 \r\nL 87.219963 143.329438 \r\nL 87.012399 144.606784 \r\nL 86.804835 145.884433 \r\nL 86.597271 147.069999 \r\nL 86.389708 148.070928 \r\nL 86.182144 148.797892 \r\nL 85.97458 149.167703 \r\nL 85.767016 149.105702 \r\nL 85.559453 148.547632 \r\nL 85.351889 147.441025 \r\nL 85.144325 145.746204 \r\nL 84.936761 143.436955 \r\nL 84.729198 140.500933 \r\nL 84.521634 136.939822 \r\nL 84.31407 132.769248 \r\nL 84.106506 128.018407 \r\nL 83.898943 122.729386 \r\nL 83.691379 116.956116 \r\nL 83.483815 110.762983 \r\nL 83.276251 104.223077 \r\nL 83.068688 97.416171 \r\nL 82.861124 90.426508 \r\nL 82.65356 83.340512 \r\nL 82.445996 76.244577 \r\nL 82.238433 69.223063 \r\nL 82.030869 62.356622 \r\nL 81.823305 55.720964 \r\nL 81.615741 49.386127 \r\nL 81.408178 43.416272 \r\nL 81.200614 37.86999 \r\nL 80.99305 32.801053 \r\nL 80.785486 28.25949 \r\nL 80.577923 24.292841 \r\nL 80.370359 20.947386 \r\nL 80.162795 18.269136 \r\nL 79.955231 16.304364 \r\nL 79.747668 15.099468 \r\nL 79.540104 14.7 \r\nL 79.33254 15.148787 \r\nL 79.124976 16.483159 \r\nL 78.917413 18.73143 \r\nL 78.709849 21.908895 \r\nL 78.502285 26.013732 \r\nL 78.294721 31.023257 \r\nL 78.087158 36.891034 \r\nL 77.879594 43.545267 \r\nL 77.67203 50.888847 \r\nL 77.464466 58.801252 \r\nL 77.256903 67.142282 \r\nL 77.049339 75.757458 \r\nL 76.841775 84.484683 \r\nL 76.634211 93.161616 \r\nL 76.426648 101.633155 \r\nL 76.219084 109.758396 \r\nL 76.01152 117.416483 \r\nL 75.803956 124.510943 \r\nL 75.596393 130.972222 \r\nL 75.388829 136.75835 \r\nL 75.181265 141.853862 \r\nL 74.973701 146.267222 \r\nL 74.766138 150.027136 \r\nL 74.558574 153.178176 \r\nL 74.35101 155.776143 \r\nL 74.143446 157.883558 \r\nL 73.935883 159.565587 \r\nL 73.728319 160.886616 \r\nL 73.520755 161.907582 \r\nL 73.313191 162.684108 \r\nL 73.105628 163.265364 \r\nL 72.898064 163.693585 \r\nL 72.6905 164.004095 \r\nz\r\n\" style=\"fill:#1f77b4;fill-opacity:0.25;\"/>\r\n   </g>\r\n   <g id=\"PolyCollection_2\"/>\r\n   <g id=\"PolyCollection_3\">\r\n    <path clip-path=\"url(#pb56e4b3e21)\" d=\"M 80.334887 163.54905 \r\nL 80.334887 164.7 \r\nL 80.817354 164.7 \r\nL 81.299822 164.7 \r\nL 81.782289 164.7 \r\nL 82.264756 164.7 \r\nL 82.747223 164.7 \r\nL 83.22969 164.7 \r\nL 83.712157 164.7 \r\nL 84.194624 164.7 \r\nL 84.677091 164.7 \r\nL 85.159558 164.7 \r\nL 85.642025 164.7 \r\nL 86.124493 164.7 \r\nL 86.60696 164.7 \r\nL 87.089427 164.7 \r\nL 87.571894 164.7 \r\nL 88.054361 164.7 \r\nL 88.536828 164.7 \r\nL 89.019295 164.7 \r\nL 89.501762 164.7 \r\nL 89.984229 164.7 \r\nL 90.466696 164.7 \r\nL 90.949163 164.7 \r\nL 91.431631 164.7 \r\nL 91.914098 164.7 \r\nL 92.396565 164.7 \r\nL 92.879032 164.7 \r\nL 93.361499 164.7 \r\nL 93.843966 164.7 \r\nL 94.326433 164.7 \r\nL 94.8089 164.7 \r\nL 95.291367 164.7 \r\nL 95.773834 164.7 \r\nL 96.256302 164.7 \r\nL 96.738769 164.7 \r\nL 97.221236 164.7 \r\nL 97.703703 164.7 \r\nL 98.18617 164.7 \r\nL 98.668637 164.7 \r\nL 99.151104 164.7 \r\nL 99.633571 164.7 \r\nL 100.116038 164.7 \r\nL 100.598505 164.7 \r\nL 101.080972 164.7 \r\nL 101.56344 164.7 \r\nL 102.045907 164.7 \r\nL 102.528374 164.7 \r\nL 103.010841 164.7 \r\nL 103.493308 164.7 \r\nL 103.975775 164.7 \r\nL 104.458242 164.7 \r\nL 104.940709 164.7 \r\nL 105.423176 164.7 \r\nL 105.905643 164.7 \r\nL 106.388111 164.7 \r\nL 106.870578 164.7 \r\nL 107.353045 164.7 \r\nL 107.835512 164.7 \r\nL 108.317979 164.7 \r\nL 108.800446 164.7 \r\nL 109.282913 164.7 \r\nL 109.76538 164.7 \r\nL 110.247847 164.7 \r\nL 110.730314 164.7 \r\nL 111.212782 164.7 \r\nL 111.695249 164.7 \r\nL 112.177716 164.7 \r\nL 112.660183 164.7 \r\nL 113.14265 164.7 \r\nL 113.625117 164.7 \r\nL 114.107584 164.7 \r\nL 114.590051 164.7 \r\nL 115.072518 164.7 \r\nL 115.554985 164.7 \r\nL 116.037452 164.7 \r\nL 116.51992 164.7 \r\nL 117.002387 164.7 \r\nL 117.484854 164.7 \r\nL 117.967321 164.7 \r\nL 118.449788 164.7 \r\nL 118.932255 164.7 \r\nL 119.414722 164.7 \r\nL 119.897189 164.7 \r\nL 120.379656 164.7 \r\nL 120.862123 164.7 \r\nL 121.344591 164.7 \r\nL 121.827058 164.7 \r\nL 122.309525 164.7 \r\nL 122.791992 164.7 \r\nL 123.274459 164.7 \r\nL 123.756926 164.7 \r\nL 124.239393 164.7 \r\nL 124.72186 164.7 \r\nL 125.204327 164.7 \r\nL 125.686794 164.7 \r\nL 126.169261 164.7 \r\nL 126.651729 164.7 \r\nL 127.134196 164.7 \r\nL 127.616663 164.7 \r\nL 128.09913 164.7 \r\nL 128.09913 163.619545 \r\nL 128.09913 163.619545 \r\nL 127.616663 163.406194 \r\nL 127.134196 163.159099 \r\nL 126.651729 162.874725 \r\nL 126.169261 162.549515 \r\nL 125.686794 162.179969 \r\nL 125.204327 161.762726 \r\nL 124.72186 161.294655 \r\nL 124.239393 160.772958 \r\nL 123.756926 160.195269 \r\nL 123.274459 159.55976 \r\nL 122.791992 158.865238 \r\nL 122.309525 158.11124 \r\nL 121.827058 157.298112 \r\nL 121.344591 156.427074 \r\nL 120.862123 155.500263 \r\nL 120.379656 154.520751 \r\nL 119.897189 153.492536 \r\nL 119.414722 152.420503 \r\nL 118.932255 151.310354 \r\nL 118.449788 150.168506 \r\nL 117.967321 149.00196 \r\nL 117.484854 147.818141 \r\nL 117.002387 146.624723 \r\nL 116.51992 145.429428 \r\nL 116.037452 144.239826 \r\nL 115.554985 143.063128 \r\nL 115.072518 141.905989 \r\nL 114.590051 140.774325 \r\nL 114.107584 139.673164 \r\nL 113.625117 138.606515 \r\nL 113.14265 137.577293 \r\nL 112.660183 136.587276 \r\nL 112.177716 135.637117 \r\nL 111.695249 134.726405 \r\nL 111.212782 133.853769 \r\nL 110.730314 133.017029 \r\nL 110.247847 132.21339 \r\nL 109.76538 131.439662 \r\nL 109.282913 130.6925 \r\nL 108.800446 129.968662 \r\nL 108.317979 129.265265 \r\nL 107.835512 128.580023 \r\nL 107.353045 127.911477 \r\nL 106.870578 127.259178 \r\nL 106.388111 126.623836 \r\nL 105.905643 126.007425 \r\nL 105.423176 125.41323 \r\nL 104.940709 124.845834 \r\nL 104.458242 124.311063 \r\nL 103.975775 123.815863 \r\nL 103.493308 123.368138 \r\nL 103.010841 122.976536 \r\nL 102.528374 122.650208 \r\nL 102.045907 122.398532 \r\nL 101.56344 122.230829 \r\nL 101.080972 122.156064 \r\nL 100.598505 122.182556 \r\nL 100.116038 122.317704 \r\nL 99.633571 122.56773 \r\nL 99.151104 122.937457 \r\nL 98.668637 123.430128 \r\nL 98.18617 124.047262 \r\nL 97.703703 124.788567 \r\nL 97.221236 125.651889 \r\nL 96.738769 126.633228 \r\nL 96.256302 127.72679 \r\nL 95.773834 128.925091 \r\nL 95.291367 130.219104 \r\nL 94.8089 131.598442 \r\nL 94.326433 133.05157 \r\nL 93.843966 134.566045 \r\nL 93.361499 136.128771 \r\nL 92.879032 137.726265 \r\nL 92.396565 139.344918 \r\nL 91.914098 140.971256 \r\nL 91.431631 142.592188 \r\nL 90.949163 144.195232 \r\nL 90.466696 145.768715 \r\nL 89.984229 147.301948 \r\nL 89.501762 148.785367 \r\nL 89.019295 150.21064 \r\nL 88.536828 151.570736 \r\nL 88.054361 152.859966 \r\nL 87.571894 154.073983 \r\nL 87.089427 155.209756 \r\nL 86.60696 156.265514 \r\nL 86.124493 157.24067 \r\nL 85.642025 158.135716 \r\nL 85.159558 158.952114 \r\nL 84.677091 159.692169 \r\nL 84.194624 160.358899 \r\nL 83.712157 160.955899 \r\nL 83.22969 161.487215 \r\nL 82.747223 161.957213 \r\nL 82.264756 162.370468 \r\nL 81.782289 162.731651 \r\nL 81.299822 163.045436 \r\nL 80.817354 163.31642 \r\nL 80.334887 163.54905 \r\nz\r\n\" style=\"fill:#2ca02c;fill-opacity:0.25;\"/>\r\n   </g>\r\n   <g id=\"line2d_35\">\r\n    <path clip-path=\"url(#pb56e4b3e21)\" d=\"M 72.6905 164.004095 \r\nL 72.898064 163.693585 \r\nL 73.105628 163.265364 \r\nL 73.313191 162.684108 \r\nL 73.520755 161.907582 \r\nL 73.728319 160.886616 \r\nL 73.935883 159.565587 \r\nL 74.143446 157.883558 \r\nL 74.35101 155.776143 \r\nL 74.558574 153.178176 \r\nL 74.766138 150.027136 \r\nL 74.973701 146.267222 \r\nL 75.181265 141.853862 \r\nL 75.388829 136.75835 \r\nL 75.596393 130.972222 \r\nL 75.803956 124.510943 \r\nL 76.01152 117.416483 \r\nL 76.219084 109.758396 \r\nL 76.426648 101.633155 \r\nL 76.634211 93.161616 \r\nL 76.841775 84.484683 \r\nL 77.049339 75.757458 \r\nL 77.256903 67.142282 \r\nL 77.464466 58.801252 \r\nL 77.67203 50.888847 \r\nL 77.879594 43.545267 \r\nL 78.087158 36.891034 \r\nL 78.294721 31.023257 \r\nL 78.502285 26.013732 \r\nL 78.709849 21.908895 \r\nL 78.917413 18.73143 \r\nL 79.124976 16.483159 \r\nL 79.33254 15.148787 \r\nL 79.540104 14.7 \r\nL 79.747668 15.099468 \r\nL 79.955231 16.304364 \r\nL 80.162795 18.269136 \r\nL 80.370359 20.947386 \r\nL 80.577923 24.292841 \r\nL 80.785486 28.25949 \r\nL 80.99305 32.801053 \r\nL 81.200614 37.86999 \r\nL 81.408178 43.416272 \r\nL 81.615741 49.386127 \r\nL 81.823305 55.720964 \r\nL 82.030869 62.356622 \r\nL 82.238433 69.223063 \r\nL 82.445996 76.244577 \r\nL 82.65356 83.340512 \r\nL 82.861124 90.426508 \r\nL 83.068688 97.416171 \r\nL 83.276251 104.223077 \r\nL 83.483815 110.762983 \r\nL 83.691379 116.956116 \r\nL 83.898943 122.729386 \r\nL 84.106506 128.018407 \r\nL 84.31407 132.769248 \r\nL 84.521634 136.939822 \r\nL 84.729198 140.500933 \r\nL 84.936761 143.436955 \r\nL 85.144325 145.746204 \r\nL 85.351889 147.441025 \r\nL 85.559453 148.547632 \r\nL 85.767016 149.105702 \r\nL 85.97458 149.167703 \r\nL 86.182144 148.797892 \r\nL 86.389708 148.070928 \r\nL 86.597271 147.069999 \r\nL 86.804835 145.884433 \r\nL 87.012399 144.606784 \r\nL 87.219963 143.329438 \r\nL 87.427526 142.140901 \r\nL 87.63509 141.12196 \r\nL 87.842654 140.342008 \r\nL 88.050218 139.855816 \r\nL 88.257781 139.701055 \r\nL 88.465345 139.896816 \r\nL 88.672909 140.443286 \r\nL 88.880473 141.32265 \r\nL 89.088036 142.501128 \r\nL 89.2956 143.932007 \r\nL 89.503164 145.559349 \r\nL 89.710728 147.32208 \r\nL 89.918291 149.158077 \r\nL 90.125855 151.007939 \r\nL 90.333419 152.818147 \r\nL 90.540983 154.543433 \r\nL 90.748546 156.148259 \r\nL 90.95611 157.607405 \r\nL 91.163674 158.905744 \r\nL 91.371238 160.037366 \r\nL 91.578801 161.004225 \r\nL 91.786365 161.814507 \r\nL 91.993929 162.480912 \r\nL 92.201493 163.018996 \r\nL 92.409056 163.445696 \r\nL 92.61662 163.778115 \r\nL 92.824184 164.032594 \r\nL 93.031748 164.22407 \r\nL 93.239311 164.365701 \r\n\" style=\"fill:none;stroke:#1f77b4;stroke-linecap:square;stroke-width:1.5;\"/>\r\n   </g>\r\n   <g id=\"line2d_36\"/>\r\n   <g id=\"line2d_37\">\r\n    <path clip-path=\"url(#pb56e4b3e21)\" d=\"M 80.334887 163.54905 \r\nL 80.817354 163.31642 \r\nL 81.299822 163.045436 \r\nL 81.782289 162.731651 \r\nL 82.264756 162.370468 \r\nL 82.747223 161.957213 \r\nL 83.22969 161.487215 \r\nL 83.712157 160.955899 \r\nL 84.194624 160.358899 \r\nL 84.677091 159.692169 \r\nL 85.159558 158.952114 \r\nL 85.642025 158.135716 \r\nL 86.124493 157.24067 \r\nL 86.60696 156.265514 \r\nL 87.089427 155.209756 \r\nL 87.571894 154.073983 \r\nL 88.054361 152.859966 \r\nL 88.536828 151.570736 \r\nL 89.019295 150.21064 \r\nL 89.501762 148.785367 \r\nL 89.984229 147.301948 \r\nL 90.466696 145.768715 \r\nL 90.949163 144.195232 \r\nL 91.431631 142.592188 \r\nL 91.914098 140.971256 \r\nL 92.396565 139.344918 \r\nL 92.879032 137.726265 \r\nL 93.361499 136.128771 \r\nL 93.843966 134.566045 \r\nL 94.326433 133.05157 \r\nL 94.8089 131.598442 \r\nL 95.291367 130.219104 \r\nL 95.773834 128.925091 \r\nL 96.256302 127.72679 \r\nL 96.738769 126.633228 \r\nL 97.221236 125.651889 \r\nL 97.703703 124.788567 \r\nL 98.18617 124.047262 \r\nL 98.668637 123.430128 \r\nL 99.151104 122.937457 \r\nL 99.633571 122.56773 \r\nL 100.116038 122.317704 \r\nL 100.598505 122.182556 \r\nL 101.080972 122.156064 \r\nL 101.56344 122.230829 \r\nL 102.045907 122.398532 \r\nL 102.528374 122.650208 \r\nL 103.010841 122.976536 \r\nL 103.493308 123.368138 \r\nL 103.975775 123.815863 \r\nL 104.458242 124.311063 \r\nL 104.940709 124.845834 \r\nL 105.423176 125.41323 \r\nL 105.905643 126.007425 \r\nL 106.388111 126.623836 \r\nL 106.870578 127.259178 \r\nL 107.353045 127.911477 \r\nL 107.835512 128.580023 \r\nL 108.317979 129.265265 \r\nL 108.800446 129.968662 \r\nL 109.282913 130.6925 \r\nL 109.76538 131.439662 \r\nL 110.247847 132.21339 \r\nL 110.730314 133.017029 \r\nL 111.212782 133.853769 \r\nL 111.695249 134.726405 \r\nL 112.177716 135.637117 \r\nL 112.660183 136.587276 \r\nL 113.14265 137.577293 \r\nL 113.625117 138.606515 \r\nL 114.107584 139.673164 \r\nL 114.590051 140.774325 \r\nL 115.072518 141.905989 \r\nL 115.554985 143.063128 \r\nL 116.037452 144.239826 \r\nL 116.51992 145.429428 \r\nL 117.002387 146.624723 \r\nL 117.484854 147.818141 \r\nL 117.967321 149.00196 \r\nL 118.449788 150.168506 \r\nL 118.932255 151.310354 \r\nL 119.414722 152.420503 \r\nL 119.897189 153.492536 \r\nL 120.379656 154.520751 \r\nL 120.862123 155.500263 \r\nL 121.344591 156.427074 \r\nL 121.827058 157.298112 \r\nL 122.309525 158.11124 \r\nL 122.791992 158.865238 \r\nL 123.274459 159.55976 \r\nL 123.756926 160.195269 \r\nL 124.239393 160.772958 \r\nL 124.72186 161.294655 \r\nL 125.204327 161.762726 \r\nL 125.686794 162.179969 \r\nL 126.169261 162.549515 \r\nL 126.651729 162.874725 \r\nL 127.134196 163.159099 \r\nL 127.616663 163.406194 \r\nL 128.09913 163.619545 \r\n\" style=\"fill:none;stroke:#2ca02c;stroke-linecap:square;stroke-width:1.5;\"/>\r\n   </g>\r\n  </g>\r\n  <g id=\"axes_6\">\r\n   <g id=\"PolyCollection_4\">\r\n    <path clip-path=\"url(#p8ed2292283)\" d=\"M 260.657244 331.465591 \r\nL 260.657244 332.2 \r\nL 260.77047 332.2 \r\nL 260.883696 332.2 \r\nL 260.996922 332.2 \r\nL 261.110148 332.2 \r\nL 261.223374 332.2 \r\nL 261.3366 332.2 \r\nL 261.449827 332.2 \r\nL 261.563053 332.2 \r\nL 261.676279 332.2 \r\nL 261.789505 332.2 \r\nL 261.902731 332.2 \r\nL 262.015957 332.2 \r\nL 262.129183 332.2 \r\nL 262.242409 332.2 \r\nL 262.355635 332.2 \r\nL 262.468861 332.2 \r\nL 262.582087 332.2 \r\nL 262.695313 332.2 \r\nL 262.808539 332.2 \r\nL 262.921765 332.2 \r\nL 263.034991 332.2 \r\nL 263.148217 332.2 \r\nL 263.261443 332.2 \r\nL 263.374669 332.2 \r\nL 263.487895 332.2 \r\nL 263.601121 332.2 \r\nL 263.714347 332.2 \r\nL 263.827573 332.2 \r\nL 263.940799 332.2 \r\nL 264.054025 332.2 \r\nL 264.167251 332.2 \r\nL 264.280477 332.2 \r\nL 264.393703 332.2 \r\nL 264.506929 332.2 \r\nL 264.620155 332.2 \r\nL 264.733381 332.2 \r\nL 264.846607 332.2 \r\nL 264.959833 332.2 \r\nL 265.073059 332.2 \r\nL 265.186285 332.2 \r\nL 265.299511 332.2 \r\nL 265.412737 332.2 \r\nL 265.525963 332.2 \r\nL 265.639189 332.2 \r\nL 265.752415 332.2 \r\nL 265.865641 332.2 \r\nL 265.978867 332.2 \r\nL 266.092093 332.2 \r\nL 266.205319 332.2 \r\nL 266.318545 332.2 \r\nL 266.431771 332.2 \r\nL 266.544997 332.2 \r\nL 266.658223 332.2 \r\nL 266.771449 332.2 \r\nL 266.884675 332.2 \r\nL 266.997901 332.2 \r\nL 267.111127 332.2 \r\nL 267.224353 332.2 \r\nL 267.337579 332.2 \r\nL 267.450805 332.2 \r\nL 267.564031 332.2 \r\nL 267.677257 332.2 \r\nL 267.790483 332.2 \r\nL 267.903709 332.2 \r\nL 268.016935 332.2 \r\nL 268.130161 332.2 \r\nL 268.243387 332.2 \r\nL 268.356613 332.2 \r\nL 268.469839 332.2 \r\nL 268.583065 332.2 \r\nL 268.696291 332.2 \r\nL 268.809517 332.2 \r\nL 268.922743 332.2 \r\nL 269.035969 332.2 \r\nL 269.149195 332.2 \r\nL 269.262421 332.2 \r\nL 269.375647 332.2 \r\nL 269.488873 332.2 \r\nL 269.602099 332.2 \r\nL 269.715325 332.2 \r\nL 269.828551 332.2 \r\nL 269.941777 332.2 \r\nL 270.055003 332.2 \r\nL 270.168229 332.2 \r\nL 270.281455 332.2 \r\nL 270.394681 332.2 \r\nL 270.507907 332.2 \r\nL 270.621133 332.2 \r\nL 270.734359 332.2 \r\nL 270.847585 332.2 \r\nL 270.960811 332.2 \r\nL 271.074037 332.2 \r\nL 271.187263 332.2 \r\nL 271.300489 332.2 \r\nL 271.413715 332.2 \r\nL 271.526941 332.2 \r\nL 271.640167 332.2 \r\nL 271.753393 332.2 \r\nL 271.86662 332.2 \r\nL 271.86662 331.983752 \r\nL 271.86662 331.983752 \r\nL 271.753393 331.895319 \r\nL 271.640167 331.776079 \r\nL 271.526941 331.617492 \r\nL 271.413715 331.409448 \r\nL 271.300489 331.140239 \r\nL 271.187263 330.796622 \r\nL 271.074037 330.36398 \r\nL 270.960811 329.826628 \r\nL 270.847585 329.168229 \r\nL 270.734359 328.372366 \r\nL 270.621133 327.423209 \r\nL 270.507907 326.306287 \r\nL 270.394681 325.009296 \r\nL 270.281455 323.522907 \r\nL 270.168229 321.841501 \r\nL 270.055003 319.963775 \r\nL 269.941777 317.893164 \r\nL 269.828551 315.638027 \r\nL 269.715325 313.211575 \r\nL 269.602099 310.631539 \r\nL 269.488873 307.919594 \r\nL 269.375647 305.100592 \r\nL 269.262421 302.201653 \r\nL 269.149195 299.251202 \r\nL 269.035969 296.278025 \r\nL 268.922743 293.310407 \r\nL 268.809517 290.37541 \r\nL 268.696291 287.498322 \r\nL 268.583065 284.702279 \r\nL 268.469839 282.00805 \r\nL 268.356613 279.433934 \r\nL 268.243387 276.995732 \r\nL 268.130161 274.706741 \r\nL 268.016935 272.577713 \r\nL 267.903709 270.616752 \r\nL 267.790483 268.829112 \r\nL 267.677257 267.216911 \r\nL 267.564031 265.778737 \r\nL 267.450805 264.509186 \r\nL 267.337579 263.398341 \r\nL 267.224353 262.431214 \r\nL 267.111127 261.587193 \r\nL 266.997901 260.839513 \r\nL 266.884675 260.154814 \r\nL 266.771449 259.492829 \r\nL 266.658223 258.806303 \r\nL 266.544997 258.041231 \r\nL 266.431771 257.137538 \r\nL 266.318545 256.030325 \r\nL 266.205319 254.651789 \r\nL 266.092093 252.933903 \r\nL 265.978867 250.811876 \r\nL 265.865641 248.22834 \r\nL 265.752415 245.138108 \r\nL 265.639189 241.513276 \r\nL 265.525963 237.348286 \r\nL 265.412737 232.66455 \r\nL 265.299511 227.514149 \r\nL 265.186285 221.982125 \r\nL 265.073059 216.186947 \r\nL 264.959833 210.278806 \r\nL 264.846607 204.435572 \r\nL 264.733381 198.856427 \r\nL 264.620155 193.753386 \r\nL 264.506929 189.341146 \r\nL 264.393703 185.825882 \r\nL 264.280477 183.39376 \r\nL 264.167251 182.2 \r\nL 264.054025 182.359341 \r\nL 263.940799 183.938665 \r\nL 263.827573 186.952394 \r\nL 263.714347 191.361044 \r\nL 263.601121 197.073066 \r\nL 263.487895 203.949831 \r\nL 263.374669 211.813359 \r\nL 263.261443 220.456162 \r\nL 263.148217 229.652438 \r\nL 263.034991 239.169758 \r\nL 262.921765 248.780395 \r\nL 262.808539 258.271546 \r\nL 262.695313 267.453814 \r\nL 262.582087 276.167535 \r\nL 262.468861 284.286734 \r\nL 262.355635 291.720701 \r\nL 262.242409 298.413392 \r\nL 262.129183 304.340965 \r\nL 262.015957 309.507893 \r\nL 261.902731 313.942138 \r\nL 261.789505 317.689851 \r\nL 261.676279 320.810034 \r\nL 261.563053 323.369515 \r\nL 261.449827 325.438514 \r\nL 261.3366 327.08695 \r\nL 261.223374 328.381579 \r\nL 261.110148 329.383953 \r\nL 260.996922 330.149143 \r\nL 260.883696 330.725115 \r\nL 260.77047 331.15264 \r\nL 260.657244 331.465591 \r\nz\r\n\" style=\"fill:#1f77b4;fill-opacity:0.25;\"/>\r\n   </g>\r\n   <g id=\"PolyCollection_5\"/>\r\n   <g id=\"PolyCollection_6\">\r\n    <path clip-path=\"url(#p8ed2292283)\" d=\"M 241.289288 331.512316 \r\nL 241.289288 332.2 \r\nL 242.141902 332.2 \r\nL 242.994516 332.2 \r\nL 243.84713 332.2 \r\nL 244.699743 332.2 \r\nL 245.552357 332.2 \r\nL 246.404971 332.2 \r\nL 247.257585 332.2 \r\nL 248.110198 332.2 \r\nL 248.962812 332.2 \r\nL 249.815426 332.2 \r\nL 250.66804 332.2 \r\nL 251.520653 332.2 \r\nL 252.373267 332.2 \r\nL 253.225881 332.2 \r\nL 254.078495 332.2 \r\nL 254.931108 332.2 \r\nL 255.783722 332.2 \r\nL 256.636336 332.2 \r\nL 257.48895 332.2 \r\nL 258.341563 332.2 \r\nL 259.194177 332.2 \r\nL 260.046791 332.2 \r\nL 260.899405 332.2 \r\nL 261.752018 332.2 \r\nL 262.604632 332.2 \r\nL 263.457246 332.2 \r\nL 264.309859 332.2 \r\nL 265.162473 332.2 \r\nL 266.015087 332.2 \r\nL 266.867701 332.2 \r\nL 267.720314 332.2 \r\nL 268.572928 332.2 \r\nL 269.425542 332.2 \r\nL 270.278156 332.2 \r\nL 271.130769 332.2 \r\nL 271.983383 332.2 \r\nL 272.835997 332.2 \r\nL 273.688611 332.2 \r\nL 274.541224 332.2 \r\nL 275.393838 332.2 \r\nL 276.246452 332.2 \r\nL 277.099066 332.2 \r\nL 277.951679 332.2 \r\nL 278.804293 332.2 \r\nL 279.656907 332.2 \r\nL 280.509521 332.2 \r\nL 281.362134 332.2 \r\nL 282.214748 332.2 \r\nL 283.067362 332.2 \r\nL 283.919976 332.2 \r\nL 284.772589 332.2 \r\nL 285.625203 332.2 \r\nL 286.477817 332.2 \r\nL 287.330431 332.2 \r\nL 288.183044 332.2 \r\nL 289.035658 332.2 \r\nL 289.888272 332.2 \r\nL 290.740885 332.2 \r\nL 291.593499 332.2 \r\nL 292.446113 332.2 \r\nL 293.298727 332.2 \r\nL 294.15134 332.2 \r\nL 295.003954 332.2 \r\nL 295.856568 332.2 \r\nL 296.709182 332.2 \r\nL 297.561795 332.2 \r\nL 298.414409 332.2 \r\nL 299.267023 332.2 \r\nL 300.119637 332.2 \r\nL 300.97225 332.2 \r\nL 301.824864 332.2 \r\nL 302.677478 332.2 \r\nL 303.530092 332.2 \r\nL 304.382705 332.2 \r\nL 305.235319 332.2 \r\nL 306.087933 332.2 \r\nL 306.940547 332.2 \r\nL 307.79316 332.2 \r\nL 308.645774 332.2 \r\nL 309.498388 332.2 \r\nL 310.351002 332.2 \r\nL 311.203615 332.2 \r\nL 312.056229 332.2 \r\nL 312.908843 332.2 \r\nL 313.761456 332.2 \r\nL 314.61407 332.2 \r\nL 315.466684 332.2 \r\nL 316.319298 332.2 \r\nL 317.171911 332.2 \r\nL 318.024525 332.2 \r\nL 318.877139 332.2 \r\nL 319.729753 332.2 \r\nL 320.582366 332.2 \r\nL 321.43498 332.2 \r\nL 322.287594 332.2 \r\nL 323.140208 332.2 \r\nL 323.992821 332.2 \r\nL 324.845435 332.2 \r\nL 325.698049 332.2 \r\nL 325.698049 331.840066 \r\nL 325.698049 331.840066 \r\nL 324.845435 331.77223 \r\nL 323.992821 331.694185 \r\nL 323.140208 331.604929 \r\nL 322.287594 331.503464 \r\nL 321.43498 331.388815 \r\nL 320.582366 331.26006 \r\nL 319.729753 331.116353 \r\nL 318.877139 330.956953 \r\nL 318.024525 330.781255 \r\nL 317.171911 330.588822 \r\nL 316.319298 330.37941 \r\nL 315.466684 330.152999 \r\nL 314.61407 329.909818 \r\nL 313.761456 329.650359 \r\nL 312.908843 329.3754 \r\nL 312.056229 329.086002 \r\nL 311.203615 328.783515 \r\nL 310.351002 328.469563 \r\nL 309.498388 328.146026 \r\nL 308.645774 327.815008 \r\nL 307.79316 327.478796 \r\nL 306.940547 327.139811 \r\nL 306.087933 326.800548 \r\nL 305.235319 326.46351 \r\nL 304.382705 326.131135 \r\nL 303.530092 325.805724 \r\nL 302.677478 325.489361 \r\nL 301.824864 325.183844 \r\nL 300.97225 324.890614 \r\nL 300.119637 324.610695 \r\nL 299.267023 324.344649 \r\nL 298.414409 324.092535 \r\nL 297.561795 323.8539 \r\nL 296.709182 323.627769 \r\nL 295.856568 323.412675 \r\nL 295.003954 323.206693 \r\nL 294.15134 323.0075 \r\nL 293.298727 322.81246 \r\nL 292.446113 322.618712 \r\nL 291.593499 322.423288 \r\nL 290.740885 322.223231 \r\nL 289.888272 322.015721 \r\nL 289.035658 321.798211 \r\nL 288.183044 321.568552 \r\nL 287.330431 321.325114 \r\nL 286.477817 321.066894 \r\nL 285.625203 320.793605 \r\nL 284.772589 320.50575 \r\nL 283.919976 320.204662 \r\nL 283.067362 319.892523 \r\nL 282.214748 319.572351 \r\nL 281.362134 319.24796 \r\nL 280.509521 318.923885 \r\nL 279.656907 318.605286 \r\nL 278.804293 318.297823 \r\nL 277.951679 318.007514 \r\nL 277.099066 317.740571 \r\nL 276.246452 317.503228 \r\nL 275.393838 317.301568 \r\nL 274.541224 317.141346 \r\nL 273.688611 317.02782 \r\nL 272.835997 316.965594 \r\nL 271.983383 316.958485 \r\nL 271.130769 317.009407 \r\nL 270.278156 317.120284 \r\nL 269.425542 317.291991 \r\nL 268.572928 317.52433 \r\nL 267.720314 317.816032 \r\nL 266.867701 318.164793 \r\nL 266.015087 318.56734 \r\nL 265.162473 319.019516 \r\nL 264.309859 319.516398 \r\nL 263.457246 320.05242 \r\nL 262.604632 320.621522 \r\nL 261.752018 321.217294 \r\nL 260.899405 321.833134 \r\nL 260.046791 322.462396 \r\nL 259.194177 323.09853 \r\nL 258.341563 323.735224 \r\nL 257.48895 324.366511 \r\nL 256.636336 324.986877 \r\nL 255.783722 325.591342 \r\nL 254.931108 326.175522 \r\nL 254.078495 326.735667 \r\nL 253.225881 327.268691 \r\nL 252.373267 327.772167 \r\nL 251.520653 328.24432 \r\nL 250.66804 328.683996 \r\nL 249.815426 329.090622 \r\nL 248.962812 329.464152 \r\nL 248.110198 329.805014 \r\nL 247.257585 330.114045 \r\nL 246.404971 330.392422 \r\nL 245.552357 330.641604 \r\nL 244.699743 330.863261 \r\nL 243.84713 331.059217 \r\nL 242.994516 331.231397 \r\nL 242.141902 331.381772 \r\nL 241.289288 331.512316 \r\nz\r\n\" style=\"fill:#2ca02c;fill-opacity:0.25;\"/>\r\n   </g>\r\n   <g id=\"line2d_38\">\r\n    <path clip-path=\"url(#p8ed2292283)\" d=\"M 260.657244 331.465591 \r\nL 260.77047 331.15264 \r\nL 260.883696 330.725115 \r\nL 260.996922 330.149143 \r\nL 261.110148 329.383953 \r\nL 261.223374 328.381579 \r\nL 261.3366 327.08695 \r\nL 261.449827 325.438514 \r\nL 261.563053 323.369515 \r\nL 261.676279 320.810034 \r\nL 261.789505 317.689851 \r\nL 261.902731 313.942138 \r\nL 262.015957 309.507893 \r\nL 262.129183 304.340965 \r\nL 262.242409 298.413392 \r\nL 262.355635 291.720701 \r\nL 262.468861 284.286734 \r\nL 262.582087 276.167535 \r\nL 262.695313 267.453814 \r\nL 262.808539 258.271546 \r\nL 262.921765 248.780395 \r\nL 263.034991 239.169758 \r\nL 263.148217 229.652438 \r\nL 263.261443 220.456162 \r\nL 263.374669 211.813359 \r\nL 263.487895 203.949831 \r\nL 263.601121 197.073066 \r\nL 263.714347 191.361044 \r\nL 263.827573 186.952394 \r\nL 263.940799 183.938665 \r\nL 264.054025 182.359341 \r\nL 264.167251 182.2 \r\nL 264.280477 183.39376 \r\nL 264.393703 185.825882 \r\nL 264.506929 189.341146 \r\nL 264.620155 193.753386 \r\nL 264.733381 198.856427 \r\nL 264.846607 204.435572 \r\nL 264.959833 210.278806 \r\nL 265.073059 216.186947 \r\nL 265.186285 221.982125 \r\nL 265.299511 227.514149 \r\nL 265.412737 232.66455 \r\nL 265.525963 237.348286 \r\nL 265.639189 241.513276 \r\nL 265.752415 245.138108 \r\nL 265.865641 248.22834 \r\nL 265.978867 250.811876 \r\nL 266.092093 252.933903 \r\nL 266.205319 254.651789 \r\nL 266.318545 256.030325 \r\nL 266.431771 257.137538 \r\nL 266.544997 258.041231 \r\nL 266.658223 258.806303 \r\nL 266.771449 259.492829 \r\nL 266.884675 260.154814 \r\nL 266.997901 260.839513 \r\nL 267.111127 261.587193 \r\nL 267.224353 262.431214 \r\nL 267.337579 263.398341 \r\nL 267.450805 264.509186 \r\nL 267.564031 265.778737 \r\nL 267.677257 267.216911 \r\nL 267.790483 268.829112 \r\nL 267.903709 270.616752 \r\nL 268.016935 272.577713 \r\nL 268.130161 274.706741 \r\nL 268.243387 276.995732 \r\nL 268.356613 279.433934 \r\nL 268.469839 282.00805 \r\nL 268.583065 284.702279 \r\nL 268.696291 287.498322 \r\nL 268.809517 290.37541 \r\nL 268.922743 293.310407 \r\nL 269.035969 296.278025 \r\nL 269.149195 299.251202 \r\nL 269.262421 302.201653 \r\nL 269.375647 305.100592 \r\nL 269.488873 307.919594 \r\nL 269.602099 310.631539 \r\nL 269.715325 313.211575 \r\nL 269.828551 315.638027 \r\nL 269.941777 317.893164 \r\nL 270.055003 319.963775 \r\nL 270.168229 321.841501 \r\nL 270.281455 323.522907 \r\nL 270.394681 325.009296 \r\nL 270.507907 326.306287 \r\nL 270.621133 327.423209 \r\nL 270.734359 328.372366 \r\nL 270.847585 329.168229 \r\nL 270.960811 329.826628 \r\nL 271.074037 330.36398 \r\nL 271.187263 330.796622 \r\nL 271.300489 331.140239 \r\nL 271.413715 331.409448 \r\nL 271.526941 331.617492 \r\nL 271.640167 331.776079 \r\nL 271.753393 331.895319 \r\nL 271.86662 331.983752 \r\n\" style=\"fill:none;stroke:#1f77b4;stroke-linecap:square;stroke-width:1.5;\"/>\r\n   </g>\r\n   <g id=\"line2d_39\"/>\r\n   <g id=\"line2d_40\">\r\n    <path clip-path=\"url(#p8ed2292283)\" d=\"M 241.289288 331.512316 \r\nL 242.141902 331.381772 \r\nL 242.994516 331.231397 \r\nL 243.84713 331.059217 \r\nL 244.699743 330.863261 \r\nL 245.552357 330.641604 \r\nL 246.404971 330.392422 \r\nL 247.257585 330.114045 \r\nL 248.110198 329.805014 \r\nL 248.962812 329.464152 \r\nL 249.815426 329.090622 \r\nL 250.66804 328.683996 \r\nL 251.520653 328.24432 \r\nL 252.373267 327.772167 \r\nL 253.225881 327.268691 \r\nL 254.078495 326.735667 \r\nL 254.931108 326.175522 \r\nL 255.783722 325.591342 \r\nL 256.636336 324.986877 \r\nL 257.48895 324.366511 \r\nL 258.341563 323.735224 \r\nL 259.194177 323.09853 \r\nL 260.046791 322.462396 \r\nL 260.899405 321.833134 \r\nL 261.752018 321.217294 \r\nL 262.604632 320.621522 \r\nL 263.457246 320.05242 \r\nL 264.309859 319.516398 \r\nL 265.162473 319.019516 \r\nL 266.015087 318.56734 \r\nL 266.867701 318.164793 \r\nL 267.720314 317.816032 \r\nL 268.572928 317.52433 \r\nL 269.425542 317.291991 \r\nL 270.278156 317.120284 \r\nL 271.130769 317.009407 \r\nL 271.983383 316.958485 \r\nL 272.835997 316.965594 \r\nL 273.688611 317.02782 \r\nL 274.541224 317.141346 \r\nL 275.393838 317.301568 \r\nL 276.246452 317.503228 \r\nL 277.099066 317.740571 \r\nL 277.951679 318.007514 \r\nL 278.804293 318.297823 \r\nL 279.656907 318.605286 \r\nL 280.509521 318.923885 \r\nL 281.362134 319.24796 \r\nL 282.214748 319.572351 \r\nL 283.067362 319.892523 \r\nL 283.919976 320.204662 \r\nL 284.772589 320.50575 \r\nL 285.625203 320.793605 \r\nL 286.477817 321.066894 \r\nL 287.330431 321.325114 \r\nL 288.183044 321.568552 \r\nL 289.035658 321.798211 \r\nL 289.888272 322.015721 \r\nL 290.740885 322.223231 \r\nL 291.593499 322.423288 \r\nL 292.446113 322.618712 \r\nL 293.298727 322.81246 \r\nL 294.15134 323.0075 \r\nL 295.003954 323.206693 \r\nL 295.856568 323.412675 \r\nL 296.709182 323.627769 \r\nL 297.561795 323.8539 \r\nL 298.414409 324.092535 \r\nL 299.267023 324.344649 \r\nL 300.119637 324.610695 \r\nL 300.97225 324.890614 \r\nL 301.824864 325.183844 \r\nL 302.677478 325.489361 \r\nL 303.530092 325.805724 \r\nL 304.382705 326.131135 \r\nL 305.235319 326.46351 \r\nL 306.087933 326.800548 \r\nL 306.940547 327.139811 \r\nL 307.79316 327.478796 \r\nL 308.645774 327.815008 \r\nL 309.498388 328.146026 \r\nL 310.351002 328.469563 \r\nL 311.203615 328.783515 \r\nL 312.056229 329.086002 \r\nL 312.908843 329.3754 \r\nL 313.761456 329.650359 \r\nL 314.61407 329.909818 \r\nL 315.466684 330.152999 \r\nL 316.319298 330.37941 \r\nL 317.171911 330.588822 \r\nL 318.024525 330.781255 \r\nL 318.877139 330.956953 \r\nL 319.729753 331.116353 \r\nL 320.582366 331.26006 \r\nL 321.43498 331.388815 \r\nL 322.287594 331.503464 \r\nL 323.140208 331.604929 \r\nL 323.992821 331.694185 \r\nL 324.845435 331.77223 \r\nL 325.698049 331.840066 \r\n\" style=\"fill:none;stroke:#2ca02c;stroke-linecap:square;stroke-width:1.5;\"/>\r\n   </g>\r\n  </g>\r\n  <g id=\"legend_1\">\r\n   <g id=\"text_22\">\r\n    <!-- cluster -->\r\n    <defs>\r\n     <path d=\"M 8.5 21.578125 \r\nL 8.5 54.6875 \r\nL 17.484375 54.6875 \r\nL 17.484375 21.921875 \r\nQ 17.484375 14.15625 20.5 10.265625 \r\nQ 23.53125 6.390625 29.59375 6.390625 \r\nQ 36.859375 6.390625 41.078125 11.03125 \r\nQ 45.3125 15.671875 45.3125 23.6875 \r\nL 45.3125 54.6875 \r\nL 54.296875 54.6875 \r\nL 54.296875 0 \r\nL 45.3125 0 \r\nL 45.3125 8.40625 \r\nQ 42.046875 3.421875 37.71875 1 \r\nQ 33.40625 -1.421875 27.6875 -1.421875 \r\nQ 18.265625 -1.421875 13.375 4.4375 \r\nQ 8.5 10.296875 8.5 21.578125 \r\nz\r\nM 31.109375 56 \r\nz\r\n\" id=\"DejaVuSans-117\"/>\r\n     <path d=\"M 18.3125 70.21875 \r\nL 18.3125 54.6875 \r\nL 36.8125 54.6875 \r\nL 36.8125 47.703125 \r\nL 18.3125 47.703125 \r\nL 18.3125 18.015625 \r\nQ 18.3125 11.328125 20.140625 9.421875 \r\nQ 21.96875 7.515625 27.59375 7.515625 \r\nL 36.8125 7.515625 \r\nL 36.8125 0 \r\nL 27.59375 0 \r\nQ 17.1875 0 13.234375 3.875 \r\nQ 9.28125 7.765625 9.28125 18.015625 \r\nL 9.28125 47.703125 \r\nL 2.6875 47.703125 \r\nL 2.6875 54.6875 \r\nL 9.28125 54.6875 \r\nL 9.28125 70.21875 \r\nz\r\n\" id=\"DejaVuSans-116\"/>\r\n    </defs>\r\n    <g transform=\"translate(386.08776 165.620312)scale(0.1 -0.1)\">\r\n     <use xlink:href=\"#DejaVuSans-99\"/>\r\n     <use x=\"54.980469\" xlink:href=\"#DejaVuSans-108\"/>\r\n     <use x=\"82.763672\" xlink:href=\"#DejaVuSans-117\"/>\r\n     <use x=\"146.142578\" xlink:href=\"#DejaVuSans-115\"/>\r\n     <use x=\"198.242188\" xlink:href=\"#DejaVuSans-116\"/>\r\n     <use x=\"237.451172\" xlink:href=\"#DejaVuSans-101\"/>\r\n     <use x=\"298.974609\" xlink:href=\"#DejaVuSans-114\"/>\r\n    </g>\r\n   </g>\r\n   <g id=\"PathCollection_7\">\r\n    <g>\r\n     <use style=\"fill:#1f77b4;stroke:#ffffff;stroke-width:0.75;\" x=\"395.910417\" xlink:href=\"#mfb394d92e7\" y=\"177.673437\"/>\r\n    </g>\r\n   </g>\r\n   <g id=\"text_23\">\r\n    <!-- 1 -->\r\n    <g transform=\"translate(413.910417 180.298437)scale(0.1 -0.1)\">\r\n     <use xlink:href=\"#DejaVuSans-49\"/>\r\n    </g>\r\n   </g>\r\n   <g id=\"PathCollection_8\">\r\n    <g>\r\n     <use style=\"fill:#ff7f0e;stroke:#ffffff;stroke-width:0.75;\" x=\"395.910417\" xlink:href=\"#m2c8386a6fb\" y=\"192.351562\"/>\r\n    </g>\r\n   </g>\r\n   <g id=\"text_24\">\r\n    <!-- 2 -->\r\n    <g transform=\"translate(413.910417 194.976562)scale(0.1 -0.1)\">\r\n     <use xlink:href=\"#DejaVuSans-50\"/>\r\n    </g>\r\n   </g>\r\n   <g id=\"PathCollection_9\">\r\n    <g>\r\n     <use style=\"fill:#2ca02c;stroke:#ffffff;stroke-width:0.75;\" x=\"395.910417\" xlink:href=\"#md512b9ce7b\" y=\"207.029687\"/>\r\n    </g>\r\n   </g>\r\n   <g id=\"text_25\">\r\n    <!-- 3 -->\r\n    <g transform=\"translate(413.910417 209.654687)scale(0.1 -0.1)\">\r\n     <use xlink:href=\"#DejaVuSans-51\"/>\r\n    </g>\r\n   </g>\r\n  </g>\r\n </g>\r\n <defs>\r\n  <clipPath id=\"p475c1664e4\">\r\n   <rect height=\"157.5\" width=\"146.022253\" x=\"234.651913\" y=\"7.2\"/>\r\n  </clipPath>\r\n  <clipPath id=\"p49170c1f1e\">\r\n   <rect height=\"157.5\" width=\"146.022253\" x=\"66.053125\" y=\"174.7\"/>\r\n  </clipPath>\r\n  <clipPath id=\"pb56e4b3e21\">\r\n   <rect height=\"157.5\" width=\"146.022253\" x=\"66.053125\" y=\"7.2\"/>\r\n  </clipPath>\r\n  <clipPath id=\"p8ed2292283\">\r\n   <rect height=\"157.5\" width=\"146.022253\" x=\"234.651913\" y=\"174.7\"/>\r\n  </clipPath>\r\n </defs>\r\n</svg>\r\n",
      "image/png": "[encoded data removed]"
     },
     "metadata": {
      "needs_background": "light"
     }
    }
   ],
   "source": [
    "columnas_seleccionadas=[\"confirmados\", \"fallecidos\"]\n",
    "plt.figure(figsize=(20,20))\n",
    "sns.pairplot(data=dataset_km_sub_concat, vars=columnas_seleccionadas, hue='cluster')"
   ]
  },
  {
   "source": [
    "### Análisis exploratorio de clusters   "
   ],
   "cell_type": "markdown",
   "metadata": {}
  },
  {
   "source": [
    "#### Cantidad de observaciones por cluster"
   ],
   "cell_type": "markdown",
   "metadata": {}
  },
  {
   "cell_type": "code",
   "execution_count": 176,
   "metadata": {},
   "outputs": [
    {
     "output_type": "execute_result",
     "data": {
      "text/plain": [
       "         observaciones\n",
       "cluster               \n",
       "1                   20\n",
       "2                    1\n",
       "3                    3"
      ],
      "text/html": "<div>\n<style scoped>\n    .dataframe tbody tr th:only-of-type {\n        vertical-align: middle;\n    }\n\n    .dataframe tbody tr th {\n        vertical-align: top;\n    }\n\n    .dataframe thead th {\n        text-align: right;\n    }\n</style>\n<table border=\"1\" class=\"dataframe\">\n  <thead>\n    <tr style=\"text-align: right;\">\n      <th></th>\n      <th>observaciones</th>\n    </tr>\n    <tr>\n      <th>cluster</th>\n      <th></th>\n    </tr>\n  </thead>\n  <tbody>\n    <tr>\n      <th>1</th>\n      <td>20</td>\n    </tr>\n    <tr>\n      <th>2</th>\n      <td>1</td>\n    </tr>\n    <tr>\n      <th>3</th>\n      <td>3</td>\n    </tr>\n  </tbody>\n</table>\n</div>"
     },
     "metadata": {},
     "execution_count": 176
    }
   ],
   "source": [
    "dataset_km_sub_concat_count = dataset_km_sub_concat.groupby(by=['cluster']).count()[['residencia_provincia_nombre']]\n",
    "dataset_km_sub_concat_count.columns = ['observaciones']\n",
    "dataset_km_sub_concat_count"
   ]
  },
  {
   "cell_type": "code",
   "execution_count": 186,
   "metadata": {},
   "outputs": [
    {
     "output_type": "execute_result",
     "data": {
      "text/plain": [
       "   residencia_provincia_nombre  confirmados  fallecidos  edad_promedio  \\\n",
       "2                    Catamarca          694           1      97.000000   \n",
       "3                        Chaco        12257         549      65.318761   \n",
       "4                       Chubut        13095         192      69.625000   \n",
       "5                   Corrientes         2419          47      67.787234   \n",
       "7                   Entre Ríos        14644         456      71.291667   \n",
       "8                      Formosa          143           3      64.333333   \n",
       "9                        Jujuy        16413         745      66.697581   \n",
       "10                    La Pampa         2807          54      71.648148   \n",
       "11                    La Rioja         7105         276      66.811594   \n",
       "12                     Mendoza        43806         987      72.209726   \n",
       "\n",
       "    cuidado_intensivo  asistencia_respiratoria_mecanica  cluster  \n",
       "2                  35                                10        1  \n",
       "3                 994                               435        1  \n",
       "4                 174                                77        1  \n",
       "5                  84                                45        1  \n",
       "7                 433                               164        1  \n",
       "8                  44                                26        1  \n",
       "9                 187                               116        1  \n",
       "10                 86                                39        1  \n",
       "11                122                                39        1  \n",
       "12                606                               305        1  "
      ],
      "text/html": "<div>\n<style scoped>\n    .dataframe tbody tr th:only-of-type {\n        vertical-align: middle;\n    }\n\n    .dataframe tbody tr th {\n        vertical-align: top;\n    }\n\n    .dataframe thead th {\n        text-align: right;\n    }\n</style>\n<table border=\"1\" class=\"dataframe\">\n  <thead>\n    <tr style=\"text-align: right;\">\n      <th></th>\n      <th>residencia_provincia_nombre</th>\n      <th>confirmados</th>\n      <th>fallecidos</th>\n      <th>edad_promedio</th>\n      <th>cuidado_intensivo</th>\n      <th>asistencia_respiratoria_mecanica</th>\n      <th>cluster</th>\n    </tr>\n  </thead>\n  <tbody>\n    <tr>\n      <th>2</th>\n      <td>Catamarca</td>\n      <td>694</td>\n      <td>1</td>\n      <td>97.000000</td>\n      <td>35</td>\n      <td>10</td>\n      <td>1</td>\n    </tr>\n    <tr>\n      <th>3</th>\n      <td>Chaco</td>\n      <td>12257</td>\n      <td>549</td>\n      <td>65.318761</td>\n      <td>994</td>\n      <td>435</td>\n      <td>1</td>\n    </tr>\n    <tr>\n      <th>4</th>\n      <td>Chubut</td>\n      <td>13095</td>\n      <td>192</td>\n      <td>69.625000</td>\n      <td>174</td>\n      <td>77</td>\n      <td>1</td>\n    </tr>\n    <tr>\n      <th>5</th>\n      <td>Corrientes</td>\n      <td>2419</td>\n      <td>47</td>\n      <td>67.787234</td>\n      <td>84</td>\n      <td>45</td>\n      <td>1</td>\n    </tr>\n    <tr>\n      <th>7</th>\n      <td>Entre Ríos</td>\n      <td>14644</td>\n      <td>456</td>\n      <td>71.291667</td>\n      <td>433</td>\n      <td>164</td>\n      <td>1</td>\n    </tr>\n    <tr>\n      <th>8</th>\n      <td>Formosa</td>\n      <td>143</td>\n      <td>3</td>\n      <td>64.333333</td>\n      <td>44</td>\n      <td>26</td>\n      <td>1</td>\n    </tr>\n    <tr>\n      <th>9</th>\n      <td>Jujuy</td>\n      <td>16413</td>\n      <td>745</td>\n      <td>66.697581</td>\n      <td>187</td>\n      <td>116</td>\n      <td>1</td>\n    </tr>\n    <tr>\n      <th>10</th>\n      <td>La Pampa</td>\n      <td>2807</td>\n      <td>54</td>\n      <td>71.648148</td>\n      <td>86</td>\n      <td>39</td>\n      <td>1</td>\n    </tr>\n    <tr>\n      <th>11</th>\n      <td>La Rioja</td>\n      <td>7105</td>\n      <td>276</td>\n      <td>66.811594</td>\n      <td>122</td>\n      <td>39</td>\n      <td>1</td>\n    </tr>\n    <tr>\n      <th>12</th>\n      <td>Mendoza</td>\n      <td>43806</td>\n      <td>987</td>\n      <td>72.209726</td>\n      <td>606</td>\n      <td>305</td>\n      <td>1</td>\n    </tr>\n  </tbody>\n</table>\n</div>"
     },
     "metadata": {},
     "execution_count": 186
    }
   ],
   "source": [
    "dataset_km_sub_concat[(dataset_km_sub_concat['cluster'] == 1)].head(10)"
   ]
  },
  {
   "cell_type": "code",
   "execution_count": 187,
   "metadata": {},
   "outputs": [
    {
     "output_type": "execute_result",
     "data": {
      "text/plain": [
       "  residencia_provincia_nombre  confirmados  fallecidos  edad_promedio  \\\n",
       "0                Buenos Aires       524923       19864      71.603023   \n",
       "\n",
       "   cuidado_intensivo  asistencia_respiratoria_mecanica  cluster  \n",
       "0              13726                              5320        2  "
      ],
      "text/html": "<div>\n<style scoped>\n    .dataframe tbody tr th:only-of-type {\n        vertical-align: middle;\n    }\n\n    .dataframe tbody tr th {\n        vertical-align: top;\n    }\n\n    .dataframe thead th {\n        text-align: right;\n    }\n</style>\n<table border=\"1\" class=\"dataframe\">\n  <thead>\n    <tr style=\"text-align: right;\">\n      <th></th>\n      <th>residencia_provincia_nombre</th>\n      <th>confirmados</th>\n      <th>fallecidos</th>\n      <th>edad_promedio</th>\n      <th>cuidado_intensivo</th>\n      <th>asistencia_respiratoria_mecanica</th>\n      <th>cluster</th>\n    </tr>\n  </thead>\n  <tbody>\n    <tr>\n      <th>0</th>\n      <td>Buenos Aires</td>\n      <td>524923</td>\n      <td>19864</td>\n      <td>71.603023</td>\n      <td>13726</td>\n      <td>5320</td>\n      <td>2</td>\n    </tr>\n  </tbody>\n</table>\n</div>"
     },
     "metadata": {},
     "execution_count": 187
    }
   ],
   "source": [
    "dataset_km_sub_concat[(dataset_km_sub_concat['cluster'] == 2)]"
   ]
  },
  {
   "cell_type": "code",
   "execution_count": null,
   "metadata": {},
   "outputs": [],
   "source": []
  },
  {
   "cell_type": "code",
   "execution_count": 188,
   "metadata": {},
   "outputs": [
    {
     "output_type": "execute_result",
     "data": {
      "text/plain": [
       "   residencia_provincia_nombre  confirmados  fallecidos  edad_promedio  \\\n",
       "1                         CABA       142120        5924      76.635641   \n",
       "6                      Córdoba        76510        1258      73.162957   \n",
       "20                    Santa Fe       100631        1338      73.343797   \n",
       "\n",
       "    cuidado_intensivo  asistencia_respiratoria_mecanica  cluster  \n",
       "1                5127                              2152        3  \n",
       "6                1933                               497        3  \n",
       "20               1473                               657        3  "
      ],
      "text/html": "<div>\n<style scoped>\n    .dataframe tbody tr th:only-of-type {\n        vertical-align: middle;\n    }\n\n    .dataframe tbody tr th {\n        vertical-align: top;\n    }\n\n    .dataframe thead th {\n        text-align: right;\n    }\n</style>\n<table border=\"1\" class=\"dataframe\">\n  <thead>\n    <tr style=\"text-align: right;\">\n      <th></th>\n      <th>residencia_provincia_nombre</th>\n      <th>confirmados</th>\n      <th>fallecidos</th>\n      <th>edad_promedio</th>\n      <th>cuidado_intensivo</th>\n      <th>asistencia_respiratoria_mecanica</th>\n      <th>cluster</th>\n    </tr>\n  </thead>\n  <tbody>\n    <tr>\n      <th>1</th>\n      <td>CABA</td>\n      <td>142120</td>\n      <td>5924</td>\n      <td>76.635641</td>\n      <td>5127</td>\n      <td>2152</td>\n      <td>3</td>\n    </tr>\n    <tr>\n      <th>6</th>\n      <td>Córdoba</td>\n      <td>76510</td>\n      <td>1258</td>\n      <td>73.162957</td>\n      <td>1933</td>\n      <td>497</td>\n      <td>3</td>\n    </tr>\n    <tr>\n      <th>20</th>\n      <td>Santa Fe</td>\n      <td>100631</td>\n      <td>1338</td>\n      <td>73.343797</td>\n      <td>1473</td>\n      <td>657</td>\n      <td>3</td>\n    </tr>\n  </tbody>\n</table>\n</div>"
     },
     "metadata": {},
     "execution_count": 188
    }
   ],
   "source": [
    "dataset_km_sub_concat[(dataset_km_sub_concat['cluster'] == 3)].head(4)"
   ]
  },
  {
   "cell_type": "code",
   "execution_count": null,
   "metadata": {},
   "outputs": [],
   "source": []
  }
 ]
}