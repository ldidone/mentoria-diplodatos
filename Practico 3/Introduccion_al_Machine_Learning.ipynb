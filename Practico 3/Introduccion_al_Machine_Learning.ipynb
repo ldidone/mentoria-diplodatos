{
 "cells": [
  {
   "cell_type": "markdown",
   "metadata": {
    "colab_type": "text",
    "id": "SanA_4G0y3mv"
   },
   "source": [
    "# DiploDatos 2020 - Coronavirus en Argentina"
   ]
  },
  {
   "cell_type": "markdown",
   "metadata": {
    "colab_type": "text",
    "id": "jPP96OjRCmUE"
   },
   "source": [
    "El dataset se encuetra en:\n",
    "\n",
    "https://github.com/lucia15/Datos-Covid19-Argentina"
   ]
  },
  {
   "cell_type": "code",
   "execution_count": 1,
   "metadata": {
    "colab": {
     "base_uri": "https://localhost:8080/",
     "height": 17
    },
    "colab_type": "code",
    "executionInfo": {
     "elapsed": 2272,
     "status": "ok",
     "timestamp": 1596131638141,
     "user": {
      "displayName": "Maria Lucia Pappaterra",
      "photoUrl": "",
      "userId": "02022975574182658400"
     },
     "user_tz": 180
    },
    "id": "zWT7m8VqM1pC",
    "outputId": "f353166a-2a62-41a2-b080-55a60f8d2afb"
   },
   "outputs": [
    {
     "data": {
      "text/html": [
       "<style>.container { width:90% !important; }</style>"
      ],
      "text/plain": [
       "<IPython.core.display.HTML object>"
      ]
     },
     "metadata": {},
     "output_type": "display_data"
    }
   ],
   "source": [
    "### Aumentar el ancho del notebook\n",
    "from IPython.core.display import display, HTML\n",
    "display(HTML(\"<style>.container { width:90% !important; }</style>\"))"
   ]
  },
  {
   "cell_type": "markdown",
   "metadata": {
    "colab_type": "text",
    "id": "lpOnWDm_y6rm"
   },
   "source": [
    "## Práctico Introducción al Machine Learning\n",
    "\n",
    "**Consigna:**\n",
    "\n",
    "Proponer un modelo de Aprendizaje Automático para estos datos. \n",
    "\n",
    "Para ello deberan explorar y probar varios modelos, buscando las configuraciones que mejores resultados den. Tener en cuenta:\n",
    "\n",
    "* Elección de la variable objetivo y features\n",
    "* Selección de un modelo\n",
    "* Ajuste de hiperparámetros \n",
    "* Evaluación"
   ]
  },
  {
   "cell_type": "markdown",
   "metadata": {
    "colab_type": "text",
    "id": "3m3osgN0Co99"
   },
   "source": [
    "Veamos unos sencillos (e incompletos) **ejemplos**."
   ]
  },
  {
   "cell_type": "markdown",
   "metadata": {
    "colab_type": "text",
    "id": "ll36j6ftM5OK"
   },
   "source": [
    "### Carga de datos"
   ]
  },
  {
   "cell_type": "code",
   "execution_count": 2,
   "metadata": {
    "colab": {},
    "colab_type": "code",
    "id": "nX4ZothRGYOz"
   },
   "outputs": [],
   "source": [
    "# Importamos librerías necesarias\n",
    "\n",
    "import pandas as pd\n",
    "import numpy as np\n",
    "import matplotlib.pyplot as plt"
   ]
  },
  {
   "cell_type": "code",
   "execution_count": 3,
   "metadata": {
    "colab": {},
    "colab_type": "code",
    "id": "cxroRU8gyv9b"
   },
   "outputs": [],
   "source": [
    "url = 'https://raw.githubusercontent.com/lucia15/Datos-Covid19-Argentina/master/Argentina-covid19.csv'\n",
    "\n",
    "data = pd.read_csv(url, error_bad_lines=False)"
   ]
  },
  {
   "cell_type": "markdown",
   "metadata": {
    "colab_type": "text",
    "id": "Xa7J6IhnQpGn"
   },
   "source": [
    "**Variable objetivo: 'casos_nuevos'**"
   ]
  },
  {
   "cell_type": "markdown",
   "metadata": {
    "colab_type": "text",
    "id": "1MSvQ8gBM_n4"
   },
   "source": [
    "Puesto que muchas de las variables presentes en el dataset son **series temporales**, es importante tener en cuenta que para aplicar modelos de aprendizaje supervisado, es necesario realizar algunas adaptaciones previamente.\n",
    "\n",
    "El siguiente método se conoce como **sliding window**."
   ]
  },
  {
   "cell_type": "code",
   "execution_count": 4,
   "metadata": {
    "colab": {
     "base_uri": "https://localhost:8080/",
     "height": 424
    },
    "colab_type": "code",
    "executionInfo": {
     "elapsed": 2245,
     "status": "ok",
     "timestamp": 1596131638146,
     "user": {
      "displayName": "Maria Lucia Pappaterra",
      "photoUrl": "",
      "userId": "02022975574182658400"
     },
     "user_tz": 180
    },
    "id": "eg6-xRAQ-vTT",
    "outputId": "6fac2272-f08a-4135-e5e6-583b7c3dbc3b"
   },
   "outputs": [
    {
     "data": {
      "text/html": [
       "<div>\n",
       "<style scoped>\n",
       "    .dataframe tbody tr th:only-of-type {\n",
       "        vertical-align: middle;\n",
       "    }\n",
       "\n",
       "    .dataframe tbody tr th {\n",
       "        vertical-align: top;\n",
       "    }\n",
       "\n",
       "    .dataframe thead th {\n",
       "        text-align: right;\n",
       "    }\n",
       "</style>\n",
       "<table border=\"1\" class=\"dataframe\">\n",
       "  <thead>\n",
       "    <tr style=\"text-align: right;\">\n",
       "      <th></th>\n",
       "      <th>t</th>\n",
       "      <th>t+1</th>\n",
       "      <th>casos_activos</th>\n",
       "      <th>casos_activos+1</th>\n",
       "    </tr>\n",
       "  </thead>\n",
       "  <tbody>\n",
       "    <tr>\n",
       "      <th>0</th>\n",
       "      <td>1</td>\n",
       "      <td>1.0</td>\n",
       "      <td>1.0</td>\n",
       "      <td>2.0</td>\n",
       "    </tr>\n",
       "    <tr>\n",
       "      <th>1</th>\n",
       "      <td>1</td>\n",
       "      <td>7.0</td>\n",
       "      <td>2.0</td>\n",
       "      <td>9.0</td>\n",
       "    </tr>\n",
       "    <tr>\n",
       "      <th>2</th>\n",
       "      <td>7</td>\n",
       "      <td>3.0</td>\n",
       "      <td>9.0</td>\n",
       "      <td>12.0</td>\n",
       "    </tr>\n",
       "    <tr>\n",
       "      <th>3</th>\n",
       "      <td>3</td>\n",
       "      <td>5.0</td>\n",
       "      <td>12.0</td>\n",
       "      <td>17.0</td>\n",
       "    </tr>\n",
       "    <tr>\n",
       "      <th>4</th>\n",
       "      <td>5</td>\n",
       "      <td>2.0</td>\n",
       "      <td>17.0</td>\n",
       "      <td>19.0</td>\n",
       "    </tr>\n",
       "    <tr>\n",
       "      <th>...</th>\n",
       "      <td>...</td>\n",
       "      <td>...</td>\n",
       "      <td>...</td>\n",
       "      <td>...</td>\n",
       "    </tr>\n",
       "    <tr>\n",
       "      <th>175</th>\n",
       "      <td>10104</td>\n",
       "      <td>11717.0</td>\n",
       "      <td>100127.0</td>\n",
       "      <td>104789.0</td>\n",
       "    </tr>\n",
       "    <tr>\n",
       "      <th>176</th>\n",
       "      <td>11717</td>\n",
       "      <td>9230.0</td>\n",
       "      <td>104789.0</td>\n",
       "      <td>107232.0</td>\n",
       "    </tr>\n",
       "    <tr>\n",
       "      <th>177</th>\n",
       "      <td>9230</td>\n",
       "      <td>7187.0</td>\n",
       "      <td>107232.0</td>\n",
       "      <td>107231.0</td>\n",
       "    </tr>\n",
       "    <tr>\n",
       "      <th>178</th>\n",
       "      <td>7187</td>\n",
       "      <td>9309.0</td>\n",
       "      <td>107231.0</td>\n",
       "      <td>NaN</td>\n",
       "    </tr>\n",
       "    <tr>\n",
       "      <th>179</th>\n",
       "      <td>9309</td>\n",
       "      <td>NaN</td>\n",
       "      <td>NaN</td>\n",
       "      <td>NaN</td>\n",
       "    </tr>\n",
       "  </tbody>\n",
       "</table>\n",
       "<p>180 rows × 4 columns</p>\n",
       "</div>"
      ],
      "text/plain": [
       "         t      t+1  casos_activos  casos_activos+1\n",
       "0        1      1.0            1.0              2.0\n",
       "1        1      7.0            2.0              9.0\n",
       "2        7      3.0            9.0             12.0\n",
       "3        3      5.0           12.0             17.0\n",
       "4        5      2.0           17.0             19.0\n",
       "..     ...      ...            ...              ...\n",
       "175  10104  11717.0       100127.0         104789.0\n",
       "176  11717   9230.0       104789.0         107232.0\n",
       "177   9230   7187.0       107232.0         107231.0\n",
       "178   7187   9309.0       107231.0              NaN\n",
       "179   9309      NaN            NaN              NaN\n",
       "\n",
       "[180 rows x 4 columns]"
      ]
     },
     "execution_count": 4,
     "metadata": {},
     "output_type": "execute_result"
    }
   ],
   "source": [
    "df = pd.DataFrame()\n",
    "\n",
    "df['t']   = data['casos_nuevos']\n",
    "df['t+1'] =  df['t'].shift(-1)\n",
    "df['casos_activos'] = data['casos_total']-data['alta_total']\n",
    "df['casos_activos+1'] = df['casos_activos'].shift(-1)\n",
    "\n",
    "df"
   ]
  },
  {
   "cell_type": "markdown",
   "metadata": {
    "colab_type": "text",
    "id": "R9F4xdJKEBkK"
   },
   "source": [
    "Tiramos la última fila que contiene un NaN"
   ]
  },
  {
   "cell_type": "code",
   "execution_count": 5,
   "metadata": {
    "colab": {},
    "colab_type": "code",
    "id": "g9yWpAbEFqLj"
   },
   "outputs": [],
   "source": [
    "df.drop(df.tail(1).index,inplace=True)"
   ]
  },
  {
   "cell_type": "code",
   "execution_count": 6,
   "metadata": {
    "colab": {
     "base_uri": "https://localhost:8080/",
     "height": 35
    },
    "colab_type": "code",
    "executionInfo": {
     "elapsed": 2230,
     "status": "ok",
     "timestamp": 1596131638149,
     "user": {
      "displayName": "Maria Lucia Pappaterra",
      "photoUrl": "",
      "userId": "02022975574182658400"
     },
     "user_tz": 180
    },
    "id": "VMXAnzfy-7iQ",
    "outputId": "8e0327ab-ecb8-4fb2-e9de-9785e970bfc4"
   },
   "outputs": [
    {
     "data": {
      "text/plain": [
       "((179,), (179,), (179,))"
      ]
     },
     "execution_count": 6,
     "metadata": {},
     "output_type": "execute_result"
    }
   ],
   "source": [
    "df['t'].shape, df['t+1'].shape, df['casos_activos'].shape"
   ]
  },
  {
   "cell_type": "markdown",
   "metadata": {
    "colab_type": "text",
    "id": "nxsbYTCzQfZB"
   },
   "source": [
    "Fuente: https://machinelearningmastery.com/convert-time-series-supervised-learning-problem-python/"
   ]
  },
  {
   "cell_type": "markdown",
   "metadata": {
    "colab_type": "text",
    "id": "eVFyf7WSDu7h"
   },
   "source": [
    "### División en etrenamiento y evaluación"
   ]
  },
  {
   "cell_type": "code",
   "execution_count": 7,
   "metadata": {
    "colab": {},
    "colab_type": "code",
    "id": "VRnwr5p1mM8Q"
   },
   "outputs": [],
   "source": [
    "from sklearn.model_selection import train_test_split"
   ]
  },
  {
   "cell_type": "code",
   "execution_count": 8,
   "metadata": {
    "colab": {
     "base_uri": "https://localhost:8080/",
     "height": 35
    },
    "colab_type": "code",
    "executionInfo": {
     "elapsed": 2496,
     "status": "ok",
     "timestamp": 1596131638433,
     "user": {
      "displayName": "Maria Lucia Pappaterra",
      "photoUrl": "",
      "userId": "02022975574182658400"
     },
     "user_tz": 180
    },
    "id": "jhwTujLaFLq3",
    "outputId": "b419e8a4-54d8-4406-f71e-8d49336cd468"
   },
   "outputs": [
    {
     "data": {
      "text/plain": [
       "((143, 1), (36, 1))"
      ]
     },
     "execution_count": 8,
     "metadata": {},
     "output_type": "execute_result"
    }
   ],
   "source": [
    "X, y = df['t'].to_numpy().reshape(-1,1), df['t+1'].to_numpy().reshape(-1,1)\n",
    "X_train, X_test, y_train, y_test = train_test_split(X, y, train_size=0.8, random_state=0)\n",
    "X_train.shape, X_test.shape"
   ]
  },
  {
   "cell_type": "code",
   "execution_count": 9,
   "metadata": {
    "colab": {
     "base_uri": "https://localhost:8080/",
     "height": 265
    },
    "colab_type": "code",
    "executionInfo": {
     "elapsed": 3522,
     "status": "ok",
     "timestamp": 1596131639472,
     "user": {
      "displayName": "Maria Lucia Pappaterra",
      "photoUrl": "",
      "userId": "02022975574182658400"
     },
     "user_tz": 180
    },
    "id": "Id0cbVBLFLt9",
    "outputId": "3d367dc7-8721-4570-8160-2602ba72d60c"
   },
   "outputs": [
    {
     "data": {
      "image/png": "[encoded data removed]",
      "text/plain": [
       "<Figure size 432x288 with 1 Axes>"
      ]
     },
     "metadata": {
      "needs_background": "light"
     },
     "output_type": "display_data"
    }
   ],
   "source": [
    "plt.scatter(X_train, y_train, color=\"blue\", label=\"train\")\n",
    "plt.scatter(X_test, y_test, color=\"white\", edgecolor=\"k\", label=\"test\")\n",
    "plt.legend()\n",
    "plt.show()"
   ]
  },
  {
   "cell_type": "markdown",
   "metadata": {
    "colab_type": "text",
    "id": "G_lAl5-jJ_Ey"
   },
   "source": [
    "### Regresión Lineal\n",
    "\n",
    "Probaremos ajustar los puntos usando una recta."
   ]
  },
  {
   "cell_type": "code",
   "execution_count": 10,
   "metadata": {
    "colab": {},
    "colab_type": "code",
    "id": "UmhsRYSll--s"
   },
   "outputs": [],
   "source": [
    "from sklearn import linear_model\n",
    "from sklearn.metrics import mean_squared_error, r2_score"
   ]
  },
  {
   "cell_type": "code",
   "execution_count": 11,
   "metadata": {
    "colab": {},
    "colab_type": "code",
    "id": "ApptLyw2FLws"
   },
   "outputs": [],
   "source": [
    "# Create linear regression object\n",
    "regr = linear_model.LinearRegression()"
   ]
  },
  {
   "cell_type": "code",
   "execution_count": 12,
   "metadata": {
    "colab": {},
    "colab_type": "code",
    "id": "iuIbxbK7FLyt"
   },
   "outputs": [],
   "source": [
    "# Train the model using the training sets\n",
    "regr.fit(X_train, y_train)\n",
    "\n",
    "# Make predictions using the testing set\n",
    "y_test_pred = regr.predict(X_test)\n",
    "\n",
    "# and training set\n",
    "y_train_pred = regr.predict(X_train)"
   ]
  },
  {
   "cell_type": "code",
   "execution_count": 13,
   "metadata": {
    "colab": {
     "base_uri": "https://localhost:8080/",
     "height": 160
    },
    "colab_type": "code",
    "executionInfo": {
     "elapsed": 3493,
     "status": "ok",
     "timestamp": 1596131639476,
     "user": {
      "displayName": "Maria Lucia Pappaterra",
      "photoUrl": "",
      "userId": "02022975574182658400"
     },
     "user_tz": 180
    },
    "id": "CkrKcGfsFL1j",
    "outputId": "c79e839a-df32-4ea1-dc5b-86c3b7b517ad"
   },
   "outputs": [
    {
     "name": "stdout",
     "output_type": "stream",
     "text": [
      "Coefficients: \n",
      " [[0.99052329]]\n",
      "Mean squared error\n",
      "Train error: 404438.79\n",
      "Test error: 603599.62\n",
      "Coefficient of determination\n",
      "Train: 0.94\n",
      "Test: 0.94\n"
     ]
    }
   ],
   "source": [
    "# The coefficients\n",
    "print('Coefficients: \\n', regr.coef_)\n",
    "\n",
    "# The mean squared error\n",
    "train_error = mean_squared_error(y_train, y_train_pred)\n",
    "test_error = mean_squared_error(y_test, y_test_pred)\n",
    "\n",
    "print('Mean squared error')\n",
    "\n",
    "print('Train error: %.2f' % train_error)\n",
    "print('Test error: %.2f' % test_error)\n",
    "\n",
    "# The coefficient of determination: 1 is perfect prediction\n",
    "\n",
    "train_coeff = r2_score(y_train, y_train_pred)\n",
    "test_coeff = r2_score(y_test, y_test_pred)\n",
    "\n",
    "print('Coefficient of determination')\n",
    "\n",
    "print('Train: %.2f' % train_coeff)\n",
    "print('Test: %.2f' % test_coeff)"
   ]
  },
  {
   "cell_type": "code",
   "execution_count": 14,
   "metadata": {
    "colab": {
     "base_uri": "https://localhost:8080/",
     "height": 265
    },
    "colab_type": "code",
    "executionInfo": {
     "elapsed": 811,
     "status": "ok",
     "timestamp": 1596131665154,
     "user": {
      "displayName": "Maria Lucia Pappaterra",
      "photoUrl": "",
      "userId": "02022975574182658400"
     },
     "user_tz": 180
    },
    "id": "5uXF6qt0KoHG",
    "outputId": "ffae5280-0378-44db-c3d3-fdb087c85f8b"
   },
   "outputs": [
    {
     "data": {
      "image/png": "[encoded data removed]",
      "text/plain": [
       "<Figure size 432x288 with 1 Axes>"
      ]
     },
     "metadata": {
      "needs_background": "light"
     },
     "output_type": "display_data"
    }
   ],
   "source": [
    "# Plot outputs\n",
    "plt.scatter(X_test, y_test,  color='white', edgecolor='k', label='test')\n",
    "plt.scatter(X_train, y_train,  color='blue', label='train')\n",
    "plt.plot(X_train, y_train_pred, color='red', label='model')\n",
    "plt.legend()\n",
    "plt.show()"
   ]
  },
  {
   "cell_type": "markdown",
   "metadata": {},
   "source": [
    "### Regresión casos nuevos versus casos activos"
   ]
  },
  {
   "cell_type": "code",
   "execution_count": 15,
   "metadata": {},
   "outputs": [],
   "source": [
    "df = df.dropna()"
   ]
  },
  {
   "cell_type": "code",
   "execution_count": 16,
   "metadata": {
    "colab": {
     "base_uri": "https://localhost:8080/",
     "height": 35
    },
    "colab_type": "code",
    "executionInfo": {
     "elapsed": 2496,
     "status": "ok",
     "timestamp": 1596131638433,
     "user": {
      "displayName": "Maria Lucia Pappaterra",
      "photoUrl": "",
      "userId": "02022975574182658400"
     },
     "user_tz": 180
    },
    "id": "jhwTujLaFLq3",
    "outputId": "b419e8a4-54d8-4406-f71e-8d49336cd468"
   },
   "outputs": [
    {
     "data": {
      "text/plain": [
       "((130, 1), (33, 1))"
      ]
     },
     "execution_count": 16,
     "metadata": {},
     "output_type": "execute_result"
    }
   ],
   "source": [
    "X, y = df['t'].to_numpy().reshape(-1,1), df['casos_activos'].to_numpy().reshape(-1,1)\n",
    "X_train, X_test, y_train, y_test = train_test_split(X, y, train_size=0.8, random_state=0)\n",
    "X_train.shape, X_test.shape"
   ]
  },
  {
   "cell_type": "code",
   "execution_count": 17,
   "metadata": {
    "colab": {
     "base_uri": "https://localhost:8080/",
     "height": 265
    },
    "colab_type": "code",
    "executionInfo": {
     "elapsed": 3522,
     "status": "ok",
     "timestamp": 1596131639472,
     "user": {
      "displayName": "Maria Lucia Pappaterra",
      "photoUrl": "",
      "userId": "02022975574182658400"
     },
     "user_tz": 180
    },
    "id": "Id0cbVBLFLt9",
    "outputId": "3d367dc7-8721-4570-8160-2602ba72d60c"
   },
   "outputs": [
    {
     "data": {
      "image/png": "[encoded data removed]",
      "text/plain": [
       "<Figure size 432x288 with 1 Axes>"
      ]
     },
     "metadata": {
      "needs_background": "light"
     },
     "output_type": "display_data"
    }
   ],
   "source": [
    "plt.scatter(X_train, y_train, color=\"blue\", label=\"train\")\n",
    "plt.scatter(X_test, y_test, color=\"white\", edgecolor=\"k\", label=\"test\")\n",
    "plt.legend()\n",
    "plt.show()"
   ]
  },
  {
   "cell_type": "markdown",
   "metadata": {
    "colab_type": "text",
    "id": "G_lAl5-jJ_Ey"
   },
   "source": [
    "### Regresión Lineal\n",
    "\n",
    "Probaremos ajustar los puntos usando una recta."
   ]
  },
  {
   "cell_type": "code",
   "execution_count": 18,
   "metadata": {
    "colab": {},
    "colab_type": "code",
    "id": "ApptLyw2FLws"
   },
   "outputs": [],
   "source": [
    "# Create linear regression object\n",
    "regr = linear_model.LinearRegression()"
   ]
  },
  {
   "cell_type": "code",
   "execution_count": 19,
   "metadata": {
    "colab": {},
    "colab_type": "code",
    "id": "iuIbxbK7FLyt"
   },
   "outputs": [],
   "source": [
    "# Train the model using the training sets\n",
    "regr.fit(X_train, y_train)\n",
    "\n",
    "# Make predictions using the testing set\n",
    "y_test_pred = regr.predict(X_test)\n",
    "\n",
    "# and training set\n",
    "y_train_pred = regr.predict(X_train)"
   ]
  },
  {
   "cell_type": "code",
   "execution_count": 20,
   "metadata": {
    "colab": {
     "base_uri": "https://localhost:8080/",
     "height": 160
    },
    "colab_type": "code",
    "executionInfo": {
     "elapsed": 3493,
     "status": "ok",
     "timestamp": 1596131639476,
     "user": {
      "displayName": "Maria Lucia Pappaterra",
      "photoUrl": "",
      "userId": "02022975574182658400"
     },
     "user_tz": 180
    },
    "id": "CkrKcGfsFL1j",
    "outputId": "c79e839a-df32-4ea1-dc5b-86c3b7b517ad"
   },
   "outputs": [
    {
     "name": "stdout",
     "output_type": "stream",
     "text": [
      "Coefficients: \n",
      " [[12.28497407]]\n",
      "Mean squared error\n",
      "Train error: 155675462.88\n",
      "Test error: 196857774.46\n",
      "Coefficient of determination\n",
      "Train: 0.88\n",
      "Test: 0.86\n"
     ]
    }
   ],
   "source": [
    "# The coefficients\n",
    "print('Coefficients: \\n', regr.coef_)\n",
    "\n",
    "# The mean squared error\n",
    "train_error = mean_squared_error(y_train, y_train_pred)\n",
    "test_error = mean_squared_error(y_test, y_test_pred)\n",
    "\n",
    "print('Mean squared error')\n",
    "\n",
    "print('Train error: %.2f' % train_error)\n",
    "print('Test error: %.2f' % test_error)\n",
    "\n",
    "# The coefficient of determination: 1 is perfect prediction\n",
    "\n",
    "train_coeff = r2_score(y_train, y_train_pred)\n",
    "test_coeff = r2_score(y_test, y_test_pred)\n",
    "\n",
    "print('Coefficient of determination')\n",
    "\n",
    "print('Train: %.2f' % train_coeff)\n",
    "print('Test: %.2f' % test_coeff)"
   ]
  },
  {
   "cell_type": "code",
   "execution_count": 21,
   "metadata": {
    "colab": {
     "base_uri": "https://localhost:8080/",
     "height": 265
    },
    "colab_type": "code",
    "executionInfo": {
     "elapsed": 811,
     "status": "ok",
     "timestamp": 1596131665154,
     "user": {
      "displayName": "Maria Lucia Pappaterra",
      "photoUrl": "",
      "userId": "02022975574182658400"
     },
     "user_tz": 180
    },
    "id": "5uXF6qt0KoHG",
    "outputId": "ffae5280-0378-44db-c3d3-fdb087c85f8b"
   },
   "outputs": [
    {
     "data": {
      "image/png": "[encoded data removed]",
      "text/plain": [
       "<Figure size 432x288 with 1 Axes>"
      ]
     },
     "metadata": {
      "needs_background": "light"
     },
     "output_type": "display_data"
    }
   ],
   "source": [
    "# Plot outputs\n",
    "plt.scatter(X_test, y_test,  color='white', edgecolor='k', label='test')\n",
    "plt.scatter(X_train, y_train,  color='blue', label='train')\n",
    "plt.plot(X_train, y_train_pred, color='red', label='model')\n",
    "plt.legend()\n",
    "plt.show()"
   ]
  },
  {
   "cell_type": "markdown",
   "metadata": {},
   "source": [
    "#### Regresión promediando n días"
   ]
  },
  {
   "cell_type": "code",
   "execution_count": 22,
   "metadata": {},
   "outputs": [
    {
     "data": {
      "text/plain": [
       "(59, 59)"
      ]
     },
     "execution_count": 22,
     "metadata": {},
     "output_type": "execute_result"
    }
   ],
   "source": [
    "n = 3\n",
    "\n",
    "casos_t  = [ data['casos_nuevos'][q:q+2].mean() for q in range(0,len(data['casos_nuevos'])-2*n+1,n) ]\n",
    "casos_t1 = [ data['casos_nuevos'][q:q+2].mean() for q in range(n,len(data['casos_nuevos'])-n+1,n)   ]\n",
    "\n",
    "len(casos_t),len(casos_t1)"
   ]
  },
  {
   "cell_type": "code",
   "execution_count": 23,
   "metadata": {},
   "outputs": [],
   "source": [
    "df3 = pd.DataFrame()\n",
    "\n",
    "n = 3\n",
    "\n",
    "df3['t']   = [ data['casos_nuevos'][q:q+2].mean() for q in range(0,len(data['casos_nuevos'])-2*n+1,n) ]\n",
    "df3['t+1'] = [ data['casos_nuevos'][q:q+2].mean() for q in range(n,len(data['casos_nuevos'])-n+1,n)   ]"
   ]
  },
  {
   "cell_type": "code",
   "execution_count": 24,
   "metadata": {},
   "outputs": [],
   "source": [
    "df7 = pd.DataFrame()\n",
    "\n",
    "n = 7\n",
    "\n",
    "df7['t']   = [ df['t'][q:q+2].mean() for q in range(0,len(df['t'])-2*n+1,n) ]\n",
    "df7['t+1'] = [ df['t'][q:q+2].mean() for q in range(n,len(df['t'])-n+1,n)   ]\n",
    "df7['casos_activos']   = [ df['casos_activos'][q:q+2].mean() for q in range(0,len(df['casos_activos'])-2*n+1,n) ]"
   ]
  },
  {
   "cell_type": "code",
   "execution_count": 25,
   "metadata": {},
   "outputs": [],
   "source": [
    "df5 = pd.DataFrame()\n",
    "\n",
    "n = 5\n",
    "\n",
    "df5['t']   = [ data['casos_nuevos'][q:q+2].mean() for q in range(0,len(data['casos_nuevos'])-2*n+1,n) ]\n",
    "df5['t+1'] = [ data['casos_nuevos'][q:q+2].mean() for q in range(n,len(data['casos_nuevos'])-n+1,n)   ]"
   ]
  },
  {
   "cell_type": "code",
   "execution_count": 26,
   "metadata": {},
   "outputs": [
    {
     "data": {
      "text/plain": [
       "[<matplotlib.lines.Line2D at 0x7f618ffb09d0>]"
      ]
     },
     "execution_count": 26,
     "metadata": {},
     "output_type": "execute_result"
    },
    {
     "data": {
      "image/png": "[encoded data removed]",
      "text/plain": [
       "<Figure size 432x288 with 1 Axes>"
      ]
     },
     "metadata": {
      "needs_background": "light"
     },
     "output_type": "display_data"
    }
   ],
   "source": [
    "plt.plot(df['t'],df['t+1'],'x')\n",
    "plt.plot(df3['t'],df3['t+1'],'x')\n",
    "plt.plot(df5['t'],df5['t+1'],'x')\n",
    "plt.plot(df7['t'],df7['t+1'],'x-')"
   ]
  },
  {
   "cell_type": "code",
   "execution_count": 27,
   "metadata": {},
   "outputs": [
    {
     "data": {
      "text/plain": [
       "[<matplotlib.lines.Line2D at 0x7f619403e110>]"
      ]
     },
     "execution_count": 27,
     "metadata": {},
     "output_type": "execute_result"
    },
    {
     "data": {
      "image/png": "[encoded data removed]",
      "text/plain": [
       "<Figure size 432x288 with 1 Axes>"
      ]
     },
     "metadata": {
      "needs_background": "light"
     },
     "output_type": "display_data"
    }
   ],
   "source": [
    "plt.plot(df7['t'],df7['casos_activos'],'x-')\n",
    "plt.plot(df7['t+1'],df7['casos_activos'],'x-')"
   ]
  },
  {
   "cell_type": "markdown",
   "metadata": {},
   "source": [
    "##### n = 3"
   ]
  },
  {
   "cell_type": "code",
   "execution_count": 58,
   "metadata": {},
   "outputs": [
    {
     "data": {
      "text/plain": [
       "((41, 1), (18, 1))"
      ]
     },
     "execution_count": 58,
     "metadata": {},
     "output_type": "execute_result"
    }
   ],
   "source": [
    "X, y = df3['t'].to_numpy().reshape(-1,1), df3['t+1'].to_numpy().reshape(-1,1)\n",
    "X_train, X_test, y_train, y_test = train_test_split(X, y, train_size=0.7, random_state=42)\n",
    "X_train.shape, X_test.shape"
   ]
  },
  {
   "cell_type": "code",
   "execution_count": 59,
   "metadata": {},
   "outputs": [],
   "source": [
    "# Create linear regression object\n",
    "regr3 = linear_model.LinearRegression()\n",
    "\n",
    "# Train the model using the training sets\n",
    "regr3.fit(X_train, y_train)\n",
    "\n",
    "# Make predictions using the testing set\n",
    "y_test_pred = regr3.predict(X_test)\n",
    "\n",
    "# and training set\n",
    "y_train_pred = regr3.predict(X_train)"
   ]
  },
  {
   "cell_type": "code",
   "execution_count": 60,
   "metadata": {},
   "outputs": [
    {
     "name": "stdout",
     "output_type": "stream",
     "text": [
      "Coefficients: \n",
      " [[0.94197394]]\n",
      "Mean squared error\n",
      "Train error: 667236.14\n",
      "Test error: 1010749.55\n",
      "Coefficient of determination\n",
      "Train: 0.90\n",
      "Test: 0.89\n"
     ]
    }
   ],
   "source": [
    "# The coefficients\n",
    "print('Coefficients: \\n', regr3.coef_)\n",
    "\n",
    "# The mean squared error\n",
    "train_error = mean_squared_error(y_train, y_train_pred)\n",
    "test_error = mean_squared_error(y_test, y_test_pred)\n",
    "\n",
    "print('Mean squared error')\n",
    "\n",
    "print('Train error: %.2f' % train_error)\n",
    "print('Test error: %.2f' % test_error)\n",
    "\n",
    "# The coefficient of determination: 1 is perfect prediction\n",
    "\n",
    "train_coeff = r2_score(y_train, y_train_pred)\n",
    "test_coeff = r2_score(y_test, y_test_pred)\n",
    "\n",
    "print('Coefficient of determination')\n",
    "\n",
    "print('Train: %.2f' % train_coeff)\n",
    "print('Test: %.2f' % test_coeff)"
   ]
  },
  {
   "cell_type": "code",
   "execution_count": 61,
   "metadata": {},
   "outputs": [
    {
     "data": {
      "image/png": "[encoded data removed]",
      "text/plain": [
       "<Figure size 432x288 with 1 Axes>"
      ]
     },
     "metadata": {
      "needs_background": "light"
     },
     "output_type": "display_data"
    }
   ],
   "source": [
    "# Plot outputs\n",
    "plt.scatter(X_test, y_test,  color='white', edgecolor='k', label='test')\n",
    "plt.scatter(X_train, y_train,  color='blue', label='train')\n",
    "plt.plot(X_train, y_train_pred, color='red', label='model')\n",
    "plt.legend()\n",
    "plt.show()"
   ]
  },
  {
   "cell_type": "markdown",
   "metadata": {},
   "source": [
    "##### n = 5"
   ]
  },
  {
   "cell_type": "code",
   "execution_count": 62,
   "metadata": {},
   "outputs": [
    {
     "data": {
      "text/plain": [
       "((28, 1), (7, 1))"
      ]
     },
     "execution_count": 62,
     "metadata": {},
     "output_type": "execute_result"
    }
   ],
   "source": [
    "X, y = df5['t'].to_numpy().reshape(-1,1), df5['t+1'].to_numpy().reshape(-1,1)\n",
    "X_train, X_test, y_train, y_test = train_test_split(X, y, train_size=0.8, random_state=0)\n",
    "X_train.shape, X_test.shape"
   ]
  },
  {
   "cell_type": "code",
   "execution_count": 63,
   "metadata": {},
   "outputs": [],
   "source": [
    "# Create linear regression object\n",
    "regr5 = linear_model.LinearRegression()\n",
    "\n",
    "# Train the model using the training sets\n",
    "regr5.fit(X_train, y_train)\n",
    "\n",
    "# Make predictions using the testing set\n",
    "y_test_pred = regr5.predict(X_test)\n",
    "\n",
    "# and training set\n",
    "y_train_pred = regr5.predict(X_train)"
   ]
  },
  {
   "cell_type": "code",
   "execution_count": 64,
   "metadata": {},
   "outputs": [
    {
     "name": "stdout",
     "output_type": "stream",
     "text": [
      "Coefficients: \n",
      " [[1.15790885]]\n",
      "Mean squared error\n",
      "Train error: 876643.29\n",
      "Test error: 640110.27\n",
      "Coefficient of determination\n",
      "Train: 0.90\n",
      "Test: 0.85\n"
     ]
    }
   ],
   "source": [
    "# The coefficients\n",
    "print('Coefficients: \\n', regr5.coef_)\n",
    "\n",
    "# The mean squared error\n",
    "train_error = mean_squared_error(y_train, y_train_pred)\n",
    "test_error = mean_squared_error(y_test, y_test_pred)\n",
    "\n",
    "print('Mean squared error')\n",
    "\n",
    "print('Train error: %.2f' % train_error)\n",
    "print('Test error: %.2f' % test_error)\n",
    "\n",
    "# The coefficient of determination: 1 is perfect prediction\n",
    "\n",
    "train_coeff = r2_score(y_train, y_train_pred)\n",
    "test_coeff = r2_score(y_test, y_test_pred)\n",
    "\n",
    "print('Coefficient of determination')\n",
    "\n",
    "print('Train: %.2f' % train_coeff)\n",
    "print('Test: %.2f' % test_coeff)"
   ]
  },
  {
   "cell_type": "code",
   "execution_count": 65,
   "metadata": {},
   "outputs": [
    {
     "data": {
      "image/png": "[encoded data removed]",
      "text/plain": [
       "<Figure size 432x288 with 1 Axes>"
      ]
     },
     "metadata": {
      "needs_background": "light"
     },
     "output_type": "display_data"
    }
   ],
   "source": [
    "# Plot outputs\n",
    "plt.scatter(X_test, y_test,  color='white', edgecolor='k', label='test')\n",
    "plt.scatter(X_train, y_train,  color='blue', label='train')\n",
    "plt.plot(X_train, y_train_pred, color='red', label='model')\n",
    "plt.legend()\n",
    "plt.show()"
   ]
  },
  {
   "cell_type": "markdown",
   "metadata": {},
   "source": [
    "##### n = 7"
   ]
  },
  {
   "cell_type": "code",
   "execution_count": 66,
   "metadata": {},
   "outputs": [
    {
     "data": {
      "text/plain": [
       "((17, 1), (5, 1))"
      ]
     },
     "execution_count": 66,
     "metadata": {},
     "output_type": "execute_result"
    }
   ],
   "source": [
    "X, y = df7['t'].to_numpy().reshape(-1,1), df7['t+1'].to_numpy().reshape(-1,1)\n",
    "X_train, X_test, y_train, y_test = train_test_split(X, y, train_size=0.8, random_state=0)\n",
    "X_train.shape, X_test.shape"
   ]
  },
  {
   "cell_type": "code",
   "execution_count": 67,
   "metadata": {},
   "outputs": [],
   "source": [
    "# Create linear regression object\n",
    "regr7 = linear_model.LinearRegression()\n",
    "\n",
    "# Train the model using the training sets\n",
    "regr7.fit(X_train, y_train)\n",
    "\n",
    "# Make predictions using the testing set\n",
    "y_test_pred = regr7.predict(X_test)\n",
    "\n",
    "# and training set\n",
    "y_train_pred = regr7.predict(X_train)"
   ]
  },
  {
   "cell_type": "code",
   "execution_count": 68,
   "metadata": {},
   "outputs": [
    {
     "name": "stdout",
     "output_type": "stream",
     "text": [
      "Coefficients: \n",
      " [[1.15703456]]\n",
      "Mean squared error\n",
      "Train error: 247273.80\n",
      "Test error: 676205.93\n",
      "Coefficient of determination\n",
      "Train: 0.97\n",
      "Test: 0.86\n"
     ]
    }
   ],
   "source": [
    "# The coefficients\n",
    "print('Coefficients: \\n', regr7.coef_)\n",
    "\n",
    "# The mean squared error\n",
    "train_error = mean_squared_error(y_train, y_train_pred)\n",
    "test_error = mean_squared_error(y_test, y_test_pred)\n",
    "\n",
    "print('Mean squared error')\n",
    "\n",
    "print('Train error: %.2f' % train_error)\n",
    "print('Test error: %.2f' % test_error)\n",
    "\n",
    "# The coefficient of determination: 1 is perfect prediction\n",
    "\n",
    "train_coeff = r2_score(y_train, y_train_pred)\n",
    "test_coeff = r2_score(y_test, y_test_pred)\n",
    "\n",
    "print('Coefficient of determination')\n",
    "\n",
    "print('Train: %.2f' % train_coeff)\n",
    "print('Test: %.2f' % test_coeff)"
   ]
  },
  {
   "cell_type": "code",
   "execution_count": 69,
   "metadata": {},
   "outputs": [
    {
     "data": {
      "image/png": "[encoded data removed]",
      "text/plain": [
       "<Figure size 432x288 with 1 Axes>"
      ]
     },
     "metadata": {
      "needs_background": "light"
     },
     "output_type": "display_data"
    }
   ],
   "source": [
    "# Plot outputs\n",
    "plt.scatter(X_test, y_test,  color='white', edgecolor='k', label='test')\n",
    "plt.scatter(X_train, y_train,  color='blue', label='train')\n",
    "plt.plot(X_train, y_train_pred, color='red', label='model')\n",
    "plt.legend()\n",
    "plt.show()"
   ]
  },
  {
   "cell_type": "code",
   "execution_count": 70,
   "metadata": {},
   "outputs": [
    {
     "data": {
      "text/plain": [
       "(59, 59)"
      ]
     },
     "execution_count": 70,
     "metadata": {},
     "output_type": "execute_result"
    }
   ],
   "source": [
    "n = 3\n",
    "\n",
    "casos_t  = [ data['casos_nuevos'][q:q+2].mean() for q in range(0,len(data['casos_nuevos'])-2*n+1,n) ]\n",
    "casos_t1 = [ data['casos_nuevos'][q:q+2].mean() for q in range(n,len(data['casos_nuevos'])-n+1,n)   ]\n",
    "\n",
    "len(casos_t),len(casos_t1)"
   ]
  },
  {
   "cell_type": "markdown",
   "metadata": {},
   "source": [
    "### Casos activos versus casos nuevos"
   ]
  },
  {
   "cell_type": "code",
   "execution_count": 76,
   "metadata": {},
   "outputs": [
    {
     "data": {
      "text/plain": [
       "((17, 1), (5, 1))"
      ]
     },
     "execution_count": 76,
     "metadata": {},
     "output_type": "execute_result"
    }
   ],
   "source": [
    "X, y = df7['t'].to_numpy().reshape(-1,1), df7['casos_activos'].to_numpy().reshape(-1,1)\n",
    "X_train, X_test, y_train, y_test = train_test_split(X, y, train_size=0.8, random_state=0)\n",
    "X_train.shape, X_test.shape"
   ]
  },
  {
   "cell_type": "code",
   "execution_count": 77,
   "metadata": {},
   "outputs": [],
   "source": [
    "# Create linear regression object\n",
    "regr7 = linear_model.LinearRegression()\n",
    "\n",
    "# Train the model using the training sets\n",
    "regr7.fit(X_train, y_train)\n",
    "\n",
    "# Make predictions using the testing set\n",
    "y_test_pred = regr7.predict(X_test)\n",
    "\n",
    "# and training set\n",
    "y_train_pred = regr7.predict(X_train)"
   ]
  },
  {
   "cell_type": "code",
   "execution_count": 78,
   "metadata": {},
   "outputs": [
    {
     "name": "stdout",
     "output_type": "stream",
     "text": [
      "Coefficients: \n",
      " [[14.42766764]]\n",
      "Mean squared error\n",
      "Train error: 60485538.18\n",
      "Test error: 6952471.15\n",
      "Coefficient of determination\n",
      "Train: 0.95\n",
      "Test: 0.99\n"
     ]
    }
   ],
   "source": [
    "# The coefficients\n",
    "print('Coefficients: \\n', regr7.coef_)\n",
    "\n",
    "# The mean squared error\n",
    "train_error = mean_squared_error(y_train, y_train_pred)\n",
    "test_error = mean_squared_error(y_test, y_test_pred)\n",
    "\n",
    "print('Mean squared error')\n",
    "\n",
    "print('Train error: %.2f' % train_error)\n",
    "print('Test error: %.2f' % test_error)\n",
    "\n",
    "# The coefficient of determination: 1 is perfect prediction\n",
    "\n",
    "train_coeff = r2_score(y_train, y_train_pred)\n",
    "test_coeff = r2_score(y_test, y_test_pred)\n",
    "\n",
    "print('Coefficient of determination')\n",
    "\n",
    "print('Train: %.2f' % train_coeff)\n",
    "print('Test: %.2f' % test_coeff)"
   ]
  },
  {
   "cell_type": "code",
   "execution_count": 79,
   "metadata": {},
   "outputs": [
    {
     "data": {
      "image/png": "[encoded data removed]",
      "text/plain": [
       "<Figure size 432x288 with 1 Axes>"
      ]
     },
     "metadata": {
      "needs_background": "light"
     },
     "output_type": "display_data"
    }
   ],
   "source": [
    "# Plot outputs\n",
    "plt.scatter(X_test, y_test,  color='white', edgecolor='k', label='test')\n",
    "plt.scatter(X_train, y_train,  color='blue', label='train')\n",
    "plt.plot(X_train, y_train_pred, color='red', label='model')\n",
    "plt.legend()\n",
    "plt.show()"
   ]
  },
  {
   "cell_type": "code",
   "execution_count": 80,
   "metadata": {},
   "outputs": [
    {
     "data": {
      "text/plain": [
       "((17, 1), (5, 1))"
      ]
     },
     "execution_count": 80,
     "metadata": {},
     "output_type": "execute_result"
    }
   ],
   "source": [
    "X, y = df7['t+1'].to_numpy().reshape(-1,1), df7['casos_activos'].to_numpy().reshape(-1,1)\n",
    "X_train, X_test, y_train, y_test = train_test_split(X, y, train_size=0.8, random_state=0)\n",
    "X_train.shape, X_test.shape"
   ]
  },
  {
   "cell_type": "code",
   "execution_count": 81,
   "metadata": {},
   "outputs": [],
   "source": [
    "# Create linear regression object\n",
    "regr7 = linear_model.LinearRegression()\n",
    "\n",
    "# Train the model using the training sets\n",
    "regr7.fit(X_train, y_train)\n",
    "\n",
    "# Make predictions using the testing set\n",
    "y_test_pred = regr7.predict(X_test)\n",
    "\n",
    "# and training set\n",
    "y_train_pred = regr7.predict(X_train)"
   ]
  },
  {
   "cell_type": "code",
   "execution_count": 82,
   "metadata": {},
   "outputs": [
    {
     "name": "stdout",
     "output_type": "stream",
     "text": [
      "Coefficients: \n",
      " [[12.20364974]]\n",
      "Mean squared error\n",
      "Train error: 69701575.64\n",
      "Test error: 94809677.39\n",
      "Coefficient of determination\n",
      "Train: 0.94\n",
      "Test: 0.92\n"
     ]
    }
   ],
   "source": [
    "# The coefficients\n",
    "print('Coefficients: \\n', regr7.coef_)\n",
    "\n",
    "# The mean squared error\n",
    "train_error = mean_squared_error(y_train, y_train_pred)\n",
    "test_error = mean_squared_error(y_test, y_test_pred)\n",
    "\n",
    "print('Mean squared error')\n",
    "\n",
    "print('Train error: %.2f' % train_error)\n",
    "print('Test error: %.2f' % test_error)\n",
    "\n",
    "# The coefficient of determination: 1 is perfect prediction\n",
    "\n",
    "train_coeff = r2_score(y_train, y_train_pred)\n",
    "test_coeff = r2_score(y_test, y_test_pred)\n",
    "\n",
    "print('Coefficient of determination')\n",
    "\n",
    "print('Train: %.2f' % train_coeff)\n",
    "print('Test: %.2f' % test_coeff)"
   ]
  },
  {
   "cell_type": "code",
   "execution_count": 83,
   "metadata": {},
   "outputs": [
    {
     "data": {
      "image/png": "[encoded data removed]",
      "text/plain": [
       "<Figure size 432x288 with 1 Axes>"
      ]
     },
     "metadata": {
      "needs_background": "light"
     },
     "output_type": "display_data"
    }
   ],
   "source": [
    "# Plot outputs\n",
    "plt.scatter(X_test, y_test,  color='white', edgecolor='k', label='test')\n",
    "plt.scatter(X_train, y_train,  color='blue', label='train')\n",
    "plt.plot(X_train, y_train_pred, color='red', label='model')\n",
    "plt.legend()\n",
    "plt.show()"
   ]
  },
  {
   "cell_type": "markdown",
   "metadata": {},
   "source": [
    "### Rt??? casos nuevos / casos activos"
   ]
  },
  {
   "cell_type": "code",
   "execution_count": 84,
   "metadata": {},
   "outputs": [],
   "source": [
    "df_r = pd.DataFrame()\n",
    "\n",
    "df_r['t_days']        = [ (pd.to_datetime(fecha) - pd.to_datetime(data['fecha'][0])).days for fecha in data['fecha'] ]\n",
    "df_r['casos_activos'] = df['casos_activos']\n",
    "df_r['diff']          = df['casos_activos+1'] - df['casos_activos']\n",
    "df_r['activos/t']     = df['casos_activos']/df['t']\n",
    "df_r = df_r.dropna()"
   ]
  },
  {
   "cell_type": "code",
   "execution_count": 85,
   "metadata": {},
   "outputs": [],
   "source": [
    "def Ones(x):\n",
    "    return np.ones(len(x))\n",
    "\n",
    "def times(x):\n",
    "    return np.arange(1,len(x)+1,1)"
   ]
  },
  {
   "cell_type": "code",
   "execution_count": 86,
   "metadata": {},
   "outputs": [
    {
     "data": {
      "text/plain": [
       "[<matplotlib.lines.Line2D at 0x7f6194163a90>]"
      ]
     },
     "execution_count": 86,
     "metadata": {},
     "output_type": "execute_result"
    },
    {
     "data": {
      "image/png": "[encoded data removed]",
      "text/plain": [
       "<Figure size 432x288 with 1 Axes>"
      ]
     },
     "metadata": {
      "needs_background": "light"
     },
     "output_type": "display_data"
    }
   ],
   "source": [
    "df_r = df_r.dropna()\n",
    "\n",
    "\n",
    "plt.plot(df_r['t_days'],df_r['activos/t'], 'x')\n",
    "plt.plot(df_r['t_days'],Ones(df_r['t_days']))"
   ]
  },
  {
   "cell_type": "code",
   "execution_count": 87,
   "metadata": {},
   "outputs": [
    {
     "data": {
      "text/plain": [
       "<matplotlib.legend.Legend at 0x7f619406fa90>"
      ]
     },
     "execution_count": 87,
     "metadata": {},
     "output_type": "execute_result"
    },
    {
     "data": {
      "image/png": "[encoded data removed]",
      "text/plain": [
       "<Figure size 432x288 with 1 Axes>"
      ]
     },
     "metadata": {
      "needs_background": "light"
     },
     "output_type": "display_data"
    }
   ],
   "source": [
    "plt.plot(times(df['t']),df['t'])\n",
    "plt.plot(times(df['casos_activos']),df['casos_activos'], label='activos')\n",
    "plt.plot(times(data['casos_total']),data['casos_total'],label='casos')\n",
    "plt.plot(times(data['alta_total']),data['alta_total'],label='altas')\n",
    "plt.plot(times(data['muertes_total']),data['muertes_total'],label='muertes')\n",
    "plt.legend()"
   ]
  },
  {
   "cell_type": "markdown",
   "metadata": {},
   "source": [
    "### Regresión polinomial"
   ]
  },
  {
   "cell_type": "code",
   "execution_count": 94,
   "metadata": {},
   "outputs": [],
   "source": [
    "from sklearn.linear_model import LinearRegression\n",
    "from sklearn.preprocessing import PolynomialFeatures\n",
    "from sklearn.pipeline import make_pipeline"
   ]
  },
  {
   "cell_type": "code",
   "execution_count": 95,
   "metadata": {},
   "outputs": [],
   "source": [
    "df = pd.DataFrame()\n",
    "\n",
    "df['casos_nuevos']   = data['casos_nuevos']\n",
    "df['casos_activos']  = data['casos_total']-data['alta_total']\n",
    "df['t_days']         = [ (pd.to_datetime(fecha) - pd.to_datetime(data['fecha'][0])).days for fecha in data['fecha'] ]\n",
    "df['tests_nuevos']   = data['tests_realizados_nuevos']\n",
    "df['tests_total']    = data['tests_realizados_total']\n",
    "df['muertes_nuevos']    = data['muertes_nuevos']\n",
    "df = df.dropna()\n",
    "#df"
   ]
  },
  {
   "cell_type": "code",
   "execution_count": 96,
   "metadata": {},
   "outputs": [
    {
     "data": {
      "text/plain": [
       "720"
      ]
     },
     "execution_count": 96,
     "metadata": {},
     "output_type": "execute_result"
    }
   ],
   "source": [
    "select = df.keys()\n",
    "select = select.drop('casos_nuevos')\n",
    "len(df[select].to_numpy().reshape(-1,1))"
   ]
  },
  {
   "cell_type": "code",
   "execution_count": 97,
   "metadata": {},
   "outputs": [
    {
     "data": {
      "text/plain": [
       "((115, 5), (29, 5), (115, 1), (29, 1))"
      ]
     },
     "execution_count": 97,
     "metadata": {},
     "output_type": "execute_result"
    }
   ],
   "source": [
    "y, X = df['muertes_nuevos'].to_numpy().reshape(-1,1), df[select].to_numpy().reshape(-1,len(select))\n",
    "X_train, X_test, y_train, y_test = train_test_split(X, y, train_size=0.8, random_state=0)\n",
    "X_train.shape, X_test.shape, y_train.shape, y_test.shape"
   ]
  },
  {
   "cell_type": "code",
   "execution_count": 98,
   "metadata": {},
   "outputs": [
    {
     "name": "stdout",
     "output_type": "stream",
     "text": [
      "degree \t train err \t test err\n",
      "1 \t 0.0 \t\t 0.0\n",
      "2 \t 0.0 \t\t 0.0\n",
      "3 \t 0.91 \t\t 42.07\n",
      "4 \t 19.54 \t\t 6934.47\n",
      "5 \t 3.29 \t\t 162644.1\n",
      "6 \t 3.37 \t\t 1145083.59\n",
      "7 \t 12.79 \t\t 121395491.61\n",
      "8 \t 32.11 \t\t 49719027.85\n",
      "9 \t 1359.48 \t\t 44740977.29\n"
     ]
    }
   ],
   "source": [
    "train_errors = []\n",
    "test_errors = []\n",
    "degrees = range(1,10)\n",
    "print( 'degree', '\\t', 'train err', '\\t', 'test err' )\n",
    "\n",
    "for degree in degrees:\n",
    "    # train:\n",
    "    model = make_pipeline(PolynomialFeatures(degree), LinearRegression())\n",
    "    model.fit(X_train, y_train)\n",
    "    \n",
    "    # predict:\n",
    "    y_train_pred = model.predict(X_train)\n",
    "    y_test_pred = model.predict(X_test)\n",
    "    \n",
    "    # evaluate:\n",
    "    train_error = mean_squared_error(y_train, y_train_pred)\n",
    "    test_error = mean_squared_error(y_test, y_test_pred)\n",
    "    train_errors.append(train_error)\n",
    "    test_errors.append(test_error)\n",
    "    \n",
    "    print( degree, '\\t', train_error.round(2), '\\t\\t', test_error.round(2) )"
   ]
  },
  {
   "cell_type": "code",
   "execution_count": 99,
   "metadata": {},
   "outputs": [
    {
     "data": {
      "image/png": "[encoded data removed]",
      "text/plain": [
       "<Figure size 432x288 with 1 Axes>"
      ]
     },
     "metadata": {
      "needs_background": "light"
     },
     "output_type": "display_data"
    }
   ],
   "source": [
    "d = 3\n",
    "plt.plot(degrees[:d], train_errors[:d], color=\"blue\", label=\"train\")\n",
    "plt.plot(degrees[:d], test_errors[:d], color=\"red\", label=\"test\")\n",
    "plt.legend()\n",
    "plt.xlabel(\"degree\")\n",
    "plt.ylabel(\"error\")\n",
    "plt.show()"
   ]
  },
  {
   "cell_type": "markdown",
   "metadata": {
    "colab_type": "text",
    "id": "PAIApzaUUzCA"
   },
   "source": [
    "### Clasificación"
   ]
  },
  {
   "cell_type": "code",
   "execution_count": 15,
   "metadata": {
    "colab": {},
    "colab_type": "code",
    "id": "8eBnTLQsU0-k"
   },
   "outputs": [],
   "source": [
    "url = 'https://raw.githubusercontent.com/lucia15/Datos-Covid19-Argentina/master/Argentina-covid19-fallecidos.csv'\n",
    "\n",
    "data = pd.read_csv(url, error_bad_lines=False)"
   ]
  },
  {
   "cell_type": "code",
   "execution_count": 16,
   "metadata": {
    "colab": {
     "base_uri": "https://localhost:8080/",
     "height": 424
    },
    "colab_type": "code",
    "executionInfo": {
     "elapsed": 710,
     "status": "ok",
     "timestamp": 1596131883986,
     "user": {
      "displayName": "Maria Lucia Pappaterra",
      "photoUrl": "",
      "userId": "02022975574182658400"
     },
     "user_tz": 180
    },
    "id": "b6fAo8GnVZXu",
    "outputId": "b4b0d492-dd37-4278-9a16-7522594a983c"
   },
   "outputs": [
    {
     "data": {
      "text/html": [
       "<div>\n",
       "<style scoped>\n",
       "    .dataframe tbody tr th:only-of-type {\n",
       "        vertical-align: middle;\n",
       "    }\n",
       "\n",
       "    .dataframe tbody tr th {\n",
       "        vertical-align: top;\n",
       "    }\n",
       "\n",
       "    .dataframe thead th {\n",
       "        text-align: right;\n",
       "    }\n",
       "</style>\n",
       "<table border=\"1\" class=\"dataframe\">\n",
       "  <thead>\n",
       "    <tr style=\"text-align: right;\">\n",
       "      <th></th>\n",
       "      <th>provincia</th>\n",
       "      <th>genero</th>\n",
       "      <th>edad</th>\n",
       "    </tr>\n",
       "  </thead>\n",
       "  <tbody>\n",
       "    <tr>\n",
       "      <th>0</th>\n",
       "      <td>CABA</td>\n",
       "      <td>hombre</td>\n",
       "      <td>64.0</td>\n",
       "    </tr>\n",
       "    <tr>\n",
       "      <th>1</th>\n",
       "      <td>Chaco</td>\n",
       "      <td>hombre</td>\n",
       "      <td>61.0</td>\n",
       "    </tr>\n",
       "    <tr>\n",
       "      <th>2</th>\n",
       "      <td>CABA</td>\n",
       "      <td>hombre</td>\n",
       "      <td>64.0</td>\n",
       "    </tr>\n",
       "    <tr>\n",
       "      <th>3</th>\n",
       "      <td>Buenos Aires</td>\n",
       "      <td>mujer</td>\n",
       "      <td>67.0</td>\n",
       "    </tr>\n",
       "    <tr>\n",
       "      <th>5</th>\n",
       "      <td>Chaco</td>\n",
       "      <td>hombre</td>\n",
       "      <td>53.0</td>\n",
       "    </tr>\n",
       "    <tr>\n",
       "      <th>...</th>\n",
       "      <td>...</td>\n",
       "      <td>...</td>\n",
       "      <td>...</td>\n",
       "    </tr>\n",
       "    <tr>\n",
       "      <th>2277</th>\n",
       "      <td>Río Negro</td>\n",
       "      <td>hombre</td>\n",
       "      <td>87.0</td>\n",
       "    </tr>\n",
       "    <tr>\n",
       "      <th>2278</th>\n",
       "      <td>Buenos Aires</td>\n",
       "      <td>mujer</td>\n",
       "      <td>74.0</td>\n",
       "    </tr>\n",
       "    <tr>\n",
       "      <th>2279</th>\n",
       "      <td>Buenos Aires</td>\n",
       "      <td>mujer</td>\n",
       "      <td>61.0</td>\n",
       "    </tr>\n",
       "    <tr>\n",
       "      <th>2280</th>\n",
       "      <td>Buenos Aires</td>\n",
       "      <td>mujer</td>\n",
       "      <td>64.0</td>\n",
       "    </tr>\n",
       "    <tr>\n",
       "      <th>2281</th>\n",
       "      <td>Buenos Aires</td>\n",
       "      <td>mujer</td>\n",
       "      <td>67.0</td>\n",
       "    </tr>\n",
       "  </tbody>\n",
       "</table>\n",
       "<p>2254 rows × 3 columns</p>\n",
       "</div>"
      ],
      "text/plain": [
       "         provincia  genero  edad\n",
       "0             CABA  hombre  64.0\n",
       "1            Chaco  hombre  61.0\n",
       "2             CABA  hombre  64.0\n",
       "3     Buenos Aires   mujer  67.0\n",
       "5            Chaco  hombre  53.0\n",
       "...            ...     ...   ...\n",
       "2277     Río Negro  hombre  87.0\n",
       "2278  Buenos Aires   mujer  74.0\n",
       "2279  Buenos Aires   mujer  61.0\n",
       "2280  Buenos Aires   mujer  64.0\n",
       "2281  Buenos Aires   mujer  67.0\n",
       "\n",
       "[2254 rows x 3 columns]"
      ]
     },
     "execution_count": 16,
     "metadata": {},
     "output_type": "execute_result"
    }
   ],
   "source": [
    "data = data.drop(columns=['fecha', 'num_caso', 'tipo_caso', 'comorbilidades', 'viajes', 'observaciones'])\n",
    "\n",
    "data = data.dropna()\n",
    "\n",
    "data"
   ]
  },
  {
   "cell_type": "markdown",
   "metadata": {
    "colab_type": "text",
    "id": "1pHaGTi0ZTYg"
   },
   "source": [
    "Tenemos 17 provincias:"
   ]
  },
  {
   "cell_type": "code",
   "execution_count": 17,
   "metadata": {
    "colab": {
     "base_uri": "https://localhost:8080/",
     "height": 71
    },
    "colab_type": "code",
    "executionInfo": {
     "elapsed": 895,
     "status": "ok",
     "timestamp": 1596131885962,
     "user": {
      "displayName": "Maria Lucia Pappaterra",
      "photoUrl": "",
      "userId": "02022975574182658400"
     },
     "user_tz": 180
    },
    "id": "-d9MO6b1ZJCY",
    "outputId": "f7524a8e-3326-47b2-bf1f-11c5b2c891c1"
   },
   "outputs": [
    {
     "name": "stdout",
     "output_type": "stream",
     "text": [
      "['CABA' 'Chaco' 'Buenos Aires' 'Tucumán' 'Neuquén' 'La Rioja' 'Córdoba'\n",
      " 'Santa Fe' 'Mendoza' 'Río Negro' 'Misiones' 'Chubut' 'Jujuy'\n",
      " 'Tierra del Fuego' 'Salta' 'Entre Ríos' 'Corrientes']\n"
     ]
    }
   ],
   "source": [
    "print(data['provincia'].unique())"
   ]
  },
  {
   "cell_type": "markdown",
   "metadata": {
    "colab_type": "text",
    "id": "MdXVmk1PniDK"
   },
   "source": [
    "Como se trata de una **variable categórica**, en la cuál no hay una relación de orden entre las categorías, necesitamos aplicar un **One Hot Encoding**"
   ]
  },
  {
   "cell_type": "code",
   "execution_count": 18,
   "metadata": {
    "colab": {
     "base_uri": "https://localhost:8080/",
     "height": 461
    },
    "colab_type": "code",
    "executionInfo": {
     "elapsed": 671,
     "status": "ok",
     "timestamp": 1596131889191,
     "user": {
      "displayName": "Maria Lucia Pappaterra",
      "photoUrl": "",
      "userId": "02022975574182658400"
     },
     "user_tz": 180
    },
    "id": "H1jyb5Be3dTb",
    "outputId": "c98c7351-5730-42ea-a1fc-8c09f7c64c7d"
   },
   "outputs": [
    {
     "data": {
      "text/html": [
       "<div>\n",
       "<style scoped>\n",
       "    .dataframe tbody tr th:only-of-type {\n",
       "        vertical-align: middle;\n",
       "    }\n",
       "\n",
       "    .dataframe tbody tr th {\n",
       "        vertical-align: top;\n",
       "    }\n",
       "\n",
       "    .dataframe thead th {\n",
       "        text-align: right;\n",
       "    }\n",
       "</style>\n",
       "<table border=\"1\" class=\"dataframe\">\n",
       "  <thead>\n",
       "    <tr style=\"text-align: right;\">\n",
       "      <th></th>\n",
       "      <th>genero</th>\n",
       "      <th>edad</th>\n",
       "      <th>provincia_Buenos Aires</th>\n",
       "      <th>provincia_CABA</th>\n",
       "      <th>provincia_Chaco</th>\n",
       "      <th>provincia_Chubut</th>\n",
       "      <th>provincia_Corrientes</th>\n",
       "      <th>provincia_Córdoba</th>\n",
       "      <th>provincia_Entre Ríos</th>\n",
       "      <th>provincia_Jujuy</th>\n",
       "      <th>provincia_La Rioja</th>\n",
       "      <th>provincia_Mendoza</th>\n",
       "      <th>provincia_Misiones</th>\n",
       "      <th>provincia_Neuquén</th>\n",
       "      <th>provincia_Río Negro</th>\n",
       "      <th>provincia_Salta</th>\n",
       "      <th>provincia_Santa Fe</th>\n",
       "      <th>provincia_Tierra del Fuego</th>\n",
       "      <th>provincia_Tucumán</th>\n",
       "    </tr>\n",
       "  </thead>\n",
       "  <tbody>\n",
       "    <tr>\n",
       "      <th>0</th>\n",
       "      <td>hombre</td>\n",
       "      <td>64.0</td>\n",
       "      <td>0</td>\n",
       "      <td>1</td>\n",
       "      <td>0</td>\n",
       "      <td>0</td>\n",
       "      <td>0</td>\n",
       "      <td>0</td>\n",
       "      <td>0</td>\n",
       "      <td>0</td>\n",
       "      <td>0</td>\n",
       "      <td>0</td>\n",
       "      <td>0</td>\n",
       "      <td>0</td>\n",
       "      <td>0</td>\n",
       "      <td>0</td>\n",
       "      <td>0</td>\n",
       "      <td>0</td>\n",
       "      <td>0</td>\n",
       "    </tr>\n",
       "    <tr>\n",
       "      <th>1</th>\n",
       "      <td>hombre</td>\n",
       "      <td>61.0</td>\n",
       "      <td>0</td>\n",
       "      <td>0</td>\n",
       "      <td>1</td>\n",
       "      <td>0</td>\n",
       "      <td>0</td>\n",
       "      <td>0</td>\n",
       "      <td>0</td>\n",
       "      <td>0</td>\n",
       "      <td>0</td>\n",
       "      <td>0</td>\n",
       "      <td>0</td>\n",
       "      <td>0</td>\n",
       "      <td>0</td>\n",
       "      <td>0</td>\n",
       "      <td>0</td>\n",
       "      <td>0</td>\n",
       "      <td>0</td>\n",
       "    </tr>\n",
       "    <tr>\n",
       "      <th>2</th>\n",
       "      <td>hombre</td>\n",
       "      <td>64.0</td>\n",
       "      <td>0</td>\n",
       "      <td>1</td>\n",
       "      <td>0</td>\n",
       "      <td>0</td>\n",
       "      <td>0</td>\n",
       "      <td>0</td>\n",
       "      <td>0</td>\n",
       "      <td>0</td>\n",
       "      <td>0</td>\n",
       "      <td>0</td>\n",
       "      <td>0</td>\n",
       "      <td>0</td>\n",
       "      <td>0</td>\n",
       "      <td>0</td>\n",
       "      <td>0</td>\n",
       "      <td>0</td>\n",
       "      <td>0</td>\n",
       "    </tr>\n",
       "    <tr>\n",
       "      <th>3</th>\n",
       "      <td>mujer</td>\n",
       "      <td>67.0</td>\n",
       "      <td>1</td>\n",
       "      <td>0</td>\n",
       "      <td>0</td>\n",
       "      <td>0</td>\n",
       "      <td>0</td>\n",
       "      <td>0</td>\n",
       "      <td>0</td>\n",
       "      <td>0</td>\n",
       "      <td>0</td>\n",
       "      <td>0</td>\n",
       "      <td>0</td>\n",
       "      <td>0</td>\n",
       "      <td>0</td>\n",
       "      <td>0</td>\n",
       "      <td>0</td>\n",
       "      <td>0</td>\n",
       "      <td>0</td>\n",
       "    </tr>\n",
       "    <tr>\n",
       "      <th>5</th>\n",
       "      <td>hombre</td>\n",
       "      <td>53.0</td>\n",
       "      <td>0</td>\n",
       "      <td>0</td>\n",
       "      <td>1</td>\n",
       "      <td>0</td>\n",
       "      <td>0</td>\n",
       "      <td>0</td>\n",
       "      <td>0</td>\n",
       "      <td>0</td>\n",
       "      <td>0</td>\n",
       "      <td>0</td>\n",
       "      <td>0</td>\n",
       "      <td>0</td>\n",
       "      <td>0</td>\n",
       "      <td>0</td>\n",
       "      <td>0</td>\n",
       "      <td>0</td>\n",
       "      <td>0</td>\n",
       "    </tr>\n",
       "    <tr>\n",
       "      <th>...</th>\n",
       "      <td>...</td>\n",
       "      <td>...</td>\n",
       "      <td>...</td>\n",
       "      <td>...</td>\n",
       "      <td>...</td>\n",
       "      <td>...</td>\n",
       "      <td>...</td>\n",
       "      <td>...</td>\n",
       "      <td>...</td>\n",
       "      <td>...</td>\n",
       "      <td>...</td>\n",
       "      <td>...</td>\n",
       "      <td>...</td>\n",
       "      <td>...</td>\n",
       "      <td>...</td>\n",
       "      <td>...</td>\n",
       "      <td>...</td>\n",
       "      <td>...</td>\n",
       "      <td>...</td>\n",
       "    </tr>\n",
       "    <tr>\n",
       "      <th>2277</th>\n",
       "      <td>hombre</td>\n",
       "      <td>87.0</td>\n",
       "      <td>0</td>\n",
       "      <td>0</td>\n",
       "      <td>0</td>\n",
       "      <td>0</td>\n",
       "      <td>0</td>\n",
       "      <td>0</td>\n",
       "      <td>0</td>\n",
       "      <td>0</td>\n",
       "      <td>0</td>\n",
       "      <td>0</td>\n",
       "      <td>0</td>\n",
       "      <td>0</td>\n",
       "      <td>1</td>\n",
       "      <td>0</td>\n",
       "      <td>0</td>\n",
       "      <td>0</td>\n",
       "      <td>0</td>\n",
       "    </tr>\n",
       "    <tr>\n",
       "      <th>2278</th>\n",
       "      <td>mujer</td>\n",
       "      <td>74.0</td>\n",
       "      <td>1</td>\n",
       "      <td>0</td>\n",
       "      <td>0</td>\n",
       "      <td>0</td>\n",
       "      <td>0</td>\n",
       "      <td>0</td>\n",
       "      <td>0</td>\n",
       "      <td>0</td>\n",
       "      <td>0</td>\n",
       "      <td>0</td>\n",
       "      <td>0</td>\n",
       "      <td>0</td>\n",
       "      <td>0</td>\n",
       "      <td>0</td>\n",
       "      <td>0</td>\n",
       "      <td>0</td>\n",
       "      <td>0</td>\n",
       "    </tr>\n",
       "    <tr>\n",
       "      <th>2279</th>\n",
       "      <td>mujer</td>\n",
       "      <td>61.0</td>\n",
       "      <td>1</td>\n",
       "      <td>0</td>\n",
       "      <td>0</td>\n",
       "      <td>0</td>\n",
       "      <td>0</td>\n",
       "      <td>0</td>\n",
       "      <td>0</td>\n",
       "      <td>0</td>\n",
       "      <td>0</td>\n",
       "      <td>0</td>\n",
       "      <td>0</td>\n",
       "      <td>0</td>\n",
       "      <td>0</td>\n",
       "      <td>0</td>\n",
       "      <td>0</td>\n",
       "      <td>0</td>\n",
       "      <td>0</td>\n",
       "    </tr>\n",
       "    <tr>\n",
       "      <th>2280</th>\n",
       "      <td>mujer</td>\n",
       "      <td>64.0</td>\n",
       "      <td>1</td>\n",
       "      <td>0</td>\n",
       "      <td>0</td>\n",
       "      <td>0</td>\n",
       "      <td>0</td>\n",
       "      <td>0</td>\n",
       "      <td>0</td>\n",
       "      <td>0</td>\n",
       "      <td>0</td>\n",
       "      <td>0</td>\n",
       "      <td>0</td>\n",
       "      <td>0</td>\n",
       "      <td>0</td>\n",
       "      <td>0</td>\n",
       "      <td>0</td>\n",
       "      <td>0</td>\n",
       "      <td>0</td>\n",
       "    </tr>\n",
       "    <tr>\n",
       "      <th>2281</th>\n",
       "      <td>mujer</td>\n",
       "      <td>67.0</td>\n",
       "      <td>1</td>\n",
       "      <td>0</td>\n",
       "      <td>0</td>\n",
       "      <td>0</td>\n",
       "      <td>0</td>\n",
       "      <td>0</td>\n",
       "      <td>0</td>\n",
       "      <td>0</td>\n",
       "      <td>0</td>\n",
       "      <td>0</td>\n",
       "      <td>0</td>\n",
       "      <td>0</td>\n",
       "      <td>0</td>\n",
       "      <td>0</td>\n",
       "      <td>0</td>\n",
       "      <td>0</td>\n",
       "      <td>0</td>\n",
       "    </tr>\n",
       "  </tbody>\n",
       "</table>\n",
       "<p>2254 rows × 19 columns</p>\n",
       "</div>"
      ],
      "text/plain": [
       "      genero  edad  provincia_Buenos Aires  provincia_CABA  provincia_Chaco  \\\n",
       "0     hombre  64.0                       0               1                0   \n",
       "1     hombre  61.0                       0               0                1   \n",
       "2     hombre  64.0                       0               1                0   \n",
       "3      mujer  67.0                       1               0                0   \n",
       "5     hombre  53.0                       0               0                1   \n",
       "...      ...   ...                     ...             ...              ...   \n",
       "2277  hombre  87.0                       0               0                0   \n",
       "2278   mujer  74.0                       1               0                0   \n",
       "2279   mujer  61.0                       1               0                0   \n",
       "2280   mujer  64.0                       1               0                0   \n",
       "2281   mujer  67.0                       1               0                0   \n",
       "\n",
       "      provincia_Chubut  provincia_Corrientes  provincia_Córdoba  \\\n",
       "0                    0                     0                  0   \n",
       "1                    0                     0                  0   \n",
       "2                    0                     0                  0   \n",
       "3                    0                     0                  0   \n",
       "5                    0                     0                  0   \n",
       "...                ...                   ...                ...   \n",
       "2277                 0                     0                  0   \n",
       "2278                 0                     0                  0   \n",
       "2279                 0                     0                  0   \n",
       "2280                 0                     0                  0   \n",
       "2281                 0                     0                  0   \n",
       "\n",
       "      provincia_Entre Ríos  provincia_Jujuy  provincia_La Rioja  \\\n",
       "0                        0                0                   0   \n",
       "1                        0                0                   0   \n",
       "2                        0                0                   0   \n",
       "3                        0                0                   0   \n",
       "5                        0                0                   0   \n",
       "...                    ...              ...                 ...   \n",
       "2277                     0                0                   0   \n",
       "2278                     0                0                   0   \n",
       "2279                     0                0                   0   \n",
       "2280                     0                0                   0   \n",
       "2281                     0                0                   0   \n",
       "\n",
       "      provincia_Mendoza  provincia_Misiones  provincia_Neuquén  \\\n",
       "0                     0                   0                  0   \n",
       "1                     0                   0                  0   \n",
       "2                     0                   0                  0   \n",
       "3                     0                   0                  0   \n",
       "5                     0                   0                  0   \n",
       "...                 ...                 ...                ...   \n",
       "2277                  0                   0                  0   \n",
       "2278                  0                   0                  0   \n",
       "2279                  0                   0                  0   \n",
       "2280                  0                   0                  0   \n",
       "2281                  0                   0                  0   \n",
       "\n",
       "      provincia_Río Negro  provincia_Salta  provincia_Santa Fe  \\\n",
       "0                       0                0                   0   \n",
       "1                       0                0                   0   \n",
       "2                       0                0                   0   \n",
       "3                       0                0                   0   \n",
       "5                       0                0                   0   \n",
       "...                   ...              ...                 ...   \n",
       "2277                    1                0                   0   \n",
       "2278                    0                0                   0   \n",
       "2279                    0                0                   0   \n",
       "2280                    0                0                   0   \n",
       "2281                    0                0                   0   \n",
       "\n",
       "      provincia_Tierra del Fuego  provincia_Tucumán  \n",
       "0                              0                  0  \n",
       "1                              0                  0  \n",
       "2                              0                  0  \n",
       "3                              0                  0  \n",
       "5                              0                  0  \n",
       "...                          ...                ...  \n",
       "2277                           0                  0  \n",
       "2278                           0                  0  \n",
       "2279                           0                  0  \n",
       "2280                           0                  0  \n",
       "2281                           0                  0  \n",
       "\n",
       "[2254 rows x 19 columns]"
      ]
     },
     "execution_count": 18,
     "metadata": {},
     "output_type": "execute_result"
    }
   ],
   "source": [
    "data = pd.concat([data, pd.get_dummies(data['provincia'], prefix='provincia')],axis=1).drop(['provincia'], axis=1)\n",
    "\n",
    "data"
   ]
  },
  {
   "cell_type": "markdown",
   "metadata": {
    "colab_type": "text",
    "id": "m2T-ZWtbET0X"
   },
   "source": [
    "### Selección de features y variable objetivo\n",
    "\n",
    "**variable objetivo: 'genero'**"
   ]
  },
  {
   "cell_type": "code",
   "execution_count": 19,
   "metadata": {
    "colab": {},
    "colab_type": "code",
    "id": "zOpH6lBqqeY9"
   },
   "outputs": [],
   "source": [
    "feature_names = ['provincia_Buenos Aires', 'provincia_CABA', 'provincia_Chaco', 'provincia_Chubut', 'provincia_Corrientes', 'provincia_Córdoba', 'provincia_Entre Ríos', 'provincia_Jujuy', 'provincia_La Rioja', \n",
    "                 'provincia_Mendoza', 'provincia_Misiones', 'provincia_Neuquén', 'provincia_Río Negro', 'provincia_Salta', 'provincia_Santa Fe', 'provincia_Tierra del Fuego', 'provincia_Tucumán', 'edad']\n",
    "\n",
    "X = data[feature_names]\n",
    "y = data['genero']"
   ]
  },
  {
   "cell_type": "code",
   "execution_count": 20,
   "metadata": {
    "colab": {
     "base_uri": "https://localhost:8080/",
     "height": 35
    },
    "colab_type": "code",
    "executionInfo": {
     "elapsed": 946,
     "status": "ok",
     "timestamp": 1596134506293,
     "user": {
      "displayName": "Maria Lucia Pappaterra",
      "photoUrl": "",
      "userId": "02022975574182658400"
     },
     "user_tz": 180
    },
    "id": "ON-pHu6qB5U0",
    "outputId": "91a3c72b-9c49-4d9e-e6fe-fd420807d7e6"
   },
   "outputs": [
    {
     "data": {
      "text/plain": [
       "((2254, 18), (2254,))"
      ]
     },
     "execution_count": 20,
     "metadata": {},
     "output_type": "execute_result"
    }
   ],
   "source": [
    "X.shape, y.shape"
   ]
  },
  {
   "cell_type": "markdown",
   "metadata": {
    "colab_type": "text",
    "id": "9t71G0zsEuxZ"
   },
   "source": [
    "### División en etrenamiento y evaluación"
   ]
  },
  {
   "cell_type": "code",
   "execution_count": 21,
   "metadata": {
    "colab": {},
    "colab_type": "code",
    "id": "tIF7GePIqemR"
   },
   "outputs": [],
   "source": [
    "X_train, X_test, y_train, y_test = train_test_split(X, y, random_state=0)"
   ]
  },
  {
   "cell_type": "code",
   "execution_count": 22,
   "metadata": {
    "colab": {
     "base_uri": "https://localhost:8080/",
     "height": 35
    },
    "colab_type": "code",
    "executionInfo": {
     "elapsed": 862,
     "status": "ok",
     "timestamp": 1596134534193,
     "user": {
      "displayName": "Maria Lucia Pappaterra",
      "photoUrl": "",
      "userId": "02022975574182658400"
     },
     "user_tz": 180
    },
    "id": "YBMtybu3BxCL",
    "outputId": "42e92fa8-b0b1-441f-8e8a-42b707bda500"
   },
   "outputs": [
    {
     "data": {
      "text/plain": [
       "((1690, 18), (564, 18), (1690,), (564,))"
      ]
     },
     "execution_count": 22,
     "metadata": {},
     "output_type": "execute_result"
    }
   ],
   "source": [
    "X_train.shape, X_test.shape, y_train.shape, y_test.shape"
   ]
  },
  {
   "cell_type": "markdown",
   "metadata": {
    "colab_type": "text",
    "id": "aylcVwD2lkQ9"
   },
   "source": [
    "### Logistic Regression"
   ]
  },
  {
   "cell_type": "code",
   "execution_count": 23,
   "metadata": {
    "colab": {
     "base_uri": "https://localhost:8080/",
     "height": 196
    },
    "colab_type": "code",
    "executionInfo": {
     "elapsed": 647,
     "status": "ok",
     "timestamp": 1596132257856,
     "user": {
      "displayName": "Maria Lucia Pappaterra",
      "photoUrl": "",
      "userId": "02022975574182658400"
     },
     "user_tz": 180
    },
    "id": "XaIaMCrrldIs",
    "outputId": "3b01bea4-7c7c-4792-9597-6f2efd6088a0"
   },
   "outputs": [
    {
     "name": "stdout",
     "output_type": "stream",
     "text": [
      "Accuracy of Logistic regression classifier on training set: 0.63\n",
      "Accuracy of Logistic regression classifier on test set: 0.64\n"
     ]
    },
    {
     "name": "stderr",
     "output_type": "stream",
     "text": [
      "/home/matias/anaconda3/lib/python3.7/site-packages/sklearn/linear_model/_logistic.py:764: ConvergenceWarning: lbfgs failed to converge (status=1):\n",
      "STOP: TOTAL NO. of ITERATIONS REACHED LIMIT.\n",
      "\n",
      "Increase the number of iterations (max_iter) or scale the data as shown in:\n",
      "    https://scikit-learn.org/stable/modules/preprocessing.html\n",
      "Please also refer to the documentation for alternative solver options:\n",
      "    https://scikit-learn.org/stable/modules/linear_model.html#logistic-regression\n",
      "  extra_warning_msg=_LOGISTIC_SOLVER_CONVERGENCE_MSG)\n"
     ]
    }
   ],
   "source": [
    "from sklearn.linear_model import LogisticRegression\n",
    "\n",
    "logreg = LogisticRegression()\n",
    "\n",
    "logreg.fit(X_train, y_train)\n",
    "\n",
    "print('Accuracy of Logistic regression classifier on training set: {:.2f}'.format(logreg.score(X_train, y_train)))\n",
    "print('Accuracy of Logistic regression classifier on test set: {:.2f}'.format(logreg.score(X_test, y_test)))"
   ]
  },
  {
   "cell_type": "code",
   "execution_count": 24,
   "metadata": {
    "colab": {
     "base_uri": "https://localhost:8080/",
     "height": 178
    },
    "colab_type": "code",
    "executionInfo": {
     "elapsed": 663,
     "status": "ok",
     "timestamp": 1596138904161,
     "user": {
      "displayName": "Maria Lucia Pappaterra",
      "photoUrl": "",
      "userId": "02022975574182658400"
     },
     "user_tz": 180
    },
    "id": "9LgnlxKYSIkD",
    "outputId": "062eab14-2655-4f4e-a4b8-1d6923bff00e"
   },
   "outputs": [
    {
     "name": "stdout",
     "output_type": "stream",
     "text": [
      "              precision    recall  f1-score   support\n",
      "\n",
      "      hombre       0.65      0.86      0.74       330\n",
      "       mujer       0.63      0.34      0.44       234\n",
      "\n",
      "    accuracy                           0.64       564\n",
      "   macro avg       0.64      0.60      0.59       564\n",
      "weighted avg       0.64      0.64      0.61       564\n",
      "\n"
     ]
    }
   ],
   "source": [
    "from sklearn.metrics import classification_report\n",
    "\n",
    "y_train_pred = logreg.predict(X_train)\n",
    "y_test_pred = logreg.predict(X_test)\n",
    "\n",
    "print(classification_report(y_test, y_test_pred))"
   ]
  },
  {
   "cell_type": "code",
   "execution_count": null,
   "metadata": {},
   "outputs": [],
   "source": []
  },
  {
   "cell_type": "code",
   "execution_count": null,
   "metadata": {},
   "outputs": [],
   "source": []
  }
 ],
 "metadata": {
  "colab": {
   "authorship_tag": "ABX9TyPpxRemszKsECHKyQq3O5cb",
   "name": "Introduccion_al_Machine_Learning.ipynb",
   "provenance": []
  },
  "kernelspec": {
   "display_name": "Python 3",
   "language": "python",
   "name": "python3"
  },
  "language_info": {
   "codemirror_mode": {
    "name": "ipython",
    "version": 3
   },
   "file_extension": ".py",
   "mimetype": "text/x-python",
   "name": "python",
   "nbconvert_exporter": "python",
   "pygments_lexer": "ipython3",
   "version": "3.7.7"
  }
 },
 "nbformat": 4,
 "nbformat_minor": 4
}
