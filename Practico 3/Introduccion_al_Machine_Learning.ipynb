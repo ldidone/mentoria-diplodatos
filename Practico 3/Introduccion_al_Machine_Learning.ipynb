{
 "cells": [
  {
   "cell_type": "markdown",
   "metadata": {
    "colab_type": "text",
    "id": "SanA_4G0y3mv"
   },
   "source": [
    "# DiploDatos 2020 - Coronavirus en Argentina"
   ]
  },
  {
   "cell_type": "markdown",
   "metadata": {
    "colab_type": "text",
    "id": "jPP96OjRCmUE"
   },
   "source": [
    "El dataset se encuetra en:\n",
    "\n",
    "https://github.com/lucia15/Datos-Covid19-Argentina"
   ]
  },
  {
   "cell_type": "code",
   "execution_count": 1,
   "metadata": {
    "colab": {
     "base_uri": "https://localhost:8080/",
     "height": 17
    },
    "colab_type": "code",
    "executionInfo": {
     "elapsed": 2272,
     "status": "ok",
     "timestamp": 1596131638141,
     "user": {
      "displayName": "Maria Lucia Pappaterra",
      "photoUrl": "",
      "userId": "02022975574182658400"
     },
     "user_tz": 180
    },
    "id": "zWT7m8VqM1pC",
    "outputId": "f353166a-2a62-41a2-b080-55a60f8d2afb"
   },
   "outputs": [
    {
     "data": {
      "text/html": [
       "<style>.container { width:90% !important; }</style>"
      ],
      "text/plain": [
       "<IPython.core.display.HTML object>"
      ]
     },
     "metadata": {},
     "output_type": "display_data"
    }
   ],
   "source": [
    "### Aumentar el ancho del notebook\n",
    "from IPython.core.display import display, HTML\n",
    "display(HTML(\"<style>.container { width:90% !important; }</style>\"))"
   ]
  },
  {
   "cell_type": "markdown",
   "metadata": {
    "colab_type": "text",
    "id": "lpOnWDm_y6rm"
   },
   "source": [
    "## Práctico Introducción al Machine Learning\n",
    "\n",
    "**Consigna:**\n",
    "\n",
    "Proponer un modelo de Aprendizaje Automático para estos datos. \n",
    "\n",
    "Para ello deberan explorar y probar varios modelos, buscando las configuraciones que mejores resultados den. Tener en cuenta:\n",
    "\n",
    "* Elección de la variable objetivo y features\n",
    "* Selección de un modelo\n",
    "* Ajuste de hiperparámetros \n",
    "* Evaluación"
   ]
  },
  {
   "cell_type": "markdown",
   "metadata": {
    "colab_type": "text",
    "id": "3m3osgN0Co99"
   },
   "source": [
    "Veamos unos sencillos (e incompletos) **ejemplos**."
   ]
  },
  {
   "cell_type": "markdown",
   "metadata": {
    "colab_type": "text",
    "id": "ll36j6ftM5OK"
   },
   "source": [
    "### Carga de datos"
   ]
  },
  {
   "cell_type": "code",
   "execution_count": 2,
   "metadata": {
    "colab": {},
    "colab_type": "code",
    "id": "nX4ZothRGYOz"
   },
   "outputs": [],
   "source": [
    "# Importamos librerías necesarias\n",
    "\n",
    "import pandas as pd\n",
    "import numpy as np\n",
    "import matplotlib.pyplot as plt"
   ]
  },
  {
   "cell_type": "markdown",
   "metadata": {},
   "source": [
    "### Experimentación con el dataset: Covid19Casos"
   ]
  },
  {
   "cell_type": "markdown",
   "metadata": {},
   "source": [
    "##### Dataset - Covid19Casos\n",
    "- Source: http://datos.salud.gob.ar/dataset/covid-19-casos-registrados-en-la-republica-argentina/archivo/fd657d02-a33a-498b-a91b-2ef1a68b8d16"
   ]
  },
  {
   "cell_type": "code",
   "execution_count": 3,
   "metadata": {},
   "outputs": [],
   "source": [
    "url = 'https://sisa.msal.gov.ar/datos/descargas/covid-19/files/Covid19Casos.csv'\n",
    "\n",
    "df = pd.read_csv(url, error_bad_lines=False)"
   ]
  },
  {
   "cell_type": "code",
   "execution_count": 4,
   "metadata": {},
   "outputs": [],
   "source": [
    "dataset = df.copy(deep=True)"
   ]
  },
  {
   "cell_type": "code",
   "execution_count": 5,
   "metadata": {},
   "outputs": [
    {
     "data": {
      "text/html": [
       "<div>\n",
       "<style scoped>\n",
       "    .dataframe tbody tr th:only-of-type {\n",
       "        vertical-align: middle;\n",
       "    }\n",
       "\n",
       "    .dataframe tbody tr th {\n",
       "        vertical-align: top;\n",
       "    }\n",
       "\n",
       "    .dataframe thead th {\n",
       "        text-align: right;\n",
       "    }\n",
       "</style>\n",
       "<table border=\"1\" class=\"dataframe\">\n",
       "  <thead>\n",
       "    <tr style=\"text-align: right;\">\n",
       "      <th></th>\n",
       "      <th>id_evento_caso</th>\n",
       "      <th>sexo</th>\n",
       "      <th>edad</th>\n",
       "      <th>edad_años_meses</th>\n",
       "      <th>residencia_pais_nombre</th>\n",
       "      <th>residencia_provincia_nombre</th>\n",
       "      <th>residencia_departamento_nombre</th>\n",
       "      <th>carga_provincia_nombre</th>\n",
       "      <th>fecha_inicio_sintomas</th>\n",
       "      <th>fecha_apertura</th>\n",
       "      <th>...</th>\n",
       "      <th>fecha_fallecimiento</th>\n",
       "      <th>asistencia_respiratoria_mecanica</th>\n",
       "      <th>carga_provincia_id</th>\n",
       "      <th>origen_financiamiento</th>\n",
       "      <th>clasificacion</th>\n",
       "      <th>clasificacion_resumen</th>\n",
       "      <th>residencia_provincia_id</th>\n",
       "      <th>fecha_diagnostico</th>\n",
       "      <th>residencia_departamento_id</th>\n",
       "      <th>ultima_actualizacion</th>\n",
       "    </tr>\n",
       "  </thead>\n",
       "  <tbody>\n",
       "    <tr>\n",
       "      <th>0</th>\n",
       "      <td>1000000</td>\n",
       "      <td>M</td>\n",
       "      <td>53.0</td>\n",
       "      <td>Años</td>\n",
       "      <td>Argentina</td>\n",
       "      <td>CABA</td>\n",
       "      <td>SIN ESPECIFICAR</td>\n",
       "      <td>Buenos Aires</td>\n",
       "      <td>NaN</td>\n",
       "      <td>2020-06-01</td>\n",
       "      <td>...</td>\n",
       "      <td>NaN</td>\n",
       "      <td>NO</td>\n",
       "      <td>6</td>\n",
       "      <td>Privado</td>\n",
       "      <td>Caso Descartado</td>\n",
       "      <td>Descartado</td>\n",
       "      <td>2</td>\n",
       "      <td>2020-06-09</td>\n",
       "      <td>0</td>\n",
       "      <td>2020-10-14</td>\n",
       "    </tr>\n",
       "    <tr>\n",
       "      <th>1</th>\n",
       "      <td>1000002</td>\n",
       "      <td>M</td>\n",
       "      <td>21.0</td>\n",
       "      <td>Años</td>\n",
       "      <td>Argentina</td>\n",
       "      <td>Buenos Aires</td>\n",
       "      <td>La Matanza</td>\n",
       "      <td>Buenos Aires</td>\n",
       "      <td>NaN</td>\n",
       "      <td>2020-06-01</td>\n",
       "      <td>...</td>\n",
       "      <td>NaN</td>\n",
       "      <td>NO</td>\n",
       "      <td>6</td>\n",
       "      <td>Público</td>\n",
       "      <td>Caso Descartado</td>\n",
       "      <td>Descartado</td>\n",
       "      <td>6</td>\n",
       "      <td>2020-06-01</td>\n",
       "      <td>427</td>\n",
       "      <td>2020-10-14</td>\n",
       "    </tr>\n",
       "    <tr>\n",
       "      <th>2</th>\n",
       "      <td>1000003</td>\n",
       "      <td>F</td>\n",
       "      <td>40.0</td>\n",
       "      <td>Años</td>\n",
       "      <td>Argentina</td>\n",
       "      <td>Córdoba</td>\n",
       "      <td>Capital</td>\n",
       "      <td>Córdoba</td>\n",
       "      <td>2020-05-24</td>\n",
       "      <td>2020-06-01</td>\n",
       "      <td>...</td>\n",
       "      <td>NaN</td>\n",
       "      <td>NO</td>\n",
       "      <td>14</td>\n",
       "      <td>Privado</td>\n",
       "      <td>Caso Descartado</td>\n",
       "      <td>Descartado</td>\n",
       "      <td>14</td>\n",
       "      <td>2020-06-01</td>\n",
       "      <td>14</td>\n",
       "      <td>2020-10-14</td>\n",
       "    </tr>\n",
       "    <tr>\n",
       "      <th>3</th>\n",
       "      <td>1000005</td>\n",
       "      <td>F</td>\n",
       "      <td>58.0</td>\n",
       "      <td>Años</td>\n",
       "      <td>Argentina</td>\n",
       "      <td>Mendoza</td>\n",
       "      <td>Las Heras</td>\n",
       "      <td>Mendoza</td>\n",
       "      <td>NaN</td>\n",
       "      <td>2020-06-01</td>\n",
       "      <td>...</td>\n",
       "      <td>NaN</td>\n",
       "      <td>NO</td>\n",
       "      <td>50</td>\n",
       "      <td>Público</td>\n",
       "      <td>Caso Descartado</td>\n",
       "      <td>Descartado</td>\n",
       "      <td>50</td>\n",
       "      <td>2020-06-01</td>\n",
       "      <td>49</td>\n",
       "      <td>2020-10-14</td>\n",
       "    </tr>\n",
       "    <tr>\n",
       "      <th>4</th>\n",
       "      <td>1000006</td>\n",
       "      <td>M</td>\n",
       "      <td>28.0</td>\n",
       "      <td>Años</td>\n",
       "      <td>Argentina</td>\n",
       "      <td>Buenos Aires</td>\n",
       "      <td>Malvinas Argentinas</td>\n",
       "      <td>Buenos Aires</td>\n",
       "      <td>2020-05-30</td>\n",
       "      <td>2020-06-01</td>\n",
       "      <td>...</td>\n",
       "      <td>NaN</td>\n",
       "      <td>NO</td>\n",
       "      <td>6</td>\n",
       "      <td>Público</td>\n",
       "      <td>Caso sospechoso - Con muestra sin resultado co...</td>\n",
       "      <td>Sospechoso</td>\n",
       "      <td>6</td>\n",
       "      <td>NaN</td>\n",
       "      <td>515</td>\n",
       "      <td>2020-10-14</td>\n",
       "    </tr>\n",
       "    <tr>\n",
       "      <th>5</th>\n",
       "      <td>1000007</td>\n",
       "      <td>M</td>\n",
       "      <td>26.0</td>\n",
       "      <td>Años</td>\n",
       "      <td>Argentina</td>\n",
       "      <td>Formosa</td>\n",
       "      <td>Patiño</td>\n",
       "      <td>Formosa</td>\n",
       "      <td>NaN</td>\n",
       "      <td>2020-06-01</td>\n",
       "      <td>...</td>\n",
       "      <td>NaN</td>\n",
       "      <td>NO</td>\n",
       "      <td>34</td>\n",
       "      <td>Público</td>\n",
       "      <td>Caso confirmado por laboratorio - No Activo po...</td>\n",
       "      <td>Confirmado</td>\n",
       "      <td>34</td>\n",
       "      <td>2020-06-25</td>\n",
       "      <td>35</td>\n",
       "      <td>2020-10-14</td>\n",
       "    </tr>\n",
       "    <tr>\n",
       "      <th>6</th>\n",
       "      <td>1000008</td>\n",
       "      <td>F</td>\n",
       "      <td>69.0</td>\n",
       "      <td>Años</td>\n",
       "      <td>Argentina</td>\n",
       "      <td>CABA</td>\n",
       "      <td>SIN ESPECIFICAR</td>\n",
       "      <td>CABA</td>\n",
       "      <td>2020-05-31</td>\n",
       "      <td>2020-06-01</td>\n",
       "      <td>...</td>\n",
       "      <td>NaN</td>\n",
       "      <td>NO</td>\n",
       "      <td>2</td>\n",
       "      <td>Privado</td>\n",
       "      <td>Caso Descartado</td>\n",
       "      <td>Descartado</td>\n",
       "      <td>2</td>\n",
       "      <td>2020-06-01</td>\n",
       "      <td>0</td>\n",
       "      <td>2020-10-14</td>\n",
       "    </tr>\n",
       "    <tr>\n",
       "      <th>7</th>\n",
       "      <td>1000009</td>\n",
       "      <td>M</td>\n",
       "      <td>73.0</td>\n",
       "      <td>Años</td>\n",
       "      <td>Argentina</td>\n",
       "      <td>Buenos Aires</td>\n",
       "      <td>Esteban Echeverría</td>\n",
       "      <td>Buenos Aires</td>\n",
       "      <td>2020-05-31</td>\n",
       "      <td>2020-06-01</td>\n",
       "      <td>...</td>\n",
       "      <td>NaN</td>\n",
       "      <td>NO</td>\n",
       "      <td>6</td>\n",
       "      <td>Privado</td>\n",
       "      <td>Caso Descartado</td>\n",
       "      <td>Descartado</td>\n",
       "      <td>6</td>\n",
       "      <td>2020-06-02</td>\n",
       "      <td>260</td>\n",
       "      <td>2020-10-14</td>\n",
       "    </tr>\n",
       "    <tr>\n",
       "      <th>8</th>\n",
       "      <td>1000010</td>\n",
       "      <td>M</td>\n",
       "      <td>7.0</td>\n",
       "      <td>Años</td>\n",
       "      <td>Argentina</td>\n",
       "      <td>CABA</td>\n",
       "      <td>COMUNA 07</td>\n",
       "      <td>CABA</td>\n",
       "      <td>NaN</td>\n",
       "      <td>2020-06-01</td>\n",
       "      <td>...</td>\n",
       "      <td>NaN</td>\n",
       "      <td>NO</td>\n",
       "      <td>2</td>\n",
       "      <td>Público</td>\n",
       "      <td>Caso confirmado por laboratorio - No activo (p...</td>\n",
       "      <td>Confirmado</td>\n",
       "      <td>2</td>\n",
       "      <td>2020-06-01</td>\n",
       "      <td>7</td>\n",
       "      <td>2020-10-14</td>\n",
       "    </tr>\n",
       "    <tr>\n",
       "      <th>9</th>\n",
       "      <td>1000011</td>\n",
       "      <td>M</td>\n",
       "      <td>42.0</td>\n",
       "      <td>Años</td>\n",
       "      <td>Argentina</td>\n",
       "      <td>Santa Fe</td>\n",
       "      <td>Rosario</td>\n",
       "      <td>Santa Fe</td>\n",
       "      <td>NaN</td>\n",
       "      <td>2020-06-01</td>\n",
       "      <td>...</td>\n",
       "      <td>NaN</td>\n",
       "      <td>NO</td>\n",
       "      <td>82</td>\n",
       "      <td>Público</td>\n",
       "      <td>Caso Descartado</td>\n",
       "      <td>Descartado</td>\n",
       "      <td>82</td>\n",
       "      <td>2020-06-01</td>\n",
       "      <td>84</td>\n",
       "      <td>2020-10-14</td>\n",
       "    </tr>\n",
       "  </tbody>\n",
       "</table>\n",
       "<p>10 rows × 25 columns</p>\n",
       "</div>"
      ],
      "text/plain": [
       "   id_evento_caso sexo  edad edad_años_meses residencia_pais_nombre  \\\n",
       "0         1000000    M  53.0            Años              Argentina   \n",
       "1         1000002    M  21.0            Años              Argentina   \n",
       "2         1000003    F  40.0            Años              Argentina   \n",
       "3         1000005    F  58.0            Años              Argentina   \n",
       "4         1000006    M  28.0            Años              Argentina   \n",
       "5         1000007    M  26.0            Años              Argentina   \n",
       "6         1000008    F  69.0            Años              Argentina   \n",
       "7         1000009    M  73.0            Años              Argentina   \n",
       "8         1000010    M   7.0            Años              Argentina   \n",
       "9         1000011    M  42.0            Años              Argentina   \n",
       "\n",
       "  residencia_provincia_nombre residencia_departamento_nombre  \\\n",
       "0                        CABA                SIN ESPECIFICAR   \n",
       "1                Buenos Aires                     La Matanza   \n",
       "2                     Córdoba                        Capital   \n",
       "3                     Mendoza                      Las Heras   \n",
       "4                Buenos Aires            Malvinas Argentinas   \n",
       "5                     Formosa                         Patiño   \n",
       "6                        CABA                SIN ESPECIFICAR   \n",
       "7                Buenos Aires             Esteban Echeverría   \n",
       "8                        CABA                      COMUNA 07   \n",
       "9                    Santa Fe                        Rosario   \n",
       "\n",
       "  carga_provincia_nombre fecha_inicio_sintomas fecha_apertura  ...  \\\n",
       "0           Buenos Aires                   NaN     2020-06-01  ...   \n",
       "1           Buenos Aires                   NaN     2020-06-01  ...   \n",
       "2                Córdoba            2020-05-24     2020-06-01  ...   \n",
       "3                Mendoza                   NaN     2020-06-01  ...   \n",
       "4           Buenos Aires            2020-05-30     2020-06-01  ...   \n",
       "5                Formosa                   NaN     2020-06-01  ...   \n",
       "6                   CABA            2020-05-31     2020-06-01  ...   \n",
       "7           Buenos Aires            2020-05-31     2020-06-01  ...   \n",
       "8                   CABA                   NaN     2020-06-01  ...   \n",
       "9               Santa Fe                   NaN     2020-06-01  ...   \n",
       "\n",
       "   fecha_fallecimiento asistencia_respiratoria_mecanica carga_provincia_id  \\\n",
       "0                  NaN                               NO                  6   \n",
       "1                  NaN                               NO                  6   \n",
       "2                  NaN                               NO                 14   \n",
       "3                  NaN                               NO                 50   \n",
       "4                  NaN                               NO                  6   \n",
       "5                  NaN                               NO                 34   \n",
       "6                  NaN                               NO                  2   \n",
       "7                  NaN                               NO                  6   \n",
       "8                  NaN                               NO                  2   \n",
       "9                  NaN                               NO                 82   \n",
       "\n",
       "  origen_financiamiento                                      clasificacion  \\\n",
       "0               Privado                                    Caso Descartado   \n",
       "1               Público                                    Caso Descartado   \n",
       "2               Privado                                    Caso Descartado   \n",
       "3               Público                                    Caso Descartado   \n",
       "4               Público  Caso sospechoso - Con muestra sin resultado co...   \n",
       "5               Público  Caso confirmado por laboratorio - No Activo po...   \n",
       "6               Privado                                    Caso Descartado   \n",
       "7               Privado                                    Caso Descartado   \n",
       "8               Público  Caso confirmado por laboratorio - No activo (p...   \n",
       "9               Público                                    Caso Descartado   \n",
       "\n",
       "  clasificacion_resumen residencia_provincia_id  fecha_diagnostico  \\\n",
       "0            Descartado                       2         2020-06-09   \n",
       "1            Descartado                       6         2020-06-01   \n",
       "2            Descartado                      14         2020-06-01   \n",
       "3            Descartado                      50         2020-06-01   \n",
       "4            Sospechoso                       6                NaN   \n",
       "5            Confirmado                      34         2020-06-25   \n",
       "6            Descartado                       2         2020-06-01   \n",
       "7            Descartado                       6         2020-06-02   \n",
       "8            Confirmado                       2         2020-06-01   \n",
       "9            Descartado                      82         2020-06-01   \n",
       "\n",
       "  residencia_departamento_id ultima_actualizacion  \n",
       "0                          0           2020-10-14  \n",
       "1                        427           2020-10-14  \n",
       "2                         14           2020-10-14  \n",
       "3                         49           2020-10-14  \n",
       "4                        515           2020-10-14  \n",
       "5                         35           2020-10-14  \n",
       "6                          0           2020-10-14  \n",
       "7                        260           2020-10-14  \n",
       "8                          7           2020-10-14  \n",
       "9                         84           2020-10-14  \n",
       "\n",
       "[10 rows x 25 columns]"
      ]
     },
     "execution_count": 5,
     "metadata": {},
     "output_type": "execute_result"
    }
   ],
   "source": [
    "dataset.head(10)"
   ]
  },
  {
   "cell_type": "code",
   "execution_count": 6,
   "metadata": {},
   "outputs": [
    {
     "data": {
      "text/plain": [
       "(2327033, 25)"
      ]
     },
     "execution_count": 6,
     "metadata": {},
     "output_type": "execute_result"
    }
   ],
   "source": [
    "dataset.shape"
   ]
  },
  {
   "cell_type": "code",
   "execution_count": 7,
   "metadata": {},
   "outputs": [
    {
     "data": {
      "text/plain": [
       "id_evento_caso                      2327033\n",
       "sexo                                2327033\n",
       "edad                                2327033\n",
       "edad_años_meses                     2327033\n",
       "residencia_pais_nombre              2327033\n",
       "residencia_provincia_nombre         2327033\n",
       "residencia_departamento_nombre      2327033\n",
       "carga_provincia_nombre              2327033\n",
       "fecha_inicio_sintomas               2327033\n",
       "fecha_apertura                      2327033\n",
       "sepi_apertura                       2327033\n",
       "fecha_internacion                   2327033\n",
       "cuidado_intensivo                   2327033\n",
       "fecha_cui_intensivo                 2327033\n",
       "fallecido                           2327033\n",
       "fecha_fallecimiento                 2327033\n",
       "asistencia_respiratoria_mecanica    2327033\n",
       "carga_provincia_id                  2327033\n",
       "origen_financiamiento               2327033\n",
       "clasificacion                       2327033\n",
       "clasificacion_resumen               2327033\n",
       "residencia_provincia_id             2327033\n",
       "fecha_diagnostico                   2327033\n",
       "residencia_departamento_id          2327033\n",
       "ultima_actualizacion                2327033\n",
       "dtype: int64"
      ]
     },
     "execution_count": 7,
     "metadata": {},
     "output_type": "execute_result"
    }
   ],
   "source": [
    "dataset.isnull().count()"
   ]
  },
  {
   "cell_type": "code",
   "execution_count": 8,
   "metadata": {},
   "outputs": [
    {
     "name": "stdout",
     "output_type": "stream",
     "text": [
      "<class 'pandas.core.frame.DataFrame'>\n",
      "RangeIndex: 2327033 entries, 0 to 2327032\n",
      "Data columns (total 25 columns):\n",
      " #   Column                            Dtype  \n",
      "---  ------                            -----  \n",
      " 0   id_evento_caso                    int64  \n",
      " 1   sexo                              object \n",
      " 2   edad                              float64\n",
      " 3   edad_años_meses                   object \n",
      " 4   residencia_pais_nombre            object \n",
      " 5   residencia_provincia_nombre       object \n",
      " 6   residencia_departamento_nombre    object \n",
      " 7   carga_provincia_nombre            object \n",
      " 8   fecha_inicio_sintomas             object \n",
      " 9   fecha_apertura                    object \n",
      " 10  sepi_apertura                     int64  \n",
      " 11  fecha_internacion                 object \n",
      " 12  cuidado_intensivo                 object \n",
      " 13  fecha_cui_intensivo               object \n",
      " 14  fallecido                         object \n",
      " 15  fecha_fallecimiento               object \n",
      " 16  asistencia_respiratoria_mecanica  object \n",
      " 17  carga_provincia_id                int64  \n",
      " 18  origen_financiamiento             object \n",
      " 19  clasificacion                     object \n",
      " 20  clasificacion_resumen             object \n",
      " 21  residencia_provincia_id           int64  \n",
      " 22  fecha_diagnostico                 object \n",
      " 23  residencia_departamento_id        int64  \n",
      " 24  ultima_actualizacion              object \n",
      "dtypes: float64(1), int64(5), object(19)\n",
      "memory usage: 443.8+ MB\n"
     ]
    }
   ],
   "source": [
    "dataset.info()"
   ]
  },
  {
   "cell_type": "code",
   "execution_count": 9,
   "metadata": {},
   "outputs": [],
   "source": [
    "dataset['fecha_inicio_sintomas'] = pd.to_datetime(dataset['fecha_inicio_sintomas'], format='%Y-%m-%d')\n",
    "dataset['fecha_apertura'] = pd.to_datetime(dataset['fecha_apertura'], format='%Y-%m-%d')\n",
    "dataset['fecha_internacion'] = pd.to_datetime(dataset['fecha_internacion'], format='%Y-%m-%d')\n",
    "dataset['fecha_cui_intensivo'] = pd.to_datetime(dataset['fecha_cui_intensivo'], format='%Y-%m-%d')\n",
    "dataset['fecha_fallecimiento'] = pd.to_datetime(dataset['fecha_fallecimiento'], format='%Y-%m-%d')\n",
    "dataset['fecha_diagnostico'] = pd.to_datetime(dataset['fecha_diagnostico'], format='%Y-%m-%d')"
   ]
  },
  {
   "cell_type": "markdown",
   "metadata": {},
   "source": [
    "## Limpieza, Preprocesado y Feature Engineering"
   ]
  },
  {
   "cell_type": "code",
   "execution_count": 10,
   "metadata": {},
   "outputs": [
    {
     "data": {
      "text/plain": [
       "id_evento_caso                               Int64\n",
       "sexo                                        string\n",
       "edad                                         Int64\n",
       "edad_años_meses                             string\n",
       "residencia_pais_nombre                      string\n",
       "residencia_provincia_nombre                 string\n",
       "residencia_departamento_nombre              string\n",
       "carga_provincia_nombre                      string\n",
       "fecha_inicio_sintomas               datetime64[ns]\n",
       "fecha_apertura                      datetime64[ns]\n",
       "sepi_apertura                                Int64\n",
       "fecha_internacion                   datetime64[ns]\n",
       "cuidado_intensivo                           string\n",
       "fecha_cui_intensivo                 datetime64[ns]\n",
       "fallecido                                   string\n",
       "fecha_fallecimiento                 datetime64[ns]\n",
       "asistencia_respiratoria_mecanica            string\n",
       "carga_provincia_id                           Int64\n",
       "origen_financiamiento                       string\n",
       "clasificacion                               string\n",
       "clasificacion_resumen                       string\n",
       "residencia_provincia_id                      Int64\n",
       "fecha_diagnostico                   datetime64[ns]\n",
       "residencia_departamento_id                   Int64\n",
       "ultima_actualizacion                        string\n",
       "dtype: object"
      ]
     },
     "execution_count": 10,
     "metadata": {},
     "output_type": "execute_result"
    }
   ],
   "source": [
    "dataset.convert_dtypes().dtypes"
   ]
  },
  {
   "cell_type": "markdown",
   "metadata": {},
   "source": [
    "### Sexo"
   ]
  },
  {
   "cell_type": "code",
   "execution_count": 11,
   "metadata": {},
   "outputs": [
    {
     "data": {
      "text/plain": [
       "F     1181319\n",
       "M     1137948\n",
       "NR       7766\n",
       "Name: sexo, dtype: int64"
      ]
     },
     "execution_count": 11,
     "metadata": {},
     "output_type": "execute_result"
    },
    {
     "data": {
      "image/png": "[encoded data removed]",
      "text/plain": [
       "<Figure size 432x288 with 1 Axes>"
      ]
     },
     "metadata": {
      "needs_background": "light"
     },
     "output_type": "display_data"
    }
   ],
   "source": [
    "dataset.sexo.value_counts().plot.bar()\n",
    "dataset.sexo.value_counts()"
   ]
  },
  {
   "cell_type": "code",
   "execution_count": 12,
   "metadata": {},
   "outputs": [],
   "source": [
    "### One Hot Encoder\n",
    "dataset = pd.concat([dataset, pd.get_dummies(dataset['sexo'], prefix='sexo')],axis=1).drop(['sexo'], axis=1)"
   ]
  },
  {
   "cell_type": "code",
   "execution_count": 13,
   "metadata": {},
   "outputs": [],
   "source": [
    "dataset = dataset.rename(columns={\"sexo_F\": \"sexo_f\", \n",
    "                                  \"sexo_M\": \"sexo_m\",\n",
    "                                  \"sexo_NR\": \"sexo_nr\"})"
   ]
  },
  {
   "cell_type": "markdown",
   "metadata": {},
   "source": [
    "### Edad"
   ]
  },
  {
   "cell_type": "code",
   "execution_count": 14,
   "metadata": {},
   "outputs": [
    {
     "name": "stderr",
     "output_type": "stream",
     "text": [
      "/home/lucas/DIPLODATOS/.venv/lib/python3.6/site-packages/pandas/core/indexing.py:670: SettingWithCopyWarning: \n",
      "A value is trying to be set on a copy of a slice from a DataFrame\n",
      "\n",
      "See the caveats in the documentation: https://pandas.pydata.org/pandas-docs/stable/user_guide/indexing.html#returning-a-view-versus-a-copy\n",
      "  iloc._setitem_with_indexer(indexer, value)\n"
     ]
    }
   ],
   "source": [
    "# Paso meses a años (cuando la edad está expresada en meses)\n",
    "dataset['edad'].loc[dataset.edad_años_meses == 'Meses'] = 0"
   ]
  },
  {
   "cell_type": "code",
   "execution_count": 15,
   "metadata": {},
   "outputs": [],
   "source": [
    "# Eliminamos la columna edad_años_meses\n",
    "dataset.drop(['edad_años_meses'], axis=1, inplace=True)"
   ]
  },
  {
   "cell_type": "markdown",
   "metadata": {},
   "source": [
    "### Lugares"
   ]
  },
  {
   "cell_type": "markdown",
   "metadata": {},
   "source": [
    "#### País"
   ]
  },
  {
   "cell_type": "code",
   "execution_count": 16,
   "metadata": {},
   "outputs": [
    {
     "data": {
      "text/plain": [
       "Argentina          2234447\n",
       "SIN ESPECIFICAR      92174\n",
       "Paraguay               108\n",
       "Bolivia                 90\n",
       "Brasil                  51\n",
       "Chile                   46\n",
       "Uruguay                 31\n",
       "Italia                  14\n",
       "Perú                    11\n",
       "Alemania                 9\n",
       "Francia                  8\n",
       "España                   8\n",
       "Venezuela                5\n",
       "China                    5\n",
       "Reino Unido              3\n",
       "Australia                3\n",
       "EE.UU.                   3\n",
       "Austria                  2\n",
       "Ecuador                  2\n",
       "Malasia                  2\n",
       "Colombia                 2\n",
       "Panamá                   1\n",
       "Polonia                  1\n",
       "Canadá                   1\n",
       "Portugal                 1\n",
       "Líbano                   1\n",
       "Ucrania                  1\n",
       "Irlanda                  1\n",
       "Filipinas                1\n",
       "Bélgica                  1\n",
       "Name: residencia_pais_nombre, dtype: int64"
      ]
     },
     "execution_count": 16,
     "metadata": {},
     "output_type": "execute_result"
    },
    {
     "data": {
      "image/png": "[encoded data removed]",
      "text/plain": [
       "<Figure size 432x288 with 1 Axes>"
      ]
     },
     "metadata": {
      "needs_background": "light"
     },
     "output_type": "display_data"
    }
   ],
   "source": [
    "dataset.residencia_pais_nombre.value_counts().plot.bar()\n",
    "dataset.residencia_pais_nombre.value_counts()"
   ]
  },
  {
   "cell_type": "code",
   "execution_count": 17,
   "metadata": {},
   "outputs": [
    {
     "name": "stdout",
     "output_type": "stream",
     "text": [
      "Cantidad de registros donde el país de residencia es Argentina: 2234447 (96.02%)\n"
     ]
    }
   ],
   "source": [
    "cant_total = dataset.shape[0]\n",
    "cant_arg = dataset[dataset.residencia_pais_nombre == \"Argentina\"].shape[0]\n",
    "porcentaje = (cant_arg * 100) / cant_total\n",
    "\n",
    "print('Cantidad de registros donde el país de residencia es Argentina: {0} ({1}%)'.format(cant_arg, round(porcentaje, 2)))"
   ]
  },
  {
   "cell_type": "markdown",
   "metadata": {},
   "source": [
    "- Se conservan sólo los datos de personas residentes en Argentina"
   ]
  },
  {
   "cell_type": "code",
   "execution_count": 18,
   "metadata": {},
   "outputs": [],
   "source": [
    "dataset.drop(dataset[dataset.residencia_pais_nombre != \"Argentina\"].index, inplace=True)"
   ]
  },
  {
   "cell_type": "code",
   "execution_count": 19,
   "metadata": {},
   "outputs": [],
   "source": [
    "#Elimino la columna país porque todos los registros tienen el mismo valor\n",
    "dataset.drop(['residencia_pais_nombre'], axis=1, inplace=True)"
   ]
  },
  {
   "cell_type": "markdown",
   "metadata": {},
   "source": [
    "#### carga_provincia_nombre"
   ]
  },
  {
   "cell_type": "code",
   "execution_count": 20,
   "metadata": {},
   "outputs": [
    {
     "name": "stdout",
     "output_type": "stream",
     "text": [
      "Cantidad de registros donde la provincia de residencia es igual a la de carga: 1910998 (82.12%)\n"
     ]
    }
   ],
   "source": [
    "cant_iguales = dataset[dataset.residencia_provincia_nombre == dataset.carga_provincia_nombre].shape[0]\n",
    "porcentaje = (cant_iguales * 100) / cant_total\n",
    "\n",
    "print('Cantidad de registros donde la provincia de residencia es igual a la de carga: {0} ({1}%)'.format(cant_iguales, round(porcentaje, 2)))"
   ]
  },
  {
   "cell_type": "code",
   "execution_count": 21,
   "metadata": {},
   "outputs": [
    {
     "data": {
      "text/plain": [
       "Buenos Aires           885726\n",
       "CABA                   632102\n",
       "Santa Fe               125047\n",
       "Córdoba                112774\n",
       "Mendoza                 73593\n",
       "Tucumán                 60336\n",
       "Chaco                   52140\n",
       "Jujuy                   41023\n",
       "Río Negro               33969\n",
       "Salta                   32044\n",
       "Neuquén                 28657\n",
       "Entre Ríos              24417\n",
       "Santiago del Estero     23440\n",
       "Chubut                  17198\n",
       "La Rioja                16613\n",
       "Tierra del Fuego        15104\n",
       "Santa Cruz              14163\n",
       "Corrientes              12733\n",
       "San Luis                10104\n",
       "La Pampa                 8003\n",
       "Catamarca                6706\n",
       "Misiones                 4462\n",
       "San Juan                 2890\n",
       "Formosa                  1203\n",
       "Name: carga_provincia_nombre, dtype: int64"
      ]
     },
     "execution_count": 21,
     "metadata": {},
     "output_type": "execute_result"
    },
    {
     "data": {
      "image/png": "[encoded data removed]",
      "text/plain": [
       "<Figure size 432x288 with 1 Axes>"
      ]
     },
     "metadata": {
      "needs_background": "light"
     },
     "output_type": "display_data"
    }
   ],
   "source": [
    "dataset.carga_provincia_nombre.value_counts().plot.bar()\n",
    "dataset.carga_provincia_nombre.value_counts()"
   ]
  },
  {
   "cell_type": "code",
   "execution_count": 22,
   "metadata": {},
   "outputs": [],
   "source": [
    "# Feature engineer => agregar columna que tenga un 1 si la pcia de carga es la misma y un 0 sino\n",
    "dataset['pcia_rec_eq_pcia_car'] = (dataset['residencia_provincia_nombre'] == dataset['carga_provincia_nombre'])\n",
    "dataset['pcia_rec_eq_pcia_car'] = dataset['pcia_rec_eq_pcia_car'].astype(int)"
   ]
  },
  {
   "cell_type": "code",
   "execution_count": 23,
   "metadata": {},
   "outputs": [
    {
     "data": {
      "text/html": [
       "<div>\n",
       "<style scoped>\n",
       "    .dataframe tbody tr th:only-of-type {\n",
       "        vertical-align: middle;\n",
       "    }\n",
       "\n",
       "    .dataframe tbody tr th {\n",
       "        vertical-align: top;\n",
       "    }\n",
       "\n",
       "    .dataframe thead th {\n",
       "        text-align: right;\n",
       "    }\n",
       "</style>\n",
       "<table border=\"1\" class=\"dataframe\">\n",
       "  <thead>\n",
       "    <tr style=\"text-align: right;\">\n",
       "      <th></th>\n",
       "      <th>id_evento_caso</th>\n",
       "      <th>residencia_provincia_nombre</th>\n",
       "      <th>carga_provincia_nombre</th>\n",
       "      <th>pcia_rec_eq_pcia_car</th>\n",
       "    </tr>\n",
       "  </thead>\n",
       "  <tbody>\n",
       "    <tr>\n",
       "      <th>0</th>\n",
       "      <td>1000000</td>\n",
       "      <td>CABA</td>\n",
       "      <td>Buenos Aires</td>\n",
       "      <td>0</td>\n",
       "    </tr>\n",
       "    <tr>\n",
       "      <th>1</th>\n",
       "      <td>1000002</td>\n",
       "      <td>Buenos Aires</td>\n",
       "      <td>Buenos Aires</td>\n",
       "      <td>1</td>\n",
       "    </tr>\n",
       "    <tr>\n",
       "      <th>2</th>\n",
       "      <td>1000003</td>\n",
       "      <td>Córdoba</td>\n",
       "      <td>Córdoba</td>\n",
       "      <td>1</td>\n",
       "    </tr>\n",
       "    <tr>\n",
       "      <th>3</th>\n",
       "      <td>1000005</td>\n",
       "      <td>Mendoza</td>\n",
       "      <td>Mendoza</td>\n",
       "      <td>1</td>\n",
       "    </tr>\n",
       "    <tr>\n",
       "      <th>4</th>\n",
       "      <td>1000006</td>\n",
       "      <td>Buenos Aires</td>\n",
       "      <td>Buenos Aires</td>\n",
       "      <td>1</td>\n",
       "    </tr>\n",
       "    <tr>\n",
       "      <th>...</th>\n",
       "      <td>...</td>\n",
       "      <td>...</td>\n",
       "      <td>...</td>\n",
       "      <td>...</td>\n",
       "    </tr>\n",
       "    <tr>\n",
       "      <th>2327028</th>\n",
       "      <td>999994</td>\n",
       "      <td>Tierra del Fuego</td>\n",
       "      <td>Tierra del Fuego</td>\n",
       "      <td>1</td>\n",
       "    </tr>\n",
       "    <tr>\n",
       "      <th>2327029</th>\n",
       "      <td>999995</td>\n",
       "      <td>Formosa</td>\n",
       "      <td>Formosa</td>\n",
       "      <td>1</td>\n",
       "    </tr>\n",
       "    <tr>\n",
       "      <th>2327030</th>\n",
       "      <td>999996</td>\n",
       "      <td>CABA</td>\n",
       "      <td>CABA</td>\n",
       "      <td>1</td>\n",
       "    </tr>\n",
       "    <tr>\n",
       "      <th>2327031</th>\n",
       "      <td>999997</td>\n",
       "      <td>CABA</td>\n",
       "      <td>Córdoba</td>\n",
       "      <td>0</td>\n",
       "    </tr>\n",
       "    <tr>\n",
       "      <th>2327032</th>\n",
       "      <td>999999</td>\n",
       "      <td>Buenos Aires</td>\n",
       "      <td>Buenos Aires</td>\n",
       "      <td>1</td>\n",
       "    </tr>\n",
       "  </tbody>\n",
       "</table>\n",
       "<p>2234447 rows × 4 columns</p>\n",
       "</div>"
      ],
      "text/plain": [
       "         id_evento_caso residencia_provincia_nombre carga_provincia_nombre  \\\n",
       "0               1000000                        CABA           Buenos Aires   \n",
       "1               1000002                Buenos Aires           Buenos Aires   \n",
       "2               1000003                     Córdoba                Córdoba   \n",
       "3               1000005                     Mendoza                Mendoza   \n",
       "4               1000006                Buenos Aires           Buenos Aires   \n",
       "...                 ...                         ...                    ...   \n",
       "2327028          999994            Tierra del Fuego       Tierra del Fuego   \n",
       "2327029          999995                     Formosa                Formosa   \n",
       "2327030          999996                        CABA                   CABA   \n",
       "2327031          999997                        CABA                Córdoba   \n",
       "2327032          999999                Buenos Aires           Buenos Aires   \n",
       "\n",
       "         pcia_rec_eq_pcia_car  \n",
       "0                           0  \n",
       "1                           1  \n",
       "2                           1  \n",
       "3                           1  \n",
       "4                           1  \n",
       "...                       ...  \n",
       "2327028                     1  \n",
       "2327029                     1  \n",
       "2327030                     1  \n",
       "2327031                     0  \n",
       "2327032                     1  \n",
       "\n",
       "[2234447 rows x 4 columns]"
      ]
     },
     "execution_count": 23,
     "metadata": {},
     "output_type": "execute_result"
    }
   ],
   "source": [
    "dataset[['id_evento_caso', 'residencia_provincia_nombre', 'carga_provincia_nombre', 'pcia_rec_eq_pcia_car']]"
   ]
  },
  {
   "cell_type": "code",
   "execution_count": 24,
   "metadata": {},
   "outputs": [],
   "source": [
    "#Elimino la columna país porque todos los registros tienen el mismo valor\n",
    "dataset.drop(['carga_provincia_nombre'], axis=1, inplace=True)"
   ]
  },
  {
   "cell_type": "markdown",
   "metadata": {},
   "source": [
    "#### Provincia"
   ]
  },
  {
   "cell_type": "code",
   "execution_count": 25,
   "metadata": {},
   "outputs": [
    {
     "data": {
      "text/plain": [
       "Buenos Aires           1109300\n",
       "CABA                    396571\n",
       "Santa Fe                124303\n",
       "Córdoba                 114909\n",
       "Mendoza                  73896\n",
       "Tucumán                  60128\n",
       "Chaco                    52027\n",
       "Jujuy                    40727\n",
       "Río Negro                35002\n",
       "Salta                    32360\n",
       "Neuquén                  28059\n",
       "Entre Ríos               25467\n",
       "Santiago del Estero      23632\n",
       "Chubut                   17910\n",
       "La Rioja                 16567\n",
       "Tierra del Fuego         15336\n",
       "Santa Cruz               14518\n",
       "Corrientes               13386\n",
       "San Luis                 10413\n",
       "La Pampa                  8303\n",
       "Catamarca                 6691\n",
       "Misiones                  5638\n",
       "SIN ESPECIFICAR           4598\n",
       "San Juan                  3213\n",
       "Formosa                   1493\n",
       "Name: residencia_provincia_nombre, dtype: int64"
      ]
     },
     "execution_count": 25,
     "metadata": {},
     "output_type": "execute_result"
    },
    {
     "data": {
      "image/png": "[encoded data removed]",
      "text/plain": [
       "<Figure size 432x288 with 1 Axes>"
      ]
     },
     "metadata": {
      "needs_background": "light"
     },
     "output_type": "display_data"
    }
   ],
   "source": [
    "dataset.residencia_provincia_nombre.value_counts().plot.bar()\n",
    "dataset.residencia_provincia_nombre.value_counts()"
   ]
  },
  {
   "cell_type": "code",
   "execution_count": 26,
   "metadata": {},
   "outputs": [],
   "source": [
    "dataset.drop(dataset[dataset.residencia_provincia_nombre == \"SIN ESPECIFICAR\"].index, inplace=True)"
   ]
  },
  {
   "cell_type": "code",
   "execution_count": 27,
   "metadata": {},
   "outputs": [],
   "source": [
    "### One Hot Encoder\n",
    "dataset = pd.concat([dataset, pd.get_dummies(dataset['residencia_provincia_nombre'], prefix='residencia_provincia')],axis=1).drop(['residencia_provincia_nombre'], axis=1)"
   ]
  },
  {
   "cell_type": "code",
   "execution_count": 28,
   "metadata": {},
   "outputs": [],
   "source": [
    "# Rename columns \n",
    "\n",
    "columns = {\n",
    "    'residencia_provincia_Buenos Aires': 'residencia_provincia_buenos_aires',\n",
    "    'residencia_provincia_CABA': 'residencia_provincia_caba',\n",
    "    'residencia_provincia_Catamarca': 'residencia_provincia_catamarca',\n",
    "    'residencia_provincia_Chaco': 'residencia_provincia_chaco',\n",
    "    'residencia_provincia_Chubut': 'residencia_provincia_chubut',\n",
    "    'residencia_provincia_corrientes': 'residencia_provincia_corrientes',\n",
    "    'residencia_provincia_Córdoba': 'residencia_provincia_cordoba',\n",
    "    'residencia_provincia_Entre Ríos': 'residencia_provincia_entre_rios',\n",
    "    'residencia_provincia_Formosa': 'residencia_provincia_formosa',\n",
    "    'residencia_provincia_Jujuy': 'residencia_provincia_jujuy',\n",
    "    'residencia_provincia_La Pampa': 'residencia_provincia_la_pampa',\n",
    "    'residencia_provincia_La Rioja': 'residencia_provincia_la_rioja',\n",
    "    'residencia_provincia_Mendoza': 'residencia_provincia_mendoza',\n",
    "    'residencia_provincia_Misiones': 'residencia_provincia_misiones',\n",
    "    'residencia_provincia_Neuquén': 'residencia_provincia_neuquen',\n",
    "    'residencia_provincia_Río Negro': 'residencia_provincia_rio_negro',\n",
    "    'residencia_provincia_Salta': 'residencia_provincia_salta',\n",
    "    'residencia_provincia_San Juan': 'residencia_provincia_san_juan',\n",
    "    'residencia_provincia_San Luis': 'residencia_provincia_san_luis',\n",
    "    'residencia_provincia_Santa Cruz': 'residencia_provincia_santa_cruz',\n",
    "    'residencia_provincia_Santa Fe': 'residencia_provincia_santa_fe',\n",
    "    'residencia_provincia_Santiago del Estero': 'residencia_provincia_santiago_del_estero',\n",
    "    'residencia_provincia_Tierra del Fuego': 'residencia_provincia_tierra_del_fuego',\n",
    "    'residencia_provincia_Tucumán': 'residencia_provincia_tucuman'\n",
    "}\n",
    "\n",
    "dataset = dataset.rename(columns=columns)"
   ]
  },
  {
   "cell_type": "markdown",
   "metadata": {},
   "source": [
    "#### Departamento"
   ]
  },
  {
   "cell_type": "code",
   "execution_count": 29,
   "metadata": {},
   "outputs": [
    {
     "data": {
      "text/plain": [
       "(446,)"
      ]
     },
     "execution_count": 29,
     "metadata": {},
     "output_type": "execute_result"
    }
   ],
   "source": [
    "dataset.residencia_departamento_nombre.unique().shape"
   ]
  },
  {
   "cell_type": "code",
   "execution_count": 30,
   "metadata": {},
   "outputs": [],
   "source": [
    "# Eliminamos la columna residencia_departamento_nombre\n",
    "dataset.drop(['residencia_departamento_nombre'], axis=1, inplace=True)"
   ]
  },
  {
   "cell_type": "markdown",
   "metadata": {},
   "source": [
    "- Se descarta el departamento porque agrega demasiada dispersión (445 nuevas columnas de One Hot Encoder)"
   ]
  },
  {
   "cell_type": "markdown",
   "metadata": {},
   "source": [
    "#### Eliminamos las columnas de lugares no necesarias: las que incluyen id's"
   ]
  },
  {
   "cell_type": "code",
   "execution_count": 31,
   "metadata": {},
   "outputs": [],
   "source": [
    "dataset.drop(['carga_provincia_id'], axis=1, inplace=True)\n",
    "dataset.drop(['residencia_provincia_id'], axis=1, inplace=True)\n",
    "dataset.drop(['residencia_departamento_id'], axis=1, inplace=True)"
   ]
  },
  {
   "cell_type": "markdown",
   "metadata": {},
   "source": [
    "### Fechas"
   ]
  },
  {
   "cell_type": "markdown",
   "metadata": {},
   "source": [
    "#### Análisis de nulos en fechas"
   ]
  },
  {
   "cell_type": "code",
   "execution_count": 32,
   "metadata": {},
   "outputs": [
    {
     "name": "stdout",
     "output_type": "stream",
     "text": [
      "fecha_inicio_sintomas\n",
      "False    1212521\n",
      "True     1017328\n",
      "Name: fecha_inicio_sintomas, dtype: int64\n",
      "**************************************************\n",
      "fecha_apertura\n",
      "False    2229848\n",
      "True           1\n",
      "Name: fecha_apertura, dtype: int64\n",
      "**************************************************\n",
      "fecha_internacion\n",
      "True     2058100\n",
      "False     171749\n",
      "Name: fecha_internacion, dtype: int64\n",
      "**************************************************\n",
      "fecha_cui_intensivo\n",
      "True     2204694\n",
      "False      25155\n",
      "Name: fecha_cui_intensivo, dtype: int64\n",
      "**************************************************\n",
      "fecha_diagnostico\n",
      "False    1926597\n",
      "True      303252\n",
      "Name: fecha_diagnostico, dtype: int64\n"
     ]
    }
   ],
   "source": [
    "print('fecha_inicio_sintomas')\n",
    "print(dataset.fecha_inicio_sintomas.isnull().value_counts())\n",
    "print('*' * 50)\n",
    "print('fecha_apertura')\n",
    "print(dataset.fecha_apertura.isnull().value_counts())\n",
    "print('*' * 50)\n",
    "print('fecha_internacion')\n",
    "print(dataset.fecha_internacion.isnull().value_counts())\n",
    "print('*' * 50)\n",
    "print('fecha_cui_intensivo')\n",
    "print(dataset.fecha_cui_intensivo.isnull().value_counts())\n",
    "print('*' * 50)\n",
    "print('fecha_diagnostico')\n",
    "print(dataset.fecha_diagnostico.isnull().value_counts())"
   ]
  },
  {
   "cell_type": "markdown",
   "metadata": {},
   "source": [
    "#### Análisis fechas iguales"
   ]
  },
  {
   "cell_type": "markdown",
   "metadata": {},
   "source": [
    "#### fecha_inicio_sintomas"
   ]
  },
  {
   "cell_type": "code",
   "execution_count": 33,
   "metadata": {},
   "outputs": [
    {
     "name": "stdout",
     "output_type": "stream",
     "text": [
      "Cantidad iguales fecha_inicio_sintomas y fecha_apertura:  59823\n",
      "Cantidad iguales fecha_inicio_sintomas y fecha_internacion :  34305\n",
      "Cantidad iguales fecha_inicio_sintomas y fecha_cui_intensivo:  6649\n",
      "Cantidad iguales fecha_inicio_sintomas y fecha_diagnostico:  23612\n"
     ]
    }
   ],
   "source": [
    "cant_ap = dataset[dataset.fecha_inicio_sintomas == dataset.fecha_apertura].shape[0]\n",
    "print('Cantidad iguales fecha_inicio_sintomas y fecha_apertura: ', cant_ap)\n",
    "\n",
    "cant_int = dataset[dataset.fecha_inicio_sintomas == dataset.fecha_internacion].shape[0]\n",
    "print('Cantidad iguales fecha_inicio_sintomas y fecha_internacion : ', cant_int)\n",
    "\n",
    "cant_cui = dataset[dataset.fecha_inicio_sintomas == dataset.fecha_cui_intensivo].shape[0]\n",
    "print('Cantidad iguales fecha_inicio_sintomas y fecha_cui_intensivo: ', cant_cui)\n",
    "\n",
    "cant_di = dataset[dataset.fecha_inicio_sintomas == dataset.fecha_diagnostico].shape[0]\n",
    "print('Cantidad iguales fecha_inicio_sintomas y fecha_diagnostico: ', cant_di)"
   ]
  },
  {
   "cell_type": "markdown",
   "metadata": {},
   "source": [
    "#### fecha_apertura"
   ]
  },
  {
   "cell_type": "code",
   "execution_count": 34,
   "metadata": {},
   "outputs": [
    {
     "name": "stdout",
     "output_type": "stream",
     "text": [
      "Cantidad iguales fecha_apertura y fecha_internacion:  64481\n",
      "Cantidad iguales fecha_apertura y fecha_cui_intensivo:  7132\n",
      "Cantidad iguales fecha_apertura y fecha_diagnostico:  670330\n"
     ]
    }
   ],
   "source": [
    "cant_int_2 = dataset[dataset.fecha_apertura == dataset.fecha_internacion].shape[0]\n",
    "print('Cantidad iguales fecha_apertura y fecha_internacion: ', cant_int_2)\n",
    "\n",
    "cant_cui_2 = dataset[dataset.fecha_apertura == dataset.fecha_cui_intensivo ].shape[0]\n",
    "print('Cantidad iguales fecha_apertura y fecha_cui_intensivo: ', cant_cui_2)\n",
    "\n",
    "cant_di_2 = dataset[dataset.fecha_apertura == dataset.fecha_diagnostico].shape[0]\n",
    "print('Cantidad iguales fecha_apertura y fecha_diagnostico: ', cant_di_2)"
   ]
  },
  {
   "cell_type": "markdown",
   "metadata": {},
   "source": [
    "#### fecha_internacion"
   ]
  },
  {
   "cell_type": "code",
   "execution_count": 35,
   "metadata": {},
   "outputs": [
    {
     "name": "stdout",
     "output_type": "stream",
     "text": [
      "Cantidad iguales fecha_internacion y fecha_cui_intensivo:  20489\n",
      "Cantidad iguales fecha_internacion y fecha_diagnostico:  26740\n"
     ]
    }
   ],
   "source": [
    "cant_cui_3 = dataset[dataset.fecha_internacion == dataset.fecha_cui_intensivo ].shape[0]\n",
    "print('Cantidad iguales fecha_internacion y fecha_cui_intensivo: ', cant_cui_3)\n",
    "\n",
    "cant_di_3 = dataset[dataset.fecha_internacion == dataset.fecha_diagnostico].shape[0]\n",
    "print('Cantidad iguales fecha_internacion y fecha_diagnostico: ', cant_di_3)"
   ]
  },
  {
   "cell_type": "markdown",
   "metadata": {},
   "source": [
    "#### fecha_cui_intensivo"
   ]
  },
  {
   "cell_type": "code",
   "execution_count": 36,
   "metadata": {},
   "outputs": [
    {
     "name": "stdout",
     "output_type": "stream",
     "text": [
      "Cantidad iguales fecha_cui_intensivo y fecha_diagnostico:  2909\n"
     ]
    }
   ],
   "source": [
    "cant_di_4 = dataset[dataset.fecha_cui_intensivo == dataset.fecha_diagnostico].shape[0]\n",
    "print('Cantidad iguales fecha_cui_intensivo y fecha_diagnostico: ', cant_di_4)"
   ]
  },
  {
   "cell_type": "markdown",
   "metadata": {},
   "source": [
    "### Creación de columnas"
   ]
  },
  {
   "cell_type": "markdown",
   "metadata": {},
   "source": [
    "#### fecha_inicio_sintomas"
   ]
  },
  {
   "cell_type": "code",
   "execution_count": 37,
   "metadata": {},
   "outputs": [
    {
     "data": {
      "text/plain": [
       "False    1212520\n",
       "True     1017329\n",
       "Name: fecha_ap_dif_fecha_in, dtype: int64"
      ]
     },
     "execution_count": 37,
     "metadata": {},
     "output_type": "execute_result"
    },
    {
     "data": {
      "image/png": "[encoded data removed]",
      "text/plain": [
       "<Figure size 288x288 with 1 Axes>"
      ]
     },
     "metadata": {},
     "output_type": "display_data"
    }
   ],
   "source": [
    "#Crear columna: fecha_apertura - fecha_inicio_sintomas \n",
    "dataset['fecha_ap_dif_fecha_in'] = dataset.fecha_apertura - dataset.fecha_inicio_sintomas \n",
    "dataset['fecha_ap_dif_fecha_in'].isnull().value_counts().plot.pie(autopct='%1.0f%%', figsize=(4, 4))\n",
    "dataset['fecha_ap_dif_fecha_in'].isnull().value_counts()"
   ]
  },
  {
   "cell_type": "code",
   "execution_count": 38,
   "metadata": {},
   "outputs": [
    {
     "data": {
      "text/plain": [
       "True     2071737\n",
       "False     158112\n",
       "Name: fecha_int_dif_fecha_in, dtype: int64"
      ]
     },
     "execution_count": 38,
     "metadata": {},
     "output_type": "execute_result"
    },
    {
     "data": {
      "image/png": "[encoded data removed]",
      "text/plain": [
       "<Figure size 288x288 with 1 Axes>"
      ]
     },
     "metadata": {},
     "output_type": "display_data"
    }
   ],
   "source": [
    "#Crear columna: fecha_internacion - fecha_inicio_sintomas \n",
    "dataset['fecha_int_dif_fecha_in'] = dataset.fecha_internacion - dataset.fecha_inicio_sintomas \n",
    "dataset['fecha_int_dif_fecha_in'].isnull().value_counts().plot.pie(autopct='%1.0f%%', figsize=(4, 4))\n",
    "dataset['fecha_int_dif_fecha_in'].isnull().value_counts()"
   ]
  },
  {
   "cell_type": "code",
   "execution_count": 39,
   "metadata": {},
   "outputs": [
    {
     "data": {
      "text/plain": [
       "True     2206218\n",
       "False      23631\n",
       "Name: fecha_cui_dif_fecha_in, dtype: int64"
      ]
     },
     "execution_count": 39,
     "metadata": {},
     "output_type": "execute_result"
    },
    {
     "data": {
      "image/png": "[encoded data removed]",
      "text/plain": [
       "<Figure size 288x288 with 1 Axes>"
      ]
     },
     "metadata": {},
     "output_type": "display_data"
    }
   ],
   "source": [
    "#Crear columna: fecha_cui_intensivo - fecha_inicio_sintomas \n",
    "dataset['fecha_cui_dif_fecha_in'] = dataset.fecha_cui_intensivo - dataset.fecha_inicio_sintomas \n",
    "dataset['fecha_cui_dif_fecha_in'].isnull().value_counts().plot.pie(autopct='%1.0f%%', figsize=(4, 4))\n",
    "dataset['fecha_cui_dif_fecha_in'].isnull().value_counts()"
   ]
  },
  {
   "cell_type": "code",
   "execution_count": 40,
   "metadata": {},
   "outputs": [
    {
     "data": {
      "text/plain": [
       "True     1173536\n",
       "False    1056313\n",
       "Name: fecha_di_dif_fecha_in, dtype: int64"
      ]
     },
     "execution_count": 40,
     "metadata": {},
     "output_type": "execute_result"
    },
    {
     "data": {
      "image/png": "[encoded data removed]",
      "text/plain": [
       "<Figure size 288x288 with 1 Axes>"
      ]
     },
     "metadata": {},
     "output_type": "display_data"
    }
   ],
   "source": [
    "#Crear columna: fecha_diagnostico - fecha_inicio_sintomas \n",
    "dataset['fecha_di_dif_fecha_in'] = dataset.fecha_diagnostico  - dataset.fecha_inicio_sintomas \n",
    "dataset['fecha_di_dif_fecha_in'].isnull().value_counts().plot.pie(autopct='%1.0f%%', figsize=(4, 4))\n",
    "dataset['fecha_di_dif_fecha_in'].isnull().value_counts()"
   ]
  },
  {
   "cell_type": "markdown",
   "metadata": {},
   "source": [
    "#### fecha_apertura "
   ]
  },
  {
   "cell_type": "code",
   "execution_count": 41,
   "metadata": {},
   "outputs": [
    {
     "data": {
      "text/plain": [
       "True     2058100\n",
       "False     171749\n",
       "Name: fecha_int_dif_fecha_ap, dtype: int64"
      ]
     },
     "execution_count": 41,
     "metadata": {},
     "output_type": "execute_result"
    },
    {
     "data": {
      "image/png": "[encoded data removed]",
      "text/plain": [
       "<Figure size 288x288 with 1 Axes>"
      ]
     },
     "metadata": {},
     "output_type": "display_data"
    }
   ],
   "source": [
    "#Crear columna: fecha_internacion - fecha_apertura\n",
    "dataset['fecha_int_dif_fecha_ap'] = dataset.fecha_internacion - dataset.fecha_apertura \n",
    "dataset['fecha_int_dif_fecha_ap'].isnull().value_counts().plot.pie(autopct='%1.0f%%', figsize=(4, 4))\n",
    "dataset['fecha_int_dif_fecha_ap'].isnull().value_counts()"
   ]
  },
  {
   "cell_type": "code",
   "execution_count": 42,
   "metadata": {},
   "outputs": [
    {
     "data": {
      "text/plain": [
       "True     2204694\n",
       "False      25155\n",
       "Name: fecha_cui_dif_fecha_ap, dtype: int64"
      ]
     },
     "execution_count": 42,
     "metadata": {},
     "output_type": "execute_result"
    },
    {
     "data": {
      "image/png": "[encoded data removed]",
      "text/plain": [
       "<Figure size 288x288 with 1 Axes>"
      ]
     },
     "metadata": {},
     "output_type": "display_data"
    }
   ],
   "source": [
    "#Crear columna: fecha_cui_intensivo - fecha_apertura\n",
    "dataset['fecha_cui_dif_fecha_ap'] = dataset.fecha_cui_intensivo - dataset.fecha_apertura\n",
    "dataset['fecha_cui_dif_fecha_ap'].isnull().value_counts().plot.pie(autopct='%1.0f%%', figsize=(4, 4))\n",
    "dataset['fecha_cui_dif_fecha_ap'].isnull().value_counts()"
   ]
  },
  {
   "cell_type": "markdown",
   "metadata": {},
   "source": [
    "### Elegido: fecha_diagnostico - fecha_apertura"
   ]
  },
  {
   "cell_type": "code",
   "execution_count": 43,
   "metadata": {},
   "outputs": [
    {
     "data": {
      "text/plain": [
       "False    1926596\n",
       "True      303253\n",
       "Name: fecha_di_dif_fecha_ap, dtype: int64"
      ]
     },
     "execution_count": 43,
     "metadata": {},
     "output_type": "execute_result"
    },
    {
     "data": {
      "image/png": "[encoded data removed]",
      "text/plain": [
       "<Figure size 288x288 with 1 Axes>"
      ]
     },
     "metadata": {},
     "output_type": "display_data"
    }
   ],
   "source": [
    "#Crear columna: fecha_diagnostico - fecha_apertura\n",
    "dataset['fecha_di_dif_fecha_ap'] = dataset.fecha_diagnostico - dataset.fecha_apertura\n",
    "dataset['fecha_di_dif_fecha_ap'].isnull().value_counts().plot.pie(autopct='%1.0f%%', figsize=(4, 4))\n",
    "dataset['fecha_di_dif_fecha_ap'].isnull().value_counts()"
   ]
  },
  {
   "cell_type": "markdown",
   "metadata": {},
   "source": [
    "#### fecha_internacion"
   ]
  },
  {
   "cell_type": "code",
   "execution_count": 44,
   "metadata": {},
   "outputs": [
    {
     "data": {
      "text/plain": [
       "True     2205176\n",
       "False      24673\n",
       "Name: fecha_cui_dif_fecha_int, dtype: int64"
      ]
     },
     "execution_count": 44,
     "metadata": {},
     "output_type": "execute_result"
    },
    {
     "data": {
      "image/png": "[encoded data removed]",
      "text/plain": [
       "<Figure size 288x288 with 1 Axes>"
      ]
     },
     "metadata": {},
     "output_type": "display_data"
    }
   ],
   "source": [
    "#Crear columna: fecha_cui_intensivo - fecha_internacion\n",
    "dataset['fecha_cui_dif_fecha_int'] = dataset.fecha_cui_intensivo - dataset.fecha_internacion\n",
    "dataset['fecha_cui_dif_fecha_int'].isnull().value_counts().plot.pie(autopct='%1.0f%%', figsize=(4, 4))\n",
    "dataset['fecha_cui_dif_fecha_int'].isnull().value_counts()"
   ]
  },
  {
   "cell_type": "code",
   "execution_count": 45,
   "metadata": {},
   "outputs": [
    {
     "data": {
      "text/plain": [
       "True     2068626\n",
       "False     161223\n",
       "Name: fecha_di_dif_fecha_int, dtype: int64"
      ]
     },
     "execution_count": 45,
     "metadata": {},
     "output_type": "execute_result"
    },
    {
     "data": {
      "image/png": "[encoded data removed]",
      "text/plain": [
       "<Figure size 288x288 with 1 Axes>"
      ]
     },
     "metadata": {},
     "output_type": "display_data"
    }
   ],
   "source": [
    "#Crear columna: fecha_diagnostico  - fecha_internacion\n",
    "dataset['fecha_di_dif_fecha_int'] = dataset.fecha_diagnostico - dataset.fecha_internacion\n",
    "dataset['fecha_di_dif_fecha_int'].isnull().value_counts().plot.pie(autopct='%1.0f%%', figsize=(4, 4))\n",
    "dataset['fecha_di_dif_fecha_int'].isnull().value_counts()"
   ]
  },
  {
   "cell_type": "markdown",
   "metadata": {},
   "source": [
    "#### fecha_cui_intensivo"
   ]
  },
  {
   "cell_type": "code",
   "execution_count": 46,
   "metadata": {},
   "outputs": [
    {
     "data": {
      "text/plain": [
       "True     2206115\n",
       "False      23734\n",
       "Name: fecha_di_dif_fecha_cui, dtype: int64"
      ]
     },
     "execution_count": 46,
     "metadata": {},
     "output_type": "execute_result"
    },
    {
     "data": {
      "image/png": "[encoded data removed]",
      "text/plain": [
       "<Figure size 288x288 with 1 Axes>"
      ]
     },
     "metadata": {},
     "output_type": "display_data"
    }
   ],
   "source": [
    "#Crear columna: fecha_cui_intensivo - fecha_apertura\n",
    "dataset['fecha_di_dif_fecha_cui'] = dataset.fecha_diagnostico - dataset.fecha_cui_intensivo\n",
    "dataset['fecha_di_dif_fecha_cui'].isnull().value_counts().plot.pie(autopct='%1.0f%%', figsize=(4, 4))\n",
    "dataset['fecha_di_dif_fecha_cui'].isnull().value_counts()"
   ]
  },
  {
   "cell_type": "markdown",
   "metadata": {},
   "source": [
    "#### Eliminamos las fechas que no vamos a usar: dejamos sólo la columna fecha_di_dif_fecha_ap"
   ]
  },
  {
   "cell_type": "code",
   "execution_count": 47,
   "metadata": {},
   "outputs": [],
   "source": [
    "dataset.drop(['fecha_inicio_sintomas'], axis=1, inplace=True)\n",
    "dataset.drop(['fecha_apertura'], axis=1, inplace=True)\n",
    "dataset.drop(['fecha_internacion'], axis=1, inplace=True)\n",
    "dataset.drop(['fecha_cui_intensivo'], axis=1, inplace=True)\n",
    "dataset.drop(['fecha_diagnostico'], axis=1, inplace=True)\n",
    "dataset.drop(['fecha_ap_dif_fecha_in'], axis=1, inplace=True)\n",
    "dataset.drop(['fecha_int_dif_fecha_in'], axis=1, inplace=True)\n",
    "dataset.drop(['fecha_cui_dif_fecha_in'], axis=1, inplace=True)\n",
    "dataset.drop(['fecha_di_dif_fecha_in'], axis=1, inplace=True)\n",
    "dataset.drop(['fecha_int_dif_fecha_ap'], axis=1, inplace=True)\n",
    "dataset.drop(['fecha_cui_dif_fecha_ap'], axis=1, inplace=True)\n",
    "dataset.drop(['fecha_cui_dif_fecha_int'], axis=1, inplace=True)\n",
    "dataset.drop(['fecha_di_dif_fecha_int'], axis=1, inplace=True)\n",
    "dataset.drop(['fecha_di_dif_fecha_cui'], axis=1, inplace=True)\n",
    "\n",
    "dataset.drop(['ultima_actualizacion'], axis=1, inplace=True)"
   ]
  },
  {
   "cell_type": "code",
   "execution_count": 48,
   "metadata": {},
   "outputs": [],
   "source": [
    "### Eliminamos la fecha de fallecido ya que si la variable target e4s fallecido, estaríamos introduciendo información a posteriori en el modelo\n",
    "dataset.drop(['fecha_fallecimiento'], axis=1, inplace=True)"
   ]
  },
  {
   "cell_type": "code",
   "execution_count": 49,
   "metadata": {},
   "outputs": [],
   "source": [
    "# Transformamos el valor de esta nueva característica en numérico\n",
    "dataset['fecha_di_dif_fecha_ap'] = dataset['fecha_di_dif_fecha_ap'].astype('timedelta64[D]')"
   ]
  },
  {
   "cell_type": "code",
   "execution_count": 50,
   "metadata": {},
   "outputs": [],
   "source": [
    "# Eliminamos los registros que no tienen valor en la columna fecha_di_dif_fecha_ap\n",
    "dataset.drop(dataset[np.isnan(dataset.fecha_di_dif_fecha_ap)].index, inplace=True)"
   ]
  },
  {
   "cell_type": "markdown",
   "metadata": {},
   "source": [
    "### sepi_apertura"
   ]
  },
  {
   "cell_type": "code",
   "execution_count": 51,
   "metadata": {},
   "outputs": [
    {
     "data": {
      "text/plain": [
       "<matplotlib.axes._subplots.AxesSubplot at 0x7f913b10bc50>"
      ]
     },
     "execution_count": 51,
     "metadata": {},
     "output_type": "execute_result"
    },
    {
     "data": {
      "image/png": "[encoded data removed]",
      "text/plain": [
       "<Figure size 432x288 with 1 Axes>"
      ]
     },
     "metadata": {
      "needs_background": "light"
     },
     "output_type": "display_data"
    }
   ],
   "source": [
    "dataset.sepi_apertura.value_counts().plot.bar()"
   ]
  },
  {
   "cell_type": "code",
   "execution_count": 52,
   "metadata": {},
   "outputs": [
    {
     "data": {
      "text/plain": [
       "<matplotlib.axes._subplots.AxesSubplot at 0x7f913f35b438>"
      ]
     },
     "execution_count": 52,
     "metadata": {},
     "output_type": "execute_result"
    },
    {
     "data": {
      "image/png": "[encoded data removed]",
      "text/plain": [
       "<Figure size 288x288 with 1 Axes>"
      ]
     },
     "metadata": {},
     "output_type": "display_data"
    }
   ],
   "source": [
    "dataset.sepi_apertura.isnull().value_counts().plot.pie(autopct='%1.0f%%', figsize=(4, 4))"
   ]
  },
  {
   "cell_type": "markdown",
   "metadata": {},
   "source": [
    "### cuidado_intensivo"
   ]
  },
  {
   "cell_type": "code",
   "execution_count": 53,
   "metadata": {},
   "outputs": [
    {
     "data": {
      "text/plain": [
       "array(['NO', 'SI'], dtype=object)"
      ]
     },
     "execution_count": 53,
     "metadata": {},
     "output_type": "execute_result"
    }
   ],
   "source": [
    "dataset['cuidado_intensivo'].unique()"
   ]
  },
  {
   "cell_type": "code",
   "execution_count": 54,
   "metadata": {},
   "outputs": [],
   "source": [
    "# Binarización de la variable\n",
    "dataset['cuidado_intensivo'] = (dataset['cuidado_intensivo'] == \"SI\")\n",
    "dataset['cuidado_intensivo'] = dataset['cuidado_intensivo'].astype(int)"
   ]
  },
  {
   "cell_type": "code",
   "execution_count": 55,
   "metadata": {},
   "outputs": [
    {
     "data": {
      "text/plain": [
       "<matplotlib.axes._subplots.AxesSubplot at 0x7f9139a649e8>"
      ]
     },
     "execution_count": 55,
     "metadata": {},
     "output_type": "execute_result"
    },
    {
     "data": {
      "image/png": "[encoded data removed]",
      "text/plain": [
       "<Figure size 432x288 with 1 Axes>"
      ]
     },
     "metadata": {
      "needs_background": "light"
     },
     "output_type": "display_data"
    }
   ],
   "source": [
    "dataset.cuidado_intensivo.value_counts().plot.bar()"
   ]
  },
  {
   "cell_type": "code",
   "execution_count": 56,
   "metadata": {},
   "outputs": [
    {
     "data": {
      "text/plain": [
       "<matplotlib.axes._subplots.AxesSubplot at 0x7f9139a34f98>"
      ]
     },
     "execution_count": 56,
     "metadata": {},
     "output_type": "execute_result"
    },
    {
     "data": {
      "image/png": "[encoded data removed]",
      "text/plain": [
       "<Figure size 288x288 with 1 Axes>"
      ]
     },
     "metadata": {},
     "output_type": "display_data"
    }
   ],
   "source": [
    "dataset.cuidado_intensivo.isnull().value_counts().plot.pie(autopct='%1.0f%%', figsize=(4, 4))"
   ]
  },
  {
   "cell_type": "code",
   "execution_count": 57,
   "metadata": {},
   "outputs": [
    {
     "data": {
      "text/plain": [
       "array([0, 1])"
      ]
     },
     "execution_count": 57,
     "metadata": {},
     "output_type": "execute_result"
    }
   ],
   "source": [
    "dataset.cuidado_intensivo.unique()"
   ]
  },
  {
   "cell_type": "markdown",
   "metadata": {},
   "source": [
    "### asistencia_respiratoria_mecanica "
   ]
  },
  {
   "cell_type": "code",
   "execution_count": 58,
   "metadata": {},
   "outputs": [
    {
     "data": {
      "text/plain": [
       "array(['NO', 'SI'], dtype=object)"
      ]
     },
     "execution_count": 58,
     "metadata": {},
     "output_type": "execute_result"
    }
   ],
   "source": [
    "dataset['asistencia_respiratoria_mecanica'].unique()"
   ]
  },
  {
   "cell_type": "code",
   "execution_count": 59,
   "metadata": {},
   "outputs": [],
   "source": [
    "# Binarización de la variable\n",
    "dataset['asistencia_respiratoria_mecanica'] = (dataset['asistencia_respiratoria_mecanica'] == \"SI\")\n",
    "dataset['asistencia_respiratoria_mecanica'] = dataset['asistencia_respiratoria_mecanica'].astype(int)"
   ]
  },
  {
   "cell_type": "code",
   "execution_count": 60,
   "metadata": {},
   "outputs": [
    {
     "data": {
      "text/plain": [
       "<matplotlib.axes._subplots.AxesSubplot at 0x7f913b11d6d8>"
      ]
     },
     "execution_count": 60,
     "metadata": {},
     "output_type": "execute_result"
    },
    {
     "data": {
      "image/png": "[encoded data removed]",
      "text/plain": [
       "<Figure size 432x288 with 1 Axes>"
      ]
     },
     "metadata": {
      "needs_background": "light"
     },
     "output_type": "display_data"
    }
   ],
   "source": [
    "dataset.asistencia_respiratoria_mecanica.value_counts().plot.bar()"
   ]
  },
  {
   "cell_type": "code",
   "execution_count": 61,
   "metadata": {},
   "outputs": [
    {
     "data": {
      "text/plain": [
       "<matplotlib.axes._subplots.AxesSubplot at 0x7f913b0c82e8>"
      ]
     },
     "execution_count": 61,
     "metadata": {},
     "output_type": "execute_result"
    },
    {
     "data": {
      "image/png": "[encoded data removed]",
      "text/plain": [
       "<Figure size 288x288 with 1 Axes>"
      ]
     },
     "metadata": {},
     "output_type": "display_data"
    }
   ],
   "source": [
    "dataset.asistencia_respiratoria_mecanica.isnull().value_counts().plot.pie(autopct='%1.0f%%', figsize=(4, 4))"
   ]
  },
  {
   "cell_type": "code",
   "execution_count": 62,
   "metadata": {},
   "outputs": [
    {
     "data": {
      "text/plain": [
       "array([0, 1])"
      ]
     },
     "execution_count": 62,
     "metadata": {},
     "output_type": "execute_result"
    }
   ],
   "source": [
    "dataset.asistencia_respiratoria_mecanica.unique()"
   ]
  },
  {
   "cell_type": "markdown",
   "metadata": {},
   "source": [
    "### origen_financiamiento"
   ]
  },
  {
   "cell_type": "code",
   "execution_count": 63,
   "metadata": {},
   "outputs": [
    {
     "data": {
      "text/plain": [
       "array(['Privado', 'Público'], dtype=object)"
      ]
     },
     "execution_count": 63,
     "metadata": {},
     "output_type": "execute_result"
    }
   ],
   "source": [
    "dataset.origen_financiamiento.unique()"
   ]
  },
  {
   "cell_type": "code",
   "execution_count": 64,
   "metadata": {},
   "outputs": [],
   "source": [
    "dataset.drop(dataset[dataset.origen_financiamiento == \"*sin dato*\"].index, inplace=True)"
   ]
  },
  {
   "cell_type": "code",
   "execution_count": 65,
   "metadata": {},
   "outputs": [
    {
     "data": {
      "text/plain": [
       "array(['Privado', 'Público'], dtype=object)"
      ]
     },
     "execution_count": 65,
     "metadata": {},
     "output_type": "execute_result"
    }
   ],
   "source": [
    "dataset['origen_financiamiento'].unique()"
   ]
  },
  {
   "cell_type": "code",
   "execution_count": 66,
   "metadata": {},
   "outputs": [],
   "source": [
    "# Binarización de la variable\n",
    "dataset['origen_financiamiento'] = (dataset['origen_financiamiento'] == \"Público\")\n",
    "dataset['origen_financiamiento'] = dataset['origen_financiamiento'].astype(int)"
   ]
  },
  {
   "cell_type": "code",
   "execution_count": 67,
   "metadata": {},
   "outputs": [],
   "source": [
    "# cambio de nombre de la variable\n",
    "dataset = dataset.rename(columns={\"origen_financiamiento\": \"financiamiento_publico\"})"
   ]
  },
  {
   "cell_type": "code",
   "execution_count": 68,
   "metadata": {},
   "outputs": [
    {
     "data": {
      "text/plain": [
       "1    1167326\n",
       "0     759270\n",
       "Name: financiamiento_publico, dtype: int64"
      ]
     },
     "execution_count": 68,
     "metadata": {},
     "output_type": "execute_result"
    },
    {
     "data": {
      "image/png": "[encoded data removed]",
      "text/plain": [
       "<Figure size 432x288 with 1 Axes>"
      ]
     },
     "metadata": {
      "needs_background": "light"
     },
     "output_type": "display_data"
    }
   ],
   "source": [
    "dataset.financiamiento_publico.value_counts().plot.bar()\n",
    "dataset.financiamiento_publico.value_counts()"
   ]
  },
  {
   "cell_type": "code",
   "execution_count": 69,
   "metadata": {},
   "outputs": [
    {
     "data": {
      "text/plain": [
       "<matplotlib.axes._subplots.AxesSubplot at 0x7f913b141860>"
      ]
     },
     "execution_count": 69,
     "metadata": {},
     "output_type": "execute_result"
    },
    {
     "data": {
      "image/png": "[encoded data removed]",
      "text/plain": [
       "<Figure size 288x288 with 1 Axes>"
      ]
     },
     "metadata": {},
     "output_type": "display_data"
    }
   ],
   "source": [
    "dataset.financiamiento_publico.isnull().value_counts().plot.pie(autopct='%1.0f%%', figsize=(4, 4))"
   ]
  },
  {
   "cell_type": "markdown",
   "metadata": {},
   "source": [
    "### Clasificación (podría usarse como target)"
   ]
  },
  {
   "cell_type": "code",
   "execution_count": 70,
   "metadata": {},
   "outputs": [
    {
     "data": {
      "text/plain": [
       "Caso Descartado                                                                               1095789\n",
       "Caso confirmado por laboratorio - No activo (por tiempo de evolución)                          642638\n",
       "Caso confirmado por laboratorio - Activo Internado                                              69974\n",
       "Caso confirmado por laboratorio - Activo                                                        58242\n",
       "Caso confirmado por laboratorio - No Activo por criterio de laboratorio                         34916\n",
       "Caso confirmado por laboratorio - Fallecido                                                     23159\n",
       "Caso confirmado por criterio clínico-epidemiológico  - No activo (por tiempo de evolución)       1468\n",
       "Caso confirmado por criterio clínico - epidemiológico -  Activo internado                         200\n",
       "Caso confirmado por criterio clinico-epidemiológico - Activo                                      129\n",
       "Caso confirmado por criterio clínico-epidemiologico - Fallecido                                    81\n",
       "Name: clasificacion, dtype: int64"
      ]
     },
     "execution_count": 70,
     "metadata": {},
     "output_type": "execute_result"
    },
    {
     "data": {
      "image/png": "[encoded data removed]",
      "text/plain": [
       "<Figure size 432x288 with 1 Axes>"
      ]
     },
     "metadata": {
      "needs_background": "light"
     },
     "output_type": "display_data"
    }
   ],
   "source": [
    "dataset.clasificacion.value_counts().plot.bar()\n",
    "dataset.clasificacion.value_counts()"
   ]
  },
  {
   "cell_type": "code",
   "execution_count": 71,
   "metadata": {},
   "outputs": [
    {
     "data": {
      "text/plain": [
       "Descartado    1095789\n",
       "Confirmado     830807\n",
       "Name: clasificacion_resumen, dtype: int64"
      ]
     },
     "execution_count": 71,
     "metadata": {},
     "output_type": "execute_result"
    },
    {
     "data": {
      "image/png": "[encoded data removed]",
      "text/plain": [
       "<Figure size 432x288 with 1 Axes>"
      ]
     },
     "metadata": {
      "needs_background": "light"
     },
     "output_type": "display_data"
    }
   ],
   "source": [
    "dataset.clasificacion_resumen.value_counts().plot.bar()\n",
    "dataset.clasificacion_resumen.value_counts()"
   ]
  },
  {
   "cell_type": "code",
   "execution_count": 72,
   "metadata": {},
   "outputs": [],
   "source": [
    "### One Hot Encoder\n",
    "dataset = pd.concat([dataset, pd.get_dummies(dataset['clasificacion_resumen'], prefix='clasificacion')],axis=1).drop(['clasificacion_resumen'], axis=1)"
   ]
  },
  {
   "cell_type": "code",
   "execution_count": 73,
   "metadata": {},
   "outputs": [],
   "source": [
    "dataset = dataset.rename(columns={\"clasificacion_Confirmado\": \"clasificacion_confirmado\", \n",
    "                                  \"clasificacion_Descartado\": \"clasificacion_descartado\",\n",
    "                                  \"clasificacion_Sospechoso\": \"clasificacion_sospechoso\",\n",
    "                                  \"clasificacion_Sin Clasificar\": \"clasificacion_sin_clasificar\"})"
   ]
  },
  {
   "cell_type": "code",
   "execution_count": 74,
   "metadata": {},
   "outputs": [],
   "source": [
    "# Eliminamos la columna clasificacion\n",
    "dataset.drop(['clasificacion'], axis=1, inplace=True)"
   ]
  },
  {
   "cell_type": "markdown",
   "metadata": {},
   "source": [
    "### Eliminamos las columnas que no utilizamos"
   ]
  },
  {
   "cell_type": "code",
   "execution_count": 75,
   "metadata": {},
   "outputs": [],
   "source": [
    "dataset.drop(['id_evento_caso'], axis=1, inplace=True)"
   ]
  },
  {
   "cell_type": "markdown",
   "metadata": {},
   "source": [
    "## Variable targets"
   ]
  },
  {
   "cell_type": "markdown",
   "metadata": {},
   "source": [
    "### Fallecido"
   ]
  },
  {
   "cell_type": "code",
   "execution_count": 76,
   "metadata": {},
   "outputs": [
    {
     "name": "stdout",
     "output_type": "stream",
     "text": [
      "NO    1898669\n",
      "SI      27927\n",
      "Name: fallecido, dtype: int64\n"
     ]
    },
    {
     "data": {
      "text/plain": [
       "<matplotlib.axes._subplots.AxesSubplot at 0x7f913b2274a8>"
      ]
     },
     "execution_count": 76,
     "metadata": {},
     "output_type": "execute_result"
    },
    {
     "data": {
      "image/png": "[encoded data removed]",
      "text/plain": [
       "<Figure size 576x576 with 1 Axes>"
      ]
     },
     "metadata": {},
     "output_type": "display_data"
    }
   ],
   "source": [
    "print(dataset.fallecido.value_counts())\n",
    "dataset.fallecido.value_counts().plot.pie(autopct='%1.0f%%', figsize=(8, 8))"
   ]
  },
  {
   "cell_type": "code",
   "execution_count": 77,
   "metadata": {},
   "outputs": [
    {
     "data": {
      "text/plain": [
       "array(['NO', 'SI'], dtype=object)"
      ]
     },
     "execution_count": 77,
     "metadata": {},
     "output_type": "execute_result"
    }
   ],
   "source": [
    "dataset['fallecido'].unique()"
   ]
  },
  {
   "cell_type": "code",
   "execution_count": 78,
   "metadata": {},
   "outputs": [],
   "source": [
    "# Binarización de la variable\n",
    "dataset['fallecido'] = (dataset['fallecido'] == \"SI\")\n",
    "dataset['fallecido'] = dataset['fallecido'].astype(int)"
   ]
  },
  {
   "cell_type": "code",
   "execution_count": 79,
   "metadata": {},
   "outputs": [
    {
     "name": "stdout",
     "output_type": "stream",
     "text": [
      "0    1903027\n",
      "1      23569\n",
      "Name: cuidado_intensivo, dtype: int64\n"
     ]
    },
    {
     "data": {
      "text/plain": [
       "<matplotlib.axes._subplots.AxesSubplot at 0x7f913b2c3780>"
      ]
     },
     "execution_count": 79,
     "metadata": {},
     "output_type": "execute_result"
    },
    {
     "data": {
      "image/png": "[encoded data removed]",
      "text/plain": [
       "<Figure size 432x288 with 1 Axes>"
      ]
     },
     "metadata": {
      "needs_background": "light"
     },
     "output_type": "display_data"
    }
   ],
   "source": [
    "print(dataset.cuidado_intensivo.value_counts())\n",
    "dataset.cuidado_intensivo.value_counts().plot.bar()"
   ]
  },
  {
   "cell_type": "code",
   "execution_count": 80,
   "metadata": {},
   "outputs": [
    {
     "data": {
      "text/plain": [
       "<matplotlib.axes._subplots.AxesSubplot at 0x7f913b1e7400>"
      ]
     },
     "execution_count": 80,
     "metadata": {},
     "output_type": "execute_result"
    },
    {
     "data": {
      "image/png": "[encoded data removed]",
      "text/plain": [
       "<Figure size 288x288 with 1 Axes>"
      ]
     },
     "metadata": {},
     "output_type": "display_data"
    }
   ],
   "source": [
    "dataset.fallecido.isnull().value_counts().plot.pie(autopct='%1.0f%%', figsize=(4, 4))"
   ]
  },
  {
   "cell_type": "markdown",
   "metadata": {},
   "source": [
    "### Dataset Limpio y Preprocesado"
   ]
  },
  {
   "cell_type": "code",
   "execution_count": 81,
   "metadata": {},
   "outputs": [],
   "source": [
    "dataset = dataset.convert_dtypes()"
   ]
  },
  {
   "cell_type": "code",
   "execution_count": 82,
   "metadata": {},
   "outputs": [
    {
     "name": "stdout",
     "output_type": "stream",
     "text": [
      "<class 'pandas.core.frame.DataFrame'>\n",
      "Int64Index: 1926596 entries, 0 to 2327032\n",
      "Data columns (total 37 columns):\n",
      " #   Column                                    Dtype\n",
      "---  ------                                    -----\n",
      " 0   edad                                      Int64\n",
      " 1   sepi_apertura                             Int64\n",
      " 2   cuidado_intensivo                         Int64\n",
      " 3   fallecido                                 Int64\n",
      " 4   asistencia_respiratoria_mecanica          Int64\n",
      " 5   financiamiento_publico                    Int64\n",
      " 6   sexo_f                                    UInt8\n",
      " 7   sexo_m                                    UInt8\n",
      " 8   sexo_nr                                   UInt8\n",
      " 9   pcia_rec_eq_pcia_car                      Int64\n",
      " 10  residencia_provincia_buenos_aires         UInt8\n",
      " 11  residencia_provincia_caba                 UInt8\n",
      " 12  residencia_provincia_catamarca            UInt8\n",
      " 13  residencia_provincia_chaco                UInt8\n",
      " 14  residencia_provincia_chubut               UInt8\n",
      " 15  residencia_provincia_Corrientes           UInt8\n",
      " 16  residencia_provincia_cordoba              UInt8\n",
      " 17  residencia_provincia_entre_rios           UInt8\n",
      " 18  residencia_provincia_formosa              UInt8\n",
      " 19  residencia_provincia_jujuy                UInt8\n",
      " 20  residencia_provincia_la_pampa             UInt8\n",
      " 21  residencia_provincia_la_rioja             UInt8\n",
      " 22  residencia_provincia_mendoza              UInt8\n",
      " 23  residencia_provincia_misiones             UInt8\n",
      " 24  residencia_provincia_neuquen              UInt8\n",
      " 25  residencia_provincia_rio_negro            UInt8\n",
      " 26  residencia_provincia_salta                UInt8\n",
      " 27  residencia_provincia_san_juan             UInt8\n",
      " 28  residencia_provincia_san_luis             UInt8\n",
      " 29  residencia_provincia_santa_cruz           UInt8\n",
      " 30  residencia_provincia_santa_fe             UInt8\n",
      " 31  residencia_provincia_santiago_del_estero  UInt8\n",
      " 32  residencia_provincia_tierra_del_fuego     UInt8\n",
      " 33  residencia_provincia_tucuman              UInt8\n",
      " 34  fecha_di_dif_fecha_ap                     Int64\n",
      " 35  clasificacion_confirmado                  UInt8\n",
      " 36  clasificacion_descartado                  UInt8\n",
      "dtypes: Int64(8), UInt8(29)\n",
      "memory usage: 333.6 MB\n"
     ]
    }
   ],
   "source": [
    "dataset.info()"
   ]
  },
  {
   "cell_type": "code",
   "execution_count": 83,
   "metadata": {},
   "outputs": [
    {
     "data": {
      "text/html": [
       "<div>\n",
       "<style scoped>\n",
       "    .dataframe tbody tr th:only-of-type {\n",
       "        vertical-align: middle;\n",
       "    }\n",
       "\n",
       "    .dataframe tbody tr th {\n",
       "        vertical-align: top;\n",
       "    }\n",
       "\n",
       "    .dataframe thead th {\n",
       "        text-align: right;\n",
       "    }\n",
       "</style>\n",
       "<table border=\"1\" class=\"dataframe\">\n",
       "  <thead>\n",
       "    <tr style=\"text-align: right;\">\n",
       "      <th></th>\n",
       "      <th>edad</th>\n",
       "      <th>sepi_apertura</th>\n",
       "      <th>cuidado_intensivo</th>\n",
       "      <th>fallecido</th>\n",
       "      <th>asistencia_respiratoria_mecanica</th>\n",
       "      <th>financiamiento_publico</th>\n",
       "      <th>sexo_f</th>\n",
       "      <th>sexo_m</th>\n",
       "      <th>sexo_nr</th>\n",
       "      <th>pcia_rec_eq_pcia_car</th>\n",
       "      <th>...</th>\n",
       "      <th>residencia_provincia_san_juan</th>\n",
       "      <th>residencia_provincia_san_luis</th>\n",
       "      <th>residencia_provincia_santa_cruz</th>\n",
       "      <th>residencia_provincia_santa_fe</th>\n",
       "      <th>residencia_provincia_santiago_del_estero</th>\n",
       "      <th>residencia_provincia_tierra_del_fuego</th>\n",
       "      <th>residencia_provincia_tucuman</th>\n",
       "      <th>fecha_di_dif_fecha_ap</th>\n",
       "      <th>clasificacion_confirmado</th>\n",
       "      <th>clasificacion_descartado</th>\n",
       "    </tr>\n",
       "  </thead>\n",
       "  <tbody>\n",
       "    <tr>\n",
       "      <th>0</th>\n",
       "      <td>53</td>\n",
       "      <td>23</td>\n",
       "      <td>0</td>\n",
       "      <td>0</td>\n",
       "      <td>0</td>\n",
       "      <td>0</td>\n",
       "      <td>0</td>\n",
       "      <td>1</td>\n",
       "      <td>0</td>\n",
       "      <td>0</td>\n",
       "      <td>...</td>\n",
       "      <td>0</td>\n",
       "      <td>0</td>\n",
       "      <td>0</td>\n",
       "      <td>0</td>\n",
       "      <td>0</td>\n",
       "      <td>0</td>\n",
       "      <td>0</td>\n",
       "      <td>8</td>\n",
       "      <td>0</td>\n",
       "      <td>1</td>\n",
       "    </tr>\n",
       "    <tr>\n",
       "      <th>1</th>\n",
       "      <td>21</td>\n",
       "      <td>23</td>\n",
       "      <td>0</td>\n",
       "      <td>0</td>\n",
       "      <td>0</td>\n",
       "      <td>1</td>\n",
       "      <td>0</td>\n",
       "      <td>1</td>\n",
       "      <td>0</td>\n",
       "      <td>1</td>\n",
       "      <td>...</td>\n",
       "      <td>0</td>\n",
       "      <td>0</td>\n",
       "      <td>0</td>\n",
       "      <td>0</td>\n",
       "      <td>0</td>\n",
       "      <td>0</td>\n",
       "      <td>0</td>\n",
       "      <td>0</td>\n",
       "      <td>0</td>\n",
       "      <td>1</td>\n",
       "    </tr>\n",
       "    <tr>\n",
       "      <th>2</th>\n",
       "      <td>40</td>\n",
       "      <td>23</td>\n",
       "      <td>0</td>\n",
       "      <td>0</td>\n",
       "      <td>0</td>\n",
       "      <td>0</td>\n",
       "      <td>1</td>\n",
       "      <td>0</td>\n",
       "      <td>0</td>\n",
       "      <td>1</td>\n",
       "      <td>...</td>\n",
       "      <td>0</td>\n",
       "      <td>0</td>\n",
       "      <td>0</td>\n",
       "      <td>0</td>\n",
       "      <td>0</td>\n",
       "      <td>0</td>\n",
       "      <td>0</td>\n",
       "      <td>0</td>\n",
       "      <td>0</td>\n",
       "      <td>1</td>\n",
       "    </tr>\n",
       "    <tr>\n",
       "      <th>3</th>\n",
       "      <td>58</td>\n",
       "      <td>23</td>\n",
       "      <td>0</td>\n",
       "      <td>0</td>\n",
       "      <td>0</td>\n",
       "      <td>1</td>\n",
       "      <td>1</td>\n",
       "      <td>0</td>\n",
       "      <td>0</td>\n",
       "      <td>1</td>\n",
       "      <td>...</td>\n",
       "      <td>0</td>\n",
       "      <td>0</td>\n",
       "      <td>0</td>\n",
       "      <td>0</td>\n",
       "      <td>0</td>\n",
       "      <td>0</td>\n",
       "      <td>0</td>\n",
       "      <td>0</td>\n",
       "      <td>0</td>\n",
       "      <td>1</td>\n",
       "    </tr>\n",
       "    <tr>\n",
       "      <th>5</th>\n",
       "      <td>26</td>\n",
       "      <td>23</td>\n",
       "      <td>0</td>\n",
       "      <td>0</td>\n",
       "      <td>0</td>\n",
       "      <td>1</td>\n",
       "      <td>0</td>\n",
       "      <td>1</td>\n",
       "      <td>0</td>\n",
       "      <td>1</td>\n",
       "      <td>...</td>\n",
       "      <td>0</td>\n",
       "      <td>0</td>\n",
       "      <td>0</td>\n",
       "      <td>0</td>\n",
       "      <td>0</td>\n",
       "      <td>0</td>\n",
       "      <td>0</td>\n",
       "      <td>24</td>\n",
       "      <td>1</td>\n",
       "      <td>0</td>\n",
       "    </tr>\n",
       "    <tr>\n",
       "      <th>...</th>\n",
       "      <td>...</td>\n",
       "      <td>...</td>\n",
       "      <td>...</td>\n",
       "      <td>...</td>\n",
       "      <td>...</td>\n",
       "      <td>...</td>\n",
       "      <td>...</td>\n",
       "      <td>...</td>\n",
       "      <td>...</td>\n",
       "      <td>...</td>\n",
       "      <td>...</td>\n",
       "      <td>...</td>\n",
       "      <td>...</td>\n",
       "      <td>...</td>\n",
       "      <td>...</td>\n",
       "      <td>...</td>\n",
       "      <td>...</td>\n",
       "      <td>...</td>\n",
       "      <td>...</td>\n",
       "      <td>...</td>\n",
       "      <td>...</td>\n",
       "    </tr>\n",
       "    <tr>\n",
       "      <th>2327028</th>\n",
       "      <td>39</td>\n",
       "      <td>23</td>\n",
       "      <td>0</td>\n",
       "      <td>0</td>\n",
       "      <td>0</td>\n",
       "      <td>1</td>\n",
       "      <td>0</td>\n",
       "      <td>1</td>\n",
       "      <td>0</td>\n",
       "      <td>1</td>\n",
       "      <td>...</td>\n",
       "      <td>0</td>\n",
       "      <td>0</td>\n",
       "      <td>0</td>\n",
       "      <td>0</td>\n",
       "      <td>0</td>\n",
       "      <td>1</td>\n",
       "      <td>0</td>\n",
       "      <td>0</td>\n",
       "      <td>0</td>\n",
       "      <td>1</td>\n",
       "    </tr>\n",
       "    <tr>\n",
       "      <th>2327029</th>\n",
       "      <td>33</td>\n",
       "      <td>23</td>\n",
       "      <td>0</td>\n",
       "      <td>0</td>\n",
       "      <td>0</td>\n",
       "      <td>1</td>\n",
       "      <td>0</td>\n",
       "      <td>1</td>\n",
       "      <td>0</td>\n",
       "      <td>1</td>\n",
       "      <td>...</td>\n",
       "      <td>0</td>\n",
       "      <td>0</td>\n",
       "      <td>0</td>\n",
       "      <td>0</td>\n",
       "      <td>0</td>\n",
       "      <td>0</td>\n",
       "      <td>0</td>\n",
       "      <td>11</td>\n",
       "      <td>1</td>\n",
       "      <td>0</td>\n",
       "    </tr>\n",
       "    <tr>\n",
       "      <th>2327030</th>\n",
       "      <td>42</td>\n",
       "      <td>23</td>\n",
       "      <td>0</td>\n",
       "      <td>0</td>\n",
       "      <td>0</td>\n",
       "      <td>0</td>\n",
       "      <td>0</td>\n",
       "      <td>1</td>\n",
       "      <td>0</td>\n",
       "      <td>1</td>\n",
       "      <td>...</td>\n",
       "      <td>0</td>\n",
       "      <td>0</td>\n",
       "      <td>0</td>\n",
       "      <td>0</td>\n",
       "      <td>0</td>\n",
       "      <td>0</td>\n",
       "      <td>0</td>\n",
       "      <td>0</td>\n",
       "      <td>0</td>\n",
       "      <td>1</td>\n",
       "    </tr>\n",
       "    <tr>\n",
       "      <th>2327031</th>\n",
       "      <td>30</td>\n",
       "      <td>23</td>\n",
       "      <td>0</td>\n",
       "      <td>0</td>\n",
       "      <td>0</td>\n",
       "      <td>1</td>\n",
       "      <td>1</td>\n",
       "      <td>0</td>\n",
       "      <td>0</td>\n",
       "      <td>0</td>\n",
       "      <td>...</td>\n",
       "      <td>0</td>\n",
       "      <td>0</td>\n",
       "      <td>0</td>\n",
       "      <td>0</td>\n",
       "      <td>0</td>\n",
       "      <td>0</td>\n",
       "      <td>0</td>\n",
       "      <td>1</td>\n",
       "      <td>0</td>\n",
       "      <td>1</td>\n",
       "    </tr>\n",
       "    <tr>\n",
       "      <th>2327032</th>\n",
       "      <td>57</td>\n",
       "      <td>23</td>\n",
       "      <td>0</td>\n",
       "      <td>0</td>\n",
       "      <td>0</td>\n",
       "      <td>1</td>\n",
       "      <td>1</td>\n",
       "      <td>0</td>\n",
       "      <td>0</td>\n",
       "      <td>1</td>\n",
       "      <td>...</td>\n",
       "      <td>0</td>\n",
       "      <td>0</td>\n",
       "      <td>0</td>\n",
       "      <td>0</td>\n",
       "      <td>0</td>\n",
       "      <td>0</td>\n",
       "      <td>0</td>\n",
       "      <td>1</td>\n",
       "      <td>0</td>\n",
       "      <td>1</td>\n",
       "    </tr>\n",
       "  </tbody>\n",
       "</table>\n",
       "<p>1926596 rows × 37 columns</p>\n",
       "</div>"
      ],
      "text/plain": [
       "         edad  sepi_apertura  cuidado_intensivo  fallecido  \\\n",
       "0          53             23                  0          0   \n",
       "1          21             23                  0          0   \n",
       "2          40             23                  0          0   \n",
       "3          58             23                  0          0   \n",
       "5          26             23                  0          0   \n",
       "...       ...            ...                ...        ...   \n",
       "2327028    39             23                  0          0   \n",
       "2327029    33             23                  0          0   \n",
       "2327030    42             23                  0          0   \n",
       "2327031    30             23                  0          0   \n",
       "2327032    57             23                  0          0   \n",
       "\n",
       "         asistencia_respiratoria_mecanica  financiamiento_publico  sexo_f  \\\n",
       "0                                       0                       0       0   \n",
       "1                                       0                       1       0   \n",
       "2                                       0                       0       1   \n",
       "3                                       0                       1       1   \n",
       "5                                       0                       1       0   \n",
       "...                                   ...                     ...     ...   \n",
       "2327028                                 0                       1       0   \n",
       "2327029                                 0                       1       0   \n",
       "2327030                                 0                       0       0   \n",
       "2327031                                 0                       1       1   \n",
       "2327032                                 0                       1       1   \n",
       "\n",
       "         sexo_m  sexo_nr  pcia_rec_eq_pcia_car  ...  \\\n",
       "0             1        0                     0  ...   \n",
       "1             1        0                     1  ...   \n",
       "2             0        0                     1  ...   \n",
       "3             0        0                     1  ...   \n",
       "5             1        0                     1  ...   \n",
       "...         ...      ...                   ...  ...   \n",
       "2327028       1        0                     1  ...   \n",
       "2327029       1        0                     1  ...   \n",
       "2327030       1        0                     1  ...   \n",
       "2327031       0        0                     0  ...   \n",
       "2327032       0        0                     1  ...   \n",
       "\n",
       "         residencia_provincia_san_juan  residencia_provincia_san_luis  \\\n",
       "0                                    0                              0   \n",
       "1                                    0                              0   \n",
       "2                                    0                              0   \n",
       "3                                    0                              0   \n",
       "5                                    0                              0   \n",
       "...                                ...                            ...   \n",
       "2327028                              0                              0   \n",
       "2327029                              0                              0   \n",
       "2327030                              0                              0   \n",
       "2327031                              0                              0   \n",
       "2327032                              0                              0   \n",
       "\n",
       "         residencia_provincia_santa_cruz  residencia_provincia_santa_fe  \\\n",
       "0                                      0                              0   \n",
       "1                                      0                              0   \n",
       "2                                      0                              0   \n",
       "3                                      0                              0   \n",
       "5                                      0                              0   \n",
       "...                                  ...                            ...   \n",
       "2327028                                0                              0   \n",
       "2327029                                0                              0   \n",
       "2327030                                0                              0   \n",
       "2327031                                0                              0   \n",
       "2327032                                0                              0   \n",
       "\n",
       "         residencia_provincia_santiago_del_estero  \\\n",
       "0                                               0   \n",
       "1                                               0   \n",
       "2                                               0   \n",
       "3                                               0   \n",
       "5                                               0   \n",
       "...                                           ...   \n",
       "2327028                                         0   \n",
       "2327029                                         0   \n",
       "2327030                                         0   \n",
       "2327031                                         0   \n",
       "2327032                                         0   \n",
       "\n",
       "         residencia_provincia_tierra_del_fuego  residencia_provincia_tucuman  \\\n",
       "0                                            0                             0   \n",
       "1                                            0                             0   \n",
       "2                                            0                             0   \n",
       "3                                            0                             0   \n",
       "5                                            0                             0   \n",
       "...                                        ...                           ...   \n",
       "2327028                                      1                             0   \n",
       "2327029                                      0                             0   \n",
       "2327030                                      0                             0   \n",
       "2327031                                      0                             0   \n",
       "2327032                                      0                             0   \n",
       "\n",
       "         fecha_di_dif_fecha_ap  clasificacion_confirmado  \\\n",
       "0                            8                         0   \n",
       "1                            0                         0   \n",
       "2                            0                         0   \n",
       "3                            0                         0   \n",
       "5                           24                         1   \n",
       "...                        ...                       ...   \n",
       "2327028                      0                         0   \n",
       "2327029                     11                         1   \n",
       "2327030                      0                         0   \n",
       "2327031                      1                         0   \n",
       "2327032                      1                         0   \n",
       "\n",
       "         clasificacion_descartado  \n",
       "0                               1  \n",
       "1                               1  \n",
       "2                               1  \n",
       "3                               1  \n",
       "5                               0  \n",
       "...                           ...  \n",
       "2327028                         1  \n",
       "2327029                         0  \n",
       "2327030                         1  \n",
       "2327031                         1  \n",
       "2327032                         1  \n",
       "\n",
       "[1926596 rows x 37 columns]"
      ]
     },
     "execution_count": 83,
     "metadata": {},
     "output_type": "execute_result"
    }
   ],
   "source": [
    "dataset"
   ]
  },
  {
   "cell_type": "markdown",
   "metadata": {},
   "source": [
    "### Próximos pasos\n",
    "\n",
    "- Normalizar los valores del dataset\n",
    "- Separar los conjuntos de datos en train - test\n",
    "- Experimentar con modelos"
   ]
  },
  {
   "cell_type": "markdown",
   "metadata": {},
   "source": [
    "### StandardScaler"
   ]
  },
  {
   "cell_type": "code",
   "execution_count": 84,
   "metadata": {},
   "outputs": [],
   "source": [
    "# Consultar: ¿es conveniente StandardScaler para NN o MinMaxScaler? ¿Se está 'normalizando' correctamente?\n",
    "from sklearn.preprocessing import StandardScaler\n",
    "\n",
    "def data_scaler(data):\n",
    "    scaler = StandardScaler()\n",
    "    scaler.fit(data)\n",
    "    return scaler.transform(data)"
   ]
  },
  {
   "cell_type": "markdown",
   "metadata": {},
   "source": [
    "### Separar los conjuntos de train y test"
   ]
  },
  {
   "cell_type": "code",
   "execution_count": 85,
   "metadata": {},
   "outputs": [],
   "source": [
    "from sklearn.model_selection import train_test_split"
   ]
  },
  {
   "cell_type": "code",
   "execution_count": 86,
   "metadata": {},
   "outputs": [
    {
     "data": {
      "text/plain": [
       "['edad',\n",
       " 'sepi_apertura',\n",
       " 'cuidado_intensivo',\n",
       " 'asistencia_respiratoria_mecanica',\n",
       " 'financiamiento_publico',\n",
       " 'sexo_f',\n",
       " 'sexo_m',\n",
       " 'sexo_nr',\n",
       " 'pcia_rec_eq_pcia_car',\n",
       " 'residencia_provincia_buenos_aires',\n",
       " 'residencia_provincia_caba',\n",
       " 'residencia_provincia_catamarca',\n",
       " 'residencia_provincia_chaco',\n",
       " 'residencia_provincia_chubut',\n",
       " 'residencia_provincia_Corrientes',\n",
       " 'residencia_provincia_cordoba',\n",
       " 'residencia_provincia_entre_rios',\n",
       " 'residencia_provincia_formosa',\n",
       " 'residencia_provincia_jujuy',\n",
       " 'residencia_provincia_la_pampa',\n",
       " 'residencia_provincia_la_rioja',\n",
       " 'residencia_provincia_mendoza',\n",
       " 'residencia_provincia_misiones',\n",
       " 'residencia_provincia_neuquen',\n",
       " 'residencia_provincia_rio_negro',\n",
       " 'residencia_provincia_salta',\n",
       " 'residencia_provincia_san_juan',\n",
       " 'residencia_provincia_san_luis',\n",
       " 'residencia_provincia_santa_cruz',\n",
       " 'residencia_provincia_santa_fe',\n",
       " 'residencia_provincia_santiago_del_estero',\n",
       " 'residencia_provincia_tierra_del_fuego',\n",
       " 'residencia_provincia_tucuman',\n",
       " 'fecha_di_dif_fecha_ap',\n",
       " 'clasificacion_confirmado',\n",
       " 'clasificacion_descartado']"
      ]
     },
     "execution_count": 86,
     "metadata": {},
     "output_type": "execute_result"
    }
   ],
   "source": [
    "feature_names = list(dataset.columns)\n",
    "feature_names.remove('fallecido')\n",
    "feature_names"
   ]
  },
  {
   "cell_type": "code",
   "execution_count": 87,
   "metadata": {},
   "outputs": [],
   "source": [
    "X = dataset[feature_names]\n",
    "y = dataset['fallecido']"
   ]
  },
  {
   "cell_type": "code",
   "execution_count": 88,
   "metadata": {},
   "outputs": [
    {
     "data": {
      "text/plain": [
       "((1926596, 36), (1926596,))"
      ]
     },
     "execution_count": 88,
     "metadata": {},
     "output_type": "execute_result"
    }
   ],
   "source": [
    "X.shape, y.shape"
   ]
  },
  {
   "cell_type": "code",
   "execution_count": 89,
   "metadata": {},
   "outputs": [],
   "source": [
    "X_train, X_test, y_train, y_test = train_test_split(X, y, train_size=0.8, random_state=0)"
   ]
  },
  {
   "cell_type": "code",
   "execution_count": 90,
   "metadata": {},
   "outputs": [
    {
     "data": {
      "text/plain": [
       "((1541276, 36), (385320, 36), (1541276,), (385320,))"
      ]
     },
     "execution_count": 90,
     "metadata": {},
     "output_type": "execute_result"
    }
   ],
   "source": [
    "X_train.shape, X_test.shape, y_train.shape, y_test.shape"
   ]
  },
  {
   "cell_type": "code",
   "execution_count": 91,
   "metadata": {},
   "outputs": [
    {
     "data": {
      "text/plain": [
       "36"
      ]
     },
     "execution_count": 91,
     "metadata": {},
     "output_type": "execute_result"
    }
   ],
   "source": [
    "INPUT_COLUMNS = X_train.shape[1]\n",
    "INPUT_COLUMNS"
   ]
  },
  {
   "cell_type": "markdown",
   "metadata": {},
   "source": [
    "### MinMaxScaler"
   ]
  },
  {
   "cell_type": "code",
   "execution_count": 93,
   "metadata": {},
   "outputs": [],
   "source": [
    "from sklearn import preprocessing\n",
    "\n",
    "mm_scaler = preprocessing.MinMaxScaler()\n",
    "X_train_minmax = mm_scaler.fit_transform(X_train)\n",
    "X_test_minmax = mm_scaler.fit_transform(X_test)"
   ]
  },
  {
   "cell_type": "code",
   "execution_count": 94,
   "metadata": {},
   "outputs": [
    {
     "name": "stderr",
     "output_type": "stream",
     "text": [
      "/home/lucas/DIPLODATOS/.venv/lib/python3.6/site-packages/tensorflow/python/framework/dtypes.py:516: FutureWarning: Passing (type, 1) or '1type' as a synonym of type is deprecated; in a future version of numpy, it will be understood as (type, (1,)) / '(1,)type'.\n",
      "  _np_qint8 = np.dtype([(\"qint8\", np.int8, 1)])\n",
      "/home/lucas/DIPLODATOS/.venv/lib/python3.6/site-packages/tensorflow/python/framework/dtypes.py:517: FutureWarning: Passing (type, 1) or '1type' as a synonym of type is deprecated; in a future version of numpy, it will be understood as (type, (1,)) / '(1,)type'.\n",
      "  _np_quint8 = np.dtype([(\"quint8\", np.uint8, 1)])\n",
      "/home/lucas/DIPLODATOS/.venv/lib/python3.6/site-packages/tensorflow/python/framework/dtypes.py:518: FutureWarning: Passing (type, 1) or '1type' as a synonym of type is deprecated; in a future version of numpy, it will be understood as (type, (1,)) / '(1,)type'.\n",
      "  _np_qint16 = np.dtype([(\"qint16\", np.int16, 1)])\n",
      "/home/lucas/DIPLODATOS/.venv/lib/python3.6/site-packages/tensorflow/python/framework/dtypes.py:519: FutureWarning: Passing (type, 1) or '1type' as a synonym of type is deprecated; in a future version of numpy, it will be understood as (type, (1,)) / '(1,)type'.\n",
      "  _np_quint16 = np.dtype([(\"quint16\", np.uint16, 1)])\n",
      "/home/lucas/DIPLODATOS/.venv/lib/python3.6/site-packages/tensorflow/python/framework/dtypes.py:520: FutureWarning: Passing (type, 1) or '1type' as a synonym of type is deprecated; in a future version of numpy, it will be understood as (type, (1,)) / '(1,)type'.\n",
      "  _np_qint32 = np.dtype([(\"qint32\", np.int32, 1)])\n",
      "/home/lucas/DIPLODATOS/.venv/lib/python3.6/site-packages/tensorflow/python/framework/dtypes.py:525: FutureWarning: Passing (type, 1) or '1type' as a synonym of type is deprecated; in a future version of numpy, it will be understood as (type, (1,)) / '(1,)type'.\n",
      "  np_resource = np.dtype([(\"resource\", np.ubyte, 1)])\n",
      "/home/lucas/DIPLODATOS/.venv/lib/python3.6/site-packages/tensorboard/compat/tensorflow_stub/dtypes.py:541: FutureWarning: Passing (type, 1) or '1type' as a synonym of type is deprecated; in a future version of numpy, it will be understood as (type, (1,)) / '(1,)type'.\n",
      "  _np_qint8 = np.dtype([(\"qint8\", np.int8, 1)])\n",
      "/home/lucas/DIPLODATOS/.venv/lib/python3.6/site-packages/tensorboard/compat/tensorflow_stub/dtypes.py:542: FutureWarning: Passing (type, 1) or '1type' as a synonym of type is deprecated; in a future version of numpy, it will be understood as (type, (1,)) / '(1,)type'.\n",
      "  _np_quint8 = np.dtype([(\"quint8\", np.uint8, 1)])\n",
      "/home/lucas/DIPLODATOS/.venv/lib/python3.6/site-packages/tensorboard/compat/tensorflow_stub/dtypes.py:543: FutureWarning: Passing (type, 1) or '1type' as a synonym of type is deprecated; in a future version of numpy, it will be understood as (type, (1,)) / '(1,)type'.\n",
      "  _np_qint16 = np.dtype([(\"qint16\", np.int16, 1)])\n",
      "/home/lucas/DIPLODATOS/.venv/lib/python3.6/site-packages/tensorboard/compat/tensorflow_stub/dtypes.py:544: FutureWarning: Passing (type, 1) or '1type' as a synonym of type is deprecated; in a future version of numpy, it will be understood as (type, (1,)) / '(1,)type'.\n",
      "  _np_quint16 = np.dtype([(\"quint16\", np.uint16, 1)])\n",
      "/home/lucas/DIPLODATOS/.venv/lib/python3.6/site-packages/tensorboard/compat/tensorflow_stub/dtypes.py:545: FutureWarning: Passing (type, 1) or '1type' as a synonym of type is deprecated; in a future version of numpy, it will be understood as (type, (1,)) / '(1,)type'.\n",
      "  _np_qint32 = np.dtype([(\"qint32\", np.int32, 1)])\n",
      "/home/lucas/DIPLODATOS/.venv/lib/python3.6/site-packages/tensorboard/compat/tensorflow_stub/dtypes.py:550: FutureWarning: Passing (type, 1) or '1type' as a synonym of type is deprecated; in a future version of numpy, it will be understood as (type, (1,)) / '(1,)type'.\n",
      "  np_resource = np.dtype([(\"resource\", np.ubyte, 1)])\n"
     ]
    }
   ],
   "source": [
    "from tensorflow.keras.utils import to_categorical\n",
    "\n",
    "y_train_cat= to_categorical(y_train)\n",
    "y_test_cat = to_categorical(y_test)"
   ]
  },
  {
   "cell_type": "markdown",
   "metadata": {},
   "source": [
    "## Modelado"
   ]
  },
  {
   "cell_type": "code",
   "execution_count": 95,
   "metadata": {},
   "outputs": [],
   "source": [
    "from tensorflow.keras.models import Sequential, load_model\n",
    "from tensorflow.keras.layers import Dense, Activation, Dropout, BatchNormalization\n",
    "from tensorflow.keras.callbacks import EarlyStopping, ModelCheckpoint\n",
    "from tensorflow.keras.metrics import Precision, Recall"
   ]
  },
  {
   "cell_type": "code",
   "execution_count": 96,
   "metadata": {},
   "outputs": [],
   "source": [
    "# Hyperparameters\n",
    "N_EPOCHS = 50\n",
    "BATCH_SIZE = 128"
   ]
  },
  {
   "cell_type": "code",
   "execution_count": 97,
   "metadata": {},
   "outputs": [
    {
     "name": "stdout",
     "output_type": "stream",
     "text": [
      "WARNING:tensorflow:From /home/lucas/DIPLODATOS/.venv/lib/python3.6/site-packages/tensorflow/python/ops/init_ops.py:1251: calling VarianceScaling.__init__ (from tensorflow.python.ops.init_ops) with dtype is deprecated and will be removed in a future version.\n",
      "Instructions for updating:\n",
      "Call initializer instance with the dtype argument instead of passing it to the constructor\n"
     ]
    }
   ],
   "source": [
    "# MLP Architecture\n",
    "mlp_model = Sequential([   \n",
    "    Dense(2048, input_shape=(INPUT_COLUMNS, )),\n",
    "    Activation('relu'),\n",
    "    \n",
    "    Dense(1024),\n",
    "    Activation('relu'),\n",
    "    Dropout(0.50),\n",
    "    \n",
    "    Dense(1024),\n",
    "    Activation('relu'),\n",
    "    Dropout(0.50),\n",
    "    \n",
    "    Dense(1024),\n",
    "    Activation('relu'),\n",
    "    Dropout(0.50),\n",
    "    \n",
    "    Dense(512),\n",
    "    Activation('relu'),\n",
    "    Dropout(0.50),\n",
    "    \n",
    "    Dense(512),\n",
    "    Activation('relu'),\n",
    "    Dropout(0.50),\n",
    "    \n",
    "    \n",
    "    Dense(256),\n",
    "    Activation('relu'),   \n",
    "    \n",
    "    Dense(256),\n",
    "    Activation('relu'),   \n",
    "    \n",
    "    Dense(128),\n",
    "    Activation('relu'),\n",
    "    \n",
    "    Dense(128),\n",
    "    Activation('relu'),\n",
    "    \n",
    "    Dense(2),\n",
    "    Activation('softmax')\n",
    "])"
   ]
  },
  {
   "cell_type": "code",
   "execution_count": 98,
   "metadata": {},
   "outputs": [
    {
     "name": "stdout",
     "output_type": "stream",
     "text": [
      "Model: \"sequential\"\n",
      "_________________________________________________________________\n",
      "Layer (type)                 Output Shape              Param #   \n",
      "=================================================================\n",
      "dense (Dense)                (None, 2048)              75776     \n",
      "_________________________________________________________________\n",
      "activation (Activation)      (None, 2048)              0         \n",
      "_________________________________________________________________\n",
      "dense_1 (Dense)              (None, 1024)              2098176   \n",
      "_________________________________________________________________\n",
      "activation_1 (Activation)    (None, 1024)              0         \n",
      "_________________________________________________________________\n",
      "dropout (Dropout)            (None, 1024)              0         \n",
      "_________________________________________________________________\n",
      "dense_2 (Dense)              (None, 1024)              1049600   \n",
      "_________________________________________________________________\n",
      "activation_2 (Activation)    (None, 1024)              0         \n",
      "_________________________________________________________________\n",
      "dropout_1 (Dropout)          (None, 1024)              0         \n",
      "_________________________________________________________________\n",
      "dense_3 (Dense)              (None, 1024)              1049600   \n",
      "_________________________________________________________________\n",
      "activation_3 (Activation)    (None, 1024)              0         \n",
      "_________________________________________________________________\n",
      "dropout_2 (Dropout)          (None, 1024)              0         \n",
      "_________________________________________________________________\n",
      "dense_4 (Dense)              (None, 512)               524800    \n",
      "_________________________________________________________________\n",
      "activation_4 (Activation)    (None, 512)               0         \n",
      "_________________________________________________________________\n",
      "dropout_3 (Dropout)          (None, 512)               0         \n",
      "_________________________________________________________________\n",
      "dense_5 (Dense)              (None, 512)               262656    \n",
      "_________________________________________________________________\n",
      "activation_5 (Activation)    (None, 512)               0         \n",
      "_________________________________________________________________\n",
      "dropout_4 (Dropout)          (None, 512)               0         \n",
      "_________________________________________________________________\n",
      "dense_6 (Dense)              (None, 256)               131328    \n",
      "_________________________________________________________________\n",
      "activation_6 (Activation)    (None, 256)               0         \n",
      "_________________________________________________________________\n",
      "dense_7 (Dense)              (None, 256)               65792     \n",
      "_________________________________________________________________\n",
      "activation_7 (Activation)    (None, 256)               0         \n",
      "_________________________________________________________________\n",
      "dense_8 (Dense)              (None, 128)               32896     \n",
      "_________________________________________________________________\n",
      "activation_8 (Activation)    (None, 128)               0         \n",
      "_________________________________________________________________\n",
      "dense_9 (Dense)              (None, 128)               16512     \n",
      "_________________________________________________________________\n",
      "activation_9 (Activation)    (None, 128)               0         \n",
      "_________________________________________________________________\n",
      "dense_10 (Dense)             (None, 2)                 258       \n",
      "_________________________________________________________________\n",
      "activation_10 (Activation)   (None, 2)                 0         \n",
      "=================================================================\n",
      "Total params: 5,307,394\n",
      "Trainable params: 5,307,394\n",
      "Non-trainable params: 0\n",
      "_________________________________________________________________\n"
     ]
    }
   ],
   "source": [
    "mlp_model.summary()"
   ]
  },
  {
   "cell_type": "code",
   "execution_count": 99,
   "metadata": {},
   "outputs": [],
   "source": [
    "mlp_model.compile(\n",
    "    optimizer='adam',\n",
    "    loss='categorical_crossentropy',\n",
    "    metrics=['Precision', 'Recall',],\n",
    ")"
   ]
  },
  {
   "cell_type": "code",
   "execution_count": 100,
   "metadata": {},
   "outputs": [],
   "source": [
    "path_checkpoint = \"./models/best_model.h5\"\n",
    "#Callbacks\n",
    "early_stopping = EarlyStopping(monitor='val_loss', mode='min', verbose=1, patience=15)\n",
    "model_checkpoint = ModelCheckpoint(path_checkpoint, monitor='val_precision', mode='max', verbose=1, save_best_only=True)"
   ]
  },
  {
   "cell_type": "code",
   "execution_count": 101,
   "metadata": {},
   "outputs": [
    {
     "name": "stdout",
     "output_type": "stream",
     "text": [
      "Train on 1541276 samples, validate on 385320 samples\n",
      "Epoch 1/50\n",
      "1541120/1541276 [============================>.] - ETA: 0s - loss: 0.0770 - precision: 0.9855 - recall: 0.9855\n",
      "Epoch 00001: loss improved from -inf to 0.07703, saving model to ./models/best_model.h5\n",
      "1541276/1541276 [==============================] - 76s 49us/sample - loss: 0.0770 - precision: 0.9855 - recall: 0.9855 - val_loss: 0.0765 - val_precision: 0.9857 - val_recall: 0.9857\n",
      "Epoch 2/50\n",
      "1540224/1541276 [============================>.] - ETA: 0s - loss: 0.0761 - precision: 0.9855 - recall: 0.9855\n",
      "Epoch 00002: loss did not improve from 0.07703\n",
      "1541276/1541276 [==============================] - 74s 48us/sample - loss: 0.0761 - precision: 0.9855 - recall: 0.9855 - val_loss: 0.0751 - val_precision: 0.9857 - val_recall: 0.9857\n",
      "Epoch 3/50\n",
      "1541248/1541276 [============================>.] - ETA: 0s - loss: 0.0760 - precision: 0.9855 - recall: 0.9855\n",
      "Epoch 00003: loss did not improve from 0.07703\n",
      "1541276/1541276 [==============================] - 74s 48us/sample - loss: 0.0760 - precision: 0.9855 - recall: 0.9855 - val_loss: 0.0751 - val_precision: 0.9857 - val_recall: 0.9857\n",
      "Epoch 4/50\n",
      "1541248/1541276 [============================>.] - ETA: 0s - loss: 0.0760 - precision: 0.9855 - recall: 0.9855\n",
      "Epoch 00004: loss did not improve from 0.07703\n",
      "1541276/1541276 [==============================] - 74s 48us/sample - loss: 0.0760 - precision: 0.9855 - recall: 0.9855 - val_loss: 0.0751 - val_precision: 0.9857 - val_recall: 0.9857\n",
      "Epoch 5/50\n",
      "1540992/1541276 [============================>.] - ETA: 0s - loss: 0.0760 - precision: 0.9855 - recall: 0.9855\n",
      "Epoch 00005: loss did not improve from 0.07703\n",
      "1541276/1541276 [==============================] - 74s 48us/sample - loss: 0.0760 - precision: 0.9855 - recall: 0.9855 - val_loss: 0.0752 - val_precision: 0.9857 - val_recall: 0.9857\n",
      "Epoch 6/50\n",
      "1540224/1541276 [============================>.] - ETA: 0s - loss: 0.0760 - precision: 0.9855 - recall: 0.9855\n",
      "Epoch 00006: loss did not improve from 0.07703\n",
      "1541276/1541276 [==============================] - 74s 48us/sample - loss: 0.0760 - precision: 0.9855 - recall: 0.9855 - val_loss: 0.0751 - val_precision: 0.9857 - val_recall: 0.9857\n",
      "Epoch 7/50\n",
      "1540352/1541276 [============================>.] - ETA: 0s - loss: 0.0760 - precision: 0.9855 - recall: 0.9855\n",
      "Epoch 00007: loss did not improve from 0.07703\n",
      "1541276/1541276 [==============================] - 75s 48us/sample - loss: 0.0760 - precision: 0.9855 - recall: 0.9855 - val_loss: 0.0750 - val_precision: 0.9857 - val_recall: 0.9857\n",
      "Epoch 8/50\n",
      "1540352/1541276 [============================>.] - ETA: 0s - loss: 0.0760 - precision: 0.9855 - recall: 0.9855\n",
      "Epoch 00008: loss did not improve from 0.07703\n",
      "1541276/1541276 [==============================] - 74s 48us/sample - loss: 0.0760 - precision: 0.9855 - recall: 0.9855 - val_loss: 0.0751 - val_precision: 0.9857 - val_recall: 0.9857\n",
      "Epoch 9/50\n",
      "1540480/1541276 [============================>.] - ETA: 0s - loss: 0.0760 - precision: 0.9855 - recall: 0.9855\n",
      "Epoch 00009: loss did not improve from 0.07703\n",
      "1541276/1541276 [==============================] - 75s 49us/sample - loss: 0.0760 - precision: 0.9855 - recall: 0.9855 - val_loss: 0.0751 - val_precision: 0.9857 - val_recall: 0.9857\n",
      "Epoch 10/50\n",
      "1540736/1541276 [============================>.] - ETA: 0s - loss: 0.0760 - precision: 0.9855 - recall: 0.9855\n",
      "Epoch 00010: loss did not improve from 0.07703\n",
      "1541276/1541276 [==============================] - 75s 49us/sample - loss: 0.0760 - precision: 0.9855 - recall: 0.9855 - val_loss: 0.0753 - val_precision: 0.9857 - val_recall: 0.9857\n",
      "Epoch 11/50\n",
      "1540224/1541276 [============================>.] - ETA: 0s - loss: 0.0760 - precision: 0.9855 - recall: 0.9855\n",
      "Epoch 00011: loss did not improve from 0.07703\n",
      "1541276/1541276 [==============================] - 75s 48us/sample - loss: 0.0760 - precision: 0.9855 - recall: 0.9855 - val_loss: 0.0750 - val_precision: 0.9857 - val_recall: 0.9857\n",
      "Epoch 12/50\n",
      "1540736/1541276 [============================>.] - ETA: 0s - loss: 0.0760 - precision: 0.9855 - recall: 0.9855\n",
      "Epoch 00012: loss did not improve from 0.07703\n",
      "1541276/1541276 [==============================] - 75s 49us/sample - loss: 0.0760 - precision: 0.9855 - recall: 0.9855 - val_loss: 0.0751 - val_precision: 0.9857 - val_recall: 0.9857\n",
      "Epoch 13/50\n",
      "1540608/1541276 [============================>.] - ETA: 0s - loss: 0.0760 - precision: 0.9855 - recall: 0.9855\n",
      "Epoch 00013: loss did not improve from 0.07703\n",
      "1541276/1541276 [==============================] - 75s 49us/sample - loss: 0.0760 - precision: 0.9855 - recall: 0.9855 - val_loss: 0.0751 - val_precision: 0.9857 - val_recall: 0.9857\n",
      "Epoch 14/50\n",
      "1540352/1541276 [============================>.] - ETA: 0s - loss: 0.0760 - precision: 0.9855 - recall: 0.9855\n",
      "Epoch 00014: loss did not improve from 0.07703\n",
      "1541276/1541276 [==============================] - 74s 48us/sample - loss: 0.0760 - precision: 0.9855 - recall: 0.9855 - val_loss: 0.0751 - val_precision: 0.9857 - val_recall: 0.9857\n",
      "Epoch 15/50\n",
      "1540736/1541276 [============================>.] - ETA: 0s - loss: 0.0760 - precision: 0.9855 - recall: 0.9855\n",
      "Epoch 00015: loss did not improve from 0.07703\n",
      "1541276/1541276 [==============================] - 75s 49us/sample - loss: 0.0760 - precision: 0.9855 - recall: 0.9855 - val_loss: 0.0751 - val_precision: 0.9857 - val_recall: 0.9857\n",
      "Epoch 16/50\n",
      "1540608/1541276 [============================>.] - ETA: 0s - loss: 0.0760 - precision: 0.9855 - recall: 0.9855\n",
      "Epoch 00016: loss did not improve from 0.07703\n",
      "1541276/1541276 [==============================] - 74s 48us/sample - loss: 0.0760 - precision: 0.9855 - recall: 0.9855 - val_loss: 0.0751 - val_precision: 0.9857 - val_recall: 0.9857\n",
      "Epoch 17/50\n",
      "1541120/1541276 [============================>.] - ETA: 0s - loss: 0.0760 - precision: 0.9855 - recall: 0.9855\n",
      "Epoch 00017: loss did not improve from 0.07703\n",
      "1541276/1541276 [==============================] - 75s 48us/sample - loss: 0.0760 - precision: 0.9855 - recall: 0.9855 - val_loss: 0.0750 - val_precision: 0.9857 - val_recall: 0.9857\n",
      "Epoch 18/50\n",
      "1540864/1541276 [============================>.] - ETA: 0s - loss: 0.0760 - precision: 0.9855 - recall: 0.9855\n",
      "Epoch 00018: loss did not improve from 0.07703\n",
      "1541276/1541276 [==============================] - 75s 48us/sample - loss: 0.0760 - precision: 0.9855 - recall: 0.9855 - val_loss: 0.0750 - val_precision: 0.9857 - val_recall: 0.9857\n",
      "Epoch 19/50\n",
      "1540864/1541276 [============================>.] - ETA: 0s - loss: 0.0760 - precision: 0.9855 - recall: 0.9855\n",
      "Epoch 00019: loss did not improve from 0.07703\n",
      "1541276/1541276 [==============================] - 75s 48us/sample - loss: 0.0760 - precision: 0.9855 - recall: 0.9855 - val_loss: 0.0751 - val_precision: 0.9857 - val_recall: 0.9857\n",
      "Epoch 20/50\n",
      "1540608/1541276 [============================>.] - ETA: 0s - loss: 0.0760 - precision: 0.9855 - recall: 0.9855\n",
      "Epoch 00020: loss did not improve from 0.07703\n",
      "1541276/1541276 [==============================] - 74s 48us/sample - loss: 0.0760 - precision: 0.9855 - recall: 0.9855 - val_loss: 0.0751 - val_precision: 0.9857 - val_recall: 0.9857\n",
      "Epoch 21/50\n",
      "1540352/1541276 [============================>.] - ETA: 0s - loss: 0.0760 - precision: 0.9855 - recall: 0.9855\n",
      "Epoch 00021: loss did not improve from 0.07703\n",
      "1541276/1541276 [==============================] - 74s 48us/sample - loss: 0.0760 - precision: 0.9855 - recall: 0.9855 - val_loss: 0.0750 - val_precision: 0.9857 - val_recall: 0.9857\n",
      "Epoch 22/50\n",
      "1540608/1541276 [============================>.] - ETA: 0s - loss: 0.0760 - precision: 0.9855 - recall: 0.9855\n",
      "Epoch 00022: loss did not improve from 0.07703\n",
      "1541276/1541276 [==============================] - 73s 48us/sample - loss: 0.0760 - precision: 0.9855 - recall: 0.9855 - val_loss: 0.0751 - val_precision: 0.9857 - val_recall: 0.9857\n",
      "Epoch 23/50\n",
      "1540608/1541276 [============================>.] - ETA: 0s - loss: 0.0760 - precision: 0.9855 - recall: 0.9855\n",
      "Epoch 00023: loss did not improve from 0.07703\n",
      "1541276/1541276 [==============================] - 73s 48us/sample - loss: 0.0760 - precision: 0.9855 - recall: 0.9855 - val_loss: 0.0751 - val_precision: 0.9857 - val_recall: 0.9857\n"
     ]
    },
    {
     "name": "stdout",
     "output_type": "stream",
     "text": [
      "Epoch 24/50\n",
      "1540352/1541276 [============================>.] - ETA: 0s - loss: 0.0760 - precision: 0.9855 - recall: 0.9855\n",
      "Epoch 00024: loss did not improve from 0.07703\n",
      "1541276/1541276 [==============================] - 72s 47us/sample - loss: 0.0760 - precision: 0.9855 - recall: 0.9855 - val_loss: 0.0751 - val_precision: 0.9857 - val_recall: 0.9857\n",
      "Epoch 25/50\n",
      "1540480/1541276 [============================>.] - ETA: 0s - loss: 0.0760 - precision: 0.9855 - recall: 0.9855\n",
      "Epoch 00025: loss did not improve from 0.07703\n",
      "1541276/1541276 [==============================] - 73s 47us/sample - loss: 0.0760 - precision: 0.9855 - recall: 0.9855 - val_loss: 0.0750 - val_precision: 0.9857 - val_recall: 0.9857\n",
      "Epoch 26/50\n",
      "1541248/1541276 [============================>.] - ETA: 0s - loss: 0.0760 - precision: 0.9855 - recall: 0.9855\n",
      "Epoch 00026: loss did not improve from 0.07703\n",
      "1541276/1541276 [==============================] - 73s 47us/sample - loss: 0.0760 - precision: 0.9855 - recall: 0.9855 - val_loss: 0.0752 - val_precision: 0.9857 - val_recall: 0.9857\n",
      "Epoch 27/50\n",
      "1540480/1541276 [============================>.] - ETA: 0s - loss: 0.0760 - precision: 0.9855 - recall: 0.9855\n",
      "Epoch 00027: loss did not improve from 0.07703\n",
      "1541276/1541276 [==============================] - 73s 47us/sample - loss: 0.0760 - precision: 0.9855 - recall: 0.9855 - val_loss: 0.0751 - val_precision: 0.9857 - val_recall: 0.9857\n",
      "Epoch 28/50\n",
      "1541248/1541276 [============================>.] - ETA: 0s - loss: 0.0760 - precision: 0.9855 - recall: 0.9855\n",
      "Epoch 00028: loss did not improve from 0.07703\n",
      "1541276/1541276 [==============================] - 73s 47us/sample - loss: 0.0760 - precision: 0.9855 - recall: 0.9855 - val_loss: 0.0751 - val_precision: 0.9857 - val_recall: 0.9857\n",
      "Epoch 29/50\n",
      "1541120/1541276 [============================>.] - ETA: 0s - loss: 0.0760 - precision: 0.9855 - recall: 0.9855\n",
      "Epoch 00029: loss did not improve from 0.07703\n",
      "1541276/1541276 [==============================] - 73s 47us/sample - loss: 0.0760 - precision: 0.9855 - recall: 0.9855 - val_loss: 0.0751 - val_precision: 0.9857 - val_recall: 0.9857\n",
      "Epoch 30/50\n",
      "1540736/1541276 [============================>.] - ETA: 0s - loss: 0.0760 - precision: 0.9855 - recall: 0.9855\n",
      "Epoch 00030: loss did not improve from 0.07703\n",
      "1541276/1541276 [==============================] - 73s 47us/sample - loss: 0.0760 - precision: 0.9855 - recall: 0.9855 - val_loss: 0.0751 - val_precision: 0.9857 - val_recall: 0.9857\n",
      "Epoch 31/50\n",
      "1540608/1541276 [============================>.] - ETA: 0s - loss: 0.0760 - precision: 0.9855 - recall: 0.9855\n",
      "Epoch 00031: loss did not improve from 0.07703\n",
      "1541276/1541276 [==============================] - 73s 47us/sample - loss: 0.0760 - precision: 0.9855 - recall: 0.9855 - val_loss: 0.0751 - val_precision: 0.9857 - val_recall: 0.9857\n",
      "Epoch 32/50\n",
      "1540608/1541276 [============================>.] - ETA: 0s - loss: 0.0760 - precision: 0.9855 - recall: 0.9855\n",
      "Epoch 00032: loss did not improve from 0.07703\n",
      "1541276/1541276 [==============================] - 73s 47us/sample - loss: 0.0760 - precision: 0.9855 - recall: 0.9855 - val_loss: 0.0751 - val_precision: 0.9857 - val_recall: 0.9857\n",
      "Epoch 33/50\n",
      "1540736/1541276 [============================>.] - ETA: 0s - loss: 0.0760 - precision: 0.9855 - recall: 0.9855\n",
      "Epoch 00033: loss did not improve from 0.07703\n",
      "1541276/1541276 [==============================] - 73s 47us/sample - loss: 0.0760 - precision: 0.9855 - recall: 0.9855 - val_loss: 0.0751 - val_precision: 0.9857 - val_recall: 0.9857\n",
      "Epoch 34/50\n",
      "1540480/1541276 [============================>.] - ETA: 0s - loss: 0.0760 - precision: 0.9855 - recall: 0.9855\n",
      "Epoch 00034: loss did not improve from 0.07703\n",
      "1541276/1541276 [==============================] - 73s 47us/sample - loss: 0.0760 - precision: 0.9855 - recall: 0.9855 - val_loss: 0.0750 - val_precision: 0.9857 - val_recall: 0.9857\n",
      "Epoch 35/50\n",
      "1540352/1541276 [============================>.] - ETA: 0s - loss: 0.0760 - precision: 0.9855 - recall: 0.9855\n",
      "Epoch 00035: loss did not improve from 0.07703\n",
      "1541276/1541276 [==============================] - 73s 47us/sample - loss: 0.0760 - precision: 0.9855 - recall: 0.9855 - val_loss: 0.0750 - val_precision: 0.9857 - val_recall: 0.9857\n",
      "Epoch 36/50\n",
      "1540992/1541276 [============================>.] - ETA: 0s - loss: 0.0760 - precision: 0.9855 - recall: 0.9855\n",
      "Epoch 00036: loss did not improve from 0.07703\n",
      "1541276/1541276 [==============================] - 73s 47us/sample - loss: 0.0760 - precision: 0.9855 - recall: 0.9855 - val_loss: 0.0750 - val_precision: 0.9857 - val_recall: 0.9857\n",
      "Epoch 37/50\n",
      "1541120/1541276 [============================>.] - ETA: 0s - loss: 0.0760 - precision: 0.9855 - recall: 0.9855\n",
      "Epoch 00037: loss did not improve from 0.07703\n",
      "1541276/1541276 [==============================] - 73s 47us/sample - loss: 0.0760 - precision: 0.9855 - recall: 0.9855 - val_loss: 0.0751 - val_precision: 0.9857 - val_recall: 0.9857\n",
      "Epoch 38/50\n",
      "1540992/1541276 [============================>.] - ETA: 0s - loss: 0.0760 - precision: 0.9855 - recall: 0.9855\n",
      "Epoch 00038: loss did not improve from 0.07703\n",
      "1541276/1541276 [==============================] - 73s 47us/sample - loss: 0.0760 - precision: 0.9855 - recall: 0.9855 - val_loss: 0.0751 - val_precision: 0.9857 - val_recall: 0.9857\n",
      "Epoch 39/50\n",
      "1540608/1541276 [============================>.] - ETA: 0s - loss: 0.0760 - precision: 0.9855 - recall: 0.9855\n",
      "Epoch 00039: loss did not improve from 0.07703\n",
      "1541276/1541276 [==============================] - 73s 48us/sample - loss: 0.0760 - precision: 0.9855 - recall: 0.9855 - val_loss: 0.0751 - val_precision: 0.9857 - val_recall: 0.9857\n",
      "Epoch 40/50\n",
      "1541120/1541276 [============================>.] - ETA: 0s - loss: 0.0760 - precision: 0.9855 - recall: 0.9855\n",
      "Epoch 00040: loss did not improve from 0.07703\n",
      "1541276/1541276 [==============================] - 75s 49us/sample - loss: 0.0760 - precision: 0.9855 - recall: 0.9855 - val_loss: 0.0752 - val_precision: 0.9857 - val_recall: 0.9857\n",
      "Epoch 41/50\n",
      "1541248/1541276 [============================>.] - ETA: 0s - loss: 0.0760 - precision: 0.9855 - recall: 0.9855\n",
      "Epoch 00041: loss did not improve from 0.07703\n",
      "1541276/1541276 [==============================] - 75s 49us/sample - loss: 0.0760 - precision: 0.9855 - recall: 0.9855 - val_loss: 0.0751 - val_precision: 0.9857 - val_recall: 0.9857\n",
      "Epoch 42/50\n",
      "1540992/1541276 [============================>.] - ETA: 0s - loss: 0.0760 - precision: 0.9855 - recall: 0.9855\n",
      "Epoch 00042: loss did not improve from 0.07703\n",
      "1541276/1541276 [==============================] - 74s 48us/sample - loss: 0.0760 - precision: 0.9855 - recall: 0.9855 - val_loss: 0.0753 - val_precision: 0.9857 - val_recall: 0.9857\n",
      "Epoch 43/50\n",
      "1541120/1541276 [============================>.] - ETA: 0s - loss: 0.0760 - precision: 0.9855 - recall: 0.9855\n",
      "Epoch 00043: loss did not improve from 0.07703\n",
      "1541276/1541276 [==============================] - 74s 48us/sample - loss: 0.0760 - precision: 0.9855 - recall: 0.9855 - val_loss: 0.0750 - val_precision: 0.9857 - val_recall: 0.9857\n",
      "Epoch 44/50\n",
      "1540608/1541276 [============================>.] - ETA: 0s - loss: 0.0760 - precision: 0.9855 - recall: 0.9855\n",
      "Epoch 00044: loss did not improve from 0.07703\n",
      "1541276/1541276 [==============================] - 74s 48us/sample - loss: 0.0760 - precision: 0.9855 - recall: 0.9855 - val_loss: 0.0750 - val_precision: 0.9857 - val_recall: 0.9857\n",
      "Epoch 45/50\n",
      "1540864/1541276 [============================>.] - ETA: 0s - loss: 0.0760 - precision: 0.9855 - recall: 0.9855\n",
      "Epoch 00045: loss did not improve from 0.07703\n",
      "1541276/1541276 [==============================] - 74s 48us/sample - loss: 0.0760 - precision: 0.9855 - recall: 0.9855 - val_loss: 0.0751 - val_precision: 0.9857 - val_recall: 0.9857\n",
      "Epoch 46/50\n",
      "1541120/1541276 [============================>.] - ETA: 0s - loss: 0.0760 - precision: 0.9855 - recall: 0.9855\n",
      "Epoch 00046: loss did not improve from 0.07703\n",
      "1541276/1541276 [==============================] - 74s 48us/sample - loss: 0.0760 - precision: 0.9855 - recall: 0.9855 - val_loss: 0.0751 - val_precision: 0.9857 - val_recall: 0.9857\n",
      "Epoch 47/50\n",
      "1540864/1541276 [============================>.] - ETA: 0s - loss: 0.0760 - precision: 0.9855 - recall: 0.9855\n",
      "Epoch 00047: loss did not improve from 0.07703\n",
      "1541276/1541276 [==============================] - 74s 48us/sample - loss: 0.0760 - precision: 0.9855 - recall: 0.9855 - val_loss: 0.0751 - val_precision: 0.9857 - val_recall: 0.9857\n",
      "Epoch 48/50\n",
      "1540736/1541276 [============================>.] - ETA: 0s - loss: 0.0760 - precision: 0.9855 - recall: 0.9855\n",
      "Epoch 00048: loss did not improve from 0.07703\n",
      "1541276/1541276 [==============================] - 74s 48us/sample - loss: 0.0760 - precision: 0.9855 - recall: 0.9855 - val_loss: 0.0751 - val_precision: 0.9857 - val_recall: 0.9857\n",
      "Epoch 49/50\n",
      "1540608/1541276 [============================>.] - ETA: 0s - loss: 0.0760 - precision: 0.9855 - recall: 0.9855\n",
      "Epoch 00049: loss did not improve from 0.07703\n",
      "1541276/1541276 [==============================] - 74s 48us/sample - loss: 0.0760 - precision: 0.9855 - recall: 0.9855 - val_loss: 0.0751 - val_precision: 0.9857 - val_recall: 0.9857\n",
      "Epoch 50/50\n",
      "1540992/1541276 [============================>.] - ETA: 0s - loss: 0.0760 - precision: 0.9855 - recall: 0.9855\n",
      "Epoch 00050: loss did not improve from 0.07703\n",
      "1541276/1541276 [==============================] - 74s 48us/sample - loss: 0.0760 - precision: 0.9855 - recall: 0.9855 - val_loss: 0.0751 - val_precision: 0.9857 - val_recall: 0.9857\n"
     ]
    }
   ],
   "source": [
    "history_mlp = mlp_model.fit(\n",
    "    X_train_minmax, \n",
    "    y_train_cat,\n",
    "    epochs=N_EPOCHS,\n",
    "    batch_size=BATCH_SIZE,\n",
    "    validation_data=(\n",
    "        X_test_minmax,\n",
    "        y_test_cat,\n",
    "    ),\n",
    "    callbacks = [early_stopping, model_checkpoint]\n",
    ")"
   ]
  },
  {
   "cell_type": "markdown",
   "metadata": {},
   "source": [
    "### Evaluación del Modelo"
   ]
  },
  {
   "cell_type": "markdown",
   "metadata": {},
   "source": [
    "#### Métrica Precision"
   ]
  },
  {
   "cell_type": "code",
   "execution_count": 102,
   "metadata": {},
   "outputs": [
    {
     "data": {
      "image/png": "[encoded data removed]",
      "text/plain": [
       "<Figure size 432x288 with 1 Axes>"
      ]
     },
     "metadata": {
      "needs_background": "light"
     },
     "output_type": "display_data"
    }
   ],
   "source": [
    "%matplotlib inline\n",
    "\n",
    "plt.plot(history_mlp.history['precision'], label='train')\n",
    "plt.plot(history_mlp.history['val_precision'], label='val')\n",
    "plt.title('Precision over train epochs')\n",
    "plt.ylabel('Precision')\n",
    "plt.xlabel('Epoch')\n",
    "plt.legend(loc='upper left')\n",
    "plt.show()"
   ]
  },
  {
   "cell_type": "code",
   "execution_count": 106,
   "metadata": {},
   "outputs": [
    {
     "name": "stdout",
     "output_type": "stream",
     "text": [
      "Max MLP precision train:  0.98546207\n",
      "Max MLP precision validation:  0.98567426\n"
     ]
    }
   ],
   "source": [
    "print('Max MLP precision train: ', max(history_mlp.history['precision']))\n",
    "print('Max MLP precision validation: ', max(history_mlp.history['val_precision']))"
   ]
  },
  {
   "cell_type": "markdown",
   "metadata": {},
   "source": [
    "#### Métrica Recall"
   ]
  },
  {
   "cell_type": "code",
   "execution_count": 104,
   "metadata": {},
   "outputs": [
    {
     "data": {
      "image/png": "[encoded data removed]",
      "text/plain": [
       "<Figure size 432x288 with 1 Axes>"
      ]
     },
     "metadata": {
      "needs_background": "light"
     },
     "output_type": "display_data"
    }
   ],
   "source": [
    "plt.plot(history_mlp.history['recall'], label='train')\n",
    "plt.plot(history_mlp.history['val_recall'], label='val')\n",
    "plt.title('Recall over train epochs')\n",
    "plt.ylabel('Recall')\n",
    "plt.xlabel('Epoch')\n",
    "plt.legend(loc='upper left')\n",
    "plt.show()"
   ]
  },
  {
   "cell_type": "code",
   "execution_count": 107,
   "metadata": {},
   "outputs": [
    {
     "name": "stdout",
     "output_type": "stream",
     "text": [
      "Max MLP recall train:  0.98546207\n",
      "Max MLP recall validation:  0.98567426\n"
     ]
    }
   ],
   "source": [
    "print('Max MLP recall train: ', max(history_mlp.history['recall']))\n",
    "print('Max MLP recall validation: ', max(history_mlp.history['val_recall']))"
   ]
  },
  {
   "cell_type": "markdown",
   "metadata": {},
   "source": [
    "### Predicciones"
   ]
  },
  {
   "cell_type": "code",
   "execution_count": 1,
   "metadata": {},
   "outputs": [],
   "source": [
    "import random as rnd"
   ]
  },
  {
   "cell_type": "code",
   "execution_count": 262,
   "metadata": {},
   "outputs": [],
   "source": [
    "mlp_model = load_model(path_checkpoint)"
   ]
  },
  {
   "cell_type": "code",
   "execution_count": 263,
   "metadata": {},
   "outputs": [],
   "source": [
    "def pre_processing(x):\n",
    "    x = x[feature_names].values\n",
    "    x = np.reshape(x,(-1, 1))\n",
    "    x = mm_scaler.fit_transform(x)\n",
    "    return np.array([x.flatten()])"
   ]
  },
  {
   "cell_type": "code",
   "execution_count": 264,
   "metadata": {},
   "outputs": [],
   "source": [
    "classes = {\n",
    "    0: 'Sobrevive',\n",
    "    1: 'Fallece'\n",
    "}"
   ]
  },
  {
   "cell_type": "code",
   "execution_count": 267,
   "metadata": {},
   "outputs": [
    {
     "name": "stdout",
     "output_type": "stream",
     "text": [
      "Index:  239240\n",
      "Predicción exitosa: Sobrevive(predicción = 0 | confianza:  0.991115927696228 %)\n",
      "Index:  329097\n",
      "Predicción exitosa: Sobrevive(predicción = 0 | confianza:  0.991115927696228 %)\n",
      "Index:  116062\n",
      "Predicción exitosa: Sobrevive(predicción = 0 | confianza:  0.991115927696228 %)\n",
      "Index:  204672\n",
      "Predicción exitosa: Sobrevive(predicción = 0 | confianza:  0.991115927696228 %)\n",
      "Index:  344235\n",
      "Predicción exitosa: Sobrevive(predicción = 0 | confianza:  0.991115927696228 %)\n",
      "Index:  63786\n",
      "Predicción exitosa: Sobrevive(predicción = 0 | confianza:  0.991115927696228 %)\n",
      "Index:  143526\n",
      "Predicción errónea: Sobrevive(predicción = 0 | confianza:  0.991115927696228 %)\n",
      "Index:  336639\n",
      "Predicción exitosa: Sobrevive(predicción = 0 | confianza:  0.991115927696228 %)\n",
      "Index:  2252\n",
      "Predicción exitosa: Sobrevive(predicción = 0 | confianza:  0.991115927696228 %)\n",
      "Index:  74063\n",
      "Predicción exitosa: Sobrevive(predicción = 0 | confianza:  0.991115927696228 %)\n"
     ]
    }
   ],
   "source": [
    "for _ in range(10):\n",
    "    index = rnd.randint(0, 385320)\n",
    "    print('Index: ', index)\n",
    "    \n",
    "    x_predict = X_test.iloc[index]\n",
    "    y_real = y_test.iloc[index]\n",
    "    x_predict = pre_processing(x_predict)\n",
    "    prediction = mlp_model.predict(x_predict)\n",
    "    y_predict = np.argmax(prediction)\n",
    "    \n",
    "    msg = classes[y_predict] + '(predicción = {0} | confianza: '.format(y_predict) + ' {0} %)'.format(prediction[y_predict][0])\n",
    "    if (y_real == y_predict):\n",
    "        print('Predicción exitosa: ' + msg)\n",
    "    else:\n",
    "        print('Predicción errónea: ' + msg)"
   ]
  }
 ],
 "metadata": {
  "colab": {
   "authorship_tag": "ABX9TyPpxRemszKsECHKyQq3O5cb",
   "name": "Introduccion_al_Machine_Learning.ipynb",
   "provenance": []
  },
  "kernelspec": {
   "display_name": "Python 3",
   "language": "python",
   "name": "python3"
  },
  "language_info": {
   "codemirror_mode": {
    "name": "ipython",
    "version": 3
   },
   "file_extension": ".py",
   "mimetype": "text/x-python",
   "name": "python",
   "nbconvert_exporter": "python",
   "pygments_lexer": "ipython3",
   "version": "3.6.10"
  }
 },
 "nbformat": 4,
 "nbformat_minor": 1
}
