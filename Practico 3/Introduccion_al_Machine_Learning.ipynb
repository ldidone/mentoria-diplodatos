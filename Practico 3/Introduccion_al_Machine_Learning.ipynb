{
 "cells": [
  {
   "cell_type": "markdown",
   "metadata": {
    "colab_type": "text",
    "id": "SanA_4G0y3mv"
   },
   "source": [
    "# DiploDatos 2020 - Coronavirus en Argentina"
   ]
  },
  {
   "cell_type": "markdown",
   "metadata": {
    "colab_type": "text",
    "id": "jPP96OjRCmUE"
   },
   "source": [
    "El dataset se encuetra en:\n",
    "\n",
    "https://github.com/lucia15/Datos-Covid19-Argentina"
   ]
  },
  {
   "cell_type": "code",
   "execution_count": 1,
   "metadata": {
    "colab": {
     "base_uri": "https://localhost:8080/",
     "height": 17
    },
    "colab_type": "code",
    "executionInfo": {
     "elapsed": 2272,
     "status": "ok",
     "timestamp": 1596131638141,
     "user": {
      "displayName": "Maria Lucia Pappaterra",
      "photoUrl": "",
      "userId": "02022975574182658400"
     },
     "user_tz": 180
    },
    "id": "zWT7m8VqM1pC",
    "outputId": "f353166a-2a62-41a2-b080-55a60f8d2afb"
   },
   "outputs": [
    {
     "data": {
      "text/html": [
       "<style>.container { width:90% !important; }</style>"
      ],
      "text/plain": [
       "<IPython.core.display.HTML object>"
      ]
     },
     "metadata": {},
     "output_type": "display_data"
    }
   ],
   "source": [
    "### Aumentar el ancho del notebook\n",
    "from IPython.core.display import display, HTML\n",
    "display(HTML(\"<style>.container { width:90% !important; }</style>\"))"
   ]
  },
  {
   "cell_type": "markdown",
   "metadata": {
    "colab_type": "text",
    "id": "lpOnWDm_y6rm"
   },
   "source": [
    "## Práctico Introducción al Machine Learning\n",
    "\n",
    "**Consigna:**\n",
    "\n",
    "Proponer un modelo de Aprendizaje Automático para estos datos. \n",
    "\n",
    "Para ello deberan explorar y probar varios modelos, buscando las configuraciones que mejores resultados den. Tener en cuenta:\n",
    "\n",
    "* Elección de la variable objetivo y features\n",
    "* Selección de un modelo\n",
    "* Ajuste de hiperparámetros \n",
    "* Evaluación"
   ]
  },
  {
   "cell_type": "markdown",
   "metadata": {
    "colab_type": "text",
    "id": "3m3osgN0Co99"
   },
   "source": [
    "Veamos unos sencillos (e incompletos) **ejemplos**."
   ]
  },
  {
   "cell_type": "markdown",
   "metadata": {
    "colab_type": "text",
    "id": "ll36j6ftM5OK"
   },
   "source": [
    "### Carga de datos"
   ]
  },
  {
   "cell_type": "code",
   "execution_count": 2,
   "metadata": {
    "colab": {},
    "colab_type": "code",
    "id": "nX4ZothRGYOz"
   },
   "outputs": [],
   "source": [
    "# Importamos librerías necesarias\n",
    "\n",
    "import pandas as pd\n",
    "import numpy as np\n",
    "import matplotlib.pyplot as plt"
   ]
  },
  {
   "cell_type": "code",
   "execution_count": 3,
   "metadata": {
    "colab": {},
    "colab_type": "code",
    "id": "cxroRU8gyv9b"
   },
   "outputs": [],
   "source": [
    "url = 'https://raw.githubusercontent.com/lucia15/Datos-Covid19-Argentina/master/Argentina-covid19.csv'\n",
    "\n",
    "data = pd.read_csv(url, error_bad_lines=False)"
   ]
  },
  {
   "cell_type": "markdown",
   "metadata": {
    "colab_type": "text",
    "id": "Xa7J6IhnQpGn"
   },
   "source": [
    "**Variable objetivo: 'casos_nuevos'**"
   ]
  },
  {
   "cell_type": "markdown",
   "metadata": {
    "colab_type": "text",
    "id": "1MSvQ8gBM_n4"
   },
   "source": [
    "Puesto que muchas de las variables presentes en el dataset son **series temporales**, es importante tener en cuenta que para aplicar modelos de aprendizaje supervisado, es necesario realizar algunas adaptaciones previamente.\n",
    "\n",
    "El siguiente método se conoce como **sliding window**."
   ]
  },
  {
   "cell_type": "code",
   "execution_count": 4,
   "metadata": {
    "colab": {
     "base_uri": "https://localhost:8080/",
     "height": 424
    },
    "colab_type": "code",
    "executionInfo": {
     "elapsed": 2245,
     "status": "ok",
     "timestamp": 1596131638146,
     "user": {
      "displayName": "Maria Lucia Pappaterra",
      "photoUrl": "",
      "userId": "02022975574182658400"
     },
     "user_tz": 180
    },
    "id": "eg6-xRAQ-vTT",
    "outputId": "6fac2272-f08a-4135-e5e6-583b7c3dbc3b"
   },
   "outputs": [
    {
     "data": {
      "text/html": [
       "<div>\n",
       "<style scoped>\n",
       "    .dataframe tbody tr th:only-of-type {\n",
       "        vertical-align: middle;\n",
       "    }\n",
       "\n",
       "    .dataframe tbody tr th {\n",
       "        vertical-align: top;\n",
       "    }\n",
       "\n",
       "    .dataframe thead th {\n",
       "        text-align: right;\n",
       "    }\n",
       "</style>\n",
       "<table border=\"1\" class=\"dataframe\">\n",
       "  <thead>\n",
       "    <tr style=\"text-align: right;\">\n",
       "      <th></th>\n",
       "      <th>t</th>\n",
       "      <th>t+1</th>\n",
       "      <th>casos_activos</th>\n",
       "      <th>casos_activos+1</th>\n",
       "    </tr>\n",
       "  </thead>\n",
       "  <tbody>\n",
       "    <tr>\n",
       "      <th>0</th>\n",
       "      <td>1</td>\n",
       "      <td>1.0</td>\n",
       "      <td>1.0</td>\n",
       "      <td>2.0</td>\n",
       "    </tr>\n",
       "    <tr>\n",
       "      <th>1</th>\n",
       "      <td>1</td>\n",
       "      <td>7.0</td>\n",
       "      <td>2.0</td>\n",
       "      <td>9.0</td>\n",
       "    </tr>\n",
       "    <tr>\n",
       "      <th>2</th>\n",
       "      <td>7</td>\n",
       "      <td>3.0</td>\n",
       "      <td>9.0</td>\n",
       "      <td>12.0</td>\n",
       "    </tr>\n",
       "    <tr>\n",
       "      <th>3</th>\n",
       "      <td>3</td>\n",
       "      <td>5.0</td>\n",
       "      <td>12.0</td>\n",
       "      <td>17.0</td>\n",
       "    </tr>\n",
       "    <tr>\n",
       "      <th>4</th>\n",
       "      <td>5</td>\n",
       "      <td>2.0</td>\n",
       "      <td>17.0</td>\n",
       "      <td>19.0</td>\n",
       "    </tr>\n",
       "    <tr>\n",
       "      <th>...</th>\n",
       "      <td>...</td>\n",
       "      <td>...</td>\n",
       "      <td>...</td>\n",
       "      <td>...</td>\n",
       "    </tr>\n",
       "    <tr>\n",
       "      <th>223</th>\n",
       "      <td>14932</td>\n",
       "      <td>17096.0</td>\n",
       "      <td>180821.0</td>\n",
       "      <td>184204.0</td>\n",
       "    </tr>\n",
       "    <tr>\n",
       "      <th>224</th>\n",
       "      <td>17096</td>\n",
       "      <td>16546.0</td>\n",
       "      <td>184204.0</td>\n",
       "      <td>187108.0</td>\n",
       "    </tr>\n",
       "    <tr>\n",
       "      <th>225</th>\n",
       "      <td>16546</td>\n",
       "      <td>13510.0</td>\n",
       "      <td>187108.0</td>\n",
       "      <td>187945.0</td>\n",
       "    </tr>\n",
       "    <tr>\n",
       "      <th>226</th>\n",
       "      <td>13510</td>\n",
       "      <td>10561.0</td>\n",
       "      <td>187945.0</td>\n",
       "      <td>185715.0</td>\n",
       "    </tr>\n",
       "    <tr>\n",
       "      <th>227</th>\n",
       "      <td>10561</td>\n",
       "      <td>NaN</td>\n",
       "      <td>185715.0</td>\n",
       "      <td>NaN</td>\n",
       "    </tr>\n",
       "  </tbody>\n",
       "</table>\n",
       "<p>228 rows × 4 columns</p>\n",
       "</div>"
      ],
      "text/plain": [
       "         t      t+1  casos_activos  casos_activos+1\n",
       "0        1      1.0            1.0              2.0\n",
       "1        1      7.0            2.0              9.0\n",
       "2        7      3.0            9.0             12.0\n",
       "3        3      5.0           12.0             17.0\n",
       "4        5      2.0           17.0             19.0\n",
       "..     ...      ...            ...              ...\n",
       "223  14932  17096.0       180821.0         184204.0\n",
       "224  17096  16546.0       184204.0         187108.0\n",
       "225  16546  13510.0       187108.0         187945.0\n",
       "226  13510  10561.0       187945.0         185715.0\n",
       "227  10561      NaN       185715.0              NaN\n",
       "\n",
       "[228 rows x 4 columns]"
      ]
     },
     "execution_count": 4,
     "metadata": {},
     "output_type": "execute_result"
    }
   ],
   "source": [
    "df = pd.DataFrame()\n",
    "\n",
    "df['t']   = data['casos_nuevos']\n",
    "df['t+1'] =  df['t'].shift(-1)\n",
    "df['casos_activos'] = data['casos_total']-data['alta_total']\n",
    "df['casos_activos+1'] = df['casos_activos'].shift(-1)\n",
    "\n",
    "df"
   ]
  },
  {
   "cell_type": "markdown",
   "metadata": {
    "colab_type": "text",
    "id": "R9F4xdJKEBkK"
   },
   "source": [
    "Tiramos la última fila que contiene un NaN"
   ]
  },
  {
   "cell_type": "code",
   "execution_count": 5,
   "metadata": {
    "colab": {},
    "colab_type": "code",
    "id": "g9yWpAbEFqLj"
   },
   "outputs": [
    {
     "data": {
      "text/html": [
       "<div>\n",
       "<style scoped>\n",
       "    .dataframe tbody tr th:only-of-type {\n",
       "        vertical-align: middle;\n",
       "    }\n",
       "\n",
       "    .dataframe tbody tr th {\n",
       "        vertical-align: top;\n",
       "    }\n",
       "\n",
       "    .dataframe thead th {\n",
       "        text-align: right;\n",
       "    }\n",
       "</style>\n",
       "<table border=\"1\" class=\"dataframe\">\n",
       "  <thead>\n",
       "    <tr style=\"text-align: right;\">\n",
       "      <th></th>\n",
       "      <th>t</th>\n",
       "      <th>t+1</th>\n",
       "      <th>casos_activos</th>\n",
       "      <th>casos_activos+1</th>\n",
       "    </tr>\n",
       "  </thead>\n",
       "  <tbody>\n",
       "    <tr>\n",
       "      <th>0</th>\n",
       "      <td>1</td>\n",
       "      <td>1.0</td>\n",
       "      <td>1.0</td>\n",
       "      <td>2.0</td>\n",
       "    </tr>\n",
       "    <tr>\n",
       "      <th>1</th>\n",
       "      <td>1</td>\n",
       "      <td>7.0</td>\n",
       "      <td>2.0</td>\n",
       "      <td>9.0</td>\n",
       "    </tr>\n",
       "    <tr>\n",
       "      <th>2</th>\n",
       "      <td>7</td>\n",
       "      <td>3.0</td>\n",
       "      <td>9.0</td>\n",
       "      <td>12.0</td>\n",
       "    </tr>\n",
       "    <tr>\n",
       "      <th>3</th>\n",
       "      <td>3</td>\n",
       "      <td>5.0</td>\n",
       "      <td>12.0</td>\n",
       "      <td>17.0</td>\n",
       "    </tr>\n",
       "    <tr>\n",
       "      <th>4</th>\n",
       "      <td>5</td>\n",
       "      <td>2.0</td>\n",
       "      <td>17.0</td>\n",
       "      <td>19.0</td>\n",
       "    </tr>\n",
       "    <tr>\n",
       "      <th>...</th>\n",
       "      <td>...</td>\n",
       "      <td>...</td>\n",
       "      <td>...</td>\n",
       "      <td>...</td>\n",
       "    </tr>\n",
       "    <tr>\n",
       "      <th>222</th>\n",
       "      <td>13305</td>\n",
       "      <td>14932.0</td>\n",
       "      <td>174800.0</td>\n",
       "      <td>180821.0</td>\n",
       "    </tr>\n",
       "    <tr>\n",
       "      <th>223</th>\n",
       "      <td>14932</td>\n",
       "      <td>17096.0</td>\n",
       "      <td>180821.0</td>\n",
       "      <td>184204.0</td>\n",
       "    </tr>\n",
       "    <tr>\n",
       "      <th>224</th>\n",
       "      <td>17096</td>\n",
       "      <td>16546.0</td>\n",
       "      <td>184204.0</td>\n",
       "      <td>187108.0</td>\n",
       "    </tr>\n",
       "    <tr>\n",
       "      <th>225</th>\n",
       "      <td>16546</td>\n",
       "      <td>13510.0</td>\n",
       "      <td>187108.0</td>\n",
       "      <td>187945.0</td>\n",
       "    </tr>\n",
       "    <tr>\n",
       "      <th>226</th>\n",
       "      <td>13510</td>\n",
       "      <td>10561.0</td>\n",
       "      <td>187945.0</td>\n",
       "      <td>185715.0</td>\n",
       "    </tr>\n",
       "  </tbody>\n",
       "</table>\n",
       "<p>210 rows × 4 columns</p>\n",
       "</div>"
      ],
      "text/plain": [
       "         t      t+1  casos_activos  casos_activos+1\n",
       "0        1      1.0            1.0              2.0\n",
       "1        1      7.0            2.0              9.0\n",
       "2        7      3.0            9.0             12.0\n",
       "3        3      5.0           12.0             17.0\n",
       "4        5      2.0           17.0             19.0\n",
       "..     ...      ...            ...              ...\n",
       "222  13305  14932.0       174800.0         180821.0\n",
       "223  14932  17096.0       180821.0         184204.0\n",
       "224  17096  16546.0       184204.0         187108.0\n",
       "225  16546  13510.0       187108.0         187945.0\n",
       "226  13510  10561.0       187945.0         185715.0\n",
       "\n",
       "[210 rows x 4 columns]"
      ]
     },
     "execution_count": 5,
     "metadata": {},
     "output_type": "execute_result"
    }
   ],
   "source": [
    "df.drop(df.tail(1).index,inplace=True)\n",
    "df.dropna()"
   ]
  },
  {
   "cell_type": "code",
   "execution_count": 6,
   "metadata": {
    "colab": {
     "base_uri": "https://localhost:8080/",
     "height": 35
    },
    "colab_type": "code",
    "executionInfo": {
     "elapsed": 2230,
     "status": "ok",
     "timestamp": 1596131638149,
     "user": {
      "displayName": "Maria Lucia Pappaterra",
      "photoUrl": "",
      "userId": "02022975574182658400"
     },
     "user_tz": 180
    },
    "id": "VMXAnzfy-7iQ",
    "outputId": "8e0327ab-ecb8-4fb2-e9de-9785e970bfc4"
   },
   "outputs": [
    {
     "data": {
      "text/plain": [
       "((227,), (227,), (227,))"
      ]
     },
     "execution_count": 6,
     "metadata": {},
     "output_type": "execute_result"
    }
   ],
   "source": [
    "df['t'].shape, df['t+1'].shape, df['casos_activos'].shape"
   ]
  },
  {
   "cell_type": "markdown",
   "metadata": {
    "colab_type": "text",
    "id": "nxsbYTCzQfZB"
   },
   "source": [
    "Fuente: https://machinelearningmastery.com/convert-time-series-supervised-learning-problem-python/"
   ]
  },
  {
   "cell_type": "markdown",
   "metadata": {
    "colab_type": "text",
    "id": "eVFyf7WSDu7h"
   },
   "source": [
    "### División en etrenamiento y evaluación"
   ]
  },
  {
   "cell_type": "code",
   "execution_count": 7,
   "metadata": {
    "colab": {},
    "colab_type": "code",
    "id": "VRnwr5p1mM8Q"
   },
   "outputs": [],
   "source": [
    "from sklearn.model_selection import train_test_split"
   ]
  },
  {
   "cell_type": "code",
   "execution_count": 8,
   "metadata": {
    "colab": {
     "base_uri": "https://localhost:8080/",
     "height": 35
    },
    "colab_type": "code",
    "executionInfo": {
     "elapsed": 2496,
     "status": "ok",
     "timestamp": 1596131638433,
     "user": {
      "displayName": "Maria Lucia Pappaterra",
      "photoUrl": "",
      "userId": "02022975574182658400"
     },
     "user_tz": 180
    },
    "id": "jhwTujLaFLq3",
    "outputId": "b419e8a4-54d8-4406-f71e-8d49336cd468"
   },
   "outputs": [
    {
     "data": {
      "text/plain": [
       "((181, 1), (46, 1))"
      ]
     },
     "execution_count": 8,
     "metadata": {},
     "output_type": "execute_result"
    }
   ],
   "source": [
    "X, y = df['t'].to_numpy().reshape(-1,1), df['t+1'].to_numpy().reshape(-1,1)\n",
    "X_train, X_test, y_train, y_test = train_test_split(X, y, train_size=0.8, random_state=0)\n",
    "X_train.shape, X_test.shape"
   ]
  },
  {
   "cell_type": "code",
   "execution_count": 9,
   "metadata": {
    "colab": {
     "base_uri": "https://localhost:8080/",
     "height": 265
    },
    "colab_type": "code",
    "executionInfo": {
     "elapsed": 3522,
     "status": "ok",
     "timestamp": 1596131639472,
     "user": {
      "displayName": "Maria Lucia Pappaterra",
      "photoUrl": "",
      "userId": "02022975574182658400"
     },
     "user_tz": 180
    },
    "id": "Id0cbVBLFLt9",
    "outputId": "3d367dc7-8721-4570-8160-2602ba72d60c"
   },
   "outputs": [
    {
     "data": {
      "image/png": "[encoded data removed]",
      "text/plain": [
       "<Figure size 432x288 with 1 Axes>"
      ]
     },
     "metadata": {
      "needs_background": "light"
     },
     "output_type": "display_data"
    }
   ],
   "source": [
    "plt.scatter(X_train, y_train, color=\"blue\", label=\"train\")\n",
    "plt.scatter(X_test, y_test, color=\"white\", edgecolor=\"k\", label=\"test\")\n",
    "plt.legend()\n",
    "plt.show()"
   ]
  },
  {
   "cell_type": "markdown",
   "metadata": {
    "colab_type": "text",
    "id": "G_lAl5-jJ_Ey"
   },
   "source": [
    "### Regresión Lineal\n",
    "\n",
    "Probaremos ajustar los puntos usando una recta."
   ]
  },
  {
   "cell_type": "code",
   "execution_count": 10,
   "metadata": {
    "colab": {},
    "colab_type": "code",
    "id": "UmhsRYSll--s"
   },
   "outputs": [],
   "source": [
    "from sklearn import linear_model\n",
    "from sklearn.metrics import mean_squared_error, r2_score"
   ]
  },
  {
   "cell_type": "code",
   "execution_count": 11,
   "metadata": {
    "colab": {},
    "colab_type": "code",
    "id": "ApptLyw2FLws"
   },
   "outputs": [],
   "source": [
    "# Create linear regression object\n",
    "regr = linear_model.LinearRegression()"
   ]
  },
  {
   "cell_type": "code",
   "execution_count": 12,
   "metadata": {
    "colab": {},
    "colab_type": "code",
    "id": "iuIbxbK7FLyt"
   },
   "outputs": [],
   "source": [
    "# Train the model using the training sets\n",
    "regr.fit(X_train, y_train)\n",
    "\n",
    "# Make predictions using the testing set\n",
    "y_test_pred = regr.predict(X_test)\n",
    "\n",
    "# and training set\n",
    "y_train_pred = regr.predict(X_train)"
   ]
  },
  {
   "cell_type": "code",
   "execution_count": 13,
   "metadata": {
    "colab": {
     "base_uri": "https://localhost:8080/",
     "height": 160
    },
    "colab_type": "code",
    "executionInfo": {
     "elapsed": 3493,
     "status": "ok",
     "timestamp": 1596131639476,
     "user": {
      "displayName": "Maria Lucia Pappaterra",
      "photoUrl": "",
      "userId": "02022975574182658400"
     },
     "user_tz": 180
    },
    "id": "CkrKcGfsFL1j",
    "outputId": "c79e839a-df32-4ea1-dc5b-86c3b7b517ad"
   },
   "outputs": [
    {
     "name": "stdout",
     "output_type": "stream",
     "text": [
      "Coefficients: \n",
      " [[0.97786561]]\n",
      "Mean squared error\n",
      "Train error: 1177344.95\n",
      "Test error: 1042548.57\n",
      "Coefficient of determination\n",
      "Train: 0.95\n",
      "Test: 0.94\n"
     ]
    }
   ],
   "source": [
    "# The coefficients\n",
    "print('Coefficients: \\n', regr.coef_)\n",
    "\n",
    "# The mean squared error\n",
    "train_error = mean_squared_error(y_train, y_train_pred)\n",
    "test_error = mean_squared_error(y_test, y_test_pred)\n",
    "\n",
    "print('Mean squared error')\n",
    "\n",
    "print('Train error: %.2f' % train_error)\n",
    "print('Test error: %.2f' % test_error)\n",
    "\n",
    "# The coefficient of determination: 1 is perfect prediction\n",
    "\n",
    "train_coeff = r2_score(y_train, y_train_pred)\n",
    "test_coeff = r2_score(y_test, y_test_pred)\n",
    "\n",
    "print('Coefficient of determination')\n",
    "\n",
    "print('Train: %.2f' % train_coeff)\n",
    "print('Test: %.2f' % test_coeff)"
   ]
  },
  {
   "cell_type": "code",
   "execution_count": 14,
   "metadata": {
    "colab": {
     "base_uri": "https://localhost:8080/",
     "height": 265
    },
    "colab_type": "code",
    "executionInfo": {
     "elapsed": 811,
     "status": "ok",
     "timestamp": 1596131665154,
     "user": {
      "displayName": "Maria Lucia Pappaterra",
      "photoUrl": "",
      "userId": "02022975574182658400"
     },
     "user_tz": 180
    },
    "id": "5uXF6qt0KoHG",
    "outputId": "ffae5280-0378-44db-c3d3-fdb087c85f8b"
   },
   "outputs": [
    {
     "data": {
      "image/png": "[encoded data removed]",
      "text/plain": [
       "<Figure size 432x288 with 1 Axes>"
      ]
     },
     "metadata": {
      "needs_background": "light"
     },
     "output_type": "display_data"
    }
   ],
   "source": [
    "# Plot outputs\n",
    "fig, ax = plt.subplots()\n",
    "ax.set_xlabel('Casos nuevos', fontsize=14)\n",
    "ax.set_ylabel('Casos nuevos del día posterior', fontsize=14)\n",
    "\n",
    "plt.scatter(X_test, y_test,  color='white', edgecolor='k', label='test')\n",
    "plt.scatter(X_train, y_train,  color='blue', label='train')\n",
    "plt.plot(X_train, y_train_pred, color='red', label='Regresión Lineal')\n",
    "plt.legend()\n",
    "plt.tight_layout()\n",
    "plt.savefig('regresion_lineal.png')\n",
    "plt.show()"
   ]
  },
  {
   "cell_type": "markdown",
   "metadata": {},
   "source": [
    "La Regresión lineal de casos nuevos versus casos nuevos del día anterior es muy buena, como se podía esperar, pero tiene una dispersión muy grande y que crece en el tiempo. Además no da mucha información, en el sentido de que no es posible advertir un cambio de signo en la curva de casos nuevos solamente con la predicción de un día. Además el hecho de que dependa del dato del día anterior hace que esté sujeto a variaciónes propias de la dispersión de los datos y arrastradas por las irregularidades en la carga de datos."
   ]
  },
  {
   "cell_type": "markdown",
   "metadata": {},
   "source": [
    "### Regresión casos activos versus casos nuevos"
   ]
  },
  {
   "cell_type": "code",
   "execution_count": 15,
   "metadata": {},
   "outputs": [],
   "source": [
    "df = df.dropna()"
   ]
  },
  {
   "cell_type": "code",
   "execution_count": 16,
   "metadata": {
    "colab": {
     "base_uri": "https://localhost:8080/",
     "height": 35
    },
    "colab_type": "code",
    "executionInfo": {
     "elapsed": 2496,
     "status": "ok",
     "timestamp": 1596131638433,
     "user": {
      "displayName": "Maria Lucia Pappaterra",
      "photoUrl": "",
      "userId": "02022975574182658400"
     },
     "user_tz": 180
    },
    "id": "jhwTujLaFLq3",
    "outputId": "b419e8a4-54d8-4406-f71e-8d49336cd468"
   },
   "outputs": [
    {
     "data": {
      "text/plain": [
       "((168, 1), (42, 1))"
      ]
     },
     "execution_count": 16,
     "metadata": {},
     "output_type": "execute_result"
    }
   ],
   "source": [
    "X, y = df['casos_activos'].to_numpy().reshape(-1,1), df['t+1'].to_numpy().reshape(-1,1)\n",
    "X_train, X_test, y_train, y_test = train_test_split(X, y, train_size=0.8, random_state=0)\n",
    "X_train.shape, X_test.shape"
   ]
  },
  {
   "cell_type": "code",
   "execution_count": 17,
   "metadata": {
    "colab": {
     "base_uri": "https://localhost:8080/",
     "height": 265
    },
    "colab_type": "code",
    "executionInfo": {
     "elapsed": 3522,
     "status": "ok",
     "timestamp": 1596131639472,
     "user": {
      "displayName": "Maria Lucia Pappaterra",
      "photoUrl": "",
      "userId": "02022975574182658400"
     },
     "user_tz": 180
    },
    "id": "Id0cbVBLFLt9",
    "outputId": "3d367dc7-8721-4570-8160-2602ba72d60c"
   },
   "outputs": [
    {
     "data": {
      "image/png": "[encoded data removed]",
      "text/plain": [
       "<Figure size 432x288 with 1 Axes>"
      ]
     },
     "metadata": {
      "needs_background": "light"
     },
     "output_type": "display_data"
    }
   ],
   "source": [
    "plt.ylabel('Casos nuevos del día posterior')\n",
    "plt.xlabel('Casos activos')\n",
    "\n",
    "plt.scatter(X_train, y_train, color=\"blue\", label=\"train\")\n",
    "plt.scatter(X_test, y_test, color=\"white\", edgecolor=\"k\", label=\"test\")\n",
    "plt.legend()\n",
    "plt.show()"
   ]
  },
  {
   "cell_type": "markdown",
   "metadata": {
    "colab_type": "text",
    "id": "G_lAl5-jJ_Ey"
   },
   "source": [
    "### Regresión Lineal\n",
    "\n",
    "Probaremos ajustar los puntos usando una recta."
   ]
  },
  {
   "cell_type": "code",
   "execution_count": 18,
   "metadata": {
    "colab": {},
    "colab_type": "code",
    "id": "ApptLyw2FLws"
   },
   "outputs": [],
   "source": [
    "# Create linear regression object\n",
    "regr = linear_model.LinearRegression()"
   ]
  },
  {
   "cell_type": "code",
   "execution_count": 19,
   "metadata": {
    "colab": {},
    "colab_type": "code",
    "id": "iuIbxbK7FLyt"
   },
   "outputs": [],
   "source": [
    "# Train the model using the training sets\n",
    "regr.fit(X_train, y_train)\n",
    "\n",
    "# Make predictions using the testing set\n",
    "y_test_pred = regr.predict(X_test)\n",
    "\n",
    "# and training set\n",
    "y_train_pred = regr.predict(X_train)"
   ]
  },
  {
   "cell_type": "code",
   "execution_count": 20,
   "metadata": {
    "colab": {
     "base_uri": "https://localhost:8080/",
     "height": 160
    },
    "colab_type": "code",
    "executionInfo": {
     "elapsed": 3493,
     "status": "ok",
     "timestamp": 1596131639476,
     "user": {
      "displayName": "Maria Lucia Pappaterra",
      "photoUrl": "",
      "userId": "02022975574182658400"
     },
     "user_tz": 180
    },
    "id": "CkrKcGfsFL1j",
    "outputId": "c79e839a-df32-4ea1-dc5b-86c3b7b517ad"
   },
   "outputs": [
    {
     "name": "stdout",
     "output_type": "stream",
     "text": [
      "Coefficients: \n",
      " [[0.08065208]]\n",
      "Mean squared error\n",
      "Train error: 1922454.78\n",
      "Test error: 1974228.74\n",
      "Coefficient of determination\n",
      "Train: 0.92\n",
      "Test: 0.90\n"
     ]
    }
   ],
   "source": [
    "# The coefficients\n",
    "print('Coefficients: \\n', regr.coef_)\n",
    "\n",
    "# The mean squared error\n",
    "train_error = mean_squared_error(y_train, y_train_pred)\n",
    "test_error = mean_squared_error(y_test, y_test_pred)\n",
    "\n",
    "print('Mean squared error')\n",
    "\n",
    "print('Train error: %.2f' % train_error)\n",
    "print('Test error: %.2f' % test_error)\n",
    "\n",
    "# The coefficient of determination: 1 is perfect prediction\n",
    "\n",
    "train_coeff = r2_score(y_train, y_train_pred)\n",
    "test_coeff = r2_score(y_test, y_test_pred)\n",
    "\n",
    "print('Coefficient of determination')\n",
    "\n",
    "print('Train: %.2f' % train_coeff)\n",
    "print('Test: %.2f' % test_coeff)"
   ]
  },
  {
   "cell_type": "code",
   "execution_count": 21,
   "metadata": {
    "colab": {
     "base_uri": "https://localhost:8080/",
     "height": 265
    },
    "colab_type": "code",
    "executionInfo": {
     "elapsed": 811,
     "status": "ok",
     "timestamp": 1596131665154,
     "user": {
      "displayName": "Maria Lucia Pappaterra",
      "photoUrl": "",
      "userId": "02022975574182658400"
     },
     "user_tz": 180
    },
    "id": "5uXF6qt0KoHG",
    "outputId": "ffae5280-0378-44db-c3d3-fdb087c85f8b"
   },
   "outputs": [
    {
     "data": {
      "image/png": "[encoded data removed]",
      "text/plain": [
       "<Figure size 432x288 with 1 Axes>"
      ]
     },
     "metadata": {
      "needs_background": "light"
     },
     "output_type": "display_data"
    }
   ],
   "source": [
    "# Plot outputs\n",
    "fig, ax = plt.subplots()\n",
    "ax.set_xlabel('Casos activos', fontsize=14)\n",
    "ax.set_ylabel('Casos nuevos del día posterior', fontsize=14)\n",
    "\n",
    "plt.scatter(X_test, y_test,  color='white', edgecolor='k', label='test')\n",
    "plt.scatter(X_train, y_train,  color='blue', label='train')\n",
    "plt.plot(X_train, y_train_pred, color='red', label='Regresion Lineal')\n",
    "plt.legend()\n",
    "plt.tight_layout()\n",
    "plt.savefig('regresion_lineal_2.png')\n",
    "plt.show()"
   ]
  },
  {
   "cell_type": "markdown",
   "metadata": {},
   "source": [
    "Aquí propusimos ajustar casos nuevos con casos activos, debido a que se supone que los activos en un período determinado son los que pueden contaguiar y por lo tanto los contagiados nuevos deberían depender de los activos en tiempo anterior. Si bien sabemos que esto no es un modelo correcto ya que la dependencia es más compleja, puede ser un modelo que dé más información que el previo. Los datos siguen teniendo un buen ajuste lineal, si miramos los coeficientes determinación para Train y Test siguen siendo altos (>0.9), pero ahora se pueden distinguir dos regiones. Cuando los casos activos eran menos de 8000, se observa un régimen más lineal con poca dispersión de los datos, y a partir de que los casos activos superan los 8000, hay una gran dispersión de los datos que aunque puedan ser ajustados linealmente, claremente no se está reflejando su verdadera dependencia.\n",
    "\n",
    "Acá es necesario remarcar que cuando fueron aumentando los casos, los sistemas de diagnósticos y de los reportes de casos nuevos han tenido cierto retraso, conbinado con un aumento del índice de positividad. Esa puede ser una de las causas de aumento abrupto en la dispersión de los datos."
   ]
  },
  {
   "cell_type": "markdown",
   "metadata": {},
   "source": [
    "#### Regresión promediando n días"
   ]
  },
  {
   "cell_type": "code",
   "execution_count": 22,
   "metadata": {},
   "outputs": [
    {
     "data": {
      "text/plain": [
       "(75, 75)"
      ]
     },
     "execution_count": 22,
     "metadata": {},
     "output_type": "execute_result"
    }
   ],
   "source": [
    "n = 3\n",
    "\n",
    "casos_t  = [ data['casos_nuevos'][q:q+2].mean() for q in range(0,len(data['casos_nuevos'])-2*n+1,n) ]\n",
    "casos_t1 = [ data['casos_nuevos'][q:q+2].mean() for q in range(n,len(data['casos_nuevos'])-n+1,n)   ]\n",
    "\n",
    "len(casos_t),len(casos_t1)"
   ]
  },
  {
   "cell_type": "code",
   "execution_count": 23,
   "metadata": {},
   "outputs": [],
   "source": [
    "df3 = pd.DataFrame()\n",
    "\n",
    "n = 3\n",
    "\n",
    "df3['t']   = [ data['casos_nuevos'][q:q+2].mean() for q in range(0,len(data['casos_nuevos'])-2*n+1,n) ]\n",
    "df3['t+1'] = [ data['casos_nuevos'][q:q+2].mean() for q in range(n,len(data['casos_nuevos'])-n+1,n)   ]"
   ]
  },
  {
   "cell_type": "code",
   "execution_count": 24,
   "metadata": {},
   "outputs": [],
   "source": [
    "df7 = pd.DataFrame()\n",
    "\n",
    "n = 7\n",
    "\n",
    "df7['t']   = [ df['t'][q:q+2].mean() for q in range(0,len(df['t'])-2*n+1,n) ]\n",
    "df7['t+1'] = [ df['t'][q:q+2].mean() for q in range(n,len(df['t'])-n+1,n)   ]\n",
    "df7['casos_activos']   = [ df['casos_activos'][q:q+2].mean() for q in range(0,len(df['casos_activos'])-2*n+1,n) ]"
   ]
  },
  {
   "cell_type": "code",
   "execution_count": 25,
   "metadata": {},
   "outputs": [],
   "source": [
    "df5 = pd.DataFrame()\n",
    "\n",
    "n = 5\n",
    "\n",
    "df5['t']   = [ data['casos_nuevos'][q:q+2].mean() for q in range(0,len(data['casos_nuevos'])-2*n+1,n) ]\n",
    "df5['t+1'] = [ data['casos_nuevos'][q:q+2].mean() for q in range(n,len(data['casos_nuevos'])-n+1,n)   ]"
   ]
  },
  {
   "cell_type": "code",
   "execution_count": 26,
   "metadata": {},
   "outputs": [
    {
     "data": {
      "text/plain": [
       "[<matplotlib.lines.Line2D at 0x7f116be45650>]"
      ]
     },
     "execution_count": 26,
     "metadata": {},
     "output_type": "execute_result"
    },
    {
     "data": {
      "image/png": "[encoded data removed]",
      "text/plain": [
       "<Figure size 432x288 with 1 Axes>"
      ]
     },
     "metadata": {
      "needs_background": "light"
     },
     "output_type": "display_data"
    }
   ],
   "source": [
    "plt.plot(df['t'],df['t+1'],'x')\n",
    "plt.plot(df3['t'],df3['t+1'],'x')\n",
    "plt.plot(df5['t'],df5['t+1'],'x')\n",
    "plt.plot(df7['t'],df7['t+1'],'x-')"
   ]
  },
  {
   "cell_type": "code",
   "execution_count": 27,
   "metadata": {},
   "outputs": [
    {
     "data": {
      "text/plain": [
       "[<matplotlib.lines.Line2D at 0x7f116bdbea90>]"
      ]
     },
     "execution_count": 27,
     "metadata": {},
     "output_type": "execute_result"
    },
    {
     "data": {
      "image/png": "[encoded data removed]",
      "text/plain": [
       "<Figure size 432x288 with 1 Axes>"
      ]
     },
     "metadata": {
      "needs_background": "light"
     },
     "output_type": "display_data"
    }
   ],
   "source": [
    "plt.plot(df7['casos_activos'],df7['t'],'x-')\n",
    "plt.plot(df7['casos_activos'],df7['t+1'],'x-')"
   ]
  },
  {
   "cell_type": "markdown",
   "metadata": {},
   "source": [
    "#### Promediando de a 3 días (n = 3)"
   ]
  },
  {
   "cell_type": "code",
   "execution_count": 28,
   "metadata": {},
   "outputs": [
    {
     "data": {
      "text/plain": [
       "((52, 1), (23, 1))"
      ]
     },
     "execution_count": 28,
     "metadata": {},
     "output_type": "execute_result"
    }
   ],
   "source": [
    "X, y = df3['t'].to_numpy().reshape(-1,1), df3['t+1'].to_numpy().reshape(-1,1)\n",
    "X_train, X_test, y_train, y_test = train_test_split(X, y, train_size=0.7, random_state=42)\n",
    "X_train.shape, X_test.shape"
   ]
  },
  {
   "cell_type": "code",
   "execution_count": 29,
   "metadata": {},
   "outputs": [],
   "source": [
    "# Create linear regression object\n",
    "regr3 = linear_model.LinearRegression()\n",
    "\n",
    "# Train the model using the training sets\n",
    "regr3.fit(X_train, y_train)\n",
    "\n",
    "# Make predictions using the testing set\n",
    "y_test_pred = regr3.predict(X_test)\n",
    "\n",
    "# and training set\n",
    "y_train_pred = regr3.predict(X_train)"
   ]
  },
  {
   "cell_type": "code",
   "execution_count": 30,
   "metadata": {},
   "outputs": [
    {
     "name": "stdout",
     "output_type": "stream",
     "text": [
      "Coefficients: \n",
      " [[0.94036448]]\n",
      "Mean squared error\n",
      "Train error: 2891337.28\n",
      "Test error: 1516197.78\n",
      "Coefficient of determination\n",
      "Train: 0.87\n",
      "Test: 0.93\n"
     ]
    }
   ],
   "source": [
    "# The coefficients\n",
    "print('Coefficients: \\n', regr3.coef_)\n",
    "\n",
    "# The mean squared error\n",
    "train_error = mean_squared_error(y_train, y_train_pred)\n",
    "test_error = mean_squared_error(y_test, y_test_pred)\n",
    "\n",
    "print('Mean squared error')\n",
    "\n",
    "print('Train error: %.2f' % train_error)\n",
    "print('Test error: %.2f' % test_error)\n",
    "\n",
    "# The coefficient of determination: 1 is perfect prediction\n",
    "\n",
    "train_coeff = r2_score(y_train, y_train_pred)\n",
    "test_coeff = r2_score(y_test, y_test_pred)\n",
    "\n",
    "print('Coefficient of determination')\n",
    "\n",
    "print('Train: %.2f' % train_coeff)\n",
    "print('Test: %.2f' % test_coeff)"
   ]
  },
  {
   "cell_type": "code",
   "execution_count": 31,
   "metadata": {},
   "outputs": [
    {
     "data": {
      "image/png": "[encoded data removed]",
      "text/plain": [
       "<Figure size 432x288 with 1 Axes>"
      ]
     },
     "metadata": {
      "needs_background": "light"
     },
     "output_type": "display_data"
    }
   ],
   "source": [
    "# Plot outputs\n",
    "\n",
    "plt.ylabel('Promedio casos nuevos 3 días posteriores')\n",
    "plt.xlabel('Promedio casos nuevos 3 días')\n",
    "\n",
    "plt.scatter(X_test, y_test,  color='white', edgecolor='k', label='test')\n",
    "plt.scatter(X_train, y_train,  color='blue', label='train')\n",
    "plt.plot(X_train, y_train_pred, color='red', label='model')\n",
    "plt.legend()\n",
    "plt.show()"
   ]
  },
  {
   "cell_type": "markdown",
   "metadata": {},
   "source": [
    "##### n = 5"
   ]
  },
  {
   "cell_type": "code",
   "execution_count": 32,
   "metadata": {},
   "outputs": [
    {
     "data": {
      "text/plain": [
       "((35, 1), (9, 1))"
      ]
     },
     "execution_count": 32,
     "metadata": {},
     "output_type": "execute_result"
    }
   ],
   "source": [
    "X, y = df5['t'].to_numpy().reshape(-1,1), df5['t+1'].to_numpy().reshape(-1,1)\n",
    "X_train, X_test, y_train, y_test = train_test_split(X, y, train_size=0.8, random_state=0)\n",
    "X_train.shape, X_test.shape"
   ]
  },
  {
   "cell_type": "code",
   "execution_count": 33,
   "metadata": {},
   "outputs": [],
   "source": [
    "# Create linear regression object\n",
    "regr5 = linear_model.LinearRegression()\n",
    "\n",
    "# Train the model using the training sets\n",
    "regr5.fit(X_train, y_train)\n",
    "\n",
    "# Make predictions using the testing set\n",
    "y_test_pred = regr5.predict(X_test)\n",
    "\n",
    "# and training set\n",
    "y_train_pred = regr5.predict(X_train)"
   ]
  },
  {
   "cell_type": "code",
   "execution_count": 34,
   "metadata": {},
   "outputs": [
    {
     "name": "stdout",
     "output_type": "stream",
     "text": [
      "Coefficients: \n",
      " [[0.9152149]]\n",
      "Mean squared error\n",
      "Train error: 2375373.88\n",
      "Test error: 2365507.79\n",
      "Coefficient of determination\n",
      "Train: 0.89\n",
      "Test: 0.87\n"
     ]
    }
   ],
   "source": [
    "# The coefficients\n",
    "print('Coefficients: \\n', regr5.coef_)\n",
    "\n",
    "# The mean squared error\n",
    "train_error = mean_squared_error(y_train, y_train_pred)\n",
    "test_error = mean_squared_error(y_test, y_test_pred)\n",
    "\n",
    "print('Mean squared error')\n",
    "\n",
    "print('Train error: %.2f' % train_error)\n",
    "print('Test error: %.2f' % test_error)\n",
    "\n",
    "# The coefficient of determination: 1 is perfect prediction\n",
    "\n",
    "train_coeff = r2_score(y_train, y_train_pred)\n",
    "test_coeff = r2_score(y_test, y_test_pred)\n",
    "\n",
    "print('Coefficient of determination')\n",
    "\n",
    "print('Train: %.2f' % train_coeff)\n",
    "print('Test: %.2f' % test_coeff)"
   ]
  },
  {
   "cell_type": "code",
   "execution_count": 35,
   "metadata": {},
   "outputs": [
    {
     "data": {
      "image/png": "[encoded data removed]",
      "text/plain": [
       "<Figure size 432x288 with 1 Axes>"
      ]
     },
     "metadata": {
      "needs_background": "light"
     },
     "output_type": "display_data"
    }
   ],
   "source": [
    "# Plot outputs\n",
    "plt.ylabel('Promedio casos nuevos 5 días posteriores')\n",
    "plt.xlabel('Promedio casos nuevos 5 días')\n",
    "\n",
    "plt.scatter(X_test, y_test,  color='white', edgecolor='k', label='test')\n",
    "plt.scatter(X_train, y_train,  color='blue', label='train')\n",
    "plt.plot(X_train, y_train_pred, color='red', label='model')\n",
    "plt.legend()\n",
    "plt.show()"
   ]
  },
  {
   "cell_type": "markdown",
   "metadata": {},
   "source": [
    "##### n = 7"
   ]
  },
  {
   "cell_type": "code",
   "execution_count": 36,
   "metadata": {},
   "outputs": [
    {
     "data": {
      "text/plain": [
       "((23, 1), (6, 1))"
      ]
     },
     "execution_count": 36,
     "metadata": {},
     "output_type": "execute_result"
    }
   ],
   "source": [
    "X, y = df7['t'].to_numpy().reshape(-1,1), df7['t+1'].to_numpy().reshape(-1,1)\n",
    "X_train, X_test, y_train, y_test = train_test_split(X, y, train_size=0.8, random_state=0)\n",
    "X_train.shape, X_test.shape"
   ]
  },
  {
   "cell_type": "code",
   "execution_count": 37,
   "metadata": {},
   "outputs": [],
   "source": [
    "# Create linear regression object\n",
    "regr7 = linear_model.LinearRegression()\n",
    "\n",
    "# Train the model using the training sets\n",
    "regr7.fit(X_train, y_train)\n",
    "\n",
    "# Make predictions using the testing set\n",
    "y_test_pred = regr7.predict(X_test)\n",
    "\n",
    "# and training set\n",
    "y_train_pred = regr7.predict(X_train)"
   ]
  },
  {
   "cell_type": "code",
   "execution_count": 38,
   "metadata": {},
   "outputs": [
    {
     "name": "stdout",
     "output_type": "stream",
     "text": [
      "Coefficients: \n",
      " [[1.0470609]]\n",
      "Mean squared error\n",
      "Train error: 530077.55\n",
      "Test error: 852513.88\n",
      "Coefficient of determination\n",
      "Train: 0.97\n",
      "Test: 0.95\n"
     ]
    }
   ],
   "source": [
    "# The coefficients\n",
    "print('Coefficients: \\n', regr7.coef_)\n",
    "\n",
    "# The mean squared error\n",
    "train_error = mean_squared_error(y_train, y_train_pred)\n",
    "test_error = mean_squared_error(y_test, y_test_pred)\n",
    "\n",
    "print('Mean squared error')\n",
    "\n",
    "print('Train error: %.2f' % train_error)\n",
    "print('Test error: %.2f' % test_error)\n",
    "\n",
    "# The coefficient of determination: 1 is perfect prediction\n",
    "\n",
    "train_coeff = r2_score(y_train, y_train_pred)\n",
    "test_coeff = r2_score(y_test, y_test_pred)\n",
    "\n",
    "print('Coefficient of determination')\n",
    "\n",
    "print('Train: %.2f' % train_coeff)\n",
    "print('Test: %.2f' % test_coeff)"
   ]
  },
  {
   "cell_type": "code",
   "execution_count": 39,
   "metadata": {},
   "outputs": [
    {
     "data": {
      "image/png": "[encoded data removed]",
      "text/plain": [
       "<Figure size 432x288 with 1 Axes>"
      ]
     },
     "metadata": {
      "needs_background": "light"
     },
     "output_type": "display_data"
    }
   ],
   "source": [
    "# Plot outputs\n",
    "fig, ax = plt.subplots()\n",
    "ax.set_ylabel('Casos nuevos semana posterior', fontsize=14)\n",
    "ax.set_xlabel('Casos nuevos (por semana)', fontsize=14)\n",
    "\n",
    "plt.scatter(X_test, y_test,  color='white', edgecolor='k', label='test')\n",
    "plt.scatter(X_train, y_train,  color='blue', label='train')\n",
    "plt.plot(X_train, y_train_pred, color='red', label='model')\n",
    "plt.legend()\n",
    "plt.tight_layout()\n",
    "plt.savefig('regresion_lineal_3.png')\n",
    "plt.show()"
   ]
  },
  {
   "cell_type": "code",
   "execution_count": 40,
   "metadata": {},
   "outputs": [
    {
     "data": {
      "text/plain": [
       "(75, 75)"
      ]
     },
     "execution_count": 40,
     "metadata": {},
     "output_type": "execute_result"
    }
   ],
   "source": [
    "n = 3\n",
    "\n",
    "casos_t  = [ data['casos_nuevos'][q:q+2].mean() for q in range(0,len(data['casos_nuevos'])-2*n+1,n) ]\n",
    "casos_t1 = [ data['casos_nuevos'][q:q+2].mean() for q in range(n,len(data['casos_nuevos'])-n+1,n)   ]\n",
    "\n",
    "len(casos_t),len(casos_t1)"
   ]
  },
  {
   "cell_type": "markdown",
   "metadata": {},
   "source": [
    "### Casos activos versus casos nuevos"
   ]
  },
  {
   "cell_type": "code",
   "execution_count": 41,
   "metadata": {},
   "outputs": [
    {
     "data": {
      "text/plain": [
       "((23, 1), (6, 1))"
      ]
     },
     "execution_count": 41,
     "metadata": {},
     "output_type": "execute_result"
    }
   ],
   "source": [
    "X, y = df7['casos_activos'].to_numpy().reshape(-1,1), df7['t+1'].to_numpy().reshape(-1,1)\n",
    "X_train, X_test, y_train, y_test = train_test_split(X, y, train_size=0.8, random_state=0)\n",
    "X_train.shape, X_test.shape"
   ]
  },
  {
   "cell_type": "code",
   "execution_count": 42,
   "metadata": {},
   "outputs": [],
   "source": [
    "# Create linear regression object\n",
    "regr7 = linear_model.LinearRegression()\n",
    "\n",
    "# Train the model using the training sets\n",
    "regr7.fit(X_train, y_train)\n",
    "\n",
    "# Make predictions using the testing set\n",
    "y_test_pred = regr7.predict(X_test)\n",
    "\n",
    "# and training set\n",
    "y_train_pred = regr7.predict(X_train)"
   ]
  },
  {
   "cell_type": "code",
   "execution_count": 43,
   "metadata": {},
   "outputs": [
    {
     "name": "stdout",
     "output_type": "stream",
     "text": [
      "Coefficients: \n",
      " [[0.07348644]]\n",
      "Mean squared error\n",
      "Train error: 1507043.44\n",
      "Test error: 1193003.15\n",
      "Coefficient of determination\n",
      "Train: 0.91\n",
      "Test: 0.93\n"
     ]
    }
   ],
   "source": [
    "# The coefficients\n",
    "print('Coefficients: \\n', regr7.coef_)\n",
    "\n",
    "# The mean squared error\n",
    "train_error = mean_squared_error(y_train, y_train_pred)\n",
    "test_error = mean_squared_error(y_test, y_test_pred)\n",
    "\n",
    "print('Mean squared error')\n",
    "\n",
    "print('Train error: %.2f' % train_error)\n",
    "print('Test error: %.2f' % test_error)\n",
    "\n",
    "# The coefficient of determination: 1 is perfect prediction\n",
    "\n",
    "train_coeff = r2_score(y_train, y_train_pred)\n",
    "test_coeff = r2_score(y_test, y_test_pred)\n",
    "\n",
    "print('Coefficient of determination')\n",
    "\n",
    "print('Train: %.2f' % train_coeff)\n",
    "print('Test: %.2f' % test_coeff)"
   ]
  },
  {
   "cell_type": "code",
   "execution_count": 44,
   "metadata": {},
   "outputs": [
    {
     "data": {
      "image/png": "[encoded data removed]",
      "text/plain": [
       "<Figure size 432x288 with 1 Axes>"
      ]
     },
     "metadata": {
      "needs_background": "light"
     },
     "output_type": "display_data"
    }
   ],
   "source": [
    "# Plot outputs\n",
    "fig, ax = plt.subplots()\n",
    "ax.set_ylabel('Casos nuevos semana posterior', fontsize=14)\n",
    "ax.set_xlabel('Casos activos (por semana)', fontsize=14)\n",
    "\n",
    "plt.scatter(X_test, y_test,  color='white', edgecolor='k', label='test')\n",
    "plt.scatter(X_train, y_train,  color='blue', label='train')\n",
    "plt.plot(X_train, y_train_pred, color='red', label='model')\n",
    "plt.legend()\n",
    "plt.tight_layout()\n",
    "plt.savefig('regresion_lineal_4.png')\n",
    "\n",
    "plt.show()"
   ]
  },
  {
   "cell_type": "markdown",
   "metadata": {},
   "source": [
    "### casos nuevos / casos activos"
   ]
  },
  {
   "cell_type": "code",
   "execution_count": 45,
   "metadata": {},
   "outputs": [],
   "source": [
    "df_r = pd.DataFrame()\n",
    "df_r.drop(df_r.tail(1).index,inplace=True)\n",
    "df_r.dropna()\n",
    "\n",
    "df_r['t_days']        = [ (pd.to_datetime(fecha) - pd.to_datetime(data['fecha'][0])).days for fecha in data['fecha'] ]\n",
    "df_r['casos_activos'] = df['casos_activos']\n",
    "df_r['diff']          = df['casos_activos+1'] - df['casos_activos']\n",
    "df_r['activos/t']     = df['casos_activos']/df['t']\n",
    "df_r = df_r.dropna()"
   ]
  },
  {
   "cell_type": "code",
   "execution_count": 46,
   "metadata": {},
   "outputs": [],
   "source": [
    "def Ones(x):\n",
    "    return np.ones(len(x))\n",
    "\n",
    "def times(x):\n",
    "    return np.arange(1,len(x)+1,1)"
   ]
  },
  {
   "cell_type": "code",
   "execution_count": 47,
   "metadata": {},
   "outputs": [
    {
     "data": {
      "text/plain": [
       "[<matplotlib.lines.Line2D at 0x7f116bb10550>]"
      ]
     },
     "execution_count": 47,
     "metadata": {},
     "output_type": "execute_result"
    },
    {
     "data": {
      "image/png": "[encoded data removed]",
      "text/plain": [
       "<Figure size 432x288 with 1 Axes>"
      ]
     },
     "metadata": {
      "needs_background": "light"
     },
     "output_type": "display_data"
    }
   ],
   "source": [
    "plt.plot(df_r['t_days'],df_r['activos/t'], 'x')\n",
    "plt.plot(df_r['t_days'],Ones(df_r['t_days']))"
   ]
  },
  {
   "cell_type": "code",
   "execution_count": 48,
   "metadata": {},
   "outputs": [
    {
     "data": {
      "text/plain": [
       "<matplotlib.legend.Legend at 0x7f116bad1810>"
      ]
     },
     "execution_count": 48,
     "metadata": {},
     "output_type": "execute_result"
    },
    {
     "data": {
      "image/png": "[encoded data removed]",
      "text/plain": [
       "<Figure size 432x288 with 1 Axes>"
      ]
     },
     "metadata": {
      "needs_background": "light"
     },
     "output_type": "display_data"
    }
   ],
   "source": [
    "plt.plot(times(df['t']),df['t'])\n",
    "plt.plot(times(df['casos_activos']),df['casos_activos'], label='activos')\n",
    "plt.plot(times(data['casos_total']),data['casos_total'],label='casos')\n",
    "plt.plot(times(data['alta_total']),data['alta_total'],label='altas')\n",
    "plt.plot(times(data['muertes_total']),data['muertes_total'],label='muertes')\n",
    "plt.legend()"
   ]
  },
  {
   "cell_type": "markdown",
   "metadata": {},
   "source": [
    "### Regresión polinomial"
   ]
  },
  {
   "cell_type": "code",
   "execution_count": 49,
   "metadata": {},
   "outputs": [],
   "source": [
    "from sklearn.linear_model import LinearRegression\n",
    "from sklearn.preprocessing import PolynomialFeatures\n",
    "from sklearn.pipeline import make_pipeline"
   ]
  },
  {
   "cell_type": "code",
   "execution_count": 50,
   "metadata": {},
   "outputs": [],
   "source": [
    "df = pd.DataFrame()\n",
    "\n",
    "df['casos_nuevos+7']   = data['casos_nuevos'].shift(-7)\n",
    "df['casos_nuevos']   = data['casos_nuevos']\n",
    "df['casos_activos']  = data['casos_total']-data['alta_total']\n",
    "df['t_days']         = [ (pd.to_datetime(fecha) - pd.to_datetime(data['fecha'][0])).days for fecha in data['fecha'] ]\n",
    "df['tests_nuevos']   = data['tests_realizados_nuevos']\n",
    "df['tests_total']    = data['tests_realizados_total']\n",
    "df['muertes_nuevos'] = data['muertes_nuevos']\n",
    "\n",
    "df = df.dropna()\n",
    "df.drop(df.tail(7).index,inplace=True)"
   ]
  },
  {
   "cell_type": "code",
   "execution_count": 51,
   "metadata": {},
   "outputs": [
    {
     "data": {
      "text/plain": [
       "534"
      ]
     },
     "execution_count": 51,
     "metadata": {},
     "output_type": "execute_result"
    }
   ],
   "source": [
    "select = df.keys()\n",
    "select = select.drop('casos_nuevos+7')\n",
    "select = select.drop('casos_nuevos')\n",
    "select = select.drop('tests_nuevos')\n",
    "select = select.drop('tests_total')\n",
    "len(df[select].to_numpy().reshape(-1,1))"
   ]
  },
  {
   "cell_type": "code",
   "execution_count": 52,
   "metadata": {},
   "outputs": [
    {
     "data": {
      "text/html": [
       "<div>\n",
       "<style scoped>\n",
       "    .dataframe tbody tr th:only-of-type {\n",
       "        vertical-align: middle;\n",
       "    }\n",
       "\n",
       "    .dataframe tbody tr th {\n",
       "        vertical-align: top;\n",
       "    }\n",
       "\n",
       "    .dataframe thead th {\n",
       "        text-align: right;\n",
       "    }\n",
       "</style>\n",
       "<table border=\"1\" class=\"dataframe\">\n",
       "  <thead>\n",
       "    <tr style=\"text-align: right;\">\n",
       "      <th></th>\n",
       "      <th>casos_activos</th>\n",
       "      <th>t_days</th>\n",
       "      <th>muertes_nuevos</th>\n",
       "    </tr>\n",
       "  </thead>\n",
       "  <tbody>\n",
       "    <tr>\n",
       "      <th>33</th>\n",
       "      <td>1357.0</td>\n",
       "      <td>33</td>\n",
       "      <td>7</td>\n",
       "    </tr>\n",
       "    <tr>\n",
       "      <th>34</th>\n",
       "      <td>1430.0</td>\n",
       "      <td>34</td>\n",
       "      <td>5</td>\n",
       "    </tr>\n",
       "    <tr>\n",
       "      <th>35</th>\n",
       "      <td>1519.0</td>\n",
       "      <td>35</td>\n",
       "      <td>14</td>\n",
       "    </tr>\n",
       "    <tr>\n",
       "      <th>36</th>\n",
       "      <td>1535.0</td>\n",
       "      <td>36</td>\n",
       "      <td>3</td>\n",
       "    </tr>\n",
       "    <tr>\n",
       "      <th>37</th>\n",
       "      <td>1674.0</td>\n",
       "      <td>37</td>\n",
       "      <td>7</td>\n",
       "    </tr>\n",
       "    <tr>\n",
       "      <th>...</th>\n",
       "      <td>...</td>\n",
       "      <td>...</td>\n",
       "      <td>...</td>\n",
       "    </tr>\n",
       "    <tr>\n",
       "      <th>209</th>\n",
       "      <td>156356.0</td>\n",
       "      <td>209</td>\n",
       "      <td>419</td>\n",
       "    </tr>\n",
       "    <tr>\n",
       "      <th>210</th>\n",
       "      <td>161862.0</td>\n",
       "      <td>210</td>\n",
       "      <td>3352</td>\n",
       "    </tr>\n",
       "    <tr>\n",
       "      <th>211</th>\n",
       "      <td>165174.0</td>\n",
       "      <td>211</td>\n",
       "      <td>312</td>\n",
       "    </tr>\n",
       "    <tr>\n",
       "      <th>212</th>\n",
       "      <td>164704.0</td>\n",
       "      <td>212</td>\n",
       "      <td>197</td>\n",
       "    </tr>\n",
       "    <tr>\n",
       "      <th>213</th>\n",
       "      <td>161814.0</td>\n",
       "      <td>213</td>\n",
       "      <td>223</td>\n",
       "    </tr>\n",
       "  </tbody>\n",
       "</table>\n",
       "<p>178 rows × 3 columns</p>\n",
       "</div>"
      ],
      "text/plain": [
       "     casos_activos  t_days  muertes_nuevos\n",
       "33          1357.0      33               7\n",
       "34          1430.0      34               5\n",
       "35          1519.0      35              14\n",
       "36          1535.0      36               3\n",
       "37          1674.0      37               7\n",
       "..             ...     ...             ...\n",
       "209       156356.0     209             419\n",
       "210       161862.0     210            3352\n",
       "211       165174.0     211             312\n",
       "212       164704.0     212             197\n",
       "213       161814.0     213             223\n",
       "\n",
       "[178 rows x 3 columns]"
      ]
     },
     "execution_count": 52,
     "metadata": {},
     "output_type": "execute_result"
    }
   ],
   "source": [
    "df[select]"
   ]
  },
  {
   "cell_type": "code",
   "execution_count": 53,
   "metadata": {},
   "outputs": [
    {
     "data": {
      "text/plain": [
       "((124, 3), (54, 3), (124, 1), (54, 1))"
      ]
     },
     "execution_count": 53,
     "metadata": {},
     "output_type": "execute_result"
    }
   ],
   "source": [
    "y, X = df['casos_nuevos+7'].to_numpy().reshape(-1,1), df[select].to_numpy().reshape(-1,len(select))\n",
    "X_train, X_test, y_train, y_test = train_test_split(X, y, train_size=0.7, random_state=0)\n",
    "X_train.shape, X_test.shape, y_train.shape, y_test.shape"
   ]
  },
  {
   "cell_type": "code",
   "execution_count": 54,
   "metadata": {},
   "outputs": [
    {
     "name": "stdout",
     "output_type": "stream",
     "text": [
      "degree \t train err \t test err\n",
      "1 \t 1.08e+06 \t 3.70e+07\n",
      "2 \t 8.36e+05 \t 1.88e+09\n",
      "3 \t 5.14e+05 \t 1.11e+11\n",
      "4 \t 3.93e+05 \t 1.06e+15\n",
      "5 \t 3.90e+05 \t 1.48e+15\n",
      "6 \t 4.50e+05 \t 3.20e+15\n",
      "7 \t 6.09e+05 \t 1.71e+16\n",
      "8 \t 9.56e+05 \t 1.42e+17\n",
      "9 \t 1.25e+06 \t 5.05e+16\n"
     ]
    }
   ],
   "source": [
    "train_errors = []\n",
    "test_errors = []\n",
    "degrees = range(1,10)\n",
    "print( 'degree', '\\t', 'train err', '\\t', 'test err' )\n",
    "\n",
    "for degree in degrees:\n",
    "    # train:\n",
    "    model = make_pipeline(PolynomialFeatures(degree), LinearRegression())\n",
    "    model.fit(X_train, y_train)\n",
    "    \n",
    "    # predict:\n",
    "    y_train_pred = model.predict(X_train)\n",
    "    y_test_pred = model.predict(X_test)\n",
    "    \n",
    "    # evaluate:\n",
    "    train_error = mean_squared_error(y_train, y_train_pred)\n",
    "    test_error = mean_squared_error(y_test, y_test_pred)\n",
    "    train_errors.append(train_error)\n",
    "    test_errors.append(test_error)\n",
    "    \n",
    "    print( f'{degree} \\t {train_error:0.2e} \\t {test_error:0.2e}' )"
   ]
  },
  {
   "cell_type": "code",
   "execution_count": 55,
   "metadata": {},
   "outputs": [
    {
     "data": {
      "image/png": "[encoded data removed]",
      "text/plain": [
       "<Figure size 432x288 with 1 Axes>"
      ]
     },
     "metadata": {
      "needs_background": "light"
     },
     "output_type": "display_data"
    }
   ],
   "source": [
    "d = 9\n",
    "fig, ax = plt.subplots()\n",
    "plt.plot(degrees[:d], train_errors[:d], color=\"blue\", label=\"train\")\n",
    "plt.plot(degrees[:d], test_errors[:d], color=\"red\", label=\"test\")\n",
    "plt.legend()\n",
    "plt.yscale('log')\n",
    "ax.set_xlabel(\"degree\", fontsize=14)\n",
    "ax.set_ylabel(\"error\", fontsize=14)\n",
    "plt.tight_layout()\n",
    "plt.savefig('regresion_polinomial.png')\n",
    "plt.show()"
   ]
  },
  {
   "cell_type": "code",
   "execution_count": 56,
   "metadata": {},
   "outputs": [
    {
     "name": "stdout",
     "output_type": "stream",
     "text": [
      "degree \t train err \t test err\n",
      "3 \t 1.25e+06 \t 5.05e+16\n"
     ]
    }
   ],
   "source": [
    "degree = 3\n",
    "model = make_pipeline(PolynomialFeatures(degree), LinearRegression())\n",
    "model.fit(X_train, y_train)\n",
    "    \n",
    "# predict:\n",
    "y_train_pred = model.predict(X_train)\n",
    "y_test_pred = model.predict(X_test)\n",
    "\n",
    "print( 'degree', '\\t', 'train err', '\\t', 'test err' )\n",
    "print( f'{degree} \\t {train_error:0.2e} \\t {test_error:0.2e}' )"
   ]
  },
  {
   "cell_type": "code",
   "execution_count": 57,
   "metadata": {},
   "outputs": [
    {
     "ename": "AttributeError",
     "evalue": "'Pipeline' object has no attribute 'get_feature_names'",
     "output_type": "error",
     "traceback": [
      "\u001b[0;31m---------------------------------------------------------------------------\u001b[0m",
      "\u001b[0;31mAttributeError\u001b[0m                            Traceback (most recent call last)",
      "\u001b[0;32m<ipython-input-57-fd8531f16ea8>\u001b[0m in \u001b[0;36m<module>\u001b[0;34m\u001b[0m\n\u001b[0;32m----> 1\u001b[0;31m \u001b[0mmodel\u001b[0m\u001b[0;34m.\u001b[0m\u001b[0mget_feature_names\u001b[0m\u001b[0;34m(\u001b[0m\u001b[0;34m)\u001b[0m\u001b[0;34m\u001b[0m\u001b[0;34m\u001b[0m\u001b[0m\n\u001b[0m",
      "\u001b[0;31mAttributeError\u001b[0m: 'Pipeline' object has no attribute 'get_feature_names'"
     ]
    }
   ],
   "source": [
    "model.get_feature_names()"
   ]
  },
  {
   "cell_type": "markdown",
   "metadata": {},
   "source": [
    "### Experimentación con el dataset: Covid19Casos"
   ]
  },
  {
   "cell_type": "markdown",
   "metadata": {},
   "source": [
    "##### Dataset - Covid19Casos\n",
    "- Source: http://datos.salud.gob.ar/dataset/covid-19-casos-registrados-en-la-republica-argentina/archivo/fd657d02-a33a-498b-a91b-2ef1a68b8d16"
   ]
  },
  {
   "cell_type": "code",
   "execution_count": 91,
   "metadata": {},
   "outputs": [],
   "source": [
    "#url = 'https://sisa.msal.gov.ar/datos/descargas/covid-19/files/Covid19Casos.csv'\n",
    "\n",
    "#df = pd.read_csv(url, error_bad_lines=False)\n",
    "#df = pd.read_csv(url)"
   ]
  },
  {
   "cell_type": "code",
   "execution_count": 92,
   "metadata": {},
   "outputs": [
    {
     "data": {
      "text/html": [
       "<div>\n",
       "<style scoped>\n",
       "    .dataframe tbody tr th:only-of-type {\n",
       "        vertical-align: middle;\n",
       "    }\n",
       "\n",
       "    .dataframe tbody tr th {\n",
       "        vertical-align: top;\n",
       "    }\n",
       "\n",
       "    .dataframe thead th {\n",
       "        text-align: right;\n",
       "    }\n",
       "</style>\n",
       "<table border=\"1\" class=\"dataframe\">\n",
       "  <thead>\n",
       "    <tr style=\"text-align: right;\">\n",
       "      <th></th>\n",
       "      <th>Unnamed: 0</th>\n",
       "      <th>fecha</th>\n",
       "      <th>fecha_dias</th>\n",
       "      <th>casos_nuevos</th>\n",
       "      <th>casos_nuevos_mujeres</th>\n",
       "      <th>casos_nuevos_hombres</th>\n",
       "      <th>casos_totales</th>\n",
       "      <th>casos_totales_mujeres</th>\n",
       "      <th>casos_totales_hombres</th>\n",
       "      <th>muertes_nuevos</th>\n",
       "      <th>muertes_nuevos_mujeres</th>\n",
       "      <th>muertes_nuevos_hombres</th>\n",
       "      <th>muertes_totales</th>\n",
       "      <th>muertes_totales_mujeres</th>\n",
       "      <th>muertes_totales_hombres</th>\n",
       "    </tr>\n",
       "  </thead>\n",
       "  <tbody>\n",
       "    <tr>\n",
       "      <th>0</th>\n",
       "      <td>0</td>\n",
       "      <td>2020-03-02</td>\n",
       "      <td>0.0</td>\n",
       "      <td>1</td>\n",
       "      <td>0</td>\n",
       "      <td>1</td>\n",
       "      <td>1</td>\n",
       "      <td>0</td>\n",
       "      <td>1</td>\n",
       "      <td>0</td>\n",
       "      <td>0</td>\n",
       "      <td>0</td>\n",
       "      <td>0</td>\n",
       "      <td>0</td>\n",
       "      <td>0</td>\n",
       "    </tr>\n",
       "    <tr>\n",
       "      <th>1</th>\n",
       "      <td>1</td>\n",
       "      <td>2020-03-03</td>\n",
       "      <td>1.0</td>\n",
       "      <td>2</td>\n",
       "      <td>0</td>\n",
       "      <td>2</td>\n",
       "      <td>3</td>\n",
       "      <td>0</td>\n",
       "      <td>3</td>\n",
       "      <td>0</td>\n",
       "      <td>0</td>\n",
       "      <td>0</td>\n",
       "      <td>0</td>\n",
       "      <td>0</td>\n",
       "      <td>0</td>\n",
       "    </tr>\n",
       "    <tr>\n",
       "      <th>2</th>\n",
       "      <td>2</td>\n",
       "      <td>2020-03-04</td>\n",
       "      <td>2.0</td>\n",
       "      <td>1</td>\n",
       "      <td>1</td>\n",
       "      <td>0</td>\n",
       "      <td>4</td>\n",
       "      <td>1</td>\n",
       "      <td>3</td>\n",
       "      <td>0</td>\n",
       "      <td>0</td>\n",
       "      <td>0</td>\n",
       "      <td>0</td>\n",
       "      <td>0</td>\n",
       "      <td>0</td>\n",
       "    </tr>\n",
       "    <tr>\n",
       "      <th>3</th>\n",
       "      <td>3</td>\n",
       "      <td>2020-03-05</td>\n",
       "      <td>3.0</td>\n",
       "      <td>5</td>\n",
       "      <td>1</td>\n",
       "      <td>4</td>\n",
       "      <td>9</td>\n",
       "      <td>2</td>\n",
       "      <td>7</td>\n",
       "      <td>0</td>\n",
       "      <td>0</td>\n",
       "      <td>0</td>\n",
       "      <td>0</td>\n",
       "      <td>0</td>\n",
       "      <td>0</td>\n",
       "    </tr>\n",
       "    <tr>\n",
       "      <th>4</th>\n",
       "      <td>4</td>\n",
       "      <td>2020-03-06</td>\n",
       "      <td>4.0</td>\n",
       "      <td>1</td>\n",
       "      <td>0</td>\n",
       "      <td>1</td>\n",
       "      <td>10</td>\n",
       "      <td>2</td>\n",
       "      <td>8</td>\n",
       "      <td>0</td>\n",
       "      <td>0</td>\n",
       "      <td>0</td>\n",
       "      <td>0</td>\n",
       "      <td>0</td>\n",
       "      <td>0</td>\n",
       "    </tr>\n",
       "    <tr>\n",
       "      <th>...</th>\n",
       "      <td>...</td>\n",
       "      <td>...</td>\n",
       "      <td>...</td>\n",
       "      <td>...</td>\n",
       "      <td>...</td>\n",
       "      <td>...</td>\n",
       "      <td>...</td>\n",
       "      <td>...</td>\n",
       "      <td>...</td>\n",
       "      <td>...</td>\n",
       "      <td>...</td>\n",
       "      <td>...</td>\n",
       "      <td>...</td>\n",
       "      <td>...</td>\n",
       "      <td>...</td>\n",
       "    </tr>\n",
       "    <tr>\n",
       "      <th>281</th>\n",
       "      <td>281</td>\n",
       "      <td>2020-12-08</td>\n",
       "      <td>281.0</td>\n",
       "      <td>2982</td>\n",
       "      <td>1519</td>\n",
       "      <td>1458</td>\n",
       "      <td>1475114</td>\n",
       "      <td>733467</td>\n",
       "      <td>738016</td>\n",
       "      <td>73</td>\n",
       "      <td>3</td>\n",
       "      <td>1</td>\n",
       "      <td>40524</td>\n",
       "      <td>1072</td>\n",
       "      <td>1250</td>\n",
       "    </tr>\n",
       "    <tr>\n",
       "      <th>282</th>\n",
       "      <td>282</td>\n",
       "      <td>2020-12-09</td>\n",
       "      <td>282.0</td>\n",
       "      <td>6369</td>\n",
       "      <td>3228</td>\n",
       "      <td>3126</td>\n",
       "      <td>1481483</td>\n",
       "      <td>736695</td>\n",
       "      <td>741142</td>\n",
       "      <td>51</td>\n",
       "      <td>2</td>\n",
       "      <td>3</td>\n",
       "      <td>40575</td>\n",
       "      <td>1074</td>\n",
       "      <td>1253</td>\n",
       "    </tr>\n",
       "    <tr>\n",
       "      <th>283</th>\n",
       "      <td>283</td>\n",
       "      <td>2020-12-10</td>\n",
       "      <td>283.0</td>\n",
       "      <td>6334</td>\n",
       "      <td>3167</td>\n",
       "      <td>3157</td>\n",
       "      <td>1487817</td>\n",
       "      <td>739862</td>\n",
       "      <td>744299</td>\n",
       "      <td>58</td>\n",
       "      <td>1</td>\n",
       "      <td>3</td>\n",
       "      <td>40633</td>\n",
       "      <td>1075</td>\n",
       "      <td>1256</td>\n",
       "    </tr>\n",
       "    <tr>\n",
       "      <th>284</th>\n",
       "      <td>284</td>\n",
       "      <td>2020-12-11</td>\n",
       "      <td>284.0</td>\n",
       "      <td>5419</td>\n",
       "      <td>2771</td>\n",
       "      <td>2626</td>\n",
       "      <td>1493236</td>\n",
       "      <td>742633</td>\n",
       "      <td>746925</td>\n",
       "      <td>26</td>\n",
       "      <td>0</td>\n",
       "      <td>0</td>\n",
       "      <td>40659</td>\n",
       "      <td>1075</td>\n",
       "      <td>1256</td>\n",
       "    </tr>\n",
       "    <tr>\n",
       "      <th>285</th>\n",
       "      <td>285</td>\n",
       "      <td>2020-12-12</td>\n",
       "      <td>285.0</td>\n",
       "      <td>1362</td>\n",
       "      <td>681</td>\n",
       "      <td>677</td>\n",
       "      <td>1494598</td>\n",
       "      <td>743314</td>\n",
       "      <td>747602</td>\n",
       "      <td>9</td>\n",
       "      <td>0</td>\n",
       "      <td>1</td>\n",
       "      <td>40668</td>\n",
       "      <td>1075</td>\n",
       "      <td>1257</td>\n",
       "    </tr>\n",
       "  </tbody>\n",
       "</table>\n",
       "<p>286 rows × 15 columns</p>\n",
       "</div>"
      ],
      "text/plain": [
       "     Unnamed: 0       fecha  fecha_dias  casos_nuevos  casos_nuevos_mujeres  \\\n",
       "0             0  2020-03-02         0.0             1                     0   \n",
       "1             1  2020-03-03         1.0             2                     0   \n",
       "2             2  2020-03-04         2.0             1                     1   \n",
       "3             3  2020-03-05         3.0             5                     1   \n",
       "4             4  2020-03-06         4.0             1                     0   \n",
       "..          ...         ...         ...           ...                   ...   \n",
       "281         281  2020-12-08       281.0          2982                  1519   \n",
       "282         282  2020-12-09       282.0          6369                  3228   \n",
       "283         283  2020-12-10       283.0          6334                  3167   \n",
       "284         284  2020-12-11       284.0          5419                  2771   \n",
       "285         285  2020-12-12       285.0          1362                   681   \n",
       "\n",
       "     casos_nuevos_hombres  casos_totales  casos_totales_mujeres  \\\n",
       "0                       1              1                      0   \n",
       "1                       2              3                      0   \n",
       "2                       0              4                      1   \n",
       "3                       4              9                      2   \n",
       "4                       1             10                      2   \n",
       "..                    ...            ...                    ...   \n",
       "281                  1458        1475114                 733467   \n",
       "282                  3126        1481483                 736695   \n",
       "283                  3157        1487817                 739862   \n",
       "284                  2626        1493236                 742633   \n",
       "285                   677        1494598                 743314   \n",
       "\n",
       "     casos_totales_hombres  muertes_nuevos  muertes_nuevos_mujeres  \\\n",
       "0                        1               0                       0   \n",
       "1                        3               0                       0   \n",
       "2                        3               0                       0   \n",
       "3                        7               0                       0   \n",
       "4                        8               0                       0   \n",
       "..                     ...             ...                     ...   \n",
       "281                 738016              73                       3   \n",
       "282                 741142              51                       2   \n",
       "283                 744299              58                       1   \n",
       "284                 746925              26                       0   \n",
       "285                 747602               9                       0   \n",
       "\n",
       "     muertes_nuevos_hombres  muertes_totales  muertes_totales_mujeres  \\\n",
       "0                         0                0                        0   \n",
       "1                         0                0                        0   \n",
       "2                         0                0                        0   \n",
       "3                         0                0                        0   \n",
       "4                         0                0                        0   \n",
       "..                      ...              ...                      ...   \n",
       "281                       1            40524                     1072   \n",
       "282                       3            40575                     1074   \n",
       "283                       3            40633                     1075   \n",
       "284                       0            40659                     1075   \n",
       "285                       1            40668                     1075   \n",
       "\n",
       "     muertes_totales_hombres  \n",
       "0                          0  \n",
       "1                          0  \n",
       "2                          0  \n",
       "3                          0  \n",
       "4                          0  \n",
       "..                       ...  \n",
       "281                     1250  \n",
       "282                     1253  \n",
       "283                     1256  \n",
       "284                     1256  \n",
       "285                     1257  \n",
       "\n",
       "[286 rows x 15 columns]"
      ]
     },
     "execution_count": 92,
     "metadata": {},
     "output_type": "execute_result"
    }
   ],
   "source": [
    "database = pd.read_csv('../Practico 1/casos_nuevos_por_dia.csv')\n",
    "database"
   ]
  },
  {
   "cell_type": "code",
   "execution_count": 93,
   "metadata": {},
   "outputs": [
    {
     "data": {
      "text/html": [
       "<div>\n",
       "<style scoped>\n",
       "    .dataframe tbody tr th:only-of-type {\n",
       "        vertical-align: middle;\n",
       "    }\n",
       "\n",
       "    .dataframe tbody tr th {\n",
       "        vertical-align: top;\n",
       "    }\n",
       "\n",
       "    .dataframe thead th {\n",
       "        text-align: right;\n",
       "    }\n",
       "</style>\n",
       "<table border=\"1\" class=\"dataframe\">\n",
       "  <thead>\n",
       "    <tr style=\"text-align: right;\">\n",
       "      <th></th>\n",
       "      <th>t</th>\n",
       "      <th>t+1</th>\n",
       "      <th>casos_totales</th>\n",
       "      <th>casos_totales+1</th>\n",
       "    </tr>\n",
       "  </thead>\n",
       "  <tbody>\n",
       "    <tr>\n",
       "      <th>0</th>\n",
       "      <td>1</td>\n",
       "      <td>2.0</td>\n",
       "      <td>1</td>\n",
       "      <td>3.0</td>\n",
       "    </tr>\n",
       "    <tr>\n",
       "      <th>1</th>\n",
       "      <td>2</td>\n",
       "      <td>1.0</td>\n",
       "      <td>3</td>\n",
       "      <td>4.0</td>\n",
       "    </tr>\n",
       "    <tr>\n",
       "      <th>2</th>\n",
       "      <td>1</td>\n",
       "      <td>5.0</td>\n",
       "      <td>4</td>\n",
       "      <td>9.0</td>\n",
       "    </tr>\n",
       "    <tr>\n",
       "      <th>3</th>\n",
       "      <td>5</td>\n",
       "      <td>1.0</td>\n",
       "      <td>9</td>\n",
       "      <td>10.0</td>\n",
       "    </tr>\n",
       "    <tr>\n",
       "      <th>4</th>\n",
       "      <td>1</td>\n",
       "      <td>6.0</td>\n",
       "      <td>10</td>\n",
       "      <td>16.0</td>\n",
       "    </tr>\n",
       "    <tr>\n",
       "      <th>...</th>\n",
       "      <td>...</td>\n",
       "      <td>...</td>\n",
       "      <td>...</td>\n",
       "      <td>...</td>\n",
       "    </tr>\n",
       "    <tr>\n",
       "      <th>281</th>\n",
       "      <td>2982</td>\n",
       "      <td>6369.0</td>\n",
       "      <td>1475114</td>\n",
       "      <td>1481483.0</td>\n",
       "    </tr>\n",
       "    <tr>\n",
       "      <th>282</th>\n",
       "      <td>6369</td>\n",
       "      <td>6334.0</td>\n",
       "      <td>1481483</td>\n",
       "      <td>1487817.0</td>\n",
       "    </tr>\n",
       "    <tr>\n",
       "      <th>283</th>\n",
       "      <td>6334</td>\n",
       "      <td>5419.0</td>\n",
       "      <td>1487817</td>\n",
       "      <td>1493236.0</td>\n",
       "    </tr>\n",
       "    <tr>\n",
       "      <th>284</th>\n",
       "      <td>5419</td>\n",
       "      <td>1362.0</td>\n",
       "      <td>1493236</td>\n",
       "      <td>1494598.0</td>\n",
       "    </tr>\n",
       "    <tr>\n",
       "      <th>285</th>\n",
       "      <td>1362</td>\n",
       "      <td>NaN</td>\n",
       "      <td>1494598</td>\n",
       "      <td>NaN</td>\n",
       "    </tr>\n",
       "  </tbody>\n",
       "</table>\n",
       "<p>286 rows × 4 columns</p>\n",
       "</div>"
      ],
      "text/plain": [
       "        t     t+1  casos_totales  casos_totales+1\n",
       "0       1     2.0              1              3.0\n",
       "1       2     1.0              3              4.0\n",
       "2       1     5.0              4              9.0\n",
       "3       5     1.0              9             10.0\n",
       "4       1     6.0             10             16.0\n",
       "..    ...     ...            ...              ...\n",
       "281  2982  6369.0        1475114        1481483.0\n",
       "282  6369  6334.0        1481483        1487817.0\n",
       "283  6334  5419.0        1487817        1493236.0\n",
       "284  5419  1362.0        1493236        1494598.0\n",
       "285  1362     NaN        1494598              NaN\n",
       "\n",
       "[286 rows x 4 columns]"
      ]
     },
     "execution_count": 93,
     "metadata": {},
     "output_type": "execute_result"
    }
   ],
   "source": [
    "df1 = pd.DataFrame()\n",
    "\n",
    "df1['t']   = database['casos_nuevos']\n",
    "df1['t+1'] =  df1['t'].shift(-1)\n",
    "df1['casos_totales']   = database['casos_totales']\n",
    "df1['casos_totales+1'] = database['casos_totales'].shift(-1)\n",
    "\n",
    "df1"
   ]
  },
  {
   "cell_type": "code",
   "execution_count": 94,
   "metadata": {},
   "outputs": [
    {
     "data": {
      "text/html": [
       "<div>\n",
       "<style scoped>\n",
       "    .dataframe tbody tr th:only-of-type {\n",
       "        vertical-align: middle;\n",
       "    }\n",
       "\n",
       "    .dataframe tbody tr th {\n",
       "        vertical-align: top;\n",
       "    }\n",
       "\n",
       "    .dataframe thead th {\n",
       "        text-align: right;\n",
       "    }\n",
       "</style>\n",
       "<table border=\"1\" class=\"dataframe\">\n",
       "  <thead>\n",
       "    <tr style=\"text-align: right;\">\n",
       "      <th></th>\n",
       "      <th>t</th>\n",
       "      <th>t+1</th>\n",
       "      <th>casos_totales</th>\n",
       "      <th>casos_totales+1</th>\n",
       "    </tr>\n",
       "  </thead>\n",
       "  <tbody>\n",
       "    <tr>\n",
       "      <th>0</th>\n",
       "      <td>1</td>\n",
       "      <td>2.0</td>\n",
       "      <td>1</td>\n",
       "      <td>3.0</td>\n",
       "    </tr>\n",
       "    <tr>\n",
       "      <th>1</th>\n",
       "      <td>2</td>\n",
       "      <td>1.0</td>\n",
       "      <td>3</td>\n",
       "      <td>4.0</td>\n",
       "    </tr>\n",
       "    <tr>\n",
       "      <th>2</th>\n",
       "      <td>1</td>\n",
       "      <td>5.0</td>\n",
       "      <td>4</td>\n",
       "      <td>9.0</td>\n",
       "    </tr>\n",
       "    <tr>\n",
       "      <th>3</th>\n",
       "      <td>5</td>\n",
       "      <td>1.0</td>\n",
       "      <td>9</td>\n",
       "      <td>10.0</td>\n",
       "    </tr>\n",
       "    <tr>\n",
       "      <th>4</th>\n",
       "      <td>1</td>\n",
       "      <td>6.0</td>\n",
       "      <td>10</td>\n",
       "      <td>16.0</td>\n",
       "    </tr>\n",
       "    <tr>\n",
       "      <th>...</th>\n",
       "      <td>...</td>\n",
       "      <td>...</td>\n",
       "      <td>...</td>\n",
       "      <td>...</td>\n",
       "    </tr>\n",
       "    <tr>\n",
       "      <th>280</th>\n",
       "      <td>3289</td>\n",
       "      <td>2982.0</td>\n",
       "      <td>1472132</td>\n",
       "      <td>1475114.0</td>\n",
       "    </tr>\n",
       "    <tr>\n",
       "      <th>281</th>\n",
       "      <td>2982</td>\n",
       "      <td>6369.0</td>\n",
       "      <td>1475114</td>\n",
       "      <td>1481483.0</td>\n",
       "    </tr>\n",
       "    <tr>\n",
       "      <th>282</th>\n",
       "      <td>6369</td>\n",
       "      <td>6334.0</td>\n",
       "      <td>1481483</td>\n",
       "      <td>1487817.0</td>\n",
       "    </tr>\n",
       "    <tr>\n",
       "      <th>283</th>\n",
       "      <td>6334</td>\n",
       "      <td>5419.0</td>\n",
       "      <td>1487817</td>\n",
       "      <td>1493236.0</td>\n",
       "    </tr>\n",
       "    <tr>\n",
       "      <th>284</th>\n",
       "      <td>5419</td>\n",
       "      <td>1362.0</td>\n",
       "      <td>1493236</td>\n",
       "      <td>1494598.0</td>\n",
       "    </tr>\n",
       "  </tbody>\n",
       "</table>\n",
       "<p>285 rows × 4 columns</p>\n",
       "</div>"
      ],
      "text/plain": [
       "        t     t+1  casos_totales  casos_totales+1\n",
       "0       1     2.0              1              3.0\n",
       "1       2     1.0              3              4.0\n",
       "2       1     5.0              4              9.0\n",
       "3       5     1.0              9             10.0\n",
       "4       1     6.0             10             16.0\n",
       "..    ...     ...            ...              ...\n",
       "280  3289  2982.0        1472132        1475114.0\n",
       "281  2982  6369.0        1475114        1481483.0\n",
       "282  6369  6334.0        1481483        1487817.0\n",
       "283  6334  5419.0        1487817        1493236.0\n",
       "284  5419  1362.0        1493236        1494598.0\n",
       "\n",
       "[285 rows x 4 columns]"
      ]
     },
     "execution_count": 94,
     "metadata": {},
     "output_type": "execute_result"
    }
   ],
   "source": [
    "df1.drop(df1.tail(1).index,inplace=True)\n",
    "df1.dropna()"
   ]
  },
  {
   "cell_type": "code",
   "execution_count": 95,
   "metadata": {},
   "outputs": [
    {
     "data": {
      "text/plain": [
       "((228, 1), (57, 1))"
      ]
     },
     "execution_count": 95,
     "metadata": {},
     "output_type": "execute_result"
    }
   ],
   "source": [
    "X, y = df1['t'].to_numpy().reshape(-1,1), df1['t+1'].to_numpy().reshape(-1,1)\n",
    "X_train, X_test, y_train, y_test = train_test_split(X, y, train_size=0.8, random_state=0)\n",
    "X_train.shape, X_test.shape"
   ]
  },
  {
   "cell_type": "code",
   "execution_count": 96,
   "metadata": {},
   "outputs": [
    {
     "data": {
      "image/png": "[encoded data removed]",
      "text/plain": [
       "<Figure size 432x288 with 1 Axes>"
      ]
     },
     "metadata": {
      "needs_background": "light"
     },
     "output_type": "display_data"
    }
   ],
   "source": [
    "plt.scatter(X_train, y_train, color=\"blue\", label=\"train\")\n",
    "plt.scatter(X_test, y_test, color=\"white\", edgecolor=\"k\", label=\"test\")\n",
    "plt.legend()\n",
    "plt.show()"
   ]
  },
  {
   "cell_type": "code",
   "execution_count": null,
   "metadata": {},
   "outputs": [],
   "source": []
  },
  {
   "cell_type": "code",
   "execution_count": 97,
   "metadata": {
    "colab": {},
    "colab_type": "code",
    "id": "ApptLyw2FLws"
   },
   "outputs": [],
   "source": [
    "# Create linear regression object\n",
    "regr = linear_model.LinearRegression()"
   ]
  },
  {
   "cell_type": "code",
   "execution_count": 98,
   "metadata": {
    "colab": {},
    "colab_type": "code",
    "id": "iuIbxbK7FLyt"
   },
   "outputs": [],
   "source": [
    "# Train the model using the training sets\n",
    "regr.fit(X_train, y_train)\n",
    "\n",
    "# Make predictions using the testing set\n",
    "y_test_pred = regr.predict(X_test)\n",
    "\n",
    "# and training set\n",
    "y_train_pred = regr.predict(X_train)"
   ]
  },
  {
   "cell_type": "code",
   "execution_count": 99,
   "metadata": {
    "colab": {
     "base_uri": "https://localhost:8080/",
     "height": 160
    },
    "colab_type": "code",
    "executionInfo": {
     "elapsed": 3493,
     "status": "ok",
     "timestamp": 1596131639476,
     "user": {
      "displayName": "Maria Lucia Pappaterra",
      "photoUrl": "",
      "userId": "02022975574182658400"
     },
     "user_tz": 180
    },
    "id": "CkrKcGfsFL1j",
    "outputId": "c79e839a-df32-4ea1-dc5b-86c3b7b517ad"
   },
   "outputs": [
    {
     "name": "stdout",
     "output_type": "stream",
     "text": [
      "Coefficients: \n",
      " [[0.92972894]]\n",
      "Mean squared error\n",
      "Train error: 3686790.94\n",
      "Test error: 2870772.57\n",
      "Coefficient of determination\n",
      "Train: 0.85\n",
      "Test: 0.88\n"
     ]
    }
   ],
   "source": [
    "# The coefficients\n",
    "print('Coefficients: \\n', regr.coef_)\n",
    "\n",
    "# The mean squared error\n",
    "train_error = mean_squared_error(y_train, y_train_pred)\n",
    "test_error = mean_squared_error(y_test, y_test_pred)\n",
    "\n",
    "print('Mean squared error')\n",
    "\n",
    "print('Train error: %.2f' % train_error)\n",
    "print('Test error: %.2f' % test_error)\n",
    "\n",
    "# The coefficient of determination: 1 is perfect prediction\n",
    "\n",
    "train_coeff = r2_score(y_train, y_train_pred)\n",
    "test_coeff = r2_score(y_test, y_test_pred)\n",
    "\n",
    "print('Coefficient of determination')\n",
    "\n",
    "print('Train: %.2f' % train_coeff)\n",
    "print('Test: %.2f' % test_coeff)"
   ]
  },
  {
   "cell_type": "code",
   "execution_count": 100,
   "metadata": {
    "colab": {
     "base_uri": "https://localhost:8080/",
     "height": 265
    },
    "colab_type": "code",
    "executionInfo": {
     "elapsed": 811,
     "status": "ok",
     "timestamp": 1596131665154,
     "user": {
      "displayName": "Maria Lucia Pappaterra",
      "photoUrl": "",
      "userId": "02022975574182658400"
     },
     "user_tz": 180
    },
    "id": "5uXF6qt0KoHG",
    "outputId": "ffae5280-0378-44db-c3d3-fdb087c85f8b"
   },
   "outputs": [
    {
     "data": {
      "image/png": "[encoded data removed]",
      "text/plain": [
       "<Figure size 432x288 with 1 Axes>"
      ]
     },
     "metadata": {
      "needs_background": "light"
     },
     "output_type": "display_data"
    }
   ],
   "source": [
    "# Plot outputs\n",
    "fig, ax = plt.subplots()\n",
    "ax.set_xlabel('Casos nuevos', fontsize=14)\n",
    "ax.set_ylabel('Casos nuevos del día posterior', fontsize=14)\n",
    "\n",
    "plt.scatter(X_test, y_test,  color='white', edgecolor='k', label='test')\n",
    "plt.scatter(X_train, y_train,  color='blue', label='train')\n",
    "plt.plot(X_train, y_train_pred, color='red', label='Regresion Lineal')\n",
    "plt.legend()\n",
    "plt.tight_layout()\n",
    "plt.savefig('regresion_lineal_2.png')\n",
    "plt.show()"
   ]
  },
  {
   "cell_type": "code",
   "execution_count": null,
   "metadata": {},
   "outputs": [],
   "source": []
  },
  {
   "cell_type": "code",
   "execution_count": null,
   "metadata": {},
   "outputs": [],
   "source": []
  },
  {
   "cell_type": "code",
   "execution_count": 68,
   "metadata": {},
   "outputs": [
    {
     "data": {
      "text/html": [
       "<div>\n",
       "<style scoped>\n",
       "    .dataframe tbody tr th:only-of-type {\n",
       "        vertical-align: middle;\n",
       "    }\n",
       "\n",
       "    .dataframe tbody tr th {\n",
       "        vertical-align: top;\n",
       "    }\n",
       "\n",
       "    .dataframe thead th {\n",
       "        text-align: right;\n",
       "    }\n",
       "</style>\n",
       "<table border=\"1\" class=\"dataframe\">\n",
       "  <thead>\n",
       "    <tr style=\"text-align: right;\">\n",
       "      <th></th>\n",
       "      <th>t</th>\n",
       "      <th>t+1</th>\n",
       "      <th>casos_totales</th>\n",
       "      <th>casos_totales+1</th>\n",
       "    </tr>\n",
       "  </thead>\n",
       "  <tbody>\n",
       "    <tr>\n",
       "      <th>0</th>\n",
       "      <td>1</td>\n",
       "      <td>4.0</td>\n",
       "      <td>1</td>\n",
       "      <td>22.0</td>\n",
       "    </tr>\n",
       "    <tr>\n",
       "      <th>1</th>\n",
       "      <td>2</td>\n",
       "      <td>8.0</td>\n",
       "      <td>3</td>\n",
       "      <td>30.0</td>\n",
       "    </tr>\n",
       "    <tr>\n",
       "      <th>2</th>\n",
       "      <td>1</td>\n",
       "      <td>11.0</td>\n",
       "      <td>4</td>\n",
       "      <td>41.0</td>\n",
       "    </tr>\n",
       "    <tr>\n",
       "      <th>3</th>\n",
       "      <td>5</td>\n",
       "      <td>19.0</td>\n",
       "      <td>9</td>\n",
       "      <td>60.0</td>\n",
       "    </tr>\n",
       "    <tr>\n",
       "      <th>4</th>\n",
       "      <td>1</td>\n",
       "      <td>32.0</td>\n",
       "      <td>10</td>\n",
       "      <td>92.0</td>\n",
       "    </tr>\n",
       "    <tr>\n",
       "      <th>...</th>\n",
       "      <td>...</td>\n",
       "      <td>...</td>\n",
       "      <td>...</td>\n",
       "      <td>...</td>\n",
       "    </tr>\n",
       "    <tr>\n",
       "      <th>281</th>\n",
       "      <td>2982</td>\n",
       "      <td>NaN</td>\n",
       "      <td>1475114</td>\n",
       "      <td>NaN</td>\n",
       "    </tr>\n",
       "    <tr>\n",
       "      <th>282</th>\n",
       "      <td>6369</td>\n",
       "      <td>NaN</td>\n",
       "      <td>1481483</td>\n",
       "      <td>NaN</td>\n",
       "    </tr>\n",
       "    <tr>\n",
       "      <th>283</th>\n",
       "      <td>6334</td>\n",
       "      <td>NaN</td>\n",
       "      <td>1487817</td>\n",
       "      <td>NaN</td>\n",
       "    </tr>\n",
       "    <tr>\n",
       "      <th>284</th>\n",
       "      <td>5419</td>\n",
       "      <td>NaN</td>\n",
       "      <td>1493236</td>\n",
       "      <td>NaN</td>\n",
       "    </tr>\n",
       "    <tr>\n",
       "      <th>285</th>\n",
       "      <td>1362</td>\n",
       "      <td>NaN</td>\n",
       "      <td>1494598</td>\n",
       "      <td>NaN</td>\n",
       "    </tr>\n",
       "  </tbody>\n",
       "</table>\n",
       "<p>286 rows × 4 columns</p>\n",
       "</div>"
      ],
      "text/plain": [
       "        t   t+1  casos_totales  casos_totales+1\n",
       "0       1   4.0              1             22.0\n",
       "1       2   8.0              3             30.0\n",
       "2       1  11.0              4             41.0\n",
       "3       5  19.0              9             60.0\n",
       "4       1  32.0             10             92.0\n",
       "..    ...   ...            ...              ...\n",
       "281  2982   NaN        1475114              NaN\n",
       "282  6369   NaN        1481483              NaN\n",
       "283  6334   NaN        1487817              NaN\n",
       "284  5419   NaN        1493236              NaN\n",
       "285  1362   NaN        1494598              NaN\n",
       "\n",
       "[286 rows x 4 columns]"
      ]
     },
     "execution_count": 68,
     "metadata": {},
     "output_type": "execute_result"
    }
   ],
   "source": [
    "df7 = pd.DataFrame()\n",
    "\n",
    "df7['t']   = database['casos_nuevos']\n",
    "df7['t+1'] =  df1['t'].shift(-7)\n",
    "df7['casos_totales']   = database['casos_totales']\n",
    "df7['casos_totales+1'] = database['casos_totales'].shift(-7)\n",
    "\n",
    "df7"
   ]
  },
  {
   "cell_type": "code",
   "execution_count": 69,
   "metadata": {},
   "outputs": [
    {
     "data": {
      "text/html": [
       "<div>\n",
       "<style scoped>\n",
       "    .dataframe tbody tr th:only-of-type {\n",
       "        vertical-align: middle;\n",
       "    }\n",
       "\n",
       "    .dataframe tbody tr th {\n",
       "        vertical-align: top;\n",
       "    }\n",
       "\n",
       "    .dataframe thead th {\n",
       "        text-align: right;\n",
       "    }\n",
       "</style>\n",
       "<table border=\"1\" class=\"dataframe\">\n",
       "  <thead>\n",
       "    <tr style=\"text-align: right;\">\n",
       "      <th></th>\n",
       "      <th>t</th>\n",
       "      <th>t+1</th>\n",
       "      <th>casos_totales</th>\n",
       "      <th>casos_totales+1</th>\n",
       "    </tr>\n",
       "  </thead>\n",
       "  <tbody>\n",
       "    <tr>\n",
       "      <th>0</th>\n",
       "      <td>1</td>\n",
       "      <td>4.0</td>\n",
       "      <td>1</td>\n",
       "      <td>22.0</td>\n",
       "    </tr>\n",
       "    <tr>\n",
       "      <th>1</th>\n",
       "      <td>2</td>\n",
       "      <td>8.0</td>\n",
       "      <td>3</td>\n",
       "      <td>30.0</td>\n",
       "    </tr>\n",
       "    <tr>\n",
       "      <th>2</th>\n",
       "      <td>1</td>\n",
       "      <td>11.0</td>\n",
       "      <td>4</td>\n",
       "      <td>41.0</td>\n",
       "    </tr>\n",
       "    <tr>\n",
       "      <th>3</th>\n",
       "      <td>5</td>\n",
       "      <td>19.0</td>\n",
       "      <td>9</td>\n",
       "      <td>60.0</td>\n",
       "    </tr>\n",
       "    <tr>\n",
       "      <th>4</th>\n",
       "      <td>1</td>\n",
       "      <td>32.0</td>\n",
       "      <td>10</td>\n",
       "      <td>92.0</td>\n",
       "    </tr>\n",
       "    <tr>\n",
       "      <th>...</th>\n",
       "      <td>...</td>\n",
       "      <td>...</td>\n",
       "      <td>...</td>\n",
       "      <td>...</td>\n",
       "    </tr>\n",
       "    <tr>\n",
       "      <th>273</th>\n",
       "      <td>7516</td>\n",
       "      <td>3289.0</td>\n",
       "      <td>1436550</td>\n",
       "      <td>1472132.0</td>\n",
       "    </tr>\n",
       "    <tr>\n",
       "      <th>274</th>\n",
       "      <td>7439</td>\n",
       "      <td>2982.0</td>\n",
       "      <td>1443989</td>\n",
       "      <td>1475114.0</td>\n",
       "    </tr>\n",
       "    <tr>\n",
       "      <th>275</th>\n",
       "      <td>6574</td>\n",
       "      <td>6369.0</td>\n",
       "      <td>1450563</td>\n",
       "      <td>1481483.0</td>\n",
       "    </tr>\n",
       "    <tr>\n",
       "      <th>276</th>\n",
       "      <td>6970</td>\n",
       "      <td>6334.0</td>\n",
       "      <td>1457533</td>\n",
       "      <td>1487817.0</td>\n",
       "    </tr>\n",
       "    <tr>\n",
       "      <th>277</th>\n",
       "      <td>5471</td>\n",
       "      <td>5419.0</td>\n",
       "      <td>1463004</td>\n",
       "      <td>1493236.0</td>\n",
       "    </tr>\n",
       "  </tbody>\n",
       "</table>\n",
       "<p>278 rows × 4 columns</p>\n",
       "</div>"
      ],
      "text/plain": [
       "        t     t+1  casos_totales  casos_totales+1\n",
       "0       1     4.0              1             22.0\n",
       "1       2     8.0              3             30.0\n",
       "2       1    11.0              4             41.0\n",
       "3       5    19.0              9             60.0\n",
       "4       1    32.0             10             92.0\n",
       "..    ...     ...            ...              ...\n",
       "273  7516  3289.0        1436550        1472132.0\n",
       "274  7439  2982.0        1443989        1475114.0\n",
       "275  6574  6369.0        1450563        1481483.0\n",
       "276  6970  6334.0        1457533        1487817.0\n",
       "277  5471  5419.0        1463004        1493236.0\n",
       "\n",
       "[278 rows x 4 columns]"
      ]
     },
     "execution_count": 69,
     "metadata": {},
     "output_type": "execute_result"
    }
   ],
   "source": [
    "df7 = df7.dropna()\n",
    "df7"
   ]
  },
  {
   "cell_type": "code",
   "execution_count": null,
   "metadata": {},
   "outputs": [],
   "source": []
  },
  {
   "cell_type": "code",
   "execution_count": 70,
   "metadata": {},
   "outputs": [
    {
     "data": {
      "text/plain": [
       "((222, 1), (56, 1))"
      ]
     },
     "execution_count": 70,
     "metadata": {},
     "output_type": "execute_result"
    }
   ],
   "source": [
    "X, y = df7['t'].to_numpy().reshape(-1,1), df7['t+1'].to_numpy().reshape(-1,1)\n",
    "X_train, X_test, y_train, y_test = train_test_split(X, y, train_size=0.8, random_state=0)\n",
    "X_train.shape, X_test.shape"
   ]
  },
  {
   "cell_type": "code",
   "execution_count": 71,
   "metadata": {
    "colab": {},
    "colab_type": "code",
    "id": "ApptLyw2FLws"
   },
   "outputs": [],
   "source": [
    "# Create linear regression object\n",
    "regr = linear_model.LinearRegression()"
   ]
  },
  {
   "cell_type": "code",
   "execution_count": 72,
   "metadata": {
    "colab": {},
    "colab_type": "code",
    "id": "iuIbxbK7FLyt"
   },
   "outputs": [],
   "source": [
    "# Train the model using the training sets\n",
    "regr.fit(X_train, y_train)\n",
    "\n",
    "# Make predictions using the testing set\n",
    "y_test_pred = regr.predict(X_test)\n",
    "\n",
    "# and training set\n",
    "y_train_pred = regr.predict(X_train)"
   ]
  },
  {
   "cell_type": "code",
   "execution_count": 73,
   "metadata": {
    "colab": {
     "base_uri": "https://localhost:8080/",
     "height": 160
    },
    "colab_type": "code",
    "executionInfo": {
     "elapsed": 3493,
     "status": "ok",
     "timestamp": 1596131639476,
     "user": {
      "displayName": "Maria Lucia Pappaterra",
      "photoUrl": "",
      "userId": "02022975574182658400"
     },
     "user_tz": 180
    },
    "id": "CkrKcGfsFL1j",
    "outputId": "c79e839a-df32-4ea1-dc5b-86c3b7b517ad"
   },
   "outputs": [
    {
     "name": "stdout",
     "output_type": "stream",
     "text": [
      "Coefficients: \n",
      " [[0.95991554]]\n",
      "Mean squared error\n",
      "Train error: 1738748.49\n",
      "Test error: 1193995.78\n",
      "Coefficient of determination\n",
      "Train: 0.93\n",
      "Test: 0.95\n"
     ]
    }
   ],
   "source": [
    "# The coefficients\n",
    "print('Coefficients: \\n', regr.coef_)\n",
    "\n",
    "# The mean squared error\n",
    "train_error = mean_squared_error(y_train, y_train_pred)\n",
    "test_error = mean_squared_error(y_test, y_test_pred)\n",
    "\n",
    "print('Mean squared error')\n",
    "\n",
    "print('Train error: %.2f' % train_error)\n",
    "print('Test error: %.2f' % test_error)\n",
    "\n",
    "# The coefficient of determination: 1 is perfect prediction\n",
    "\n",
    "train_coeff = r2_score(y_train, y_train_pred)\n",
    "test_coeff = r2_score(y_test, y_test_pred)\n",
    "\n",
    "print('Coefficient of determination')\n",
    "\n",
    "print('Train: %.2f' % train_coeff)\n",
    "print('Test: %.2f' % test_coeff)"
   ]
  },
  {
   "cell_type": "code",
   "execution_count": 74,
   "metadata": {
    "colab": {
     "base_uri": "https://localhost:8080/",
     "height": 265
    },
    "colab_type": "code",
    "executionInfo": {
     "elapsed": 811,
     "status": "ok",
     "timestamp": 1596131665154,
     "user": {
      "displayName": "Maria Lucia Pappaterra",
      "photoUrl": "",
      "userId": "02022975574182658400"
     },
     "user_tz": 180
    },
    "id": "5uXF6qt0KoHG",
    "outputId": "ffae5280-0378-44db-c3d3-fdb087c85f8b"
   },
   "outputs": [
    {
     "data": {
      "image/png": "[encoded data removed]",
      "text/plain": [
       "<Figure size 432x288 with 1 Axes>"
      ]
     },
     "metadata": {
      "needs_background": "light"
     },
     "output_type": "display_data"
    }
   ],
   "source": [
    "# Plot outputs\n",
    "fig, ax = plt.subplots()\n",
    "ax.set_xlabel('Casos activos', fontsize=14)\n",
    "ax.set_ylabel('Casos nuevos del día posterior', fontsize=14)\n",
    "\n",
    "plt.scatter(X_test, y_test,  color='white', edgecolor='k', label='test')\n",
    "plt.scatter(X_train, y_train,  color='blue', label='train')\n",
    "plt.plot(X_train, y_train_pred, color='red', label='Regresion Lineal')\n",
    "plt.legend()\n",
    "plt.tight_layout()\n",
    "plt.savefig('regresion_lineal_2.png')\n",
    "plt.show()"
   ]
  },
  {
   "cell_type": "code",
   "execution_count": null,
   "metadata": {},
   "outputs": [],
   "source": []
  },
  {
   "cell_type": "markdown",
   "metadata": {
    "colab_type": "text",
    "id": "PAIApzaUUzCA"
   },
   "source": [
    "### Clasificación"
   ]
  },
  {
   "cell_type": "code",
   "execution_count": 75,
   "metadata": {
    "colab": {},
    "colab_type": "code",
    "id": "8eBnTLQsU0-k"
   },
   "outputs": [],
   "source": [
    "url = 'https://raw.githubusercontent.com/lucia15/Datos-Covid19-Argentina/master/Argentina-covid19-fallecidos.csv'\n",
    "\n",
    "data = pd.read_csv(url, error_bad_lines=False)"
   ]
  },
  {
   "cell_type": "code",
   "execution_count": 76,
   "metadata": {
    "colab": {
     "base_uri": "https://localhost:8080/",
     "height": 424
    },
    "colab_type": "code",
    "executionInfo": {
     "elapsed": 710,
     "status": "ok",
     "timestamp": 1596131883986,
     "user": {
      "displayName": "Maria Lucia Pappaterra",
      "photoUrl": "",
      "userId": "02022975574182658400"
     },
     "user_tz": 180
    },
    "id": "b6fAo8GnVZXu",
    "outputId": "b4b0d492-dd37-4278-9a16-7522594a983c"
   },
   "outputs": [
    {
     "data": {
      "text/html": [
       "<div>\n",
       "<style scoped>\n",
       "    .dataframe tbody tr th:only-of-type {\n",
       "        vertical-align: middle;\n",
       "    }\n",
       "\n",
       "    .dataframe tbody tr th {\n",
       "        vertical-align: top;\n",
       "    }\n",
       "\n",
       "    .dataframe thead th {\n",
       "        text-align: right;\n",
       "    }\n",
       "</style>\n",
       "<table border=\"1\" class=\"dataframe\">\n",
       "  <thead>\n",
       "    <tr style=\"text-align: right;\">\n",
       "      <th></th>\n",
       "      <th>provincia</th>\n",
       "      <th>genero</th>\n",
       "      <th>edad</th>\n",
       "    </tr>\n",
       "  </thead>\n",
       "  <tbody>\n",
       "    <tr>\n",
       "      <th>0</th>\n",
       "      <td>CABA</td>\n",
       "      <td>hombre</td>\n",
       "      <td>64.0</td>\n",
       "    </tr>\n",
       "    <tr>\n",
       "      <th>1</th>\n",
       "      <td>Chaco</td>\n",
       "      <td>hombre</td>\n",
       "      <td>61.0</td>\n",
       "    </tr>\n",
       "    <tr>\n",
       "      <th>2</th>\n",
       "      <td>CABA</td>\n",
       "      <td>hombre</td>\n",
       "      <td>64.0</td>\n",
       "    </tr>\n",
       "    <tr>\n",
       "      <th>3</th>\n",
       "      <td>Buenos Aires</td>\n",
       "      <td>mujer</td>\n",
       "      <td>67.0</td>\n",
       "    </tr>\n",
       "    <tr>\n",
       "      <th>5</th>\n",
       "      <td>Chaco</td>\n",
       "      <td>hombre</td>\n",
       "      <td>53.0</td>\n",
       "    </tr>\n",
       "    <tr>\n",
       "      <th>...</th>\n",
       "      <td>...</td>\n",
       "      <td>...</td>\n",
       "      <td>...</td>\n",
       "    </tr>\n",
       "    <tr>\n",
       "      <th>2277</th>\n",
       "      <td>Río Negro</td>\n",
       "      <td>hombre</td>\n",
       "      <td>87.0</td>\n",
       "    </tr>\n",
       "    <tr>\n",
       "      <th>2278</th>\n",
       "      <td>Buenos Aires</td>\n",
       "      <td>mujer</td>\n",
       "      <td>74.0</td>\n",
       "    </tr>\n",
       "    <tr>\n",
       "      <th>2279</th>\n",
       "      <td>Buenos Aires</td>\n",
       "      <td>mujer</td>\n",
       "      <td>61.0</td>\n",
       "    </tr>\n",
       "    <tr>\n",
       "      <th>2280</th>\n",
       "      <td>Buenos Aires</td>\n",
       "      <td>mujer</td>\n",
       "      <td>64.0</td>\n",
       "    </tr>\n",
       "    <tr>\n",
       "      <th>2281</th>\n",
       "      <td>Buenos Aires</td>\n",
       "      <td>mujer</td>\n",
       "      <td>67.0</td>\n",
       "    </tr>\n",
       "  </tbody>\n",
       "</table>\n",
       "<p>2264 rows × 3 columns</p>\n",
       "</div>"
      ],
      "text/plain": [
       "         provincia  genero  edad\n",
       "0             CABA  hombre  64.0\n",
       "1            Chaco  hombre  61.0\n",
       "2             CABA  hombre  64.0\n",
       "3     Buenos Aires   mujer  67.0\n",
       "5            Chaco  hombre  53.0\n",
       "...            ...     ...   ...\n",
       "2277     Río Negro  hombre  87.0\n",
       "2278  Buenos Aires   mujer  74.0\n",
       "2279  Buenos Aires   mujer  61.0\n",
       "2280  Buenos Aires   mujer  64.0\n",
       "2281  Buenos Aires   mujer  67.0\n",
       "\n",
       "[2264 rows x 3 columns]"
      ]
     },
     "execution_count": 76,
     "metadata": {},
     "output_type": "execute_result"
    }
   ],
   "source": [
    "data = data.drop(columns=['fecha', 'num_caso', 'tipo_caso', 'comorbilidades', 'viajes', 'observaciones'])\n",
    "\n",
    "data = data.dropna()\n",
    "\n",
    "data"
   ]
  },
  {
   "cell_type": "code",
   "execution_count": 77,
   "metadata": {},
   "outputs": [],
   "source": [
    "criteria = [data['edad'].between(0, 30), data['edad'].between(31, 60), data['edad'].between(61, 80), data['edad'].between(81, 100)]\n",
    "values = ['0-30', '31-60', '61-80', '81-100']\n"
   ]
  },
  {
   "cell_type": "code",
   "execution_count": 78,
   "metadata": {},
   "outputs": [],
   "source": [
    "data['rango-edad'] = np.select(criteria, values, 0)"
   ]
  },
  {
   "cell_type": "code",
   "execution_count": 79,
   "metadata": {},
   "outputs": [],
   "source": [
    "data = data.drop(['edad'], axis=1)"
   ]
  },
  {
   "cell_type": "markdown",
   "metadata": {
    "colab_type": "text",
    "id": "MdXVmk1PniDK"
   },
   "source": [
    "### Tratamiento de género y rango-edad\n",
    "Como se trata de **variables categóricas**, en la cuál no hay una relación de orden entre las categorías, necesitamos aplicar un **One Hot Encoding**"
   ]
  },
  {
   "cell_type": "code",
   "execution_count": 80,
   "metadata": {},
   "outputs": [],
   "source": [
    "data = pd.concat([data, pd.get_dummies(data['genero'], prefix='genero')],axis=1).drop(['genero'], axis=1)"
   ]
  },
  {
   "cell_type": "code",
   "execution_count": 81,
   "metadata": {},
   "outputs": [],
   "source": [
    "data = pd.concat([data, pd.get_dummies(data['rango-edad'], prefix='rango-edad')],axis=1).drop(['rango-edad'], axis=1)"
   ]
  },
  {
   "cell_type": "code",
   "execution_count": 82,
   "metadata": {},
   "outputs": [
    {
     "data": {
      "text/html": [
       "<div>\n",
       "<style scoped>\n",
       "    .dataframe tbody tr th:only-of-type {\n",
       "        vertical-align: middle;\n",
       "    }\n",
       "\n",
       "    .dataframe tbody tr th {\n",
       "        vertical-align: top;\n",
       "    }\n",
       "\n",
       "    .dataframe thead th {\n",
       "        text-align: right;\n",
       "    }\n",
       "</style>\n",
       "<table border=\"1\" class=\"dataframe\">\n",
       "  <thead>\n",
       "    <tr style=\"text-align: right;\">\n",
       "      <th></th>\n",
       "      <th>provincia</th>\n",
       "      <th>genero_hombre</th>\n",
       "      <th>genero_mujer</th>\n",
       "      <th>genero_sin dato</th>\n",
       "      <th>rango-edad_0</th>\n",
       "      <th>rango-edad_0-30</th>\n",
       "      <th>rango-edad_31-60</th>\n",
       "      <th>rango-edad_61-80</th>\n",
       "      <th>rango-edad_81-100</th>\n",
       "    </tr>\n",
       "  </thead>\n",
       "  <tbody>\n",
       "    <tr>\n",
       "      <th>0</th>\n",
       "      <td>CABA</td>\n",
       "      <td>1</td>\n",
       "      <td>0</td>\n",
       "      <td>0</td>\n",
       "      <td>0</td>\n",
       "      <td>0</td>\n",
       "      <td>0</td>\n",
       "      <td>1</td>\n",
       "      <td>0</td>\n",
       "    </tr>\n",
       "    <tr>\n",
       "      <th>1</th>\n",
       "      <td>Chaco</td>\n",
       "      <td>1</td>\n",
       "      <td>0</td>\n",
       "      <td>0</td>\n",
       "      <td>0</td>\n",
       "      <td>0</td>\n",
       "      <td>0</td>\n",
       "      <td>1</td>\n",
       "      <td>0</td>\n",
       "    </tr>\n",
       "    <tr>\n",
       "      <th>2</th>\n",
       "      <td>CABA</td>\n",
       "      <td>1</td>\n",
       "      <td>0</td>\n",
       "      <td>0</td>\n",
       "      <td>0</td>\n",
       "      <td>0</td>\n",
       "      <td>0</td>\n",
       "      <td>1</td>\n",
       "      <td>0</td>\n",
       "    </tr>\n",
       "    <tr>\n",
       "      <th>3</th>\n",
       "      <td>Buenos Aires</td>\n",
       "      <td>0</td>\n",
       "      <td>1</td>\n",
       "      <td>0</td>\n",
       "      <td>0</td>\n",
       "      <td>0</td>\n",
       "      <td>0</td>\n",
       "      <td>1</td>\n",
       "      <td>0</td>\n",
       "    </tr>\n",
       "    <tr>\n",
       "      <th>5</th>\n",
       "      <td>Chaco</td>\n",
       "      <td>1</td>\n",
       "      <td>0</td>\n",
       "      <td>0</td>\n",
       "      <td>0</td>\n",
       "      <td>0</td>\n",
       "      <td>1</td>\n",
       "      <td>0</td>\n",
       "      <td>0</td>\n",
       "    </tr>\n",
       "    <tr>\n",
       "      <th>...</th>\n",
       "      <td>...</td>\n",
       "      <td>...</td>\n",
       "      <td>...</td>\n",
       "      <td>...</td>\n",
       "      <td>...</td>\n",
       "      <td>...</td>\n",
       "      <td>...</td>\n",
       "      <td>...</td>\n",
       "      <td>...</td>\n",
       "    </tr>\n",
       "    <tr>\n",
       "      <th>2277</th>\n",
       "      <td>Río Negro</td>\n",
       "      <td>1</td>\n",
       "      <td>0</td>\n",
       "      <td>0</td>\n",
       "      <td>0</td>\n",
       "      <td>0</td>\n",
       "      <td>0</td>\n",
       "      <td>0</td>\n",
       "      <td>1</td>\n",
       "    </tr>\n",
       "    <tr>\n",
       "      <th>2278</th>\n",
       "      <td>Buenos Aires</td>\n",
       "      <td>0</td>\n",
       "      <td>1</td>\n",
       "      <td>0</td>\n",
       "      <td>0</td>\n",
       "      <td>0</td>\n",
       "      <td>0</td>\n",
       "      <td>1</td>\n",
       "      <td>0</td>\n",
       "    </tr>\n",
       "    <tr>\n",
       "      <th>2279</th>\n",
       "      <td>Buenos Aires</td>\n",
       "      <td>0</td>\n",
       "      <td>1</td>\n",
       "      <td>0</td>\n",
       "      <td>0</td>\n",
       "      <td>0</td>\n",
       "      <td>0</td>\n",
       "      <td>1</td>\n",
       "      <td>0</td>\n",
       "    </tr>\n",
       "    <tr>\n",
       "      <th>2280</th>\n",
       "      <td>Buenos Aires</td>\n",
       "      <td>0</td>\n",
       "      <td>1</td>\n",
       "      <td>0</td>\n",
       "      <td>0</td>\n",
       "      <td>0</td>\n",
       "      <td>0</td>\n",
       "      <td>1</td>\n",
       "      <td>0</td>\n",
       "    </tr>\n",
       "    <tr>\n",
       "      <th>2281</th>\n",
       "      <td>Buenos Aires</td>\n",
       "      <td>0</td>\n",
       "      <td>1</td>\n",
       "      <td>0</td>\n",
       "      <td>0</td>\n",
       "      <td>0</td>\n",
       "      <td>0</td>\n",
       "      <td>1</td>\n",
       "      <td>0</td>\n",
       "    </tr>\n",
       "  </tbody>\n",
       "</table>\n",
       "<p>2264 rows × 9 columns</p>\n",
       "</div>"
      ],
      "text/plain": [
       "         provincia  genero_hombre  genero_mujer  genero_sin dato  \\\n",
       "0             CABA              1             0                0   \n",
       "1            Chaco              1             0                0   \n",
       "2             CABA              1             0                0   \n",
       "3     Buenos Aires              0             1                0   \n",
       "5            Chaco              1             0                0   \n",
       "...            ...            ...           ...              ...   \n",
       "2277     Río Negro              1             0                0   \n",
       "2278  Buenos Aires              0             1                0   \n",
       "2279  Buenos Aires              0             1                0   \n",
       "2280  Buenos Aires              0             1                0   \n",
       "2281  Buenos Aires              0             1                0   \n",
       "\n",
       "      rango-edad_0  rango-edad_0-30  rango-edad_31-60  rango-edad_61-80  \\\n",
       "0                0                0                 0                 1   \n",
       "1                0                0                 0                 1   \n",
       "2                0                0                 0                 1   \n",
       "3                0                0                 0                 1   \n",
       "5                0                0                 1                 0   \n",
       "...            ...              ...               ...               ...   \n",
       "2277             0                0                 0                 0   \n",
       "2278             0                0                 0                 1   \n",
       "2279             0                0                 0                 1   \n",
       "2280             0                0                 0                 1   \n",
       "2281             0                0                 0                 1   \n",
       "\n",
       "      rango-edad_81-100  \n",
       "0                     0  \n",
       "1                     0  \n",
       "2                     0  \n",
       "3                     0  \n",
       "5                     0  \n",
       "...                 ...  \n",
       "2277                  1  \n",
       "2278                  0  \n",
       "2279                  0  \n",
       "2280                  0  \n",
       "2281                  0  \n",
       "\n",
       "[2264 rows x 9 columns]"
      ]
     },
     "execution_count": 82,
     "metadata": {},
     "output_type": "execute_result"
    }
   ],
   "source": [
    "data"
   ]
  },
  {
   "cell_type": "markdown",
   "metadata": {
    "colab_type": "text",
    "id": "m2T-ZWtbET0X"
   },
   "source": [
    "### Selección de features y variable objetivo\n",
    "\n",
    "**variable objetivo: 'provincia'**"
   ]
  },
  {
   "cell_type": "code",
   "execution_count": 83,
   "metadata": {
    "colab": {},
    "colab_type": "code",
    "id": "zOpH6lBqqeY9"
   },
   "outputs": [],
   "source": [
    "feature_names = ['genero_hombre', 'genero_mujer']\n",
    "\n",
    "X = data[feature_names]\n",
    "y = data['provincia']"
   ]
  },
  {
   "cell_type": "code",
   "execution_count": 84,
   "metadata": {
    "colab": {
     "base_uri": "https://localhost:8080/",
     "height": 35
    },
    "colab_type": "code",
    "executionInfo": {
     "elapsed": 946,
     "status": "ok",
     "timestamp": 1596134506293,
     "user": {
      "displayName": "Maria Lucia Pappaterra",
      "photoUrl": "",
      "userId": "02022975574182658400"
     },
     "user_tz": 180
    },
    "id": "ON-pHu6qB5U0",
    "outputId": "91a3c72b-9c49-4d9e-e6fe-fd420807d7e6"
   },
   "outputs": [
    {
     "data": {
      "text/plain": [
       "((2264, 2), (2264,))"
      ]
     },
     "execution_count": 84,
     "metadata": {},
     "output_type": "execute_result"
    }
   ],
   "source": [
    "X.shape, y.shape"
   ]
  },
  {
   "cell_type": "markdown",
   "metadata": {
    "colab_type": "text",
    "id": "9t71G0zsEuxZ"
   },
   "source": [
    "### División en etrenamiento y evaluación"
   ]
  },
  {
   "cell_type": "code",
   "execution_count": 85,
   "metadata": {
    "colab": {},
    "colab_type": "code",
    "id": "tIF7GePIqemR"
   },
   "outputs": [],
   "source": [
    "X_train, X_test, y_train, y_test = train_test_split(X, y, random_state=0)"
   ]
  },
  {
   "cell_type": "code",
   "execution_count": 86,
   "metadata": {
    "colab": {
     "base_uri": "https://localhost:8080/",
     "height": 35
    },
    "colab_type": "code",
    "executionInfo": {
     "elapsed": 862,
     "status": "ok",
     "timestamp": 1596134534193,
     "user": {
      "displayName": "Maria Lucia Pappaterra",
      "photoUrl": "",
      "userId": "02022975574182658400"
     },
     "user_tz": 180
    },
    "id": "YBMtybu3BxCL",
    "outputId": "42e92fa8-b0b1-441f-8e8a-42b707bda500"
   },
   "outputs": [
    {
     "data": {
      "text/plain": [
       "((1698, 2), (566, 2), (1698,), (566,))"
      ]
     },
     "execution_count": 86,
     "metadata": {},
     "output_type": "execute_result"
    }
   ],
   "source": [
    "X_train.shape, X_test.shape, y_train.shape, y_test.shape"
   ]
  },
  {
   "cell_type": "markdown",
   "metadata": {
    "colab_type": "text",
    "id": "aylcVwD2lkQ9"
   },
   "source": [
    "### Logistic Regression"
   ]
  },
  {
   "cell_type": "code",
   "execution_count": 87,
   "metadata": {
    "colab": {
     "base_uri": "https://localhost:8080/",
     "height": 196
    },
    "colab_type": "code",
    "executionInfo": {
     "elapsed": 647,
     "status": "ok",
     "timestamp": 1596132257856,
     "user": {
      "displayName": "Maria Lucia Pappaterra",
      "photoUrl": "",
      "userId": "02022975574182658400"
     },
     "user_tz": 180
    },
    "id": "XaIaMCrrldIs",
    "outputId": "3b01bea4-7c7c-4792-9597-6f2efd6088a0",
    "tags": []
   },
   "outputs": [
    {
     "name": "stdout",
     "output_type": "stream",
     "text": [
      "Accuracy of Logistic regression classifier on training set: 0.49\n",
      "Accuracy of Logistic regression classifier on test set: 0.51\n"
     ]
    },
    {
     "name": "stderr",
     "output_type": "stream",
     "text": [
      "/home/matias/anaconda3/lib/python3.7/site-packages/sklearn/linear_model/_logistic.py:764: ConvergenceWarning: lbfgs failed to converge (status=1):\n",
      "STOP: TOTAL NO. of ITERATIONS REACHED LIMIT.\n",
      "\n",
      "Increase the number of iterations (max_iter) or scale the data as shown in:\n",
      "    https://scikit-learn.org/stable/modules/preprocessing.html\n",
      "Please also refer to the documentation for alternative solver options:\n",
      "    https://scikit-learn.org/stable/modules/linear_model.html#logistic-regression\n",
      "  extra_warning_msg=_LOGISTIC_SOLVER_CONVERGENCE_MSG)\n"
     ]
    }
   ],
   "source": [
    "from sklearn.linear_model import LogisticRegression\n",
    "\n",
    "logreg = LogisticRegression()\n",
    "\n",
    "logreg.fit(X_train, y_train)\n",
    "\n",
    "print('Accuracy of Logistic regression classifier on training set: {:.2f}'.format(logreg.score(X_train, y_train)))\n",
    "print('Accuracy of Logistic regression classifier on test set: {:.2f}'.format(logreg.score(X_test, y_test)))"
   ]
  },
  {
   "cell_type": "code",
   "execution_count": 88,
   "metadata": {
    "colab": {
     "base_uri": "https://localhost:8080/",
     "height": 178
    },
    "colab_type": "code",
    "executionInfo": {
     "elapsed": 663,
     "status": "ok",
     "timestamp": 1596138904161,
     "user": {
      "displayName": "Maria Lucia Pappaterra",
      "photoUrl": "",
      "userId": "02022975574182658400"
     },
     "user_tz": 180
    },
    "id": "9LgnlxKYSIkD",
    "outputId": "062eab14-2655-4f4e-a4b8-1d6923bff00e",
    "tags": []
   },
   "outputs": [
    {
     "name": "stdout",
     "output_type": "stream",
     "text": [
      "                  precision    recall  f1-score   support\n",
      "\n",
      "    Buenos Aires       0.51      1.00      0.67       288\n",
      "            CABA       0.00      0.00      0.00       208\n",
      "           Chaco       0.00      0.00      0.00        29\n",
      "         Córdoba       0.00      0.00      0.00        10\n",
      "        La Rioja       0.00      0.00      0.00         2\n",
      "         Mendoza       0.00      0.00      0.00         4\n",
      "        Misiones       0.00      0.00      0.00         1\n",
      "         Neuquén       0.00      0.00      0.00         6\n",
      "       Río Negro       0.00      0.00      0.00        12\n",
      "           Salta       0.00      0.00      0.00         1\n",
      "        Santa Fe       0.00      0.00      0.00         1\n",
      "Tierra del Fuego       0.00      0.00      0.00         1\n",
      "         Tucumán       0.00      0.00      0.00         3\n",
      "\n",
      "        accuracy                           0.51       566\n",
      "       macro avg       0.04      0.08      0.05       566\n",
      "    weighted avg       0.26      0.51      0.34       566\n",
      "\n"
     ]
    },
    {
     "name": "stderr",
     "output_type": "stream",
     "text": [
      "/home/matias/anaconda3/lib/python3.7/site-packages/sklearn/metrics/_classification.py:1221: UndefinedMetricWarning: Precision and F-score are ill-defined and being set to 0.0 in labels with no predicted samples. Use `zero_division` parameter to control this behavior.\n",
      "  _warn_prf(average, modifier, msg_start, len(result))\n"
     ]
    }
   ],
   "source": [
    "from sklearn.metrics import classification_report\n",
    "\n",
    "y_train_pred = logreg.predict(X_train)\n",
    "y_test_pred = logreg.predict(X_test)\n",
    "\n",
    "print(classification_report(y_test, y_test_pred))"
   ]
  },
  {
   "cell_type": "code",
   "execution_count": 89,
   "metadata": {},
   "outputs": [
    {
     "data": {
      "text/html": [
       "<div>\n",
       "<style scoped>\n",
       "    .dataframe tbody tr th:only-of-type {\n",
       "        vertical-align: middle;\n",
       "    }\n",
       "\n",
       "    .dataframe tbody tr th {\n",
       "        vertical-align: top;\n",
       "    }\n",
       "\n",
       "    .dataframe thead th {\n",
       "        text-align: right;\n",
       "    }\n",
       "</style>\n",
       "<table border=\"1\" class=\"dataframe\">\n",
       "  <thead>\n",
       "    <tr style=\"text-align: right;\">\n",
       "      <th></th>\n",
       "      <th>provincia</th>\n",
       "      <th>genero_hombre</th>\n",
       "      <th>genero_mujer</th>\n",
       "      <th>genero_sin dato</th>\n",
       "      <th>rango-edad_0</th>\n",
       "      <th>rango-edad_0-30</th>\n",
       "      <th>rango-edad_31-60</th>\n",
       "      <th>rango-edad_61-80</th>\n",
       "      <th>rango-edad_81-100</th>\n",
       "    </tr>\n",
       "  </thead>\n",
       "  <tbody>\n",
       "    <tr>\n",
       "      <th>0</th>\n",
       "      <td>CABA</td>\n",
       "      <td>1</td>\n",
       "      <td>0</td>\n",
       "      <td>0</td>\n",
       "      <td>0</td>\n",
       "      <td>0</td>\n",
       "      <td>0</td>\n",
       "      <td>1</td>\n",
       "      <td>0</td>\n",
       "    </tr>\n",
       "    <tr>\n",
       "      <th>1</th>\n",
       "      <td>Chaco</td>\n",
       "      <td>1</td>\n",
       "      <td>0</td>\n",
       "      <td>0</td>\n",
       "      <td>0</td>\n",
       "      <td>0</td>\n",
       "      <td>0</td>\n",
       "      <td>1</td>\n",
       "      <td>0</td>\n",
       "    </tr>\n",
       "    <tr>\n",
       "      <th>2</th>\n",
       "      <td>CABA</td>\n",
       "      <td>1</td>\n",
       "      <td>0</td>\n",
       "      <td>0</td>\n",
       "      <td>0</td>\n",
       "      <td>0</td>\n",
       "      <td>0</td>\n",
       "      <td>1</td>\n",
       "      <td>0</td>\n",
       "    </tr>\n",
       "    <tr>\n",
       "      <th>3</th>\n",
       "      <td>Buenos Aires</td>\n",
       "      <td>0</td>\n",
       "      <td>1</td>\n",
       "      <td>0</td>\n",
       "      <td>0</td>\n",
       "      <td>0</td>\n",
       "      <td>0</td>\n",
       "      <td>1</td>\n",
       "      <td>0</td>\n",
       "    </tr>\n",
       "    <tr>\n",
       "      <th>5</th>\n",
       "      <td>Chaco</td>\n",
       "      <td>1</td>\n",
       "      <td>0</td>\n",
       "      <td>0</td>\n",
       "      <td>0</td>\n",
       "      <td>0</td>\n",
       "      <td>1</td>\n",
       "      <td>0</td>\n",
       "      <td>0</td>\n",
       "    </tr>\n",
       "    <tr>\n",
       "      <th>...</th>\n",
       "      <td>...</td>\n",
       "      <td>...</td>\n",
       "      <td>...</td>\n",
       "      <td>...</td>\n",
       "      <td>...</td>\n",
       "      <td>...</td>\n",
       "      <td>...</td>\n",
       "      <td>...</td>\n",
       "      <td>...</td>\n",
       "    </tr>\n",
       "    <tr>\n",
       "      <th>2277</th>\n",
       "      <td>Río Negro</td>\n",
       "      <td>1</td>\n",
       "      <td>0</td>\n",
       "      <td>0</td>\n",
       "      <td>0</td>\n",
       "      <td>0</td>\n",
       "      <td>0</td>\n",
       "      <td>0</td>\n",
       "      <td>1</td>\n",
       "    </tr>\n",
       "    <tr>\n",
       "      <th>2278</th>\n",
       "      <td>Buenos Aires</td>\n",
       "      <td>0</td>\n",
       "      <td>1</td>\n",
       "      <td>0</td>\n",
       "      <td>0</td>\n",
       "      <td>0</td>\n",
       "      <td>0</td>\n",
       "      <td>1</td>\n",
       "      <td>0</td>\n",
       "    </tr>\n",
       "    <tr>\n",
       "      <th>2279</th>\n",
       "      <td>Buenos Aires</td>\n",
       "      <td>0</td>\n",
       "      <td>1</td>\n",
       "      <td>0</td>\n",
       "      <td>0</td>\n",
       "      <td>0</td>\n",
       "      <td>0</td>\n",
       "      <td>1</td>\n",
       "      <td>0</td>\n",
       "    </tr>\n",
       "    <tr>\n",
       "      <th>2280</th>\n",
       "      <td>Buenos Aires</td>\n",
       "      <td>0</td>\n",
       "      <td>1</td>\n",
       "      <td>0</td>\n",
       "      <td>0</td>\n",
       "      <td>0</td>\n",
       "      <td>0</td>\n",
       "      <td>1</td>\n",
       "      <td>0</td>\n",
       "    </tr>\n",
       "    <tr>\n",
       "      <th>2281</th>\n",
       "      <td>Buenos Aires</td>\n",
       "      <td>0</td>\n",
       "      <td>1</td>\n",
       "      <td>0</td>\n",
       "      <td>0</td>\n",
       "      <td>0</td>\n",
       "      <td>0</td>\n",
       "      <td>1</td>\n",
       "      <td>0</td>\n",
       "    </tr>\n",
       "  </tbody>\n",
       "</table>\n",
       "<p>2264 rows × 9 columns</p>\n",
       "</div>"
      ],
      "text/plain": [
       "         provincia  genero_hombre  genero_mujer  genero_sin dato  \\\n",
       "0             CABA              1             0                0   \n",
       "1            Chaco              1             0                0   \n",
       "2             CABA              1             0                0   \n",
       "3     Buenos Aires              0             1                0   \n",
       "5            Chaco              1             0                0   \n",
       "...            ...            ...           ...              ...   \n",
       "2277     Río Negro              1             0                0   \n",
       "2278  Buenos Aires              0             1                0   \n",
       "2279  Buenos Aires              0             1                0   \n",
       "2280  Buenos Aires              0             1                0   \n",
       "2281  Buenos Aires              0             1                0   \n",
       "\n",
       "      rango-edad_0  rango-edad_0-30  rango-edad_31-60  rango-edad_61-80  \\\n",
       "0                0                0                 0                 1   \n",
       "1                0                0                 0                 1   \n",
       "2                0                0                 0                 1   \n",
       "3                0                0                 0                 1   \n",
       "5                0                0                 1                 0   \n",
       "...            ...              ...               ...               ...   \n",
       "2277             0                0                 0                 0   \n",
       "2278             0                0                 0                 1   \n",
       "2279             0                0                 0                 1   \n",
       "2280             0                0                 0                 1   \n",
       "2281             0                0                 0                 1   \n",
       "\n",
       "      rango-edad_81-100  \n",
       "0                     0  \n",
       "1                     0  \n",
       "2                     0  \n",
       "3                     0  \n",
       "5                     0  \n",
       "...                 ...  \n",
       "2277                  1  \n",
       "2278                  0  \n",
       "2279                  0  \n",
       "2280                  0  \n",
       "2281                  0  \n",
       "\n",
       "[2264 rows x 9 columns]"
      ]
     },
     "execution_count": 89,
     "metadata": {},
     "output_type": "execute_result"
    }
   ],
   "source": [
    "data"
   ]
  },
  {
   "cell_type": "code",
   "execution_count": null,
   "metadata": {},
   "outputs": [],
   "source": []
  }
 ],
 "metadata": {
  "colab": {
   "authorship_tag": "ABX9TyPpxRemszKsECHKyQq3O5cb",
   "name": "Introduccion_al_Machine_Learning.ipynb",
   "provenance": []
  },
  "kernelspec": {
   "display_name": "Python 3",
   "language": "python",
   "name": "python3"
  },
  "language_info": {
   "codemirror_mode": {
    "name": "ipython",
    "version": 3
   },
   "file_extension": ".py",
   "mimetype": "text/x-python",
   "name": "python",
   "nbconvert_exporter": "python",
   "pygments_lexer": "ipython3",
   "version": "3.7.9"
  }
 },
 "nbformat": 4,
 "nbformat_minor": 4
}
