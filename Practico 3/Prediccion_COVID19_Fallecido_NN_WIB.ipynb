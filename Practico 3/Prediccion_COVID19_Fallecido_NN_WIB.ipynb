{
 "cells": [
  {
   "cell_type": "markdown",
   "metadata": {},
   "source": [
    "## Experimentación - Predicción\n",
    "- Se intentará predecir el valor de la variable 'fallecido', la cual contiene 2 valores (0 -> no fallece, 1 --> fallece)\n",
    "\n",
    "- La variable surge a partir de la variable clasificacion_resumen (del dataset Casos COVID-19 provisto por el Ministerio de Salud de Argentina) luego de realizar el proceso de limpieza y pre-procesado disponible en el Notebook Limpieza_Preprocesado_Covid19Casos.ipynb"
   ]
  },
  {
   "cell_type": "code",
   "execution_count": 1,
   "metadata": {},
   "outputs": [
    {
     "data": {
      "text/html": [
       "<style>.container { width:90% !important; }</style>"
      ],
      "text/plain": [
       "<IPython.core.display.HTML object>"
      ]
     },
     "metadata": {},
     "output_type": "display_data"
    }
   ],
   "source": [
    "### Aumentar el ancho del notebook\n",
    "from IPython.core.display import display, HTML\n",
    "display(HTML(\"<style>.container { width:90% !important; }</style>\"))"
   ]
  },
  {
   "cell_type": "code",
   "execution_count": 2,
   "metadata": {},
   "outputs": [],
   "source": [
    "# Importamos librerías necesarias\n",
    "\n",
    "import pandas as pd\n",
    "import numpy as np\n",
    "import matplotlib.pyplot as plt"
   ]
  },
  {
   "cell_type": "markdown",
   "metadata": {},
   "source": [
    "### Levantamos el Dataset\n",
    "- Previo a realizar este paso es necesario ejecutar el Notebook: Limpieza_Preprocesado_Covid19Casos.ipynb"
   ]
  },
  {
   "cell_type": "code",
   "execution_count": 3,
   "metadata": {},
   "outputs": [],
   "source": [
    "PATH = \"./data/\"\n",
    "FILE_NAME = 'covid19_limpio.csv'\n",
    "FULL_NAME = PATH + FILE_NAME"
   ]
  },
  {
   "cell_type": "code",
   "execution_count": 4,
   "metadata": {},
   "outputs": [],
   "source": [
    "df = pd.read_csv(FULL_NAME)"
   ]
  },
  {
   "cell_type": "code",
   "execution_count": 5,
   "metadata": {},
   "outputs": [],
   "source": [
    "dataset = df.copy(deep=True)"
   ]
  },
  {
   "cell_type": "code",
   "execution_count": 6,
   "metadata": {},
   "outputs": [
    {
     "data": {
      "text/html": [
       "<div>\n",
       "<style scoped>\n",
       "    .dataframe tbody tr th:only-of-type {\n",
       "        vertical-align: middle;\n",
       "    }\n",
       "\n",
       "    .dataframe tbody tr th {\n",
       "        vertical-align: top;\n",
       "    }\n",
       "\n",
       "    .dataframe thead th {\n",
       "        text-align: right;\n",
       "    }\n",
       "</style>\n",
       "<table border=\"1\" class=\"dataframe\">\n",
       "  <thead>\n",
       "    <tr style=\"text-align: right;\">\n",
       "      <th></th>\n",
       "      <th>edad</th>\n",
       "      <th>sepi_apertura</th>\n",
       "      <th>cuidado_intensivo</th>\n",
       "      <th>fallecido</th>\n",
       "      <th>asistencia_respiratoria_mecanica</th>\n",
       "      <th>financiamiento_publico</th>\n",
       "      <th>sexo_f</th>\n",
       "      <th>sexo_m</th>\n",
       "      <th>sexo_nr</th>\n",
       "      <th>pcia_rec_eq_pcia_car</th>\n",
       "      <th>...</th>\n",
       "      <th>residencia_provincia_rio_negro</th>\n",
       "      <th>residencia_provincia_salta</th>\n",
       "      <th>residencia_provincia_san_juan</th>\n",
       "      <th>residencia_provincia_san_luis</th>\n",
       "      <th>residencia_provincia_santa_cruz</th>\n",
       "      <th>residencia_provincia_santa_fe</th>\n",
       "      <th>residencia_provincia_santiago_del_estero</th>\n",
       "      <th>residencia_provincia_tierra_del_fuego</th>\n",
       "      <th>residencia_provincia_tucuman</th>\n",
       "      <th>fecha_di_dif_fecha_ap</th>\n",
       "    </tr>\n",
       "  </thead>\n",
       "  <tbody>\n",
       "    <tr>\n",
       "      <th>4</th>\n",
       "      <td>26</td>\n",
       "      <td>23</td>\n",
       "      <td>0</td>\n",
       "      <td>0</td>\n",
       "      <td>0</td>\n",
       "      <td>1</td>\n",
       "      <td>0</td>\n",
       "      <td>1</td>\n",
       "      <td>0</td>\n",
       "      <td>1</td>\n",
       "      <td>...</td>\n",
       "      <td>0</td>\n",
       "      <td>0</td>\n",
       "      <td>0</td>\n",
       "      <td>0</td>\n",
       "      <td>0</td>\n",
       "      <td>0</td>\n",
       "      <td>0</td>\n",
       "      <td>0</td>\n",
       "      <td>0</td>\n",
       "      <td>24</td>\n",
       "    </tr>\n",
       "    <tr>\n",
       "      <th>7</th>\n",
       "      <td>7</td>\n",
       "      <td>23</td>\n",
       "      <td>0</td>\n",
       "      <td>0</td>\n",
       "      <td>0</td>\n",
       "      <td>1</td>\n",
       "      <td>0</td>\n",
       "      <td>1</td>\n",
       "      <td>0</td>\n",
       "      <td>1</td>\n",
       "      <td>...</td>\n",
       "      <td>0</td>\n",
       "      <td>0</td>\n",
       "      <td>0</td>\n",
       "      <td>0</td>\n",
       "      <td>0</td>\n",
       "      <td>0</td>\n",
       "      <td>0</td>\n",
       "      <td>0</td>\n",
       "      <td>0</td>\n",
       "      <td>0</td>\n",
       "    </tr>\n",
       "    <tr>\n",
       "      <th>11</th>\n",
       "      <td>29</td>\n",
       "      <td>23</td>\n",
       "      <td>0</td>\n",
       "      <td>0</td>\n",
       "      <td>0</td>\n",
       "      <td>0</td>\n",
       "      <td>1</td>\n",
       "      <td>0</td>\n",
       "      <td>0</td>\n",
       "      <td>0</td>\n",
       "      <td>...</td>\n",
       "      <td>0</td>\n",
       "      <td>0</td>\n",
       "      <td>0</td>\n",
       "      <td>0</td>\n",
       "      <td>0</td>\n",
       "      <td>0</td>\n",
       "      <td>0</td>\n",
       "      <td>0</td>\n",
       "      <td>0</td>\n",
       "      <td>0</td>\n",
       "    </tr>\n",
       "    <tr>\n",
       "      <th>17</th>\n",
       "      <td>61</td>\n",
       "      <td>23</td>\n",
       "      <td>0</td>\n",
       "      <td>0</td>\n",
       "      <td>0</td>\n",
       "      <td>1</td>\n",
       "      <td>0</td>\n",
       "      <td>1</td>\n",
       "      <td>0</td>\n",
       "      <td>1</td>\n",
       "      <td>...</td>\n",
       "      <td>0</td>\n",
       "      <td>0</td>\n",
       "      <td>0</td>\n",
       "      <td>0</td>\n",
       "      <td>0</td>\n",
       "      <td>0</td>\n",
       "      <td>0</td>\n",
       "      <td>0</td>\n",
       "      <td>0</td>\n",
       "      <td>0</td>\n",
       "    </tr>\n",
       "    <tr>\n",
       "      <th>18</th>\n",
       "      <td>22</td>\n",
       "      <td>23</td>\n",
       "      <td>0</td>\n",
       "      <td>0</td>\n",
       "      <td>0</td>\n",
       "      <td>1</td>\n",
       "      <td>0</td>\n",
       "      <td>1</td>\n",
       "      <td>0</td>\n",
       "      <td>1</td>\n",
       "      <td>...</td>\n",
       "      <td>0</td>\n",
       "      <td>0</td>\n",
       "      <td>0</td>\n",
       "      <td>0</td>\n",
       "      <td>0</td>\n",
       "      <td>0</td>\n",
       "      <td>0</td>\n",
       "      <td>0</td>\n",
       "      <td>0</td>\n",
       "      <td>0</td>\n",
       "    </tr>\n",
       "    <tr>\n",
       "      <th>...</th>\n",
       "      <td>...</td>\n",
       "      <td>...</td>\n",
       "      <td>...</td>\n",
       "      <td>...</td>\n",
       "      <td>...</td>\n",
       "      <td>...</td>\n",
       "      <td>...</td>\n",
       "      <td>...</td>\n",
       "      <td>...</td>\n",
       "      <td>...</td>\n",
       "      <td>...</td>\n",
       "      <td>...</td>\n",
       "      <td>...</td>\n",
       "      <td>...</td>\n",
       "      <td>...</td>\n",
       "      <td>...</td>\n",
       "      <td>...</td>\n",
       "      <td>...</td>\n",
       "      <td>...</td>\n",
       "      <td>...</td>\n",
       "      <td>...</td>\n",
       "    </tr>\n",
       "    <tr>\n",
       "      <th>1784807</th>\n",
       "      <td>73</td>\n",
       "      <td>23</td>\n",
       "      <td>1</td>\n",
       "      <td>0</td>\n",
       "      <td>0</td>\n",
       "      <td>0</td>\n",
       "      <td>0</td>\n",
       "      <td>1</td>\n",
       "      <td>0</td>\n",
       "      <td>1</td>\n",
       "      <td>...</td>\n",
       "      <td>0</td>\n",
       "      <td>0</td>\n",
       "      <td>0</td>\n",
       "      <td>0</td>\n",
       "      <td>0</td>\n",
       "      <td>0</td>\n",
       "      <td>0</td>\n",
       "      <td>0</td>\n",
       "      <td>0</td>\n",
       "      <td>17</td>\n",
       "    </tr>\n",
       "    <tr>\n",
       "      <th>1784808</th>\n",
       "      <td>40</td>\n",
       "      <td>23</td>\n",
       "      <td>0</td>\n",
       "      <td>0</td>\n",
       "      <td>0</td>\n",
       "      <td>1</td>\n",
       "      <td>1</td>\n",
       "      <td>0</td>\n",
       "      <td>0</td>\n",
       "      <td>0</td>\n",
       "      <td>...</td>\n",
       "      <td>0</td>\n",
       "      <td>0</td>\n",
       "      <td>0</td>\n",
       "      <td>0</td>\n",
       "      <td>0</td>\n",
       "      <td>0</td>\n",
       "      <td>0</td>\n",
       "      <td>0</td>\n",
       "      <td>0</td>\n",
       "      <td>120</td>\n",
       "    </tr>\n",
       "    <tr>\n",
       "      <th>1784810</th>\n",
       "      <td>50</td>\n",
       "      <td>23</td>\n",
       "      <td>0</td>\n",
       "      <td>0</td>\n",
       "      <td>0</td>\n",
       "      <td>0</td>\n",
       "      <td>1</td>\n",
       "      <td>0</td>\n",
       "      <td>0</td>\n",
       "      <td>1</td>\n",
       "      <td>...</td>\n",
       "      <td>0</td>\n",
       "      <td>0</td>\n",
       "      <td>0</td>\n",
       "      <td>0</td>\n",
       "      <td>0</td>\n",
       "      <td>0</td>\n",
       "      <td>0</td>\n",
       "      <td>0</td>\n",
       "      <td>0</td>\n",
       "      <td>0</td>\n",
       "    </tr>\n",
       "    <tr>\n",
       "      <th>1784812</th>\n",
       "      <td>37</td>\n",
       "      <td>23</td>\n",
       "      <td>0</td>\n",
       "      <td>0</td>\n",
       "      <td>0</td>\n",
       "      <td>0</td>\n",
       "      <td>1</td>\n",
       "      <td>0</td>\n",
       "      <td>0</td>\n",
       "      <td>1</td>\n",
       "      <td>...</td>\n",
       "      <td>0</td>\n",
       "      <td>0</td>\n",
       "      <td>0</td>\n",
       "      <td>0</td>\n",
       "      <td>0</td>\n",
       "      <td>0</td>\n",
       "      <td>0</td>\n",
       "      <td>0</td>\n",
       "      <td>0</td>\n",
       "      <td>12</td>\n",
       "    </tr>\n",
       "    <tr>\n",
       "      <th>1784814</th>\n",
       "      <td>34</td>\n",
       "      <td>23</td>\n",
       "      <td>0</td>\n",
       "      <td>0</td>\n",
       "      <td>0</td>\n",
       "      <td>1</td>\n",
       "      <td>0</td>\n",
       "      <td>1</td>\n",
       "      <td>0</td>\n",
       "      <td>1</td>\n",
       "      <td>...</td>\n",
       "      <td>0</td>\n",
       "      <td>0</td>\n",
       "      <td>0</td>\n",
       "      <td>0</td>\n",
       "      <td>0</td>\n",
       "      <td>0</td>\n",
       "      <td>0</td>\n",
       "      <td>0</td>\n",
       "      <td>0</td>\n",
       "      <td>11</td>\n",
       "    </tr>\n",
       "  </tbody>\n",
       "</table>\n",
       "<p>757017 rows × 35 columns</p>\n",
       "</div>"
      ],
      "text/plain": [
       "         edad  sepi_apertura  cuidado_intensivo  fallecido  \\\n",
       "4          26             23                  0          0   \n",
       "7           7             23                  0          0   \n",
       "11         29             23                  0          0   \n",
       "17         61             23                  0          0   \n",
       "18         22             23                  0          0   \n",
       "...       ...            ...                ...        ...   \n",
       "1784807    73             23                  1          0   \n",
       "1784808    40             23                  0          0   \n",
       "1784810    50             23                  0          0   \n",
       "1784812    37             23                  0          0   \n",
       "1784814    34             23                  0          0   \n",
       "\n",
       "         asistencia_respiratoria_mecanica  financiamiento_publico  sexo_f  \\\n",
       "4                                       0                       1       0   \n",
       "7                                       0                       1       0   \n",
       "11                                      0                       0       1   \n",
       "17                                      0                       1       0   \n",
       "18                                      0                       1       0   \n",
       "...                                   ...                     ...     ...   \n",
       "1784807                                 0                       0       0   \n",
       "1784808                                 0                       1       1   \n",
       "1784810                                 0                       0       1   \n",
       "1784812                                 0                       0       1   \n",
       "1784814                                 0                       1       0   \n",
       "\n",
       "         sexo_m  sexo_nr  pcia_rec_eq_pcia_car  ...  \\\n",
       "4             1        0                     1  ...   \n",
       "7             1        0                     1  ...   \n",
       "11            0        0                     0  ...   \n",
       "17            1        0                     1  ...   \n",
       "18            1        0                     1  ...   \n",
       "...         ...      ...                   ...  ...   \n",
       "1784807       1        0                     1  ...   \n",
       "1784808       0        0                     0  ...   \n",
       "1784810       0        0                     1  ...   \n",
       "1784812       0        0                     1  ...   \n",
       "1784814       1        0                     1  ...   \n",
       "\n",
       "         residencia_provincia_rio_negro  residencia_provincia_salta  \\\n",
       "4                                     0                           0   \n",
       "7                                     0                           0   \n",
       "11                                    0                           0   \n",
       "17                                    0                           0   \n",
       "18                                    0                           0   \n",
       "...                                 ...                         ...   \n",
       "1784807                               0                           0   \n",
       "1784808                               0                           0   \n",
       "1784810                               0                           0   \n",
       "1784812                               0                           0   \n",
       "1784814                               0                           0   \n",
       "\n",
       "         residencia_provincia_san_juan  residencia_provincia_san_luis  \\\n",
       "4                                    0                              0   \n",
       "7                                    0                              0   \n",
       "11                                   0                              0   \n",
       "17                                   0                              0   \n",
       "18                                   0                              0   \n",
       "...                                ...                            ...   \n",
       "1784807                              0                              0   \n",
       "1784808                              0                              0   \n",
       "1784810                              0                              0   \n",
       "1784812                              0                              0   \n",
       "1784814                              0                              0   \n",
       "\n",
       "         residencia_provincia_santa_cruz  residencia_provincia_santa_fe  \\\n",
       "4                                      0                              0   \n",
       "7                                      0                              0   \n",
       "11                                     0                              0   \n",
       "17                                     0                              0   \n",
       "18                                     0                              0   \n",
       "...                                  ...                            ...   \n",
       "1784807                                0                              0   \n",
       "1784808                                0                              0   \n",
       "1784810                                0                              0   \n",
       "1784812                                0                              0   \n",
       "1784814                                0                              0   \n",
       "\n",
       "         residencia_provincia_santiago_del_estero  \\\n",
       "4                                               0   \n",
       "7                                               0   \n",
       "11                                              0   \n",
       "17                                              0   \n",
       "18                                              0   \n",
       "...                                           ...   \n",
       "1784807                                         0   \n",
       "1784808                                         0   \n",
       "1784810                                         0   \n",
       "1784812                                         0   \n",
       "1784814                                         0   \n",
       "\n",
       "         residencia_provincia_tierra_del_fuego  residencia_provincia_tucuman  \\\n",
       "4                                            0                             0   \n",
       "7                                            0                             0   \n",
       "11                                           0                             0   \n",
       "17                                           0                             0   \n",
       "18                                           0                             0   \n",
       "...                                        ...                           ...   \n",
       "1784807                                      0                             0   \n",
       "1784808                                      0                             0   \n",
       "1784810                                      0                             0   \n",
       "1784812                                      0                             0   \n",
       "1784814                                      0                             0   \n",
       "\n",
       "         fecha_di_dif_fecha_ap  \n",
       "4                           24  \n",
       "7                            0  \n",
       "11                           0  \n",
       "17                           0  \n",
       "18                           0  \n",
       "...                        ...  \n",
       "1784807                     17  \n",
       "1784808                    120  \n",
       "1784810                      0  \n",
       "1784812                     12  \n",
       "1784814                     11  \n",
       "\n",
       "[757017 rows x 35 columns]"
      ]
     },
     "execution_count": 6,
     "metadata": {},
     "output_type": "execute_result"
    }
   ],
   "source": [
    "dataset.drop(dataset[dataset.covid_19_confirmado == 0].index, inplace=True)\n",
    "dataset.drop(['covid_19_confirmado'], axis=1, inplace=True)\n",
    "dataset"
   ]
  },
  {
   "cell_type": "code",
   "execution_count": 7,
   "metadata": {},
   "outputs": [],
   "source": [
    "dataset = dataset.dropna()"
   ]
  },
  {
   "cell_type": "markdown",
   "metadata": {},
   "source": [
    "## Variable target: fallecido"
   ]
  },
  {
   "cell_type": "code",
   "execution_count": 8,
   "metadata": {},
   "outputs": [
    {
     "name": "stdout",
     "output_type": "stream",
     "text": [
      "0    732767\n",
      "1     24250\n",
      "Name: fallecido, dtype: int64\n"
     ]
    },
    {
     "data": {
      "text/plain": [
       "<matplotlib.axes._subplots.AxesSubplot at 0x7f2803d1d3c8>"
      ]
     },
     "execution_count": 8,
     "metadata": {},
     "output_type": "execute_result"
    },
    {
     "data": {
      "image/png": "[encoded data removed]",
      "text/plain": [
       "<Figure size 576x576 with 1 Axes>"
      ]
     },
     "metadata": {},
     "output_type": "display_data"
    }
   ],
   "source": [
    "print(dataset.fallecido.value_counts())\n",
    "dataset.fallecido.value_counts().plot.pie(autopct='%1.0f%%', figsize=(8, 8))"
   ]
  },
  {
   "cell_type": "markdown",
   "metadata": {},
   "source": [
    "### Referencias\n",
    "- 0: no fallece \n",
    "- 1: fallece "
   ]
  },
  {
   "cell_type": "markdown",
   "metadata": {},
   "source": [
    "### Separar los conjuntos de train y test"
   ]
  },
  {
   "cell_type": "code",
   "execution_count": 9,
   "metadata": {},
   "outputs": [],
   "source": [
    "from sklearn.model_selection import train_test_split"
   ]
  },
  {
   "cell_type": "code",
   "execution_count": 10,
   "metadata": {},
   "outputs": [
    {
     "data": {
      "text/plain": [
       "['edad',\n",
       " 'sepi_apertura',\n",
       " 'cuidado_intensivo',\n",
       " 'asistencia_respiratoria_mecanica',\n",
       " 'financiamiento_publico',\n",
       " 'sexo_f',\n",
       " 'sexo_m',\n",
       " 'sexo_nr',\n",
       " 'pcia_rec_eq_pcia_car',\n",
       " 'residencia_provincia_buenos_aires',\n",
       " 'residencia_provincia_caba',\n",
       " 'residencia_provincia_catamarca',\n",
       " 'residencia_provincia_chaco',\n",
       " 'residencia_provincia_chubut',\n",
       " 'residencia_provincia_Corrientes',\n",
       " 'residencia_provincia_cordoba',\n",
       " 'residencia_provincia_entre_rios',\n",
       " 'residencia_provincia_formosa',\n",
       " 'residencia_provincia_jujuy',\n",
       " 'residencia_provincia_la_pampa',\n",
       " 'residencia_provincia_la_rioja',\n",
       " 'residencia_provincia_mendoza',\n",
       " 'residencia_provincia_misiones',\n",
       " 'residencia_provincia_neuquen',\n",
       " 'residencia_provincia_rio_negro',\n",
       " 'residencia_provincia_salta',\n",
       " 'residencia_provincia_san_juan',\n",
       " 'residencia_provincia_san_luis',\n",
       " 'residencia_provincia_santa_cruz',\n",
       " 'residencia_provincia_santa_fe',\n",
       " 'residencia_provincia_santiago_del_estero',\n",
       " 'residencia_provincia_tierra_del_fuego',\n",
       " 'residencia_provincia_tucuman',\n",
       " 'fecha_di_dif_fecha_ap']"
      ]
     },
     "execution_count": 10,
     "metadata": {},
     "output_type": "execute_result"
    }
   ],
   "source": [
    "# Eliminamos la Feature fallecido porque añade información si lo que intentamos predecir es la variable covid_19_confirmado\n",
    "feature_names = list(dataset.columns)\n",
    "feature_names.remove('fallecido')\n",
    "feature_names"
   ]
  },
  {
   "cell_type": "code",
   "execution_count": 11,
   "metadata": {},
   "outputs": [],
   "source": [
    "X = dataset[feature_names]\n",
    "y = dataset['fallecido']"
   ]
  },
  {
   "cell_type": "code",
   "execution_count": 12,
   "metadata": {},
   "outputs": [
    {
     "data": {
      "text/plain": [
       "((757017, 34), (757017,))"
      ]
     },
     "execution_count": 12,
     "metadata": {},
     "output_type": "execute_result"
    }
   ],
   "source": [
    "X.shape, y.shape"
   ]
  },
  {
   "cell_type": "markdown",
   "metadata": {},
   "source": [
    "#### Train - Test"
   ]
  },
  {
   "cell_type": "code",
   "execution_count": 13,
   "metadata": {},
   "outputs": [],
   "source": [
    "X_train, X_test, y_train, y_test = train_test_split(X, y, train_size=0.9, random_state=0)"
   ]
  },
  {
   "cell_type": "code",
   "execution_count": 14,
   "metadata": {},
   "outputs": [
    {
     "data": {
      "text/plain": [
       "((681315, 34), (75702, 34), (681315,), (75702,))"
      ]
     },
     "execution_count": 14,
     "metadata": {},
     "output_type": "execute_result"
    }
   ],
   "source": [
    "X_train.shape, X_test.shape, y_train.shape, y_test.shape"
   ]
  },
  {
   "cell_type": "markdown",
   "metadata": {},
   "source": [
    "#### Train - Validation"
   ]
  },
  {
   "cell_type": "code",
   "execution_count": 15,
   "metadata": {},
   "outputs": [],
   "source": [
    "X_train, X_val, y_train, y_val = train_test_split(X_train, y_train, train_size=0.9, random_state=0)"
   ]
  },
  {
   "cell_type": "code",
   "execution_count": 16,
   "metadata": {},
   "outputs": [
    {
     "data": {
      "text/plain": [
       "((613183, 34), (68132, 34), (613183,), (68132,))"
      ]
     },
     "execution_count": 16,
     "metadata": {},
     "output_type": "execute_result"
    }
   ],
   "source": [
    "X_train.shape, X_val.shape, y_train.shape, y_val.shape"
   ]
  },
  {
   "cell_type": "code",
   "execution_count": 17,
   "metadata": {},
   "outputs": [
    {
     "data": {
      "text/plain": [
       "34"
      ]
     },
     "execution_count": 17,
     "metadata": {},
     "output_type": "execute_result"
    }
   ],
   "source": [
    "INPUT_COLUMNS = X_train.shape[1]\n",
    "INPUT_COLUMNS"
   ]
  },
  {
   "cell_type": "markdown",
   "metadata": {},
   "source": [
    "### StandardScaler"
   ]
  },
  {
   "cell_type": "code",
   "execution_count": 18,
   "metadata": {},
   "outputs": [],
   "source": [
    "from sklearn.preprocessing import StandardScaler\n",
    "\n",
    "scaler = StandardScaler()\n",
    "\n",
    "X_train_std = scaler.fit_transform(X_train)\n",
    "X_val_std = scaler.fit_transform(X_val)\n",
    "X_test_std = scaler.fit_transform(X_test)\n",
    "\n",
    "X_train_std = np.clip(X_train_std, -5, 5)\n",
    "X_val_std = np.clip(X_val_std, -5, 5)\n",
    "X_test_std = np.clip(X_test_std, -5, 5)"
   ]
  },
  {
   "cell_type": "markdown",
   "metadata": {},
   "source": [
    "### Initial Bias"
   ]
  },
  {
   "cell_type": "code",
   "execution_count": 19,
   "metadata": {},
   "outputs": [
    {
     "data": {
      "text/plain": [
       "array([-3.40841116])"
      ]
     },
     "execution_count": 19,
     "metadata": {},
     "output_type": "execute_result"
    }
   ],
   "source": [
    "pos = dataset[dataset.fallecido==1].shape[0]\n",
    "neg = dataset[dataset.fallecido==0].shape[0]\n",
    "total = dataset.shape[0]\n",
    "\n",
    "initial_bias = np.log([pos/neg])\n",
    "initial_bias"
   ]
  },
  {
   "cell_type": "code",
   "execution_count": 20,
   "metadata": {},
   "outputs": [
    {
     "name": "stderr",
     "output_type": "stream",
     "text": [
      "/home/lucas/DIPLODATOS/.venv/lib/python3.6/site-packages/tensorflow/python/framework/dtypes.py:516: FutureWarning: Passing (type, 1) or '1type' as a synonym of type is deprecated; in a future version of numpy, it will be understood as (type, (1,)) / '(1,)type'.\n",
      "  _np_qint8 = np.dtype([(\"qint8\", np.int8, 1)])\n",
      "/home/lucas/DIPLODATOS/.venv/lib/python3.6/site-packages/tensorflow/python/framework/dtypes.py:517: FutureWarning: Passing (type, 1) or '1type' as a synonym of type is deprecated; in a future version of numpy, it will be understood as (type, (1,)) / '(1,)type'.\n",
      "  _np_quint8 = np.dtype([(\"quint8\", np.uint8, 1)])\n",
      "/home/lucas/DIPLODATOS/.venv/lib/python3.6/site-packages/tensorflow/python/framework/dtypes.py:518: FutureWarning: Passing (type, 1) or '1type' as a synonym of type is deprecated; in a future version of numpy, it will be understood as (type, (1,)) / '(1,)type'.\n",
      "  _np_qint16 = np.dtype([(\"qint16\", np.int16, 1)])\n",
      "/home/lucas/DIPLODATOS/.venv/lib/python3.6/site-packages/tensorflow/python/framework/dtypes.py:519: FutureWarning: Passing (type, 1) or '1type' as a synonym of type is deprecated; in a future version of numpy, it will be understood as (type, (1,)) / '(1,)type'.\n",
      "  _np_quint16 = np.dtype([(\"quint16\", np.uint16, 1)])\n",
      "/home/lucas/DIPLODATOS/.venv/lib/python3.6/site-packages/tensorflow/python/framework/dtypes.py:520: FutureWarning: Passing (type, 1) or '1type' as a synonym of type is deprecated; in a future version of numpy, it will be understood as (type, (1,)) / '(1,)type'.\n",
      "  _np_qint32 = np.dtype([(\"qint32\", np.int32, 1)])\n",
      "/home/lucas/DIPLODATOS/.venv/lib/python3.6/site-packages/tensorflow/python/framework/dtypes.py:525: FutureWarning: Passing (type, 1) or '1type' as a synonym of type is deprecated; in a future version of numpy, it will be understood as (type, (1,)) / '(1,)type'.\n",
      "  np_resource = np.dtype([(\"resource\", np.ubyte, 1)])\n",
      "/home/lucas/DIPLODATOS/.venv/lib/python3.6/site-packages/tensorboard/compat/tensorflow_stub/dtypes.py:541: FutureWarning: Passing (type, 1) or '1type' as a synonym of type is deprecated; in a future version of numpy, it will be understood as (type, (1,)) / '(1,)type'.\n",
      "  _np_qint8 = np.dtype([(\"qint8\", np.int8, 1)])\n",
      "/home/lucas/DIPLODATOS/.venv/lib/python3.6/site-packages/tensorboard/compat/tensorflow_stub/dtypes.py:542: FutureWarning: Passing (type, 1) or '1type' as a synonym of type is deprecated; in a future version of numpy, it will be understood as (type, (1,)) / '(1,)type'.\n",
      "  _np_quint8 = np.dtype([(\"quint8\", np.uint8, 1)])\n",
      "/home/lucas/DIPLODATOS/.venv/lib/python3.6/site-packages/tensorboard/compat/tensorflow_stub/dtypes.py:543: FutureWarning: Passing (type, 1) or '1type' as a synonym of type is deprecated; in a future version of numpy, it will be understood as (type, (1,)) / '(1,)type'.\n",
      "  _np_qint16 = np.dtype([(\"qint16\", np.int16, 1)])\n",
      "/home/lucas/DIPLODATOS/.venv/lib/python3.6/site-packages/tensorboard/compat/tensorflow_stub/dtypes.py:544: FutureWarning: Passing (type, 1) or '1type' as a synonym of type is deprecated; in a future version of numpy, it will be understood as (type, (1,)) / '(1,)type'.\n",
      "  _np_quint16 = np.dtype([(\"quint16\", np.uint16, 1)])\n",
      "/home/lucas/DIPLODATOS/.venv/lib/python3.6/site-packages/tensorboard/compat/tensorflow_stub/dtypes.py:545: FutureWarning: Passing (type, 1) or '1type' as a synonym of type is deprecated; in a future version of numpy, it will be understood as (type, (1,)) / '(1,)type'.\n",
      "  _np_qint32 = np.dtype([(\"qint32\", np.int32, 1)])\n",
      "/home/lucas/DIPLODATOS/.venv/lib/python3.6/site-packages/tensorboard/compat/tensorflow_stub/dtypes.py:550: FutureWarning: Passing (type, 1) or '1type' as a synonym of type is deprecated; in a future version of numpy, it will be understood as (type, (1,)) / '(1,)type'.\n",
      "  np_resource = np.dtype([(\"resource\", np.ubyte, 1)])\n"
     ]
    }
   ],
   "source": [
    "from tensorflow.keras.utils import to_categorical\n",
    "\n",
    "y_train_cat = to_categorical(y_train)\n",
    "y_val_cat = to_categorical(y_val)\n",
    "y_test_cat = to_categorical(y_test)"
   ]
  },
  {
   "cell_type": "markdown",
   "metadata": {},
   "source": [
    "## Modelado"
   ]
  },
  {
   "cell_type": "code",
   "execution_count": 21,
   "metadata": {},
   "outputs": [],
   "source": [
    "from tensorflow.keras.models import Sequential, load_model\n",
    "from tensorflow.keras.layers import Dense, Activation, Dropout, BatchNormalization\n",
    "from tensorflow.keras.callbacks import EarlyStopping, ModelCheckpoint\n",
    "import tensorflow as tf\n",
    "from tensorflow import keras"
   ]
  },
  {
   "cell_type": "code",
   "execution_count": 22,
   "metadata": {},
   "outputs": [],
   "source": [
    "# Hyperparameters\n",
    "N_EPOCHS = 50\n",
    "BATCH_SIZE = 1024"
   ]
  },
  {
   "cell_type": "code",
   "execution_count": 23,
   "metadata": {},
   "outputs": [],
   "source": [
    "from tensorflow.keras import backend as K\n",
    "\n",
    "def recall_m(y_true, y_pred):\n",
    "    true_positives = K.sum(K.round(K.clip(y_true * y_pred, 0, 1)))\n",
    "    possible_positives = K.sum(K.round(K.clip(y_true, 0, 1)))\n",
    "    recall = true_positives / (possible_positives + K.epsilon())\n",
    "    return recall\n",
    "\n",
    "def precision_m(y_true, y_pred):\n",
    "    true_positives = K.sum(K.round(K.clip(y_true * y_pred, 0, 1)))\n",
    "    predicted_positives = K.sum(K.round(K.clip(y_pred, 0, 1)))\n",
    "    precision = true_positives / (predicted_positives + K.epsilon())\n",
    "    return precision\n",
    "\n",
    "def f1_score(y_true, y_pred):\n",
    "    precision = precision_m(y_true, y_pred)\n",
    "    recall = recall_m(y_true, y_pred)\n",
    "    return 2*((precision*recall)/(precision+recall+K.epsilon()))\n",
    "\n",
    "# Source: https://datascience.stackexchange.com/questions/45165/how-to-get-accuracy-f1-precision-and-recall-for-a-keras-model"
   ]
  },
  {
   "cell_type": "code",
   "execution_count": 24,
   "metadata": {},
   "outputs": [],
   "source": [
    "METRICS = [\n",
    "      f1_score,\n",
    "]"
   ]
  },
  {
   "cell_type": "code",
   "execution_count": 25,
   "metadata": {},
   "outputs": [],
   "source": [
    "def make_model(metrics = METRICS, output_bias=None):\n",
    "    if output_bias is not None:\n",
    "        output_bias = tf.keras.initializers.Constant(output_bias)\n",
    "    model = keras.Sequential([\n",
    "        keras.layers.Dense(2048, activation='relu', input_shape=(INPUT_COLUMNS,)),\n",
    "        keras.layers.Dense(1024, activation='relu'),\n",
    "        keras.layers.Dropout(0.5),\n",
    "        keras.layers.Dense(1024, activation='relu'),\n",
    "        keras.layers.Dropout(0.5),\n",
    "        keras.layers.Dense(1024, activation='relu'),\n",
    "        keras.layers.Dropout(0.5),\n",
    "        keras.layers.Dropout(0.5),\n",
    "        keras.layers.Dense(512, activation='relu'),\n",
    "        keras.layers.Dropout(0.5),\n",
    "        keras.layers.Dense(512, activation='relu'),\n",
    "        keras.layers.Dropout(0.5),\n",
    "        keras.layers.Dense(256, activation='relu'),\n",
    "        keras.layers.Dropout(0.5),\n",
    "        keras.layers.Dense(256, activation='relu'),\n",
    "        keras.layers.Dropout(0.5),\n",
    "        keras.layers.Dense(128, activation='relu'),\n",
    "        keras.layers.Dropout(0.5),\n",
    "        keras.layers.Dense(128, activation='relu'),\n",
    "        keras.layers.Dropout(0.5),\n",
    "        keras.layers.Dense(2, activation='softmax', bias_initializer=output_bias),\n",
    "    ])\n",
    "    model.compile(\n",
    "        optimizer=keras.optimizers.Adam(lr=1e-3),\n",
    "        loss=keras.losses.CategoricalCrossentropy(),\n",
    "        metrics=metrics)\n",
    "    \n",
    "    return model"
   ]
  },
  {
   "cell_type": "code",
   "execution_count": 26,
   "metadata": {},
   "outputs": [
    {
     "name": "stdout",
     "output_type": "stream",
     "text": [
      "WARNING:tensorflow:From /home/lucas/DIPLODATOS/.venv/lib/python3.6/site-packages/tensorflow/python/ops/init_ops.py:1251: calling VarianceScaling.__init__ (from tensorflow.python.ops.init_ops) with dtype is deprecated and will be removed in a future version.\n",
      "Instructions for updating:\n",
      "Call initializer instance with the dtype argument instead of passing it to the constructor\n",
      "Model: \"sequential\"\n",
      "_________________________________________________________________\n",
      "Layer (type)                 Output Shape              Param #   \n",
      "=================================================================\n",
      "dense (Dense)                (None, 2048)              71680     \n",
      "_________________________________________________________________\n",
      "dense_1 (Dense)              (None, 1024)              2098176   \n",
      "_________________________________________________________________\n",
      "dropout (Dropout)            (None, 1024)              0         \n",
      "_________________________________________________________________\n",
      "dense_2 (Dense)              (None, 1024)              1049600   \n",
      "_________________________________________________________________\n",
      "dropout_1 (Dropout)          (None, 1024)              0         \n",
      "_________________________________________________________________\n",
      "dense_3 (Dense)              (None, 1024)              1049600   \n",
      "_________________________________________________________________\n",
      "dropout_2 (Dropout)          (None, 1024)              0         \n",
      "_________________________________________________________________\n",
      "dropout_3 (Dropout)          (None, 1024)              0         \n",
      "_________________________________________________________________\n",
      "dense_4 (Dense)              (None, 512)               524800    \n",
      "_________________________________________________________________\n",
      "dropout_4 (Dropout)          (None, 512)               0         \n",
      "_________________________________________________________________\n",
      "dense_5 (Dense)              (None, 512)               262656    \n",
      "_________________________________________________________________\n",
      "dropout_5 (Dropout)          (None, 512)               0         \n",
      "_________________________________________________________________\n",
      "dense_6 (Dense)              (None, 256)               131328    \n",
      "_________________________________________________________________\n",
      "dropout_6 (Dropout)          (None, 256)               0         \n",
      "_________________________________________________________________\n",
      "dense_7 (Dense)              (None, 256)               65792     \n",
      "_________________________________________________________________\n",
      "dropout_7 (Dropout)          (None, 256)               0         \n",
      "_________________________________________________________________\n",
      "dense_8 (Dense)              (None, 128)               32896     \n",
      "_________________________________________________________________\n",
      "dropout_8 (Dropout)          (None, 128)               0         \n",
      "_________________________________________________________________\n",
      "dense_9 (Dense)              (None, 128)               16512     \n",
      "_________________________________________________________________\n",
      "dropout_9 (Dropout)          (None, 128)               0         \n",
      "_________________________________________________________________\n",
      "dense_10 (Dense)             (None, 2)                 258       \n",
      "=================================================================\n",
      "Total params: 5,303,298\n",
      "Trainable params: 5,303,298\n",
      "Non-trainable params: 0\n",
      "_________________________________________________________________\n"
     ]
    }
   ],
   "source": [
    "mlp_model = make_model(output_bias=initial_bias)\n",
    "mlp_model.summary()"
   ]
  },
  {
   "cell_type": "code",
   "execution_count": 27,
   "metadata": {},
   "outputs": [],
   "source": [
    "path_checkpoint = \"./models/best_model_class_nn_3.h5\"\n",
    "#Callbacks\n",
    "early_stopping = EarlyStopping(monitor='val_loss', mode='min', verbose=1, patience=5)\n",
    "model_checkpoint = ModelCheckpoint(path_checkpoint, monitor='val_f1_score', mode='max', verbose=1, save_best_only=True)"
   ]
  },
  {
   "cell_type": "code",
   "execution_count": 28,
   "metadata": {
    "scrolled": true
   },
   "outputs": [
    {
     "name": "stdout",
     "output_type": "stream",
     "text": [
      "Train on 613183 samples, validate on 68132 samples\n",
      "Epoch 1/50\n",
      "612352/613183 [============================>.] - ETA: 0s - loss: 0.0995 - f1_score: 0.9658\n",
      "Epoch 00001: val_f1_score improved from -inf to 0.96790, saving model to ./models/best_model_class_nn_3.h5\n",
      "613183/613183 [==============================] - 13s 21us/sample - loss: 0.0995 - f1_score: 0.9659 - val_loss: 0.1856 - val_f1_score: 0.9679\n",
      "Epoch 2/50\n",
      "612352/613183 [============================>.] - ETA: 0s - loss: 0.0910 - f1_score: 0.9680\n",
      "Epoch 00002: val_f1_score did not improve from 0.96790\n",
      "613183/613183 [==============================] - 12s 20us/sample - loss: 0.0911 - f1_score: 0.9680 - val_loss: 0.1546 - val_f1_score: 0.9679\n",
      "Epoch 3/50\n",
      "612352/613183 [============================>.] - ETA: 0s - loss: 0.0904 - f1_score: 0.9680\n",
      "Epoch 00003: val_f1_score did not improve from 0.96790\n",
      "613183/613183 [==============================] - 12s 20us/sample - loss: 0.0904 - f1_score: 0.9680 - val_loss: 0.1792 - val_f1_score: 0.9679\n",
      "Epoch 4/50\n",
      "612352/613183 [============================>.] - ETA: 0s - loss: 0.0896 - f1_score: 0.9680\n",
      "Epoch 00004: val_f1_score did not improve from 0.96790\n",
      "613183/613183 [==============================] - 12s 20us/sample - loss: 0.0896 - f1_score: 0.9680 - val_loss: 0.2124 - val_f1_score: 0.9678\n",
      "Epoch 5/50\n",
      "612352/613183 [============================>.] - ETA: 0s - loss: 0.0892 - f1_score: 0.9680\n",
      "Epoch 00005: val_f1_score did not improve from 0.96790\n",
      "613183/613183 [==============================] - 12s 20us/sample - loss: 0.0892 - f1_score: 0.9680 - val_loss: 0.2079 - val_f1_score: 0.9679\n",
      "Epoch 6/50\n",
      "612352/613183 [============================>.] - ETA: 0s - loss: 0.0887 - f1_score: 0.9680\n",
      "Epoch 00006: val_f1_score improved from 0.96790 to 0.96792, saving model to ./models/best_model_class_nn_3.h5\n",
      "613183/613183 [==============================] - 12s 19us/sample - loss: 0.0887 - f1_score: 0.9680 - val_loss: 0.2016 - val_f1_score: 0.9679\n",
      "Epoch 7/50\n",
      "612352/613183 [============================>.] - ETA: 0s - loss: 0.0890 - f1_score: 0.9680\n",
      "Epoch 00007: val_f1_score improved from 0.96792 to 0.96796, saving model to ./models/best_model_class_nn_3.h5\n",
      "613183/613183 [==============================] - 12s 19us/sample - loss: 0.0890 - f1_score: 0.9680 - val_loss: 0.2749 - val_f1_score: 0.9680\n",
      "Epoch 00007: early stopping\n"
     ]
    }
   ],
   "source": [
    "history_mlp = mlp_model.fit(\n",
    "    X_train_std, \n",
    "    y_train_cat,\n",
    "    epochs=N_EPOCHS,\n",
    "    batch_size=BATCH_SIZE,\n",
    "    validation_data=(\n",
    "        X_val_std,\n",
    "        y_val_cat,\n",
    "    ),\n",
    "    callbacks = [early_stopping, model_checkpoint]\n",
    ")"
   ]
  },
  {
   "cell_type": "markdown",
   "metadata": {},
   "source": [
    "### Evaluación del Modelo"
   ]
  },
  {
   "cell_type": "code",
   "execution_count": 29,
   "metadata": {},
   "outputs": [
    {
     "data": {
      "image/png": "[encoded data removed]",
      "text/plain": [
       "<Figure size 432x288 with 1 Axes>"
      ]
     },
     "metadata": {
      "needs_background": "light"
     },
     "output_type": "display_data"
    }
   ],
   "source": [
    "%matplotlib inline\n",
    "\n",
    "plt.plot(history_mlp.history['f1_score'], label='train')\n",
    "plt.plot(history_mlp.history['val_f1_score'], label='val')\n",
    "plt.title('F1 Score over train epochs')\n",
    "plt.ylabel('F1 Score')\n",
    "plt.xlabel('Epoch')\n",
    "plt.legend(loc='upper left')\n",
    "plt.show()"
   ]
  },
  {
   "cell_type": "code",
   "execution_count": 30,
   "metadata": {},
   "outputs": [
    {
     "name": "stdout",
     "output_type": "stream",
     "text": [
      "Max MLP F1 Score train:  0.96798587\n",
      "Max MLP F1 Score validation:  0.96795857\n"
     ]
    }
   ],
   "source": [
    "print('Max MLP F1 Score train: ', max(history_mlp.history['f1_score']))\n",
    "print('Max MLP F1 Score validation: ', max(history_mlp.history['val_f1_score']))"
   ]
  },
  {
   "cell_type": "markdown",
   "metadata": {},
   "source": [
    "#### Evaluación sobre el conjunto de Test"
   ]
  },
  {
   "cell_type": "code",
   "execution_count": 31,
   "metadata": {},
   "outputs": [
    {
     "name": "stdout",
     "output_type": "stream",
     "text": [
      "75702/75702 [==============================] - 2s 32us/sample - loss: 0.2752 - f1_score: 0.9679\n"
     ]
    }
   ],
   "source": [
    "result = mlp_model.evaluate(X_test_std, y_test_cat, verbose=1)"
   ]
  },
  {
   "cell_type": "code",
   "execution_count": 32,
   "metadata": {},
   "outputs": [],
   "source": [
    "_, f1_score_result = result"
   ]
  },
  {
   "cell_type": "code",
   "execution_count": 33,
   "metadata": {},
   "outputs": [
    {
     "name": "stdout",
     "output_type": "stream",
     "text": [
      "F1 Score TEST: 0.96789145\n"
     ]
    }
   ],
   "source": [
    "print('F1 Score TEST: ' + str(f1_score_result))"
   ]
  },
  {
   "cell_type": "markdown",
   "metadata": {},
   "source": [
    "### Predicciones sobre el conjunto de Test"
   ]
  },
  {
   "cell_type": "code",
   "execution_count": 34,
   "metadata": {},
   "outputs": [],
   "source": [
    "import random as rnd"
   ]
  },
  {
   "cell_type": "code",
   "execution_count": 35,
   "metadata": {},
   "outputs": [],
   "source": [
    "def pre_processing(x):\n",
    "    x = x[feature_names].values\n",
    "    x = np.reshape(x,(-1, 1))\n",
    "    x = scaler.fit_transform(x)\n",
    "    x = np.clip(x, -5, 5)\n",
    "\n",
    "    return np.array([x.flatten()])"
   ]
  },
  {
   "cell_type": "code",
   "execution_count": 36,
   "metadata": {},
   "outputs": [],
   "source": [
    "classes = {\n",
    "    0: 'Sobrevive',\n",
    "    1: 'Fallece'\n",
    "}"
   ]
  },
  {
   "cell_type": "code",
   "execution_count": 37,
   "metadata": {
    "scrolled": false
   },
   "outputs": [],
   "source": [
    "def predict_examples(indexes, print_result=False):\n",
    "    cant_correctas = 0\n",
    "    cant_totales = len(indexes)\n",
    "    cant_pos = 0\n",
    "    predict = []\n",
    "    \n",
    "    for index in indexes:\n",
    "        x_predict = X_test.iloc[index]\n",
    "        y_real = y_test.iloc[index]\n",
    "        if y_real == 1:\n",
    "            cant_pos += 1\n",
    "            \n",
    "        x_predict = pre_processing(x_predict)\n",
    "        prediction = mlp_model.predict(x_predict)\n",
    "        y_predict = np.argmax(prediction)\n",
    "        predict.append(y_predict)\n",
    "        \n",
    "        if print_result:\n",
    "            print('Index: ', index)\n",
    "            msg = classes[y_predict] + '(predicción = {0} | confianza: '.format(y_predict) + ' {0} %)'.format(prediction[y_predict][0])\n",
    "        \n",
    "        if (y_real == y_predict):\n",
    "            cant_correctas += 1\n",
    "            if print_result:\n",
    "                print('Predicción exitosa: ' + msg)\n",
    "        else:\n",
    "            if print_result:\n",
    "                print('Predicción errónea: ' + msg)\n",
    "        \n",
    "    porcentaje = (cant_correctas / cant_totales) * 100 if cant_totales > 0 else 0\n",
    "    porcentaje_pos = (cant_pos / cant_totales) * 100 if cant_totales > 0 else 0\n",
    "    print('Porcentaje predicciones correctas: ' + str(porcentaje) + '%')\n",
    "    print('Porcentaje ejemplos clase minoritaria: ' + str(porcentaje_pos) + '%')\n",
    "    \n",
    "    return pd.Series(predict)"
   ]
  },
  {
   "cell_type": "markdown",
   "metadata": {},
   "source": [
    "### Predicción sobre 10000 ejemplos de Test"
   ]
  },
  {
   "cell_type": "code",
   "execution_count": 38,
   "metadata": {},
   "outputs": [
    {
     "name": "stdout",
     "output_type": "stream",
     "text": [
      "Porcentaje predicciones correctas: 95.7%\n",
      "Porcentaje ejemplos clase minoritaria: 4.3%\n"
     ]
    }
   ],
   "source": [
    "# test over 10000 test examples:\n",
    "\n",
    "indexes = [index for index in range(1000)]\n",
    "predict_y = predict_examples(indexes)"
   ]
  },
  {
   "cell_type": "code",
   "execution_count": 39,
   "metadata": {},
   "outputs": [
    {
     "data": {
      "image/png": "[encoded data removed]",
      "text/plain": [
       "<Figure size 216x288 with 1 Axes>"
      ]
     },
     "metadata": {
      "needs_background": "light"
     },
     "output_type": "display_data"
    }
   ],
   "source": [
    "from sklearn.metrics import confusion_matrix\n",
    "\n",
    "plt.figure(figsize=(3,4))\n",
    "        \n",
    "plt.xticks([0, 1], ['sobrevive', 'fallece'], rotation=45)\n",
    "plt.yticks([0, 1], ['sobrevive', 'fallece'])\n",
    "plt.xlabel('Predicted class')\n",
    "plt.ylabel('True class')\n",
    "\n",
    "plt.title(\"Confusion Matrix - Test\")\n",
    "\n",
    "plt.imshow(\n",
    "    confusion_matrix(y_test[:1000], predict_y), \n",
    "    cmap=plt.cm.Blues, \n",
    "    interpolation='nearest',\n",
    ")\n",
    "\n",
    "plt.show()"
   ]
  }
 ],
 "metadata": {
  "kernelspec": {
   "display_name": "Python 3",
   "language": "python",
   "name": "python3"
  },
  "language_info": {
   "codemirror_mode": {
    "name": "ipython",
    "version": 3
   },
   "file_extension": ".py",
   "mimetype": "text/x-python",
   "name": "python",
   "nbconvert_exporter": "python",
   "pygments_lexer": "ipython3",
   "version": "3.6.10"
  }
 },
 "nbformat": 4,
 "nbformat_minor": 2
}
