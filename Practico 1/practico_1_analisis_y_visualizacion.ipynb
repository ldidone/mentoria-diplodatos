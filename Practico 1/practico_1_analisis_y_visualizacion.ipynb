{
 "cells": [
  {
   "cell_type": "markdown",
   "metadata": {},
   "source": [
    "# Práctico 1: Análisis y Visualización"
   ]
  },
  {
   "cell_type": "code",
   "execution_count": 1,
   "metadata": {},
   "outputs": [],
   "source": [
    "# Importamos las librerías necesarias\n",
    "import os\n",
    "import sys\n",
    "import datetime\n",
    "import pandas as pd\n",
    "import numpy as np\n",
    "import matplotlib.pyplot as plt\n",
    "import seaborn as sns"
   ]
  },
  {
   "cell_type": "code",
   "execution_count": 2,
   "metadata": {},
   "outputs": [],
   "source": [
    "# Seteamos semilla random para reproducibilidad\n",
    "np.random.seed(0)"
   ]
  },
  {
   "cell_type": "markdown",
   "metadata": {},
   "source": [
    "### Inicialización y carga de datos\n",
    "\n",
    "Puesto que el dataset se actualiza diariamente, para empezar a trabajar con el es conveniente cargarlo directamente desde Github, para contar siempre con la última versión.\n",
    "\n",
    "En el mismo tenemos tres subconjuntos de datos."
   ]
  },
  {
   "cell_type": "code",
   "execution_count": 3,
   "metadata": {},
   "outputs": [],
   "source": [
    "path = 'C:/Users/lucas/Documents/DIPLODATOS/MENTORÍA/Datos-Covid19-Argentina/'"
   ]
  },
  {
   "cell_type": "code",
   "execution_count": 4,
   "metadata": {},
   "outputs": [],
   "source": [
    "file1 = os.path.join(path, 'Argentina-covid19.csv')\n",
    "\n",
    "data1 = pd.read_csv(file1, error_bad_lines=False)"
   ]
  },
  {
   "cell_type": "code",
   "execution_count": 5,
   "metadata": {},
   "outputs": [],
   "source": [
    "file2 = os.path.join(path, 'Argentina-covid19-por-provincia.csv')\n",
    "\n",
    "data2 = pd.read_csv(file2, error_bad_lines=False)"
   ]
  },
  {
   "cell_type": "code",
   "execution_count": 6,
   "metadata": {},
   "outputs": [],
   "source": [
    "file3 = os.path.join(path, 'Argentina-covid19-fallecidos.csv')\n",
    "\n",
    "data3 = pd.read_csv(file3, error_bad_lines=False)"
   ]
  },
  {
   "cell_type": "markdown",
   "metadata": {},
   "source": [
    "### Análisis exploratorio"
   ]
  },
  {
   "cell_type": "markdown",
   "metadata": {},
   "source": [
    "### Dataset 1"
   ]
  },
  {
   "cell_type": "code",
   "execution_count": 7,
   "metadata": {},
   "outputs": [
    {
     "name": "stdout",
     "output_type": "stream",
     "text": [
      "Cantidad de registros:  115\n",
      "Cantidad de columnas:  29\n"
     ]
    }
   ],
   "source": [
    "# Obtenemos la cantidad de filas y columnas\n",
    "print(\"Cantidad de registros: \", data1.shape[0])\n",
    "print(\"Cantidad de columnas: \", data1.shape[1])"
   ]
  },
  {
   "cell_type": "code",
   "execution_count": 8,
   "metadata": {},
   "outputs": [
    {
     "data": {
      "text/plain": [
       "fecha                       object\n",
       "dia_cuarentena             float64\n",
       "casos_nuevos                 int64\n",
       "casos_total                  int64\n",
       "%mujer                      object\n",
       "%varon                      object\n",
       "mujer_total                float64\n",
       "varon_total                float64\n",
       "franja_etaria               object\n",
       "edad_prom                  float64\n",
       "importados_total             int64\n",
       "importados_nuevos            int64\n",
       "local_total                  int64\n",
       "local_nuevos                 int64\n",
       "comunitario_total            int64\n",
       "comunitario_nuevos         float64\n",
       "en_investigacion_total       int64\n",
       "en_investigacion_nuevos      int64\n",
       "muertes_total                int64\n",
       "muertes_nuevos               int64\n",
       "alta_total                 float64\n",
       "alta_nuevos                float64\n",
       "alta_definitiva            float64\n",
       "descartados_total          float64\n",
       "descartados_nuevos         float64\n",
       "tests_realizados_total     float64\n",
       "tests_realizados_nuevos    float64\n",
       "test_por_millon_hab         object\n",
       "observaciones               object\n",
       "dtype: object"
      ]
     },
     "execution_count": 8,
     "metadata": {},
     "output_type": "execute_result"
    }
   ],
   "source": [
    "# Listamos las columnas y sus tipos de datos\n",
    "data1.dtypes"
   ]
  },
  {
   "cell_type": "code",
   "execution_count": 9,
   "metadata": {},
   "outputs": [],
   "source": [
    "# Cambiamos el tipo de la columna 'fecha' de object a datetime\n",
    "data1['fecha'] = pd.to_datetime(data1['fecha'], format='%Y-%m-%d')"
   ]
  },
  {
   "cell_type": "code",
   "execution_count": 10,
   "metadata": {},
   "outputs": [
    {
     "data": {
      "text/html": [
       "<div>\n",
       "<style scoped>\n",
       "    .dataframe tbody tr th:only-of-type {\n",
       "        vertical-align: middle;\n",
       "    }\n",
       "\n",
       "    .dataframe tbody tr th {\n",
       "        vertical-align: top;\n",
       "    }\n",
       "\n",
       "    .dataframe thead th {\n",
       "        text-align: right;\n",
       "    }\n",
       "</style>\n",
       "<table border=\"1\" class=\"dataframe\">\n",
       "  <thead>\n",
       "    <tr style=\"text-align: right;\">\n",
       "      <th></th>\n",
       "      <th>10</th>\n",
       "      <th>74</th>\n",
       "    </tr>\n",
       "  </thead>\n",
       "  <tbody>\n",
       "    <tr>\n",
       "      <td>fecha</td>\n",
       "      <td>2020-03-15 00:00:00</td>\n",
       "      <td>2020-05-18 00:00:00</td>\n",
       "    </tr>\n",
       "    <tr>\n",
       "      <td>dia_cuarentena</td>\n",
       "      <td>NaN</td>\n",
       "      <td>59</td>\n",
       "    </tr>\n",
       "    <tr>\n",
       "      <td>casos_nuevos</td>\n",
       "      <td>11</td>\n",
       "      <td>303</td>\n",
       "    </tr>\n",
       "    <tr>\n",
       "      <td>casos_total</td>\n",
       "      <td>56</td>\n",
       "      <td>8371</td>\n",
       "    </tr>\n",
       "    <tr>\n",
       "      <td>%mujer</td>\n",
       "      <td>NaN</td>\n",
       "      <td>49,1</td>\n",
       "    </tr>\n",
       "    <tr>\n",
       "      <td>%varon</td>\n",
       "      <td>NaN</td>\n",
       "      <td>50,9</td>\n",
       "    </tr>\n",
       "    <tr>\n",
       "      <td>mujer_total</td>\n",
       "      <td>NaN</td>\n",
       "      <td>4110</td>\n",
       "    </tr>\n",
       "    <tr>\n",
       "      <td>varon_total</td>\n",
       "      <td>NaN</td>\n",
       "      <td>4261</td>\n",
       "    </tr>\n",
       "    <tr>\n",
       "      <td>franja_etaria</td>\n",
       "      <td>NaN</td>\n",
       "      <td>20-59</td>\n",
       "    </tr>\n",
       "    <tr>\n",
       "      <td>edad_prom</td>\n",
       "      <td>NaN</td>\n",
       "      <td>39</td>\n",
       "    </tr>\n",
       "    <tr>\n",
       "      <td>importados_total</td>\n",
       "      <td>48</td>\n",
       "      <td>939</td>\n",
       "    </tr>\n",
       "    <tr>\n",
       "      <td>importados_nuevos</td>\n",
       "      <td>8</td>\n",
       "      <td>0</td>\n",
       "    </tr>\n",
       "    <tr>\n",
       "      <td>local_total</td>\n",
       "      <td>8</td>\n",
       "      <td>3718</td>\n",
       "    </tr>\n",
       "    <tr>\n",
       "      <td>local_nuevos</td>\n",
       "      <td>3</td>\n",
       "      <td>157</td>\n",
       "    </tr>\n",
       "    <tr>\n",
       "      <td>comunitario_total</td>\n",
       "      <td>0</td>\n",
       "      <td>2607</td>\n",
       "    </tr>\n",
       "    <tr>\n",
       "      <td>comunitario_nuevos</td>\n",
       "      <td>NaN</td>\n",
       "      <td>139</td>\n",
       "    </tr>\n",
       "    <tr>\n",
       "      <td>en_investigacion_total</td>\n",
       "      <td>0</td>\n",
       "      <td>1107</td>\n",
       "    </tr>\n",
       "    <tr>\n",
       "      <td>en_investigacion_nuevos</td>\n",
       "      <td>0</td>\n",
       "      <td>7</td>\n",
       "    </tr>\n",
       "    <tr>\n",
       "      <td>muertes_total</td>\n",
       "      <td>2</td>\n",
       "      <td>382</td>\n",
       "    </tr>\n",
       "    <tr>\n",
       "      <td>muertes_nuevos</td>\n",
       "      <td>0</td>\n",
       "      <td>9</td>\n",
       "    </tr>\n",
       "    <tr>\n",
       "      <td>alta_total</td>\n",
       "      <td>NaN</td>\n",
       "      <td>2872</td>\n",
       "    </tr>\n",
       "    <tr>\n",
       "      <td>alta_nuevos</td>\n",
       "      <td>NaN</td>\n",
       "      <td>247</td>\n",
       "    </tr>\n",
       "    <tr>\n",
       "      <td>alta_definitiva</td>\n",
       "      <td>NaN</td>\n",
       "      <td>NaN</td>\n",
       "    </tr>\n",
       "    <tr>\n",
       "      <td>descartados_total</td>\n",
       "      <td>NaN</td>\n",
       "      <td>82123</td>\n",
       "    </tr>\n",
       "    <tr>\n",
       "      <td>descartados_nuevos</td>\n",
       "      <td>NaN</td>\n",
       "      <td>2021</td>\n",
       "    </tr>\n",
       "    <tr>\n",
       "      <td>tests_realizados_total</td>\n",
       "      <td>NaN</td>\n",
       "      <td>108634</td>\n",
       "    </tr>\n",
       "    <tr>\n",
       "      <td>tests_realizados_nuevos</td>\n",
       "      <td>NaN</td>\n",
       "      <td>2805</td>\n",
       "    </tr>\n",
       "    <tr>\n",
       "      <td>test_por_millon_hab</td>\n",
       "      <td>NaN</td>\n",
       "      <td>2394</td>\n",
       "    </tr>\n",
       "    <tr>\n",
       "      <td>observaciones</td>\n",
       "      <td>NaN</td>\n",
       "      <td>NaN</td>\n",
       "    </tr>\n",
       "  </tbody>\n",
       "</table>\n",
       "</div>"
      ],
      "text/plain": [
       "                                          10                   74\n",
       "fecha                    2020-03-15 00:00:00  2020-05-18 00:00:00\n",
       "dia_cuarentena                           NaN                   59\n",
       "casos_nuevos                              11                  303\n",
       "casos_total                               56                 8371\n",
       "%mujer                                   NaN                 49,1\n",
       "%varon                                   NaN                 50,9\n",
       "mujer_total                              NaN                 4110\n",
       "varon_total                              NaN                 4261\n",
       "franja_etaria                            NaN                20-59\n",
       "edad_prom                                NaN                   39\n",
       "importados_total                          48                  939\n",
       "importados_nuevos                          8                    0\n",
       "local_total                                8                 3718\n",
       "local_nuevos                               3                  157\n",
       "comunitario_total                          0                 2607\n",
       "comunitario_nuevos                       NaN                  139\n",
       "en_investigacion_total                     0                 1107\n",
       "en_investigacion_nuevos                    0                    7\n",
       "muertes_total                              2                  382\n",
       "muertes_nuevos                             0                    9\n",
       "alta_total                               NaN                 2872\n",
       "alta_nuevos                              NaN                  247\n",
       "alta_definitiva                          NaN                  NaN\n",
       "descartados_total                        NaN                82123\n",
       "descartados_nuevos                       NaN                 2021\n",
       "tests_realizados_total                   NaN               108634\n",
       "tests_realizados_nuevos                  NaN                 2805\n",
       "test_por_millon_hab                      NaN                 2394\n",
       "observaciones                            NaN                  NaN"
      ]
     },
     "execution_count": 10,
     "metadata": {},
     "output_type": "execute_result"
    }
   ],
   "source": [
    "# Analizamos 2 muestras de filas, usamos transpose() para visualizar los datos con mayor comodidad\n",
    "data1.sample(2).transpose()"
   ]
  },
  {
   "cell_type": "code",
   "execution_count": 11,
   "metadata": {},
   "outputs": [],
   "source": [
    "# TO DO\n",
    "# ¿En qué día se dio hasta ahora el record de contagios? ¿Y de muertes?"
   ]
  },
  {
   "cell_type": "code",
   "execution_count": 12,
   "metadata": {},
   "outputs": [
    {
     "name": "stdout",
     "output_type": "stream",
     "text": [
      "Día con más contagios: 2020-06-26\n",
      "Día con más muertes: 2020-06-24\n"
     ]
    }
   ],
   "source": [
    "max_contagios_1 = data1.loc[data1['casos_nuevos'].idxmax()].fecha\n",
    "print('Día con más contagios: ' + str(max_contagios_1.date()))\n",
    "max_muertes_2 = data1.loc[data1['muertes_nuevos'].idxmax()].fecha\n",
    "print('Día con más muertes: ' + str(max_muertes_2.date()))"
   ]
  },
  {
   "cell_type": "code",
   "execution_count": 13,
   "metadata": {},
   "outputs": [],
   "source": [
    "# TO DO\n",
    "# Hacer una exploración similar de los otros dos conjuntos de datos"
   ]
  },
  {
   "cell_type": "markdown",
   "metadata": {},
   "source": [
    "### Dataset 2"
   ]
  },
  {
   "cell_type": "code",
   "execution_count": 14,
   "metadata": {},
   "outputs": [
    {
     "name": "stdout",
     "output_type": "stream",
     "text": [
      "Cantidad de registros:  2258\n",
      "Cantidad de columnas:  7\n"
     ]
    }
   ],
   "source": [
    "# Obtenemos la cantidad de filas y columnas\n",
    "print(\"Cantidad de registros: \", data2.shape[0])\n",
    "print(\"Cantidad de columnas: \", data2.shape[1])"
   ]
  },
  {
   "cell_type": "code",
   "execution_count": 15,
   "metadata": {},
   "outputs": [
    {
     "data": {
      "text/plain": [
       "fecha              object\n",
       "provincia          object\n",
       "casos_total         int64\n",
       "casos_nuevos        int64\n",
       "muertes_total     float64\n",
       "muertes_nuevos    float64\n",
       "observaciones      object\n",
       "dtype: object"
      ]
     },
     "execution_count": 15,
     "metadata": {},
     "output_type": "execute_result"
    }
   ],
   "source": [
    "data2.dtypes"
   ]
  },
  {
   "cell_type": "code",
   "execution_count": 16,
   "metadata": {},
   "outputs": [],
   "source": [
    "# Cambiamos el tipo de la columna 'fecha' de object a datetime\n",
    "data2['fecha'] = pd.to_datetime(data2['fecha'], format='%Y-%m-%d')"
   ]
  },
  {
   "cell_type": "code",
   "execution_count": 17,
   "metadata": {},
   "outputs": [
    {
     "data": {
      "text/html": [
       "<div>\n",
       "<style scoped>\n",
       "    .dataframe tbody tr th:only-of-type {\n",
       "        vertical-align: middle;\n",
       "    }\n",
       "\n",
       "    .dataframe tbody tr th {\n",
       "        vertical-align: top;\n",
       "    }\n",
       "\n",
       "    .dataframe thead th {\n",
       "        text-align: right;\n",
       "    }\n",
       "</style>\n",
       "<table border=\"1\" class=\"dataframe\">\n",
       "  <thead>\n",
       "    <tr style=\"text-align: right;\">\n",
       "      <th></th>\n",
       "      <th>1222</th>\n",
       "      <th>1188</th>\n",
       "    </tr>\n",
       "  </thead>\n",
       "  <tbody>\n",
       "    <tr>\n",
       "      <td>fecha</td>\n",
       "      <td>2020-05-12 00:00:00</td>\n",
       "      <td>2020-05-11 00:00:00</td>\n",
       "    </tr>\n",
       "    <tr>\n",
       "      <td>provincia</td>\n",
       "      <td>Salta</td>\n",
       "      <td>Chaco</td>\n",
       "    </tr>\n",
       "    <tr>\n",
       "      <td>casos_total</td>\n",
       "      <td>5</td>\n",
       "      <td>476</td>\n",
       "    </tr>\n",
       "    <tr>\n",
       "      <td>casos_nuevos</td>\n",
       "      <td>1</td>\n",
       "      <td>17</td>\n",
       "    </tr>\n",
       "    <tr>\n",
       "      <td>muertes_total</td>\n",
       "      <td>0</td>\n",
       "      <td>20</td>\n",
       "    </tr>\n",
       "    <tr>\n",
       "      <td>muertes_nuevos</td>\n",
       "      <td>0</td>\n",
       "      <td>1</td>\n",
       "    </tr>\n",
       "    <tr>\n",
       "      <td>observaciones</td>\n",
       "      <td>NaN</td>\n",
       "      <td>NaN</td>\n",
       "    </tr>\n",
       "  </tbody>\n",
       "</table>\n",
       "</div>"
      ],
      "text/plain": [
       "                               1222                 1188\n",
       "fecha           2020-05-12 00:00:00  2020-05-11 00:00:00\n",
       "provincia                     Salta                Chaco\n",
       "casos_total                       5                  476\n",
       "casos_nuevos                      1                   17\n",
       "muertes_total                     0                   20\n",
       "muertes_nuevos                    0                    1\n",
       "observaciones                   NaN                  NaN"
      ]
     },
     "execution_count": 17,
     "metadata": {},
     "output_type": "execute_result"
    }
   ],
   "source": [
    "# Analizamos 2 muestras de filas, usamos transpose() para visualizar los datos con mayor comodidad\n",
    "data2.sample(2).transpose()"
   ]
  },
  {
   "cell_type": "code",
   "execution_count": 18,
   "metadata": {},
   "outputs": [
    {
     "name": "stdout",
     "output_type": "stream",
     "text": [
      "Día con más contagios: 2020-06-26\n",
      "Día con más muertes: 2020-06-17\n"
     ]
    }
   ],
   "source": [
    "max_contagios_2 = data2.loc[data2['casos_nuevos'].idxmax()].fecha\n",
    "print('Día con más contagios: ' + str(max_contagios_2.date()))\n",
    "max_muertes_2 = data2.loc[data2['muertes_nuevos'].idxmax()].fecha\n",
    "print('Día con más muertes: ' + str(max_muertes_2.date()))"
   ]
  },
  {
   "cell_type": "markdown",
   "metadata": {},
   "source": [
    "### Dataset 3"
   ]
  },
  {
   "cell_type": "code",
   "execution_count": 19,
   "metadata": {},
   "outputs": [
    {
     "name": "stdout",
     "output_type": "stream",
     "text": [
      "Cantidad de registros:  1212\n",
      "Cantidad de columnas:  9\n"
     ]
    }
   ],
   "source": [
    "# Obtenemos la cantidad de filas y columnas\n",
    "print(\"Cantidad de registros: \", data3.shape[0])\n",
    "print(\"Cantidad de columnas: \", data3.shape[1])"
   ]
  },
  {
   "cell_type": "code",
   "execution_count": 20,
   "metadata": {},
   "outputs": [
    {
     "data": {
      "text/plain": [
       "fecha              object\n",
       "provincia          object\n",
       "num_caso            int64\n",
       "genero             object\n",
       "edad              float64\n",
       "tipo_caso          object\n",
       "comorbilidades     object\n",
       "viajes             object\n",
       "observaciones      object\n",
       "dtype: object"
      ]
     },
     "execution_count": 20,
     "metadata": {},
     "output_type": "execute_result"
    }
   ],
   "source": [
    "data3.dtypes"
   ]
  },
  {
   "cell_type": "code",
   "execution_count": 21,
   "metadata": {},
   "outputs": [],
   "source": [
    "# Cambiamos el tipo de la columna 'fecha' de object a datetime\n",
    "data3['fecha'] = pd.to_datetime(data3['fecha'], format='%Y-%m-%d')"
   ]
  },
  {
   "cell_type": "code",
   "execution_count": 22,
   "metadata": {},
   "outputs": [
    {
     "data": {
      "text/html": [
       "<div>\n",
       "<style scoped>\n",
       "    .dataframe tbody tr th:only-of-type {\n",
       "        vertical-align: middle;\n",
       "    }\n",
       "\n",
       "    .dataframe tbody tr th {\n",
       "        vertical-align: top;\n",
       "    }\n",
       "\n",
       "    .dataframe thead th {\n",
       "        text-align: right;\n",
       "    }\n",
       "</style>\n",
       "<table border=\"1\" class=\"dataframe\">\n",
       "  <thead>\n",
       "    <tr style=\"text-align: right;\">\n",
       "      <th></th>\n",
       "      <th>1003</th>\n",
       "      <th>776</th>\n",
       "    </tr>\n",
       "  </thead>\n",
       "  <tbody>\n",
       "    <tr>\n",
       "      <td>fecha</td>\n",
       "      <td>2020-06-21 00:00:00</td>\n",
       "      <td>2020-06-12 00:00:00</td>\n",
       "    </tr>\n",
       "    <tr>\n",
       "      <td>provincia</td>\n",
       "      <td>Río Negro</td>\n",
       "      <td>CABA</td>\n",
       "    </tr>\n",
       "    <tr>\n",
       "      <td>num_caso</td>\n",
       "      <td>1004</td>\n",
       "      <td>777</td>\n",
       "    </tr>\n",
       "    <tr>\n",
       "      <td>genero</td>\n",
       "      <td>hombre</td>\n",
       "      <td>mujer</td>\n",
       "    </tr>\n",
       "    <tr>\n",
       "      <td>edad</td>\n",
       "      <td>56</td>\n",
       "      <td>63</td>\n",
       "    </tr>\n",
       "    <tr>\n",
       "      <td>tipo_caso</td>\n",
       "      <td>NaN</td>\n",
       "      <td>NaN</td>\n",
       "    </tr>\n",
       "    <tr>\n",
       "      <td>comorbilidades</td>\n",
       "      <td>NaN</td>\n",
       "      <td>NaN</td>\n",
       "    </tr>\n",
       "    <tr>\n",
       "      <td>viajes</td>\n",
       "      <td>NaN</td>\n",
       "      <td>NaN</td>\n",
       "    </tr>\n",
       "    <tr>\n",
       "      <td>observaciones</td>\n",
       "      <td>NaN</td>\n",
       "      <td>NaN</td>\n",
       "    </tr>\n",
       "  </tbody>\n",
       "</table>\n",
       "</div>"
      ],
      "text/plain": [
       "                               1003                 776 \n",
       "fecha           2020-06-21 00:00:00  2020-06-12 00:00:00\n",
       "provincia                 Río Negro                 CABA\n",
       "num_caso                       1004                  777\n",
       "genero                       hombre                mujer\n",
       "edad                             56                   63\n",
       "tipo_caso                       NaN                  NaN\n",
       "comorbilidades                  NaN                  NaN\n",
       "viajes                          NaN                  NaN\n",
       "observaciones                   NaN                  NaN"
      ]
     },
     "execution_count": 22,
     "metadata": {},
     "output_type": "execute_result"
    }
   ],
   "source": [
    "# Analizamos 2 muestras de filas, usamos transpose() para visualizar los datos con mayor comodidad\n",
    "data3.sample(2).transpose()"
   ]
  },
  {
   "cell_type": "markdown",
   "metadata": {},
   "source": [
    "#### Tareas a realizar:\n",
    "\n",
    "*   Análisis estadístico de variables\n",
    "\n",
    "> Seleccionar un conjunto de al menos **cuatro** variables que les resulten de interés y:\n",
    "1.   Usar distintos tipos de gráficos para describir sus distribuciones\n",
    "2.   Analizar Outliers (si los hubiera)\n",
    "3.   Calcular estadísticos clásicos (media, mediana, moda, desviación estandar)\n",
    "\n",
    "* Evolución de variables en el tiempo\n",
    "\n",
    "> Seleccionar al menos **tres** variables y graficar como fueron cambiando desde el primer día hasta hoy.\n",
    "\n",
    "*   Análisis de probabilidades condicionales e independencia entre dos variables.\n",
    "\n",
    "> Con al menos **un** par de variables realizar un análisis de este tipo.\n",
    "\n",
    ">  Algunas ideas guía:\n",
    "1.   ¿Cuál es la probabilidad de que un infectado sea mujer (varón)?\n",
    "2.   ¿Cuál es la probabilidad de que un infectado sea de Córdoba (u otra provincia)?\n",
    "3.   Probabilidad de que un fallecido sea mujer (varón)\n",
    "4.   Probabilidad de que un fallecido sea mujer (varón) dado que está en la franja etaria 60-80 (u alguna otra).\n",
    "5.   Probabilidad de que un fallecido en la franja etaria 60-80 sea mujer (varón).\n",
    "6.   Probabilidad de que un fallecido sea de CABA dado que es mujer. Y viceversa, que sea mujer dado que es de CABA.\n",
    "7.   Probabilidad de que un fallecido en la franja etaria 30-60 sea de Chaco. (Quizás encontremos alguna correlación interesante entre edad y provincia).\n",
    "8.   ¿El género de un fallecido es independiente de la franja etaria?\n",
    "9.   ¿El género de un fallecido es independiente de la provincia?\n",
    "10.  ¿La franja etaria de un fallecido es independiente de la provincia?"
   ]
  },
  {
   "cell_type": "markdown",
   "metadata": {},
   "source": [
    "### Análisis estadístico de variables"
   ]
  },
  {
   "cell_type": "markdown",
   "metadata": {},
   "source": [
    "#### 1.   Usar distintos tipos de gráficos para describir sus distribuciones"
   ]
  },
  {
   "cell_type": "code",
   "execution_count": 23,
   "metadata": {},
   "outputs": [
    {
     "data": {
      "image/png": "[encoded data removed]",
      "text/plain": [
       "<Figure size 1728x1152 with 4 Axes>"
      ]
     },
     "metadata": {
      "needs_background": "light"
     },
     "output_type": "display_data"
    }
   ],
   "source": [
    "fig, axs = plt.subplots(2,2, figsize=(24, 16))  # para plotear un gráfico al lado del otro\n",
    "\n",
    "sns.distplot(data1['casos_nuevos'],kde=False, bins=50, label='Nuevos casos diarios', color='blue', ax=axs[0,0])\n",
    "sns.distplot(data1['muertes_nuevos'],kde=False, bins=38, label='Muertes diarias', color='green', ax=axs[0,1])\n",
    "\n",
    "for ax in axs[0]:\n",
    "    ax.title.set_fontsize(20)\n",
    "    ax.tick_params(axis=\"x\", labelsize=16)\n",
    "    ax.tick_params(axis=\"y\", labelsize=16)\n",
    "axs[0,0].set_xlabel('Nuevos casos diarios', fontsize = 20)\n",
    "axs[0,1].set_xlabel('Muertes diarias', fontsize = 20)\n",
    "\n",
    "data1.boxplot(column='casos_nuevos', ax=axs[1,0])\n",
    "data1.boxplot(column='muertes_nuevos', ax=axs[1,1])\n",
    "\n",
    "for ax in axs[1]:\n",
    "    ax.title.set_fontsize(20)\n",
    "    ax.tick_params(axis=\"x\", labelsize=16)\n",
    "    ax.tick_params(axis=\"y\", labelsize=16)"
   ]
  },
  {
   "cell_type": "code",
   "execution_count": 24,
   "metadata": {},
   "outputs": [],
   "source": [
    "muertes_mujeres = data3[data3['genero']=='mujer']\n",
    "muertes_varones = data3[data3['genero']=='hombre']"
   ]
  },
  {
   "cell_type": "code",
   "execution_count": 25,
   "metadata": {},
   "outputs": [
    {
     "name": "stderr",
     "output_type": "stream",
     "text": [
      "C:\\ProgramData\\Anaconda3\\lib\\site-packages\\numpy\\lib\\histograms.py:824: RuntimeWarning: invalid value encountered in greater_equal\n",
      "  keep = (tmp_a >= first_edge)\n",
      "C:\\ProgramData\\Anaconda3\\lib\\site-packages\\numpy\\lib\\histograms.py:825: RuntimeWarning: invalid value encountered in less_equal\n",
      "  keep &= (tmp_a <= last_edge)\n"
     ]
    },
    {
     "data": {
      "text/plain": [
       "Text(0.5, 0, 'Edad')"
      ]
     },
     "execution_count": 25,
     "metadata": {},
     "output_type": "execute_result"
    },
    {
     "data": {
      "image/png": "[encoded data removed]",
      "text/plain": [
       "<Figure size 1728x576 with 2 Axes>"
      ]
     },
     "metadata": {
      "needs_background": "light"
     },
     "output_type": "display_data"
    }
   ],
   "source": [
    "fig, axs = plt.subplots(ncols=2, figsize=(24, 8))  # para plotear un gráfico al lado del otro\n",
    "\n",
    "\n",
    "sns.distplot(muertes_mujeres['edad'],kde=False, bins=50, label='Mujeres', color='blue', ax=axs[0])\n",
    "sns.distplot(muertes_varones['edad'],kde=False, bins=38, label='Hombres', color='green', ax=axs[0])\n",
    "\n",
    "axs[0].tick_params(axis=\"x\", labelsize=16)\n",
    "axs[0].tick_params(axis=\"y\", labelsize=16)\n",
    "axs[0].set_xlabel('Edad', fontsize = 18)\n",
    "axs[0].legend(fontsize=18)\n",
    "axs[0].set_title('Muertes diarias',fontsize=20)\n",
    "\n",
    "data3.boxplot(column='edad',by='genero', rot=0, ax=axs[1]);\n",
    "\n",
    "axs[1].set_title('Edad',fontsize=20)\n",
    "axs[1].set_xlabel('Edad', fontsize = 18)"
   ]
  },
  {
   "cell_type": "markdown",
   "metadata": {},
   "source": [
    "#### 2.   Analizar Outliers (si los hubiera)"
   ]
  },
  {
   "cell_type": "code",
   "execution_count": 26,
   "metadata": {},
   "outputs": [],
   "source": [
    "outliers_casos_nuevos = data1[ data1.casos_nuevos > data1.casos_nuevos.mean() + 3*data1.casos_nuevos.std() ]\n",
    "outliers_muertes_nuevos = data1[ data1.muertes_nuevos > data1.muertes_nuevos.mean() + 3*data1.muertes_nuevos.std() ]\n",
    "outliers_muertes_mujeres =  muertes_mujeres[ muertes_mujeres.edad < muertes_mujeres.edad.mean() - 3*muertes_mujeres.edad.std() ]\n",
    "outliers_muertes_varones = muertes_varones[ muertes_varones.edad < muertes_varones.edad.mean() - 3*muertes_varones.edad.std() ]"
   ]
  },
  {
   "cell_type": "code",
   "execution_count": 27,
   "metadata": {},
   "outputs": [
    {
     "data": {
      "text/html": [
       "<div>\n",
       "<style scoped>\n",
       "    .dataframe tbody tr th:only-of-type {\n",
       "        vertical-align: middle;\n",
       "    }\n",
       "\n",
       "    .dataframe tbody tr th {\n",
       "        vertical-align: top;\n",
       "    }\n",
       "\n",
       "    .dataframe thead th {\n",
       "        text-align: right;\n",
       "    }\n",
       "</style>\n",
       "<table border=\"1\" class=\"dataframe\">\n",
       "  <thead>\n",
       "    <tr style=\"text-align: right;\">\n",
       "      <th></th>\n",
       "      <th>fecha</th>\n",
       "      <th>dia_cuarentena</th>\n",
       "      <th>casos_nuevos</th>\n",
       "      <th>casos_total</th>\n",
       "      <th>%mujer</th>\n",
       "      <th>%varon</th>\n",
       "      <th>mujer_total</th>\n",
       "      <th>varon_total</th>\n",
       "      <th>franja_etaria</th>\n",
       "      <th>edad_prom</th>\n",
       "      <th>...</th>\n",
       "      <th>muertes_nuevos</th>\n",
       "      <th>alta_total</th>\n",
       "      <th>alta_nuevos</th>\n",
       "      <th>alta_definitiva</th>\n",
       "      <th>descartados_total</th>\n",
       "      <th>descartados_nuevos</th>\n",
       "      <th>tests_realizados_total</th>\n",
       "      <th>tests_realizados_nuevos</th>\n",
       "      <th>test_por_millon_hab</th>\n",
       "      <th>observaciones</th>\n",
       "    </tr>\n",
       "  </thead>\n",
       "  <tbody>\n",
       "    <tr>\n",
       "      <td>111</td>\n",
       "      <td>2020-06-24</td>\n",
       "      <td>96.0</td>\n",
       "      <td>2635</td>\n",
       "      <td>49851</td>\n",
       "      <td>49,4</td>\n",
       "      <td>50,6</td>\n",
       "      <td>24626.0</td>\n",
       "      <td>25225.0</td>\n",
       "      <td>20-59</td>\n",
       "      <td>36.0</td>\n",
       "      <td>...</td>\n",
       "      <td>38</td>\n",
       "      <td>14788.0</td>\n",
       "      <td>NaN</td>\n",
       "      <td>NaN</td>\n",
       "      <td>208232.0</td>\n",
       "      <td>NaN</td>\n",
       "      <td>309601.0</td>\n",
       "      <td>9258.0</td>\n",
       "      <td>6822</td>\n",
       "      <td>NaN</td>\n",
       "    </tr>\n",
       "    <tr>\n",
       "      <td>112</td>\n",
       "      <td>2020-06-25</td>\n",
       "      <td>97.0</td>\n",
       "      <td>2606</td>\n",
       "      <td>52457</td>\n",
       "      <td>49,4</td>\n",
       "      <td>50,6</td>\n",
       "      <td>25914.0</td>\n",
       "      <td>26543.0</td>\n",
       "      <td>20-59</td>\n",
       "      <td>36.0</td>\n",
       "      <td>...</td>\n",
       "      <td>34</td>\n",
       "      <td>18416.0</td>\n",
       "      <td>NaN</td>\n",
       "      <td>NaN</td>\n",
       "      <td>213175.0</td>\n",
       "      <td>NaN</td>\n",
       "      <td>318721.0</td>\n",
       "      <td>9120.0</td>\n",
       "      <td>7023</td>\n",
       "      <td>NaN</td>\n",
       "    </tr>\n",
       "    <tr>\n",
       "      <td>113</td>\n",
       "      <td>2020-06-26</td>\n",
       "      <td>98.0</td>\n",
       "      <td>2886</td>\n",
       "      <td>55343</td>\n",
       "      <td>49,4</td>\n",
       "      <td>50,6</td>\n",
       "      <td>27339.0</td>\n",
       "      <td>28004.0</td>\n",
       "      <td>20-59</td>\n",
       "      <td>36.0</td>\n",
       "      <td>...</td>\n",
       "      <td>34</td>\n",
       "      <td>19143.0</td>\n",
       "      <td>NaN</td>\n",
       "      <td>NaN</td>\n",
       "      <td>218640.0</td>\n",
       "      <td>NaN</td>\n",
       "      <td>329036.0</td>\n",
       "      <td>10315.0</td>\n",
       "      <td>7251</td>\n",
       "      <td>Reporte vespertino 20-06-26 no fue publicado e...</td>\n",
       "    </tr>\n",
       "  </tbody>\n",
       "</table>\n",
       "<p>3 rows × 29 columns</p>\n",
       "</div>"
      ],
      "text/plain": [
       "         fecha  dia_cuarentena  casos_nuevos  casos_total %mujer %varon  \\\n",
       "111 2020-06-24            96.0          2635        49851   49,4   50,6   \n",
       "112 2020-06-25            97.0          2606        52457   49,4   50,6   \n",
       "113 2020-06-26            98.0          2886        55343   49,4   50,6   \n",
       "\n",
       "     mujer_total  varon_total franja_etaria  edad_prom  ...  muertes_nuevos  \\\n",
       "111      24626.0      25225.0         20-59       36.0  ...              38   \n",
       "112      25914.0      26543.0         20-59       36.0  ...              34   \n",
       "113      27339.0      28004.0         20-59       36.0  ...              34   \n",
       "\n",
       "     alta_total  alta_nuevos  alta_definitiva  descartados_total  \\\n",
       "111     14788.0          NaN              NaN           208232.0   \n",
       "112     18416.0          NaN              NaN           213175.0   \n",
       "113     19143.0          NaN              NaN           218640.0   \n",
       "\n",
       "     descartados_nuevos  tests_realizados_total  tests_realizados_nuevos  \\\n",
       "111                 NaN                309601.0                   9258.0   \n",
       "112                 NaN                318721.0                   9120.0   \n",
       "113                 NaN                329036.0                  10315.0   \n",
       "\n",
       "     test_por_millon_hab                                      observaciones  \n",
       "111                 6822                                                NaN  \n",
       "112                 7023                                                NaN  \n",
       "113                 7251  Reporte vespertino 20-06-26 no fue publicado e...  \n",
       "\n",
       "[3 rows x 29 columns]"
      ]
     },
     "execution_count": 27,
     "metadata": {},
     "output_type": "execute_result"
    }
   ],
   "source": [
    "outliers_casos_nuevos"
   ]
  },
  {
   "cell_type": "code",
   "execution_count": 28,
   "metadata": {},
   "outputs": [
    {
     "data": {
      "text/html": [
       "<div>\n",
       "<style scoped>\n",
       "    .dataframe tbody tr th:only-of-type {\n",
       "        vertical-align: middle;\n",
       "    }\n",
       "\n",
       "    .dataframe tbody tr th {\n",
       "        vertical-align: top;\n",
       "    }\n",
       "\n",
       "    .dataframe thead th {\n",
       "        text-align: right;\n",
       "    }\n",
       "</style>\n",
       "<table border=\"1\" class=\"dataframe\">\n",
       "  <thead>\n",
       "    <tr style=\"text-align: right;\">\n",
       "      <th></th>\n",
       "      <th>fecha</th>\n",
       "      <th>dia_cuarentena</th>\n",
       "      <th>casos_nuevos</th>\n",
       "      <th>casos_total</th>\n",
       "      <th>%mujer</th>\n",
       "      <th>%varon</th>\n",
       "      <th>mujer_total</th>\n",
       "      <th>varon_total</th>\n",
       "      <th>franja_etaria</th>\n",
       "      <th>edad_prom</th>\n",
       "      <th>...</th>\n",
       "      <th>muertes_nuevos</th>\n",
       "      <th>alta_total</th>\n",
       "      <th>alta_nuevos</th>\n",
       "      <th>alta_definitiva</th>\n",
       "      <th>descartados_total</th>\n",
       "      <th>descartados_nuevos</th>\n",
       "      <th>tests_realizados_total</th>\n",
       "      <th>tests_realizados_nuevos</th>\n",
       "      <th>test_por_millon_hab</th>\n",
       "      <th>observaciones</th>\n",
       "    </tr>\n",
       "  </thead>\n",
       "  <tbody>\n",
       "  </tbody>\n",
       "</table>\n",
       "<p>0 rows × 29 columns</p>\n",
       "</div>"
      ],
      "text/plain": [
       "Empty DataFrame\n",
       "Columns: [fecha, dia_cuarentena, casos_nuevos, casos_total, %mujer, %varon, mujer_total, varon_total, franja_etaria, edad_prom, importados_total, importados_nuevos, local_total, local_nuevos, comunitario_total, comunitario_nuevos, en_investigacion_total, en_investigacion_nuevos, muertes_total, muertes_nuevos, alta_total, alta_nuevos, alta_definitiva, descartados_total, descartados_nuevos, tests_realizados_total, tests_realizados_nuevos, test_por_millon_hab, observaciones]\n",
       "Index: []\n",
       "\n",
       "[0 rows x 29 columns]"
      ]
     },
     "execution_count": 28,
     "metadata": {},
     "output_type": "execute_result"
    }
   ],
   "source": [
    "outliers_muertes_nuevos"
   ]
  },
  {
   "cell_type": "code",
   "execution_count": 29,
   "metadata": {},
   "outputs": [
    {
     "data": {
      "text/html": [
       "<div>\n",
       "<style scoped>\n",
       "    .dataframe tbody tr th:only-of-type {\n",
       "        vertical-align: middle;\n",
       "    }\n",
       "\n",
       "    .dataframe tbody tr th {\n",
       "        vertical-align: top;\n",
       "    }\n",
       "\n",
       "    .dataframe thead th {\n",
       "        text-align: right;\n",
       "    }\n",
       "</style>\n",
       "<table border=\"1\" class=\"dataframe\">\n",
       "  <thead>\n",
       "    <tr style=\"text-align: right;\">\n",
       "      <th></th>\n",
       "      <th>fecha</th>\n",
       "      <th>provincia</th>\n",
       "      <th>num_caso</th>\n",
       "      <th>genero</th>\n",
       "      <th>edad</th>\n",
       "      <th>tipo_caso</th>\n",
       "      <th>comorbilidades</th>\n",
       "      <th>viajes</th>\n",
       "      <th>observaciones</th>\n",
       "    </tr>\n",
       "  </thead>\n",
       "  <tbody>\n",
       "    <tr>\n",
       "      <td>549</td>\n",
       "      <td>2020-06-01</td>\n",
       "      <td>Chaco</td>\n",
       "      <td>550</td>\n",
       "      <td>mujer</td>\n",
       "      <td>14.0</td>\n",
       "      <td>NaN</td>\n",
       "      <td>Enfermedad autoinmune</td>\n",
       "      <td>NaN</td>\n",
       "      <td>NaN</td>\n",
       "    </tr>\n",
       "    <tr>\n",
       "      <td>727</td>\n",
       "      <td>2020-06-10</td>\n",
       "      <td>Buenos Aires</td>\n",
       "      <td>728</td>\n",
       "      <td>mujer</td>\n",
       "      <td>7.0</td>\n",
       "      <td>NaN</td>\n",
       "      <td>Fibrosis quística</td>\n",
       "      <td>NaN</td>\n",
       "      <td>NaN</td>\n",
       "    </tr>\n",
       "    <tr>\n",
       "      <td>901</td>\n",
       "      <td>2020-06-17</td>\n",
       "      <td>Buenos Aires</td>\n",
       "      <td>902</td>\n",
       "      <td>mujer</td>\n",
       "      <td>25.0</td>\n",
       "      <td>NaN</td>\n",
       "      <td>NaN</td>\n",
       "      <td>NaN</td>\n",
       "      <td>NaN</td>\n",
       "    </tr>\n",
       "    <tr>\n",
       "      <td>1096</td>\n",
       "      <td>2020-06-24</td>\n",
       "      <td>Buenos Aires</td>\n",
       "      <td>1097</td>\n",
       "      <td>mujer</td>\n",
       "      <td>1.0</td>\n",
       "      <td>NaN</td>\n",
       "      <td>Enfermedad neurológica y EPOC con Oxígeno depe...</td>\n",
       "      <td>NaN</td>\n",
       "      <td>NaN</td>\n",
       "    </tr>\n",
       "    <tr>\n",
       "      <td>1100</td>\n",
       "      <td>2020-06-24</td>\n",
       "      <td>Buenos Aires</td>\n",
       "      <td>1101</td>\n",
       "      <td>mujer</td>\n",
       "      <td>6.0</td>\n",
       "      <td>NaN</td>\n",
       "      <td>Enfermedad oncológica</td>\n",
       "      <td>NaN</td>\n",
       "      <td>NaN</td>\n",
       "    </tr>\n",
       "  </tbody>\n",
       "</table>\n",
       "</div>"
      ],
      "text/plain": [
       "          fecha     provincia  num_caso genero  edad tipo_caso  \\\n",
       "549  2020-06-01         Chaco       550  mujer  14.0       NaN   \n",
       "727  2020-06-10  Buenos Aires       728  mujer   7.0       NaN   \n",
       "901  2020-06-17  Buenos Aires       902  mujer  25.0       NaN   \n",
       "1096 2020-06-24  Buenos Aires      1097  mujer   1.0       NaN   \n",
       "1100 2020-06-24  Buenos Aires      1101  mujer   6.0       NaN   \n",
       "\n",
       "                                         comorbilidades viajes observaciones  \n",
       "549                               Enfermedad autoinmune    NaN           NaN  \n",
       "727                                   Fibrosis quística    NaN           NaN  \n",
       "901                                                 NaN    NaN           NaN  \n",
       "1096  Enfermedad neurológica y EPOC con Oxígeno depe...    NaN           NaN  \n",
       "1100                              Enfermedad oncológica    NaN           NaN  "
      ]
     },
     "execution_count": 29,
     "metadata": {},
     "output_type": "execute_result"
    }
   ],
   "source": [
    "outliers_muertes_mujeres"
   ]
  },
  {
   "cell_type": "code",
   "execution_count": 30,
   "metadata": {},
   "outputs": [
    {
     "data": {
      "text/html": [
       "<div>\n",
       "<style scoped>\n",
       "    .dataframe tbody tr th:only-of-type {\n",
       "        vertical-align: middle;\n",
       "    }\n",
       "\n",
       "    .dataframe tbody tr th {\n",
       "        vertical-align: top;\n",
       "    }\n",
       "\n",
       "    .dataframe thead th {\n",
       "        text-align: right;\n",
       "    }\n",
       "</style>\n",
       "<table border=\"1\" class=\"dataframe\">\n",
       "  <thead>\n",
       "    <tr style=\"text-align: right;\">\n",
       "      <th></th>\n",
       "      <th>fecha</th>\n",
       "      <th>provincia</th>\n",
       "      <th>num_caso</th>\n",
       "      <th>genero</th>\n",
       "      <th>edad</th>\n",
       "      <th>tipo_caso</th>\n",
       "      <th>comorbilidades</th>\n",
       "      <th>viajes</th>\n",
       "      <th>observaciones</th>\n",
       "    </tr>\n",
       "  </thead>\n",
       "  <tbody>\n",
       "    <tr>\n",
       "      <td>405</td>\n",
       "      <td>2020-05-21</td>\n",
       "      <td>Buenos Aires</td>\n",
       "      <td>406</td>\n",
       "      <td>hombre</td>\n",
       "      <td>19.0</td>\n",
       "      <td>NaN</td>\n",
       "      <td>NaN</td>\n",
       "      <td>NaN</td>\n",
       "      <td>NaN</td>\n",
       "    </tr>\n",
       "    <tr>\n",
       "      <td>788</td>\n",
       "      <td>2020-06-13</td>\n",
       "      <td>Buenos Aires</td>\n",
       "      <td>789</td>\n",
       "      <td>hombre</td>\n",
       "      <td>14.0</td>\n",
       "      <td>NaN</td>\n",
       "      <td>NaN</td>\n",
       "      <td>NaN</td>\n",
       "      <td>NaN</td>\n",
       "    </tr>\n",
       "  </tbody>\n",
       "</table>\n",
       "</div>"
      ],
      "text/plain": [
       "         fecha     provincia  num_caso  genero  edad tipo_caso comorbilidades  \\\n",
       "405 2020-05-21  Buenos Aires       406  hombre  19.0       NaN            NaN   \n",
       "788 2020-06-13  Buenos Aires       789  hombre  14.0       NaN            NaN   \n",
       "\n",
       "    viajes observaciones  \n",
       "405    NaN           NaN  \n",
       "788    NaN           NaN  "
      ]
     },
     "execution_count": 30,
     "metadata": {},
     "output_type": "execute_result"
    }
   ],
   "source": [
    "outliers_muertes_varones"
   ]
  },
  {
   "cell_type": "markdown",
   "metadata": {},
   "source": [
    "#### 3. Calcular estadísticos clásicos (media, mediana, moda, desviación estandar)"
   ]
  },
  {
   "cell_type": "code",
   "execution_count": 31,
   "metadata": {},
   "outputs": [],
   "source": [
    "from scipy import stats"
   ]
  },
  {
   "cell_type": "code",
   "execution_count": 32,
   "metadata": {},
   "outputs": [
    {
     "data": {
      "text/html": [
       "<div>\n",
       "<style scoped>\n",
       "    .dataframe tbody tr th:only-of-type {\n",
       "        vertical-align: middle;\n",
       "    }\n",
       "\n",
       "    .dataframe tbody tr th {\n",
       "        vertical-align: top;\n",
       "    }\n",
       "\n",
       "    .dataframe thead th {\n",
       "        text-align: right;\n",
       "    }\n",
       "</style>\n",
       "<table border=\"1\" class=\"dataframe\">\n",
       "  <thead>\n",
       "    <tr style=\"text-align: right;\">\n",
       "      <th></th>\n",
       "      <th>Variable</th>\n",
       "      <th>media</th>\n",
       "      <th>SD</th>\n",
       "      <th>mediana</th>\n",
       "      <th>moda</th>\n",
       "      <th>outliers</th>\n",
       "    </tr>\n",
       "  </thead>\n",
       "  <tbody>\n",
       "    <tr>\n",
       "      <td>0</td>\n",
       "      <td>casos nuevos diarios</td>\n",
       "      <td>502.182609</td>\n",
       "      <td>664.904133</td>\n",
       "      <td>158.0</td>\n",
       "      <td>88.0</td>\n",
       "      <td>3</td>\n",
       "    </tr>\n",
       "    <tr>\n",
       "      <td>1</td>\n",
       "      <td>muertes diarias</td>\n",
       "      <td>10.469565</td>\n",
       "      <td>9.715359</td>\n",
       "      <td>8.0</td>\n",
       "      <td>0.0</td>\n",
       "      <td>0</td>\n",
       "    </tr>\n",
       "    <tr>\n",
       "      <td>2</td>\n",
       "      <td>edad de muerte de mujeres</td>\n",
       "      <td>75.776181</td>\n",
       "      <td>15.881272</td>\n",
       "      <td>79.0</td>\n",
       "      <td>88.0</td>\n",
       "      <td>5</td>\n",
       "    </tr>\n",
       "    <tr>\n",
       "      <td>3</td>\n",
       "      <td>edad de muerte de hombes</td>\n",
       "      <td>68.907010</td>\n",
       "      <td>15.054073</td>\n",
       "      <td>70.0</td>\n",
       "      <td>68.0</td>\n",
       "      <td>2</td>\n",
       "    </tr>\n",
       "  </tbody>\n",
       "</table>\n",
       "</div>"
      ],
      "text/plain": [
       "                    Variable       media          SD  mediana  moda  outliers\n",
       "0       casos nuevos diarios  502.182609  664.904133    158.0  88.0         3\n",
       "1            muertes diarias   10.469565    9.715359      8.0   0.0         0\n",
       "2  edad de muerte de mujeres   75.776181   15.881272     79.0  88.0         5\n",
       "3   edad de muerte de hombes   68.907010   15.054073     70.0  68.0         2"
      ]
     },
     "execution_count": 32,
     "metadata": {},
     "output_type": "execute_result"
    }
   ],
   "source": [
    "datos = []\n",
    "\n",
    "datos.append({\n",
    "    'Variable' : 'casos nuevos diarios',\n",
    "    'media' : np.nanmean(data1['casos_nuevos']),\n",
    "    'SD' : np.nanstd(data1['casos_nuevos']),\n",
    "    'mediana' : np.nanmedian(data1['casos_nuevos']),\n",
    "    'moda' : stats.mode(data1['casos_nuevos'])[0][0], \n",
    "    'outliers' : len(outliers_casos_nuevos),\n",
    "})\n",
    "\n",
    "datos.append({\n",
    "    'Variable' : 'muertes diarias',\n",
    "    'media' : np.nanmean(data1['muertes_nuevos']),\n",
    "    'SD' : np.nanstd(data1['muertes_nuevos']),\n",
    "    'mediana' : np.nanmedian(data1['muertes_nuevos']),\n",
    "    'moda' : stats.mode(data1['muertes_nuevos'])[0][0], \n",
    "    'outliers' : len(outliers_muertes_nuevos),\n",
    "})\n",
    "\n",
    "datos.append({\n",
    "    'Variable' : 'edad de muerte de mujeres',\n",
    "    'media' : np.nanmean(muertes_mujeres['edad']),\n",
    "    'SD' : np.nanstd(muertes_mujeres['edad']),\n",
    "    'mediana' : np.nanmedian(muertes_mujeres['edad']),\n",
    "    'moda' : stats.mode(muertes_mujeres['edad'])[0][0],\n",
    "    'outliers' :len(outliers_muertes_mujeres)\n",
    "})\n",
    "\n",
    "datos.append({\n",
    "    'Variable' : 'edad de muerte de hombes',\n",
    "    'media' : np.nanmean(muertes_varones['edad']),\n",
    "    'SD' : np.nanstd(muertes_varones['edad']),\n",
    "    'mediana' : np.nanmedian(muertes_varones['edad']),\n",
    "    'moda' : stats.mode(muertes_varones['edad'])[0][0],\n",
    "    'outliers' :len(outliers_muertes_varones)\n",
    "})\n",
    "\n",
    "datos = pd.DataFrame(datos)\n",
    "datos"
   ]
  },
  {
   "cell_type": "markdown",
   "metadata": {},
   "source": [
    "### Evolución de variables en el tiempo"
   ]
  },
  {
   "cell_type": "code",
   "execution_count": 33,
   "metadata": {},
   "outputs": [],
   "source": [
    "def time_plot(x, y, title, ylabel, y2=None, label1='', label2='', filename=None):\n",
    "\n",
    "    fig, ax = plt.subplots(figsize=(10, 5))\n",
    "\n",
    "    if y2 is not None:\n",
    "        ax.plot(x, y, '-o', label=label1)\n",
    "        ax.plot(x, y2, '-s', label=label2)\n",
    "    else:\n",
    "        ax.plot(x, y, '-o')\n",
    "        \n",
    "    ax.set_title(title, fontsize=20)\n",
    "    ax.set_xlabel('Día', fontsize=15)\n",
    "    ax.set_ylabel(ylabel, fontsize=15)\n",
    "\n",
    "    ax.set_xticks(x[::4])\n",
    "    ax.set_xticklabels(x[::4])\n",
    "\n",
    "    plt.setp(ax.xaxis.get_majorticklabels(), rotation=45)\n",
    "    plt.legend(loc='best')\n",
    "    plt.grid()\n",
    "\n",
    "    plt.tight_layout()\n",
    "    \n",
    "    if filename is not None: \n",
    "        plt.savefig(filename)\n",
    "    \n",
    "    plt.show()"
   ]
  },
  {
   "cell_type": "code",
   "execution_count": 34,
   "metadata": {},
   "outputs": [],
   "source": [
    "fechas = (data1['fecha'].dt.day).astype(str) +'/'+ (data1['fecha'].dt.month).astype(str)"
   ]
  },
  {
   "cell_type": "markdown",
   "metadata": {},
   "source": [
    "- ##### Variable: muertes_nuevos"
   ]
  },
  {
   "cell_type": "code",
   "execution_count": 35,
   "metadata": {},
   "outputs": [],
   "source": [
    "casos_nuevos = data1['casos_nuevos']"
   ]
  },
  {
   "cell_type": "code",
   "execution_count": 36,
   "metadata": {},
   "outputs": [
    {
     "name": "stderr",
     "output_type": "stream",
     "text": [
      "No handles with labels found to put in legend.\n"
     ]
    },
    {
     "data": {
      "image/png": "[encoded data removed]",
      "text/plain": [
       "<Figure size 720x360 with 1 Axes>"
      ]
     },
     "metadata": {
      "needs_background": "light"
     },
     "output_type": "display_data"
    }
   ],
   "source": [
    "time_plot(fechas, casos_nuevos, title='', ylabel='Casos Nuevos')"
   ]
  },
  {
   "cell_type": "markdown",
   "metadata": {},
   "source": [
    "- #### Variable: casos_total"
   ]
  },
  {
   "cell_type": "code",
   "execution_count": 37,
   "metadata": {},
   "outputs": [],
   "source": [
    "casos_total = data1['casos_total']"
   ]
  },
  {
   "cell_type": "code",
   "execution_count": 38,
   "metadata": {},
   "outputs": [
    {
     "name": "stderr",
     "output_type": "stream",
     "text": [
      "No handles with labels found to put in legend.\n"
     ]
    },
    {
     "data": {
      "image/png": "[encoded data removed]",
      "text/plain": [
       "<Figure size 720x360 with 1 Axes>"
      ]
     },
     "metadata": {
      "needs_background": "light"
     },
     "output_type": "display_data"
    }
   ],
   "source": [
    "time_plot(fechas, casos_total, title='', ylabel='Casos Total')"
   ]
  },
  {
   "cell_type": "markdown",
   "metadata": {},
   "source": [
    "- ##### Variable: muertes_nuevos"
   ]
  },
  {
   "cell_type": "code",
   "execution_count": 39,
   "metadata": {},
   "outputs": [],
   "source": [
    "muertes_nuevos = data1['muertes_nuevos']"
   ]
  },
  {
   "cell_type": "code",
   "execution_count": 40,
   "metadata": {},
   "outputs": [
    {
     "name": "stderr",
     "output_type": "stream",
     "text": [
      "No handles with labels found to put in legend.\n"
     ]
    },
    {
     "data": {
      "image/png": "[encoded data removed]",
      "text/plain": [
       "<Figure size 720x360 with 1 Axes>"
      ]
     },
     "metadata": {
      "needs_background": "light"
     },
     "output_type": "display_data"
    }
   ],
   "source": [
    "time_plot(fechas, muertes_nuevos, title='', ylabel='Muertes Nuevos')"
   ]
  },
  {
   "cell_type": "markdown",
   "metadata": {},
   "source": [
    "- ##### Variable: muertes_total"
   ]
  },
  {
   "cell_type": "code",
   "execution_count": 41,
   "metadata": {},
   "outputs": [],
   "source": [
    "muertes_total = data1['muertes_total']"
   ]
  },
  {
   "cell_type": "code",
   "execution_count": 42,
   "metadata": {},
   "outputs": [
    {
     "name": "stderr",
     "output_type": "stream",
     "text": [
      "No handles with labels found to put in legend.\n"
     ]
    },
    {
     "data": {
      "image/png": "[encoded data removed]",
      "text/plain": [
       "<Figure size 720x360 with 1 Axes>"
      ]
     },
     "metadata": {
      "needs_background": "light"
     },
     "output_type": "display_data"
    }
   ],
   "source": [
    "time_plot(fechas, muertes_total, title='', ylabel='Muertes Total')"
   ]
  },
  {
   "cell_type": "markdown",
   "metadata": {},
   "source": [
    " ### Análisis de probabilidades condicionales e independencia entre dos variables."
   ]
  },
  {
   "cell_type": "markdown",
   "metadata": {},
   "source": [
    "1.   ¿Cuál es la probabilidad de que un infectado sea mujer (varón)?"
   ]
  },
  {
   "cell_type": "code",
   "execution_count": 43,
   "metadata": {},
   "outputs": [
    {
     "name": "stdout",
     "output_type": "stream",
     "text": [
      "Probabilidad de que un infectado sea mujer: 0.494 .Porcentaje de mujeres infectadas: 49,4%\n",
      "Probabilidad de que un infectado sea varón: 0.506 .Porcentaje de varones infectados: 50,6%\n"
     ]
    }
   ],
   "source": [
    "prob_mujer = int(data1.iloc[-1]['mujer_total']) / int(data1.iloc[-1]['casos_total'])\n",
    "porc_mujer = data1.iloc[-1]['%mujer']\n",
    "print('Probabilidad de que un infectado sea mujer: ' + str(round(prob_mujer, 3)) + ' .Porcentaje de mujeres infectadas: ' + str(porc_mujer) + '%')\n",
    "\n",
    "prob_varon = int(data1.iloc[-1]['varon_total']) / int(data1.iloc[-1]['casos_total'])\n",
    "porc_varon = data1.iloc[-1]['%varon']\n",
    "print('Probabilidad de que un infectado sea varón: ' + str(round(prob_varon, 3)) + ' .Porcentaje de varones infectados: ' + str(porc_varon) + '%')"
   ]
  },
  {
   "cell_type": "markdown",
   "metadata": {},
   "source": [
    "2.   ¿Cuál es la probabilidad de que un infectado sea de Córdoba (u otra provincia)?"
   ]
  },
  {
   "cell_type": "code",
   "execution_count": 44,
   "metadata": {},
   "outputs": [],
   "source": [
    "def prob_provincia(nombre_provincia):\n",
    "    casos_provincia = data2[data2.provincia == nombre_provincia].iloc[-1].casos_total\n",
    "    casos_totales = data1.iloc[-1].casos_total\n",
    "    return casos_provincia / casos_totales"
   ]
  },
  {
   "cell_type": "code",
   "execution_count": 45,
   "metadata": {
    "scrolled": true
   },
   "outputs": [
    {
     "name": "stdout",
     "output_type": "stream",
     "text": [
      "Probabilidad de que un infectado sea de Buenos Aires: 0.481\n",
      "Probabilidad de que un infectado sea de CABA: 0.425\n",
      "Probabilidad de que un infectado sea de Chaco: 0.033\n",
      "Probabilidad de que un infectado sea de Chubut: 0.002\n",
      "Probabilidad de que un infectado sea de Corrientes: 0.002\n",
      "Probabilidad de que un infectado sea de Córdoba: 0.011\n",
      "Probabilidad de que un infectado sea de Entre Ríos: 0.004\n",
      "Probabilidad de que un infectado sea de Formosa: 0.001\n",
      "Probabilidad de que un infectado sea de Jujuy: 0.001\n",
      "Probabilidad de que un infectado sea de La Pampa: 0.0\n",
      "Probabilidad de que un infectado sea de La Rioja: 0.001\n",
      "Probabilidad de que un infectado sea de Mendoza: 0.003\n",
      "Probabilidad de que un infectado sea de Misiones: 0.001\n",
      "Probabilidad de que un infectado sea de Neuquén: 0.007\n",
      "Probabilidad de que un infectado sea de Río Negro: 0.014\n",
      "Probabilidad de que un infectado sea de Salta: 0.0\n",
      "Probabilidad de que un infectado sea de San Juan: 0.0\n",
      "Probabilidad de que un infectado sea de San Luis: 0.0\n",
      "Probabilidad de que un infectado sea de Santa Cruz: 0.001\n",
      "Probabilidad de que un infectado sea de Santa Fe: 0.007\n",
      "Probabilidad de que un infectado sea de Santiago del Estero: 0.0\n",
      "Probabilidad de que un infectado sea de Tierra del Fuego: 0.003\n",
      "Probabilidad de que un infectado sea de Tucumán: 0.001\n"
     ]
    }
   ],
   "source": [
    "provincias = sorted(data2.provincia.unique())\n",
    "for provincia in provincias:\n",
    "    prob = prob_provincia(provincia)\n",
    "    print('Probabilidad de que un infectado sea de ' + provincia + ': '+ str(round(prob, 3)))"
   ]
  },
  {
   "cell_type": "markdown",
   "metadata": {},
   "source": [
    "3.   Probabilidad de que un fallecido sea mujer (varón)"
   ]
  },
  {
   "cell_type": "code",
   "execution_count": 46,
   "metadata": {},
   "outputs": [
    {
     "name": "stdout",
     "output_type": "stream",
     "text": [
      "Probabilidades de que un fallecido sea mujer u hombre: \n",
      "\n",
      "P(mujer)  =  0.41008403361344536\n",
      "P(hombre) =  0.5899159663865546\n"
     ]
    }
   ],
   "source": [
    "mujeres  = len(data3[data3['genero']=='mujer'])\n",
    "varones  = len(data3[data3['genero']=='hombre'])\n",
    "total    = len(data3)\n",
    "\n",
    "if ( total != mujeres + varones ):\n",
    "    #print('Error en la suma', data3['genero'].isna().sum())\n",
    "    #print('\\n\\n')\n",
    "    if ( total == data3['genero'].isna().sum() + mujeres + varones ):\n",
    "        total = mujeres + varones\n",
    "\n",
    "print( 'Probabilidades de que un fallecido sea mujer u hombre: \\n' )\n",
    "print( 'P(mujer)  = ', float(mujeres)/float(total) )\n",
    "print( 'P(hombre) = ', float(varones)/float(total) )"
   ]
  },
  {
   "cell_type": "markdown",
   "metadata": {},
   "source": [
    "4.   Probabilidad de que un fallecido sea mujer (varón) dado que está en la franja etaria 60-80 (u alguna otra)."
   ]
  },
  {
   "cell_type": "code",
   "execution_count": 47,
   "metadata": {},
   "outputs": [
    {
     "name": "stdout",
     "output_type": "stream",
     "text": [
      "*Probabilidades de que un fallecido sea mujer u hombre, dado que se encontraban en \n",
      " la franja etaria entre 60 y 80 años: \n",
      "\n",
      "P(mujer | 60<edad<80)  =  0.358\n",
      "P(hombre | 60<edad<80) =  0.642\n",
      "\n",
      "\n",
      "*Probabilidades de que un fallecido sea mujer u hombre, y que se encontraban en \n",
      " la franja etaria entre 60 y 80 años: \n",
      "\n",
      "P(60<edad<80) =  0.451 \n",
      "\n",
      "P(mujer,60<edad<80)  =  0.161\n",
      "P(hombre,60<edad<80) =  0.29\n"
     ]
    }
   ],
   "source": [
    "df = data3[ data3['edad'] >= 60 ]\n",
    "df = df[ df['edad'] <= 80 ]\n",
    "mujeres_60_80  = len(df[df['genero']=='mujer'])\n",
    "varones_60_80  = len(df[df['genero']=='hombre'])\n",
    "total_60_80    = mujeres_60_80 + varones_60_80\n",
    "\n",
    "print( '*Probabilidades de que un fallecido sea mujer u hombre, dado que se encontraban en \\n la franja etaria entre 60 y 80 años: \\n' )\n",
    "print( 'P(mujer | 60<edad<80)  = ', round(float(mujeres_60_80)/float(total_60_80), 3))\n",
    "print( 'P(hombre | 60<edad<80) = ', round(float(varones_60_80)/float(total_60_80), 3 ))\n",
    "\n",
    "print( '\\n' )\n",
    "print( '*Probabilidades de que un fallecido sea mujer u hombre, y que se encontraban en \\n la franja etaria entre 60 y 80 años: \\n' )\n",
    "print( 'P(60<edad<80) = ', round(float(total_60_80)/float(total), 3), '\\n' )\n",
    "print( 'P(mujer,60<edad<80)  = ', round(float(mujeres_60_80)/float(total), 3))\n",
    "print( 'P(hombre,60<edad<80) = ', round(float(varones_60_80)/float(total), 3 ))"
   ]
  },
  {
   "cell_type": "markdown",
   "metadata": {},
   "source": [
    "5. Probabilidad de que un fallecido en la franja etaria 60-80 sea mujer (varón)."
   ]
  },
  {
   "cell_type": "code",
   "execution_count": 48,
   "metadata": {},
   "outputs": [
    {
     "name": "stdout",
     "output_type": "stream",
     "text": [
      "Probabilidad de que sea mujer de entre 60 y 80 años: 0.358\n"
     ]
    }
   ],
   "source": [
    "# Probabilidad de que sea mujer de entre 60 y 80 años\n",
    "prob_fallec_mujer_60_80 = len(data3[(data3.genero == 'mujer') & ((data3.edad >= 60) & (data3.edad <= 80))]) / len(data3[(data3.edad >= 60) & (data3.edad <= 80)])\n",
    "print(\"Probabilidad de que sea mujer de entre 60 y 80 años: \" + str(round(prob_fallec_mujer_60_80, 3)))"
   ]
  },
  {
   "cell_type": "code",
   "execution_count": 49,
   "metadata": {},
   "outputs": [
    {
     "name": "stdout",
     "output_type": "stream",
     "text": [
      "Probabilidad de que sea hombre de entre 60 y 80 años: 0.642\n"
     ]
    }
   ],
   "source": [
    "# Probabilidad de que sea hombre de entre 60 y 80 años\n",
    "prob_fallec_hombre_60_80 = len(data3[(data3.genero == 'hombre') & ((data3.edad >= 60) & (data3.edad <= 80))]) / len(data3[(data3.edad >= 60) & (data3.edad <= 80)])\n",
    "print(\"Probabilidad de que sea hombre de entre 60 y 80 años: \" + str(round(prob_fallec_hombre_60_80, 3)))"
   ]
  },
  {
   "cell_type": "markdown",
   "metadata": {},
   "source": [
    "6.   Probabilidad de que un fallecido sea de CABA dado que es mujer. Y viceversa, que sea mujer dado que es de CABA."
   ]
  },
  {
   "cell_type": "code",
   "execution_count": 50,
   "metadata": {},
   "outputs": [
    {
     "name": "stdout",
     "output_type": "stream",
     "text": [
      "Probabilidad de que sea de CABA dado que es mujer: 0.402\n"
     ]
    }
   ],
   "source": [
    "# Probabilidad de que sea de CABA dado que es mujer\n",
    "prob_fallec_CABA_mujer = len(data3[(data3.provincia == 'CABA') & (data3.genero == 'mujer')]) / len(data3[data3.genero == 'mujer'])\n",
    "print(\"Probabilidad de que sea de CABA dado que es mujer: \" + str(round(prob_fallec_CABA_mujer, 3)))"
   ]
  },
  {
   "cell_type": "code",
   "execution_count": 51,
   "metadata": {},
   "outputs": [
    {
     "name": "stdout",
     "output_type": "stream",
     "text": [
      "Probabilidad de que sea mujer dado que es de CABA: 0.431\n"
     ]
    }
   ],
   "source": [
    "# Probabilidad de que sea mujer dado que es de CABA\n",
    "prob_fallec_mujer_CABA = len(data3[(data3.genero == 'mujer') & (data3.provincia == 'CABA')]) / len(data3[data3.provincia == 'CABA'])\n",
    "print(\"Probabilidad de que sea mujer dado que es de CABA: \" + str(round(prob_fallec_mujer_CABA, 3)))"
   ]
  },
  {
   "cell_type": "markdown",
   "metadata": {},
   "source": [
    "7.   Probabilidad de que un fallecido en la franja etaria 30-60 sea de Chaco. (Quizás encontremos alguna correlación interesante entre edad y provincia)."
   ]
  },
  {
   "cell_type": "code",
   "execution_count": 52,
   "metadata": {},
   "outputs": [
    {
     "name": "stdout",
     "output_type": "stream",
     "text": [
      "Probabilidad de que sea de Chaco y tenga entre 30 y 60 años: 0.14\n"
     ]
    }
   ],
   "source": [
    "# Probabilidad de que sea de Chaco y tenga entre 30 y 60 años\n",
    "prob_CHACO_30_60 = len(data3[(data3.provincia == 'Chaco') & ((data3.edad >= 30) & (data3.edad <= 60))]) / len(data3[(data3.edad >= 30) & (data3.edad <= 60)])\n",
    "print(\"Probabilidad de que sea de Chaco y tenga entre 30 y 60 años: \" + str(round(prob_CHACO_30_60, 3)))"
   ]
  },
  {
   "cell_type": "code",
   "execution_count": 53,
   "metadata": {},
   "outputs": [
    {
     "name": "stdout",
     "output_type": "stream",
     "text": [
      "Probabilidad de que tenga entre 30 y 60 años dado que es de Chaco: 0.4\n"
     ]
    }
   ],
   "source": [
    "# Probabilidad de que tenga entre 30 y 60 años dado que es de Chaco\n",
    "prob_30_60_CHACO = len(data3[((data3.edad >= 30) & (data3.edad <= 60)) & (data3.provincia == 'Chaco')]) / len(data3[(data3.provincia == 'Chaco')])\n",
    "print(\"Probabilidad de que tenga entre 30 y 60 años dado que es de Chaco: \" + str(round(prob_30_60_CHACO, 3)))"
   ]
  },
  {
   "cell_type": "markdown",
   "metadata": {},
   "source": [
    "8.   ¿El género de un fallecido es independiente de la franja etaria?"
   ]
  },
  {
   "cell_type": "markdown",
   "metadata": {},
   "source": [
    "En este caso para verificar la independencia, comprobamos si cumple el siguiente criterio: $P(A|B) = P(A)$.\n",
    "\n",
    "En nuestro caso P(A|B) es igual a prob_fallec_mujer_60_80 (Probabilidad de que la fallecida sea mujer de entre 60 y 80 años) y P(A) es la probabilidad de que sea mujer "
   ]
  },
  {
   "cell_type": "code",
   "execution_count": 54,
   "metadata": {},
   "outputs": [
    {
     "data": {
      "text/plain": [
       "False"
      ]
     },
     "execution_count": 54,
     "metadata": {},
     "output_type": "execute_result"
    }
   ],
   "source": [
    "prob_fallec_mujer_60_80 == prob_mujer"
   ]
  },
  {
   "cell_type": "code",
   "execution_count": 55,
   "metadata": {},
   "outputs": [
    {
     "data": {
      "text/plain": [
       "False"
      ]
     },
     "execution_count": 55,
     "metadata": {},
     "output_type": "execute_result"
    }
   ],
   "source": [
    "prob_fallec_hombre_60_80 == prob_varon"
   ]
  },
  {
   "cell_type": "markdown",
   "metadata": {},
   "source": [
    "Comprobamos que no son independientes ya que no se cumple el criterio definido. Realizamos el mismo análisis para los varones y determinamos que tampoco se cumple el criterio. Podemos afirmar que el género de un fallecido no es independiente de la franja etaria."
   ]
  },
  {
   "cell_type": "markdown",
   "metadata": {},
   "source": [
    "9.   ¿El género de un fallecido es independiente de la provincia?"
   ]
  },
  {
   "cell_type": "markdown",
   "metadata": {},
   "source": [
    "En este caso para verificar la independencia, comprobamos si cumple el siguiente criterio: $P(A\\cap B) = P(A)*P(B)$.\n",
    "\n",
    "Dónde  𝑃(𝐴∩𝐵) es PROB_CHACO_MUJER (Probabilidad de que sea del Chaco dado que es del Mujer), y P(A) es probabilidad que sea del Chaco y P(B) probabilidad que sea mujer."
   ]
  },
  {
   "cell_type": "code",
   "execution_count": 56,
   "metadata": {},
   "outputs": [],
   "source": [
    "PROB_CHACO = len(data3[(data3.provincia == 'Chaco')]) / len(data3)"
   ]
  },
  {
   "cell_type": "code",
   "execution_count": 57,
   "metadata": {},
   "outputs": [],
   "source": [
    "PROB_CHACO_MUJER = len(data3[((data3.provincia == 'Chaco') & (data3.genero == 'mujer'))]) / len(data3[(data3.genero == 'mujer')])"
   ]
  },
  {
   "cell_type": "code",
   "execution_count": 63,
   "metadata": {},
   "outputs": [
    {
     "data": {
      "text/plain": [
       "False"
      ]
     },
     "execution_count": 63,
     "metadata": {},
     "output_type": "execute_result"
    }
   ],
   "source": [
    "PROB_CHACO_MUJER == PROB_CHACO * prob_mujer"
   ]
  },
  {
   "cell_type": "markdown",
   "metadata": {},
   "source": [
    "Comprobamos que no son independientes ya que no se cumple el criterio definido."
   ]
  },
  {
   "cell_type": "markdown",
   "metadata": {},
   "source": [
    "10.  ¿La franja etaria de un fallecido es independiente de la provincia?"
   ]
  },
  {
   "cell_type": "markdown",
   "metadata": {},
   "source": [
    "En este caso para verificar la independencia, comprobamos si cumple el siguiente criterio: $P(A\\cap B) = P(A)*P(B)$.\n",
    "\n",
    "Dónde  𝑃(𝐴∩𝐵) es prob_CHACO_30_60 (Probabilidad de que sea de Chaco y tenga entre 30 y 60 años), y P(A) es probabilidad que sea del Chaco y P(B) probabilidad que tenga entre 30 y 60 años."
   ]
  },
  {
   "cell_type": "code",
   "execution_count": 59,
   "metadata": {},
   "outputs": [],
   "source": [
    "prob_30_60 = len(data3[((data3.edad >= 30) & (data3.edad <= 60))]) / len(data3)"
   ]
  },
  {
   "cell_type": "code",
   "execution_count": 62,
   "metadata": {},
   "outputs": [
    {
     "data": {
      "text/plain": [
       "False"
      ]
     },
     "execution_count": 62,
     "metadata": {},
     "output_type": "execute_result"
    }
   ],
   "source": [
    "prob_CHACO_30_60 ==  PROB_CHACO * prob_30_60"
   ]
  },
  {
   "cell_type": "markdown",
   "metadata": {},
   "source": [
    "Comprobamos que no son independientes ya que no se cumple el criterio definido."
   ]
  }
 ],
 "metadata": {
  "kernelspec": {
   "display_name": "Python 3",
   "language": "python",
   "name": "python3"
  },
  "language_info": {
   "codemirror_mode": {
    "name": "ipython",
    "version": 3
   },
   "file_extension": ".py",
   "mimetype": "text/x-python",
   "name": "python",
   "nbconvert_exporter": "python",
   "pygments_lexer": "ipython3",
   "version": "3.7.4"
  }
 },
 "nbformat": 4,
 "nbformat_minor": 4
}
