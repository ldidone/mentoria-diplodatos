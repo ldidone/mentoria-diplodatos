{
 "cells": [
  {
   "cell_type": "markdown",
   "metadata": {},
   "source": [
    "## Experimentación - Predicción\n",
    "- Se intentará predecir el valor de la variable 'fallecido', la cual contiene 2 valores (0 -> no fallece, 1 --> fallece)\n",
    "\n",
    "- La variable surge a partir de la variable clasificacion_resumen (del dataset Casos COVID-19 provisto por el Ministerio de Salud de Argentina) luego de realizar el proceso de limpieza y pre-procesado disponible en el Notebook Limpieza_Preprocesado_Covid19Casos.ipynb"
   ]
  },
  {
   "cell_type": "code",
   "execution_count": 1,
   "metadata": {},
   "outputs": [
    {
     "data": {
      "text/html": [
       "<style>.container { width:90% !important; }</style>"
      ],
      "text/plain": [
       "<IPython.core.display.HTML object>"
      ]
     },
     "metadata": {},
     "output_type": "display_data"
    }
   ],
   "source": [
    "### Aumentar el ancho del notebook\n",
    "from IPython.core.display import display, HTML\n",
    "display(HTML(\"<style>.container { width:90% !important; }</style>\"))"
   ]
  },
  {
   "cell_type": "code",
   "execution_count": 2,
   "metadata": {},
   "outputs": [],
   "source": [
    "# Importamos librerías necesarias\n",
    "\n",
    "import pandas as pd\n",
    "import numpy as np\n",
    "import matplotlib.pyplot as plt"
   ]
  },
  {
   "cell_type": "markdown",
   "metadata": {},
   "source": [
    "### Levantamos el Dataset\n",
    "- Previo a realizar este paso es necesario ejecutar el Notebook: Limpieza_Preprocesado_Covid19Casos.ipynb"
   ]
  },
  {
   "cell_type": "code",
   "execution_count": 3,
   "metadata": {},
   "outputs": [],
   "source": [
    "PATH = \"./data/\"\n",
    "FILE_NAME = 'covid19_limpio.csv'\n",
    "FULL_NAME = PATH + FILE_NAME"
   ]
  },
  {
   "cell_type": "code",
   "execution_count": 4,
   "metadata": {},
   "outputs": [],
   "source": [
    "df = pd.read_csv(FULL_NAME)"
   ]
  },
  {
   "cell_type": "code",
   "execution_count": 5,
   "metadata": {},
   "outputs": [],
   "source": [
    "dataset = df.copy(deep=True)"
   ]
  },
  {
   "cell_type": "code",
   "execution_count": 6,
   "metadata": {},
   "outputs": [
    {
     "data": {
      "text/html": [
       "<div>\n",
       "<style scoped>\n",
       "    .dataframe tbody tr th:only-of-type {\n",
       "        vertical-align: middle;\n",
       "    }\n",
       "\n",
       "    .dataframe tbody tr th {\n",
       "        vertical-align: top;\n",
       "    }\n",
       "\n",
       "    .dataframe thead th {\n",
       "        text-align: right;\n",
       "    }\n",
       "</style>\n",
       "<table border=\"1\" class=\"dataframe\">\n",
       "  <thead>\n",
       "    <tr style=\"text-align: right;\">\n",
       "      <th></th>\n",
       "      <th>edad</th>\n",
       "      <th>sepi_apertura</th>\n",
       "      <th>cuidado_intensivo</th>\n",
       "      <th>fallecido</th>\n",
       "      <th>asistencia_respiratoria_mecanica</th>\n",
       "      <th>financiamiento_publico</th>\n",
       "      <th>sexo_f</th>\n",
       "      <th>sexo_m</th>\n",
       "      <th>sexo_nr</th>\n",
       "      <th>pcia_rec_eq_pcia_car</th>\n",
       "      <th>...</th>\n",
       "      <th>residencia_provincia_rio_negro</th>\n",
       "      <th>residencia_provincia_salta</th>\n",
       "      <th>residencia_provincia_san_juan</th>\n",
       "      <th>residencia_provincia_san_luis</th>\n",
       "      <th>residencia_provincia_santa_cruz</th>\n",
       "      <th>residencia_provincia_santa_fe</th>\n",
       "      <th>residencia_provincia_santiago_del_estero</th>\n",
       "      <th>residencia_provincia_tierra_del_fuego</th>\n",
       "      <th>residencia_provincia_tucuman</th>\n",
       "      <th>fecha_di_dif_fecha_ap</th>\n",
       "    </tr>\n",
       "  </thead>\n",
       "  <tbody>\n",
       "    <tr>\n",
       "      <th>4</th>\n",
       "      <td>26</td>\n",
       "      <td>23</td>\n",
       "      <td>0</td>\n",
       "      <td>0</td>\n",
       "      <td>0</td>\n",
       "      <td>1</td>\n",
       "      <td>0</td>\n",
       "      <td>1</td>\n",
       "      <td>0</td>\n",
       "      <td>1</td>\n",
       "      <td>...</td>\n",
       "      <td>0</td>\n",
       "      <td>0</td>\n",
       "      <td>0</td>\n",
       "      <td>0</td>\n",
       "      <td>0</td>\n",
       "      <td>0</td>\n",
       "      <td>0</td>\n",
       "      <td>0</td>\n",
       "      <td>0</td>\n",
       "      <td>24</td>\n",
       "    </tr>\n",
       "    <tr>\n",
       "      <th>7</th>\n",
       "      <td>7</td>\n",
       "      <td>23</td>\n",
       "      <td>0</td>\n",
       "      <td>0</td>\n",
       "      <td>0</td>\n",
       "      <td>1</td>\n",
       "      <td>0</td>\n",
       "      <td>1</td>\n",
       "      <td>0</td>\n",
       "      <td>1</td>\n",
       "      <td>...</td>\n",
       "      <td>0</td>\n",
       "      <td>0</td>\n",
       "      <td>0</td>\n",
       "      <td>0</td>\n",
       "      <td>0</td>\n",
       "      <td>0</td>\n",
       "      <td>0</td>\n",
       "      <td>0</td>\n",
       "      <td>0</td>\n",
       "      <td>0</td>\n",
       "    </tr>\n",
       "    <tr>\n",
       "      <th>11</th>\n",
       "      <td>29</td>\n",
       "      <td>23</td>\n",
       "      <td>0</td>\n",
       "      <td>0</td>\n",
       "      <td>0</td>\n",
       "      <td>0</td>\n",
       "      <td>1</td>\n",
       "      <td>0</td>\n",
       "      <td>0</td>\n",
       "      <td>0</td>\n",
       "      <td>...</td>\n",
       "      <td>0</td>\n",
       "      <td>0</td>\n",
       "      <td>0</td>\n",
       "      <td>0</td>\n",
       "      <td>0</td>\n",
       "      <td>0</td>\n",
       "      <td>0</td>\n",
       "      <td>0</td>\n",
       "      <td>0</td>\n",
       "      <td>0</td>\n",
       "    </tr>\n",
       "    <tr>\n",
       "      <th>17</th>\n",
       "      <td>61</td>\n",
       "      <td>23</td>\n",
       "      <td>0</td>\n",
       "      <td>0</td>\n",
       "      <td>0</td>\n",
       "      <td>1</td>\n",
       "      <td>0</td>\n",
       "      <td>1</td>\n",
       "      <td>0</td>\n",
       "      <td>1</td>\n",
       "      <td>...</td>\n",
       "      <td>0</td>\n",
       "      <td>0</td>\n",
       "      <td>0</td>\n",
       "      <td>0</td>\n",
       "      <td>0</td>\n",
       "      <td>0</td>\n",
       "      <td>0</td>\n",
       "      <td>0</td>\n",
       "      <td>0</td>\n",
       "      <td>0</td>\n",
       "    </tr>\n",
       "    <tr>\n",
       "      <th>18</th>\n",
       "      <td>22</td>\n",
       "      <td>23</td>\n",
       "      <td>0</td>\n",
       "      <td>0</td>\n",
       "      <td>0</td>\n",
       "      <td>1</td>\n",
       "      <td>0</td>\n",
       "      <td>1</td>\n",
       "      <td>0</td>\n",
       "      <td>1</td>\n",
       "      <td>...</td>\n",
       "      <td>0</td>\n",
       "      <td>0</td>\n",
       "      <td>0</td>\n",
       "      <td>0</td>\n",
       "      <td>0</td>\n",
       "      <td>0</td>\n",
       "      <td>0</td>\n",
       "      <td>0</td>\n",
       "      <td>0</td>\n",
       "      <td>0</td>\n",
       "    </tr>\n",
       "    <tr>\n",
       "      <th>...</th>\n",
       "      <td>...</td>\n",
       "      <td>...</td>\n",
       "      <td>...</td>\n",
       "      <td>...</td>\n",
       "      <td>...</td>\n",
       "      <td>...</td>\n",
       "      <td>...</td>\n",
       "      <td>...</td>\n",
       "      <td>...</td>\n",
       "      <td>...</td>\n",
       "      <td>...</td>\n",
       "      <td>...</td>\n",
       "      <td>...</td>\n",
       "      <td>...</td>\n",
       "      <td>...</td>\n",
       "      <td>...</td>\n",
       "      <td>...</td>\n",
       "      <td>...</td>\n",
       "      <td>...</td>\n",
       "      <td>...</td>\n",
       "      <td>...</td>\n",
       "    </tr>\n",
       "    <tr>\n",
       "      <th>1784807</th>\n",
       "      <td>73</td>\n",
       "      <td>23</td>\n",
       "      <td>1</td>\n",
       "      <td>0</td>\n",
       "      <td>0</td>\n",
       "      <td>0</td>\n",
       "      <td>0</td>\n",
       "      <td>1</td>\n",
       "      <td>0</td>\n",
       "      <td>1</td>\n",
       "      <td>...</td>\n",
       "      <td>0</td>\n",
       "      <td>0</td>\n",
       "      <td>0</td>\n",
       "      <td>0</td>\n",
       "      <td>0</td>\n",
       "      <td>0</td>\n",
       "      <td>0</td>\n",
       "      <td>0</td>\n",
       "      <td>0</td>\n",
       "      <td>17</td>\n",
       "    </tr>\n",
       "    <tr>\n",
       "      <th>1784808</th>\n",
       "      <td>40</td>\n",
       "      <td>23</td>\n",
       "      <td>0</td>\n",
       "      <td>0</td>\n",
       "      <td>0</td>\n",
       "      <td>1</td>\n",
       "      <td>1</td>\n",
       "      <td>0</td>\n",
       "      <td>0</td>\n",
       "      <td>0</td>\n",
       "      <td>...</td>\n",
       "      <td>0</td>\n",
       "      <td>0</td>\n",
       "      <td>0</td>\n",
       "      <td>0</td>\n",
       "      <td>0</td>\n",
       "      <td>0</td>\n",
       "      <td>0</td>\n",
       "      <td>0</td>\n",
       "      <td>0</td>\n",
       "      <td>120</td>\n",
       "    </tr>\n",
       "    <tr>\n",
       "      <th>1784810</th>\n",
       "      <td>50</td>\n",
       "      <td>23</td>\n",
       "      <td>0</td>\n",
       "      <td>0</td>\n",
       "      <td>0</td>\n",
       "      <td>0</td>\n",
       "      <td>1</td>\n",
       "      <td>0</td>\n",
       "      <td>0</td>\n",
       "      <td>1</td>\n",
       "      <td>...</td>\n",
       "      <td>0</td>\n",
       "      <td>0</td>\n",
       "      <td>0</td>\n",
       "      <td>0</td>\n",
       "      <td>0</td>\n",
       "      <td>0</td>\n",
       "      <td>0</td>\n",
       "      <td>0</td>\n",
       "      <td>0</td>\n",
       "      <td>0</td>\n",
       "    </tr>\n",
       "    <tr>\n",
       "      <th>1784812</th>\n",
       "      <td>37</td>\n",
       "      <td>23</td>\n",
       "      <td>0</td>\n",
       "      <td>0</td>\n",
       "      <td>0</td>\n",
       "      <td>0</td>\n",
       "      <td>1</td>\n",
       "      <td>0</td>\n",
       "      <td>0</td>\n",
       "      <td>1</td>\n",
       "      <td>...</td>\n",
       "      <td>0</td>\n",
       "      <td>0</td>\n",
       "      <td>0</td>\n",
       "      <td>0</td>\n",
       "      <td>0</td>\n",
       "      <td>0</td>\n",
       "      <td>0</td>\n",
       "      <td>0</td>\n",
       "      <td>0</td>\n",
       "      <td>12</td>\n",
       "    </tr>\n",
       "    <tr>\n",
       "      <th>1784814</th>\n",
       "      <td>34</td>\n",
       "      <td>23</td>\n",
       "      <td>0</td>\n",
       "      <td>0</td>\n",
       "      <td>0</td>\n",
       "      <td>1</td>\n",
       "      <td>0</td>\n",
       "      <td>1</td>\n",
       "      <td>0</td>\n",
       "      <td>1</td>\n",
       "      <td>...</td>\n",
       "      <td>0</td>\n",
       "      <td>0</td>\n",
       "      <td>0</td>\n",
       "      <td>0</td>\n",
       "      <td>0</td>\n",
       "      <td>0</td>\n",
       "      <td>0</td>\n",
       "      <td>0</td>\n",
       "      <td>0</td>\n",
       "      <td>11</td>\n",
       "    </tr>\n",
       "  </tbody>\n",
       "</table>\n",
       "<p>757017 rows × 35 columns</p>\n",
       "</div>"
      ],
      "text/plain": [
       "         edad  sepi_apertura  cuidado_intensivo  fallecido  \\\n",
       "4          26             23                  0          0   \n",
       "7           7             23                  0          0   \n",
       "11         29             23                  0          0   \n",
       "17         61             23                  0          0   \n",
       "18         22             23                  0          0   \n",
       "...       ...            ...                ...        ...   \n",
       "1784807    73             23                  1          0   \n",
       "1784808    40             23                  0          0   \n",
       "1784810    50             23                  0          0   \n",
       "1784812    37             23                  0          0   \n",
       "1784814    34             23                  0          0   \n",
       "\n",
       "         asistencia_respiratoria_mecanica  financiamiento_publico  sexo_f  \\\n",
       "4                                       0                       1       0   \n",
       "7                                       0                       1       0   \n",
       "11                                      0                       0       1   \n",
       "17                                      0                       1       0   \n",
       "18                                      0                       1       0   \n",
       "...                                   ...                     ...     ...   \n",
       "1784807                                 0                       0       0   \n",
       "1784808                                 0                       1       1   \n",
       "1784810                                 0                       0       1   \n",
       "1784812                                 0                       0       1   \n",
       "1784814                                 0                       1       0   \n",
       "\n",
       "         sexo_m  sexo_nr  pcia_rec_eq_pcia_car  ...  \\\n",
       "4             1        0                     1  ...   \n",
       "7             1        0                     1  ...   \n",
       "11            0        0                     0  ...   \n",
       "17            1        0                     1  ...   \n",
       "18            1        0                     1  ...   \n",
       "...         ...      ...                   ...  ...   \n",
       "1784807       1        0                     1  ...   \n",
       "1784808       0        0                     0  ...   \n",
       "1784810       0        0                     1  ...   \n",
       "1784812       0        0                     1  ...   \n",
       "1784814       1        0                     1  ...   \n",
       "\n",
       "         residencia_provincia_rio_negro  residencia_provincia_salta  \\\n",
       "4                                     0                           0   \n",
       "7                                     0                           0   \n",
       "11                                    0                           0   \n",
       "17                                    0                           0   \n",
       "18                                    0                           0   \n",
       "...                                 ...                         ...   \n",
       "1784807                               0                           0   \n",
       "1784808                               0                           0   \n",
       "1784810                               0                           0   \n",
       "1784812                               0                           0   \n",
       "1784814                               0                           0   \n",
       "\n",
       "         residencia_provincia_san_juan  residencia_provincia_san_luis  \\\n",
       "4                                    0                              0   \n",
       "7                                    0                              0   \n",
       "11                                   0                              0   \n",
       "17                                   0                              0   \n",
       "18                                   0                              0   \n",
       "...                                ...                            ...   \n",
       "1784807                              0                              0   \n",
       "1784808                              0                              0   \n",
       "1784810                              0                              0   \n",
       "1784812                              0                              0   \n",
       "1784814                              0                              0   \n",
       "\n",
       "         residencia_provincia_santa_cruz  residencia_provincia_santa_fe  \\\n",
       "4                                      0                              0   \n",
       "7                                      0                              0   \n",
       "11                                     0                              0   \n",
       "17                                     0                              0   \n",
       "18                                     0                              0   \n",
       "...                                  ...                            ...   \n",
       "1784807                                0                              0   \n",
       "1784808                                0                              0   \n",
       "1784810                                0                              0   \n",
       "1784812                                0                              0   \n",
       "1784814                                0                              0   \n",
       "\n",
       "         residencia_provincia_santiago_del_estero  \\\n",
       "4                                               0   \n",
       "7                                               0   \n",
       "11                                              0   \n",
       "17                                              0   \n",
       "18                                              0   \n",
       "...                                           ...   \n",
       "1784807                                         0   \n",
       "1784808                                         0   \n",
       "1784810                                         0   \n",
       "1784812                                         0   \n",
       "1784814                                         0   \n",
       "\n",
       "         residencia_provincia_tierra_del_fuego  residencia_provincia_tucuman  \\\n",
       "4                                            0                             0   \n",
       "7                                            0                             0   \n",
       "11                                           0                             0   \n",
       "17                                           0                             0   \n",
       "18                                           0                             0   \n",
       "...                                        ...                           ...   \n",
       "1784807                                      0                             0   \n",
       "1784808                                      0                             0   \n",
       "1784810                                      0                             0   \n",
       "1784812                                      0                             0   \n",
       "1784814                                      0                             0   \n",
       "\n",
       "         fecha_di_dif_fecha_ap  \n",
       "4                           24  \n",
       "7                            0  \n",
       "11                           0  \n",
       "17                           0  \n",
       "18                           0  \n",
       "...                        ...  \n",
       "1784807                     17  \n",
       "1784808                    120  \n",
       "1784810                      0  \n",
       "1784812                     12  \n",
       "1784814                     11  \n",
       "\n",
       "[757017 rows x 35 columns]"
      ]
     },
     "execution_count": 6,
     "metadata": {},
     "output_type": "execute_result"
    }
   ],
   "source": [
    "dataset.drop(dataset[dataset.covid_19_confirmado == 0].index, inplace=True)\n",
    "dataset.drop(['covid_19_confirmado'], axis=1, inplace=True)\n",
    "dataset"
   ]
  },
  {
   "cell_type": "code",
   "execution_count": 7,
   "metadata": {},
   "outputs": [],
   "source": [
    "# Limpiamos nulos por si los hay\n",
    "dataset = dataset.dropna()"
   ]
  },
  {
   "cell_type": "code",
   "execution_count": 8,
   "metadata": {},
   "outputs": [],
   "source": [
    "dataset = dataset.convert_dtypes()"
   ]
  },
  {
   "cell_type": "code",
   "execution_count": 9,
   "metadata": {},
   "outputs": [],
   "source": [
    "dataset['fallecido'] = dataset['fallecido'].astype(str)"
   ]
  },
  {
   "cell_type": "markdown",
   "metadata": {},
   "source": [
    "## Variable target: fallecido"
   ]
  },
  {
   "cell_type": "code",
   "execution_count": 10,
   "metadata": {},
   "outputs": [
    {
     "name": "stdout",
     "output_type": "stream",
     "text": [
      "0    732767\n",
      "1     24250\n",
      "Name: fallecido, dtype: int64\n"
     ]
    },
    {
     "data": {
      "text/plain": [
       "<matplotlib.axes._subplots.AxesSubplot at 0x21293f0d390>"
      ]
     },
     "execution_count": 10,
     "metadata": {},
     "output_type": "execute_result"
    },
    {
     "data": {
      "image/png": "[encoded data removed]",
      "text/plain": [
       "<Figure size 576x576 with 1 Axes>"
      ]
     },
     "metadata": {},
     "output_type": "display_data"
    }
   ],
   "source": [
    "print(dataset.fallecido.value_counts())\n",
    "dataset.fallecido.value_counts().plot.pie(autopct='%1.0f%%', figsize=(8, 8))"
   ]
  },
  {
   "cell_type": "markdown",
   "metadata": {},
   "source": [
    "### Referencias\n",
    "- 0: no fallece \n",
    "- 1: fallece "
   ]
  },
  {
   "cell_type": "markdown",
   "metadata": {},
   "source": [
    "### Separar los conjuntos de train y test"
   ]
  },
  {
   "cell_type": "code",
   "execution_count": 11,
   "metadata": {},
   "outputs": [],
   "source": [
    "from sklearn.model_selection import train_test_split"
   ]
  },
  {
   "cell_type": "code",
   "execution_count": 12,
   "metadata": {},
   "outputs": [
    {
     "data": {
      "text/plain": [
       "['edad',\n",
       " 'sepi_apertura',\n",
       " 'cuidado_intensivo',\n",
       " 'asistencia_respiratoria_mecanica',\n",
       " 'financiamiento_publico',\n",
       " 'sexo_f',\n",
       " 'sexo_m',\n",
       " 'sexo_nr',\n",
       " 'pcia_rec_eq_pcia_car',\n",
       " 'residencia_provincia_buenos_aires',\n",
       " 'residencia_provincia_caba',\n",
       " 'residencia_provincia_catamarca',\n",
       " 'residencia_provincia_chaco',\n",
       " 'residencia_provincia_chubut',\n",
       " 'residencia_provincia_Corrientes',\n",
       " 'residencia_provincia_cordoba',\n",
       " 'residencia_provincia_entre_rios',\n",
       " 'residencia_provincia_formosa',\n",
       " 'residencia_provincia_jujuy',\n",
       " 'residencia_provincia_la_pampa',\n",
       " 'residencia_provincia_la_rioja',\n",
       " 'residencia_provincia_mendoza',\n",
       " 'residencia_provincia_misiones',\n",
       " 'residencia_provincia_neuquen',\n",
       " 'residencia_provincia_rio_negro',\n",
       " 'residencia_provincia_salta',\n",
       " 'residencia_provincia_san_juan',\n",
       " 'residencia_provincia_san_luis',\n",
       " 'residencia_provincia_santa_cruz',\n",
       " 'residencia_provincia_santa_fe',\n",
       " 'residencia_provincia_santiago_del_estero',\n",
       " 'residencia_provincia_tierra_del_fuego',\n",
       " 'residencia_provincia_tucuman',\n",
       " 'fecha_di_dif_fecha_ap']"
      ]
     },
     "execution_count": 12,
     "metadata": {},
     "output_type": "execute_result"
    }
   ],
   "source": [
    "feature_names = list(dataset.columns)\n",
    "feature_names.remove('fallecido')\n",
    "feature_names"
   ]
  },
  {
   "cell_type": "code",
   "execution_count": 13,
   "metadata": {},
   "outputs": [],
   "source": [
    "X = dataset[feature_names]\n",
    "y = dataset['fallecido']"
   ]
  },
  {
   "cell_type": "code",
   "execution_count": 14,
   "metadata": {},
   "outputs": [
    {
     "data": {
      "text/plain": [
       "((757017, 34), (757017,))"
      ]
     },
     "execution_count": 14,
     "metadata": {},
     "output_type": "execute_result"
    }
   ],
   "source": [
    "X.shape, y.shape"
   ]
  },
  {
   "cell_type": "markdown",
   "metadata": {},
   "source": [
    "#### Train - Test"
   ]
  },
  {
   "cell_type": "code",
   "execution_count": 15,
   "metadata": {},
   "outputs": [],
   "source": [
    "X_train, X_test, y_train, y_test = train_test_split(X, y, train_size=0.8, random_state=0)"
   ]
  },
  {
   "cell_type": "code",
   "execution_count": 16,
   "metadata": {},
   "outputs": [
    {
     "data": {
      "text/plain": [
       "((605613, 34), (151404, 34), (605613,), (151404,))"
      ]
     },
     "execution_count": 16,
     "metadata": {},
     "output_type": "execute_result"
    }
   ],
   "source": [
    "X_train.shape, X_test.shape, y_train.shape, y_test.shape"
   ]
  },
  {
   "cell_type": "markdown",
   "metadata": {},
   "source": [
    "## Modelado"
   ]
  },
  {
   "cell_type": "code",
   "execution_count": 17,
   "metadata": {},
   "outputs": [],
   "source": [
    "from sklearn import ensemble"
   ]
  },
  {
   "cell_type": "code",
   "execution_count": 18,
   "metadata": {},
   "outputs": [
    {
     "data": {
      "text/plain": [
       "RandomForestClassifier(random_state=2)"
      ]
     },
     "execution_count": 18,
     "metadata": {},
     "output_type": "execute_result"
    }
   ],
   "source": [
    "clf = ensemble.RandomForestClassifier(random_state=2)\n",
    "clf.fit(X_train, y_train)"
   ]
  },
  {
   "cell_type": "markdown",
   "metadata": {},
   "source": [
    "## Evaluación"
   ]
  },
  {
   "cell_type": "code",
   "execution_count": 19,
   "metadata": {},
   "outputs": [],
   "source": [
    "y_pred_train = clf.predict(X_train)\n",
    "y_pred_test = clf.predict(X_test)"
   ]
  },
  {
   "cell_type": "markdown",
   "metadata": {},
   "source": [
    "### Acuracy"
   ]
  },
  {
   "cell_type": "code",
   "execution_count": 20,
   "metadata": {},
   "outputs": [
    {
     "name": "stdout",
     "output_type": "stream",
     "text": [
      "Accuracy Train: 98 \n"
     ]
    }
   ],
   "source": [
    "print ('Accuracy Train: %d ' % ((np.sum(y_train == y_pred_train))/float(y_train.size)*100))"
   ]
  },
  {
   "cell_type": "code",
   "execution_count": 21,
   "metadata": {},
   "outputs": [
    {
     "name": "stdout",
     "output_type": "stream",
     "text": [
      "Accuracy Test: 96 \n"
     ]
    }
   ],
   "source": [
    "print ('Accuracy Test: %d ' % ((np.sum(y_test == y_pred_test))/float(y_test.size)*100))"
   ]
  },
  {
   "cell_type": "markdown",
   "metadata": {},
   "source": [
    "### Precision"
   ]
  },
  {
   "cell_type": "code",
   "execution_count": 22,
   "metadata": {},
   "outputs": [
    {
     "name": "stdout",
     "output_type": "stream",
     "text": [
      "Precision train: 0.9864750905682458\n",
      "Precision test: 0.9636189336173616\n"
     ]
    }
   ],
   "source": [
    "from sklearn.metrics import precision_score\n",
    "\n",
    "precision_train = precision_score(y_train, y_pred_train, average='weighted')\n",
    "precision_test = precision_score(y_test, y_pred_test, average='weighted')\n",
    "\n",
    "print('Precision train: ' + str(precision_train))\n",
    "print('Precision test: ' + str(precision_test))"
   ]
  },
  {
   "cell_type": "markdown",
   "metadata": {},
   "source": [
    "### Recall"
   ]
  },
  {
   "cell_type": "code",
   "execution_count": 23,
   "metadata": {},
   "outputs": [
    {
     "name": "stdout",
     "output_type": "stream",
     "text": [
      "Recall train: 0.9871171853972751\n",
      "Recall test: 0.9690496948561464\n"
     ]
    }
   ],
   "source": [
    "from sklearn.metrics import recall_score\n",
    "\n",
    "recall_train = recall_score(y_train, y_pred_train, average='weighted')\n",
    "recall_test = recall_score(y_test, y_pred_test, average='weighted')\n",
    "\n",
    "print('Recall train: ' + str(recall_train))\n",
    "print('Recall test: ' + str(recall_test))"
   ]
  },
  {
   "cell_type": "markdown",
   "metadata": {},
   "source": [
    "### F1-Score"
   ]
  },
  {
   "cell_type": "code",
   "execution_count": 24,
   "metadata": {},
   "outputs": [
    {
     "name": "stdout",
     "output_type": "stream",
     "text": [
      "F1-Score train: 0.9860752132345677\n",
      "F1-Score test: 0.9655744841765938\n"
     ]
    }
   ],
   "source": [
    "from sklearn.metrics import f1_score\n",
    "\n",
    "f1_score_train = f1_score(y_train, y_pred_train, average='weighted')\n",
    "f1_score_test = f1_score(y_test, y_pred_test, average='weighted')\n",
    "\n",
    "print('F1-Score train: ' + str(f1_score_train))\n",
    "print('F1-Score test: ' + str(f1_score_test))"
   ]
  },
  {
   "cell_type": "markdown",
   "metadata": {},
   "source": [
    "## Confusion Matrix"
   ]
  },
  {
   "cell_type": "code",
   "execution_count": 29,
   "metadata": {},
   "outputs": [],
   "source": [
    "from sklearn.metrics import plot_confusion_matrix"
   ]
  },
  {
   "cell_type": "markdown",
   "metadata": {},
   "source": [
    "### Train"
   ]
  },
  {
   "cell_type": "code",
   "execution_count": 30,
   "metadata": {},
   "outputs": [
    {
     "data": {
      "image/png": "[encoded data removed]",
      "text/plain": [
       "<Figure size 432x288 with 2 Axes>"
      ]
     },
     "metadata": {
      "needs_background": "light"
     },
     "output_type": "display_data"
    }
   ],
   "source": [
    "plot_confusion_matrix(clf, X_train, y_train) \n",
    "plt.show()"
   ]
  },
  {
   "cell_type": "markdown",
   "metadata": {},
   "source": [
    "### Test"
   ]
  },
  {
   "cell_type": "code",
   "execution_count": 31,
   "metadata": {
    "scrolled": true
   },
   "outputs": [
    {
     "data": {
      "image/png": "[encoded data removed]",
      "text/plain": [
       "<Figure size 432x288 with 2 Axes>"
      ]
     },
     "metadata": {
      "needs_background": "light"
     },
     "output_type": "display_data"
    }
   ],
   "source": [
    "plot_confusion_matrix(clf, X_test, y_test) \n",
    "plt.show()"
   ]
  },
  {
   "cell_type": "markdown",
   "metadata": {},
   "source": [
    "### Predicciones sobre el conjunto de test"
   ]
  },
  {
   "cell_type": "code",
   "execution_count": 26,
   "metadata": {},
   "outputs": [],
   "source": [
    "def predict_examples(indices, cant, show_message=False):\n",
    "    cant_correctas = 0\n",
    "    cant_incorrectas = 0\n",
    "    \n",
    "    if cant > len(indices):\n",
    "        cant = len(indices)\n",
    "        \n",
    "    for index in indices[:cant]:\n",
    "        x = X_test.loc[index]\n",
    "        x = np.array(x).reshape(1, -1)\n",
    "        y = y_test.loc[index]\n",
    "        y_pred = clf.predict(x)\n",
    "        if (y == y_pred[0]):\n",
    "            cant_correctas += 1\n",
    "            if show_message:\n",
    "                print('Predicción correcta')\n",
    "        else:\n",
    "            cant_incorrectas += 1\n",
    "            if show_message:              \n",
    "                print('Predicción errónea')\n",
    "            \n",
    "    print('Cantidad predicciones correctas: ' + str(cant_correctas))\n",
    "    print('Cantidad predicciones totales: ' + str(cant))\n",
    "    porc_correctas = (cant_correctas * 100) / cant\n",
    "    print('Porcentaje predicciones correctas: ' + str(porc_correctas) + \"%\")"
   ]
  },
  {
   "cell_type": "markdown",
   "metadata": {},
   "source": [
    "#### Predicción de fallecidos (sobre el conjunto de test)"
   ]
  },
  {
   "cell_type": "code",
   "execution_count": 27,
   "metadata": {},
   "outputs": [
    {
     "name": "stdout",
     "output_type": "stream",
     "text": [
      "Cantidad predicciones correctas: 340\n",
      "Cantidad predicciones totales: 1000\n",
      "Porcentaje predicciones correctas: 34.0%\n"
     ]
    }
   ],
   "source": [
    "fallecidos_test = list(y_test.loc[lambda x: x == '1'].index)\n",
    "\n",
    "predict_examples(fallecidos_test, 1000)"
   ]
  },
  {
   "cell_type": "markdown",
   "metadata": {},
   "source": [
    "#### Predicción de sobrevivientes (sobre el conjunto de test)"
   ]
  },
  {
   "cell_type": "code",
   "execution_count": 28,
   "metadata": {},
   "outputs": [
    {
     "name": "stdout",
     "output_type": "stream",
     "text": [
      "Cantidad predicciones correctas: 991\n",
      "Cantidad predicciones totales: 1000\n",
      "Porcentaje predicciones correctas: 99.1%\n"
     ]
    }
   ],
   "source": [
    "sobrevivientes_test = list(y_test.loc[lambda x: x == '0'].index)\n",
    "\n",
    "predict_examples(sobrevivientes_test, 1000)"
   ]
  }
 ],
 "metadata": {
  "kernelspec": {
   "display_name": "Python 3",
   "language": "python",
   "name": "python3"
  },
  "language_info": {
   "codemirror_mode": {
    "name": "ipython",
    "version": 3
   },
   "file_extension": ".py",
   "mimetype": "text/x-python",
   "name": "python",
   "nbconvert_exporter": "python",
   "pygments_lexer": "ipython3",
   "version": "3.6.10"
  }
 },
 "nbformat": 4,
 "nbformat_minor": 2
}
