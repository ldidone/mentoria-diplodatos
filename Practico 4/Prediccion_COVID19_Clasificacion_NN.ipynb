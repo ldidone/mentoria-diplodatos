{
 "cells": [
  {
   "cell_type": "markdown",
   "metadata": {},
   "source": [
    "## Experimentación - Predicción\n",
    "- Se intentará predecir el valor de la variable 'covid_19_confirmado', la cual contiene 2 valores (0 -> Covid19 - negativo, 1 --> Covid19 - Positivo)\n",
    "\n",
    "- La variable surge a partir de la variable clasificacion_resumen (del dataset Casos COVID-19 provisto por el Ministerio de Salud de Argentina) luego de realizar el proceso de limpieza y pre-procesado disponible en el Notebook Limpieza_Preprocesado_Covid19Casos.ipynb"
   ]
  },
  {
   "cell_type": "code",
   "execution_count": 1,
   "metadata": {},
   "outputs": [
    {
     "data": {
      "text/html": [
       "<style>.container { width:90% !important; }</style>"
      ],
      "text/plain": [
       "<IPython.core.display.HTML object>"
      ]
     },
     "metadata": {},
     "output_type": "display_data"
    }
   ],
   "source": [
    "### Aumentar el ancho del notebook\n",
    "from IPython.core.display import display, HTML\n",
    "display(HTML(\"<style>.container { width:90% !important; }</style>\"))"
   ]
  },
  {
   "cell_type": "code",
   "execution_count": 2,
   "metadata": {},
   "outputs": [],
   "source": [
    "# Importamos librerías necesarias\n",
    "\n",
    "import pandas as pd\n",
    "import numpy as np\n",
    "import matplotlib.pyplot as plt"
   ]
  },
  {
   "cell_type": "markdown",
   "metadata": {},
   "source": [
    "### Levantamos el Dataset\n",
    "- Previo a realizar este paso es necesario ejecutar el Notebook: Limpieza_Preprocesado_Covid19Casos.ipynb"
   ]
  },
  {
   "cell_type": "code",
   "execution_count": 3,
   "metadata": {},
   "outputs": [],
   "source": [
    "PATH = \"./data/\"\n",
    "FILE_NAME = 'covid19_limpio.csv'\n",
    "FULL_NAME = PATH + FILE_NAME"
   ]
  },
  {
   "cell_type": "code",
   "execution_count": 4,
   "metadata": {},
   "outputs": [],
   "source": [
    "df = pd.read_csv(FULL_NAME)"
   ]
  },
  {
   "cell_type": "code",
   "execution_count": 5,
   "metadata": {},
   "outputs": [],
   "source": [
    "dataset = df.copy(deep=True)"
   ]
  },
  {
   "cell_type": "code",
   "execution_count": 6,
   "metadata": {},
   "outputs": [
    {
     "data": {
      "text/html": [
       "<div>\n",
       "<style scoped>\n",
       "    .dataframe tbody tr th:only-of-type {\n",
       "        vertical-align: middle;\n",
       "    }\n",
       "\n",
       "    .dataframe tbody tr th {\n",
       "        vertical-align: top;\n",
       "    }\n",
       "\n",
       "    .dataframe thead th {\n",
       "        text-align: right;\n",
       "    }\n",
       "</style>\n",
       "<table border=\"1\" class=\"dataframe\">\n",
       "  <thead>\n",
       "    <tr style=\"text-align: right;\">\n",
       "      <th></th>\n",
       "      <th>edad</th>\n",
       "      <th>sepi_apertura</th>\n",
       "      <th>cuidado_intensivo</th>\n",
       "      <th>fallecido</th>\n",
       "      <th>asistencia_respiratoria_mecanica</th>\n",
       "      <th>financiamiento_publico</th>\n",
       "      <th>covid_19_confirmado</th>\n",
       "      <th>sexo_f</th>\n",
       "      <th>sexo_m</th>\n",
       "      <th>sexo_nr</th>\n",
       "      <th>...</th>\n",
       "      <th>residencia_provincia_rio_negro</th>\n",
       "      <th>residencia_provincia_salta</th>\n",
       "      <th>residencia_provincia_san_juan</th>\n",
       "      <th>residencia_provincia_san_luis</th>\n",
       "      <th>residencia_provincia_santa_cruz</th>\n",
       "      <th>residencia_provincia_santa_fe</th>\n",
       "      <th>residencia_provincia_santiago_del_estero</th>\n",
       "      <th>residencia_provincia_tierra_del_fuego</th>\n",
       "      <th>residencia_provincia_tucuman</th>\n",
       "      <th>fecha_di_dif_fecha_ap</th>\n",
       "    </tr>\n",
       "  </thead>\n",
       "  <tbody>\n",
       "    <tr>\n",
       "      <th>0</th>\n",
       "      <td>53.0</td>\n",
       "      <td>23</td>\n",
       "      <td>0</td>\n",
       "      <td>0</td>\n",
       "      <td>0</td>\n",
       "      <td>0</td>\n",
       "      <td>0</td>\n",
       "      <td>0</td>\n",
       "      <td>1</td>\n",
       "      <td>0</td>\n",
       "      <td>...</td>\n",
       "      <td>0</td>\n",
       "      <td>0</td>\n",
       "      <td>0</td>\n",
       "      <td>0</td>\n",
       "      <td>0</td>\n",
       "      <td>0</td>\n",
       "      <td>0</td>\n",
       "      <td>0</td>\n",
       "      <td>0</td>\n",
       "      <td>8</td>\n",
       "    </tr>\n",
       "    <tr>\n",
       "      <th>1</th>\n",
       "      <td>21.0</td>\n",
       "      <td>23</td>\n",
       "      <td>0</td>\n",
       "      <td>0</td>\n",
       "      <td>0</td>\n",
       "      <td>1</td>\n",
       "      <td>0</td>\n",
       "      <td>0</td>\n",
       "      <td>1</td>\n",
       "      <td>0</td>\n",
       "      <td>...</td>\n",
       "      <td>0</td>\n",
       "      <td>0</td>\n",
       "      <td>0</td>\n",
       "      <td>0</td>\n",
       "      <td>0</td>\n",
       "      <td>0</td>\n",
       "      <td>0</td>\n",
       "      <td>0</td>\n",
       "      <td>0</td>\n",
       "      <td>0</td>\n",
       "    </tr>\n",
       "    <tr>\n",
       "      <th>2</th>\n",
       "      <td>40.0</td>\n",
       "      <td>23</td>\n",
       "      <td>0</td>\n",
       "      <td>0</td>\n",
       "      <td>0</td>\n",
       "      <td>0</td>\n",
       "      <td>0</td>\n",
       "      <td>1</td>\n",
       "      <td>0</td>\n",
       "      <td>0</td>\n",
       "      <td>...</td>\n",
       "      <td>0</td>\n",
       "      <td>0</td>\n",
       "      <td>0</td>\n",
       "      <td>0</td>\n",
       "      <td>0</td>\n",
       "      <td>0</td>\n",
       "      <td>0</td>\n",
       "      <td>0</td>\n",
       "      <td>0</td>\n",
       "      <td>0</td>\n",
       "    </tr>\n",
       "    <tr>\n",
       "      <th>3</th>\n",
       "      <td>58.0</td>\n",
       "      <td>23</td>\n",
       "      <td>0</td>\n",
       "      <td>0</td>\n",
       "      <td>0</td>\n",
       "      <td>1</td>\n",
       "      <td>0</td>\n",
       "      <td>1</td>\n",
       "      <td>0</td>\n",
       "      <td>0</td>\n",
       "      <td>...</td>\n",
       "      <td>0</td>\n",
       "      <td>0</td>\n",
       "      <td>0</td>\n",
       "      <td>0</td>\n",
       "      <td>0</td>\n",
       "      <td>0</td>\n",
       "      <td>0</td>\n",
       "      <td>0</td>\n",
       "      <td>0</td>\n",
       "      <td>0</td>\n",
       "    </tr>\n",
       "    <tr>\n",
       "      <th>4</th>\n",
       "      <td>26.0</td>\n",
       "      <td>23</td>\n",
       "      <td>0</td>\n",
       "      <td>0</td>\n",
       "      <td>0</td>\n",
       "      <td>1</td>\n",
       "      <td>1</td>\n",
       "      <td>0</td>\n",
       "      <td>1</td>\n",
       "      <td>0</td>\n",
       "      <td>...</td>\n",
       "      <td>0</td>\n",
       "      <td>0</td>\n",
       "      <td>0</td>\n",
       "      <td>0</td>\n",
       "      <td>0</td>\n",
       "      <td>0</td>\n",
       "      <td>0</td>\n",
       "      <td>0</td>\n",
       "      <td>0</td>\n",
       "      <td>24</td>\n",
       "    </tr>\n",
       "    <tr>\n",
       "      <th>...</th>\n",
       "      <td>...</td>\n",
       "      <td>...</td>\n",
       "      <td>...</td>\n",
       "      <td>...</td>\n",
       "      <td>...</td>\n",
       "      <td>...</td>\n",
       "      <td>...</td>\n",
       "      <td>...</td>\n",
       "      <td>...</td>\n",
       "      <td>...</td>\n",
       "      <td>...</td>\n",
       "      <td>...</td>\n",
       "      <td>...</td>\n",
       "      <td>...</td>\n",
       "      <td>...</td>\n",
       "      <td>...</td>\n",
       "      <td>...</td>\n",
       "      <td>...</td>\n",
       "      <td>...</td>\n",
       "      <td>...</td>\n",
       "      <td>...</td>\n",
       "    </tr>\n",
       "    <tr>\n",
       "      <th>2249354</th>\n",
       "      <td>39.0</td>\n",
       "      <td>23</td>\n",
       "      <td>0</td>\n",
       "      <td>0</td>\n",
       "      <td>0</td>\n",
       "      <td>1</td>\n",
       "      <td>0</td>\n",
       "      <td>0</td>\n",
       "      <td>1</td>\n",
       "      <td>0</td>\n",
       "      <td>...</td>\n",
       "      <td>0</td>\n",
       "      <td>0</td>\n",
       "      <td>0</td>\n",
       "      <td>0</td>\n",
       "      <td>0</td>\n",
       "      <td>0</td>\n",
       "      <td>0</td>\n",
       "      <td>1</td>\n",
       "      <td>0</td>\n",
       "      <td>0</td>\n",
       "    </tr>\n",
       "    <tr>\n",
       "      <th>2249355</th>\n",
       "      <td>34.0</td>\n",
       "      <td>23</td>\n",
       "      <td>0</td>\n",
       "      <td>0</td>\n",
       "      <td>0</td>\n",
       "      <td>1</td>\n",
       "      <td>1</td>\n",
       "      <td>0</td>\n",
       "      <td>1</td>\n",
       "      <td>0</td>\n",
       "      <td>...</td>\n",
       "      <td>0</td>\n",
       "      <td>0</td>\n",
       "      <td>0</td>\n",
       "      <td>0</td>\n",
       "      <td>0</td>\n",
       "      <td>0</td>\n",
       "      <td>0</td>\n",
       "      <td>0</td>\n",
       "      <td>0</td>\n",
       "      <td>11</td>\n",
       "    </tr>\n",
       "    <tr>\n",
       "      <th>2249356</th>\n",
       "      <td>42.0</td>\n",
       "      <td>23</td>\n",
       "      <td>0</td>\n",
       "      <td>0</td>\n",
       "      <td>0</td>\n",
       "      <td>0</td>\n",
       "      <td>0</td>\n",
       "      <td>0</td>\n",
       "      <td>1</td>\n",
       "      <td>0</td>\n",
       "      <td>...</td>\n",
       "      <td>0</td>\n",
       "      <td>0</td>\n",
       "      <td>0</td>\n",
       "      <td>0</td>\n",
       "      <td>0</td>\n",
       "      <td>0</td>\n",
       "      <td>0</td>\n",
       "      <td>0</td>\n",
       "      <td>0</td>\n",
       "      <td>0</td>\n",
       "    </tr>\n",
       "    <tr>\n",
       "      <th>2249357</th>\n",
       "      <td>30.0</td>\n",
       "      <td>23</td>\n",
       "      <td>0</td>\n",
       "      <td>0</td>\n",
       "      <td>0</td>\n",
       "      <td>1</td>\n",
       "      <td>0</td>\n",
       "      <td>1</td>\n",
       "      <td>0</td>\n",
       "      <td>0</td>\n",
       "      <td>...</td>\n",
       "      <td>0</td>\n",
       "      <td>0</td>\n",
       "      <td>0</td>\n",
       "      <td>0</td>\n",
       "      <td>0</td>\n",
       "      <td>0</td>\n",
       "      <td>0</td>\n",
       "      <td>0</td>\n",
       "      <td>0</td>\n",
       "      <td>1</td>\n",
       "    </tr>\n",
       "    <tr>\n",
       "      <th>2249358</th>\n",
       "      <td>57.0</td>\n",
       "      <td>23</td>\n",
       "      <td>0</td>\n",
       "      <td>0</td>\n",
       "      <td>0</td>\n",
       "      <td>1</td>\n",
       "      <td>0</td>\n",
       "      <td>1</td>\n",
       "      <td>0</td>\n",
       "      <td>0</td>\n",
       "      <td>...</td>\n",
       "      <td>0</td>\n",
       "      <td>0</td>\n",
       "      <td>0</td>\n",
       "      <td>0</td>\n",
       "      <td>0</td>\n",
       "      <td>0</td>\n",
       "      <td>0</td>\n",
       "      <td>0</td>\n",
       "      <td>0</td>\n",
       "      <td>1</td>\n",
       "    </tr>\n",
       "  </tbody>\n",
       "</table>\n",
       "<p>2249359 rows × 36 columns</p>\n",
       "</div>"
      ],
      "text/plain": [
       "         edad  sepi_apertura  cuidado_intensivo  fallecido  \\\n",
       "0        53.0             23                  0          0   \n",
       "1        21.0             23                  0          0   \n",
       "2        40.0             23                  0          0   \n",
       "3        58.0             23                  0          0   \n",
       "4        26.0             23                  0          0   \n",
       "...       ...            ...                ...        ...   \n",
       "2249354  39.0             23                  0          0   \n",
       "2249355  34.0             23                  0          0   \n",
       "2249356  42.0             23                  0          0   \n",
       "2249357  30.0             23                  0          0   \n",
       "2249358  57.0             23                  0          0   \n",
       "\n",
       "         asistencia_respiratoria_mecanica  financiamiento_publico  \\\n",
       "0                                       0                       0   \n",
       "1                                       0                       1   \n",
       "2                                       0                       0   \n",
       "3                                       0                       1   \n",
       "4                                       0                       1   \n",
       "...                                   ...                     ...   \n",
       "2249354                                 0                       1   \n",
       "2249355                                 0                       1   \n",
       "2249356                                 0                       0   \n",
       "2249357                                 0                       1   \n",
       "2249358                                 0                       1   \n",
       "\n",
       "         covid_19_confirmado  sexo_f  sexo_m  sexo_nr  ...  \\\n",
       "0                          0       0       1        0  ...   \n",
       "1                          0       0       1        0  ...   \n",
       "2                          0       1       0        0  ...   \n",
       "3                          0       1       0        0  ...   \n",
       "4                          1       0       1        0  ...   \n",
       "...                      ...     ...     ...      ...  ...   \n",
       "2249354                    0       0       1        0  ...   \n",
       "2249355                    1       0       1        0  ...   \n",
       "2249356                    0       0       1        0  ...   \n",
       "2249357                    0       1       0        0  ...   \n",
       "2249358                    0       1       0        0  ...   \n",
       "\n",
       "         residencia_provincia_rio_negro  residencia_provincia_salta  \\\n",
       "0                                     0                           0   \n",
       "1                                     0                           0   \n",
       "2                                     0                           0   \n",
       "3                                     0                           0   \n",
       "4                                     0                           0   \n",
       "...                                 ...                         ...   \n",
       "2249354                               0                           0   \n",
       "2249355                               0                           0   \n",
       "2249356                               0                           0   \n",
       "2249357                               0                           0   \n",
       "2249358                               0                           0   \n",
       "\n",
       "         residencia_provincia_san_juan  residencia_provincia_san_luis  \\\n",
       "0                                    0                              0   \n",
       "1                                    0                              0   \n",
       "2                                    0                              0   \n",
       "3                                    0                              0   \n",
       "4                                    0                              0   \n",
       "...                                ...                            ...   \n",
       "2249354                              0                              0   \n",
       "2249355                              0                              0   \n",
       "2249356                              0                              0   \n",
       "2249357                              0                              0   \n",
       "2249358                              0                              0   \n",
       "\n",
       "         residencia_provincia_santa_cruz  residencia_provincia_santa_fe  \\\n",
       "0                                      0                              0   \n",
       "1                                      0                              0   \n",
       "2                                      0                              0   \n",
       "3                                      0                              0   \n",
       "4                                      0                              0   \n",
       "...                                  ...                            ...   \n",
       "2249354                                0                              0   \n",
       "2249355                                0                              0   \n",
       "2249356                                0                              0   \n",
       "2249357                                0                              0   \n",
       "2249358                                0                              0   \n",
       "\n",
       "         residencia_provincia_santiago_del_estero  \\\n",
       "0                                               0   \n",
       "1                                               0   \n",
       "2                                               0   \n",
       "3                                               0   \n",
       "4                                               0   \n",
       "...                                           ...   \n",
       "2249354                                         0   \n",
       "2249355                                         0   \n",
       "2249356                                         0   \n",
       "2249357                                         0   \n",
       "2249358                                         0   \n",
       "\n",
       "         residencia_provincia_tierra_del_fuego  residencia_provincia_tucuman  \\\n",
       "0                                            0                             0   \n",
       "1                                            0                             0   \n",
       "2                                            0                             0   \n",
       "3                                            0                             0   \n",
       "4                                            0                             0   \n",
       "...                                        ...                           ...   \n",
       "2249354                                      1                             0   \n",
       "2249355                                      0                             0   \n",
       "2249356                                      0                             0   \n",
       "2249357                                      0                             0   \n",
       "2249358                                      0                             0   \n",
       "\n",
       "         fecha_di_dif_fecha_ap  \n",
       "0                            8  \n",
       "1                            0  \n",
       "2                            0  \n",
       "3                            0  \n",
       "4                           24  \n",
       "...                        ...  \n",
       "2249354                      0  \n",
       "2249355                     11  \n",
       "2249356                      0  \n",
       "2249357                      1  \n",
       "2249358                      1  \n",
       "\n",
       "[2249359 rows x 36 columns]"
      ]
     },
     "execution_count": 6,
     "metadata": {},
     "output_type": "execute_result"
    }
   ],
   "source": [
    "dataset"
   ]
  },
  {
   "cell_type": "markdown",
   "metadata": {},
   "source": [
    "## Variable target: covid_19_confirmado"
   ]
  },
  {
   "cell_type": "code",
   "execution_count": 7,
   "metadata": {},
   "outputs": [
    {
     "name": "stdout",
     "output_type": "stream",
     "text": [
      "0    1274885\n",
      "1     974474\n",
      "Name: covid_19_confirmado, dtype: int64\n"
     ]
    },
    {
     "data": {
      "text/plain": [
       "<matplotlib.axes._subplots.AxesSubplot at 0x7f52de890438>"
      ]
     },
     "execution_count": 7,
     "metadata": {},
     "output_type": "execute_result"
    },
    {
     "data": {
      "image/png": "[encoded data removed]",
      "text/plain": [
       "<Figure size 576x576 with 1 Axes>"
      ]
     },
     "metadata": {},
     "output_type": "display_data"
    }
   ],
   "source": [
    "print(dataset.covid_19_confirmado.value_counts())\n",
    "dataset.covid_19_confirmado.value_counts().plot.pie(autopct='%1.0f%%', figsize=(8, 8))"
   ]
  },
  {
   "cell_type": "markdown",
   "metadata": {},
   "source": [
    "### Referencias\n",
    "- 0: caso descartado (Covid19 - Negativo)\n",
    "- 1: caso confirmado (Covid19 - Positivo)"
   ]
  },
  {
   "cell_type": "markdown",
   "metadata": {},
   "source": [
    "### Separar los conjuntos de train y test"
   ]
  },
  {
   "cell_type": "code",
   "execution_count": 8,
   "metadata": {},
   "outputs": [],
   "source": [
    "from sklearn.model_selection import train_test_split"
   ]
  },
  {
   "cell_type": "code",
   "execution_count": 9,
   "metadata": {},
   "outputs": [
    {
     "data": {
      "text/plain": [
       "['edad',\n",
       " 'sepi_apertura',\n",
       " 'cuidado_intensivo',\n",
       " 'asistencia_respiratoria_mecanica',\n",
       " 'financiamiento_publico',\n",
       " 'sexo_f',\n",
       " 'sexo_m',\n",
       " 'sexo_nr',\n",
       " 'pcia_rec_eq_pcia_car',\n",
       " 'residencia_provincia_buenos_aires',\n",
       " 'residencia_provincia_caba',\n",
       " 'residencia_provincia_catamarca',\n",
       " 'residencia_provincia_chaco',\n",
       " 'residencia_provincia_chubut',\n",
       " 'residencia_provincia_Corrientes',\n",
       " 'residencia_provincia_cordoba',\n",
       " 'residencia_provincia_entre_rios',\n",
       " 'residencia_provincia_formosa',\n",
       " 'residencia_provincia_jujuy',\n",
       " 'residencia_provincia_la_pampa',\n",
       " 'residencia_provincia_la_rioja',\n",
       " 'residencia_provincia_mendoza',\n",
       " 'residencia_provincia_misiones',\n",
       " 'residencia_provincia_neuquen',\n",
       " 'residencia_provincia_rio_negro',\n",
       " 'residencia_provincia_salta',\n",
       " 'residencia_provincia_san_juan',\n",
       " 'residencia_provincia_san_luis',\n",
       " 'residencia_provincia_santa_cruz',\n",
       " 'residencia_provincia_santa_fe',\n",
       " 'residencia_provincia_santiago_del_estero',\n",
       " 'residencia_provincia_tierra_del_fuego',\n",
       " 'residencia_provincia_tucuman',\n",
       " 'fecha_di_dif_fecha_ap']"
      ]
     },
     "execution_count": 9,
     "metadata": {},
     "output_type": "execute_result"
    }
   ],
   "source": [
    "# Eliminamos la Feature fallecido porque añade información si lo que intentamos predecir es la variable covid_19_confirmado\n",
    "feature_names = list(dataset.columns)\n",
    "feature_names.remove('fallecido')\n",
    "feature_names.remove('covid_19_confirmado')\n",
    "feature_names"
   ]
  },
  {
   "cell_type": "code",
   "execution_count": 10,
   "metadata": {},
   "outputs": [],
   "source": [
    "X = dataset[feature_names]\n",
    "y = dataset['covid_19_confirmado']"
   ]
  },
  {
   "cell_type": "code",
   "execution_count": 11,
   "metadata": {},
   "outputs": [
    {
     "data": {
      "text/plain": [
       "((2249359, 34), (2249359,))"
      ]
     },
     "execution_count": 11,
     "metadata": {},
     "output_type": "execute_result"
    }
   ],
   "source": [
    "X.shape, y.shape"
   ]
  },
  {
   "cell_type": "markdown",
   "metadata": {},
   "source": [
    "#### Train - Test"
   ]
  },
  {
   "cell_type": "code",
   "execution_count": 12,
   "metadata": {},
   "outputs": [],
   "source": [
    "X_train, X_test, y_train, y_test = train_test_split(X, y, train_size=0.9, random_state=0)"
   ]
  },
  {
   "cell_type": "code",
   "execution_count": 13,
   "metadata": {},
   "outputs": [
    {
     "data": {
      "text/plain": [
       "((2024423, 34), (224936, 34), (2024423,), (224936,))"
      ]
     },
     "execution_count": 13,
     "metadata": {},
     "output_type": "execute_result"
    }
   ],
   "source": [
    "X_train.shape, X_test.shape, y_train.shape, y_test.shape"
   ]
  },
  {
   "cell_type": "markdown",
   "metadata": {},
   "source": [
    "#### Train - Validation"
   ]
  },
  {
   "cell_type": "code",
   "execution_count": 14,
   "metadata": {},
   "outputs": [],
   "source": [
    "X_train, X_val, y_train, y_val = train_test_split(X_train, y_train, train_size=0.9, random_state=0)"
   ]
  },
  {
   "cell_type": "code",
   "execution_count": 15,
   "metadata": {},
   "outputs": [
    {
     "data": {
      "text/plain": [
       "((1821980, 34), (202443, 34), (1821980,), (202443,))"
      ]
     },
     "execution_count": 15,
     "metadata": {},
     "output_type": "execute_result"
    }
   ],
   "source": [
    "X_train.shape, X_val.shape, y_train.shape, y_val.shape"
   ]
  },
  {
   "cell_type": "code",
   "execution_count": 16,
   "metadata": {},
   "outputs": [
    {
     "data": {
      "text/plain": [
       "34"
      ]
     },
     "execution_count": 16,
     "metadata": {},
     "output_type": "execute_result"
    }
   ],
   "source": [
    "INPUT_COLUMNS = X_train.shape[1]\n",
    "INPUT_COLUMNS"
   ]
  },
  {
   "cell_type": "markdown",
   "metadata": {},
   "source": [
    "### MinMaxScaler"
   ]
  },
  {
   "cell_type": "code",
   "execution_count": 17,
   "metadata": {},
   "outputs": [],
   "source": [
    "from sklearn import preprocessing\n",
    "\n",
    "mm_scaler = preprocessing.MinMaxScaler()\n",
    "\n",
    "X_train_minmax = mm_scaler.fit_transform(X_train)\n",
    "X_val_minmax = mm_scaler.fit_transform(X_val)\n",
    "X_test_minmax = mm_scaler.fit_transform(X_test)"
   ]
  },
  {
   "cell_type": "code",
   "execution_count": 18,
   "metadata": {},
   "outputs": [
    {
     "name": "stderr",
     "output_type": "stream",
     "text": [
      "/home/lucas/DIPLODATOS/.venv/lib/python3.6/site-packages/tensorflow/python/framework/dtypes.py:516: FutureWarning: Passing (type, 1) or '1type' as a synonym of type is deprecated; in a future version of numpy, it will be understood as (type, (1,)) / '(1,)type'.\n",
      "  _np_qint8 = np.dtype([(\"qint8\", np.int8, 1)])\n",
      "/home/lucas/DIPLODATOS/.venv/lib/python3.6/site-packages/tensorflow/python/framework/dtypes.py:517: FutureWarning: Passing (type, 1) or '1type' as a synonym of type is deprecated; in a future version of numpy, it will be understood as (type, (1,)) / '(1,)type'.\n",
      "  _np_quint8 = np.dtype([(\"quint8\", np.uint8, 1)])\n",
      "/home/lucas/DIPLODATOS/.venv/lib/python3.6/site-packages/tensorflow/python/framework/dtypes.py:518: FutureWarning: Passing (type, 1) or '1type' as a synonym of type is deprecated; in a future version of numpy, it will be understood as (type, (1,)) / '(1,)type'.\n",
      "  _np_qint16 = np.dtype([(\"qint16\", np.int16, 1)])\n",
      "/home/lucas/DIPLODATOS/.venv/lib/python3.6/site-packages/tensorflow/python/framework/dtypes.py:519: FutureWarning: Passing (type, 1) or '1type' as a synonym of type is deprecated; in a future version of numpy, it will be understood as (type, (1,)) / '(1,)type'.\n",
      "  _np_quint16 = np.dtype([(\"quint16\", np.uint16, 1)])\n",
      "/home/lucas/DIPLODATOS/.venv/lib/python3.6/site-packages/tensorflow/python/framework/dtypes.py:520: FutureWarning: Passing (type, 1) or '1type' as a synonym of type is deprecated; in a future version of numpy, it will be understood as (type, (1,)) / '(1,)type'.\n",
      "  _np_qint32 = np.dtype([(\"qint32\", np.int32, 1)])\n",
      "/home/lucas/DIPLODATOS/.venv/lib/python3.6/site-packages/tensorflow/python/framework/dtypes.py:525: FutureWarning: Passing (type, 1) or '1type' as a synonym of type is deprecated; in a future version of numpy, it will be understood as (type, (1,)) / '(1,)type'.\n",
      "  np_resource = np.dtype([(\"resource\", np.ubyte, 1)])\n",
      "/home/lucas/DIPLODATOS/.venv/lib/python3.6/site-packages/tensorboard/compat/tensorflow_stub/dtypes.py:541: FutureWarning: Passing (type, 1) or '1type' as a synonym of type is deprecated; in a future version of numpy, it will be understood as (type, (1,)) / '(1,)type'.\n",
      "  _np_qint8 = np.dtype([(\"qint8\", np.int8, 1)])\n",
      "/home/lucas/DIPLODATOS/.venv/lib/python3.6/site-packages/tensorboard/compat/tensorflow_stub/dtypes.py:542: FutureWarning: Passing (type, 1) or '1type' as a synonym of type is deprecated; in a future version of numpy, it will be understood as (type, (1,)) / '(1,)type'.\n",
      "  _np_quint8 = np.dtype([(\"quint8\", np.uint8, 1)])\n",
      "/home/lucas/DIPLODATOS/.venv/lib/python3.6/site-packages/tensorboard/compat/tensorflow_stub/dtypes.py:543: FutureWarning: Passing (type, 1) or '1type' as a synonym of type is deprecated; in a future version of numpy, it will be understood as (type, (1,)) / '(1,)type'.\n",
      "  _np_qint16 = np.dtype([(\"qint16\", np.int16, 1)])\n",
      "/home/lucas/DIPLODATOS/.venv/lib/python3.6/site-packages/tensorboard/compat/tensorflow_stub/dtypes.py:544: FutureWarning: Passing (type, 1) or '1type' as a synonym of type is deprecated; in a future version of numpy, it will be understood as (type, (1,)) / '(1,)type'.\n",
      "  _np_quint16 = np.dtype([(\"quint16\", np.uint16, 1)])\n",
      "/home/lucas/DIPLODATOS/.venv/lib/python3.6/site-packages/tensorboard/compat/tensorflow_stub/dtypes.py:545: FutureWarning: Passing (type, 1) or '1type' as a synonym of type is deprecated; in a future version of numpy, it will be understood as (type, (1,)) / '(1,)type'.\n",
      "  _np_qint32 = np.dtype([(\"qint32\", np.int32, 1)])\n",
      "/home/lucas/DIPLODATOS/.venv/lib/python3.6/site-packages/tensorboard/compat/tensorflow_stub/dtypes.py:550: FutureWarning: Passing (type, 1) or '1type' as a synonym of type is deprecated; in a future version of numpy, it will be understood as (type, (1,)) / '(1,)type'.\n",
      "  np_resource = np.dtype([(\"resource\", np.ubyte, 1)])\n"
     ]
    }
   ],
   "source": [
    "from tensorflow.keras.utils import to_categorical\n",
    "\n",
    "y_train_cat = to_categorical(y_train)\n",
    "y_val_cat = to_categorical(y_val)\n",
    "y_test_cat = to_categorical(y_test)"
   ]
  },
  {
   "cell_type": "markdown",
   "metadata": {},
   "source": [
    "## Modelado"
   ]
  },
  {
   "cell_type": "code",
   "execution_count": 19,
   "metadata": {},
   "outputs": [],
   "source": [
    "from tensorflow.keras.models import Sequential, load_model\n",
    "from tensorflow.keras.layers import Dense, Activation, Dropout, BatchNormalization\n",
    "from tensorflow.keras.callbacks import EarlyStopping, ModelCheckpoint\n",
    "import tensorflow as tf\n",
    "from tensorflow import keras"
   ]
  },
  {
   "cell_type": "code",
   "execution_count": 20,
   "metadata": {},
   "outputs": [],
   "source": [
    "# Hyperparameters\n",
    "N_EPOCHS = 50\n",
    "BATCH_SIZE = 128"
   ]
  },
  {
   "cell_type": "code",
   "execution_count": 21,
   "metadata": {},
   "outputs": [
    {
     "name": "stdout",
     "output_type": "stream",
     "text": [
      "WARNING:tensorflow:From /home/lucas/DIPLODATOS/.venv/lib/python3.6/site-packages/tensorflow/python/ops/init_ops.py:1251: calling VarianceScaling.__init__ (from tensorflow.python.ops.init_ops) with dtype is deprecated and will be removed in a future version.\n",
      "Instructions for updating:\n",
      "Call initializer instance with the dtype argument instead of passing it to the constructor\n"
     ]
    }
   ],
   "source": [
    "# MLP Architecture\n",
    "mlp_model = Sequential([   \n",
    "    Dense(2048, input_shape=(INPUT_COLUMNS, )),\n",
    "    Activation('relu'),\n",
    "    \n",
    "    Dense(1024),\n",
    "    Activation('relu'),\n",
    "    Dropout(0.50),\n",
    "    \n",
    "    Dense(1024),\n",
    "    Activation('relu'),\n",
    "    Dropout(0.50),\n",
    "    \n",
    "    Dense(1024),\n",
    "    Activation('relu'),\n",
    "    Dropout(0.50),\n",
    "    \n",
    "    Dense(512),\n",
    "    Activation('relu'),\n",
    "    Dropout(0.50),\n",
    "    \n",
    "    Dense(512),\n",
    "    Activation('relu'),\n",
    "    Dropout(0.50),\n",
    "    \n",
    "    \n",
    "    Dense(256),\n",
    "    Activation('relu'),   \n",
    "    \n",
    "    Dense(256),\n",
    "    Activation('relu'),   \n",
    "    \n",
    "    Dense(128),\n",
    "    Activation('relu'),\n",
    "    \n",
    "    Dense(128),\n",
    "    Activation('relu'),\n",
    "    \n",
    "    Dense(2),\n",
    "    Activation('softmax')\n",
    "])"
   ]
  },
  {
   "cell_type": "code",
   "execution_count": 22,
   "metadata": {},
   "outputs": [
    {
     "name": "stdout",
     "output_type": "stream",
     "text": [
      "Model: \"sequential\"\n",
      "_________________________________________________________________\n",
      "Layer (type)                 Output Shape              Param #   \n",
      "=================================================================\n",
      "dense (Dense)                (None, 2048)              71680     \n",
      "_________________________________________________________________\n",
      "activation (Activation)      (None, 2048)              0         \n",
      "_________________________________________________________________\n",
      "dense_1 (Dense)              (None, 1024)              2098176   \n",
      "_________________________________________________________________\n",
      "activation_1 (Activation)    (None, 1024)              0         \n",
      "_________________________________________________________________\n",
      "dropout (Dropout)            (None, 1024)              0         \n",
      "_________________________________________________________________\n",
      "dense_2 (Dense)              (None, 1024)              1049600   \n",
      "_________________________________________________________________\n",
      "activation_2 (Activation)    (None, 1024)              0         \n",
      "_________________________________________________________________\n",
      "dropout_1 (Dropout)          (None, 1024)              0         \n",
      "_________________________________________________________________\n",
      "dense_3 (Dense)              (None, 1024)              1049600   \n",
      "_________________________________________________________________\n",
      "activation_3 (Activation)    (None, 1024)              0         \n",
      "_________________________________________________________________\n",
      "dropout_2 (Dropout)          (None, 1024)              0         \n",
      "_________________________________________________________________\n",
      "dense_4 (Dense)              (None, 512)               524800    \n",
      "_________________________________________________________________\n",
      "activation_4 (Activation)    (None, 512)               0         \n",
      "_________________________________________________________________\n",
      "dropout_3 (Dropout)          (None, 512)               0         \n",
      "_________________________________________________________________\n",
      "dense_5 (Dense)              (None, 512)               262656    \n",
      "_________________________________________________________________\n",
      "activation_5 (Activation)    (None, 512)               0         \n",
      "_________________________________________________________________\n",
      "dropout_4 (Dropout)          (None, 512)               0         \n",
      "_________________________________________________________________\n",
      "dense_6 (Dense)              (None, 256)               131328    \n",
      "_________________________________________________________________\n",
      "activation_6 (Activation)    (None, 256)               0         \n",
      "_________________________________________________________________\n",
      "dense_7 (Dense)              (None, 256)               65792     \n",
      "_________________________________________________________________\n",
      "activation_7 (Activation)    (None, 256)               0         \n",
      "_________________________________________________________________\n",
      "dense_8 (Dense)              (None, 128)               32896     \n",
      "_________________________________________________________________\n",
      "activation_8 (Activation)    (None, 128)               0         \n",
      "_________________________________________________________________\n",
      "dense_9 (Dense)              (None, 128)               16512     \n",
      "_________________________________________________________________\n",
      "activation_9 (Activation)    (None, 128)               0         \n",
      "_________________________________________________________________\n",
      "dense_10 (Dense)             (None, 2)                 258       \n",
      "_________________________________________________________________\n",
      "activation_10 (Activation)   (None, 2)                 0         \n",
      "=================================================================\n",
      "Total params: 5,303,298\n",
      "Trainable params: 5,303,298\n",
      "Non-trainable params: 0\n",
      "_________________________________________________________________\n"
     ]
    }
   ],
   "source": [
    "mlp_model.summary()"
   ]
  },
  {
   "cell_type": "code",
   "execution_count": 23,
   "metadata": {},
   "outputs": [],
   "source": [
    "mlp_model.compile(\n",
    "    optimizer=\"adam\",\n",
    "    loss=\"categorical_crossentropy\",\n",
    "    metrics=['accuracy']\n",
    ")"
   ]
  },
  {
   "cell_type": "code",
   "execution_count": 24,
   "metadata": {},
   "outputs": [],
   "source": [
    "path_checkpoint = \"./models/best_model_class_covid_nn.h5\"\n",
    "#Callbacks\n",
    "early_stopping = EarlyStopping(monitor='val_loss', mode='min', verbose=1, patience=5)\n",
    "model_checkpoint = ModelCheckpoint(path_checkpoint, monitor='val_acc', mode='max', verbose=1, save_best_only=True)"
   ]
  },
  {
   "cell_type": "code",
   "execution_count": 25,
   "metadata": {},
   "outputs": [
    {
     "name": "stdout",
     "output_type": "stream",
     "text": [
      "Train on 1821980 samples, validate on 202443 samples\n",
      "Epoch 1/50\n",
      "1821312/1821980 [============================>.] - ETA: 0s - loss: 0.6842 - acc: 0.5669\n",
      "Epoch 00001: val_acc improved from -inf to 0.56578, saving model to ./models/best_model_class_covid_nn.h5\n",
      "1821980/1821980 [==============================] - 143s 79us/sample - loss: 0.6843 - acc: 0.5669 - val_loss: 0.6846 - val_acc: 0.5658\n",
      "Epoch 2/50\n",
      "1821824/1821980 [============================>.] - ETA: 0s - loss: 0.6842 - acc: 0.5670\n",
      "Epoch 00002: val_acc did not improve from 0.56578\n",
      "1821980/1821980 [==============================] - 146s 80us/sample - loss: 0.6842 - acc: 0.5670 - val_loss: 0.6845 - val_acc: 0.5658\n",
      "Epoch 3/50\n",
      "1821824/1821980 [============================>.] - ETA: 0s - loss: 0.6842 - acc: 0.5670\n",
      "Epoch 00003: val_acc did not improve from 0.56578\n",
      "1821980/1821980 [==============================] - 160s 88us/sample - loss: 0.6842 - acc: 0.5670 - val_loss: 0.6845 - val_acc: 0.5658\n",
      "Epoch 4/50\n",
      "1821440/1821980 [============================>.] - ETA: 0s - loss: 0.6842 - acc: 0.5670\n",
      "Epoch 00004: val_acc did not improve from 0.56578\n",
      "1821980/1821980 [==============================] - 164s 90us/sample - loss: 0.6842 - acc: 0.5670 - val_loss: 0.6845 - val_acc: 0.5658\n",
      "Epoch 5/50\n",
      "1821440/1821980 [============================>.] - ETA: 0s - loss: 0.6842 - acc: 0.5670\n",
      "Epoch 00005: val_acc did not improve from 0.56578\n",
      "1821980/1821980 [==============================] - 163s 89us/sample - loss: 0.6842 - acc: 0.5670 - val_loss: 0.6845 - val_acc: 0.5658\n",
      "Epoch 6/50\n",
      "1821568/1821980 [============================>.] - ETA: 0s - loss: 0.6842 - acc: 0.5670\n",
      "Epoch 00006: val_acc did not improve from 0.56578\n",
      "1821980/1821980 [==============================] - 159s 87us/sample - loss: 0.6842 - acc: 0.5670 - val_loss: 0.6845 - val_acc: 0.5658\n",
      "Epoch 7/50\n",
      "1821312/1821980 [============================>.] - ETA: 0s - loss: 0.6842 - acc: 0.5670\n",
      "Epoch 00007: val_acc did not improve from 0.56578\n",
      "1821980/1821980 [==============================] - 156s 85us/sample - loss: 0.6842 - acc: 0.5670 - val_loss: 0.6845 - val_acc: 0.5658\n",
      "Epoch 00007: early stopping\n"
     ]
    }
   ],
   "source": [
    "history_mlp = mlp_model.fit(\n",
    "    X_train_minmax, \n",
    "    y_train_cat,\n",
    "    epochs=N_EPOCHS,\n",
    "    batch_size=BATCH_SIZE,\n",
    "    validation_data=(\n",
    "        X_val_minmax,\n",
    "        y_val_cat,\n",
    "    ),\n",
    "    callbacks = [early_stopping, model_checkpoint]\n",
    ")"
   ]
  },
  {
   "cell_type": "markdown",
   "metadata": {},
   "source": [
    "### Evaluación del Modelo"
   ]
  },
  {
   "cell_type": "code",
   "execution_count": 28,
   "metadata": {},
   "outputs": [
    {
     "data": {
      "image/png": "[encoded data removed]",
      "text/plain": [
       "<Figure size 432x288 with 1 Axes>"
      ]
     },
     "metadata": {
      "needs_background": "light"
     },
     "output_type": "display_data"
    }
   ],
   "source": [
    "%matplotlib inline\n",
    "\n",
    "plt.plot(history_mlp.history['acc'], label='train')\n",
    "plt.plot(history_mlp.history['val_acc'], label='val')\n",
    "plt.title('Accuracy over train epochs')\n",
    "plt.ylabel('Accuracy')\n",
    "plt.xlabel('Epoch')\n",
    "plt.legend(loc='upper left')\n",
    "plt.show()"
   ]
  },
  {
   "cell_type": "code",
   "execution_count": 29,
   "metadata": {},
   "outputs": [
    {
     "name": "stdout",
     "output_type": "stream",
     "text": [
      "Max MLP Accuracy train:  0.5669585\n",
      "Max MLP Accuracy validation:  0.565784\n"
     ]
    }
   ],
   "source": [
    "print('Max MLP Accuracy train: ', max(history_mlp.history['acc']))\n",
    "print('Max MLP Accuracy validation: ', max(history_mlp.history['val_acc']))"
   ]
  },
  {
   "cell_type": "markdown",
   "metadata": {},
   "source": [
    "#### Evaluación sobre el conjunto de Test"
   ]
  },
  {
   "cell_type": "code",
   "execution_count": 30,
   "metadata": {},
   "outputs": [
    {
     "name": "stdout",
     "output_type": "stream",
     "text": [
      "224936/224936 [==============================] - 9s 42us/sample - loss: 0.6844 - acc: 0.5662\n"
     ]
    }
   ],
   "source": [
    "_, accuracy = mlp_model.evaluate(X_test_minmax, y_test_cat, verbose=1)"
   ]
  },
  {
   "cell_type": "code",
   "execution_count": 31,
   "metadata": {},
   "outputs": [
    {
     "name": "stdout",
     "output_type": "stream",
     "text": [
      "Accuracy TEST: 0.56620103\n"
     ]
    }
   ],
   "source": [
    "print('Accuracy TEST: ' + str(accuracy))"
   ]
  },
  {
   "cell_type": "markdown",
   "metadata": {},
   "source": [
    "### Predicciones sobre el conjunto de Test"
   ]
  },
  {
   "cell_type": "code",
   "execution_count": 32,
   "metadata": {},
   "outputs": [],
   "source": [
    "import random as rnd"
   ]
  },
  {
   "cell_type": "code",
   "execution_count": 33,
   "metadata": {},
   "outputs": [
    {
     "name": "stdout",
     "output_type": "stream",
     "text": [
      "WARNING:tensorflow:From /home/lucas/DIPLODATOS/.venv/lib/python3.6/site-packages/tensorflow/python/ops/init_ops.py:97: calling GlorotUniform.__init__ (from tensorflow.python.ops.init_ops) with dtype is deprecated and will be removed in a future version.\n",
      "Instructions for updating:\n",
      "Call initializer instance with the dtype argument instead of passing it to the constructor\n",
      "WARNING:tensorflow:From /home/lucas/DIPLODATOS/.venv/lib/python3.6/site-packages/tensorflow/python/ops/init_ops.py:97: calling Zeros.__init__ (from tensorflow.python.ops.init_ops) with dtype is deprecated and will be removed in a future version.\n",
      "Instructions for updating:\n",
      "Call initializer instance with the dtype argument instead of passing it to the constructor\n"
     ]
    }
   ],
   "source": [
    "mlp_model = load_model(path_checkpoint)"
   ]
  },
  {
   "cell_type": "code",
   "execution_count": 34,
   "metadata": {},
   "outputs": [],
   "source": [
    "def pre_processing(x):\n",
    "    x = x[feature_names].values\n",
    "    x = np.reshape(x,(-1, 1))\n",
    "    x = mm_scaler.fit_transform(x)\n",
    "    return np.array([x.flatten()])"
   ]
  },
  {
   "cell_type": "code",
   "execution_count": 35,
   "metadata": {},
   "outputs": [],
   "source": [
    "classes = {\n",
    "    0: 'Covid19 - Negativo',\n",
    "    1: 'Covid19 - Positivo'\n",
    "}"
   ]
  },
  {
   "cell_type": "code",
   "execution_count": 36,
   "metadata": {},
   "outputs": [
    {
     "name": "stdout",
     "output_type": "stream",
     "text": [
      "Index:  170268\n",
      "Predicción errónea: Covid19 - Negativo(predicción = 0 | confianza:  0.5724658966064453 %)\n",
      "Index:  191875\n",
      "Predicción errónea: Covid19 - Negativo(predicción = 0 | confianza:  0.5724658966064453 %)\n",
      "Index:  31156\n",
      "Predicción exitosa: Covid19 - Negativo(predicción = 0 | confianza:  0.5724658966064453 %)\n",
      "Index:  13393\n",
      "Predicción exitosa: Covid19 - Negativo(predicción = 0 | confianza:  0.5724658966064453 %)\n",
      "Index:  131908\n",
      "Predicción exitosa: Covid19 - Negativo(predicción = 0 | confianza:  0.5724658966064453 %)\n",
      "Index:  67923\n",
      "Predicción exitosa: Covid19 - Negativo(predicción = 0 | confianza:  0.5724658966064453 %)\n",
      "Index:  212058\n",
      "Predicción exitosa: Covid19 - Negativo(predicción = 0 | confianza:  0.5724658966064453 %)\n",
      "Index:  145002\n",
      "Predicción errónea: Covid19 - Negativo(predicción = 0 | confianza:  0.5724658966064453 %)\n",
      "Index:  147741\n",
      "Predicción exitosa: Covid19 - Negativo(predicción = 0 | confianza:  0.5724658966064453 %)\n",
      "Index:  167942\n",
      "Predicción exitosa: Covid19 - Negativo(predicción = 0 | confianza:  0.5724658966064453 %)\n"
     ]
    }
   ],
   "source": [
    "for _ in range(10):\n",
    "    index = rnd.randint(0, X_test.shape[0])\n",
    "    print('Index: ', index)\n",
    "    \n",
    "    x_predict = X_test.iloc[index]\n",
    "    y_real = y_test.iloc[index]\n",
    "    x_predict = pre_processing(x_predict)\n",
    "    prediction = mlp_model.predict(x_predict)\n",
    "    y_predict = np.argmax(prediction)\n",
    "    \n",
    "    msg = classes[y_predict] + '(predicción = {0} | confianza: '.format(y_predict) + ' {0} %)'.format(prediction[y_predict][0])\n",
    "    if (y_real == y_predict):\n",
    "        print('Predicción exitosa: ' + msg)\n",
    "    else:\n",
    "        print('Predicción errónea: ' + msg)"
   ]
  }
 ],
 "metadata": {
  "kernelspec": {
   "display_name": "Python 3",
   "language": "python",
   "name": "python3"
  },
  "language_info": {
   "codemirror_mode": {
    "name": "ipython",
    "version": 3
   },
   "file_extension": ".py",
   "mimetype": "text/x-python",
   "name": "python",
   "nbconvert_exporter": "python",
   "pygments_lexer": "ipython3",
   "version": "3.6.10"
  }
 },
 "nbformat": 4,
 "nbformat_minor": 2
}
