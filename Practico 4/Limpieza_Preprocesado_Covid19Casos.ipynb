{
 "cells": [
  {
   "cell_type": "markdown",
   "metadata": {
    "colab_type": "text",
    "id": "SanA_4G0y3mv"
   },
   "source": [
    "# DiploDatos 2020 - Coronavirus en Argentina"
   ]
  },
  {
   "cell_type": "markdown",
   "metadata": {},
   "source": [
    "## En este Notebook se realizará el proceso de Limpieza, Pre-Procesado y Feature Engineer sobre el Dataset Covid19Casos"
   ]
  },
  {
   "cell_type": "code",
   "execution_count": 1,
   "metadata": {
    "colab": {
     "base_uri": "https://localhost:8080/",
     "height": 17
    },
    "colab_type": "code",
    "executionInfo": {
     "elapsed": 2272,
     "status": "ok",
     "timestamp": 1596131638141,
     "user": {
      "displayName": "Maria Lucia Pappaterra",
      "photoUrl": "",
      "userId": "02022975574182658400"
     },
     "user_tz": 180
    },
    "id": "zWT7m8VqM1pC",
    "outputId": "f353166a-2a62-41a2-b080-55a60f8d2afb"
   },
   "outputs": [
    {
     "data": {
      "text/html": [
       "<style>.container { width:90% !important; }</style>"
      ],
      "text/plain": [
       "<IPython.core.display.HTML object>"
      ]
     },
     "metadata": {},
     "output_type": "display_data"
    }
   ],
   "source": [
    "### Aumentar el ancho del notebook\n",
    "from IPython.core.display import display, HTML\n",
    "display(HTML(\"<style>.container { width:90% !important; }</style>\"))"
   ]
  },
  {
   "cell_type": "markdown",
   "metadata": {
    "colab_type": "text",
    "id": "3m3osgN0Co99"
   },
   "source": [
    "Veamos unos sencillos (e incompletos) **ejemplos**."
   ]
  },
  {
   "cell_type": "markdown",
   "metadata": {
    "colab_type": "text",
    "id": "ll36j6ftM5OK"
   },
   "source": [
    "### Carga de datos"
   ]
  },
  {
   "cell_type": "code",
   "execution_count": 2,
   "metadata": {
    "colab": {},
    "colab_type": "code",
    "id": "nX4ZothRGYOz"
   },
   "outputs": [],
   "source": [
    "# Importamos librerías necesarias\n",
    "\n",
    "import pandas as pd\n",
    "import numpy as np\n",
    "import matplotlib.pyplot as plt"
   ]
  },
  {
   "cell_type": "markdown",
   "metadata": {},
   "source": [
    "### Experimentación con el dataset: Covid19Casos"
   ]
  },
  {
   "cell_type": "markdown",
   "metadata": {},
   "source": [
    "##### Dataset - Covid19Casos\n",
    "- Source: http://datos.salud.gob.ar/dataset/covid-19-casos-registrados-en-la-republica-argentina/archivo/fd657d02-a33a-498b-a91b-2ef1a68b8d16"
   ]
  },
  {
   "cell_type": "code",
   "execution_count": 3,
   "metadata": {},
   "outputs": [],
   "source": [
    "url = 'https://sisa.msal.gov.ar/datos/descargas/covid-19/files/Covid19Casos.csv'\n",
    "\n",
    "df = pd.read_csv(url, error_bad_lines=False)"
   ]
  },
  {
   "cell_type": "code",
   "execution_count": 4,
   "metadata": {},
   "outputs": [],
   "source": [
    "dataset = df.copy(deep=True)"
   ]
  },
  {
   "cell_type": "code",
   "execution_count": 5,
   "metadata": {},
   "outputs": [
    {
     "data": {
      "text/html": [
       "<div>\n",
       "<style scoped>\n",
       "    .dataframe tbody tr th:only-of-type {\n",
       "        vertical-align: middle;\n",
       "    }\n",
       "\n",
       "    .dataframe tbody tr th {\n",
       "        vertical-align: top;\n",
       "    }\n",
       "\n",
       "    .dataframe thead th {\n",
       "        text-align: right;\n",
       "    }\n",
       "</style>\n",
       "<table border=\"1\" class=\"dataframe\">\n",
       "  <thead>\n",
       "    <tr style=\"text-align: right;\">\n",
       "      <th></th>\n",
       "      <th>id_evento_caso</th>\n",
       "      <th>sexo</th>\n",
       "      <th>edad</th>\n",
       "      <th>edad_años_meses</th>\n",
       "      <th>residencia_pais_nombre</th>\n",
       "      <th>residencia_provincia_nombre</th>\n",
       "      <th>residencia_departamento_nombre</th>\n",
       "      <th>carga_provincia_nombre</th>\n",
       "      <th>fecha_inicio_sintomas</th>\n",
       "      <th>fecha_apertura</th>\n",
       "      <th>...</th>\n",
       "      <th>fecha_fallecimiento</th>\n",
       "      <th>asistencia_respiratoria_mecanica</th>\n",
       "      <th>carga_provincia_id</th>\n",
       "      <th>origen_financiamiento</th>\n",
       "      <th>clasificacion</th>\n",
       "      <th>clasificacion_resumen</th>\n",
       "      <th>residencia_provincia_id</th>\n",
       "      <th>fecha_diagnostico</th>\n",
       "      <th>residencia_departamento_id</th>\n",
       "      <th>ultima_actualizacion</th>\n",
       "    </tr>\n",
       "  </thead>\n",
       "  <tbody>\n",
       "    <tr>\n",
       "      <th>0</th>\n",
       "      <td>1000000</td>\n",
       "      <td>M</td>\n",
       "      <td>53.0</td>\n",
       "      <td>Años</td>\n",
       "      <td>Argentina</td>\n",
       "      <td>CABA</td>\n",
       "      <td>SIN ESPECIFICAR</td>\n",
       "      <td>Buenos Aires</td>\n",
       "      <td>NaN</td>\n",
       "      <td>2020-06-01</td>\n",
       "      <td>...</td>\n",
       "      <td>NaN</td>\n",
       "      <td>NO</td>\n",
       "      <td>6</td>\n",
       "      <td>Privado</td>\n",
       "      <td>Caso Descartado</td>\n",
       "      <td>Descartado</td>\n",
       "      <td>2</td>\n",
       "      <td>2020-06-09</td>\n",
       "      <td>0</td>\n",
       "      <td>2020-11-01</td>\n",
       "    </tr>\n",
       "    <tr>\n",
       "      <th>1</th>\n",
       "      <td>1000002</td>\n",
       "      <td>M</td>\n",
       "      <td>21.0</td>\n",
       "      <td>Años</td>\n",
       "      <td>Argentina</td>\n",
       "      <td>Buenos Aires</td>\n",
       "      <td>La Matanza</td>\n",
       "      <td>Buenos Aires</td>\n",
       "      <td>NaN</td>\n",
       "      <td>2020-06-01</td>\n",
       "      <td>...</td>\n",
       "      <td>NaN</td>\n",
       "      <td>NO</td>\n",
       "      <td>6</td>\n",
       "      <td>Público</td>\n",
       "      <td>Caso Descartado</td>\n",
       "      <td>Descartado</td>\n",
       "      <td>6</td>\n",
       "      <td>2020-06-01</td>\n",
       "      <td>427</td>\n",
       "      <td>2020-11-01</td>\n",
       "    </tr>\n",
       "    <tr>\n",
       "      <th>2</th>\n",
       "      <td>1000003</td>\n",
       "      <td>F</td>\n",
       "      <td>40.0</td>\n",
       "      <td>Años</td>\n",
       "      <td>Argentina</td>\n",
       "      <td>Córdoba</td>\n",
       "      <td>Capital</td>\n",
       "      <td>Córdoba</td>\n",
       "      <td>2020-05-24</td>\n",
       "      <td>2020-06-01</td>\n",
       "      <td>...</td>\n",
       "      <td>NaN</td>\n",
       "      <td>NO</td>\n",
       "      <td>14</td>\n",
       "      <td>Privado</td>\n",
       "      <td>Caso Descartado</td>\n",
       "      <td>Descartado</td>\n",
       "      <td>14</td>\n",
       "      <td>2020-06-01</td>\n",
       "      <td>14</td>\n",
       "      <td>2020-11-01</td>\n",
       "    </tr>\n",
       "    <tr>\n",
       "      <th>3</th>\n",
       "      <td>1000005</td>\n",
       "      <td>F</td>\n",
       "      <td>58.0</td>\n",
       "      <td>Años</td>\n",
       "      <td>Argentina</td>\n",
       "      <td>Mendoza</td>\n",
       "      <td>Las Heras</td>\n",
       "      <td>Mendoza</td>\n",
       "      <td>NaN</td>\n",
       "      <td>2020-06-01</td>\n",
       "      <td>...</td>\n",
       "      <td>NaN</td>\n",
       "      <td>NO</td>\n",
       "      <td>50</td>\n",
       "      <td>Público</td>\n",
       "      <td>Caso Descartado</td>\n",
       "      <td>Descartado</td>\n",
       "      <td>50</td>\n",
       "      <td>2020-06-01</td>\n",
       "      <td>49</td>\n",
       "      <td>2020-11-01</td>\n",
       "    </tr>\n",
       "    <tr>\n",
       "      <th>4</th>\n",
       "      <td>1000006</td>\n",
       "      <td>M</td>\n",
       "      <td>28.0</td>\n",
       "      <td>Años</td>\n",
       "      <td>Argentina</td>\n",
       "      <td>Buenos Aires</td>\n",
       "      <td>Malvinas Argentinas</td>\n",
       "      <td>Buenos Aires</td>\n",
       "      <td>2020-05-30</td>\n",
       "      <td>2020-06-01</td>\n",
       "      <td>...</td>\n",
       "      <td>NaN</td>\n",
       "      <td>NO</td>\n",
       "      <td>6</td>\n",
       "      <td>Público</td>\n",
       "      <td>Caso sospechoso - No Activo - Con muestra sin ...</td>\n",
       "      <td>Sospechoso</td>\n",
       "      <td>6</td>\n",
       "      <td>NaN</td>\n",
       "      <td>515</td>\n",
       "      <td>2020-11-01</td>\n",
       "    </tr>\n",
       "    <tr>\n",
       "      <th>5</th>\n",
       "      <td>1000007</td>\n",
       "      <td>M</td>\n",
       "      <td>26.0</td>\n",
       "      <td>Años</td>\n",
       "      <td>Argentina</td>\n",
       "      <td>Formosa</td>\n",
       "      <td>Patiño</td>\n",
       "      <td>Formosa</td>\n",
       "      <td>NaN</td>\n",
       "      <td>2020-06-01</td>\n",
       "      <td>...</td>\n",
       "      <td>NaN</td>\n",
       "      <td>NO</td>\n",
       "      <td>34</td>\n",
       "      <td>Público</td>\n",
       "      <td>Caso confirmado por laboratorio - No Activo po...</td>\n",
       "      <td>Confirmado</td>\n",
       "      <td>34</td>\n",
       "      <td>2020-06-25</td>\n",
       "      <td>35</td>\n",
       "      <td>2020-11-01</td>\n",
       "    </tr>\n",
       "    <tr>\n",
       "      <th>6</th>\n",
       "      <td>1000008</td>\n",
       "      <td>F</td>\n",
       "      <td>69.0</td>\n",
       "      <td>Años</td>\n",
       "      <td>Argentina</td>\n",
       "      <td>CABA</td>\n",
       "      <td>SIN ESPECIFICAR</td>\n",
       "      <td>CABA</td>\n",
       "      <td>2020-05-31</td>\n",
       "      <td>2020-06-01</td>\n",
       "      <td>...</td>\n",
       "      <td>NaN</td>\n",
       "      <td>NO</td>\n",
       "      <td>2</td>\n",
       "      <td>Privado</td>\n",
       "      <td>Caso Descartado</td>\n",
       "      <td>Descartado</td>\n",
       "      <td>2</td>\n",
       "      <td>2020-06-01</td>\n",
       "      <td>0</td>\n",
       "      <td>2020-11-01</td>\n",
       "    </tr>\n",
       "    <tr>\n",
       "      <th>7</th>\n",
       "      <td>1000009</td>\n",
       "      <td>M</td>\n",
       "      <td>73.0</td>\n",
       "      <td>Años</td>\n",
       "      <td>Argentina</td>\n",
       "      <td>Buenos Aires</td>\n",
       "      <td>Esteban Echeverría</td>\n",
       "      <td>Buenos Aires</td>\n",
       "      <td>2020-05-31</td>\n",
       "      <td>2020-06-01</td>\n",
       "      <td>...</td>\n",
       "      <td>NaN</td>\n",
       "      <td>NO</td>\n",
       "      <td>6</td>\n",
       "      <td>Privado</td>\n",
       "      <td>Caso Descartado</td>\n",
       "      <td>Descartado</td>\n",
       "      <td>6</td>\n",
       "      <td>2020-06-02</td>\n",
       "      <td>260</td>\n",
       "      <td>2020-11-01</td>\n",
       "    </tr>\n",
       "    <tr>\n",
       "      <th>8</th>\n",
       "      <td>1000010</td>\n",
       "      <td>M</td>\n",
       "      <td>7.0</td>\n",
       "      <td>Años</td>\n",
       "      <td>Argentina</td>\n",
       "      <td>CABA</td>\n",
       "      <td>COMUNA 07</td>\n",
       "      <td>CABA</td>\n",
       "      <td>NaN</td>\n",
       "      <td>2020-06-01</td>\n",
       "      <td>...</td>\n",
       "      <td>NaN</td>\n",
       "      <td>NO</td>\n",
       "      <td>2</td>\n",
       "      <td>Público</td>\n",
       "      <td>Caso confirmado por laboratorio - No activo (p...</td>\n",
       "      <td>Confirmado</td>\n",
       "      <td>2</td>\n",
       "      <td>2020-06-01</td>\n",
       "      <td>7</td>\n",
       "      <td>2020-11-01</td>\n",
       "    </tr>\n",
       "    <tr>\n",
       "      <th>9</th>\n",
       "      <td>1000011</td>\n",
       "      <td>M</td>\n",
       "      <td>42.0</td>\n",
       "      <td>Años</td>\n",
       "      <td>Argentina</td>\n",
       "      <td>Santa Fe</td>\n",
       "      <td>Rosario</td>\n",
       "      <td>Santa Fe</td>\n",
       "      <td>NaN</td>\n",
       "      <td>2020-06-01</td>\n",
       "      <td>...</td>\n",
       "      <td>NaN</td>\n",
       "      <td>NO</td>\n",
       "      <td>82</td>\n",
       "      <td>Público</td>\n",
       "      <td>Caso Descartado</td>\n",
       "      <td>Descartado</td>\n",
       "      <td>82</td>\n",
       "      <td>2020-06-01</td>\n",
       "      <td>84</td>\n",
       "      <td>2020-11-01</td>\n",
       "    </tr>\n",
       "  </tbody>\n",
       "</table>\n",
       "<p>10 rows × 25 columns</p>\n",
       "</div>"
      ],
      "text/plain": [
       "   id_evento_caso sexo  edad edad_años_meses residencia_pais_nombre  \\\n",
       "0         1000000    M  53.0            Años              Argentina   \n",
       "1         1000002    M  21.0            Años              Argentina   \n",
       "2         1000003    F  40.0            Años              Argentina   \n",
       "3         1000005    F  58.0            Años              Argentina   \n",
       "4         1000006    M  28.0            Años              Argentina   \n",
       "5         1000007    M  26.0            Años              Argentina   \n",
       "6         1000008    F  69.0            Años              Argentina   \n",
       "7         1000009    M  73.0            Años              Argentina   \n",
       "8         1000010    M   7.0            Años              Argentina   \n",
       "9         1000011    M  42.0            Años              Argentina   \n",
       "\n",
       "  residencia_provincia_nombre residencia_departamento_nombre  \\\n",
       "0                        CABA                SIN ESPECIFICAR   \n",
       "1                Buenos Aires                     La Matanza   \n",
       "2                     Córdoba                        Capital   \n",
       "3                     Mendoza                      Las Heras   \n",
       "4                Buenos Aires            Malvinas Argentinas   \n",
       "5                     Formosa                         Patiño   \n",
       "6                        CABA                SIN ESPECIFICAR   \n",
       "7                Buenos Aires             Esteban Echeverría   \n",
       "8                        CABA                      COMUNA 07   \n",
       "9                    Santa Fe                        Rosario   \n",
       "\n",
       "  carga_provincia_nombre fecha_inicio_sintomas fecha_apertura  ...  \\\n",
       "0           Buenos Aires                   NaN     2020-06-01  ...   \n",
       "1           Buenos Aires                   NaN     2020-06-01  ...   \n",
       "2                Córdoba            2020-05-24     2020-06-01  ...   \n",
       "3                Mendoza                   NaN     2020-06-01  ...   \n",
       "4           Buenos Aires            2020-05-30     2020-06-01  ...   \n",
       "5                Formosa                   NaN     2020-06-01  ...   \n",
       "6                   CABA            2020-05-31     2020-06-01  ...   \n",
       "7           Buenos Aires            2020-05-31     2020-06-01  ...   \n",
       "8                   CABA                   NaN     2020-06-01  ...   \n",
       "9               Santa Fe                   NaN     2020-06-01  ...   \n",
       "\n",
       "   fecha_fallecimiento asistencia_respiratoria_mecanica carga_provincia_id  \\\n",
       "0                  NaN                               NO                  6   \n",
       "1                  NaN                               NO                  6   \n",
       "2                  NaN                               NO                 14   \n",
       "3                  NaN                               NO                 50   \n",
       "4                  NaN                               NO                  6   \n",
       "5                  NaN                               NO                 34   \n",
       "6                  NaN                               NO                  2   \n",
       "7                  NaN                               NO                  6   \n",
       "8                  NaN                               NO                  2   \n",
       "9                  NaN                               NO                 82   \n",
       "\n",
       "  origen_financiamiento                                      clasificacion  \\\n",
       "0               Privado                                    Caso Descartado   \n",
       "1               Público                                    Caso Descartado   \n",
       "2               Privado                                    Caso Descartado   \n",
       "3               Público                                    Caso Descartado   \n",
       "4               Público  Caso sospechoso - No Activo - Con muestra sin ...   \n",
       "5               Público  Caso confirmado por laboratorio - No Activo po...   \n",
       "6               Privado                                    Caso Descartado   \n",
       "7               Privado                                    Caso Descartado   \n",
       "8               Público  Caso confirmado por laboratorio - No activo (p...   \n",
       "9               Público                                    Caso Descartado   \n",
       "\n",
       "  clasificacion_resumen residencia_provincia_id  fecha_diagnostico  \\\n",
       "0            Descartado                       2         2020-06-09   \n",
       "1            Descartado                       6         2020-06-01   \n",
       "2            Descartado                      14         2020-06-01   \n",
       "3            Descartado                      50         2020-06-01   \n",
       "4            Sospechoso                       6                NaN   \n",
       "5            Confirmado                      34         2020-06-25   \n",
       "6            Descartado                       2         2020-06-01   \n",
       "7            Descartado                       6         2020-06-02   \n",
       "8            Confirmado                       2         2020-06-01   \n",
       "9            Descartado                      82         2020-06-01   \n",
       "\n",
       "  residencia_departamento_id ultima_actualizacion  \n",
       "0                          0           2020-11-01  \n",
       "1                        427           2020-11-01  \n",
       "2                         14           2020-11-01  \n",
       "3                         49           2020-11-01  \n",
       "4                        515           2020-11-01  \n",
       "5                         35           2020-11-01  \n",
       "6                          0           2020-11-01  \n",
       "7                        260           2020-11-01  \n",
       "8                          7           2020-11-01  \n",
       "9                         84           2020-11-01  \n",
       "\n",
       "[10 rows x 25 columns]"
      ]
     },
     "execution_count": 5,
     "metadata": {},
     "output_type": "execute_result"
    }
   ],
   "source": [
    "dataset.head(10)"
   ]
  },
  {
   "cell_type": "code",
   "execution_count": 6,
   "metadata": {},
   "outputs": [
    {
     "data": {
      "text/plain": [
       "(2843278, 25)"
      ]
     },
     "execution_count": 6,
     "metadata": {},
     "output_type": "execute_result"
    }
   ],
   "source": [
    "dataset.shape"
   ]
  },
  {
   "cell_type": "code",
   "execution_count": 7,
   "metadata": {},
   "outputs": [
    {
     "data": {
      "text/plain": [
       "id_evento_caso                      2843278\n",
       "sexo                                2843278\n",
       "edad                                2843278\n",
       "edad_años_meses                     2843278\n",
       "residencia_pais_nombre              2843278\n",
       "residencia_provincia_nombre         2843278\n",
       "residencia_departamento_nombre      2843278\n",
       "carga_provincia_nombre              2843278\n",
       "fecha_inicio_sintomas               2843278\n",
       "fecha_apertura                      2843278\n",
       "sepi_apertura                       2843278\n",
       "fecha_internacion                   2843278\n",
       "cuidado_intensivo                   2843278\n",
       "fecha_cui_intensivo                 2843278\n",
       "fallecido                           2843278\n",
       "fecha_fallecimiento                 2843278\n",
       "asistencia_respiratoria_mecanica    2843278\n",
       "carga_provincia_id                  2843278\n",
       "origen_financiamiento               2843278\n",
       "clasificacion                       2843278\n",
       "clasificacion_resumen               2843278\n",
       "residencia_provincia_id             2843278\n",
       "fecha_diagnostico                   2843278\n",
       "residencia_departamento_id          2843278\n",
       "ultima_actualizacion                2843278\n",
       "dtype: int64"
      ]
     },
     "execution_count": 7,
     "metadata": {},
     "output_type": "execute_result"
    }
   ],
   "source": [
    "dataset.isnull().count()"
   ]
  },
  {
   "cell_type": "code",
   "execution_count": 8,
   "metadata": {},
   "outputs": [
    {
     "name": "stdout",
     "output_type": "stream",
     "text": [
      "<class 'pandas.core.frame.DataFrame'>\n",
      "RangeIndex: 2843278 entries, 0 to 2843277\n",
      "Data columns (total 25 columns):\n",
      " #   Column                            Dtype  \n",
      "---  ------                            -----  \n",
      " 0   id_evento_caso                    int64  \n",
      " 1   sexo                              object \n",
      " 2   edad                              float64\n",
      " 3   edad_años_meses                   object \n",
      " 4   residencia_pais_nombre            object \n",
      " 5   residencia_provincia_nombre       object \n",
      " 6   residencia_departamento_nombre    object \n",
      " 7   carga_provincia_nombre            object \n",
      " 8   fecha_inicio_sintomas             object \n",
      " 9   fecha_apertura                    object \n",
      " 10  sepi_apertura                     int64  \n",
      " 11  fecha_internacion                 object \n",
      " 12  cuidado_intensivo                 object \n",
      " 13  fecha_cui_intensivo               object \n",
      " 14  fallecido                         object \n",
      " 15  fecha_fallecimiento               object \n",
      " 16  asistencia_respiratoria_mecanica  object \n",
      " 17  carga_provincia_id                int64  \n",
      " 18  origen_financiamiento             object \n",
      " 19  clasificacion                     object \n",
      " 20  clasificacion_resumen             object \n",
      " 21  residencia_provincia_id           int64  \n",
      " 22  fecha_diagnostico                 object \n",
      " 23  residencia_departamento_id        int64  \n",
      " 24  ultima_actualizacion              object \n",
      "dtypes: float64(1), int64(5), object(19)\n",
      "memory usage: 542.3+ MB\n"
     ]
    }
   ],
   "source": [
    "dataset.info()"
   ]
  },
  {
   "cell_type": "code",
   "execution_count": 9,
   "metadata": {},
   "outputs": [],
   "source": [
    "dataset['fecha_inicio_sintomas'] = pd.to_datetime(dataset['fecha_inicio_sintomas'], format='%Y-%m-%d')\n",
    "dataset['fecha_apertura'] = pd.to_datetime(dataset['fecha_apertura'], format='%Y-%m-%d')\n",
    "dataset['fecha_internacion'] = pd.to_datetime(dataset['fecha_internacion'], format='%Y-%m-%d')\n",
    "dataset['fecha_cui_intensivo'] = pd.to_datetime(dataset['fecha_cui_intensivo'], format='%Y-%m-%d')\n",
    "dataset['fecha_fallecimiento'] = pd.to_datetime(dataset['fecha_fallecimiento'], format='%Y-%m-%d')\n",
    "dataset['fecha_diagnostico'] = pd.to_datetime(dataset['fecha_diagnostico'], format='%Y-%m-%d')"
   ]
  },
  {
   "cell_type": "markdown",
   "metadata": {},
   "source": [
    "## Limpieza, Preprocesado y Feature Engineering"
   ]
  },
  {
   "cell_type": "code",
   "execution_count": 10,
   "metadata": {},
   "outputs": [
    {
     "data": {
      "text/plain": [
       "id_evento_caso                               Int64\n",
       "sexo                                        string\n",
       "edad                                         Int64\n",
       "edad_años_meses                             string\n",
       "residencia_pais_nombre                      string\n",
       "residencia_provincia_nombre                 string\n",
       "residencia_departamento_nombre              string\n",
       "carga_provincia_nombre                      string\n",
       "fecha_inicio_sintomas               datetime64[ns]\n",
       "fecha_apertura                      datetime64[ns]\n",
       "sepi_apertura                                Int64\n",
       "fecha_internacion                   datetime64[ns]\n",
       "cuidado_intensivo                           string\n",
       "fecha_cui_intensivo                 datetime64[ns]\n",
       "fallecido                                   string\n",
       "fecha_fallecimiento                 datetime64[ns]\n",
       "asistencia_respiratoria_mecanica            string\n",
       "carga_provincia_id                           Int64\n",
       "origen_financiamiento                       string\n",
       "clasificacion                               string\n",
       "clasificacion_resumen                       string\n",
       "residencia_provincia_id                      Int64\n",
       "fecha_diagnostico                   datetime64[ns]\n",
       "residencia_departamento_id                   Int64\n",
       "ultima_actualizacion                        string\n",
       "dtype: object"
      ]
     },
     "execution_count": 10,
     "metadata": {},
     "output_type": "execute_result"
    }
   ],
   "source": [
    "dataset.convert_dtypes().dtypes"
   ]
  },
  {
   "cell_type": "markdown",
   "metadata": {},
   "source": [
    "### Sexo"
   ]
  },
  {
   "cell_type": "code",
   "execution_count": 11,
   "metadata": {},
   "outputs": [
    {
     "data": {
      "text/plain": [
       "F     1447872\n",
       "M     1386303\n",
       "NR       9103\n",
       "Name: sexo, dtype: int64"
      ]
     },
     "execution_count": 11,
     "metadata": {},
     "output_type": "execute_result"
    },
    {
     "data": {
      "image/png": "[encoded data removed]",
      "text/plain": [
       "<Figure size 432x288 with 1 Axes>"
      ]
     },
     "metadata": {
      "needs_background": "light"
     },
     "output_type": "display_data"
    }
   ],
   "source": [
    "dataset.sexo.value_counts().plot.bar()\n",
    "dataset.sexo.value_counts()"
   ]
  },
  {
   "cell_type": "code",
   "execution_count": 12,
   "metadata": {},
   "outputs": [],
   "source": [
    "### One Hot Encoder\n",
    "dataset = pd.concat([dataset, pd.get_dummies(dataset['sexo'], prefix='sexo')],axis=1).drop(['sexo'], axis=1)"
   ]
  },
  {
   "cell_type": "code",
   "execution_count": 13,
   "metadata": {},
   "outputs": [],
   "source": [
    "dataset = dataset.rename(columns={\"sexo_F\": \"sexo_f\", \n",
    "                                  \"sexo_M\": \"sexo_m\",\n",
    "                                  \"sexo_NR\": \"sexo_nr\"})"
   ]
  },
  {
   "cell_type": "markdown",
   "metadata": {},
   "source": [
    "### Edad"
   ]
  },
  {
   "cell_type": "code",
   "execution_count": 14,
   "metadata": {},
   "outputs": [
    {
     "name": "stderr",
     "output_type": "stream",
     "text": [
      "C:\\Users\\lucas\\.conda\\envs\\diplodatos-iaa\\lib\\site-packages\\pandas\\core\\indexing.py:671: SettingWithCopyWarning: \n",
      "A value is trying to be set on a copy of a slice from a DataFrame\n",
      "\n",
      "See the caveats in the documentation: https://pandas.pydata.org/pandas-docs/stable/user_guide/indexing.html#returning-a-view-versus-a-copy\n",
      "  self._setitem_with_indexer(indexer, value)\n"
     ]
    }
   ],
   "source": [
    "# Paso meses a años (cuando la edad está expresada en meses)\n",
    "dataset['edad'].loc[dataset.edad_años_meses == 'Meses'] = 0"
   ]
  },
  {
   "cell_type": "code",
   "execution_count": 15,
   "metadata": {},
   "outputs": [],
   "source": [
    "# Eliminamos la columna edad_años_meses\n",
    "dataset.drop(['edad_años_meses'], axis=1, inplace=True)"
   ]
  },
  {
   "cell_type": "markdown",
   "metadata": {},
   "source": [
    "### Lugares"
   ]
  },
  {
   "cell_type": "markdown",
   "metadata": {},
   "source": [
    "#### País"
   ]
  },
  {
   "cell_type": "code",
   "execution_count": 16,
   "metadata": {},
   "outputs": [
    {
     "data": {
      "text/plain": [
       "Argentina               2726547\n",
       "SIN ESPECIFICAR          116261\n",
       "Paraguay                    119\n",
       "Bolivia                      99\n",
       "Chile                        55\n",
       "Brasil                       51\n",
       "Uruguay                      36\n",
       "Perú                         24\n",
       "Italia                       15\n",
       "Venezuela                     9\n",
       "Alemania                      9\n",
       "Francia                       8\n",
       "España                        8\n",
       "China                         5\n",
       "Reino Unido                   4\n",
       "Colombia                      4\n",
       "Australia                     3\n",
       "EE.UU.                        3\n",
       "Austria                       2\n",
       "Ecuador                       2\n",
       "Filipinas                     2\n",
       "Malasia                       2\n",
       "Bélgica                       1\n",
       "Líbano                        1\n",
       "Portugal                      1\n",
       "Irlanda                       1\n",
       "Canadá                        1\n",
       "Polonia                       1\n",
       "Panamá                        1\n",
       "Países Bajos                  1\n",
       "Ucrania                       1\n",
       "República Dominicana          1\n",
       "Name: residencia_pais_nombre, dtype: int64"
      ]
     },
     "execution_count": 16,
     "metadata": {},
     "output_type": "execute_result"
    },
    {
     "data": {
      "image/png": "[encoded data removed]",
      "text/plain": [
       "<Figure size 432x288 with 1 Axes>"
      ]
     },
     "metadata": {
      "needs_background": "light"
     },
     "output_type": "display_data"
    }
   ],
   "source": [
    "dataset.residencia_pais_nombre.value_counts().plot.bar()\n",
    "dataset.residencia_pais_nombre.value_counts()"
   ]
  },
  {
   "cell_type": "code",
   "execution_count": 17,
   "metadata": {},
   "outputs": [
    {
     "name": "stdout",
     "output_type": "stream",
     "text": [
      "Cantidad de registros donde el país de residencia es Argentina: 2726547 (95.89%)\n"
     ]
    }
   ],
   "source": [
    "cant_total = dataset.shape[0]\n",
    "cant_arg = dataset[dataset.residencia_pais_nombre == \"Argentina\"].shape[0]\n",
    "porcentaje = (cant_arg * 100) / cant_total\n",
    "\n",
    "print('Cantidad de registros donde el país de residencia es Argentina: {0} ({1}%)'.format(cant_arg, round(porcentaje, 2)))"
   ]
  },
  {
   "cell_type": "markdown",
   "metadata": {},
   "source": [
    "- Se conservan sólo los datos de personas residentes en Argentina"
   ]
  },
  {
   "cell_type": "code",
   "execution_count": 18,
   "metadata": {},
   "outputs": [],
   "source": [
    "dataset.drop(dataset[dataset.residencia_pais_nombre != \"Argentina\"].index, inplace=True)"
   ]
  },
  {
   "cell_type": "code",
   "execution_count": 19,
   "metadata": {},
   "outputs": [],
   "source": [
    "#Elimino la columna país porque todos los registros tienen el mismo valor\n",
    "dataset.drop(['residencia_pais_nombre'], axis=1, inplace=True)"
   ]
  },
  {
   "cell_type": "markdown",
   "metadata": {},
   "source": [
    "#### carga_provincia_nombre"
   ]
  },
  {
   "cell_type": "code",
   "execution_count": 20,
   "metadata": {},
   "outputs": [
    {
     "name": "stdout",
     "output_type": "stream",
     "text": [
      "Cantidad de registros donde la provincia de residencia es igual a la de carga: 2355313 (82.84%)\n"
     ]
    }
   ],
   "source": [
    "cant_iguales = dataset[dataset.residencia_provincia_nombre == dataset.carga_provincia_nombre].shape[0]\n",
    "porcentaje = (cant_iguales * 100) / cant_total\n",
    "\n",
    "print('Cantidad de registros donde la provincia de residencia es igual a la de carga: {0} ({1}%)'.format(cant_iguales, round(porcentaje, 2)))"
   ]
  },
  {
   "cell_type": "code",
   "execution_count": 21,
   "metadata": {},
   "outputs": [
    {
     "data": {
      "text/plain": [
       "Buenos Aires           1014565\n",
       "CABA                    716063\n",
       "Santa Fe                188000\n",
       "Córdoba                 156464\n",
       "Mendoza                  98053\n",
       "Tucumán                  91859\n",
       "Chaco                    61516\n",
       "Jujuy                    44901\n",
       "Río Negro                43926\n",
       "Neuquén                  41686\n",
       "Salta                    39551\n",
       "Santiago del Estero      35377\n",
       "Entre Ríos               34251\n",
       "Chubut                   26943\n",
       "San Luis                 22197\n",
       "Tierra del Fuego         20832\n",
       "La Rioja                 20357\n",
       "Santa Cruz               20105\n",
       "Corrientes               14432\n",
       "La Pampa                 13955\n",
       "Catamarca                 9187\n",
       "Misiones                  5556\n",
       "San Juan                  5456\n",
       "Formosa                   1315\n",
       "Name: carga_provincia_nombre, dtype: int64"
      ]
     },
     "execution_count": 21,
     "metadata": {},
     "output_type": "execute_result"
    },
    {
     "data": {
      "image/png": "[encoded data removed]",
      "text/plain": [
       "<Figure size 432x288 with 1 Axes>"
      ]
     },
     "metadata": {
      "needs_background": "light"
     },
     "output_type": "display_data"
    }
   ],
   "source": [
    "dataset.carga_provincia_nombre.value_counts().plot.bar()\n",
    "dataset.carga_provincia_nombre.value_counts()"
   ]
  },
  {
   "cell_type": "code",
   "execution_count": 22,
   "metadata": {},
   "outputs": [],
   "source": [
    "# Feature engineer => agregar columna que tenga un 1 si la pcia de carga es la misma y un 0 sino\n",
    "dataset['pcia_rec_eq_pcia_car'] = (dataset['residencia_provincia_nombre'] == dataset['carga_provincia_nombre'])\n",
    "dataset['pcia_rec_eq_pcia_car'] = dataset['pcia_rec_eq_pcia_car'].astype(int)"
   ]
  },
  {
   "cell_type": "code",
   "execution_count": 23,
   "metadata": {},
   "outputs": [
    {
     "data": {
      "text/html": [
       "<div>\n",
       "<style scoped>\n",
       "    .dataframe tbody tr th:only-of-type {\n",
       "        vertical-align: middle;\n",
       "    }\n",
       "\n",
       "    .dataframe tbody tr th {\n",
       "        vertical-align: top;\n",
       "    }\n",
       "\n",
       "    .dataframe thead th {\n",
       "        text-align: right;\n",
       "    }\n",
       "</style>\n",
       "<table border=\"1\" class=\"dataframe\">\n",
       "  <thead>\n",
       "    <tr style=\"text-align: right;\">\n",
       "      <th></th>\n",
       "      <th>id_evento_caso</th>\n",
       "      <th>residencia_provincia_nombre</th>\n",
       "      <th>carga_provincia_nombre</th>\n",
       "      <th>pcia_rec_eq_pcia_car</th>\n",
       "    </tr>\n",
       "  </thead>\n",
       "  <tbody>\n",
       "    <tr>\n",
       "      <th>0</th>\n",
       "      <td>1000000</td>\n",
       "      <td>CABA</td>\n",
       "      <td>Buenos Aires</td>\n",
       "      <td>0</td>\n",
       "    </tr>\n",
       "    <tr>\n",
       "      <th>1</th>\n",
       "      <td>1000002</td>\n",
       "      <td>Buenos Aires</td>\n",
       "      <td>Buenos Aires</td>\n",
       "      <td>1</td>\n",
       "    </tr>\n",
       "    <tr>\n",
       "      <th>2</th>\n",
       "      <td>1000003</td>\n",
       "      <td>Córdoba</td>\n",
       "      <td>Córdoba</td>\n",
       "      <td>1</td>\n",
       "    </tr>\n",
       "    <tr>\n",
       "      <th>3</th>\n",
       "      <td>1000005</td>\n",
       "      <td>Mendoza</td>\n",
       "      <td>Mendoza</td>\n",
       "      <td>1</td>\n",
       "    </tr>\n",
       "    <tr>\n",
       "      <th>4</th>\n",
       "      <td>1000006</td>\n",
       "      <td>Buenos Aires</td>\n",
       "      <td>Buenos Aires</td>\n",
       "      <td>1</td>\n",
       "    </tr>\n",
       "    <tr>\n",
       "      <th>...</th>\n",
       "      <td>...</td>\n",
       "      <td>...</td>\n",
       "      <td>...</td>\n",
       "      <td>...</td>\n",
       "    </tr>\n",
       "    <tr>\n",
       "      <th>2843273</th>\n",
       "      <td>999994</td>\n",
       "      <td>Tierra del Fuego</td>\n",
       "      <td>Tierra del Fuego</td>\n",
       "      <td>1</td>\n",
       "    </tr>\n",
       "    <tr>\n",
       "      <th>2843274</th>\n",
       "      <td>999995</td>\n",
       "      <td>Formosa</td>\n",
       "      <td>Formosa</td>\n",
       "      <td>1</td>\n",
       "    </tr>\n",
       "    <tr>\n",
       "      <th>2843275</th>\n",
       "      <td>999996</td>\n",
       "      <td>CABA</td>\n",
       "      <td>CABA</td>\n",
       "      <td>1</td>\n",
       "    </tr>\n",
       "    <tr>\n",
       "      <th>2843276</th>\n",
       "      <td>999997</td>\n",
       "      <td>CABA</td>\n",
       "      <td>Córdoba</td>\n",
       "      <td>0</td>\n",
       "    </tr>\n",
       "    <tr>\n",
       "      <th>2843277</th>\n",
       "      <td>999999</td>\n",
       "      <td>Buenos Aires</td>\n",
       "      <td>Buenos Aires</td>\n",
       "      <td>1</td>\n",
       "    </tr>\n",
       "  </tbody>\n",
       "</table>\n",
       "<p>2726547 rows × 4 columns</p>\n",
       "</div>"
      ],
      "text/plain": [
       "         id_evento_caso residencia_provincia_nombre carga_provincia_nombre  \\\n",
       "0               1000000                        CABA           Buenos Aires   \n",
       "1               1000002                Buenos Aires           Buenos Aires   \n",
       "2               1000003                     Córdoba                Córdoba   \n",
       "3               1000005                     Mendoza                Mendoza   \n",
       "4               1000006                Buenos Aires           Buenos Aires   \n",
       "...                 ...                         ...                    ...   \n",
       "2843273          999994            Tierra del Fuego       Tierra del Fuego   \n",
       "2843274          999995                     Formosa                Formosa   \n",
       "2843275          999996                        CABA                   CABA   \n",
       "2843276          999997                        CABA                Córdoba   \n",
       "2843277          999999                Buenos Aires           Buenos Aires   \n",
       "\n",
       "         pcia_rec_eq_pcia_car  \n",
       "0                           0  \n",
       "1                           1  \n",
       "2                           1  \n",
       "3                           1  \n",
       "4                           1  \n",
       "...                       ...  \n",
       "2843273                     1  \n",
       "2843274                     1  \n",
       "2843275                     1  \n",
       "2843276                     0  \n",
       "2843277                     1  \n",
       "\n",
       "[2726547 rows x 4 columns]"
      ]
     },
     "execution_count": 23,
     "metadata": {},
     "output_type": "execute_result"
    }
   ],
   "source": [
    "dataset[['id_evento_caso', 'residencia_provincia_nombre', 'carga_provincia_nombre', 'pcia_rec_eq_pcia_car']]"
   ]
  },
  {
   "cell_type": "code",
   "execution_count": 24,
   "metadata": {},
   "outputs": [],
   "source": [
    "#Elimino la columna país porque todos los registros tienen el mismo valor\n",
    "dataset.drop(['carga_provincia_nombre'], axis=1, inplace=True)"
   ]
  },
  {
   "cell_type": "markdown",
   "metadata": {},
   "source": [
    "#### Provincia"
   ]
  },
  {
   "cell_type": "code",
   "execution_count": 25,
   "metadata": {},
   "outputs": [
    {
     "data": {
      "text/plain": [
       "Buenos Aires           1269459\n",
       "CABA                    446745\n",
       "Santa Fe                186627\n",
       "Córdoba                 159190\n",
       "Mendoza                  98162\n",
       "Tucumán                  91611\n",
       "Chaco                    61411\n",
       "Río Negro                45059\n",
       "Jujuy                    44541\n",
       "Neuquén                  40901\n",
       "Salta                    40049\n",
       "Santiago del Estero      35724\n",
       "Entre Ríos               35598\n",
       "Chubut                   28069\n",
       "San Luis                 22407\n",
       "Tierra del Fuego         21173\n",
       "Santa Cruz               20524\n",
       "La Rioja                 20252\n",
       "Corrientes               15472\n",
       "La Pampa                 14320\n",
       "Catamarca                 9243\n",
       "Misiones                  7129\n",
       "San Juan                  5967\n",
       "SIN ESPECIFICAR           5184\n",
       "Formosa                   1730\n",
       "Name: residencia_provincia_nombre, dtype: int64"
      ]
     },
     "execution_count": 25,
     "metadata": {},
     "output_type": "execute_result"
    },
    {
     "data": {
      "image/png": "[encoded data removed]",
      "text/plain": [
       "<Figure size 432x288 with 1 Axes>"
      ]
     },
     "metadata": {
      "needs_background": "light"
     },
     "output_type": "display_data"
    }
   ],
   "source": [
    "dataset.residencia_provincia_nombre.value_counts().plot.bar()\n",
    "dataset.residencia_provincia_nombre.value_counts()"
   ]
  },
  {
   "cell_type": "code",
   "execution_count": 26,
   "metadata": {},
   "outputs": [],
   "source": [
    "dataset.drop(dataset[dataset.residencia_provincia_nombre == \"SIN ESPECIFICAR\"].index, inplace=True)"
   ]
  },
  {
   "cell_type": "code",
   "execution_count": 27,
   "metadata": {},
   "outputs": [],
   "source": [
    "### One Hot Encoder\n",
    "dataset = pd.concat([dataset, pd.get_dummies(dataset['residencia_provincia_nombre'], prefix='residencia_provincia')],axis=1).drop(['residencia_provincia_nombre'], axis=1)"
   ]
  },
  {
   "cell_type": "code",
   "execution_count": 28,
   "metadata": {},
   "outputs": [],
   "source": [
    "# Rename columns \n",
    "\n",
    "columns = {\n",
    "    'residencia_provincia_Buenos Aires': 'residencia_provincia_buenos_aires',\n",
    "    'residencia_provincia_CABA': 'residencia_provincia_caba',\n",
    "    'residencia_provincia_Catamarca': 'residencia_provincia_catamarca',\n",
    "    'residencia_provincia_Chaco': 'residencia_provincia_chaco',\n",
    "    'residencia_provincia_Chubut': 'residencia_provincia_chubut',\n",
    "    'residencia_provincia_corrientes': 'residencia_provincia_corrientes',\n",
    "    'residencia_provincia_Córdoba': 'residencia_provincia_cordoba',\n",
    "    'residencia_provincia_Entre Ríos': 'residencia_provincia_entre_rios',\n",
    "    'residencia_provincia_Formosa': 'residencia_provincia_formosa',\n",
    "    'residencia_provincia_Jujuy': 'residencia_provincia_jujuy',\n",
    "    'residencia_provincia_La Pampa': 'residencia_provincia_la_pampa',\n",
    "    'residencia_provincia_La Rioja': 'residencia_provincia_la_rioja',\n",
    "    'residencia_provincia_Mendoza': 'residencia_provincia_mendoza',\n",
    "    'residencia_provincia_Misiones': 'residencia_provincia_misiones',\n",
    "    'residencia_provincia_Neuquén': 'residencia_provincia_neuquen',\n",
    "    'residencia_provincia_Río Negro': 'residencia_provincia_rio_negro',\n",
    "    'residencia_provincia_Salta': 'residencia_provincia_salta',\n",
    "    'residencia_provincia_San Juan': 'residencia_provincia_san_juan',\n",
    "    'residencia_provincia_San Luis': 'residencia_provincia_san_luis',\n",
    "    'residencia_provincia_Santa Cruz': 'residencia_provincia_santa_cruz',\n",
    "    'residencia_provincia_Santa Fe': 'residencia_provincia_santa_fe',\n",
    "    'residencia_provincia_Santiago del Estero': 'residencia_provincia_santiago_del_estero',\n",
    "    'residencia_provincia_Tierra del Fuego': 'residencia_provincia_tierra_del_fuego',\n",
    "    'residencia_provincia_Tucumán': 'residencia_provincia_tucuman'\n",
    "}\n",
    "\n",
    "dataset = dataset.rename(columns=columns)"
   ]
  },
  {
   "cell_type": "markdown",
   "metadata": {},
   "source": [
    "#### Departamento"
   ]
  },
  {
   "cell_type": "code",
   "execution_count": 29,
   "metadata": {},
   "outputs": [
    {
     "data": {
      "text/plain": [
       "(446,)"
      ]
     },
     "execution_count": 29,
     "metadata": {},
     "output_type": "execute_result"
    }
   ],
   "source": [
    "dataset.residencia_departamento_nombre.unique().shape"
   ]
  },
  {
   "cell_type": "code",
   "execution_count": 30,
   "metadata": {},
   "outputs": [],
   "source": [
    "# Eliminamos la columna residencia_departamento_nombre\n",
    "dataset.drop(['residencia_departamento_nombre'], axis=1, inplace=True)"
   ]
  },
  {
   "cell_type": "markdown",
   "metadata": {},
   "source": [
    "- Se descarta el departamento porque agrega demasiada dispersión (445 nuevas columnas de One Hot Encoder)"
   ]
  },
  {
   "cell_type": "markdown",
   "metadata": {},
   "source": [
    "#### Eliminamos las columnas de lugares no necesarias: las que incluyen id's"
   ]
  },
  {
   "cell_type": "code",
   "execution_count": 31,
   "metadata": {},
   "outputs": [],
   "source": [
    "dataset.drop(['carga_provincia_id'], axis=1, inplace=True)\n",
    "dataset.drop(['residencia_provincia_id'], axis=1, inplace=True)\n",
    "dataset.drop(['residencia_departamento_id'], axis=1, inplace=True)"
   ]
  },
  {
   "cell_type": "markdown",
   "metadata": {},
   "source": [
    "### Fechas"
   ]
  },
  {
   "cell_type": "markdown",
   "metadata": {},
   "source": [
    "#### Análisis de nulos en fechas"
   ]
  },
  {
   "cell_type": "code",
   "execution_count": 32,
   "metadata": {},
   "outputs": [
    {
     "name": "stdout",
     "output_type": "stream",
     "text": [
      "fecha_inicio_sintomas\n",
      "False    1444158\n",
      "True     1277205\n",
      "Name: fecha_inicio_sintomas, dtype: int64\n",
      "**************************************************\n",
      "fecha_apertura\n",
      "False    2721362\n",
      "True           1\n",
      "Name: fecha_apertura, dtype: int64\n",
      "**************************************************\n",
      "fecha_internacion\n",
      "True     2533218\n",
      "False     188145\n",
      "Name: fecha_internacion, dtype: int64\n",
      "**************************************************\n",
      "fecha_cui_intensivo\n",
      "True     2693221\n",
      "False      28142\n",
      "Name: fecha_cui_intensivo, dtype: int64\n",
      "**************************************************\n",
      "fecha_diagnostico\n",
      "False    2275720\n",
      "True      445643\n",
      "Name: fecha_diagnostico, dtype: int64\n"
     ]
    }
   ],
   "source": [
    "print('fecha_inicio_sintomas')\n",
    "print(dataset.fecha_inicio_sintomas.isnull().value_counts())\n",
    "print('*' * 50)\n",
    "print('fecha_apertura')\n",
    "print(dataset.fecha_apertura.isnull().value_counts())\n",
    "print('*' * 50)\n",
    "print('fecha_internacion')\n",
    "print(dataset.fecha_internacion.isnull().value_counts())\n",
    "print('*' * 50)\n",
    "print('fecha_cui_intensivo')\n",
    "print(dataset.fecha_cui_intensivo.isnull().value_counts())\n",
    "print('*' * 50)\n",
    "print('fecha_diagnostico')\n",
    "print(dataset.fecha_diagnostico.isnull().value_counts())"
   ]
  },
  {
   "cell_type": "markdown",
   "metadata": {},
   "source": [
    "#### Análisis fechas iguales"
   ]
  },
  {
   "cell_type": "markdown",
   "metadata": {},
   "source": [
    "#### fecha_inicio_sintomas"
   ]
  },
  {
   "cell_type": "code",
   "execution_count": 33,
   "metadata": {},
   "outputs": [
    {
     "name": "stdout",
     "output_type": "stream",
     "text": [
      "Cantidad iguales fecha_inicio_sintomas y fecha_apertura:  67274\n",
      "Cantidad iguales fecha_inicio_sintomas y fecha_internacion :  37453\n",
      "Cantidad iguales fecha_inicio_sintomas y fecha_cui_intensivo:  7274\n",
      "Cantidad iguales fecha_inicio_sintomas y fecha_diagnostico:  27122\n"
     ]
    }
   ],
   "source": [
    "cant_ap = dataset[dataset.fecha_inicio_sintomas == dataset.fecha_apertura].shape[0]\n",
    "print('Cantidad iguales fecha_inicio_sintomas y fecha_apertura: ', cant_ap)\n",
    "\n",
    "cant_int = dataset[dataset.fecha_inicio_sintomas == dataset.fecha_internacion].shape[0]\n",
    "print('Cantidad iguales fecha_inicio_sintomas y fecha_internacion : ', cant_int)\n",
    "\n",
    "cant_cui = dataset[dataset.fecha_inicio_sintomas == dataset.fecha_cui_intensivo].shape[0]\n",
    "print('Cantidad iguales fecha_inicio_sintomas y fecha_cui_intensivo: ', cant_cui)\n",
    "\n",
    "cant_di = dataset[dataset.fecha_inicio_sintomas == dataset.fecha_diagnostico].shape[0]\n",
    "print('Cantidad iguales fecha_inicio_sintomas y fecha_diagnostico: ', cant_di)"
   ]
  },
  {
   "cell_type": "markdown",
   "metadata": {},
   "source": [
    "#### fecha_apertura"
   ]
  },
  {
   "cell_type": "code",
   "execution_count": 34,
   "metadata": {},
   "outputs": [
    {
     "name": "stdout",
     "output_type": "stream",
     "text": [
      "Cantidad iguales fecha_apertura y fecha_internacion:  68925\n",
      "Cantidad iguales fecha_apertura y fecha_cui_intensivo:  7669\n",
      "Cantidad iguales fecha_apertura y fecha_diagnostico:  790134\n"
     ]
    }
   ],
   "source": [
    "cant_int_2 = dataset[dataset.fecha_apertura == dataset.fecha_internacion].shape[0]\n",
    "print('Cantidad iguales fecha_apertura y fecha_internacion: ', cant_int_2)\n",
    "\n",
    "cant_cui_2 = dataset[dataset.fecha_apertura == dataset.fecha_cui_intensivo ].shape[0]\n",
    "print('Cantidad iguales fecha_apertura y fecha_cui_intensivo: ', cant_cui_2)\n",
    "\n",
    "cant_di_2 = dataset[dataset.fecha_apertura == dataset.fecha_diagnostico].shape[0]\n",
    "print('Cantidad iguales fecha_apertura y fecha_diagnostico: ', cant_di_2)"
   ]
  },
  {
   "cell_type": "markdown",
   "metadata": {},
   "source": [
    "#### fecha_internacion"
   ]
  },
  {
   "cell_type": "code",
   "execution_count": 35,
   "metadata": {},
   "outputs": [
    {
     "name": "stdout",
     "output_type": "stream",
     "text": [
      "Cantidad iguales fecha_internacion y fecha_cui_intensivo:  22736\n",
      "Cantidad iguales fecha_internacion y fecha_diagnostico:  28852\n"
     ]
    }
   ],
   "source": [
    "cant_cui_3 = dataset[dataset.fecha_internacion == dataset.fecha_cui_intensivo ].shape[0]\n",
    "print('Cantidad iguales fecha_internacion y fecha_cui_intensivo: ', cant_cui_3)\n",
    "\n",
    "cant_di_3 = dataset[dataset.fecha_internacion == dataset.fecha_diagnostico].shape[0]\n",
    "print('Cantidad iguales fecha_internacion y fecha_diagnostico: ', cant_di_3)"
   ]
  },
  {
   "cell_type": "markdown",
   "metadata": {},
   "source": [
    "#### fecha_cui_intensivo"
   ]
  },
  {
   "cell_type": "code",
   "execution_count": 36,
   "metadata": {},
   "outputs": [
    {
     "name": "stdout",
     "output_type": "stream",
     "text": [
      "Cantidad iguales fecha_cui_intensivo y fecha_diagnostico:  3262\n"
     ]
    }
   ],
   "source": [
    "cant_di_4 = dataset[dataset.fecha_cui_intensivo == dataset.fecha_diagnostico].shape[0]\n",
    "print('Cantidad iguales fecha_cui_intensivo y fecha_diagnostico: ', cant_di_4)"
   ]
  },
  {
   "cell_type": "markdown",
   "metadata": {},
   "source": [
    "### Creación de columnas"
   ]
  },
  {
   "cell_type": "markdown",
   "metadata": {},
   "source": [
    "#### fecha_inicio_sintomas"
   ]
  },
  {
   "cell_type": "code",
   "execution_count": 37,
   "metadata": {},
   "outputs": [
    {
     "data": {
      "text/plain": [
       "False    1444157\n",
       "True     1277206\n",
       "Name: fecha_ap_dif_fecha_in, dtype: int64"
      ]
     },
     "execution_count": 37,
     "metadata": {},
     "output_type": "execute_result"
    },
    {
     "data": {
      "image/png": "[encoded data removed]",
      "text/plain": [
       "<Figure size 288x288 with 1 Axes>"
      ]
     },
     "metadata": {},
     "output_type": "display_data"
    }
   ],
   "source": [
    "#Crear columna: fecha_apertura - fecha_inicio_sintomas \n",
    "dataset['fecha_ap_dif_fecha_in'] = dataset.fecha_apertura - dataset.fecha_inicio_sintomas \n",
    "dataset['fecha_ap_dif_fecha_in'].isnull().value_counts().plot.pie(autopct='%1.0f%%', figsize=(4, 4))\n",
    "dataset['fecha_ap_dif_fecha_in'].isnull().value_counts()"
   ]
  },
  {
   "cell_type": "code",
   "execution_count": 38,
   "metadata": {},
   "outputs": [
    {
     "data": {
      "text/plain": [
       "True     2548239\n",
       "False     173124\n",
       "Name: fecha_int_dif_fecha_in, dtype: int64"
      ]
     },
     "execution_count": 38,
     "metadata": {},
     "output_type": "execute_result"
    },
    {
     "data": {
      "image/png": "[encoded data removed]",
      "text/plain": [
       "<Figure size 288x288 with 1 Axes>"
      ]
     },
     "metadata": {},
     "output_type": "display_data"
    }
   ],
   "source": [
    "#Crear columna: fecha_internacion - fecha_inicio_sintomas \n",
    "dataset['fecha_int_dif_fecha_in'] = dataset.fecha_internacion - dataset.fecha_inicio_sintomas \n",
    "dataset['fecha_int_dif_fecha_in'].isnull().value_counts().plot.pie(autopct='%1.0f%%', figsize=(4, 4))\n",
    "dataset['fecha_int_dif_fecha_in'].isnull().value_counts()"
   ]
  },
  {
   "cell_type": "code",
   "execution_count": 39,
   "metadata": {},
   "outputs": [
    {
     "data": {
      "text/plain": [
       "True     2694952\n",
       "False      26411\n",
       "Name: fecha_cui_dif_fecha_in, dtype: int64"
      ]
     },
     "execution_count": 39,
     "metadata": {},
     "output_type": "execute_result"
    },
    {
     "data": {
      "image/png": "[encoded data removed]",
      "text/plain": [
       "<Figure size 288x288 with 1 Axes>"
      ]
     },
     "metadata": {},
     "output_type": "display_data"
    }
   ],
   "source": [
    "#Crear columna: fecha_cui_intensivo - fecha_inicio_sintomas \n",
    "dataset['fecha_cui_dif_fecha_in'] = dataset.fecha_cui_intensivo - dataset.fecha_inicio_sintomas \n",
    "dataset['fecha_cui_dif_fecha_in'].isnull().value_counts().plot.pie(autopct='%1.0f%%', figsize=(4, 4))\n",
    "dataset['fecha_cui_dif_fecha_in'].isnull().value_counts()"
   ]
  },
  {
   "cell_type": "code",
   "execution_count": 40,
   "metadata": {},
   "outputs": [
    {
     "data": {
      "text/plain": [
       "True     1496615\n",
       "False    1224748\n",
       "Name: fecha_di_dif_fecha_in, dtype: int64"
      ]
     },
     "execution_count": 40,
     "metadata": {},
     "output_type": "execute_result"
    },
    {
     "data": {
      "image/png": "[encoded data removed]",
      "text/plain": [
       "<Figure size 288x288 with 1 Axes>"
      ]
     },
     "metadata": {},
     "output_type": "display_data"
    }
   ],
   "source": [
    "#Crear columna: fecha_diagnostico - fecha_inicio_sintomas \n",
    "dataset['fecha_di_dif_fecha_in'] = dataset.fecha_diagnostico  - dataset.fecha_inicio_sintomas \n",
    "dataset['fecha_di_dif_fecha_in'].isnull().value_counts().plot.pie(autopct='%1.0f%%', figsize=(4, 4))\n",
    "dataset['fecha_di_dif_fecha_in'].isnull().value_counts()"
   ]
  },
  {
   "cell_type": "markdown",
   "metadata": {},
   "source": [
    "#### fecha_apertura "
   ]
  },
  {
   "cell_type": "code",
   "execution_count": 41,
   "metadata": {},
   "outputs": [
    {
     "data": {
      "text/plain": [
       "True     2533218\n",
       "False     188145\n",
       "Name: fecha_int_dif_fecha_ap, dtype: int64"
      ]
     },
     "execution_count": 41,
     "metadata": {},
     "output_type": "execute_result"
    },
    {
     "data": {
      "image/png": "[encoded data removed]",
      "text/plain": [
       "<Figure size 288x288 with 1 Axes>"
      ]
     },
     "metadata": {},
     "output_type": "display_data"
    }
   ],
   "source": [
    "#Crear columna: fecha_internacion - fecha_apertura\n",
    "dataset['fecha_int_dif_fecha_ap'] = dataset.fecha_internacion - dataset.fecha_apertura \n",
    "dataset['fecha_int_dif_fecha_ap'].isnull().value_counts().plot.pie(autopct='%1.0f%%', figsize=(4, 4))\n",
    "dataset['fecha_int_dif_fecha_ap'].isnull().value_counts()"
   ]
  },
  {
   "cell_type": "code",
   "execution_count": 42,
   "metadata": {},
   "outputs": [
    {
     "data": {
      "text/plain": [
       "True     2693221\n",
       "False      28142\n",
       "Name: fecha_cui_dif_fecha_ap, dtype: int64"
      ]
     },
     "execution_count": 42,
     "metadata": {},
     "output_type": "execute_result"
    },
    {
     "data": {
      "image/png": "[encoded data removed]",
      "text/plain": [
       "<Figure size 288x288 with 1 Axes>"
      ]
     },
     "metadata": {},
     "output_type": "display_data"
    }
   ],
   "source": [
    "#Crear columna: fecha_cui_intensivo - fecha_apertura\n",
    "dataset['fecha_cui_dif_fecha_ap'] = dataset.fecha_cui_intensivo - dataset.fecha_apertura\n",
    "dataset['fecha_cui_dif_fecha_ap'].isnull().value_counts().plot.pie(autopct='%1.0f%%', figsize=(4, 4))\n",
    "dataset['fecha_cui_dif_fecha_ap'].isnull().value_counts()"
   ]
  },
  {
   "cell_type": "markdown",
   "metadata": {},
   "source": [
    "### Elegido: fecha_diagnostico - fecha_apertura"
   ]
  },
  {
   "cell_type": "code",
   "execution_count": 43,
   "metadata": {},
   "outputs": [
    {
     "data": {
      "text/plain": [
       "False    2275719\n",
       "True      445644\n",
       "Name: fecha_di_dif_fecha_ap, dtype: int64"
      ]
     },
     "execution_count": 43,
     "metadata": {},
     "output_type": "execute_result"
    },
    {
     "data": {
      "image/png": "[encoded data removed]",
      "text/plain": [
       "<Figure size 288x288 with 1 Axes>"
      ]
     },
     "metadata": {},
     "output_type": "display_data"
    }
   ],
   "source": [
    "#Crear columna: fecha_diagnostico - fecha_apertura\n",
    "dataset['fecha_di_dif_fecha_ap'] = dataset.fecha_diagnostico - dataset.fecha_apertura\n",
    "dataset['fecha_di_dif_fecha_ap'].isnull().value_counts().plot.pie(autopct='%1.0f%%', figsize=(4, 4))\n",
    "dataset['fecha_di_dif_fecha_ap'].isnull().value_counts()"
   ]
  },
  {
   "cell_type": "markdown",
   "metadata": {},
   "source": [
    "#### fecha_internacion"
   ]
  },
  {
   "cell_type": "code",
   "execution_count": 44,
   "metadata": {},
   "outputs": [
    {
     "data": {
      "text/plain": [
       "True     2693762\n",
       "False      27601\n",
       "Name: fecha_cui_dif_fecha_int, dtype: int64"
      ]
     },
     "execution_count": 44,
     "metadata": {},
     "output_type": "execute_result"
    },
    {
     "data": {
      "image/png": "[encoded data removed]",
      "text/plain": [
       "<Figure size 288x288 with 1 Axes>"
      ]
     },
     "metadata": {},
     "output_type": "display_data"
    }
   ],
   "source": [
    "#Crear columna: fecha_cui_intensivo - fecha_internacion\n",
    "dataset['fecha_cui_dif_fecha_int'] = dataset.fecha_cui_intensivo - dataset.fecha_internacion\n",
    "dataset['fecha_cui_dif_fecha_int'].isnull().value_counts().plot.pie(autopct='%1.0f%%', figsize=(4, 4))\n",
    "dataset['fecha_cui_dif_fecha_int'].isnull().value_counts()"
   ]
  },
  {
   "cell_type": "code",
   "execution_count": 45,
   "metadata": {},
   "outputs": [
    {
     "data": {
      "text/plain": [
       "True     2545130\n",
       "False     176233\n",
       "Name: fecha_di_dif_fecha_int, dtype: int64"
      ]
     },
     "execution_count": 45,
     "metadata": {},
     "output_type": "execute_result"
    },
    {
     "data": {
      "image/png": "[encoded data removed]",
      "text/plain": [
       "<Figure size 288x288 with 1 Axes>"
      ]
     },
     "metadata": {},
     "output_type": "display_data"
    }
   ],
   "source": [
    "#Crear columna: fecha_diagnostico  - fecha_internacion\n",
    "dataset['fecha_di_dif_fecha_int'] = dataset.fecha_diagnostico - dataset.fecha_internacion\n",
    "dataset['fecha_di_dif_fecha_int'].isnull().value_counts().plot.pie(autopct='%1.0f%%', figsize=(4, 4))\n",
    "dataset['fecha_di_dif_fecha_int'].isnull().value_counts()"
   ]
  },
  {
   "cell_type": "markdown",
   "metadata": {},
   "source": [
    "#### fecha_cui_intensivo"
   ]
  },
  {
   "cell_type": "code",
   "execution_count": 46,
   "metadata": {},
   "outputs": [
    {
     "data": {
      "text/plain": [
       "True     2694986\n",
       "False      26377\n",
       "Name: fecha_di_dif_fecha_cui, dtype: int64"
      ]
     },
     "execution_count": 46,
     "metadata": {},
     "output_type": "execute_result"
    },
    {
     "data": {
      "image/png": "[encoded data removed]",
      "text/plain": [
       "<Figure size 288x288 with 1 Axes>"
      ]
     },
     "metadata": {},
     "output_type": "display_data"
    }
   ],
   "source": [
    "#Crear columna: fecha_cui_intensivo - fecha_apertura\n",
    "dataset['fecha_di_dif_fecha_cui'] = dataset.fecha_diagnostico - dataset.fecha_cui_intensivo\n",
    "dataset['fecha_di_dif_fecha_cui'].isnull().value_counts().plot.pie(autopct='%1.0f%%', figsize=(4, 4))\n",
    "dataset['fecha_di_dif_fecha_cui'].isnull().value_counts()"
   ]
  },
  {
   "cell_type": "markdown",
   "metadata": {},
   "source": [
    "#### Eliminamos las fechas que no vamos a usar: dejamos sólo la columna fecha_di_dif_fecha_ap"
   ]
  },
  {
   "cell_type": "code",
   "execution_count": 47,
   "metadata": {},
   "outputs": [],
   "source": [
    "dataset.drop(['fecha_inicio_sintomas'], axis=1, inplace=True)\n",
    "dataset.drop(['fecha_apertura'], axis=1, inplace=True)\n",
    "dataset.drop(['fecha_internacion'], axis=1, inplace=True)\n",
    "dataset.drop(['fecha_cui_intensivo'], axis=1, inplace=True)\n",
    "dataset.drop(['fecha_diagnostico'], axis=1, inplace=True)\n",
    "dataset.drop(['fecha_ap_dif_fecha_in'], axis=1, inplace=True)\n",
    "dataset.drop(['fecha_int_dif_fecha_in'], axis=1, inplace=True)\n",
    "dataset.drop(['fecha_cui_dif_fecha_in'], axis=1, inplace=True)\n",
    "dataset.drop(['fecha_di_dif_fecha_in'], axis=1, inplace=True)\n",
    "dataset.drop(['fecha_int_dif_fecha_ap'], axis=1, inplace=True)\n",
    "dataset.drop(['fecha_cui_dif_fecha_ap'], axis=1, inplace=True)\n",
    "dataset.drop(['fecha_cui_dif_fecha_int'], axis=1, inplace=True)\n",
    "dataset.drop(['fecha_di_dif_fecha_int'], axis=1, inplace=True)\n",
    "dataset.drop(['fecha_di_dif_fecha_cui'], axis=1, inplace=True)\n",
    "\n",
    "dataset.drop(['ultima_actualizacion'], axis=1, inplace=True)"
   ]
  },
  {
   "cell_type": "code",
   "execution_count": 48,
   "metadata": {},
   "outputs": [],
   "source": [
    "### Eliminamos la fecha de fallecido ya que si la variable target es fallecido, estaríamos introduciendo información a posteriori en el modelo\n",
    "dataset.drop(['fecha_fallecimiento'], axis=1, inplace=True)"
   ]
  },
  {
   "cell_type": "code",
   "execution_count": 49,
   "metadata": {},
   "outputs": [],
   "source": [
    "# Eliminamos los registros que no tienen valor en la columna fecha_di_dif_fecha_ap\n",
    "dataset.drop(dataset[np.isnan(dataset.fecha_di_dif_fecha_ap)].index, inplace=True)"
   ]
  },
  {
   "cell_type": "code",
   "execution_count": 50,
   "metadata": {
    "scrolled": true
   },
   "outputs": [],
   "source": [
    "# Transformamos el valor de esta nueva característica en numérico\n",
    "dataset['fecha_di_dif_fecha_ap'] = dataset['fecha_di_dif_fecha_ap'].astype('timedelta64[D]')"
   ]
  },
  {
   "cell_type": "code",
   "execution_count": 51,
   "metadata": {},
   "outputs": [],
   "source": [
    "# Para mantener la consistencia, pasamos las diferencias negativas a 0\n",
    "dataset[dataset.fecha_di_dif_fecha_ap < 0] = 0"
   ]
  },
  {
   "cell_type": "markdown",
   "metadata": {},
   "source": [
    "### sepi_apertura"
   ]
  },
  {
   "cell_type": "code",
   "execution_count": 52,
   "metadata": {},
   "outputs": [
    {
     "data": {
      "text/plain": [
       "<matplotlib.axes._subplots.AxesSubplot at 0x1ff001a5be0>"
      ]
     },
     "execution_count": 52,
     "metadata": {},
     "output_type": "execute_result"
    },
    {
     "data": {
      "image/png": "[encoded data removed]",
      "text/plain": [
       "<Figure size 432x288 with 1 Axes>"
      ]
     },
     "metadata": {
      "needs_background": "light"
     },
     "output_type": "display_data"
    }
   ],
   "source": [
    "dataset.sepi_apertura.value_counts().plot.bar()"
   ]
  },
  {
   "cell_type": "code",
   "execution_count": 53,
   "metadata": {},
   "outputs": [
    {
     "data": {
      "text/plain": [
       "<matplotlib.axes._subplots.AxesSubplot at 0x1ff00084780>"
      ]
     },
     "execution_count": 53,
     "metadata": {},
     "output_type": "execute_result"
    },
    {
     "data": {
      "image/png": "[encoded data removed]",
      "text/plain": [
       "<Figure size 288x288 with 1 Axes>"
      ]
     },
     "metadata": {},
     "output_type": "display_data"
    }
   ],
   "source": [
    "dataset.sepi_apertura.isnull().value_counts().plot.pie(autopct='%1.0f%%', figsize=(4, 4))"
   ]
  },
  {
   "cell_type": "markdown",
   "metadata": {},
   "source": [
    "### cuidado_intensivo"
   ]
  },
  {
   "cell_type": "code",
   "execution_count": 54,
   "metadata": {},
   "outputs": [
    {
     "data": {
      "text/plain": [
       "array(['NO', 0, 'SI'], dtype=object)"
      ]
     },
     "execution_count": 54,
     "metadata": {},
     "output_type": "execute_result"
    }
   ],
   "source": [
    "dataset['cuidado_intensivo'].unique()"
   ]
  },
  {
   "cell_type": "code",
   "execution_count": 55,
   "metadata": {},
   "outputs": [],
   "source": [
    "# Binarización de la variable\n",
    "dataset['cuidado_intensivo'] = (dataset['cuidado_intensivo'] == \"SI\")\n",
    "dataset['cuidado_intensivo'] = dataset['cuidado_intensivo'].astype(int)"
   ]
  },
  {
   "cell_type": "code",
   "execution_count": 56,
   "metadata": {},
   "outputs": [
    {
     "data": {
      "text/plain": [
       "<matplotlib.axes._subplots.AxesSubplot at 0x1ff46157dd8>"
      ]
     },
     "execution_count": 56,
     "metadata": {},
     "output_type": "execute_result"
    },
    {
     "data": {
      "image/png": "[encoded data removed]",
      "text/plain": [
       "<Figure size 432x288 with 1 Axes>"
      ]
     },
     "metadata": {
      "needs_background": "light"
     },
     "output_type": "display_data"
    }
   ],
   "source": [
    "dataset.cuidado_intensivo.value_counts().plot.bar()"
   ]
  },
  {
   "cell_type": "code",
   "execution_count": 57,
   "metadata": {},
   "outputs": [
    {
     "data": {
      "text/plain": [
       "<matplotlib.axes._subplots.AxesSubplot at 0x1ff001925f8>"
      ]
     },
     "execution_count": 57,
     "metadata": {},
     "output_type": "execute_result"
    },
    {
     "data": {
      "image/png": "[encoded data removed]",
      "text/plain": [
       "<Figure size 288x288 with 1 Axes>"
      ]
     },
     "metadata": {},
     "output_type": "display_data"
    }
   ],
   "source": [
    "dataset.cuidado_intensivo.isnull().value_counts().plot.pie(autopct='%1.0f%%', figsize=(4, 4))"
   ]
  },
  {
   "cell_type": "code",
   "execution_count": 58,
   "metadata": {},
   "outputs": [
    {
     "data": {
      "text/plain": [
       "array([0, 1])"
      ]
     },
     "execution_count": 58,
     "metadata": {},
     "output_type": "execute_result"
    }
   ],
   "source": [
    "dataset.cuidado_intensivo.unique()"
   ]
  },
  {
   "cell_type": "markdown",
   "metadata": {},
   "source": [
    "### asistencia_respiratoria_mecanica "
   ]
  },
  {
   "cell_type": "code",
   "execution_count": 59,
   "metadata": {},
   "outputs": [
    {
     "data": {
      "text/plain": [
       "array(['NO', 0, 'SI'], dtype=object)"
      ]
     },
     "execution_count": 59,
     "metadata": {},
     "output_type": "execute_result"
    }
   ],
   "source": [
    "dataset['asistencia_respiratoria_mecanica'].unique()"
   ]
  },
  {
   "cell_type": "code",
   "execution_count": 60,
   "metadata": {},
   "outputs": [],
   "source": [
    "# Binarización de la variable\n",
    "dataset['asistencia_respiratoria_mecanica'] = (dataset['asistencia_respiratoria_mecanica'] == \"SI\")\n",
    "dataset['asistencia_respiratoria_mecanica'] = dataset['asistencia_respiratoria_mecanica'].astype(int)"
   ]
  },
  {
   "cell_type": "code",
   "execution_count": 61,
   "metadata": {},
   "outputs": [
    {
     "data": {
      "text/plain": [
       "<matplotlib.axes._subplots.AxesSubplot at 0x1ff002d3320>"
      ]
     },
     "execution_count": 61,
     "metadata": {},
     "output_type": "execute_result"
    },
    {
     "data": {
      "image/png": "[encoded data removed]",
      "text/plain": [
       "<Figure size 432x288 with 1 Axes>"
      ]
     },
     "metadata": {
      "needs_background": "light"
     },
     "output_type": "display_data"
    }
   ],
   "source": [
    "dataset.asistencia_respiratoria_mecanica.value_counts().plot.bar()"
   ]
  },
  {
   "cell_type": "code",
   "execution_count": 62,
   "metadata": {},
   "outputs": [
    {
     "data": {
      "text/plain": [
       "<matplotlib.axes._subplots.AxesSubplot at 0x1ff0031c780>"
      ]
     },
     "execution_count": 62,
     "metadata": {},
     "output_type": "execute_result"
    },
    {
     "data": {
      "image/png": "[encoded data removed]",
      "text/plain": [
       "<Figure size 288x288 with 1 Axes>"
      ]
     },
     "metadata": {},
     "output_type": "display_data"
    }
   ],
   "source": [
    "dataset.asistencia_respiratoria_mecanica.isnull().value_counts().plot.pie(autopct='%1.0f%%', figsize=(4, 4))"
   ]
  },
  {
   "cell_type": "code",
   "execution_count": 63,
   "metadata": {},
   "outputs": [
    {
     "data": {
      "text/plain": [
       "array([0, 1])"
      ]
     },
     "execution_count": 63,
     "metadata": {},
     "output_type": "execute_result"
    }
   ],
   "source": [
    "dataset.asistencia_respiratoria_mecanica.unique()"
   ]
  },
  {
   "cell_type": "markdown",
   "metadata": {},
   "source": [
    "### origen_financiamiento"
   ]
  },
  {
   "cell_type": "code",
   "execution_count": 64,
   "metadata": {},
   "outputs": [
    {
     "data": {
      "text/plain": [
       "array(['Privado', 'Público', 0], dtype=object)"
      ]
     },
     "execution_count": 64,
     "metadata": {},
     "output_type": "execute_result"
    }
   ],
   "source": [
    "dataset.origen_financiamiento.unique()"
   ]
  },
  {
   "cell_type": "code",
   "execution_count": 65,
   "metadata": {},
   "outputs": [],
   "source": [
    "dataset.drop(dataset[dataset.origen_financiamiento == \"*sin dato*\"].index, inplace=True)"
   ]
  },
  {
   "cell_type": "code",
   "execution_count": 66,
   "metadata": {},
   "outputs": [
    {
     "data": {
      "text/plain": [
       "array(['Privado', 'Público', 0], dtype=object)"
      ]
     },
     "execution_count": 66,
     "metadata": {},
     "output_type": "execute_result"
    }
   ],
   "source": [
    "dataset['origen_financiamiento'].unique()"
   ]
  },
  {
   "cell_type": "code",
   "execution_count": 67,
   "metadata": {},
   "outputs": [],
   "source": [
    "# Binarización de la variable\n",
    "dataset['origen_financiamiento'] = (dataset['origen_financiamiento'] == \"Público\")\n",
    "dataset['origen_financiamiento'] = dataset['origen_financiamiento'].astype(int)"
   ]
  },
  {
   "cell_type": "code",
   "execution_count": 68,
   "metadata": {},
   "outputs": [],
   "source": [
    "# cambio de nombre de la variable\n",
    "dataset = dataset.rename(columns={\"origen_financiamiento\": \"financiamiento_publico\"})"
   ]
  },
  {
   "cell_type": "code",
   "execution_count": 69,
   "metadata": {},
   "outputs": [
    {
     "data": {
      "text/plain": [
       "0    1167959\n",
       "1    1107760\n",
       "Name: financiamiento_publico, dtype: int64"
      ]
     },
     "execution_count": 69,
     "metadata": {},
     "output_type": "execute_result"
    },
    {
     "data": {
      "image/png": "[encoded data removed]",
      "text/plain": [
       "<Figure size 432x288 with 1 Axes>"
      ]
     },
     "metadata": {
      "needs_background": "light"
     },
     "output_type": "display_data"
    }
   ],
   "source": [
    "dataset.financiamiento_publico.value_counts().plot.bar()\n",
    "dataset.financiamiento_publico.value_counts()"
   ]
  },
  {
   "cell_type": "code",
   "execution_count": 70,
   "metadata": {},
   "outputs": [
    {
     "data": {
      "text/plain": [
       "<matplotlib.axes._subplots.AxesSubplot at 0x1ff0006ae48>"
      ]
     },
     "execution_count": 70,
     "metadata": {},
     "output_type": "execute_result"
    },
    {
     "data": {
      "image/png": "[encoded data removed]",
      "text/plain": [
       "<Figure size 288x288 with 1 Axes>"
      ]
     },
     "metadata": {},
     "output_type": "display_data"
    }
   ],
   "source": [
    "dataset.financiamiento_publico.isnull().value_counts().plot.pie(autopct='%1.0f%%', figsize=(4, 4))"
   ]
  },
  {
   "cell_type": "markdown",
   "metadata": {},
   "source": [
    "### Clasificación (podría usarse como target)"
   ]
  },
  {
   "cell_type": "code",
   "execution_count": 71,
   "metadata": {},
   "outputs": [
    {
     "data": {
      "text/plain": [
       "Caso Descartado                                                                               1028622\n",
       "Caso confirmado por laboratorio - No activo (por tiempo de evolución)                          604346\n",
       "0                                                                                              489722\n",
       "Caso confirmado por laboratorio - Activo Internado                                              67123\n",
       "Caso confirmado por laboratorio - No Activo por criterio de laboratorio                         32805\n",
       "Caso confirmado por laboratorio - Activo                                                        26248\n",
       "Caso confirmado por laboratorio - Fallecido                                                     24151\n",
       "Caso confirmado por criterio clínico-epidemiológico  - No activo (por tiempo de evolución)       2165\n",
       "Caso confirmado por criterio clínico - epidemiológico -  Activo internado                         299\n",
       "Caso confirmado por criterio clinico-epidemiológico - Activo                                      120\n",
       "Caso confirmado por criterio clínico-epidemiologico - Fallecido                                   118\n",
       "Name: clasificacion, dtype: int64"
      ]
     },
     "execution_count": 71,
     "metadata": {},
     "output_type": "execute_result"
    },
    {
     "data": {
      "image/png": "[encoded data removed]",
      "text/plain": [
       "<Figure size 432x288 with 1 Axes>"
      ]
     },
     "metadata": {
      "needs_background": "light"
     },
     "output_type": "display_data"
    }
   ],
   "source": [
    "dataset.clasificacion.value_counts().plot.bar()\n",
    "dataset.clasificacion.value_counts()"
   ]
  },
  {
   "cell_type": "code",
   "execution_count": 72,
   "metadata": {},
   "outputs": [
    {
     "data": {
      "text/plain": [
       "Descartado    1028622\n",
       "Confirmado     757375\n",
       "0              489722\n",
       "Name: clasificacion_resumen, dtype: int64"
      ]
     },
     "execution_count": 72,
     "metadata": {},
     "output_type": "execute_result"
    },
    {
     "data": {
      "image/png": "[encoded data removed]",
      "text/plain": [
       "<Figure size 432x288 with 1 Axes>"
      ]
     },
     "metadata": {
      "needs_background": "light"
     },
     "output_type": "display_data"
    }
   ],
   "source": [
    "dataset.clasificacion_resumen.value_counts().plot.bar()\n",
    "dataset.clasificacion_resumen.value_counts()"
   ]
  },
  {
   "cell_type": "code",
   "execution_count": 73,
   "metadata": {},
   "outputs": [],
   "source": [
    "### Eliminamos los registros que tengan un valor diferente a Descartado o Confirmado (por si aparecen nuevos valores en el futuro)\n",
    "\n",
    "dataset.drop(dataset[(dataset.clasificacion_resumen != \"Descartado\") & (dataset.clasificacion_resumen != \"Confirmado\")].index, inplace=True)"
   ]
  },
  {
   "cell_type": "code",
   "execution_count": 74,
   "metadata": {},
   "outputs": [
    {
     "data": {
      "text/plain": [
       "array(['Descartado', 'Confirmado'], dtype=object)"
      ]
     },
     "execution_count": 74,
     "metadata": {},
     "output_type": "execute_result"
    }
   ],
   "source": [
    "dataset.clasificacion_resumen.unique()"
   ]
  },
  {
   "cell_type": "code",
   "execution_count": 75,
   "metadata": {},
   "outputs": [],
   "source": [
    "# Binarización de la variable\n",
    "dataset['clasificacion_resumen'] = (dataset['clasificacion_resumen'] == \"Confirmado\")\n",
    "dataset['clasificacion_resumen'] = dataset['clasificacion_resumen'].astype(int)"
   ]
  },
  {
   "cell_type": "code",
   "execution_count": 76,
   "metadata": {},
   "outputs": [],
   "source": [
    "# cambio de nombre de la variable\n",
    "dataset = dataset.rename(columns={\"clasificacion_resumen\": \"covid_19_confirmado\"})"
   ]
  },
  {
   "cell_type": "code",
   "execution_count": 77,
   "metadata": {},
   "outputs": [
    {
     "data": {
      "text/plain": [
       "0    1028622\n",
       "1     757375\n",
       "Name: covid_19_confirmado, dtype: int64"
      ]
     },
     "execution_count": 77,
     "metadata": {},
     "output_type": "execute_result"
    },
    {
     "data": {
      "image/png": "[encoded data removed]",
      "text/plain": [
       "<Figure size 432x288 with 1 Axes>"
      ]
     },
     "metadata": {
      "needs_background": "light"
     },
     "output_type": "display_data"
    }
   ],
   "source": [
    "dataset.covid_19_confirmado.value_counts().plot.bar()\n",
    "dataset.covid_19_confirmado.value_counts()"
   ]
  },
  {
   "cell_type": "code",
   "execution_count": 78,
   "metadata": {},
   "outputs": [
    {
     "data": {
      "text/plain": [
       "<matplotlib.axes._subplots.AxesSubplot at 0x1ff003ca438>"
      ]
     },
     "execution_count": 78,
     "metadata": {},
     "output_type": "execute_result"
    },
    {
     "data": {
      "image/png": "[encoded data removed]",
      "text/plain": [
       "<Figure size 288x288 with 1 Axes>"
      ]
     },
     "metadata": {},
     "output_type": "display_data"
    }
   ],
   "source": [
    "dataset.covid_19_confirmado.isnull().value_counts().plot.pie(autopct='%1.0f%%', figsize=(4, 4))"
   ]
  },
  {
   "cell_type": "code",
   "execution_count": 79,
   "metadata": {},
   "outputs": [],
   "source": [
    "# Eliminamos la columna clasificacion\n",
    "dataset.drop(['clasificacion'], axis=1, inplace=True)"
   ]
  },
  {
   "cell_type": "markdown",
   "metadata": {},
   "source": [
    "### Fallecido (podría usarse como target)"
   ]
  },
  {
   "cell_type": "code",
   "execution_count": 80,
   "metadata": {},
   "outputs": [
    {
     "data": {
      "text/plain": [
       "array(['NO', 'SI'], dtype=object)"
      ]
     },
     "execution_count": 80,
     "metadata": {},
     "output_type": "execute_result"
    }
   ],
   "source": [
    "dataset['fallecido'].unique()"
   ]
  },
  {
   "cell_type": "code",
   "execution_count": 81,
   "metadata": {},
   "outputs": [],
   "source": [
    "# Binarización de la variable\n",
    "dataset['fallecido'] = (dataset['fallecido'] == \"SI\")\n",
    "dataset['fallecido'] = dataset['fallecido'].astype(int)"
   ]
  },
  {
   "cell_type": "code",
   "execution_count": 82,
   "metadata": {},
   "outputs": [
    {
     "name": "stdout",
     "output_type": "stream",
     "text": [
      "0    1762914\n",
      "1      23083\n",
      "Name: cuidado_intensivo, dtype: int64\n"
     ]
    },
    {
     "data": {
      "text/plain": [
       "<matplotlib.axes._subplots.AxesSubplot at 0x1ff00129b70>"
      ]
     },
     "execution_count": 82,
     "metadata": {},
     "output_type": "execute_result"
    },
    {
     "data": {
      "image/png": "[encoded data removed]",
      "text/plain": [
       "<Figure size 432x288 with 1 Axes>"
      ]
     },
     "metadata": {
      "needs_background": "light"
     },
     "output_type": "display_data"
    }
   ],
   "source": [
    "print(dataset.cuidado_intensivo.value_counts())\n",
    "dataset.cuidado_intensivo.value_counts().plot.bar()"
   ]
  },
  {
   "cell_type": "code",
   "execution_count": 83,
   "metadata": {},
   "outputs": [
    {
     "data": {
      "text/plain": [
       "<matplotlib.axes._subplots.AxesSubplot at 0x1ff0001fac8>"
      ]
     },
     "execution_count": 83,
     "metadata": {},
     "output_type": "execute_result"
    },
    {
     "data": {
      "image/png": "[encoded data removed]",
      "text/plain": [
       "<Figure size 288x288 with 1 Axes>"
      ]
     },
     "metadata": {},
     "output_type": "display_data"
    }
   ],
   "source": [
    "dataset.fallecido.isnull().value_counts().plot.pie(autopct='%1.0f%%', figsize=(4, 4))"
   ]
  },
  {
   "cell_type": "markdown",
   "metadata": {},
   "source": [
    "### Eliminamos las columnas que no utilizamos"
   ]
  },
  {
   "cell_type": "code",
   "execution_count": 84,
   "metadata": {},
   "outputs": [],
   "source": [
    "dataset.drop(['id_evento_caso'], axis=1, inplace=True)"
   ]
  },
  {
   "cell_type": "markdown",
   "metadata": {},
   "source": [
    "## Dataset Limpio y Preprocesado"
   ]
  },
  {
   "cell_type": "code",
   "execution_count": 85,
   "metadata": {},
   "outputs": [],
   "source": [
    "dataset = dataset.convert_dtypes()"
   ]
  },
  {
   "cell_type": "code",
   "execution_count": 86,
   "metadata": {},
   "outputs": [
    {
     "name": "stdout",
     "output_type": "stream",
     "text": [
      "<class 'pandas.core.frame.DataFrame'>\n",
      "Int64Index: 1785997 entries, 0 to 2843277\n",
      "Data columns (total 36 columns):\n",
      " #   Column                                    Dtype\n",
      "---  ------                                    -----\n",
      " 0   edad                                      Int64\n",
      " 1   sepi_apertura                             Int64\n",
      " 2   cuidado_intensivo                         Int32\n",
      " 3   fallecido                                 Int32\n",
      " 4   asistencia_respiratoria_mecanica          Int32\n",
      " 5   financiamiento_publico                    Int32\n",
      " 6   covid_19_confirmado                       Int32\n",
      " 7   sexo_f                                    UInt8\n",
      " 8   sexo_m                                    UInt8\n",
      " 9   sexo_nr                                   UInt8\n",
      " 10  pcia_rec_eq_pcia_car                      Int32\n",
      " 11  residencia_provincia_buenos_aires         UInt8\n",
      " 12  residencia_provincia_caba                 UInt8\n",
      " 13  residencia_provincia_catamarca            UInt8\n",
      " 14  residencia_provincia_chaco                UInt8\n",
      " 15  residencia_provincia_chubut               UInt8\n",
      " 16  residencia_provincia_Corrientes           UInt8\n",
      " 17  residencia_provincia_cordoba              UInt8\n",
      " 18  residencia_provincia_entre_rios           UInt8\n",
      " 19  residencia_provincia_formosa              UInt8\n",
      " 20  residencia_provincia_jujuy                UInt8\n",
      " 21  residencia_provincia_la_pampa             UInt8\n",
      " 22  residencia_provincia_la_rioja             UInt8\n",
      " 23  residencia_provincia_mendoza              UInt8\n",
      " 24  residencia_provincia_misiones             UInt8\n",
      " 25  residencia_provincia_neuquen              UInt8\n",
      " 26  residencia_provincia_rio_negro            UInt8\n",
      " 27  residencia_provincia_salta                UInt8\n",
      " 28  residencia_provincia_san_juan             UInt8\n",
      " 29  residencia_provincia_san_luis             UInt8\n",
      " 30  residencia_provincia_santa_cruz           UInt8\n",
      " 31  residencia_provincia_santa_fe             UInt8\n",
      " 32  residencia_provincia_santiago_del_estero  UInt8\n",
      " 33  residencia_provincia_tierra_del_fuego     UInt8\n",
      " 34  residencia_provincia_tucuman              UInt8\n",
      " 35  fecha_di_dif_fecha_ap                     Int64\n",
      "dtypes: Int32(6), Int64(3), UInt8(27)\n",
      "memory usage: 202.7 MB\n"
     ]
    }
   ],
   "source": [
    "dataset.info()"
   ]
  },
  {
   "cell_type": "code",
   "execution_count": 87,
   "metadata": {},
   "outputs": [
    {
     "data": {
      "text/html": [
       "<div>\n",
       "<style scoped>\n",
       "    .dataframe tbody tr th:only-of-type {\n",
       "        vertical-align: middle;\n",
       "    }\n",
       "\n",
       "    .dataframe tbody tr th {\n",
       "        vertical-align: top;\n",
       "    }\n",
       "\n",
       "    .dataframe thead th {\n",
       "        text-align: right;\n",
       "    }\n",
       "</style>\n",
       "<table border=\"1\" class=\"dataframe\">\n",
       "  <thead>\n",
       "    <tr style=\"text-align: right;\">\n",
       "      <th></th>\n",
       "      <th>edad</th>\n",
       "      <th>sepi_apertura</th>\n",
       "      <th>cuidado_intensivo</th>\n",
       "      <th>fallecido</th>\n",
       "      <th>asistencia_respiratoria_mecanica</th>\n",
       "      <th>financiamiento_publico</th>\n",
       "      <th>covid_19_confirmado</th>\n",
       "      <th>sexo_f</th>\n",
       "      <th>sexo_m</th>\n",
       "      <th>sexo_nr</th>\n",
       "      <th>...</th>\n",
       "      <th>residencia_provincia_rio_negro</th>\n",
       "      <th>residencia_provincia_salta</th>\n",
       "      <th>residencia_provincia_san_juan</th>\n",
       "      <th>residencia_provincia_san_luis</th>\n",
       "      <th>residencia_provincia_santa_cruz</th>\n",
       "      <th>residencia_provincia_santa_fe</th>\n",
       "      <th>residencia_provincia_santiago_del_estero</th>\n",
       "      <th>residencia_provincia_tierra_del_fuego</th>\n",
       "      <th>residencia_provincia_tucuman</th>\n",
       "      <th>fecha_di_dif_fecha_ap</th>\n",
       "    </tr>\n",
       "  </thead>\n",
       "  <tbody>\n",
       "    <tr>\n",
       "      <th>0</th>\n",
       "      <td>53</td>\n",
       "      <td>23</td>\n",
       "      <td>0</td>\n",
       "      <td>0</td>\n",
       "      <td>0</td>\n",
       "      <td>0</td>\n",
       "      <td>0</td>\n",
       "      <td>0</td>\n",
       "      <td>1</td>\n",
       "      <td>0</td>\n",
       "      <td>...</td>\n",
       "      <td>0</td>\n",
       "      <td>0</td>\n",
       "      <td>0</td>\n",
       "      <td>0</td>\n",
       "      <td>0</td>\n",
       "      <td>0</td>\n",
       "      <td>0</td>\n",
       "      <td>0</td>\n",
       "      <td>0</td>\n",
       "      <td>8</td>\n",
       "    </tr>\n",
       "    <tr>\n",
       "      <th>1</th>\n",
       "      <td>21</td>\n",
       "      <td>23</td>\n",
       "      <td>0</td>\n",
       "      <td>0</td>\n",
       "      <td>0</td>\n",
       "      <td>1</td>\n",
       "      <td>0</td>\n",
       "      <td>0</td>\n",
       "      <td>1</td>\n",
       "      <td>0</td>\n",
       "      <td>...</td>\n",
       "      <td>0</td>\n",
       "      <td>0</td>\n",
       "      <td>0</td>\n",
       "      <td>0</td>\n",
       "      <td>0</td>\n",
       "      <td>0</td>\n",
       "      <td>0</td>\n",
       "      <td>0</td>\n",
       "      <td>0</td>\n",
       "      <td>0</td>\n",
       "    </tr>\n",
       "    <tr>\n",
       "      <th>2</th>\n",
       "      <td>40</td>\n",
       "      <td>23</td>\n",
       "      <td>0</td>\n",
       "      <td>0</td>\n",
       "      <td>0</td>\n",
       "      <td>0</td>\n",
       "      <td>0</td>\n",
       "      <td>1</td>\n",
       "      <td>0</td>\n",
       "      <td>0</td>\n",
       "      <td>...</td>\n",
       "      <td>0</td>\n",
       "      <td>0</td>\n",
       "      <td>0</td>\n",
       "      <td>0</td>\n",
       "      <td>0</td>\n",
       "      <td>0</td>\n",
       "      <td>0</td>\n",
       "      <td>0</td>\n",
       "      <td>0</td>\n",
       "      <td>0</td>\n",
       "    </tr>\n",
       "    <tr>\n",
       "      <th>3</th>\n",
       "      <td>58</td>\n",
       "      <td>23</td>\n",
       "      <td>0</td>\n",
       "      <td>0</td>\n",
       "      <td>0</td>\n",
       "      <td>1</td>\n",
       "      <td>0</td>\n",
       "      <td>1</td>\n",
       "      <td>0</td>\n",
       "      <td>0</td>\n",
       "      <td>...</td>\n",
       "      <td>0</td>\n",
       "      <td>0</td>\n",
       "      <td>0</td>\n",
       "      <td>0</td>\n",
       "      <td>0</td>\n",
       "      <td>0</td>\n",
       "      <td>0</td>\n",
       "      <td>0</td>\n",
       "      <td>0</td>\n",
       "      <td>0</td>\n",
       "    </tr>\n",
       "    <tr>\n",
       "      <th>5</th>\n",
       "      <td>26</td>\n",
       "      <td>23</td>\n",
       "      <td>0</td>\n",
       "      <td>0</td>\n",
       "      <td>0</td>\n",
       "      <td>1</td>\n",
       "      <td>1</td>\n",
       "      <td>0</td>\n",
       "      <td>1</td>\n",
       "      <td>0</td>\n",
       "      <td>...</td>\n",
       "      <td>0</td>\n",
       "      <td>0</td>\n",
       "      <td>0</td>\n",
       "      <td>0</td>\n",
       "      <td>0</td>\n",
       "      <td>0</td>\n",
       "      <td>0</td>\n",
       "      <td>0</td>\n",
       "      <td>0</td>\n",
       "      <td>24</td>\n",
       "    </tr>\n",
       "    <tr>\n",
       "      <th>...</th>\n",
       "      <td>...</td>\n",
       "      <td>...</td>\n",
       "      <td>...</td>\n",
       "      <td>...</td>\n",
       "      <td>...</td>\n",
       "      <td>...</td>\n",
       "      <td>...</td>\n",
       "      <td>...</td>\n",
       "      <td>...</td>\n",
       "      <td>...</td>\n",
       "      <td>...</td>\n",
       "      <td>...</td>\n",
       "      <td>...</td>\n",
       "      <td>...</td>\n",
       "      <td>...</td>\n",
       "      <td>...</td>\n",
       "      <td>...</td>\n",
       "      <td>...</td>\n",
       "      <td>...</td>\n",
       "      <td>...</td>\n",
       "      <td>...</td>\n",
       "    </tr>\n",
       "    <tr>\n",
       "      <th>2843273</th>\n",
       "      <td>39</td>\n",
       "      <td>23</td>\n",
       "      <td>0</td>\n",
       "      <td>0</td>\n",
       "      <td>0</td>\n",
       "      <td>1</td>\n",
       "      <td>0</td>\n",
       "      <td>0</td>\n",
       "      <td>1</td>\n",
       "      <td>0</td>\n",
       "      <td>...</td>\n",
       "      <td>0</td>\n",
       "      <td>0</td>\n",
       "      <td>0</td>\n",
       "      <td>0</td>\n",
       "      <td>0</td>\n",
       "      <td>0</td>\n",
       "      <td>0</td>\n",
       "      <td>1</td>\n",
       "      <td>0</td>\n",
       "      <td>0</td>\n",
       "    </tr>\n",
       "    <tr>\n",
       "      <th>2843274</th>\n",
       "      <td>34</td>\n",
       "      <td>23</td>\n",
       "      <td>0</td>\n",
       "      <td>0</td>\n",
       "      <td>0</td>\n",
       "      <td>1</td>\n",
       "      <td>1</td>\n",
       "      <td>0</td>\n",
       "      <td>1</td>\n",
       "      <td>0</td>\n",
       "      <td>...</td>\n",
       "      <td>0</td>\n",
       "      <td>0</td>\n",
       "      <td>0</td>\n",
       "      <td>0</td>\n",
       "      <td>0</td>\n",
       "      <td>0</td>\n",
       "      <td>0</td>\n",
       "      <td>0</td>\n",
       "      <td>0</td>\n",
       "      <td>11</td>\n",
       "    </tr>\n",
       "    <tr>\n",
       "      <th>2843275</th>\n",
       "      <td>42</td>\n",
       "      <td>23</td>\n",
       "      <td>0</td>\n",
       "      <td>0</td>\n",
       "      <td>0</td>\n",
       "      <td>0</td>\n",
       "      <td>0</td>\n",
       "      <td>0</td>\n",
       "      <td>1</td>\n",
       "      <td>0</td>\n",
       "      <td>...</td>\n",
       "      <td>0</td>\n",
       "      <td>0</td>\n",
       "      <td>0</td>\n",
       "      <td>0</td>\n",
       "      <td>0</td>\n",
       "      <td>0</td>\n",
       "      <td>0</td>\n",
       "      <td>0</td>\n",
       "      <td>0</td>\n",
       "      <td>0</td>\n",
       "    </tr>\n",
       "    <tr>\n",
       "      <th>2843276</th>\n",
       "      <td>30</td>\n",
       "      <td>23</td>\n",
       "      <td>0</td>\n",
       "      <td>0</td>\n",
       "      <td>0</td>\n",
       "      <td>1</td>\n",
       "      <td>0</td>\n",
       "      <td>1</td>\n",
       "      <td>0</td>\n",
       "      <td>0</td>\n",
       "      <td>...</td>\n",
       "      <td>0</td>\n",
       "      <td>0</td>\n",
       "      <td>0</td>\n",
       "      <td>0</td>\n",
       "      <td>0</td>\n",
       "      <td>0</td>\n",
       "      <td>0</td>\n",
       "      <td>0</td>\n",
       "      <td>0</td>\n",
       "      <td>1</td>\n",
       "    </tr>\n",
       "    <tr>\n",
       "      <th>2843277</th>\n",
       "      <td>57</td>\n",
       "      <td>23</td>\n",
       "      <td>0</td>\n",
       "      <td>0</td>\n",
       "      <td>0</td>\n",
       "      <td>1</td>\n",
       "      <td>0</td>\n",
       "      <td>1</td>\n",
       "      <td>0</td>\n",
       "      <td>0</td>\n",
       "      <td>...</td>\n",
       "      <td>0</td>\n",
       "      <td>0</td>\n",
       "      <td>0</td>\n",
       "      <td>0</td>\n",
       "      <td>0</td>\n",
       "      <td>0</td>\n",
       "      <td>0</td>\n",
       "      <td>0</td>\n",
       "      <td>0</td>\n",
       "      <td>1</td>\n",
       "    </tr>\n",
       "  </tbody>\n",
       "</table>\n",
       "<p>1785997 rows × 36 columns</p>\n",
       "</div>"
      ],
      "text/plain": [
       "         edad  sepi_apertura  cuidado_intensivo  fallecido  \\\n",
       "0          53             23                  0          0   \n",
       "1          21             23                  0          0   \n",
       "2          40             23                  0          0   \n",
       "3          58             23                  0          0   \n",
       "5          26             23                  0          0   \n",
       "...       ...            ...                ...        ...   \n",
       "2843273    39             23                  0          0   \n",
       "2843274    34             23                  0          0   \n",
       "2843275    42             23                  0          0   \n",
       "2843276    30             23                  0          0   \n",
       "2843277    57             23                  0          0   \n",
       "\n",
       "         asistencia_respiratoria_mecanica  financiamiento_publico  \\\n",
       "0                                       0                       0   \n",
       "1                                       0                       1   \n",
       "2                                       0                       0   \n",
       "3                                       0                       1   \n",
       "5                                       0                       1   \n",
       "...                                   ...                     ...   \n",
       "2843273                                 0                       1   \n",
       "2843274                                 0                       1   \n",
       "2843275                                 0                       0   \n",
       "2843276                                 0                       1   \n",
       "2843277                                 0                       1   \n",
       "\n",
       "         covid_19_confirmado  sexo_f  sexo_m  sexo_nr  ...  \\\n",
       "0                          0       0       1        0  ...   \n",
       "1                          0       0       1        0  ...   \n",
       "2                          0       1       0        0  ...   \n",
       "3                          0       1       0        0  ...   \n",
       "5                          1       0       1        0  ...   \n",
       "...                      ...     ...     ...      ...  ...   \n",
       "2843273                    0       0       1        0  ...   \n",
       "2843274                    1       0       1        0  ...   \n",
       "2843275                    0       0       1        0  ...   \n",
       "2843276                    0       1       0        0  ...   \n",
       "2843277                    0       1       0        0  ...   \n",
       "\n",
       "         residencia_provincia_rio_negro  residencia_provincia_salta  \\\n",
       "0                                     0                           0   \n",
       "1                                     0                           0   \n",
       "2                                     0                           0   \n",
       "3                                     0                           0   \n",
       "5                                     0                           0   \n",
       "...                                 ...                         ...   \n",
       "2843273                               0                           0   \n",
       "2843274                               0                           0   \n",
       "2843275                               0                           0   \n",
       "2843276                               0                           0   \n",
       "2843277                               0                           0   \n",
       "\n",
       "         residencia_provincia_san_juan  residencia_provincia_san_luis  \\\n",
       "0                                    0                              0   \n",
       "1                                    0                              0   \n",
       "2                                    0                              0   \n",
       "3                                    0                              0   \n",
       "5                                    0                              0   \n",
       "...                                ...                            ...   \n",
       "2843273                              0                              0   \n",
       "2843274                              0                              0   \n",
       "2843275                              0                              0   \n",
       "2843276                              0                              0   \n",
       "2843277                              0                              0   \n",
       "\n",
       "         residencia_provincia_santa_cruz  residencia_provincia_santa_fe  \\\n",
       "0                                      0                              0   \n",
       "1                                      0                              0   \n",
       "2                                      0                              0   \n",
       "3                                      0                              0   \n",
       "5                                      0                              0   \n",
       "...                                  ...                            ...   \n",
       "2843273                                0                              0   \n",
       "2843274                                0                              0   \n",
       "2843275                                0                              0   \n",
       "2843276                                0                              0   \n",
       "2843277                                0                              0   \n",
       "\n",
       "         residencia_provincia_santiago_del_estero  \\\n",
       "0                                               0   \n",
       "1                                               0   \n",
       "2                                               0   \n",
       "3                                               0   \n",
       "5                                               0   \n",
       "...                                           ...   \n",
       "2843273                                         0   \n",
       "2843274                                         0   \n",
       "2843275                                         0   \n",
       "2843276                                         0   \n",
       "2843277                                         0   \n",
       "\n",
       "         residencia_provincia_tierra_del_fuego  residencia_provincia_tucuman  \\\n",
       "0                                            0                             0   \n",
       "1                                            0                             0   \n",
       "2                                            0                             0   \n",
       "3                                            0                             0   \n",
       "5                                            0                             0   \n",
       "...                                        ...                           ...   \n",
       "2843273                                      1                             0   \n",
       "2843274                                      0                             0   \n",
       "2843275                                      0                             0   \n",
       "2843276                                      0                             0   \n",
       "2843277                                      0                             0   \n",
       "\n",
       "         fecha_di_dif_fecha_ap  \n",
       "0                            8  \n",
       "1                            0  \n",
       "2                            0  \n",
       "3                            0  \n",
       "5                           24  \n",
       "...                        ...  \n",
       "2843273                      0  \n",
       "2843274                     11  \n",
       "2843275                      0  \n",
       "2843276                      1  \n",
       "2843277                      1  \n",
       "\n",
       "[1785997 rows x 36 columns]"
      ]
     },
     "execution_count": 87,
     "metadata": {},
     "output_type": "execute_result"
    }
   ],
   "source": [
    "dataset"
   ]
  },
  {
   "cell_type": "markdown",
   "metadata": {},
   "source": [
    "#### Eliminamos los registros que podrían haber quedado con valores nulos"
   ]
  },
  {
   "cell_type": "code",
   "execution_count": 88,
   "metadata": {},
   "outputs": [],
   "source": [
    "dataset = dataset.dropna()"
   ]
  },
  {
   "cell_type": "markdown",
   "metadata": {},
   "source": [
    "### Guardamos el dataset limpio y preprocesado"
   ]
  },
  {
   "cell_type": "code",
   "execution_count": 89,
   "metadata": {},
   "outputs": [],
   "source": [
    "PATH = \"./data/\"\n",
    "FILE_NAME = 'covid19_limpio.csv'\n",
    "FULL_NAME = PATH + FILE_NAME"
   ]
  },
  {
   "cell_type": "code",
   "execution_count": 90,
   "metadata": {},
   "outputs": [],
   "source": [
    "dataset.to_csv(FULL_NAME, index=False)"
   ]
  }
 ],
 "metadata": {
  "colab": {
   "authorship_tag": "ABX9TyPpxRemszKsECHKyQq3O5cb",
   "name": "Introduccion_al_Machine_Learning.ipynb",
   "provenance": []
  },
  "kernelspec": {
   "display_name": "Python 3",
   "language": "python",
   "name": "python3"
  },
  "language_info": {
   "codemirror_mode": {
    "name": "ipython",
    "version": 3
   },
   "file_extension": ".py",
   "mimetype": "text/x-python",
   "name": "python",
   "nbconvert_exporter": "python",
   "pygments_lexer": "ipython3",
   "version": "3.6.10"
  }
 },
 "nbformat": 4,
 "nbformat_minor": 1
}
